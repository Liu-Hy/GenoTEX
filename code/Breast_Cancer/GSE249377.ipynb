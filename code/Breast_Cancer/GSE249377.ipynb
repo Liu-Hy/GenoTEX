{
 "cells": [
  {
   "cell_type": "code",
   "execution_count": 1,
   "id": "52919ff8",
   "metadata": {
    "execution": {
     "iopub.execute_input": "2024-06-12T06:55:56.423354Z",
     "iopub.status.busy": "2024-06-12T06:55:56.423253Z",
     "iopub.status.idle": "2024-06-12T06:55:56.427157Z",
     "shell.execute_reply": "2024-06-12T06:55:56.426883Z"
    }
   },
   "outputs": [],
   "source": [
    "\n",
    "import sys\n",
    "sys.path.append('/home/techt/Desktop/a4s')\n"
   ]
  },
  {
   "cell_type": "markdown",
   "id": "b58adafb",
   "metadata": {},
   "source": [
    "### Step 1: Initial Data Loading"
   ]
  },
  {
   "cell_type": "code",
   "execution_count": 2,
   "id": "ead8a9a2",
   "metadata": {
    "execution": {
     "iopub.execute_input": "2024-06-12T06:55:56.429307Z",
     "iopub.status.busy": "2024-06-12T06:55:56.429184Z",
     "iopub.status.idle": "2024-06-12T06:55:56.881239Z",
     "shell.execute_reply": "2024-06-12T06:55:56.880838Z"
    }
   },
   "outputs": [
    {
     "name": "stdout",
     "output_type": "stream",
     "text": [
      "Background Information:\n",
      "!Series_title\t\"Exploring the Effects of Experimental Parameters and Data Modeling Approaches on In Vitro Transcriptomic Point-of-Departure Estimates\"\n",
      "!Series_summary\t\"Multiple new approach methods (NAMs) are being developed to rapidly screen large numbers of chemicals to aid in hazard evaluation and risk assessments. High-throughput transcriptomics (HTTr) in human cell lines has been proposed as a first-tier screening approach for determining the types of bioactivity a chemical can cause (activation of specific targets vs. generalized cell stress) and for calculating transcriptional points of departure (tPODs) based on changes in gene expression. In the present study, we examine a range of computational methods to calculate tPODs from HTTr data, using six data sets in which MCF7 cells cultured in two different media formulations were treated with a panel of 44 chemicals for 3 different exposure durations (6, 12, 24 hr).\"\n",
      "!Series_overall_design\t\"Multiple computational approaches for determining tPODs are compared using six HTTr datasets, all generated from a single cell type (MCF7, a breast cancer cell line), but using three different exposure durations and with two different media formulations. Each dataset included 44 chemicals in an eight-point concentration-response.  We previously published a subset of these data (GSE162855) corresponding to one exposure time (6 hrs) and media formulation (DMEM + 10% HI-FBS). In the current study we incorporate additional data for all 5 additional combinations of exposure times (6, 12, and 24 hrs) and media formulations (DMEM + either 10% HI-FBS or 10% charcoal-stripped FBS), and compare results across a broader set of computational approaches for determining an overall transcriptomic point of departure (tPOD) for each chemical.\"\n",
      "Sample Characteristics Dictionary:\n",
      "{0: ['cell line: NA', 'cell line: MCF7'], 1: ['media: NA', 'media: DMEM + 10% HI-FBS', 'media: DMEM + 10% charcoal-stripped FBS'], 2: ['treatment: untreated', 'treatment: 12h exposure of 0.03 uM of Fulvestrant', 'treatment: 12h exposure of 0.3 uM of Atrazine', 'treatment: 12h exposure of 0.3 uM of Butafenacil', 'treatment: 12h exposure of 0.1 uM of Propiconazole', 'treatment: 12h exposure of 1 uM of Tetrac', 'treatment: 12h exposure of 0.3 uM of Cladribine', 'treatment: 12h exposure of 30 uM of Lovastatin', 'treatment: 12h exposure of 0.3 uM of 4-Hydroxytamoxifen', 'treatment: 12h exposure of 3 uM of Butafenacil', 'treatment: 12h exposure of 3 uM of Cypermethrin', 'treatment: 12h exposure of 100 uM of Bifenthrin', 'treatment: 12h exposure of 1 uM of Fulvestrant', 'treatment: 12h exposure of 0.3 uM of Prochloraz', 'treatment: 12h exposure of 1 uM of Reserpine', 'treatment: 12h exposure of 100 uM of Butafenacil', 'treatment: 12h exposure of 10 uM of Amiodarone hydrochloride', 'treatment: 12h exposure of 100 uM of Fomesafen', 'treatment: 12h exposure of 1 uM of Lactofen', 'treatment: 12h exposure of 3 uM of Cladribine', 'treatment: 12h exposure of 0.1 uM of Maneb', 'treatment: 12h exposure of 0.1 uM of Cycloheximide', 'treatment: 12h exposure of 100 uM of Bisphenol B', 'treatment: 12h exposure of 0.3 uM of Clofibrate', 'treatment: 12h exposure of 0.03 uM of Thiram', 'treatment: 12h exposure of 0.3 uM of PFOA', 'treatment: 12h exposure of 100 uM of Simazine', 'treatment: 12h exposure of 0.03 uM of Prochloraz', 'treatment: 12h exposure of 100 uM of Amiodarone hydrochloride', 'treatment: 12h exposure of 0.1 uM of Cyproterone acetate'], 3: ['chemical name: NA', 'chemical name: Fulvestrant', 'chemical name: Atrazine', 'chemical name: Butafenacil', 'chemical name: Propiconazole', 'chemical name: Tetrac', 'chemical name: Cladribine', 'chemical name: Lovastatin', 'chemical name: 4-Hydroxytamoxifen', 'chemical name: Cypermethrin', 'chemical name: Bifenthrin', 'chemical name: Prochloraz', 'chemical name: Reserpine', 'chemical name: Amiodarone hydrochloride', 'chemical name: Fomesafen', 'chemical name: Lactofen', 'chemical name: Maneb', 'chemical name: Cycloheximide', 'chemical name: Bisphenol B', 'chemical name: Clofibrate', 'chemical name: Thiram', 'chemical name: PFOA', 'chemical name: Simazine', 'chemical name: Cyproterone acetate', 'chemical name: Cyproconazole', 'chemical name: Vinclozolin', 'chemical name: 4-Nonylphenol, branched', 'chemical name: Fenofibrate', 'chemical name: Troglitazone', 'chemical name: Farglitazar'], 4: ['chemical sample id: NA', 'chemical sample id: TP0001651F04', 'chemical sample id: TP0001651E05', 'chemical sample id: TP0001651A03', 'chemical sample id: TP0001651B04', 'chemical sample id: TP0001651F01', 'chemical sample id: TP0001651G04', 'chemical sample id: TP0001651G02', 'chemical sample id: TP0001651C02', 'chemical sample id: TP0001651D03', 'chemical sample id: TP0001651E01', 'chemical sample id: TP0001651E03', 'chemical sample id: TP0001651B03', 'chemical sample id: TP0001651B05', 'chemical sample id: TP0001651H03', 'chemical sample id: TP0001651D01', 'chemical sample id: TP0001651H02', 'chemical sample id: TP0001651C06', 'chemical sample id: TP0001651C05', 'chemical sample id: TP0001651D04', 'chemical sample id: TP0001651D05', 'chemical sample id: TP0001651D02', 'chemical sample id: TP0001651C03', 'chemical sample id: TP0001651G05', 'chemical sample id: TP0001651A06', 'chemical sample id: TP0001651G01', 'chemical sample id: TP0001651E02', 'chemical sample id: TP0001651F05', 'chemical sample id: TP0001651B06', 'chemical sample id: TP0001651E04'], 5: ['chemical concentration: NA', 'chemical concentration: 0.03 uM', 'chemical concentration: 0.3 uM', 'chemical concentration: 0.1 uM', 'chemical concentration: 1 uM', 'chemical concentration: 30 uM', 'chemical concentration: 3 uM', 'chemical concentration: 100 uM', 'chemical concentration: 10 uM', 'chemical concentration: 0 uM'], 6: ['dose level: NA', 'dose level: 1', 'dose level: 3', 'dose level: 2', 'dose level: 4', 'dose level: 7', 'dose level: 5', 'dose level: 8', 'dose level: 6', 'dose level: 0'], 7: ['exposure time: NA', 'exposure time: 12h', 'exposure time: 24h', 'exposure time: 6h'], 8: ['assay plate: TC00283154', 'assay plate: TC00283157', 'assay plate: TC00283174', 'assay plate: TC00283179', 'assay plate: TC00283182', 'assay plate: TC00283185', 'assay plate: TC00283191', 'assay plate: TC00283197', 'assay plate: TC00283200', 'assay plate: TC00283203', 'assay plate: TC00283212', 'assay plate: TC00283215', 'assay plate: TC00283221', 'assay plate: TC00283224', 'assay plate: TC00283227'], 9: ['assay plate well: A01', 'assay plate well: A02', 'assay plate well: A03', 'assay plate well: A04', 'assay plate well: A05', 'assay plate well: A06', 'assay plate well: A07', 'assay plate well: A08', 'assay plate well: A09', 'assay plate well: A10', 'assay plate well: A11', 'assay plate well: A12', 'assay plate well: A13', 'assay plate well: A14', 'assay plate well: A15', 'assay plate well: A16', 'assay plate well: A17', 'assay plate well: A18', 'assay plate well: A19', 'assay plate well: A20', 'assay plate well: A21', 'assay plate well: A22', 'assay plate well: A23', 'assay plate well: A24', 'assay plate well: B01', 'assay plate well: B02', 'assay plate well: B03', 'assay plate well: B04', 'assay plate well: B05', 'assay plate well: B06']}\n"
     ]
    }
   ],
   "source": [
    "from utils.preprocess import *\n",
    "# 1. Identify the paths to the soft file and the matrix file\n",
    "cohort_dir = '/media/techt/DATA/GEO/Breast_Cancer/GSE249377'\n",
    "soft_file, matrix_file = geo_get_relevant_filepaths(cohort_dir)\n",
    "\n",
    "# 2. Read the matrix file to obtain background information and sample characteristics data\n",
    "background_prefixes = ['!Series_title', '!Series_summary', '!Series_overall_design']\n",
    "clinical_prefixes = ['!Sample_geo_accession', '!Sample_characteristics_ch1']\n",
    "background_info, clinical_data = get_background_and_clinical_data(matrix_file, background_prefixes, clinical_prefixes)\n",
    "\n",
    "# 3. Obtain the sample characteristics dictionary from the clinical dataframe\n",
    "sample_characteristics_dict = get_unique_values_by_row(clinical_data)\n",
    "\n",
    "# 4. Explicitly print out all the background information and the sample characteristics dictionary\n",
    "print(\"Background Information:\")\n",
    "print(background_info)\n",
    "print(\"Sample Characteristics Dictionary:\")\n",
    "print(sample_characteristics_dict)\n"
   ]
  },
  {
   "cell_type": "markdown",
   "id": "d58a4799",
   "metadata": {},
   "source": [
    "### Step 2: Dataset Analysis and Clinical Feature Extraction"
   ]
  },
  {
   "cell_type": "code",
   "execution_count": 3,
   "id": "2e8eaf91",
   "metadata": {
    "execution": {
     "iopub.execute_input": "2024-06-12T06:55:56.883424Z",
     "iopub.status.busy": "2024-06-12T06:55:56.883313Z",
     "iopub.status.idle": "2024-06-12T06:55:56.887065Z",
     "shell.execute_reply": "2024-06-12T06:55:56.886775Z"
    }
   },
   "outputs": [],
   "source": [
    "is_gene_available = True\n",
    "trait_row = age_row = gender_row = None  # set to different values when applicable\n",
    "convert_trait = convert_age = convert_gender = None  # define the functions when applicable\n",
    "\n",
    "def convert_trait(value):\n",
    "    try:\n",
    "        return value.split(\":\")[1].strip() == \"MCF7\"  # Returns True if MCF7, False otherwise\n",
    "    except:\n",
    "        return None\n",
    "\n",
    "def convert_age(value):\n",
    "    try:\n",
    "        return float(value.split(\":\")[1].strip())\n",
    "    except:\n",
    "        return None\n",
    "\n",
    "def convert_gender(value):\n",
    "    try:\n",
    "        gender_str = value.split(\":\")[1].strip().lower()\n",
    "        if gender_str == 'female':\n",
    "            return 0\n",
    "        elif gender_str == 'male':\n",
    "            return 1\n",
    "    except:\n",
    "        return None\n",
    "\n",
    "save_cohort_info('GSE249377', './preprocessed/Breast_Cancer/cohort_info.json', is_gene_available, trait_row is not None)\n"
   ]
  }
 ],
 "metadata": {
  "language_info": {
   "codemirror_mode": {
    "name": "ipython",
    "version": 3
   },
   "file_extension": ".py",
   "mimetype": "text/x-python",
   "name": "python",
   "nbconvert_exporter": "python",
   "pygments_lexer": "ipython3",
   "version": "3.8.17"
  }
 },
 "nbformat": 4,
 "nbformat_minor": 5
}
