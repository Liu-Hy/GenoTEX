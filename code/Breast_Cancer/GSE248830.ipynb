{
 "cells": [
  {
   "cell_type": "code",
   "execution_count": 1,
   "id": "53a14b24",
   "metadata": {
    "execution": {
     "iopub.execute_input": "2024-06-12T06:55:53.135337Z",
     "iopub.status.busy": "2024-06-12T06:55:53.135181Z",
     "iopub.status.idle": "2024-06-12T06:55:53.140732Z",
     "shell.execute_reply": "2024-06-12T06:55:53.140343Z"
    }
   },
   "outputs": [],
   "source": [
    "\n",
    "import sys\n",
    "sys.path.append('/home/techt/Desktop/a4s')\n"
   ]
  },
  {
   "cell_type": "markdown",
   "id": "8ddb47f2",
   "metadata": {},
   "source": [
    "### Step 1: Initial Data Loading"
   ]
  },
  {
   "cell_type": "code",
   "execution_count": 2,
   "id": "11219fce",
   "metadata": {
    "execution": {
     "iopub.execute_input": "2024-06-12T06:55:53.143133Z",
     "iopub.status.busy": "2024-06-12T06:55:53.142853Z",
     "iopub.status.idle": "2024-06-12T06:55:53.367345Z",
     "shell.execute_reply": "2024-06-12T06:55:53.366966Z"
    }
   },
   "outputs": [
    {
     "name": "stdout",
     "output_type": "stream",
     "text": [
      "Background Information:\n",
      "!Series_title\t\"Unlocking Molecular mechanisms and identifying druggable targets in matched-paired brain metastasis of Breast and Lung cancers \"\n",
      "!Series_summary\t\"Introduction: The incidence of brain metastases in cancer patients is increasing, with lung and breast cancer being the most common sources. Despite advancements in targeted therapies, the prognosis remains poor, highlighting the importance to investigate the underlying mechanisms in brain metastases. The aim of this study was to investigate the differences in the molecular mechanisms involved in brain metastasis of breast and lung cancers. In addition, we aimed to identify cancer lineage-specific druggable targets in the brain metastasis. Methods: To that aim, a cohort of 44 FFPE tissue samples, including 22 breast cancer and 22 lung adenocarcinoma (LUAD) and their matched-paired brain metastases were collected. Targeted gene expression profiles of primary tumors were compared to their matched-paired brain metastases samples using nCounter PanCancer IO 360™ Panel of NanoString technologies. Pathway analysis was performed using gene set analysis (GSA) and gene set enrichment analysis (GSEA). The validation was performed by using Immunohistochemistry (IHC) to confirm the expression of immune checkpoint inhibitors. Results: Our results revealed the significant upregulation of cancer-related genes in primary tumors compared to their matched-paired brain metastases (adj. p ≤ 0.05). We found that upregulated differentially expressed genes in breast cancer brain metastasis (BM-BC) and brain metastasis from lung adenocarcinoma (BM-LUAD) were associated with the metabolic stress pathway, particularly related to the glycolysis. Additionally, we found that the upregulated genes in BM-BC and BM-LUAD played roles in immune response regulation, tumor growth, and proliferation. Importantly, we identified high expression of the immune checkpoint VTCN1 in BM-BC, and VISTA, IDO1, NT5E, and HDAC3 in BM-LUAD. Validation using immunohistochemistry further supported these findings. Conclusion: In conclusion, the findings highlight the significance of using matched-paired samples to identify cancer lineage-specific therapies that may improve brain metastasis patients outcomes.\"\n",
      "!Series_overall_design\t\"RNA was extracted from FFPE samples of (primary LUAD and their matched paired brain metastasis n=22, primary BC and their matched paired brain metastasis n=22)\"\n",
      "Sample Characteristics Dictionary:\n",
      "{0: ['age at diagnosis: 49', 'age at diagnosis: 44', 'age at diagnosis: 41', 'age at diagnosis: 40', 'age at diagnosis: 48', 'age at diagnosis: 42', 'age at diagnosis: 47', 'age at diagnosis: 53', 'age at diagnosis: 74', 'age at diagnosis: 58', 'age at diagnosis: 51', 'age at diagnosis: 55', 'age at diagnosis: 46', 'age at diagnosis: 59', 'age at diagnosis: 50', 'age at diagnosis: 57', 'age at diagnosis: 60', 'age at diagnosis: 69', 'age at diagnosis: n.a.', 'age at diagnosis: 65', 'age at diagnosis: 37', 'age at diagnosis: 63', 'age at diagnosis: 70', 'age at diagnosis: 66', 'age at diagnosis: 64'], 1: ['Sex: female', 'Sex: male'], 2: ['histology: TNBC', 'histology: ER+ PR+ HER2-', 'histology: Unknown', 'histology: ER- PR- HER2+', 'histology: ER+ PR-HER2+', 'histology: ER+ PR- HER2-', 'histology: ER- PR+ HER2-', 'histology: adenocaricnoma'], 3: ['smoking status: n.a', 'smoking status: former-smoker', 'smoking status: smoker', 'smoking status: Never smoking', 'smoking status: unknown', 'smoking status: former-roker'], 4: ['treatment after surgery of bm: surgery + chemotherpy', 'treatment after surgery of bm: surgery +  chemotherpy + Radiotherapy', 'treatment after surgery of bm: surgery + chemotherapy + Radiotherapy', 'treatment after surgery of bm: surgery', 'treatment after surgery of bm: surgery +  chemotherapy + Radiotherapy', 'treatment after surgery of bm: surgery + chemotherapy', 'treatment after surgery of bm: surgery + chemotherpy + Radiotherapy', 'treatment after surgery of bm: surgery + chemotheapy + Radiotherapy', 'treatment after surgery of bm: Chemoterapy', 'treatment after surgery of bm: Radiotherapy & Chemoterapy', 'treatment after surgery of bm: Radiotherapy', 'treatment after surgery of bm: Other', 'treatment after surgery of bm: Surgery & Chemotherapy & Radiotherapy', 'treatment after surgery of bm: surgery & Radiotherapy', 'treatment after surgery of bm: surgery & Radiochemotherapy', 'treatment after surgery of bm: No treatment', 'treatment after surgery of bm: WBRT', 'treatment after surgery of bm: SRT']}\n"
     ]
    }
   ],
   "source": [
    "from utils.preprocess import *\n",
    "# 1. Identify the paths to the soft file and the matrix file\n",
    "cohort_dir = '/media/techt/DATA/GEO/Breast_Cancer/GSE248830'\n",
    "soft_file, matrix_file = geo_get_relevant_filepaths(cohort_dir)\n",
    "\n",
    "# 2. Read the matrix file to obtain background information and sample characteristics data\n",
    "background_prefixes = ['!Series_title', '!Series_summary', '!Series_overall_design']\n",
    "clinical_prefixes = ['!Sample_geo_accession', '!Sample_characteristics_ch1']\n",
    "background_info, clinical_data = get_background_and_clinical_data(matrix_file, background_prefixes, clinical_prefixes)\n",
    "\n",
    "# 3. Obtain the sample characteristics dictionary from the clinical dataframe\n",
    "sample_characteristics_dict = get_unique_values_by_row(clinical_data)\n",
    "\n",
    "# 4. Explicitly print out all the background information and the sample characteristics dictionary\n",
    "print(\"Background Information:\")\n",
    "print(background_info)\n",
    "print(\"Sample Characteristics Dictionary:\")\n",
    "print(sample_characteristics_dict)\n"
   ]
  },
  {
   "cell_type": "markdown",
   "id": "812a87c6",
   "metadata": {},
   "source": [
    "### Step 2: Dataset Analysis and Clinical Feature Extraction"
   ]
  },
  {
   "cell_type": "code",
   "execution_count": 3,
   "id": "88d96097",
   "metadata": {
    "execution": {
     "iopub.execute_input": "2024-06-12T06:55:53.369745Z",
     "iopub.status.busy": "2024-06-12T06:55:53.369627Z",
     "iopub.status.idle": "2024-06-12T06:55:53.387846Z",
     "shell.execute_reply": "2024-06-12T06:55:53.387537Z"
    }
   },
   "outputs": [
    {
     "name": "stdout",
     "output_type": "stream",
     "text": [
      "{'GSM7920782': [1.0, 49.0, 0.0], 'GSM7920783': [1.0, 44.0, 0.0], 'GSM7920784': [nan, 41.0, 0.0], 'GSM7920785': [1.0, 40.0, 0.0], 'GSM7920786': [1.0, 48.0, 0.0], 'GSM7920787': [nan, 42.0, 0.0], 'GSM7920788': [1.0, 47.0, 0.0], 'GSM7920789': [1.0, 53.0, 0.0], 'GSM7920790': [1.0, 41.0, 0.0], 'GSM7920791': [1.0, 74.0, 0.0], 'GSM7920792': [1.0, 58.0, 0.0], 'GSM7920793': [1.0, 51.0, 0.0], 'GSM7920794': [1.0, 55.0, 0.0], 'GSM7920795': [nan, 46.0, 0.0], 'GSM7920796': [1.0, 46.0, 0.0], 'GSM7920797': [1.0, 48.0, 0.0], 'GSM7920798': [1.0, 44.0, 0.0], 'GSM7920799': [1.0, 49.0, 0.0], 'GSM7920800': [1.0, 59.0, 0.0], 'GSM7920801': [1.0, 50.0, 0.0], 'GSM7920802': [1.0, 74.0, 0.0], 'GSM7920803': [1.0, 46.0, 0.0], 'GSM7920804': [nan, 40.0, 0.0], 'GSM7920805': [nan, 57.0, 1.0], 'GSM7920806': [nan, 60.0, 1.0], 'GSM7920807': [nan, 55.0, 0.0], 'GSM7920808': [nan, 69.0, 0.0], 'GSM7920809': [None, None, 0], 'GSM7920810': [None, None, 1], 'GSM7920811': [nan, 57.0, 1.0], 'GSM7920812': [None, None, 0], 'GSM7920813': [nan, 65.0, 1.0], 'GSM7920814': [nan, 37.0, 1.0], 'GSM7920815': [nan, 46.0, 0.0], 'GSM7920816': [nan, 63.0, 1.0], 'GSM7920817': [nan, 60.0, 1.0], 'GSM7920818': [nan, 58.0, 0.0], 'GSM7920819': [nan, 70.0, 0.0], 'GSM7920820': [nan, 66.0, 0.0], 'GSM7920821': [nan, 64.0, 1.0], 'GSM7920822': [nan, 60.0, 1.0], 'GSM7920823': [nan, 50.0, 0.0], 'GSM7920824': [nan, 66.0, 1.0], 'GSM7920825': [nan, 74.0, 1.0]}\n"
     ]
    }
   ],
   "source": [
    "is_gene_available = False\n",
    "trait_row = age_row = gender_row = None  # set to different values when applicable\n",
    "convert_trait = convert_age = convert_gender = None  # define the functions when applicable\n",
    "\n",
    "sample_characteristics = {\n",
    "    0: ['age at diagnosis: 49', 'age at diagnosis: 44', 'age at diagnosis: 41', 'age at diagnosis: 40', 'age at diagnosis: 48', 'age at diagnosis: 42', 'age at diagnosis: 47', 'age at diagnosis: 53', 'age at diagnosis: 74', 'age at diagnosis: 58', 'age at diagnosis: 51', 'age at diagnosis: 55', 'age at diagnosis: 46', 'age at diagnosis: 59', 'age at diagnosis: 50', 'age at diagnosis: 57', 'age at diagnosis: 60', 'age at diagnosis: 69', 'age at diagnosis: n.a.', 'age at diagnosis: 65', 'age at diagnosis: 37', 'age at diagnosis: 63', 'age at diagnosis: 70', 'age at diagnosis: 66', 'age at diagnosis: 64'], \n",
    "    1: ['Sex: female', 'Sex: male'], \n",
    "    2: ['histology: TNBC', 'histology: ER+ PR+ HER2-', 'histology: Unknown', 'histology: ER- PR- HER2+', 'histology: ER+ PR-HER2+', 'histology: ER+ PR- HER2-', 'histology: ER- PR+ HER2-', 'histology: adenocarcinoma'], \n",
    "    3: ['smoking status: n.a', 'smoking status: former-smoker', 'smoking status: smoker', 'smoking status: Never smoking', 'smoking status: unknown', 'smoking status: former-roker'], \n",
    "    4: ['treatment after surgery of bm: surgery + chemotherpy', 'treatment after surgery of bm: surgery +  chemotherpy + Radiotherapy', 'treatment after surgery of bm: surgery + chemotherapy + Radiotherapy', 'treatment after surgery of bm: surgery', 'treatment after surgery of bm: surgery +  chemotherapy + Radiotherapy', 'treatment after surgery of bm: surgery + chemotherapy', 'treatment after surgery of bm: surgery + chemotherpy + Radiotherapy', 'treatment after surgery of bm: surgery + chemotheapy + Radiotherapy', 'treatment after surgery of bm: Chemoterapy', 'treatment after surgery of bm: Radiotherapy & Chemoterapy', 'treatment after surgery of bm: Radiotherapy', 'treatment after surgery of bm: Other', 'treatment after surgery of bm: Surgery & Chemotherapy & Radiotherapy', 'treatment after surgery of bm: surgery & Radiotherapy', 'treatment after surgery of bm: surgery & Radiochemotherapy', 'treatment after surgery of bm: No treatment', 'treatment after surgery of bm: WBRT', 'treatment after surgery of bm: SRT']\n",
    "}\n",
    "\n",
    "# Check if the dataset contains gene expression data\n",
    "is_gene_available = True  # Based on the series summary and design, gene expression data seems to be present\n",
    "\n",
    "# Determine the availability and keys for 'Breast_Cancer', 'age', and 'gender'\n",
    "age_row = 0 if len(set([item.split(\": \")[1] for item in sample_characteristics[0]])) > 1 else None\n",
    "gender_row = 1 if len(set([item.split(\": \")[1] for item in sample_characteristics[1]])) > 1 else None\n",
    "trait_row = 2  # Explicitly mentioned histology with different cancer types, assuming breast cancer is included in histology\n",
    "\n",
    "# Define conversion functions\n",
    "def convert_trait(value):\n",
    "    value = value.split(\": \")[1]\n",
    "    mapping = {\n",
    "        'TNBC': 1,\n",
    "        'ER+ PR+ HER2-': 1,\n",
    "        'ER- PR- HER2+': 1,\n",
    "        'ER+ PR-HER2+': 1,\n",
    "        'ER+ PR- HER2-': 1,\n",
    "        'ER- PR+ HER2-': 1,\n",
    "        'adenocarcinoma': 0,\n",
    "        'Unknown': None\n",
    "    }\n",
    "    return mapping.get(value, None)\n",
    "\n",
    "def convert_age(value):\n",
    "    value = value.split(\": \")[1]\n",
    "    try:\n",
    "        return float(value) if value != 'n.a.' else None\n",
    "    except ValueError:\n",
    "        return None\n",
    "\n",
    "def convert_gender(value):\n",
    "    value = value.split(\": \")[1]\n",
    "    mapping = {\n",
    "        'female': 0,\n",
    "        'male': 1,\n",
    "    }\n",
    "    return mapping.get(value, None)\n",
    "\n",
    "# Save metadata\n",
    "save_cohort_info('GSE248830', './preprocessed/Breast_Cancer/cohort_info.json', is_gene_available, trait_row is not None)\n",
    "\n",
    "# Clinical feature extraction\n",
    "if trait_row is not None:\n",
    "    selected_clinical_data = geo_select_clinical_features(clinical_data, 'Breast_Cancer', trait_row, convert_trait, age_row, convert_age, gender_row, convert_gender)\n",
    "    csv_path = './preprocessed/Breast_Cancer/trait_data/GSE248830.csv'\n",
    "    selected_clinical_data.to_csv(csv_path)\n",
    "    print(preview_df(selected_clinical_data))\n"
   ]
  },
  {
   "cell_type": "markdown",
   "id": "47a58b14",
   "metadata": {},
   "source": [
    "### Step 3: Gene Data Extraction"
   ]
  },
  {
   "cell_type": "code",
   "execution_count": 4,
   "id": "531af249",
   "metadata": {
    "execution": {
     "iopub.execute_input": "2024-06-12T06:55:53.389453Z",
     "iopub.status.busy": "2024-06-12T06:55:53.389347Z",
     "iopub.status.idle": "2024-06-12T06:55:53.402570Z",
     "shell.execute_reply": "2024-06-12T06:55:53.402272Z"
    }
   },
   "outputs": [
    {
     "name": "stdout",
     "output_type": "stream",
     "text": [
      "Index(['A2M', 'ACVR1C', 'ADAM12', 'ADGRE1', 'ADM', 'ADORA2A', 'AKT1', 'ALDOA',\n",
      "       'ALDOC', 'ANGPT1', 'ANGPT2', 'ANGPTL4', 'ANLN', 'APC', 'APH1B', 'API5',\n",
      "       'APLNR', 'APOE', 'APOL6', 'AQP9'],\n",
      "      dtype='object', name='ID')\n"
     ]
    }
   ],
   "source": [
    "# 1. Use the get_genetic_data function from the library to get the gene_data from the matrix_file previously defined.\n",
    "gene_data = get_genetic_data(matrix_file)\n",
    "\n",
    "# 2. Print the first 20 row ids for the following step.\n",
    "print(gene_data.index[:20])\n"
   ]
  },
  {
   "cell_type": "markdown",
   "id": "4d6c3efd",
   "metadata": {},
   "source": [
    "### Step 4: Gene Identifier Review"
   ]
  },
  {
   "cell_type": "code",
   "execution_count": 5,
   "id": "27a6e5e8",
   "metadata": {
    "execution": {
     "iopub.execute_input": "2024-06-12T06:55:53.404100Z",
     "iopub.status.busy": "2024-06-12T06:55:53.403993Z",
     "iopub.status.idle": "2024-06-12T06:55:53.405903Z",
     "shell.execute_reply": "2024-06-12T06:55:53.405555Z"
    }
   },
   "outputs": [],
   "source": [
    "requires_gene_mapping = False\n"
   ]
  },
  {
   "cell_type": "markdown",
   "id": "10c756db",
   "metadata": {},
   "source": [
    "### Step 5: Gene Annotation (Conditional)"
   ]
  },
  {
   "cell_type": "code",
   "execution_count": 6,
   "id": "561f4bf4",
   "metadata": {
    "execution": {
     "iopub.execute_input": "2024-06-12T06:55:53.407392Z",
     "iopub.status.busy": "2024-06-12T06:55:53.407290Z",
     "iopub.status.idle": "2024-06-12T06:55:53.448076Z",
     "shell.execute_reply": "2024-06-12T06:55:53.447720Z"
    }
   },
   "outputs": [
    {
     "name": "stdout",
     "output_type": "stream",
     "text": [
      "Gene annotation preview:\n",
      "{'ID': ['A2M', 'ACVR1C', 'ADAM12', 'ADGRE1', 'ADM'], 'NS Probe ID': ['NM_000014.4:1685', 'NM_145259.2:5168', 'NM_003474.5:638', 'NM_001256252.1:1130', 'NM_001124.2:1413'], 'GB_ACC': ['NM_000014.4', 'NM_145259.2', 'NM_003474.5', 'NM_001256252.1', 'NM_001124.2'], 'Class Name': ['Endogenous', 'Endogenous', 'Endogenous', 'Endogenous', 'Endogenous'], 'Analyte Type': ['mRNA', 'mRNA', 'mRNA', 'mRNA', 'mRNA'], 'SPOT_ID': [nan, nan, nan, nan, nan]}\n"
     ]
    }
   ],
   "source": [
    "# 1. Use the 'get_gene_annotation' function from the library to get gene annotation data from the soft file.\n",
    "gene_annotation = get_gene_annotation(soft_file)\n",
    "\n",
    "# 2. Use the 'preview_df' function from the library to preview the data and print out the results.\n",
    "print(\"Gene annotation preview:\")\n",
    "print(preview_df(gene_annotation))\n",
    "    \n",
    "\n",
    "# Since requires_gene_mapping is False, we will skip STEP6 and proceed to the next steps.\n"
   ]
  },
  {
   "cell_type": "markdown",
   "id": "e91f9b0d",
   "metadata": {},
   "source": [
    "### Step 7: Data Normalization and Merging"
   ]
  },
  {
   "cell_type": "code",
   "execution_count": 7,
   "id": "e5e23d12",
   "metadata": {
    "execution": {
     "iopub.execute_input": "2024-06-12T06:55:53.449801Z",
     "iopub.status.busy": "2024-06-12T06:55:53.449679Z",
     "iopub.status.idle": "2024-06-12T06:55:55.583736Z",
     "shell.execute_reply": "2024-06-12T06:55:55.583147Z"
    }
   },
   "outputs": [
    {
     "name": "stdout",
     "output_type": "stream",
     "text": [
      "Quartiles for 'Breast_Cancer':\n",
      "  25%: 1.0\n",
      "  50% (Median): 1.0\n",
      "  75%: 1.0\n",
      "Min: 1.0\n",
      "Max: 1.0\n",
      "The distribution of the feature 'Breast_Cancer' in this dataset is severely biased.\n",
      "\n",
      "Quartiles for 'Age':\n",
      "  25%: 46.0\n",
      "  50% (Median): 49.0\n",
      "  75%: 54.0\n",
      "Min: 40.0\n",
      "Max: 74.0\n",
      "The distribution of the feature 'Age' in this dataset is fine.\n",
      "\n",
      "For the feature 'Gender', the least common label is '0.0' with 19 occurrences. This represents 100.00% of the dataset.\n",
      "The distribution of the feature 'Gender' in this dataset is severely biased.\n",
      "\n"
     ]
    }
   ],
   "source": [
    "# 1. Normalize the obtained gene data with the 'normalize_gene_symbols_in_index' function from the library.\n",
    "normalized_gene_data = normalize_gene_symbols_in_index(gene_data)\n",
    "gene_csv_path = './preprocessed/Breast_Cancer/gene_data/GSE248830.csv'\n",
    "normalized_gene_data.to_csv(gene_csv_path)\n",
    "\n",
    "# 2. Merge the clinical and genetic data with the 'geo_merge_clinical_genetic_data' function from the library.\n",
    "merged_data = geo_merge_clinical_genetic_data(selected_clinical_data, normalized_gene_data)\n",
    "\n",
    "# 3. Determine whether the trait and some demographic attributes in the data is severely biased, and remove biased attributes.\n",
    "trait_biased, unbiased_merged_data = judge_and_remove_biased_features(merged_data, 'Breast_Cancer')\n",
    "\n",
    "# 4. Save the cohort information. Ensure to use the defined trait_biased variable.\n",
    "save_cohort_info('GSE248830', './preprocessed/Breast_Cancer/cohort_info.json', True, True, trait_biased, merged_data)\n",
    "\n",
    "# 5. If the trait is not severely biased, save the merged data to a csv file.\n",
    "if not trait_biased:\n",
    "    csv_path = './preprocessed/Breast_Cancer/GSE248830.csv'\n",
    "    unbiased_merged_data.to_csv(csv_path)\n"
   ]
  }
 ],
 "metadata": {
  "language_info": {
   "codemirror_mode": {
    "name": "ipython",
    "version": 3
   },
   "file_extension": ".py",
   "mimetype": "text/x-python",
   "name": "python",
   "nbconvert_exporter": "python",
   "pygments_lexer": "ipython3",
   "version": "3.8.17"
  }
 },
 "nbformat": 4,
 "nbformat_minor": 5
}
