{
 "cells": [
  {
   "cell_type": "code",
   "execution_count": 1,
   "id": "f9e35e7f",
   "metadata": {
    "execution": {
     "iopub.execute_input": "2024-06-12T06:55:51.698237Z",
     "iopub.status.busy": "2024-06-12T06:55:51.698029Z",
     "iopub.status.idle": "2024-06-12T06:55:51.704833Z",
     "shell.execute_reply": "2024-06-12T06:55:51.704317Z"
    }
   },
   "outputs": [],
   "source": [
    "\n",
    "import sys\n",
    "sys.path.append('/home/techt/Desktop/a4s')\n"
   ]
  },
  {
   "cell_type": "markdown",
   "id": "dadac8f6",
   "metadata": {},
   "source": [
    "### Step 1: Initial Data Loading"
   ]
  },
  {
   "cell_type": "code",
   "execution_count": 2,
   "id": "7da07c84",
   "metadata": {
    "execution": {
     "iopub.execute_input": "2024-06-12T06:55:51.707169Z",
     "iopub.status.busy": "2024-06-12T06:55:51.706748Z",
     "iopub.status.idle": "2024-06-12T06:55:52.035356Z",
     "shell.execute_reply": "2024-06-12T06:55:52.034975Z"
    }
   },
   "outputs": [
    {
     "name": "stdout",
     "output_type": "stream",
     "text": [
      "Background Information:\n",
      "!Series_title\t\"Prenatal BRCA1 epimutations contribute significantly to triple-negative breast cancer development\"\n",
      "!Series_summary\t\"This SuperSeries is composed of the SubSeries listed below.\"\n",
      "!Series_overall_design\t\"Refer to individual Series\"\n",
      "Sample Characteristics Dictionary:\n",
      "{0: ['tissue: tumour', 'tissue: blood', 'tissue: cord blood'], 1: ['treatment: pretreatment', 'cell type: white blood cells'], 2: [nan, 'treatment: pretreatment']}\n"
     ]
    }
   ],
   "source": [
    "from utils.preprocess import *\n",
    "# 1. Identify the paths to the soft file and the matrix file\n",
    "cohort_dir = '/media/techt/DATA/GEO/Breast_Cancer/GSE243966'\n",
    "soft_file, matrix_file = geo_get_relevant_filepaths(cohort_dir)\n",
    "\n",
    "# 2. Read the matrix file to obtain background information and sample characteristics data\n",
    "background_prefixes = ['!Series_title', '!Series_summary', '!Series_overall_design']\n",
    "clinical_prefixes = ['!Sample_geo_accession', '!Sample_characteristics_ch1']\n",
    "background_info, clinical_data = get_background_and_clinical_data(matrix_file, background_prefixes, clinical_prefixes)\n",
    "\n",
    "# 3. Obtain the sample characteristics dictionary from the clinical dataframe\n",
    "sample_characteristics_dict = get_unique_values_by_row(clinical_data)\n",
    "\n",
    "# 4. Explicitly print out all the background information and the sample characteristics dictionary\n",
    "print(\"Background Information:\")\n",
    "print(background_info)\n",
    "print(\"Sample Characteristics Dictionary:\")\n",
    "print(sample_characteristics_dict)\n"
   ]
  },
  {
   "cell_type": "markdown",
   "id": "4dcca7a5",
   "metadata": {},
   "source": [
    "### Step 2: Dataset Analysis and Clinical Feature Extraction"
   ]
  },
  {
   "cell_type": "code",
   "execution_count": 3,
   "id": "2bd6f108",
   "metadata": {
    "execution": {
     "iopub.execute_input": "2024-06-12T06:55:52.036786Z",
     "iopub.status.busy": "2024-06-12T06:55:52.036667Z",
     "iopub.status.idle": "2024-06-12T06:55:52.253606Z",
     "shell.execute_reply": "2024-06-12T06:55:52.253237Z"
    }
   },
   "outputs": [
    {
     "name": "stdout",
     "output_type": "stream",
     "text": [
      "A new JSON file was created at: ./preprocessed/Breast_Cancer/cohort_info.json\n"
     ]
    },
    {
     "name": "stdout",
     "output_type": "stream",
     "text": [
      "{'GSM7798886': [1], 'GSM7798887': [1], 'GSM7798888': [1], 'GSM7798889': [1], 'GSM7798890': [1], 'GSM7798891': [1], 'GSM7798892': [1], 'GSM7798893': [1], 'GSM7798894': [1], 'GSM7798895': [1], 'GSM7798896': [1], 'GSM7798897': [1], 'GSM7798898': [1], 'GSM7798899': [1], 'GSM7798900': [1], 'GSM7798901': [1], 'GSM7798902': [1], 'GSM7798903': [1], 'GSM7798904': [1], 'GSM7798905': [1], 'GSM7798906': [1], 'GSM7798907': [1], 'GSM7798908': [1], 'GSM7798909': [1], 'GSM7798910': [1], 'GSM7798911': [1], 'GSM7798912': [1], 'GSM7798913': [1], 'GSM7798914': [1], 'GSM7798915': [1], 'GSM7798916': [1], 'GSM7798917': [1], 'GSM7798918': [1], 'GSM7798919': [1], 'GSM7798920': [1], 'GSM7798921': [1], 'GSM7798922': [1], 'GSM7798923': [1], 'GSM7798924': [1], 'GSM7798925': [1], 'GSM7798926': [1], 'GSM7798927': [1], 'GSM7798928': [1], 'GSM7798929': [1], 'GSM7798930': [1], 'GSM7798931': [1], 'GSM7798932': [1], 'GSM7798933': [1], 'GSM7798934': [1], 'GSM7798935': [1], 'GSM7798936': [1], 'GSM7798937': [1], 'GSM7798938': [1], 'GSM7798939': [1], 'GSM7798940': [1], 'GSM7798941': [1], 'GSM7798942': [1], 'GSM7798943': [1], 'GSM7798944': [1], 'GSM7798945': [1], 'GSM7798946': [1], 'GSM7798947': [1], 'GSM7798948': [1], 'GSM7798949': [1], 'GSM7798950': [1], 'GSM7798951': [1], 'GSM7798952': [1], 'GSM7798953': [1], 'GSM7798954': [1], 'GSM7798955': [1], 'GSM7798956': [1], 'GSM7798957': [1], 'GSM7798958': [1], 'GSM7798959': [1], 'GSM7798960': [1], 'GSM7798961': [1], 'GSM7798962': [1], 'GSM7798963': [1], 'GSM7798964': [1], 'GSM7798965': [1], 'GSM7798966': [1], 'GSM7798967': [1], 'GSM7798968': [1], 'GSM7798969': [1], 'GSM7798970': [1], 'GSM7798971': [1], 'GSM7798972': [1], 'GSM7798973': [1], 'GSM7798974': [1], 'GSM7798975': [1], 'GSM7798976': [1], 'GSM7798977': [1], 'GSM7798978': [1], 'GSM7798979': [1], 'GSM7798980': [1], 'GSM7798981': [1], 'GSM7798982': [1], 'GSM7798983': [1], 'GSM7798984': [1], 'GSM7798985': [1], 'GSM7798986': [1], 'GSM7798987': [1], 'GSM7798988': [1], 'GSM7798989': [1], 'GSM7798990': [1], 'GSM7798991': [1], 'GSM7798992': [1], 'GSM7798993': [1], 'GSM7798994': [1], 'GSM7798995': [1], 'GSM7798996': [1], 'GSM7798997': [1], 'GSM7798998': [1], 'GSM7798999': [1], 'GSM7799000': [1], 'GSM7799001': [1], 'GSM7799002': [1], 'GSM7799003': [1], 'GSM7799004': [1], 'GSM7799005': [1], 'GSM7799006': [1], 'GSM7799007': [1], 'GSM7799008': [1], 'GSM7799009': [1], 'GSM7799010': [1], 'GSM7799011': [1], 'GSM7799012': [1], 'GSM7799013': [1], 'GSM7799014': [1], 'GSM7799015': [1], 'GSM7799016': [1], 'GSM7799017': [1], 'GSM7799018': [1], 'GSM7799019': [1], 'GSM7799020': [1], 'GSM7799021': [1], 'GSM7799022': [1], 'GSM7799023': [1], 'GSM7799024': [1], 'GSM7799025': [1], 'GSM7799026': [1], 'GSM7799027': [1], 'GSM7799028': [1], 'GSM7799029': [1], 'GSM7799030': [1], 'GSM7799031': [1], 'GSM7799032': [1], 'GSM7799033': [1], 'GSM7799034': [1], 'GSM7799035': [1], 'GSM7799036': [1], 'GSM7799037': [1], 'GSM7799038': [1], 'GSM7799039': [1], 'GSM7799040': [1], 'GSM7799041': [1], 'GSM7799042': [1], 'GSM7799043': [1], 'GSM7799044': [1], 'GSM7799045': [1], 'GSM7799046': [1], 'GSM7799047': [1], 'GSM7799048': [1], 'GSM7799049': [1], 'GSM7799050': [1], 'GSM7799051': [1], 'GSM7799052': [1], 'GSM7799053': [1], 'GSM7799054': [1], 'GSM7799055': [1], 'GSM7799056': [1], 'GSM7799057': [1], 'GSM7799058': [1], 'GSM7799059': [1], 'GSM7799060': [1], 'GSM7799061': [1], 'GSM7799062': [1], 'GSM7799063': [1], 'GSM7799064': [1], 'GSM7799065': [1], 'GSM7799066': [1], 'GSM7799067': [1], 'GSM7799068': [1], 'GSM7799069': [1], 'GSM7799070': [1], 'GSM7799071': [1], 'GSM7799072': [1], 'GSM7799073': [1], 'GSM7799074': [1], 'GSM7799075': [1], 'GSM7799076': [1], 'GSM7799077': [1], 'GSM7799078': [1], 'GSM7799079': [1], 'GSM7799080': [1], 'GSM7799081': [1], 'GSM7799082': [1], 'GSM7799083': [1], 'GSM7799084': [1], 'GSM7799085': [1]}\n"
     ]
    }
   ],
   "source": [
    "is_gene_available = False\n",
    "trait_row = age_row = gender_row = None  # set to different values when applicable\n",
    "convert_trait = convert_age = convert_gender = None  # define the functions when applicable\n",
    "\n",
    "import numpy as np\n",
    "\n",
    "# Check if gene expression data is available\n",
    "if \"gene expression\" in [\"Prenatal BRCA1 epimutations contribute significantly to triple-negative breast cancer development\"]:\n",
    "    is_gene_available = True\n",
    "\n",
    "# Check for availability of 'Breast_Cancer', 'age', and 'gender'\n",
    "sample_characteristics_dict = {0: ['tissue: tumour', 'tissue: blood', 'tissue: cord blood'], \n",
    "                               1: ['treatment: pretreatment', 'cell type: white blood cells'], \n",
    "                               2: [np.nan, 'treatment: pretreatment']}\n",
    "\n",
    "# Assuming breast cancer status might be under 'tissue'\n",
    "if 'tissue: tumour' in sample_characteristics_dict[0]:\n",
    "    trait_row = 0\n",
    "\n",
    "# Assuming other variables are not available based on the provided data\n",
    "age_row = None\n",
    "gender_row = None\n",
    "\n",
    "# Define conversion functions\n",
    "def convert_trait(value):\n",
    "    try:\n",
    "        trait_value = value.split(':')[-1].strip()\n",
    "        return 1 if trait_value.lower() == \"tumour\" else 0\n",
    "    except:\n",
    "        return None\n",
    "\n",
    "# Save Metadata\n",
    "save_cohort_info('GSE243966', './preprocessed/Breast_Cancer/cohort_info.json', is_gene_available, trait_row is not None)\n",
    "\n",
    "# Clinical Feature Extraction\n",
    "if trait_row is not None:\n",
    "    selected_clinical_data = geo_select_clinical_features(clinical_data, 'Breast_Cancer', trait_row, convert_trait, age_row, convert_age, gender_row, convert_gender)\n",
    "    csv_path = './preprocessed/Breast_Cancer/trait_data/GSE243966.csv'\n",
    "    selected_clinical_data.to_csv(csv_path)\n",
    "    print(preview_df(selected_clinical_data))\n"
   ]
  }
 ],
 "metadata": {
  "language_info": {
   "codemirror_mode": {
    "name": "ipython",
    "version": 3
   },
   "file_extension": ".py",
   "mimetype": "text/x-python",
   "name": "python",
   "nbconvert_exporter": "python",
   "pygments_lexer": "ipython3",
   "version": "3.8.17"
  }
 },
 "nbformat": 4,
 "nbformat_minor": 5
}
