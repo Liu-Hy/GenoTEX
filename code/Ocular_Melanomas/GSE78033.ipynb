{
 "cells": [
  {
   "cell_type": "code",
   "execution_count": 1,
   "id": "c9559ae2",
   "metadata": {
    "execution": {
     "iopub.execute_input": "2024-06-12T09:58:16.959116Z",
     "iopub.status.busy": "2024-06-12T09:58:16.958986Z",
     "iopub.status.idle": "2024-06-12T09:58:16.962990Z",
     "shell.execute_reply": "2024-06-12T09:58:16.962733Z"
    }
   },
   "outputs": [],
   "source": [
    "\n",
    "import sys\n",
    "sys.path.append('/home/techt/Desktop/a4s')\n"
   ]
  },
  {
   "cell_type": "markdown",
   "id": "a6cff7ee",
   "metadata": {},
   "source": [
    "### Step 1: Initial Data Loading"
   ]
  },
  {
   "cell_type": "code",
   "execution_count": 2,
   "id": "6a798ce1",
   "metadata": {
    "execution": {
     "iopub.execute_input": "2024-06-12T09:58:16.965179Z",
     "iopub.status.busy": "2024-06-12T09:58:16.965044Z",
     "iopub.status.idle": "2024-06-12T09:58:17.281026Z",
     "shell.execute_reply": "2024-06-12T09:58:17.280669Z"
    }
   },
   "outputs": [
    {
     "name": "stdout",
     "output_type": "stream",
     "text": [
      "Background Information:\n",
      "!Series_title\t\"Expression Data from Uveal Melanoma patient-derived xenograft and tumor of origin\"\n",
      "!Series_summary\t\"We compare the genetic profiles of the primary tumors of uveal melanoma or metastasis to their corresponding xenografts that have been passaged over time.\"\n",
      "!Series_summary\t\"The study included patient tumors and corresponding xenografts at very early (P1), early (P4), and late (P9) in vivo passages\"\n",
      "!Series_overall_design\t\"The transcriptome of 16 uveal melanoma patient-derived xenografts models were analyzed using Affymetrix Human Exon 1.0 ST Array\"\n",
      "Sample Characteristics Dictionary:\n",
      "{0: ['sample type: PDX', 'sample type: Patient'], 1: ['sample origin: Xenograft', 'sample origin: liver metastasis', 'sample origin: primary ocular tumor', 'sample origin: skin metastasis'], 2: ['models: MM026', 'models: MM033', 'models: MP042', 'models: MM066', 'models: MP077', 'models: MP041', 'models: MP034', 'models: MP047', 'models: MP071', 'models: MP080', 'models: MP055', 'models: MM052', 'models: MP065', 'models: MM074', 'models: MP038', 'models: MP046'], 3: ['tumor type: Metastasis', 'tumor type: Primary Tumor'], 4: ['passage: p1', 'passage: p4', 'passage: p9', 'passage: p0']}\n"
     ]
    }
   ],
   "source": [
    "from utils.preprocess import *\n",
    "# 1. Identify the paths to the soft file and the matrix file\n",
    "cohort_dir = '/media/techt/DATA/GEO/Ocular_Melanomas/GSE78033'\n",
    "soft_file, matrix_file = geo_get_relevant_filepaths(cohort_dir)\n",
    "\n",
    "# 2. Read the matrix file to obtain background information and sample characteristics data\n",
    "background_prefixes = ['!Series_title', '!Series_summary', '!Series_overall_design']\n",
    "clinical_prefixes = ['!Sample_geo_accession', '!Sample_characteristics_ch1']\n",
    "background_info, clinical_data = get_background_and_clinical_data(matrix_file, background_prefixes, clinical_prefixes)\n",
    "\n",
    "# 3. Obtain the sample characteristics dictionary from the clinical dataframe\n",
    "sample_characteristics_dict = get_unique_values_by_row(clinical_data)\n",
    "\n",
    "# 4. Explicitly print out all the background information and the sample characteristics dictionary\n",
    "print(\"Background Information:\")\n",
    "print(background_info)\n",
    "print(\"Sample Characteristics Dictionary:\")\n",
    "print(sample_characteristics_dict)\n"
   ]
  },
  {
   "cell_type": "markdown",
   "id": "6c3e2087",
   "metadata": {},
   "source": [
    "### Step 2: Dataset Analysis and Clinical Feature Extraction"
   ]
  },
  {
   "cell_type": "code",
   "execution_count": 3,
   "id": "ebcc5274",
   "metadata": {
    "execution": {
     "iopub.execute_input": "2024-06-12T09:58:17.283623Z",
     "iopub.status.busy": "2024-06-12T09:58:17.283484Z",
     "iopub.status.idle": "2024-06-12T09:58:17.293283Z",
     "shell.execute_reply": "2024-06-12T09:58:17.292990Z"
    }
   },
   "outputs": [
    {
     "name": "stdout",
     "output_type": "stream",
     "text": [
      "{'GSM2065182': [None], 'GSM2065183': [None], 'GSM2065184': [None], 'GSM2065185': [None], 'GSM2065186': [None], 'GSM2065187': [None], 'GSM2065188': [None], 'GSM2065189': [0], 'GSM2065190': [1], 'GSM2065191': [1], 'GSM2065192': [1], 'GSM2065193': [None], 'GSM2065194': [None], 'GSM2065195': [None], 'GSM2065196': [None], 'GSM2065197': [None], 'GSM2065198': [None], 'GSM2065199': [None], 'GSM2065200': [None], 'GSM2065201': [None], 'GSM2065202': [None], 'GSM2065203': [None], 'GSM2065204': [None], 'GSM2065205': [None], 'GSM2065206': [0], 'GSM2065207': [1], 'GSM2065208': [1], 'GSM2065209': [0], 'GSM2065210': [1], 'GSM2065211': [None], 'GSM2065212': [None], 'GSM2065213': [None], 'GSM2065214': [None], 'GSM2065215': [None], 'GSM2065216': [None], 'GSM2065217': [None], 'GSM2065218': [None], 'GSM2065219': [None], 'GSM2065220': [None], 'GSM2065221': [None], 'GSM2065222': [None], 'GSM2065223': [1], 'GSM2065224': [0], 'GSM2065225': [1], 'GSM2065226': [None]}\n"
     ]
    }
   ],
   "source": [
    "is_gene_available = False\n",
    "trait_row = age_row = gender_row = None  # set to different values when applicable\n",
    "convert_trait = convert_age = convert_gender = None  # define the functions when applicable\n",
    "\n",
    "# Determine if gene expression data is available\n",
    "is_gene_available = True  # Based on !Series_overall_design mentioning Affymetrix Human Exon 1.0 ST Array\n",
    "\n",
    "# Evaluate data availability for each variable\n",
    "if any(\"primary ocular tumor\" in s for s in {1: ['sample origin: Xenograft', 'sample origin: liver metastasis', 'sample origin: primary ocular tumor', 'sample origin: skin metastasis']}[1]):\n",
    "    trait_row = 1\n",
    "\n",
    "age_row = None  # No age-related information found in the dictionary\n",
    "gender_row = None  # No gender-related information found in the dictionary\n",
    "\n",
    "# Define conversion functions\n",
    "def convert_trait(value):\n",
    "    if 'primary ocular tumor' in value:\n",
    "        return 1\n",
    "    elif 'liver metastasis' in value or 'skin metastasis' in value:\n",
    "        return 0\n",
    "    else:\n",
    "        return None  # unknown or irrelevant cases\n",
    "\n",
    "def convert_age(value):\n",
    "    return None  # No age data available\n",
    "\n",
    "def convert_gender(value):\n",
    "    return None  # No gender data available\n",
    "\n",
    "# Save cohort information\n",
    "save_cohort_info('GSE78033', './preprocessed/Ocular_Melanomas/cohort_info.json', is_gene_available, trait_row is not None)\n",
    "\n",
    "# Clinical Feature Extraction\n",
    "if trait_row is not None:\n",
    "    selected_clinical_data = geo_select_clinical_features(clinical_data, 'Ocular_Melanomas', trait_row, convert_trait, age_row, convert_age, gender_row, convert_gender)\n",
    "    csv_path = './preprocessed/Ocular_Melanomas/trait_data/GSE78033.csv'\n",
    "    selected_clinical_data.to_csv(csv_path)\n",
    "    print(preview_df(selected_clinical_data))\n"
   ]
  },
  {
   "cell_type": "markdown",
   "id": "bae35de7",
   "metadata": {},
   "source": [
    "### Step 3: Gene Data Extraction"
   ]
  },
  {
   "cell_type": "code",
   "execution_count": 4,
   "id": "94ef52c1",
   "metadata": {
    "execution": {
     "iopub.execute_input": "2024-06-12T09:58:17.295187Z",
     "iopub.status.busy": "2024-06-12T09:58:17.295088Z",
     "iopub.status.idle": "2024-06-12T09:58:17.419273Z",
     "shell.execute_reply": "2024-06-12T09:58:17.418953Z"
    }
   },
   "outputs": [
    {
     "name": "stdout",
     "output_type": "stream",
     "text": [
      "Index(['100008589_at', '100009676_at', '10000_at', '10001_at', '10002_at',\n",
      "       '100033416_at', '100033423_at', '100033424_at', '100033425_at',\n",
      "       '100033426_at', '100033428_at', '100033431_at', '100033436_at',\n",
      "       '100033444_at', '100033453_at', '100033806_at', '100033820_at',\n",
      "       '100037417_at', '100038246_at', '10003_at'],\n",
      "      dtype='object', name='ID')\n"
     ]
    }
   ],
   "source": [
    "# 1. Use the get_genetic_data function from the library to get the gene_data from the matrix_file previously defined.\n",
    "gene_data = get_genetic_data(matrix_file)\n",
    "\n",
    "# 2. Print the first 20 row ids for the following step.\n",
    "print(gene_data.index[:20])\n"
   ]
  },
  {
   "cell_type": "markdown",
   "id": "86a3450c",
   "metadata": {},
   "source": [
    "### Step 4: Gene Identifier Review"
   ]
  },
  {
   "cell_type": "code",
   "execution_count": 5,
   "id": "509300da",
   "metadata": {
    "execution": {
     "iopub.execute_input": "2024-06-12T09:58:17.421476Z",
     "iopub.status.busy": "2024-06-12T09:58:17.421373Z",
     "iopub.status.idle": "2024-06-12T09:58:17.423331Z",
     "shell.execute_reply": "2024-06-12T09:58:17.423073Z"
    }
   },
   "outputs": [],
   "source": [
    "requires_gene_mapping = True\n"
   ]
  },
  {
   "cell_type": "markdown",
   "id": "787ec702",
   "metadata": {},
   "source": [
    "### Step 5: Gene Annotation (Conditional)"
   ]
  },
  {
   "cell_type": "code",
   "execution_count": 6,
   "id": "e542e29d",
   "metadata": {
    "execution": {
     "iopub.execute_input": "2024-06-12T09:58:17.425341Z",
     "iopub.status.busy": "2024-06-12T09:58:17.425247Z",
     "iopub.status.idle": "2024-06-12T09:58:18.606767Z",
     "shell.execute_reply": "2024-06-12T09:58:18.606445Z"
    }
   },
   "outputs": [
    {
     "name": "stdout",
     "output_type": "stream",
     "text": [
      "Gene annotation preview:\n",
      "{'ID': ['1_at', '10_at', '100_at', '1000_at', '10000_at'], 'ENTREZ_GENE_ID': ['1', '10', '100', '1000', '10000'], 'SPOT_ID': ['A1BG', 'NAT2', 'ADA', 'CDH2', 'AKT3']}\n"
     ]
    }
   ],
   "source": [
    "# 1. Use the 'get_gene_annotation' function from the library to get gene annotation data from the soft file.\n",
    "gene_annotation = get_gene_annotation(soft_file)\n",
    "\n",
    "# 2. Use the 'preview_df' function from the library to preview the data and print out the results.\n",
    "print(\"Gene annotation preview:\")\n",
    "print(preview_df(gene_annotation))\n"
   ]
  },
  {
   "cell_type": "markdown",
   "id": "875067ed",
   "metadata": {},
   "source": [
    "### Step 6: Gene Identifier Mapping"
   ]
  },
  {
   "cell_type": "code",
   "execution_count": 7,
   "id": "2ada9072",
   "metadata": {
    "execution": {
     "iopub.execute_input": "2024-06-12T09:58:18.608958Z",
     "iopub.status.busy": "2024-06-12T09:58:18.608815Z",
     "iopub.status.idle": "2024-06-12T09:58:18.688151Z",
     "shell.execute_reply": "2024-06-12T09:58:18.687752Z"
    }
   },
   "outputs": [],
   "source": [
    "# 1. Identifying the key names based on the dictionary preview\n",
    "identifier_key = 'ID'\n",
    "gene_symbol_key = 'SPOT_ID'\n",
    "\n",
    "# 2. Get the dataframe storing the mapping between probe IDs and genes\n",
    "gene_mapping = get_gene_mapping(gene_annotation, identifier_key, gene_symbol_key)\n",
    "\n",
    "# 3. Apply the mapping to get the gene expression dataframe\n",
    "gene_data = apply_gene_mapping(gene_data, gene_mapping)\n"
   ]
  },
  {
   "cell_type": "markdown",
   "id": "b69e51c2",
   "metadata": {},
   "source": [
    "### Step 7: Data Normalization and Merging"
   ]
  },
  {
   "cell_type": "code",
   "execution_count": 8,
   "id": "c87b8ba5",
   "metadata": {
    "execution": {
     "iopub.execute_input": "2024-06-12T09:58:18.690776Z",
     "iopub.status.busy": "2024-06-12T09:58:18.690639Z",
     "iopub.status.idle": "2024-06-12T09:59:09.594591Z",
     "shell.execute_reply": "2024-06-12T09:59:09.594053Z"
    }
   },
   "outputs": [
    {
     "name": "stdout",
     "output_type": "stream",
     "text": [
      "For the feature 'Ocular_Melanomas', the least common label is '0.0' with 4 occurrences. This represents 33.33% of the dataset.\n",
      "The distribution of the feature 'Ocular_Melanomas' in this dataset is fine.\n",
      "\n",
      "A new JSON file was created at: ./preprocessed/Ocular_Melanomas/cohort_info.json\n"
     ]
    }
   ],
   "source": [
    "import os\n",
    "\n",
    "# Ensure directories exist\n",
    "gene_csv_path = './preprocessed/Ocular_Melanomas/gene_data/GSE78033.csv'\n",
    "csv_path = './preprocessed/Ocular_Melanomas/GSE78033.csv'\n",
    "os.makedirs(os.path.dirname(gene_csv_path), exist_ok=True)\n",
    "os.makedirs(os.path.dirname(csv_path), exist_ok=True)\n",
    "\n",
    "# 1. Normalize the obtained gene data with the 'normalize_gene_symbols_in_index' function from the library.\n",
    "normalized_gene_data = normalize_gene_symbols_in_index(gene_data)\n",
    "normalized_gene_data.to_csv(gene_csv_path)\n",
    "\n",
    "# 2. Merge the clinical and genetic data with the 'geo_merge_clinical_genetic_data' function from the library.\n",
    "merged_data = geo_merge_clinical_genetic_data(selected_clinical_data, normalized_gene_data)\n",
    "\n",
    "# 3. Determine whether the trait and some demographic attributes in the data are severely biased, and remove biased attributes.\n",
    "trait_biased, unbiased_merged_data = judge_and_remove_biased_features(merged_data, 'Ocular_Melanomas')\n",
    "\n",
    "# If the trait is not severely biased, save the cohort information and the merged data.\n",
    "\n",
    "# 4. Save the cohort information.\n",
    "save_cohort_info('GSE78033', './preprocessed/Ocular_Melanomas/cohort_info.json', True, True, trait_biased, merged_data)\n",
    "\n",
    "if not trait_biased:\n",
    "    # 5. If the trait is not severely biased, save the merged data to a csv file.\n",
    "    unbiased_merged_data.to_csv(csv_path)\n"
   ]
  }
 ],
 "metadata": {
  "language_info": {
   "codemirror_mode": {
    "name": "ipython",
    "version": 3
   },
   "file_extension": ".py",
   "mimetype": "text/x-python",
   "name": "python",
   "nbconvert_exporter": "python",
   "pygments_lexer": "ipython3",
   "version": "3.8.17"
  }
 },
 "nbformat": 4,
 "nbformat_minor": 5
}
