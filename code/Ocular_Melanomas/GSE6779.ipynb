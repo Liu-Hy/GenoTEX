{
 "cells": [
  {
   "cell_type": "code",
   "execution_count": 1,
   "id": "24d255a1",
   "metadata": {
    "execution": {
     "iopub.execute_input": "2024-06-12T10:00:09.064067Z",
     "iopub.status.busy": "2024-06-12T10:00:09.063951Z",
     "iopub.status.idle": "2024-06-12T10:00:09.068202Z",
     "shell.execute_reply": "2024-06-12T10:00:09.067880Z"
    }
   },
   "outputs": [],
   "source": [
    "\n",
    "import sys\n",
    "sys.path.append('/home/techt/Desktop/a4s')\n"
   ]
  },
  {
   "cell_type": "markdown",
   "id": "3e1c1da0",
   "metadata": {},
   "source": [
    "### Step 1: Initial Data Loading"
   ]
  },
  {
   "cell_type": "code",
   "execution_count": 2,
   "id": "a78a8719",
   "metadata": {
    "execution": {
     "iopub.execute_input": "2024-06-12T10:00:09.070290Z",
     "iopub.status.busy": "2024-06-12T10:00:09.070165Z",
     "iopub.status.idle": "2024-06-12T10:00:09.410179Z",
     "shell.execute_reply": "2024-06-12T10:00:09.409825Z"
    }
   },
   "outputs": [
    {
     "name": "stdout",
     "output_type": "stream",
     "text": [
      "Background Information:\n",
      "!Series_title\t\"Genomic Profiling of Malignant Melanoma using tiling resolution array CGH\"\n",
      "!Series_summary\t\"Malignant melanoma is an aggressive, heterogeneous disease where new biomarkers for diagnosis and clinical outcome are needed. We searched for chromosomal aberrations that characterize its pathogenesis using 47 different melanoma cell lines and tiling-resolution BAC-arrays for comparative genomic hybridization. Major melanoma genes, including BRAF, NRAS, CDKN2A, TP53, CTNNB1, CDK4 and PTEN were examined for mutations. Distinct copy number alterations were detected, including loss or gain of whole chromosomes but also minute amplifications and homozygous deletions. Most common overlapping regions with losses were mapped to 9p24.3-q13, 10 and 11q14.1-qter whereas copy number gains were most frequent on chromosomes 1q, 7, 17q and 20q. Amplifications were delineated to oncogenes such as MITF (3p14), CCND1 (11q13), MDM2 (12q15), CCNE1 (19q12) and NOTCH2 (1p12). Frequent findings of homozygous deletions on 9p21 and 10q23 confirmed the importance of CDKN2A and PTEN. Pair-wise comparisons revealed distinct sets of alterations, e.g. mutually exclusive mutations in BRAF and NRAS, mutual mutations in BRAF and PTEN, concomitant chromosome 7 gain and 10 loss and concomitant chromosome 15q22.2-q26.3 gain and 20 gain. Moreover, alterations of the various melanoma genes were associated with distinct chromosomal imbalances suggestive of specific genomic programs in melanoma development.\"\n",
      "!Series_summary\t\"Keywords: comparative genomic hybridization\"\n",
      "!Series_overall_design\t\"Genomic DNA was extracted from 47 melanoma cell lines. The DNA was labeled using Bioprime array CGH labeling kit (Invitrogen). Promega pooled male DNA was used as reference. Dye-swaps were performed for 13 cell lines. Labeled DNA was hybridized onto BAC arrays containing ~32 000 BAC clones printed in singlets. BAC arrays were produced at the SWEGENE DNA Microarray Facility at Lund University.\"\n",
      "Sample Characteristics Dictionary:\n",
      "{0: ['none']}\n"
     ]
    }
   ],
   "source": [
    "from utils.preprocess import *\n",
    "# 1. Identify the paths to the soft file and the matrix file\n",
    "cohort_dir = '/media/techt/DATA/GEO/Ocular_Melanomas/GSE6779'\n",
    "soft_file, matrix_file = geo_get_relevant_filepaths(cohort_dir)\n",
    "\n",
    "# 2. Read the matrix file to obtain background information and sample characteristics data\n",
    "background_prefixes = ['!Series_title', '!Series_summary', '!Series_overall_design']\n",
    "clinical_prefixes = ['!Sample_geo_accession', '!Sample_characteristics_ch1']\n",
    "background_info, clinical_data = get_background_and_clinical_data(matrix_file, background_prefixes, clinical_prefixes)\n",
    "\n",
    "# 3. Obtain the sample characteristics dictionary from the clinical dataframe\n",
    "sample_characteristics_dict = get_unique_values_by_row(clinical_data)\n",
    "\n",
    "# 4. Explicitly print out all the background information and the sample characteristics dictionary\n",
    "print(\"Background Information:\")\n",
    "print(background_info)\n",
    "print(\"Sample Characteristics Dictionary:\")\n",
    "print(sample_characteristics_dict)\n"
   ]
  },
  {
   "cell_type": "markdown",
   "id": "f6cb61a4",
   "metadata": {},
   "source": [
    "### Step 2: Dataset Analysis and Clinical Feature Extraction"
   ]
  },
  {
   "cell_type": "code",
   "execution_count": 3,
   "id": "3345500c",
   "metadata": {
    "execution": {
     "iopub.execute_input": "2024-06-12T10:00:09.412293Z",
     "iopub.status.busy": "2024-06-12T10:00:09.412155Z",
     "iopub.status.idle": "2024-06-12T10:00:09.415169Z",
     "shell.execute_reply": "2024-06-12T10:00:09.414894Z"
    }
   },
   "outputs": [],
   "source": [
    "is_gene_available = False\n",
    "trait_row = age_row = gender_row = None  # set to different values when applicable\n",
    "convert_trait = convert_age = convert_gender = None  # define the functions when applicable\n",
    "\n",
    "# Question 1: Check if gene expression data is available\n",
    "# Based on the background information, this dataset focuses on genomic profiling using array CGH, not on gene expression data.\n",
    "is_gene_available = False\n",
    "\n",
    "# Question 2: Variable Availability and Data Type Conversion\n",
    "# The sample characteristic dictionary indicates that no variables are available since it only contains a single entry with 'none'.\n",
    "trait_row = age_row = gender_row = None\n",
    "\n",
    "# Save cohort information\n",
    "save_cohort_info('GSE6779', './preprocessed/Ocular_Melanomas/cohort_info.json', is_gene_available, trait_row is not None)\n",
    "\n",
    "# Since trait_row is None, the clinical feature extraction step is skipped.\n"
   ]
  }
 ],
 "metadata": {
  "language_info": {
   "codemirror_mode": {
    "name": "ipython",
    "version": 3
   },
   "file_extension": ".py",
   "mimetype": "text/x-python",
   "name": "python",
   "nbconvert_exporter": "python",
   "pygments_lexer": "ipython3",
   "version": "3.8.17"
  }
 },
 "nbformat": 4,
 "nbformat_minor": 5
}
