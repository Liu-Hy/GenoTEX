{
 "cells": [
  {
   "cell_type": "code",
   "execution_count": 1,
   "id": "b5f200fa",
   "metadata": {
    "execution": {
     "iopub.execute_input": "2024-06-12T09:59:13.009547Z",
     "iopub.status.busy": "2024-06-12T09:59:13.009378Z",
     "iopub.status.idle": "2024-06-12T09:59:13.015315Z",
     "shell.execute_reply": "2024-06-12T09:59:13.014844Z"
    }
   },
   "outputs": [],
   "source": [
    "\n",
    "import sys\n",
    "sys.path.append('/home/techt/Desktop/a4s')\n"
   ]
  },
  {
   "cell_type": "markdown",
   "id": "0b0063c9",
   "metadata": {},
   "source": [
    "### Step 1: Initial Data Loading"
   ]
  },
  {
   "cell_type": "code",
   "execution_count": 2,
   "id": "907949a9",
   "metadata": {
    "execution": {
     "iopub.execute_input": "2024-06-12T09:59:13.017701Z",
     "iopub.status.busy": "2024-06-12T09:59:13.017348Z",
     "iopub.status.idle": "2024-06-12T09:59:13.330142Z",
     "shell.execute_reply": "2024-06-12T09:59:13.329732Z"
    }
   },
   "outputs": [
    {
     "name": "stdout",
     "output_type": "stream",
     "text": [
      "Background Information:\n",
      "!Series_title\t\"Gene expression-based analysis of extra-cerebral metastases of patients with cerebrotropism (defined here as development of brain metastasis within < 6 months of stage IV disease), compared to patients who did not develop brain metastases for >18 months\"\n",
      "!Series_summary\t\"To test the association between gene expression and cerebrotropism the Wilcoxon rank-sum test was utilized and revealed over 400 genes differentially expressed between thw two patient groups\"\n",
      "!Series_summary\t\"Please note that cerebrotropism is defined here as development of brain metastasis within < 6 months of stage IV disease\"\n",
      "!Series_overall_design\t\"In this study we utilized a well-annotated  cohort of metastatic melanoma cases to acquire expression profiles of a total of 9,829 unique genes\"\n",
      "!Series_overall_design\t\"\"\n",
      "!Series_overall_design\t\"Cerebrotropism Status (provided in each sample characteristics field):\"\n",
      "!Series_overall_design\t\"1 represents early cerebrotropic patients (patients who developed CNS metastases within 6 months of diagnosis of metastatic disease )\"\n",
      "!Series_overall_design\t\"0 represents non-cerebrotropic patients (patients who did not develop brain metastases for over 18 months.\"\n",
      "Sample Characteristics Dictionary:\n",
      "{0: ['tissue: metastatic melanoma'], 1: ['histology: LN (lymph node)', 'histology: ST (soft tissue)', 'histology: SK (skin)'], 2: ['cerebrotropic status: 1=Yes; 0 =No: 1', 'cerebrotropic status: 1=Yes; 0 =No: 0'], 3: ['ajcc m stage: M1b', 'ajcc m stage: M1c', 'ajcc m stage: M1a', 'ajcc m stage: unknown'], 4: ['mutational status: 0, wild type', 'mutational status: 1, BRAF V600K', 'mutational status: 1, BRAF V600E/WT', 'mutational status: 1, BRAFV600E/WT(GAG/GTG)', 'mutational status: 1, BRAF V600E/E', 'mutational status: 2, NRAS Q61R/WT', 'mutational status: 1, BRAF V600E/WT (GTG/GAG)', 'mutational status: 1, BRAF V600K/WT', 'mutational status: unknown', 'mutational status: 1, BRAF V600E/WT (GAG/GTG)', 'mutational status: 2, NRAS Q61K/WT', 'mutational status: 2, NRAS Q61L', 'mutational status: 1, BRAF P75L', 'mutational status: 1, BRAF V600E (GAG/GAG)', 'mutational status: 2, NRAS G12DG-V', 'mutational status: 1, BRAF N581T', 'mutational status: 2, NRAS Q61R/WT (CGA/CAA)'], 5: ['location of primary melanoma: Head&Neck', 'location of primary melanoma: Trunk', 'location of primary melanoma: Extremities', 'location of primary melanoma: R thumb nailbed', 'location of primary melanoma: unknown', 'location of primary melanoma: Ocular', 'location of primary melanoma: R plantar foot'], 6: ['presence of lung metastases 1=yes; 0=no: 1', 'presence of lung metastases 1=yes; 0=no: 0']}\n"
     ]
    }
   ],
   "source": [
    "from utils.preprocess import *\n",
    "# 1. Identify the paths to the soft file and the matrix file\n",
    "cohort_dir = '/media/techt/DATA/GEO/Ocular_Melanomas/GSE60464'\n",
    "soft_file, matrix_file = geo_get_relevant_filepaths(cohort_dir)\n",
    "\n",
    "# 2. Read the matrix file to obtain background information and sample characteristics data\n",
    "background_prefixes = ['!Series_title', '!Series_summary', '!Series_overall_design']\n",
    "clinical_prefixes = ['!Sample_geo_accession', '!Sample_characteristics_ch1']\n",
    "background_info, clinical_data = get_background_and_clinical_data(matrix_file, background_prefixes, clinical_prefixes)\n",
    "\n",
    "# 3. Obtain the sample characteristics dictionary from the clinical dataframe\n",
    "sample_characteristics_dict = get_unique_values_by_row(clinical_data)\n",
    "\n",
    "# 4. Explicitly print out all the background information and the sample characteristics dictionary\n",
    "print(\"Background Information:\")\n",
    "print(background_info)\n",
    "print(\"Sample Characteristics Dictionary:\")\n",
    "print(sample_characteristics_dict)\n"
   ]
  },
  {
   "cell_type": "markdown",
   "id": "8a32c75f",
   "metadata": {},
   "source": [
    "### Step 2: Dataset Analysis and Clinical Feature Extraction"
   ]
  },
  {
   "cell_type": "code",
   "execution_count": 3,
   "id": "ccf14c93",
   "metadata": {
    "execution": {
     "iopub.execute_input": "2024-06-12T09:59:13.331926Z",
     "iopub.status.busy": "2024-06-12T09:59:13.331814Z",
     "iopub.status.idle": "2024-06-12T09:59:13.339947Z",
     "shell.execute_reply": "2024-06-12T09:59:13.339659Z"
    }
   },
   "outputs": [
    {
     "name": "stdout",
     "output_type": "stream",
     "text": [
      "{'GSM1480415': [1], 'GSM1480416': [1], 'GSM1480417': [1], 'GSM1480418': [1], 'GSM1480419': [1], 'GSM1480420': [1], 'GSM1480421': [1], 'GSM1480422': [1], 'GSM1480423': [1], 'GSM1480424': [1], 'GSM1480425': [1], 'GSM1480426': [1], 'GSM1480427': [1], 'GSM1480428': [1], 'GSM1480429': [1], 'GSM1480430': [1], 'GSM1480431': [1], 'GSM1480432': [0], 'GSM1480433': [0], 'GSM1480434': [0], 'GSM1480435': [0], 'GSM1480436': [0], 'GSM1480437': [0], 'GSM1480438': [0], 'GSM1480439': [0], 'GSM1480440': [0], 'GSM1480441': [0], 'GSM1480442': [0], 'GSM1480443': [0], 'GSM1480444': [0], 'GSM1480445': [0], 'GSM1480446': [0], 'GSM1480447': [0], 'GSM1480448': [0], 'GSM1480449': [0], 'GSM1480450': [0], 'GSM1480451': [0], 'GSM1480452': [0], 'GSM1480453': [0], 'GSM1480454': [0], 'GSM1480455': [0], 'GSM1480456': [0]}\n"
     ]
    }
   ],
   "source": [
    "is_gene_available = True\n",
    "trait_row = 2  # set to different values when applicable\n",
    "age_row = None  # set to different values when applicable\n",
    "gender_row = None  # set to different values when applicable\n",
    "\n",
    "# Define the functions when applicable\n",
    "def convert_trait(value):\n",
    "    try:\n",
    "        return int(value.split(':')[-1].strip())\n",
    "    except ValueError:\n",
    "        return None\n",
    "\n",
    "def convert_age(value):\n",
    "    return None\n",
    "\n",
    "def convert_gender(value):\n",
    "    return None\n",
    "\n",
    "# Saving cohort information\n",
    "save_cohort_info('GSE60464', './preprocessed/Ocular_Melanomas/cohort_info.json', is_gene_available, trait_row is not None)\n",
    "\n",
    "# Clinical feature extraction if trait_row is None\n",
    "if trait_row is not None:\n",
    "    selected_clinical_data = geo_select_clinical_features(clinical_data, 'Ocular_Melanomas', trait_row, convert_trait, age_row, convert_age, gender_row, convert_gender)\n",
    "    csv_path = './preprocessed/Ocular_Melanomas/trait_data/GSE60464.csv'\n",
    "    selected_clinical_data.to_csv(csv_path)\n",
    "    print(preview_df(selected_clinical_data))\n"
   ]
  },
  {
   "cell_type": "markdown",
   "id": "aef1bd01",
   "metadata": {},
   "source": [
    "### Step 3: Gene Data Extraction"
   ]
  },
  {
   "cell_type": "code",
   "execution_count": 4,
   "id": "7956a751",
   "metadata": {
    "execution": {
     "iopub.execute_input": "2024-06-12T09:59:13.341319Z",
     "iopub.status.busy": "2024-06-12T09:59:13.341212Z",
     "iopub.status.idle": "2024-06-12T09:59:13.476573Z",
     "shell.execute_reply": "2024-06-12T09:59:13.476189Z"
    }
   },
   "outputs": [
    {
     "name": "stdout",
     "output_type": "stream",
     "text": [
      "Index(['ILMN_1343291', 'ILMN_1651209', 'ILMN_1651228', 'ILMN_1651229',\n",
      "       'ILMN_1651235', 'ILMN_1651236', 'ILMN_1651237', 'ILMN_1651238',\n",
      "       'ILMN_1651254', 'ILMN_1651260', 'ILMN_1651262', 'ILMN_1651268',\n",
      "       'ILMN_1651278', 'ILMN_1651282', 'ILMN_1651285', 'ILMN_1651286',\n",
      "       'ILMN_1651292', 'ILMN_1651303', 'ILMN_1651309', 'ILMN_1651315'],\n",
      "      dtype='object', name='ID')\n"
     ]
    }
   ],
   "source": [
    "# 1. Use the get_genetic_data function from the library to get the gene_data from the matrix_file previously defined.\n",
    "gene_data = get_genetic_data(matrix_file)\n",
    "\n",
    "# 2. Print the first 20 row ids for the following step.\n",
    "print(gene_data.index[:20])\n"
   ]
  },
  {
   "cell_type": "markdown",
   "id": "9e93d9ed",
   "metadata": {},
   "source": [
    "### Step 4: Gene Identifier Review"
   ]
  },
  {
   "cell_type": "code",
   "execution_count": 5,
   "id": "8ad47761",
   "metadata": {
    "execution": {
     "iopub.execute_input": "2024-06-12T09:59:13.478215Z",
     "iopub.status.busy": "2024-06-12T09:59:13.478106Z",
     "iopub.status.idle": "2024-06-12T09:59:13.480052Z",
     "shell.execute_reply": "2024-06-12T09:59:13.479762Z"
    }
   },
   "outputs": [],
   "source": [
    "requires_gene_mapping = True\n"
   ]
  },
  {
   "cell_type": "markdown",
   "id": "444c7ead",
   "metadata": {},
   "source": [
    "### Step 5: Gene Annotation (Conditional)"
   ]
  },
  {
   "cell_type": "code",
   "execution_count": 6,
   "id": "9967d8ff",
   "metadata": {
    "execution": {
     "iopub.execute_input": "2024-06-12T09:59:13.481514Z",
     "iopub.status.busy": "2024-06-12T09:59:13.481410Z",
     "iopub.status.idle": "2024-06-12T09:59:17.067393Z",
     "shell.execute_reply": "2024-06-12T09:59:17.067003Z"
    }
   },
   "outputs": [
    {
     "name": "stdout",
     "output_type": "stream",
     "text": [
      "Gene annotation preview:\n",
      "{'ID': ['ILMN_3166687', 'ILMN_3165566', 'ILMN_3164811', 'ILMN_3165363', 'ILMN_3166511'], 'Transcript': ['ILMN_333737', 'ILMN_333646', 'ILMN_333584', 'ILMN_333628', 'ILMN_333719'], 'Species': ['ILMN Controls', 'ILMN Controls', 'ILMN Controls', 'ILMN Controls', 'ILMN Controls'], 'Source': ['ILMN_Controls', 'ILMN_Controls', 'ILMN_Controls', 'ILMN_Controls', 'ILMN_Controls'], 'Search_Key': ['ERCC-00162', 'ERCC-00071', 'ERCC-00009', 'ERCC-00053', 'ERCC-00144'], 'ILMN_Gene': ['ERCC-00162', 'ERCC-00071', 'ERCC-00009', 'ERCC-00053', 'ERCC-00144'], 'Source_Reference_ID': ['ERCC-00162', 'ERCC-00071', 'ERCC-00009', 'ERCC-00053', 'ERCC-00144'], 'RefSeq_ID': [nan, nan, nan, nan, nan], 'Entrez_Gene_ID': [nan, nan, nan, nan, nan], 'GI': [nan, nan, nan, nan, nan], 'Accession': ['DQ516750', 'DQ883654', 'DQ668364', 'DQ516785', 'DQ854995'], 'Symbol': ['ERCC-00162', 'ERCC-00071', 'ERCC-00009', 'ERCC-00053', 'ERCC-00144'], 'Protein_Product': [nan, nan, nan, nan, nan], 'Array_Address_Id': [5270161.0, 4260594.0, 7610424.0, 5260356.0, 2030196.0], 'Probe_Type': ['S', 'S', 'S', 'S', 'S'], 'Probe_Start': [12.0, 224.0, 868.0, 873.0, 130.0], 'SEQUENCE': ['CCCATGTGTCCAATTCTGAATATCTTTCCAGCTAAGTGCTTCTGCCCACC', 'GGATTAACTGCTGTGGTGTGTCATACTCGGCTACCTCCTGGTTTGGCGTC', 'GACCACGCCTTGTAATCGTATGACACGCGCTTGACACGACTGAATCCAGC', 'CTGCAATGCCATTAACAACCTTAGCACGGTATTTCCAGTAGCTGGTGAGC', 'CGTGCAGACAGGGATCGTAAGGCGATCCAGCCGGTATACCTTAGTCACAT'], 'Chromosome': [nan, nan, nan, nan, nan], 'Probe_Chr_Orientation': [nan, nan, nan, nan, nan], 'Probe_Coordinates': [nan, nan, nan, nan, nan], 'Cytoband': [nan, nan, nan, nan, nan], 'Definition': ['Methanocaldococcus jannaschii spike-in control MJ-500-33 genomic sequence', 'Synthetic construct clone NISTag13 external RNA control sequence', 'Synthetic construct clone TagJ microarray control', 'Methanocaldococcus jannaschii spike-in control MJ-1000-68 genomic sequence', 'Synthetic construct clone AG006.1100 external RNA control sequence'], 'Ontology_Component': [nan, nan, nan, nan, nan], 'Ontology_Process': [nan, nan, nan, nan, nan], 'Ontology_Function': [nan, nan, nan, nan, nan], 'Synonyms': [nan, nan, nan, nan, nan], 'Obsolete_Probe_Id': [nan, nan, nan, nan, nan], 'GB_ACC': ['DQ516750', 'DQ883654', 'DQ668364', 'DQ516785', 'DQ854995']}\n"
     ]
    }
   ],
   "source": [
    "# 1. Use the 'get_gene_annotation' function from the library to get gene annotation data from the soft file.\n",
    "gene_annotation = get_gene_annotation(soft_file)\n",
    "\n",
    "# 2. Use the 'preview_df' function from the library to preview the data and print out the results.\n",
    "print(\"Gene annotation preview:\")\n",
    "print(preview_df(gene_annotation))\n"
   ]
  },
  {
   "cell_type": "markdown",
   "id": "0ddf94fa",
   "metadata": {},
   "source": [
    "### Step 6: Gene Identifier Mapping"
   ]
  },
  {
   "cell_type": "code",
   "execution_count": 7,
   "id": "0990322b",
   "metadata": {
    "execution": {
     "iopub.execute_input": "2024-06-12T09:59:17.069106Z",
     "iopub.status.busy": "2024-06-12T09:59:17.068972Z",
     "iopub.status.idle": "2024-06-12T09:59:17.173675Z",
     "shell.execute_reply": "2024-06-12T09:59:17.173267Z"
    }
   },
   "outputs": [],
   "source": [
    "# 1. Identify key names for identifiers and gene symbols\n",
    "identifier_key = 'ID'\n",
    "gene_symbol_key = 'Symbol'\n",
    "\n",
    "# 2. Get the dataframe storing the mapping between probe IDs and genes\n",
    "mapping_df = get_gene_mapping(gene_annotation, identifier_key, gene_symbol_key)\n",
    "\n",
    "# 3. Apply the mapping to obtain the resulting gene expression dataframe\n",
    "gene_data = apply_gene_mapping(gene_data, mapping_df)\n"
   ]
  },
  {
   "cell_type": "markdown",
   "id": "309b8d1f",
   "metadata": {},
   "source": [
    "### Step 7: Data Normalization and Merging"
   ]
  },
  {
   "cell_type": "code",
   "execution_count": 8,
   "id": "a975c76a",
   "metadata": {
    "execution": {
     "iopub.execute_input": "2024-06-12T09:59:17.175733Z",
     "iopub.status.busy": "2024-06-12T09:59:17.175592Z",
     "iopub.status.idle": "2024-06-12T10:00:08.240302Z",
     "shell.execute_reply": "2024-06-12T10:00:08.239885Z"
    }
   },
   "outputs": [
    {
     "name": "stdout",
     "output_type": "stream",
     "text": [
      "For the feature 'Ocular_Melanomas', the least common label is '1.0' with 17 occurrences. This represents 40.48% of the dataset.\n",
      "The distribution of the feature 'Ocular_Melanomas' in this dataset is fine.\n",
      "\n"
     ]
    }
   ],
   "source": [
    "# 1. Normalize the obtained gene data with the 'normalize_gene_symbols_in_index' function from the library.\n",
    "normalized_gene_data = normalize_gene_symbols_in_index(gene_data)\n",
    "gene_csv_path = './preprocessed/Ocular_Melanomas/gene_data/GSE60464.csv'\n",
    "normalized_gene_data.to_csv(gene_csv_path)\n",
    "\n",
    "# 2. Merge the clinical and genetic data with the 'geo_merge_clinical_genetic_data' function from the library.\n",
    "merged_data = geo_merge_clinical_genetic_data(selected_clinical_data, normalized_gene_data)\n",
    "\n",
    "# 3. Determine whether the trait and some demographic attributes in the data is severely biased, and remove biased attributes.\n",
    "trait_biased, unbiased_merged_data = judge_and_remove_biased_features(merged_data, 'Ocular_Melanomas')\n",
    "\n",
    "# 4. Save the cohort information.\n",
    "save_cohort_info('GSE60464', './preprocessed/Ocular_Melanomas/cohort_info.json', True, True, trait_biased, merged_data)\n",
    "\n",
    "if not trait_biased:\n",
    "    # 5. If the trait is not severely biased, save the merged data to a csv file.\n",
    "    csv_path = './preprocessed/Ocular_Melanomas/GSE60464.csv'\n",
    "    unbiased_merged_data.to_csv(csv_path)\n"
   ]
  }
 ],
 "metadata": {
  "language_info": {
   "codemirror_mode": {
    "name": "ipython",
    "version": 3
   },
   "file_extension": ".py",
   "mimetype": "text/x-python",
   "name": "python",
   "nbconvert_exporter": "python",
   "pygments_lexer": "ipython3",
   "version": "3.8.17"
  }
 },
 "nbformat": 4,
 "nbformat_minor": 5
}
