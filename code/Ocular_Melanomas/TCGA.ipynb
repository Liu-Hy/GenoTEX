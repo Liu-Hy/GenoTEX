{
 "cells": [
  {
   "cell_type": "code",
   "execution_count": 1,
   "id": "6b822861",
   "metadata": {
    "execution": {
     "iopub.execute_input": "2025-03-25T05:58:45.676411Z",
     "iopub.status.busy": "2025-03-25T05:58:45.676296Z",
     "iopub.status.idle": "2025-03-25T05:58:45.837045Z",
     "shell.execute_reply": "2025-03-25T05:58:45.836682Z"
    }
   },
   "outputs": [],
   "source": [
    "import sys\n",
    "import os\n",
    "sys.path.append(os.path.abspath(os.path.join(os.getcwd(), '../..')))\n",
    "\n",
    "# Path Configuration\n",
    "from tools.preprocess import *\n",
    "\n",
    "# Processing context\n",
    "trait = \"Ocular_Melanomas\"\n",
    "\n",
    "# Input paths\n",
    "tcga_root_dir = \"../../input/TCGA\"\n",
    "\n",
    "# Output paths\n",
    "out_data_file = \"../../output/preprocess/Ocular_Melanomas/TCGA.csv\"\n",
    "out_gene_data_file = \"../../output/preprocess/Ocular_Melanomas/gene_data/TCGA.csv\"\n",
    "out_clinical_data_file = \"../../output/preprocess/Ocular_Melanomas/clinical_data/TCGA.csv\"\n",
    "json_path = \"../../output/preprocess/Ocular_Melanomas/cohort_info.json\"\n"
   ]
  },
  {
   "cell_type": "markdown",
   "id": "1bb25ee1",
   "metadata": {},
   "source": [
    "### Step 1: Initial Data Loading"
   ]
  },
  {
   "cell_type": "code",
   "execution_count": 2,
   "id": "3fd1158b",
   "metadata": {
    "execution": {
     "iopub.execute_input": "2025-03-25T05:58:45.838438Z",
     "iopub.status.busy": "2025-03-25T05:58:45.838297Z",
     "iopub.status.idle": "2025-03-25T05:58:46.062352Z",
     "shell.execute_reply": "2025-03-25T05:58:46.061778Z"
    }
   },
   "outputs": [
    {
     "name": "stdout",
     "output_type": "stream",
     "text": [
      "Available TCGA directories:\n",
      "['TCGA_Liver_Cancer_(LIHC)', 'TCGA_Lower_Grade_Glioma_(LGG)', 'TCGA_lower_grade_glioma_and_glioblastoma_(GBMLGG)', 'TCGA_Lung_Adenocarcinoma_(LUAD)', 'TCGA_Lung_Cancer_(LUNG)', 'TCGA_Lung_Squamous_Cell_Carcinoma_(LUSC)', 'TCGA_Melanoma_(SKCM)', 'TCGA_Mesothelioma_(MESO)', 'TCGA_Ocular_melanomas_(UVM)', 'TCGA_Ovarian_Cancer_(OV)', 'TCGA_Pancreatic_Cancer_(PAAD)', 'TCGA_Pheochromocytoma_Paraganglioma_(PCPG)', 'TCGA_Prostate_Cancer_(PRAD)', 'TCGA_Rectal_Cancer_(READ)', 'TCGA_Sarcoma_(SARC)', 'TCGA_Stomach_Cancer_(STAD)', 'TCGA_Testicular_Cancer_(TGCT)', 'TCGA_Thymoma_(THYM)', 'TCGA_Thyroid_Cancer_(THCA)', 'TCGA_Uterine_Carcinosarcoma_(UCS)', '.DS_Store', 'CrawlData.ipynb', 'TCGA_Acute_Myeloid_Leukemia_(LAML)', 'TCGA_Adrenocortical_Cancer_(ACC)', 'TCGA_Bile_Duct_Cancer_(CHOL)', 'TCGA_Bladder_Cancer_(BLCA)', 'TCGA_Breast_Cancer_(BRCA)', 'TCGA_Cervical_Cancer_(CESC)', 'TCGA_Colon_and_Rectal_Cancer_(COADREAD)', 'TCGA_Colon_Cancer_(COAD)', 'TCGA_Endometrioid_Cancer_(UCEC)', 'TCGA_Esophageal_Cancer_(ESCA)', 'TCGA_Glioblastoma_(GBM)', 'TCGA_Head_and_Neck_Cancer_(HNSC)', 'TCGA_Kidney_Chromophobe_(KICH)', 'TCGA_Kidney_Clear_Cell_Carcinoma_(KIRC)', 'TCGA_Kidney_Papillary_Cell_Carcinoma_(KIRP)', 'TCGA_Large_Bcell_Lymphoma_(DLBC)']\n"
     ]
    },
    {
     "name": "stdout",
     "output_type": "stream",
     "text": [
      "Clinical data columns:\n",
      "['_INTEGRATION', '_PATIENT', '_cohort', '_primary_disease', '_primary_site', 'additional_pharmaceutical_therapy', 'additional_radiation_therapy', 'age_at_initial_pathologic_diagnosis', 'bcr_followup_barcode', 'bcr_patient_barcode', 'bcr_sample_barcode', 'clinical_M', 'clinical_N', 'clinical_T', 'clinical_stage', 'cytogenetic_abnormality', 'days_to_birth', 'days_to_collection', 'days_to_death', 'days_to_initial_pathologic_diagnosis', 'days_to_last_followup', 'days_to_new_tumor_event_after_initial_treatment', 'extranocular_nodule_size', 'extrascleral_extension', 'extravascular_matrix_patterns', 'eye_color', 'form_completion_date', 'gender', 'gene_expression_profile', 'height', 'histological_type', 'history_of_neoadjuvant_treatment', 'icd_10', 'icd_o_3_histology', 'icd_o_3_site', 'informed_consent_verified', 'initial_pathologic_diagnosis_method', 'initial_weight', 'is_ffpe', 'lost_follow_up', 'metastatic_site', 'mitotic_count', 'new_neoplasm_event_occurrence_anatomic_site', 'new_neoplasm_event_type', 'new_neoplasm_occurrence_anatomic_site_text', 'new_tumor_event_additional_surgery_procedure', 'new_tumor_event_after_initial_treatment', 'oct_embedded', 'other_dx', 'other_metastatic_site', 'pathologic_M', 'pathologic_N', 'pathologic_T', 'pathologic_stage', 'pathology_report_file_name', 'patient_death_reason', 'patient_id', 'person_neoplasm_cancer_status', 'postoperative_rx_tx', 'radiation_therapy', 'sample_type', 'sample_type_id', 'system_version', 'tissue_prospective_collection_indicator', 'tissue_retrospective_collection_indicator', 'tissue_source_site', 'tumor_basal_diameter', 'tumor_basal_diameter_mx', 'tumor_infiltrating_lymphocytes', 'tumor_infiltrating_macrophages', 'tumor_morphology_percentage', 'tumor_shape_pathologic_clinical', 'tumor_thickness', 'tumor_thickness_measurement', 'tumor_tissue_site', 'vial_number', 'vital_status', 'weight', 'year_of_initial_pathologic_diagnosis', '_GENOMIC_ID_TCGA_UVM_mutation_bcgsc_gene', '_GENOMIC_ID_TCGA_UVM_gistic2thd', '_GENOMIC_ID_TCGA_UVM_exp_HiSeqV2_PANCAN', '_GENOMIC_ID_TCGA_UVM_miRNA_HiSeq', '_GENOMIC_ID_TCGA_UVM_PDMRNAseqCNV', '_GENOMIC_ID_TCGA_UVM_exp_HiSeqV2', '_GENOMIC_ID_TCGA_UVM_gistic2', '_GENOMIC_ID_TCGA_UVM_exp_HiSeqV2_percentile', '_GENOMIC_ID_TCGA_UVM_mutation_bcm_gene', '_GENOMIC_ID_TCGA_UVM_hMethyl450', '_GENOMIC_ID_TCGA_UVM_mutation_ucsc_maf_gene', '_GENOMIC_ID_TCGA_UVM_mutation_broad_gene', '_GENOMIC_ID_TCGA_UVM_RPPA', '_GENOMIC_ID_TCGA_UVM_exp_HiSeqV2_exon', '_GENOMIC_ID_TCGA_UVM_mutation_curated_broad_gene', '_GENOMIC_ID_TCGA_UVM_PDMRNAseq', '_GENOMIC_ID_data/public/TCGA/UVM/miRNA_HiSeq_gene']\n",
      "\n",
      "Clinical data shape: (80, 96)\n",
      "Genetic data shape: (20530, 80)\n"
     ]
    }
   ],
   "source": [
    "import os\n",
    "import pandas as pd\n",
    "\n",
    "# Review subdirectories to find the most relevant match for Mesothelioma\n",
    "all_dirs = os.listdir(tcga_root_dir)\n",
    "\n",
    "# Print all available directories for debugging\n",
    "print(\"Available TCGA directories:\")\n",
    "print(all_dirs)\n",
    "\n",
    "# Looking for directories related to our target trait\n",
    "trait_related_dirs = [d for d in all_dirs if trait.lower() in d.lower()]\n",
    "\n",
    "if len(trait_related_dirs) > 0:\n",
    "    # If we found related directories, choose the most specific one\n",
    "    selected_dir = trait_related_dirs[0]\n",
    "    selected_path = os.path.join(tcga_root_dir, selected_dir)\n",
    "    \n",
    "    # Get paths to the clinical and genetic data files\n",
    "    clinical_file_path, genetic_file_path = tcga_get_relevant_filepaths(selected_path)\n",
    "    \n",
    "    # Load the data files\n",
    "    clinical_data = pd.read_csv(clinical_file_path, index_col=0, sep='\\t')\n",
    "    genetic_data = pd.read_csv(genetic_file_path, index_col=0, sep='\\t')\n",
    "    \n",
    "    # Print the column names of the clinical data\n",
    "    print(\"Clinical data columns:\")\n",
    "    print(clinical_data.columns.tolist())\n",
    "    \n",
    "    # Also print basic information about both datasets\n",
    "    print(\"\\nClinical data shape:\", clinical_data.shape)\n",
    "    print(\"Genetic data shape:\", genetic_data.shape)\n",
    "    \n",
    "    # Set flags for validation\n",
    "    is_gene_available = genetic_data.shape[0] > 0\n",
    "    is_trait_available = clinical_data.shape[0] > 0\n",
    "else:\n",
    "    print(f\"No directories found related to {trait} in the TCGA dataset.\")\n",
    "    \n",
    "    # Mark this task as completed with no suitable directory found\n",
    "    is_gene_available = False\n",
    "    is_trait_available = False\n",
    "    validate_and_save_cohort_info(\n",
    "        is_final=False, \n",
    "        cohort=\"TCGA\", \n",
    "        info_path=json_path,\n",
    "        is_gene_available=is_gene_available,\n",
    "        is_trait_available=is_trait_available\n",
    "    )\n"
   ]
  },
  {
   "cell_type": "markdown",
   "id": "c61583d1",
   "metadata": {},
   "source": [
    "### Step 2: Find Candidate Demographic Features"
   ]
  },
  {
   "cell_type": "code",
   "execution_count": 3,
   "id": "2bcc177b",
   "metadata": {
    "execution": {
     "iopub.execute_input": "2025-03-25T05:58:46.063795Z",
     "iopub.status.busy": "2025-03-25T05:58:46.063672Z",
     "iopub.status.idle": "2025-03-25T05:58:46.071091Z",
     "shell.execute_reply": "2025-03-25T05:58:46.070580Z"
    }
   },
   "outputs": [
    {
     "name": "stdout",
     "output_type": "stream",
     "text": [
      "Age columns preview:\n",
      "{'age_at_initial_pathologic_diagnosis': [47, 56, 54, 51, 76], 'days_to_birth': [-17514, -20539, -19894, -18948, -28025]}\n",
      "Gender columns preview:\n",
      "{'gender': ['FEMALE', 'MALE', 'MALE', 'FEMALE', 'MALE']}\n"
     ]
    }
   ],
   "source": [
    "# Step 1: Identify candidate columns for age and gender\n",
    "candidate_age_cols = ['age_at_initial_pathologic_diagnosis', 'days_to_birth']\n",
    "candidate_gender_cols = ['gender']\n",
    "\n",
    "# Step 2: Extract and preview the candidate columns\n",
    "# First, need to load the clinical data\n",
    "cohort_dir = os.path.join(tcga_root_dir, 'TCGA_Ocular_melanomas_(UVM)')\n",
    "clinical_file_path, genetic_file_path = tcga_get_relevant_filepaths(cohort_dir)\n",
    "\n",
    "# Try different approaches to read the file\n",
    "try:\n",
    "    # First attempt with tab delimiter\n",
    "    clinical_df = pd.read_csv(clinical_file_path, index_col=0, sep='\\t')\n",
    "except:\n",
    "    try:\n",
    "        # Second attempt with comma delimiter\n",
    "        clinical_df = pd.read_csv(clinical_file_path, index_col=0, sep=',')\n",
    "    except:\n",
    "        # Last resort with flexible parser\n",
    "        clinical_df = pd.read_csv(clinical_file_path, index_col=0, sep=None, engine='python')\n",
    "\n",
    "# Extract and preview age columns\n",
    "if candidate_age_cols:\n",
    "    age_preview = {col: clinical_df[col].head(5).tolist() for col in candidate_age_cols if col in clinical_df.columns}\n",
    "    print(\"Age columns preview:\")\n",
    "    print(age_preview)\n",
    "\n",
    "# Extract and preview gender columns\n",
    "if candidate_gender_cols:\n",
    "    gender_preview = {col: clinical_df[col].head(5).tolist() for col in candidate_gender_cols if col in clinical_df.columns}\n",
    "    print(\"Gender columns preview:\")\n",
    "    print(gender_preview)\n"
   ]
  },
  {
   "cell_type": "markdown",
   "id": "e0d6bafc",
   "metadata": {},
   "source": [
    "### Step 3: Select Demographic Features"
   ]
  },
  {
   "cell_type": "code",
   "execution_count": 4,
   "id": "786c5018",
   "metadata": {
    "execution": {
     "iopub.execute_input": "2025-03-25T05:58:46.072439Z",
     "iopub.status.busy": "2025-03-25T05:58:46.072328Z",
     "iopub.status.idle": "2025-03-25T05:58:46.075223Z",
     "shell.execute_reply": "2025-03-25T05:58:46.074781Z"
    }
   },
   "outputs": [
    {
     "name": "stdout",
     "output_type": "stream",
     "text": [
      "Selected age column: age_at_initial_pathologic_diagnosis\n",
      "Selected gender column: gender\n"
     ]
    }
   ],
   "source": [
    "# Select demographic features for age and gender\n",
    "\n",
    "# Age column selection\n",
    "# Both columns seem to contain meaningful age data\n",
    "# 'age_at_initial_pathologic_diagnosis' provides the age directly in years\n",
    "# 'days_to_birth' provides age in negative days from birth (needs conversion)\n",
    "# For simplicity and directness, select 'age_at_initial_pathologic_diagnosis'\n",
    "age_col = 'age_at_initial_pathologic_diagnosis'\n",
    "\n",
    "# Gender column selection\n",
    "# Only one gender column is available and it contains meaningful data (MALE/FEMALE)\n",
    "gender_col = 'gender'\n",
    "\n",
    "# Print the selected columns\n",
    "print(f\"Selected age column: {age_col}\")\n",
    "print(f\"Selected gender column: {gender_col}\")\n"
   ]
  },
  {
   "cell_type": "markdown",
   "id": "c959e72e",
   "metadata": {},
   "source": [
    "### Step 4: Feature Engineering and Validation"
   ]
  },
  {
   "cell_type": "code",
   "execution_count": 5,
   "id": "e11f1c8d",
   "metadata": {
    "execution": {
     "iopub.execute_input": "2025-03-25T05:58:46.076316Z",
     "iopub.status.busy": "2025-03-25T05:58:46.076213Z",
     "iopub.status.idle": "2025-03-25T05:58:53.028164Z",
     "shell.execute_reply": "2025-03-25T05:58:53.027524Z"
    }
   },
   "outputs": [
    {
     "name": "stdout",
     "output_type": "stream",
     "text": [
      "Normalized gene data saved to ../../output/preprocess/Ocular_Melanomas/gene_data/TCGA.csv\n",
      "Gene data shape after normalization: (19848, 80)\n",
      "Linked data shape: (80, 19851)\n"
     ]
    },
    {
     "name": "stdout",
     "output_type": "stream",
     "text": [
      "Data shape after handling missing values: (80, 19851)\n",
      "Quartiles for 'Ocular_Melanomas':\n",
      "  25%: 1.0\n",
      "  50% (Median): 1.0\n",
      "  75%: 1.0\n",
      "Min: 1\n",
      "Max: 1\n",
      "The distribution of the feature 'Ocular_Melanomas' in this dataset is severely biased.\n",
      "\n",
      "Quartiles for 'Age':\n",
      "  25%: 51.0\n",
      "  50% (Median): 61.5\n",
      "  75%: 74.25\n",
      "Min: 22\n",
      "Max: 86\n",
      "The distribution of the feature 'Age' in this dataset is fine.\n",
      "\n",
      "For the feature 'Gender', the least common label is '0' with 35 occurrences. This represents 43.75% of the dataset.\n",
      "The distribution of the feature 'Gender' in this dataset is fine.\n",
      "\n",
      "A new JSON file was created at: ../../output/preprocess/Ocular_Melanomas/cohort_info.json\n",
      "Dataset not usable for analysis. Data not saved.\n"
     ]
    }
   ],
   "source": [
    "# Use the correct directory for Ocular Melanomas that was identified in earlier steps\n",
    "cohort_dir = os.path.join(tcga_root_dir, 'TCGA_Ocular_melanomas_(UVM)')\n",
    "\n",
    "# Reload the clinical and genetic data files\n",
    "clinical_file_path, genetic_file_path = tcga_get_relevant_filepaths(cohort_dir)\n",
    "clinical_df = pd.read_csv(clinical_file_path, index_col=0, sep='\\t')\n",
    "genetic_df = pd.read_csv(genetic_file_path, index_col=0, sep='\\t')\n",
    "\n",
    "# 1. Extract and standardize clinical features (trait, age, gender)\n",
    "selected_clinical_df = tcga_select_clinical_features(\n",
    "    clinical_df, \n",
    "    trait=trait, \n",
    "    age_col=age_col, \n",
    "    gender_col=gender_col\n",
    ")\n",
    "\n",
    "# 2. Normalize gene symbols in gene expression data\n",
    "normalized_gene_df = normalize_gene_symbols_in_index(genetic_df)\n",
    "\n",
    "# Save the normalized gene data\n",
    "os.makedirs(os.path.dirname(out_gene_data_file), exist_ok=True)\n",
    "normalized_gene_df.to_csv(out_gene_data_file)\n",
    "print(f\"Normalized gene data saved to {out_gene_data_file}\")\n",
    "print(f\"Gene data shape after normalization: {normalized_gene_df.shape}\")\n",
    "\n",
    "# 3. Link clinical and genetic data\n",
    "# Transpose the genetic data to have samples as rows\n",
    "genetic_df_t = normalized_gene_df.T\n",
    "# Ensure the indices match between datasets\n",
    "common_samples = list(set(genetic_df_t.index) & set(selected_clinical_df.index))\n",
    "genetic_df_filtered = genetic_df_t.loc[common_samples]\n",
    "clinical_df_filtered = selected_clinical_df.loc[common_samples]\n",
    "\n",
    "# Combine the datasets\n",
    "linked_data = pd.concat([clinical_df_filtered, genetic_df_filtered], axis=1)\n",
    "print(f\"Linked data shape: {linked_data.shape}\")\n",
    "\n",
    "# 4. Handle missing values in the linked data\n",
    "linked_data_cleaned = handle_missing_values(linked_data, trait)\n",
    "print(f\"Data shape after handling missing values: {linked_data_cleaned.shape}\")\n",
    "\n",
    "# 5. Determine if trait and demographic features are biased\n",
    "is_biased, linked_data_filtered = judge_and_remove_biased_features(linked_data_cleaned, trait)\n",
    "\n",
    "# 6. Validate data quality and save cohort information\n",
    "# First check if gene and trait data are available\n",
    "is_gene_available = linked_data_filtered.shape[1] > 3  # More columns than just trait, age, gender\n",
    "is_trait_available = trait in linked_data_filtered.columns\n",
    "\n",
    "# Second validation for saving metadata\n",
    "note = f\"Dataset contains {linked_data_filtered.shape[0]} samples and {linked_data_filtered.shape[1] - 3} genes after preprocessing.\"\n",
    "is_usable = validate_and_save_cohort_info(\n",
    "    is_final=True,\n",
    "    cohort=\"TCGA\",\n",
    "    info_path=json_path,\n",
    "    is_gene_available=is_gene_available,\n",
    "    is_trait_available=is_trait_available,\n",
    "    is_biased=is_biased,\n",
    "    df=linked_data_filtered,\n",
    "    note=note\n",
    ")\n",
    "\n",
    "# 7. Save the linked data if usable\n",
    "if is_usable:\n",
    "    os.makedirs(os.path.dirname(out_data_file), exist_ok=True)\n",
    "    linked_data_filtered.to_csv(out_data_file)\n",
    "    print(f\"Linked data saved to {out_data_file}\")\n",
    "    \n",
    "    # Also save the clinical data separately\n",
    "    os.makedirs(os.path.dirname(out_clinical_data_file), exist_ok=True)\n",
    "    clinical_cols = [col for col in linked_data_filtered.columns if col in [trait, 'Age', 'Gender']]\n",
    "    linked_data_filtered[clinical_cols].to_csv(out_clinical_data_file)\n",
    "    print(f\"Clinical data saved to {out_clinical_data_file}\")\n",
    "else:\n",
    "    print(\"Dataset not usable for analysis. Data not saved.\")"
   ]
  }
 ],
 "metadata": {
  "language_info": {
   "codemirror_mode": {
    "name": "ipython",
    "version": 3
   },
   "file_extension": ".py",
   "mimetype": "text/x-python",
   "name": "python",
   "nbconvert_exporter": "python",
   "pygments_lexer": "ipython3",
   "version": "3.10.16"
  }
 },
 "nbformat": 4,
 "nbformat_minor": 5
}
