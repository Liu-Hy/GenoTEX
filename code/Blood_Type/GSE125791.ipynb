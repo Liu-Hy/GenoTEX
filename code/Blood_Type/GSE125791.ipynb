{
 "cells": [
  {
   "cell_type": "code",
   "execution_count": 1,
   "id": "d9f78496",
   "metadata": {
    "execution": {
     "iopub.execute_input": "2024-06-12T10:17:31.427103Z",
     "iopub.status.busy": "2024-06-12T10:17:31.426595Z",
     "iopub.status.idle": "2024-06-12T10:17:31.433534Z",
     "shell.execute_reply": "2024-06-12T10:17:31.432985Z"
    }
   },
   "outputs": [],
   "source": [
    "\n",
    "import sys\n",
    "sys.path.append('/home/techt/Desktop/a4s')\n"
   ]
  },
  {
   "cell_type": "markdown",
   "id": "d0d062a0",
   "metadata": {},
   "source": [
    "### Step 1: Initial Data Loading"
   ]
  },
  {
   "cell_type": "code",
   "execution_count": 2,
   "id": "55743cfb",
   "metadata": {
    "execution": {
     "iopub.execute_input": "2024-06-12T10:17:31.435771Z",
     "iopub.status.busy": "2024-06-12T10:17:31.435568Z",
     "iopub.status.idle": "2024-06-12T10:17:31.828942Z",
     "shell.execute_reply": "2024-06-12T10:17:31.828564Z"
    }
   },
   "outputs": [
    {
     "name": "stdout",
     "output_type": "stream",
     "text": [
      "Background Information:\n",
      "!Series_title\t\"Molecular characterization of the microenvironment in CLL-like monoclonal B cell lymphocytosis and early stage chronic lymphocytic leukemia\"\n",
      "!Series_summary\t\"Several studies have demonstrated an impaired function of the microenvironment in chronic lymphocytic leukemia (CLL), contributing to immune evasion of tumor cells and disease progression. However, in CLL-like monoclonal B cell lymphocytosis (MBL) studies are scarce. Herein, a comprehensive characterization of the microenvironment in 59 MBL, 56 early stage CLL and 31 healthy controls was conducted. Gene expression arrays and qRT-PCR were performed on RNA from CD4+ peripheral blood cells; serum cytokines were measured by immunoassays and proteomic studies; and flow cytometry was applied to evaluate peripheral blood cytotoxic, Th1, exhausted and effector CD4+ T cells, besides monocytic CD14, CD4 and HLA-DR expression. MBL and early stage CLL showed a similar upregulation of cytotoxic and Th1-related genes, expanded perforin+ and CXCR3+ CD4+ T cells as well as PD1+ CD4+ T cells compared to controls. However, a strong inflammatory response was only identified in MBL: enhanced phagocytosis, pattern recognition receptors, IL8, HMGB1, TREM1 and acute response signaling pathways, along with increased levels of proinflammatory cytokines (remarkably IL8, IFN? and TNF?). Of note, this inflammatory drive was decreased in early stage CLL: diminished proinflammatory cytokines including IFN?, decreased IL8 signaling pathway and lower monocytic HLA-DR expression compared to MBL. Besides, this inflammation was especially reduced in IGHV mutated CLL, involving a decrease of the proinflammatory HMGB1 signaling pathway. These novel findings reveal a different pathophysiology between MBL and CLL, paving the way for the development of pre-emptive immunotherapies with optimal benefits at MBL and early stage CLL, before intense immune exhaustion.\"\n",
      "!Series_overall_design\t\"36 samples: CLL (n=14); CTRL (n=9); MBL (n=13)\"\n",
      "Sample Characteristics Dictionary:\n",
      "{0: ['tissue: Peripheral Blood'], 1: ['type: CLL', 'type: MBL', 'type: CTRL'], 2: ['batch: 1', 'batch: 2', 'batch: 3', 'batch: 4', 'batch: 5', 'batch: 6', 'batch: 9', 'batch: 7', 'batch: 8', 'batch: 10'], 3: ['Sex: m', 'Sex: f'], 4: ['age: 88', 'age: 78', 'age: 72', 'age: 62', 'age: 75', 'age: 73', 'age: 81', 'age: 80', 'age: 76', 'age: 70', 'age: 63', 'age: 83', 'age: 68', 'age: 66', 'age: 60', 'age: 59', 'age: 64', 'age: 82', 'age: 79', 'age: 69', 'age: 67']}\n"
     ]
    }
   ],
   "source": [
    "from utils.preprocess import *\n",
    "# 1. Identify the paths to the soft file and the matrix file\n",
    "cohort_dir = '/media/techt/DATA/GEO/Blood_Type/GSE125791'\n",
    "soft_file, matrix_file = geo_get_relevant_filepaths(cohort_dir)\n",
    "\n",
    "# 2. Read the matrix file to obtain background information and sample characteristics data\n",
    "background_prefixes = ['!Series_title', '!Series_summary', '!Series_overall_design']\n",
    "clinical_prefixes = ['!Sample_geo_accession', '!Sample_characteristics_ch1']\n",
    "background_info, clinical_data = get_background_and_clinical_data(matrix_file, background_prefixes, clinical_prefixes)\n",
    "\n",
    "# 3. Obtain the sample characteristics dictionary from the clinical dataframe\n",
    "sample_characteristics_dict = get_unique_values_by_row(clinical_data)\n",
    "\n",
    "# 4. Explicitly print out all the background information and the sample characteristics dictionary\n",
    "print(\"Background Information:\")\n",
    "print(background_info)\n",
    "print(\"Sample Characteristics Dictionary:\")\n",
    "print(sample_characteristics_dict)\n"
   ]
  },
  {
   "cell_type": "markdown",
   "id": "7d80222d",
   "metadata": {},
   "source": [
    "### Step 2: Dataset Analysis and Clinical Feature Extraction"
   ]
  },
  {
   "cell_type": "code",
   "execution_count": 3,
   "id": "b8b388af",
   "metadata": {
    "execution": {
     "iopub.execute_input": "2024-06-12T10:17:31.830762Z",
     "iopub.status.busy": "2024-06-12T10:17:31.830648Z",
     "iopub.status.idle": "2024-06-12T10:17:31.845109Z",
     "shell.execute_reply": "2024-06-12T10:17:31.844807Z"
    }
   },
   "outputs": [
    {
     "name": "stdout",
     "output_type": "stream",
     "text": [
      "{'GSM3581890': ['CLL', 88.0, 1], 'GSM3581891': ['MBL', 78.0, 0], 'GSM3581892': ['MBL', 72.0, 0], 'GSM3581893': ['MBL', 62.0, 0], 'GSM3581894': ['CLL', 75.0, 0], 'GSM3581895': ['CLL', 73.0, 1], 'GSM3581896': ['MBL', 81.0, 0], 'GSM3581897': ['CTRL', 80.0, 0], 'GSM3581898': ['MBL', 76.0, 0], 'GSM3581899': ['CTRL', 75.0, 0], 'GSM3581900': ['MBL', 70.0, 0], 'GSM3581901': ['MBL', 81.0, 1], 'GSM3581902': ['CTRL', 63.0, 1], 'GSM3581903': ['MBL', 83.0, 1], 'GSM3581904': ['CLL', 81.0, 1], 'GSM3581905': ['CTRL', 68.0, 0], 'GSM3581906': ['MBL', 66.0, 0], 'GSM3581907': ['MBL', 60.0, 1], 'GSM3581908': ['CLL', 81.0, 1], 'GSM3581909': ['CLL', 59.0, 1], 'GSM3581910': ['CLL', 75.0, 1], 'GSM3581911': ['CTRL', 75.0, 0], 'GSM3581912': ['CLL', 62.0, 1], 'GSM3581913': ['CLL', 70.0, 1], 'GSM3581914': ['CLL', 63.0, 0], 'GSM3581915': ['CTRL', 64.0, 0], 'GSM3581916': ['CTRL', 60.0, 1], 'GSM3581917': ['CLL', 78.0, 0], 'GSM3581918': ['MBL', 82.0, 1], 'GSM3581919': ['CTRL', 64.0, 0], 'GSM3581920': ['MBL', 79.0, 0], 'GSM3581921': ['CLL', 69.0, 1], 'GSM3581922': ['CTRL', 62.0, 0], 'GSM3581923': ['MBL', 76.0, 0], 'GSM3581924': ['CLL', 67.0, 0], 'GSM3581925': ['CLL', 68.0, 1]}\n"
     ]
    }
   ],
   "source": [
    "is_gene_available = False\n",
    "trait_row = age_row = gender_row = None  # set to different values when applicable\n",
    "convert_trait = convert_age = convert_gender = None  # define the functions when applicable\n",
    "\n",
    "# Mock up for background_info just for clarity; this should come from Step 1 output.\n",
    "background_info = {\n",
    "    '!Series_title': \"Molecular characterization of the microenvironment in CLL-like monoclonal B cell lymphocytosis and early stage chronic lymphocytic leukemia\",\n",
    "    '!Series_summary': \"Several studies have demonstrated an impaired function of the microenvironment in chronic lymphocytic leukemia (CLL), contributing to immune evasion of tumor cells and disease progression...\",\n",
    "    '!Series_overall_design': \"36 samples: CLL (n=14); CTRL (n=9); MBL (n=13)\"\n",
    "}\n",
    "\n",
    "# Determine gene expression data availability\n",
    "if '!Series_title' in background_info and 'Gene expression' in background_info['!Series_summary']:\n",
    "    is_gene_available = True\n",
    "\n",
    "# Determine the availability of variables in 'Sample Characteristics Dictionary'\n",
    "sample_char_dict = {0: ['tissue: Peripheral Blood'], 1: ['type: CLL', 'type: MBL', 'type: CTRL'], 2: ['batch: 1', 'batch: 2', 'batch: 3', 'batch: 4', 'batch: 5', 'batch: 6', 'batch: 9', 'batch: 7', 'batch: 8', 'batch: 10'], 3: ['Sex: m', 'Sex: f'], 4: ['age: 88', 'age: 78', 'age: 72', 'age: 62', 'age: 75', 'age: 73', 'age: 81', 'age: 80', 'age: 76', 'age: 70', 'age: 63', 'age: 83', 'age: 68', 'age: 66', 'age: 60', 'age: 59', 'age: 64', 'age: 82', 'age: 79', 'age: 69', 'age: 67']}\n",
    "\n",
    "# Assign rows to variables if available and have multiple unique values\n",
    "if 1 in sample_char_dict and len(set(sample_char_dict[1])) > 1:\n",
    "    trait_row = 1  # For Blood_Type\n",
    "if 4 in sample_char_dict and len(set(sample_char_dict[4])) > 1:\n",
    "    age_row = 4  # For age\n",
    "if 3 in sample_char_dict and len(set(sample_char_dict[3])) > 1:\n",
    "    gender_row = 3  # For gender\n",
    "\n",
    "# Define conversion functions\n",
    "def convert_trait(value):\n",
    "    val = value.split(':')[-1].strip()\n",
    "    return val if val in ['CLL', 'MBL', 'CTRL'] else None\n",
    "\n",
    "def convert_age(value):\n",
    "    val = value.split(':')[-1].strip()\n",
    "    try:\n",
    "        return float(val)\n",
    "    except ValueError:\n",
    "        return None\n",
    "\n",
    "def convert_gender(value):\n",
    "    val = value.split(':')[-1].strip().lower()\n",
    "    if val == 'm':\n",
    "        return 1\n",
    "    elif val == 'f':\n",
    "        return 0\n",
    "    else:\n",
    "        return None\n",
    "\n",
    "# Save cohort information\n",
    "save_cohort_info('GSE125791', './preprocessed/Blood_Type/cohort_info.json', is_gene_available, trait_row is not None)\n",
    "\n",
    "# If clinical data is available, extract and save it\n",
    "if trait_row is not None:\n",
    "    selected_clinical_data = geo_select_clinical_features(clinical_data, 'Blood_Type', trait_row, convert_trait, age_row, convert_age, gender_row, convert_gender)\n",
    "    csv_path = './preprocessed/Blood_Type/trait_data/GSE125791.csv'\n",
    "    selected_clinical_data.to_csv(csv_path)\n",
    "    print(preview_df(selected_clinical_data))\n"
   ]
  }
 ],
 "metadata": {
  "language_info": {
   "codemirror_mode": {
    "name": "ipython",
    "version": 3
   },
   "file_extension": ".py",
   "mimetype": "text/x-python",
   "name": "python",
   "nbconvert_exporter": "python",
   "pygments_lexer": "ipython3",
   "version": "3.8.17"
  }
 },
 "nbformat": 4,
 "nbformat_minor": 5
}
