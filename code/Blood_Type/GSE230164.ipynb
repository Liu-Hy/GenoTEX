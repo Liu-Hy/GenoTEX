{
 "cells": [
  {
   "cell_type": "code",
   "execution_count": 1,
   "id": "4637065a",
   "metadata": {
    "execution": {
     "iopub.execute_input": "2024-06-12T10:17:37.591980Z",
     "iopub.status.busy": "2024-06-12T10:17:37.591818Z",
     "iopub.status.idle": "2024-06-12T10:17:37.597359Z",
     "shell.execute_reply": "2024-06-12T10:17:37.596905Z"
    }
   },
   "outputs": [],
   "source": [
    "\n",
    "import sys\n",
    "sys.path.append('/home/techt/Desktop/a4s')\n"
   ]
  },
  {
   "cell_type": "markdown",
   "id": "5047d57f",
   "metadata": {},
   "source": [
    "### Step 1: Initial Data Loading"
   ]
  },
  {
   "cell_type": "code",
   "execution_count": 2,
   "id": "ec557972",
   "metadata": {
    "execution": {
     "iopub.execute_input": "2024-06-12T10:17:37.599069Z",
     "iopub.status.busy": "2024-06-12T10:17:37.598947Z",
     "iopub.status.idle": "2024-06-12T10:17:38.109159Z",
     "shell.execute_reply": "2024-06-12T10:17:38.108530Z"
    }
   },
   "outputs": [
    {
     "name": "stdout",
     "output_type": "stream",
     "text": [
      "Background Information:\n",
      "!Series_title\t\"Gene expression profiling of asthma\"\n",
      "!Series_summary\t\"This SuperSeries is composed of the SubSeries listed below.\"\n",
      "!Series_overall_design\t\"Refer to individual Series\"\n",
      "Sample Characteristics Dictionary:\n",
      "{0: ['gender: female', 'gender: male']}\n"
     ]
    }
   ],
   "source": [
    "from utils.preprocess import *\n",
    "# 1. Identify the paths to the soft file and the matrix file\n",
    "cohort_dir = '/media/techt/DATA/GEO/Blood_Type/GSE230164'\n",
    "soft_file, matrix_file = geo_get_relevant_filepaths(cohort_dir)\n",
    "\n",
    "# 2. Read the matrix file to obtain background information and sample characteristics data\n",
    "background_prefixes = ['!Series_title', '!Series_summary', '!Series_overall_design']\n",
    "clinical_prefixes = ['!Sample_geo_accession', '!Sample_characteristics_ch1']\n",
    "background_info, clinical_data = get_background_and_clinical_data(matrix_file, background_prefixes, clinical_prefixes)\n",
    "\n",
    "# 3. Obtain the sample characteristics dictionary from the clinical dataframe\n",
    "sample_characteristics_dict = get_unique_values_by_row(clinical_data)\n",
    "\n",
    "# 4. Explicitly print out all the background information and the sample characteristics dictionary\n",
    "print(\"Background Information:\")\n",
    "print(background_info)\n",
    "print(\"Sample Characteristics Dictionary:\")\n",
    "print(sample_characteristics_dict)\n"
   ]
  },
  {
   "cell_type": "markdown",
   "id": "35baf4a6",
   "metadata": {},
   "source": [
    "### Step 2: Dataset Analysis and Clinical Feature Extraction"
   ]
  },
  {
   "cell_type": "code",
   "execution_count": 3,
   "id": "427377b6",
   "metadata": {
    "execution": {
     "iopub.execute_input": "2024-06-12T10:17:38.110958Z",
     "iopub.status.busy": "2024-06-12T10:17:38.110832Z",
     "iopub.status.idle": "2024-06-12T10:17:38.115173Z",
     "shell.execute_reply": "2024-06-12T10:17:38.114728Z"
    }
   },
   "outputs": [],
   "source": [
    "is_gene_available = False\n",
    "trait_row = age_row = gender_row = None  # set to different values when applicable\n",
    "convert_trait = convert_age = convert_gender = None  # define the functions when applicable\n",
    "\n",
    "# Determine if the dataset contains gene expression data\n",
    "series_title = \"Gene expression profiling of asthma\"\n",
    "if \"Gene expression profiling\" in series_title:\n",
    "    is_gene_available = True\n",
    "\n",
    "# Sample Characteristics Dictionary:\n",
    "sample_characteristics_dict = {\n",
    "    0: ['gender: female', 'gender: male']\n",
    "}\n",
    "\n",
    "# Variable Availability\n",
    "# Assuming no information is explicitly provided for Blood_Type and age in the characteristic dictionary \n",
    "# Based on given output only gender data is available\n",
    "\n",
    "# Gender data availability\n",
    "if 0 in sample_characteristics_dict and len(set(sample_characteristics_dict[0])) > 1:\n",
    "    gender_row = 0\n",
    "else:\n",
    "    gender_row = None\n",
    "\n",
    "# Define data conversion functions\n",
    "\n",
    "def convert_trait(value):\n",
    "    # Blood_Type data is not available\n",
    "    return None\n",
    "\n",
    "def convert_age(value):\n",
    "    # Age data is not available\n",
    "    return None\n",
    "\n",
    "def convert_gender(value):\n",
    "    try:\n",
    "        gender_value = value.split(':')[1].strip().lower()\n",
    "        if gender_value == 'female':\n",
    "            return 0\n",
    "        elif gender_value == 'male':\n",
    "            return 1\n",
    "    except IndexError:\n",
    "        pass\n",
    "    return None\n",
    "\n",
    "# Save metadata\n",
    "save_cohort_info('GSE230164', './preprocessed/Blood_Type/cohort_info.json', is_gene_available, trait_row is not None)\n"
   ]
  }
 ],
 "metadata": {
  "language_info": {
   "codemirror_mode": {
    "name": "ipython",
    "version": 3
   },
   "file_extension": ".py",
   "mimetype": "text/x-python",
   "name": "python",
   "nbconvert_exporter": "python",
   "pygments_lexer": "ipython3",
   "version": "3.8.17"
  }
 },
 "nbformat": 4,
 "nbformat_minor": 5
}
