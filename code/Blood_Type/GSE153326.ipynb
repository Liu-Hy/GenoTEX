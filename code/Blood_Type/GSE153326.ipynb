{
 "cells": [
  {
   "cell_type": "code",
   "execution_count": 1,
   "id": "a6813737",
   "metadata": {
    "execution": {
     "iopub.execute_input": "2024-06-12T10:17:30.261425Z",
     "iopub.status.busy": "2024-06-12T10:17:30.261212Z",
     "iopub.status.idle": "2024-06-12T10:17:30.264844Z",
     "shell.execute_reply": "2024-06-12T10:17:30.264585Z"
    }
   },
   "outputs": [],
   "source": [
    "\n",
    "import sys\n",
    "sys.path.append('/home/techt/Desktop/a4s')\n"
   ]
  },
  {
   "cell_type": "markdown",
   "id": "370d3f4d",
   "metadata": {},
   "source": [
    "### Step 1: Initial Data Loading"
   ]
  },
  {
   "cell_type": "code",
   "execution_count": 2,
   "id": "8f5520d6",
   "metadata": {
    "execution": {
     "iopub.execute_input": "2024-06-12T10:17:30.266326Z",
     "iopub.status.busy": "2024-06-12T10:17:30.266144Z",
     "iopub.status.idle": "2024-06-12T10:17:30.676944Z",
     "shell.execute_reply": "2024-06-12T10:17:30.676575Z"
    }
   },
   "outputs": [
    {
     "name": "stdout",
     "output_type": "stream",
     "text": [
      "Background Information:\n",
      "!Series_title\t\"Host transcriptional response to TB preventive therapy differentiates two sub-groups of IGRA-positive individuals: PAXgene ex vivo samples\"\n",
      "!Series_summary\t\"We hypothesized that individuals with immunological sensitization to Mycobacterium tuberculosis (Mtb), conventionally regarded as evidence of latent tuberculosis infection (LTBI), would demonstrate binary responses to preventive therapy. This would reflect the differential immunological consequences of the sterilization of viable infection in those with an active Mtb infection versus no Mtb killing in those who, despite T cell recognition of Mtb antigens, did not harbor viable Mtb bacilli.\"\n",
      "!Series_summary\t\"We investigated the  blood transcriptional profiles of 18 individuals with a positive IGRA result and known recent exposure to an index person with isoniazid and rifampicin susceptible pulmonary tuberculosis, at baseline, 2  weeks after initiating combined rifampicin/isoniazid (RH) preventive therapy and at treatment completion. Healthy control volunteers with no history of TB exposure and negative IGRA results were also included. RNA from unstimulated and M. tuberculosis peptide stimulated whole blood (from QuantiFERON TB1 and TB2 tubes) was measured using Agilent microarrays.\"\n",
      "!Series_summary\t\"A set of 474 genes showed the greatest interpersonal and temporal expression variability in antigen-stimulated blood. By performing longitudinal unsupervised clustering analysis with the subset of most variable genes, the IGRA+ participants were separated into two distinct groups. The IGRA-negative controls clustered within one of these groups suggesting that, in contrast to the other subgroup of IGRA+ individuals, RH had no discernible effect in this subgroup. 117 genes were significantly differentially expressed over time between these two groups, with the majority of them associated with immunological pathways known to be important in mycobacterial control. We contend that the different host RNA response reflects lack of Mtb viability in the group that clustered with the IGRA- unexposed healthy controls, and Mtb viability in the one that clustered away.\"\n",
      "!Series_summary\t\"Gene expression patterns in the blood of IGRA+ individuals emerging during the course of RH treatment which reflect Mtb viability could have major implications in the identification of risk of progression/reactivation, treatment stratification and clinical trials for LTBI therapy.\"\n",
      "!Series_overall_design\t\"Ex vivo blood. 22 donors (18 IGRA+; 4 IGRA- (healthy controls). All received LTBI preventive treatment. Blood collected at baseline and two weeks for all donors, and after 12-18 weeks for IGRA+ donors.\"\n",
      "Sample Characteristics Dictionary:\n",
      "{0: ['tissue: Blood'], 1: ['group: Healthy Control', 'group: IGRA+'], 2: ['timepoint: Week 0', 'timepoint: Week 2', 'timepoint: Week 12-18']}\n"
     ]
    }
   ],
   "source": [
    "from utils.preprocess import *\n",
    "# 1. Identify the paths to the soft file and the matrix file\n",
    "cohort_dir = '/media/techt/DATA/GEO/Blood_Type/GSE153326'\n",
    "soft_file, matrix_file = geo_get_relevant_filepaths(cohort_dir)\n",
    "\n",
    "# 2. Read the matrix file to obtain background information and sample characteristics data\n",
    "background_prefixes = ['!Series_title', '!Series_summary', '!Series_overall_design']\n",
    "clinical_prefixes = ['!Sample_geo_accession', '!Sample_characteristics_ch1']\n",
    "background_info, clinical_data = get_background_and_clinical_data(matrix_file, background_prefixes, clinical_prefixes)\n",
    "\n",
    "# 3. Obtain the sample characteristics dictionary from the clinical dataframe\n",
    "sample_characteristics_dict = get_unique_values_by_row(clinical_data)\n",
    "\n",
    "# 4. Explicitly print out all the background information and the sample characteristics dictionary\n",
    "print(\"Background Information:\")\n",
    "print(background_info)\n",
    "print(\"Sample Characteristics Dictionary:\")\n",
    "print(sample_characteristics_dict)\n"
   ]
  },
  {
   "cell_type": "markdown",
   "id": "63490aa0",
   "metadata": {},
   "source": [
    "### Step 2: Dataset Analysis and Clinical Feature Extraction"
   ]
  },
  {
   "cell_type": "code",
   "execution_count": 3,
   "id": "200a6910",
   "metadata": {
    "execution": {
     "iopub.execute_input": "2024-06-12T10:17:30.678548Z",
     "iopub.status.busy": "2024-06-12T10:17:30.678431Z",
     "iopub.status.idle": "2024-06-12T10:17:30.681518Z",
     "shell.execute_reply": "2024-06-12T10:17:30.681228Z"
    }
   },
   "outputs": [],
   "source": [
    "is_gene_available = False\n",
    "trait_row = age_row = gender_row = None  # set to different values when applicable\n",
    "convert_trait = convert_age = convert_gender = None  # define the functions when applicable\n",
    "\n",
    "# Step 1: Check gene expression data availability\n",
    "is_gene_available = True  # Based on the dataset description, it measures RNA from blood, making it gene expression data.\n",
    "\n",
    "# Step 2: Determine data availability and associated keys\n",
    "trait_row = None  # No information on 'Blood_Type' in the given sample characteristics\n",
    "age_row = None  # No information on 'age' in the given sample characteristics\n",
    "gender_row = None  # No information on 'gender' in the given sample characteristics\n",
    "\n",
    "# Since no specific rows for Blood_Type, age, or gender were found, functions to convert these values to appropriate types are not provided. \n",
    "# If they were found, here is an example of how conversion functions might be implemented:\n",
    "def convert_trait(val):\n",
    "    pass  # Placeholder since trait_row is None\n",
    "\n",
    "def convert_age(val):\n",
    "    pass  # Placeholder since age_row is None\n",
    "\n",
    "def convert_gender(val):\n",
    "    pass  # Placeholder since gender_row is None\n",
    "\n",
    "# Step 3: Save cohort information\n",
    "save_cohort_info('GSE153326', './preprocessed/Blood_Type/cohort_info.json', is_gene_available, trait_row is not None)\n",
    "\n",
    "# Step 4: Clinical Feature Extraction - Skip since trait_row is None\n"
   ]
  }
 ],
 "metadata": {
  "language_info": {
   "codemirror_mode": {
    "name": "ipython",
    "version": 3
   },
   "file_extension": ".py",
   "mimetype": "text/x-python",
   "name": "python",
   "nbconvert_exporter": "python",
   "pygments_lexer": "ipython3",
   "version": "3.8.17"
  }
 },
 "nbformat": 4,
 "nbformat_minor": 5
}
