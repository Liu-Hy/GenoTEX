{
 "cells": [
  {
   "cell_type": "code",
   "execution_count": 1,
   "id": "398c0a66",
   "metadata": {
    "execution": {
     "iopub.execute_input": "2024-06-12T10:17:36.535306Z",
     "iopub.status.busy": "2024-06-12T10:17:36.535096Z",
     "iopub.status.idle": "2024-06-12T10:17:36.542145Z",
     "shell.execute_reply": "2024-06-12T10:17:36.541568Z"
    }
   },
   "outputs": [],
   "source": [
    "\n",
    "import sys\n",
    "sys.path.append('/home/techt/Desktop/a4s')\n"
   ]
  },
  {
   "cell_type": "markdown",
   "id": "87d82ab2",
   "metadata": {},
   "source": [
    "### Step 1: Initial Data Loading"
   ]
  },
  {
   "cell_type": "code",
   "execution_count": 2,
   "id": "c39ff741",
   "metadata": {
    "execution": {
     "iopub.execute_input": "2024-06-12T10:17:36.544889Z",
     "iopub.status.busy": "2024-06-12T10:17:36.544513Z",
     "iopub.status.idle": "2024-06-12T10:17:36.864161Z",
     "shell.execute_reply": "2024-06-12T10:17:36.863526Z"
    }
   },
   "outputs": [
    {
     "name": "stdout",
     "output_type": "stream",
     "text": [
      "Background Information:\n",
      "!Series_title\t\"Blood exsosomal miRNAs of patients with normal livers and liver disease patients\"\n",
      "!Series_summary\t\"This SuperSeries is composed of the SubSeries listed below.\"\n",
      "!Series_overall_design\t\"Refer to individual Series\"\n",
      "Sample Characteristics Dictionary:\n",
      "{0: ['subject id: NL30', 'subject id: NL32', 'subject id: NL34', 'subject id: NL35', 'subject id: NL36', 'subject id: NL37', 'subject id: NL38', 'subject id: NL39', 'subject id: NL41', 'subject id: NL42', 'subject id: NL43', 'subject id: NL44', 'subject id: NL45', 'subject id: NL46', 'subject id: NL47', 'subject id: NL48', 'subject id: NL49', 'subject id: NL50', 'subject id: NL51', 'subject id: NL52', 'subject id: NL53', 'subject id: NL54', 'subject id: NL55', 'subject id: NL56', 'subject id: NL58', 'subject id: NL59', 'subject id: NL60', 'subject id: NL61', 'subject id: NL62', 'subject id: NL63'], 1: ['tissue: blood exosome', 'age: 80', 'age: 66', 'age: 39', 'age: 31', 'age: 68', 'age: 34', 'age: 63', 'age: 50', 'age: 62', 'age: 77', 'age: 73', 'age: 78', 'age: 45', 'age: 51', 'age: 71', 'age: 72', 'age: 75', 'age: 88', 'age: 67', 'age: 84', 'age: 83', 'age: 85', 'age: 64', 'age: 79', 'age: 69'], 2: ['extraction date: ND', 'extraction date: 2012-11-20', 'extraction date: 2012-11-15', 'extraction date: 2012-11-13', 'extraction date: 2012-11-08', 'extraction date: 2012-11-06', 'extraction date: 2012-11-01', 'extraction date: 2012-10-30', 'extraction date: 2012-10-02', 'extraction date: 2012-10-25', 'extraction date: 2012-10-23', 'extraction date: 2012-10-18', 'extraction date: 2012-10-16', 'extraction date: 2012-10-09', 'extraction date: 2012-09-27', 'extraction date: 2012-09-25', 'extraction date: 2012-09-13', 'extraction date: 2012-09-11', 'extraction date: 2012-09-04', 'extraction date: 2012-08-30', 'extraction date: 2012-08-28', 'extraction date: 2012-08-23', 'extraction date: 2012-08-21', 'extraction date: 2012-08-16', 'extraction date: 2012-08-02', 'extraction date: 2012-07-19', 'extraction date: 2012-07-05', 'extraction date: 2012-06-26', 'extraction date: 2012-06-12', 'extraction date: 2012-06-05'], 3: ['gender: female', 'gender: male', 'hbsag: (-)'], 4: ['age (yrs): 60', 'age (yrs): 84', 'age (yrs): 63', 'age (yrs): 76', 'age (yrs): 61', 'age (yrs): 69', 'age (yrs): 56', 'age (yrs): 83', 'age (yrs): 79', 'age (yrs): 75', 'age (yrs): 17', 'age (yrs): 85', 'age (yrs): 67', 'age (yrs): 58', 'age (yrs): 64', 'age (yrs): 51', 'age (yrs): 74', 'age (yrs): 50', 'age (yrs): 65', 'age (yrs): 68', 'age (yrs): 70', 'age (yrs): 59', 'age (yrs): 54', 'age (yrs): 77', 'age (yrs): 48', 'age (yrs): 71', 'age (yrs): 73', 'age (yrs): 26', 'age (yrs): 78', 'age (yrs): 87'], 5: ['height (cm): 152', 'height (cm): 145', 'height (cm): 149', 'height (cm): 155', 'height (cm): 161', 'height (cm): 176', 'height (cm): 157', 'height (cm): 167', 'height (cm): 150', 'height (cm): 162', 'height (cm): 174', 'hbsag: (-)', 'height (cm): 151', 'height (cm): 171', 'height (cm): 147', 'height (cm): 169', 'height (cm): 159', 'height (cm): 153', 'height (cm): 168', 'height (cm): 154', 'height (cm): 158', 'height (cm): 143', 'height (cm): 160', 'height (cm): 140', 'height (cm): 175', 'height (cm): 144', 'height (cm): 148', 'height (cm): 156', 'height (cm): 164', 'height (cm): 165'], 6: ['weight (kg): 82', 'weight (kg): 43', 'weight (kg): 51', 'weight (kg): 70', 'weight (kg): 66', 'weight (kg): 56', 'weight (kg): 61', 'weight (kg): 75', 'weight (kg): 57', 'weight (kg): 72', 'weight (kg): 47', 'weight (kg): 50', 'weight (kg): 42', 'anti-hcv: (-)', 'weight (kg): 59', 'weight (kg): 65', 'weight (kg): 53', 'weight (kg): 36', 'weight (kg): 55', 'weight (kg): 48', 'weight (kg): 67', 'weight (kg): 60', 'weight (kg): 71', 'weight (kg): 80', 'weight (kg): 69', 'weight (kg): 54', 'weight (kg): 68', 'weight (kg): 38', 'weight (kg): 40', 'weight (kg): 49'], 7: ['bmi: 35.4916897507', 'bmi: 20.451843044', 'bmi: 22.971938201', 'bmi: 29.1363163371', 'bmi: 27.471383975', 'bmi: 24.2382271468', 'bmi: 23.5330427067', 'bmi: 24.2122933884', 'bmi: 23.124670372', 'bmi: 25.8166302126', 'bmi: 24.2568370987', 'bmi: 20.8888888889', 'bmi: 19.0519737845', 'bmi: 13.8723741577', 'bmi: 29.3333333333', 'ast: 29', 'bmi: 25.8760580676', 'bmi: 28.8888888889', 'bmi: 23.2445945353', 'bmi: 14.9843912591', 'bmi: 18.6666666667', 'bmi: 18.8092062515', 'bmi: 25.3333333333', 'bmi: 23.1385071035', 'bmi: 16.806134239', 'bmi: 19.777698667', 'bmi: 28.6214703746', 'bmi: 24.3417582863', 'bmi: 27.053802774', 'ast: 22'], 8: ['hbsag: (-)', 'alt: 33', 'alt: 22', 'alt: 25', 'alt: 9', 'alt: 12', 'alt: 14', 'alt: 13', 'alt: 31', 'ca19-9: 9', 'ca19-9: 8', 'ca19-9: 85', 'ca19-9: 82', 'ca19-9: 396', 'ca19-9: 1043', 'ca19-9: 54', 'ca19-9: 1170', 'ca19-9: 35456', 'ca19-9: 28', 'ca19-9: 5', 'ca19-9: 68', 'ca19-9: 6', 'ca19-9: 29', 'ca19-9: NT', 'ca19-9: 3', 'ca19-9: 25', 'ca19-9: 7', 'ca19-9: 15'], 9: ['anti-hcv: (-)', 'wbc: 6970', 'wbc: 4500', 'wbc: 4770', 'wbc: 7020', 'wbc: 5660', 'wbc: 3840', 'wbc: 6530', 'wbc: 7090', 'tissue: peripheral blood'], 10: ['ast: 13', 'ast: 27', 'ast: 18', 'ast: 33', 'ast: 22', 'ast: 25', 'ast: 26', 'ast: 19', 'ast: 16', 'ast: 28', 'plt: 23.1', 'ast: 21', 'ast: 24', 'ast: 14', 'ast: 36', 'ast: 31', 'ast: 39', 'ast: 17', 'plt: 18.4', 'ast: 23', 'plt: 25.9', 'ast: 9', 'ast: 29', 'plt: 20.8', 'ast: 15', 'ast: 30', 'ast: 32', 'plt: 30', 'plt: 28.6', 'plt: 21.7'], 11: ['alt: 15', 'alt: 23', 'alt: 26', 'alt: 29', 'alt: 41', 'alt: 20', 'alt: 13', 'alt: 21', 'alt: 12', 'alt: 30', 'alt: 17', 'alt: 10', 'alt: 27', 'alt: 11', 't_bil: 0.7', 'alt: 25', 'alt: 42', 'alt: 43', 'alt: 24', 't_bil: 1.6', 't_bil: 1', 'alt: 22', 't_bil: 0.5', 'alt: 18', 'alt: 36', 't_bil: 0.3', 't_bil: 0.6', 't_bil: 1.1', 'alt: 14', 'alt: 28'], 12: ['wbc: 6220', 'wbc: 5250', 'wbc: 5830', 'wbc: 6620', 'wbc: 6400', 'wbc: 5010', 'wbc: 4190', 'wbc: 3390', 'wbc: 5120', 'wbc: 14650', 'wbc: 5550', 'wbc: 8630', 'wbc: 6170', 'wbc: 6600', 'wbc: 6500', 'wbc: 7110', 'wbc: 5490', 'alp: 353', 'wbc: 7930', 'wbc: 3990', 'wbc: 9740', 'wbc: 5900', 'wbc: 3660', 'wbc: 7640', 'wbc: 3600', 'wbc: 7310', 'wbc: 5860', 'wbc: 3180', 'wbc: 3620', 'wbc: 5440'], 13: ['plt: 37.7', 'plt: 26.4', 'plt: 35.2', 'plt: 30.3', 'plt: 36.3', 'plt: 24', 'plt: 22', 'plt: 24.7', 'plt: 36.6', 'plt: 21.2', 'plt: 40.9', 'plt: 33.6', 'plt: 32.1', 'plt: 54.8', 'plt: 30.7', 'plt: 35.1', 'ggtp: 27', 'plt: 34.8', 'plt: 17.6', 'plt: 51.5', 'plt: 22.1', 'plt: 18.3', 'plt: 38.2', 'plt: 24.4', 'plt: 22.2', 'plt: 14.5', 'plt: 19.1', 'plt: 25.7', 'plt: 28.4', 'plt: 17.7'], 14: ['t_bil: 0.4', 't_bil: 1', 't_bil: 0.5', 't_bil: 0.6', 't_bil: 1.2', 't_bil: 0.8', 't_bil: 1.5', 't_bil: 0.3', 't_bil: 0.9', 'hb: 15.3', 't_bil: 0.7', 't_bil: 1.7', 't_bil: 0.2', 't_bil: 2.1', 'hb: 14.8', 'hb: 13.4', 't_bil: 1.3', 'hb: 12', 'hb: 11.8', 'hb: 14.3', 'hb: 17.6', 't_bil: 1.1', nan], 15: ['alp: 178', 'alp: 232', 'alp: 272', 'alp: 363', 'alp: 237', 'alp: 233', 'alp: 151', 'alp: 186', 'alp: 141', 'alp: 203', 'alp: 219', 'alp: 187', 'alp: 263', 'alp: 1802', 'alp: 283', 'alp: 253', 'alb: 4.4', 'alp: 226', 'alp: 175', 'alp: 479', 'alp: 180', 'alp: 224', 'alp: 216', 'alp: 188', 'alp: 356', 'alp: 213', 'alp: 181', 'alp: 318', 'alp: 278', 'alp: 122'], 16: ['ggtp: 25', 'ggtp: 23', 'ggtp: 36', 'ggtp: 32', 'ggtp: 37', 'ggtp: 18', 'ggtp: 20', 'ggtp: 11', 'ggtp: 16', 'ggtp: 13', 'ggtp: 31', 'ggtp: 15', 'ggtp: 423', 'ggtp: 22', 'ggtp: 28', 'bs: 116', 'ggtp: 43', 'ggtp: 116', 'ggtp: 26', 'ggtp: 30', 'ggtp: 39', 'ggtp: 54', 'ggtp: 93', 'bs: 110', 'ggtp: 55', 'bs: 107', 'ggtp: 170', 'bs: 112', 'ggtp: 21', 'ggtp: 52'], 17: ['hb: 13', 'hb: 13.5', 'hb: 14', 'hb: 15.8', 'hb: 14.5', 'hb: 13.7', 'hb: 13.8', 'hb: 11.8', 'hb: 13.4', 'hb: 8.1', 'hb: 13.2', 'hb: 7.5', 'hb: 13.3', 'hb: 14.7', 'hb: 14.3', 'tg: 95', 'hb: 12', 'hb: 12.7', 'hb: 11.6', 'hb: 15.5', 'hb: 13.6', 'hb: 12.1', 'hb: 15.3', 'tg: 38', 'tg: 119', 'hb: 15.1', 'tg: 79', 'hb: 9.5', 'hb: 14.2', 'hb: 11.5'], 18: ['alb: 4.1', 'alb: 4.3', 'alb: 4.2', 'alb: 4.6', 'alb: 4.4', 'alb: 4.7', 'alb: 4.5', 'alb: 4', 'alb: 4.8', 't_chol: 210', 'alb: 3.9', 'alb: 3.7', 't_chol: 172', 't_chol: 267', 't_chol: 198', 't_chol: 154', 't_chol: 235', 't_chol: 213', 'alb: 4.9', 't_chol: 253', nan], 19: ['bs: 108', 'bs: 111', 'bs: 97', 'bs: 116', 'bs: 115', 'tg: 161', 'bs: 102', 'bs: 158', 't_chol: 192', 'bs: 129', 'bs: 113', 'bs: 133', 'bs: 103', 'bs: 89', 'bs: 104', 'hba1c: 5', 'bs: 118', 'bs: 100', 'bs: 91', 'bs: 93', 'bs: 92', 'bs: 99', 'bs: 76', 'bs: 101', 'bs: 85', 'hba1c: 5.1', 'hba1c: 5.4', 'bs: 134', 'bs: 96', 'bs: 146'], 20: ['tg: 84', 'tg: 146', 't_chol: 214', 'tg: 197', 'tg: 244', 't_chol: 186', 'tg: 106', 'tg: 68', 'molecule subtype: microRNA', 't_chol: 216', 'tg: 202', 't_chol: 159', 't_chol: 266', 'tg: 124', 'tg: 75', 'tg: 69', 'tg: 59', 'tg: 55', 'tg: 107', 't_chol: 160', 'tg: 54', 'tg: 141', 'tg: 67', 'tg: 98', 'tg: 128', 'tg: 318', 'tg: 145', 'tg: 117', 'tg: 177', 'tg: 82'], 21: ['t_chol: 230', 't_chol: 174', 'molecule subtype: microRNA', 't_chol: 196', 't_chol: 179', 't_chol: 225', nan, 'hba1c: 5.3', 't_chol: 148', 'hba1c: 6.6', 'hba1c: 5.2', 't_chol: 218', 't_chol: 248', 't_chol: 183', 't_chol: 258', 't_chol: 203', 't_chol: 221', 't_chol: 209', 'hba1c: 4.5', 't_chol: 142', 't_chol: 199', 't_chol: 214', 't_chol: 155', 't_chol: 139', 't_chol: 204', 't_chol: 215', 't_chol: 182', 't_chol: 208', 't_chol: 201', 't_chol: 261'], 22: ['hba1c: 5.3', nan, 'hba1c: 5.4', 'hba1c: 5.2', 'hba1c: 4.9', 'hba1c: 6.2', 'molecule subtype: microRNA', 'hba1c: 5.7', 'hba1c: 4.8', 'hba1c: 5', 'hba1c: 5.6', 'hba1c: 4.5', 'hba1c: 5.1', 'hba1c: 6.7', 'hba1c: 6.3', 'hba1c: 4.7', 'hba1c: 5.8', 'hba1c: 5.5', 'hba1c: 4.3', 'hba1c: 5.9', 'hba1c: 4.6'], 23: ['molecule subtype: microRNA', nan]}\n"
     ]
    }
   ],
   "source": [
    "from utils.preprocess import *\n",
    "# 1. Identify the paths to the soft file and the matrix file\n",
    "cohort_dir = '/media/techt/DATA/GEO/Blood_Type/GSE82303'\n",
    "soft_file, matrix_file = geo_get_relevant_filepaths(cohort_dir)\n",
    "\n",
    "# 2. Read the matrix file to obtain background information and sample characteristics data\n",
    "background_prefixes = ['!Series_title', '!Series_summary', '!Series_overall_design']\n",
    "clinical_prefixes = ['!Sample_geo_accession', '!Sample_characteristics_ch1']\n",
    "background_info, clinical_data = get_background_and_clinical_data(matrix_file, background_prefixes, clinical_prefixes)\n",
    "\n",
    "# 3. Obtain the sample characteristics dictionary from the clinical dataframe\n",
    "sample_characteristics_dict = get_unique_values_by_row(clinical_data)\n",
    "\n",
    "# 4. Explicitly print out all the background information and the sample characteristics dictionary\n",
    "print(\"Background Information:\")\n",
    "print(background_info)\n",
    "print(\"Sample Characteristics Dictionary:\")\n",
    "print(sample_characteristics_dict)\n"
   ]
  },
  {
   "cell_type": "markdown",
   "id": "0e3ad385",
   "metadata": {},
   "source": [
    "### Step 2: Dataset Analysis and Clinical Feature Extraction"
   ]
  },
  {
   "cell_type": "code",
   "execution_count": 3,
   "id": "5b714ad2",
   "metadata": {
    "execution": {
     "iopub.execute_input": "2024-06-12T10:17:36.866588Z",
     "iopub.status.busy": "2024-06-12T10:17:36.866450Z",
     "iopub.status.idle": "2024-06-12T10:17:36.871889Z",
     "shell.execute_reply": "2024-06-12T10:17:36.871325Z"
    }
   },
   "outputs": [],
   "source": [
    "is_gene_available = False\n",
    "trait_row = age_row = gender_row = None  # set to different values when applicable\n",
    "convert_trait = convert_age = convert_gender = None  # define the functions when applicable\n",
    "\n",
    "# Explicitly set gene expression data availability for miRNA dataset.\n",
    "is_gene_available = False\n",
    "\n",
    "# Check availability of variables in the sample characteristics dictionary\n",
    "\n",
    "# Blood_Type availability and conversion (not available)\n",
    "trait_row = None\n",
    "\n",
    "# Age availability and conversion\n",
    "for key, values in sample_characteristics_dict.items():\n",
    "    if any(isinstance(value, str) and 'age' in value.lower() for value in values):\n",
    "        age_row = key\n",
    "        break\n",
    "\n",
    "# Gender availability and conversion\n",
    "for key, values in sample_characteristics_dict.items():\n",
    "    if any(isinstance(value, str) and 'gender' in value.lower() for value in values):\n",
    "        gender_row = key\n",
    "        break\n",
    "\n",
    "# Define data type conversion functions\n",
    "def convert_age(value):\n",
    "    try:\n",
    "        return float(value.split(':')[-1].strip())\n",
    "    except (ValueError, IndexError):\n",
    "        return None\n",
    "\n",
    "def convert_gender(value):\n",
    "    try:\n",
    "        val = value.split(':')[-1].strip().lower()\n",
    "        if val == 'female':\n",
    "            return 0\n",
    "        elif val == 'male':\n",
    "            return 1\n",
    "    except IndexError:\n",
    "        return None\n",
    "    return None\n",
    "\n",
    "# Save cohort information\n",
    "save_cohort_info('GSE82303', './preprocessed/Blood_Type/cohort_info.json', is_gene_available, trait_row is not None)\n",
    "\n",
    "# Clinical feature extraction if trait_row is available (Note: This will always be False here)\n",
    "if trait_row is not None: \n",
    "    selected_clinical_data = geo_select_clinical_features(clinical_data, 'Blood_Type', trait_row, convert_trait, age_row, convert_age, gender_row, convert_gender)\n",
    "    csv_path = './preprocessed/Blood_Type/trait_data/GSE82303.csv'\n",
    "    selected_clinical_data.to_csv(csv_path)\n",
    "    print(preview_df(selected_clinical_data))\n"
   ]
  }
 ],
 "metadata": {
  "language_info": {
   "codemirror_mode": {
    "name": "ipython",
    "version": 3
   },
   "file_extension": ".py",
   "mimetype": "text/x-python",
   "name": "python",
   "nbconvert_exporter": "python",
   "pygments_lexer": "ipython3",
   "version": "3.8.17"
  }
 },
 "nbformat": 4,
 "nbformat_minor": 5
}
