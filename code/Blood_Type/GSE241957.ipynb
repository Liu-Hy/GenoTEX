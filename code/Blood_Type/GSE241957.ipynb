{
 "cells": [
  {
   "cell_type": "code",
   "execution_count": 1,
   "id": "51d6fbfe",
   "metadata": {
    "execution": {
     "iopub.execute_input": "2024-06-12T10:17:35.459109Z",
     "iopub.status.busy": "2024-06-12T10:17:35.459005Z",
     "iopub.status.idle": "2024-06-12T10:17:35.462951Z",
     "shell.execute_reply": "2024-06-12T10:17:35.462673Z"
    }
   },
   "outputs": [],
   "source": [
    "\n",
    "import sys\n",
    "sys.path.append('/home/techt/Desktop/a4s')\n"
   ]
  },
  {
   "cell_type": "markdown",
   "id": "95f037d1",
   "metadata": {},
   "source": [
    "### Step 1: Initial Data Loading"
   ]
  },
  {
   "cell_type": "code",
   "execution_count": 2,
   "id": "17d52071",
   "metadata": {
    "execution": {
     "iopub.execute_input": "2024-06-12T10:17:35.464603Z",
     "iopub.status.busy": "2024-06-12T10:17:35.464505Z",
     "iopub.status.idle": "2024-06-12T10:17:35.689287Z",
     "shell.execute_reply": "2024-06-12T10:17:35.688895Z"
    }
   },
   "outputs": [
    {
     "name": "stdout",
     "output_type": "stream",
     "text": [
      "Background Information:\n",
      "!Series_title\t\"Analyzing Flow Cytometry or Targeted Gene Expression Data Influences Clinical Discoveries — Profiling Blood Samples of Pancreatic Ductal Adenocarcinoma Patients\"\n",
      "!Series_summary\t\"We investigated the immunological changes in the blood of pancreatic ductal adenocarcinoma patients treated with a single cycle of FOLFIRINOX chemotherapy combined with lipegfilgrastim. We compared the use of flow cytometry and targeted gene expression analysis to study these immunological changes in blood samples. Our findings showed that FFX-Lipeg treatment increased the number of neutrophils and monocytes. Interestingly, flow cytometry analysis revealed an increase in B and T cells after treatment, while targeted gene expression analysis indicated a decrease in the expression of B and T cell-specific genes. This suggests that different measurement techniques can influence observed immunological changes. Therefore, the careful selection of an appropriate technique is essential when studying treatment effects in PDAC patients.\"\n",
      "!Series_overall_design\t\"RNA was extracted from Tempus tubes (44 patients, before FFX-Lipeg n=44, after FFX-Lipeg n=44)\"\n",
      "Sample Characteristics Dictionary:\n",
      "{0: ['tissue: blood'], 1: ['patient diagnosis: Pancreatic Ductal Adenocarcinoma'], 2: ['age: 78', 'age: 61', 'age: 68', 'age: 70', 'age: 66', 'age: 74', 'age: 64', 'age: 49', 'age: 65', 'age: 75', 'age: 71', 'age: 76', 'age: 69', 'age: 58', 'age: 54', 'age: 77', 'age: 62', 'age: 55', 'age: 73', 'age: 47'], 3: ['gender: Male', 'gender: Female'], 4: ['smoking status: Never', 'smoking status: Former', 'smoking status: Current'], 5: ['alcohol status: Current', 'alcohol status: Never', 'alcohol status: Former'], 6: ['baseline ca19-9 (u/ml): 398', 'baseline ca19-9 (u/ml): 19474', 'baseline ca19-9 (u/ml): 66', 'baseline ca19-9 (u/ml): 4', 'baseline ca19-9 (u/ml): 106', 'baseline ca19-9 (u/ml): 1695', 'baseline ca19-9 (u/ml): 41', 'baseline ca19-9 (u/ml): 114', 'baseline ca19-9 (u/ml): 130', 'baseline ca19-9 (u/ml): 0', 'baseline ca19-9 (u/ml): 2', 'baseline ca19-9 (u/ml): 26459', 'baseline ca19-9 (u/ml): 11050', 'baseline ca19-9 (u/ml): 2000', 'baseline ca19-9 (u/ml): 33', 'baseline ca19-9 (u/ml): 314', 'baseline ca19-9 (u/ml): 320', 'baseline ca19-9 (u/ml): 512', 'baseline ca19-9 (u/ml): 1883', 'baseline ca19-9 (u/ml): 271', 'baseline ca19-9 (u/ml): 1331', 'baseline ca19-9 (u/ml): 587', 'baseline ca19-9 (u/ml): 29', 'baseline ca19-9 (u/ml): 17', 'baseline ca19-9 (u/ml): 310', 'baseline ca19-9 (u/ml): 216', 'baseline ca19-9 (u/ml): 8', 'baseline ca19-9 (u/ml): 286', 'baseline ca19-9 (u/ml): 2289', 'baseline ca19-9 (u/ml): 571'], 7: ['baseline cea (µg/l): 4.3', 'baseline cea (µg/l): 299.0', 'baseline cea (µg/l): 1.6', 'baseline cea (µg/l): 10.6', 'baseline cea (µg/l): 11.3', 'baseline cea (µg/l): 2.4', 'baseline cea (µg/l): 3.3', 'baseline cea (µg/l): 0.8', 'baseline cea (µg/l): 1.5', 'baseline cea (µg/l): 79.6', 'baseline cea (µg/l): 93.2', 'baseline cea (µg/l): 4.0', 'baseline cea (µg/l): 11.7', 'baseline cea (µg/l): 7.2', 'baseline cea (µg/l): 3.6', 'baseline cea (µg/l): 3.4', 'baseline cea (µg/l): 3.5', 'baseline cea (µg/l): 1.7', 'baseline cea (µg/l): 4.5', 'baseline cea (µg/l): 9.5', 'baseline cea (µg/l): 0.7', 'baseline cea (µg/l): 7.3', 'baseline cea (µg/l): 2.5', 'baseline cea (µg/l): 4.1', 'baseline cea (µg/l): 8.0', 'baseline cea (µg/l): 2.0', 'baseline cea (µg/l): 4.6', 'baseline cea (µg/l): 2.2', 'baseline cea (µg/l): 4.2', 'baseline cea (µg/l): 46.4'], 8: ['baseline sii: 1010', 'baseline sii: 1627', 'baseline sii: 1175', 'baseline sii: 789', 'baseline sii: 1070', 'baseline sii: 870', 'baseline sii: 765', 'baseline sii: 1179', 'baseline sii: 1135', 'baseline sii: 675', 'baseline sii: 503', 'baseline sii: 464', 'baseline sii: 7247', 'baseline sii: 881', 'baseline sii: 201', 'baseline sii: 899', 'baseline sii: 810', 'baseline sii: 2389', 'baseline sii: 502', 'baseline sii: 786', 'baseline sii: 1790', 'baseline sii: 403', 'baseline sii: 1732', 'baseline sii: 1393', 'baseline sii: 625', 'baseline sii: 960', 'baseline sii: 528', 'baseline sii: 2880', 'baseline sii: 875', 'baseline sii: 729'], 9: ['baseline nlr: 5.0', 'baseline nlr: 3.7', 'baseline nlr: 3.1', 'baseline nlr: 3.2', 'baseline nlr: 2.7', 'baseline nlr: 4.2', 'baseline nlr: 4.5', 'baseline nlr: 5.3', 'baseline nlr: 2.5', 'baseline nlr: 2.1', 'baseline nlr: 4.4', 'baseline nlr: 19.8', 'baseline nlr: 2.8', 'baseline nlr: 1.2', 'baseline nlr: 4.3', 'baseline nlr: 2.2', 'baseline nlr: 8.4', 'baseline nlr: 1.7', 'baseline nlr: 4.1', 'baseline nlr: 3.5', 'baseline nlr: 2.9', 'baseline nlr: 4.8', 'baseline nlr: 3.3', 'baseline nlr: 3.0', 'baseline nlr: 9.1', 'baseline nlr: 2.4', 'baseline nlr: 3.9', 'baseline nlr: 1.8', 'baseline nlr: 6.9', 'baseline nlr: 2.6'], 10: ['baseline bilirubin (micromol/l): 17', 'baseline bilirubin (micromol/l): 3', 'baseline bilirubin (micromol/l): 4', 'baseline bilirubin (micromol/l): 5', 'baseline bilirubin (micromol/l): 7', 'baseline bilirubin (micromol/l): 9', 'baseline bilirubin (micromol/l): 6', 'baseline bilirubin (micromol/l): 21', 'baseline bilirubin (micromol/l): 25', 'baseline bilirubin (micromol/l): 16', 'baseline bilirubin (micromol/l): 14', 'baseline bilirubin (micromol/l): 18', 'baseline bilirubin (micromol/l): 8', 'baseline bilirubin (micromol/l): 15', 'baseline bilirubin (micromol/l): 10', 'baseline bilirubin (micromol/l): 11', 'baseline bilirubin (micromol/l): 30', 'baseline bilirubin (micromol/l): 20', 'baseline bilirubin (micromol/l): 23', 'baseline bilirubin (micromol/l): 26'], 11: ['baseline crp (mg/l): 6.3', 'baseline crp (mg/l): 2.9', 'baseline crp (mg/l): 7.4', 'baseline crp (mg/l): 12.0', 'baseline crp (mg/l): 1.8', 'baseline crp (mg/l): 0.6', 'baseline crp (mg/l): 3.9', 'baseline crp (mg/l): 1.0', 'baseline crp (mg/l): 4.7', 'baseline crp (mg/l): 44.0', 'baseline crp (mg/l): 7.8', 'baseline crp (mg/l): 91.0', 'baseline crp (mg/l): 1.6', 'baseline crp (mg/l): 4.9', 'baseline crp (mg/l): 88.0', 'baseline crp (mg/l): 2.3', 'baseline crp (mg/l): 10.0', 'baseline crp (mg/l): 22.0', 'baseline crp (mg/l): 9.7', 'baseline crp (mg/l): 14.0', 'baseline crp (mg/l): 31.0', 'baseline crp (mg/l): 5.2', 'baseline crp (mg/l): 3.7', 'baseline crp (mg/l): 6.6', 'baseline crp (mg/l): 3.8', 'baseline crp (mg/l): 11.0', 'baseline crp (mg/l): 73.0', 'baseline crp (mg/l): 1.2', 'baseline crp (mg/l): 0.8', 'baseline crp (mg/l): 57.0'], 12: ['disease stage: Metastatic disease', 'disease stage: LAPC', 'disease stage: (borderline) Resectable'], 13: ['total cycles of folfirinox: 8', 'total cycles of folfirinox: 1', 'total cycles of folfirinox: 4', 'total cycles of folfirinox: 12', 'total cycles of folfirinox: 3', 'total cycles of folfirinox: 7', 'total cycles of folfirinox: 5', 'total cycles of folfirinox: 2'], 14: ['progression after 4 cycles (recist 1.1): Disease control', 'progression after 4 cycles (recist 1.1): No CT-scan evaluation', 'progression after 4 cycles (recist 1.1): Progressive disease'], 15: ['overall survival: 12', 'overall survival: 2', 'overall survival: 29', 'overall survival: 5', 'overall survival: 8', 'overall survival: 11', 'overall survival: 15', 'overall survival: 45', 'overall survival: 17', 'overall survival: 27', 'overall survival: 9', 'overall survival: 18', 'overall survival: 10', 'overall survival: 26', 'overall survival: 36', 'overall survival: 33', 'overall survival: 22', 'overall survival: 14', 'overall survival: 13', 'overall survival: 4', 'overall survival: 24', 'overall survival: 52']}\n"
     ]
    }
   ],
   "source": [
    "from utils.preprocess import *\n",
    "# 1. Identify the paths to the soft file and the matrix file\n",
    "cohort_dir = '/media/techt/DATA/GEO/Blood_Type/GSE241957'\n",
    "soft_file, matrix_file = geo_get_relevant_filepaths(cohort_dir)\n",
    "\n",
    "# 2. Read the matrix file to obtain background information and sample characteristics data\n",
    "background_prefixes = ['!Series_title', '!Series_summary', '!Series_overall_design']\n",
    "clinical_prefixes = ['!Sample_geo_accession', '!Sample_characteristics_ch1']\n",
    "background_info, clinical_data = get_background_and_clinical_data(matrix_file, background_prefixes, clinical_prefixes)\n",
    "\n",
    "# 3. Obtain the sample characteristics dictionary from the clinical dataframe\n",
    "sample_characteristics_dict = get_unique_values_by_row(clinical_data)\n",
    "\n",
    "# 4. Explicitly print out all the background information and the sample characteristics dictionary\n",
    "print(\"Background Information:\")\n",
    "print(background_info)\n",
    "print(\"Sample Characteristics Dictionary:\")\n",
    "print(sample_characteristics_dict)\n"
   ]
  },
  {
   "cell_type": "markdown",
   "id": "efeea2b3",
   "metadata": {},
   "source": [
    "### Step 2: Dataset Analysis and Clinical Feature Extraction"
   ]
  },
  {
   "cell_type": "code",
   "execution_count": 3,
   "id": "a22ab1b7",
   "metadata": {
    "execution": {
     "iopub.execute_input": "2024-06-12T10:17:35.691052Z",
     "iopub.status.busy": "2024-06-12T10:17:35.690941Z",
     "iopub.status.idle": "2024-06-12T10:17:35.694639Z",
     "shell.execute_reply": "2024-06-12T10:17:35.694353Z"
    }
   },
   "outputs": [],
   "source": [
    "is_gene_available = False\n",
    "trait_row = age_row = gender_row = None  # set to different values when applicable\n",
    "convert_trait = convert_age = convert_gender = None  # define the functions when applicable\n",
    "\n",
    "# Checking if gene expression data is available\n",
    "# Since the series mentions \"targeted gene expression analysis,\" it is likely to contain gene expression data.\n",
    "is_gene_available = True\n",
    "\n",
    "# Checking variable availability\n",
    "# Blood_Type data is not explicitly mentioned; thus, it's not available.\n",
    "trait_row = None\n",
    "\n",
    "# Age data is found in row 2\n",
    "age_row = 2\n",
    "\n",
    "# Gender data is found in row 3\n",
    "gender_row = 3\n",
    "\n",
    "# Define conversion functions\n",
    "def extract_value(cell):\n",
    "    return cell.split(':')[-1].strip()\n",
    "\n",
    "def convert_age(value):\n",
    "    try:\n",
    "        return int(extract_value(value))\n",
    "    except ValueError:\n",
    "        return None\n",
    "\n",
    "def convert_gender(value):\n",
    "    gender_value = extract_value(value)\n",
    "    if gender_value.lower() == 'male':\n",
    "        return 1\n",
    "    elif gender_value.lower() == 'female':\n",
    "        return 0\n",
    "    else:\n",
    "        return None\n",
    "\n",
    "# Save cohort information\n",
    "save_cohort_info('GSE241957', './preprocessed/Blood_Type/cohort_info.json', is_gene_available, trait_row is not None)\n",
    "\n",
    "# Clinical feature extraction if trait_row is not None\n",
    "# Since trait_row is None, do not perform clinical feature extraction.\n"
   ]
  }
 ],
 "metadata": {
  "language_info": {
   "codemirror_mode": {
    "name": "ipython",
    "version": 3
   },
   "file_extension": ".py",
   "mimetype": "text/x-python",
   "name": "python",
   "nbconvert_exporter": "python",
   "pygments_lexer": "ipython3",
   "version": "3.8.17"
  }
 },
 "nbformat": 4,
 "nbformat_minor": 5
}
