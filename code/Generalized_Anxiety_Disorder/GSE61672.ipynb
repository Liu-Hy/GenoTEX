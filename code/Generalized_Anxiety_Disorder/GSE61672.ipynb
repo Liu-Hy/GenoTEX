{
 "cells": [
  {
   "cell_type": "code",
   "execution_count": 1,
   "id": "35c1c9f4",
   "metadata": {
    "execution": {
     "iopub.execute_input": "2024-06-12T07:03:56.849128Z",
     "iopub.status.busy": "2024-06-12T07:03:56.849010Z",
     "iopub.status.idle": "2024-06-12T07:03:56.852977Z",
     "shell.execute_reply": "2024-06-12T07:03:56.852454Z"
    }
   },
   "outputs": [],
   "source": [
    "\n",
    "import sys\n",
    "sys.path.append('/home/techt/Desktop/a4s')\n"
   ]
  },
  {
   "cell_type": "markdown",
   "id": "88d14a2d",
   "metadata": {},
   "source": [
    "### Step 1: Initial Data Loading"
   ]
  },
  {
   "cell_type": "code",
   "execution_count": 2,
   "id": "1eaa961f",
   "metadata": {
    "execution": {
     "iopub.execute_input": "2024-06-12T07:03:56.855084Z",
     "iopub.status.busy": "2024-06-12T07:03:56.854731Z",
     "iopub.status.idle": "2024-06-12T07:03:57.282543Z",
     "shell.execute_reply": "2024-06-12T07:03:57.282137Z"
    }
   },
   "outputs": [
    {
     "name": "stdout",
     "output_type": "stream",
     "text": [
      "Background Information:\n",
      "!Series_title\t\"Blood gene expression profiles associated with symptoms of generalized anxiety disorder\"\n",
      "!Series_summary\t\"Prospective epidemiological studies found that generalized anxiety disorder (GAD) can impair immune function and increase risk for cardiovascular disease or events. Mechanisms underlying the physiological reververations of anxiety, however, are still elusive. Hence, we aimed to investigate molecular processes mediating effects of anxiety on physical health using blood gene expression profiles of 546 community participants. Of these, 179 met the status of controls and 157 cases of anxiety.\"\n",
      "!Series_overall_design\t\"We examined genome-wide differential gene expression in anxiety, as well as associations between nine major modules of co-regulated transcripts in blood gene expression and anxiety. There were a total of 546 subjects.\"\n",
      "Sample Characteristics Dictionary:\n",
      "{0: ['age: 44', 'age: 59', 'age: 39', 'age: 64', 'age: 58', 'age: 45', 'age: 37', 'age: 40', 'age: 57', 'age: 52', 'age: 62', 'age: 55', 'age: 53', 'age: 47', 'age: 48', 'age: 49', 'age: 35', 'age: 46', 'age: 54', 'age: 67', 'age: 51', 'age: 34', 'age: 60', 'age: 41', 'age: 38', 'age: 73', 'age: 28', 'age: 56', 'age: 71', 'age: 50'], 1: ['Sex: F', 'Sex: M', 'body mass index: 25.1', 'body mass index: 31.1', 'body mass index: 29.4', 'body mass index: 27.6', 'body mass index: 24.6', 'body mass index: 28', 'body mass index: 33.9', 'body mass index: 35', 'body mass index: 18.1', 'body mass index: 19.2', 'body mass index: 39.2', 'body mass index: 26.8', 'body mass index: 21.3', 'body mass index: 36.5', 'body mass index: 19.5', 'body mass index: 24.4', 'body mass index: 26.4', 'body mass index: 26.2', 'body mass index: 23.8', 'body mass index: 19.7', 'body mass index: 30.6', 'body mass index: 22.8', 'body mass index: 22.1', 'body mass index: 33.4', 'body mass index: 26.6', 'body mass index: 21.8', 'body mass index: 24.3', 'body mass index: 27'], 2: ['body mass index: 22.2', 'body mass index: 33.1', 'body mass index: 22.4', 'body mass index: 20.6', 'body mass index: 27.5', 'body mass index: 21.9', 'body mass index: 26.1', 'body mass index: 34.8', 'body mass index: 20.8', 'body mass index: 23.3', 'body mass index: 22.7', 'body mass index: 26.4', 'body mass index: 32.5', 'body mass index: 21.6', 'body mass index: 27.6', 'body mass index: 25.7', 'body mass index: 33.3', 'body mass index: 31.6', 'body mass index: 28', 'body mass index: 41.1', 'body mass index: 19.7', 'body mass index: 22.1', 'body mass index: 20.7', 'body mass index: 30.9', 'body mass index: 17.8', 'body mass index: 22.5', 'body mass index: 40.6', 'body mass index: 28.9', 'body mass index: 26', 'body mass index: 22'], 3: ['ethnicity: CAU', 'ethnicity: AFR', 'ethnicity: ASN', 'ethnicity: AMI', 'ethnicity: CAH', 'gad7 score: 6', 'gad7 score: 1', 'gad7 score: 0', 'gad7 score: 2', 'gad7 score: 3', 'gad7 score: 5', 'gad7 score: 4', 'gad7 score: 9', 'gad7 score: 7', 'gad7 score: 8', 'hybridization batch: C', 'gad7 score: .', 'gad7 score: 16', 'gad7 score: 12', 'gad7 score: 11', 'gad7 score: 21', 'gad7 score: 18', 'gad7 score: 14'], 4: ['gad7 score: 2', 'gad7 score: 0', 'gad7 score: 3', 'gad7 score: 7', 'gad7 score: 4', 'gad7 score: 9', 'gad7 score: 1', 'gad7 score: 10', 'gad7 score: 5', 'gad7 score: 17', 'gad7 score: 6', 'gad7 score: 8', 'gad7 score: 12', 'gad7 score: 11', 'gad7 score: 14', 'gad7 score: .', 'hybridization batch: Z', 'gad7 score: 18', 'hybridization batch: O', 'gad7 score: 13', 'gad7 score: 15', 'gad7 score: 20', 'gad7 score: 21', 'gad7 score: 19', 'anxiety case/control: case', 'anxiety case/control: control', 'hybridization batch: B', nan, 'hybridization batch: C', 'hybridization batch: D'], 5: ['hybridization batch: Z', 'anxiety case/control: control', 'anxiety case/control: case', 'rin: 8.4', 'hybridization batch: A', 'hybridization batch: O', 'rin: 6', nan, 'hybridization batch: B', 'rin: 9.5', 'rin: 9.1', 'rin: 9.3', 'rin: 9.7', 'rin: 9.6', 'rin: 8.7', 'hybridization batch: C', 'rin: 8.6', 'rin: 7.9', 'rin: 7.3', 'rin: 7.1', 'rin: 8.9', 'rin: 9.8', 'rin: 9.4', 'rin: 9.2', 'rin: 8.8', 'rin: 10', 'rin: 9', 'rin: 9.9', 'hybridization batch: D'], 6: ['rin: 8.1', 'hybridization batch: Z', 'rin: 7.9', 'rin: 6.6', 'rin: 7.3', 'rin: 6.9', 'rin: 6.8', 'rin: 7.5', 'rin: 6.7', 'rin: 6.5', 'rin: 7.8', 'rin: 7.6', 'rin: 8', 'rin: 7.4', 'rin: 8.4', 'rin: 8.7', 'rin: 8.8', 'rin: 7.7', 'rin: 8.3', 'rin: 7', 'rin: 9', 'rin: 9.3', 'rin: 8.9', nan, 'rin: 8.2', 'rin: 9.2', 'rin: 7.2', 'rin: 7.1', 'hybridization batch: A', 'rin: 9.8'], 7: [nan, 'rin: 7.8', 'rin: 8.1', 'rin: 6.6', 'rin: 6.5', 'rin: 6.7', 'rin: 7.2', 'rin: 7.7', 'rin: 7.1', 'rin: 7', 'rin: 7.3', 'rin: 7.5', 'rin: 7.9', 'rin: 8.2', 'rin: 7.4', 'rin: 7.6', 'rin: 6.8', 'rin: 9.4', 'rin: 8.6', 'rin: 8.3', 'rin: 8.8', 'rin: 8', 'rin: 8.4', 'rin: 8.7', 'rin: 9', 'rin: 9.1', 'rin: 9.2', 'rin: 9.3', 'rin: 8.5', 'rin: 6.9']}\n"
     ]
    }
   ],
   "source": [
    "from utils.preprocess import *\n",
    "# 1. Identify the paths to the soft file and the matrix file\n",
    "cohort_dir = '/media/techt/DATA/GEO/Generalized_Anxiety_Disorder/GSE61672'\n",
    "soft_file, matrix_file = geo_get_relevant_filepaths(cohort_dir)\n",
    "\n",
    "# 2. Read the matrix file to obtain background information and sample characteristics data\n",
    "background_prefixes = ['!Series_title', '!Series_summary', '!Series_overall_design']\n",
    "clinical_prefixes = ['!Sample_geo_accession', '!Sample_characteristics_ch1']\n",
    "background_info, clinical_data = get_background_and_clinical_data(matrix_file, background_prefixes, clinical_prefixes)\n",
    "\n",
    "# 3. Obtain the sample characteristics dictionary from the clinical dataframe\n",
    "sample_characteristics_dict = get_unique_values_by_row(clinical_data)\n",
    "\n",
    "# 4. Explicitly print out all the background information and the sample characteristics dictionary\n",
    "print(\"Background Information:\")\n",
    "print(background_info)\n",
    "print(\"Sample Characteristics Dictionary:\")\n",
    "print(sample_characteristics_dict)\n"
   ]
  },
  {
   "cell_type": "markdown",
   "id": "15fadc37",
   "metadata": {},
   "source": [
    "### Step 2: Dataset Analysis and Clinical Feature Extraction"
   ]
  },
  {
   "cell_type": "code",
   "execution_count": 3,
   "id": "db280101",
   "metadata": {
    "execution": {
     "iopub.execute_input": "2024-06-12T07:03:57.284344Z",
     "iopub.status.busy": "2024-06-12T07:03:57.284232Z",
     "iopub.status.idle": "2024-06-12T07:03:57.452498Z",
     "shell.execute_reply": "2024-06-12T07:03:57.452090Z"
    }
   },
   "outputs": [
    {
     "name": "stdout",
     "output_type": "stream",
     "text": [
      "{'GSM1510561': [nan, 44.0, 0.0], 'GSM1510562': [nan, 59.0, 0.0], 'GSM1510563': [nan, 44.0, 0.0], 'GSM1510564': [nan, 39.0, 0.0], 'GSM1510565': [nan, 64.0, 0.0], 'GSM1510566': [nan, 58.0, 1.0], 'GSM1510567': [nan, 45.0, 1.0], 'GSM1510568': [nan, 37.0, 1.0], 'GSM1510569': [nan, 40.0, 1.0], 'GSM1510570': [nan, 39.0, 0.0], 'GSM1510571': [nan, 57.0, 1.0], 'GSM1510572': [nan, 52.0, 0.0], 'GSM1510573': [nan, 59.0, 0.0], 'GSM1510574': [nan, 57.0, 1.0], 'GSM1510575': [nan, 62.0, 0.0], 'GSM1510576': [nan, 62.0, 1.0], 'GSM1510577': [nan, 55.0, 0.0], 'GSM1510578': [nan, 55.0, 0.0], 'GSM1510579': [nan, 53.0, 1.0], 'GSM1510580': [nan, 47.0, 1.0], 'GSM1510581': [nan, 48.0, 0.0], 'GSM1510582': [nan, 49.0, 0.0], 'GSM1510583': [nan, 35.0, 1.0], 'GSM1510584': [nan, 58.0, 1.0], 'GSM1510585': [nan, 46.0, 0.0], 'GSM1510586': [nan, 54.0, 0.0], 'GSM1510587': [nan, 67.0, 1.0], 'GSM1510588': [nan, 47.0, 0.0], 'GSM1510589': [nan, 51.0, 0.0], 'GSM1510590': [nan, 34.0, 1.0], 'GSM1510591': [nan, 58.0, 1.0], 'GSM1510592': [nan, 58.0, 1.0], 'GSM1510593': [nan, 57.0, 0.0], 'GSM1510594': [nan, 64.0, 0.0], 'GSM1510595': [nan, 55.0, 0.0], 'GSM1510596': [nan, 60.0, 0.0], 'GSM1510597': [nan, 62.0, 1.0], 'GSM1510598': [nan, 41.0, 0.0], 'GSM1510599': [nan, 53.0, 1.0], 'GSM1510600': [nan, 47.0, 0.0], 'GSM1510601': [nan, 44.0, 1.0], 'GSM1510602': [nan, 53.0, 0.0], 'GSM1510603': [nan, 38.0, 1.0], 'GSM1510604': [nan, 54.0, 0.0], 'GSM1510605': [nan, 37.0, 0.0], 'GSM1510606': [nan, 44.0, 1.0], 'GSM1510607': [nan, 73.0, 0.0], 'GSM1510608': [nan, 28.0, 1.0], 'GSM1510609': [nan, 56.0, 0.0], 'GSM1510610': [nan, 34.0, 0.0], 'GSM1510611': [nan, 71.0, 1.0], 'GSM1510612': [nan, 41.0, 0.0], 'GSM1510613': [nan, 51.0, 1.0], 'GSM1510614': [nan, 47.0, 1.0], 'GSM1510615': [nan, 35.0, 0.0], 'GSM1510616': [nan, 45.0, 0.0], 'GSM1510617': [nan, 55.0, 0.0], 'GSM1510618': [nan, 50.0, 0.0], 'GSM1510619': [nan, 50.0, 0.0], 'GSM1510620': [nan, 55.0, 0.0], 'GSM1510621': [nan, 38.0, 0.0], 'GSM1510622': [nan, 57.0, 0.0], 'GSM1510623': [nan, 57.0, 0.0], 'GSM1510624': [nan, 57.0, 1.0], 'GSM1510625': [nan, 48.0, 0.0], 'GSM1510626': [nan, 52.0, 0.0], 'GSM1510627': [nan, 51.0, 0.0], 'GSM1510628': [nan, 42.0, 1.0], 'GSM1510629': [nan, 51.0, 0.0], 'GSM1510630': [nan, 51.0, 0.0], 'GSM1510631': [nan, 65.0, 0.0], 'GSM1510632': [nan, 31.0, 1.0], 'GSM1510633': [nan, 44.0, 1.0], 'GSM1510634': [nan, 50.0, 1.0], 'GSM1510635': [nan, 58.0, 0.0], 'GSM1510636': [nan, 64.0, 1.0], 'GSM1510637': [nan, 49.0, 0.0], 'GSM1510638': [nan, 52.0, 0.0], 'GSM1510639': [nan, 46.0, 0.0], 'GSM1510640': [nan, 53.0, 0.0], 'GSM1510641': [nan, 45.0, 0.0], 'GSM1510642': [nan, 32.0, 0.0], 'GSM1510643': [nan, 50.0, 0.0], 'GSM1510644': [nan, 63.0, 0.0], 'GSM1510645': [nan, 52.0, 1.0], 'GSM1510646': [nan, 54.0, 1.0], 'GSM1510647': [nan, 28.0, 0.0], 'GSM1510648': [nan, 55.0, 0.0], 'GSM1510649': [nan, 59.0, 0.0], 'GSM1510650': [nan, 56.0, 0.0], 'GSM1510651': [nan, 39.0, 0.0], 'GSM1510652': [nan, 46.0, 0.0], 'GSM1510653': [nan, 60.0, 1.0], 'GSM1510654': [nan, 61.0, 0.0], 'GSM1510655': [nan, 45.0, 0.0], 'GSM1510656': [nan, 44.0, 0.0], 'GSM1510657': [nan, 41.0, 0.0], 'GSM1510658': [nan, 56.0, 1.0], 'GSM1510659': [nan, 53.0, 1.0], 'GSM1510660': [nan, 50.0, 0.0], 'GSM1510661': [nan, 56.0, 0.0], 'GSM1510662': [nan, 78.0, 0.0], 'GSM1510663': [nan, 62.0, 0.0], 'GSM1510664': [nan, 47.0, 0.0], 'GSM1510665': [nan, 40.0, 0.0], 'GSM1510666': [nan, 63.0, 0.0], 'GSM1510667': [nan, 55.0, 1.0], 'GSM1510668': [nan, 55.0, 0.0], 'GSM1510669': [nan, 53.0, 1.0], 'GSM1510670': [nan, 34.0, 1.0], 'GSM1510671': [nan, 48.0, 0.0], 'GSM1510672': [nan, 46.0, 0.0], 'GSM1510673': [nan, 58.0, 1.0], 'GSM1510674': [nan, 52.0, 1.0], 'GSM1510675': [nan, 47.0, 0.0], 'GSM1510676': [nan, 62.0, 1.0], 'GSM1510677': [nan, 45.0, 0.0], 'GSM1510678': [nan, 51.0, 0.0], 'GSM1510679': [nan, 38.0, 1.0], 'GSM1510680': [nan, 38.0, 1.0], 'GSM1510681': [nan, 51.0, 0.0], 'GSM1510682': [nan, 59.0, 1.0], 'GSM1510683': [nan, 56.0, 1.0], 'GSM1510684': [nan, 39.0, 0.0], 'GSM1510685': [nan, 29.0, 0.0], 'GSM1510686': [nan, 58.0, 1.0], 'GSM1510687': [nan, 57.0, 0.0], 'GSM1510688': [nan, 45.0, 0.0], 'GSM1510689': [nan, 33.0, 0.0], 'GSM1510690': [nan, 46.0, 1.0], 'GSM1510691': [nan, 35.0, 0.0], 'GSM1510692': [nan, 57.0, 0.0], 'GSM1510693': [nan, 55.0, 0.0], 'GSM1510694': [nan, 66.0, 0.0], 'GSM1510695': [nan, 51.0, 1.0], 'GSM1510696': [nan, 59.0, 1.0], 'GSM1510697': [nan, 61.0, 0.0], 'GSM1510698': [nan, 56.0, 0.0], 'GSM1510699': [nan, 65.0, 0.0], 'GSM1510700': [nan, 37.0, 1.0], 'GSM1510701': [nan, 65.0, 0.0], 'GSM1510702': [nan, 45.0, 0.0], 'GSM1510703': [nan, 45.0, 0.0], 'GSM1510704': [nan, 74.0, 1.0], 'GSM1510705': [nan, 50.0, 0.0], 'GSM1510706': [nan, 39.0, 0.0], 'GSM1510707': [nan, 26.0, 1.0], 'GSM1510708': [nan, 44.0, 0.0], 'GSM1510709': [nan, 49.0, 0.0], 'GSM1510710': [nan, 52.0, 1.0], 'GSM1510711': [nan, 47.0, 0.0], 'GSM1510712': [nan, 37.0, 1.0], 'GSM1510713': [nan, 40.0, 1.0], 'GSM1510714': [nan, 39.0, 0.0], 'GSM1510715': [nan, 40.0, 0.0], 'GSM1510716': [nan, 31.0, 0.0], 'GSM1510717': [nan, 48.0, 0.0], 'GSM1510718': [nan, 59.0, 0.0], 'GSM1510719': [nan, 39.0, 0.0], 'GSM1510720': [nan, 37.0, 1.0], 'GSM1510721': [nan, 59.0, 0.0], 'GSM1510722': [nan, 54.0, 0.0], 'GSM1510723': [nan, 49.0, 1.0], 'GSM1510724': [nan, 57.0, 0.0], 'GSM1510725': [nan, 50.0, 0.0], 'GSM1510726': [nan, 55.0, 0.0], 'GSM1510727': [nan, 50.0, 1.0], 'GSM1510728': [nan, 68.0, 0.0], 'GSM1510729': [nan, 43.0, 0.0], 'GSM1510730': [nan, 67.0, 0.0], 'GSM1510731': [nan, 47.0, 1.0], 'GSM1510732': [nan, 45.0, 0.0], 'GSM1510733': [nan, 56.0, 1.0], 'GSM1510734': [nan, 62.0, 0.0], 'GSM1510735': [nan, 48.0, 1.0], 'GSM1510736': [nan, 39.0, 0.0], 'GSM1510737': [nan, 39.0, 1.0], 'GSM1510738': [nan, 41.0, 0.0], 'GSM1510739': [nan, 63.0, 0.0], 'GSM1510740': [nan, 51.0, 1.0], 'GSM1510741': [nan, 48.0, 0.0], 'GSM1510742': [nan, 50.0, 0.0], 'GSM1510743': [nan, 61.0, 0.0], 'GSM1510744': [nan, 35.0, 0.0], 'GSM1510745': [nan, 50.0, 0.0], 'GSM1510746': [nan, 52.0, 0.0], 'GSM1510747': [nan, 44.0, 0.0], 'GSM1510748': [nan, 45.0, 0.0], 'GSM1510749': [nan, 33.0, 0.0], 'GSM1510750': [nan, 61.0, 0.0], 'GSM1510751': [nan, 58.0, 1.0], 'GSM1510752': [nan, 38.0, 0.0], 'GSM1510753': [nan, 36.0, 0.0], 'GSM1510754': [nan, 50.0, 0.0], 'GSM1510755': [nan, 45.0, 0.0], 'GSM1510756': [nan, 60.0, 0.0], 'GSM1510757': [nan, 55.0, 0.0], 'GSM1510758': [nan, 53.0, 1.0], 'GSM1510759': [nan, 52.0, 0.0], 'GSM1510760': [nan, 47.0, 0.0]}\n"
     ]
    }
   ],
   "source": [
    "is_gene_available = True\n",
    "trait_row = 4\n",
    "age_row = 0\n",
    "gender_row = 1\n",
    "\n",
    "def convert_trait(value):\n",
    "    try:\n",
    "        value = value.split(\":\")[1].strip().lower()\n",
    "        if \"case\" in value:\n",
    "            return 1\n",
    "        elif \"control\" in value:\n",
    "            return 0\n",
    "    except (AttributeError, IndexError):\n",
    "        return None\n",
    "    return None\n",
    "\n",
    "def convert_age(value):\n",
    "    try:\n",
    "        return float(value.split(\":\")[1].strip())\n",
    "    except (ValueError, IndexError):\n",
    "        return None\n",
    "\n",
    "def convert_gender(value):\n",
    "    try:\n",
    "        if \"f\" in value.lower():\n",
    "            return 0\n",
    "        elif \"m\" in value.lower():\n",
    "            return 1\n",
    "    except AttributeError:\n",
    "        return None\n",
    "    return None\n",
    "\n",
    "# Save cohort information\n",
    "save_cohort_info('GSE61672', './preprocessed/Generalized_Anxiety_Disorder/cohort_info.json', is_gene_available, trait_row is not None)\n",
    "\n",
    "if trait_row is not None:\n",
    "    # Extract and save clinical features\n",
    "    selected_clinical_data = geo_select_clinical_features(clinical_data, 'Generalized_Anxiety_Disorder', trait_row, convert_trait, age_row, convert_age, gender_row, convert_gender)\n",
    "    csv_path = './preprocessed/Generalized_Anxiety_Disorder/trait_data/GSE61672.csv'\n",
    "    selected_clinical_data.to_csv(csv_path)\n",
    "    print(preview_df(selected_clinical_data))\n"
   ]
  },
  {
   "cell_type": "markdown",
   "id": "a3b402de",
   "metadata": {},
   "source": [
    "### Step 3: Gene Data Extraction"
   ]
  },
  {
   "cell_type": "code",
   "execution_count": 4,
   "id": "80a4ebca",
   "metadata": {
    "execution": {
     "iopub.execute_input": "2024-06-12T07:03:57.454257Z",
     "iopub.status.busy": "2024-06-12T07:03:57.454152Z",
     "iopub.status.idle": "2024-06-12T07:03:57.957594Z",
     "shell.execute_reply": "2024-06-12T07:03:57.957224Z"
    }
   },
   "outputs": [
    {
     "name": "stdout",
     "output_type": "stream",
     "text": [
      "Index(['ILMN_1343291', 'ILMN_1343295', 'ILMN_1651228', 'ILMN_1651229',\n",
      "       'ILMN_1651254', 'ILMN_1651262', 'ILMN_1651278', 'ILMN_1651296',\n",
      "       'ILMN_1651315', 'ILMN_1651316', 'ILMN_1651336', 'ILMN_1651346',\n",
      "       'ILMN_1651347', 'ILMN_1651354', 'ILMN_1651358', 'ILMN_1651364',\n",
      "       'ILMN_1651378', 'ILMN_1651385', 'ILMN_1651403', 'ILMN_1651405'],\n",
      "      dtype='object', name='ID')\n"
     ]
    }
   ],
   "source": [
    "# 1. Use the get_genetic_data function from the library to get the gene_data from the matrix_file previously defined.\n",
    "gene_data = get_genetic_data(matrix_file)\n",
    "\n",
    "# 2. Print the first 20 row ids for the following step.\n",
    "print(gene_data.index[:20])\n"
   ]
  },
  {
   "cell_type": "markdown",
   "id": "f930652c",
   "metadata": {},
   "source": [
    "### Step 4: Gene Identifier Review"
   ]
  },
  {
   "cell_type": "code",
   "execution_count": 5,
   "id": "97027e7d",
   "metadata": {
    "execution": {
     "iopub.execute_input": "2024-06-12T07:03:57.959435Z",
     "iopub.status.busy": "2024-06-12T07:03:57.959301Z",
     "iopub.status.idle": "2024-06-12T07:03:57.961431Z",
     "shell.execute_reply": "2024-06-12T07:03:57.961092Z"
    }
   },
   "outputs": [],
   "source": [
    "requires_gene_mapping = True\n"
   ]
  },
  {
   "cell_type": "markdown",
   "id": "e4157824",
   "metadata": {},
   "source": [
    "### Step 5: Gene Annotation (Conditional)"
   ]
  },
  {
   "cell_type": "code",
   "execution_count": 6,
   "id": "c6111181",
   "metadata": {
    "execution": {
     "iopub.execute_input": "2024-06-12T07:03:57.963643Z",
     "iopub.status.busy": "2024-06-12T07:03:57.963517Z",
     "iopub.status.idle": "2024-06-12T07:04:11.890595Z",
     "shell.execute_reply": "2024-06-12T07:04:11.890209Z"
    }
   },
   "outputs": [
    {
     "name": "stdout",
     "output_type": "stream",
     "text": [
      "Gene annotation preview:\n",
      "{'ID': ['ILMN_1343048', 'ILMN_1343049', 'ILMN_1343050', 'ILMN_1343052', 'ILMN_1343059'], 'Species': [nan, nan, nan, nan, nan], 'Source': [nan, nan, nan, nan, nan], 'Search_Key': [nan, nan, nan, nan, nan], 'Transcript': [nan, nan, nan, nan, nan], 'ILMN_Gene': [nan, nan, nan, nan, nan], 'Source_Reference_ID': [nan, nan, nan, nan, nan], 'RefSeq_ID': [nan, nan, nan, nan, nan], 'Unigene_ID': [nan, nan, nan, nan, nan], 'Entrez_Gene_ID': [nan, nan, nan, nan, nan], 'GI': [nan, nan, nan, nan, nan], 'Accession': [nan, nan, nan, nan, nan], 'Symbol': ['phage_lambda_genome', 'phage_lambda_genome', 'phage_lambda_genome:low', 'phage_lambda_genome:low', 'thrB'], 'Protein_Product': [nan, nan, nan, nan, 'thrB'], 'Probe_Id': [nan, nan, nan, nan, nan], 'Array_Address_Id': [5090180.0, 6510136.0, 7560739.0, 1450438.0, 1240647.0], 'Probe_Type': [nan, nan, nan, nan, nan], 'Probe_Start': [nan, nan, nan, nan, nan], 'SEQUENCE': ['GAATAAAGAACAATCTGCTGATGATCCCTCCGTGGATCTGATTCGTGTAA', 'CCATGTGATACGAGGGCGCGTAGTTTGCATTATCGTTTTTATCGTTTCAA', 'CCGACAGATGTATGTAAGGCCAACGTGCTCAAATCTTCATACAGAAAGAT', 'TCTGTCACTGTCAGGAAAGTGGTAAAACTGCAACTCAATTACTGCAATGC', 'CTTGTGCCTGAGCTGTCAAAAGTAGAGCACGTCGCCGAGATGAAGGGCGC'], 'Chromosome': [nan, nan, nan, nan, nan], 'Probe_Chr_Orientation': [nan, nan, nan, nan, nan], 'Probe_Coordinates': [nan, nan, nan, nan, nan], 'Cytoband': [nan, nan, nan, nan, nan], 'Definition': [nan, nan, nan, nan, nan], 'Ontology_Component': [nan, nan, nan, nan, nan], 'Ontology_Process': [nan, nan, nan, nan, nan], 'Ontology_Function': [nan, nan, nan, nan, nan], 'Synonyms': [nan, nan, nan, nan, nan], 'Obsolete_Probe_Id': [nan, nan, nan, nan, nan], 'GB_ACC': [nan, nan, nan, nan, nan]}\n"
     ]
    }
   ],
   "source": [
    "# 1. Use the 'get_gene_annotation' function from the library to get gene annotation data from the soft file.\n",
    "gene_annotation = get_gene_annotation(soft_file)\n",
    "\n",
    "# 2. Use the 'preview_df' function from the library to preview the data and print out the results.\n",
    "print(\"Gene annotation preview:\")\n",
    "print(preview_df(gene_annotation))\n"
   ]
  },
  {
   "cell_type": "markdown",
   "id": "cc982997",
   "metadata": {},
   "source": [
    "### Step 6: Gene Identifier Mapping"
   ]
  },
  {
   "cell_type": "code",
   "execution_count": 7,
   "id": "722ebee8",
   "metadata": {
    "execution": {
     "iopub.execute_input": "2024-06-12T07:04:11.892549Z",
     "iopub.status.busy": "2024-06-12T07:04:11.892408Z",
     "iopub.status.idle": "2024-06-12T07:04:12.707593Z",
     "shell.execute_reply": "2024-06-12T07:04:12.707158Z"
    }
   },
   "outputs": [],
   "source": [
    "# 1. Determine the keys for identifiers and gene symbols\n",
    "identifier_key = 'ID'\n",
    "gene_symbol_key = 'Symbol'\n",
    "\n",
    "# 2. Get the dataframe storing the mapping between probe IDs and genes\n",
    "mapping_df = get_gene_mapping(gene_annotation, identifier_key, gene_symbol_key)\n",
    "\n",
    "# 3. Apply the mapping to the gene data\n",
    "gene_data = apply_gene_mapping(gene_data, mapping_df)\n"
   ]
  },
  {
   "cell_type": "markdown",
   "id": "0553f07d",
   "metadata": {},
   "source": [
    "### Step 7: Data Normalization and Merging"
   ]
  },
  {
   "cell_type": "code",
   "execution_count": 8,
   "id": "72829426",
   "metadata": {
    "execution": {
     "iopub.execute_input": "2024-06-12T07:04:12.709736Z",
     "iopub.status.busy": "2024-06-12T07:04:12.709609Z",
     "iopub.status.idle": "2024-06-12T07:04:38.935290Z",
     "shell.execute_reply": "2024-06-12T07:04:38.934860Z"
    }
   },
   "outputs": [
    {
     "name": "stdout",
     "output_type": "stream",
     "text": [
      "For the feature 'Generalized_Anxiety_Disorder', the least common label is '1.0' with 62 occurrences. This represents 43.97% of the dataset.\n",
      "The distribution of the feature 'Generalized_Anxiety_Disorder' in this dataset is fine.\n",
      "\n",
      "Quartiles for 'Age':\n",
      "  25%: 41.0\n",
      "  50% (Median): 49.0\n",
      "  75%: 56.0\n",
      "Min: 18.0\n",
      "Max: 82.0\n",
      "The distribution of the feature 'Age' in this dataset is fine.\n",
      "\n",
      "For the feature 'Gender', the least common label is '1.0' with 141 occurrences. This represents 100.00% of the dataset.\n",
      "The distribution of the feature 'Gender' in this dataset is severely biased.\n",
      "\n",
      "A new JSON file was created at: ./preprocessed/Generalized_Anxiety_Disorder/cohort_info.json\n"
     ]
    }
   ],
   "source": [
    "# 1. Normalize the obtained gene data with the 'normalize_gene_symbols_in_index' function from the library.\n",
    "normalized_gene_data = normalize_gene_symbols_in_index(gene_data)\n",
    "gene_csv_path = './preprocessed/Generalized_Anxiety_Disorder/gene_data/GSE61672.csv'\n",
    "normalized_gene_data.to_csv(gene_csv_path)\n",
    "\n",
    "# 2. Merge the clinical and genetic data with the 'geo_merge_clinical_genetic_data' function from the library.\n",
    "merged_data = geo_merge_clinical_genetic_data(selected_clinical_data, normalized_gene_data)\n",
    "\n",
    "# 3. Determine whether the trait and some demographic attributes in the data is severely biased, and remove biased attributes.\n",
    "trait_biased, unbiased_merged_data = judge_and_remove_biased_features(merged_data, 'Generalized_Anxiety_Disorder')\n",
    "\n",
    "# If the trait is not severely biased, save the cohort information and the merged data.\n",
    "\n",
    "# 4. Save the cohort information.\n",
    "save_cohort_info('GSE61672', './preprocessed/Generalized_Anxiety_Disorder/cohort_info.json', True, True, trait_biased, unbiased_merged_data)\n",
    "\n",
    "if not trait_biased:\n",
    "    # 5. If the trait is not severely biased, save the merged data to a csv file.\n",
    "    csv_path = './preprocessed/Generalized_Anxiety_Disorder/GSE61672.csv'\n",
    "    unbiased_merged_data.to_csv(csv_path)\n"
   ]
  }
 ],
 "metadata": {
  "language_info": {
   "codemirror_mode": {
    "name": "ipython",
    "version": 3
   },
   "file_extension": ".py",
   "mimetype": "text/x-python",
   "name": "python",
   "nbconvert_exporter": "python",
   "pygments_lexer": "ipython3",
   "version": "3.8.17"
  }
 },
 "nbformat": 4,
 "nbformat_minor": 5
}
