{
 "cells": [
  {
   "cell_type": "code",
   "execution_count": 1,
   "id": "7c308b80",
   "metadata": {
    "execution": {
     "iopub.execute_input": "2025-03-25T05:18:47.607367Z",
     "iopub.status.busy": "2025-03-25T05:18:47.607148Z",
     "iopub.status.idle": "2025-03-25T05:18:47.778647Z",
     "shell.execute_reply": "2025-03-25T05:18:47.778273Z"
    }
   },
   "outputs": [],
   "source": [
    "import sys\n",
    "import os\n",
    "sys.path.append(os.path.abspath(os.path.join(os.getcwd(), '../..')))\n",
    "\n",
    "# Path Configuration\n",
    "from tools.preprocess import *\n",
    "\n",
    "# Processing context\n",
    "trait = \"Generalized_Anxiety_Disorder\"\n",
    "cohort = \"GSE61672\"\n",
    "\n",
    "# Input paths\n",
    "in_trait_dir = \"../../input/GEO/Generalized_Anxiety_Disorder\"\n",
    "in_cohort_dir = \"../../input/GEO/Generalized_Anxiety_Disorder/GSE61672\"\n",
    "\n",
    "# Output paths\n",
    "out_data_file = \"../../output/preprocess/Generalized_Anxiety_Disorder/GSE61672.csv\"\n",
    "out_gene_data_file = \"../../output/preprocess/Generalized_Anxiety_Disorder/gene_data/GSE61672.csv\"\n",
    "out_clinical_data_file = \"../../output/preprocess/Generalized_Anxiety_Disorder/clinical_data/GSE61672.csv\"\n",
    "json_path = \"../../output/preprocess/Generalized_Anxiety_Disorder/cohort_info.json\"\n"
   ]
  },
  {
   "cell_type": "markdown",
   "id": "df9f5f01",
   "metadata": {},
   "source": [
    "### Step 1: Initial Data Loading"
   ]
  },
  {
   "cell_type": "code",
   "execution_count": 2,
   "id": "c97707b4",
   "metadata": {
    "execution": {
     "iopub.execute_input": "2025-03-25T05:18:47.780163Z",
     "iopub.status.busy": "2025-03-25T05:18:47.780009Z",
     "iopub.status.idle": "2025-03-25T05:18:47.971895Z",
     "shell.execute_reply": "2025-03-25T05:18:47.971539Z"
    }
   },
   "outputs": [
    {
     "name": "stdout",
     "output_type": "stream",
     "text": [
      "Background Information:\n",
      "!Series_title\t\"Blood gene expression profiles associated with symptoms of generalized anxiety disorder\"\n",
      "!Series_summary\t\"Prospective epidemiological studies found that generalized anxiety disorder (GAD) can impair immune function and increase risk for cardiovascular disease or events. Mechanisms underlying the physiological reververations of anxiety, however, are still elusive. Hence, we aimed to investigate molecular processes mediating effects of anxiety on physical health using blood gene expression profiles of 546 community participants. Of these, 179 met the status of controls and 157 cases of anxiety.\"\n",
      "!Series_overall_design\t\"We examined genome-wide differential gene expression in anxiety, as well as associations between nine major modules of co-regulated transcripts in blood gene expression and anxiety. There were a total of 546 subjects.\"\n",
      "Sample Characteristics Dictionary:\n",
      "{0: ['age: 44', 'age: 59', 'age: 39', 'age: 64', 'age: 58', 'age: 45', 'age: 37', 'age: 40', 'age: 57', 'age: 52', 'age: 62', 'age: 55', 'age: 53', 'age: 47', 'age: 48', 'age: 49', 'age: 35', 'age: 46', 'age: 54', 'age: 67', 'age: 51', 'age: 34', 'age: 60', 'age: 41', 'age: 38', 'age: 73', 'age: 28', 'age: 56', 'age: 71', 'age: 50'], 1: ['Sex: F', 'Sex: M', 'body mass index: 25.1', 'body mass index: 31.1', 'body mass index: 29.4', 'body mass index: 27.6', 'body mass index: 24.6', 'body mass index: 28', 'body mass index: 33.9', 'body mass index: 35', 'body mass index: 18.1', 'body mass index: 19.2', 'body mass index: 39.2', 'body mass index: 26.8', 'body mass index: 21.3', 'body mass index: 36.5', 'body mass index: 19.5', 'body mass index: 24.4', 'body mass index: 26.4', 'body mass index: 26.2', 'body mass index: 23.8', 'body mass index: 19.7', 'body mass index: 30.6', 'body mass index: 22.8', 'body mass index: 22.1', 'body mass index: 33.4', 'body mass index: 26.6', 'body mass index: 21.8', 'body mass index: 24.3', 'body mass index: 27'], 2: ['body mass index: 22.2', 'body mass index: 33.1', 'body mass index: 22.4', 'body mass index: 20.6', 'body mass index: 27.5', 'body mass index: 21.9', 'body mass index: 26.1', 'body mass index: 34.8', 'body mass index: 20.8', 'body mass index: 23.3', 'body mass index: 22.7', 'body mass index: 26.4', 'body mass index: 32.5', 'body mass index: 21.6', 'body mass index: 27.6', 'body mass index: 25.7', 'body mass index: 33.3', 'body mass index: 31.6', 'body mass index: 28', 'body mass index: 41.1', 'body mass index: 19.7', 'body mass index: 22.1', 'body mass index: 20.7', 'body mass index: 30.9', 'body mass index: 17.8', 'body mass index: 22.5', 'body mass index: 40.6', 'body mass index: 28.9', 'body mass index: 26', 'body mass index: 22'], 3: ['ethnicity: CAU', 'ethnicity: AFR', 'ethnicity: ASN', 'ethnicity: AMI', 'ethnicity: CAH', 'gad7 score: 6', 'gad7 score: 1', 'gad7 score: 0', 'gad7 score: 2', 'gad7 score: 3', 'gad7 score: 5', 'gad7 score: 4', 'gad7 score: 9', 'gad7 score: 7', 'gad7 score: 8', 'hybridization batch: C', 'gad7 score: .', 'gad7 score: 16', 'gad7 score: 12', 'gad7 score: 11', 'gad7 score: 21', 'gad7 score: 18', 'gad7 score: 14'], 4: ['gad7 score: 2', 'gad7 score: 0', 'gad7 score: 3', 'gad7 score: 7', 'gad7 score: 4', 'gad7 score: 9', 'gad7 score: 1', 'gad7 score: 10', 'gad7 score: 5', 'gad7 score: 17', 'gad7 score: 6', 'gad7 score: 8', 'gad7 score: 12', 'gad7 score: 11', 'gad7 score: 14', 'gad7 score: .', 'hybridization batch: Z', 'gad7 score: 18', 'hybridization batch: O', 'gad7 score: 13', 'gad7 score: 15', 'gad7 score: 20', 'gad7 score: 21', 'gad7 score: 19', 'anxiety case/control: case', 'anxiety case/control: control', 'hybridization batch: B', nan, 'hybridization batch: C', 'hybridization batch: D'], 5: ['hybridization batch: Z', 'anxiety case/control: control', 'anxiety case/control: case', 'rin: 8.4', 'hybridization batch: A', 'hybridization batch: O', 'rin: 6', nan, 'hybridization batch: B', 'rin: 9.5', 'rin: 9.1', 'rin: 9.3', 'rin: 9.7', 'rin: 9.6', 'rin: 8.7', 'hybridization batch: C', 'rin: 8.6', 'rin: 7.9', 'rin: 7.3', 'rin: 7.1', 'rin: 8.9', 'rin: 9.8', 'rin: 9.4', 'rin: 9.2', 'rin: 8.8', 'rin: 10', 'rin: 9', 'rin: 9.9', 'hybridization batch: D'], 6: ['rin: 8.1', 'hybridization batch: Z', 'rin: 7.9', 'rin: 6.6', 'rin: 7.3', 'rin: 6.9', 'rin: 6.8', 'rin: 7.5', 'rin: 6.7', 'rin: 6.5', 'rin: 7.8', 'rin: 7.6', 'rin: 8', 'rin: 7.4', 'rin: 8.4', 'rin: 8.7', 'rin: 8.8', 'rin: 7.7', 'rin: 8.3', 'rin: 7', 'rin: 9', 'rin: 9.3', 'rin: 8.9', nan, 'rin: 8.2', 'rin: 9.2', 'rin: 7.2', 'rin: 7.1', 'hybridization batch: A', 'rin: 9.8'], 7: [nan, 'rin: 7.8', 'rin: 8.1', 'rin: 6.6', 'rin: 6.5', 'rin: 6.7', 'rin: 7.2', 'rin: 7.7', 'rin: 7.1', 'rin: 7', 'rin: 7.3', 'rin: 7.5', 'rin: 7.9', 'rin: 8.2', 'rin: 7.4', 'rin: 7.6', 'rin: 6.8', 'rin: 9.4', 'rin: 8.6', 'rin: 8.3', 'rin: 8.8', 'rin: 8', 'rin: 8.4', 'rin: 8.7', 'rin: 9', 'rin: 9.1', 'rin: 9.2', 'rin: 9.3', 'rin: 8.5', 'rin: 6.9']}\n"
     ]
    }
   ],
   "source": [
    "from tools.preprocess import *\n",
    "# 1. Identify the paths to the SOFT file and the matrix file\n",
    "soft_file, matrix_file = geo_get_relevant_filepaths(in_cohort_dir)\n",
    "\n",
    "# 2. Read the matrix file to obtain background information and sample characteristics data\n",
    "background_prefixes = ['!Series_title', '!Series_summary', '!Series_overall_design']\n",
    "clinical_prefixes = ['!Sample_geo_accession', '!Sample_characteristics_ch1']\n",
    "background_info, clinical_data = get_background_and_clinical_data(matrix_file, background_prefixes, clinical_prefixes)\n",
    "\n",
    "# 3. Obtain the sample characteristics dictionary from the clinical dataframe\n",
    "sample_characteristics_dict = get_unique_values_by_row(clinical_data)\n",
    "\n",
    "# 4. Explicitly print out all the background information and the sample characteristics dictionary\n",
    "print(\"Background Information:\")\n",
    "print(background_info)\n",
    "print(\"Sample Characteristics Dictionary:\")\n",
    "print(sample_characteristics_dict)\n"
   ]
  },
  {
   "cell_type": "markdown",
   "id": "dfd76ded",
   "metadata": {},
   "source": [
    "### Step 2: Dataset Analysis and Clinical Feature Extraction"
   ]
  },
  {
   "cell_type": "code",
   "execution_count": 3,
   "id": "c770f7ec",
   "metadata": {
    "execution": {
     "iopub.execute_input": "2025-03-25T05:18:47.973168Z",
     "iopub.status.busy": "2025-03-25T05:18:47.973045Z",
     "iopub.status.idle": "2025-03-25T05:18:47.978996Z",
     "shell.execute_reply": "2025-03-25T05:18:47.978684Z"
    }
   },
   "outputs": [
    {
     "name": "stdout",
     "output_type": "stream",
     "text": [
      "Clinical data file not found at: ../../input/GEO/Generalized_Anxiety_Disorder/GSE61672/clinical_data.csv\n",
      "Cannot proceed with clinical feature extraction.\n"
     ]
    }
   ],
   "source": [
    "# 1. Gene Expression Data Availability\n",
    "# Based on the background information, this is a study on blood gene expression \n",
    "# profiles related to generalized anxiety disorder. Since it mentions \"genome-wide \n",
    "# differential gene expression\" and \"blood gene expression profiles\", this dataset \n",
    "# likely contains gene expression data.\n",
    "is_gene_available = True\n",
    "\n",
    "# 2. Variable Availability and Data Type Conversion\n",
    "# 2.1 Data Availability\n",
    "# Examining the sample characteristics dictionary:\n",
    "\n",
    "# For trait (Generalized Anxiety Disorder):\n",
    "# Row 4 has 'anxiety case/control: case', 'anxiety case/control: control'\n",
    "# Row 5 also has 'anxiety case/control: control', 'anxiety case/control: case'\n",
    "# This is our trait data\n",
    "trait_row = 4  # or 5, but let's use 4 for consistency\n",
    "\n",
    "# For age:\n",
    "# Row 0 contains age information (e.g., 'age: 44', 'age: 59', etc.)\n",
    "age_row = 0\n",
    "\n",
    "# For gender:\n",
    "# Row 1 contains sex information ('Sex: F', 'Sex: M')\n",
    "gender_row = 1\n",
    "\n",
    "# 2.2 Data Type Conversion\n",
    "def convert_trait(value):\n",
    "    \"\"\"Convert anxiety case/control information to binary (0: control, 1: case)\"\"\"\n",
    "    if value is None or pd.isna(value):\n",
    "        return None\n",
    "    if ':' in value:\n",
    "        value = value.split(':', 1)[1].strip()\n",
    "    if value.lower() == 'case':\n",
    "        return 1\n",
    "    elif value.lower() == 'control':\n",
    "        return 0\n",
    "    return None\n",
    "\n",
    "def convert_age(value):\n",
    "    \"\"\"Convert age information to numeric (continuous) values\"\"\"\n",
    "    if value is None or pd.isna(value):\n",
    "        return None\n",
    "    if ':' in value:\n",
    "        value = value.split(':', 1)[1].strip()\n",
    "    try:\n",
    "        return float(value)\n",
    "    except ValueError:\n",
    "        return None\n",
    "\n",
    "def convert_gender(value):\n",
    "    \"\"\"Convert gender information to binary (0: female, 1: male)\"\"\"\n",
    "    if value is None or pd.isna(value):\n",
    "        return None\n",
    "    if ':' in value:\n",
    "        value = value.split(':', 1)[1].strip()\n",
    "    if value.upper() == 'F':\n",
    "        return 0\n",
    "    elif value.upper() == 'M':\n",
    "        return 1\n",
    "    return None\n",
    "\n",
    "# 3. Save Metadata\n",
    "# Determine trait data availability\n",
    "is_trait_available = trait_row is not None\n",
    "\n",
    "# Conduct initial filtering\n",
    "validate_and_save_cohort_info(\n",
    "    is_final=False,\n",
    "    cohort=cohort,\n",
    "    info_path=json_path,\n",
    "    is_gene_available=is_gene_available,\n",
    "    is_trait_available=is_trait_available\n",
    ")\n",
    "\n",
    "# 4. Clinical Feature Extraction\n",
    "# If trait_row is not None, extract clinical features\n",
    "if trait_row is not None:\n",
    "    try:\n",
    "        # First check if the clinical_data.csv file exists\n",
    "        if os.path.exists(f\"{in_cohort_dir}/clinical_data.csv\"):\n",
    "            clinical_data = pd.read_csv(f\"{in_cohort_dir}/clinical_data.csv\")\n",
    "            \n",
    "            # Extract clinical features\n",
    "            selected_clinical_df = geo_select_clinical_features(\n",
    "                clinical_df=clinical_data,\n",
    "                trait=trait,\n",
    "                trait_row=trait_row,\n",
    "                convert_trait=convert_trait,\n",
    "                age_row=age_row,\n",
    "                convert_age=convert_age,\n",
    "                gender_row=gender_row,\n",
    "                convert_gender=convert_gender\n",
    "            )\n",
    "            \n",
    "            # Preview the extracted data\n",
    "            preview = preview_df(selected_clinical_df)\n",
    "            print(\"Clinical Data Preview:\")\n",
    "            print(preview)\n",
    "            \n",
    "            # Save the extracted clinical data\n",
    "            os.makedirs(os.path.dirname(out_clinical_data_file), exist_ok=True)\n",
    "            selected_clinical_df.to_csv(out_clinical_data_file, index=False)\n",
    "            print(f\"Clinical data saved to: {out_clinical_data_file}\")\n",
    "        else:\n",
    "            print(f\"Clinical data file not found at: {in_cohort_dir}/clinical_data.csv\")\n",
    "            print(\"Cannot proceed with clinical feature extraction.\")\n",
    "    except Exception as e:\n",
    "        print(f\"Error during clinical data processing: {e}\")\n",
    "        print(\"Cannot proceed with clinical feature extraction.\")\n"
   ]
  },
  {
   "cell_type": "markdown",
   "id": "dbd20fbc",
   "metadata": {},
   "source": [
    "### Step 3: Gene Data Extraction"
   ]
  },
  {
   "cell_type": "code",
   "execution_count": 4,
   "id": "5a89d0f4",
   "metadata": {
    "execution": {
     "iopub.execute_input": "2025-03-25T05:18:47.980165Z",
     "iopub.status.busy": "2025-03-25T05:18:47.979952Z",
     "iopub.status.idle": "2025-03-25T05:18:48.416995Z",
     "shell.execute_reply": "2025-03-25T05:18:48.416623Z"
    }
   },
   "outputs": [
    {
     "name": "stdout",
     "output_type": "stream",
     "text": [
      "\n",
      "First 20 gene/probe identifiers:\n",
      "Index(['ILMN_1343291', 'ILMN_1343295', 'ILMN_1651228', 'ILMN_1651229',\n",
      "       'ILMN_1651254', 'ILMN_1651262', 'ILMN_1651278', 'ILMN_1651296',\n",
      "       'ILMN_1651315', 'ILMN_1651316', 'ILMN_1651336', 'ILMN_1651346',\n",
      "       'ILMN_1651347', 'ILMN_1651354', 'ILMN_1651358', 'ILMN_1651364',\n",
      "       'ILMN_1651378', 'ILMN_1651385', 'ILMN_1651403', 'ILMN_1651405'],\n",
      "      dtype='object', name='ID')\n",
      "\n",
      "Gene data dimensions: 12603 genes × 546 samples\n"
     ]
    }
   ],
   "source": [
    "# 1. Re-identify the SOFT and matrix files to ensure we have the correct paths\n",
    "soft_file, matrix_file = geo_get_relevant_filepaths(in_cohort_dir)\n",
    "\n",
    "# 2. Extract the gene expression data from the matrix file\n",
    "gene_data = get_genetic_data(matrix_file)\n",
    "\n",
    "# 3. Print the first 20 row IDs (gene or probe identifiers)\n",
    "print(\"\\nFirst 20 gene/probe identifiers:\")\n",
    "print(gene_data.index[:20])\n",
    "\n",
    "# 4. Print the dimensions of the gene expression data\n",
    "print(f\"\\nGene data dimensions: {gene_data.shape[0]} genes × {gene_data.shape[1]} samples\")\n",
    "\n",
    "# Note: we keep is_gene_available as True since we successfully extracted gene expression data\n",
    "is_gene_available = True\n"
   ]
  },
  {
   "cell_type": "markdown",
   "id": "eab6483c",
   "metadata": {},
   "source": [
    "### Step 4: Gene Identifier Review"
   ]
  },
  {
   "cell_type": "code",
   "execution_count": 5,
   "id": "ba71106d",
   "metadata": {
    "execution": {
     "iopub.execute_input": "2025-03-25T05:18:48.418284Z",
     "iopub.status.busy": "2025-03-25T05:18:48.418153Z",
     "iopub.status.idle": "2025-03-25T05:18:48.420200Z",
     "shell.execute_reply": "2025-03-25T05:18:48.419880Z"
    }
   },
   "outputs": [],
   "source": [
    "# Looking at the gene identifiers, I notice these are ILMN_ prefixed identifiers\n",
    "# These are Illumina BeadArray probe identifiers, not standard human gene symbols\n",
    "# Illumina probe IDs need to be mapped to standard gene symbols for interpretation\n",
    "\n",
    "requires_gene_mapping = True\n"
   ]
  },
  {
   "cell_type": "markdown",
   "id": "f90237d4",
   "metadata": {},
   "source": [
    "### Step 5: Gene Annotation"
   ]
  },
  {
   "cell_type": "code",
   "execution_count": 6,
   "id": "d2a6ed03",
   "metadata": {
    "execution": {
     "iopub.execute_input": "2025-03-25T05:18:48.421310Z",
     "iopub.status.busy": "2025-03-25T05:18:48.421202Z",
     "iopub.status.idle": "2025-03-25T05:19:01.821465Z",
     "shell.execute_reply": "2025-03-25T05:19:01.821076Z"
    }
   },
   "outputs": [
    {
     "name": "stdout",
     "output_type": "stream",
     "text": [
      "Gene annotation preview:\n",
      "{'ID': ['ILMN_1343048', 'ILMN_1343049', 'ILMN_1343050', 'ILMN_1343052', 'ILMN_1343059'], 'Species': [nan, nan, nan, nan, nan], 'Source': [nan, nan, nan, nan, nan], 'Search_Key': [nan, nan, nan, nan, nan], 'Transcript': [nan, nan, nan, nan, nan], 'ILMN_Gene': [nan, nan, nan, nan, nan], 'Source_Reference_ID': [nan, nan, nan, nan, nan], 'RefSeq_ID': [nan, nan, nan, nan, nan], 'Unigene_ID': [nan, nan, nan, nan, nan], 'Entrez_Gene_ID': [nan, nan, nan, nan, nan], 'GI': [nan, nan, nan, nan, nan], 'Accession': [nan, nan, nan, nan, nan], 'Symbol': ['phage_lambda_genome', 'phage_lambda_genome', 'phage_lambda_genome:low', 'phage_lambda_genome:low', 'thrB'], 'Protein_Product': [nan, nan, nan, nan, 'thrB'], 'Probe_Id': [nan, nan, nan, nan, nan], 'Array_Address_Id': [5090180.0, 6510136.0, 7560739.0, 1450438.0, 1240647.0], 'Probe_Type': [nan, nan, nan, nan, nan], 'Probe_Start': [nan, nan, nan, nan, nan], 'SEQUENCE': ['GAATAAAGAACAATCTGCTGATGATCCCTCCGTGGATCTGATTCGTGTAA', 'CCATGTGATACGAGGGCGCGTAGTTTGCATTATCGTTTTTATCGTTTCAA', 'CCGACAGATGTATGTAAGGCCAACGTGCTCAAATCTTCATACAGAAAGAT', 'TCTGTCACTGTCAGGAAAGTGGTAAAACTGCAACTCAATTACTGCAATGC', 'CTTGTGCCTGAGCTGTCAAAAGTAGAGCACGTCGCCGAGATGAAGGGCGC'], 'Chromosome': [nan, nan, nan, nan, nan], 'Probe_Chr_Orientation': [nan, nan, nan, nan, nan], 'Probe_Coordinates': [nan, nan, nan, nan, nan], 'Cytoband': [nan, nan, nan, nan, nan], 'Definition': [nan, nan, nan, nan, nan], 'Ontology_Component': [nan, nan, nan, nan, nan], 'Ontology_Process': [nan, nan, nan, nan, nan], 'Ontology_Function': [nan, nan, nan, nan, nan], 'Synonyms': [nan, nan, nan, nan, nan], 'Obsolete_Probe_Id': [nan, nan, nan, nan, nan], 'GB_ACC': [nan, nan, nan, nan, nan]}\n"
     ]
    }
   ],
   "source": [
    "# 1. First get the file paths using geo_get_relevant_filepaths function\n",
    "soft_file, matrix_file = geo_get_relevant_filepaths(in_cohort_dir)\n",
    "\n",
    "# 2. Use the 'get_gene_annotation' function from the library to get gene annotation data from the SOFT file.\n",
    "gene_annotation = get_gene_annotation(soft_file)\n",
    "\n",
    "# 3. Use the 'preview_df' function from the library to preview the data and print out the results.\n",
    "print(\"Gene annotation preview:\")\n",
    "print(preview_df(gene_annotation))\n"
   ]
  },
  {
   "cell_type": "markdown",
   "id": "893e11e0",
   "metadata": {},
   "source": [
    "### Step 6: Gene Identifier Mapping"
   ]
  },
  {
   "cell_type": "code",
   "execution_count": 7,
   "id": "3f847c78",
   "metadata": {
    "execution": {
     "iopub.execute_input": "2025-03-25T05:19:01.822774Z",
     "iopub.status.busy": "2025-03-25T05:19:01.822648Z",
     "iopub.status.idle": "2025-03-25T05:19:02.370363Z",
     "shell.execute_reply": "2025-03-25T05:19:02.369964Z"
    }
   },
   "outputs": [
    {
     "name": "stdout",
     "output_type": "stream",
     "text": [
      "Gene mapping preview (first 5 rows):\n",
      "             ID                     Gene\n",
      "0  ILMN_1343048      phage_lambda_genome\n",
      "1  ILMN_1343049      phage_lambda_genome\n",
      "2  ILMN_1343050  phage_lambda_genome:low\n",
      "3  ILMN_1343052  phage_lambda_genome:low\n",
      "4  ILMN_1343059                     thrB\n",
      "Total number of mappings: 44837\n"
     ]
    },
    {
     "name": "stdout",
     "output_type": "stream",
     "text": [
      "\n",
      "After mapping: Gene expression data dimensions: 9250 genes × 546 samples\n",
      "\n",
      "First 10 gene symbols after mapping:\n",
      "Index(['AACS', 'AADACL1', 'AAK1', 'AAMP', 'AARS', 'AARS2', 'AARSD1', 'AASDH',\n",
      "       'AASDHPPT', 'AATF'],\n",
      "      dtype='object', name='Gene')\n"
     ]
    }
   ],
   "source": [
    "# 1. Observe gene annotation data to determine which columns store identifiers and gene symbols\n",
    "# From the previous output, 'ID' contains the probe identifiers (ILMN_*) matching gene_data\n",
    "# 'Symbol' contains the gene symbols we need to map to\n",
    "\n",
    "# 2. Get gene mapping dataframe using the library function\n",
    "gene_mapping = get_gene_mapping(gene_annotation, 'ID', 'Symbol')\n",
    "\n",
    "print(\"Gene mapping preview (first 5 rows):\")\n",
    "print(gene_mapping.head())\n",
    "print(f\"Total number of mappings: {len(gene_mapping)}\")\n",
    "\n",
    "# 3. Apply gene mapping to convert probe-level data to gene-level expression data\n",
    "gene_data = apply_gene_mapping(gene_data, gene_mapping)\n",
    "\n",
    "# Print out information about the resulting gene expression data\n",
    "print(f\"\\nAfter mapping: Gene expression data dimensions: {gene_data.shape[0]} genes × {gene_data.shape[1]} samples\")\n",
    "print(\"\\nFirst 10 gene symbols after mapping:\")\n",
    "print(gene_data.index[:10])\n"
   ]
  },
  {
   "cell_type": "markdown",
   "id": "36b67cdf",
   "metadata": {},
   "source": [
    "### Step 7: Data Normalization and Linking"
   ]
  },
  {
   "cell_type": "code",
   "execution_count": 8,
   "id": "e45780e2",
   "metadata": {
    "execution": {
     "iopub.execute_input": "2025-03-25T05:19:02.371612Z",
     "iopub.status.busy": "2025-03-25T05:19:02.371490Z",
     "iopub.status.idle": "2025-03-25T05:19:23.777836Z",
     "shell.execute_reply": "2025-03-25T05:19:23.777437Z"
    }
   },
   "outputs": [
    {
     "name": "stdout",
     "output_type": "stream",
     "text": [
      "Normalizing gene symbols...\n",
      "Gene data shape after normalization: (9070, 546)\n",
      "First 5 normalized gene symbols: ['AACS', 'AAK1', 'AAMDC', 'AAMP', 'AAR2']\n"
     ]
    },
    {
     "name": "stdout",
     "output_type": "stream",
     "text": [
      "Normalized gene data saved to ../../output/preprocess/Generalized_Anxiety_Disorder/gene_data/GSE61672.csv\n",
      "Preview of clinical data:\n"
     ]
    },
    {
     "name": "stdout",
     "output_type": "stream",
     "text": [
      "{'GSM1510561': [nan, 44.0, 0.0], 'GSM1510562': [nan, 59.0, 0.0], 'GSM1510563': [nan, 44.0, 0.0], 'GSM1510564': [nan, 39.0, 0.0], 'GSM1510565': [nan, 64.0, 0.0], 'GSM1510566': [nan, 58.0, 1.0], 'GSM1510567': [nan, 45.0, 1.0], 'GSM1510568': [nan, 37.0, 1.0], 'GSM1510569': [nan, 40.0, 1.0], 'GSM1510570': [nan, 39.0, 0.0], 'GSM1510571': [nan, 57.0, 1.0], 'GSM1510572': [nan, 52.0, 0.0], 'GSM1510573': [nan, 59.0, 0.0], 'GSM1510574': [nan, 57.0, 1.0], 'GSM1510575': [nan, 62.0, 0.0], 'GSM1510576': [nan, 62.0, 1.0], 'GSM1510577': [nan, 55.0, 0.0], 'GSM1510578': [nan, 55.0, 0.0], 'GSM1510579': [nan, 53.0, 1.0], 'GSM1510580': [nan, 47.0, 1.0], 'GSM1510581': [nan, 48.0, 0.0], 'GSM1510582': [nan, 49.0, 0.0], 'GSM1510583': [nan, 35.0, 1.0], 'GSM1510584': [nan, 58.0, 1.0], 'GSM1510585': [nan, 46.0, 0.0], 'GSM1510586': [nan, 54.0, 0.0], 'GSM1510587': [nan, 67.0, 1.0], 'GSM1510588': [nan, 47.0, 0.0], 'GSM1510589': [nan, 51.0, 0.0], 'GSM1510590': [nan, 34.0, 1.0], 'GSM1510591': [nan, 58.0, 1.0], 'GSM1510592': [nan, 58.0, 1.0], 'GSM1510593': [nan, 57.0, 0.0], 'GSM1510594': [nan, 64.0, 0.0], 'GSM1510595': [nan, 55.0, 0.0], 'GSM1510596': [nan, 60.0, 0.0], 'GSM1510597': [nan, 62.0, 1.0], 'GSM1510598': [nan, 41.0, 0.0], 'GSM1510599': [nan, 53.0, 1.0], 'GSM1510600': [nan, 47.0, 0.0], 'GSM1510601': [nan, 44.0, 1.0], 'GSM1510602': [nan, 53.0, 0.0], 'GSM1510603': [nan, 38.0, 1.0], 'GSM1510604': [nan, 54.0, 0.0], 'GSM1510605': [nan, 37.0, 0.0], 'GSM1510606': [nan, 44.0, 1.0], 'GSM1510607': [nan, 73.0, 0.0], 'GSM1510608': [nan, 28.0, 1.0], 'GSM1510609': [nan, 56.0, 0.0], 'GSM1510610': [nan, 34.0, 0.0], 'GSM1510611': [nan, 71.0, 1.0], 'GSM1510612': [nan, 41.0, 0.0], 'GSM1510613': [nan, 51.0, 1.0], 'GSM1510614': [nan, 47.0, 1.0], 'GSM1510615': [nan, 35.0, 0.0], 'GSM1510616': [nan, 45.0, 0.0], 'GSM1510617': [nan, 55.0, 0.0], 'GSM1510618': [nan, 50.0, 0.0], 'GSM1510619': [nan, 50.0, 0.0], 'GSM1510620': [nan, 55.0, 0.0], 'GSM1510621': [nan, 38.0, 0.0], 'GSM1510622': [nan, 57.0, 0.0], 'GSM1510623': [nan, 57.0, 0.0], 'GSM1510624': [nan, 57.0, 1.0], 'GSM1510625': [nan, 48.0, 0.0], 'GSM1510626': [nan, 52.0, 0.0], 'GSM1510627': [nan, 51.0, 0.0], 'GSM1510628': [nan, 42.0, 1.0], 'GSM1510629': [nan, 51.0, 0.0], 'GSM1510630': [nan, 51.0, 0.0], 'GSM1510631': [nan, 65.0, 0.0], 'GSM1510632': [nan, 31.0, 1.0], 'GSM1510633': [nan, 44.0, 1.0], 'GSM1510634': [nan, 50.0, 1.0], 'GSM1510635': [nan, 58.0, 0.0], 'GSM1510636': [nan, 64.0, 1.0], 'GSM1510637': [nan, 49.0, 0.0], 'GSM1510638': [nan, 52.0, 0.0], 'GSM1510639': [nan, 46.0, 0.0], 'GSM1510640': [nan, 53.0, 0.0], 'GSM1510641': [nan, 45.0, 0.0], 'GSM1510642': [nan, 32.0, 0.0], 'GSM1510643': [nan, 50.0, 0.0], 'GSM1510644': [nan, 63.0, 0.0], 'GSM1510645': [nan, 52.0, 1.0], 'GSM1510646': [nan, 54.0, 1.0], 'GSM1510647': [nan, 28.0, 0.0], 'GSM1510648': [nan, 55.0, 0.0], 'GSM1510649': [nan, 59.0, 0.0], 'GSM1510650': [nan, 56.0, 0.0], 'GSM1510651': [nan, 39.0, 0.0], 'GSM1510652': [nan, 46.0, 0.0], 'GSM1510653': [nan, 60.0, 1.0], 'GSM1510654': [nan, 61.0, 0.0], 'GSM1510655': [nan, 45.0, 0.0], 'GSM1510656': [nan, 44.0, 0.0], 'GSM1510657': [nan, 41.0, 0.0], 'GSM1510658': [nan, 56.0, 1.0], 'GSM1510659': [nan, 53.0, 1.0], 'GSM1510660': [nan, 50.0, 0.0], 'GSM1510661': [nan, 56.0, 0.0], 'GSM1510662': [nan, 78.0, 0.0], 'GSM1510663': [nan, 62.0, 0.0], 'GSM1510664': [nan, 47.0, 0.0], 'GSM1510665': [nan, 40.0, 0.0], 'GSM1510666': [nan, 63.0, 0.0], 'GSM1510667': [nan, 55.0, 1.0], 'GSM1510668': [nan, 55.0, 0.0], 'GSM1510669': [nan, 53.0, 1.0], 'GSM1510670': [nan, 34.0, 1.0], 'GSM1510671': [nan, 48.0, 0.0], 'GSM1510672': [nan, 46.0, 0.0], 'GSM1510673': [nan, 58.0, 1.0], 'GSM1510674': [nan, 52.0, 1.0], 'GSM1510675': [nan, 47.0, 0.0], 'GSM1510676': [nan, 62.0, 1.0], 'GSM1510677': [nan, 45.0, 0.0], 'GSM1510678': [nan, 51.0, 0.0], 'GSM1510679': [nan, 38.0, 1.0], 'GSM1510680': [nan, 38.0, 1.0], 'GSM1510681': [nan, 51.0, 0.0], 'GSM1510682': [nan, 59.0, 1.0], 'GSM1510683': [nan, 56.0, 1.0], 'GSM1510684': [nan, 39.0, 0.0], 'GSM1510685': [nan, 29.0, 0.0], 'GSM1510686': [nan, 58.0, 1.0], 'GSM1510687': [nan, 57.0, 0.0], 'GSM1510688': [nan, 45.0, 0.0], 'GSM1510689': [nan, 33.0, 0.0], 'GSM1510690': [nan, 46.0, 1.0], 'GSM1510691': [nan, 35.0, 0.0], 'GSM1510692': [nan, 57.0, 0.0], 'GSM1510693': [nan, 55.0, 0.0], 'GSM1510694': [nan, 66.0, 0.0], 'GSM1510695': [nan, 51.0, 1.0], 'GSM1510696': [nan, 59.0, 1.0], 'GSM1510697': [nan, 61.0, 0.0], 'GSM1510698': [nan, 56.0, 0.0], 'GSM1510699': [nan, 65.0, 0.0], 'GSM1510700': [nan, 37.0, 1.0], 'GSM1510701': [nan, 65.0, 0.0], 'GSM1510702': [nan, 45.0, 0.0], 'GSM1510703': [nan, 45.0, 0.0], 'GSM1510704': [nan, 74.0, 1.0], 'GSM1510705': [nan, 50.0, 0.0], 'GSM1510706': [nan, 39.0, 0.0], 'GSM1510707': [nan, 26.0, 1.0], 'GSM1510708': [nan, 44.0, 0.0], 'GSM1510709': [nan, 49.0, 0.0], 'GSM1510710': [nan, 52.0, 1.0], 'GSM1510711': [nan, 47.0, 0.0], 'GSM1510712': [nan, 37.0, 1.0], 'GSM1510713': [nan, 40.0, 1.0], 'GSM1510714': [nan, 39.0, 0.0], 'GSM1510715': [nan, 40.0, 0.0], 'GSM1510716': [nan, 31.0, 0.0], 'GSM1510717': [nan, 48.0, 0.0], 'GSM1510718': [nan, 59.0, 0.0], 'GSM1510719': [nan, 39.0, 0.0], 'GSM1510720': [nan, 37.0, 1.0], 'GSM1510721': [nan, 59.0, 0.0], 'GSM1510722': [nan, 54.0, 0.0], 'GSM1510723': [nan, 49.0, 1.0], 'GSM1510724': [nan, 57.0, 0.0], 'GSM1510725': [nan, 50.0, 0.0], 'GSM1510726': [nan, 55.0, 0.0], 'GSM1510727': [nan, 50.0, 1.0], 'GSM1510728': [nan, 68.0, 0.0], 'GSM1510729': [nan, 43.0, 0.0], 'GSM1510730': [nan, 67.0, 0.0], 'GSM1510731': [nan, 47.0, 1.0], 'GSM1510732': [nan, 45.0, 0.0], 'GSM1510733': [nan, 56.0, 1.0], 'GSM1510734': [nan, 62.0, 0.0], 'GSM1510735': [nan, 48.0, 1.0], 'GSM1510736': [nan, 39.0, 0.0], 'GSM1510737': [nan, 39.0, 1.0], 'GSM1510738': [nan, 41.0, 0.0], 'GSM1510739': [nan, 63.0, 0.0], 'GSM1510740': [nan, 51.0, 1.0], 'GSM1510741': [nan, 48.0, 0.0], 'GSM1510742': [nan, 50.0, 0.0], 'GSM1510743': [nan, 61.0, 0.0], 'GSM1510744': [nan, 35.0, 0.0], 'GSM1510745': [nan, 50.0, 0.0], 'GSM1510746': [nan, 52.0, 0.0], 'GSM1510747': [nan, 44.0, 0.0], 'GSM1510748': [nan, 45.0, 0.0], 'GSM1510749': [nan, 33.0, 0.0], 'GSM1510750': [nan, 61.0, 0.0], 'GSM1510751': [nan, 58.0, 1.0], 'GSM1510752': [nan, 38.0, 0.0], 'GSM1510753': [nan, 36.0, 0.0], 'GSM1510754': [nan, 50.0, 0.0], 'GSM1510755': [nan, 45.0, 0.0], 'GSM1510756': [nan, 60.0, 0.0], 'GSM1510757': [nan, 55.0, 0.0], 'GSM1510758': [nan, 53.0, 1.0], 'GSM1510759': [nan, 52.0, 0.0], 'GSM1510760': [nan, 47.0, 0.0]}\n",
      "Clinical data saved to ../../output/preprocess/Generalized_Anxiety_Disorder/clinical_data/GSE61672.csv\n",
      "Linked data shape: (546, 9073)\n"
     ]
    },
    {
     "name": "stdout",
     "output_type": "stream",
     "text": [
      "Data shape after handling missing values: (141, 9072)\n",
      "\n",
      "Checking for bias in the trait variable:\n",
      "For the feature 'Generalized_Anxiety_Disorder', the least common label is '1.0' with 62 occurrences. This represents 43.97% of the dataset.\n",
      "The distribution of the feature 'Generalized_Anxiety_Disorder' in this dataset is fine.\n",
      "\n",
      "Quartiles for 'Age':\n",
      "  25%: 41.0\n",
      "  50% (Median): 49.0\n",
      "  75%: 56.0\n",
      "Min: 18.0\n",
      "Max: 82.0\n",
      "The distribution of the feature 'Age' in this dataset is fine.\n",
      "\n",
      "A new JSON file was created at: ../../output/preprocess/Generalized_Anxiety_Disorder/cohort_info.json\n"
     ]
    },
    {
     "name": "stdout",
     "output_type": "stream",
     "text": [
      "Linked data saved to ../../output/preprocess/Generalized_Anxiety_Disorder/GSE61672.csv\n"
     ]
    }
   ],
   "source": [
    "# 1. Re-extract the gene expression data to ensure we have it properly defined\n",
    "soft_file, matrix_file = geo_get_relevant_filepaths(in_cohort_dir)\n",
    "gene_data = get_genetic_data(matrix_file)\n",
    "\n",
    "# Extract gene annotation data for mapping\n",
    "gene_annotation = get_gene_annotation(soft_file)\n",
    "\n",
    "# Based on previous output in Step 5 and 6, we know the column is 'Symbol'\n",
    "gene_mapping = get_gene_mapping(gene_annotation, prob_col='ID', gene_col='Symbol')\n",
    "\n",
    "# Apply gene mapping to convert probe-level data to gene expression data\n",
    "gene_data = apply_gene_mapping(gene_data, gene_mapping)\n",
    "\n",
    "# 1. Normalize gene symbols in the gene expression data\n",
    "print(\"Normalizing gene symbols...\")\n",
    "normalized_gene_data = normalize_gene_symbols_in_index(gene_data)\n",
    "print(f\"Gene data shape after normalization: {normalized_gene_data.shape}\")\n",
    "print(f\"First 5 normalized gene symbols: {normalized_gene_data.index[:5].tolist() if len(normalized_gene_data) > 0 else 'No genes after normalization'}\")\n",
    "\n",
    "# Save the normalized gene data\n",
    "os.makedirs(os.path.dirname(out_gene_data_file), exist_ok=True)\n",
    "normalized_gene_data.to_csv(out_gene_data_file)\n",
    "print(f\"Normalized gene data saved to {out_gene_data_file}\")\n",
    "\n",
    "# 2. Re-extract clinical data\n",
    "background_prefixes = ['!Series_title', '!Series_summary', '!Series_overall_design']\n",
    "clinical_prefixes = ['!Sample_geo_accession', '!Sample_characteristics_ch1']\n",
    "background_info, clinical_data = get_background_and_clinical_data(matrix_file, background_prefixes, clinical_prefixes)\n",
    "\n",
    "# From Step 2, we identified anxiety case/control information at row 4\n",
    "trait_row = 4\n",
    "age_row = 0  # Age information is in row 0\n",
    "gender_row = 1  # Gender information is in row 1\n",
    "\n",
    "def convert_trait(value):\n",
    "    \"\"\"Convert anxiety case/control information to binary (0: control, 1: case)\"\"\"\n",
    "    if value is None or pd.isna(value):\n",
    "        return None\n",
    "    if ':' in value:\n",
    "        value = value.split(':', 1)[1].strip()\n",
    "    if value.lower() == 'case':\n",
    "        return 1\n",
    "    elif value.lower() == 'control':\n",
    "        return 0\n",
    "    return None\n",
    "\n",
    "def convert_age(value):\n",
    "    \"\"\"Convert age information to numeric (continuous) values\"\"\"\n",
    "    if value is None or pd.isna(value):\n",
    "        return None\n",
    "    if ':' in value:\n",
    "        value = value.split(':', 1)[1].strip()\n",
    "    try:\n",
    "        return float(value)\n",
    "    except ValueError:\n",
    "        return None\n",
    "\n",
    "def convert_gender(value):\n",
    "    \"\"\"Convert gender information to binary (0: female, 1: male)\"\"\"\n",
    "    if value is None or pd.isna(value):\n",
    "        return None\n",
    "    if ':' in value:\n",
    "        value = value.split(':', 1)[1].strip()\n",
    "    if value.upper() == 'F':\n",
    "        return 0\n",
    "    elif value.upper() == 'M':\n",
    "        return 1\n",
    "    return None\n",
    "\n",
    "# Extract clinical features with correct row indices and conversion functions\n",
    "selected_clinical_df = geo_select_clinical_features(\n",
    "    clinical_df=clinical_data,\n",
    "    trait=trait,\n",
    "    trait_row=trait_row,\n",
    "    convert_trait=convert_trait,\n",
    "    age_row=age_row,\n",
    "    convert_age=convert_age,\n",
    "    gender_row=gender_row,\n",
    "    convert_gender=convert_gender\n",
    ")\n",
    "\n",
    "# Debug: Show preview of clinical data\n",
    "print(\"Preview of clinical data:\")\n",
    "print(preview_df(selected_clinical_df))\n",
    "\n",
    "# Save clinical data\n",
    "os.makedirs(os.path.dirname(out_clinical_data_file), exist_ok=True)\n",
    "selected_clinical_df.to_csv(out_clinical_data_file)\n",
    "print(f\"Clinical data saved to {out_clinical_data_file}\")\n",
    "\n",
    "# 3. Link clinical and genetic data\n",
    "linked_data = geo_link_clinical_genetic_data(selected_clinical_df, normalized_gene_data)\n",
    "print(f\"Linked data shape: {linked_data.shape}\")\n",
    "\n",
    "# 4. Handle missing values\n",
    "linked_data = handle_missing_values(linked_data, trait_col=trait)\n",
    "print(f\"Data shape after handling missing values: {linked_data.shape}\")\n",
    "\n",
    "# 5. Determine if trait is biased\n",
    "print(\"\\nChecking for bias in the trait variable:\")\n",
    "# The trait in this dataset is binary (case vs control)\n",
    "is_biased, linked_data = judge_and_remove_biased_features(linked_data, trait)\n",
    "\n",
    "# 6. Conduct final quality validation\n",
    "is_trait_available = True  # We confirmed trait data is available in Step 2\n",
    "is_usable = validate_and_save_cohort_info(\n",
    "    is_final=True,\n",
    "    cohort=cohort,\n",
    "    info_path=json_path,\n",
    "    is_gene_available=True,\n",
    "    is_trait_available=is_trait_available,\n",
    "    is_biased=is_biased,\n",
    "    df=linked_data,\n",
    "    note=\"Dataset studies blood gene expression profiles associated with symptoms of generalized anxiety disorder.\"\n",
    ")\n",
    "\n",
    "# 7. Save linked data if usable\n",
    "if is_usable:\n",
    "    os.makedirs(os.path.dirname(out_data_file), exist_ok=True)\n",
    "    linked_data.to_csv(out_data_file)\n",
    "    print(f\"Linked data saved to {out_data_file}\")\n",
    "else:\n",
    "    print(\"Dataset deemed not usable for trait association studies, linked data not saved.\")"
   ]
  }
 ],
 "metadata": {
  "language_info": {
   "codemirror_mode": {
    "name": "ipython",
    "version": 3
   },
   "file_extension": ".py",
   "mimetype": "text/x-python",
   "name": "python",
   "nbconvert_exporter": "python",
   "pygments_lexer": "ipython3",
   "version": "3.10.16"
  }
 },
 "nbformat": 4,
 "nbformat_minor": 5
}
