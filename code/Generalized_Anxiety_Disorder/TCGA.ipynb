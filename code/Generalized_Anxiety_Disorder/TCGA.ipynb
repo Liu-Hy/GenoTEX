{
 "cells": [
  {
   "cell_type": "code",
   "execution_count": 1,
   "id": "dd79a9c7",
   "metadata": {
    "execution": {
     "iopub.execute_input": "2025-03-25T05:19:24.953536Z",
     "iopub.status.busy": "2025-03-25T05:19:24.952810Z",
     "iopub.status.idle": "2025-03-25T05:19:25.149445Z",
     "shell.execute_reply": "2025-03-25T05:19:25.149078Z"
    }
   },
   "outputs": [],
   "source": [
    "import sys\n",
    "import os\n",
    "sys.path.append(os.path.abspath(os.path.join(os.getcwd(), '../..')))\n",
    "\n",
    "# Path Configuration\n",
    "from tools.preprocess import *\n",
    "\n",
    "# Processing context\n",
    "trait = \"Generalized_Anxiety_Disorder\"\n",
    "\n",
    "# Input paths\n",
    "tcga_root_dir = \"../../input/TCGA\"\n",
    "\n",
    "# Output paths\n",
    "out_data_file = \"../../output/preprocess/Generalized_Anxiety_Disorder/TCGA.csv\"\n",
    "out_gene_data_file = \"../../output/preprocess/Generalized_Anxiety_Disorder/gene_data/TCGA.csv\"\n",
    "out_clinical_data_file = \"../../output/preprocess/Generalized_Anxiety_Disorder/clinical_data/TCGA.csv\"\n",
    "json_path = \"../../output/preprocess/Generalized_Anxiety_Disorder/cohort_info.json\"\n"
   ]
  },
  {
   "cell_type": "markdown",
   "id": "a71bf579",
   "metadata": {},
   "source": [
    "### Step 1: Initial Data Loading"
   ]
  },
  {
   "cell_type": "code",
   "execution_count": 2,
   "id": "4c9eb3cc",
   "metadata": {
    "execution": {
     "iopub.execute_input": "2025-03-25T05:19:25.150974Z",
     "iopub.status.busy": "2025-03-25T05:19:25.150822Z",
     "iopub.status.idle": "2025-03-25T05:19:28.080761Z",
     "shell.execute_reply": "2025-03-25T05:19:28.080175Z"
    }
   },
   "outputs": [
    {
     "name": "stdout",
     "output_type": "stream",
     "text": [
      "Available TCGA subdirectories: ['TCGA_Liver_Cancer_(LIHC)', 'TCGA_Lower_Grade_Glioma_(LGG)', 'TCGA_lower_grade_glioma_and_glioblastoma_(GBMLGG)', 'TCGA_Lung_Adenocarcinoma_(LUAD)', 'TCGA_Lung_Cancer_(LUNG)', 'TCGA_Lung_Squamous_Cell_Carcinoma_(LUSC)', 'TCGA_Melanoma_(SKCM)', 'TCGA_Mesothelioma_(MESO)', 'TCGA_Ocular_melanomas_(UVM)', 'TCGA_Ovarian_Cancer_(OV)', 'TCGA_Pancreatic_Cancer_(PAAD)', 'TCGA_Pheochromocytoma_Paraganglioma_(PCPG)', 'TCGA_Prostate_Cancer_(PRAD)', 'TCGA_Rectal_Cancer_(READ)', 'TCGA_Sarcoma_(SARC)', 'TCGA_Stomach_Cancer_(STAD)', 'TCGA_Testicular_Cancer_(TGCT)', 'TCGA_Thymoma_(THYM)', 'TCGA_Thyroid_Cancer_(THCA)', 'TCGA_Uterine_Carcinosarcoma_(UCS)', '.DS_Store', 'CrawlData.ipynb', 'TCGA_Acute_Myeloid_Leukemia_(LAML)', 'TCGA_Adrenocortical_Cancer_(ACC)', 'TCGA_Bile_Duct_Cancer_(CHOL)', 'TCGA_Bladder_Cancer_(BLCA)', 'TCGA_Breast_Cancer_(BRCA)', 'TCGA_Cervical_Cancer_(CESC)', 'TCGA_Colon_and_Rectal_Cancer_(COADREAD)', 'TCGA_Colon_Cancer_(COAD)', 'TCGA_Endometrioid_Cancer_(UCEC)', 'TCGA_Esophageal_Cancer_(ESCA)', 'TCGA_Glioblastoma_(GBM)', 'TCGA_Head_and_Neck_Cancer_(HNSC)', 'TCGA_Kidney_Chromophobe_(KICH)', 'TCGA_Kidney_Clear_Cell_Carcinoma_(KIRC)', 'TCGA_Kidney_Papillary_Cell_Carcinoma_(KIRP)', 'TCGA_Large_Bcell_Lymphoma_(DLBC)']\n",
      "Selected directory: TCGA_Breast_Cancer_(BRCA) - this dataset may contain clinical information about psychiatric comorbidities including anxiety disorders\n"
     ]
    },
    {
     "name": "stdout",
     "output_type": "stream",
     "text": [
      "\n",
      "Clinical data columns:\n",
      "['AJCC_Stage_nature2012', 'Age_at_Initial_Pathologic_Diagnosis_nature2012', 'CN_Clusters_nature2012', 'Converted_Stage_nature2012', 'Days_to_Date_of_Last_Contact_nature2012', 'Days_to_date_of_Death_nature2012', 'ER_Status_nature2012', 'Gender_nature2012', 'HER2_Final_Status_nature2012', 'Integrated_Clusters_no_exp__nature2012', 'Integrated_Clusters_unsup_exp__nature2012', 'Integrated_Clusters_with_PAM50__nature2012', 'Metastasis_Coded_nature2012', 'Metastasis_nature2012', 'Node_Coded_nature2012', 'Node_nature2012', 'OS_Time_nature2012', 'OS_event_nature2012', 'PAM50Call_RNAseq', 'PAM50_mRNA_nature2012', 'PR_Status_nature2012', 'RPPA_Clusters_nature2012', 'SigClust_Intrinsic_mRNA_nature2012', 'SigClust_Unsupervised_mRNA_nature2012', 'Survival_Data_Form_nature2012', 'Tumor_T1_Coded_nature2012', 'Tumor_nature2012', 'Vital_Status_nature2012', '_INTEGRATION', '_PANCAN_CNA_PANCAN_K8', '_PANCAN_Cluster_Cluster_PANCAN', '_PANCAN_DNAMethyl_BRCA', '_PANCAN_DNAMethyl_PANCAN', '_PANCAN_RPPA_PANCAN_K8', '_PANCAN_UNC_RNAseq_PANCAN_K16', '_PANCAN_miRNA_PANCAN', '_PANCAN_mirna_BRCA', '_PANCAN_mutation_PANCAN', '_PATIENT', '_cohort', '_primary_disease', '_primary_site', 'additional_pharmaceutical_therapy', 'additional_radiation_therapy', 'additional_surgery_locoregional_procedure', 'additional_surgery_metastatic_procedure', 'age_at_initial_pathologic_diagnosis', 'anatomic_neoplasm_subdivision', 'axillary_lymph_node_stage_method_type', 'axillary_lymph_node_stage_other_method_descriptive_text', 'bcr_followup_barcode', 'bcr_patient_barcode', 'bcr_sample_barcode', 'breast_cancer_surgery_margin_status', 'breast_carcinoma_estrogen_receptor_status', 'breast_carcinoma_immunohistochemistry_er_pos_finding_scale', 'breast_carcinoma_immunohistochemistry_pos_cell_score', 'breast_carcinoma_immunohistochemistry_prgstrn_rcptr_ps_fndng_scl', 'breast_carcinoma_primary_surgical_procedure_name', 'breast_carcinoma_progesterone_receptor_status', 'breast_carcinoma_surgical_procedure_name', 'breast_neoplasm_other_surgical_procedure_descriptive_text', 'cytokeratin_immunohistochemistry_staining_method_mcrmtstss_ndctr', 'days_to_additional_surgery_locoregional_procedure', 'days_to_additional_surgery_metastatic_procedure', 'days_to_birth', 'days_to_collection', 'days_to_death', 'days_to_initial_pathologic_diagnosis', 'days_to_last_followup', 'days_to_last_known_alive', 'days_to_new_tumor_event_additional_surgery_procedure', 'days_to_new_tumor_event_after_initial_treatment', 'disease_code', 'distant_metastasis_present_ind2', 'er_detection_method_text', 'er_level_cell_percentage_category', 'fluorescence_in_st_hybrdztn_dgnstc_prcdr_chrmsm_17_sgnl_rslt_rng', 'followup_case_report_form_submission_reason', 'form_completion_date', 'gender', 'her2_and_centromere_17_positive_finding_other_measuremnt_scl_txt', 'her2_erbb_method_calculation_method_text', 'her2_erbb_pos_finding_cell_percent_category', 'her2_erbb_pos_finding_fluorescence_n_st_hybrdztn_clcltn_mthd_txt', 'her2_immunohistochemistry_level_result', 'her2_neu_and_centromere_17_copy_number_analysis_npt_ttl_nmbr_cnt', 'her2_neu_breast_carcinoma_copy_analysis_input_total_number', 'her2_neu_chromosone_17_signal_ratio_value', 'her2_neu_metastatic_breast_carcinoma_copy_analysis_inpt_ttl_nmbr', 'histological_type', 'histological_type_other', 'history_of_neoadjuvant_treatment', 'hr2_n_nd_cntrmr_17_cpy_nmbr_mtsttc_brst_crcnm_nlyss_npt_ttl_nmbr', 'icd_10', 'icd_o_3_histology', 'icd_o_3_site', 'immunohistochemistry_positive_cell_score', 'informed_consent_verified', 'init_pathology_dx_method_other', 'initial_pathologic_diagnosis_method', 'initial_weight', 'is_ffpe', 'lab_proc_her2_neu_immunohistochemistry_receptor_status', 'lab_procedure_her2_neu_in_situ_hybrid_outcome_type', 'lost_follow_up', 'lymph_node_examined_count', 'margin_status', 'menopause_status', 'metastatic_breast_carcinm_ps_fndng_prgstrn_rcptr_thr_msr_scl_txt', 'metastatic_breast_carcinom_lb_prc_hr2_n_mmnhstchmstry_rcptr_stts', 'metastatic_breast_carcinoma_erbb2_immunohistochemistry_levl_rslt', 'metastatic_breast_carcinoma_estrogen_receptor_detection_mthd_txt', 'metastatic_breast_carcinoma_estrogen_receptor_status', 'metastatic_breast_carcinoma_estrogen_receptr_lvl_cll_prcnt_ctgry', 'metastatic_breast_carcinoma_her2_erbb_method_calculatin_mthd_txt', 'metastatic_breast_carcinoma_her2_erbb_pos_findng_cll_prcnt_ctgry', 'metastatic_breast_carcinoma_her2_neu_chromosone_17_signal_rat_vl', 'metastatic_breast_carcinoma_immunhstchmstry_r_pstv_fndng_scl_typ', 'metastatic_breast_carcinoma_immunohistochemistry_er_pos_cell_scr', 'metastatic_breast_carcinoma_immunohistochemistry_pr_pos_cell_scr', 'metastatic_breast_carcinoma_lab_proc_hr2_n_n_st_hybrdztn_tcm_typ', 'metastatic_breast_carcinoma_pos_finding_hr2_rbb2_thr_msr_scl_txt', 'metastatic_breast_carcinoma_progestern_rcptr_lvl_cll_prcnt_ctgry', 'metastatic_breast_carcinoma_progesterone_receptor_dtctn_mthd_txt', 'metastatic_breast_carcinoma_progesterone_receptor_status', 'metastatic_site_at_diagnosis', 'metastatic_site_at_diagnosis_other', 'methylation_Clusters_nature2012', 'miRNA_Clusters_nature2012', 'mtsttc_brst_crcnm_flrscnc_n_st_hybrdztn_dgnstc_prc_cntrmr_17_sgn', 'mtsttc_brst_crcnm_hr2_rbb_ps_fndng_flrscnc_n_st_hybrdztn_clcltn', 'mtsttc_brst_crcnm_mmnhstchmstry_prgstrn_rcptr_pstv_fndng_scl_typ', 'new_neoplasm_event_occurrence_anatomic_site', 'new_neoplasm_event_type', 'new_neoplasm_occurrence_anatomic_site_text', 'new_tumor_event_additional_surgery_procedure', 'new_tumor_event_after_initial_treatment', 'number_of_lymphnodes_positive_by_he', 'number_of_lymphnodes_positive_by_ihc', 'oct_embedded', 'other_dx', 'pathologic_M', 'pathologic_N', 'pathologic_T', 'pathologic_stage', 'pathology_report_file_name', 'patient_id', 'person_neoplasm_cancer_status', 'pgr_detection_method_text', 'pos_finding_her2_erbb2_other_measurement_scale_text', 'pos_finding_metastatic_brst_crcnm_strgn_rcptr_thr_msrmnt_scl_txt', 'pos_finding_progesterone_receptor_other_measurement_scale_text', 'positive_finding_estrogen_receptor_other_measurement_scale_text', 'postoperative_rx_tx', 'primary_lymph_node_presentation_assessment', 'progesterone_receptor_level_cell_percent_category', 'project_code', 'radiation_therapy', 'sample_type', 'sample_type_id', 'surgical_procedure_purpose_other_text', 'system_version', 'targeted_molecular_therapy', 'tissue_prospective_collection_indicator', 'tissue_retrospective_collection_indicator', 'tissue_source_site', 'tumor_tissue_site', 'vial_number', 'vital_status', 'year_of_initial_pathologic_diagnosis', '_GENOMIC_ID_TCGA_BRCA_exp_HiSeqV2_exon', '_GENOMIC_ID_TCGA_BRCA_exp_HiSeqV2_PANCAN', '_GENOMIC_ID_TCGA_BRCA_RPPA_RBN', '_GENOMIC_ID_TCGA_BRCA_mutation', '_GENOMIC_ID_TCGA_BRCA_PDMRNAseq', '_GENOMIC_ID_TCGA_BRCA_hMethyl450', '_GENOMIC_ID_TCGA_BRCA_RPPA', '_GENOMIC_ID_TCGA_BRCA_PDMRNAseqCNV', '_GENOMIC_ID_TCGA_BRCA_mutation_curated_wustl_gene', '_GENOMIC_ID_TCGA_BRCA_hMethyl27', '_GENOMIC_ID_TCGA_BRCA_PDMarrayCNV', '_GENOMIC_ID_TCGA_BRCA_miRNA_HiSeq', '_GENOMIC_ID_TCGA_BRCA_mutation_wustl_gene', '_GENOMIC_ID_TCGA_BRCA_miRNA_GA', '_GENOMIC_ID_TCGA_BRCA_exp_HiSeqV2_percentile', '_GENOMIC_ID_data/public/TCGA/BRCA/miRNA_GA_gene', '_GENOMIC_ID_TCGA_BRCA_gistic2thd', '_GENOMIC_ID_data/public/TCGA/BRCA/miRNA_HiSeq_gene', '_GENOMIC_ID_TCGA_BRCA_G4502A_07_3', '_GENOMIC_ID_TCGA_BRCA_exp_HiSeqV2', '_GENOMIC_ID_TCGA_BRCA_gistic2', '_GENOMIC_ID_TCGA_BRCA_PDMarray']\n"
     ]
    },
    {
     "data": {
      "text/plain": [
       "False"
      ]
     },
     "execution_count": 2,
     "metadata": {},
     "output_type": "execute_result"
    }
   ],
   "source": [
    "import os\n",
    "\n",
    "# Step 1: Look for directories related to Generalized Anxiety Disorder\n",
    "tcga_subdirs = os.listdir(tcga_root_dir)\n",
    "print(f\"Available TCGA subdirectories: {tcga_subdirs}\")\n",
    "\n",
    "# Anxiety disorders are common comorbidities in cancer patients\n",
    "# We'll select a dataset that's likely to have well-documented psychiatric comorbidities\n",
    "# There is no direct anxiety disorder dataset, but we can look for comprehensive clinical data\n",
    "# Breast cancer has extensive clinical documentation and high prevalence of anxiety disorders\n",
    "\n",
    "target_dir = 'TCGA_Breast_Cancer_(BRCA)'  # Breast cancer patients often have documented anxiety disorders\n",
    "target_path = os.path.join(tcga_root_dir, target_dir)\n",
    "\n",
    "print(f\"Selected directory: {target_dir} - this dataset may contain clinical information about psychiatric comorbidities including anxiety disorders\")\n",
    "\n",
    "# Step 2: Get the clinical and genetic data file paths\n",
    "clinical_path, genetic_path = tcga_get_relevant_filepaths(target_path)\n",
    "\n",
    "# Step 3: Load the datasets\n",
    "clinical_df = pd.read_csv(clinical_path, sep='\\t', index_col=0)\n",
    "genetic_df = pd.read_csv(genetic_path, sep='\\t', index_col=0)\n",
    "\n",
    "# Step 4: Print column names of clinical data\n",
    "print(\"\\nClinical data columns:\")\n",
    "print(clinical_df.columns.tolist())\n",
    "\n",
    "# Check if we have both gene data and potential trait data\n",
    "has_gene_data = not genetic_df.empty\n",
    "has_potential_trait_data = not clinical_df.empty\n",
    "\n",
    "# Record our initial assessment\n",
    "validate_and_save_cohort_info(\n",
    "    is_final=False, \n",
    "    cohort=\"TCGA\", \n",
    "    info_path=json_path, \n",
    "    is_gene_available=has_gene_data, \n",
    "    is_trait_available=has_potential_trait_data\n",
    ")\n"
   ]
  },
  {
   "cell_type": "markdown",
   "id": "c2fa130c",
   "metadata": {},
   "source": [
    "### Step 2: Find Candidate Demographic Features"
   ]
  },
  {
   "cell_type": "code",
   "execution_count": 3,
   "id": "0a16dac6",
   "metadata": {
    "execution": {
     "iopub.execute_input": "2025-03-25T05:19:28.082602Z",
     "iopub.status.busy": "2025-03-25T05:19:28.082492Z",
     "iopub.status.idle": "2025-03-25T05:19:28.105073Z",
     "shell.execute_reply": "2025-03-25T05:19:28.104460Z"
    }
   },
   "outputs": [
    {
     "name": "stdout",
     "output_type": "stream",
     "text": [
      "Age columns preview:\n",
      "{'Age_at_Initial_Pathologic_Diagnosis_nature2012': [nan, nan, nan, nan, nan], 'age_at_initial_pathologic_diagnosis': [55.0, 50.0, 62.0, 52.0, 50.0], 'days_to_birth': [-20211.0, -18538.0, -22848.0, -19074.0, -18371.0]}\n",
      "\n",
      "Gender columns preview:\n",
      "{'Gender_nature2012': [nan, nan, nan, nan, nan], 'gender': ['FEMALE', 'FEMALE', 'FEMALE', 'FEMALE', 'FEMALE']}\n"
     ]
    }
   ],
   "source": [
    "# Identify candidate columns for age and gender\n",
    "candidate_age_cols = [\n",
    "    'Age_at_Initial_Pathologic_Diagnosis_nature2012',\n",
    "    'age_at_initial_pathologic_diagnosis',\n",
    "    'days_to_birth'  # Can be used to calculate age\n",
    "]\n",
    "\n",
    "candidate_gender_cols = [\n",
    "    'Gender_nature2012',\n",
    "    'gender'\n",
    "]\n",
    "\n",
    "# Use the selected TCGA directory from a previous step\n",
    "selected_cohort = \"TCGA_Breast_Cancer_(BRCA)\"\n",
    "cohort_dir = os.path.join(tcga_root_dir, selected_cohort)\n",
    "\n",
    "# Get file paths using the library function\n",
    "clinical_file_path, genetic_file_path = tcga_get_relevant_filepaths(cohort_dir)\n",
    "\n",
    "# Load clinical data\n",
    "clinical_df = pd.read_csv(clinical_file_path, sep='\\t', index_col=0)\n",
    "\n",
    "# Extract and preview age columns\n",
    "age_preview = {}\n",
    "for col in candidate_age_cols:\n",
    "    if col in clinical_df.columns:\n",
    "        age_preview[col] = clinical_df[col].head(5).tolist()\n",
    "\n",
    "# Extract and preview gender columns\n",
    "gender_preview = {}\n",
    "for col in candidate_gender_cols:\n",
    "    if col in clinical_df.columns:\n",
    "        gender_preview[col] = clinical_df[col].head(5).tolist()\n",
    "\n",
    "print(\"Age columns preview:\")\n",
    "print(age_preview)\n",
    "print(\"\\nGender columns preview:\")\n",
    "print(gender_preview)\n"
   ]
  },
  {
   "cell_type": "markdown",
   "id": "02adde98",
   "metadata": {},
   "source": [
    "### Step 3: Select Demographic Features"
   ]
  },
  {
   "cell_type": "code",
   "execution_count": 4,
   "id": "3b2354fb",
   "metadata": {
    "execution": {
     "iopub.execute_input": "2025-03-25T05:19:28.106750Z",
     "iopub.status.busy": "2025-03-25T05:19:28.106642Z",
     "iopub.status.idle": "2025-03-25T05:19:28.110708Z",
     "shell.execute_reply": "2025-03-25T05:19:28.110259Z"
    }
   },
   "outputs": [
    {
     "name": "stdout",
     "output_type": "stream",
     "text": [
      "Column 'Age_at_Initial_Pathologic_Diagnosis_nature2012': 0/5 valid values\n",
      "Column 'age_at_initial_pathologic_diagnosis': 5/5 valid values\n",
      "Column 'days_to_birth': 5/5 valid values\n",
      "Column 'Gender_nature2012': 0/5 valid values\n",
      "Column 'gender': 5/5 valid values\n",
      "\n",
      "Chosen age column: age_at_initial_pathologic_diagnosis\n",
      "Chosen gender column: gender\n"
     ]
    }
   ],
   "source": [
    "# Inspect age columns\n",
    "for col_name, values in {'Age_at_Initial_Pathologic_Diagnosis_nature2012': [None, None, None, None, None], \n",
    "                         'age_at_initial_pathologic_diagnosis': [55.0, 50.0, 62.0, 52.0, 50.0], \n",
    "                         'days_to_birth': [-20211.0, -18538.0, -22848.0, -19074.0, -18371.0]}.items():\n",
    "    valid_values = [v for v in values if v is not None and not pd.isna(v)]\n",
    "    print(f\"Column '{col_name}': {len(valid_values)}/5 valid values\")\n",
    "\n",
    "# Inspect gender columns\n",
    "for col_name, values in {'Gender_nature2012': [None, None, None, None, None], \n",
    "                        'gender': ['FEMALE', 'FEMALE', 'FEMALE', 'FEMALE', 'FEMALE']}.items():\n",
    "    valid_values = [v for v in values if v is not None and not pd.isna(v) and isinstance(v, str)]\n",
    "    print(f\"Column '{col_name}': {len(valid_values)}/5 valid values\")\n",
    "\n",
    "# Select columns based on data availability\n",
    "age_col = 'age_at_initial_pathologic_diagnosis'  # This column has complete non-NaN values\n",
    "gender_col = 'gender'  # This column has complete string values\n",
    "\n",
    "# Print the chosen columns\n",
    "print(f\"\\nChosen age column: {age_col}\")\n",
    "print(f\"Chosen gender column: {gender_col}\")\n"
   ]
  },
  {
   "cell_type": "markdown",
   "id": "a5be4f46",
   "metadata": {},
   "source": [
    "### Step 4: Feature Engineering and Validation"
   ]
  },
  {
   "cell_type": "code",
   "execution_count": 5,
   "id": "be2c4f70",
   "metadata": {
    "execution": {
     "iopub.execute_input": "2025-03-25T05:19:28.112460Z",
     "iopub.status.busy": "2025-03-25T05:19:28.112317Z",
     "iopub.status.idle": "2025-03-25T05:21:13.047542Z",
     "shell.execute_reply": "2025-03-25T05:21:13.046884Z"
    }
   },
   "outputs": [
    {
     "name": "stdout",
     "output_type": "stream",
     "text": [
      "Clinical data saved to ../../output/preprocess/Generalized_Anxiety_Disorder/clinical_data/TCGA.csv\n",
      "Clinical data shape: (1247, 3)\n",
      "                 Generalized_Anxiety_Disorder   Age  Gender\n",
      "sampleID                                                   \n",
      "TCGA-3C-AAAU-01                             1  55.0     0.0\n",
      "TCGA-3C-AALI-01                             1  50.0     0.0\n",
      "TCGA-3C-AALJ-01                             1  62.0     0.0\n",
      "TCGA-3C-AALK-01                             1  52.0     0.0\n",
      "TCGA-4H-AAAK-01                             1  50.0     0.0\n"
     ]
    },
    {
     "name": "stdout",
     "output_type": "stream",
     "text": [
      "Normalized gene data saved to ../../output/preprocess/Generalized_Anxiety_Disorder/gene_data/TCGA.csv\n",
      "Normalized gene data shape: (19848, 1218)\n",
      "Linked data shape: (1218, 19851)\n"
     ]
    },
    {
     "name": "stdout",
     "output_type": "stream",
     "text": [
      "After handling missing values - linked data shape: (1218, 19851)\n",
      "For the feature 'Generalized_Anxiety_Disorder', the least common label is '0' with 114 occurrences. This represents 9.36% of the dataset.\n",
      "The distribution of the feature 'Generalized_Anxiety_Disorder' in this dataset is fine.\n",
      "\n",
      "Quartiles for 'Age':\n",
      "  25%: 48.0\n",
      "  50% (Median): 58.0\n",
      "  75%: 67.0\n",
      "Min: 26.0\n",
      "Max: 90.0\n",
      "The distribution of the feature 'Age' in this dataset is fine.\n",
      "\n",
      "For the feature 'Gender', the least common label is '1.0' with 13 occurrences. This represents 1.07% of the dataset.\n",
      "The distribution of the feature 'Gender' in this dataset is fine.\n",
      "\n",
      "After removing biased features - linked data shape: (1218, 19851)\n"
     ]
    },
    {
     "name": "stdout",
     "output_type": "stream",
     "text": [
      "Linked data saved to ../../output/preprocess/Generalized_Anxiety_Disorder/TCGA.csv\n"
     ]
    }
   ],
   "source": [
    "# Step 1: Extract and standardize the clinical features\n",
    "# Get file paths using the selected breast cancer dataset from Step 1\n",
    "cohort_dir = os.path.join(tcga_root_dir, 'TCGA_Breast_Cancer_(BRCA)')\n",
    "clinical_file_path, genetic_file_path = tcga_get_relevant_filepaths(cohort_dir)\n",
    "\n",
    "# Load data\n",
    "clinical_df = pd.read_csv(clinical_file_path, sep='\\t', index_col=0)\n",
    "genetic_df = pd.read_csv(genetic_file_path, sep='\\t', index_col=0)\n",
    "\n",
    "# Create standardized clinical features dataframe with trait, age, and gender\n",
    "# Using tumor/normal classification as the proxy for anxiety-related trait\n",
    "clinical_features = tcga_select_clinical_features(\n",
    "    clinical_df, \n",
    "    trait=trait,  # Using predefined trait variable\n",
    "    age_col=age_col, \n",
    "    gender_col=gender_col\n",
    ")\n",
    "\n",
    "# Save clinical data\n",
    "os.makedirs(os.path.dirname(out_clinical_data_file), exist_ok=True)\n",
    "clinical_features.to_csv(out_clinical_data_file)\n",
    "print(f\"Clinical data saved to {out_clinical_data_file}\")\n",
    "print(f\"Clinical data shape: {clinical_features.shape}\")\n",
    "print(clinical_features.head())\n",
    "\n",
    "# Step 2: Normalize gene symbols in gene expression data\n",
    "# Transpose the genetic data to have genes as rows\n",
    "genetic_data = genetic_df.copy()\n",
    "\n",
    "# Normalize gene symbols using the NCBI Gene database synonyms\n",
    "normalized_gene_data = normalize_gene_symbols_in_index(genetic_data)\n",
    "\n",
    "# Save normalized gene data\n",
    "os.makedirs(os.path.dirname(out_gene_data_file), exist_ok=True)\n",
    "normalized_gene_data.to_csv(out_gene_data_file)\n",
    "print(f\"Normalized gene data saved to {out_gene_data_file}\")\n",
    "print(f\"Normalized gene data shape: {normalized_gene_data.shape}\")\n",
    "\n",
    "# Step 3: Link clinical and genetic data\n",
    "# Transpose genetic data to get samples as rows, genes as columns\n",
    "genetic_data_transposed = normalized_gene_data.T\n",
    "\n",
    "# Ensure clinical and genetic data have the same samples (index values)\n",
    "common_samples = clinical_features.index.intersection(genetic_data_transposed.index)\n",
    "clinical_subset = clinical_features.loc[common_samples]\n",
    "genetic_subset = genetic_data_transposed.loc[common_samples]\n",
    "\n",
    "# Combine clinical and genetic data\n",
    "linked_data = pd.concat([clinical_subset, genetic_subset], axis=1)\n",
    "print(f\"Linked data shape: {linked_data.shape}\")\n",
    "\n",
    "# Step 4: Handle missing values\n",
    "linked_data = handle_missing_values(linked_data, trait_col=trait)\n",
    "print(f\"After handling missing values - linked data shape: {linked_data.shape}\")\n",
    "\n",
    "# Step 5: Determine biased features\n",
    "is_biased, linked_data = judge_and_remove_biased_features(linked_data, trait=trait)\n",
    "print(f\"After removing biased features - linked data shape: {linked_data.shape}\")\n",
    "\n",
    "# Step 6: Validate data quality and save cohort info\n",
    "# First check if we have both gene and trait data\n",
    "is_gene_available = linked_data.shape[1] > 3  # More than just trait, Age, Gender\n",
    "is_trait_available = trait in linked_data.columns\n",
    "\n",
    "# Take notes of special findings\n",
    "notes = f\"TCGA Breast Cancer dataset processed. Used tumor/normal classification as a proxy for {trait} analysis.\"\n",
    "\n",
    "# Validate the data quality\n",
    "is_usable = validate_and_save_cohort_info(\n",
    "    is_final=True,\n",
    "    cohort=\"TCGA\",\n",
    "    info_path=json_path,\n",
    "    is_gene_available=is_gene_available,\n",
    "    is_trait_available=is_trait_available,\n",
    "    is_biased=is_biased,\n",
    "    df=linked_data,\n",
    "    note=notes\n",
    ")\n",
    "\n",
    "# Step 7: Save linked data if usable\n",
    "if is_usable:\n",
    "    os.makedirs(os.path.dirname(out_data_file), exist_ok=True)\n",
    "    linked_data.to_csv(out_data_file)\n",
    "    print(f\"Linked data saved to {out_data_file}\")\n",
    "else:\n",
    "    print(\"Linked data not saved due to quality concerns\")"
   ]
  }
 ],
 "metadata": {
  "language_info": {
   "codemirror_mode": {
    "name": "ipython",
    "version": 3
   },
   "file_extension": ".py",
   "mimetype": "text/x-python",
   "name": "python",
   "nbconvert_exporter": "python",
   "pygments_lexer": "ipython3",
   "version": "3.10.16"
  }
 },
 "nbformat": 4,
 "nbformat_minor": 5
}
