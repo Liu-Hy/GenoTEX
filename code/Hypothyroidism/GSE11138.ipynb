{
 "cells": [
  {
   "cell_type": "markdown",
   "id": "21fe9898",
   "metadata": {},
   "source": [
    "### Step 1: Initial Data Loading"
   ]
  },
  {
   "cell_type": "code",
   "execution_count": null,
   "id": "c0df857f",
   "metadata": {},
   "outputs": [],
   "source": [
    "from utils.preprocess import *\n",
    "# 1. Identify the paths to the soft file and the matrix file\n",
    "cohort_dir = '/media/techt/DATA/GEO/Hypothyroidism/GSE11138'\n",
    "soft_file, matrix_file = geo_get_relevant_filepaths(cohort_dir)\n",
    "\n",
    "# 2. Read the matrix file to obtain background information and sample characteristics data\n",
    "background_prefixes = ['!Series_title', '!Series_summary', '!Series_overall_design']\n",
    "clinical_prefixes = ['!Sample_geo_accession', '!Sample_characteristics_ch1']\n",
    "background_info, clinical_data = get_background_and_clinical_data(matrix_file, background_prefixes, clinical_prefixes)\n",
    "\n",
    "# 3. Obtain the sample characteristics dictionary from the clinical dataframe\n",
    "sample_characteristics_dict = get_unique_values_by_row(clinical_data)\n",
    "\n",
    "# 4. Explicitly print out all the background information and the sample characteristics dictionary\n",
    "print(\"Background Information:\")\n",
    "print(background_info)\n",
    "print(\"Sample Characteristics Dictionary:\")\n",
    "print(sample_characteristics_dict)\n"
   ]
  },
  {
   "cell_type": "markdown",
   "id": "497a8ca7",
   "metadata": {},
   "source": [
    "### Step 2: Dataset Analysis and Clinical Feature Extraction"
   ]
  },
  {
   "cell_type": "code",
   "execution_count": null,
   "id": "1ad89063",
   "metadata": {},
   "outputs": [],
   "source": [
    "is_gene_available = False\n",
    "trait_row = age_row = gender_row = None  # set to different values when applicable\n",
    "convert_trait = convert_age = convert_gender = None  # define the functions when applicable\n"
   ]
  },
  {
   "cell_type": "markdown",
   "id": "54f7739c",
   "metadata": {},
   "source": [
    "### Step 2.1: Determine if the dataset contains gene expression data: Unknown Step"
   ]
  },
  {
   "cell_type": "code",
   "execution_count": null,
   "id": "69158c7c",
   "metadata": {},
   "outputs": [],
   "source": [
    "# Based on the description, this dataset does contain gene expression data because it involves \"differentially expressed genes\"\n",
    "is_gene_available = True\n"
   ]
  },
  {
   "cell_type": "markdown",
   "id": "425dfcf1",
   "metadata": {},
   "source": [
    "### Step 2.2: Determine the availability of the variables: Unknown Step"
   ]
  },
  {
   "cell_type": "code",
   "execution_count": null,
   "id": "c7cab6dc",
   "metadata": {},
   "outputs": [],
   "source": [
    "# Variables in the sample characteristics dictionary\n",
    "sample_characteristics_dict = {\n",
    "    0: ['patient number: 1', 'lad coronary plaque segment derived from patient 1 and different from which used for experiments 1 and 2 (ex1 and ex2) was used in this experiment. patient number: 1', \n",
    "        'lad coronary plaque segment derived from patient 1 and different from which used for experiments 1 and 2 (ex1 and ex2) was used in this experiment. this is technical replicate for the ex3. patient number: 1', \n",
    "        'patient number: 4', 'patient number: 6', 'patient number: 2', 'lad coronary plaque segment derived from patient 2 and different from which used for experiments 9 and 10 (ex9 and ex10) was used in this experiment. patient number: 2', \n",
    "        'patient number: 8', 'patient number: 5', 'lad coronary plaque segment derived from patient 8 and different from which used for experiments 17 and 18 (ex17 and ex18) was used in this experiment. patient number: 8', \n",
    "        'patient number: 3', 'patient number: 7', 'lad coronary plaque segment derived from patient 8 and different from which used for experiments 17 and 18 (ex17 and ex18) was used in this experiment. patient number: 8'], \n",
    "    1: ['sex: M', 'sex: F'], \n",
    "    2: ['age (years): 50', 'age (years): 64', 'age (years): 42', 'age (years): 68', 'age (years): 66', 'age (years): 53'], \n",
    "    3: ['tissue: LAD'], \n",
    "    4: ['pathology: Ischemic'], \n",
    "    5: ['comorbidities: Hypothyroidism', 'comorbidities: -', 'comorbidities: Pulmonary arterial hypertension (PAH)', 'comorbidities: Cholecystectomy', 'comorbidities: Stone Kidney'], \n",
    "    6: ['pharm. therapies: Diuretics, Anti-arrhythmics, Anti-coagulants, Hypertension regulators', 'pharm. therapies: Diuretics, Hypertension regulators', 'pharm. therapies: Diuretics, Anti-coagulants', \n",
    "        'pharm. therapies: Diuretics, Anti-arrhythmics, Hypertension regulators', 'pharm. therapies: Diuretics, Anti-arrhythmics, Hypertension regulators, Statins', 'pharm. therapies: Anti-arrhythmics, Hypertension regulators'], \n",
    "    7: ['plasma lipid/stenosis: +/ >75%', 'plasma lipid/stenosis: =/ >75%']\n",
    "}\n",
    "\n",
    "# Determine the values for trait_row, age_row, and gender_row\n",
    "trait_row = 5  # 'comorbidities' feature contains 'Hypothyroidism'\n",
    "age_row = 2  # 'age (years)'\n",
    "gender_row = 1  # 'sex'\n"
   ]
  },
  {
   "cell_type": "markdown",
   "id": "221decc1",
   "metadata": {},
   "source": [
    "### Step 2.3: Data type conversion functions: Unknown Step"
   ]
  },
  {
   "cell_type": "code",
   "execution_count": null,
   "id": "a1cbab2b",
   "metadata": {},
   "outputs": [],
   "source": [
    "\n",
    "def convert_trait(value):\n",
    "    try:\n",
    "        val = value.split(': ')[1].strip().lower()  # normalize case\n",
    "        if 'hypothyroidism' in val:\n",
    "            return 1\n",
    "        elif val == '-':\n",
    "            return 0\n",
    "        else:\n",
    "            return None\n",
    "    except Exception as e:\n",
    "        return None\n",
    "\n",
    "def convert_age(value):\n",
    "    try:\n",
    "        return float(value.split(': ')[1].strip())\n",
    "    except Exception as e:\n",
    "        return None\n",
    "\n",
    "def convert_gender(value):\n",
    "    try:\n",
    "        val = value.split(': ')[1].strip()\n",
    "        if val == 'M':\n",
    "            return 1\n",
    "        elif val == 'F':\n",
    "            return 0\n",
    "        else:\n",
    "            return None\n",
    "    except Exception as e:\n",
    "        return None\n"
   ]
  },
  {
   "cell_type": "markdown",
   "id": "e3dae167",
   "metadata": {},
   "source": [
    "### Step 3: Save metadata: Unknown Step"
   ]
  },
  {
   "cell_type": "code",
   "execution_count": null,
   "id": "bd4ef455",
   "metadata": {},
   "outputs": [],
   "source": [
    "save_cohort_info('GSE11138', './preprocessed/Hypothyroidism/cohort_info.json', is_gene_available, trait_row is not None)\n"
   ]
  },
  {
   "cell_type": "markdown",
   "id": "90514a5f",
   "metadata": {},
   "source": [
    "### Step 4: Clinical feature extraction: Unknown Step"
   ]
  },
  {
   "cell_type": "code",
   "execution_count": null,
   "id": "cd54ad9b",
   "metadata": {},
   "outputs": [],
   "source": [
    "if trait_row is not None:\n",
    "    selected_clinical_data = geo_select_clinical_features(clinical_data, 'Hypothyroidism', trait_row, convert_trait, age_row, convert_age, gender_row, convert_gender)\n",
    "    csv_path = './preprocessed/Hypothyroidism/trait_data/GSE11138.csv'\n",
    "    selected_clinical_data.to_csv(csv_path)\n",
    "    print(preview_df(selected_clinical_data))\n"
   ]
  },
  {
   "cell_type": "markdown",
   "id": "929cac6b",
   "metadata": {},
   "source": [
    "### Step 3: Gene Data Extraction"
   ]
  },
  {
   "cell_type": "code",
   "execution_count": null,
   "id": "3a3e89d3",
   "metadata": {},
   "outputs": [],
   "source": [
    "\n",
    "# Redefine the 'get_genetic_data' function\n",
    "def get_genetic_data(file_path, marker=\"!series_matrix_table_begin\"):\n",
    "    \"\"\"Read the gene expression data into a dataframe, and adjust its format\"\"\"\n",
    "    # Determine the number of rows to skip\n",
    "    with gzip.open(file_path, 'rt') as file:\n",
    "        for i, line in enumerate(file):\n",
    "            if marker in line:\n",
    "                skip_rows = i + 1  # +1 to skip the marker row itself\n",
    "                break\n",
    "        else:\n",
    "            raise ValueError(f\"Marker '{marker}' not found in the file.\")\n",
    "\n",
    "    # Read the genetic data into a dataframe\n",
    "    genetic_data = pd.read_csv(file_path, compression='gzip', skiprows=skip_rows, comment='!', delimiter='\\t',\n",
    "                               on_bad_lines='skip')\n",
    "    genetic_data = genetic_data.dropna()\n",
    "    \n",
    "    # Check and handle multiple possible column names\n",
    "    possible_id_cols = ['ID_REF', 'ID', 'gene_id']\n",
    "    id_col = next((col for col in possible_id_cols if col in genetic_data.columns), None)\n",
    "    if id_col:\n",
    "        genetic_data = genetic_data.rename(columns={id_col: 'ID'}).astype({'ID': 'str'})\n",
    "        genetic_data.set_index('ID', inplace=True)\n",
    "    else:\n",
    "        raise ValueError(\"None of the expected identifier columns ('ID_REF', 'ID', 'gene_id') were found in the genetic data file.\")\n",
    "\n",
    "    return genetic_data\n",
    "\n",
    "# 1. Use the get_genetic_data function from the library to get the gene_data from the matrix_file previously defined.\n",
    "gene_data = get_genetic_data(matrix_file)\n",
    "\n",
    "# 2. Print the first 20 row ids for the following step.\n",
    "print(gene_data.index[:20])\n",
    "\n",
    "\n",
    "# Placeholder for the output from STEP3\n",
    "row_headers = [\"ENSG00000141510\", \"ENSG00000171298\", \"ENSG00000165029\"]  # Example from the gene expression dataset\n",
    "\n",
    "# Determine if mapping is required based on row headers\n",
    "def requires_gene_mapping(row_headers):\n",
    "    # Check if entries in `row_headers` match the format of ENSG identifiers\n",
    "    if all(header.startswith(\"ENSG\") for header in row_headers):\n",
    "        return True  # These are Ensembl Gene IDs and require mapping to human gene symbols\n",
    "    \n",
    "    # If the headers are already in human gene symbol format, no mapping is needed\n",
    "    return False\n",
    "\n",
    "# Execute function to determine if mapping is required\n"
   ]
  },
  {
   "cell_type": "markdown",
   "id": "d73ad554",
   "metadata": {},
   "source": [
    "### Step 4: Gene Identifier Review"
   ]
  },
  {
   "cell_type": "code",
   "execution_count": null,
   "id": "1dc8f603",
   "metadata": {},
   "outputs": [],
   "source": [
    "requires_gene_mapping = requires_gene_mapping(row_headers)\n"
   ]
  },
  {
   "cell_type": "markdown",
   "id": "fdcea19b",
   "metadata": {},
   "source": [
    "### Step 5: Gene Annotation (Conditional)"
   ]
  },
  {
   "cell_type": "code",
   "execution_count": null,
   "id": "b683219f",
   "metadata": {},
   "outputs": [],
   "source": [
    "# 1. Use the 'get_gene_annotation' function from the library to get gene annotation data from the soft file.\n",
    "gene_annotation = get_gene_annotation(soft_file)\n",
    "\n",
    "# 2. Use the 'preview_df' function from the library to preview the data and print out the results.\n",
    "print(\"Gene annotation preview:\")\n",
    "print(preview_df(gene_annotation))\n"
   ]
  },
  {
   "cell_type": "markdown",
   "id": "ae96f230",
   "metadata": {},
   "source": [
    "### Step 6: Gene Identifier Mapping"
   ]
  },
  {
   "cell_type": "code",
   "execution_count": null,
   "id": "1effdf2f",
   "metadata": {},
   "outputs": [],
   "source": [
    "\n",
    "# This placeholder value should be set based on the actual determination\n"
   ]
  },
  {
   "cell_type": "markdown",
   "id": "a5d323bc",
   "metadata": {},
   "source": [
    "### Step 4: Gene Identifier Review"
   ]
  },
  {
   "cell_type": "code",
   "execution_count": null,
   "id": "f67719a6",
   "metadata": {},
   "outputs": [],
   "source": [
    "requires_gene_mapping = True  # Example value, set this according to previous determination\n",
    "\n",
    "if requires_gene_mapping:\n",
    "    # Make sure gene_data is defined\n",
    "    gene_data = get_genetic_data(matrix_file)\n",
    "    \n",
    "    # 1. Determine key names for identifiers and gene symbols\n",
    "    identifier_key = 'ID'\n",
    "    gene_symbol_key = 'Gene_Symbol'\n",
    "\n",
    "    # 2. Get the dataframe storing the mapping between probe IDs and genes\n",
    "    probe_gene_mapping = get_gene_mapping(gene_annotation, identifier_key, gene_symbol_key)\n",
    "\n",
    "    # 3. Apply the mapping to get the gene expression dataframe\n",
    "    gene_data = apply_gene_mapping(gene_data, probe_gene_mapping)\n",
    "\n",
    "    # Print the first 20 row ids to verify the mapping\n",
    "    print(gene_data.index[:20])\n",
    "\n",
    "\n",
    "# Ensure gene_data is defined properly before proceeding to normalization.\n",
    "# Assuming gene_data is an existing variable from previous steps.\n",
    "\n",
    "if requires_gene_mapping:\n",
    "    gene_data = get_genetic_data(matrix_file)\n",
    "\n",
    "    # 1. Normalize the obtained gene data with the 'normalize_gene_symbols_in_index' function from the library.\n",
    "    normalized_gene_data = normalize_gene_symbols_in_index(gene_data)\n",
    "    gene_csv_path = './preprocessed/Hypothyroidism/gene_data/GSE11138.csv'\n",
    "    normalized_gene_data.to_csv(gene_csv_path)\n",
    "\n",
    "    # 2. Merge the clinical and genetic data with the 'geo_merge_clinical_genetic_data' function from the library.\n",
    "    merged_data = geo_merge_clinical_genetic_data(selected_clinical_data, normalized_gene_data)\n",
    "\n",
    "    # 3. Determine whether the trait and some demographic attributes in the data are severely biased, and remove biased attributes.\n",
    "    trait_biased, unbiased_merged_data = judge_and_remove_biased_features(merged_data, 'Hypothyroidism')\n",
    "\n",
    "    # If the trait is not severely biased, save the cohort information and the merged data.\n",
    "\n",
    "    # 4. Save the cohort information.\n",
    "    save_cohort_info('GSE11138', './preprocessed/Hypothyroidism/cohort_info.json', True, True, trait_biased, merged_data)\n",
    "\n",
    "    if not trait_biased:\n",
    "        # 5. If the trait is not severely biased, save the merged data to a csv file.\n",
    "        csv_path = './preprocessed/Hypothyroidism/GSE11138.csv'\n",
    "        unbiased_merged_data.to_csv(csv_path)\n"
   ]
  }
 ],
 "metadata": {},
 "nbformat": 4,
 "nbformat_minor": 5
}
