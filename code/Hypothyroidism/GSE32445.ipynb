{
 "cells": [
  {
   "cell_type": "code",
   "execution_count": 1,
   "id": "da896ad0",
   "metadata": {
    "execution": {
     "iopub.execute_input": "2024-06-12T06:57:59.163135Z",
     "iopub.status.busy": "2024-06-12T06:57:59.162981Z",
     "iopub.status.idle": "2024-06-12T06:57:59.168617Z",
     "shell.execute_reply": "2024-06-12T06:57:59.168152Z"
    }
   },
   "outputs": [],
   "source": [
    "\n",
    "import sys\n",
    "sys.path.append('/home/techt/Desktop/a4s')\n"
   ]
  },
  {
   "cell_type": "markdown",
   "id": "2efb8133",
   "metadata": {},
   "source": [
    "### Step 1: Initial Data Loading"
   ]
  },
  {
   "cell_type": "code",
   "execution_count": 2,
   "id": "096941e1",
   "metadata": {
    "execution": {
     "iopub.execute_input": "2024-06-12T06:57:59.171087Z",
     "iopub.status.busy": "2024-06-12T06:57:59.170841Z",
     "iopub.status.idle": "2024-06-12T06:57:59.434958Z",
     "shell.execute_reply": "2024-06-12T06:57:59.434602Z"
    }
   },
   "outputs": [
    {
     "name": "stdout",
     "output_type": "stream",
     "text": [
      "Background Information:\n",
      "!Series_title\t\"Identical gene regulation patterns of triiodothyronine (T3) and selective thyroid hormone receptor modulator GC-1\"\n",
      "!Series_summary\t\"This SuperSeries is composed of the SubSeries listed below.\"\n",
      "!Series_overall_design\t\"Refer to individual Series\"\n",
      "Sample Characteristics Dictionary:\n",
      "{0: ['cell line: HepG2'], 1: ['cell type: hepatoma cells']}\n"
     ]
    }
   ],
   "source": [
    "from utils.preprocess import *\n",
    "# 1. Identify the paths to the soft file and the matrix file\n",
    "cohort_dir = '/media/techt/DATA/GEO/Hypothyroidism/GSE32445'\n",
    "soft_file, matrix_file = geo_get_relevant_filepaths(cohort_dir)\n",
    "\n",
    "# 2. Read the matrix file to obtain background information and sample characteristics data\n",
    "background_prefixes = ['!Series_title', '!Series_summary', '!Series_overall_design']\n",
    "clinical_prefixes = ['!Sample_geo_accession', '!Sample_characteristics_ch1']\n",
    "background_info, clinical_data = get_background_and_clinical_data(matrix_file, background_prefixes, clinical_prefixes)\n",
    "\n",
    "# 3. Obtain the sample characteristics dictionary from the clinical dataframe\n",
    "sample_characteristics_dict = get_unique_values_by_row(clinical_data)\n",
    "\n",
    "# 4. Explicitly print out all the background information and the sample characteristics dictionary\n",
    "print(\"Background Information:\")\n",
    "print(background_info)\n",
    "print(\"Sample Characteristics Dictionary:\")\n",
    "print(sample_characteristics_dict)\n"
   ]
  },
  {
   "cell_type": "markdown",
   "id": "f5315213",
   "metadata": {},
   "source": [
    "### Step 2: Dataset Analysis and Clinical Feature Extraction"
   ]
  },
  {
   "cell_type": "code",
   "execution_count": 3,
   "id": "38399748",
   "metadata": {
    "execution": {
     "iopub.execute_input": "2024-06-12T06:57:59.437012Z",
     "iopub.status.busy": "2024-06-12T06:57:59.436904Z",
     "iopub.status.idle": "2024-06-12T06:57:59.440231Z",
     "shell.execute_reply": "2024-06-12T06:57:59.439956Z"
    }
   },
   "outputs": [],
   "source": [
    "is_gene_available = False\n",
    "trait_row = age_row = gender_row = None  # set to different values when applicable\n",
    "convert_trait = convert_age = convert_gender = None  # define the functions when applicable\n",
    "\n",
    "# Check if gene expression data is likely available\n",
    "is_gene_available = True  # Based on the series title mentioning gene regulation\n",
    "\n",
    "# Analyzing Sample Characteristics Dictionary\n",
    "# Variable 'Hypothyroidism': Not Available\n",
    "trait_row = None\n",
    "\n",
    "# Variable 'age': Available and located at key 2\n",
    "age_row = 2\n",
    "\n",
    "# Variable 'gender': Available and located at key 1\n",
    "gender_row = 1\n",
    "\n",
    "def convert_age(value):\n",
    "    try:\n",
    "        return float(value.split(': ')[1])\n",
    "    except (ValueError, IndexError):\n",
    "        return None\n",
    "\n",
    "def convert_gender(value):\n",
    "    gender = value.split(': ')[1].lower()\n",
    "    if gender == 'male':\n",
    "        return 1\n",
    "    elif gender == 'female':\n",
    "        return 0\n",
    "    return None\n",
    "\n",
    "save_cohort_info('GSE32445', './preprocessed/Hypothyroidism/cohort_info.json', is_gene_available, trait_row is not None)\n",
    "\n",
    "# Clinical Feature Extraction\n",
    "# Since trait_row is None, skip this step.\n"
   ]
  }
 ],
 "metadata": {
  "language_info": {
   "codemirror_mode": {
    "name": "ipython",
    "version": 3
   },
   "file_extension": ".py",
   "mimetype": "text/x-python",
   "name": "python",
   "nbconvert_exporter": "python",
   "pygments_lexer": "ipython3",
   "version": "3.8.17"
  }
 },
 "nbformat": 4,
 "nbformat_minor": 5
}
