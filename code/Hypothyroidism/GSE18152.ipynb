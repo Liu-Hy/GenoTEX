{
 "cells": [
  {
   "cell_type": "code",
   "execution_count": 1,
   "id": "076acfd2",
   "metadata": {
    "execution": {
     "iopub.execute_input": "2024-06-12T06:59:32.791200Z",
     "iopub.status.busy": "2024-06-12T06:59:32.791103Z",
     "iopub.status.idle": "2024-06-12T06:59:32.795062Z",
     "shell.execute_reply": "2024-06-12T06:59:32.794742Z"
    }
   },
   "outputs": [],
   "source": [
    "\n",
    "import sys\n",
    "sys.path.append('/home/techt/Desktop/a4s')\n"
   ]
  },
  {
   "cell_type": "markdown",
   "id": "65d2e830",
   "metadata": {},
   "source": [
    "### Step 1: Initial Data Loading"
   ]
  },
  {
   "cell_type": "code",
   "execution_count": 2,
   "id": "81b64f9e",
   "metadata": {
    "execution": {
     "iopub.execute_input": "2024-06-12T06:59:32.796764Z",
     "iopub.status.busy": "2024-06-12T06:59:32.796516Z",
     "iopub.status.idle": "2024-06-12T06:59:33.135101Z",
     "shell.execute_reply": "2024-06-12T06:59:33.134718Z"
    }
   },
   "outputs": [
    {
     "name": "stdout",
     "output_type": "stream",
     "text": [
      "Background Information:\n",
      "!Series_title\t\"Screening for chromosomal aberrations by array CGH in 74 patients with congenital hypothyroidism\"\n",
      "!Series_summary\t\"Congenital Hypothyroidism occurs in 1:3500 live births and is therefore the most common congenital endocrine disorder. A spectrum of defective thyroid morphology, termed thyroid dysgenesis, represents 80% of permanent CH cases. Although several candidate genes have been implicated in thyroid development, comprehensive screens failed to detect mutation carriers in a significant number of patients with non-syndromic TD. Due to the sporadic occurrence of TD, de novo chromosomal rearrangements are conceivably representing one of the molecular mechanisms participating in its aetiology. Recently, the use of array CGH technique has provided the ability to map these variations genomewide with high resolution. We performed an array CGH screen of 74 TD patients to determine the role of copy number variants (CNV) in the aetiology of the disease. We identified novel CNVs in 8.75% of all patients that have not been described as frequent variations in the healthy population. Affected patients presented with athyreosis or thyroid hypoplasia and in one case with associated heart malformation.\"\n",
      "!Series_overall_design\t\"We selected 74 patients with thyroid dysgenesis for array CGH analysis. All individuals were detected in neonatal screening programs and abnormal thyroid gland morphology was subsequently confirmed by ultrasound examination.  Intragenic mutations in NKX2-1, FOXE1 and NKX2.5 had been previously excluded in phenotype characteristic individuals. PAX8 mutations were excluded in all patients with hypoplastic thyroids by direct sequencing of the coding exons 1-11. The study was approved by the local ethics committee.\"\n",
      "!Series_overall_design\t\"\"\n",
      "!Series_overall_design\t\"Genomic DNA of all subjects as well as of healthy controls was isolated from peripheral blood leucocytes using the Qiagen DNA blood mini kit (Qiagen, Hilden, Germany). Array-comparative genomic hybridization was carried as described previously {Erdogan, 2006 #142; Pinkel, 1998 #151}. In brief, sonicated patient- and control DNA was labeled by random priming with Cy3-dUTP and Cy5-dUTP (Bioprime Array CGH, Invitrogen, Carlsbad, CA), respectively, and hybridized onto a submegabase resolution tiling path BAC array,  consisting of ~ 36 000 BAC clones obtained from several sources as described elsewhere {Fiegler, 2003 #198; Ishkanian, 2004 #196; Krzywinski, 2004 #197} . Step-by-step protocols are also provided at http://www.molgen.mpg.de/~abt_rop/molecular_cytogenetics/.  Arrays were scanned with the G2565BA Agilent Microarray Scanner System (resolution 10 µm; PMT 100 % for Cy3/Cy5, respectively) (Agilent Inc. Santa Clara, CA) and analyzed using GENEPIX Pro 5.0 Software. Analysis and visualization of array CGH data were performed with our software package CGHPRO {Chen, 2005 #143}. For the assessment of copy number gains and losses, we used conservative log2 ratio thresholds of 0.3 and -0.3, respectively. Deviant signal intensity ratios involving three or more consecutive BAC clones were considered to be potentially pathogenic, unless they were covered by more than one known DNA copy number variant, as listed in the Database of Genomic Variants (http://projects.tcag.ca/variation/) or covered by > 50% of their length at least once in our reference set of 600 samples. Potentially pathogenic CNVs were verified by array CGH on a 244k oligonucleotide array from Agilent following the manufacturer’s instructions (Protocol-No. G4410-90010). Confirmed CNVs were tested for inheritance by co-hybridization of parental DNA on BAC arrays as described above. All chromosome coordinates are referring to the UCSC Genome Browser Assembly May 2004 (hg17/ NCBI Build 35; available at: http://genome.ucsc.edu/cgi-bin/hgGateway?hgsid=99195739&clade=vertebrate&org=Human&db=hg17). Cytoscape {Shannon, 2003 #201} was used for the elucidation of potential interactions between genes within the intervals of interest.\"\n",
      "Sample Characteristics Dictionary:\n",
      "{0: ['tissue: blood of a patient with ch.', 'tissue: blood of a healthy patient.', 'tissue: blood of a patient with ch', 'tissue: blood of a patient with ch (athyreosis)', 'tissue: blood of a patient with ch (hypoplasia)', 'tissue: blood of a patient with ch (discordant twin to 1302)', 'tissue: blood of a patient with ch (athreosis)'], 1: ['gender: male', 'gender: female']}\n"
     ]
    }
   ],
   "source": [
    "from utils.preprocess import *\n",
    "# 1. Identify the paths to the soft file and the matrix file\n",
    "cohort_dir = '/media/techt/DATA/GEO/Hypothyroidism/GSE18152'\n",
    "soft_file, matrix_file = geo_get_relevant_filepaths(cohort_dir)\n",
    "\n",
    "# 2. Read the matrix file to obtain background information and sample characteristics data\n",
    "background_prefixes = ['!Series_title', '!Series_summary', '!Series_overall_design']\n",
    "clinical_prefixes = ['!Sample_geo_accession', '!Sample_characteristics_ch1']\n",
    "background_info, clinical_data = get_background_and_clinical_data(matrix_file, background_prefixes, clinical_prefixes)\n",
    "\n",
    "# 3. Obtain the sample characteristics dictionary from the clinical dataframe\n",
    "sample_characteristics_dict = get_unique_values_by_row(clinical_data)\n",
    "\n",
    "# 4. Explicitly print out all the background information and the sample characteristics dictionary\n",
    "print(\"Background Information:\")\n",
    "print(background_info)\n",
    "print(\"Sample Characteristics Dictionary:\")\n",
    "print(sample_characteristics_dict)\n"
   ]
  },
  {
   "cell_type": "markdown",
   "id": "953d13c8",
   "metadata": {},
   "source": [
    "### Step 2: Dataset Analysis and Clinical Feature Extraction"
   ]
  },
  {
   "cell_type": "code",
   "execution_count": 3,
   "id": "bb8285e0",
   "metadata": {
    "execution": {
     "iopub.execute_input": "2024-06-12T06:59:33.136787Z",
     "iopub.status.busy": "2024-06-12T06:59:33.136677Z",
     "iopub.status.idle": "2024-06-12T06:59:33.152565Z",
     "shell.execute_reply": "2024-06-12T06:59:33.152271Z"
    }
   },
   "outputs": [
    {
     "name": "stdout",
     "output_type": "stream",
     "text": [
      "{'GSM453685': [1, 1], 'GSM453686': [1, 1], 'GSM453687': [1, 1], 'GSM453688': [1, 0], 'GSM453689': [1, 0], 'GSM453690': [1, 0], 'GSM453691': [1, 0], 'GSM453692': [1, 0], 'GSM453693': [1, 0], 'GSM453694': [1, 0], 'GSM453695': [1, 0], 'GSM453696': [1, 0], 'GSM453697': [1, 0], 'GSM453698': [1, 0], 'GSM453699': [1, 0], 'GSM453700': [1, 0], 'GSM453701': [1, 0], 'GSM453702': [1, 0], 'GSM453703': [1, 0], 'GSM453704': [1, 1], 'GSM453705': [1, 1], 'GSM453706': [1, 1], 'GSM453707': [1, 1], 'GSM453708': [1, 1], 'GSM453709': [1, 0], 'GSM453710': [1, 0], 'GSM453711': [1, 0], 'GSM453712': [1, 0], 'GSM453713': [1, 0], 'GSM453714': [1, 0], 'GSM453715': [1, 0], 'GSM453716': [1, 0], 'GSM453717': [1, 0], 'GSM453718': [1, 0], 'GSM453719': [1, 1], 'GSM453721': [0, 0], 'GSM453722': [0, 0], 'GSM453723': [0, 0], 'GSM453724': [0, 0], 'GSM453725': [0, 0], 'GSM453726': [0, 1], 'GSM453735': [1, 1], 'GSM453736': [1, 1], 'GSM453737': [1, 1], 'GSM453738': [1, 0], 'GSM453739': [1, 0], 'GSM453740': [1, 0], 'GSM453741': [1, 0], 'GSM453742': [1, 1], 'GSM453743': [1, 1], 'GSM453744': [1, 1], 'GSM453745': [1, 0], 'GSM453746': [1, 0], 'GSM453747': [1, 0], 'GSM453748': [1, 0], 'GSM453749': [1, 0], 'GSM453750': [1, 0], 'GSM453751': [1, 1], 'GSM453752': [1, 1], 'GSM453753': [1, 1], 'GSM453754': [1, 1], 'GSM461432': [1, 0], 'GSM461433': [1, 0], 'GSM461434': [1, 0], 'GSM461435': [1, 0], 'GSM461436': [1, 1], 'GSM461437': [1, 0], 'GSM461438': [1, 1], 'GSM461439': [1, 0], 'GSM461440': [1, 0], 'GSM461441': [1, 0], 'GSM461442': [1, 0], 'GSM461443': [1, 0], 'GSM461444': [1, 0], 'GSM461445': [1, 0], 'GSM461446': [1, 0], 'GSM461447': [1, 0], 'GSM461448': [1, 0], 'GSM461449': [1, 0], 'GSM461450': [1, 1]}\n"
     ]
    }
   ],
   "source": [
    "is_gene_available = False\n",
    "trait_row = age_row = gender_row = None  # set to different values when applicable\n",
    "convert_trait = convert_age = convert_gender = None  # define the functions when applicable\n",
    "\n",
    "# Ensure the sample_characteristics dictionary is available\n",
    "sample_characteristics = {\n",
    "    0: ['tissue: blood of a patient with ch.', 'tissue: blood of a healthy patient.', 'tissue: blood of a patient with ch', 'tissue: blood of a patient with ch (athyreosis)', 'tissue: blood of a patient with ch (hypoplasia)', 'tissue: blood of a patient with ch (discordant twin to 1302)', 'tissue: blood of a patient with ch (athreosis)'],\n",
    "    1: ['gender: male', 'gender: female']\n",
    "}\n",
    "\n",
    "# Step 1: Check if the dataset contains gene expression data\n",
    "if \"tissue: blood of a patient with ch\" in sample_characteristics[0] or \\\n",
    "   \"tissue: blood of a healthy patient.\" in sample_characteristics[0]:\n",
    "    is_gene_available = True\n",
    "\n",
    "# Step 2: Variables Availability and Data Type Conversion\n",
    "# Hypothyroidism (Trait)\n",
    "if any(\"tissue: blood of a patient\" in item for item in sample_characteristics[0]):\n",
    "    trait_row = 0\n",
    "\n",
    "# Gender\n",
    "if \"gender: male\" in sample_characteristics[1] and \"gender: female\" in sample_characteristics[1]:\n",
    "    gender_row = 1\n",
    "\n",
    "# Define conversion functions\n",
    "def convert_trait(value):\n",
    "    if value.startswith(\"tissue:\"):\n",
    "        val = value.split(':')[1].strip()\n",
    "        if \"healthy\" in val:\n",
    "            return 0\n",
    "        elif \"patient\" in val:\n",
    "            return 1\n",
    "    return None\n",
    "\n",
    "def convert_gender(value):\n",
    "    if value.startswith(\"gender:\"):\n",
    "        val = value.split(':')[1].strip()\n",
    "        if val == \"male\":\n",
    "            return 1\n",
    "        elif val == \"female\":\n",
    "            return 0\n",
    "    return None\n",
    "\n",
    "# Placeholder for convert_age if age data is found later\n",
    "def convert_age(value):\n",
    "    return None  # Update with actual logic if age is available in future steps\n",
    "\n",
    "# Step 3: Save Metadata\n",
    "save_cohort_info('GSE18152', './preprocessed/Hypothyroidism/cohort_info.json', is_gene_available, trait_row is not None)\n",
    "\n",
    "# Step 4: Clinical Feature Extraction\n",
    "if trait_row is not None:\n",
    "    selected_clinical_data = geo_select_clinical_features(clinical_data, 'Hypothyroidism', trait_row, convert_trait, age_row, convert_age, gender_row, convert_gender)\n",
    "    csv_path = './preprocessed/Hypothyroidism/trait_data/GSE18152.csv'\n",
    "    selected_clinical_data.to_csv(csv_path)\n",
    "    print(preview_df(selected_clinical_data))\n"
   ]
  },
  {
   "cell_type": "markdown",
   "id": "805591f6",
   "metadata": {},
   "source": [
    "### Step 3: Gene Data Extraction"
   ]
  },
  {
   "cell_type": "code",
   "execution_count": 4,
   "id": "46ef8f07",
   "metadata": {
    "execution": {
     "iopub.execute_input": "2024-06-12T06:59:33.153931Z",
     "iopub.status.busy": "2024-06-12T06:59:33.153828Z",
     "iopub.status.idle": "2024-06-12T06:59:33.397179Z",
     "shell.execute_reply": "2024-06-12T06:59:33.396778Z"
    }
   },
   "outputs": [
    {
     "name": "stdout",
     "output_type": "stream",
     "text": [
      "Index(['10_10_11_N0010J19', '10_10_17_N0014K03', '10_10_19_N0012J05',\n",
      "       '10_10_1_dJ1118A7', '10_10_20_N0335K08', '10_10_6_M2532O10',\n",
      "       '10_11_10_N0692C05', '10_11_16_N0674B13', '10_11_17_N0081L05',\n",
      "       '10_12_11_N0026F24', '10_12_12_N0280F22', '10_12_13_N0206M11',\n",
      "       '10_12_14_N0012J09', '10_12_16_N0523B21', '10_12_2_RP11148f10',\n",
      "       '10_12_3_L05299', '10_13_13_N0186B11', '10_13_15_N0044A06',\n",
      "       '10_13_1_dJ605G11', '10_13_2_RP1188n2'],\n",
      "      dtype='object', name='ID')\n"
     ]
    }
   ],
   "source": [
    "# 1. Use the get_genetic_data function from the library to get the gene_data from the matrix_file previously defined.\n",
    "gene_data = get_genetic_data(matrix_file)\n",
    "\n",
    "# 2. Print the first 20 row ids for the following step.\n",
    "print(gene_data.index[:20])\n"
   ]
  },
  {
   "cell_type": "markdown",
   "id": "9d2b2b19",
   "metadata": {},
   "source": [
    "### Step 4: Gene Identifier Review"
   ]
  },
  {
   "cell_type": "code",
   "execution_count": 5,
   "id": "331c4f41",
   "metadata": {
    "execution": {
     "iopub.execute_input": "2024-06-12T06:59:33.398694Z",
     "iopub.status.busy": "2024-06-12T06:59:33.398574Z",
     "iopub.status.idle": "2024-06-12T06:59:33.400528Z",
     "shell.execute_reply": "2024-06-12T06:59:33.400238Z"
    }
   },
   "outputs": [],
   "source": [
    "requires_gene_mapping = True\n"
   ]
  },
  {
   "cell_type": "markdown",
   "id": "3af14499",
   "metadata": {},
   "source": [
    "### Step 5: Gene Annotation (Conditional)"
   ]
  },
  {
   "cell_type": "code",
   "execution_count": 6,
   "id": "282faa49",
   "metadata": {
    "execution": {
     "iopub.execute_input": "2024-06-12T06:59:33.401776Z",
     "iopub.status.busy": "2024-06-12T06:59:33.401675Z",
     "iopub.status.idle": "2024-06-12T06:59:38.285019Z",
     "shell.execute_reply": "2024-06-12T06:59:38.284630Z"
    }
   },
   "outputs": [
    {
     "name": "stdout",
     "output_type": "stream",
     "text": [
      "Gene annotation preview:\n",
      "{'ID': ['1_1_1_bK1444N24', '1_1_2_Buffer_PCR', '1_1_3_397B22', '1_1_4_Buffer_PCR', '1_1_5_Buffer_PCR'], 'Internal_Name': ['bK1444N24', 'Buffer_PCR', '397B22', 'Buffer_PCR', 'Buffer_PCR'], 'Name': ['bK1444N24', 'Buffer_PCR', '397B22', 'Buffer_PCR', 'Buffer_PCR'], 'Block': ['1', '1', '1', '1', '1'], 'Row': ['1', '1', '1', '1', '1'], 'Col': ['1', '2', '3', '4', '5'], 'Chromosom': ['--', '--', '--', '--', '--'], 'Chromosom_start': ['--', '--', '--', '--', '--'], 'Chromosom_end': ['--', '--', '--', '--', '--'], 'GB_RANGE': [nan, nan, nan, nan, nan], 'CLONE_ID': [nan, nan, nan, nan, nan], 'SPOT_ID': ['bK1444N24', '--Buffer_PCR', '397B22', '--Buffer_PCR', '--Buffer_PCR']}\n"
     ]
    }
   ],
   "source": [
    "# 1. Use the 'get_gene_annotation' function from the library to get gene annotation data from the soft file.\n",
    "gene_annotation = get_gene_annotation(soft_file)\n",
    "\n",
    "# 2. Use the 'preview_df' function from the library to preview the data and print out the results.\n",
    "print(\"Gene annotation preview:\")\n",
    "print(preview_df(gene_annotation))\n"
   ]
  },
  {
   "cell_type": "markdown",
   "id": "f69f7c44",
   "metadata": {},
   "source": [
    "### Step 6: Gene Identifier Mapping"
   ]
  },
  {
   "cell_type": "code",
   "execution_count": 7,
   "id": "2aa88a73",
   "metadata": {
    "execution": {
     "iopub.execute_input": "2024-06-12T06:59:38.286514Z",
     "iopub.status.busy": "2024-06-12T06:59:38.286393Z",
     "iopub.status.idle": "2024-06-12T06:59:42.267842Z",
     "shell.execute_reply": "2024-06-12T06:59:42.267405Z"
    }
   },
   "outputs": [],
   "source": [
    "# 1. Identify the keys for mapping gene identifiers to gene symbols\n",
    "identifier_key = 'ID'\n",
    "gene_symbol_key = 'Internal_Name'\n",
    "\n",
    "# 2. Get the dataframe storing the mapping between probe IDs and genes\n",
    "mapping_df = get_gene_mapping(gene_annotation, identifier_key, gene_symbol_key)\n",
    "\n",
    "# 3. Apply the mapping to create the gene expression dataframe\n",
    "gene_data = apply_gene_mapping(gene_data, mapping_df)\n"
   ]
  },
  {
   "cell_type": "markdown",
   "id": "0721c384",
   "metadata": {},
   "source": [
    "### Step 7: Data Normalization and Merging"
   ]
  },
  {
   "cell_type": "code",
   "execution_count": 8,
   "id": "f445a7d3",
   "metadata": {
    "execution": {
     "iopub.execute_input": "2024-06-12T06:59:42.269729Z",
     "iopub.status.busy": "2024-06-12T06:59:42.269617Z",
     "iopub.status.idle": "2024-06-12T06:59:50.550763Z",
     "shell.execute_reply": "2024-06-12T06:59:50.550251Z"
    }
   },
   "outputs": [
    {
     "name": "stdout",
     "output_type": "stream",
     "text": [
      "No gene data in the dataframe\n"
     ]
    }
   ],
   "source": [
    "# 1. Normalize the obtained gene data with the 'normalize_gene_symbols_in_index' function from the library.\n",
    "normalized_gene_data = normalize_gene_symbols_in_index(gene_data)\n",
    "gene_csv_path = './preprocessed/Hypothyroidism/gene_data/GSE18152.csv'\n",
    "normalized_gene_data.to_csv(gene_csv_path)\n",
    "\n",
    "# 2. Merge the clinical and genetic data with the 'geo_merge_clinical_genetic_data' function from the library.\n",
    "merged_data = geo_merge_clinical_genetic_data(selected_clinical_data, normalized_gene_data)\n",
    "\n",
    "# 3. Determine whether the trait and some demographic attributes in the data is severely biased, and remove biased attributes.\n",
    "trait_biased, unbiased_merged_data = judge_and_remove_biased_features(merged_data, 'Hypothyroidism')\n",
    "\n",
    "# If the trait is not severely biased, save the cohort information and the merged data.\n",
    "\n",
    "# 4. Save the cohort information.\n",
    "save_cohort_info('GSE18152', './preprocessed/Hypothyroidism/cohort_info.json', True, True, trait_biased, merged_data)\n",
    "\n",
    "if not trait_biased:\n",
    "    # 5. If the trait is not severely biased, save the merged data to a csv file.\n",
    "    csv_path = './preprocessed/Hypothyroidism/GSE18152.csv'\n",
    "    unbiased_merged_data.to_csv(csv_path)\n"
   ]
  }
 ],
 "metadata": {
  "language_info": {
   "codemirror_mode": {
    "name": "ipython",
    "version": 3
   },
   "file_extension": ".py",
   "mimetype": "text/x-python",
   "name": "python",
   "nbconvert_exporter": "python",
   "pygments_lexer": "ipython3",
   "version": "3.8.17"
  }
 },
 "nbformat": 4,
 "nbformat_minor": 5
}
