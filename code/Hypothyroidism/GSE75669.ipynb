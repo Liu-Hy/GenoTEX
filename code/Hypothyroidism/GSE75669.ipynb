{
 "cells": [
  {
   "cell_type": "code",
   "execution_count": 1,
   "id": "dd4677c8",
   "metadata": {
    "execution": {
     "iopub.execute_input": "2024-06-12T06:58:00.146156Z",
     "iopub.status.busy": "2024-06-12T06:58:00.146061Z",
     "iopub.status.idle": "2024-06-12T06:58:00.149789Z",
     "shell.execute_reply": "2024-06-12T06:58:00.149524Z"
    }
   },
   "outputs": [],
   "source": [
    "\n",
    "import sys\n",
    "sys.path.append('/home/techt/Desktop/a4s')\n"
   ]
  },
  {
   "cell_type": "markdown",
   "id": "ef34d837",
   "metadata": {},
   "source": [
    "### Step 1: Initial Data Loading"
   ]
  },
  {
   "cell_type": "code",
   "execution_count": 2,
   "id": "686b3313",
   "metadata": {
    "execution": {
     "iopub.execute_input": "2024-06-12T06:58:00.151949Z",
     "iopub.status.busy": "2024-06-12T06:58:00.151824Z",
     "iopub.status.idle": "2024-06-12T06:58:00.406461Z",
     "shell.execute_reply": "2024-06-12T06:58:00.405837Z"
    }
   },
   "outputs": [
    {
     "name": "stdout",
     "output_type": "stream",
     "text": [
      "Background Information:\n",
      "!Series_title\t\"miRNAs Expression of Mexican Patients with Breast Cancer\"\n",
      "!Series_summary\t\"miRNAs expression of tumor sample of mexican patients with breast cancer.\"\n",
      "!Series_summary\t\"Samples obtained from the Hospital San Jose Tec de Monterrey.\"\n",
      "!Series_overall_design\t\"The experiments were with one color per patient, miRNAs expression profile is from a tumor sample of mexican patients with breast cancer.\"\n",
      "Sample Characteristics Dictionary:\n",
      "{0: ['tissue: Tumor Sample of Breast Cancer'], 1: ['gender: Female'], 2: ['rna ng/ul: 143.6', 'rna ng/ul: 343', 'rna ng/ul: 625.4', 'rna ng/ul: 146.7', 'rna ng/ul: 1365', 'rna ng/ul: 224.7', 'rna ng/ul: 60', 'rna ng/ul: 151.6', 'rna ng/ul: 1566.4', 'rna ng/ul: 670', 'rna ng/ul: 333.9', 'rna ng/ul: 728', 'rna ng/ul: 1083', 'rna ng/ul: 439', 'rna ng/ul: 1116.8', 'rna ng/ul: 682', 'rna ng/ul: 1011.5', 'rna ng/ul: 291.4', 'rna ng/ul: 419.5', 'rna ng/ul: 178.2', 'rna ng/ul: 401', 'rna ng/ul: 1545', 'rna ng/ul: 2055.6', 'rna ng/ul: 433.4', 'rna ng/ul: 431.4', 'rna ng/ul: 475', 'rna ng/ul: 693.6', 'rna ng/ul: 164', 'rna ng/ul: 437.4', 'rna ng/ul: 127.7'], 3: ['rna 260/280 (nanodrop): 2.09', 'rna 260/280 (nanodrop): 2.16', 'rna 260/280 (nanodrop): 2.11', 'rna 260/280 (nanodrop): 2.13', 'rna 260/280 (nanodrop): 2.17', 'rna 260/280 (nanodrop): 2.14', 'rna 260/280 (nanodrop): 2.24', 'rna 260/280 (nanodrop): 2.19', 'rna 260/280 (nanodrop): 2.15', 'rna 260/280 (nanodrop): 2.07', 'rna 260/280 (nanodrop): 2.1', 'rna 260/280 (nanodrop): 2.35', 'rna 260/280 (nanodrop): 1.79', 'rna 260/280 (nanodrop): 2.06', 'rna 260/280 (nanodrop): 2.12', 'rna 260/280 (nanodrop): 2.08', 'rna 260/280 (nanodrop): 1.96', 'rna 260/280 (nanodrop): 2.05', 'rna 260/280 (nanodrop): 2.18'], 4: ['rna 260/230 (nanodrop): 1.18', 'rna 260/230 (nanodrop): 2.21', 'rna 260/230 (nanodrop): 1.68', 'rna 260/230 (nanodrop): 2.22', 'rna 260/230 (nanodrop): 1.27', 'rna 260/230 (nanodrop): 1.37', 'rna 260/230 (nanodrop): 1.69', 'rna 260/230 (nanodrop): 2.27', 'rna 260/230 (nanodrop): 2.11', 'rna 260/230 (nanodrop): 1.01', 'rna 260/230 (nanodrop): 2.15', 'rna 260/230 (nanodrop): 1.06', 'rna 260/230 (nanodrop): 2.18', 'rna 260/230 (nanodrop): 2.29', 'rna 260/230 (nanodrop): 2.23', 'rna 260/230 (nanodrop): 2.06', 'rna 260/230 (nanodrop): 1.63', 'rna 260/230 (nanodrop): 1.22', 'rna 260/230 (nanodrop): 2.16', 'rna 260/230 (nanodrop): 2.26', 'rna 260/230 (nanodrop): 1.33', 'rna 260/230 (nanodrop): 1.98', 'rna 260/230 (nanodrop): 1.7', 'rna 260/230 (nanodrop): 1.94', 'rna 260/230 (nanodrop): 1.03', 'rna 260/230 (nanodrop): 2.1', 'rna 260/230 (nanodrop): 2.3', 'rna 260/230 (nanodrop): 1.78', 'rna 260/230 (nanodrop): 1.65', 'rna 260/230 (nanodrop): 2.32'], 5: ['rqi experion: 7.7', 'rqi experion: 8.9', 'rqi experion: 7.9', 'rqi experion: 6.6', 'rqi experion: 9', 'rqi experion: 8.5', 'rqi experion: 8.2', 'rqi experion: 8.1', 'rqi experion: 10', 'rqi experion: 8.4', 'rqi experion: 9.6', 'rqi experion: 8.7', 'rqi experion: 6.4', 'rqi experion: 7.2', 'rqi experion: 8', 'rqi experion: 7.8', 'rqi experion: 8.3', 'rqi experion: 7.4', 'rqi experion: 8.8', 'rqi experion: 8.6', 'rqi experion: 7.6', 'rqi experion: 9.4', 'rqi experion: 6.8', 'rqi experion: 9.2', 'rqi experion: 9.3', 'rqi experion: 9.9', 'rqi experion: 9.1'], 6: ['diagnosis: Invasive ductal carcinoma', 'diagnosis: Poorly differentiated ductal adenocarcinoma', 'diagnosis: Poorly differentiated infiltrating ductal carcinoma', 'diagnosis: Invasive ductal carcinoma, carcinoma in situ associated with comedo necrosis', 'diagnosis: Right Breast Ductal carcinoma in situ Left Breast infiltrating ductal adenocarcinoma poorly differentiated', 'diagnosis: Infiltrating ductal carcinoma', 'diagnosis: Invasive ductal adenocarcinoma', 'diagnosis: Moderately differentiated invasive ductal carcinoma', 'diagnosis: Undifferentiated carcinoma', 'diagnosis: Poorly differentiated invasive ductal adenocarcinoma', 'diagnosis: High grade invasive ductal carcinoma', 'diagnosis: Ductal carcinoma in situ comedonicus type', 'diagnosis: Poorly differentiated invasive ductal carcinoma', 'diagnosis: High nuclear grade ductal carcinoma associated with carcinoma in situ', 'diagnosis: Poorly differentiated invasive carcinoma with chondroid metaplasia', 'diagnosis: Moderately differentiated infiltrating ductal adenocarcinoma', 'diagnosis: Infiltrating ductal carcinoma high', 'diagnosis: Poorly differentiated infiltrating ductal adenocarcinoma', 'diagnosis: Infiltrating lobular carcinoma high nuclear grade', 'diagnosis: Infiltrating ductal adenocarcinoma', 'diagnosis: Invasive ductal adenocarcinoma high nuclear grade', 'diagnosis: Carcinoma in situ associated with comedo necrosis'], 7: ['histological grade: 3', 'histological grade: 2', 'histological grade: 1', 'histological grade: N/A'], 8: ['estrogen receptor immunohistochemestry: Neg', 'estrogen receptor immunohistochemestry: Pos'], 9: ['progesteron receptor immunohistochemestry: Neg', 'progesteron receptor immunohistochemestry: Pos', 'progesteron receptor immunohistochemestry: POs'], 10: ['her2 immunohistochemestry: Neg', 'her2 immunohistochemestry: Pos', 'her2 immunohistochemestry: N/A'], 11: ['her2 fish: N/A', 'her2 fish: Neg', 'her2 fish: Pos'], 12: ['percentage ki67 ihc: 0.0022', 'percentage ki67 ihc: 0.05', 'percentage ki67 ihc: 0.8', 'percentage ki67 ihc: 0.6', 'percentage ki67 ihc: 0.1', 'percentage ki67 ihc: N/A', 'percentage ki67 ihc: 0.04', 'percentage ki67 ihc: 0.15', 'percentage ki67 ihc: 0.85', 'percentage ki67 ihc: 0.02', 'percentage ki67 ihc: 0.7', 'percentage ki67 ihc: 0.4', 'percentage ki67 ihc: 0.25', 'percentage ki67 ihc: 0.03', 'percentage ki67 ihc: 0.35', 'percentage ki67 ihc: 0.12', 'percentage ki67 ihc: 0.08', 'percentage ki67 ihc: 0.01', 'percentage ki67 ihc: 0.07', 'percentage ki67 ihc: 0.2', 'percentage ki67 ihc: 0.06', 'percentage ki67 ihc: 0.22', 'percentage ki67 ihc: 0.45'], 13: ['p63 ihc: Neg', 'p63 ihc: Absent', 'p63 ihc: N/A', 'p63 ihc: Pos'], 14: ['e-cadherina ihc: N/A', 'e-cadherina ihc: Pos'], 15: ['t: 2', 't: 1', 't: 4', 't: 3'], 16: ['n: 1', 'n: 0', 'n: 3', 'n: 2'], 17: ['m: 0', 'm: 1', 'm: x'], 18: ['data at diagnosis: 2013-07-11', 'data at diagnosis: 2013-06-06', 'data at diagnosis: 2013-10-02', 'data at diagnosis: 2013-08-24', 'data at diagnosis: 2014-04-02', 'data at diagnosis: 2013-07-08', 'data at diagnosis: 2013-06-04', 'data at diagnosis: 2013-10-15', 'data at diagnosis: 2013-09-03', 'data at diagnosis: 2014-05-14', 'data at diagnosis: 2013-12-09', 'data at diagnosis: 2013-06-18', 'data at diagnosis: 2013-05-29', 'data at diagnosis: 2014-03-10', 'data at diagnosis: 2012-12-05', 'data at diagnosis: 2013-05-24', 'data at diagnosis: 2013-06-23', 'data at diagnosis: 2013-09-10', 'data at diagnosis: 2013-08-01', 'data at diagnosis: 2014-03-18', 'data at diagnosis: 2013-08-06', 'data at diagnosis: 2013-05-21', 'data at diagnosis: 2013-08-22', 'data at diagnosis: 2013-08-08', 'data at diagnosis: 2013-11-04', 'data at diagnosis: 2013-06-17', 'data at diagnosis: 2013-09-02', 'data at diagnosis: 2013-07-23', 'data at diagnosis: 2014-02-21', 'data at diagnosis: 2013-11-12'], 19: ['age at diagnosis: 54', 'age at diagnosis: 41', 'age at diagnosis: 55', 'age at diagnosis: 51', 'age at diagnosis: 45', 'age at diagnosis: 48', 'age at diagnosis: 71', 'age at diagnosis: 43', 'age at diagnosis: 40', 'age at diagnosis: 59', 'age at diagnosis: 36', 'age at diagnosis: 66', 'age at diagnosis: 56', 'age at diagnosis: 50', 'age at diagnosis: 42', 'age at diagnosis: 57', 'age at diagnosis: 49', 'age at diagnosis: 70', 'age at diagnosis: 87', 'age at diagnosis: 31', 'age at diagnosis: 62', 'age at diagnosis: 44', 'age at diagnosis: 53', 'age at diagnosis: 35', 'age at diagnosis: 68', 'age at diagnosis: 46', 'age at diagnosis: 58'], 20: ['pathological family history: Liver Cancer', 'pathological family history: Neg', 'pathological family history: Father Lung Cancer', 'pathological family history: Fater Liver Cancer', 'pathological family history: Hypertension', 'pathological family history: Maternal Aunt Breast Cancer', 'pathological family history: Mother and Sister Ovarian Cancer', 'pathological family history: Sister Brain Cancer', 'pathological family history: Father Laringeal Cancer', 'pathological family history: Diabetes', 'pathological family history: Diabetes and Heart Disease', 'pathological family history: Sister Liver Cancer', 'pathological family history: Father Pancreas Cancer. Maternal Aunt Breast Cancer. Father Aunts Ovarian Cancer. Cousin Breast Cancer', 'pathological family history: Mother Breast Cancer', 'pathological family history: Paternal Grandmother Breast Cancer', 'pathological family history: Nev', 'pathological family history: Mother Endometrial Cancer', 'pathological family history: Sister GBM and Breast Cancer', 'pathological family history: Pos', 'pathological family history: Sister Pancreatic Cancer', 'pathological family history: Sister Breast Cancer, Brother Prostate Cancer'], 21: ['personal pathological hystory: Neg', 'personal pathological hystory: Hypertension and Rheumatoid Artritis', 'personal pathological hystory: Dyslipidemia', 'personal pathological hystory: Hypothyroidism', 'personal pathological hystory: Hypertension', 'personal pathological hystory: Hypertension and Diabetes', 'personal pathological hystory: Apendicitis', 'personal pathological hystory: Ocular Surgery', 'personal pathological hystory: Diabetes', 'personal pathological hystory: Rheumatoid Arthritis', 'personal pathological hystory: 0', 'personal pathological hystory: C section', 'personal pathological hystory: Hysterechtomy', 'personal pathological hystory: Knee Surgery', 'personal pathological hystory: Venous insuficiency', 'personal pathological hystory: 3 C sections'], 22: ['tabaquism: Pos', 'tabaquism: Neg'], 23: ['age at menarche: 14', 'age at menarche: 13', 'age at menarche: 12', 'age at menarche: 15', 'age at menarche: 11', 'age at menarche: 18'], 24: ['birads: 6', 'birads: 4', 'birads: 5', 'birads: N/A', 'birads: 2'], 25: ['breast affected: Left', 'breast affected: Right', 'breast affected: Both'], 26: ['initial highest diameter in mm by image: 20', 'initial highest diameter in mm by image: 7', 'initial highest diameter in mm by image: 40', 'initial highest diameter in mm by image: 30', 'initial highest diameter in mm by image: 67', 'initial highest diameter in mm by image: 35', 'initial highest diameter in mm by image: 57', 'initial highest diameter in mm by image: 39', 'initial highest diameter in mm by image: 16', 'initial highest diameter in mm by image: 22', 'initial highest diameter in mm by image: 25', 'initial highest diameter in mm by image: 51', 'initial highest diameter in mm by image: 41', 'initial highest diameter in mm by image: 33', 'initial highest diameter in mm by image: 50', 'initial highest diameter in mm by image: 86', 'initial highest diameter in mm by image: 90', 'initial highest diameter in mm by image: 37', 'initial highest diameter in mm by image: 60', 'initial highest diameter in mm by image: 80', 'initial highest diameter in mm by image: 70', 'initial highest diameter in mm by image: 4', 'initial highest diameter in mm by image: 14', 'initial highest diameter in mm by image: 32', 'initial highest diameter in mm by image: 48', 'initial highest diameter in mm by image: 100', 'initial highest diameter in mm by image: 36', 'initial highest diameter in mm by image: 27', 'initial highest diameter in mm by image: 200', 'initial highest diameter in mm by image: 34'], 27: ['initial clinical size in mm by palpation: 40', 'initial clinical size in mm by palpation: 20', 'initial clinical size in mm by palpation: 0', 'initial clinical size in mm by palpation: 80', 'initial clinical size in mm by palpation: 70', 'initial clinical size in mm by palpation: 50', 'initial clinical size in mm by palpation: 15', 'initial clinical size in mm by palpation: 30', 'initial clinical size in mm by palpation: 90', 'initial clinical size in mm by palpation: 100', 'initial clinical size in mm by palpation: 60', 'initial clinical size in mm by palpation: 35', 'initial clinical size in mm by palpation: 150'], 28: ['final pathology size in mm: 20', 'final pathology size in mm: 10', 'final pathology size in mm: 0', 'final pathology size in mm: 38', 'final pathology size in mm: 18', 'final pathology size in mm: 45', 'final pathology size in mm: 50', 'final pathology size in mm: 15', 'final pathology size in mm: 25', 'final pathology size in mm: 80', 'final pathology size in mm: 110', 'final pathology size in mm: 35', 'final pathology size in mm: 30', 'final pathology size in mm: 55', 'final pathology size in mm: 7', 'final pathology size in mm: 5', 'final pathology size in mm: 2', 'final pathology size in mm: 40'], 29: ['final clinical size in mm by palpation: 0', 'final clinical size in mm by palpation: 30', 'final clinical size in mm by palpation: 10', 'final clinical size in mm by palpation: 50', 'final clinical size in mm by palpation: 80', 'final clinical size in mm by palpation: 150'], 30: ['final number of positive ganglia: 0', 'final number of positive ganglia: 3', 'final number of positive ganglia: 4', 'final number of positive ganglia: 17', 'final number of positive ganglia: 2', 'final number of positive ganglia: 1', 'final number of positive ganglia: 8', 'final number of positive ganglia: 9', 'final number of positive ganglia: 5', 'final number of positive ganglia: 12', 'final number of positive ganglia: 6', 'final number of positive ganglia: 7'], 31: ['final number of resected ganglia: 22', 'final number of resected ganglia: 3', 'final number of resected ganglia: 0', 'final number of resected ganglia: 4', 'final number of resected ganglia: 14', 'final number of resected ganglia: 20', 'final number of resected ganglia: 2', 'final number of resected ganglia: 17', 'final number of resected ganglia: 10', 'final number of resected ganglia: 13', 'final number of resected ganglia: 11', 'final number of resected ganglia: 6', 'final number of resected ganglia: 37', 'final number of resected ganglia: 26', 'final number of resected ganglia: 18', 'final number of resected ganglia: 16', 'final number of resected ganglia: 12', 'final number of resected ganglia: 33', 'final number of resected ganglia: 5', 'final number of resected ganglia: 15', 'final number of resected ganglia: 41', 'final number of resected ganglia: 34', 'final number of resected ganglia: 27', 'final number of resected ganglia: 19', 'final number of resected ganglia: 23', 'final number of resected ganglia: 29', 'final number of resected ganglia: 24'], 32: ['response to treatment: Poor', 'response to treatment: Progresive', 'response to treatment: Complete', 'response to treatment: Partial'], 33: ['final surgery date: 2014-02-24', 'final surgery date: 2014-04-26', 'final surgery date: NA', 'final surgery date: 2014-03-10', 'final surgery date: 2014-10-20', 'final surgery date: 2014-10-07', 'final surgery date: 2013-06-19', 'final surgery date: 2014-07-14', 'final surgery date: 2014-04-29', 'final surgery date: 2014-05-19', 'final surgery date: 2014-07-31', 'final surgery date: 2014-06-02', 'final surgery date: 2014-10-22', 'final surgery date: 2014-07-16', 'final surgery date: 2014-02-13', 'final surgery date: 2014-04-24', 'final surgery date: 2014-04-25', 'final surgery date: 2014-02-11', 'final surgery date: 2014-09-06', 'final surgery date: 2014-07-23', 'final surgery date: 2014-11-13', 'final surgery date: 2014-04-28', 'final surgery date: 2014-03-26', 'final surgery date: 2014-02-04', 'final surgery date: 2014-04-19', 'final surgery date: 2014-02-17', 'final surgery date: 2014-06-20', 'final surgery date: 2014-10-10', 'final surgery date: 2014-06-11', 'final surgery date: 2014-03-20'], 34: ['chemotherapy1: Paclitaxel', 'chemotherapy1: N/A', 'chemotherapy1: Trastuzumab', 'chemotherapy1: Tamoxifen', 'chemotherapy1: Adriamicin', 'chemotherapy1: Doxorubicin', 'chemotherapy1: Taxol', 'chemotherapy1: Epirubicin'], 35: ['chemotherapy2: Adriamicin', 'chemotherapy2: N/A', 'chemotherapy2: Doxorubicin', 'chemotherapy2: Cyclophosphamide', 'chemotherapy2: Taxol', 'chemotherapy2: Epirrubicin', 'chemotherapy2: Trastazumab'], 36: ['chemotherapy3: Cyclophosphamide', 'chemotherapy3: N/A', 'chemotherapy3: Trastuzumab', 'chemotherapy3: Taxol', 'chemotherapy3: Paclitaxel', 'chemotherapy3: Adriamicin', 'chemotherapy3: Adramicin'], 37: ['chemotherapy4: N/A', 'chemotherapy4: Taxol', 'chemotherapy4: Trastuzumab'], 38: ['radiotherapy: Yes', 'radiotherapy: N/A', 'radiotherapy: No'], 39: ['date at relapse: N/A', 'date at relapse: 2014-04-24', 'date at relapse: 2014-09-09', 'date at relapse: 2014-10-15'], 40: ['place to metastasis: N/A', 'place to metastasis: Lung', 'place to metastasis: Liver'], 41: ['date at death: N/A', 'date at death: 2014-08-01', nan]}\n"
     ]
    }
   ],
   "source": [
    "from utils.preprocess import *\n",
    "# 1. Identify the paths to the soft file and the matrix file\n",
    "cohort_dir = '/media/techt/DATA/GEO/Hypothyroidism/GSE75669'\n",
    "soft_file, matrix_file = geo_get_relevant_filepaths(cohort_dir)\n",
    "\n",
    "# 2. Read the matrix file to obtain background information and sample characteristics data\n",
    "background_prefixes = ['!Series_title', '!Series_summary', '!Series_overall_design']\n",
    "clinical_prefixes = ['!Sample_geo_accession', '!Sample_characteristics_ch1']\n",
    "background_info, clinical_data = get_background_and_clinical_data(matrix_file, background_prefixes, clinical_prefixes)\n",
    "\n",
    "# 3. Obtain the sample characteristics dictionary from the clinical dataframe\n",
    "sample_characteristics_dict = get_unique_values_by_row(clinical_data)\n",
    "\n",
    "# 4. Explicitly print out all the background information and the sample characteristics dictionary\n",
    "print(\"Background Information:\")\n",
    "print(background_info)\n",
    "print(\"Sample Characteristics Dictionary:\")\n",
    "print(sample_characteristics_dict)\n"
   ]
  },
  {
   "cell_type": "markdown",
   "id": "ef53082a",
   "metadata": {},
   "source": [
    "### Step 2: Dataset Analysis and Clinical Feature Extraction"
   ]
  },
  {
   "cell_type": "code",
   "execution_count": 3,
   "id": "ec0cb29c",
   "metadata": {
    "execution": {
     "iopub.execute_input": "2024-06-12T06:58:00.408739Z",
     "iopub.status.busy": "2024-06-12T06:58:00.408604Z",
     "iopub.status.idle": "2024-06-12T06:58:00.424808Z",
     "shell.execute_reply": "2024-06-12T06:58:00.424522Z"
    }
   },
   "outputs": [
    {
     "name": "stdout",
     "output_type": "stream",
     "text": [
      "{'GSM1963127': [0, 20, 0], 'GSM1963128': [0, 7, 0], 'GSM1963129': [0, 40, 0], 'GSM1963130': [0, 30, 0], 'GSM1963131': [0, 67, 0], 'GSM1963132': [0, 35, 0], 'GSM1963133': [0, 57, 0], 'GSM1963134': [0, 39, 0], 'GSM1963135': [1, 16, 0], 'GSM1963136': [0, 35, 0], 'GSM1963137': [0, 22, 0], 'GSM1963138': [0, 25, 0], 'GSM1963139': [0, 51, 0], 'GSM1963140': [0, 30, 0], 'GSM1963141': [0, 41, 0], 'GSM1963142': [0, 33, 0], 'GSM1963143': [0, 30, 0], 'GSM1963144': [0, 50, 0], 'GSM1963145': [0, 86, 0], 'GSM1963146': [0, 90, 0], 'GSM1963147': [0, 7, 0], 'GSM1963148': [0, 37, 0], 'GSM1963149': [0, 30, 0], 'GSM1963150': [0, 60, 0], 'GSM1963151': [0, 40, 0], 'GSM1963152': [0, 22, 0], 'GSM1963153': [0, 80, 0], 'GSM1963154': [0, 70, 0], 'GSM1963155': [0, 35, 0], 'GSM1963156': [0, 30, 0], 'GSM1963157': [0, 40, 0], 'GSM1963158': [0, 4, 0], 'GSM1963159': [0, 60, 0], 'GSM1963160': [0, 70, 0], 'GSM1963161': [0, 70, 0], 'GSM1963162': [0, 60, 0], 'GSM1963163': [0, 20, 0], 'GSM1963164': [0, 40, 0], 'GSM1963165': [0, 14, 0], 'GSM1963166': [0, 32, 0], 'GSM1963167': [0, 48, 0], 'GSM1963168': [0, 100, 0], 'GSM1963169': [0, 33, 0], 'GSM1963170': [0, 36, 0], 'GSM1963171': [0, 48, 0], 'GSM1963172': [0, 57, 0], 'GSM1963173': [0, 25, 0], 'GSM1963174': [0, 27, 0], 'GSM1963175': [0, 200, 0], 'GSM1963176': [0, 34, 0], 'GSM1963177': [0, 30, 0], 'GSM1963178': [0, 25, 0], 'GSM1963179': [0, 150, 0], 'GSM1963180': [0, 42, 0]}\n"
     ]
    }
   ],
   "source": [
    "is_gene_available = False\n",
    "trait_row = age_row = gender_row = None  # set to different values when applicable\n",
    "convert_trait = convert_age = convert_gender = None  # define the functions when applicable\n",
    "\n",
    "# Check for gene expression data\n",
    "series_title = \"miRNAs Expression of Mexican Patients with Breast Cancer\"\n",
    "series_summary = \"miRNAs expression of tumor sample of mexican patients with breast cancer.\"\n",
    "is_gene_available = False # since it is miRNA data.\n",
    "\n",
    "# Determine the availability of variables 'Hypothyroidism', 'age', and 'gender'\n",
    "\n",
    "# Check for Hypothyroidism\n",
    "for key, values in sample_characteristics_dict.items():\n",
    "    for value in values:\n",
    "        if isinstance(value, str) and 'hypothyroidism' in value.lower():\n",
    "            trait_row = key\n",
    "            break\n",
    "\n",
    "# Check for age\n",
    "for key, values in sample_characteristics_dict.items():\n",
    "    for value in values:\n",
    "        if isinstance(value, str) and 'age' in value.lower():\n",
    "            age_row = key\n",
    "            break\n",
    "\n",
    "# Check for gender\n",
    "for key, values in sample_characteristics_dict.items():\n",
    "    for value in values:\n",
    "        if isinstance(value, str) and 'gender' in value.lower():\n",
    "            gender_row = key\n",
    "            break\n",
    "\n",
    "# Data type conversion functions\n",
    "\n",
    "# Function to convert trait data\n",
    "def convert_trait(value):\n",
    "    try:\n",
    "        return 1 if 'hypothyroidism' in value.lower() else 0\n",
    "    except:\n",
    "        return None\n",
    "\n",
    "# Function to convert age data\n",
    "def convert_age(value):\n",
    "    try:\n",
    "        return int(value.split(':')[-1].strip())\n",
    "    except:\n",
    "        return None\n",
    "\n",
    "# Function to convert gender data\n",
    "def convert_gender(value):\n",
    "    try:\n",
    "        gender = value.split(':')[-1].strip().lower()\n",
    "        return 1 if gender == 'male' else 0\n",
    "    except:\n",
    "        return None\n",
    "\n",
    "import json\n",
    "\n",
    "def save_cohort_info(gs_id, filepath, is_gene_available, is_clinical_data_available):\n",
    "    cohort_info = {\n",
    "        \"gs_id\": gs_id,\n",
    "        \"is_gene_available\": is_gene_available,\n",
    "        \"is_clinical_data_available\": is_clinical_data_available\n",
    "    }\n",
    "    with open(filepath, 'w') as f:\n",
    "        json.dump(cohort_info, f)\n",
    "\n",
    "save_cohort_info('GSE75669', './preprocessed/Hypothyroidism/cohort_info.json', is_gene_available, trait_row is not None)\n",
    "\n",
    "# If clinical data is available, select clinical features and save to CSV\n",
    "if trait_row is not None:\n",
    "    selected_clinical_data = geo_select_clinical_features(clinical_data, 'Hypothyroidism', trait_row, convert_trait, age_row, convert_age, gender_row, convert_gender)\n",
    "    csv_path = './preprocessed/Hypothyroidism/trait_data/GSE75669.csv'\n",
    "    selected_clinical_data.to_csv(csv_path)\n",
    "    print(preview_df(selected_clinical_data))\n"
   ]
  }
 ],
 "metadata": {
  "language_info": {
   "codemirror_mode": {
    "name": "ipython",
    "version": 3
   },
   "file_extension": ".py",
   "mimetype": "text/x-python",
   "name": "python",
   "nbconvert_exporter": "python",
   "pygments_lexer": "ipython3",
   "version": "3.8.17"
  }
 },
 "nbformat": 4,
 "nbformat_minor": 5
}
