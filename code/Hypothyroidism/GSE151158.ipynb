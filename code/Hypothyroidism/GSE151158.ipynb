{
 "cells": [
  {
   "cell_type": "code",
   "execution_count": 1,
   "id": "9087af5c",
   "metadata": {
    "execution": {
     "iopub.execute_input": "2024-06-12T06:59:29.568606Z",
     "iopub.status.busy": "2024-06-12T06:59:29.568251Z",
     "iopub.status.idle": "2024-06-12T06:59:29.573723Z",
     "shell.execute_reply": "2024-06-12T06:59:29.573328Z"
    }
   },
   "outputs": [],
   "source": [
    "\n",
    "import sys\n",
    "sys.path.append('/home/techt/Desktop/a4s')\n"
   ]
  },
  {
   "cell_type": "markdown",
   "id": "98f9341c",
   "metadata": {},
   "source": [
    "### Step 1: Initial Data Loading"
   ]
  },
  {
   "cell_type": "code",
   "execution_count": 2,
   "id": "16743a72",
   "metadata": {
    "execution": {
     "iopub.execute_input": "2024-06-12T06:59:29.575571Z",
     "iopub.status.busy": "2024-06-12T06:59:29.575462Z",
     "iopub.status.idle": "2024-06-12T06:59:29.812745Z",
     "shell.execute_reply": "2024-06-12T06:59:29.812396Z"
    }
   },
   "outputs": [
    {
     "name": "stdout",
     "output_type": "stream",
     "text": [
      "Background Information:\n",
      "!Series_title\t\"Transcriptional analysis of non-fibrotic NAFLD progression\"\n",
      "!Series_summary\t\"Background & Aims:  Non-alcoholic steatohepatitis (NASH), a subtype of non-alcoholic fatty liver disease (NAFLD) that can lead to fibrosis, cirrhosis, and hepatocellular carcinoma, is characterized by hepatic inflammation.  Despite evolving therapies aimed to ameliorate inflammation in NASH, the transcriptional changes that lead to inflammation progression in NAFLD remain poorly understood.  The aim of this study is to define transcriptional changes in early, non-fibrotic NAFLD using a biopsy-proven non-fibrotic NAFLD cohort.  Methods:  We extracted RNA from liver tissue of 40 patients with biopsy-proven NAFLD based on NAFLD Activity Score (NAS) (23 with NAS ≤3, 17 with NAS ≥5) and 21 healthy controls and compared changes in expression of 594 genes involved in innate immune function.    Results:  Compared to healthy controls, NAFLD patients with NAS ≥5 had differential expression of 211 genes, while those with NAS ≤3 had differential expression of only 14 genes.  Notably, osteopontin (SPP1) (3.74-fold in NAS ≤3, 8.28-fold in NAS ≥5) and CXCL10 (2.27-fold in NAS ≤3, 8.28-fold in NAS ≥5) gene expression were significantly upregulated with histologic progression of NAFLD.\"\n",
      "!Series_overall_design\t\"We extracted RNA from liver tissue of 40 patients with biopsy-proven NAFLD based on NAFLD Activity Score (NAS) (23 with NAS ≤3, 17 with NAS ≥5) and 21 healthy controls (protocol biopsy obtained during living liver donation) and compared changes in expression of 594 genes involved in innate immune function\"\n",
      "Sample Characteristics Dictionary:\n",
      "{0: ['tissue: liver', 'sample type: blank'], 1: ['age: 53', 'age: 40', 'age: 51', 'age: 36', 'age: 44', 'age: 60', 'age: 31', 'age: 41', 'age: 55', 'age: 15', 'age: 57', 'age: 56', 'age: 34', 'age: 43', 'age: 49', 'age: 52', 'age: 35', 'age: 42', 'age: 33', 'age: 48', 'age: 47', 'age: 65', 'age: 59', 'age: 61', 'age: 28', 'age: 46', 'age: 25', 'age: 27', 'age: 54', 'age: 37'], 2: ['Sex: F', 'Sex: M', nan], 3: ['ethnicity: White', 'ethnicity: Hispanic', 'ethnicity: AA', nan], 4: ['bmi: 28.4', 'bmi: 37.8', 'bmi: 33.1', 'bmi: 39.6', 'bmi: 31.5', 'bmi: 29.9', 'bmi: 39.9', 'bmi: 33.3', 'bmi: 41.1', 'bmi: 62.9', 'bmi: 47.6', 'bmi: 31.7', 'bmi: 53.4', 'bmi: 31.4', 'bmi: 23.9', 'bmi: 22.4', 'bmi: 23.7', 'bmi: 28', 'bmi: 27.8', 'bmi: 37.7', 'bmi: 36.1', 'bmi: 36.7', 'bmi: 39.4', 'bmi: 36.8', 'bmi: 29.2', 'bmi: 35.2', 'bmi: 38.4', 'bmi: 30.8', 'bmi: 29', 'bmi: 47.8'], 5: ['dm2: N', 'dm2: Y', nan], 6: ['insulin: N', 'insulin: Y', nan], 7: ['hypertension: N', 'hypertension: Y', nan], 8: ['hyperlipidemia: N', 'hyperlipidemia: Y', nan], 9: ['statin/fibrate: N', 'statin/fibrate: Y', nan], 10: ['osa: N', 'osa: Y', nan], 11: ['pcos: N', nan], 12: ['hypothyroidism: N', 'hypothyroidism: Y', nan], 13: ['cardiovascular disease: N', 'cardiovascular disease: Y', nan], 14: ['ast (units/l): 77', 'ast (units/l): 66', 'ast (units/l): 64', 'ast (units/l): 68', 'ast (units/l): 21', 'ast (units/l): 51', 'ast (units/l): 174', 'ast (units/l): 58', 'ast (units/l): 45', 'ast (units/l): 19', 'ast (units/l): 41', 'ast (units/l): 24', 'ast (units/l): 49', 'ast (units/l): 26', 'ast (units/l): 16', 'ast (units/l): 15', 'ast (units/l): 17', 'ast (units/l): 20', 'ast (units/l): 27', 'ast (units/l): 305', 'ast (units/l): 43', 'ast (units/l): 75', 'ast (units/l): 67', 'ast (units/l): 118', 'ast (units/l): 69', 'ast (units/l): 59', 'ast (units/l): 31', 'ast (units/l): 18', 'ast (units/l): 33', 'ast (units/l): 37'], 15: ['alt (units/l): 129', 'alt (units/l): 123', 'alt (units/l): 84', 'alt (units/l): 120', 'alt (units/l): 28', 'alt (units/l): 88', 'alt (units/l): 429', 'alt (units/l): 66', 'alt (units/l): 26', 'alt (units/l): 40', 'alt (units/l): 46', 'alt (units/l): 94', 'alt (units/l): 72', 'alt (units/l): 17', 'alt (units/l): 12', 'alt (units/l): 27', 'alt (units/l): 3', 'alt (units/l): 16', 'alt (units/l): 70', 'alt (units/l): 301', 'alt (units/l): 6', 'alt (units/l): 102', 'alt (units/l): 97', 'alt (units/l): 110', 'alt (units/l): 89', 'alt (units/l): 44', 'alt (units/l): 42', 'alt (units/l): 33', 'alt (units/l): 52', 'alt (units/l): 31'], 16: ['alkaline phosphatase (units/l): 114', 'alkaline phosphatase (units/l): 60', 'alkaline phosphatase (units/l): 91', 'alkaline phosphatase (units/l): 130', 'alkaline phosphatase (units/l): 120', 'alkaline phosphatase (units/l): 58', 'alkaline phosphatase (units/l): 78', 'alkaline phosphatase (units/l): 83', 'alkaline phosphatase (units/l): 89', 'alkaline phosphatase (units/l): 95', 'alkaline phosphatase (units/l): 150', 'alkaline phosphatase (units/l): 131', 'alkaline phosphatase (units/l): 52', 'alkaline phosphatase (units/l): 72', 'alkaline phosphatase (units/l): 65', 'alkaline phosphatase (units/l): 94', 'alkaline phosphatase (units/l): 62', 'alkaline phosphatase (units/l): 105', 'alkaline phosphatase (units/l): 71', 'alkaline phosphatase (units/l): 76', 'alkaline phosphatase (units/l): 74', 'alkaline phosphatase (units/l): 90', 'nas: Steatosis: 2', 'alkaline phosphatase (units/l): 117', 'alkaline phosphatase (units/l): 48', 'alkaline phosphatase (units/l): 41', 'alkaline phosphatase (units/l): 93', 'alkaline phosphatase (units/l): 46', 'alkaline phosphatase (units/l): 67', 'alkaline phosphatase (units/l): 66'], 17: ['total bilirubin (mg/dl): 0.4', 'total bilirubin (mg/dl): 0.7', 'total bilirubin (mg/dl): 1.1', 'total bilirubin (mg/dl): 0.6', 'total bilirubin (mg/dl): 0.5', 'total bilirubin (mg/dl): 1', 'total bilirubin (mg/dl): 0.3', 'total bilirubin (mg/dl): 0.8', 'total bilirubin (mg/dl): 1.4', 'total bilirubin (mg/dl): 1.5', 'nas: Ballooning: 2', 'total bilirubin (mg/dl): 0.2', 'total bilirubin (mg/dl): 0.9', nan], 18: ['albumin (g/dl): 4.3', 'albumin (g/dl): 4.4', 'albumin (g/dl): 4.2', 'albumin (g/dl): 4.7', 'albumin (g/dl): 4', 'albumin (g/dl): 5.2', 'albumin (g/dl): 4.1', 'albumin (g/dl): 4.5', 'albumin (g/dl): 3.5', 'albumin (g/dl): 3.6', 'albumin (g/dl): 3.8', 'nas: Lobular inflammation: 1', 'albumin (g/dl): 3.9', 'albumin (g/dl): 3.7', 'albumin (g/dl): 3.2', 'albumin (g/dl): 4.9', 'albumin (g/dl): 4.6', nan], 19: ['total protein (g/dl): 8.2', 'total protein (g/dl): 7.7', 'total protein (g/dl): 7.2', 'total protein (g/dl): 8', 'total protein (g/dl): 7.6', 'total protein (g/dl): 8.7', 'total protein (g/dl): 7.1', 'total protein (g/dl): 7.9', 'total protein (g/dl): 6.8', 'total protein (g/dl): 6.5', 'total protein (g/dl): 7', 'total protein (g/dl): 7.3', 'total protein (g/dl): 6.6', 'total protein (g/dl): 7.5', 'nas: Total score: 5', 'total protein (g/dl): 7.8', 'total protein (g/dl): 7.4', 'total protein (g/dl): 6.9', 'total protein (g/dl): 8.1', 'total protein (g/dl): 8.4', 'total protein (g/dl): 6.3', 'total protein (g/dl): 6.7', nan], 20: ['nas: Steatosis: 1', 'nas: Steatosis: 2', 'nas: Steatosis: 3', 'nas: Steatosis: 0', nan], 21: ['nas: Ballooning: 2', 'nas: Ballooning: 1', 'nas: Ballooning: 0', nan], 22: ['nas: Lobular inflammation: 2', 'nas: Lobular inflammation: 1', 'nas: Lobular inflammation: 0', 'nas: Lobular inflammation: 3', nan], 23: ['nas: Total score: 5', 'nas: Total score: 6', 'nas: Total score: 3', 'nas: Total score: 0', nan, 'nas: Total score: 2']}\n"
     ]
    }
   ],
   "source": [
    "from utils.preprocess import *\n",
    "# 1. Identify the paths to the soft file and the matrix file\n",
    "cohort_dir = '/media/techt/DATA/GEO/Hypothyroidism/GSE151158'\n",
    "soft_file, matrix_file = geo_get_relevant_filepaths(cohort_dir)\n",
    "\n",
    "# 2. Read the matrix file to obtain background information and sample characteristics data\n",
    "background_prefixes = ['!Series_title', '!Series_summary', '!Series_overall_design']\n",
    "clinical_prefixes = ['!Sample_geo_accession', '!Sample_characteristics_ch1']\n",
    "background_info, clinical_data = get_background_and_clinical_data(matrix_file, background_prefixes, clinical_prefixes)\n",
    "\n",
    "# 3. Obtain the sample characteristics dictionary from the clinical dataframe\n",
    "sample_characteristics_dict = get_unique_values_by_row(clinical_data)\n",
    "\n",
    "# 4. Explicitly print out all the background information and the sample characteristics dictionary\n",
    "print(\"Background Information:\")\n",
    "print(background_info)\n",
    "print(\"Sample Characteristics Dictionary:\")\n",
    "print(sample_characteristics_dict)\n"
   ]
  },
  {
   "cell_type": "markdown",
   "id": "0c44b7c9",
   "metadata": {},
   "source": [
    "### Step 2: Dataset Analysis and Clinical Feature Extraction"
   ]
  },
  {
   "cell_type": "code",
   "execution_count": 3,
   "id": "fe430a03",
   "metadata": {
    "execution": {
     "iopub.execute_input": "2024-06-12T06:59:29.814517Z",
     "iopub.status.busy": "2024-06-12T06:59:29.814413Z",
     "iopub.status.idle": "2024-06-12T06:59:29.831098Z",
     "shell.execute_reply": "2024-06-12T06:59:29.830813Z"
    }
   },
   "outputs": [
    {
     "name": "stdout",
     "output_type": "stream",
     "text": [
      "{'GSM4567420': [0.0, 53.0, 0.0], 'GSM4567421': [0.0, 40.0, 1.0], 'GSM4567422': [0.0, 51.0, 0.0], 'GSM4567423': [0.0, 36.0, 0.0], 'GSM4567424': [0.0, 44.0, 0.0], 'GSM4567425': [1.0, 60.0, 1.0], 'GSM4567426': [0.0, 31.0, 1.0], 'GSM4567427': [0.0, 41.0, 0.0], 'GSM4567428': [0.0, 55.0, 1.0], 'GSM4567429': [0.0, 15.0, 0.0], 'GSM4567430': [1.0, 57.0, 0.0], 'GSM4567431': [1.0, 56.0, 0.0], 'GSM4567432': [0.0, 34.0, 1.0], 'GSM4567433': [0.0, 43.0, 1.0], 'GSM4567434': [0.0, 49.0, 0.0], 'GSM4567435': [0.0, 55.0, 0.0], 'GSM4567436': [0.0, 52.0, 1.0], 'GSM4567437': [0.0, 35.0, 0.0], 'GSM4567438': [0.0, 35.0, 0.0], 'GSM4567439': [0.0, 40.0, 1.0], 'GSM4567440': [0.0, 34.0, 1.0], 'GSM4567441': [0.0, 42.0, 0.0], 'GSM4567442': [1.0, 53.0, 0.0], 'GSM4567443': [0.0, 33.0, 0.0], 'GSM4567444': [0.0, 31.0, 0.0], 'GSM4567445': [1.0, 57.0, 0.0], 'GSM4567446': [0.0, 42.0, 0.0], 'GSM4567447': [0.0, 48.0, 0.0], 'GSM4567448': [0.0, 47.0, 0.0], 'GSM4567449': [0.0, 51.0, 0.0], 'GSM4567450': [0.0, 65.0, 1.0], 'GSM4567451': [0.0, 40.0, 0.0], 'GSM4567452': [0.0, 59.0, 1.0], 'GSM4567453': [1.0, 49.0, 0.0], 'GSM4567454': [0.0, 61.0, 1.0], 'GSM4567455': [1.0, 59.0, 1.0], 'GSM4567456': [0.0, 28.0, 0.0], 'GSM4567457': [0.0, 46.0, 1.0], 'GSM4567458': [0.0, 42.0, 0.0], 'GSM4567459': [1.0, 60.0, 0.0], 'GSM4567460': [0.0, 25.0, 0.0], 'GSM4567461': [0.0, 43.0, 1.0], 'GSM4567462': [0.0, 51.0, 1.0], 'GSM4567463': [0.0, 52.0, 1.0], 'GSM4567464': [0.0, 51.0, 0.0], 'GSM4567465': [0.0, 56.0, 0.0], 'GSM4567466': [0.0, 27.0, 0.0], 'GSM4567467': [0.0, 35.0, 0.0], 'GSM4567468': [0.0, 54.0, 0.0], 'GSM4567469': [0.0, 37.0, 1.0], 'GSM4567470': [0.0, 45.0, 1.0], 'GSM4567471': [0.0, 45.0, 0.0], 'GSM4567472': [0.0, 47.0, 1.0], 'GSM4567473': [0.0, 40.0, 1.0], 'GSM4567474': [0.0, 33.0, 0.0], 'GSM4567475': [0.0, 39.0, 1.0], 'GSM4567476': [0.0, 39.0, 1.0], 'GSM4567477': [0.0, 44.0, 0.0], 'GSM4567478': [0.0, 47.0, 1.0], 'GSM4567479': [0.0, 37.0, 1.0], 'GSM4567480': [1.0, 49.0, 0.0], 'GSM4567481': [None, None, None], 'GSM4567482': [None, None, None], 'GSM4567483': [None, None, None], 'GSM4567484': [None, None, None], 'GSM4567485': [None, None, None]}\n"
     ]
    }
   ],
   "source": [
    "is_gene_available = True\n",
    "trait_row = 12\n",
    "age_row = 1\n",
    "gender_row = 2\n",
    "\n",
    "def convert_trait(value):\n",
    "    if pd.isna(value):\n",
    "        return None\n",
    "    if 'hypothyroidism' in value:\n",
    "        trait = value.split(': ')[1]\n",
    "        if trait == 'Y':\n",
    "            return 1\n",
    "        elif trait == 'N':\n",
    "            return 0\n",
    "    return None\n",
    "\n",
    "def convert_age(value):\n",
    "    if pd.isna(value):\n",
    "        return None\n",
    "    if 'age' in value:\n",
    "        age = value.split(': ')[1]\n",
    "        try:\n",
    "            return float(age)\n",
    "        except ValueError:\n",
    "            return None\n",
    "    return None\n",
    "\n",
    "def convert_gender(value):\n",
    "    if pd.isna(value):\n",
    "        return None\n",
    "    if 'Sex' in value:\n",
    "        gender = value.split(': ')[1]\n",
    "        if gender == 'M':\n",
    "            return 1\n",
    "        elif gender == 'F':\n",
    "            return 0\n",
    "    return None\n",
    "\n",
    "save_cohort_info('GSE151158', './preprocessed/Hypothyroidism/cohort_info.json', is_gene_available, trait_row is not None)\n",
    "\n",
    "selected_clinical_data = geo_select_clinical_features(clinical_data, 'Hypothyroidism', trait_row, convert_trait, age_row, convert_age, gender_row, convert_gender)\n",
    "csv_path = './preprocessed/Hypothyroidism/trait_data/GSE151158.csv'\n",
    "selected_clinical_data.to_csv(csv_path)\n",
    "print(preview_df(selected_clinical_data))\n"
   ]
  },
  {
   "cell_type": "markdown",
   "id": "7f3394b3",
   "metadata": {},
   "source": [
    "### Step 3: Gene Data Extraction"
   ]
  },
  {
   "cell_type": "code",
   "execution_count": 4,
   "id": "698bcbe0",
   "metadata": {
    "execution": {
     "iopub.execute_input": "2024-06-12T06:59:29.833250Z",
     "iopub.status.busy": "2024-06-12T06:59:29.833123Z",
     "iopub.status.idle": "2024-06-12T06:59:29.847676Z",
     "shell.execute_reply": "2024-06-12T06:59:29.847396Z"
    }
   },
   "outputs": [
    {
     "name": "stdout",
     "output_type": "stream",
     "text": [
      "Index(['ABCB1', 'ABCF1', 'ABL1', 'ADA', 'AHR', 'AICDA', 'AIRE', 'ALAS1', 'APP',\n",
      "       'AREG', 'ARG1', 'ARG2', 'ARHGDIB', 'ATG10', 'ATG12', 'ATG16L1', 'ATG5',\n",
      "       'ATG7', 'ATM', 'B2M'],\n",
      "      dtype='object', name='ID')\n"
     ]
    }
   ],
   "source": [
    "# 1. Use the get_genetic_data function from the library to get the gene_data from the matrix_file previously defined.\n",
    "gene_data = get_genetic_data(matrix_file)\n",
    "\n",
    "# 2. Print the first 20 row ids for the following step.\n",
    "print(gene_data.index[:20])\n"
   ]
  },
  {
   "cell_type": "markdown",
   "id": "8b261677",
   "metadata": {},
   "source": [
    "### Step 4: Gene Identifier Review"
   ]
  },
  {
   "cell_type": "code",
   "execution_count": 5,
   "id": "bd481417",
   "metadata": {
    "execution": {
     "iopub.execute_input": "2024-06-12T06:59:29.849709Z",
     "iopub.status.busy": "2024-06-12T06:59:29.849612Z",
     "iopub.status.idle": "2024-06-12T06:59:29.851426Z",
     "shell.execute_reply": "2024-06-12T06:59:29.851166Z"
    }
   },
   "outputs": [],
   "source": [
    "requires_gene_mapping = False\n"
   ]
  },
  {
   "cell_type": "markdown",
   "id": "a8adbcab",
   "metadata": {},
   "source": [
    "### Step 5: Gene Annotation (Conditional)"
   ]
  },
  {
   "cell_type": "code",
   "execution_count": 6,
   "id": "aee6b91e",
   "metadata": {
    "execution": {
     "iopub.execute_input": "2024-06-12T06:59:29.853544Z",
     "iopub.status.busy": "2024-06-12T06:59:29.853419Z",
     "iopub.status.idle": "2024-06-12T06:59:29.904857Z",
     "shell.execute_reply": "2024-06-12T06:59:29.904524Z"
    }
   },
   "outputs": [
    {
     "name": "stdout",
     "output_type": "stream",
     "text": [
      "Gene annotation preview:\n",
      "{'ID': ['ABCB1', 'ABL1', 'ADA', 'AHR', 'AICDA'], 'GB_ACC': ['NM_000927.3', 'NM_005157.3', 'NM_000022.2', 'NM_001621.3', 'NM_020661.1'], 'NS Probe ID': ['NM_000927.3:3910', 'NM_005157.3:3200', 'NM_000022.2:1300', 'NM_001621.3:1900', 'NM_020661.1:567'], 'SPOT_ID': [nan, nan, nan, nan, nan]}\n"
     ]
    }
   ],
   "source": [
    "# 1. Use the 'get_gene_annotation' function from the library to get gene annotation data from the soft file.\n",
    "gene_annotation = get_gene_annotation(soft_file)\n",
    "\n",
    "# 2. Use the 'preview_df' function from the library to preview the data and print out the results.\n",
    "print(\"Gene annotation preview:\")\n",
    "print(preview_df(gene_annotation))\n",
    "    \n",
    "\n",
    "# No code needed for STEP6 since requires_gene_mapping is False.\n"
   ]
  },
  {
   "cell_type": "markdown",
   "id": "59bfb155",
   "metadata": {},
   "source": [
    "### Step 7: Data Normalization and Merging"
   ]
  },
  {
   "cell_type": "code",
   "execution_count": 7,
   "id": "984a5ee9",
   "metadata": {
    "execution": {
     "iopub.execute_input": "2024-06-12T06:59:29.906902Z",
     "iopub.status.busy": "2024-06-12T06:59:29.906803Z",
     "iopub.status.idle": "2024-06-12T06:59:31.953234Z",
     "shell.execute_reply": "2024-06-12T06:59:31.952679Z"
    }
   },
   "outputs": [
    {
     "name": "stdout",
     "output_type": "stream",
     "text": [
      "For the feature 'Hypothyroidism', the least common label is '1.0' with 9 occurrences. This represents 14.75% of the dataset.\n",
      "The distribution of the feature 'Hypothyroidism' in this dataset is fine.\n",
      "\n",
      "Quartiles for 'Age':\n",
      "  25%: 37.0\n",
      "  50% (Median): 45.0\n",
      "  75%: 52.0\n",
      "Min: 15.0\n",
      "Max: 65.0\n",
      "The distribution of the feature 'Age' in this dataset is fine.\n",
      "\n",
      "For the feature 'Gender', the least common label is '1.0' with 25 occurrences. This represents 40.98% of the dataset.\n",
      "The distribution of the feature 'Gender' in this dataset is fine.\n",
      "\n"
     ]
    }
   ],
   "source": [
    "# 1. Normalize the obtained gene data with the 'normalize_gene_symbols_in_index' function from the library.\n",
    "normalized_gene_data = normalize_gene_symbols_in_index(gene_data)\n",
    "gene_csv_path = './preprocessed/Hypothyroidism/gene_data/GSE151158.csv'\n",
    "normalized_gene_data.to_csv(gene_csv_path)\n",
    "\n",
    "# 2. Merge the clinical and genetic data with the 'geo_merge_clinical_genetic_data' function from the library.\n",
    "merged_data = geo_merge_clinical_genetic_data(selected_clinical_data, normalized_gene_data)\n",
    "\n",
    "# 3. Determine whether the trait and some demographic attributes in the data are severely biased, and remove biased attributes.\n",
    "trait_biased, unbiased_merged_data = judge_and_remove_biased_features(merged_data, 'Hypothyroidism')\n",
    "\n",
    "# If the trait is not severely biased, save the cohort information and the merged data.\n",
    "\n",
    "# 4. Save the cohort information.\n",
    "save_cohort_info('GSE151158', './preprocessed/Hypothyroidism/cohort_info.json', True, True, trait_biased, merged_data)\n",
    "\n",
    "if not trait_biased:\n",
    "    # 5. If the trait is not severely biased, save the merged data to a csv file.\n",
    "    csv_path = './preprocessed/Hypothyroidism/GSE151158.csv'\n",
    "    unbiased_merged_data.to_csv(csv_path)\n"
   ]
  }
 ],
 "metadata": {
  "language_info": {
   "codemirror_mode": {
    "name": "ipython",
    "version": 3
   },
   "file_extension": ".py",
   "mimetype": "text/x-python",
   "name": "python",
   "nbconvert_exporter": "python",
   "pygments_lexer": "ipython3",
   "version": "3.8.17"
  }
 },
 "nbformat": 4,
 "nbformat_minor": 5
}
