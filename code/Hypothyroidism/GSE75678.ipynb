{
 "cells": [
  {
   "cell_type": "code",
   "execution_count": 1,
   "id": "ca8d925b",
   "metadata": {
    "execution": {
     "iopub.execute_input": "2024-06-12T06:57:06.290583Z",
     "iopub.status.busy": "2024-06-12T06:57:06.290425Z",
     "iopub.status.idle": "2024-06-12T06:57:06.297383Z",
     "shell.execute_reply": "2024-06-12T06:57:06.296809Z"
    }
   },
   "outputs": [],
   "source": [
    "\n",
    "import sys\n",
    "sys.path.append('/home/techt/Desktop/a4s')\n"
   ]
  },
  {
   "cell_type": "markdown",
   "id": "1e72b823",
   "metadata": {},
   "source": [
    "### Step 1: Initial Data Loading"
   ]
  },
  {
   "cell_type": "code",
   "execution_count": 2,
   "id": "8cafeb82",
   "metadata": {
    "execution": {
     "iopub.execute_input": "2024-06-12T06:57:06.300293Z",
     "iopub.status.busy": "2024-06-12T06:57:06.300092Z",
     "iopub.status.idle": "2024-06-12T06:57:06.693204Z",
     "shell.execute_reply": "2024-06-12T06:57:06.692694Z"
    }
   },
   "outputs": [
    {
     "name": "stdout",
     "output_type": "stream",
     "text": [
      "Background Information:\n",
      "!Series_title\t\"Gene Expression of Mexican Patients with Breast Cancer\"\n",
      "!Series_summary\t\"Gene expression of tumor sample of mexican patients with breast cancer.\"\n",
      "!Series_summary\t\"Samples obtained from the Hospital San Jose Tec de Monterrey.\"\n",
      "!Series_overall_design\t\"The experiments were with one color per patient, gene expression profile is from a tumor sample of mexican patients with breast cancer.\"\n",
      "Sample Characteristics Dictionary:\n",
      "{0: ['tissue: Tumor Sample of Breast Cancer'], 1: ['gender: Female'], 2: ['rna ng/ul: 1083', 'rna ng/ul: 343', 'rna ng/ul: 111', 'rna ng/ul: 307', 'rna ng/ul: 401', 'rna ng/ul: 475', 'rna ng/ul: 728', 'rna ng/ul: 143.6', 'rna ng/ul: 224.7', 'rna ng/ul: 1458.3', 'rna ng/ul: 164', 'rna ng/ul: 370.2', 'rna ng/ul: 419.5', 'rna ng/ul: 693.6', 'rna ng/ul: 291.4', 'rna ng/ul: 1566.4', 'rna ng/ul: 69', 'rna ng/ul: 625.4', 'rna ng/ul: 151.6', 'rna ng/ul: 127.7', 'rna ng/ul: 1116.8', 'rna ng/ul: 333.9', 'rna ng/ul: 182.1', 'rna ng/ul: 437.4', 'rna ng/ul: 439', 'rna ng/ul: 178.2', 'rna ng/ul: 1365', 'rna ng/ul: 670', 'rna ng/ul: 840.6', 'rna ng/ul: 725'], 3: ['rna 260/280 (nanodrop): 2.15', 'rna 260/280 (nanodrop): 2.16', 'rna 260/280 (nanodrop): 2.19', 'rna 260/280 (nanodrop): 2.09', 'rna 260/280 (nanodrop): 2.35', 'rna 260/280 (nanodrop): 2.24', 'rna 260/280 (nanodrop): 2.17', 'rna 260/280 (nanodrop): 2.14', 'rna 260/280 (nanodrop): 2.07', 'rna 260/280 (nanodrop): 2.13', 'rna 260/280 (nanodrop): 2.11', 'rna 260/280 (nanodrop): 2.18', 'rna 260/280 (nanodrop): 2.1', 'rna 260/280 (nanodrop): 2.06', 'rna 260/280 (nanodrop): 2.08', 'rna 260/280 (nanodrop): 2.12', 'rna 260/280 (nanodrop): 1.96', 'rna 260/280 (nanodrop): 1.79', 'rna 260/280 (nanodrop): 2.05'], 4: ['rna 260/230 (nanodrop): 2.15', 'rna 260/230 (nanodrop): 1.18', 'rna 260/230 (nanodrop): 1.03', 'rna 260/230 (nanodrop): 2.32', 'rna 260/230 (nanodrop): 2.11', 'rna 260/230 (nanodrop): 2.16', 'rna 260/230 (nanodrop): 2.27', 'rna 260/230 (nanodrop): 1.27', 'rna 260/230 (nanodrop): 2.3', 'rna 260/230 (nanodrop): 2.18', 'rna 260/230 (nanodrop): 1.65', 'rna 260/230 (nanodrop): 1.63', 'rna 260/230 (nanodrop): 2.06', 'rna 260/230 (nanodrop): 1.52', 'rna 260/230 (nanodrop): 2.21', 'rna 260/230 (nanodrop): 1.69', 'rna 260/230 (nanodrop): 1.94', 'rna 260/230 (nanodrop): 1.01', 'rna 260/230 (nanodrop): 1.78', 'rna 260/230 (nanodrop): 1.7', 'rna 260/230 (nanodrop): 1.06', 'rna 260/230 (nanodrop): 1.22', 'rna 260/230 (nanodrop): 2.22', 'rna 260/230 (nanodrop): 1.79', 'rna 260/230 (nanodrop): 1.89', 'rna 260/230 (nanodrop): 2.08', 'rna 260/230 (nanodrop): 1.82', 'rna 260/230 (nanodrop): 2.01', 'rna 260/230 (nanodrop): 2.1', 'rna 260/230 (nanodrop): 2.25'], 5: ['rqi experion: 9.6', 'rqi experion: 8.9', 'rqi experion: 8.6', 'rqi experion: 8.1', 'rqi experion: 8.2', 'rqi experion: 8.5', 'rqi experion: 8.4', 'rqi experion: 7.7', 'rqi experion: 9.4', 'rqi experion: 8.8', 'rqi experion: 8', 'rqi experion: 9', 'rqi experion: 7.9', 'rqi experion: 6.8', 'rqi experion: 7.6', 'rqi experion: 8.7', 'rqi experion: 7.8', 'rqi experion: 10', 'rqi experion: 9.2', 'rqi experion: 8.3', 'rqi experion: 6.4', 'rqi experion: 7.2', 'rqi experion: 7.4', 'rqi experion: 6.6', 'rqi experion: 9.3', 'rqi experion: 9.9', 'rqi experion: 9.1'], 6: ['diagnosis: High grade invasive ductal carcinoma', 'diagnosis: Poorly differentiated ductal adenocarcinoma', 'diagnosis: Infiltrating ductal carcinoma high', 'diagnosis: Infiltrating ductal adenocarcinoma', 'diagnosis: Poorly differentiated invasive carcinoma with chondroid metaplasia', 'diagnosis: Poorly differentiated infiltrating ductal adenocarcinoma', 'diagnosis: Poorly differentiated invasive ductal adenocarcinoma', 'diagnosis: Invasive ductal carcinoma', 'diagnosis: Right Breast Ductal carcinoma in situ Left Breast infiltrating ductal adenocarcinoma poorly differentiated', 'diagnosis: Infiltrating lobular carcinoma high nuclear grade', 'diagnosis: Poorly differentiated invasive ductal carcinoma', 'diagnosis: High nuclear grade ductal carcinoma associated with carcinoma in situ', 'diagnosis: Invasive ductal adenocarcinoma', 'diagnosis: Poorly differentiated infiltrating ductal carcinoma', 'diagnosis: Moderately differentiated invasive ductal carcinoma', 'diagnosis: Undifferentiated carcinoma', 'diagnosis: Ductal carcinoma in situ comedonicus type', 'diagnosis: Moderately differentiated infiltrating ductal adenocarcinoma', 'diagnosis: Carcinoma in situ associated with comedo necrosis', 'diagnosis: Invasive ductal adenocarcinoma high nuclear grade', 'diagnosis: Infiltrating ductal carcinoma', 'diagnosis: Invasive ductal carcinoma, carcinoma in situ associated with comedo necrosis'], 7: ['histological grade: 3', 'histological grade: 2', 'histological grade: N/A', 'histological grade: 1'], 8: ['estrogen receptor immunohistochemestry: Neg', 'estrogen receptor immunohistochemestry: Pos'], 9: ['progesteron receptor immunohistochemestry: Neg', 'progesteron receptor immunohistochemestry: Pos', 'progesteron receptor immunohistochemestry: POs'], 10: ['her2 immunohistochemestry: Neg', 'her2 immunohistochemestry: Pos', 'her2 immunohistochemestry: N/A'], 11: ['her2 fish: N/A', 'her2 fish: Neg', 'her2 fish: Pos'], 12: ['percentage ki67 ihc: 0.7', 'percentage ki67 ihc: 0.05', 'percentage ki67 ihc: 0.03', 'percentage ki67 ihc: 0.07', 'percentage ki67 ihc: 0.02', 'percentage ki67 ihc: 0.0022', 'percentage ki67 ihc: N/A', 'percentage ki67 ihc: 0.1', 'percentage ki67 ihc: 0.12', 'percentage ki67 ihc: 0.85', 'percentage ki67 ihc: 0.01', 'percentage ki67 ihc: 0.8', 'percentage ki67 ihc: 0.15', 'percentage ki67 ihc: 0.08', 'percentage ki67 ihc: 0.4', 'percentage ki67 ihc: 0.6', 'percentage ki67 ihc: 0.04', 'percentage ki67 ihc: 0.06', 'percentage ki67 ihc: 0.22', 'percentage ki67 ihc: 0.35', 'percentage ki67 ihc: 0.25', 'percentage ki67 ihc: 0.2', 'percentage ki67 ihc: 0.45'], 13: ['p63 ihc: Absent', 'p63 ihc: N/A', 'p63 ihc: Neg', 'p63 ihc: Pos'], 14: ['e-cadherina ihc: N/A', 'e-cadherina ihc: Pos'], 15: ['t: 3', 't: 1', 't: 2', 't: 4'], 16: ['n: 1', 'n: 0', 'n: 2', 'n: 3'], 17: ['m: 0', 'm: x', 'm: 1'], 18: ['data at diagnosis: 2013-05-29', 'data at diagnosis: 2013-06-06', 'data at diagnosis: 2013-06-04', 'data at diagnosis: 2013-08-06', 'data at diagnosis: 2013-06-17', 'data at diagnosis: 2013-06-18', 'data at diagnosis: 2013-07-11', 'data at diagnosis: 2013-07-08', 'data at diagnosis: 2013-07-23', 'data at diagnosis: 2013-07-29', 'data at diagnosis: 2013-08-01', 'data at diagnosis: 2013-09-02', 'data at diagnosis: 2013-09-10', 'data at diagnosis: 2013-09-03', 'data at diagnosis: 2013-10-03', 'data at diagnosis: 2013-10-02', 'data at diagnosis: 2013-10-15', 'data at diagnosis: 2013-11-12', 'data at diagnosis: 2012-12-05', 'data at diagnosis: 2013-12-09', 'data at diagnosis: NA', 'data at diagnosis: 2013-11-20', 'data at diagnosis: 2014-02-21', 'data at diagnosis: 2014-03-10', 'data at diagnosis: 2014-03-18', 'data at diagnosis: 2014-04-02', 'data at diagnosis: 2014-05-14', 'data at diagnosis: 2014-03-25', 'data at diagnosis: 2014-04-04', 'data at diagnosis: 2014-04-01'], 19: ['age at diagnosis: 45', 'age at diagnosis: 41', 'age at diagnosis: 59', 'age at diagnosis: 57', 'age at diagnosis: 42', 'age at diagnosis: 49', 'age at diagnosis: 54', 'age at diagnosis: 31', 'age at diagnosis: 70', 'age at diagnosis: 44', 'age at diagnosis: 50', 'age at diagnosis: 56', 'age at diagnosis: 51', 'age at diagnosis: 58', 'age at diagnosis: 55', 'age at diagnosis: 71', 'age at diagnosis: 40', 'age at diagnosis: 62', 'age at diagnosis: 87', 'age at diagnosis: 36', 'age at diagnosis: 43', 'age at diagnosis: 48', 'age at diagnosis: 66', 'age at diagnosis: 53', 'age at diagnosis: 35', 'age at diagnosis: 68', 'age at diagnosis: 46'], 20: ['pathological family history: Maternal Aunt Breast Cancer', 'pathological family history: Neg', 'pathological family history: Mother Breast Cancer', 'pathological family history: Hypertension', 'pathological family history: Diabetes', 'pathological family history: Liver Cancer', 'pathological family history: Nev', 'pathological family history: Father Pancreas Cancer. Maternal Aunt Breast Cancer. Father Aunts Ovarian Cancer. Cousin Breast Cancer', 'pathological family history: Father Laringeal Cancer', 'pathological family history: Fater Liver Cancer', 'pathological family history: Sister Brain Cancer', 'pathological family history: Mother and Sister Ovarian Cancer', 'pathological family history: Paternal Grandmother Breast Cancer', 'pathological family history: Father Lung Cancer', 'pathological family history: Mother Endometrial Cancer', 'pathological family history: Diabetes and Heart Disease', 'pathological family history: Sister Liver Cancer', 'pathological family history: Sister Pancreatic Cancer', 'pathological family history: Sister GBM and Breast Cancer', 'pathological family history: Pos', 'pathological family history: Sister Breast Cancer, Brother Prostate Cancer'], 21: ['personal pathological hystory: Neg', 'personal pathological hystory: Rheumatoid Arthritis', 'personal pathological hystory: Hypertension', 'personal pathological hystory: Apendicitis', 'personal pathological hystory: Hypertension and Diabetes', 'personal pathological hystory: Hypothyroidism', 'personal pathological hystory: Diabetes', 'personal pathological hystory: Ocular Surgery', 'personal pathological hystory: 3 C sections', 'personal pathological hystory: 0', 'personal pathological hystory: C section', 'personal pathological hystory: Hysterechtomy', 'personal pathological hystory: Dyslipidemia', 'personal pathological hystory: Hypertension and Rheumatoid Artritis', 'personal pathological hystory: Knee Surgery', 'personal pathological hystory: Venous insuficiency'], 22: ['tabaquism: Neg', 'tabaquism: Pos'], 23: ['age at menarche: 14', 'age at menarche: 13', 'age at menarche: 11', 'age at menarche: 15', 'age at menarche: 12', 'age at menarche: 18'], 24: ['birads: 6', 'birads: 4', 'birads: 5', 'birads: 2', 'birads: N/A'], 25: ['breast affected: Right', 'breast affected: Left', 'breast affected: Both'], 26: ['initial highest diameter in mm by image: 51', 'initial highest diameter in mm by image: 7', 'initial highest diameter in mm by image: 40', 'initial highest diameter in mm by image: 60', 'initial highest diameter in mm by image: 22', 'initial highest diameter in mm by image: 25', 'initial highest diameter in mm by image: 20', 'initial highest diameter in mm by image: 35', 'initial highest diameter in mm by image: 70', 'initial highest diameter in mm by image: 86', 'initial highest diameter in mm by image: 80', 'initial highest diameter in mm by image: 50', 'initial highest diameter in mm by image: 16', 'initial highest diameter in mm by image: 30', 'initial highest diameter in mm by image: 39', 'initial highest diameter in mm by image: 41', 'initial highest diameter in mm by image: 90', 'initial highest diameter in mm by image: 67', 'initial highest diameter in mm by image: 150', 'initial highest diameter in mm by image: 42', 'initial highest diameter in mm by image: 48', 'initial highest diameter in mm by image: 100', 'initial highest diameter in mm by image: 36', 'initial highest diameter in mm by image: 57', 'initial highest diameter in mm by image: 4', 'initial highest diameter in mm by image: 37', 'initial highest diameter in mm by image: 33', 'initial highest diameter in mm by image: 32', 'initial highest diameter in mm by image: 14', 'initial highest diameter in mm by image: 200'], 27: ['initial clinical size in mm by palpation: 70', 'initial clinical size in mm by palpation: 20', 'initial clinical size in mm by palpation: 35', 'initial clinical size in mm by palpation: 60', 'initial clinical size in mm by palpation: 90', 'initial clinical size in mm by palpation: 40', 'initial clinical size in mm by palpation: 80', 'initial clinical size in mm by palpation: 0', 'initial clinical size in mm by palpation: 150', 'initial clinical size in mm by palpation: 15', 'initial clinical size in mm by palpation: 50', 'initial clinical size in mm by palpation: 100', 'initial clinical size in mm by palpation: 30'], 28: ['final pathology size in mm: 10', 'final pathology size in mm: 30', 'final pathology size in mm: 15', 'final pathology size in mm: 35', 'final pathology size in mm: 20', 'final pathology size in mm: 55', 'final pathology size in mm: 80', 'final pathology size in mm: 18', 'final pathology size in mm: 0', 'final pathology size in mm: 45', 'final pathology size in mm: 50', 'final pathology size in mm: 25', 'final pathology size in mm: 110', 'final pathology size in mm: 40', 'final pathology size in mm: 2', 'final pathology size in mm: 7', 'final pathology size in mm: 38', 'final pathology size in mm: 5'], 29: ['final clinical size in mm by palpation: 10', 'final clinical size in mm by palpation: 0', 'final clinical size in mm by palpation: 30', 'final clinical size in mm by palpation: 150', 'final clinical size in mm by palpation: 50', 'final clinical size in mm by palpation: 80'], 30: ['final number of positive ganglia: 0', 'final number of positive ganglia: 3', 'final number of positive ganglia: 4', 'final number of positive ganglia: 17', 'final number of positive ganglia: 12', 'final number of positive ganglia: 8', 'final number of positive ganglia: 2', 'final number of positive ganglia: 1', 'final number of positive ganglia: 5', 'final number of positive ganglia: 6', 'final number of positive ganglia: 9', 'final number of positive ganglia: 7'], 31: ['final number of resected ganglia: 20', 'final number of resected ganglia: 3', 'final number of resected ganglia: 22', 'final number of resected ganglia: 0', 'final number of resected ganglia: 37', 'final number of resected ganglia: 10', 'final number of resected ganglia: 15', 'final number of resected ganglia: 26', 'final number of resected ganglia: 11', 'final number of resected ganglia: 12', 'final number of resected ganglia: 17', 'final number of resected ganglia: 2', 'final number of resected ganglia: 33', 'final number of resected ganglia: 14', 'final number of resected ganglia: 16', 'final number of resected ganglia: 6', 'final number of resected ganglia: 24', 'final number of resected ganglia: 18', 'final number of resected ganglia: 4', 'final number of resected ganglia: 5', 'final number of resected ganglia: 41', 'final number of resected ganglia: 13', 'final number of resected ganglia: 34', 'final number of resected ganglia: 27', 'final number of resected ganglia: 29', 'final number of resected ganglia: 19', 'final number of resected ganglia: 23'], 32: ['response to treatment: Partial', 'response to treatment: Progresive', 'response to treatment: Poor', 'response to treatment: Complete'], 33: ['final surgery date: 2014-06-02', 'final surgery date: 2014-04-26', 'final surgery date: 2014-10-10', 'final surgery date: 2014-01-27', 'final surgery date: 2014-07-23', 'final surgery date: 2014-02-04', 'final surgery date: 2014-03-10', 'final surgery date: 2014-02-24', 'final surgery date: 2014-10-07', 'final surgery date: 2014-03-20', 'final surgery date: 2014-02-17', 'final surgery date: 2014-02-21', 'final surgery date: 2014-02-11', 'final surgery date: 2014-04-19', 'final surgery date: 2014-04-25', 'final surgery date: 2014-04-29', 'final surgery date: 2014-02-05', 'final surgery date: NA', 'final surgery date: 2014-07-14', 'final surgery date: 2014-06-20', 'final surgery date: 2014-07-16', 'final surgery date: 2014-07-31', 'final surgery date: 2014-08-22', 'final surgery date: 2014-10-15', 'final surgery date: 2014-10-22', 'final surgery date: 2014-09-06', 'final surgery date: 2014-10-20', 'final surgery date: 2014-05-19', 'final surgery date: 2014-10-27', 'final surgery date: 2014-10-29'], 34: ['chemotherapy1: Doxorubicin', 'chemotherapy1: Paclitaxel', 'chemotherapy1: Adriamicin', 'chemotherapy1: N/A', 'chemotherapy1: Taxol', 'chemotherapy1: Epirubicin', 'chemotherapy1: Trastuzumab', 'chemotherapy1: Tamoxifen'], 35: ['chemotherapy2: Cyclophosphamide', 'chemotherapy2: N/A', 'chemotherapy2: Trastazumab', 'chemotherapy2: Adriamicin', 'chemotherapy2: Doxorubicin', 'chemotherapy2: Taxol', 'chemotherapy2: Epirrubicin'], 36: ['chemotherapy3: N/A', 'chemotherapy3: Cyclophosphamide', 'chemotherapy3: Trastuzumab', 'chemotherapy3: Taxol', 'chemotherapy3: Adramicin', 'chemotherapy3: Paclitaxel', 'chemotherapy3: Adriamicin'], 37: ['chemotherapy4: N/A', 'chemotherapy4: Taxol', 'chemotherapy4: Trastuzumab'], 38: ['radiotherapy: Yes', 'radiotherapy: No', 'radiotherapy: N/A'], 39: ['date at relapse: N/A', 'date at relapse: 2014-04-24', 'date at relapse: 2014-09-09', 'date at relapse: 2014-10-15'], 40: ['place to metastasis: N/A', 'place to metastasis: Liver', 'place to metastasis: Lung'], 41: ['date at death: N/A', 'date at death: 2014-08-01', nan]}\n"
     ]
    }
   ],
   "source": [
    "from utils.preprocess import *\n",
    "# 1. Identify the paths to the soft file and the matrix file\n",
    "cohort_dir = '/media/techt/DATA/GEO/Hypothyroidism/GSE75678'\n",
    "soft_file, matrix_file = geo_get_relevant_filepaths(cohort_dir)\n",
    "\n",
    "# 2. Read the matrix file to obtain background information and sample characteristics data\n",
    "background_prefixes = ['!Series_title', '!Series_summary', '!Series_overall_design']\n",
    "clinical_prefixes = ['!Sample_geo_accession', '!Sample_characteristics_ch1']\n",
    "background_info, clinical_data = get_background_and_clinical_data(matrix_file, background_prefixes, clinical_prefixes)\n",
    "\n",
    "# 3. Obtain the sample characteristics dictionary from the clinical dataframe\n",
    "sample_characteristics_dict = get_unique_values_by_row(clinical_data)\n",
    "\n",
    "# 4. Explicitly print out all the background information and the sample characteristics dictionary\n",
    "print(\"Background Information:\")\n",
    "print(background_info)\n",
    "print(\"Sample Characteristics Dictionary:\")\n",
    "print(sample_characteristics_dict)\n"
   ]
  },
  {
   "cell_type": "markdown",
   "id": "416ea718",
   "metadata": {},
   "source": [
    "### Step 2: Dataset Analysis and Clinical Feature Extraction"
   ]
  },
  {
   "cell_type": "code",
   "execution_count": 3,
   "id": "69181442",
   "metadata": {
    "execution": {
     "iopub.execute_input": "2024-06-12T06:57:06.694909Z",
     "iopub.status.busy": "2024-06-12T06:57:06.694799Z",
     "iopub.status.idle": "2024-06-12T06:57:06.709049Z",
     "shell.execute_reply": "2024-06-12T06:57:06.708709Z"
    }
   },
   "outputs": [
    {
     "name": "stdout",
     "output_type": "stream",
     "text": [
      "{'GSM1963528': [0, 45], 'GSM1963529': [0, 41], 'GSM1963530': [0, 59], 'GSM1963531': [0, 57], 'GSM1963532': [0, 42], 'GSM1963533': [0, 49], 'GSM1963534': [0, 59], 'GSM1963535': [0, 54], 'GSM1963536': [0, 54], 'GSM1963537': [0, 31], 'GSM1963538': [0, 70], 'GSM1963539': [0, 44], 'GSM1963540': [0, 50], 'GSM1963541': [0, 42], 'GSM1963542': [0, 56], 'GSM1963543': [1, 51], 'GSM1963544': [0, 58], 'GSM1963545': [0, 55], 'GSM1963546': [0, 71], 'GSM1963547': [0, 42], 'GSM1963548': [0, 41], 'GSM1963549': [0, 40], 'GSM1963550': [0, 57], 'GSM1963551': [0, 62], 'GSM1963552': [0, 87], 'GSM1963553': [0, 36], 'GSM1963554': [0, 50], 'GSM1963555': [0, 45], 'GSM1963556': [0, 43], 'GSM1963557': [0, 42], 'GSM1963558': [0, 43], 'GSM1963559': [0, 44], 'GSM1963560': [0, 43], 'GSM1963561': [0, 48], 'GSM1963562': [0, 45], 'GSM1963563': [0, 51], 'GSM1963564': [0, 56], 'GSM1963565': [0, 57], 'GSM1963566': [0, 41], 'GSM1963567': [0, 48], 'GSM1963568': [0, 66], 'GSM1963569': [0, 53], 'GSM1963570': [0, 36], 'GSM1963571': [0, 51], 'GSM1963572': [0, 57], 'GSM1963573': [0, 45], 'GSM1963574': [0, 55], 'GSM1963575': [0, 35], 'GSM1963576': [0, 44], 'GSM1963577': [0, 68], 'GSM1963578': [0, 46], 'GSM1963579': [0, 58], 'GSM1963580': [0, 45], 'GSM1963581': [0, 54]}\n"
     ]
    }
   ],
   "source": [
    "is_gene_available = False\n",
    "trait_row = age_row = gender_row = None  # set to different values when applicable\n",
    "convert_trait = convert_age = convert_gender = None  # define the functions when applicable\n",
    "\n",
    "# Check if gene expression data is available\n",
    "is_gene_available = True\n",
    "\n",
    "# Full suitable sample_characteristics dictionary instead of ellipsis\n",
    "sample_characteristics = {\n",
    "    0: ['tissue: Tumor Sample of Breast Cancer'], \n",
    "    1: ['gender: Female'], \n",
    "    2: ['rna ng/ul: 1083', 'rna ng/ul: 343', 'rna ng/ul: 111', 'rna ng/ul: 307', 'rna ng/ul: 401', 'rna ng/ul: 475', 'rna ng/ul: 728', 'rna ng/ul: 143.6', 'rna ng/ul: 224.7', 'rna ng/ul: 1458.3', 'rna ng/ul: 164', 'rna ng/ul: 370.2', 'rna ng/ul: 419.5', 'rna ng/ul: 693.6', 'rna ng/ul: 291.4', 'rna ng/ul: 1566.4', 'rna ng/ul: 69', 'rna ng/ul: 625.4', 'rna ng/ul: 151.6', 'rna ng/ul: 127.7', 'rna ng/ul: 1116.8', 'rna ng/ul: 333.9', 'rna ng/ul: 182.1', 'rna ng/ul: 437.4', 'rna ng/ul: 439', 'rna ng/ul: 178.2', 'rna ng/ul: 1365', 'rna ng/ul: 670', 'rna ng/ul: 840.6', 'rna ng/ul: 725'], \n",
    "    21: ['personal pathological hystory: Neg', 'personal pathological hystory: Rheumatoid Arthritis', 'personal pathological hystory: Hypertension', 'personal pathological hystory: Apendicitis', 'personal pathological hystory: Hypertension and Diabetes', 'personal pathological hystory: Hypothyroidism', 'personal pathological hystory: Diabetes', 'personal pathological hystory: Ocular Surgery', 'personal pathological hystory: 3 C sections', 'personal pathological hystory: 0', 'personal pathological hystory: C section', 'personal pathological hystory: Hysterechtomy', 'personal pathological hystory: Dyslipidemia', 'personal pathological hystory: Hypertension and Rheumatoid Artritis', 'personal pathological hystory: Knee Surgery', 'personal pathological hystory: Venous insuficiency'], \n",
    "    19: ['age at diagnosis: 45', 'age at diagnosis: 41', 'age at diagnosis: 59', 'age at diagnosis: 57', 'age at diagnosis: 42', 'age at diagnosis: 49', 'age at diagnosis: 54', 'age at diagnosis: 31', 'age at diagnosis: 70', 'age at diagnosis: 44', 'age at diagnosis: 50', 'age at diagnosis: 56', 'age at diagnosis: 51', 'age at diagnosis: 58', 'age at diagnosis: 55', 'age at diagnosis: 71', 'age at diagnosis: 40', 'age at diagnosis: 62', 'age at diagnosis: 87', 'age at diagnosis: 36', 'age at diagnosis: 43', 'age at diagnosis: 48', 'age at diagnosis: 66', 'age at diagnosis: 53', 'age at diagnosis: 35', 'age at diagnosis: 68', 'age at diagnosis: 46']\n",
    "}\n",
    "\n",
    "# Set the trait_row based on the sample characteristics dictionary\n",
    "if 21 in sample_characteristics:\n",
    "    unique_traits = set([entry.split(':')[1].strip() for entry in sample_characteristics[21]])\n",
    "    if len(unique_traits) > 1:\n",
    "        trait_row = 21\n",
    "\n",
    "# Set the age_row based on the sample characteristics dictionary\n",
    "if 19 in sample_characteristics:\n",
    "    unique_ages = set([entry.split(':')[1].strip() for entry in sample_characteristics[19]])\n",
    "    if len(unique_ages) > 1:\n",
    "        age_row = 19\n",
    "        \n",
    "# Check for gender_row\n",
    "# Gender seems to be constant in this dataset hence should be skipped as per instructions\n",
    "gender_row = None\n",
    "\n",
    "# Define the data type conversion functions\n",
    "def convert_trait(value):\n",
    "    return 1 if 'Hypothyroidism' in value else 0\n",
    "\n",
    "def convert_age(value):\n",
    "    try:\n",
    "        return int(value.split(':')[1].strip())\n",
    "    except (ValueError, IndexError):\n",
    "        return None\n",
    "        \n",
    "save_cohort_info('GSE75678', './preprocessed/Hypothyroidism/cohort_info.json', is_gene_available, trait_row is not None)\n",
    "\n",
    "if trait_row is not None:\n",
    "    selected_clinical_data = geo_select_clinical_features(clinical_data, 'Hypothyroidism', trait_row, convert_trait, age_row, convert_age, gender_row, convert_gender)\n",
    "    csv_path = './preprocessed/Hypothyroidism/trait_data/GSE75678.csv'\n",
    "    selected_clinical_data.to_csv(csv_path)\n",
    "    print(preview_df(selected_clinical_data))\n"
   ]
  },
  {
   "cell_type": "markdown",
   "id": "de631b45",
   "metadata": {},
   "source": [
    "### Step 3: Gene Data Extraction"
   ]
  },
  {
   "cell_type": "code",
   "execution_count": 4,
   "id": "5b3f33c1",
   "metadata": {
    "execution": {
     "iopub.execute_input": "2024-06-12T06:57:06.710588Z",
     "iopub.status.busy": "2024-06-12T06:57:06.710484Z",
     "iopub.status.idle": "2024-06-12T06:57:06.989712Z",
     "shell.execute_reply": "2024-06-12T06:57:06.989264Z"
    }
   },
   "outputs": [
    {
     "name": "stdout",
     "output_type": "stream",
     "text": [
      "Index(['1', '2', '3', '4', '5', '6', '7', '8', '9', '10', '11', '12', '13',\n",
      "       '14', '15', '16', '17', '18', '19', '20'],\n",
      "      dtype='object', name='ID')\n"
     ]
    }
   ],
   "source": [
    "# 1. Use the get_genetic_data function from the library to get the gene_data from the matrix_file previously defined.\n",
    "gene_data = get_genetic_data(matrix_file)\n",
    "\n",
    "# 2. Print the first 20 row ids for the following step.\n",
    "print(gene_data.index[:20])\n"
   ]
  },
  {
   "cell_type": "markdown",
   "id": "2c7e932e",
   "metadata": {},
   "source": [
    "### Step 4: Gene Identifier Review"
   ]
  },
  {
   "cell_type": "code",
   "execution_count": 5,
   "id": "6764d302",
   "metadata": {
    "execution": {
     "iopub.execute_input": "2024-06-12T06:57:06.991511Z",
     "iopub.status.busy": "2024-06-12T06:57:06.991382Z",
     "iopub.status.idle": "2024-06-12T06:57:06.993594Z",
     "shell.execute_reply": "2024-06-12T06:57:06.993273Z"
    }
   },
   "outputs": [],
   "source": [
    "requires_gene_mapping = True\n"
   ]
  },
  {
   "cell_type": "markdown",
   "id": "0408a1ca",
   "metadata": {},
   "source": [
    "### Step 5: Gene Annotation (Conditional)"
   ]
  },
  {
   "cell_type": "code",
   "execution_count": 6,
   "id": "4c994b46",
   "metadata": {
    "execution": {
     "iopub.execute_input": "2024-06-12T06:57:06.995234Z",
     "iopub.status.busy": "2024-06-12T06:57:06.995134Z",
     "iopub.status.idle": "2024-06-12T06:57:11.181290Z",
     "shell.execute_reply": "2024-06-12T06:57:11.180808Z"
    }
   },
   "outputs": [
    {
     "name": "stdout",
     "output_type": "stream",
     "text": [
      "Gene annotation preview:\n",
      "{'ID': ['1', '2', '3', '4', '5'], 'COL': ['266', '266', '266', '266', '266'], 'ROW': [170.0, 168.0, 166.0, 164.0, 162.0], 'NAME': ['GE_BrightCorner', 'DarkCorner', 'DarkCorner', 'DarkCorner', 'DarkCorner'], 'SPOT_ID': ['GE_BrightCorner', 'DarkCorner', 'DarkCorner', 'DarkCorner', 'DarkCorner'], 'CONTROL_TYPE': ['pos', 'pos', 'pos', 'pos', 'pos'], 'REFSEQ': [nan, nan, nan, nan, nan], 'GB_ACC': [nan, nan, nan, nan, nan], 'GENE': [nan, nan, nan, nan, nan], 'GENE_SYMBOL': [nan, nan, nan, nan, nan], 'GENE_NAME': [nan, nan, nan, nan, nan], 'UNIGENE_ID': [nan, nan, nan, nan, nan], 'ENSEMBL_ID': [nan, nan, nan, nan, nan], 'TIGR_ID': [nan, nan, nan, nan, nan], 'ACCESSION_STRING': [nan, nan, nan, nan, nan], 'CHROMOSOMAL_LOCATION': [nan, nan, nan, nan, nan], 'CYTOBAND': [nan, nan, nan, nan, nan], 'DESCRIPTION': [nan, nan, nan, nan, nan], 'GO_ID': [nan, nan, nan, nan, nan], 'SEQUENCE': [nan, nan, nan, nan, nan], 'SPOT_ID.1': [nan, nan, nan, nan, nan], 'ORDER': [1.0, 2.0, 3.0, 4.0, 5.0]}\n"
     ]
    }
   ],
   "source": [
    "# 1. Use the 'get_gene_annotation' function from the library to get gene annotation data from the soft file.\n",
    "gene_annotation = get_gene_annotation(soft_file)\n",
    "\n",
    "# 2. Use the 'preview_df' function from the library to preview the data and print out the results.\n",
    "print(\"Gene annotation preview:\")\n",
    "print(preview_df(gene_annotation))\n"
   ]
  },
  {
   "cell_type": "markdown",
   "id": "f0f05928",
   "metadata": {},
   "source": [
    "### Step 6: Gene Identifier Mapping"
   ]
  },
  {
   "cell_type": "code",
   "execution_count": 7,
   "id": "8914dad0",
   "metadata": {
    "execution": {
     "iopub.execute_input": "2024-06-12T06:57:11.183104Z",
     "iopub.status.busy": "2024-06-12T06:57:11.182958Z",
     "iopub.status.idle": "2024-06-12T06:57:11.356850Z",
     "shell.execute_reply": "2024-06-12T06:57:11.356443Z"
    }
   },
   "outputs": [],
   "source": [
    "# 1. Determine the keys for identifiers and gene symbols\n",
    "identifier_key = 'ID'\n",
    "gene_symbol_key = 'GENE_SYMBOL'\n",
    "\n",
    "# 2. Get the dataframe storing the mapping between probe IDs and genes\n",
    "mapping_df = get_gene_mapping(gene_annotation, identifier_key, gene_symbol_key)\n",
    "\n",
    "# 3. Apply the mapping with the 'apply_gene_mapping' function from the library\n",
    "gene_data = apply_gene_mapping(gene_data, mapping_df)\n"
   ]
  },
  {
   "cell_type": "markdown",
   "id": "89a19add",
   "metadata": {},
   "source": [
    "### Step 7: Data Normalization and Merging"
   ]
  },
  {
   "cell_type": "code",
   "execution_count": 8,
   "id": "dba7f9bb",
   "metadata": {
    "execution": {
     "iopub.execute_input": "2024-06-12T06:57:11.359088Z",
     "iopub.status.busy": "2024-06-12T06:57:11.358954Z",
     "iopub.status.idle": "2024-06-12T06:57:58.213137Z",
     "shell.execute_reply": "2024-06-12T06:57:58.212691Z"
    }
   },
   "outputs": [
    {
     "name": "stdout",
     "output_type": "stream",
     "text": [
      "For the feature 'Hypothyroidism', the least common label is '1.0' with 1 occurrences. This represents 1.85% of the dataset.\n",
      "The distribution of the feature 'Hypothyroidism' in this dataset is severely biased.\n",
      "\n",
      "Quartiles for 'Age':\n",
      "  25%: 43.0\n",
      "  50% (Median): 49.5\n",
      "  75%: 56.75\n",
      "Min: 31.0\n",
      "Max: 87.0\n",
      "The distribution of the feature 'Age' in this dataset is fine.\n",
      "\n",
      "A new JSON file was created at: ./preprocessed/Hypothyroidism/cohort_info.json\n"
     ]
    }
   ],
   "source": [
    "# 1. Normalize the obtained gene data with the 'normalize_gene_symbols_in_index' function from the library.\n",
    "normalized_gene_data = normalize_gene_symbols_in_index(gene_data)\n",
    "gene_csv_path = './preprocessed/Hypothyroidism/gene_data/GSE75678.csv'\n",
    "normalized_gene_data.to_csv(gene_csv_path)\n",
    "\n",
    "# 2. Merge the clinical and genetic data with the 'geo_merge_clinical_genetic_data' function from the library.\n",
    "merged_data = geo_merge_clinical_genetic_data(selected_clinical_data, normalized_gene_data)\n",
    "\n",
    "# 3. Determine whether the trait and some demographic attributes in the data is severely biased, and remove biased attributes.\n",
    "trait_biased, unbiased_merged_data = judge_and_remove_biased_features(merged_data, 'Hypothyroidism')\n",
    "\n",
    "# 4. Save the cohort information.\n",
    "save_cohort_info('GSE75678', './preprocessed/Hypothyroidism/cohort_info.json', True, True, trait_biased, merged_data)\n",
    "\n",
    "if not trait_biased:\n",
    "    # 5. If the trait is not severely biased, save the merged data to a csv file.\n",
    "    csv_path = './preprocessed/Hypothyroidism/GSE75678.csv'\n",
    "    unbiased_merged_data.to_csv(csv_path)\n"
   ]
  }
 ],
 "metadata": {
  "language_info": {
   "codemirror_mode": {
    "name": "ipython",
    "version": 3
   },
   "file_extension": ".py",
   "mimetype": "text/x-python",
   "name": "python",
   "nbconvert_exporter": "python",
   "pygments_lexer": "ipython3",
   "version": "3.8.17"
  }
 },
 "nbformat": 4,
 "nbformat_minor": 5
}
