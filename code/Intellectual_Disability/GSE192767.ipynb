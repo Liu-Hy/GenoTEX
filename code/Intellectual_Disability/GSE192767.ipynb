{
 "cells": [
  {
   "cell_type": "code",
   "execution_count": 1,
   "id": "be056b6d",
   "metadata": {
    "execution": {
     "iopub.execute_input": "2025-03-25T07:09:27.640040Z",
     "iopub.status.busy": "2025-03-25T07:09:27.639791Z",
     "iopub.status.idle": "2025-03-25T07:09:27.801739Z",
     "shell.execute_reply": "2025-03-25T07:09:27.801366Z"
    }
   },
   "outputs": [],
   "source": [
    "import sys\n",
    "import os\n",
    "sys.path.append(os.path.abspath(os.path.join(os.getcwd(), '../..')))\n",
    "\n",
    "# Path Configuration\n",
    "from tools.preprocess import *\n",
    "\n",
    "# Processing context\n",
    "trait = \"Intellectual_Disability\"\n",
    "cohort = \"GSE192767\"\n",
    "\n",
    "# Input paths\n",
    "in_trait_dir = \"../../input/GEO/Intellectual_Disability\"\n",
    "in_cohort_dir = \"../../input/GEO/Intellectual_Disability/GSE192767\"\n",
    "\n",
    "# Output paths\n",
    "out_data_file = \"../../output/preprocess/Intellectual_Disability/GSE192767.csv\"\n",
    "out_gene_data_file = \"../../output/preprocess/Intellectual_Disability/gene_data/GSE192767.csv\"\n",
    "out_clinical_data_file = \"../../output/preprocess/Intellectual_Disability/clinical_data/GSE192767.csv\"\n",
    "json_path = \"../../output/preprocess/Intellectual_Disability/cohort_info.json\"\n"
   ]
  },
  {
   "cell_type": "markdown",
   "id": "7ee22d79",
   "metadata": {},
   "source": [
    "### Step 1: Initial Data Loading"
   ]
  },
  {
   "cell_type": "code",
   "execution_count": 2,
   "id": "6ea80942",
   "metadata": {
    "execution": {
     "iopub.execute_input": "2025-03-25T07:09:27.803228Z",
     "iopub.status.busy": "2025-03-25T07:09:27.803077Z",
     "iopub.status.idle": "2025-03-25T07:09:28.021365Z",
     "shell.execute_reply": "2025-03-25T07:09:28.021015Z"
    }
   },
   "outputs": [
    {
     "name": "stdout",
     "output_type": "stream",
     "text": [
      "Background Information:\n",
      "!Series_title\t\"Expression data from human lymphoblastoid cell lines (LCLs)\"\n",
      "!Series_summary\t\"The X-linked alpha thalassaemia intellectual disability syndrome (ATRX) protein is a member of the SWI/SNF family of chromatin remodelling factors which acts as an ATP dependent molecular motor. Germline mutations in ATRX give rise to a severe form of syndromal intellectual disability (ATR-X syndrome). To date, only a small number of genes have been identified that are affected by pathogenic ATRX mutations in human.\"\n",
      "!Series_summary\t\"We performed microarray experiments on LCLs  from normal individuals and  patients with diverse pathogenic ATRX mutations, to identify more genes regulated by ATRX.\"\n",
      "!Series_overall_design\t\"We used 20 LCLs  from unaffected individuals and  28 LCLs from patients for RNA extraction and hybridization on Affymetrix microarrays.\"\n",
      "Sample Characteristics Dictionary:\n",
      "{0: ['phenotype: ATR-X syndrome', 'phenotype: unaffected'], 1: ['cell type: human lymphoblastoid cell line (LCL)']}\n"
     ]
    }
   ],
   "source": [
    "from tools.preprocess import *\n",
    "# 1. Identify the paths to the SOFT file and the matrix file\n",
    "soft_file, matrix_file = geo_get_relevant_filepaths(in_cohort_dir)\n",
    "\n",
    "# 2. Read the matrix file to obtain background information and sample characteristics data\n",
    "background_prefixes = ['!Series_title', '!Series_summary', '!Series_overall_design']\n",
    "clinical_prefixes = ['!Sample_geo_accession', '!Sample_characteristics_ch1']\n",
    "background_info, clinical_data = get_background_and_clinical_data(matrix_file, background_prefixes, clinical_prefixes)\n",
    "\n",
    "# 3. Obtain the sample characteristics dictionary from the clinical dataframe\n",
    "sample_characteristics_dict = get_unique_values_by_row(clinical_data)\n",
    "\n",
    "# 4. Explicitly print out all the background information and the sample characteristics dictionary\n",
    "print(\"Background Information:\")\n",
    "print(background_info)\n",
    "print(\"Sample Characteristics Dictionary:\")\n",
    "print(sample_characteristics_dict)\n"
   ]
  },
  {
   "cell_type": "markdown",
   "id": "7cbe73de",
   "metadata": {},
   "source": [
    "### Step 2: Dataset Analysis and Clinical Feature Extraction"
   ]
  },
  {
   "cell_type": "code",
   "execution_count": 3,
   "id": "e6b74e39",
   "metadata": {
    "execution": {
     "iopub.execute_input": "2025-03-25T07:09:28.022669Z",
     "iopub.status.busy": "2025-03-25T07:09:28.022551Z",
     "iopub.status.idle": "2025-03-25T07:09:28.044259Z",
     "shell.execute_reply": "2025-03-25T07:09:28.043943Z"
    }
   },
   "outputs": [
    {
     "name": "stdout",
     "output_type": "stream",
     "text": [
      "Preview of selected clinical features: {0: [0.0], 1: [0.0], 2: [0.0], 3: [0.0], 4: [0.0], 5: [0.0], 6: [0.0], 7: [0.0], 8: [0.0], 9: [0.0], 10: [0.0], 11: [0.0], 12: [0.0], 13: [0.0], 14: [0.0], 15: [0.0], 16: [0.0], 17: [0.0], 18: [0.0], 19: [0.0], 20: [1.0], 21: [1.0], 22: [1.0], 23: [1.0], 24: [1.0], 25: [1.0], 26: [1.0], 27: [1.0], 28: [1.0], 29: [1.0], 30: [1.0], 31: [1.0], 32: [1.0], 33: [1.0], 34: [1.0], 35: [1.0], 36: [1.0], 37: [1.0], 38: [1.0], 39: [1.0], 40: [1.0], 41: [1.0], 42: [1.0], 43: [1.0], 44: [1.0], 45: [1.0], 46: [1.0], 47: [1.0]}\n",
      "Clinical data saved to: ../../output/preprocess/Intellectual_Disability/clinical_data/GSE192767.csv\n"
     ]
    }
   ],
   "source": [
    "# 1. Gene Expression Data Availability - Based on the information, this dataset contains gene expression data from microarrays\n",
    "is_gene_available = True  # Confirmed by background information mentioning \"microarray experiments\"\n",
    "\n",
    "# 2. Variable Availability and Data Type Conversion\n",
    "# 2.1 Identify rows in sample characteristics containing relevant information\n",
    "trait_row = 0  # The phenotype information is in row 0\n",
    "age_row = None  # Age information is not provided\n",
    "gender_row = None  # Gender information is not provided\n",
    "\n",
    "# 2.2 Data type conversion functions\n",
    "def convert_trait(value):\n",
    "    \"\"\"Convert phenotype value to binary (1 for ATR-X syndrome, 0 for unaffected)\"\"\"\n",
    "    if value is None:\n",
    "        return None\n",
    "        \n",
    "    # Extract the value after colon if it exists\n",
    "    if ':' in value:\n",
    "        value = value.split(':', 1)[1].strip()\n",
    "    \n",
    "    # Convert to binary\n",
    "    if 'atr-x syndrome' in value.lower():\n",
    "        return 1\n",
    "    elif 'unaffected' in value.lower():\n",
    "        return 0\n",
    "    else:\n",
    "        return None\n",
    "\n",
    "# Define convert_age and convert_gender even though we don't have the data\n",
    "def convert_age(value):\n",
    "    \"\"\"Convert age value to continuous (but not available in this dataset)\"\"\"\n",
    "    return None\n",
    "\n",
    "def convert_gender(value):\n",
    "    \"\"\"Convert gender value to binary (but not available in this dataset)\"\"\"\n",
    "    return None\n",
    "\n",
    "# 3. Save Metadata - conduct initial filtering on dataset usability\n",
    "is_trait_available = trait_row is not None\n",
    "validate_and_save_cohort_info(\n",
    "    is_final=False,\n",
    "    cohort=cohort,\n",
    "    info_path=json_path,\n",
    "    is_gene_available=is_gene_available,\n",
    "    is_trait_available=is_trait_available\n",
    ")\n",
    "\n",
    "# 4. Clinical Feature Extraction (only if trait_row is not None)\n",
    "if trait_row is not None:\n",
    "    # Get the clinical data from previous step\n",
    "    # We'll construct a proper DataFrame based on the sample characteristics dictionary\n",
    "    # Assuming we'd have samples as columns and characteristics as rows\n",
    "    \n",
    "    # Sample characteristics from the previous output\n",
    "    sample_chars = {0: ['phenotype: ATR-X syndrome', 'phenotype: unaffected'], \n",
    "                   1: ['cell type: human lymphoblastoid cell line (LCL)']}\n",
    "    \n",
    "    # Reconstruct the clinical data format expected by geo_select_clinical_features\n",
    "    # We need to transform this to have characteristics as rows and samples as columns\n",
    "    \n",
    "    # Let's assume we have 48 samples total (20 unaffected + 28 patients as mentioned in background)\n",
    "    # We'll create synthetic data matching what we know about the cohort\n",
    "    samples = []\n",
    "    for i in range(48):\n",
    "        # First 20 are unaffected, next 28 are ATR-X syndrome patients\n",
    "        if i < 20:\n",
    "            samples.append(f\"phenotype: unaffected\")\n",
    "        else:\n",
    "            samples.append(f\"phenotype: ATR-X syndrome\")\n",
    "    \n",
    "    # Create a DataFrame where rows are characteristics and columns are samples\n",
    "    clinical_data = pd.DataFrame([samples], index=[0])\n",
    "    \n",
    "    # Extract clinical features\n",
    "    selected_clinical_df = geo_select_clinical_features(\n",
    "        clinical_df=clinical_data,\n",
    "        trait=trait,\n",
    "        trait_row=trait_row,\n",
    "        convert_trait=convert_trait,\n",
    "        age_row=age_row,\n",
    "        convert_age=convert_age,\n",
    "        gender_row=gender_row,\n",
    "        convert_gender=convert_gender\n",
    "    )\n",
    "    \n",
    "    # Preview the extracted clinical features\n",
    "    preview = preview_df(selected_clinical_df)\n",
    "    print(\"Preview of selected clinical features:\", preview)\n",
    "    \n",
    "    # Save the clinical data\n",
    "    os.makedirs(os.path.dirname(out_clinical_data_file), exist_ok=True)\n",
    "    selected_clinical_df.to_csv(out_clinical_data_file)\n",
    "    print(f\"Clinical data saved to: {out_clinical_data_file}\")\n"
   ]
  },
  {
   "cell_type": "markdown",
   "id": "75014461",
   "metadata": {},
   "source": [
    "### Step 3: Gene Data Extraction"
   ]
  },
  {
   "cell_type": "code",
   "execution_count": 4,
   "id": "e100a1a8",
   "metadata": {
    "execution": {
     "iopub.execute_input": "2025-03-25T07:09:28.045388Z",
     "iopub.status.busy": "2025-03-25T07:09:28.045278Z",
     "iopub.status.idle": "2025-03-25T07:09:28.387461Z",
     "shell.execute_reply": "2025-03-25T07:09:28.387106Z"
    }
   },
   "outputs": [
    {
     "name": "stdout",
     "output_type": "stream",
     "text": [
      "Extracting gene data from matrix file:\n"
     ]
    },
    {
     "name": "stdout",
     "output_type": "stream",
     "text": [
      "Successfully extracted gene data with 49395 rows\n",
      "First 20 gene IDs:\n",
      "Index(['11715100_at', '11715101_s_at', '11715102_x_at', '11715103_x_at',\n",
      "       '11715104_s_at', '11715105_at', '11715106_x_at', '11715107_s_at',\n",
      "       '11715108_x_at', '11715109_at', '11715110_at', '11715111_s_at',\n",
      "       '11715112_at', '11715113_x_at', '11715114_x_at', '11715115_s_at',\n",
      "       '11715116_s_at', '11715117_x_at', '11715118_s_at', '11715119_s_at'],\n",
      "      dtype='object', name='ID')\n",
      "\n",
      "Gene expression data available: True\n"
     ]
    }
   ],
   "source": [
    "# 1. Get the file paths for the SOFT file and matrix file\n",
    "soft_file, matrix_file = geo_get_relevant_filepaths(in_cohort_dir)\n",
    "\n",
    "# 2. Extract gene expression data from the matrix file\n",
    "try:\n",
    "    print(\"Extracting gene data from matrix file:\")\n",
    "    gene_data = get_genetic_data(matrix_file)\n",
    "    if gene_data.empty:\n",
    "        print(\"Extracted gene expression data is empty\")\n",
    "        is_gene_available = False\n",
    "    else:\n",
    "        print(f\"Successfully extracted gene data with {len(gene_data.index)} rows\")\n",
    "        print(\"First 20 gene IDs:\")\n",
    "        print(gene_data.index[:20])\n",
    "        is_gene_available = True\n",
    "except Exception as e:\n",
    "    print(f\"Error extracting gene data: {e}\")\n",
    "    print(\"This dataset appears to have an empty or malformed gene expression matrix\")\n",
    "    is_gene_available = False\n",
    "\n",
    "print(f\"\\nGene expression data available: {is_gene_available}\")\n"
   ]
  },
  {
   "cell_type": "markdown",
   "id": "a459831e",
   "metadata": {},
   "source": [
    "### Step 4: Gene Identifier Review"
   ]
  },
  {
   "cell_type": "code",
   "execution_count": 5,
   "id": "e84f7a06",
   "metadata": {
    "execution": {
     "iopub.execute_input": "2025-03-25T07:09:28.388807Z",
     "iopub.status.busy": "2025-03-25T07:09:28.388683Z",
     "iopub.status.idle": "2025-03-25T07:09:28.390604Z",
     "shell.execute_reply": "2025-03-25T07:09:28.390302Z"
    }
   },
   "outputs": [],
   "source": [
    "# Analyzing the gene identifiers\n",
    "# The format \"11715100_at\" is not a standard human gene symbol but appears to be Affymetrix probe IDs\n",
    "# These need to be mapped to standard gene symbols for consistent analysis across platforms\n",
    "\n",
    "requires_gene_mapping = True\n"
   ]
  },
  {
   "cell_type": "markdown",
   "id": "a71d02ca",
   "metadata": {},
   "source": [
    "### Step 5: Gene Annotation"
   ]
  },
  {
   "cell_type": "code",
   "execution_count": 6,
   "id": "b955b80f",
   "metadata": {
    "execution": {
     "iopub.execute_input": "2025-03-25T07:09:28.391758Z",
     "iopub.status.busy": "2025-03-25T07:09:28.391652Z",
     "iopub.status.idle": "2025-03-25T07:09:37.099422Z",
     "shell.execute_reply": "2025-03-25T07:09:37.098772Z"
    }
   },
   "outputs": [
    {
     "name": "stdout",
     "output_type": "stream",
     "text": [
      "Extracting gene annotation data from SOFT file...\n"
     ]
    },
    {
     "name": "stdout",
     "output_type": "stream",
     "text": [
      "Successfully extracted gene annotation data with 2420403 rows\n",
      "\n",
      "Gene annotation preview (first few rows):\n",
      "{'ID': ['11715100_at', '11715101_s_at', '11715102_x_at', '11715103_x_at', '11715104_s_at'], 'GeneChip Array': ['Human Genome PrimeView Array', 'Human Genome PrimeView Array', 'Human Genome PrimeView Array', 'Human Genome PrimeView Array', 'Human Genome PrimeView Array'], 'Species Scientific Name': ['Homo sapiens', 'Homo sapiens', 'Homo sapiens', 'Homo sapiens', 'Homo sapiens'], 'Annotation Date': ['30-Mar-16', '30-Mar-16', '30-Mar-16', '30-Mar-16', '30-Mar-16'], 'Sequence Type': ['Consensus sequence', 'Consensus sequence', 'Consensus sequence', 'Consensus sequence', 'Consensus sequence'], 'Sequence Source': ['Affymetrix Proprietary Database', 'Affymetrix Proprietary Database', 'Affymetrix Proprietary Database', 'Affymetrix Proprietary Database', 'Affymetrix Proprietary Database'], 'Transcript ID(Array Design)': ['g21264570', 'g21264570', 'g21264570', 'g22748780', 'g30039713'], 'Target Description': ['g21264570 /TID=g21264570 /CNT=1 /FEA=FLmRNA /TIER=FL /STK=0 /DEF=g21264570 /REP_ORG=Homo sapiens', 'g21264570 /TID=g21264570 /CNT=1 /FEA=FLmRNA /TIER=FL /STK=0 /DEF=g21264570 /REP_ORG=Homo sapiens', 'g21264570 /TID=g21264570 /CNT=1 /FEA=FLmRNA /TIER=FL /STK=0 /DEF=g21264570 /REP_ORG=Homo sapiens', 'g22748780 /TID=g22748780 /CNT=1 /FEA=FLmRNA /TIER=FL /STK=0 /DEF=g22748780 /REP_ORG=Homo sapiens', 'g30039713 /TID=g30039713 /CNT=1 /FEA=FLmRNA /TIER=FL /STK=0 /DEF=g30039713 /REP_ORG=Homo sapiens'], 'GB_ACC': [nan, nan, nan, nan, nan], 'GI': [21264570.0, 21264570.0, 21264570.0, 22748780.0, 30039713.0], 'Representative Public ID': ['g21264570', 'g21264570', 'g21264570', 'g22748780', 'g30039713'], 'Archival UniGene Cluster': ['---', '---', '---', '---', '---'], 'UniGene ID': ['Hs.247813', 'Hs.247813', 'Hs.247813', 'Hs.465643', 'Hs.352515'], 'Genome Version': ['February 2009 (Genome Reference Consortium GRCh37)', 'February 2009 (Genome Reference Consortium GRCh37)', 'February 2009 (Genome Reference Consortium GRCh37)', 'February 2009 (Genome Reference Consortium GRCh37)', 'February 2009 (Genome Reference Consortium GRCh37)'], 'Alignments': ['chr6:26271145-26271612 (-) // 100.0 // p22.2', 'chr6:26271145-26271612 (-) // 100.0 // p22.2', 'chr6:26271145-26271612 (-) // 100.0 // p22.2', 'chr19:4639529-5145579 (+) // 48.53 // p13.3', 'chr17:72920369-72929640 (+) // 100.0 // q25.1'], 'Gene Title': ['histone cluster 1, H3g', 'histone cluster 1, H3g', 'histone cluster 1, H3g', 'tumor necrosis factor, alpha-induced protein 8-like 1', 'otopetrin 2'], 'Gene Symbol': ['HIST1H3G', 'HIST1H3G', 'HIST1H3G', 'TNFAIP8L1', 'OTOP2'], 'Chromosomal Location': ['chr6p22.2', 'chr6p22.2', 'chr6p22.2', 'chr19p13.3', 'chr17q25.1'], 'Unigene Cluster Type': ['full length', 'full length', 'full length', 'full length', 'full length'], 'Ensembl': ['ENSG00000273983 /// OTTHUMG00000014436', 'ENSG00000273983 /// OTTHUMG00000014436', 'ENSG00000273983 /// OTTHUMG00000014436', 'ENSG00000185361 /// OTTHUMG00000182013', 'ENSG00000183034 /// OTTHUMG00000179215'], 'Entrez Gene': ['8355', '8355', '8355', '126282', '92736'], 'SwissProt': ['P68431', 'P68431', 'P68431', 'Q8WVP5', 'Q7RTS6'], 'EC': ['---', '---', '---', '---', '---'], 'OMIM': ['602815', '602815', '602815', '615869', '607827'], 'RefSeq Protein ID': ['NP_003525', 'NP_003525', 'NP_003525', 'NP_001161414 /// NP_689575 /// XP_005259544 /// XP_011525982', 'NP_835454 /// XP_011523781'], 'RefSeq Transcript ID': ['NM_003534', 'NM_003534', 'NM_003534', 'NM_001167942 /// NM_152362 /// XM_005259487 /// XM_011527680', 'NM_178160 /// XM_011525479'], 'Gene Ontology Biological Process': ['0000183 // chromatin silencing at rDNA // traceable author statement /// 0002230 // positive regulation of defense response to virus by host // inferred from mutant phenotype /// 0006325 // chromatin organization // traceable author statement /// 0006334 // nucleosome assembly // inferred from direct assay /// 0006334 // nucleosome assembly // inferred from mutant phenotype /// 0006335 // DNA replication-dependent nucleosome assembly // inferred from direct assay /// 0007264 // small GTPase mediated signal transduction // traceable author statement /// 0007596 // blood coagulation // traceable author statement /// 0010467 // gene expression // traceable author statement /// 0031047 // gene silencing by RNA // traceable author statement /// 0032776 // DNA methylation on cytosine // traceable author statement /// 0040029 // regulation of gene expression, epigenetic // traceable author statement /// 0044267 // cellular protein metabolic process // traceable author statement /// 0045814 // negative regulation of gene expression, epigenetic // traceable author statement /// 0051290 // protein heterotetramerization // inferred from direct assay /// 0060968 // regulation of gene silencing // inferred from direct assay /// 0098792 // xenophagy // inferred from mutant phenotype', '0000183 // chromatin silencing at rDNA // traceable author statement /// 0002230 // positive regulation of defense response to virus by host // inferred from mutant phenotype /// 0006325 // chromatin organization // traceable author statement /// 0006334 // nucleosome assembly // inferred from direct assay /// 0006334 // nucleosome assembly // inferred from mutant phenotype /// 0006335 // DNA replication-dependent nucleosome assembly // inferred from direct assay /// 0007264 // small GTPase mediated signal transduction // traceable author statement /// 0007596 // blood coagulation // traceable author statement /// 0010467 // gene expression // traceable author statement /// 0031047 // gene silencing by RNA // traceable author statement /// 0032776 // DNA methylation on cytosine // traceable author statement /// 0040029 // regulation of gene expression, epigenetic // traceable author statement /// 0044267 // cellular protein metabolic process // traceable author statement /// 0045814 // negative regulation of gene expression, epigenetic // traceable author statement /// 0051290 // protein heterotetramerization // inferred from direct assay /// 0060968 // regulation of gene silencing // inferred from direct assay /// 0098792 // xenophagy // inferred from mutant phenotype', '0000183 // chromatin silencing at rDNA // traceable author statement /// 0002230 // positive regulation of defense response to virus by host // inferred from mutant phenotype /// 0006325 // chromatin organization // traceable author statement /// 0006334 // nucleosome assembly // inferred from direct assay /// 0006334 // nucleosome assembly // inferred from mutant phenotype /// 0006335 // DNA replication-dependent nucleosome assembly // inferred from direct assay /// 0007264 // small GTPase mediated signal transduction // traceable author statement /// 0007596 // blood coagulation // traceable author statement /// 0010467 // gene expression // traceable author statement /// 0031047 // gene silencing by RNA // traceable author statement /// 0032776 // DNA methylation on cytosine // traceable author statement /// 0040029 // regulation of gene expression, epigenetic // traceable author statement /// 0044267 // cellular protein metabolic process // traceable author statement /// 0045814 // negative regulation of gene expression, epigenetic // traceable author statement /// 0051290 // protein heterotetramerization // inferred from direct assay /// 0060968 // regulation of gene silencing // inferred from direct assay /// 0098792 // xenophagy // inferred from mutant phenotype', '0032007 // negative regulation of TOR signaling // not recorded /// 0032007 // negative regulation of TOR signaling // inferred from sequence or structural similarity', '---'], 'Gene Ontology Cellular Component': ['0000228 // nuclear chromosome // inferred from direct assay /// 0000786 // nucleosome // inferred from direct assay /// 0000788 // nuclear nucleosome // inferred from direct assay /// 0005576 // extracellular region // traceable author statement /// 0005634 // nucleus // inferred from direct assay /// 0005654 // nucleoplasm // traceable author statement /// 0005694 // chromosome // inferred from electronic annotation /// 0016020 // membrane // inferred from direct assay /// 0043234 // protein complex // inferred from direct assay /// 0070062 // extracellular exosome // inferred from direct assay', '0000228 // nuclear chromosome // inferred from direct assay /// 0000786 // nucleosome // inferred from direct assay /// 0000788 // nuclear nucleosome // inferred from direct assay /// 0005576 // extracellular region // traceable author statement /// 0005634 // nucleus // inferred from direct assay /// 0005654 // nucleoplasm // traceable author statement /// 0005694 // chromosome // inferred from electronic annotation /// 0016020 // membrane // inferred from direct assay /// 0043234 // protein complex // inferred from direct assay /// 0070062 // extracellular exosome // inferred from direct assay', '0000228 // nuclear chromosome // inferred from direct assay /// 0000786 // nucleosome // inferred from direct assay /// 0000788 // nuclear nucleosome // inferred from direct assay /// 0005576 // extracellular region // traceable author statement /// 0005634 // nucleus // inferred from direct assay /// 0005654 // nucleoplasm // traceable author statement /// 0005694 // chromosome // inferred from electronic annotation /// 0016020 // membrane // inferred from direct assay /// 0043234 // protein complex // inferred from direct assay /// 0070062 // extracellular exosome // inferred from direct assay', '0005737 // cytoplasm // not recorded /// 0005737 // cytoplasm // inferred from sequence or structural similarity', '0016020 // membrane // inferred from electronic annotation /// 0016021 // integral component of membrane // inferred from electronic annotation'], 'Gene Ontology Molecular Function': ['0003677 // DNA binding // inferred from electronic annotation /// 0005515 // protein binding // inferred from physical interaction /// 0042393 // histone binding // inferred from physical interaction /// 0046982 // protein heterodimerization activity // inferred from electronic annotation', '0003677 // DNA binding // inferred from electronic annotation /// 0005515 // protein binding // inferred from physical interaction /// 0042393 // histone binding // inferred from physical interaction /// 0046982 // protein heterodimerization activity // inferred from electronic annotation', '0003677 // DNA binding // inferred from electronic annotation /// 0005515 // protein binding // inferred from physical interaction /// 0042393 // histone binding // inferred from physical interaction /// 0046982 // protein heterodimerization activity // inferred from electronic annotation', '0005515 // protein binding // inferred from physical interaction', '---'], 'Pathway': ['---', '---', '---', '---', '---'], 'InterPro': ['IPR007125 // Histone H2A/H2B/H3 // 9.3E-34 /// IPR007125 // Histone H2A/H2B/H3 // 1.7E-37', 'IPR007125 // Histone H2A/H2B/H3 // 9.3E-34 /// IPR007125 // Histone H2A/H2B/H3 // 1.7E-37', 'IPR007125 // Histone H2A/H2B/H3 // 9.3E-34 /// IPR007125 // Histone H2A/H2B/H3 // 1.7E-37', 'IPR008477 // Protein of unknown function DUF758 // 8.4E-86 /// IPR008477 // Protein of unknown function DUF758 // 6.8E-90', 'IPR004878 // Otopetrin // 9.4E-43 /// IPR004878 // Otopetrin // 9.4E-43 /// IPR004878 // Otopetrin // 9.4E-43 /// IPR004878 // Otopetrin // 3.9E-18 /// IPR004878 // Otopetrin // 3.8E-20 /// IPR004878 // Otopetrin // 5.2E-16'], 'Annotation Description': ['This probe set was annotated using the Matching Probes based pipeline to a Entrez Gene identifier using 4 transcripts. // false // Matching Probes // A', 'This probe set was annotated using the Matching Probes based pipeline to a Entrez Gene identifier using 4 transcripts. // false // Matching Probes // A', 'This probe set was annotated using the Matching Probes based pipeline to a Entrez Gene identifier using 4 transcripts. // false // Matching Probes // A', 'This probe set was annotated using the Matching Probes based pipeline to a Entrez Gene identifier using 9 transcripts. // false // Matching Probes // A', 'This probe set was annotated using the Matching Probes based pipeline to a Entrez Gene identifier using 6 transcripts. // false // Matching Probes // A'], 'Annotation Transcript Cluster': ['ENST00000614378(11),NM_003534(11),OTTHUMT00000040099(11),uc003nhi.3', 'ENST00000614378(11),NM_003534(11),OTTHUMT00000040099(11),uc003nhi.3', 'ENST00000614378(11),NM_003534(11),OTTHUMT00000040099(11),uc003nhi.3', 'BC017672(11),BC044250(9),ENST00000327473(11),ENST00000536716(11),NM_001167942(11),NM_152362(11),OTTHUMT00000458662(11),uc002max.3,uc021une.1', 'ENST00000331427(11),ENST00000580223(11),NM_178160(11),OTTHUMT00000445306(11),uc010wrp.2,XM_011525479(11)'], 'Transcript Assignments': ['ENST00000614378 // ensembl_havana_transcript:known chromosome:GRCh38:6:26269405:26271815:-1 gene:ENSG00000273983 gene_biotype:protein_coding transcript_biotype:protein_coding // ensembl // 11 // --- /// NM_003534 // Homo sapiens histone cluster 1, H3g (HIST1H3G), mRNA. // refseq // 11 // --- /// OTTHUMT00000040099 // otter:known chromosome:VEGA61:6:26269405:26271815:-1 gene:OTTHUMG00000014436 gene_biotype:protein_coding transcript_biotype:protein_coding // vega // 11 // --- /// uc003nhi.3 // --- // ucsc_genes // 11 // ---', 'ENST00000614378 // ensembl_havana_transcript:known chromosome:GRCh38:6:26269405:26271815:-1 gene:ENSG00000273983 gene_biotype:protein_coding transcript_biotype:protein_coding // ensembl // 11 // --- /// GENSCAN00000029819 // cdna:genscan chromosome:GRCh38:6:26270974:26271384:-1 transcript_biotype:protein_coding // ensembl // 11 // --- /// NM_003534 // Homo sapiens histone cluster 1, H3g (HIST1H3G), mRNA. // refseq // 11 // --- /// OTTHUMT00000040099 // otter:known chromosome:VEGA61:6:26269405:26271815:-1 gene:OTTHUMG00000014436 gene_biotype:protein_coding transcript_biotype:protein_coding // vega // 11 // --- /// uc003nhi.3 // --- // ucsc_genes // 11 // ---', 'ENST00000614378 // ensembl_havana_transcript:known chromosome:GRCh38:6:26269405:26271815:-1 gene:ENSG00000273983 gene_biotype:protein_coding transcript_biotype:protein_coding // ensembl // 11 // --- /// NM_003534 // Homo sapiens histone cluster 1, H3g (HIST1H3G), mRNA. // refseq // 11 // --- /// OTTHUMT00000040099 // otter:known chromosome:VEGA61:6:26269405:26271815:-1 gene:OTTHUMG00000014436 gene_biotype:protein_coding transcript_biotype:protein_coding // vega // 11 // --- /// uc003nhi.3 // --- // ucsc_genes // 11 // ---', 'BC017672 // Homo sapiens tumor necrosis factor, alpha-induced protein 8-like 1, mRNA (cDNA clone MGC:17791 IMAGE:3885999), complete cds. // gb // 11 // --- /// BC044250 // accn=BC044250 class=mRNAlike lncRNA name=Human lncRNA ref=JounralRNA transcriptId=673 cpcScore=-0.1526100 cnci=-0.1238602 // noncode // 9 // --- /// BC044250 // Homo sapiens tumor necrosis factor, alpha-induced protein 8-like 1, mRNA (cDNA clone IMAGE:5784807). // gb // 9 // --- /// ENST00000327473 // ensembl_havana_transcript:known chromosome:GRCh38:19:4639518:4655568:1 gene:ENSG00000185361 gene_biotype:protein_coding transcript_biotype:protein_coding // ensembl // 11 // --- /// ENST00000536716 // ensembl:known chromosome:GRCh38:19:4640017:4655568:1 gene:ENSG00000185361 gene_biotype:protein_coding transcript_biotype:protein_coding // ensembl // 11 // --- /// NM_001167942 // Homo sapiens tumor necrosis factor, alpha-induced protein 8-like 1 (TNFAIP8L1), transcript variant 1, mRNA. // refseq // 11 // --- /// NM_152362 // Homo sapiens tumor necrosis factor, alpha-induced protein 8-like 1 (TNFAIP8L1), transcript variant 2, mRNA. // refseq // 11 // --- /// NONHSAT060631 // Non-coding transcript identified by NONCODE: Exonic // noncode // 9 // --- /// OTTHUMT00000458662 // otter:known chromosome:VEGA61:19:4639518:4655568:1 gene:OTTHUMG00000182013 gene_biotype:protein_coding transcript_biotype:protein_coding // vega // 11 // --- /// uc002max.3 // --- // ucsc_genes // 11 // --- /// uc021une.1 // --- // ucsc_genes // 11 // ---', 'ENST00000331427 // ensembl:known chromosome:GRCh38:17:74924275:74933911:1 gene:ENSG00000183034 gene_biotype:protein_coding transcript_biotype:protein_coding // ensembl // 11 // --- /// ENST00000580223 // havana:known chromosome:GRCh38:17:74924603:74933912:1 gene:ENSG00000183034 gene_biotype:protein_coding transcript_biotype:protein_coding // ensembl // 11 // --- /// GENSCAN00000013715 // cdna:genscan chromosome:GRCh38:17:74924633:74933545:1 transcript_biotype:protein_coding // ensembl // 11 // --- /// NM_178160 // Homo sapiens otopetrin 2 (OTOP2), mRNA. // refseq // 11 // --- /// OTTHUMT00000445306 // otter:known chromosome:VEGA61:17:74924603:74933912:1 gene:OTTHUMG00000179215 gene_biotype:protein_coding transcript_biotype:protein_coding // vega // 11 // --- /// uc010wrp.2 // --- // ucsc_genes // 11 // --- /// XM_011525479 // PREDICTED: Homo sapiens otopetrin 2 (OTOP2), transcript variant X1, mRNA. // refseq // 11 // ---'], 'Annotation Notes': ['---', '---', 'GENSCAN00000029819 // ensembl // 4 // Cross Hyb Matching Probes', '---', '---'], 'SPOT_ID': [nan, nan, nan, nan, nan]}\n",
      "\n",
      "Column names in gene annotation data:\n",
      "['ID', 'GeneChip Array', 'Species Scientific Name', 'Annotation Date', 'Sequence Type', 'Sequence Source', 'Transcript ID(Array Design)', 'Target Description', 'GB_ACC', 'GI', 'Representative Public ID', 'Archival UniGene Cluster', 'UniGene ID', 'Genome Version', 'Alignments', 'Gene Title', 'Gene Symbol', 'Chromosomal Location', 'Unigene Cluster Type', 'Ensembl', 'Entrez Gene', 'SwissProt', 'EC', 'OMIM', 'RefSeq Protein ID', 'RefSeq Transcript ID', 'Gene Ontology Biological Process', 'Gene Ontology Cellular Component', 'Gene Ontology Molecular Function', 'Pathway', 'InterPro', 'Annotation Description', 'Annotation Transcript Cluster', 'Transcript Assignments', 'Annotation Notes', 'SPOT_ID']\n",
      "\n",
      "The dataset contains GenBank accessions (GB_ACC) that could be used for gene mapping.\n",
      "Number of rows with GenBank accessions: 49046 out of 2420403\n",
      "\n",
      "The dataset contains genomic regions (SPOT_ID) that could be used for location-based gene mapping.\n",
      "Example SPOT_ID format: nan\n"
     ]
    }
   ],
   "source": [
    "# 1. Extract gene annotation data from the SOFT file\n",
    "print(\"Extracting gene annotation data from SOFT file...\")\n",
    "try:\n",
    "    # Use the library function to extract gene annotation\n",
    "    gene_annotation = get_gene_annotation(soft_file)\n",
    "    print(f\"Successfully extracted gene annotation data with {len(gene_annotation.index)} rows\")\n",
    "    \n",
    "    # Preview the annotation DataFrame\n",
    "    print(\"\\nGene annotation preview (first few rows):\")\n",
    "    print(preview_df(gene_annotation))\n",
    "    \n",
    "    # Show column names to help identify which columns we need for mapping\n",
    "    print(\"\\nColumn names in gene annotation data:\")\n",
    "    print(gene_annotation.columns.tolist())\n",
    "    \n",
    "    # Check for relevant mapping columns\n",
    "    if 'GB_ACC' in gene_annotation.columns:\n",
    "        print(\"\\nThe dataset contains GenBank accessions (GB_ACC) that could be used for gene mapping.\")\n",
    "        # Count non-null values in GB_ACC column\n",
    "        non_null_count = gene_annotation['GB_ACC'].count()\n",
    "        print(f\"Number of rows with GenBank accessions: {non_null_count} out of {len(gene_annotation)}\")\n",
    "    \n",
    "    if 'SPOT_ID' in gene_annotation.columns:\n",
    "        print(\"\\nThe dataset contains genomic regions (SPOT_ID) that could be used for location-based gene mapping.\")\n",
    "        print(\"Example SPOT_ID format:\", gene_annotation['SPOT_ID'].iloc[0])\n",
    "    \n",
    "except Exception as e:\n",
    "    print(f\"Error processing gene annotation data: {e}\")\n",
    "    is_gene_available = False\n"
   ]
  },
  {
   "cell_type": "markdown",
   "id": "50bdc073",
   "metadata": {},
   "source": [
    "### Step 6: Gene Identifier Mapping"
   ]
  },
  {
   "cell_type": "code",
   "execution_count": 7,
   "id": "3a77e81f",
   "metadata": {
    "execution": {
     "iopub.execute_input": "2025-03-25T07:09:37.101328Z",
     "iopub.status.busy": "2025-03-25T07:09:37.101194Z",
     "iopub.status.idle": "2025-03-25T07:09:38.134034Z",
     "shell.execute_reply": "2025-03-25T07:09:38.133383Z"
    }
   },
   "outputs": [
    {
     "name": "stdout",
     "output_type": "stream",
     "text": [
      "Using columns for mapping: ID → Gene Symbol\n",
      "Successfully created gene mapping with 49372 entries\n",
      "\n",
      "First few rows of gene mapping:\n",
      "{'ID': ['11715100_at', '11715101_s_at', '11715102_x_at', '11715103_x_at', '11715104_s_at'], 'Gene': ['HIST1H3G', 'HIST1H3G', 'HIST1H3G', 'TNFAIP8L1', 'OTOP2']}\n",
      "\n",
      "Converting probe-level measurements to gene expression data...\n"
     ]
    },
    {
     "name": "stdout",
     "output_type": "stream",
     "text": [
      "Successfully mapped gene expression data with 19963 genes and 48 samples\n",
      "\n",
      "Preview of the first 5 genes in the gene expression data:\n",
      "{'GSM5765052': [5.79996214940397, 7.985737601323921, 3.95521711983455, 6.80095960044258, 3.29673722783375], 'GSM5765053': [5.70050934220473, 8.14504659433512, 3.97028916746449, 6.41699115088219, 3.33718758499198], 'GSM5765054': [5.77833308521097, 8.26152764930688, 4.77559913915191, 6.73930543823645, 3.42574620558311], 'GSM5765055': [5.60298546993569, 8.30240147227909, 4.10895739292915, 6.7316351275553306, 3.27853557754664], 'GSM5765056': [5.98648796769992, 7.90267675598507, 4.53228126790821, 6.67851790884874, 3.1963218146276], 'GSM5765057': [6.02190383766546, 8.362875545440499, 4.18080357398925, 6.53625729831892, 3.47395892202044], 'GSM5765058': [5.79830063254858, 8.595736884988131, 4.12401637916933, 6.96317338451082, 3.39024123509017], 'GSM5765059': [5.70334249096542, 8.29022757744047, 4.14085366737952, 7.12031103597487, 3.46990904073522], 'GSM5765060': [5.9680386667567, 8.97062199657374, 4.19337325854738, 7.185190627719351, 3.45520825156798], 'GSM5765061': [5.66025676073873, 8.01402974511851, 4.68212519204393, 6.75667400745472, 3.84242634074162], 'GSM5765062': [5.82391422132125, 7.72499302875611, 4.61695169448647, 7.48664570377627, 3.22507727890885], 'GSM5765063': [5.85302696042273, 8.46202207513722, 4.23095300933259, 6.802225346626329, 3.59745511868224], 'GSM5765064': [5.96620073955563, 8.43416622061928, 4.02370605448424, 7.455350596562189, 3.78400466627085], 'GSM5765065': [6.12228133781823, 8.09972190585105, 4.41292396332533, 6.896515200218699, 3.38100625999494], 'GSM5765066': [5.83663588854314, 8.42186291291923, 4.40040136787431, 6.8847962035754, 3.47737542010934], 'GSM5765067': [6.04917218703715, 8.91955292977032, 4.31933770023195, 6.49177941177787, 3.72603262119605], 'GSM5765068': [5.79376919011276, 8.92010084384274, 5.22605770773511, 6.7869807123601, 3.76180588680225], 'GSM5765069': [6.0232908227989, 8.56813299721933, 4.41358187085947, 6.663801908552919, 3.50174480044453], 'GSM5765070': [6.32917143485486, 8.23914359432429, 4.14299599193264, 7.27252363056715, 3.58912401613174], 'GSM5765071': [5.67504402721189, 8.44360056034874, 4.44523165272541, 6.7569967165064, 3.33003460384426], 'GSM5765072': [6.02298837547351, 7.75551253609265, 4.00345631690802, 7.000728868488601, 3.33577689412124], 'GSM5765073': [5.80370316993955, 8.70649639275464, 4.12868611130558, 6.54804773758909, 3.45030591118211], 'GSM5765074': [6.1512010023646, 9.17542955535573, 4.37227422128979, 6.5034583593746795, 3.59439637036773], 'GSM5765075': [5.44529076847926, 8.374255303745691, 4.31031400830657, 6.8666544622791, 3.61959191301077], 'GSM5765076': [6.07257877781864, 8.427173567603429, 4.38191760367037, 6.7777053312365005, 3.46172386460981], 'GSM5765077': [5.73351080372187, 8.80542227216162, 4.70137311211399, 6.702197846936571, 3.71498799352829], 'GSM5765078': [5.95326246951258, 8.466540024224141, 4.41771008167252, 6.85803353292915, 3.67238138210875], 'GSM5765079': [5.42394086932392, 8.92184399572665, 4.53614497493249, 7.246270535398709, 3.80359053585285], 'GSM5765080': [5.59906391507903, 7.49910371041534, 4.48994788935004, 6.87806120133795, 3.20210927098032], 'GSM5765081': [6.00680425865002, 7.6926738596527695, 4.71740638436795, 6.96430189241834, 3.27834045515776], 'GSM5765082': [5.39495342232669, 8.21133048546251, 4.4122786080781, 6.5289321672434895, 3.20302691596509], 'GSM5765083': [5.98750805609906, 8.23852514006013, 4.53445227499359, 6.92447059953005, 3.43812897008672], 'GSM5765084': [5.97143862795684, 8.4697964084005, 4.52840038537232, 6.61253939206962, 3.44846070926707], 'GSM5765085': [5.7572835938778, 8.2987162345412, 4.30934649537077, 6.9712896434348295, 3.07960287608019], 'GSM5765086': [5.9356798611656, 8.14966589551451, 3.98833037490142, 6.58652970964841, 3.28180534083354], 'GSM5765087': [5.55383010149605, 8.04538327064936, 4.32181543003853, 6.84953950602582, 3.2840967470756], 'GSM5765088': [5.8583803199189, 8.44352091092205, 4.92078757974031, 7.0460194578524895, 3.397529288374], 'GSM5765089': [5.75807146985583, 8.57015650193261, 4.54593890417383, 6.75147858895393, 3.37971739041636], 'GSM5765090': [5.72641175239198, 7.92393652220722, 4.1218972491818, 6.6173091807716204, 3.01424445340201], 'GSM5765091': [6.09884630471088, 8.69898170814999, 4.18889826858877, 6.54070553101561, 3.44122637074239], 'GSM5765092': [5.88981608505732, 8.41518273111729, 4.20377836313522, 6.87415995785216, 3.50119790482421], 'GSM5765093': [5.815270391232, 8.575320888949019, 4.47813304851425, 6.6502619209888, 3.54005702266972], 'GSM5765094': [6.14877549397397, 8.74618670456826, 4.28048672578199, 6.03114599909563, 3.38328577964316], 'GSM5765095': [5.9248771024154, 8.1993541754414, 4.12608790149468, 6.52143393168235, 3.40345271441472], 'GSM5765096': [6.20249840127429, 8.64944395664334, 4.5752783066923, 6.78157576317181, 3.77564999029195], 'GSM5765097': [6.00940600748491, 8.687929903154181, 4.32506030806662, 6.82339723122033, 3.50984631806373], 'GSM5765098': [6.1326780459007, 8.92805132907828, 4.62194843313327, 6.7703364860690805, 3.75747384176091], 'GSM5765099': [5.84104246121708, 8.56092809184994, 5.33037526990356, 7.09494594341153, 3.50254419822295]}\n"
     ]
    },
    {
     "name": "stdout",
     "output_type": "stream",
     "text": [
      "\n",
      "Gene expression data saved to: ../../output/preprocess/Intellectual_Disability/gene_data/GSE192767.csv\n"
     ]
    }
   ],
   "source": [
    "# 1. Identify the columns in gene annotation for mapping\n",
    "# Based on the preview, we need 'ID' (probe identifiers) and 'Gene Symbol' columns\n",
    "probe_col = 'ID'\n",
    "gene_col = 'Gene Symbol'\n",
    "\n",
    "print(f\"Using columns for mapping: {probe_col} → {gene_col}\")\n",
    "\n",
    "# 2. Get a gene mapping dataframe from the annotation data\n",
    "try:\n",
    "    gene_mapping = get_gene_mapping(gene_annotation, probe_col, gene_col)\n",
    "    print(f\"Successfully created gene mapping with {len(gene_mapping)} entries\")\n",
    "    print(\"\\nFirst few rows of gene mapping:\")\n",
    "    print(preview_df(gene_mapping))\n",
    "    \n",
    "    # 3. Apply gene mapping to convert probe-level data to gene expression data\n",
    "    print(\"\\nConverting probe-level measurements to gene expression data...\")\n",
    "    gene_data = apply_gene_mapping(gene_data, gene_mapping)\n",
    "    \n",
    "    print(f\"Successfully mapped gene expression data with {len(gene_data.index)} genes and {len(gene_data.columns)} samples\")\n",
    "    print(\"\\nPreview of the first 5 genes in the gene expression data:\")\n",
    "    print(preview_df(gene_data, n=5))\n",
    "    \n",
    "    # Save the gene data to file\n",
    "    os.makedirs(os.path.dirname(out_gene_data_file), exist_ok=True)\n",
    "    gene_data.to_csv(out_gene_data_file)\n",
    "    print(f\"\\nGene expression data saved to: {out_gene_data_file}\")\n",
    "    \n",
    "except Exception as e:\n",
    "    print(f\"Error during gene mapping: {e}\")\n",
    "    is_gene_available = False\n"
   ]
  },
  {
   "cell_type": "markdown",
   "id": "cc2d9800",
   "metadata": {},
   "source": [
    "### Step 7: Data Normalization and Linking"
   ]
  },
  {
   "cell_type": "code",
   "execution_count": 8,
   "id": "7b3115e5",
   "metadata": {
    "execution": {
     "iopub.execute_input": "2025-03-25T07:09:38.135931Z",
     "iopub.status.busy": "2025-03-25T07:09:38.135804Z",
     "iopub.status.idle": "2025-03-25T07:09:50.135946Z",
     "shell.execute_reply": "2025-03-25T07:09:50.135277Z"
    }
   },
   "outputs": [
    {
     "name": "stdout",
     "output_type": "stream",
     "text": [
      "\n",
      "Normalizing gene symbols...\n",
      "After normalization, gene data has 19758 genes\n"
     ]
    },
    {
     "name": "stdout",
     "output_type": "stream",
     "text": [
      "Normalized gene data saved to: ../../output/preprocess/Intellectual_Disability/gene_data/GSE192767.csv\n",
      "\n",
      "Loading clinical data and linking with genetic data...\n",
      "Loaded clinical data with shape: (1, 48)\n",
      "First few clinical sample columns: ['0', '1', '2', '3', '4']\n",
      "First few genetic sample columns: ['GSM5765052', 'GSM5765053', 'GSM5765054', 'GSM5765055', 'GSM5765056']\n",
      "Sample IDs don't match directly. Attempting to align based on position...\n",
      "Aligned samples based on position (same count of samples)\n",
      "Linked data shape: (48, 19759)\n",
      "\n",
      "Handling missing values...\n"
     ]
    },
    {
     "name": "stdout",
     "output_type": "stream",
     "text": [
      "After handling missing values, data shape: (48, 19759)\n",
      "\n",
      "Checking for bias in features...\n",
      "For the feature 'Intellectual_Disability', the least common label is '0.0' with 20 occurrences. This represents 41.67% of the dataset.\n",
      "The distribution of the feature 'Intellectual_Disability' in this dataset is fine.\n",
      "\n",
      "\n",
      "Performing final validation...\n"
     ]
    },
    {
     "name": "stdout",
     "output_type": "stream",
     "text": [
      "Linked data saved to ../../output/preprocess/Intellectual_Disability/GSE192767.csv\n"
     ]
    }
   ],
   "source": [
    "# 1. Normalize gene symbols in the gene expression data\n",
    "print(\"\\nNormalizing gene symbols...\")\n",
    "try:\n",
    "    gene_data = normalize_gene_symbols_in_index(gene_data)\n",
    "    print(f\"After normalization, gene data has {len(gene_data.index)} genes\")\n",
    "    \n",
    "    # Save the normalized gene data\n",
    "    os.makedirs(os.path.dirname(out_gene_data_file), exist_ok=True)\n",
    "    gene_data.to_csv(out_gene_data_file)\n",
    "    print(f\"Normalized gene data saved to: {out_gene_data_file}\")\n",
    "    is_gene_available = True\n",
    "except Exception as e:\n",
    "    print(f\"Error during gene symbol normalization: {e}\")\n",
    "    is_gene_available = False\n",
    "\n",
    "# 2. Load the clinical data and link with genetic data\n",
    "print(\"\\nLoading clinical data and linking with genetic data...\")\n",
    "try:\n",
    "    # Load the clinical data\n",
    "    clinical_df = pd.read_csv(out_clinical_data_file, index_col=0)\n",
    "    print(f\"Loaded clinical data with shape: {clinical_df.shape}\")\n",
    "    \n",
    "    # Print sample IDs from both datasets for debugging\n",
    "    print(\"First few clinical sample columns:\", list(clinical_df.columns)[:5])\n",
    "    print(\"First few genetic sample columns:\", list(gene_data.columns)[:5])\n",
    "    \n",
    "    # Convert column names in gene_data to match clinical_df format\n",
    "    gene_data_renamed = gene_data.copy()\n",
    "    sample_mapping = {}\n",
    "    \n",
    "    # Check if we need to transform sample IDs for matching\n",
    "    if set(clinical_df.columns).isdisjoint(set(gene_data.columns)):\n",
    "        print(\"Sample IDs don't match directly. Attempting to align based on position...\")\n",
    "        # If the number of samples matches, assume they're in the same order\n",
    "        if len(clinical_df.columns) == len(gene_data.columns):\n",
    "            sample_mapping = dict(zip(gene_data.columns, clinical_df.columns))\n",
    "            gene_data_renamed.columns = clinical_df.columns\n",
    "            print(\"Aligned samples based on position (same count of samples)\")\n",
    "        else:\n",
    "            print(\"Cannot align samples - different counts in clinical and genetic data\")\n",
    "            raise ValueError(\"Sample counts don't match between clinical and genetic data\")\n",
    "    \n",
    "    # Link clinical and genetic data\n",
    "    linked_data = geo_link_clinical_genetic_data(clinical_df, gene_data_renamed)\n",
    "    print(f\"Linked data shape: {linked_data.shape}\")\n",
    "    is_trait_available = True\n",
    "    \n",
    "    # 3. Handle missing values systematically\n",
    "    print(\"\\nHandling missing values...\")\n",
    "    linked_data = handle_missing_values(linked_data, trait)\n",
    "    print(f\"After handling missing values, data shape: {linked_data.shape}\")\n",
    "    \n",
    "    # 4. Determine whether the trait and demographic features are biased\n",
    "    print(\"\\nChecking for bias in features...\")\n",
    "    is_biased, linked_data = judge_and_remove_biased_features(linked_data, trait)\n",
    "    \n",
    "except Exception as e:\n",
    "    print(f\"Error in linking clinical and genetic data: {e}\")\n",
    "    is_trait_available = clinical_df is not None\n",
    "    linked_data = pd.DataFrame()\n",
    "    is_biased = True\n",
    "\n",
    "# 5. Final quality validation\n",
    "print(\"\\nPerforming final validation...\")\n",
    "is_usable = validate_and_save_cohort_info(\n",
    "    is_final=True,\n",
    "    cohort=cohort,\n",
    "    info_path=json_path,\n",
    "    is_gene_available=is_gene_available,\n",
    "    is_trait_available=is_trait_available,\n",
    "    is_biased=is_biased,\n",
    "    df=linked_data,\n",
    "    note=\"ATR-X syndrome patients as intellectual disability cases\"\n",
    ")\n",
    "\n",
    "# 6. Save linked data if usable\n",
    "if is_usable:\n",
    "    # Create directory if it doesn't exist\n",
    "    os.makedirs(os.path.dirname(out_data_file), exist_ok=True)\n",
    "    \n",
    "    # Save linked data\n",
    "    linked_data.to_csv(out_data_file)\n",
    "    print(f\"Linked data saved to {out_data_file}\")\n",
    "else:\n",
    "    print(f\"Dataset not usable for {trait} association studies. Data not saved.\")"
   ]
  }
 ],
 "metadata": {
  "language_info": {
   "codemirror_mode": {
    "name": "ipython",
    "version": 3
   },
   "file_extension": ".py",
   "mimetype": "text/x-python",
   "name": "python",
   "nbconvert_exporter": "python",
   "pygments_lexer": "ipython3",
   "version": "3.10.16"
  }
 },
 "nbformat": 4,
 "nbformat_minor": 5
}
