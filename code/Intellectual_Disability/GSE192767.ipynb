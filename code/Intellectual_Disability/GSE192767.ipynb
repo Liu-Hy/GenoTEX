{
 "cells": [
  {
   "cell_type": "code",
   "execution_count": 1,
   "id": "ece8aa12",
   "metadata": {
    "execution": {
     "iopub.execute_input": "2024-06-12T11:09:08.212964Z",
     "iopub.status.busy": "2024-06-12T11:09:08.212848Z",
     "iopub.status.idle": "2024-06-12T11:09:08.218126Z",
     "shell.execute_reply": "2024-06-12T11:09:08.217723Z"
    }
   },
   "outputs": [],
   "source": [
    "\n",
    "import sys\n",
    "sys.path.append('/home/techt/Desktop/a4s')\n"
   ]
  },
  {
   "cell_type": "markdown",
   "id": "c546f4f1",
   "metadata": {},
   "source": [
    "### Step 1: Initial Data Loading"
   ]
  },
  {
   "cell_type": "code",
   "execution_count": 2,
   "id": "868b0801",
   "metadata": {
    "execution": {
     "iopub.execute_input": "2024-06-12T11:09:08.219707Z",
     "iopub.status.busy": "2024-06-12T11:09:08.219420Z",
     "iopub.status.idle": "2024-06-12T11:09:08.642351Z",
     "shell.execute_reply": "2024-06-12T11:09:08.641888Z"
    }
   },
   "outputs": [
    {
     "name": "stdout",
     "output_type": "stream",
     "text": [
      "Background Information:\n",
      "!Series_title\t\"Expression data from human lymphoblastoid cell lines (LCLs)\"\n",
      "!Series_summary\t\"The X-linked alpha thalassaemia intellectual disability syndrome (ATRX) protein is a member of the SWI/SNF family of chromatin remodelling factors which acts as an ATP dependent molecular motor. Germline mutations in ATRX give rise to a severe form of syndromal intellectual disability (ATR-X syndrome). To date, only a small number of genes have been identified that are affected by pathogenic ATRX mutations in human.\"\n",
      "!Series_summary\t\"We performed microarray experiments on LCLs  from normal individuals and  patients with diverse pathogenic ATRX mutations, to identify more genes regulated by ATRX.\"\n",
      "!Series_overall_design\t\"We used 20 LCLs  from unaffected individuals and  28 LCLs from patients for RNA extraction and hybridization on Affymetrix microarrays.\"\n",
      "Sample Characteristics Dictionary:\n",
      "{0: ['phenotype: ATR-X syndrome', 'phenotype: unaffected'], 1: ['cell type: human lymphoblastoid cell line (LCL)']}\n"
     ]
    }
   ],
   "source": [
    "from utils.preprocess import *\n",
    "# 1. Identify the paths to the soft file and the matrix file\n",
    "cohort_dir = '/media/techt/DATA/GEO/Intellectual_Disability/GSE192767'\n",
    "soft_file, matrix_file = geo_get_relevant_filepaths(cohort_dir)\n",
    "\n",
    "# 2. Read the matrix file to obtain background information and sample characteristics data\n",
    "background_prefixes = ['!Series_title', '!Series_summary', '!Series_overall_design']\n",
    "clinical_prefixes = ['!Sample_geo_accession', '!Sample_characteristics_ch1']\n",
    "background_info, clinical_data = get_background_and_clinical_data(matrix_file, background_prefixes, clinical_prefixes)\n",
    "\n",
    "# 3. Obtain the sample characteristics dictionary from the clinical dataframe\n",
    "sample_characteristics_dict = get_unique_values_by_row(clinical_data)\n",
    "\n",
    "# 4. Explicitly print out all the background information and the sample characteristics dictionary\n",
    "print(\"Background Information:\")\n",
    "print(background_info)\n",
    "print(\"Sample Characteristics Dictionary:\")\n",
    "print(sample_characteristics_dict)\n"
   ]
  },
  {
   "cell_type": "markdown",
   "id": "7cababd2",
   "metadata": {},
   "source": [
    "### Step 2: Dataset Analysis and Clinical Feature Extraction"
   ]
  },
  {
   "cell_type": "code",
   "execution_count": 3,
   "id": "38d3db4a",
   "metadata": {
    "execution": {
     "iopub.execute_input": "2024-06-12T11:09:08.643776Z",
     "iopub.status.busy": "2024-06-12T11:09:08.643658Z",
     "iopub.status.idle": "2024-06-12T11:09:08.652382Z",
     "shell.execute_reply": "2024-06-12T11:09:08.652009Z"
    }
   },
   "outputs": [
    {
     "name": "stdout",
     "output_type": "stream",
     "text": [
      "{'GSM5765052': [1], 'GSM5765053': [1], 'GSM5765054': [1], 'GSM5765055': [1], 'GSM5765056': [1], 'GSM5765057': [1], 'GSM5765058': [1], 'GSM5765059': [1], 'GSM5765060': [1], 'GSM5765061': [1], 'GSM5765062': [1], 'GSM5765063': [1], 'GSM5765064': [1], 'GSM5765065': [1], 'GSM5765066': [1], 'GSM5765067': [1], 'GSM5765068': [1], 'GSM5765069': [1], 'GSM5765070': [1], 'GSM5765071': [1], 'GSM5765072': [1], 'GSM5765073': [1], 'GSM5765074': [1], 'GSM5765075': [1], 'GSM5765076': [1], 'GSM5765077': [1], 'GSM5765078': [1], 'GSM5765079': [1], 'GSM5765080': [0], 'GSM5765081': [0], 'GSM5765082': [0], 'GSM5765083': [0], 'GSM5765084': [0], 'GSM5765085': [0], 'GSM5765086': [0], 'GSM5765087': [0], 'GSM5765088': [0], 'GSM5765089': [0], 'GSM5765090': [0], 'GSM5765091': [0], 'GSM5765092': [0], 'GSM5765093': [0], 'GSM5765094': [0], 'GSM5765095': [0], 'GSM5765096': [0], 'GSM5765097': [0], 'GSM5765098': [0], 'GSM5765099': [0]}\n"
     ]
    }
   ],
   "source": [
    "is_gene_available = False\n",
    "trait_row = age_row = gender_row = None  # set to different values when applicable\n",
    "convert_trait = convert_age = convert_gender = None  # define the functions when applicable\n",
    "\n",
    "# Based on the background information, it is likely that the dataset contains gene expression data.\n",
    "is_gene_available = True\n",
    "\n",
    "# Checking the sample characteristics dictionary for variable availability\n",
    "sample_characteristics = {\n",
    "    0: ['phenotype: ATR-X syndrome', 'phenotype: unaffected'],\n",
    "    1: ['cell type: human lymphoblastoid cell line (LCL)']\n",
    "}\n",
    "\n",
    "# Intellectual_Disability data availability\n",
    "# Variable \"phenotype\" could be used to infer Intellectual_Disability\n",
    "if 'phenotype: ATR-X syndrome' in sample_characteristics[0] and 'phenotype: unaffected' in sample_characteristics[0]:\n",
    "    trait_row = 0\n",
    "else:\n",
    "    trait_row = None\n",
    "\n",
    "# Age and gender data is not available in the given sample characteristics dictionary\n",
    "age_row = None\n",
    "gender_row = None\n",
    "\n",
    "# Data Type Conversion Functions\n",
    "def convert_trait(value):\n",
    "    if 'ATR-X syndrome' in value:\n",
    "        return 1\n",
    "    elif 'unaffected' in value:\n",
    "        return 0\n",
    "    return None\n",
    "\n",
    "convert_age = lambda value: None  # Function to convert age values if available (not applicable here)\n",
    "convert_gender = lambda value: None  # Function to convert gender values if available (not applicable here)\n",
    "\n",
    "# Saving cohort information\n",
    "save_cohort_info('GSE192767', './preprocessed/Intellectual_Disability/cohort_info.json', is_gene_available, trait_row is not None)\n",
    "\n",
    "# Clinical Feature Extraction if trait_row is available\n",
    "if trait_row is not None:\n",
    "    selected_clinical_data = geo_select_clinical_features(clinical_data, 'Intellectual_Disability', trait_row, convert_trait, age_row, convert_age, gender_row, convert_gender)\n",
    "    csv_path = './preprocessed/Intellectual_Disability/trait_data/GSE192767.csv'\n",
    "    selected_clinical_data.to_csv(csv_path)\n",
    "    print(preview_df(selected_clinical_data))\n"
   ]
  },
  {
   "cell_type": "markdown",
   "id": "5a01b6ef",
   "metadata": {},
   "source": [
    "### Step 3: Gene Data Extraction"
   ]
  },
  {
   "cell_type": "code",
   "execution_count": 4,
   "id": "dcd596ec",
   "metadata": {
    "execution": {
     "iopub.execute_input": "2024-06-12T11:09:08.653758Z",
     "iopub.status.busy": "2024-06-12T11:09:08.653535Z",
     "iopub.status.idle": "2024-06-12T11:09:09.003964Z",
     "shell.execute_reply": "2024-06-12T11:09:09.003545Z"
    }
   },
   "outputs": [
    {
     "name": "stdout",
     "output_type": "stream",
     "text": [
      "Index(['11715100_at', '11715101_s_at', '11715102_x_at', '11715103_x_at',\n",
      "       '11715104_s_at', '11715105_at', '11715106_x_at', '11715107_s_at',\n",
      "       '11715108_x_at', '11715109_at', '11715110_at', '11715111_s_at',\n",
      "       '11715112_at', '11715113_x_at', '11715114_x_at', '11715115_s_at',\n",
      "       '11715116_s_at', '11715117_x_at', '11715118_s_at', '11715119_s_at'],\n",
      "      dtype='object', name='ID')\n"
     ]
    }
   ],
   "source": [
    "# 1. Use the get_genetic_data function from the library to get the gene_data from the matrix_file previously defined.\n",
    "gene_data = get_genetic_data(matrix_file)\n",
    "\n",
    "# 2. Print the first 20 row ids for the following step.\n",
    "print(gene_data.index[:20])\n"
   ]
  },
  {
   "cell_type": "markdown",
   "id": "6e8055c6",
   "metadata": {},
   "source": [
    "### Step 4: Gene Identifier Review"
   ]
  },
  {
   "cell_type": "code",
   "execution_count": 5,
   "id": "4a64179c",
   "metadata": {
    "execution": {
     "iopub.execute_input": "2024-06-12T11:09:09.005383Z",
     "iopub.status.busy": "2024-06-12T11:09:09.005262Z",
     "iopub.status.idle": "2024-06-12T11:09:09.007254Z",
     "shell.execute_reply": "2024-06-12T11:09:09.006921Z"
    }
   },
   "outputs": [],
   "source": [
    "requires_gene_mapping = True\n"
   ]
  },
  {
   "cell_type": "markdown",
   "id": "7d4f03a5",
   "metadata": {},
   "source": [
    "### Step 5: Gene Annotation (Conditional)"
   ]
  },
  {
   "cell_type": "code",
   "execution_count": 6,
   "id": "32fada80",
   "metadata": {
    "execution": {
     "iopub.execute_input": "2024-06-12T11:09:09.008666Z",
     "iopub.status.busy": "2024-06-12T11:09:09.008441Z",
     "iopub.status.idle": "2024-06-12T11:09:17.639262Z",
     "shell.execute_reply": "2024-06-12T11:09:17.638639Z"
    }
   },
   "outputs": [
    {
     "name": "stdout",
     "output_type": "stream",
     "text": [
      "Gene annotation preview:\n",
      "{'ID': ['11715100_at', '11715101_s_at', '11715102_x_at', '11715103_x_at', '11715104_s_at'], 'GeneChip Array': ['Human Genome PrimeView Array', 'Human Genome PrimeView Array', 'Human Genome PrimeView Array', 'Human Genome PrimeView Array', 'Human Genome PrimeView Array'], 'Species Scientific Name': ['Homo sapiens', 'Homo sapiens', 'Homo sapiens', 'Homo sapiens', 'Homo sapiens'], 'Annotation Date': ['30-Mar-16', '30-Mar-16', '30-Mar-16', '30-Mar-16', '30-Mar-16'], 'Sequence Type': ['Consensus sequence', 'Consensus sequence', 'Consensus sequence', 'Consensus sequence', 'Consensus sequence'], 'Sequence Source': ['Affymetrix Proprietary Database', 'Affymetrix Proprietary Database', 'Affymetrix Proprietary Database', 'Affymetrix Proprietary Database', 'Affymetrix Proprietary Database'], 'Transcript ID(Array Design)': ['g21264570', 'g21264570', 'g21264570', 'g22748780', 'g30039713'], 'Target Description': ['g21264570 /TID=g21264570 /CNT=1 /FEA=FLmRNA /TIER=FL /STK=0 /DEF=g21264570 /REP_ORG=Homo sapiens', 'g21264570 /TID=g21264570 /CNT=1 /FEA=FLmRNA /TIER=FL /STK=0 /DEF=g21264570 /REP_ORG=Homo sapiens', 'g21264570 /TID=g21264570 /CNT=1 /FEA=FLmRNA /TIER=FL /STK=0 /DEF=g21264570 /REP_ORG=Homo sapiens', 'g22748780 /TID=g22748780 /CNT=1 /FEA=FLmRNA /TIER=FL /STK=0 /DEF=g22748780 /REP_ORG=Homo sapiens', 'g30039713 /TID=g30039713 /CNT=1 /FEA=FLmRNA /TIER=FL /STK=0 /DEF=g30039713 /REP_ORG=Homo sapiens'], 'GB_ACC': [nan, nan, nan, nan, nan], 'GI': [21264570.0, 21264570.0, 21264570.0, 22748780.0, 30039713.0], 'Representative Public ID': ['g21264570', 'g21264570', 'g21264570', 'g22748780', 'g30039713'], 'Archival UniGene Cluster': ['---', '---', '---', '---', '---'], 'UniGene ID': ['Hs.247813', 'Hs.247813', 'Hs.247813', 'Hs.465643', 'Hs.352515'], 'Genome Version': ['February 2009 (Genome Reference Consortium GRCh37)', 'February 2009 (Genome Reference Consortium GRCh37)', 'February 2009 (Genome Reference Consortium GRCh37)', 'February 2009 (Genome Reference Consortium GRCh37)', 'February 2009 (Genome Reference Consortium GRCh37)'], 'Alignments': ['chr6:26271145-26271612 (-) // 100.0 // p22.2', 'chr6:26271145-26271612 (-) // 100.0 // p22.2', 'chr6:26271145-26271612 (-) // 100.0 // p22.2', 'chr19:4639529-5145579 (+) // 48.53 // p13.3', 'chr17:72920369-72929640 (+) // 100.0 // q25.1'], 'Gene Title': ['histone cluster 1, H3g', 'histone cluster 1, H3g', 'histone cluster 1, H3g', 'tumor necrosis factor, alpha-induced protein 8-like 1', 'otopetrin 2'], 'Gene Symbol': ['HIST1H3G', 'HIST1H3G', 'HIST1H3G', 'TNFAIP8L1', 'OTOP2'], 'Chromosomal Location': ['chr6p22.2', 'chr6p22.2', 'chr6p22.2', 'chr19p13.3', 'chr17q25.1'], 'Unigene Cluster Type': ['full length', 'full length', 'full length', 'full length', 'full length'], 'Ensembl': ['ENSG00000273983 /// OTTHUMG00000014436', 'ENSG00000273983 /// OTTHUMG00000014436', 'ENSG00000273983 /// OTTHUMG00000014436', 'ENSG00000185361 /// OTTHUMG00000182013', 'ENSG00000183034 /// OTTHUMG00000179215'], 'Entrez Gene': ['8355', '8355', '8355', '126282', '92736'], 'SwissProt': ['P68431', 'P68431', 'P68431', 'Q8WVP5', 'Q7RTS6'], 'EC': ['---', '---', '---', '---', '---'], 'OMIM': ['602815', '602815', '602815', '615869', '607827'], 'RefSeq Protein ID': ['NP_003525', 'NP_003525', 'NP_003525', 'NP_001161414 /// NP_689575 /// XP_005259544 /// XP_011525982', 'NP_835454 /// XP_011523781'], 'RefSeq Transcript ID': ['NM_003534', 'NM_003534', 'NM_003534', 'NM_001167942 /// NM_152362 /// XM_005259487 /// XM_011527680', 'NM_178160 /// XM_011525479'], 'Gene Ontology Biological Process': ['0000183 // chromatin silencing at rDNA // traceable author statement /// 0002230 // positive regulation of defense response to virus by host // inferred from mutant phenotype /// 0006325 // chromatin organization // traceable author statement /// 0006334 // nucleosome assembly // inferred from direct assay /// 0006334 // nucleosome assembly // inferred from mutant phenotype /// 0006335 // DNA replication-dependent nucleosome assembly // inferred from direct assay /// 0007264 // small GTPase mediated signal transduction // traceable author statement /// 0007596 // blood coagulation // traceable author statement /// 0010467 // gene expression // traceable author statement /// 0031047 // gene silencing by RNA // traceable author statement /// 0032776 // DNA methylation on cytosine // traceable author statement /// 0040029 // regulation of gene expression, epigenetic // traceable author statement /// 0044267 // cellular protein metabolic process // traceable author statement /// 0045814 // negative regulation of gene expression, epigenetic // traceable author statement /// 0051290 // protein heterotetramerization // inferred from direct assay /// 0060968 // regulation of gene silencing // inferred from direct assay /// 0098792 // xenophagy // inferred from mutant phenotype', '0000183 // chromatin silencing at rDNA // traceable author statement /// 0002230 // positive regulation of defense response to virus by host // inferred from mutant phenotype /// 0006325 // chromatin organization // traceable author statement /// 0006334 // nucleosome assembly // inferred from direct assay /// 0006334 // nucleosome assembly // inferred from mutant phenotype /// 0006335 // DNA replication-dependent nucleosome assembly // inferred from direct assay /// 0007264 // small GTPase mediated signal transduction // traceable author statement /// 0007596 // blood coagulation // traceable author statement /// 0010467 // gene expression // traceable author statement /// 0031047 // gene silencing by RNA // traceable author statement /// 0032776 // DNA methylation on cytosine // traceable author statement /// 0040029 // regulation of gene expression, epigenetic // traceable author statement /// 0044267 // cellular protein metabolic process // traceable author statement /// 0045814 // negative regulation of gene expression, epigenetic // traceable author statement /// 0051290 // protein heterotetramerization // inferred from direct assay /// 0060968 // regulation of gene silencing // inferred from direct assay /// 0098792 // xenophagy // inferred from mutant phenotype', '0000183 // chromatin silencing at rDNA // traceable author statement /// 0002230 // positive regulation of defense response to virus by host // inferred from mutant phenotype /// 0006325 // chromatin organization // traceable author statement /// 0006334 // nucleosome assembly // inferred from direct assay /// 0006334 // nucleosome assembly // inferred from mutant phenotype /// 0006335 // DNA replication-dependent nucleosome assembly // inferred from direct assay /// 0007264 // small GTPase mediated signal transduction // traceable author statement /// 0007596 // blood coagulation // traceable author statement /// 0010467 // gene expression // traceable author statement /// 0031047 // gene silencing by RNA // traceable author statement /// 0032776 // DNA methylation on cytosine // traceable author statement /// 0040029 // regulation of gene expression, epigenetic // traceable author statement /// 0044267 // cellular protein metabolic process // traceable author statement /// 0045814 // negative regulation of gene expression, epigenetic // traceable author statement /// 0051290 // protein heterotetramerization // inferred from direct assay /// 0060968 // regulation of gene silencing // inferred from direct assay /// 0098792 // xenophagy // inferred from mutant phenotype', '0032007 // negative regulation of TOR signaling // not recorded /// 0032007 // negative regulation of TOR signaling // inferred from sequence or structural similarity', '---'], 'Gene Ontology Cellular Component': ['0000228 // nuclear chromosome // inferred from direct assay /// 0000786 // nucleosome // inferred from direct assay /// 0000788 // nuclear nucleosome // inferred from direct assay /// 0005576 // extracellular region // traceable author statement /// 0005634 // nucleus // inferred from direct assay /// 0005654 // nucleoplasm // traceable author statement /// 0005694 // chromosome // inferred from electronic annotation /// 0016020 // membrane // inferred from direct assay /// 0043234 // protein complex // inferred from direct assay /// 0070062 // extracellular exosome // inferred from direct assay', '0000228 // nuclear chromosome // inferred from direct assay /// 0000786 // nucleosome // inferred from direct assay /// 0000788 // nuclear nucleosome // inferred from direct assay /// 0005576 // extracellular region // traceable author statement /// 0005634 // nucleus // inferred from direct assay /// 0005654 // nucleoplasm // traceable author statement /// 0005694 // chromosome // inferred from electronic annotation /// 0016020 // membrane // inferred from direct assay /// 0043234 // protein complex // inferred from direct assay /// 0070062 // extracellular exosome // inferred from direct assay', '0000228 // nuclear chromosome // inferred from direct assay /// 0000786 // nucleosome // inferred from direct assay /// 0000788 // nuclear nucleosome // inferred from direct assay /// 0005576 // extracellular region // traceable author statement /// 0005634 // nucleus // inferred from direct assay /// 0005654 // nucleoplasm // traceable author statement /// 0005694 // chromosome // inferred from electronic annotation /// 0016020 // membrane // inferred from direct assay /// 0043234 // protein complex // inferred from direct assay /// 0070062 // extracellular exosome // inferred from direct assay', '0005737 // cytoplasm // not recorded /// 0005737 // cytoplasm // inferred from sequence or structural similarity', '0016020 // membrane // inferred from electronic annotation /// 0016021 // integral component of membrane // inferred from electronic annotation'], 'Gene Ontology Molecular Function': ['0003677 // DNA binding // inferred from electronic annotation /// 0005515 // protein binding // inferred from physical interaction /// 0042393 // histone binding // inferred from physical interaction /// 0046982 // protein heterodimerization activity // inferred from electronic annotation', '0003677 // DNA binding // inferred from electronic annotation /// 0005515 // protein binding // inferred from physical interaction /// 0042393 // histone binding // inferred from physical interaction /// 0046982 // protein heterodimerization activity // inferred from electronic annotation', '0003677 // DNA binding // inferred from electronic annotation /// 0005515 // protein binding // inferred from physical interaction /// 0042393 // histone binding // inferred from physical interaction /// 0046982 // protein heterodimerization activity // inferred from electronic annotation', '0005515 // protein binding // inferred from physical interaction', '---'], 'Pathway': ['---', '---', '---', '---', '---'], 'InterPro': ['IPR007125 // Histone H2A/H2B/H3 // 9.3E-34 /// IPR007125 // Histone H2A/H2B/H3 // 1.7E-37', 'IPR007125 // Histone H2A/H2B/H3 // 9.3E-34 /// IPR007125 // Histone H2A/H2B/H3 // 1.7E-37', 'IPR007125 // Histone H2A/H2B/H3 // 9.3E-34 /// IPR007125 // Histone H2A/H2B/H3 // 1.7E-37', 'IPR008477 // Protein of unknown function DUF758 // 8.4E-86 /// IPR008477 // Protein of unknown function DUF758 // 6.8E-90', 'IPR004878 // Otopetrin // 9.4E-43 /// IPR004878 // Otopetrin // 9.4E-43 /// IPR004878 // Otopetrin // 9.4E-43 /// IPR004878 // Otopetrin // 3.9E-18 /// IPR004878 // Otopetrin // 3.8E-20 /// IPR004878 // Otopetrin // 5.2E-16'], 'Annotation Description': ['This probe set was annotated using the Matching Probes based pipeline to a Entrez Gene identifier using 4 transcripts. // false // Matching Probes // A', 'This probe set was annotated using the Matching Probes based pipeline to a Entrez Gene identifier using 4 transcripts. // false // Matching Probes // A', 'This probe set was annotated using the Matching Probes based pipeline to a Entrez Gene identifier using 4 transcripts. // false // Matching Probes // A', 'This probe set was annotated using the Matching Probes based pipeline to a Entrez Gene identifier using 9 transcripts. // false // Matching Probes // A', 'This probe set was annotated using the Matching Probes based pipeline to a Entrez Gene identifier using 6 transcripts. // false // Matching Probes // A'], 'Annotation Transcript Cluster': ['ENST00000614378(11),NM_003534(11),OTTHUMT00000040099(11),uc003nhi.3', 'ENST00000614378(11),NM_003534(11),OTTHUMT00000040099(11),uc003nhi.3', 'ENST00000614378(11),NM_003534(11),OTTHUMT00000040099(11),uc003nhi.3', 'BC017672(11),BC044250(9),ENST00000327473(11),ENST00000536716(11),NM_001167942(11),NM_152362(11),OTTHUMT00000458662(11),uc002max.3,uc021une.1', 'ENST00000331427(11),ENST00000580223(11),NM_178160(11),OTTHUMT00000445306(11),uc010wrp.2,XM_011525479(11)'], 'Transcript Assignments': ['ENST00000614378 // ensembl_havana_transcript:known chromosome:GRCh38:6:26269405:26271815:-1 gene:ENSG00000273983 gene_biotype:protein_coding transcript_biotype:protein_coding // ensembl // 11 // --- /// NM_003534 // Homo sapiens histone cluster 1, H3g (HIST1H3G), mRNA. // refseq // 11 // --- /// OTTHUMT00000040099 // otter:known chromosome:VEGA61:6:26269405:26271815:-1 gene:OTTHUMG00000014436 gene_biotype:protein_coding transcript_biotype:protein_coding // vega // 11 // --- /// uc003nhi.3 // --- // ucsc_genes // 11 // ---', 'ENST00000614378 // ensembl_havana_transcript:known chromosome:GRCh38:6:26269405:26271815:-1 gene:ENSG00000273983 gene_biotype:protein_coding transcript_biotype:protein_coding // ensembl // 11 // --- /// GENSCAN00000029819 // cdna:genscan chromosome:GRCh38:6:26270974:26271384:-1 transcript_biotype:protein_coding // ensembl // 11 // --- /// NM_003534 // Homo sapiens histone cluster 1, H3g (HIST1H3G), mRNA. // refseq // 11 // --- /// OTTHUMT00000040099 // otter:known chromosome:VEGA61:6:26269405:26271815:-1 gene:OTTHUMG00000014436 gene_biotype:protein_coding transcript_biotype:protein_coding // vega // 11 // --- /// uc003nhi.3 // --- // ucsc_genes // 11 // ---', 'ENST00000614378 // ensembl_havana_transcript:known chromosome:GRCh38:6:26269405:26271815:-1 gene:ENSG00000273983 gene_biotype:protein_coding transcript_biotype:protein_coding // ensembl // 11 // --- /// NM_003534 // Homo sapiens histone cluster 1, H3g (HIST1H3G), mRNA. // refseq // 11 // --- /// OTTHUMT00000040099 // otter:known chromosome:VEGA61:6:26269405:26271815:-1 gene:OTTHUMG00000014436 gene_biotype:protein_coding transcript_biotype:protein_coding // vega // 11 // --- /// uc003nhi.3 // --- // ucsc_genes // 11 // ---', 'BC017672 // Homo sapiens tumor necrosis factor, alpha-induced protein 8-like 1, mRNA (cDNA clone MGC:17791 IMAGE:3885999), complete cds. // gb // 11 // --- /// BC044250 // accn=BC044250 class=mRNAlike lncRNA name=Human lncRNA ref=JounralRNA transcriptId=673 cpcScore=-0.1526100 cnci=-0.1238602 // noncode // 9 // --- /// BC044250 // Homo sapiens tumor necrosis factor, alpha-induced protein 8-like 1, mRNA (cDNA clone IMAGE:5784807). // gb // 9 // --- /// ENST00000327473 // ensembl_havana_transcript:known chromosome:GRCh38:19:4639518:4655568:1 gene:ENSG00000185361 gene_biotype:protein_coding transcript_biotype:protein_coding // ensembl // 11 // --- /// ENST00000536716 // ensembl:known chromosome:GRCh38:19:4640017:4655568:1 gene:ENSG00000185361 gene_biotype:protein_coding transcript_biotype:protein_coding // ensembl // 11 // --- /// NM_001167942 // Homo sapiens tumor necrosis factor, alpha-induced protein 8-like 1 (TNFAIP8L1), transcript variant 1, mRNA. // refseq // 11 // --- /// NM_152362 // Homo sapiens tumor necrosis factor, alpha-induced protein 8-like 1 (TNFAIP8L1), transcript variant 2, mRNA. // refseq // 11 // --- /// NONHSAT060631 // Non-coding transcript identified by NONCODE: Exonic // noncode // 9 // --- /// OTTHUMT00000458662 // otter:known chromosome:VEGA61:19:4639518:4655568:1 gene:OTTHUMG00000182013 gene_biotype:protein_coding transcript_biotype:protein_coding // vega // 11 // --- /// uc002max.3 // --- // ucsc_genes // 11 // --- /// uc021une.1 // --- // ucsc_genes // 11 // ---', 'ENST00000331427 // ensembl:known chromosome:GRCh38:17:74924275:74933911:1 gene:ENSG00000183034 gene_biotype:protein_coding transcript_biotype:protein_coding // ensembl // 11 // --- /// ENST00000580223 // havana:known chromosome:GRCh38:17:74924603:74933912:1 gene:ENSG00000183034 gene_biotype:protein_coding transcript_biotype:protein_coding // ensembl // 11 // --- /// GENSCAN00000013715 // cdna:genscan chromosome:GRCh38:17:74924633:74933545:1 transcript_biotype:protein_coding // ensembl // 11 // --- /// NM_178160 // Homo sapiens otopetrin 2 (OTOP2), mRNA. // refseq // 11 // --- /// OTTHUMT00000445306 // otter:known chromosome:VEGA61:17:74924603:74933912:1 gene:OTTHUMG00000179215 gene_biotype:protein_coding transcript_biotype:protein_coding // vega // 11 // --- /// uc010wrp.2 // --- // ucsc_genes // 11 // --- /// XM_011525479 // PREDICTED: Homo sapiens otopetrin 2 (OTOP2), transcript variant X1, mRNA. // refseq // 11 // ---'], 'Annotation Notes': ['---', '---', 'GENSCAN00000029819 // ensembl // 4 // Cross Hyb Matching Probes', '---', '---'], 'SPOT_ID': [nan, nan, nan, nan, nan]}\n"
     ]
    }
   ],
   "source": [
    "# 1. Use the 'get_gene_annotation' function from the library to get gene annotation data from the soft file.\n",
    "gene_annotation = get_gene_annotation(soft_file)\n",
    "\n",
    "# 2. Use the 'preview_df' function from the library to preview the data and print out the results.\n",
    "print(\"Gene annotation preview:\")\n",
    "print(preview_df(gene_annotation))\n"
   ]
  },
  {
   "cell_type": "markdown",
   "id": "cb8a0c23",
   "metadata": {},
   "source": [
    "### Step 6: Gene Identifier Mapping"
   ]
  },
  {
   "cell_type": "code",
   "execution_count": 7,
   "id": "0972e25d",
   "metadata": {
    "execution": {
     "iopub.execute_input": "2024-06-12T11:09:17.641959Z",
     "iopub.status.busy": "2024-06-12T11:09:17.641819Z",
     "iopub.status.idle": "2024-06-12T11:09:17.867406Z",
     "shell.execute_reply": "2024-06-12T11:09:17.866786Z"
    }
   },
   "outputs": [
    {
     "name": "stdout",
     "output_type": "stream",
     "text": [
      "{'ID': ['11715100_at', '11715101_s_at', '11715102_x_at', '11715103_x_at', '11715104_s_at'], 'Gene': ['HIST1H3G', 'HIST1H3G', 'HIST1H3G', 'TNFAIP8L1', 'OTOP2']}\n"
     ]
    }
   ],
   "source": [
    "# 1. Define the keys for identifier and gene symbols\n",
    "identifier_key = 'ID'\n",
    "gene_symbol_key = 'Gene Symbol'\n",
    "\n",
    "# 2. Get the dataframe storing the mapping between probe IDs and genes\n",
    "mapping_df = get_gene_mapping(gene_annotation, identifier_key, gene_symbol_key)\n",
    "print(preview_df(mapping_df, n=5)) # Previewing the first 5 rows of the mapping dataframe\n",
    "\n",
    "# 3. Apply the mapping to get the gene expression dataframe\n",
    "gene_data = apply_gene_mapping(gene_data, mapping_df)\n"
   ]
  },
  {
   "cell_type": "markdown",
   "id": "a47e47bb",
   "metadata": {},
   "source": [
    "### Step 7: Data Normalization and Merging"
   ]
  },
  {
   "cell_type": "code",
   "execution_count": 8,
   "id": "59a64d01",
   "metadata": {
    "execution": {
     "iopub.execute_input": "2024-06-12T11:09:17.869802Z",
     "iopub.status.busy": "2024-06-12T11:09:17.869663Z",
     "iopub.status.idle": "2024-06-12T11:10:12.045536Z",
     "shell.execute_reply": "2024-06-12T11:10:12.045115Z"
    }
   },
   "outputs": [
    {
     "name": "stdout",
     "output_type": "stream",
     "text": [
      "{'GSM5765052': [5.79996214940397, 3.9928688006619604, 3.95521711983455, 3.40047980022129, 3.29673722783375], 'GSM5765053': [5.70050934220473, 4.07252329716756, 3.97028916746449, 3.208495575441095, 3.33718758499198], 'GSM5765054': [5.77833308521097, 4.13076382465344, 4.77559913915191, 3.369652719118225, 3.42574620558311], 'GSM5765055': [5.60298546993569, 4.151200736139545, 4.10895739292915, 3.3658175637776653, 3.27853557754664], 'GSM5765056': [5.98648796769992, 3.951338377992535, 4.53228126790821, 3.33925895442437, 3.1963218146276], 'GSM5765057': [6.02190383766546, 4.181437772720249, 4.18080357398925, 3.26812864915946, 3.47395892202044], 'GSM5765058': [5.79830063254858, 4.297868442494066, 4.12401637916933, 3.48158669225541, 3.39024123509017], 'GSM5765059': [5.70334249096542, 4.145113788720235, 4.14085366737952, 3.560155517987435, 3.46990904073522], 'GSM5765060': [5.9680386667567, 4.48531099828687, 4.19337325854738, 3.5925953138596753, 3.45520825156798], 'GSM5765061': [5.66025676073873, 4.007014872559255, 4.68212519204393, 3.37833700372736, 3.84242634074162], 'GSM5765062': [5.82391422132125, 3.862496514378055, 4.61695169448647, 3.743322851888135, 3.22507727890885], 'GSM5765063': [5.85302696042273, 4.23101103756861, 4.23095300933259, 3.4011126733131647, 3.59745511868224], 'GSM5765064': [5.96620073955563, 4.21708311030964, 4.02370605448424, 3.7276752982810946, 3.78400466627085], 'GSM5765065': [6.12228133781823, 4.049860952925525, 4.41292396332533, 3.4482576001093497, 3.38100625999494], 'GSM5765066': [5.83663588854314, 4.210931456459615, 4.40040136787431, 3.4423981017877, 3.47737542010934], 'GSM5765067': [6.04917218703715, 4.45977646488516, 4.31933770023195, 3.245889705888935, 3.72603262119605], 'GSM5765068': [5.79376919011276, 4.46005042192137, 5.22605770773511, 3.39349035618005, 3.76180588680225], 'GSM5765069': [6.0232908227989, 4.284066498609665, 4.41358187085947, 3.3319009542764597, 3.50174480044453], 'GSM5765070': [6.32917143485486, 4.119571797162145, 4.14299599193264, 3.636261815283575, 3.58912401613174], 'GSM5765071': [5.67504402721189, 4.22180028017437, 4.44523165272541, 3.3784983582532, 3.33003460384426], 'GSM5765072': [6.02298837547351, 3.877756268046325, 4.00345631690802, 3.5003644342443003, 3.33577689412124], 'GSM5765073': [5.80370316993955, 4.35324819637732, 4.12868611130558, 3.274023868794545, 3.45030591118211], 'GSM5765074': [6.1512010023646, 4.587714777677865, 4.37227422128979, 3.2517291796873398, 3.59439637036773], 'GSM5765075': [5.44529076847926, 4.187127651872846, 4.31031400830657, 3.43332723113955, 3.61959191301077], 'GSM5765076': [6.07257877781864, 4.2135867838017145, 4.38191760367037, 3.3888526656182503, 3.46172386460981], 'GSM5765077': [5.73351080372187, 4.40271113608081, 4.70137311211399, 3.3510989234682853, 3.71498799352829], 'GSM5765078': [5.95326246951258, 4.2332700121120705, 4.41771008167252, 3.429016766464575, 3.67238138210875], 'GSM5765079': [5.42394086932392, 4.460921997863325, 4.53614497493249, 3.6231352676993547, 3.80359053585285], 'GSM5765080': [5.59906391507903, 3.74955185520767, 4.48994788935004, 3.439030600668975, 3.20210927098032], 'GSM5765081': [6.00680425865002, 3.8463369298263848, 4.71740638436795, 3.48215094620917, 3.27834045515776], 'GSM5765082': [5.39495342232669, 4.105665242731255, 4.4122786080781, 3.2644660836217447, 3.20302691596509], 'GSM5765083': [5.98750805609906, 4.119262570030065, 4.53445227499359, 3.462235299765025, 3.43812897008672], 'GSM5765084': [5.97143862795684, 4.23489820420025, 4.52840038537232, 3.30626969603481, 3.44846070926707], 'GSM5765085': [5.7572835938778, 4.1493581172706, 4.30934649537077, 3.4856448217174147, 3.07960287608019], 'GSM5765086': [5.9356798611656, 4.074832947757255, 3.98833037490142, 3.293264854824205, 3.28180534083354], 'GSM5765087': [5.55383010149605, 4.02269163532468, 4.32181543003853, 3.42476975301291, 3.2840967470756], 'GSM5765088': [5.8583803199189, 4.221760455461025, 4.92078757974031, 3.5230097289262448, 3.397529288374], 'GSM5765089': [5.75807146985583, 4.285078250966305, 4.54593890417383, 3.375739294476965, 3.37971739041636], 'GSM5765090': [5.72641175239198, 3.96196826110361, 4.1218972491818, 3.3086545903858102, 3.01424445340201], 'GSM5765091': [6.09884630471088, 4.349490854074995, 4.18889826858877, 3.270352765507805, 3.44122637074239], 'GSM5765092': [5.88981608505732, 4.207591365558645, 4.20377836313522, 3.43707997892608, 3.50119790482421], 'GSM5765093': [5.815270391232, 4.2876604444745094, 4.47813304851425, 3.3251309604944, 3.54005702266972], 'GSM5765094': [6.14877549397397, 4.37309335228413, 4.28048672578199, 3.015572999547815, 3.38328577964316], 'GSM5765095': [5.9248771024154, 4.0996770877207, 4.12608790149468, 3.260716965841175, 3.40345271441472], 'GSM5765096': [6.20249840127429, 4.32472197832167, 4.5752783066923, 3.390787881585905, 3.77564999029195], 'GSM5765097': [6.00940600748491, 4.343964951577091, 4.32506030806662, 3.411698615610165, 3.50984631806373], 'GSM5765098': [6.1326780459007, 4.46402566453914, 4.62194843313327, 3.3851682430345402, 3.75747384176091], 'GSM5765099': [5.84104246121708, 4.28046404592497, 5.33037526990356, 3.547472971705765, 3.50254419822295]}\n"
     ]
    },
    {
     "name": "stdout",
     "output_type": "stream",
     "text": [
      "{'Intellectual_Disability': [1.0, 1.0, 1.0, 1.0, 1.0], 'A1BG': [5.79996214940397, 5.70050934220473, 5.77833308521097, 5.60298546993569, 5.98648796769992], 'A1CF': [3.9928688006619604, 4.07252329716756, 4.13076382465344, 4.151200736139545, 3.951338377992535], 'A2M': [3.95521711983455, 3.97028916746449, 4.77559913915191, 4.10895739292915, 4.53228126790821], 'A2ML1': [3.40047980022129, 3.208495575441095, 3.369652719118225, 3.3658175637776653, 3.33925895442437], 'A3GALT2': [3.29673722783375, 3.33718758499198, 3.42574620558311, 3.27853557754664, 3.1963218146276], 'A4GALT': [4.793995580103137, 4.766702057539404, 4.849046890472359, 4.7803275270062, 4.668519272552261], 'A4GNT': [4.78821538737212, 4.88957632212195, 4.92507707575226, 4.90716185153236, 4.67037867756614], 'AAAS': [7.84366509765241, 7.8418023455281, 7.69043643464455, 7.58920567366436, 7.73329324384804], 'AACS': [7.97294058727831, 7.679805883211888, 7.794388056145451, 7.976944634123315, 7.837758145066215], 'AACSP1': [4.0483022115032, 4.05085683845955, 4.138071332506, 4.02876577107488, 4.01906694963564], 'AADAC': [3.28473648764366, 2.90927891434045, 3.03849873139131, 3.03932035844144, 3.07553262064848], 'AADACL2': [2.75191798263672, 2.94602962436776, 3.05625797645388, 2.93378590574059, 3.03348436842321], 'AADACL3': [4.08976410597858, 4.45171932390069, 4.33111346766066, 4.63993113514554, 4.36211954823964], 'AADACL4': [2.84415606501154, 2.94018512237294, 2.95529955312298, 2.90967108464959, 2.83023022018499], 'AADAT': [2.6562918113207, 2.67107937261965, 2.63834104483646, 2.66779745163682, 2.69256833317307], 'AAGAB': [8.6005622560185, 8.729221163289273, 8.394120067526297, 8.314613825933195, 8.54822118186309], 'AAK1': [5.087590261245803, 5.074307327014557, 5.145510914186418, 4.891845825399842, 5.215904386490398], 'AAMDC': [6.8288164011690995, 7.24573474646479, 6.778677424660666, 6.915257403179529, 7.40525505443965], 'AAMP': [9.514621311660505, 9.56319376050806, 9.396048356448805, 9.39569467122843, 9.339888614943504], 'AANAT': [4.22477000253738, 4.4406510051814, 4.3806964480277, 4.35179108613154, 4.36816830650232], 'AAR2': [6.168619060539496, 6.256075417483667, 6.06425263214942, 6.1524423425693575, 6.273703529299767], 'AARD': [3.9547163976140403, 3.6480617404547653, 3.75752245023969, 3.5555183936964703, 3.510207436083495], 'AARS2': [7.01627096453277, 7.095295907331209, 6.9178547990675, 7.0797309191893145, 7.0738035869057345], 'AASDH': [7.564089247473194, 7.4958612284962465, 7.623313326445817, 7.601575533811597, 7.38552630009445], 'AASDHPPT': [10.084361178840023, 10.24166216605151, 10.123556632186567, 10.046929549185313, 10.0643894535922], 'AASS': [3.1056204088243327, 3.0767219973977875, 3.0055936163580173, 3.2260231388102323, 2.947849245216543], 'AATF': [9.6541646442753, 9.74939006555792, 9.64301828000279, 9.8315608518722, 9.68226331385391], 'AATK': [4.40869174646482, 4.26796880218679, 4.61445782440279, 4.35706986490734, 4.4155687104406], 'ABAT': [5.039779419117795, 4.71671241437112, 4.578798413806165, 4.64916136132224, 4.413836015111199], 'ABCA1': [3.1615526265130636, 3.22514407696197, 3.2458434821927766, 3.53608859688207, 3.356902467381667], 'ABCA10': [4.83806600808255, 5.038269651863647, 5.370651974448043, 4.684056021786782, 4.731656877294507], 'ABCA12': [4.103820459669815, 4.19822095574209, 4.435967387539405, 5.17475092289258, 4.151399348772895], 'ABCA13': [2.53380009834446, 2.64172460096531, 2.60064161960265, 3.10477560130333, 2.5645828940783], 'ABCA2': [4.596403891988254, 4.72707468863919, 4.995182844356345, 4.700962361836555, 4.77925214384459], 'ABCA3': [4.63367397091269, 4.78876528060582, 5.11412915878529, 4.8535139903788, 4.52056567420205], 'ABCA4': [4.323879832041605, 4.31542180219892, 4.38071988850733, 3.96608048639333, 4.30447267412834], 'ABCA5': [6.39065911498852, 5.798346247838403, 5.786861377845077, 5.904918521009407, 5.981092864820927], 'ABCA6': [4.957069425683957, 5.240322124905064, 5.144380090768833, 4.985872076773883, 4.980635406565084], 'ABCA7': [6.222815802060005, 6.390688174849185, 6.249091292158241, 6.09856053529214, 6.4502848837838], 'ABCA8': [3.1442575483685458, 3.194956446228998, 3.167374611334338, 3.1752399675534617, 3.0908485991429275], 'ABCA9': [3.2623208928906324, 3.1747013110668174, 3.21132679371779, 3.3277180941699576, 2.9821315320036774], 'ABCB1': [5.076956346099992, 5.46016554101754, 5.2565622025382375, 5.4870186355333574, 5.19965962589033], 'ABCB10': [9.87613960177875, 9.56242869107748, 9.67577692299905, 9.57854159482533, 9.48757513441108], 'ABCB11': [3.42064852618095, 3.40568315790971, 3.68357605826883, 3.23609417684111, 3.47333408351265], 'ABCB4': [5.276587244872015, 5.61750934897126, 5.24644281697231, 5.700725462090475, 5.255866531360095], 'ABCB5': [3.4351420846569303, 3.46435792210894, 3.404302083652125, 3.4268283566501574, 3.382903162234015], 'ABCB7': [9.86593598906053, 9.82833775109978, 9.83989248008633, 9.55862539626595, 9.76520645129054], 'ABCB8': [4.939810109798378, 5.0844166755726325, 5.098700500176335, 5.0651725211866445, 5.06403883053723], 'ABCB9': [4.71448229943091, 4.628904115560489, 4.796773918147851, 4.6422801849759185, 4.745493251614047], 'ABCC1': [6.888955900144737, 7.03396096744218, 7.04999997439509, 6.848763441217116, 6.9362653485215064], 'ABCC10': [6.28878948202157, 6.05708456502684, 6.00035118966974, 6.3028740552678, 6.46420695168817], 'ABCC11': [3.60746518123576, 3.832066866660905, 3.97256417481955, 3.90403831945007, 3.94121863662872], 'ABCC12': [3.574247967311915, 3.76787743553051, 3.794096695562075, 3.636233088430905, 3.8216660039835704], 'ABCC13': [3.1509933979130125, 3.0864695517797376, 3.2017945486631225, 3.15154867026436, 3.2274341374910325], 'ABCC2': [4.410364734663705, 4.2698814642713945, 4.3917286637702295, 4.458305645183235, 4.3538115116473595], 'ABCC3': [3.7416991261156998, 3.8058459908583204, 3.821416667101, 3.870570822085495, 3.6057755473031747], 'ABCC4': [8.136826430780507, 7.483018456081442, 7.508418567682428, 7.62669219194722, 7.23431798092368], 'ABCC5': [5.822223492164885, 5.73679218008921, 5.819549300599098, 5.959685743059548, 5.737522075579637], 'ABCC6P1': [2.77569089233817, 2.53957886990103, 2.71174556070135, 2.61690845854222, 2.7151204238034], 'ABCC8': [4.101910503693477, 4.280603058069357, 4.260144630208884, 4.249519680069984, 4.239435189360994], 'ABCC9': [3.1193428355563797, 3.1841800977075834, 3.43609459619019, 3.8749346893504897, 3.06577051278399], 'ABCD1': [5.36419755853949, 5.51933843521021, 5.76740240801958, 5.53419199619618, 5.6617141934418], 'ABCD2': [5.014146186623015, 4.32898844560503, 3.9090799733770654, 4.250996694060115, 4.549560892110049], 'ABCD3': [8.070534673013345, 8.277578831481055, 8.17587808431352, 7.987103911478573, 7.90089521897233], 'ABCD4': [6.342968742997473, 6.5361796523945594, 6.590237915885546, 6.501991618807341, 6.537757450332363], 'ABCE1': [9.65705848929069, 9.893026360421636, 9.717584932428153, 9.50798346823349, 9.699123015297527], 'ABCF1': [9.401994681664545, 9.53461782931802, 9.428347766564546, 9.3745873672441, 9.452422821786246], 'ABCF2': [8.510036867793783, 8.62953313337313, 8.48513893352467, 8.389921521836289, 8.405503480616742], 'ABCF3': [8.069355018808995, 8.144621444138227, 7.954987889324345, 8.108567666087508, 7.908022122867062], 'ABCG1': [5.681520732173512, 6.137321952566644, 6.181390675387382, 6.926657547326926, 6.031490036361684], 'ABCG2': [3.620153136101695, 3.64833432473349, 3.8913878173123253, 3.6971678634633447, 3.65877912669553], 'ABCG4': [4.009380970669387, 4.132031085445241, 4.328660573517587, 4.151067624470703, 4.149180540675716], 'ABCG5': [3.18356769224515, 3.26463203155597, 3.06173330288206, 3.16003951682384, 3.22395194048083], 'ABCG8': [4.83606491402799, 4.90534385809601, 5.1288042306403, 4.85220411117492, 4.9344720913239], 'ABHD1': [4.25075961600888, 4.39995805393947, 4.60170046784027, 4.25622195729311, 4.53856120763049], 'ABHD10': [9.062085457767287, 9.177903325414077, 9.29226753425562, 8.782899095824796, 9.039466599730742], 'ABHD11': [6.88995723880911, 7.151775572741877, 7.132723555296913, 7.091006373719158, 6.95635758098384], 'ABHD11-AS1': [3.98697645391107, 4.38380869906125, 4.28138694236438, 4.28659935089052, 4.25306348651216], 'ABHD12': [8.227850774360142, 8.287562499576776, 8.00128204187363, 8.457987411887007, 8.211675834465122], 'ABHD12B': [2.8362537397837553, 2.943191323061945, 2.8355349751511953, 2.7637296532453552, 2.9784752775550247], 'ABHD13': [7.076994526868395, 7.593713301705175, 7.272122420065511, 7.09282235341284, 7.238988910519826], 'ABHD14A': [6.74969341087683, 6.53344100339628, 6.99067201763378, 6.88696511009925, 6.55540792931464], 'ABHD14A-ACY1': [3.92109075636355, 3.83803214704904, 4.01494107313106, 3.71986505348366, 3.90115149082214], 'ABHD14B': [6.412418514700925, 5.9843940476129855, 6.6390246167146, 6.4528245395033395, 6.279710866646785], 'ABHD15': [5.9067072538868945, 5.011166305149345, 5.130936041956395, 5.971632507134435, 5.31969021274115], 'ABHD16A': [8.02180904821638, 8.021038394694033, 8.139121981691668, 8.366763135948018, 7.987653086943035], 'ABHD16B': [4.65535013996366, 4.84708933739959, 4.77321578935, 4.64549790802577, 4.83763275471448], 'ABHD17A': [10.139538030274233, 9.984600670169009, 10.093945171947134, 10.229294829395899, 10.2665484868933], 'ABHD17B': [8.253886178823674, 8.567667072184896, 8.532354105507427, 9.102762616472644, 8.622641143527167], 'ABHD17C': [7.392984448036337, 8.328456366657743, 7.903151977796566, 7.000596554233003, 7.427855746889134], 'ABHD18': [6.8086058656467, 6.613436589873601, 6.715602771155475, 6.69212217874157, 6.905548962736676], 'ABHD2': [6.915973940223168, 7.244444016022505, 7.0581984363015975, 7.1773689156565625, 6.937854626026363], 'ABHD3': [8.913121001951044, 9.235398528214855, 8.981802739980996, 9.08200478277711, 9.05161148398299], 'ABHD4': [6.713477179438493, 6.044833947284601, 6.27775550935678, 7.165381543137907, 5.900226665130043], 'ABHD5': [4.920438117878947, 5.423900085014021, 5.174937827622487, 5.439297067100283, 4.966542553289535], 'ABHD6': [5.921891105990273, 6.1488960390640095, 5.94357902789681, 5.838539429290034, 5.2433771395188495], 'ABHD8': [6.9684534357868495, 6.54166824991925, 6.632726728752403, 6.6092958346396005, 6.62560298695254], 'ABI1': [9.518911940605161, 9.458132723483175, 9.329685656369737, 9.084495022878695, 9.744220539489977], 'ABI2': [7.373118078947933, 7.171422945315801, 7.238348770469524, 7.331330724751384, 7.253133682430782], 'ABI3': [8.50786269785025, 8.82412771308642, 8.45806425219102, 8.87003819803455, 8.60686411697287], 'ABI3BP': [3.46699065990547, 3.328232320098755, 3.4520742269742497, 3.25339036261241, 3.3903211756569203], 'ABL1': [7.3810696187474125, 7.418157822358678, 7.360862880775928, 7.776626850821677, 7.55654680821721], 'ABL2': [5.039536227394786, 4.86559171561127, 4.974195941667605, 4.81759654580207, 4.90185685797406], 'ABLIM1': [7.720798337764277, 7.301798573335352, 6.878071836681445, 6.397690951303395, 6.975060174885727], 'ABLIM2': [4.67759220871677, 4.83803109469333, 4.900058798371728, 4.701837841147854, 4.737574731422072], 'ABLIM3': [4.210470863289586, 4.216971496566873, 4.298456769321523, 4.2256104950443065, 4.097541213843833], 'ABO': [5.13233008476056, 5.04384559318813, 5.26823916682366, 5.22295631234781, 5.15636756382862], 'ABR': [8.47345437834274, 8.4443282509529, 8.246273418529174, 8.26236803921277, 8.481231463258915], 'ABRA': [2.80112541990301, 3.094952398691385, 2.983981019604715, 3.005292056093925, 3.03367835941291], 'ABRACL': [11.4244878389577, 11.3131143948126, 11.2194072286705, 11.2633824878304, 11.3193011060037], 'ABT1': [7.65405059972168, 7.718725828217885, 7.697259056241871, 7.51619428461317, 7.849519613625175], 'ABTB1': [5.19856265345403, 5.052083918101648, 4.9782989884623285, 5.122819983439654, 4.94999237464399], 'ABTB2': [5.645864498571855, 5.739391022112995, 5.504910313852115, 6.192002674036595, 6.01385056284995], 'ACAA1': [9.211580308441194, 9.26188780351106, 9.158060307378621, 9.082862482925274, 9.200080347358528], 'ACAA2': [9.00630070659684, 9.46637595431657, 9.4420674788442, 9.45914123426256, 9.47763835784402], 'ACACA': [6.891501655493293, 6.601798449015296, 6.79938144291312, 6.73162007662467, 6.738867891746836], 'ACACB': [4.186457085956284, 4.473913983256644, 4.33824408416901, 4.2909018178005764, 4.2622107611033], 'ACAD10': [6.285636682123546, 5.9246345182797455, 6.110748575015481, 6.047683408601604, 6.001092653519429], 'ACAD8': [6.401302147987767, 6.700456520546687, 6.610316481049918, 6.7456062356270285, 6.603964228817389], 'ACAD9': [8.562178296449195, 8.728644185150728, 8.646444282379678, 8.642366389751775, 8.66024245750444], 'ACADL': [3.19334703026613, 3.159177670097725, 3.2693418566008, 3.1912641124918326, 3.18518706450042], 'ACADM': [10.569377264192221, 10.711314049180725, 10.773109683035056, 10.604978903518761, 10.613025954726876], 'ACADS': [7.045042781903925, 7.279200332676675, 7.156141843430035, 7.584147149288135, 7.161555764820575], 'ACADSB': [6.737603995162825, 6.31574020726659, 6.159582477774255, 6.1513164045692, 6.255601860134631], 'ACADVL': [9.908647236936877, 9.970710411809184, 9.85844165443144, 9.799084104745297, 9.739060797144996], 'ACAN': [4.406619168434492, 4.402636228825543, 4.52254663003997, 4.468748858171573, 4.459077329495788], 'ACAP1': [9.30798471792058, 8.85680833358446, 9.03009197746362, 9.253511877686, 9.38338901903097], 'ACAP2': [7.2908444186232995, 7.218928266164735, 7.173237946312495, 7.211214723735296, 7.360814023490811], 'ACAP3': [6.73348333922468, 6.865703494059225, 6.808934609343325, 6.809390569332925, 6.7220573656809055], 'ACAT1': [7.504511139778175, 7.427487233829145, 7.45910129982925, 7.4319681775403, 7.3438577153673155], 'ACAT2': [11.551403941123167, 11.216962331375067, 11.285162997826333, 11.188389892687967, 11.374099561906368], 'ACBD3': [8.787537922849154, 8.880859909031965, 8.899961864087238, 8.791028986889671, 8.617641908896015], 'ACBD4': [5.40136260889423, 5.563776994856915, 5.699108460640829, 5.663761926845625, 5.7066047086099445], 'ACBD5': [8.11103987208493, 8.51309028868405, 8.35476890648495, 8.39256351539579, 8.382205874102684], 'ACBD7': [4.344972446614655, 4.18864711543098, 4.09402269907618, 4.79850253239854, 4.2108027958928504], 'ACCS': [4.725409047038733, 5.091135772352415, 4.798529346779915, 5.607833413360257, 5.53909612092071], 'ACCSL': [4.05086723452898, 3.78322237657309, 3.80583896059892, 3.89455217981315, 3.75018091460615], 'ACD': [6.678559396056463, 6.683135919366873, 6.8008029766081926, 6.759860099897657, 6.812629971884623], 'ACE': [4.492946461843602, 4.612086850946023, 4.71721362423052, 4.595433035882907, 4.6586691134377975], 'ACE2': [3.5588481586480865, 3.546885893337187, 3.5846488802777796, 3.4964848789385434, 3.5694693925342595], 'ACER1': [4.14998427491741, 4.22534447651514, 4.01331126849974, 4.12589550528529, 4.22819109139887], 'ACER2': [4.245635379624757, 3.752075491003396, 3.876330761639353, 4.2304328747463735, 4.073712472335473], 'ACER3': [5.917813758701087, 5.479702292163154, 5.459663462074566, 5.611185012103242, 5.670116253720498], 'ACHE': [4.5642843119898195, 4.594805153271009, 4.546202866184805, 4.418413213108745, 4.579650174578115], 'ACIN1': [8.183034603524574, 8.083259745353113, 7.875810217651949, 7.890285916405333, 7.916038780113303], 'ACKR1': [7.1380844554369, 6.775014202509, 6.55245994158734, 6.22912184958835, 6.44231959463571], 'ACKR2': [3.37320886236867, 3.3632850424524747, 3.484820300532515, 3.380087305329305, 3.486619811998795], 'ACKR3': [7.772604709004928, 6.94212473632175, 5.7800278781352175, 6.17133589800034, 5.732055913977383], 'ACKR4': [3.579659920827145, 3.7413306606762426, 3.7964965247448825, 4.0767313816559945, 3.6657437777384327], 'ACLY': [10.89521726841455, 10.622154368644704, 10.746740958124164, 10.60434838065066, 10.813689303314966], 'ACMSD': [3.62861099909287, 3.63729388075998, 3.6400386748183, 3.84505967796614, 3.67121654158606], 'ACO1': [5.46220848113407, 5.666713558054684, 5.772309848376526, 5.793177271909713, 5.59265649315865], 'ACO2': [9.83577930422772, 9.903162859024025, 9.75590385376746, 9.837425804354506, 9.779180233590004], 'ACOT11': [4.097120166950183, 4.053389615641657, 4.123199411692957, 4.024404496817277, 3.955756315339386], 'ACOT12': [3.5811397829325546, 3.50858499299897, 3.67799691371785, 3.57573270424128, 3.65944431935148], 'ACOT13': [9.89045066788202, 9.82769450292703, 10.1085983502156, 10.1044871682156, 9.87223713138902], 'ACOT4': [4.47800378183439, 5.27142933583752, 6.40155077059262, 6.94716811304206, 5.63746970739534], 'ACOT6': [3.10729918040312, 2.95871953900814, 3.19488501936095, 3.21499525734612, 3.19391387514429], 'ACOT7': [7.120329495222, 7.20068159878255, 7.0075882179421995, 7.0746053154578, 6.864421966643765], 'ACOT8': [5.805875300632764, 5.76512249904943, 5.8757214054859785, 5.9275388259034365, 5.878166083567737], 'ACOT9': [8.318152378672252, 8.335406524514159, 8.326187740601885, 8.47269177289977, 8.357065505755347], 'ACOX1': [8.121462869381476, 7.758800899773523, 7.68425313825498, 7.768021197250533, 7.703398359574773], 'ACOX2': [3.54212134413448, 3.67287576687739, 3.9280041386582, 3.69378781485383, 3.83706226915357], 'ACOX3': [8.49039336685023, 7.89065336318244, 7.68956035026699, 8.38347955323399, 8.32947089643511], 'ACOXL': [4.059834068256155, 3.6348667490759374, 3.746177483054665, 3.8368463281215375, 3.9445995343978923], 'ACP1': [9.364191933277432, 9.296504843368878, 9.398972756134976, 9.29245698212296, 9.472823226594166], 'ACP2': [7.029319312775019, 6.952406835369914, 6.716935381304907, 7.072373485211228, 7.0401649595166464], 'ACP5': [7.93611121750982, 7.6805631203898, 7.98189638528608, 8.14141222143262, 8.27505749766613], 'ACP6': [7.23121993862568, 6.53895422772561, 6.92208726262939, 6.69930885366408, 6.53796546871421], 'ACR': [4.03344929479588, 4.18563553525108, 4.12976101479455, 3.99189655132331, 4.27895495126336], 'ACRBP': [5.48078763132745, 5.39462472823949, 5.61233866349413, 5.46858083212143, 5.25685553333996], 'ACRV1': [3.2640475175078, 3.77504340184385, 3.96766329624866, 3.52729029157329, 3.59904666312297], 'ACSBG1': [4.0024969928829055, 3.8544976340998547, 4.07819094308751, 3.71732762141, 4.12671528877813], 'ACSBG2': [3.50785115816782, 3.3934327590872, 3.56373461186058, 3.61296243445027, 3.35795006492368], 'ACSF2': [7.09094516033177, 6.80913112030037, 7.4109520137661, 7.31854850360127, 7.39104599885231], 'ACSF3': [6.35955471948209, 6.332977862148786, 6.343489068885949, 6.223793034287549, 6.2040276117125455], 'ACSL1': [9.650235674389446, 9.614725769054655, 9.578072981374245, 9.823803345208596, 9.467883951823115], 'ACSL3': [8.826431914786015, 8.9191057256232, 9.15328980847941, 9.047583175754166, 9.10633606824174], 'ACSL4': [6.4345458196277505, 6.499855392588297, 6.746104643375062, 6.840764413749589, 6.497259934623077], 'ACSL5': [5.860785856900095, 5.8830073659312045, 5.832090032377687, 6.0607688356858676, 5.98386129365279], 'ACSL6': [2.9197880816623423, 3.0145480907947944, 2.993192444516744, 3.015459129747176, 2.965655105951294], 'ACSM1': [3.6464285568174, 3.24641247754938, 3.32117601253964, 3.18168580932757, 3.34762349617877], 'ACSM2A': [3.8174625087919, 3.807563203533925, 3.867394101142065, 3.7060629229790703, 3.70370800475949], 'ACSM2B': [3.28458941515036, 3.52534077177503, 3.35981300919656, 3.25050141569275, 3.16826606370255], 'ACSM3': [7.778514722408225, 9.437466518470504, 9.546196199389, 8.78652015766123, 9.11641493288148], 'ACSM4': [2.9612136964524, 3.09028932636704, 3.02231741831726, 3.23173222344529, 2.92873041270135], 'ACSM5': [4.4460368599629945, 4.41475823479979, 4.569775884972925, 4.385133733136155, 4.3962730632167695], 'ACSM6': [2.8219187748359698, 2.911895943682125, 2.829723439974335, 2.869011492593155, 2.814380869785425], 'ACSS1': [8.013196110529003, 7.81062610511555, 8.306411322362584, 8.234133944437334, 8.118395904688109], 'ACSS2': [4.5189565950078645, 3.91249836722267, 4.40365929453022, 4.469543769658455, 4.152387699150755], 'ACSS3': [2.9357119254460904, 3.0040225474508833, 3.2457567654977866, 3.062579085538857, 3.116334116503593], 'ACTA1': [5.99362859853008, 6.17126933090709, 5.9816901168870835, 6.012391883862833, 6.066495150617933], 'ACTA2': [4.963705352075686, 4.31511719484921, 4.809504506945561, 5.2125936648801, 4.708267713562323], 'ACTB': [14.102144714712201, 14.193838213951667, 14.075357813771399, 14.057675442995633, 14.043821816405567], 'ACTBL2': [3.16950102667234, 3.23555230406253, 3.12739279180823, 3.14333783669891, 2.96650658983907], 'ACTC1': [3.2519417429340303, 3.26909718578521, 3.376282809726985, 3.3059734229331603, 3.27252349877662], 'ACTG1': [13.757461085356999, 13.76661125666644, 13.74225521067018, 13.749910736793982, 13.737302974931819], 'ACTG2': [3.889509318874778, 4.100405694504969, 4.09473163611244, 3.9733622568661504, 4.124684449907398], 'ACTL10': [5.40262945735535, 5.49346028213978, 5.31609021030303, 5.66194374062406, 5.15885463229261]}\n",
      "For the feature 'Intellectual_Disability', the least common label is '0.0' with 20 occurrences. This represents 41.67% of the dataset.\n",
      "The distribution of the feature 'Intellectual_Disability' in this dataset is fine.\n",
      "\n",
      "A new JSON file was created at: ./preprocessed/Intellectual_Disability/cohort_info.json\n"
     ]
    }
   ],
   "source": [
    "# 1. Normalize the obtained gene data with the 'normalize_gene_symbols_in_index' function from the library.\n",
    "normalized_gene_data = normalize_gene_symbols_in_index(gene_data)\n",
    "gene_csv_path = './preprocessed/Intellectual_Disability/gene_data/GSE192767.csv'\n",
    "normalized_gene_data.to_csv(gene_csv_path)\n",
    "print(preview_df(normalized_gene_data, n=5))  # Optional but recommended for inspection\n",
    "\n",
    "# 2. Merge the clinical and genetic data with the 'geo_merge_clinical_genetic_data' function from the library.\n",
    "merged_data = geo_merge_clinical_genetic_data(selected_clinical_data, normalized_gene_data)\n",
    "print(preview_df(merged_data, n=5))  # Optional but recommended for inspection\n",
    "\n",
    "# 3. Determine whether the trait and some demographic attributes in the data is severely biased, and remove biased attributes.\n",
    "trait_biased, unbiased_merged_data = judge_and_remove_biased_features(merged_data, 'Intellectual_Disability')\n",
    "\n",
    "# 4. Save the cohort information.\n",
    "save_cohort_info('GSE192767', './preprocessed/Intellectual_Disability/cohort_info.json', True, True, trait_biased, merged_data)\n",
    "\n",
    "# 5. If the trait is not severely biased, save the merged data to a csv file.\n",
    "if not trait_biased:\n",
    "    csv_path = './preprocessed/Intellectual_Disability/GSE192767.csv'\n",
    "    unbiased_merged_data.to_csv(csv_path)\n"
   ]
  }
 ],
 "metadata": {
  "language_info": {
   "codemirror_mode": {
    "name": "ipython",
    "version": 3
   },
   "file_extension": ".py",
   "mimetype": "text/x-python",
   "name": "python",
   "nbconvert_exporter": "python",
   "pygments_lexer": "ipython3",
   "version": "3.8.17"
  }
 },
 "nbformat": 4,
 "nbformat_minor": 5
}
