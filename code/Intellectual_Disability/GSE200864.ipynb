{
 "cells": [
  {
   "cell_type": "code",
   "execution_count": 1,
   "id": "69b0d916",
   "metadata": {
    "execution": {
     "iopub.execute_input": "2024-06-12T11:10:12.970511Z",
     "iopub.status.busy": "2024-06-12T11:10:12.970176Z",
     "iopub.status.idle": "2024-06-12T11:10:12.975591Z",
     "shell.execute_reply": "2024-06-12T11:10:12.975203Z"
    }
   },
   "outputs": [],
   "source": [
    "\n",
    "import sys\n",
    "sys.path.append('/home/techt/Desktop/a4s')\n"
   ]
  },
  {
   "cell_type": "markdown",
   "id": "d81ac8a6",
   "metadata": {},
   "source": [
    "### Step 1: Initial Data Loading"
   ]
  },
  {
   "cell_type": "code",
   "execution_count": 2,
   "id": "4d1122b3",
   "metadata": {
    "execution": {
     "iopub.execute_input": "2024-06-12T11:10:12.977660Z",
     "iopub.status.busy": "2024-06-12T11:10:12.977500Z",
     "iopub.status.idle": "2024-06-12T11:10:13.440677Z",
     "shell.execute_reply": "2024-06-12T11:10:13.440291Z"
    }
   },
   "outputs": [
    {
     "name": "stdout",
     "output_type": "stream",
     "text": [
      "Background Information:\n",
      "!Series_title\t\"Definition and prognostic impact of Ph-like and IKZF1plus features in children with Down Syndrome Acute Lymphoblastic Leukaemia\"\n",
      "!Series_summary\t\"Background\"\n",
      "!Series_summary\t\"Children with Down Syndrome have an augmented risk for B-cell acute lymphoblastic leukaemia (DS-ALL), which is associated with a survival lower than in non-DS ALL, due to increased chemotherapy-related toxicity and a higher relapse rate, thus demanding new tailored therapeutic strategies.\"\n",
      "!Series_summary\t\"Cytogenetic abnormalities common in childhood ALL are less frequent in DS-ALL, while alterations in CRLF2 and IKZF1 genes are increased.\"\n",
      "!Series_summary\t\"Aim of the study was to evaluate in DS-ALL children the incidence and prognostic value of the Philadelphia Chromosome-Like (Ph-like) status and the “IKZF1plus” profile, both associated with poor outcome in non-DS ALL and therefore introduced in current therapeutic protocols for BCP-ALL.\"\n",
      "!Series_summary\t\"Method\"\n",
      "!Series_summary\t\"Seventy DS-ALL patients at diagnosis treated in Italian centres from 2000 to 2014 were evaluated for their cytogenetic status, including the Ph-like ALL profile, while the IKZF1plus feature was investigated in a larger cohort of 134 patients treated in Italian and German centres from 2000 to 2011.\"\n",
      "!Series_summary\t\"Findings\"\n",
      "!Series_summary\t\"Forty-six out of 70 (65•7%) AIEOP DS-ALL patients displayed the Ph-like ALL gene expression signature, mostly characterized by CRLF2 (n=33) and IKZF1 (n=16) alterations (13 had both alterations); only one case was positive for an ABL-class and one for a PAX5 fusion gene. In the Italian and German joint cohort, we observed 35•6% patients positive for P2RY8::CRLF2 fusion, 24•8% for IKZF1 deletion and 18% for IKZF1plus feature. Unexpectedly, a higher IKZF1 expression and activity were observed in IKZF1plus than IKZF1 wt DS-ALL patients. Ph-like signature and IKZF1 deletion were associated with poor outcome, which further worsens when IKZF1 deletion was co-occurring with P2RY8::CRLF2, qualifying for the IKZF1plus definition.\"\n",
      "!Series_summary\t\"Interpretation\"\n",
      "!Series_summary\t\"These subgroups, which for the most part are not associated with other high risk features, need new and tailored therapeutic strategies, not only focussed on the use of drugs that restore IKZF1 function.\"\n",
      "!Series_overall_design\t\"Gene expression was measured using Affymetrix platform in DownSyndrome BCP-ALL pediatric patients at diagnosis\"\n",
      "Sample Characteristics Dictionary:\n",
      "{0: ['treatment: pt1', 'treatment: pt2', 'treatment: pt3', 'treatment: pt4', 'treatment: pt5', 'treatment: pt6', 'treatment: pt7', 'treatment: pt8', 'treatment: pt9', 'treatment: pt10', 'treatment: pt11', 'treatment: pt12', 'treatment: pt13', 'treatment: pt14', 'treatment: pt15', 'treatment: pt16', 'treatment: pt17', 'treatment: pt18', 'treatment: pt19', 'treatment: pt20', 'treatment: pt21', 'treatment: pt22', 'treatment: pt23', 'treatment: pt24', 'treatment: pt25', 'treatment: pt26', 'treatment: pt27', 'treatment: pt28', 'treatment: pt29', 'treatment: pt30'], 1: ['treatment: BCP-ALL at diagnosis'], 2: ['tissue: Bone Marrow']}\n"
     ]
    }
   ],
   "source": [
    "from utils.preprocess import *\n",
    "# 1. Identify the paths to the soft file and the matrix file\n",
    "cohort_dir = '/media/techt/DATA/GEO/Intellectual_Disability/GSE200864'\n",
    "soft_file, matrix_file = geo_get_relevant_filepaths(cohort_dir)\n",
    "\n",
    "# 2. Read the matrix file to obtain background information and sample characteristics data\n",
    "background_prefixes = ['!Series_title', '!Series_summary', '!Series_overall_design']\n",
    "clinical_prefixes = ['!Sample_geo_accession', '!Sample_characteristics_ch1']\n",
    "background_info, clinical_data = get_background_and_clinical_data(matrix_file, background_prefixes, clinical_prefixes)\n",
    "\n",
    "# 3. Obtain the sample characteristics dictionary from the clinical dataframe\n",
    "sample_characteristics_dict = get_unique_values_by_row(clinical_data)\n",
    "\n",
    "# 4. Explicitly print out all the background information and the sample characteristics dictionary\n",
    "print(\"Background Information:\")\n",
    "print(background_info)\n",
    "print(\"Sample Characteristics Dictionary:\")\n",
    "print(sample_characteristics_dict)\n"
   ]
  },
  {
   "cell_type": "markdown",
   "id": "b955e223",
   "metadata": {},
   "source": [
    "### Step 2: Dataset Analysis and Clinical Feature Extraction"
   ]
  },
  {
   "cell_type": "code",
   "execution_count": 3,
   "id": "fb237f2a",
   "metadata": {
    "execution": {
     "iopub.execute_input": "2024-06-12T11:10:13.442325Z",
     "iopub.status.busy": "2024-06-12T11:10:13.442192Z",
     "iopub.status.idle": "2024-06-12T11:10:13.447801Z",
     "shell.execute_reply": "2024-06-12T11:10:13.447515Z"
    }
   },
   "outputs": [],
   "source": [
    "is_gene_available = False\n",
    "trait_row = age_row = gender_row = None  # set to different values when applicable\n",
    "convert_trait = convert_age = convert_gender = None  # define the functions when applicable\n",
    "\n",
    "# Determining if gene expression data is available\n",
    "series_title = \"Definition and prognostic impact of Ph-like and IKZF1plus features in children with Down Syndrome Acute Lymphoblastic Leukaemia\"\n",
    "series_summary = [\n",
    "    \"Background\",\n",
    "    \"Children with Down Syndrome have an augmented risk for B-cell acute lymphoblastic leukaemia...\",\n",
    "    \"Cytogenetic abnormalities common in childhood ALL are less frequent in DS-ALL...\",\n",
    "    \"Gene expression was measured using Affymetrix platform in DownSyndrome BCP-ALL pediatric patients at diagnosis\",\n",
    "    # ... other summary lines\n",
    "]\n",
    "\n",
    "gene_expression_keywords = [\"gene expression\", \"Affymetrix platform\", \"measured\"]\n",
    "\n",
    "# Check if gene expression data is present\n",
    "if any(keyword in series_title for keyword in gene_expression_keywords) or \\\n",
    "   any(keyword in summary for summary in series_summary for keyword in gene_expression_keywords):\n",
    "    is_gene_available = True\n",
    "\n",
    "# Checking for the presence of the variables in the provided dictionary\n",
    "sample_characteristics = {\n",
    "    0: ['treatment: pt1', 'treatment: pt2', 'treatment: pt3', 'treatment: pt4', 'treatment: pt5', 'treatment: pt6', 'treatment: pt7', 'treatment: pt8', 'treatment: pt9', 'treatment: pt10', 'treatment: pt11', 'treatment: pt12', 'treatment: pt13', 'treatment: pt14', 'treatment: pt15', 'treatment: pt16', 'treatment: pt17', 'treatment: pt18', 'treatment: pt19', 'treatment: pt20', 'treatment: pt21', 'treatment: pt22', 'treatment: pt23', 'treatment: pt24', 'treatment: pt25', 'treatment: pt26', 'treatment: pt27', 'treatment: pt28', 'treatment: pt29', 'treatment: pt30'],\n",
    "    1: ['treatment: BCP-ALL at diagnosis'],\n",
    "    2: ['tissue: Bone Marrow'],\n",
    "}\n",
    "\n",
    "trait_row = None  # No specific key for 'Intellectual_Disability'\n",
    "age_row = None    # No specific key for 'age'\n",
    "gender_row = None # No specific key for 'gender'\n",
    "\n",
    "# Define the conversion functions\n",
    "def convert_trait(value):\n",
    "    try:\n",
    "        val = value.split(\":\")[1].strip().lower()\n",
    "        if val in ['yes', '1']:\n",
    "            return 1\n",
    "        elif val in ['no', '0']:\n",
    "            return 0\n",
    "    except:\n",
    "        pass\n",
    "    return None  # Unavailable or unknown values\n",
    "\n",
    "def convert_age(value):\n",
    "    try:\n",
    "        val = float(value.split(\":\")[1].strip())\n",
    "        return val\n",
    "    except:\n",
    "        return None  # Unavailable or unknown values\n",
    "\n",
    "def convert_gender(value):\n",
    "    try:\n",
    "        val = value.split(\":\")[1].strip().lower()\n",
    "        if val == 'male':\n",
    "            return 1\n",
    "        elif val == 'female':\n",
    "            return 0\n",
    "    except:\n",
    "        pass\n",
    "    return None  # Unavailable or unknown values\n",
    "\n",
    "# Save cohort information\n",
    "save_cohort_info('GSE200864', './preprocessed/Intellectual_Disability/cohort_info.json', is_gene_available, trait_row is not None)\n"
   ]
  }
 ],
 "metadata": {
  "language_info": {
   "codemirror_mode": {
    "name": "ipython",
    "version": 3
   },
   "file_extension": ".py",
   "mimetype": "text/x-python",
   "name": "python",
   "nbconvert_exporter": "python",
   "pygments_lexer": "ipython3",
   "version": "3.8.17"
  }
 },
 "nbformat": 4,
 "nbformat_minor": 5
}
