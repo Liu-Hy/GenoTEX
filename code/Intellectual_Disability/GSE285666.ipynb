{
 "cells": [
  {
   "cell_type": "code",
   "execution_count": 1,
   "id": "1c148ec2",
   "metadata": {
    "execution": {
     "iopub.execute_input": "2025-03-25T07:10:37.769408Z",
     "iopub.status.busy": "2025-03-25T07:10:37.769018Z",
     "iopub.status.idle": "2025-03-25T07:10:37.936820Z",
     "shell.execute_reply": "2025-03-25T07:10:37.936393Z"
    }
   },
   "outputs": [],
   "source": [
    "import sys\n",
    "import os\n",
    "sys.path.append(os.path.abspath(os.path.join(os.getcwd(), '../..')))\n",
    "\n",
    "# Path Configuration\n",
    "from tools.preprocess import *\n",
    "\n",
    "# Processing context\n",
    "trait = \"Intellectual_Disability\"\n",
    "cohort = \"GSE285666\"\n",
    "\n",
    "# Input paths\n",
    "in_trait_dir = \"../../input/GEO/Intellectual_Disability\"\n",
    "in_cohort_dir = \"../../input/GEO/Intellectual_Disability/GSE285666\"\n",
    "\n",
    "# Output paths\n",
    "out_data_file = \"../../output/preprocess/Intellectual_Disability/GSE285666.csv\"\n",
    "out_gene_data_file = \"../../output/preprocess/Intellectual_Disability/gene_data/GSE285666.csv\"\n",
    "out_clinical_data_file = \"../../output/preprocess/Intellectual_Disability/clinical_data/GSE285666.csv\"\n",
    "json_path = \"../../output/preprocess/Intellectual_Disability/cohort_info.json\"\n"
   ]
  },
  {
   "cell_type": "markdown",
   "id": "82fe1ae7",
   "metadata": {},
   "source": [
    "### Step 1: Initial Data Loading"
   ]
  },
  {
   "cell_type": "code",
   "execution_count": 2,
   "id": "6ec838c7",
   "metadata": {
    "execution": {
     "iopub.execute_input": "2025-03-25T07:10:37.938265Z",
     "iopub.status.busy": "2025-03-25T07:10:37.938116Z",
     "iopub.status.idle": "2025-03-25T07:10:38.026668Z",
     "shell.execute_reply": "2025-03-25T07:10:38.026264Z"
    }
   },
   "outputs": [
    {
     "name": "stdout",
     "output_type": "stream",
     "text": [
      "Background Information:\n",
      "!Series_title\t\"Exon- and gene-Level transcriptional profiling in Lymphoblastoid Cell Lines (LCLs) from Williams syndrome patients and controls\"\n",
      "!Series_summary\t\"Williams syndrome (WS), characterized by positive sociality, provides a unique model for studying transcriptional networks underlying social dysfunction, relevant to disorders like autism spectrum disorder (ASD) and schizophrenia (SCHZ). In a cohort lymphoblastoid cell lines derived from 52 individuals (34 WS patients, 18 parental controls), genome-wide exon-level arrays identified a core set of differentially expressed genes (DEGs), with WS-deleted genes ranking among the top transcripts. Findings were validated by PCR, RNA-seq, and western blots.\"\n",
      "!Series_summary\t\"Network analyses revealed perturbed actin cytoskeletal signaling in excitatory dendritic spines, alongside interactions in MAPK, IGF1-PI3K-AKT-mTOR/insulin, and synaptic actin pathways. These transcriptional networks show parallels to ASD and SCHZ, highlighting shared mechanisms across social behavior disorders.\"\n",
      "!Series_overall_design\t\"Human lymphoblastoid cells immortailzed from WIlliams syndrome patients and non-affected parental controls were grown in RMPI 1640 with 10% FBS, 5% pen/strep, 5% L-glutamine and 0.5% gentamycin. Total RNA was extracted from each culture using the Qiagen RNeasy kit with DNase digestion. Prior to labeling, ribosomal RNA was removed from total RNA (1 μg per sample) using the RiboMinus Human/Mouse Transcriptome Isolation Kit (Invitrogen). Expression analysis was conducted using Affymetrix Human Exon 1.0 ST arrays following the Affymetrix hybridization protocols. Exon expression data were analyzed through Affymetrix Expression Console using exon- and gene-level PLIER (Affymetrix Power Tool with PM-GCBG background correction) summarization and sketch-quantile normalization methods.\"\n",
      "Sample Characteristics Dictionary:\n",
      "{0: ['disease state: unaffected parental control', 'disease state: Williams syndrome patient']}\n"
     ]
    }
   ],
   "source": [
    "from tools.preprocess import *\n",
    "# 1. Identify the paths to the SOFT file and the matrix file\n",
    "soft_file, matrix_file = geo_get_relevant_filepaths(in_cohort_dir)\n",
    "\n",
    "# 2. Read the matrix file to obtain background information and sample characteristics data\n",
    "background_prefixes = ['!Series_title', '!Series_summary', '!Series_overall_design']\n",
    "clinical_prefixes = ['!Sample_geo_accession', '!Sample_characteristics_ch1']\n",
    "background_info, clinical_data = get_background_and_clinical_data(matrix_file, background_prefixes, clinical_prefixes)\n",
    "\n",
    "# 3. Obtain the sample characteristics dictionary from the clinical dataframe\n",
    "sample_characteristics_dict = get_unique_values_by_row(clinical_data)\n",
    "\n",
    "# 4. Explicitly print out all the background information and the sample characteristics dictionary\n",
    "print(\"Background Information:\")\n",
    "print(background_info)\n",
    "print(\"Sample Characteristics Dictionary:\")\n",
    "print(sample_characteristics_dict)\n"
   ]
  },
  {
   "cell_type": "markdown",
   "id": "6088049e",
   "metadata": {},
   "source": [
    "### Step 2: Dataset Analysis and Clinical Feature Extraction"
   ]
  },
  {
   "cell_type": "code",
   "execution_count": 3,
   "id": "e4c4f508",
   "metadata": {
    "execution": {
     "iopub.execute_input": "2025-03-25T07:10:38.027946Z",
     "iopub.status.busy": "2025-03-25T07:10:38.027830Z",
     "iopub.status.idle": "2025-03-25T07:10:38.034814Z",
     "shell.execute_reply": "2025-03-25T07:10:38.034431Z"
    }
   },
   "outputs": [
    {
     "name": "stdout",
     "output_type": "stream",
     "text": [
      "Preview of the selected clinical dataframe:\n",
      "{0: [0.0]}\n",
      "Clinical data saved to ../../output/preprocess/Intellectual_Disability/clinical_data/GSE285666.csv\n"
     ]
    }
   ],
   "source": [
    "import pandas as pd\n",
    "import os\n",
    "import json\n",
    "from typing import Callable, Optional, Dict, Any\n",
    "\n",
    "# 1. Gene Expression Data Availability\n",
    "# Based on the background information, this is an \"Exon and gene-Level transcriptional profiling\" study\n",
    "# using \"Affymetrix Human Exon 1.0 ST arrays\", so it contains gene expression data\n",
    "is_gene_available = True\n",
    "\n",
    "# 2. Variable Availability and Data Type Conversion\n",
    "# 2.1 Data Availability\n",
    "# Looking at the sample characteristics dictionary\n",
    "# The trait is Intellectual Disability, which can be inferred from Williams Syndrome in row 0\n",
    "trait_row = 0  \n",
    "age_row = None  # No age information available in the sample characteristics\n",
    "gender_row = None  # No gender information available in the sample characteristics\n",
    "\n",
    "# 2.2 Data Type Conversion\n",
    "def convert_trait(value):\n",
    "    if pd.isna(value):\n",
    "        return None\n",
    "    value = value.strip().lower() if isinstance(value, str) else str(value).strip().lower()\n",
    "    \n",
    "    # Extract the value after the colon if present\n",
    "    if \":\" in value:\n",
    "        value = value.split(\":\", 1)[1].strip()\n",
    "    \n",
    "    # Williams syndrome patients typically have intellectual disability\n",
    "    if \"williams syndrome\" in value or \"patient\" in value:\n",
    "        return 1  # Intellectual disability present\n",
    "    elif \"unaffected\" in value or \"control\" in value:\n",
    "        return 0  # No intellectual disability\n",
    "    else:\n",
    "        return None  # Unknown or not applicable\n",
    "\n",
    "def convert_age(value):\n",
    "    # This function is not used as age data is not available\n",
    "    return None\n",
    "\n",
    "def convert_gender(value):\n",
    "    # This function is not used as gender data is not available\n",
    "    return None\n",
    "\n",
    "# 3. Save Metadata - Initial Filtering\n",
    "# Determine if trait data is available\n",
    "is_trait_available = trait_row is not None\n",
    "\n",
    "# Save the initial filtering metadata\n",
    "validate_and_save_cohort_info(\n",
    "    is_final=False,\n",
    "    cohort=cohort,\n",
    "    info_path=json_path,\n",
    "    is_gene_available=is_gene_available,\n",
    "    is_trait_available=is_trait_available\n",
    ")\n",
    "\n",
    "# 4. Clinical Feature Extraction\n",
    "# Check if trait data is available before proceeding\n",
    "if trait_row is not None:\n",
    "    # Load or access the actual clinical data\n",
    "    # Assuming clinical_data should be loaded from a previous step or created from the sample characteristics\n",
    "    clinical_data = pd.DataFrame({0: ['disease state: unaffected parental control', 'disease state: Williams syndrome patient']})\n",
    "    \n",
    "    # Use the geo_select_clinical_features function to extract clinical features\n",
    "    selected_clinical_df = geo_select_clinical_features(\n",
    "        clinical_df=clinical_data,\n",
    "        trait=trait,  # Using the provided trait variable (Intellectual_Disability)\n",
    "        trait_row=trait_row,\n",
    "        convert_trait=convert_trait,\n",
    "        age_row=age_row,\n",
    "        convert_age=convert_age,\n",
    "        gender_row=gender_row,\n",
    "        convert_gender=convert_gender\n",
    "    )\n",
    "    \n",
    "    # Preview the selected clinical dataframe\n",
    "    print(\"Preview of the selected clinical dataframe:\")\n",
    "    preview = preview_df(selected_clinical_df)\n",
    "    print(preview)\n",
    "    \n",
    "    # Save the clinical dataframe to CSV\n",
    "    os.makedirs(os.path.dirname(out_clinical_data_file), exist_ok=True)\n",
    "    selected_clinical_df.to_csv(out_clinical_data_file, index=False)\n",
    "    print(f\"Clinical data saved to {out_clinical_data_file}\")\n"
   ]
  },
  {
   "cell_type": "markdown",
   "id": "a8c3f3bf",
   "metadata": {},
   "source": [
    "### Step 3: Gene Data Extraction"
   ]
  },
  {
   "cell_type": "code",
   "execution_count": 4,
   "id": "e404f38d",
   "metadata": {
    "execution": {
     "iopub.execute_input": "2025-03-25T07:10:38.036050Z",
     "iopub.status.busy": "2025-03-25T07:10:38.035930Z",
     "iopub.status.idle": "2025-03-25T07:10:38.176551Z",
     "shell.execute_reply": "2025-03-25T07:10:38.176022Z"
    }
   },
   "outputs": [
    {
     "name": "stdout",
     "output_type": "stream",
     "text": [
      "Extracting gene data from matrix file:\n",
      "Successfully extracted gene data with 22011 rows\n",
      "First 20 gene IDs:\n",
      "Index(['2315554', '2315633', '2315674', '2315739', '2315894', '2315918',\n",
      "       '2315951', '2316218', '2316245', '2316379', '2316558', '2316605',\n",
      "       '2316746', '2316905', '2316953', '2317246', '2317317', '2317434',\n",
      "       '2317472', '2317512'],\n",
      "      dtype='object', name='ID')\n",
      "\n",
      "Gene expression data available: True\n"
     ]
    }
   ],
   "source": [
    "# 1. Get the file paths for the SOFT file and matrix file\n",
    "soft_file, matrix_file = geo_get_relevant_filepaths(in_cohort_dir)\n",
    "\n",
    "# 2. Extract gene expression data from the matrix file\n",
    "try:\n",
    "    print(\"Extracting gene data from matrix file:\")\n",
    "    gene_data = get_genetic_data(matrix_file)\n",
    "    if gene_data.empty:\n",
    "        print(\"Extracted gene expression data is empty\")\n",
    "        is_gene_available = False\n",
    "    else:\n",
    "        print(f\"Successfully extracted gene data with {len(gene_data.index)} rows\")\n",
    "        print(\"First 20 gene IDs:\")\n",
    "        print(gene_data.index[:20])\n",
    "        is_gene_available = True\n",
    "except Exception as e:\n",
    "    print(f\"Error extracting gene data: {e}\")\n",
    "    print(\"This dataset appears to have an empty or malformed gene expression matrix\")\n",
    "    is_gene_available = False\n",
    "\n",
    "print(f\"\\nGene expression data available: {is_gene_available}\")\n"
   ]
  },
  {
   "cell_type": "markdown",
   "id": "c721fd5d",
   "metadata": {},
   "source": [
    "### Step 4: Gene Identifier Review"
   ]
  },
  {
   "cell_type": "code",
   "execution_count": 5,
   "id": "2b142ba1",
   "metadata": {
    "execution": {
     "iopub.execute_input": "2025-03-25T07:10:38.178038Z",
     "iopub.status.busy": "2025-03-25T07:10:38.177913Z",
     "iopub.status.idle": "2025-03-25T07:10:38.180030Z",
     "shell.execute_reply": "2025-03-25T07:10:38.179652Z"
    }
   },
   "outputs": [],
   "source": [
    "# Observe the gene identifiers in the gene expression data\n",
    "# These appear to be probe IDs (numeric identifiers) rather than standard human gene symbols\n",
    "# Human gene symbols typically follow naming conventions like BRCA1, TP53, etc.\n",
    "# These numeric IDs (like 2315554) need to be mapped to human gene symbols\n",
    "\n",
    "requires_gene_mapping = True\n"
   ]
  },
  {
   "cell_type": "markdown",
   "id": "d4a59f1a",
   "metadata": {},
   "source": [
    "### Step 5: Gene Annotation"
   ]
  },
  {
   "cell_type": "code",
   "execution_count": 6,
   "id": "b101e203",
   "metadata": {
    "execution": {
     "iopub.execute_input": "2025-03-25T07:10:38.181391Z",
     "iopub.status.busy": "2025-03-25T07:10:38.181275Z",
     "iopub.status.idle": "2025-03-25T07:10:41.134264Z",
     "shell.execute_reply": "2025-03-25T07:10:41.133593Z"
    }
   },
   "outputs": [
    {
     "name": "stdout",
     "output_type": "stream",
     "text": [
      "Extracting gene annotation data from SOFT file...\n"
     ]
    },
    {
     "name": "stdout",
     "output_type": "stream",
     "text": [
      "Successfully extracted gene annotation data with 1461543 rows\n",
      "\n",
      "Gene annotation preview (first few rows):\n",
      "{'ID': ['2315100', '2315106', '2315109', '2315111', '2315113'], 'GB_LIST': ['NR_024005,NR_034090,NR_024004,AK093685', 'DQ786314', nan, nan, 'DQ786265'], 'SPOT_ID': ['chr1:11884-14409', 'chr1:14760-15198', 'chr1:19408-19712', 'chr1:25142-25532', 'chr1:27563-27813'], 'seqname': ['chr1', 'chr1', 'chr1', 'chr1', 'chr1'], 'RANGE_GB': ['NC_000001.10', 'NC_000001.10', 'NC_000001.10', 'NC_000001.10', 'NC_000001.10'], 'RANGE_STRAND': ['+', '+', '+', '+', '+'], 'RANGE_START': ['11884', '14760', '19408', '25142', '27563'], 'RANGE_STOP': ['14409', '15198', '19712', '25532', '27813'], 'total_probes': ['20', '8', '4', '4', '4'], 'gene_assignment': ['NR_024005 // DDX11L2 // DEAD/H (Asp-Glu-Ala-Asp/His) box polypeptide 11 like 2 // 2q13 // 84771 /// NR_034090 // DDX11L9 // DEAD/H (Asp-Glu-Ala-Asp/His) box polypeptide 11 like 9 // 15q26.3 // 100288486 /// NR_024004 // DDX11L2 // DEAD/H (Asp-Glu-Ala-Asp/His) box polypeptide 11 like 2 // 2q13 // 84771 /// AK093685 // DDX11L2 // DEAD/H (Asp-Glu-Ala-Asp/His) box polypeptide 11 like 2 // 2q13 // 84771', '---', '---', '---', '---'], 'mrna_assignment': ['NR_024005 // RefSeq // Homo sapiens DEAD/H (Asp-Glu-Ala-Asp/His) box polypeptide 11 like 2 (DDX11L2), transcript variant 2, non-coding RNA. // chr1 // 100 // 80 // 16 // 16 // 0 /// NR_034090 // RefSeq // Homo sapiens DEAD/H (Asp-Glu-Ala-Asp/His) box polypeptide 11 like 9 (DDX11L9), non-coding RNA. // chr1 // 100 // 80 // 16 // 16 // 0 /// NR_024004 // RefSeq // Homo sapiens DEAD/H (Asp-Glu-Ala-Asp/His) box polypeptide 11 like 2 (DDX11L2), transcript variant 1, non-coding RNA. // chr1 // 100 // 75 // 15 // 15 // 0 /// AK093685 // GenBank // Homo sapiens cDNA FLJ36366 fis, clone THYMU2007824. // chr1 // 94 // 80 // 15 // 16 // 0 /// ENST00000513886 // ENSEMBL // cdna:known chromosome:GRCh37:16:61555:64090:1 gene:ENSG00000233614 // chr1 // 100 // 80 // 16 // 16 // 0 /// ENST00000456328 // ENSEMBL // cdna:known chromosome:GRCh37:1:11869:14409:1 gene:ENSG00000223972 // chr1 // 100 // 80 // 16 // 16 // 0 /// ENST00000518655 // ENSEMBL // cdna:known chromosome:GRCh37:1:11869:14409:1 gene:ENSG00000253101 // chr1 // 100 // 80 // 16 // 16 // 0', 'DQ786314 // GenBank // Homo sapiens clone HLS_IMAGE_811138 mRNA sequence. // chr1 // 100 // 38 // 3 // 3 // 0', '---', '---', 'DQ786265 // GenBank // Homo sapiens clone HLS_IMAGE_298685 mRNA sequence. // chr1 // 100 // 100 // 4 // 4 // 0'], 'category': ['main', 'main', '---', '---', 'main']}\n",
      "\n",
      "Column names in gene annotation data:\n",
      "['ID', 'GB_LIST', 'SPOT_ID', 'seqname', 'RANGE_GB', 'RANGE_STRAND', 'RANGE_START', 'RANGE_STOP', 'total_probes', 'gene_assignment', 'mrna_assignment', 'category']\n",
      "\n",
      "The dataset contains genomic regions (SPOT_ID) that could be used for location-based gene mapping.\n",
      "Example SPOT_ID format: chr1:11884-14409\n"
     ]
    }
   ],
   "source": [
    "# 1. Extract gene annotation data from the SOFT file\n",
    "print(\"Extracting gene annotation data from SOFT file...\")\n",
    "try:\n",
    "    # Use the library function to extract gene annotation\n",
    "    gene_annotation = get_gene_annotation(soft_file)\n",
    "    print(f\"Successfully extracted gene annotation data with {len(gene_annotation.index)} rows\")\n",
    "    \n",
    "    # Preview the annotation DataFrame\n",
    "    print(\"\\nGene annotation preview (first few rows):\")\n",
    "    print(preview_df(gene_annotation))\n",
    "    \n",
    "    # Show column names to help identify which columns we need for mapping\n",
    "    print(\"\\nColumn names in gene annotation data:\")\n",
    "    print(gene_annotation.columns.tolist())\n",
    "    \n",
    "    # Check for relevant mapping columns\n",
    "    if 'GB_ACC' in gene_annotation.columns:\n",
    "        print(\"\\nThe dataset contains GenBank accessions (GB_ACC) that could be used for gene mapping.\")\n",
    "        # Count non-null values in GB_ACC column\n",
    "        non_null_count = gene_annotation['GB_ACC'].count()\n",
    "        print(f\"Number of rows with GenBank accessions: {non_null_count} out of {len(gene_annotation)}\")\n",
    "    \n",
    "    if 'SPOT_ID' in gene_annotation.columns:\n",
    "        print(\"\\nThe dataset contains genomic regions (SPOT_ID) that could be used for location-based gene mapping.\")\n",
    "        print(\"Example SPOT_ID format:\", gene_annotation['SPOT_ID'].iloc[0])\n",
    "    \n",
    "except Exception as e:\n",
    "    print(f\"Error processing gene annotation data: {e}\")\n",
    "    is_gene_available = False\n"
   ]
  },
  {
   "cell_type": "markdown",
   "id": "094a95f9",
   "metadata": {},
   "source": [
    "### Step 6: Gene Identifier Mapping"
   ]
  },
  {
   "cell_type": "code",
   "execution_count": 7,
   "id": "f390fad0",
   "metadata": {
    "execution": {
     "iopub.execute_input": "2025-03-25T07:10:41.136237Z",
     "iopub.status.busy": "2025-03-25T07:10:41.136074Z",
     "iopub.status.idle": "2025-03-25T07:10:43.588932Z",
     "shell.execute_reply": "2025-03-25T07:10:43.588298Z"
    }
   },
   "outputs": [
    {
     "name": "stdout",
     "output_type": "stream",
     "text": [
      "Identifying gene mapping columns...\n",
      "Extracting gene symbols from annotation data...\n"
     ]
    },
    {
     "name": "stdout",
     "output_type": "stream",
     "text": [
      "Found 33475 probes with at least one gene symbol\n"
     ]
    },
    {
     "name": "stdout",
     "output_type": "stream",
     "text": [
      "Created gene mapping with 33475 rows\n",
      "Sample of gene mapping:\n",
      "         ID                                               Gene\n",
      "0   2315100               [DDX11L2, DDX11L9, DDX11L2, DDX11L2]\n",
      "10  2315125  [OR4F17, OR4F4, OR4F5, OR4F17, OR4F4, OR4F5, O...\n",
      "14  2315147         [LOC100288692, LOC100289383, LOC100506283]\n",
      "15  2315160                 [FLJ45445, FLJ45445, LOC100133161]\n",
      "16  2315163  [LOC100132062, LOC728417, LOC100133331, NCRNA0...\n",
      "Number of probe IDs in mapping: 33475\n",
      "Number of probe IDs in expression data: 22011\n",
      "Number of overlapping probe IDs: 17634\n",
      "Sample overlapping IDs: ['2493746', '2657228', '3817222', '3347658', '2773872']\n",
      "ID 2493746: In mapping=True, In expression=True\n",
      "ID 2657228: In mapping=True, In expression=True\n",
      "ID 3817222: In mapping=True, In expression=True\n",
      "ID 3347658: In mapping=True, In expression=True\n",
      "ID 2773872: In mapping=True, In expression=True\n",
      "\n",
      "Applying gene mapping to convert probe-level to gene-level expression...\n",
      "After mapping: Created gene expression data with 0 genes and 52 samples\n",
      "WARNING: No genes were mapped! Using the first approach but with simplified mapping...\n",
      "Created simplified mapping with 183715 entries\n",
      "Sample of simplified mapping:\n",
      "         ID     Gene\n",
      "0   2315100  DDX11L2\n",
      "0   2315100  DDX11L9\n",
      "0   2315100  DDX11L2\n",
      "0   2315100  DDX11L2\n",
      "10  2315125   OR4F17\n"
     ]
    },
    {
     "name": "stdout",
     "output_type": "stream",
     "text": [
      "After simplified mapping: Gene expression data has 18609 genes\n",
      "First few gene symbols:\n",
      "Index(['A1BG', 'A1BG-AS', 'A1CF', 'A2LD1', 'A2M'], dtype='object', name='Gene')\n",
      "\n",
      "Normalizing gene symbols...\n",
      "After normalization: Gene expression data has 18306 genes\n"
     ]
    },
    {
     "name": "stdout",
     "output_type": "stream",
     "text": [
      "Gene expression data saved to ../../output/preprocess/Intellectual_Disability/gene_data/GSE285666.csv\n"
     ]
    }
   ],
   "source": [
    "# 1. Identify the appropriate columns for gene mapping\n",
    "print(\"Identifying gene mapping columns...\")\n",
    "# The 'ID' column in gene_annotation matches the index in gene_data (which are probe IDs)\n",
    "# The 'gene_assignment' column contains gene symbols and other information that needs parsing\n",
    "\n",
    "# Function to extract gene symbols from the gene_assignment field\n",
    "def extract_gene_symbols(text):\n",
    "    if pd.isna(text) or text == '---':\n",
    "        return []\n",
    "    \n",
    "    genes = []\n",
    "    # Parse gene information from format: \"ACCESSION // SYMBOL // DESCRIPTION\"\n",
    "    parts = text.split('///')\n",
    "    for part in parts:\n",
    "        if '//' in part:\n",
    "            elements = [e.strip() for e in part.split('//')]\n",
    "            if len(elements) >= 2 and elements[1] and elements[1] != '---':\n",
    "                genes.append(elements[1])\n",
    "    \n",
    "    return genes\n",
    "\n",
    "# 2. Create a mapping dataframe\n",
    "mapping_data = gene_annotation[['ID', 'gene_assignment']].copy()\n",
    "mapping_data = mapping_data.rename(columns={'gene_assignment': 'Gene'})\n",
    "\n",
    "# Apply function to extract gene symbols from gene_assignment\n",
    "print(\"Extracting gene symbols from annotation data...\")\n",
    "mapping_data['Gene'] = mapping_data['Gene'].apply(extract_gene_symbols)\n",
    "\n",
    "# Ensure ID column is string type\n",
    "mapping_data['ID'] = mapping_data['ID'].astype(str)\n",
    "gene_data.index = gene_data.index.astype(str)\n",
    "\n",
    "# Debug: Check how many IDs have at least one gene symbol\n",
    "non_empty_symbols = mapping_data[mapping_data['Gene'].apply(len) > 0]\n",
    "print(f\"Found {len(non_empty_symbols)} probes with at least one gene symbol\")\n",
    "\n",
    "# Remove rows with empty gene lists\n",
    "mapping_data = mapping_data[mapping_data['Gene'].apply(len) > 0]\n",
    "\n",
    "print(f\"Created gene mapping with {len(mapping_data)} rows\")\n",
    "print(\"Sample of gene mapping:\")\n",
    "print(mapping_data.head())\n",
    "\n",
    "# Debug: Check overlap between probe IDs in mapping and expression data\n",
    "probe_ids_in_mapping = set(mapping_data['ID'].values)\n",
    "probe_ids_in_expression = set(gene_data.index)\n",
    "overlap = probe_ids_in_mapping.intersection(probe_ids_in_expression)\n",
    "print(f\"Number of probe IDs in mapping: {len(probe_ids_in_mapping)}\")\n",
    "print(f\"Number of probe IDs in expression data: {len(probe_ids_in_expression)}\")\n",
    "print(f\"Number of overlapping probe IDs: {len(overlap)}\")\n",
    "\n",
    "# Debug: Print some sample overlapping IDs\n",
    "sample_overlap = list(overlap)[:5]\n",
    "print(f\"Sample overlapping IDs: {sample_overlap}\")\n",
    "\n",
    "# Debug: Check if these IDs actually exist in both dataframes\n",
    "for id in sample_overlap:\n",
    "    in_mapping = id in mapping_data['ID'].values\n",
    "    in_expression = id in gene_data.index\n",
    "    print(f\"ID {id}: In mapping={in_mapping}, In expression={in_expression}\")\n",
    "\n",
    "# Make a copy of gene_data to ensure it's not modified before mapping\n",
    "gene_data_orig = gene_data.copy()\n",
    "\n",
    "# 3. Apply gene mapping to convert from probe-level to gene-level expression\n",
    "print(\"\\nApplying gene mapping to convert probe-level to gene-level expression...\")\n",
    "gene_data = apply_gene_mapping(gene_data_orig, mapping_data)\n",
    "\n",
    "print(f\"After mapping: Created gene expression data with {gene_data.shape[0]} genes and {gene_data.shape[1]} samples\")\n",
    "if gene_data.shape[0] > 0:\n",
    "    print(\"First few gene symbols:\")\n",
    "    print(gene_data.index[:5])\n",
    "else:\n",
    "    print(\"WARNING: No genes were mapped! Using the first approach but with simplified mapping...\")\n",
    "    \n",
    "    # Simplify the mapping to focus on direct ID to gene relationship\n",
    "    simpler_mapping = mapping_data.explode('Gene')\n",
    "    simpler_mapping = simpler_mapping.dropna(subset=['Gene'])\n",
    "    simpler_mapping = simpler_mapping[simpler_mapping['Gene'] != '']\n",
    "    \n",
    "    print(f\"Created simplified mapping with {len(simpler_mapping)} entries\")\n",
    "    print(\"Sample of simplified mapping:\")\n",
    "    print(simpler_mapping.head())\n",
    "    \n",
    "    # Try mapping again with simplified approach\n",
    "    gene_data = apply_gene_mapping(gene_data_orig, simpler_mapping)\n",
    "    print(f\"After simplified mapping: Gene expression data has {gene_data.shape[0]} genes\")\n",
    "    if gene_data.shape[0] > 0:\n",
    "        print(\"First few gene symbols:\")\n",
    "        print(gene_data.index[:5])\n",
    "\n",
    "# Normalize gene symbols only if we have genes\n",
    "if gene_data.shape[0] > 0:\n",
    "    print(\"\\nNormalizing gene symbols...\")\n",
    "    gene_data = normalize_gene_symbols_in_index(gene_data)\n",
    "    print(f\"After normalization: Gene expression data has {gene_data.shape[0]} genes\")\n",
    "\n",
    "# Save the gene expression data\n",
    "os.makedirs(os.path.dirname(out_gene_data_file), exist_ok=True)\n",
    "gene_data.to_csv(out_gene_data_file)\n",
    "print(f\"Gene expression data saved to {out_gene_data_file}\")\n"
   ]
  },
  {
   "cell_type": "markdown",
   "id": "426eb534",
   "metadata": {},
   "source": [
    "### Step 7: Data Normalization and Linking"
   ]
  },
  {
   "cell_type": "code",
   "execution_count": 8,
   "id": "44c6cdd6",
   "metadata": {
    "execution": {
     "iopub.execute_input": "2025-03-25T07:10:43.590967Z",
     "iopub.status.busy": "2025-03-25T07:10:43.590808Z",
     "iopub.status.idle": "2025-03-25T07:10:53.376554Z",
     "shell.execute_reply": "2025-03-25T07:10:53.375897Z"
    }
   },
   "outputs": [
    {
     "name": "stdout",
     "output_type": "stream",
     "text": [
      "Normalizing gene symbols in the expression data...\n"
     ]
    },
    {
     "name": "stdout",
     "output_type": "stream",
     "text": [
      "Normalized gene data saved to ../../output/preprocess/Intellectual_Disability/gene_data/GSE285666.csv\n",
      "Normalized gene data shape: (18306, 52)\n",
      "\n",
      "Loading clinical data from file...\n",
      "Clinical data shape: (1, 1)\n",
      "Reprocessed clinical data shape: (1, 52)\n",
      "\n",
      "Linking clinical and genetic data...\n",
      "Linked data shape: (52, 18307)\n",
      "\n",
      "Handling missing values...\n"
     ]
    },
    {
     "name": "stdout",
     "output_type": "stream",
     "text": [
      "After handling missing values, data shape: (52, 18307)\n",
      "\n",
      "Checking for bias in features...\n",
      "For the feature 'Intellectual_Disability', the least common label is '0.0' with 18 occurrences. This represents 34.62% of the dataset.\n",
      "The distribution of the feature 'Intellectual_Disability' in this dataset is fine.\n",
      "\n",
      "\n",
      "Performing final validation...\n"
     ]
    },
    {
     "name": "stdout",
     "output_type": "stream",
     "text": [
      "Linked data saved to ../../output/preprocess/Intellectual_Disability/GSE285666.csv\n"
     ]
    }
   ],
   "source": [
    "# 1. Normalize gene symbols in the gene expression data\n",
    "print(\"Normalizing gene symbols in the expression data...\")\n",
    "try:\n",
    "    # If previous steps have already loaded gene_data\n",
    "    normalized_gene_data = normalize_gene_symbols_in_index(gene_data)\n",
    "    \n",
    "    # Create directory if it doesn't exist\n",
    "    os.makedirs(os.path.dirname(out_gene_data_file), exist_ok=True)\n",
    "    \n",
    "    # Save normalized gene data\n",
    "    normalized_gene_data.to_csv(out_gene_data_file)\n",
    "    print(f\"Normalized gene data saved to {out_gene_data_file}\")\n",
    "    print(f\"Normalized gene data shape: {normalized_gene_data.shape}\")\n",
    "except Exception as e:\n",
    "    print(f\"Error normalizing gene data: {e}\")\n",
    "    is_gene_available = False\n",
    "\n",
    "# 2. Load clinical data from file and link with genetic data\n",
    "print(\"\\nLoading clinical data from file...\")\n",
    "try:\n",
    "    # Load the previously saved clinical data\n",
    "    selected_clinical_df = pd.read_csv(out_clinical_data_file)\n",
    "    \n",
    "    # Set is_trait_available based on whether the clinical data contains the trait\n",
    "    is_trait_available = True\n",
    "    print(f\"Clinical data shape: {selected_clinical_df.shape}\")\n",
    "    \n",
    "    # Ensure we have the proper file paths for Step 2 if needed\n",
    "    soft_file, matrix_file = geo_get_relevant_filepaths(in_cohort_dir)\n",
    "    \n",
    "    # Get the raw clinical data again to work with proper sample IDs\n",
    "    background_prefixes = ['!Series_title', '!Series_summary', '!Series_overall_design']\n",
    "    clinical_prefixes = ['!Sample_geo_accession', '!Sample_characteristics_ch1']\n",
    "    _, clinical_data = get_background_and_clinical_data(matrix_file, background_prefixes, clinical_prefixes)\n",
    "    \n",
    "    # Run the clinical feature extraction again\n",
    "    selected_clinical_df = geo_select_clinical_features(\n",
    "        clinical_df=clinical_data,\n",
    "        trait=trait,\n",
    "        trait_row=trait_row,\n",
    "        convert_trait=convert_trait,\n",
    "        age_row=age_row,\n",
    "        convert_age=convert_age,\n",
    "        gender_row=gender_row,\n",
    "        convert_gender=convert_gender\n",
    "    )\n",
    "    \n",
    "    print(f\"Reprocessed clinical data shape: {selected_clinical_df.shape}\")\n",
    "    \n",
    "    print(\"\\nLinking clinical and genetic data...\")\n",
    "    # Use the proper helper function to link clinical and genetic data\n",
    "    linked_data = geo_link_clinical_genetic_data(selected_clinical_df, normalized_gene_data)\n",
    "    print(f\"Linked data shape: {linked_data.shape}\")\n",
    "    \n",
    "    # Check if we have a valid data shape before proceeding\n",
    "    if linked_data.shape[0] == 0 or linked_data.shape[1] <= 1:\n",
    "        raise ValueError(\"Linked data has insufficient dimensions for analysis\")\n",
    "    \n",
    "    # 3. Handle missing values systematically\n",
    "    print(\"\\nHandling missing values...\")\n",
    "    linked_data = handle_missing_values(linked_data, trait)\n",
    "    print(f\"After handling missing values, data shape: {linked_data.shape}\")\n",
    "    \n",
    "    # 4. Determine whether features are biased\n",
    "    print(\"\\nChecking for bias in features...\")\n",
    "    is_biased, linked_data = judge_and_remove_biased_features(linked_data, trait)\n",
    "    \n",
    "    # 5. Final validation and save metadata\n",
    "    print(\"\\nPerforming final validation...\")\n",
    "    is_usable = validate_and_save_cohort_info(\n",
    "        is_final=True,\n",
    "        cohort=cohort,\n",
    "        info_path=json_path,\n",
    "        is_gene_available=is_gene_available,\n",
    "        is_trait_available=is_trait_available,\n",
    "        is_biased=is_biased,\n",
    "        df=linked_data,\n",
    "        note=\"Williams Syndrome patients as intellectual disability cases, with unaffected parental controls as reference group.\"\n",
    "    )\n",
    "    \n",
    "    # 6. Save the linked data if usable\n",
    "    if is_usable:\n",
    "        # Create directory if it doesn't exist\n",
    "        os.makedirs(os.path.dirname(out_data_file), exist_ok=True)\n",
    "        \n",
    "        # Save linked data\n",
    "        linked_data.to_csv(out_data_file)\n",
    "        print(f\"Linked data saved to {out_data_file}\")\n",
    "    else:\n",
    "        print(f\"Dataset not usable for {trait} association studies. Data not saved.\")\n",
    "\n",
    "except Exception as e:\n",
    "    print(f\"Error in data linking or processing: {str(e)}\")\n",
    "    # Create a minimal dataframe for validation purposes\n",
    "    linked_data = pd.DataFrame({trait: [0, 1]})\n",
    "    \n",
    "    # Perform final validation with appropriate flags\n",
    "    is_usable = validate_and_save_cohort_info(\n",
    "        is_final=True,\n",
    "        cohort=cohort,\n",
    "        info_path=json_path,\n",
    "        is_gene_available=is_gene_available, \n",
    "        is_trait_available=is_trait_available,\n",
    "        is_biased=True,  # Not relevant since data isn't usable\n",
    "        df=linked_data,\n",
    "        note=\"Failed to link gene and clinical data: \" + str(e)\n",
    "    )\n",
    "    print(f\"Dataset usability: {is_usable}\")"
   ]
  }
 ],
 "metadata": {
  "language_info": {
   "codemirror_mode": {
    "name": "ipython",
    "version": 3
   },
   "file_extension": ".py",
   "mimetype": "text/x-python",
   "name": "python",
   "nbconvert_exporter": "python",
   "pygments_lexer": "ipython3",
   "version": "3.10.16"
  }
 },
 "nbformat": 4,
 "nbformat_minor": 5
}
