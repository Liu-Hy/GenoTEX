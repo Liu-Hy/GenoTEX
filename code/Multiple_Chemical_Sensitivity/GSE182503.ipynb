{
 "cells": [
  {
   "cell_type": "code",
   "execution_count": 1,
   "id": "5204811b",
   "metadata": {
    "execution": {
     "iopub.execute_input": "2024-06-12T08:37:36.516329Z",
     "iopub.status.busy": "2024-06-12T08:37:36.516223Z",
     "iopub.status.idle": "2024-06-12T08:37:36.520623Z",
     "shell.execute_reply": "2024-06-12T08:37:36.520192Z"
    }
   },
   "outputs": [],
   "source": [
    "\n",
    "import sys\n",
    "sys.path.append('/home/techt/Desktop/a4s')\n"
   ]
  },
  {
   "cell_type": "markdown",
   "id": "b8103564",
   "metadata": {},
   "source": [
    "### Step 1: Initial Data Loading"
   ]
  },
  {
   "cell_type": "code",
   "execution_count": 2,
   "id": "9916ed89",
   "metadata": {
    "execution": {
     "iopub.execute_input": "2024-06-12T08:37:36.522108Z",
     "iopub.status.busy": "2024-06-12T08:37:36.522006Z",
     "iopub.status.idle": "2024-06-12T08:37:36.875178Z",
     "shell.execute_reply": "2024-06-12T08:37:36.874662Z"
    }
   },
   "outputs": [
    {
     "name": "stdout",
     "output_type": "stream",
     "text": [
      "Background Information:\n",
      "!Series_title\t\"Transcriptomic profiling of adult-onset asthma related to damp and moldy buildings and idiopathic environmental intolerance [blood]\"\n",
      "!Series_summary\t\"The objective of the study was to characterize distinct endotypes of asthma related to damp and moldy buildings and to evaluate the potential molecular similarities with idiopathic environmental intolerance (IEI). The blood cell transcriptome of 88 study subjects was profiled using peripheral blood mononuclear cell (PBMC) samples obtained at baseline.\"\n",
      "!Series_overall_design\t\"Venous blood samples were collected from female adult-onset asthma patients (n=50), IEI patients (n=17) and healthy subjects (n=21) yielding 88 study subjects. PBMCs were separated and total RNA extracted for microarray analyses.\"\n",
      "Sample Characteristics Dictionary:\n",
      "{0: ['diagnosis: adult-onset asthma', 'diagnosis: IEI', 'diagnosis: healthy'], 1: ['gender: Female'], 2: ['age: 33.42', 'age: 46.08', 'age: 45.58', 'age: 28', 'age: 25.75', 'age: 59.83', 'age: 41.17', 'age: 47.58', 'age: 50.75', 'age: 42.58', 'age: 52.75', 'age: 51.75', 'age: 18.42', 'age: 47', 'age: 38.33', 'age: 58.58', 'age: 56.17', 'age: 40.67', 'age: 47.5', 'age: 54.67', 'age: 48.83', 'age: 64.67', 'age: 54.83', 'age: 57.67', 'age: 39.17', 'age: 38.08', 'age: 28.42', 'age: 40.75', 'age: 43.17', 'age: 43.08'], 3: ['cell type: PBMC']}\n"
     ]
    }
   ],
   "source": [
    "from utils.preprocess import *\n",
    "# 1. Identify the paths to the soft file and the matrix file\n",
    "cohort_dir = '/media/techt/DATA/GEO/Multiple_Chemical_Sensitivity/GSE182503'\n",
    "soft_file, matrix_file = geo_get_relevant_filepaths(cohort_dir)\n",
    "\n",
    "# 2. Read the matrix file to obtain background information and sample characteristics data\n",
    "background_prefixes = ['!Series_title', '!Series_summary', '!Series_overall_design']\n",
    "clinical_prefixes = ['!Sample_geo_accession', '!Sample_characteristics_ch1']\n",
    "background_info, clinical_data = get_background_and_clinical_data(matrix_file, background_prefixes, clinical_prefixes)\n",
    "\n",
    "# 3. Obtain the sample characteristics dictionary from the clinical dataframe\n",
    "sample_characteristics_dict = get_unique_values_by_row(clinical_data)\n",
    "\n",
    "# 4. Explicitly print out all the background information and the sample characteristics dictionary\n",
    "print(\"Background Information:\")\n",
    "print(background_info)\n",
    "print(\"Sample Characteristics Dictionary:\")\n",
    "print(sample_characteristics_dict)\n"
   ]
  },
  {
   "cell_type": "markdown",
   "id": "0a15e63a",
   "metadata": {},
   "source": [
    "### Step 2: Dataset Analysis and Clinical Feature Extraction"
   ]
  },
  {
   "cell_type": "code",
   "execution_count": 3,
   "id": "a8f959f1",
   "metadata": {
    "execution": {
     "iopub.execute_input": "2024-06-12T08:37:36.876837Z",
     "iopub.status.busy": "2024-06-12T08:37:36.876723Z",
     "iopub.status.idle": "2024-06-12T08:37:36.895605Z",
     "shell.execute_reply": "2024-06-12T08:37:36.895189Z"
    }
   },
   "outputs": [
    {
     "name": "stdout",
     "output_type": "stream",
     "text": [
      "{'GSM5530417': [1.0, 33.42], 'GSM5530418': [1.0, 46.08], 'GSM5530419': [1.0, 45.58], 'GSM5530420': [0.0, 28.0], 'GSM5530421': [0.0, 25.75], 'GSM5530422': [1.0, 59.83], 'GSM5530423': [0.0, 41.17], 'GSM5530424': [1.0, 47.58], 'GSM5530425': [1.0, 50.75], 'GSM5530426': [0.0, 42.58], 'GSM5530427': [1.0, 52.75], 'GSM5530428': [1.0, 51.75], 'GSM5530429': [0.0, 18.42], 'GSM5530430': [0.0, 47.0], 'GSM5530431': [0.0, 38.33], 'GSM5530432': [1.0, 58.58], 'GSM5530433': [1.0, 56.17], 'GSM5530434': [1.0, 52.75], 'GSM5530435': [1.0, 40.67], 'GSM5530436': [1.0, 47.5], 'GSM5530437': [1.0, 54.67], 'GSM5530438': [0.0, 48.83], 'GSM5530439': [0.0, 25.75], 'GSM5530440': [1.0, 64.67], 'GSM5530441': [1.0, 54.83], 'GSM5530442': [1.0, 57.67], 'GSM5530443': [1.0, 39.17], 'GSM5530444': [0.0, 38.08], 'GSM5530445': [1.0, 28.42], 'GSM5530446': [1.0, 40.75], 'GSM5530447': [1.0, 43.17], 'GSM5530448': [0.0, 43.08], 'GSM5530449': [1.0, 48.83], 'GSM5530450': [0.0, 58.83], 'GSM5530451': [0.0, 26.58], 'GSM5530452': [0.0, 42.5], 'GSM5530453': [1.0, 48.25], 'GSM5530454': [1.0, 39.25], 'GSM5530455': [1.0, 55.33], 'GSM5530456': [0.0, 47.0], 'GSM5530457': [1.0, 55.75], 'GSM5530458': [1.0, 47.08], 'GSM5530459': [1.0, 47.5], 'GSM5530460': [1.0, 53.58], 'GSM5530461': [1.0, 60.17], 'GSM5530462': [0.0, 40.58], 'GSM5530463': [1.0, 50.5], 'GSM5530464': [1.0, 46.17], 'GSM5530465': [1.0, 51.33], 'GSM5530466': [1.0, 56.67], 'GSM5530467': [0.0, 37.5], 'GSM5530468': [0.0, 48.83], 'GSM5530469': [1.0, 38.08], 'GSM5530470': [1.0, 52.58], 'GSM5530471': [0.0, 52.67], 'GSM5530472': [1.0, 59.58], 'GSM5530473': [1.0, 56.25], 'GSM5530474': [1.0, 46.42], 'GSM5530475': [0.0, 47.08], 'GSM5530476': [0.0, 52.67], 'GSM5530477': [1.0, 60.08], 'GSM5530478': [1.0, 44.67], 'GSM5530479': [1.0, 57.58], 'GSM5530480': [0.0, 26.58], 'GSM5530481': [1.0, 53.5], 'GSM5530482': [0.0, 58.83], 'GSM5530483': [0.0, 41.5], 'GSM5530484': [1.0, 47.17], 'GSM5530485': [1.0, 51.25], 'GSM5530486': [1.0, 33.08], 'GSM5530487': [1.0, 50.33], 'GSM5530488': [1.0, 60.17], 'GSM5530489': [0.0, 19.17], 'GSM5530490': [1.0, 40.67], 'GSM5530491': [1.0, 24.25], 'GSM5530492': [0.0, 43.08], 'GSM5530493': [0.0, 51.75], 'GSM5530494': [1.0, 41.17], 'GSM5530495': [1.0, 30.83], 'GSM5530496': [0.0, 40.58], 'GSM5530497': [0.0, 42.58], 'GSM5530498': [1.0, 52.75], 'GSM5530499': [1.0, 43.17], 'GSM5530500': [1.0, 24.75], 'GSM5530501': [0.0, 51.75], 'GSM5530502': [1.0, 24.5], 'GSM5530503': [1.0, 44.5], 'GSM5530504': [1.0, 53.17], 'GSM5530505': [0.0, 38.08], 'GSM5530506': [0.0, 37.83], 'GSM5530507': [1.0, 41.33], 'GSM5530508': [1.0, 47.67], 'GSM5530509': [1.0, 57.75], 'GSM5530510': [0.0, 37.5], 'GSM5530511': [0.0, 41.5], 'GSM5530512': [1.0, 44.25], 'GSM5530513': [1.0, 53.58], 'GSM5530514': [1.0, 45.58], 'GSM5530515': [0.0, 19.17], 'GSM5530516': [0.0, 18.42], 'GSM5530517': [1.0, 57.08], 'GSM5530518': [1.0, 60.67]}\n"
     ]
    }
   ],
   "source": [
    "is_gene_available = False\n",
    "trait_row = age_row = gender_row = None  # set to different values when applicable\n",
    "convert_trait = convert_age = convert_gender = None  # define the functions when applicable\n",
    "\n",
    "# Determine if gene expression data is available\n",
    "is_gene_available = True  # This dataset contains gene expression data from PBMCs\n",
    "\n",
    "# Data availability\n",
    "trait_row = 0  # Using 'diagnosis' as a proxy for 'Multiple_Chemical_Sensitivity'\n",
    "age_row = 2  # Age data is available under key 2\n",
    "gender_row = None  # Gender data only has one unique value (Female), hence not useful\n",
    "\n",
    "# Data type conversions\n",
    "def convert_trait(value):\n",
    "    val = value.split(':')[-1].strip().lower()\n",
    "    if \"healthy\" in val:\n",
    "        return 0\n",
    "    elif \"asthma\" in val or \"iei\" in val:\n",
    "        return 1\n",
    "    else:\n",
    "        return None\n",
    "\n",
    "def convert_age(value):\n",
    "    try:\n",
    "        # Extract value after the colon and convert to float\n",
    "        return float(value.split(':')[-1].strip())\n",
    "    except ValueError:\n",
    "        return None  # Return None if the conversion fails\n",
    "\n",
    "save_cohort_info('GSE182503', './preprocessed/Multiple_Chemical_Sensitivity/cohort_info.json', is_gene_available, trait_row is not None)\n",
    "\n",
    "# since trait_row is not None, perform clinical feature extraction\n",
    "if trait_row is not None:\n",
    "    selected_clinical_data = geo_select_clinical_features(clinical_data, 'Multiple_Chemical_Sensitivity', trait_row, convert_trait, age_row, convert_age, gender_row, convert_gender)\n",
    "    csv_path = './preprocessed/Multiple_Chemical_Sensitivity/trait_data/GSE182503.csv'\n",
    "    selected_clinical_data.to_csv(csv_path)\n",
    "    print(preview_df(selected_clinical_data))\n"
   ]
  },
  {
   "cell_type": "markdown",
   "id": "bdf9727f",
   "metadata": {},
   "source": [
    "### Step 3: Gene Data Extraction"
   ]
  },
  {
   "cell_type": "code",
   "execution_count": 4,
   "id": "66853e73",
   "metadata": {
    "execution": {
     "iopub.execute_input": "2024-06-12T08:37:36.897221Z",
     "iopub.status.busy": "2024-06-12T08:37:36.897114Z",
     "iopub.status.idle": "2024-06-12T08:37:37.180186Z",
     "shell.execute_reply": "2024-06-12T08:37:37.179567Z"
    }
   },
   "outputs": [
    {
     "name": "stdout",
     "output_type": "stream",
     "text": [
      "Index(['A_19_P00315452', 'A_19_P00315492', 'A_19_P00315493', 'A_19_P00315506',\n",
      "       'A_19_P00315529', 'A_19_P00315543', 'A_19_P00315551', 'A_19_P00315581',\n",
      "       'A_19_P00315584', 'A_19_P00315593', 'A_19_P00315603', 'A_19_P00315627',\n",
      "       'A_19_P00315649', 'A_19_P00315668', 'A_19_P00315691', 'A_19_P00315705',\n",
      "       'A_19_P00315716', 'A_19_P00315753', 'A_19_P00315764', 'A_19_P00315773'],\n",
      "      dtype='object', name='ID')\n"
     ]
    }
   ],
   "source": [
    "# 1. Use the get_genetic_data function from the library to get the gene_data from the matrix_file previously defined.\n",
    "gene_data = get_genetic_data(matrix_file)\n",
    "\n",
    "# 2. Print the first 20 row ids for the following step.\n",
    "print(gene_data.index[:20])\n"
   ]
  },
  {
   "cell_type": "markdown",
   "id": "6db4da89",
   "metadata": {},
   "source": [
    "### Step 4: Gene Identifier Review"
   ]
  },
  {
   "cell_type": "code",
   "execution_count": 5,
   "id": "fe21a36e",
   "metadata": {
    "execution": {
     "iopub.execute_input": "2024-06-12T08:37:37.182053Z",
     "iopub.status.busy": "2024-06-12T08:37:37.181900Z",
     "iopub.status.idle": "2024-06-12T08:37:37.184458Z",
     "shell.execute_reply": "2024-06-12T08:37:37.183984Z"
    }
   },
   "outputs": [],
   "source": [
    "requires_gene_mapping = True\n"
   ]
  },
  {
   "cell_type": "markdown",
   "id": "7e2a3173",
   "metadata": {},
   "source": [
    "### Step 5: Gene Annotation (Conditional)"
   ]
  },
  {
   "cell_type": "code",
   "execution_count": 6,
   "id": "daf0e2bc",
   "metadata": {
    "execution": {
     "iopub.execute_input": "2024-06-12T08:37:37.186128Z",
     "iopub.status.busy": "2024-06-12T08:37:37.185996Z",
     "iopub.status.idle": "2024-06-12T08:37:42.801222Z",
     "shell.execute_reply": "2024-06-12T08:37:42.800566Z"
    }
   },
   "outputs": [
    {
     "name": "stdout",
     "output_type": "stream",
     "text": [
      "Gene annotation preview:\n",
      "{'ID': ['GE_BrightCorner', 'DarkCorner', 'A_21_P0014386', 'A_33_P3396872', 'A_33_P3267760'], 'CONTROL_TYPE': ['pos', 'pos', 'FALSE', 'FALSE', 'FALSE'], 'REFSEQ': [nan, nan, nan, 'NM_001105533', nan], 'GB_ACC': [nan, nan, nan, 'NM_001105533', nan], 'LOCUSLINK_ID': [nan, nan, nan, 79974.0, 54880.0], 'GENE_SYMBOL': [nan, nan, nan, 'CPED1', 'BCOR'], 'GENE_NAME': [nan, nan, nan, 'cadherin-like and PC-esterase domain containing 1', 'BCL6 corepressor'], 'UNIGENE_ID': [nan, nan, nan, 'Hs.189652', nan], 'ENSEMBL_ID': [nan, nan, nan, nan, 'ENST00000378463'], 'ACCESSION_STRING': [nan, nan, nan, 'ref|NM_001105533|gb|AK025639|gb|BC030538|tc|THC2601673', 'ens|ENST00000378463'], 'CHROMOSOMAL_LOCATION': [nan, nan, 'unmapped', 'chr7:120901888-120901947', 'chrX:39909128-39909069'], 'CYTOBAND': [nan, nan, nan, 'hs|7q31.31', 'hs|Xp11.4'], 'DESCRIPTION': [nan, nan, nan, 'Homo sapiens cadherin-like and PC-esterase domain containing 1 (CPED1), transcript variant 2, mRNA [NM_001105533]', 'BCL6 corepressor [Source:HGNC Symbol;Acc:HGNC:20893] [ENST00000378463]'], 'GO_ID': [nan, nan, nan, 'GO:0005783(endoplasmic reticulum)', 'GO:0000122(negative regulation of transcription from RNA polymerase II promoter)|GO:0000415(negative regulation of histone H3-K36 methylation)|GO:0003714(transcription corepressor activity)|GO:0004842(ubiquitin-protein ligase activity)|GO:0005515(protein binding)|GO:0005634(nucleus)|GO:0006351(transcription, DNA-dependent)|GO:0007507(heart development)|GO:0008134(transcription factor binding)|GO:0030502(negative regulation of bone mineralization)|GO:0031072(heat shock protein binding)|GO:0031519(PcG protein complex)|GO:0035518(histone H2A monoubiquitination)|GO:0042476(odontogenesis)|GO:0042826(histone deacetylase binding)|GO:0044212(transcription regulatory region DNA binding)|GO:0045892(negative regulation of transcription, DNA-dependent)|GO:0051572(negative regulation of histone H3-K4 methylation)|GO:0060021(palate development)|GO:0065001(specification of axis polarity)|GO:0070171(negative regulation of tooth mineralization)'], 'SEQUENCE': [nan, nan, 'AATACATGTTTTGGTAAACACTCGGTCAGAGCACCCTCTTTCTGTGGAATCAGACTGGCA', 'GCTTATCTCACCTAATACAGGGACTATGCAACCAAGAAACTGGAAATAAAAACAAAGATA', 'CATCAAAGCTACGAGAGATCCTACACACCCAGATTTAAAAAATAATAAAAACTTAAGGGC'], 'SPOT_ID': ['GE_BrightCorner', 'DarkCorner', 'A_21_P0014386', 'A_33_P3396872', 'A_33_P3267760']}\n"
     ]
    }
   ],
   "source": [
    "# 1. Use the 'get_gene_annotation' function from the library to get gene annotation data from the soft file.\n",
    "gene_annotation = get_gene_annotation(soft_file)\n",
    "\n",
    "# 2. Use the 'preview_df' function from the library to preview the data and print out the results.\n",
    "print(\"Gene annotation preview:\")\n",
    "print(preview_df(gene_annotation))\n"
   ]
  },
  {
   "cell_type": "markdown",
   "id": "f6bde3bc",
   "metadata": {},
   "source": [
    "### Step 6: Gene Identifier Mapping"
   ]
  },
  {
   "cell_type": "code",
   "execution_count": 7,
   "id": "5d2b9d60",
   "metadata": {
    "execution": {
     "iopub.execute_input": "2024-06-12T08:37:42.803124Z",
     "iopub.status.busy": "2024-06-12T08:37:42.803009Z",
     "iopub.status.idle": "2024-06-12T08:37:43.124334Z",
     "shell.execute_reply": "2024-06-12T08:37:43.123788Z"
    }
   },
   "outputs": [],
   "source": [
    "# 1. Determine the keys for identifiers and gene symbols\n",
    "identifier_key = 'ID'\n",
    "gene_symbol_key = 'GENE_SYMBOL'\n",
    "\n",
    "# 2. Get the dataframe storing the mapping between probe IDs and genes\n",
    "mapping_df = get_gene_mapping(gene_annotation, identifier_key, gene_symbol_key)\n",
    "\n",
    "# 3. Apply the mapping to get the gene expression dataframe\n",
    "gene_data = apply_gene_mapping(gene_data, mapping_df)\n"
   ]
  },
  {
   "cell_type": "markdown",
   "id": "03256fd1",
   "metadata": {},
   "source": [
    "### Step 7: Data Normalization and Merging"
   ]
  },
  {
   "cell_type": "code",
   "execution_count": 8,
   "id": "4ff6f48c",
   "metadata": {
    "execution": {
     "iopub.execute_input": "2024-06-12T08:37:43.126518Z",
     "iopub.status.busy": "2024-06-12T08:37:43.126360Z",
     "iopub.status.idle": "2024-06-12T08:38:35.321555Z",
     "shell.execute_reply": "2024-06-12T08:38:35.320904Z"
    }
   },
   "outputs": [
    {
     "name": "stdout",
     "output_type": "stream",
     "text": [
      "For the feature 'Multiple_Chemical_Sensitivity', the least common label is '0.0' with 36 occurrences. This represents 35.29% of the dataset.\n",
      "The distribution of the feature 'Multiple_Chemical_Sensitivity' in this dataset is fine.\n",
      "\n",
      "Quartiles for 'Age':\n",
      "  25%: 40.58\n",
      "  50% (Median): 47.0\n",
      "  75%: 52.75\n",
      "Min: 18.42\n",
      "Max: 64.67\n",
      "The distribution of the feature 'Age' in this dataset is fine.\n",
      "\n",
      "A new JSON file was created at: ./preprocessed/Multiple_Chemical_Sensitivity/cohort_info.json\n"
     ]
    }
   ],
   "source": [
    "# 1. Normalize the obtained gene data with the 'normalize_gene_symbols_in_index' function from the library.\n",
    "normalized_gene_data = normalize_gene_symbols_in_index(gene_data)\n",
    "gene_csv_path = './preprocessed/Multiple_Chemical_Sensitivity/gene_data/GSE182503.csv'\n",
    "normalized_gene_data.to_csv(gene_csv_path)\n",
    "\n",
    "# 2. Merge the clinical and genetic data with the 'geo_merge_clinical_genetic_data' function from the library.\n",
    "merged_data = geo_merge_clinical_genetic_data(selected_clinical_data, normalized_gene_data)\n",
    "\n",
    "# 3. Determine whether the trait and some demographic attributes in the data is severely biased, and remove biased attributes.\n",
    "trait_biased, unbiased_merged_data = judge_and_remove_biased_features(merged_data, 'Multiple_Chemical_Sensitivity')\n",
    "\n",
    "# 4. Save the cohort information.\n",
    "save_cohort_info('GSE182503', './preprocessed/Multiple_Chemical_Sensitivity/cohort_info.json', True, True, trait_biased, merged_data)\n",
    "\n",
    "# 5. If the trait is not severely biased, save the merged data to a csv file.\n",
    "if not trait_biased:\n",
    "    csv_path = './preprocessed/Multiple_Chemical_Sensitivity/GSE182503.csv'\n",
    "    unbiased_merged_data.to_csv(csv_path)\n"
   ]
  }
 ],
 "metadata": {
  "language_info": {
   "codemirror_mode": {
    "name": "ipython",
    "version": 3
   },
   "file_extension": ".py",
   "mimetype": "text/x-python",
   "name": "python",
   "nbconvert_exporter": "python",
   "pygments_lexer": "ipython3",
   "version": "3.8.17"
  }
 },
 "nbformat": 4,
 "nbformat_minor": 5
}
