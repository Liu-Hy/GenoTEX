{
 "cells": [
  {
   "cell_type": "code",
   "execution_count": 1,
   "id": "bbcad1b5",
   "metadata": {
    "execution": {
     "iopub.execute_input": "2024-06-12T08:38:36.177849Z",
     "iopub.status.busy": "2024-06-12T08:38:36.177636Z",
     "iopub.status.idle": "2024-06-12T08:38:36.184796Z",
     "shell.execute_reply": "2024-06-12T08:38:36.184222Z"
    }
   },
   "outputs": [],
   "source": [
    "\n",
    "import sys\n",
    "sys.path.append('/home/techt/Desktop/a4s')\n"
   ]
  },
  {
   "cell_type": "markdown",
   "id": "9be4cac4",
   "metadata": {},
   "source": [
    "### Step 1: Initial Data Loading"
   ]
  },
  {
   "cell_type": "code",
   "execution_count": 2,
   "id": "51ea7c02",
   "metadata": {
    "execution": {
     "iopub.execute_input": "2024-06-12T08:38:36.187849Z",
     "iopub.status.busy": "2024-06-12T08:38:36.187480Z",
     "iopub.status.idle": "2024-06-12T08:38:36.557769Z",
     "shell.execute_reply": "2024-06-12T08:38:36.557344Z"
    }
   },
   "outputs": [
    {
     "name": "stdout",
     "output_type": "stream",
     "text": [
      "Background Information:\n",
      "!Series_title\t\"Transcriptomic profiling of adult-onset asthma related to damp and moldy buildings and idiopathic environmental intolerance [nasal biopsy]\"\n",
      "!Series_summary\t\"The objective of the study was to characterize distinct endotypes of asthma related to damp and moldy buildings and to evaluate the potential molecular similarities with idiopathic environmental intolerance (IEI). The nasal biopsy transcriptome of 88 study subjects was profiled using samples obtained at baseline.\"\n",
      "!Series_overall_design\t\"Nasal biopsy samples were collected from female adult-onset asthma patients (n=45), IEI patients (n=14) and healthy subjects (n=21) yielding 80 study subjects. Biopsies were homogenized and total RNA extracted for microarray analyses.\"\n",
      "Sample Characteristics Dictionary:\n",
      "{0: ['diagnosis: healthy', 'diagnosis: adult-onset asthma', 'diagnosis: IEI'], 1: ['gender: Female'], 2: ['age: 38.33', 'age: 38.08', 'age: 48.83', 'age: 33.42', 'age: 46.08', 'age: 45.58', 'age: 28', 'age: 30.83', 'age: 39.25', 'age: 60.17', 'age: 52.75', 'age: 25.75', 'age: 60.67', 'age: 64.67', 'age: 54.83', 'age: 57.67', 'age: 47', 'age: 47.5', 'age: 24.25', 'age: 47.67', 'age: 47.58', 'age: 18.42', 'age: 41.33', 'age: 24.5', 'age: 47.08', 'age: 41.17', 'age: 47.17', 'age: 59.83', 'age: 42.58', 'age: 56.67'], 3: ['tissue: Nasal biopsy'], 4: ['subject: 605', 'subject: 611', 'subject: 621', 'subject: 35', 'subject: 11', 'subject: 1', 'subject: 601', 'subject: 54', 'subject: 68_A', 'subject: 55', 'subject: 44', 'subject: 603_A', 'subject: 63', 'subject: 39', 'subject: 13', 'subject: 3', 'subject: 619', 'subject: 58', 'subject: 79', 'subject: 77', 'subject: 41', 'subject: 624', 'subject: 37_A', 'subject: 61', 'subject: 31', 'subject: 25', 'subject: 617', 'subject: 65', 'subject: 81', 'subject: 82']}\n"
     ]
    }
   ],
   "source": [
    "from utils.preprocess import *\n",
    "# 1. Identify the paths to the soft file and the matrix file\n",
    "cohort_dir = '/media/techt/DATA/GEO/Multiple_Chemical_Sensitivity/GSE182797'\n",
    "soft_file, matrix_file = geo_get_relevant_filepaths(cohort_dir)\n",
    "\n",
    "# 2. Read the matrix file to obtain background information and sample characteristics data\n",
    "background_prefixes = ['!Series_title', '!Series_summary', '!Series_overall_design']\n",
    "clinical_prefixes = ['!Sample_geo_accession', '!Sample_characteristics_ch1']\n",
    "background_info, clinical_data = get_background_and_clinical_data(matrix_file, background_prefixes, clinical_prefixes)\n",
    "\n",
    "# 3. Obtain the sample characteristics dictionary from the clinical dataframe\n",
    "sample_characteristics_dict = get_unique_values_by_row(clinical_data)\n",
    "\n",
    "# 4. Explicitly print out all the background information and the sample characteristics dictionary\n",
    "print(\"Background Information:\")\n",
    "print(background_info)\n",
    "print(\"Sample Characteristics Dictionary:\")\n",
    "print(sample_characteristics_dict)\n"
   ]
  },
  {
   "cell_type": "markdown",
   "id": "c542674f",
   "metadata": {},
   "source": [
    "### Step 2: Dataset Analysis and Clinical Feature Extraction"
   ]
  },
  {
   "cell_type": "code",
   "execution_count": 3,
   "id": "cec78825",
   "metadata": {
    "execution": {
     "iopub.execute_input": "2024-06-12T08:38:36.559538Z",
     "iopub.status.busy": "2024-06-12T08:38:36.559420Z",
     "iopub.status.idle": "2024-06-12T08:38:36.563144Z",
     "shell.execute_reply": "2024-06-12T08:38:36.562830Z"
    }
   },
   "outputs": [],
   "source": [
    "is_gene_available = True\n",
    "trait_row = age_row = gender_row = None  # set to different values when applicable\n",
    "convert_trait = convert_age = convert_gender = None  # define the functions when applicable\n",
    "\n",
    "# Check for the availability of each variable\n",
    "trait_row = None  # No clear marker for Multiple_Chemical_Sensitivity in sample characteristics\n",
    "age_row = 2  # Age data is available under key 2\n",
    "gender_row = None  # Gender data is Female for all, hence not useful\n",
    "\n",
    "# Define conversion functions\n",
    "def convert_trait(value):\n",
    "    return None  # No conversion function since trait data is not available\n",
    "\n",
    "def convert_age(value):\n",
    "    try:\n",
    "        age = float(value.split(':')[1].strip())\n",
    "        return age\n",
    "    except:\n",
    "        return None  # Return None for any parsing errors or invalid formats\n",
    "\n",
    "def convert_gender(value):\n",
    "    return None  # Gender data is uniformly female and hence not useful\n",
    "\n",
    "# Save cohort info\n",
    "save_cohort_info('GSE182797', './preprocessed/Multiple_Chemical_Sensitivity/cohort_info.json', is_gene_available, trait_row is not None)\n",
    "\n",
    "# Since trait_row is None, we do not perform clinical feature extraction\n"
   ]
  }
 ],
 "metadata": {
  "language_info": {
   "codemirror_mode": {
    "name": "ipython",
    "version": 3
   },
   "file_extension": ".py",
   "mimetype": "text/x-python",
   "name": "python",
   "nbconvert_exporter": "python",
   "pygments_lexer": "ipython3",
   "version": "3.8.17"
  }
 },
 "nbformat": 4,
 "nbformat_minor": 5
}
