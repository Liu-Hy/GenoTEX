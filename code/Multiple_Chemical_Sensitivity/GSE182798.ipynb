{
 "cells": [
  {
   "cell_type": "code",
   "execution_count": 1,
   "id": "75375eb3",
   "metadata": {
    "execution": {
     "iopub.execute_input": "2024-06-12T08:38:37.582520Z",
     "iopub.status.busy": "2024-06-12T08:38:37.582347Z",
     "iopub.status.idle": "2024-06-12T08:38:37.587743Z",
     "shell.execute_reply": "2024-06-12T08:38:37.587352Z"
    }
   },
   "outputs": [],
   "source": [
    "\n",
    "import sys\n",
    "sys.path.append('/home/techt/Desktop/a4s')\n"
   ]
  },
  {
   "cell_type": "markdown",
   "id": "90735e01",
   "metadata": {},
   "source": [
    "### Step 1: Initial Data Loading"
   ]
  },
  {
   "cell_type": "code",
   "execution_count": 2,
   "id": "cfad82e8",
   "metadata": {
    "execution": {
     "iopub.execute_input": "2024-06-12T08:38:37.590237Z",
     "iopub.status.busy": "2024-06-12T08:38:37.589934Z",
     "iopub.status.idle": "2024-06-12T08:38:38.039157Z",
     "shell.execute_reply": "2024-06-12T08:38:38.038784Z"
    }
   },
   "outputs": [
    {
     "name": "stdout",
     "output_type": "stream",
     "text": [
      "Background Information:\n",
      "!Series_title\t\"Transcriptomic profiling of adult-onset asthma related to damp and moldy buildings and idiopathic environmental intolerance\"\n",
      "!Series_summary\t\"This SuperSeries is composed of the SubSeries listed below.\"\n",
      "!Series_overall_design\t\"Refer to individual Series\"\n",
      "Sample Characteristics Dictionary:\n",
      "{0: ['diagnosis: adult-onset asthma', 'diagnosis: IEI', 'diagnosis: healthy'], 1: ['gender: Female'], 2: ['age: 33.42', 'age: 46.08', 'age: 45.58', 'age: 28', 'age: 25.75', 'age: 59.83', 'age: 41.17', 'age: 47.58', 'age: 50.75', 'age: 42.58', 'age: 52.75', 'age: 51.75', 'age: 18.42', 'age: 47', 'age: 38.33', 'age: 58.58', 'age: 56.17', 'age: 40.67', 'age: 47.5', 'age: 54.67', 'age: 48.83', 'age: 64.67', 'age: 54.83', 'age: 57.67', 'age: 39.17', 'age: 38.08', 'age: 28.42', 'age: 40.75', 'age: 43.17', 'age: 43.08'], 3: ['cell type: PBMC', 'tissue: Nasal biopsy'], 4: [nan, 'subject: 605', 'subject: 611', 'subject: 621', 'subject: 35', 'subject: 11', 'subject: 1', 'subject: 601', 'subject: 54', 'subject: 68_A', 'subject: 55', 'subject: 44', 'subject: 603_A', 'subject: 63', 'subject: 39', 'subject: 13', 'subject: 3', 'subject: 619', 'subject: 58', 'subject: 79', 'subject: 77', 'subject: 41', 'subject: 624', 'subject: 37_A', 'subject: 61', 'subject: 31', 'subject: 25', 'subject: 617', 'subject: 65', 'subject: 81']}\n"
     ]
    }
   ],
   "source": [
    "from utils.preprocess import *\n",
    "# 1. Identify the paths to the soft file and the matrix file\n",
    "cohort_dir = '/media/techt/DATA/GEO/Multiple_Chemical_Sensitivity/GSE182798'\n",
    "soft_file, matrix_file = geo_get_relevant_filepaths(cohort_dir)\n",
    "\n",
    "# 2. Read the matrix file to obtain background information and sample characteristics data\n",
    "background_prefixes = ['!Series_title', '!Series_summary', '!Series_overall_design']\n",
    "clinical_prefixes = ['!Sample_geo_accession', '!Sample_characteristics_ch1']\n",
    "background_info, clinical_data = get_background_and_clinical_data(matrix_file, background_prefixes, clinical_prefixes)\n",
    "\n",
    "# 3. Obtain the sample characteristics dictionary from the clinical dataframe\n",
    "sample_characteristics_dict = get_unique_values_by_row(clinical_data)\n",
    "\n",
    "# 4. Explicitly print out all the background information and the sample characteristics dictionary\n",
    "print(\"Background Information:\")\n",
    "print(background_info)\n",
    "print(\"Sample Characteristics Dictionary:\")\n",
    "print(sample_characteristics_dict)\n"
   ]
  },
  {
   "cell_type": "markdown",
   "id": "34ce0a91",
   "metadata": {},
   "source": [
    "### Step 2: Dataset Analysis and Clinical Feature Extraction"
   ]
  },
  {
   "cell_type": "code",
   "execution_count": 3,
   "id": "5c52b33a",
   "metadata": {
    "execution": {
     "iopub.execute_input": "2024-06-12T08:38:38.041314Z",
     "iopub.status.busy": "2024-06-12T08:38:38.041156Z",
     "iopub.status.idle": "2024-06-12T08:38:38.045153Z",
     "shell.execute_reply": "2024-06-12T08:38:38.044866Z"
    }
   },
   "outputs": [],
   "source": [
    "is_gene_available = False\n",
    "trait_row = age_row = gender_row = None  # set to different values when applicable\n",
    "convert_trait = convert_age = convert_gender = None  # define the functions when applicable\n",
    "\n",
    "# Check for gene expression data availability\n",
    "is_gene_available = True  # Based on the provided title and summary that imply transcriptomic profiling\n",
    "\n",
    "# Data Availability\n",
    "trait_row = None  # No clear evidence for 'Multiple_Chemical_Sensitivity' (IEI is close but not certain)\n",
    "age_row = 2  # Age data observed in key 2\n",
    "gender_row = 1  # Gender data observed in key 1 (constant 'Female')\n",
    "\n",
    "# Data Type Conversion Functions\n",
    "def convert_trait(value):\n",
    "    return None  # Since trait data is not available\n",
    "\n",
    "def convert_age(value):\n",
    "    try:\n",
    "        return float(value.split(\":\")[1].strip())\n",
    "    except:\n",
    "        return None\n",
    "\n",
    "def convert_gender(value):\n",
    "    try:\n",
    "        gender = value.split(\":\")[1].strip().lower()\n",
    "        return 0 if gender == 'female' else 1 if gender == 'male' else None\n",
    "    except:\n",
    "        return None\n",
    "\n",
    "# Save cohort information\n",
    "save_cohort_info('GSE182798', './preprocessed/Multiple_Chemical_Sensitivity/cohort_info.json', is_gene_available, trait_row is not None)\n",
    "\n",
    "# Clinical Feature Extraction\n",
    "# Skipping this step as trait_row is None\n"
   ]
  }
 ],
 "metadata": {
  "language_info": {
   "codemirror_mode": {
    "name": "ipython",
    "version": 3
   },
   "file_extension": ".py",
   "mimetype": "text/x-python",
   "name": "python",
   "nbconvert_exporter": "python",
   "pygments_lexer": "ipython3",
   "version": "3.8.17"
  }
 },
 "nbformat": 4,
 "nbformat_minor": 5
}
