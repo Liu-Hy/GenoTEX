{
 "cells": [
  {
   "cell_type": "code",
   "execution_count": 1,
   "id": "7c174768",
   "metadata": {
    "execution": {
     "iopub.execute_input": "2024-06-12T09:28:03.509501Z",
     "iopub.status.busy": "2024-06-12T09:28:03.509292Z",
     "iopub.status.idle": "2024-06-12T09:28:03.516108Z",
     "shell.execute_reply": "2024-06-12T09:28:03.515574Z"
    }
   },
   "outputs": [],
   "source": [
    "\n",
    "import sys\n",
    "sys.path.append('/home/techt/Desktop/a4s')\n"
   ]
  },
  {
   "cell_type": "markdown",
   "id": "efd457e8",
   "metadata": {},
   "source": [
    "### Step 1: Initial Data Loading"
   ]
  },
  {
   "cell_type": "code",
   "execution_count": 2,
   "id": "4bfb3966",
   "metadata": {
    "execution": {
     "iopub.execute_input": "2024-06-12T09:28:03.518767Z",
     "iopub.status.busy": "2024-06-12T09:28:03.518561Z",
     "iopub.status.idle": "2024-06-12T09:28:04.070691Z",
     "shell.execute_reply": "2024-06-12T09:28:04.070301Z"
    }
   },
   "outputs": [
    {
     "name": "stdout",
     "output_type": "stream",
     "text": [
      "Background Information:\n",
      "!Series_title\t\"A meta-analysis of two high-risk prospective studies reveals autism-specific transcriptional changes to chromatin, autoimmune, and environmental response genes in umbilical cord blood\"\n",
      "!Series_summary\t\"Autism spectrum disorder (ASD) is a neurodevelopmental disorder that affects more than 1% of children in the USA. ASD risk is thought to arise from both genetic and environmental factors, with the perinatal period as a critical window. Understanding early transcriptional changes in ASD would assist in clarifying disease pathogenesis and identifying biomarkers. However, little is known about umbilical cord blood gene expression profiles in babies later diagnosed with ASD compared to non-typically developing and non-ASD (Non-TD) or typically developing (TD) children. Genome-wide transcript levels were measured by Affymetrix Human Gene 2.0 array in RNA from cord blood samples from both the Markers of Autism Risk in Babies-Learning Early Signs (MARBLES) and the Early Autism Risk Longitudinal Investigation (EARLI) high-risk pregnancy cohorts that enroll younger siblings of a child previously diagnosed with ASD. Younger siblings were diagnosed based on assessments at 36 months, and 59 ASD, 92 Non-TD, and 120 TD subjects were included. Using both differential expression analysis and weighted gene correlation network analysis, gene expression between ASD and TD, and between Non-TD and TD, was compared within each study and via meta-analysis. While cord blood gene expression differences comparing either ASD or Non-TD to TD did not reach genome- wide significance, 172 genes were nominally differentially expressed between ASD and TD cord blood (log2(fold change) > 0.1, p < 0.01). These genes were significantly enriched for functions in xenobiotic metabolism, chromatin regulation, and systemic lupus erythematosus (FDR q < 0.05). In contrast, 66 genes were nominally differentially expressed between Non-TD and TD, including 8 genes that were also differentially expressed in ASD. Gene coexpression modules were significantly correlated with demographic factors and cell type proportions. ASD-associated gene expression differences identified in this study are subtle, as cord blood is not the main affected tissue, it is composed of many cell types, and ASD is a heterogeneous disorder. This is the first study to identify gene expression differences in cord blood specific to ASD through a meta- analysis across two prospective pregnancy cohorts. The enriched gene pathways support involvement of environmental, immune, and epigenetic mechanisms in ASD etiology.\"\n",
      "!Series_overall_design\t\"Genome-wide transcript levels were measured by Affymetrix Human Gene 2.0 array in umbilical cord blood samples from both the Early Autism Risk Longitudinal Investigation (EARLI) and the Markers of Autism Risk in Babies--Learning Early Signs (MARBLES) studies, which are high-risk pregnancy cohorts of mothers with a child previously diagnosed with ASD. An algorithm-based child diagnosis was based on 36 month assessments, categorized as either ASD, typical development (TD), or not ASD but non-typical (Non-TD). RNA from a total of 59 ASD, 92 Non-TD, and 120 TD subjects were included and differences were analyzed by comparing ASD versus TD subjects, with Non-TD versus TD as a specificity control.\"\n",
      "!Series_overall_design\t\"Note: only files from those who consented to share data were uploaded.\"\n",
      "Sample Characteristics Dictionary:\n",
      "{0: ['diagnosis: ASD', 'diagnosis: Non-TD', 'diagnosis: TD'], 1: ['Sex: female', 'Sex: male'], 2: ['study: MARBLES', 'study: EARLI'], 3: ['array batch: MARBLES_2', 'array batch: MARBLES_3', 'array batch: EARLI_1', 'array batch: EARLI_7', 'array batch: EARLI_10', 'array batch: MARBLES_1', 'array batch: EARLI_2', 'array batch: EARLI_3', 'array batch: EARLI_5', 'array batch: EARLI_6', 'array batch: EARLI_8', 'array batch: EARLI_9', 'array batch: EARLI_4']}\n"
     ]
    }
   ],
   "source": [
    "from utils.preprocess import *\n",
    "# 1. Identify the paths to the soft file and the matrix file\n",
    "cohort_dir = '/media/techt/DATA/GEO/Autism_spectrum_disorder_(ASD)/GSE123302'\n",
    "soft_file, matrix_file = geo_get_relevant_filepaths(cohort_dir)\n",
    "\n",
    "# 2. Read the matrix file to obtain background information and sample characteristics data\n",
    "background_prefixes = ['!Series_title', '!Series_summary', '!Series_overall_design']\n",
    "clinical_prefixes = ['!Sample_geo_accession', '!Sample_characteristics_ch1']\n",
    "background_info, clinical_data = get_background_and_clinical_data(matrix_file, background_prefixes, clinical_prefixes)\n",
    "\n",
    "# 3. Obtain the sample characteristics dictionary from the clinical dataframe\n",
    "sample_characteristics_dict = get_unique_values_by_row(clinical_data)\n",
    "\n",
    "# 4. Explicitly print out all the background information and the sample characteristics dictionary\n",
    "print(\"Background Information:\")\n",
    "print(background_info)\n",
    "print(\"Sample Characteristics Dictionary:\")\n",
    "print(sample_characteristics_dict)\n"
   ]
  },
  {
   "cell_type": "markdown",
   "id": "8d8cd4e7",
   "metadata": {},
   "source": [
    "### Step 2: Dataset Analysis and Clinical Feature Extraction"
   ]
  },
  {
   "cell_type": "code",
   "execution_count": 3,
   "id": "8127f864",
   "metadata": {
    "execution": {
     "iopub.execute_input": "2024-06-12T09:28:04.072540Z",
     "iopub.status.busy": "2024-06-12T09:28:04.072420Z",
     "iopub.status.idle": "2024-06-12T09:28:04.103251Z",
     "shell.execute_reply": "2024-06-12T09:28:04.102944Z"
    }
   },
   "outputs": [
    {
     "name": "stdout",
     "output_type": "stream",
     "text": [
      "{'GSM3499537': [1, 0], 'GSM3499538': [1, 0], 'GSM3499539': [1, 0], 'GSM3499540': [1, 0], 'GSM3499541': [1, 0], 'GSM3499542': [1, 0], 'GSM3499543': [1, 0], 'GSM3499544': [1, 0], 'GSM3499545': [1, 0], 'GSM3499546': [1, 0], 'GSM3499547': [1, 0], 'GSM3499548': [1, 0], 'GSM3499549': [1, 0], 'GSM3499550': [1, 0], 'GSM3499551': [1, 0], 'GSM3499552': [1, 0], 'GSM3499553': [1, 1], 'GSM3499554': [1, 1], 'GSM3499555': [1, 1], 'GSM3499556': [1, 1], 'GSM3499557': [1, 1], 'GSM3499558': [1, 1], 'GSM3499559': [1, 1], 'GSM3499560': [1, 1], 'GSM3499561': [1, 1], 'GSM3499562': [1, 1], 'GSM3499563': [1, 1], 'GSM3499564': [1, 1], 'GSM3499565': [1, 1], 'GSM3499566': [1, 1], 'GSM3499567': [1, 1], 'GSM3499568': [1, 1], 'GSM3499569': [1, 1], 'GSM3499570': [1, 1], 'GSM3499571': [1, 1], 'GSM3499572': [1, 1], 'GSM3499573': [1, 1], 'GSM3499574': [1, 1], 'GSM3499575': [1, 1], 'GSM3499576': [1, 1], 'GSM3499577': [1, 1], 'GSM3499578': [1, 1], 'GSM3499579': [1, 1], 'GSM3499580': [1, 1], 'GSM3499581': [1, 1], 'GSM3499582': [1, 1], 'GSM3499583': [1, 1], 'GSM3499584': [1, 1], 'GSM3499585': [1, 1], 'GSM3499586': [1, 1], 'GSM3499587': [1, 1], 'GSM3499588': [1, 1], 'GSM3499589': [1, 1], 'GSM3499590': [0, 0], 'GSM3499591': [0, 0], 'GSM3499592': [0, 0], 'GSM3499593': [0, 0], 'GSM3499594': [0, 0], 'GSM3499595': [0, 0], 'GSM3499596': [0, 0], 'GSM3499597': [0, 0], 'GSM3499598': [0, 0], 'GSM3499599': [0, 0], 'GSM3499600': [0, 0], 'GSM3499601': [0, 0], 'GSM3499602': [0, 0], 'GSM3499603': [0, 0], 'GSM3499604': [0, 0], 'GSM3499605': [0, 0], 'GSM3499606': [0, 0], 'GSM3499607': [0, 0], 'GSM3499608': [0, 0], 'GSM3499609': [0, 0], 'GSM3499610': [0, 0], 'GSM3499611': [0, 0], 'GSM3499612': [0, 0], 'GSM3499613': [0, 0], 'GSM3499614': [0, 0], 'GSM3499615': [0, 0], 'GSM3499616': [0, 0], 'GSM3499617': [0, 0], 'GSM3499618': [0, 0], 'GSM3499619': [0, 0], 'GSM3499620': [0, 0], 'GSM3499621': [0, 0], 'GSM3499622': [0, 0], 'GSM3499623': [0, 0], 'GSM3499624': [0, 0], 'GSM3499625': [0, 0], 'GSM3499626': [0, 0], 'GSM3499627': [0, 1], 'GSM3499628': [0, 1], 'GSM3499629': [0, 1], 'GSM3499630': [0, 1], 'GSM3499631': [0, 1], 'GSM3499632': [0, 1], 'GSM3499633': [0, 1], 'GSM3499634': [0, 1], 'GSM3499635': [0, 1], 'GSM3499636': [0, 1], 'GSM3499637': [0, 1], 'GSM3499638': [0, 1], 'GSM3499639': [0, 1], 'GSM3499640': [0, 1], 'GSM3499641': [0, 1], 'GSM3499642': [0, 1], 'GSM3499643': [0, 1], 'GSM3499644': [0, 1], 'GSM3499645': [0, 1], 'GSM3499646': [0, 1], 'GSM3499647': [0, 1], 'GSM3499648': [0, 1], 'GSM3499649': [0, 1], 'GSM3499650': [0, 1], 'GSM3499651': [0, 1], 'GSM3499652': [0, 1], 'GSM3499653': [0, 1], 'GSM3499654': [0, 1], 'GSM3499655': [0, 1], 'GSM3499656': [0, 1], 'GSM3499657': [0, 1], 'GSM3499658': [0, 1], 'GSM3499659': [0, 1], 'GSM3499660': [0, 1], 'GSM3499661': [0, 1], 'GSM3499662': [0, 1], 'GSM3499663': [0, 1], 'GSM3499664': [0, 1], 'GSM3499665': [0, 1], 'GSM3499666': [0, 1], 'GSM3499667': [0, 1], 'GSM3499668': [0, 1], 'GSM3499669': [0, 1], 'GSM3499670': [0, 0], 'GSM3499671': [0, 0], 'GSM3499672': [0, 0], 'GSM3499673': [0, 0], 'GSM3499674': [0, 0], 'GSM3499675': [0, 0], 'GSM3499676': [0, 0], 'GSM3499677': [0, 0], 'GSM3499678': [0, 0], 'GSM3499679': [0, 0], 'GSM3499680': [0, 0], 'GSM3499681': [0, 0], 'GSM3499682': [0, 0], 'GSM3499683': [0, 0], 'GSM3499684': [0, 0], 'GSM3499685': [0, 0], 'GSM3499686': [0, 0], 'GSM3499687': [0, 0], 'GSM3499688': [0, 0], 'GSM3499689': [0, 0], 'GSM3499690': [0, 0], 'GSM3499691': [0, 0], 'GSM3499692': [0, 0], 'GSM3499693': [0, 0], 'GSM3499694': [0, 0], 'GSM3499695': [0, 0], 'GSM3499696': [0, 0], 'GSM3499697': [0, 0], 'GSM3499698': [0, 0], 'GSM3499699': [0, 0], 'GSM3499700': [0, 0], 'GSM3499701': [0, 0], 'GSM3499702': [0, 0], 'GSM3499703': [0, 0], 'GSM3499704': [0, 0], 'GSM3499705': [0, 0], 'GSM3499706': [0, 0], 'GSM3499707': [0, 0], 'GSM3499708': [0, 0], 'GSM3499709': [0, 0], 'GSM3499710': [0, 0], 'GSM3499711': [0, 0], 'GSM3499712': [0, 0], 'GSM3499713': [0, 0], 'GSM3499714': [0, 0], 'GSM3499715': [0, 1], 'GSM3499716': [0, 1], 'GSM3499717': [0, 1], 'GSM3499718': [0, 1], 'GSM3499719': [0, 1], 'GSM3499720': [0, 1], 'GSM3499721': [0, 1], 'GSM3499722': [0, 1], 'GSM3499723': [0, 1], 'GSM3499724': [0, 1], 'GSM3499725': [0, 1], 'GSM3499726': [0, 1], 'GSM3499727': [0, 1], 'GSM3499728': [0, 1], 'GSM3499729': [0, 1], 'GSM3499730': [0, 1], 'GSM3499731': [0, 1], 'GSM3499732': [0, 1], 'GSM3499733': [0, 1], 'GSM3499734': [0, 1], 'GSM3499735': [0, 1], 'GSM3499736': [0, 1]}\n"
     ]
    }
   ],
   "source": [
    "is_gene_available = True\n",
    "trait_row = 0\n",
    "age_row = None\n",
    "gender_row = 1\n",
    "\n",
    "def convert_trait(value):\n",
    "    parts = value.split(':')\n",
    "    if len(parts) != 2:\n",
    "        return None\n",
    "    diagnosis = parts[1].strip()\n",
    "    if diagnosis == 'ASD':\n",
    "        return 1\n",
    "    elif diagnosis in ['Non-TD', 'TD']:  # Return a proper value or None if not needed\n",
    "        return 0\n",
    "    else:\n",
    "        return None\n",
    "\n",
    "def convert_gender(value):\n",
    "    parts = value.split(':')\n",
    "    if len(parts) != 2:\n",
    "        return None\n",
    "    gender = parts[1].strip().lower()\n",
    "    if gender == 'female':\n",
    "        return 0\n",
    "    elif gender == 'male':\n",
    "        return 1\n",
    "    else:\n",
    "        return None\n",
    "\n",
    "def convert_age(value):\n",
    "    return None  # Placeholder since age data is not available\n",
    "\n",
    "save_cohort_info('GSE123302', './preprocessed/Autism_spectrum_disorder_(ASD)/cohort_info.json', is_gene_available, trait_row is not None)\n",
    "\n",
    "if trait_row is not None:\n",
    "    selected_clinical_data = geo_select_clinical_features(clinical_data, 'Autism_spectrum_disorder_(ASD)', trait_row, convert_trait, age_row, convert_age, gender_row, convert_gender)\n",
    "    csv_path = './preprocessed/Autism_spectrum_disorder_(ASD)/trait_data/GSE123302.csv'\n",
    "    selected_clinical_data.to_csv(csv_path)\n",
    "    print(preview_df(selected_clinical_data))\n"
   ]
  },
  {
   "cell_type": "markdown",
   "id": "37f6743f",
   "metadata": {},
   "source": [
    "### Step 3: Gene Data Extraction"
   ]
  },
  {
   "cell_type": "code",
   "execution_count": 4,
   "id": "20198422",
   "metadata": {
    "execution": {
     "iopub.execute_input": "2024-06-12T09:28:04.105721Z",
     "iopub.status.busy": "2024-06-12T09:28:04.105586Z",
     "iopub.status.idle": "2024-06-12T09:28:04.734893Z",
     "shell.execute_reply": "2024-06-12T09:28:04.734509Z"
    }
   },
   "outputs": [
    {
     "name": "stdout",
     "output_type": "stream",
     "text": [
      "Index(['16657436', '16657440', '16657445', '16657447', '16657450', '16657469',\n",
      "       '16657473', '16657476', '16657489', '16657492', '16657502', '16657506',\n",
      "       '16657514', '16657529', '16657534', '16657554', '16657572', '16657594',\n",
      "       '16657598', '16657647'],\n",
      "      dtype='object', name='ID')\n"
     ]
    }
   ],
   "source": [
    "# 1. Use the get_genetic_data function from the library to get the gene_data from the matrix_file previously defined.\n",
    "gene_data = get_genetic_data(matrix_file)\n",
    "\n",
    "# 2. Print the first 20 row ids for the following step.\n",
    "print(gene_data.index[:20])\n"
   ]
  },
  {
   "cell_type": "markdown",
   "id": "2b747e47",
   "metadata": {},
   "source": [
    "### Step 4: Gene Identifier Review"
   ]
  },
  {
   "cell_type": "code",
   "execution_count": 5,
   "id": "14bcac7b",
   "metadata": {
    "execution": {
     "iopub.execute_input": "2024-06-12T09:28:04.737061Z",
     "iopub.status.busy": "2024-06-12T09:28:04.736943Z",
     "iopub.status.idle": "2024-06-12T09:28:04.739028Z",
     "shell.execute_reply": "2024-06-12T09:28:04.738735Z"
    }
   },
   "outputs": [],
   "source": [
    "requires_gene_mapping = True\n"
   ]
  },
  {
   "cell_type": "markdown",
   "id": "a1b85e3c",
   "metadata": {},
   "source": [
    "### Step 5: Gene Annotation (Conditional)"
   ]
  },
  {
   "cell_type": "code",
   "execution_count": 6,
   "id": "d00f4030",
   "metadata": {
    "execution": {
     "iopub.execute_input": "2024-06-12T09:28:04.741003Z",
     "iopub.status.busy": "2024-06-12T09:28:04.740900Z",
     "iopub.status.idle": "2024-06-12T09:28:14.250383Z",
     "shell.execute_reply": "2024-06-12T09:28:14.249990Z"
    }
   },
   "outputs": [
    {
     "name": "stdout",
     "output_type": "stream",
     "text": [
      "Gene annotation preview:\n",
      "{'ID': ['16657436', '16657440', '16657445', '16657447', '16657450'], 'RANGE_STRAND': ['+', '+', '+', '+', '+'], 'RANGE_START': [12190.0, 29554.0, 69091.0, 160446.0, 317811.0], 'RANGE_END': [13639.0, 31109.0, 70008.0, 161525.0, 328581.0], 'total_probes': [25.0, 28.0, 8.0, 13.0, 36.0], 'GB_ACC': ['NR_046018', nan, nan, nan, 'NR_024368'], 'SPOT_ID': ['chr1:12190-13639', 'chr1:29554-31109', 'chr1:69091-70008', 'chr1:160446-161525', 'chr1:317811-328581'], 'RANGE_GB': ['NC_000001.10', 'NC_000001.10', 'NC_000001.10', 'NC_000001.10', 'NC_000001.10']}\n"
     ]
    }
   ],
   "source": [
    "# 1. Use the 'get_gene_annotation' function from the library to get gene annotation data from the soft file.\n",
    "gene_annotation = get_gene_annotation(soft_file)\n",
    "\n",
    "# 2. Use the 'preview_df' function from the library to preview the data and print out the results.\n",
    "print(\"Gene annotation preview:\")\n",
    "print(preview_df(gene_annotation))\n"
   ]
  },
  {
   "cell_type": "markdown",
   "id": "60e0c00d",
   "metadata": {},
   "source": [
    "### Step 6: Gene Identifier Mapping"
   ]
  },
  {
   "cell_type": "code",
   "execution_count": 7,
   "id": "56e951e9",
   "metadata": {
    "execution": {
     "iopub.execute_input": "2024-06-12T09:28:14.252905Z",
     "iopub.status.busy": "2024-06-12T09:28:14.252758Z",
     "iopub.status.idle": "2024-06-12T09:28:14.759237Z",
     "shell.execute_reply": "2024-06-12T09:28:14.758824Z"
    }
   },
   "outputs": [],
   "source": [
    "# 1. Identify the keys for mapping\n",
    "identifier_key = 'ID'\n",
    "gene_symbol_key = 'GB_ACC'\n",
    "\n",
    "# 2. Get the dataframe storing the mapping between probe IDs and genes\n",
    "mapping_df = get_gene_mapping(gene_annotation, prob_col=identifier_key, gene_col=gene_symbol_key)\n",
    "\n",
    "# 3. Apply the mapping to get the gene expression dataframe\n",
    "gene_data = apply_gene_mapping(gene_data, mapping_df)\n"
   ]
  },
  {
   "cell_type": "markdown",
   "id": "9888c671",
   "metadata": {},
   "source": [
    "### Step 7: Data Normalization and Merging"
   ]
  },
  {
   "cell_type": "code",
   "execution_count": 8,
   "id": "c6bb7fe5",
   "metadata": {
    "execution": {
     "iopub.execute_input": "2024-06-12T09:28:14.761930Z",
     "iopub.status.busy": "2024-06-12T09:28:14.761792Z",
     "iopub.status.idle": "2024-06-12T09:28:49.327619Z",
     "shell.execute_reply": "2024-06-12T09:28:49.327108Z"
    }
   },
   "outputs": [
    {
     "name": "stdout",
     "output_type": "stream",
     "text": [
      "No gene data in the dataframe\n"
     ]
    }
   ],
   "source": [
    "# 1. Normalize the obtained gene data with the 'normalize_gene_symbols_in_index' function from the library.\n",
    "normalized_gene_data = normalize_gene_symbols_in_index(gene_data)\n",
    "gene_csv_path = './preprocessed/Autism_spectrum_disorder_(ASD)/gene_data/GSE123302.csv'\n",
    "normalized_gene_data.to_csv(gene_csv_path)\n",
    "\n",
    "# 2. Merge the clinical and genetic data with the 'geo_merge_clinical_genetic_data' function from the library.\n",
    "merged_data = geo_merge_clinical_genetic_data(selected_clinical_data, normalized_gene_data)\n",
    "\n",
    "# 3. Determine whether the trait and some demographic attributes in the data is severely biased, and remove biased attributes.\n",
    "trait_biased, unbiased_merged_data = judge_and_remove_biased_features(merged_data, 'Autism_spectrum_disorder_(ASD)')\n",
    "\n",
    "# 4. Save the cohort information.\n",
    "save_cohort_info('GSE123302', './preprocessed/Autism_spectrum_disorder_(ASD)/cohort_info.json', True, True, trait_biased, unbiased_merged_data)\n",
    "\n",
    "# 5. If the trait is not severely biased, save the merged data to a csv file.\n",
    "if not trait_biased:\n",
    "    csv_path = './preprocessed/Autism_spectrum_disorder_(ASD)/GSE123302.csv'\n",
    "    unbiased_merged_data.to_csv(csv_path)\n"
   ]
  }
 ],
 "metadata": {
  "language_info": {
   "codemirror_mode": {
    "name": "ipython",
    "version": 3
   },
   "file_extension": ".py",
   "mimetype": "text/x-python",
   "name": "python",
   "nbconvert_exporter": "python",
   "pygments_lexer": "ipython3",
   "version": "3.8.17"
  }
 },
 "nbformat": 4,
 "nbformat_minor": 5
}
