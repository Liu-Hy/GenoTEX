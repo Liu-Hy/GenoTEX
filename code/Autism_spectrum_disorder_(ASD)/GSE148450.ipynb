{
 "cells": [
  {
   "cell_type": "code",
   "execution_count": 1,
   "id": "4f5b91f1",
   "metadata": {
    "execution": {
     "iopub.execute_input": "2024-06-12T09:28:52.836613Z",
     "iopub.status.busy": "2024-06-12T09:28:52.836270Z",
     "iopub.status.idle": "2024-06-12T09:28:52.841979Z",
     "shell.execute_reply": "2024-06-12T09:28:52.841510Z"
    }
   },
   "outputs": [],
   "source": [
    "\n",
    "import sys\n",
    "sys.path.append('/home/techt/Desktop/a4s')\n"
   ]
  },
  {
   "cell_type": "markdown",
   "id": "e24e9e55",
   "metadata": {},
   "source": [
    "### Step 1: Initial Data Loading"
   ]
  },
  {
   "cell_type": "code",
   "execution_count": 2,
   "id": "50df8d58",
   "metadata": {
    "execution": {
     "iopub.execute_input": "2024-06-12T09:28:52.843949Z",
     "iopub.status.busy": "2024-06-12T09:28:52.843564Z",
     "iopub.status.idle": "2024-06-12T09:28:53.461440Z",
     "shell.execute_reply": "2024-06-12T09:28:53.461048Z"
    }
   },
   "outputs": [
    {
     "name": "stdout",
     "output_type": "stream",
     "text": [
      "Background Information:\n",
      "!Series_title\t\"Expression changes in immune and epigenetic gene pathways associated with nutritional metabolites in maternal blood from pregnancies resulting in autism and atypical neurodevelopment\"\n",
      "!Series_summary\t\"The prenatal period is a critical window to study factors involved in the development of autism spectrum disorder (ASD). Environmental factors, especially in utero nutrition, can interact with genetic risk for ASD, but how specific prenatal nutrients in mothers of children later diagnosed with ASD or non-typical development (Non-TD) associate with gestational gene expression events is poorly understood. Maternal blood collected prospectively during pregnancy provides a new opportunity to gain insights into nutritional effects on gene pathways and neurodevelopment. Using differential gene expression analysis, six transcripts associated with four genes (TGR-AS1, SQSTM1, HLA-C and RFESD) showed genome-wide significance (FDR q < 0.05) with child outcomes. Genes nominally differentially expressed compared to TD (p < 0.05) specifically in ASD, but not Non-TD, significantly overlapped with seven high confidence ASD genes. 218 transcripts in common to ASD and Non-TD differential expression compared to TD were significantly enriched for functions in immune response to interferon-gamma, apoptosis, and metal ion transport. WGCNA identified co-expressed gene modules significantly correlated with 5-MeTHF, folic acid, DMG and betaine. A module enriched in DNA methylation functions showed a protective association with folic acid/5-MeTHF concentrations and ASD risk. Independent of child outcome, maternal plasma betaine and DMG concentrations associated with a block of co-expressed genes enriched for adaptive immune, histone modification, and RNA processing functions. These results support the premise that the prenatal maternal blood transcriptome is a sensitive indicator of gestational nutrition and children’s later neurodevelopmental outcomes.\"\n",
      "!Series_overall_design\t\"Genome-wide transcriptome levels were measured using microarrays in 300 maternal blood samples (including 214 mother given consent forms) from all three trimesters in the Markers of Autism Risk in Babies -Learning Early Signs (MARBLES) study. Sixteen different nutrient metabolites, including folic acid, betaine, 5’-methyltretrahydrofolate (5-MeTHF), and dimethylglycine (DMG) were measured in the same samples. Differential expression analysis and weighted gene correlation network analysis (WGCNA) compared gene expression between children later diagnosed as ASD and typical development (TD), Non-TD and TD, and to nutrient metabolites.\"\n",
      "Sample Characteristics Dictionary:\n",
      "{0: ['diagnosis: ASD', 'diagnosis: NonTD', 'diagnosis: TD'], 1: ['Sex: M', 'Sex: F'], 2: ['study: MARBLES'], 3: ['array batch: 1', 'array batch: 3', 'array batch: 2'], 4: ['nutrient metabolites: Y', 'nutrient metabolites: N']}\n"
     ]
    }
   ],
   "source": [
    "from utils.preprocess import *\n",
    "# 1. Identify the paths to the soft file and the matrix file\n",
    "cohort_dir = '/media/techt/DATA/GEO/Autism_spectrum_disorder_(ASD)/GSE148450'\n",
    "soft_file, matrix_file = geo_get_relevant_filepaths(cohort_dir)\n",
    "\n",
    "# 2. Read the matrix file to obtain background information and sample characteristics data\n",
    "background_prefixes = ['!Series_title', '!Series_summary', '!Series_overall_design']\n",
    "clinical_prefixes = ['!Sample_geo_accession', '!Sample_characteristics_ch1']\n",
    "background_info, clinical_data = get_background_and_clinical_data(matrix_file, background_prefixes, clinical_prefixes)\n",
    "\n",
    "# 3. Obtain the sample characteristics dictionary from the clinical dataframe\n",
    "sample_characteristics_dict = get_unique_values_by_row(clinical_data)\n",
    "\n",
    "# 4. Explicitly print out all the background information and the sample characteristics dictionary\n",
    "print(\"Background Information:\")\n",
    "print(background_info)\n",
    "print(\"Sample Characteristics Dictionary:\")\n",
    "print(sample_characteristics_dict)\n"
   ]
  },
  {
   "cell_type": "markdown",
   "id": "caf565ea",
   "metadata": {},
   "source": [
    "### Step 2: Dataset Analysis and Clinical Feature Extraction"
   ]
  },
  {
   "cell_type": "code",
   "execution_count": 3,
   "id": "1c40e7ac",
   "metadata": {
    "execution": {
     "iopub.execute_input": "2024-06-12T09:28:53.463336Z",
     "iopub.status.busy": "2024-06-12T09:28:53.463197Z",
     "iopub.status.idle": "2024-06-12T09:28:53.492836Z",
     "shell.execute_reply": "2024-06-12T09:28:53.492541Z"
    }
   },
   "outputs": [
    {
     "name": "stdout",
     "output_type": "stream",
     "text": [
      "{'GSM4471661': [1, 1], 'GSM4471662': [1, 1], 'GSM4471663': [1, 1], 'GSM4471664': [1, 1], 'GSM4471665': [1, 1], 'GSM4471666': [1, 1], 'GSM4471667': [1, 1], 'GSM4471668': [1, 1], 'GSM4471669': [1, 1], 'GSM4471670': [1, 0], 'GSM4471671': [1, 0], 'GSM4471672': [1, 1], 'GSM4471673': [1, 1], 'GSM4471674': [1, 1], 'GSM4471675': [1, 1], 'GSM4471676': [1, 1], 'GSM4471677': [1, 1], 'GSM4471678': [1, 1], 'GSM4471679': [1, 1], 'GSM4471680': [1, 1], 'GSM4471681': [1, 0], 'GSM4471682': [1, 1], 'GSM4471683': [1, 1], 'GSM4471684': [1, 1], 'GSM4471685': [1, 1], 'GSM4471686': [1, 0], 'GSM4471687': [1, 1], 'GSM4471688': [1, 1], 'GSM4471689': [1, 1], 'GSM4471690': [1, 1], 'GSM4471691': [1, 0], 'GSM4471692': [1, 0], 'GSM4471693': [1, 1], 'GSM4471694': [1, 0], 'GSM4471695': [1, 0], 'GSM4471696': [1, 1], 'GSM4471697': [1, 1], 'GSM4471698': [1, 1], 'GSM4471699': [1, 1], 'GSM4471700': [1, 0], 'GSM4471701': [1, 0], 'GSM4471702': [1, 0], 'GSM4471703': [1, 1], 'GSM4471704': [1, 1], 'GSM4471705': [1, 1], 'GSM4471706': [1, 1], 'GSM4471707': [1, 1], 'GSM4471708': [1, 0], 'GSM4471709': [1, 0], 'GSM4471710': [1, 0], 'GSM4471711': [1, 0], 'GSM4471712': [1, 0], 'GSM4471713': [1, 1], 'GSM4471714': [1, 0], 'GSM4471715': [1, 1], 'GSM4471716': [1, 1], 'GSM4471717': [0, 1], 'GSM4471718': [0, 0], 'GSM4471719': [0, 0], 'GSM4471720': [0, 1], 'GSM4471721': [0, 1], 'GSM4471722': [0, 1], 'GSM4471723': [0, 1], 'GSM4471724': [0, 0], 'GSM4471725': [0, 0], 'GSM4471726': [0, 0], 'GSM4471727': [0, 1], 'GSM4471728': [0, 1], 'GSM4471729': [0, 0], 'GSM4471730': [0, 0], 'GSM4471731': [0, 1], 'GSM4471732': [0, 1], 'GSM4471733': [0, 0], 'GSM4471734': [0, 0], 'GSM4471735': [0, 1], 'GSM4471736': [0, 1], 'GSM4471737': [0, 1], 'GSM4471738': [0, 1], 'GSM4471739': [0, 0], 'GSM4471740': [0, 0], 'GSM4471741': [0, 1], 'GSM4471742': [0, 0], 'GSM4471743': [0, 1], 'GSM4471744': [0, 1], 'GSM4471745': [0, 1], 'GSM4471746': [0, 1], 'GSM4471747': [0, 1], 'GSM4471748': [0, 1], 'GSM4471749': [0, 0], 'GSM4471750': [0, 0], 'GSM4471751': [0, 0], 'GSM4471752': [0, 1], 'GSM4471753': [0, 1], 'GSM4471754': [0, 1], 'GSM4471755': [0, 0], 'GSM4471756': [0, 0], 'GSM4471757': [0, 0], 'GSM4471758': [0, 1], 'GSM4471759': [0, 1], 'GSM4471760': [0, 1], 'GSM4471761': [0, 1], 'GSM4471762': [0, 0], 'GSM4471763': [0, 1], 'GSM4471764': [0, 1], 'GSM4471765': [0, 1], 'GSM4471766': [0, 0], 'GSM4471767': [0, 0], 'GSM4471768': [0, 0], 'GSM4471769': [0, 0], 'GSM4471770': [0, 0], 'GSM4471771': [0, 1], 'GSM4471772': [0, 1], 'GSM4471773': [0, 1], 'GSM4471774': [0, 1], 'GSM4471775': [0, 1], 'GSM4471776': [0, 1], 'GSM4471777': [0, 1], 'GSM4471778': [0, 0], 'GSM4471779': [0, 0], 'GSM4471780': [0, 0], 'GSM4471781': [0, 0], 'GSM4471782': [0, 1], 'GSM4471783': [0, 1], 'GSM4471784': [0, 0], 'GSM4471785': [0, 0], 'GSM4471786': [0, 0], 'GSM4471787': [0, 1], 'GSM4471788': [0, 1], 'GSM4471789': [0, 1], 'GSM4471790': [0, 1], 'GSM4471791': [0, 0], 'GSM4471792': [0, 0], 'GSM4471793': [0, 1], 'GSM4471794': [0, 1], 'GSM4471795': [0, 1], 'GSM4471796': [0, 1], 'GSM4471797': [0, 1], 'GSM4471798': [0, 0], 'GSM4471799': [0, 1], 'GSM4471800': [0, 1], 'GSM4471801': [0, 0], 'GSM4471802': [0, 0], 'GSM4471803': [0, 0], 'GSM4471804': [0, 0], 'GSM4471805': [0, 0], 'GSM4471806': [0, 1], 'GSM4471807': [0, 0], 'GSM4471808': [0, 1], 'GSM4471809': [0, 0], 'GSM4471810': [0, 1], 'GSM4471811': [0, 1], 'GSM4471812': [0, 0], 'GSM4471813': [0, 1], 'GSM4471814': [0, 1], 'GSM4471815': [0, 1], 'GSM4471816': [0, 0], 'GSM4471817': [0, 0], 'GSM4471818': [0, 1], 'GSM4471819': [0, 0], 'GSM4471820': [0, 0], 'GSM4471821': [0, 1], 'GSM4471822': [0, 1], 'GSM4471823': [0, 0], 'GSM4471824': [0, 0], 'GSM4471825': [0, 0], 'GSM4471826': [0, 0], 'GSM4471827': [0, 0], 'GSM4471828': [0, 1], 'GSM4471829': [0, 0], 'GSM4471830': [0, 1], 'GSM4471831': [0, 0], 'GSM4471832': [0, 0], 'GSM4471833': [0, 1], 'GSM4471834': [0, 1], 'GSM4471835': [0, 1], 'GSM4471836': [0, 1], 'GSM4471837': [0, 0], 'GSM4471838': [0, 0], 'GSM4471839': [0, 1], 'GSM4471840': [0, 0], 'GSM4471841': [0, 0], 'GSM4471842': [0, 0], 'GSM4471843': [0, 0], 'GSM4471844': [0, 0], 'GSM4471845': [0, 1], 'GSM4471846': [0, 0], 'GSM4471847': [0, 0], 'GSM4471848': [0, 1], 'GSM4471849': [0, 1], 'GSM4471850': [0, 1], 'GSM4471851': [0, 1], 'GSM4471852': [0, 0], 'GSM4471853': [0, 1], 'GSM4471854': [0, 1], 'GSM4471855': [0, 0], 'GSM4471856': [0, 0], 'GSM4471857': [0, 1], 'GSM4471858': [0, 0], 'GSM4471859': [0, 0], 'GSM4471860': [0, 1]}\n"
     ]
    }
   ],
   "source": [
    "is_gene_available = False\n",
    "trait_row = age_row = gender_row = None  # set to different values when applicable\n",
    "convert_trait = convert_age = convert_gender = None  # define the functions when applicable\n",
    "\n",
    "# Checking gene expression data availability\n",
    "is_gene_available = True\n",
    "\n",
    "# Checking trait availability and setting keys\n",
    "if 0 in [0, 1, 2, 3, 4]:\n",
    "    if len(set(['diagnosis: ASD', 'diagnosis: NonTD', 'diagnosis: TD'])) > 1:\n",
    "        trait_row = 0\n",
    "if 1 in [0, 1, 2, 3, 4]:\n",
    "    if len(set(['Sex: M', 'Sex: F'])) > 1:\n",
    "        gender_row = 1\n",
    "\n",
    "# No information on age row in the sample characteristics dictionary\n",
    "# Thus, leaving age_row as None\n",
    "\n",
    "# Defining data conversion functions\n",
    "\n",
    "# Function to convert Autism_spectrum_disorder_(ASD) values\n",
    "def convert_trait(value):\n",
    "    if \"ASD\" in value:\n",
    "        return 1\n",
    "    elif \"NonTD\" in value or \"TD\" in value:\n",
    "        return 0\n",
    "    return None\n",
    "\n",
    "# No data on age, hence convert_age will return None\n",
    "def convert_age(value):\n",
    "    return None\n",
    "\n",
    "# Function to convert gender values\n",
    "def convert_gender(value):\n",
    "    if \"M\" in value:\n",
    "        return 1\n",
    "    elif \"F\" in value:\n",
    "        return 0\n",
    "    return None\n",
    "\n",
    "# Saving cohort metadata\n",
    "save_cohort_info('GSE148450', './preprocessed/Autism_spectrum_disorder_(ASD)/cohort_info.json', is_gene_available, trait_row is not None)\n",
    "\n",
    "# Clinical feature extraction step\n",
    "if trait_row is not None:\n",
    "    selected_clinical_data = geo_select_clinical_features(clinical_data, 'Autism_spectrum_disorder_(ASD)', trait_row, convert_trait, age_row, convert_age, gender_row, convert_gender)\n",
    "    csv_path = './preprocessed/Autism_spectrum_disorder_(ASD)/trait_data/GSE148450.csv'\n",
    "    selected_clinical_data.to_csv(csv_path)\n",
    "    print(preview_df(selected_clinical_data))\n"
   ]
  },
  {
   "cell_type": "markdown",
   "id": "85ecae67",
   "metadata": {},
   "source": [
    "### Step 3: Gene Data Extraction"
   ]
  },
  {
   "cell_type": "code",
   "execution_count": 4,
   "id": "d4680e55",
   "metadata": {
    "execution": {
     "iopub.execute_input": "2024-06-12T09:28:53.494648Z",
     "iopub.status.busy": "2024-06-12T09:28:53.494542Z",
     "iopub.status.idle": "2024-06-12T09:28:54.284843Z",
     "shell.execute_reply": "2024-06-12T09:28:54.284398Z"
    }
   },
   "outputs": [
    {
     "name": "stdout",
     "output_type": "stream",
     "text": [
      "Index(['A1BG', 'A1BG-AS1', 'A1CF', 'A2M', 'A2M-AS1', 'A2ML1', 'A2ML1-AS1',\n",
      "       'A2ML1-AS2', 'A2MP1', 'A4GALT', 'A4GNT', 'AA06', 'AAAS', 'AACS',\n",
      "       'AACSP1', 'AADAC', 'AADACL2', 'AADACL2-AS1', 'AADACL3', 'AADACL4'],\n",
      "      dtype='object', name='ID')\n"
     ]
    }
   ],
   "source": [
    "# 1. Use the get_genetic_data function from the library to get the gene_data from the matrix_file previously defined.\n",
    "gene_data = get_genetic_data(matrix_file)\n",
    "\n",
    "# 2. Print the first 20 row ids for the following step.\n",
    "print(gene_data.index[:20])\n",
    "    \n",
    "\n",
    "gene_symbols = ['A1BG', 'A1BG-AS1', 'A1CF', 'A2M', 'A2M-AS1', 'A2ML1', 'A2ML1-AS1', 'A2ML1-AS2', 'A2MP1', 'A4GALT', 'A4GNT', 'AA06', 'AAAS', 'AACS', 'AACSP1', 'AADAC', 'AADACL2', 'AADACL2-AS1', 'AADACL3', 'AADACL4']\n"
   ]
  },
  {
   "cell_type": "markdown",
   "id": "2d28ef00",
   "metadata": {},
   "source": [
    "### Step 4: Gene Identifier Review"
   ]
  },
  {
   "cell_type": "code",
   "execution_count": 5,
   "id": "ab88c0a9",
   "metadata": {
    "execution": {
     "iopub.execute_input": "2024-06-12T09:28:54.286993Z",
     "iopub.status.busy": "2024-06-12T09:28:54.286857Z",
     "iopub.status.idle": "2024-06-12T09:28:54.288996Z",
     "shell.execute_reply": "2024-06-12T09:28:54.288716Z"
    }
   },
   "outputs": [],
   "source": [
    "requires_gene_mapping = False\n"
   ]
  },
  {
   "cell_type": "markdown",
   "id": "cd2346eb",
   "metadata": {},
   "source": [
    "### Step 5: Gene Annotation (Conditional)"
   ]
  },
  {
   "cell_type": "code",
   "execution_count": 6,
   "id": "1b97d28c",
   "metadata": {
    "execution": {
     "iopub.execute_input": "2024-06-12T09:28:54.291371Z",
     "iopub.status.busy": "2024-06-12T09:28:54.291245Z",
     "iopub.status.idle": "2024-06-12T09:29:03.580413Z",
     "shell.execute_reply": "2024-06-12T09:29:03.580027Z"
    }
   },
   "outputs": [
    {
     "name": "stdout",
     "output_type": "stream",
     "text": [
      "Gene annotation preview:\n",
      "{'ID': ['A1BG', 'A1BG-AS1', 'A1CF', 'A2M', 'A2M-AS1'], 'SPOT_ID': ['A1BG', 'A1BG-AS1', 'A1CF', 'A2M', 'A2M-AS1']}\n"
     ]
    }
   ],
   "source": [
    "# 1. Use the 'get_gene_annotation' function from the library to get gene annotation data from the soft file.\n",
    "gene_annotation = get_gene_annotation(soft_file)\n",
    "\n",
    "# 2. Use the 'preview_df' function from the library to preview the data and print out the results.\n",
    "print(\"Gene annotation preview:\")\n",
    "print(preview_df(gene_annotation))\n",
    "    \n",
    "\n",
    "# This step is to be skipped as 'requires_gene_mapping' is False.\n"
   ]
  },
  {
   "cell_type": "markdown",
   "id": "62e85e4c",
   "metadata": {},
   "source": [
    "### Step 7: Data Normalization and Merging"
   ]
  },
  {
   "cell_type": "code",
   "execution_count": 7,
   "id": "e710507d",
   "metadata": {
    "execution": {
     "iopub.execute_input": "2024-06-12T09:29:03.582367Z",
     "iopub.status.busy": "2024-06-12T09:29:03.582221Z",
     "iopub.status.idle": "2024-06-12T09:30:30.111838Z",
     "shell.execute_reply": "2024-06-12T09:30:30.111435Z"
    }
   },
   "outputs": [
    {
     "name": "stdout",
     "output_type": "stream",
     "text": [
      "For the feature 'Autism_spectrum_disorder_(ASD)', the least common label is '1.0' with 56 occurrences. This represents 26.17% of the dataset.\n",
      "The distribution of the feature 'Autism_spectrum_disorder_(ASD)' in this dataset is fine.\n",
      "\n",
      "For the feature 'Gender', the least common label is '0.0' with 92 occurrences. This represents 42.99% of the dataset.\n",
      "The distribution of the feature 'Gender' in this dataset is fine.\n",
      "\n"
     ]
    }
   ],
   "source": [
    "# 1. Normalize the obtained gene data with the 'normalize_gene_symbols_in_index' function from the library.\n",
    "normalized_gene_data = normalize_gene_symbols_in_index(gene_data)\n",
    "gene_csv_path = './preprocessed/Autism_spectrum_disorder_(ASD)/gene_data/GSE148450.csv'\n",
    "normalized_gene_data.to_csv(gene_csv_path)\n",
    "\n",
    "# 2. Merge the clinical and genetic data with the 'geo_merge_clinical_genetic_data' function from the library.\n",
    "merged_data = geo_merge_clinical_genetic_data(selected_clinical_data, normalized_gene_data)\n",
    "\n",
    "# 3. Determine whether the trait and some demographic attributes in the data is severely biased, and remove biased attributes.\n",
    "trait_biased, unbiased_merged_data = judge_and_remove_biased_features(merged_data, 'Autism_spectrum_disorder_(ASD)')\n",
    "\n",
    "# If the trait is not severely biased, save the cohort information and the merged data.\n",
    "\n",
    "# 4. Save the cohort information.\n",
    "save_cohort_info('GSE148450', './preprocessed/Autism_spectrum_disorder_(ASD)/cohort_info.json', True, True, trait_biased, merged_data)\n",
    "\n",
    "if not trait_biased:\n",
    "    # 5. If the trait is not severely biased, save the merged data to a csv file.\n",
    "    csv_path = './preprocessed/Autism_spectrum_disorder_(ASD)/GSE148450.csv'\n",
    "    unbiased_merged_data.to_csv(csv_path)\n"
   ]
  }
 ],
 "metadata": {
  "language_info": {
   "codemirror_mode": {
    "name": "ipython",
    "version": 3
   },
   "file_extension": ".py",
   "mimetype": "text/x-python",
   "name": "python",
   "nbconvert_exporter": "python",
   "pygments_lexer": "ipython3",
   "version": "3.8.17"
  }
 },
 "nbformat": 4,
 "nbformat_minor": 5
}
