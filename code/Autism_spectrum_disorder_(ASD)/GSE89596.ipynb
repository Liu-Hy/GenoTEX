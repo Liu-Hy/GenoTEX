{
 "cells": [
  {
   "cell_type": "code",
   "execution_count": 1,
   "id": "c28557dd",
   "metadata": {
    "execution": {
     "iopub.execute_input": "2024-06-12T09:28:02.234225Z",
     "iopub.status.busy": "2024-06-12T09:28:02.234126Z",
     "iopub.status.idle": "2024-06-12T09:28:02.238000Z",
     "shell.execute_reply": "2024-06-12T09:28:02.237723Z"
    }
   },
   "outputs": [],
   "source": [
    "\n",
    "import sys\n",
    "sys.path.append('/home/techt/Desktop/a4s')\n"
   ]
  },
  {
   "cell_type": "markdown",
   "id": "bea63331",
   "metadata": {},
   "source": [
    "### Step 1: Initial Data Loading"
   ]
  },
  {
   "cell_type": "code",
   "execution_count": 2,
   "id": "782d75e6",
   "metadata": {
    "execution": {
     "iopub.execute_input": "2024-06-12T09:28:02.240191Z",
     "iopub.status.busy": "2024-06-12T09:28:02.240065Z",
     "iopub.status.idle": "2024-06-12T09:28:02.579182Z",
     "shell.execute_reply": "2024-06-12T09:28:02.578759Z"
    }
   },
   "outputs": [
    {
     "name": "stdout",
     "output_type": "stream",
     "text": [
      "Background Information:\n",
      "!Series_title\t\"MicroRNA biomarkers in blood for Autism spectrum disorder\"\n",
      "!Series_summary\t\"Autism spectrum disorder (ASD) is a neurodevelopmental disorder characterized by social communication deficits and repetitive behaviors. MicroRNAs (miRNAs) have been recently recognized as potential biomarkers of ASD as they are dysregulated in various tissues of individuals with ASD. However, it remains unclear whether miRNA expression is altered in individuals with high-functioning ASD. Here, we investigated the miRNA expression profile in peripheral blood from adults with high-functioning ASD, and age and gender-matched healthy controls. Our findings may provide insights regarding the molecular clues for recognizing high-functioning ASD.\"\n",
      "!Series_overall_design\t\"We profiled miRNA expression using peripheral blood from 30 ASD patients and 30 controls.\"\n",
      "Sample Characteristics Dictionary:\n",
      "{0: ['diagnosis: autism spectrum disorder (ASD)', 'diagnosis: control'], 1: ['tissue: whole blood'], 2: ['gender: female', 'gender: male']}\n"
     ]
    }
   ],
   "source": [
    "from utils.preprocess import *\n",
    "# 1. Identify the paths to the soft file and the matrix file\n",
    "cohort_dir = '/media/techt/DATA/GEO/Autism_spectrum_disorder_(ASD)/GSE89596'\n",
    "soft_file, matrix_file = geo_get_relevant_filepaths(cohort_dir)\n",
    "\n",
    "# 2. Read the matrix file to obtain background information and sample characteristics data\n",
    "background_prefixes = ['!Series_title', '!Series_summary', '!Series_overall_design']\n",
    "clinical_prefixes = ['!Sample_geo_accession', '!Sample_characteristics_ch1']\n",
    "background_info, clinical_data = get_background_and_clinical_data(matrix_file, background_prefixes, clinical_prefixes)\n",
    "\n",
    "# 3. Obtain the sample characteristics dictionary from the clinical dataframe\n",
    "sample_characteristics_dict = get_unique_values_by_row(clinical_data)\n",
    "\n",
    "# 4. Explicitly print out all the background information and the sample characteristics dictionary\n",
    "print(\"Background Information:\")\n",
    "print(background_info)\n",
    "print(\"Sample Characteristics Dictionary:\")\n",
    "print(sample_characteristics_dict)\n"
   ]
  },
  {
   "cell_type": "markdown",
   "id": "e37f4d94",
   "metadata": {},
   "source": [
    "### Step 2: Dataset Analysis and Clinical Feature Extraction"
   ]
  },
  {
   "cell_type": "code",
   "execution_count": 3,
   "id": "6c7f6bf3",
   "metadata": {
    "execution": {
     "iopub.execute_input": "2024-06-12T09:28:02.580973Z",
     "iopub.status.busy": "2024-06-12T09:28:02.580861Z",
     "iopub.status.idle": "2024-06-12T09:28:02.593616Z",
     "shell.execute_reply": "2024-06-12T09:28:02.593314Z"
    }
   },
   "outputs": [
    {
     "name": "stdout",
     "output_type": "stream",
     "text": [
      "A new JSON file was created at: ./preprocessed/Autism_spectrum_disorder_(ASD)/cohort_info.json\n",
      "{'GSM2385148': [0, 0], 'GSM2385149': [0, 1], 'GSM2385150': [0, 1], 'GSM2385151': [0, 0], 'GSM2385152': [0, 1], 'GSM2385153': [0, 1], 'GSM2385154': [0, 1], 'GSM2385155': [0, 1], 'GSM2385156': [0, 0], 'GSM2385157': [0, 0], 'GSM2385158': [0, 0], 'GSM2385159': [0, 1], 'GSM2385160': [0, 1], 'GSM2385161': [0, 1], 'GSM2385162': [0, 1], 'GSM2385163': [0, 1], 'GSM2385164': [0, 0], 'GSM2385165': [0, 0], 'GSM2385166': [0, 0], 'GSM2385167': [0, 1], 'GSM2385168': [0, 1], 'GSM2385169': [0, 0], 'GSM2385170': [0, 1], 'GSM2385171': [0, 1], 'GSM2385172': [0, 0], 'GSM2385173': [0, 0], 'GSM2385174': [0, 1], 'GSM2385175': [0, 1], 'GSM2385176': [0, 0], 'GSM2385177': [0, 1], 'GSM2385178': [0, 0], 'GSM2385179': [0, 0], 'GSM2385180': [0, 1], 'GSM2385181': [0, 0], 'GSM2385182': [0, 0], 'GSM2385183': [0, 1], 'GSM2385184': [0, 1], 'GSM2385185': [0, 0], 'GSM2385186': [0, 1], 'GSM2385187': [0, 0], 'GSM2385188': [0, 1], 'GSM2385189': [0, 1], 'GSM2385190': [0, 1], 'GSM2385191': [0, 0], 'GSM2385192': [0, 1], 'GSM2385193': [0, 1], 'GSM2385194': [0, 1], 'GSM2385195': [0, 1], 'GSM2385196': [0, 0], 'GSM2385197': [0, 1], 'GSM2385198': [0, 1], 'GSM2385199': [0, 0], 'GSM2385200': [0, 0], 'GSM2385201': [0, 0], 'GSM2385202': [0, 1], 'GSM2385203': [0, 1], 'GSM2385204': [0, 1], 'GSM2385205': [0, 0], 'GSM2385206': [0, 1], 'GSM2385207': [0, 1]}\n"
     ]
    }
   ],
   "source": [
    "is_gene_available = False\n",
    "trait_row = age_row = gender_row = None  # set to different values when applicable\n",
    "convert_trait = convert_age = convert_gender = None  # define the functions when applicable\n",
    "\n",
    "# Determine the availability of gene expression data\n",
    "is_gene_available = False\n",
    "\n",
    "# The dataset focuses on miRNA data, not suitable for gene expression analysis\n",
    "# Update the variables and set them as available if applicable\n",
    "age_row = None  # age is not mentioned in the dataset characteristics\n",
    "trait_row = 0  # The key for 'Autism_spectrum_disorder_(ASD)' is 0\n",
    "gender_row = 2  # The key for 'gender' is 2 \n",
    "\n",
    "# Define conversion functions\n",
    "def convert_trait(value):\n",
    "    value = value.split(':')[1].strip()\n",
    "    return 1 if 'autism spectrum disorder (ASD)' in value.lower() else 0\n",
    "\n",
    "def convert_gender(value):\n",
    "    value = value.split(':')[1].strip()\n",
    "    return 1 if value.lower() == 'male' else 0\n",
    "\n",
    "def convert_age(value):\n",
    "    # Placeholder function since age details are not available\n",
    "    return None\n",
    "\n",
    "# Save cohort information\n",
    "save_cohort_info('GSE89596', './preprocessed/Autism_spectrum_disorder_(ASD)/cohort_info.json', is_gene_available, trait_row is not None)\n",
    "\n",
    "# Clinical Feature Extraction\n",
    "if trait_row is not None:\n",
    "    selected_clinical_data = geo_select_clinical_features(clinical_data, 'Autism_spectrum_disorder_(ASD)', trait_row, convert_trait, age_row, convert_age, gender_row, convert_gender)\n",
    "    csv_path = './preprocessed/Autism_spectrum_disorder_(ASD)/trait_data/GSE89596.csv'\n",
    "    selected_clinical_data.to_csv(csv_path)\n",
    "    print(preview_df(selected_clinical_data))\n"
   ]
  }
 ],
 "metadata": {
  "language_info": {
   "codemirror_mode": {
    "name": "ipython",
    "version": 3
   },
   "file_extension": ".py",
   "mimetype": "text/x-python",
   "name": "python",
   "nbconvert_exporter": "python",
   "pygments_lexer": "ipython3",
   "version": "3.8.17"
  }
 },
 "nbformat": 4,
 "nbformat_minor": 5
}
