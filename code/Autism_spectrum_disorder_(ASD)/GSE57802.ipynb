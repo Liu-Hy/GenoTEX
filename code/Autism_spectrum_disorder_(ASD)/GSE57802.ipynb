{
 "cells": [
  {
   "cell_type": "code",
   "execution_count": 1,
   "id": "1e249621",
   "metadata": {
    "execution": {
     "iopub.execute_input": "2025-03-25T06:52:54.571183Z",
     "iopub.status.busy": "2025-03-25T06:52:54.571075Z",
     "iopub.status.idle": "2025-03-25T06:52:54.734208Z",
     "shell.execute_reply": "2025-03-25T06:52:54.733865Z"
    }
   },
   "outputs": [],
   "source": [
    "import sys\n",
    "import os\n",
    "sys.path.append(os.path.abspath(os.path.join(os.getcwd(), '../..')))\n",
    "\n",
    "# Path Configuration\n",
    "from tools.preprocess import *\n",
    "\n",
    "# Processing context\n",
    "trait = \"Autism_spectrum_disorder_(ASD)\"\n",
    "cohort = \"GSE57802\"\n",
    "\n",
    "# Input paths\n",
    "in_trait_dir = \"../../input/GEO/Autism_spectrum_disorder_(ASD)\"\n",
    "in_cohort_dir = \"../../input/GEO/Autism_spectrum_disorder_(ASD)/GSE57802\"\n",
    "\n",
    "# Output paths\n",
    "out_data_file = \"../../output/preprocess/Autism_spectrum_disorder_(ASD)/GSE57802.csv\"\n",
    "out_gene_data_file = \"../../output/preprocess/Autism_spectrum_disorder_(ASD)/gene_data/GSE57802.csv\"\n",
    "out_clinical_data_file = \"../../output/preprocess/Autism_spectrum_disorder_(ASD)/clinical_data/GSE57802.csv\"\n",
    "json_path = \"../../output/preprocess/Autism_spectrum_disorder_(ASD)/cohort_info.json\"\n"
   ]
  },
  {
   "cell_type": "markdown",
   "id": "4a785e43",
   "metadata": {},
   "source": [
    "### Step 1: Initial Data Loading"
   ]
  },
  {
   "cell_type": "code",
   "execution_count": 2,
   "id": "b06f2a9d",
   "metadata": {
    "execution": {
     "iopub.execute_input": "2025-03-25T06:52:54.735622Z",
     "iopub.status.busy": "2025-03-25T06:52:54.735481Z",
     "iopub.status.idle": "2025-03-25T06:52:54.942564Z",
     "shell.execute_reply": "2025-03-25T06:52:54.942207Z"
    }
   },
   "outputs": [
    {
     "name": "stdout",
     "output_type": "stream",
     "text": [
      "Background Information:\n",
      "!Series_title\t\"Transcriptome Profiling of patients with 16p11.2 rearrangements\"\n",
      "!Series_summary\t\"The 600kb BP4-BP5 16p11.2 CNV (copy number variant) is associated with neuroanatomical, neurocognitive and metabolic disorders.  These recurrent rearrangements are associated with reciprocal phenotypes such as obesity and underweight, macro- and microcephaly, as well as autism spectrum disorder (ASD) and schizophrenia. Here we interrogated the transcriptome of individuals carrying reciprocal CNVs in 16p11.2.\"\n",
      "!Series_summary\t\"The genome-wide transcript perturbations correlated with clinical endophenotypes of the CNV and were enriched for genes associated with ASD. We uncovered a significant correlation between copy number changes and expression levels of genes mutated in ciliopathies.\"\n",
      "!Series_overall_design\t\"Transcriptome profiles of lymphoblastoid cell lines of 50 16p11.2 deletion carriers, 31 16p11.2 duplication carriers and 17 controls.\"\n",
      "Sample Characteristics Dictionary:\n",
      "{0: ['cell type: lymphoblastoid'], 1: ['gender: M', 'gender: F'], 2: ['age: 46', 'age: 33', 'age: NA', 'age: 22', 'age: 52', 'age: 25', 'age: 31', 'age: 60', 'age: 40', 'age: 50', 'age: 51', 'age: 39', 'age: 6', 'age: 56', 'age: 16', 'age: 41', 'age: 35', 'age: 4', 'age: 10', 'age: 12', 'age: 7', 'age: 1.4', 'age: 38', 'age: 14.7', 'age: 11', 'age: 12.8', 'age: 11.9', 'age: 7.7', 'age: 3.3', 'age: 1.5'], 3: ['copy number 16p11.2: 2', 'copy number 16p11.2: 1', 'copy number 16p11.2: 3'], 4: ['genotype: Control', 'genotype: 600kbdel', 'genotype: 600kbdup'], 5: ['family identifier: 201', 'family identifier: 202', 'family identifier: 203', 'family identifier: 204', 'family identifier: 205', 'family identifier: 206', 'family identifier: 207', 'family identifier: 208', 'family identifier: 209', 'family identifier: 210', 'family identifier: 211', 'family identifier: 212', 'family identifier: 213', 'family identifier: 84', 'family identifier: 63', 'family identifier: 1', 'family identifier: 4', 'family identifier: 5', 'family identifier: 8', 'family identifier: 11', 'family identifier: 12', 'family identifier: 13', 'family identifier: 14', 'family identifier: 15', 'family identifier: 17', 'family identifier: 20', 'family identifier: 23', 'family identifier: 24', 'family identifier: 26', 'family identifier: 28'], 6: ['kinship: unrelated', 'kinship: father', 'kinship: sibling', 'kinship: mother', 'kinship: proband', 'kinship: pat grandfather']}\n"
     ]
    }
   ],
   "source": [
    "from tools.preprocess import *\n",
    "# 1. Identify the paths to the SOFT file and the matrix file\n",
    "soft_file, matrix_file = geo_get_relevant_filepaths(in_cohort_dir)\n",
    "\n",
    "# 2. Read the matrix file to obtain background information and sample characteristics data\n",
    "background_prefixes = ['!Series_title', '!Series_summary', '!Series_overall_design']\n",
    "clinical_prefixes = ['!Sample_geo_accession', '!Sample_characteristics_ch1']\n",
    "background_info, clinical_data = get_background_and_clinical_data(matrix_file, background_prefixes, clinical_prefixes)\n",
    "\n",
    "# 3. Obtain the sample characteristics dictionary from the clinical dataframe\n",
    "sample_characteristics_dict = get_unique_values_by_row(clinical_data)\n",
    "\n",
    "# 4. Explicitly print out all the background information and the sample characteristics dictionary\n",
    "print(\"Background Information:\")\n",
    "print(background_info)\n",
    "print(\"Sample Characteristics Dictionary:\")\n",
    "print(sample_characteristics_dict)\n"
   ]
  },
  {
   "cell_type": "markdown",
   "id": "e7dc37fe",
   "metadata": {},
   "source": [
    "### Step 2: Dataset Analysis and Clinical Feature Extraction"
   ]
  },
  {
   "cell_type": "code",
   "execution_count": 3,
   "id": "530ea6ea",
   "metadata": {
    "execution": {
     "iopub.execute_input": "2025-03-25T06:52:54.943794Z",
     "iopub.status.busy": "2025-03-25T06:52:54.943691Z",
     "iopub.status.idle": "2025-03-25T06:52:54.958510Z",
     "shell.execute_reply": "2025-03-25T06:52:54.958225Z"
    }
   },
   "outputs": [
    {
     "name": "stdout",
     "output_type": "stream",
     "text": [
      "Clinical Data Preview:\n",
      "{'GSM1389621': [0.0, 46.0, 1.0], 'GSM1389622': [0.0, 33.0, 0.0], 'GSM1389623': [0.0, nan, 1.0], 'GSM1389624': [0.0, nan, 0.0], 'GSM1389625': [0.0, 22.0, 1.0], 'GSM1389626': [0.0, 52.0, 1.0], 'GSM1389627': [0.0, 25.0, 1.0], 'GSM1389628': [0.0, 31.0, 0.0], 'GSM1389629': [0.0, 60.0, 1.0], 'GSM1389630': [0.0, nan, 1.0], 'GSM1389631': [0.0, 40.0, 1.0], 'GSM1389632': [0.0, 50.0, 1.0], 'GSM1389633': [0.0, 51.0, 1.0], 'GSM1389634': [0.0, 39.0, 1.0], 'GSM1389635': [0.0, 6.0, 1.0], 'GSM1389636': [0.0, 51.0, 1.0], 'GSM1389637': [0.0, 56.0, 0.0], 'GSM1389638': [1.0, 16.0, 1.0], 'GSM1389639': [1.0, 41.0, 1.0], 'GSM1389640': [1.0, 31.0, 0.0], 'GSM1389641': [1.0, 35.0, 1.0], 'GSM1389642': [1.0, 4.0, 1.0], 'GSM1389643': [1.0, 10.0, 0.0], 'GSM1389644': [1.0, 12.0, 0.0], 'GSM1389645': [1.0, 7.0, 1.0], 'GSM1389646': [1.0, 6.0, 1.0], 'GSM1389647': [1.0, 1.4, 1.0], 'GSM1389648': [1.0, 10.0, 0.0], 'GSM1389649': [1.0, 6.0, 1.0], 'GSM1389650': [1.0, 38.0, 1.0], 'GSM1389651': [1.0, 14.7, 1.0], 'GSM1389652': [1.0, 11.0, 0.0], 'GSM1389653': [1.0, 7.0, 0.0], 'GSM1389654': [1.0, 12.8, 1.0], 'GSM1389655': [1.0, 11.9, 0.0], 'GSM1389656': [1.0, 7.7, 0.0], 'GSM1389657': [1.0, 3.3, 1.0], 'GSM1389658': [1.0, 1.5, 1.0], 'GSM1389659': [1.0, 16.0, 1.0], 'GSM1389660': [1.0, 40.0, 0.0], 'GSM1389661': [1.0, 39.0, 0.0], 'GSM1389662': [1.0, 12.0, 1.0], 'GSM1389663': [1.0, 5.9, 1.0], 'GSM1389664': [1.0, 4.1, 0.0], 'GSM1389665': [1.0, 5.2, 1.0], 'GSM1389666': [1.0, 9.0, 1.0], 'GSM1389667': [1.0, 37.0, 1.0], 'GSM1389668': [1.0, 14.8, 1.0], 'GSM1389669': [1.0, 15.0, 1.0], 'GSM1389670': [1.0, 5.7, 1.0], 'GSM1389671': [1.0, 23.0, 1.0], 'GSM1389672': [1.0, 6.8, 1.0], 'GSM1389673': [1.0, 53.0, 1.0], 'GSM1389674': [1.0, 8.8, 1.0], 'GSM1389675': [1.0, 6.8, 1.0], 'GSM1389676': [1.0, 26.0, 0.0], 'GSM1389677': [1.0, 21.0, 1.0], 'GSM1389678': [1.0, 13.0, 1.0], 'GSM1389679': [1.0, 12.0, 0.0], 'GSM1389680': [1.0, 21.0, 0.0], 'GSM1389681': [1.0, 10.0, 1.0], 'GSM1389682': [1.0, 15.0, 0.0], 'GSM1389683': [1.0, 11.0, 1.0], 'GSM1389684': [1.0, 5.5, 1.0], 'GSM1389685': [1.0, 3.7, 1.0], 'GSM1389686': [1.0, 4.0, 1.0], 'GSM1389687': [1.0, 7.0, 0.0], 'GSM1389688': [1.0, 5.0, 1.0], 'GSM1389689': [1.0, 5.0, 0.0], 'GSM1389690': [1.0, 42.0, 0.0], 'GSM1389691': [1.0, 42.0, 0.0], 'GSM1389692': [1.0, 5.0, 1.0], 'GSM1389693': [1.0, 8.0, 0.0], 'GSM1389694': [1.0, 15.0, 0.0], 'GSM1389695': [1.0, 3.4, 0.0], 'GSM1389696': [1.0, 44.0, 0.0], 'GSM1389697': [1.0, 16.0, 0.0], 'GSM1389698': [1.0, 52.0, 0.0], 'GSM1389699': [1.0, 28.0, 0.0], 'GSM1389700': [1.0, 0.6, 1.0], 'GSM1389701': [1.0, 14.0, 0.0], 'GSM1389702': [1.0, 1.8, 0.0], 'GSM1389703': [1.0, 40.0, 1.0], 'GSM1389704': [1.0, 9.0, 1.0], 'GSM1389705': [1.0, 5.2, 0.0], 'GSM1389706': [1.0, 5.5, 1.0], 'GSM1389707': [1.0, 28.0, 0.0], 'GSM1389708': [1.0, 42.0, 1.0], 'GSM1389709': [1.0, 12.8, 0.0], 'GSM1389710': [1.0, 36.0, 0.0], 'GSM1389711': [1.0, 3.0, 0.0], 'GSM1389712': [1.0, 41.0, 0.0], 'GSM1389713': [1.0, 6.0, 1.0], 'GSM1389714': [1.0, 76.0, 1.0], 'GSM1389715': [1.0, 47.0, 1.0], 'GSM1389716': [1.0, 44.0, 0.0], 'GSM1389717': [1.0, 3.0, 0.0], 'GSM1389718': [1.0, 34.0, 0.0], 'GSM1389719': [1.0, 11.0, 1.0]}\n",
      "Clinical data saved to ../../output/preprocess/Autism_spectrum_disorder_(ASD)/clinical_data/GSE57802.csv\n"
     ]
    }
   ],
   "source": [
    "# 1. Gene Expression Data Availability\n",
    "is_gene_available = True  # Transcriptome profiling implies gene expression data is available\n",
    "\n",
    "# 2. Variable Availability and Data Type Conversion\n",
    "# Note from background info that the dataset is about 16p11.2 CNV carriers with some having ASD\n",
    "\n",
    "# 2.1 Data Availability\n",
    "# For trait (ASD), we don't have a direct row, but we can use the genotype information\n",
    "trait_row = 4  # 'genotype: Control', 'genotype: 600kbdel', 'genotype: 600kbdup'\n",
    "age_row = 2  # 'age: X' values\n",
    "gender_row = 1  # 'gender: M', 'gender: F'\n",
    "\n",
    "# 2.2 Data Type Conversion Functions\n",
    "def convert_trait(value):\n",
    "    \"\"\"\n",
    "    Convert genotype information to binary trait values.\n",
    "    Based on the background information, 16p11.2 deletions and duplications are associated with ASD.\n",
    "    - genotype: Control (0) - control subjects\n",
    "    - genotype: 600kbdel (1) - deletion carriers, associated with ASD\n",
    "    - genotype: 600kbdup (1) - duplication carriers, associated with ASD\n",
    "    \"\"\"\n",
    "    if not value or ':' not in value:\n",
    "        return None\n",
    "    genotype = value.split(':', 1)[1].strip().lower()\n",
    "    if 'control' in genotype:\n",
    "        return 0  # Control\n",
    "    elif '600kbdel' in genotype or '600kbdup' in genotype:\n",
    "        return 1  # CNV carriers (associated with ASD)\n",
    "    return None\n",
    "\n",
    "def convert_age(value):\n",
    "    \"\"\"Convert age values to continuous numeric values.\"\"\"\n",
    "    if not value or ':' not in value:\n",
    "        return None\n",
    "    age_str = value.split(':', 1)[1].strip()\n",
    "    if age_str.lower() == 'na':\n",
    "        return None\n",
    "    try:\n",
    "        return float(age_str)\n",
    "    except:\n",
    "        return None\n",
    "\n",
    "def convert_gender(value):\n",
    "    \"\"\"\n",
    "    Convert gender values to binary:\n",
    "    - F (female) = 0\n",
    "    - M (male) = 1\n",
    "    \"\"\"\n",
    "    if not value or ':' not in value:\n",
    "        return None\n",
    "    gender = value.split(':', 1)[1].strip().upper()\n",
    "    if gender == 'F':\n",
    "        return 0\n",
    "    elif gender == 'M':\n",
    "        return 1\n",
    "    return None\n",
    "\n",
    "# 3. Save Metadata\n",
    "is_trait_available = trait_row is not None\n",
    "validate_and_save_cohort_info(\n",
    "    is_final=False,\n",
    "    cohort=cohort,\n",
    "    info_path=json_path,\n",
    "    is_gene_available=is_gene_available,\n",
    "    is_trait_available=is_trait_available\n",
    ")\n",
    "\n",
    "# 4. Clinical Feature Extraction\n",
    "if trait_row is not None:\n",
    "    # Extract clinical features\n",
    "    clinical_df = geo_select_clinical_features(\n",
    "        clinical_df=clinical_data,\n",
    "        trait=trait,\n",
    "        trait_row=trait_row,\n",
    "        convert_trait=convert_trait,\n",
    "        age_row=age_row,\n",
    "        convert_age=convert_age,\n",
    "        gender_row=gender_row,\n",
    "        convert_gender=convert_gender\n",
    "    )\n",
    "    \n",
    "    # Preview the extracted clinical data\n",
    "    preview = preview_df(clinical_df)\n",
    "    print(\"Clinical Data Preview:\")\n",
    "    print(preview)\n",
    "    \n",
    "    # Save clinical data to file\n",
    "    os.makedirs(os.path.dirname(out_clinical_data_file), exist_ok=True)\n",
    "    clinical_df.to_csv(out_clinical_data_file, index=False)\n",
    "    print(f\"Clinical data saved to {out_clinical_data_file}\")\n"
   ]
  },
  {
   "cell_type": "markdown",
   "id": "02d2326a",
   "metadata": {},
   "source": [
    "### Step 3: Gene Data Extraction"
   ]
  },
  {
   "cell_type": "code",
   "execution_count": 4,
   "id": "670d9d77",
   "metadata": {
    "execution": {
     "iopub.execute_input": "2025-03-25T06:52:54.959579Z",
     "iopub.status.busy": "2025-03-25T06:52:54.959479Z",
     "iopub.status.idle": "2025-03-25T06:52:55.309069Z",
     "shell.execute_reply": "2025-03-25T06:52:55.308721Z"
    }
   },
   "outputs": [
    {
     "name": "stdout",
     "output_type": "stream",
     "text": [
      "Index(['1007_PM_s_at', '1053_PM_at', '117_PM_at', '121_PM_at', '1255_PM_g_at',\n",
      "       '1294_PM_at', '1316_PM_at', '1320_PM_at', '1405_PM_i_at', '1431_PM_at',\n",
      "       '1438_PM_at', '1487_PM_at', '1494_PM_f_at', '1552256_PM_a_at',\n",
      "       '1552257_PM_a_at', '1552258_PM_at', '1552261_PM_at', '1552263_PM_at',\n",
      "       '1552264_PM_a_at', '1552266_PM_at'],\n",
      "      dtype='object', name='ID')\n"
     ]
    }
   ],
   "source": [
    "# 1. Use the get_genetic_data function from the library to get the gene_data from the matrix_file previously defined.\n",
    "gene_data = get_genetic_data(matrix_file)\n",
    "\n",
    "# 2. Print the first 20 row IDs (gene or probe identifiers) for future observation.\n",
    "print(gene_data.index[:20])\n"
   ]
  },
  {
   "cell_type": "markdown",
   "id": "aa4aa5c4",
   "metadata": {},
   "source": [
    "### Step 4: Gene Identifier Review"
   ]
  },
  {
   "cell_type": "code",
   "execution_count": 5,
   "id": "866cd7bc",
   "metadata": {
    "execution": {
     "iopub.execute_input": "2025-03-25T06:52:55.310367Z",
     "iopub.status.busy": "2025-03-25T06:52:55.310246Z",
     "iopub.status.idle": "2025-03-25T06:52:55.312154Z",
     "shell.execute_reply": "2025-03-25T06:52:55.311861Z"
    }
   },
   "outputs": [],
   "source": [
    "# Examining the gene identifiers in the expression data\n",
    "# These appear to be Affymetrix probe IDs (with the \"PM\" format and \"_at\" suffixes)\n",
    "# rather than standard human gene symbols like BRCA1, TP53, etc.\n",
    "# Affymetrix probe IDs need to be mapped to gene symbols for biological interpretation\n",
    "\n",
    "requires_gene_mapping = True\n"
   ]
  },
  {
   "cell_type": "markdown",
   "id": "9652da19",
   "metadata": {},
   "source": [
    "### Step 5: Gene Annotation"
   ]
  },
  {
   "cell_type": "code",
   "execution_count": 6,
   "id": "f3791951",
   "metadata": {
    "execution": {
     "iopub.execute_input": "2025-03-25T06:52:55.313237Z",
     "iopub.status.busy": "2025-03-25T06:52:55.313136Z",
     "iopub.status.idle": "2025-03-25T06:53:01.689636Z",
     "shell.execute_reply": "2025-03-25T06:53:01.689262Z"
    }
   },
   "outputs": [
    {
     "name": "stdout",
     "output_type": "stream",
     "text": [
      "Gene annotation preview:\n",
      "{'ID': ['1007_PM_s_at', '1053_PM_at', '117_PM_at', '121_PM_at', '1255_PM_g_at'], 'GB_ACC': ['U48705', 'M87338', 'X51757', 'X69699', 'L36861'], 'SPOT_ID': [nan, nan, nan, nan, nan], 'Species Scientific Name': ['Homo sapiens', 'Homo sapiens', 'Homo sapiens', 'Homo sapiens', 'Homo sapiens'], 'Annotation Date': ['Aug 20, 2010', 'Aug 20, 2010', 'Aug 20, 2010', 'Aug 20, 2010', 'Aug 20, 2010'], 'Sequence Type': ['Exemplar sequence', 'Exemplar sequence', 'Exemplar sequence', 'Exemplar sequence', 'Exemplar sequence'], 'Sequence Source': ['Affymetrix Proprietary Database', 'GenBank', 'Affymetrix Proprietary Database', 'GenBank', 'Affymetrix Proprietary Database'], 'Target Description': ['U48705 /FEATURE=mRNA /DEFINITION=HSU48705 Human receptor tyrosine kinase DDR gene, complete cds', 'M87338 /FEATURE= /DEFINITION=HUMA1SBU Human replication factor C, 40-kDa subunit (A1) mRNA, complete cds', \"X51757 /FEATURE=cds /DEFINITION=HSP70B Human heat-shock protein HSP70B' gene\", 'X69699 /FEATURE= /DEFINITION=HSPAX8A H.sapiens Pax8 mRNA', 'L36861 /FEATURE=expanded_cds /DEFINITION=HUMGCAPB Homo sapiens guanylate cyclase activating protein (GCAP) gene exons 1-4, complete cds'], 'Representative Public ID': ['U48705', 'M87338', 'X51757', 'X69699', 'L36861'], 'Gene Title': ['discoidin domain receptor tyrosine kinase 1', 'replication factor C (activator 1) 2, 40kDa', \"heat shock 70kDa protein 6 (HSP70B')\", 'paired box 8', 'guanylate cyclase activator 1A (retina)'], 'Gene Symbol': ['DDR1', 'RFC2', 'HSPA6', 'PAX8', 'GUCA1A'], 'ENTREZ_GENE_ID': ['780', '5982', '3310', '7849', '2978'], 'RefSeq Transcript ID': ['NM_001954 /// NM_013993 /// NM_013994', 'NM_002914 /// NM_181471', 'NM_002155', 'NM_003466 /// NM_013951 /// NM_013952 /// NM_013953 /// NM_013992', 'NM_000409'], 'Gene Ontology Biological Process': ['0001558 // regulation of cell growth // inferred from electronic annotation /// 0001952 // regulation of cell-matrix adhesion // inferred from electronic annotation /// 0006468 // protein amino acid phosphorylation // inferred from electronic annotation /// 0007155 // cell adhesion // inferred from electronic annotation /// 0007155 // cell adhesion // traceable author statement /// 0007169 // transmembrane receptor protein tyrosine kinase signaling pathway // inferred from electronic annotation /// 0007566 // embryo implantation // inferred from electronic annotation /// 0008285 // negative regulation of cell proliferation // inferred from electronic annotation /// 0018108 // peptidyl-tyrosine phosphorylation // inferred from electronic annotation /// 0031100 // organ regeneration // inferred from electronic annotation /// 0043583 // ear development // inferred from electronic annotation /// 0043588 // skin development // inferred from electronic annotation /// 0051789 // response to protein stimulus // inferred from electronic annotation /// 0060444 // branching involved in mammary gland duct morphogenesis // inferred from electronic annotation /// 0060749 // mammary gland alveolus development // inferred from electronic annotation', '0006260 // DNA replication // not recorded /// 0006260 // DNA replication // inferred from electronic annotation /// 0006297 // nucleotide-excision repair, DNA gap filling // not recorded /// 0015979 // photosynthesis // inferred from electronic annotation /// 0015995 // chlorophyll biosynthetic process // inferred from electronic annotation', '0006950 // response to stress // inferred from electronic annotation /// 0006986 // response to unfolded protein // traceable author statement', '0001656 // metanephros development // inferred from electronic annotation /// 0006350 // transcription // inferred from electronic annotation /// 0007275 // multicellular organismal development // inferred from electronic annotation /// 0009653 // anatomical structure morphogenesis // traceable author statement /// 0030154 // cell differentiation // inferred from electronic annotation /// 0030878 // thyroid gland development // inferred from electronic annotation /// 0045449 // regulation of transcription // inferred from electronic annotation /// 0045893 // positive regulation of transcription, DNA-dependent // inferred from sequence or structural similarity /// 0045893 // positive regulation of transcription, DNA-dependent // inferred from direct assay /// 0045944 // positive regulation of transcription from RNA polymerase II promoter // inferred from electronic annotation', '0007165 // signal transduction // non-traceable author statement /// 0007601 // visual perception // inferred from electronic annotation /// 0007601 // visual perception // traceable author statement /// 0007602 // phototransduction // inferred from electronic annotation /// 0031282 // regulation of guanylate cyclase activity // inferred from electronic annotation /// 0050896 // response to stimulus // inferred from electronic annotation'], 'Gene Ontology Cellular Component': ['0005576 // extracellular region // inferred from electronic annotation /// 0005886 // plasma membrane // inferred from electronic annotation /// 0005887 // integral to plasma membrane // traceable author statement /// 0016020 // membrane // inferred from electronic annotation /// 0016021 // integral to membrane // inferred from electronic annotation /// 0016323 // basolateral plasma membrane // inferred from electronic annotation', '0005634 // nucleus // inferred from electronic annotation /// 0005654 // nucleoplasm // not recorded /// 0005663 // DNA replication factor C complex // inferred from direct assay /// 0005663 // DNA replication factor C complex // inferred from electronic annotation', nan, '0005634 // nucleus // inferred from electronic annotation /// 0005654 // nucleoplasm // inferred from sequence or structural similarity /// 0005654 // nucleoplasm // inferred from electronic annotation', '0016020 // membrane // inferred from electronic annotation'], 'Gene Ontology Molecular Function': ['0000166 // nucleotide binding // inferred from electronic annotation /// 0004672 // protein kinase activity // inferred from electronic annotation /// 0004713 // protein tyrosine kinase activity // inferred from electronic annotation /// 0004714 // transmembrane receptor protein tyrosine kinase activity // inferred from electronic annotation /// 0004714 // transmembrane receptor protein tyrosine kinase activity // traceable author statement /// 0004872 // receptor activity // inferred from electronic annotation /// 0005515 // protein binding // inferred from physical interaction /// 0005515 // protein binding // inferred from electronic annotation /// 0005524 // ATP binding // inferred from electronic annotation /// 0016301 // kinase activity // inferred from electronic annotation /// 0016740 // transferase activity // inferred from electronic annotation', '0000166 // nucleotide binding // inferred from electronic annotation /// 0003677 // DNA binding // inferred from electronic annotation /// 0003689 // DNA clamp loader activity // inferred from electronic annotation /// 0005515 // protein binding // inferred from physical interaction /// 0005524 // ATP binding // inferred from electronic annotation /// 0005524 // ATP binding // traceable author statement /// 0016851 // magnesium chelatase activity // inferred from electronic annotation /// 0017111 // nucleoside-triphosphatase activity // inferred from electronic annotation', '0000166 // nucleotide binding // inferred from electronic annotation /// 0005524 // ATP binding // inferred from electronic annotation', '0003677 // DNA binding // inferred from direct assay /// 0003677 // DNA binding // inferred from electronic annotation /// 0003700 // transcription factor activity // traceable author statement /// 0004996 // thyroid-stimulating hormone receptor activity // traceable author statement /// 0005515 // protein binding // inferred from sequence or structural similarity /// 0005515 // protein binding // inferred from electronic annotation /// 0005515 // protein binding // inferred from physical interaction /// 0016563 // transcription activator activity // inferred from sequence or structural similarity /// 0016563 // transcription activator activity // inferred from direct assay /// 0016563 // transcription activator activity // inferred from electronic annotation /// 0043565 // sequence-specific DNA binding // inferred from electronic annotation', '0005509 // calcium ion binding // inferred from electronic annotation /// 0008048 // calcium sensitive guanylate cyclase activator activity // traceable author statement /// 0008048 // calcium sensitive guanylate cyclase activator activity // inferred from electronic annotation /// 0030249 // guanylate cyclase regulator activity // inferred from electronic annotation']}\n"
     ]
    }
   ],
   "source": [
    "# 1. Use the 'get_gene_annotation' function from the library to get gene annotation data from the SOFT file.\n",
    "gene_annotation = get_gene_annotation(soft_file)\n",
    "\n",
    "# 2. Use the 'preview_df' function from the library to preview the data and print out the results.\n",
    "print(\"Gene annotation preview:\")\n",
    "print(preview_df(gene_annotation))\n"
   ]
  },
  {
   "cell_type": "markdown",
   "id": "88ae873c",
   "metadata": {},
   "source": [
    "### Step 6: Gene Identifier Mapping"
   ]
  },
  {
   "cell_type": "code",
   "execution_count": 7,
   "id": "e8d889dc",
   "metadata": {
    "execution": {
     "iopub.execute_input": "2025-03-25T06:53:01.690943Z",
     "iopub.status.busy": "2025-03-25T06:53:01.690821Z",
     "iopub.status.idle": "2025-03-25T06:53:02.079957Z",
     "shell.execute_reply": "2025-03-25T06:53:02.079638Z"
    }
   },
   "outputs": [
    {
     "name": "stdout",
     "output_type": "stream",
     "text": [
      "First 20 gene symbols after mapping:\n",
      "Index(['A1BG', 'A1CF', 'A2BP1', 'A2LD1', 'A2M', 'A2ML1', 'A4GALT', 'A4GNT',\n",
      "       'AAA1', 'AAAS', 'AACS', 'AACSL', 'AADAC', 'AADACL2', 'AADAT', 'AAGAB',\n",
      "       'AAK1', 'AAMP', 'AANAT', 'AARS'],\n",
      "      dtype='object', name='Gene')\n"
     ]
    }
   ],
   "source": [
    "# 1. Identify which columns in the annotation data contain probe IDs and gene symbols\n",
    "# From the preview, 'ID' contains probe IDs like '1007_PM_s_at' matching the expression data IDs\n",
    "# 'Gene Symbol' contains standard gene symbols like 'DDR1'\n",
    "\n",
    "# 2. Get the gene mapping dataframe\n",
    "mapping_df = get_gene_mapping(gene_annotation, prob_col='ID', gene_col='Gene Symbol')\n",
    "\n",
    "# 3. Apply the gene mapping to convert probe-level data to gene-level data\n",
    "gene_data = apply_gene_mapping(expression_df=gene_data, mapping_df=mapping_df)\n",
    "\n",
    "# Print the first few gene symbols after mapping to verify\n",
    "print(\"First 20 gene symbols after mapping:\")\n",
    "print(gene_data.index[:20])\n"
   ]
  },
  {
   "cell_type": "markdown",
   "id": "95773b7b",
   "metadata": {},
   "source": [
    "### Step 7: Data Normalization and Linking"
   ]
  },
  {
   "cell_type": "code",
   "execution_count": 8,
   "id": "5085ee68",
   "metadata": {
    "execution": {
     "iopub.execute_input": "2025-03-25T06:53:02.081256Z",
     "iopub.status.busy": "2025-03-25T06:53:02.081139Z",
     "iopub.status.idle": "2025-03-25T06:53:09.557093Z",
     "shell.execute_reply": "2025-03-25T06:53:09.556747Z"
    }
   },
   "outputs": [
    {
     "name": "stdout",
     "output_type": "stream",
     "text": [
      "Preview of selected clinical features:\n",
      "{'GSM1389621': [0.0, 46.0, 1.0], 'GSM1389622': [0.0, 33.0, 0.0], 'GSM1389623': [0.0, nan, 1.0], 'GSM1389624': [0.0, nan, 0.0], 'GSM1389625': [0.0, 22.0, 1.0], 'GSM1389626': [0.0, 52.0, 1.0], 'GSM1389627': [0.0, 25.0, 1.0], 'GSM1389628': [0.0, 31.0, 0.0], 'GSM1389629': [0.0, 60.0, 1.0], 'GSM1389630': [0.0, nan, 1.0], 'GSM1389631': [0.0, 40.0, 1.0], 'GSM1389632': [0.0, 50.0, 1.0], 'GSM1389633': [0.0, 51.0, 1.0], 'GSM1389634': [0.0, 39.0, 1.0], 'GSM1389635': [0.0, 6.0, 1.0], 'GSM1389636': [0.0, 51.0, 1.0], 'GSM1389637': [0.0, 56.0, 0.0], 'GSM1389638': [1.0, 16.0, 1.0], 'GSM1389639': [1.0, 41.0, 1.0], 'GSM1389640': [1.0, 31.0, 0.0], 'GSM1389641': [1.0, 35.0, 1.0], 'GSM1389642': [1.0, 4.0, 1.0], 'GSM1389643': [1.0, 10.0, 0.0], 'GSM1389644': [1.0, 12.0, 0.0], 'GSM1389645': [1.0, 7.0, 1.0], 'GSM1389646': [1.0, 6.0, 1.0], 'GSM1389647': [1.0, 1.4, 1.0], 'GSM1389648': [1.0, 10.0, 0.0], 'GSM1389649': [1.0, 6.0, 1.0], 'GSM1389650': [1.0, 38.0, 1.0], 'GSM1389651': [1.0, 14.7, 1.0], 'GSM1389652': [1.0, 11.0, 0.0], 'GSM1389653': [1.0, 7.0, 0.0], 'GSM1389654': [1.0, 12.8, 1.0], 'GSM1389655': [1.0, 11.9, 0.0], 'GSM1389656': [1.0, 7.7, 0.0], 'GSM1389657': [1.0, 3.3, 1.0], 'GSM1389658': [1.0, 1.5, 1.0], 'GSM1389659': [1.0, 16.0, 1.0], 'GSM1389660': [1.0, 40.0, 0.0], 'GSM1389661': [1.0, 39.0, 0.0], 'GSM1389662': [1.0, 12.0, 1.0], 'GSM1389663': [1.0, 5.9, 1.0], 'GSM1389664': [1.0, 4.1, 0.0], 'GSM1389665': [1.0, 5.2, 1.0], 'GSM1389666': [1.0, 9.0, 1.0], 'GSM1389667': [1.0, 37.0, 1.0], 'GSM1389668': [1.0, 14.8, 1.0], 'GSM1389669': [1.0, 15.0, 1.0], 'GSM1389670': [1.0, 5.7, 1.0], 'GSM1389671': [1.0, 23.0, 1.0], 'GSM1389672': [1.0, 6.8, 1.0], 'GSM1389673': [1.0, 53.0, 1.0], 'GSM1389674': [1.0, 8.8, 1.0], 'GSM1389675': [1.0, 6.8, 1.0], 'GSM1389676': [1.0, 26.0, 0.0], 'GSM1389677': [1.0, 21.0, 1.0], 'GSM1389678': [1.0, 13.0, 1.0], 'GSM1389679': [1.0, 12.0, 0.0], 'GSM1389680': [1.0, 21.0, 0.0], 'GSM1389681': [1.0, 10.0, 1.0], 'GSM1389682': [1.0, 15.0, 0.0], 'GSM1389683': [1.0, 11.0, 1.0], 'GSM1389684': [1.0, 5.5, 1.0], 'GSM1389685': [1.0, 3.7, 1.0], 'GSM1389686': [1.0, 4.0, 1.0], 'GSM1389687': [1.0, 7.0, 0.0], 'GSM1389688': [1.0, 5.0, 1.0], 'GSM1389689': [1.0, 5.0, 0.0], 'GSM1389690': [1.0, 42.0, 0.0], 'GSM1389691': [1.0, 42.0, 0.0], 'GSM1389692': [1.0, 5.0, 1.0], 'GSM1389693': [1.0, 8.0, 0.0], 'GSM1389694': [1.0, 15.0, 0.0], 'GSM1389695': [1.0, 3.4, 0.0], 'GSM1389696': [1.0, 44.0, 0.0], 'GSM1389697': [1.0, 16.0, 0.0], 'GSM1389698': [1.0, 52.0, 0.0], 'GSM1389699': [1.0, 28.0, 0.0], 'GSM1389700': [1.0, 0.6, 1.0], 'GSM1389701': [1.0, 14.0, 0.0], 'GSM1389702': [1.0, 1.8, 0.0], 'GSM1389703': [1.0, 40.0, 1.0], 'GSM1389704': [1.0, 9.0, 1.0], 'GSM1389705': [1.0, 5.2, 0.0], 'GSM1389706': [1.0, 5.5, 1.0], 'GSM1389707': [1.0, 28.0, 0.0], 'GSM1389708': [1.0, 42.0, 1.0], 'GSM1389709': [1.0, 12.8, 0.0], 'GSM1389710': [1.0, 36.0, 0.0], 'GSM1389711': [1.0, 3.0, 0.0], 'GSM1389712': [1.0, 41.0, 0.0], 'GSM1389713': [1.0, 6.0, 1.0], 'GSM1389714': [1.0, 76.0, 1.0], 'GSM1389715': [1.0, 47.0, 1.0], 'GSM1389716': [1.0, 44.0, 0.0], 'GSM1389717': [1.0, 3.0, 0.0], 'GSM1389718': [1.0, 34.0, 0.0], 'GSM1389719': [1.0, 11.0, 1.0]}\n",
      "Clinical data saved to ../../output/preprocess/Autism_spectrum_disorder_(ASD)/clinical_data/GSE57802.csv\n"
     ]
    },
    {
     "name": "stdout",
     "output_type": "stream",
     "text": [
      "Normalized gene data saved to ../../output/preprocess/Autism_spectrum_disorder_(ASD)/gene_data/GSE57802.csv\n"
     ]
    },
    {
     "name": "stdout",
     "output_type": "stream",
     "text": [
      "For the feature 'Autism_spectrum_disorder_(ASD)', the least common label is '0.0' with 17 occurrences. This represents 17.17% of the dataset.\n",
      "Quartiles for 'Age':\n",
      "  25%: 6.4\n",
      "  50% (Median): 14.7\n",
      "  75%: 36.5\n",
      "Min: 0.6\n",
      "Max: 76.0\n",
      "For the feature 'Gender', the least common label is '0.0' with 41 occurrences. This represents 41.41% of the dataset.\n"
     ]
    },
    {
     "name": "stdout",
     "output_type": "stream",
     "text": [
      "Linked data saved to ../../output/preprocess/Autism_spectrum_disorder_(ASD)/GSE57802.csv\n"
     ]
    }
   ],
   "source": [
    "# 1. We need to first create the selected_clinical_df using clinical_data from Step 1\n",
    "selected_clinical_df = geo_select_clinical_features(\n",
    "    clinical_df=clinical_data,\n",
    "    trait=trait,\n",
    "    trait_row=trait_row,\n",
    "    convert_trait=convert_trait,\n",
    "    age_row=age_row,\n",
    "    convert_age=convert_age,\n",
    "    gender_row=gender_row,\n",
    "    convert_gender=convert_gender\n",
    ")\n",
    "\n",
    "# Preview the extracted clinical features\n",
    "preview = preview_df(selected_clinical_df)\n",
    "print(\"Preview of selected clinical features:\")\n",
    "print(preview)\n",
    "\n",
    "# Save the clinical data\n",
    "os.makedirs(os.path.dirname(out_clinical_data_file), exist_ok=True)\n",
    "selected_clinical_df.to_csv(out_clinical_data_file)\n",
    "print(f\"Clinical data saved to {out_clinical_data_file}\")\n",
    "\n",
    "# 1. Normalize the obtained gene data with the 'normalize_gene_symbols_in_index' function from the library.\n",
    "normalized_gene_data = normalize_gene_symbols_in_index(gene_data)\n",
    "# Create directory if it doesn't exist\n",
    "os.makedirs(os.path.dirname(out_gene_data_file), exist_ok=True)\n",
    "normalized_gene_data.to_csv(out_gene_data_file)\n",
    "print(f\"Normalized gene data saved to {out_gene_data_file}\")\n",
    "\n",
    "# 2. Link the clinical and genetic data with the 'geo_link_clinical_genetic_data' function from the library.\n",
    "linked_data = geo_link_clinical_genetic_data(selected_clinical_df, normalized_gene_data)\n",
    "\n",
    "# 3. Handle missing values in the linked data\n",
    "linked_data = handle_missing_values(linked_data, trait)\n",
    "\n",
    "# 4. Determine whether the trait and demographic features are severely biased\n",
    "trait_type = 'binary' if len(linked_data[trait].unique()) <= 2 else 'continuous'\n",
    "if trait_type == 'binary':\n",
    "    is_trait_biased = judge_binary_variable_biased(linked_data, trait)\n",
    "else:\n",
    "    is_trait_biased = judge_continuous_variable_biased(linked_data, trait)\n",
    "\n",
    "# Remove biased demographic features\n",
    "unbiased_linked_data = linked_data.copy()\n",
    "if 'Age' in unbiased_linked_data.columns:\n",
    "    age_biased = judge_continuous_variable_biased(unbiased_linked_data, 'Age')\n",
    "    if age_biased:\n",
    "        unbiased_linked_data = unbiased_linked_data.drop(columns=['Age'])\n",
    "        \n",
    "if 'Gender' in unbiased_linked_data.columns:\n",
    "    gender_biased = judge_binary_variable_biased(unbiased_linked_data, 'Gender')\n",
    "    if gender_biased:\n",
    "        unbiased_linked_data = unbiased_linked_data.drop(columns=['Gender'])\n",
    "\n",
    "# 5. Conduct quality check and save the cohort information.\n",
    "is_usable = validate_and_save_cohort_info(\n",
    "    is_final=True, \n",
    "    cohort=cohort, \n",
    "    info_path=json_path, \n",
    "    is_gene_available=True, \n",
    "    is_trait_available=True, \n",
    "    is_biased=is_trait_biased, \n",
    "    df=unbiased_linked_data, \n",
    "    note=\"Dataset contains gene expression data from iPSC-derived neurons of ASD patients and unaffected siblings.\"\n",
    ")\n",
    "\n",
    "# 6. If the linked data is usable, save it as a CSV file to 'out_data_file'.\n",
    "if is_usable:\n",
    "    os.makedirs(os.path.dirname(out_data_file), exist_ok=True)\n",
    "    unbiased_linked_data.to_csv(out_data_file)\n",
    "    print(f\"Linked data saved to {out_data_file}\")\n",
    "else:\n",
    "    print(\"The dataset was determined to be not usable for analysis.\")"
   ]
  }
 ],
 "metadata": {
  "language_info": {
   "codemirror_mode": {
    "name": "ipython",
    "version": 3
   },
   "file_extension": ".py",
   "mimetype": "text/x-python",
   "name": "python",
   "nbconvert_exporter": "python",
   "pygments_lexer": "ipython3",
   "version": "3.10.16"
  }
 },
 "nbformat": 4,
 "nbformat_minor": 5
}
