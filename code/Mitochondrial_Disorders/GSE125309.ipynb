{
 "cells": [
  {
   "cell_type": "code",
   "execution_count": 1,
   "id": "81ec4709",
   "metadata": {
    "execution": {
     "iopub.execute_input": "2024-06-12T09:17:59.691405Z",
     "iopub.status.busy": "2024-06-12T09:17:59.691013Z",
     "iopub.status.idle": "2024-06-12T09:17:59.696455Z",
     "shell.execute_reply": "2024-06-12T09:17:59.696063Z"
    }
   },
   "outputs": [],
   "source": [
    "\n",
    "import sys\n",
    "sys.path.append('/home/techt/Desktop/a4s')\n"
   ]
  },
  {
   "cell_type": "markdown",
   "id": "a00f1599",
   "metadata": {},
   "source": [
    "### Step 1: Initial Data Loading"
   ]
  },
  {
   "cell_type": "code",
   "execution_count": 2,
   "id": "4019f580",
   "metadata": {
    "execution": {
     "iopub.execute_input": "2024-06-12T09:17:59.698969Z",
     "iopub.status.busy": "2024-06-12T09:17:59.698811Z",
     "iopub.status.idle": "2024-06-12T09:17:59.952542Z",
     "shell.execute_reply": "2024-06-12T09:17:59.952190Z"
    }
   },
   "outputs": [
    {
     "name": "stdout",
     "output_type": "stream",
     "text": [
      "Background Information:\n",
      "!Series_title\t\"miRNA expression profiling of HCT116 cell after dichloroacetate treatment\"\n",
      "!Series_summary\t\"Using the highly sensitive miRNA array, we screened  out different microRNAs regulated by different concertration of dichloroacetate for different time. Among them 119 microRNAs were obvious\"\n",
      "!Series_summary\t\"Metabolic abnormality is one of the hallmarks of cancer and has been shown to be involved in chemoresistance. In this context, targeting the abnormal metabolism of cancer cells has been an intense avenue of research aiming at    asphyxiating the tumor   . DCA inhibits the enzymatic activity of Pyruvate Dehydrogenase Kinases (PDK 1 to 4), which are enzymes critical for the activation of the pyruvate dehydrogenase necessary to transform pyruvate into acetyl-CoA, linking the glycolytic metabolism to the citric acid cycle. DCA is primarily used to treat lactic acidosis and hereditary mitochondrial disease, which has been also reported to have anti-cancer effect . However, the mechanism underlying the effect of DCA on CRC treatment remain unsettled. Multiple and complex mechanisms have been described that control the metabolic shift in cancer cells, including microRNAs (miRNAs). MicroRNAs represents a class of small endogenous noncoding RNAs that regulate translation and degradation of mRNAs. Besides controlling the metabolism, miRNAs participate in many more biological processes including cell proliferation, migration, apoptosis    , self-renewal, initiation and development of cancers, and chemoresistance.Here we explore the molecular mechanism involved in regulating glucose metabolism and associated chemotherapy resistance in CRC. By exploiting DCA, pyruvate dehydrogenase kinase (PDK) inhibitor, in CRC cells, trying to elucidate the roles of related miRNAs and thereby outlining a signaling pathway.\"\n",
      "!Series_overall_design\t\"In this study, HCT116 cell was treated with different contrations of dichloroacetate (5mM, 10mM, 20mM) for different times (12h, 24h,48h)\"\n",
      "Sample Characteristics Dictionary:\n",
      "{0: ['cell line: HCT116'], 1: ['cell type: Human coloretal cancer cell line'], 2: ['treatment: dichloroacetate (DCA)_12h_5mM', 'treatment: dichloroacetate (DCA)_12h_10mM', 'treatment: dichloroacetate (DCA)_12h_20mM', 'treatment: dichloroacetate (DCA)_24h_5mM', 'treatment: dichloroacetate (DCA)_24h_10mM', 'treatment: dichloroacetate (DCA)_24h_20mM', 'treatment: dichloroacetate (DCA)_48h_5mM', 'treatment: dichloroacetate (DCA)_48h_10mM', 'treatment: dichloroacetate (DCA)_48h_20mM', 'treatment: control']}\n"
     ]
    }
   ],
   "source": [
    "from utils.preprocess import *\n",
    "# 1. Identify the paths to the soft file and the matrix file\n",
    "cohort_dir = '/media/techt/DATA/GEO/Mitochondrial_Disorders/GSE125309'\n",
    "soft_file, matrix_file = geo_get_relevant_filepaths(cohort_dir)\n",
    "\n",
    "# 2. Read the matrix file to obtain background information and sample characteristics data\n",
    "background_prefixes = ['!Series_title', '!Series_summary', '!Series_overall_design']\n",
    "clinical_prefixes = ['!Sample_geo_accession', '!Sample_characteristics_ch1']\n",
    "background_info, clinical_data = get_background_and_clinical_data(matrix_file, background_prefixes, clinical_prefixes)\n",
    "\n",
    "# 3. Obtain the sample characteristics dictionary from the clinical dataframe\n",
    "sample_characteristics_dict = get_unique_values_by_row(clinical_data)\n",
    "\n",
    "# 4. Explicitly print out all the background information and the sample characteristics dictionary\n",
    "print(\"Background Information:\")\n",
    "print(background_info)\n",
    "print(\"Sample Characteristics Dictionary:\")\n",
    "print(sample_characteristics_dict)\n"
   ]
  },
  {
   "cell_type": "markdown",
   "id": "bd0f0ff1",
   "metadata": {},
   "source": [
    "### Step 2: Dataset Analysis and Clinical Feature Extraction"
   ]
  },
  {
   "cell_type": "code",
   "execution_count": 3,
   "id": "d7cfe297",
   "metadata": {
    "execution": {
     "iopub.execute_input": "2024-06-12T09:17:59.955058Z",
     "iopub.status.busy": "2024-06-12T09:17:59.954922Z",
     "iopub.status.idle": "2024-06-12T09:17:59.958176Z",
     "shell.execute_reply": "2024-06-12T09:17:59.957882Z"
    }
   },
   "outputs": [],
   "source": [
    "is_gene_available = False\n",
    "trait_row = age_row = gender_row = None  # set to different values when applicable\n",
    "convert_trait = convert_age = convert_gender = None  # define the functions when applicable\n",
    "\n",
    "# Given the background information and sample characteristics dictionary,\n",
    "# Step 1: Determine if the dataset contains gene expression data.\n",
    "is_gene_available = False  # This dataset contains miRNA expression data, not suitable for our associative studies.\n",
    "\n",
    "# Step 2.1: Data Availability\n",
    "# Checking the sample characteristics dictionary for relevant data.\n",
    "trait_row = age_row = gender_row = None  # All are set to None since the dataset is about a cell line, not human data.\n",
    "\n",
    "# Step 2.3: Data Type Conversion\n",
    "# Define the conversion functions. However, since data isn't available, these will remain as placeholders.\n",
    "def convert_trait(value):\n",
    "    return None\n",
    "\n",
    "def convert_age(value):\n",
    "    return None\n",
    "\n",
    "def convert_gender(value):\n",
    "    return None\n",
    "\n",
    "# Step 3: Save cohort information\n",
    "save_cohort_info('GSE125309', './preprocessed/Mitochondrial_Disorders/cohort_info.json', is_gene_available, trait_row is not None)\n",
    "\n",
    "# Step 4: Clinical Feature Extraction\n",
    "# This step is not applicable since trait_row is None (clinical data is not available for a cell line dataset).\n"
   ]
  }
 ],
 "metadata": {
  "language_info": {
   "codemirror_mode": {
    "name": "ipython",
    "version": 3
   },
   "file_extension": ".py",
   "mimetype": "text/x-python",
   "name": "python",
   "nbconvert_exporter": "python",
   "pygments_lexer": "ipython3",
   "version": "3.8.17"
  }
 },
 "nbformat": 4,
 "nbformat_minor": 5
}
