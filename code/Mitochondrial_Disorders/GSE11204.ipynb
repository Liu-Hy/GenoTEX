{
 "cells": [
  {
   "cell_type": "code",
   "execution_count": 1,
   "id": "316c7504",
   "metadata": {
    "execution": {
     "iopub.execute_input": "2024-06-12T09:17:57.271909Z",
     "iopub.status.busy": "2024-06-12T09:17:57.271812Z",
     "iopub.status.idle": "2024-06-12T09:17:57.275421Z",
     "shell.execute_reply": "2024-06-12T09:17:57.275166Z"
    }
   },
   "outputs": [],
   "source": [
    "\n",
    "import sys\n",
    "sys.path.append('/home/techt/Desktop/a4s')\n"
   ]
  },
  {
   "cell_type": "markdown",
   "id": "c9e6e238",
   "metadata": {},
   "source": [
    "### Step 1: Initial Data Loading"
   ]
  },
  {
   "cell_type": "code",
   "execution_count": 2,
   "id": "b1fa56a9",
   "metadata": {
    "execution": {
     "iopub.execute_input": "2024-06-12T09:17:57.277610Z",
     "iopub.status.busy": "2024-06-12T09:17:57.277486Z",
     "iopub.status.idle": "2024-06-12T09:17:57.562841Z",
     "shell.execute_reply": "2024-06-12T09:17:57.562410Z"
    }
   },
   "outputs": [
    {
     "name": "stdout",
     "output_type": "stream",
     "text": [
      "Background Information:\n",
      "!Series_title\t\"Altered gene expression and DNA damage in peripheral blood cells from Friedreich's ataxia patients\"\n",
      "!Series_summary\t\"Frataxin, a conserved mitochondrial protein involved in iron homeostasis, is reduced in patients with Friedreich’s ataxia (FRDA).  Transcription profiling and DNA damage assays were performed on blood cells from FRDA patients.  Altered expression patterns pertained to immune response, signaling pathways, transcription, apoptosis, and genotoxic stress response pathways.  FRDA patients had significantly more mitochondrial and nuclear DNA damage than a control population.  Frataxin mRNA levels correlated with age of onset and displayed unique sets of gene alterations involved in oxidative phosphorylation and protein synthesis.  Thus analysis of blood in FRDA patients yields insight into the nature and progression of the disease, as well as potential therapeutic approaches.\"\n",
      "!Series_summary\t\"Keywords: Friedreich's ataxia; frataxin; mitochondrial DNA damage; nuclear DNA damage; genotoxic stress\"\n",
      "!Series_overall_design\t\"Peripheral blood samples were collected from 48 children with FRDA participating in a randomized, placebo-controlled clinical trial for idebenone.  All whole blood samples in this study were collected before administration of idebenone.  RNA was isolated utilizing the PAXgene™ blood RNA isolation kit (PreAnalytiX/ QIAGEN, Hilden, Germany) according to the manufacturer’s protocol, including the optional on-column DNase digestion, except that the centrifugation time after proteinase K digestion was increased from 3 to 20 minutes in order to obtain a tighter debris pellet.  RNA quality was assessed with an Agilent Bioanalyzer™ (Palo Alto, CA) to ensure that samples with intact 18S and 28S ribosomal RNA peaks were used for microarray analysis.  Twenty samples were lost during the isolation procedures with 28 high-quality RNA samples remaining.  RNA was also isolated, using the same methods already described, from 14 FRDA adults and 15 healthy adults as controls.  Lymphoblastoid FRDA cell line and age-matched control RNAs were isolated using the QIAGEN Rneasy midi (100–500 µg RNA) according to the manufacturer’s protocol.\"\n",
      "!Series_overall_design\t\"Gene expression profiling was conducted using Agilent Human 1A(V2)  Oligo arrays  with ~20,000 genes represented (Agilent Technologies, Palo Alto, CA).  Each sample was hybridized against a human universal RNA control (Stratagene, La Jolla, CA). 500 ng of total RNA was amplified and labeled using the Agilent Low RNA Input Fluorescent Linear Amplification Kit, according to manufacturer’s protocol.  For each two color comparison, 750 ng of each Cy3- (universal control) and Cy5-labeled (sample) cRNA were mixed and fragmented using the Agilent In Situ Hybridization Kit protocol.  Hybridizations were performed for 17 hours in a rotating hybridization oven according to the Agilent 60-mer oligo microarray processing protocol prior to washing and scanning with an Agilent Scanner (Agilent Technologies, Wilmington, DE). The data were obtained with the Agilent Feature Extraction software (v9.1), using defaults for all parameters. The Feature Extraction Software performs error modeling before data are loaded into a database system.  Images and GEML files, including error and P values, were exported from the Agilent Feature Extraction software and deposited into Rosetta Resolver (version 5.0, build 5.0.0.2.48) (Rosetta Biosoftware, Kirkland, WA).\"\n",
      "Sample Characteristics Dictionary:\n",
      "{0: ['Universal Human Reference total RNA from 10 human cell lines']}\n"
     ]
    }
   ],
   "source": [
    "from utils.preprocess import *\n",
    "# 1. Identify the paths to the soft file and the matrix file\n",
    "cohort_dir = '/media/techt/DATA/GEO/Mitochondrial_Disorders/GSE11204'\n",
    "soft_file, matrix_file = geo_get_relevant_filepaths(cohort_dir)\n",
    "\n",
    "# 2. Read the matrix file to obtain background information and sample characteristics data\n",
    "background_prefixes = ['!Series_title', '!Series_summary', '!Series_overall_design']\n",
    "clinical_prefixes = ['!Sample_geo_accession', '!Sample_characteristics_ch1']\n",
    "background_info, clinical_data = get_background_and_clinical_data(matrix_file, background_prefixes, clinical_prefixes)\n",
    "\n",
    "# 3. Obtain the sample characteristics dictionary from the clinical dataframe\n",
    "sample_characteristics_dict = get_unique_values_by_row(clinical_data)\n",
    "\n",
    "# 4. Explicitly print out all the background information and the sample characteristics dictionary\n",
    "print(\"Background Information:\")\n",
    "print(background_info)\n",
    "print(\"Sample Characteristics Dictionary:\")\n",
    "print(sample_characteristics_dict)\n"
   ]
  },
  {
   "cell_type": "markdown",
   "id": "e0a5832b",
   "metadata": {},
   "source": [
    "### Step 2: Dataset Analysis and Clinical Feature Extraction"
   ]
  },
  {
   "cell_type": "code",
   "execution_count": 3,
   "id": "b626b835",
   "metadata": {
    "execution": {
     "iopub.execute_input": "2024-06-12T09:17:57.564688Z",
     "iopub.status.busy": "2024-06-12T09:17:57.564547Z",
     "iopub.status.idle": "2024-06-12T09:17:57.567296Z",
     "shell.execute_reply": "2024-06-12T09:17:57.567018Z"
    }
   },
   "outputs": [],
   "source": [
    "is_gene_available = True \n",
    "trait_row = age_row = gender_row = None  # set to different values when applicable\n",
    "convert_trait = convert_age = convert_gender = None  # define the functions when applicable\n",
    "\n",
    "# Since the provided sample characteristics dictionary does not contain clear information regarding the traits,\n",
    "# I'll set `trait_row`, `age_row`, and `gender_row` to None, as the required keys are not identifiable from the given dictionary.\n",
    "# No conversion functions can be applied because we don't know the structure or presence of the necessary fields.\n",
    "\n",
    "# Save cohort info\n",
    "save_cohort_info('GSE11204', './preprocessed/Mitochondrial_Disorders/cohort_info.json', is_gene_available, trait_row is not None)\n",
    "\n",
    "# Clinical feature extraction should not proceed since `trait_row` is None.\n"
   ]
  }
 ],
 "metadata": {
  "language_info": {
   "codemirror_mode": {
    "name": "ipython",
    "version": 3
   },
   "file_extension": ".py",
   "mimetype": "text/x-python",
   "name": "python",
   "nbconvert_exporter": "python",
   "pygments_lexer": "ipython3",
   "version": "3.8.17"
  }
 },
 "nbformat": 4,
 "nbformat_minor": 5
}
