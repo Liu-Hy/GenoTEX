{
 "cells": [
  {
   "cell_type": "code",
   "execution_count": 1,
   "id": "36bd8c3b",
   "metadata": {
    "execution": {
     "iopub.execute_input": "2024-06-12T09:17:56.049031Z",
     "iopub.status.busy": "2024-06-12T09:17:56.048905Z",
     "iopub.status.idle": "2024-06-12T09:17:56.053136Z",
     "shell.execute_reply": "2024-06-12T09:17:56.052861Z"
    }
   },
   "outputs": [],
   "source": [
    "\n",
    "import sys\n",
    "sys.path.append('/home/techt/Desktop/a4s')\n"
   ]
  },
  {
   "cell_type": "markdown",
   "id": "d1b368df",
   "metadata": {},
   "source": [
    "### Step 1: Initial Data Loading"
   ]
  },
  {
   "cell_type": "code",
   "execution_count": 2,
   "id": "2bcc98e2",
   "metadata": {
    "execution": {
     "iopub.execute_input": "2024-06-12T09:17:56.055072Z",
     "iopub.status.busy": "2024-06-12T09:17:56.054962Z",
     "iopub.status.idle": "2024-06-12T09:17:56.315152Z",
     "shell.execute_reply": "2024-06-12T09:17:56.314785Z"
    }
   },
   "outputs": [
    {
     "name": "stdout",
     "output_type": "stream",
     "text": [
      "Background Information:\n",
      "!Series_title\t\"Cell Adhesion Molecule 1 (CADM1): A Novel Risk Factor for Venous Thrombosis\"\n",
      "!Series_summary\t\"Protein C (PC) deficiency increases the risk of venous thrombosis (VT) among members of Kindred Vermont II, but fails to fully account for the inheritance pattern. A genome scan of the pedigree supported the presence of a prothrombotic gene on chromosome 11q23 with weaker support on chromosomes 10p12 and 18p11.2-q11.\"\n",
      "!Series_summary\t\"Preliminary data from Affimetrix microarray expression analysis of Blood Outgrowth Endothelial Cells of 3 members of Kindred Vermont II compared to a well established normal control group indicated that IgsF4 was decreased in patients versus controls. In addition, both statistical and pathway analysis results suggested that these genes are associated protein C.  Further studies indicated that Cell Adhesion Molecule 1 (CADM1), a member of the IgsF4 superfamily, may be associated with VT.\"\n",
      "!Series_overall_design\t\"We obtained BOEC (blood outgrowth endothelial cells) from 3 female kindred subjects (ages 56, 61, and 74) with Protein C Deficiency. We also performed microarray analysis on BOEC from 27 normal subjects of diverse ages.\"\n",
      "Sample Characteristics Dictionary:\n",
      "{0: ['cell type: blood outgrowth endothelial cell'], 1: ['status: normal', 'vt sample: 1', 'vt sample: 2', 'vt sample: 3'], 2: ['race: African American', 'race: Caucasian', 'status: Protein C Deficiency'], 3: ['age: 50', 'age: 60', 'age: 53', 'age: 40', 'age: 41', 'age: 33', 'age: 23', 'age: 46', 'age: 31', 'age: 63', 'age: 57', 'age: 29', 'age: 44', 'age: 27', 'age: 55', 'age: 35', 'age: 56', 'age: 61', 'age: 74'], 4: ['sex: F', 'sex: M', 'Sex: F']}\n"
     ]
    }
   ],
   "source": [
    "from utils.preprocess import *\n",
    "# 1. Identify the paths to the soft file and the matrix file\n",
    "cohort_dir = '/media/techt/DATA/GEO/Mitochondrial_Disorders/GSE17078'\n",
    "soft_file, matrix_file = geo_get_relevant_filepaths(cohort_dir)\n",
    "\n",
    "# 2. Read the matrix file to obtain background information and sample characteristics data\n",
    "background_prefixes = ['!Series_title', '!Series_summary', '!Series_overall_design']\n",
    "clinical_prefixes = ['!Sample_geo_accession', '!Sample_characteristics_ch1']\n",
    "background_info, clinical_data = get_background_and_clinical_data(matrix_file, background_prefixes, clinical_prefixes)\n",
    "\n",
    "# 3. Obtain the sample characteristics dictionary from the clinical dataframe\n",
    "sample_characteristics_dict = get_unique_values_by_row(clinical_data)\n",
    "\n",
    "# 4. Explicitly print out all the background information and the sample characteristics dictionary\n",
    "print(\"Background Information:\")\n",
    "print(background_info)\n",
    "print(\"Sample Characteristics Dictionary:\")\n",
    "print(sample_characteristics_dict)\n"
   ]
  },
  {
   "cell_type": "markdown",
   "id": "781de50a",
   "metadata": {},
   "source": [
    "### Step 2: Dataset Analysis and Clinical Feature Extraction"
   ]
  },
  {
   "cell_type": "code",
   "execution_count": 3,
   "id": "0cfbcd20",
   "metadata": {
    "execution": {
     "iopub.execute_input": "2024-06-12T09:17:56.317179Z",
     "iopub.status.busy": "2024-06-12T09:17:56.317066Z",
     "iopub.status.idle": "2024-06-12T09:17:56.321486Z",
     "shell.execute_reply": "2024-06-12T09:17:56.321228Z"
    }
   },
   "outputs": [],
   "source": [
    "is_gene_available = False\n",
    "trait_row = age_row = gender_row = None  # set to different values when applicable\n",
    "convert_trait = convert_age = convert_gender = None  # define the functions when applicable\n",
    "\n",
    "# Check for gene expression data availability\n",
    "is_gene_available = True  # Set to True based on the context\n",
    "\n",
    "# Identify the keys for variables\n",
    "trait_row = None  # No direct information about Mitochondrial_Disorders\n",
    "age_row = 3  # Age information available in row 3\n",
    "gender_row = 4  # Gender information available in row 4\n",
    "\n",
    "# Define conversion functions\n",
    "def convert_trait(value):\n",
    "    # As no data is available for Mitochondrial_Disorders, this can be None\n",
    "    return None\n",
    "\n",
    "def convert_age(value):\n",
    "    try:\n",
    "        return float(value.split(': ')[1])\n",
    "    except:\n",
    "        return None\n",
    "\n",
    "def convert_gender(value):\n",
    "    gender = value.split(': ')[1].strip().lower()\n",
    "    if gender == 'f':\n",
    "        return 0\n",
    "    elif gender == 'm':\n",
    "        return 1\n",
    "    else:\n",
    "        return None\n",
    "\n",
    "# Save cohort information\n",
    "save_cohort_info('GSE17078', './preprocessed/Mitochondrial_Disorders/cohort_info.json', is_gene_available, trait_row is not None)\n",
    "\n",
    "# Clinical feature extraction only if trait_row is not None (skipped in this case)\n",
    "# In the user's context, this step may be performed based on the availability of the trait variable\n",
    "if trait_row is not None:\n",
    "    selected_clinical_data = geo_select_clinical_features(clinical_data, 'Mitochondrial_Disorders', trait_row, convert_trait, age_row, convert_age, gender_row, convert_gender)\n",
    "    csv_path = './preprocessed/Mitochondrial_Disorders/trait_data/GSE17078.csv'\n",
    "    selected_clinical_data.to_csv(csv_path)\n",
    "    print(preview_df(selected_clinical_data))\n"
   ]
  }
 ],
 "metadata": {
  "language_info": {
   "codemirror_mode": {
    "name": "ipython",
    "version": 3
   },
   "file_extension": ".py",
   "mimetype": "text/x-python",
   "name": "python",
   "nbconvert_exporter": "python",
   "pygments_lexer": "ipython3",
   "version": "3.8.17"
  }
 },
 "nbformat": 4,
 "nbformat_minor": 5
}
