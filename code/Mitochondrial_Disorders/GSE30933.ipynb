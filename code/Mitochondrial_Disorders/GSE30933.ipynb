{
 "cells": [
  {
   "cell_type": "code",
   "execution_count": 1,
   "id": "eee3a04f",
   "metadata": {
    "execution": {
     "iopub.execute_input": "2024-06-12T09:17:05.990944Z",
     "iopub.status.busy": "2024-06-12T09:17:05.990720Z",
     "iopub.status.idle": "2024-06-12T09:17:05.998054Z",
     "shell.execute_reply": "2024-06-12T09:17:05.997400Z"
    }
   },
   "outputs": [],
   "source": [
    "\n",
    "import sys\n",
    "sys.path.append('/home/techt/Desktop/a4s')\n"
   ]
  },
  {
   "cell_type": "markdown",
   "id": "0a2d1a4d",
   "metadata": {},
   "source": [
    "### Step 1: Initial Data Loading"
   ]
  },
  {
   "cell_type": "code",
   "execution_count": 2,
   "id": "ca932ce1",
   "metadata": {
    "execution": {
     "iopub.execute_input": "2024-06-12T09:17:06.000056Z",
     "iopub.status.busy": "2024-06-12T09:17:05.999950Z",
     "iopub.status.idle": "2024-06-12T09:17:06.415544Z",
     "shell.execute_reply": "2024-06-12T09:17:06.415188Z"
    }
   },
   "outputs": [
    {
     "name": "stdout",
     "output_type": "stream",
     "text": [
      "Background Information:\n",
      "!Series_title\t\"A Gene Expression Phenotype In Lymphocytes From Friedreich’s Ataxia Patients\"\n",
      "!Series_summary\t\"Gene expression studies in peripheral tissues from patients with neurodegenerative disorders can provide insights into disease pathogenesis, and identify potential biomarkers, an important goal of translational research in neurodegeneration. Friedreich’s Ataxia (FRDA) is a chronic neurodegenerative disease caused by reduced transcription of frataxin, a ubiquitously expressed protein. We studied in vitro lymphocytes from FRDA patients and carriers, in order to identify a peripheral gene expression phenotype. Peripheral biomarkers related to disease status would be extremely valuable for assessing drug efficacy and could provide new pathophysiological insights.\"\n",
      "!Series_summary\t\"We identified a subset of genes changed in cells from patients with pathological frataxin deficiency and a core set of these genes were confirmed in independent series. Changes in gene expression were related to the mitochondria, lipid metabolism, cell cycle, and DNA repair, consistent with FRDA’s known pathophysiology. We evaluated the in vitro effect of multiple compounds (HDAC inhibitors) on this putative biomarker set, and found that this biochemical phenotype was ameliorated in accordance with drug efficacy.  Frataxin downregulation is associated with robust changes in gene expression in PBMCs, providing pathogenetic insights and a core subset of genes which, if verified in vivo, could be used as a peripheral biomarker.\"\n",
      "!Series_overall_design\t\"We characterized the gene expression profiles in peripheral blood mononuclear cells (PBMCs) from FRDA patients, compared with controls and related carriers. Cells were studied both before and after in vitro treatment with compounds that increase frataxin levels. Quantitative real-time PCR and additional microarrays were used to confirm a core set of genes in multiple independent series\"\n",
      "Sample Characteristics Dictionary:\n",
      "{0: ['disease status: Carrier', 'disease status: FRDA', 'disease status: Normal'], 1: ['treatment: 106', 'treatment: 4b', 'treatment: 9b', 'treatment: DMSO', 'treatment: empty'], 2: ['barcode: 1743113012_F', 'barcode: 1743113091_E', 'barcode: 1743113091_H', 'barcode: 1743113092_F', 'barcode: 1743113116_A', 'barcode: 4165638156_B', 'barcode: 4165638156_F', 'barcode: 4165638178_D', 'barcode: 4203841023_D', 'barcode: 4203841023_F', 'barcode: 1743113012_H', 'barcode: 1743113078_H', 'barcode: 1743113092_H', 'barcode: 1743113116_F', 'barcode: 1743113116_H', 'barcode: 4165638156_D', 'barcode: 4165638156_H', 'barcode: 4165638178_H', 'barcode: 4203841023_B', 'barcode: 4203841023_H', 'barcode: 1825371071_A', 'barcode: 1825371071_B', 'barcode: 1825371074_A', 'barcode: 1825371074_G', 'barcode: 1825371098_C', 'barcode: 1825371098_G', 'barcode: 1825371103_C', 'barcode: 1916715083_E', 'barcode: 1916715083_F', 'barcode: 1916715083_G']}\n"
     ]
    }
   ],
   "source": [
    "from utils.preprocess import *\n",
    "# 1. Identify the paths to the soft file and the matrix file\n",
    "cohort_dir = '/media/techt/DATA/GEO/Mitochondrial_Disorders/GSE30933'\n",
    "soft_file, matrix_file = geo_get_relevant_filepaths(cohort_dir)\n",
    "\n",
    "# 2. Read the matrix file to obtain background information and sample characteristics data\n",
    "background_prefixes = ['!Series_title', '!Series_summary', '!Series_overall_design']\n",
    "clinical_prefixes = ['!Sample_geo_accession', '!Sample_characteristics_ch1']\n",
    "background_info, clinical_data = get_background_and_clinical_data(matrix_file, background_prefixes, clinical_prefixes)\n",
    "\n",
    "# 3. Obtain the sample characteristics dictionary from the clinical dataframe\n",
    "sample_characteristics_dict = get_unique_values_by_row(clinical_data)\n",
    "\n",
    "# 4. Explicitly print out all the background information and the sample characteristics dictionary\n",
    "print(\"Background Information:\")\n",
    "print(background_info)\n",
    "print(\"Sample Characteristics Dictionary:\")\n",
    "print(sample_characteristics_dict)\n"
   ]
  },
  {
   "cell_type": "markdown",
   "id": "235eb16a",
   "metadata": {},
   "source": [
    "### Step 2: Dataset Analysis and Clinical Feature Extraction"
   ]
  },
  {
   "cell_type": "code",
   "execution_count": 3,
   "id": "c86c31c1",
   "metadata": {
    "execution": {
     "iopub.execute_input": "2024-06-12T09:17:06.417273Z",
     "iopub.status.busy": "2024-06-12T09:17:06.417128Z",
     "iopub.status.idle": "2024-06-12T09:17:06.429573Z",
     "shell.execute_reply": "2024-06-12T09:17:06.429259Z"
    }
   },
   "outputs": [
    {
     "name": "stdout",
     "output_type": "stream",
     "text": [
      "{'GSM766694': [0], 'GSM766695': [0], 'GSM766696': [0], 'GSM766697': [0], 'GSM766698': [0], 'GSM766699': [0], 'GSM766700': [0], 'GSM766701': [0], 'GSM766702': [0], 'GSM766703': [0], 'GSM766704': [1], 'GSM766705': [1], 'GSM766706': [1], 'GSM766707': [1], 'GSM766708': [1], 'GSM766709': [1], 'GSM766710': [1], 'GSM766711': [1], 'GSM766712': [1], 'GSM766713': [1], 'GSM766714': [0], 'GSM766715': [0], 'GSM766716': [0], 'GSM766717': [0], 'GSM766718': [0], 'GSM766719': [0], 'GSM766720': [0], 'GSM766721': [0], 'GSM766722': [0], 'GSM766723': [0], 'GSM766724': [0], 'GSM766725': [0], 'GSM766726': [0], 'GSM766727': [0], 'GSM766728': [0], 'GSM766729': [0], 'GSM766730': [1], 'GSM766731': [1], 'GSM766732': [1], 'GSM766733': [1], 'GSM766734': [1], 'GSM766735': [0], 'GSM766736': [0], 'GSM766737': [0], 'GSM766738': [0], 'GSM766739': [0], 'GSM766740': [0], 'GSM766741': [0], 'GSM766742': [0], 'GSM766743': [0], 'GSM766744': [0], 'GSM766745': [0], 'GSM766746': [0], 'GSM766747': [1], 'GSM766748': [1], 'GSM766749': [1], 'GSM766750': [1], 'GSM766751': [1], 'GSM766752': [0], 'GSM766753': [0], 'GSM766754': [0], 'GSM766755': [0], 'GSM766756': [0], 'GSM766757': [0], 'GSM766758': [0], 'GSM766759': [0], 'GSM766760': [0], 'GSM766761': [0], 'GSM766762': [0], 'GSM766763': [1], 'GSM766764': [1], 'GSM766765': [1], 'GSM766766': [1], 'GSM766767': [0], 'GSM766768': [0], 'GSM766769': [0], 'GSM766770': [0], 'GSM766771': [0], 'GSM766772': [0], 'GSM766773': [0], 'GSM766774': [0], 'GSM766775': [0], 'GSM766776': [0], 'GSM766777': [0], 'GSM766778': [0], 'GSM766779': [0], 'GSM766780': [0], 'GSM766781': [0], 'GSM766782': [0], 'GSM766783': [1], 'GSM766784': [1], 'GSM766785': [1], 'GSM766786': [1], 'GSM766787': [1], 'GSM766788': [1], 'GSM766789': [1], 'GSM766790': [1], 'GSM766791': [1], 'GSM766792': [1], 'GSM766793': [0], 'GSM766794': [0], 'GSM766795': [0], 'GSM766796': [0], 'GSM766797': [0], 'GSM766798': [0], 'GSM766799': [0], 'GSM766800': [0], 'GSM766801': [0]}\n"
     ]
    }
   ],
   "source": [
    "is_gene_available = False\n",
    "trait_row = age_row = gender_row = None  # set to different values when applicable\n",
    "convert_trait = convert_age = convert_gender = None  # define the functions when applicable\n",
    "\n",
    "# Checking Gene Expression Data Availability\n",
    "is_gene_available = True  # Based on the series description mentioning 'gene expression'\n",
    "\n",
    "# Data Availability for 'Mitochondrial_Disorders'\n",
    "if 'disease status: Carrier' in sample_characteristics_dict[0] or 'disease status: FRDA' in sample_characteristics_dict[0]:\n",
    "    trait_row = 0\n",
    "\n",
    "# Data Availability for 'age'\n",
    "# No explicit mention of age data, hence not available\n",
    "age_row = None\n",
    "\n",
    "# Data Availability for 'gender'\n",
    "# No mention of gender data in the provided characteristics\n",
    "gender_row = None\n",
    "\n",
    "# Define the conversion functions\n",
    "def convert_trait(value):\n",
    "    if 'Carrier' in value:\n",
    "        return 0\n",
    "    elif 'FRDA' in value:\n",
    "        return 1\n",
    "    elif 'Normal' in value:\n",
    "        return 0\n",
    "    else:\n",
    "        return None\n",
    "\n",
    "# Define placeholder conversion functions for age and gender\n",
    "def convert_age(value):\n",
    "    return None\n",
    "\n",
    "def convert_gender(value):\n",
    "    return None\n",
    "\n",
    "# Save Metadata\n",
    "save_cohort_info('GSE30933', './preprocessed/Mitochondrial_Disorders/cohort_info.json', is_gene_available, trait_row is not None)\n",
    "\n",
    "# Clinical Feature Extraction\n",
    "if trait_row is not None:\n",
    "    selected_clinical_data = geo_select_clinical_features(clinical_data, 'Mitochondrial_Disorders', trait_row, convert_trait, age_row, convert_age, gender_row, convert_gender)\n",
    "    csv_path = './preprocessed/Mitochondrial_Disorders/trait_data/GSE30933.csv'\n",
    "    selected_clinical_data.to_csv(csv_path)\n",
    "    print(preview_df(selected_clinical_data))\n"
   ]
  },
  {
   "cell_type": "markdown",
   "id": "a2a666e6",
   "metadata": {},
   "source": [
    "### Step 3: Gene Data Extraction"
   ]
  },
  {
   "cell_type": "code",
   "execution_count": 4,
   "id": "f46ac556",
   "metadata": {
    "execution": {
     "iopub.execute_input": "2024-06-12T09:17:06.431059Z",
     "iopub.status.busy": "2024-06-12T09:17:06.430953Z",
     "iopub.status.idle": "2024-06-12T09:17:06.784668Z",
     "shell.execute_reply": "2024-06-12T09:17:06.784294Z"
    }
   },
   "outputs": [
    {
     "name": "stdout",
     "output_type": "stream",
     "text": [
      "Index(['ILMN_10000', 'ILMN_10001', 'ILMN_10002', 'ILMN_10004', 'ILMN_10005',\n",
      "       'ILMN_10006', 'ILMN_10009', 'ILMN_1001', 'ILMN_10010', 'ILMN_10011',\n",
      "       'ILMN_10012', 'ILMN_10013', 'ILMN_10014', 'ILMN_10016', 'ILMN_1002',\n",
      "       'ILMN_10020', 'ILMN_10021', 'ILMN_10022', 'ILMN_10023', 'ILMN_10024'],\n",
      "      dtype='object', name='ID')\n"
     ]
    }
   ],
   "source": [
    "# 1. Use the get_genetic_data function from the library to get the gene_data from the matrix_file previously defined.\n",
    "gene_data = get_genetic_data(matrix_file)\n",
    "\n",
    "# 2. Print the first 20 row ids for the following step.\n",
    "print(gene_data.index[:20])\n"
   ]
  },
  {
   "cell_type": "markdown",
   "id": "863a90e6",
   "metadata": {},
   "source": [
    "### Step 4: Gene Identifier Review"
   ]
  },
  {
   "cell_type": "code",
   "execution_count": 5,
   "id": "9901916b",
   "metadata": {
    "execution": {
     "iopub.execute_input": "2024-06-12T09:17:06.786355Z",
     "iopub.status.busy": "2024-06-12T09:17:06.786227Z",
     "iopub.status.idle": "2024-06-12T09:17:06.788274Z",
     "shell.execute_reply": "2024-06-12T09:17:06.787952Z"
    }
   },
   "outputs": [],
   "source": [
    "requires_gene_mapping = True\n"
   ]
  },
  {
   "cell_type": "markdown",
   "id": "c0de2244",
   "metadata": {},
   "source": [
    "### Step 5: Gene Annotation (Conditional)"
   ]
  },
  {
   "cell_type": "code",
   "execution_count": 6,
   "id": "9c018d7c",
   "metadata": {
    "execution": {
     "iopub.execute_input": "2024-06-12T09:17:06.789954Z",
     "iopub.status.busy": "2024-06-12T09:17:06.789682Z",
     "iopub.status.idle": "2024-06-12T09:17:09.353652Z",
     "shell.execute_reply": "2024-06-12T09:17:09.353256Z"
    }
   },
   "outputs": [
    {
     "name": "stdout",
     "output_type": "stream",
     "text": [
      "Gene annotation preview:\n",
      "{'ID': ['ILMN_10000', 'ILMN_10001', 'ILMN_10002', 'ILMN_10004', 'ILMN_10005'], 'GB_ACC': ['NM_007112.3', 'NM_018976.3', 'NM_175569.1', 'NM_001954.3', 'NM_031966.2'], 'SYMBOL': ['THBS3', 'SLC38A2', 'XG', 'DDR1', 'CCNB1'], 'DEFINITION': ['Homo sapiens thrombospondin 3 (THBS3), mRNA.', 'Homo sapiens solute carrier family 38, member 2 (SLC38A2), mRNA.', 'Homo sapiens Xg blood group (XG), mRNA.', 'Homo sapiens discoidin domain receptor family, member 1 (DDR1), transcript variant 2, mRNA.', 'Homo sapiens cyclin B1 (CCNB1), mRNA.'], 'ONTOLOGY': ['cell-matrix adhesion [goid 7160] [pmid 8468055] [evidence TAS]; cell motility [goid 6928] [evidence NR ]; calcium ion binding [goid 5509] [pmid 8288588] [evidence TAS]; structural molecule activity [goid 5198] [evidence IEA]; protein binding [goid 5515] [evidence IEA]; heparin binding [goid 8201] [evidence NR ]; extracellular matrix (sensu Metazoa) [goid 5578] [evidence NR ]', 'transport [goid 6810] [evidence IEA]; amino acid transport [goid 6865] [evidence IEA]; amino acid-polyamine transporter activity [goid 5279] [evidence IEA]; membrane [goid 16020] [evidence IEA]', 'biological process unknown [goid 4] [evidence ND ]; molecular function unknown [goid 5554] [pmid 8054981] [evidence ND ]; membrane [goid 16020] [evidence NAS]; integral to membrane [goid 16021] [evidence IEA]', 'cell adhesion [goid 7155] [pmid 8302582] [evidence TAS]; transmembrane receptor protein tyrosine kinase signaling pathway [goid 7169] [evidence IEA]; protein amino acid phosphorylation [goid 6468] [evidence IEA]; nucleotide binding [goid 166] [evidence IEA]; transmembrane receptor protein tyrosine kinase activity [goid 4714] [pmid 9659899] [evidence TAS]; receptor activity [goid 4872] [evidence IEA]; transferase activity [goid 16740] [evidence IEA]; ATP binding [goid 5524] [evidence IEA]; protein-tyrosine kinase activity [goid 4713] [evidence IEA]; membrane [goid 16020] [evidence IEA]; integral to plasma membrane [goid 5887] [pmid 8390675] [evidence TAS]', 'cell division [goid 51301] [evidence IEA]; mitosis [goid 7067] [evidence IEA]; regulation of cell cycle [goid 74] [evidence IEA]; G2/M transition of mitotic cell cycle [goid 86] [evidence NAS]; cell cycle [goid 7049] [evidence IEA]; protein binding [goid 5515] [pmid 10373560] [evidence IPI]; nucleus [goid 5634] [evidence IEA]'], 'SYNONYM': ['TSP3', 'ATA2; SAT2; SNAT2; PRO1068; KIAA1382', 'PBDX; MGC118758; MGC118759; MGC118760; MGC118761', 'CAK; DDR; NEP; PTK3; RTK6; TRKE; CD167; EDDR1; MCK10; NTRK4; PTK3A', 'CCNB']}\n"
     ]
    }
   ],
   "source": [
    "# 1. Use the 'get_gene_annotation' function from the library to get gene annotation data from the soft file.\n",
    "gene_annotation = get_gene_annotation(soft_file)\n",
    "\n",
    "# 2. Use the 'preview_df' function from the library to preview the data and print out the results.\n",
    "print(\"Gene annotation preview:\")\n",
    "print(preview_df(gene_annotation))\n"
   ]
  },
  {
   "cell_type": "markdown",
   "id": "c0b4acd9",
   "metadata": {},
   "source": [
    "### Step 6: Gene Identifier Mapping"
   ]
  },
  {
   "cell_type": "code",
   "execution_count": 7,
   "id": "ec01aa7c",
   "metadata": {
    "execution": {
     "iopub.execute_input": "2024-06-12T09:17:09.355289Z",
     "iopub.status.busy": "2024-06-12T09:17:09.355170Z",
     "iopub.status.idle": "2024-06-12T09:17:09.527811Z",
     "shell.execute_reply": "2024-06-12T09:17:09.527400Z"
    }
   },
   "outputs": [],
   "source": [
    "# 1. Identify the keys for identifiers and gene symbols\n",
    "identifier_key = 'ID'\n",
    "gene_symbol_key = 'SYMBOL'\n",
    "\n",
    "# 2. Get the dataframe storing the mapping between probe IDs and genes\n",
    "probe_gene_mapping = get_gene_mapping(gene_annotation, identifier_key, gene_symbol_key)\n",
    "\n",
    "# 3. Apply the mapping to convert gene expression data\n",
    "gene_data = apply_gene_mapping(gene_data, probe_gene_mapping)\n"
   ]
  },
  {
   "cell_type": "markdown",
   "id": "2ffd8ffb",
   "metadata": {},
   "source": [
    "### Step 7: Data Normalization and Merging"
   ]
  },
  {
   "cell_type": "code",
   "execution_count": 8,
   "id": "caf3ca15",
   "metadata": {
    "execution": {
     "iopub.execute_input": "2024-06-12T09:17:09.529745Z",
     "iopub.status.busy": "2024-06-12T09:17:09.529633Z",
     "iopub.status.idle": "2024-06-12T09:17:55.292933Z",
     "shell.execute_reply": "2024-06-12T09:17:55.292511Z"
    }
   },
   "outputs": [
    {
     "name": "stdout",
     "output_type": "stream",
     "text": [
      "For the feature 'Mitochondrial_Disorders', the least common label is '1.0' with 34 occurrences. This represents 31.48% of the dataset.\n",
      "The distribution of the feature 'Mitochondrial_Disorders' in this dataset is fine.\n",
      "\n"
     ]
    }
   ],
   "source": [
    "# 1. Normalize the obtained gene data with the 'normalize_gene_symbols_in_index' function from the library.\n",
    "normalized_gene_data = normalize_gene_symbols_in_index(gene_data)\n",
    "gene_csv_path = './preprocessed/Mitochondrial_Disorders/gene_data/GSE30933.csv'\n",
    "normalized_gene_data.to_csv(gene_csv_path)\n",
    "\n",
    "# 2. Merge the clinical and genetic data with the 'geo_merge_clinical_genetic_data' function from the library.\n",
    "merged_data = geo_merge_clinical_genetic_data(selected_clinical_data, normalized_gene_data)\n",
    "\n",
    "# 3. Determine whether the trait and some demographic attributes in the data is severely biased, and remove biased attributes.\n",
    "trait_biased, unbiased_merged_data = judge_and_remove_biased_features(merged_data, 'Mitochondrial_Disorders')\n",
    "\n",
    "# If the trait is not severely biased, save the cohort information and the merged data.\n",
    "\n",
    "# 4. Save the cohort information.\n",
    "save_cohort_info('GSE30933', './preprocessed/Mitochondrial_Disorders/cohort_info.json', True, True, trait_biased, merged_data)\n",
    "\n",
    "if not trait_biased:\n",
    "    # 5. If the trait is not severely biased, save the merged data to a csv file.\n",
    "    csv_path = './preprocessed/Mitochondrial_Disorders/GSE30933.csv'\n",
    "    unbiased_merged_data.to_csv(csv_path)\n"
   ]
  }
 ],
 "metadata": {
  "language_info": {
   "codemirror_mode": {
    "name": "ipython",
    "version": 3
   },
   "file_extension": ".py",
   "mimetype": "text/x-python",
   "name": "python",
   "nbconvert_exporter": "python",
   "pygments_lexer": "ipython3",
   "version": "3.8.17"
  }
 },
 "nbformat": 4,
 "nbformat_minor": 5
}
