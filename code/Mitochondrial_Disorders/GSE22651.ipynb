{
 "cells": [
  {
   "cell_type": "code",
   "execution_count": 1,
   "id": "9672adc2",
   "metadata": {
    "execution": {
     "iopub.execute_input": "2024-06-12T09:17:04.708843Z",
     "iopub.status.busy": "2024-06-12T09:17:04.708746Z",
     "iopub.status.idle": "2024-06-12T09:17:04.713016Z",
     "shell.execute_reply": "2024-06-12T09:17:04.712480Z"
    }
   },
   "outputs": [],
   "source": [
    "\n",
    "import sys\n",
    "sys.path.append('/home/techt/Desktop/a4s')\n"
   ]
  },
  {
   "cell_type": "markdown",
   "id": "f3126ef0",
   "metadata": {},
   "source": [
    "### Step 1: Initial Data Loading"
   ]
  },
  {
   "cell_type": "code",
   "execution_count": 2,
   "id": "b5431626",
   "metadata": {
    "execution": {
     "iopub.execute_input": "2024-06-12T09:17:04.715632Z",
     "iopub.status.busy": "2024-06-12T09:17:04.715242Z",
     "iopub.status.idle": "2024-06-12T09:17:05.098972Z",
     "shell.execute_reply": "2024-06-12T09:17:05.098510Z"
    }
   },
   "outputs": [
    {
     "name": "stdout",
     "output_type": "stream",
     "text": [
      "Background Information:\n",
      "!Series_title\t\"Friedreich’s Ataxia Induced Pluripotent Stem Cells Recapitulate GAA•TTC Triplet-Repeat Instability\"\n",
      "!Series_summary\t\"The inherited neurodegenerative disease Friedreich’s ataxia (FRDA) is caused by hyperexpansion of GAA•TTC trinucleotide repeats within the first intron of the FXN gene, encoding the mitochondrial protein frataxin. Long GAA•TTC repeats causes heterochromatin-mediated silencing and loss of frataxin in affected individuals. We report the derivation of induced pluripotent stem cells (iPSCs) from FRDA patient fibroblasts through retroviral transduction of transcription factors. FXN gene repression is maintained in the iPSCs, as are the mRNA and miRNA global expression signatures reflecting the human disease. GAA•TTC repeats uniquely in FXN in the iPSCs exhibit repeat instability similar to patient families, where they expand and/or contract with discrete changes in length between generations. The mismatch repair enzyme Msh2, implicated in repeat instability in other triplet repeat diseases, is highly expressed in the iPSCs, occupies FXN intron 1, and shRNA silencing of Msh2 impedes repeat expansion, providing a possible molecular explanation for repeat expansion in FRDA.\"\n",
      "!Series_overall_design\t\"65 samples from various number of tissue, primary cell lines undifferenatiated human embryonic stem cell lines, induces pluripotent stem cell lines have been run on Illumina HT12 v3 chips.\"\n",
      "Sample Characteristics Dictionary:\n",
      "{0: ['gender: male', 'age: 47 years', 'cell line: Human embryonic stem cell line BG01', 'cell line: Human embryonic stem cell line BG02', 'cell line: Human embryonic stem cell line BG03', 'cell line: Human induced pluripotent stem cell line ES4CL2', 'cell line: Human induced pluripotent stem cell line Gottesfeld_3816.5_1', 'cell line: Human induced pluripotent stem cell line Gottesfeld_3816.5_2', 'cell line: Human induced pluripotent stem cell line Gottesfeld_4078.1A2_1', 'cell line: Human induced pluripotent stem cell line Gottesfeld_4078.1A2_2', 'cell line: Human induced pluripotent stem cell line Gottesfeld_4078.1B3_1', 'cell line: Human induced pluripotent stem cell line Gottesfeld_4078.1B3_2', 'cell line: Human induced pluripotent stem cell line Gottesfeld_8.2A4R_1', 'cell line: Human induced pluripotent stem cell line Gottesfeld_8.2A4R_2', 'cell line: Human embryonic stem cell line H9', 'cell line: Human dermal fibroblast line HDF_A', 'cell line: Human dermal fibroblast line HDF_B', 'cell line: Human embryonic stem cell line HES-2_A', 'cell line: Human embryonic stem cell line HES-2_B', 'cell line: Human induced pluripotent stem cell line hFib2-Ips5_A', 'cell line: Human induced pluripotent stem cell line hFib2-Ips5_B', 'cell type: Human Mesenchymal_Stem_Cells_adipose HMSC-ad', 'cell type: Human Mesenchymal_Stem_Cells_bone_marrow HMSC-bm', 'cell line: Primary cell line (Human foreskin fibroblasts) HS27_A', 'cell line: Primary cell line (Human foreskin fibroblasts) HS27_B', 'cell line: Human embryonic stem cell line HSF6_A', 'cell line: Human embryonic stem cell line HSF6_B', 'cell line: Primary cell line human keratinocytes HumanKeratinocytes_A', 'cell line: Primary cell line human keratinocytes HumanKeratinocytes_B', 'cell line: Human Umbilical Vein Endothelial Cell Line  HUVEC-BF4'], 1: ['tissue: Adipose tissue from patient 1', 'gender: female', 'tissue: Adrenal tissue from patient 1', nan, 'tissue: Bladder tissue from patient 1', 'tissue: Lung tissue from Patient 1', 'tissue: Ureter tissue from Patient 1'], 2: [nan, 'tissue: Adipose tissue from patient 2', 'tissue: Adrenal tissue from patient 2', 'tissue: Bladder tissue from patient 2', 'tissue: Lung tissue from Patient 2', 'tissue: Ureter tissue from Patient 2']}\n"
     ]
    }
   ],
   "source": [
    "from utils.preprocess import *\n",
    "# 1. Identify the paths to the soft file and the matrix file\n",
    "cohort_dir = '/media/techt/DATA/GEO/Mitochondrial_Disorders/GSE22651'\n",
    "soft_file, matrix_file = geo_get_relevant_filepaths(cohort_dir)\n",
    "\n",
    "# 2. Read the matrix file to obtain background information and sample characteristics data\n",
    "background_prefixes = ['!Series_title', '!Series_summary', '!Series_overall_design']\n",
    "clinical_prefixes = ['!Sample_geo_accession', '!Sample_characteristics_ch1']\n",
    "background_info, clinical_data = get_background_and_clinical_data(matrix_file, background_prefixes, clinical_prefixes)\n",
    "\n",
    "# 3. Obtain the sample characteristics dictionary from the clinical dataframe\n",
    "sample_characteristics_dict = get_unique_values_by_row(clinical_data)\n",
    "\n",
    "# 4. Explicitly print out all the background information and the sample characteristics dictionary\n",
    "print(\"Background Information:\")\n",
    "print(background_info)\n",
    "print(\"Sample Characteristics Dictionary:\")\n",
    "print(sample_characteristics_dict)\n"
   ]
  },
  {
   "cell_type": "markdown",
   "id": "de1ced3d",
   "metadata": {},
   "source": [
    "### Step 2: Dataset Analysis and Clinical Feature Extraction"
   ]
  },
  {
   "cell_type": "code",
   "execution_count": 3,
   "id": "e6983cc7",
   "metadata": {
    "execution": {
     "iopub.execute_input": "2024-06-12T09:17:05.100826Z",
     "iopub.status.busy": "2024-06-12T09:17:05.100689Z",
     "iopub.status.idle": "2024-06-12T09:17:05.106872Z",
     "shell.execute_reply": "2024-06-12T09:17:05.106603Z"
    }
   },
   "outputs": [],
   "source": [
    "is_gene_available = False\n",
    "trait_row = age_row = gender_row = None  # set to different values when applicable\n",
    "convert_trait = convert_age = convert_gender = None  # define the functions when applicable\n",
    "\n",
    "# 1. Gene Expression Data Availability\n",
    "# The phrase \"global expression signatures\" and mention of \"Illumina HT12 v3 chips\"\n",
    "# suggest this dataset contains gene expression data.\n",
    "is_gene_available = True\n",
    "\n",
    "# 2. Variable Availability and Data Type Conversion\n",
    "\n",
    "# Assuming a structure similar to the provided sample characteristics dictionary\n",
    "sample_characteristics = {\n",
    "    0: ['gender: male', 'age: 47 years', 'cell line: Human embryonic stem cell line BG01', 'cell line: Human embryonic stem cell line BG02', 'cell line: Human embryonic stem cell line BG03', 'cell line: Human induced pluripotent stem cell line ES4CL2', 'cell line: Human induced pluripotent stem cell line Gottesfeld_3816.5_1', 'cell line: Human induced pluripotent stem cell line Gottesfeld_3816.5_2', 'cell line: Human induced pluripotent stem cell line Gottesfeld_4078.1A2_1', 'cell line: Human induced pluripotent stem cell line Gottesfeld_4078.1A2_2', 'cell line: Human induced pluripotent stem cell line Gottesfeld_4078.1B3_1', 'cell line: Human induced pluripotent stem cell line Gottesfeld_4078.1B3_2', 'cell line: Human induced pluripotent stem cell line Gottesfeld_8.2A4R_1', 'cell line: Human induced pluripotent stem cell line Gottesfeld_8.2A4R_2', 'cell line: Human embryonic stem cell line H9', 'cell line: Human dermal fibroblast line HDF_A', 'cell line: Human dermal fibroblast line HDF_B', 'cell line: Human embryonic stem cell line HES-2_A', 'cell line: Human embryonic stem cell line HES-2_B', 'cell line: Human induced pluripotent stem cell line hFib2-Ips5_A', 'cell line: Human induced pluripotent stem cell line hFib2-Ips5_B', 'cell type: Human Mesenchymal_Stem_Cells_adipose HMSC-ad', 'cell type: Human Mesenchymal_Stem_Cells_bone_marrow HMSC-bm', 'cell line: Primary cell line (Human foreskin fibroblasts) HS27_A', 'cell line: Primary cell line (Human foreskin fibroblasts) HS27_B', 'cell line: Human embryonic stem cell line HSF6_A', 'cell line: Human embryonic stem cell line HSF6_B', 'cell line: Primary cell line human keratinocytes HumanKeratinocytes_A', 'cell line: Primary cell line human keratinocytes HumanKeratinocytes_B', 'cell line: Human Umbilical Vein Endothelial Cell Line  HUVEC-BF4'],\n",
    "    1: ['tissue: Adipose tissue from patient 1', 'gender: female', 'tissue: Adrenal tissue from patient 1', None, 'tissue: Bladder tissue from patient 1', 'tissue: Lung tissue from Patient 1', 'tissue: Ureter tissue from Patient 1'],\n",
    "    2: [None, 'tissue: Adipose tissue from patient 2', 'tissue: Adrenal tissue from patient 2', 'tissue: Bladder tissue from patient 2', 'tissue: Lung tissue from Patient 2', 'tissue: Ureter tissue from Patient 2']\n",
    "}\n",
    "\n",
    "# 'Mitochondrial_Disorders' variable assumed not explicitly mentioned.\n",
    "trait_row = None  \n",
    "\n",
    "# 'age' variable availability\n",
    "for key, values in sample_characteristics.items():\n",
    "    for value in values:\n",
    "        if isinstance(value, str) and 'age' in value:\n",
    "            age_row = key\n",
    "            break\n",
    "    if age_row is not None:\n",
    "        break\n",
    "\n",
    "# 'gender' variable availability\n",
    "for key, values in sample_characteristics.items():\n",
    "    for value in values:\n",
    "        if isinstance(value, str) and 'gender' in value:\n",
    "            gender_row = key\n",
    "            break\n",
    "    if gender_row is not None:\n",
    "        break\n",
    "\n",
    "# 2.3 Define Data Type Conversion Functions\n",
    "\n",
    "def convert_trait(value):\n",
    "    return None  # No specific details available for Mitochondrial_Disorders\n",
    "\n",
    "def convert_age(value):\n",
    "    try:\n",
    "        return float(value.split(': ')[1].replace(' years', ''))\n",
    "    except:\n",
    "        return None\n",
    "\n",
    "def convert_gender(value):\n",
    "    try:\n",
    "        gender = value.split(': ')[1].lower()\n",
    "        if gender == 'male':\n",
    "            return 1\n",
    "        elif gender == 'female':\n",
    "            return 0\n",
    "        else:\n",
    "            return None\n",
    "    except:\n",
    "        return None\n",
    "\n",
    "# Save cohort information\n",
    "save_cohort_info('GSE22651', './preprocessed/Mitochondrial_Disorders/cohort_info.json', is_gene_available, trait_row is not None)\n",
    "\n",
    "# Clinical Feature Extraction if applicable\n",
    "if trait_row is not None:\n",
    "    selected_clinical_data = geo_select_clinical_features(clinical_data, 'Mitochondrial_Disorders', trait_row, convert_trait, age_row, convert_age, gender_row, convert_gender)\n",
    "    csv_path = './preprocessed/Mitochondrial_Disorders/trait_data/GSE22651.csv'\n",
    "    selected_clinical_data.to_csv(csv_path)\n",
    "    print(preview_df(selected_clinical_data))\n"
   ]
  }
 ],
 "metadata": {
  "language_info": {
   "codemirror_mode": {
    "name": "ipython",
    "version": 3
   },
   "file_extension": ".py",
   "mimetype": "text/x-python",
   "name": "python",
   "nbconvert_exporter": "python",
   "pygments_lexer": "ipython3",
   "version": "3.8.17"
  }
 },
 "nbformat": 4,
 "nbformat_minor": 5
}
