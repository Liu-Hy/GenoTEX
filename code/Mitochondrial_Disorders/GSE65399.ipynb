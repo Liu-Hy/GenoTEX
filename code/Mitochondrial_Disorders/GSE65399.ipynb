{
 "cells": [
  {
   "cell_type": "code",
   "execution_count": 1,
   "id": "54599cdf",
   "metadata": {
    "execution": {
     "iopub.execute_input": "2024-06-12T09:17:58.325683Z",
     "iopub.status.busy": "2024-06-12T09:17:58.325590Z",
     "iopub.status.idle": "2024-06-12T09:17:58.329301Z",
     "shell.execute_reply": "2024-06-12T09:17:58.329023Z"
    }
   },
   "outputs": [],
   "source": [
    "\n",
    "import sys\n",
    "sys.path.append('/home/techt/Desktop/a4s')\n"
   ]
  },
  {
   "cell_type": "markdown",
   "id": "f4f17512",
   "metadata": {},
   "source": [
    "### Step 1: Initial Data Loading"
   ]
  },
  {
   "cell_type": "code",
   "execution_count": 2,
   "id": "d578d026",
   "metadata": {
    "execution": {
     "iopub.execute_input": "2024-06-12T09:17:58.330863Z",
     "iopub.status.busy": "2024-06-12T09:17:58.330769Z",
     "iopub.status.idle": "2024-06-12T09:17:58.738399Z",
     "shell.execute_reply": "2024-06-12T09:17:58.738072Z"
    }
   },
   "outputs": [
    {
     "name": "stdout",
     "output_type": "stream",
     "text": [
      "Background Information:\n",
      "!Series_title\t\"Epigenetic therapy for Friedreich ataxia.\"\n",
      "!Series_summary\t\"We set out to investigate whether a histone deacetylase inhibitor (HDACi) would be effective in an in vitro model for the neurodegenerative disease Friedreich ataxia (FRDA) and to evaluate safety and surrogate markers of efficacy in a phase I clinical trial in patients. In the neuronal cell model, HDACi 109/RG2833 increases FXN mRNA levels and frataxin protein, with concomitant changes in the epigenetic state of the gene. Chromatin signatures indicate that histone H3 lysine 9 is a key residue for gene silencing through methylation and reactivation through acetylation, mediated by the HDACi. Drug treatment in FRDA patients demonstrated increased FXN mRNA and H3 lysine 9 acetylation in peripheral blood mononuclear cells. No safety issues were encountered.\"\n",
      "!Series_overall_design\t\"We used a human FRDA neuronal cell model, derived from patient induced pluripotent stem cells, to determine the efficacy of a 2-aminobenzamide HDACi (109) as a modulator of FXN gene expression and chromatin histone modifications. FRDA patients were dosed in 4 cohorts, ranging from 30mg/day to 240mg/day of the formulated drug product of HDACi 109, RG2833. Patients were monitored for adverse effects as well as for increases in FXN mRNA, frataxin protein, and chromatin modification in blood cells. Gene expression profiles were obtained using the Illumina HT12v4 Gene Expression BeadArray.\"\n",
      "Sample Characteristics Dictionary:\n",
      "{0: ['differentiation or tissue type: neural progenitors', 'differentiation or tissue type: brain fetal', 'differentiation or tissue type: undifferentiated', 'differentiation or tissue type: heart fetal', 'differentiation or tissue type: kidney fetal', 'differentiation or tissue type: liver fetal', 'differentiation or tissue type: lung fetal', 'differentiation or tissue type: pancreas fetal', 'differentiation or tissue type: small intestine fetal', 'differentiation or tissue type: stomach fetal', 'differentiation or tissue type: thymus fetal', 'differentiation or tissue type: adrenal fetal', 'differentiation or tissue type: spleen fetal'], 1: ['time point: d24', 'time point: 20wk', nan, 'time point: 18wk', 'time point: 17wk', 'time point: 10wk', 'time point: 15wk', 'time point: 14wk', 'time point: 19wk', 'time point: 8wk', 'time point: 21wk']}\n"
     ]
    }
   ],
   "source": [
    "from utils.preprocess import *\n",
    "# 1. Identify the paths to the soft file and the matrix file\n",
    "cohort_dir = '/media/techt/DATA/GEO/Mitochondrial_Disorders/GSE65399'\n",
    "soft_file, matrix_file = geo_get_relevant_filepaths(cohort_dir)\n",
    "\n",
    "# 2. Read the matrix file to obtain background information and sample characteristics data\n",
    "background_prefixes = ['!Series_title', '!Series_summary', '!Series_overall_design']\n",
    "clinical_prefixes = ['!Sample_geo_accession', '!Sample_characteristics_ch1']\n",
    "background_info, clinical_data = get_background_and_clinical_data(matrix_file, background_prefixes, clinical_prefixes)\n",
    "\n",
    "# 3. Obtain the sample characteristics dictionary from the clinical dataframe\n",
    "sample_characteristics_dict = get_unique_values_by_row(clinical_data)\n",
    "\n",
    "# 4. Explicitly print out all the background information and the sample characteristics dictionary\n",
    "print(\"Background Information:\")\n",
    "print(background_info)\n",
    "print(\"Sample Characteristics Dictionary:\")\n",
    "print(sample_characteristics_dict)\n"
   ]
  },
  {
   "cell_type": "markdown",
   "id": "d783d8d0",
   "metadata": {},
   "source": [
    "### Step 2: Dataset Analysis and Clinical Feature Extraction"
   ]
  },
  {
   "cell_type": "code",
   "execution_count": 3,
   "id": "13213adc",
   "metadata": {
    "execution": {
     "iopub.execute_input": "2024-06-12T09:17:58.740246Z",
     "iopub.status.busy": "2024-06-12T09:17:58.740107Z",
     "iopub.status.idle": "2024-06-12T09:17:58.744247Z",
     "shell.execute_reply": "2024-06-12T09:17:58.743967Z"
    }
   },
   "outputs": [],
   "source": [
    "is_gene_available = False\n",
    "trait_row = age_row = gender_row = None  # set to different values when applicable\n",
    "convert_trait = convert_age = convert_gender = None  # define the functions when applicable\n",
    "\n",
    "# Step 1: Check gene expression data availability\n",
    "is_gene_available = True\n",
    "\n",
    "# Step 2: Variable Availability and Data Type Conversion\n",
    "\n",
    "# Evaluate 'Mitochondrial_Disorders' availability\n",
    "# This dataset description suggests there is no explicit mention of mitochondrial disorders\n",
    "trait_row = None\n",
    "\n",
    "# Evaluate 'age' availability\n",
    "if 1 in sample_characteristics_dict:\n",
    "    age_values = sample_characteristics_dict[1]\n",
    "    unique_age_values = set(age_values)\n",
    "    if len(unique_age_values) > 1:\n",
    "        age_row = 1\n",
    "\n",
    "# Evaluate 'gender' availability\n",
    "# Skipping since no mentioned gender-related data in the given output\n",
    "gender_row = None\n",
    "\n",
    "# Step 2.3: Define conversion functions\n",
    "def convert_trait(value):\n",
    "    return None\n",
    "\n",
    "def convert_age(value):\n",
    "    try:\n",
    "        val = value.split(':')[-1].strip()\n",
    "        if val.lower() == 'nan':\n",
    "            return None\n",
    "        return float(val.rstrip('wk').strip('d')) if 'wk' in val or 'd' in val else float(val)\n",
    "    except:\n",
    "        return None\n",
    "\n",
    "def convert_gender(value):\n",
    "    return None\n",
    "\n",
    "# Step 3: Save Metadata\n",
    "save_cohort_info('GSE65399', './preprocessed/Mitochondrial_Disorders/cohort_info.json', is_gene_available, trait_row is not None)\n",
    "\n",
    "# Step 4: Clinical Feature Extraction\n",
    "# Skipping because trait_row is None (No clinical data available)\n"
   ]
  }
 ],
 "metadata": {
  "language_info": {
   "codemirror_mode": {
    "name": "ipython",
    "version": 3
   },
   "file_extension": ".py",
   "mimetype": "text/x-python",
   "name": "python",
   "nbconvert_exporter": "python",
   "pygments_lexer": "ipython3",
   "version": "3.8.17"
  }
 },
 "nbformat": 4,
 "nbformat_minor": 5
}
