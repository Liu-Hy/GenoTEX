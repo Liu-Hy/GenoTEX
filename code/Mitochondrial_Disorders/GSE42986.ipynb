{
 "cells": [
  {
   "cell_type": "code",
   "execution_count": 1,
   "id": "98cf6a57",
   "metadata": {
    "execution": {
     "iopub.execute_input": "2024-06-12T09:16:12.758977Z",
     "iopub.status.busy": "2024-06-12T09:16:12.758601Z",
     "iopub.status.idle": "2024-06-12T09:16:12.764061Z",
     "shell.execute_reply": "2024-06-12T09:16:12.763662Z"
    }
   },
   "outputs": [],
   "source": [
    "\n",
    "import sys\n",
    "sys.path.append('/home/techt/Desktop/a4s')\n"
   ]
  },
  {
   "cell_type": "markdown",
   "id": "093de331",
   "metadata": {},
   "source": [
    "### Step 1: Initial Data Loading"
   ]
  },
  {
   "cell_type": "code",
   "execution_count": 2,
   "id": "2407dbbd",
   "metadata": {
    "execution": {
     "iopub.execute_input": "2024-06-12T09:16:12.766554Z",
     "iopub.status.busy": "2024-06-12T09:16:12.766216Z",
     "iopub.status.idle": "2024-06-12T09:16:13.057750Z",
     "shell.execute_reply": "2024-06-12T09:16:13.057296Z"
    }
   },
   "outputs": [
    {
     "name": "stdout",
     "output_type": "stream",
     "text": [
      "Background Information:\n",
      "!Series_title\t\"Transcriptome profiling in human primary mitochondrial respiratory chain disease\"\n",
      "!Series_summary\t\"Primary mitochondrial respiratory chain (RC) diseases are heterogeneous in etiology and manifestations but collectively impair cellular energy metabolism.  To identify a common cellular response to RC disease, systems biology level transcriptome investigations were performed in human RC disease skeletal muscle and fibroblasts.  Global transcriptional and post-transcriptional dysregulation in a tissue-specific fashion was identified across diverse RC complex and genetic etiologies.  RC disease muscle was characterized by decreased transcription of cytosolic ribosomal proteins to reduce energy-intensive anabolic processes, increased transcription of mitochondrial ribosomal proteins, shortened 5'-UTRs to improve translational efficiency, and stabilization of 3'-UTRs containing AU-rich elements.  These same modifications in a reversed direction typified RC disease fibroblasts.  RC disease also dysregulated transcriptional networks related to basic nutrient-sensing signaling pathways, which collectively mediate many aspects of tissue-specific cellular responses to primary RC disease.  These findings support the utility of a systems biology approach to improve mechanistic understanding of mitochondrial RC disease.\"\n",
      "!Series_summary\t\"To identify a common cellular response to primary RC that might improve mechanistic understanding and lead to targeted therapies for human RC disease, we performed collective transcriptome profiling in skeletal muscle biopsy specimens and fibroblast cell lines (FCLs) of a diverse cohort of human mitochondrial disease subjects relative to controls.  Systems biology investigations of common cellular responses to primary RC disease revealed a collective pattern of transcriptional, post-transcriptional and translational dysregulation occurring in a highly tissue-specific fashion.\"\n",
      "!Series_overall_design\t\"Affymetrix Human Exon 1.0ST microarray analysis was performed on 29 skeletal muscle samples and Fibroblast cell lines from mitochondrial disease patients and age- and gender-matched controls.\"\n",
      "Sample Characteristics Dictionary:\n",
      "{0: ['tissue: Skeletal muscle', 'tissue: fibroblast cell line'], 1: ['respiratory chain complex deficiency: No Respiratory Chain Complex Deficiency', 'respiratory chain complex deficiency: Complexes I and III', 'respiratory chain complex deficiency: Complex IV', 'respiratory chain complex deficiency: Complexes II and III', 'respiratory chain complex deficiency: Not measured; 87% mtDNA depletion in muscle', 'respiratory chain complex deficiency: Complex IV; 70% mtDNA depletion in liver', 'respiratory chain complex deficiency: Complex IV; 93% mtDNA depletion in muscle', 'respiratory chain complex deficiency: Complexes I and IV', 'respiratory chain complex deficiency: Complex I', 'respiratory chain complex deficiency: Complex I and IV', 'respiratory chain complex deficiency in muscle: Not Determined', 'respiratory chain complex deficiency in muscle: Complex I+III Deficiency', 'respiratory chain complex deficiency in muscle: No Respiratory Chain Complex Deficiency', 'respiratory chain complex deficiency in muscle: Complexes I and III', 'respiratory chain complex deficiency in muscle: Complex IV', 'respiratory chain complex deficiency in muscle: Complexes II and III', 'respiratory chain complex deficiency in muscle: Complex IV; 93% mtDNA depletion in muscle', 'respiratory chain complex deficiency in muscle: Complex I'], 2: ['gender: F', 'gender: M'], 3: ['age (years): 0.76', 'age (years): 20', 'age (years): 16', 'age (years): 1', 'age (years): 0.75', 'age (years): 3', 'age (years): 0.2', 'age (years): 0.9', 'age (years): 2', 'age (years): 6', 'age (years): 10', 'age (years): 4', 'age (years): 0.3', 'age (years): 8', 'age (years): 72', 'age (years): 54', 'age (years): 23', 'age (years): 60', 'age (years): 67', 'age (years): 59', 'age (years): 11', 'age (years): 46', 'age (years): 42', 'age (years): not obtained', 'age (years): 5', 'age (years): 30', 'age (years): 36', 'age (years): 39', 'age (years): 0.1', 'age (years): 0.7'], 4: ['informatic analysis group: Control Group', 'informatic analysis group: Mito Disease Group', 'informatic analysis group: Excluded - poor quality', 'informatic analysis group: Excluded - sample outlier']}\n"
     ]
    }
   ],
   "source": [
    "from utils.preprocess import *\n",
    "# 1. Identify the paths to the soft file and the matrix file\n",
    "cohort_dir = '/media/techt/DATA/GEO/Mitochondrial_Disorders/GSE42986'\n",
    "soft_file, matrix_file = geo_get_relevant_filepaths(cohort_dir)\n",
    "\n",
    "# 2. Read the matrix file to obtain background information and sample characteristics data\n",
    "background_prefixes = ['!Series_title', '!Series_summary', '!Series_overall_design']\n",
    "clinical_prefixes = ['!Sample_geo_accession', '!Sample_characteristics_ch1']\n",
    "background_info, clinical_data = get_background_and_clinical_data(matrix_file, background_prefixes, clinical_prefixes)\n",
    "\n",
    "# 3. Obtain the sample characteristics dictionary from the clinical dataframe\n",
    "sample_characteristics_dict = get_unique_values_by_row(clinical_data)\n",
    "\n",
    "# 4. Explicitly print out all the background information and the sample characteristics dictionary\n",
    "print(\"Background Information:\")\n",
    "print(background_info)\n",
    "print(\"Sample Characteristics Dictionary:\")\n",
    "print(sample_characteristics_dict)\n"
   ]
  },
  {
   "cell_type": "markdown",
   "id": "18aa8dd6",
   "metadata": {},
   "source": [
    "### Step 2: Dataset Analysis and Clinical Feature Extraction"
   ]
  },
  {
   "cell_type": "code",
   "execution_count": 3,
   "id": "5f4c9b82",
   "metadata": {
    "execution": {
     "iopub.execute_input": "2024-06-12T09:16:13.059698Z",
     "iopub.status.busy": "2024-06-12T09:16:13.059561Z",
     "iopub.status.idle": "2024-06-12T09:16:13.078900Z",
     "shell.execute_reply": "2024-06-12T09:16:13.078609Z"
    }
   },
   "outputs": [
    {
     "name": "stdout",
     "output_type": "stream",
     "text": [
      "{'GSM1054461': [0.0, 0.76, 0.0], 'GSM1054462': [1.0, 20.0, 1.0], 'GSM1054463': [1.0, 20.0, 1.0], 'GSM1054464': [1.0, 16.0, 0.0], 'GSM1054465': [1.0, 1.0, 0.0], 'GSM1054466': [0.0, 0.75, 0.0], 'GSM1054467': [0.0, 0.75, 0.0], 'GSM1054468': [0.0, 3.0, 1.0], 'GSM1054469': [0.0, 3.0, 1.0], 'GSM1054470': [1.0, 0.2, 0.0], 'GSM1054471': [1.0, 0.9, 0.0], 'GSM1054472': [0.0, 2.0, 0.0], 'GSM1054473': [1.0, 6.0, 1.0], 'GSM1054474': [0.0, 10.0, 0.0], 'GSM1054475': [1.0, 4.0, 0.0], 'GSM1054476': [1.0, 0.3, 0.0], 'GSM1054477': [1.0, 8.0, 1.0], 'GSM1054478': [nan, 72.0, 1.0], 'GSM1054479': [1.0, 54.0, 0.0], 'GSM1054480': [1.0, 23.0, 0.0], 'GSM1054481': [nan, 0.75, 1.0], 'GSM1054482': [nan, 60.0, 1.0], 'GSM1054483': [0.0, 67.0, 0.0], 'GSM1054484': [0.0, 59.0, 0.0], 'GSM1054485': [0.0, 59.0, 1.0], 'GSM1054486': [nan, 11.0, 0.0], 'GSM1054487': [1.0, 46.0, 0.0], 'GSM1054488': [nan, 42.0, 1.0], 'GSM1054489': [nan, 2.0, 0.0], 'GSM1054490': [0, None, 0], 'GSM1054491': [0, None, 1], 'GSM1054492': [0, None, 1], 'GSM1054493': [1.0, 4.0, 0.0], 'GSM1054494': [0.0, 0.76, 0.0], 'GSM1054495': [nan, 20.0, 1.0], 'GSM1054496': [1.0, 5.0, 1.0], 'GSM1054497': [1.0, 16.0, 0.0], 'GSM1054498': [1.0, 5.0, 0.0], 'GSM1054499': [1.0, 1.0, 0.0], 'GSM1054500': [0.0, 0.75, 0.0], 'GSM1054501': [nan, 3.0, 1.0], 'GSM1054502': [1.0, 30.0, 0.0], 'GSM1054503': [0.0, 2.0, 0.0], 'GSM1054504': [nan, 36.0, 0.0], 'GSM1054505': [0.0, 39.0, 1.0], 'GSM1054506': [1.0, 6.0, 1.0], 'GSM1054507': [0.0, 10.0, 0.0], 'GSM1054508': [1.0, 4.0, 0.0], 'GSM1054509': [1.0, 0.3, 0.0], 'GSM1054510': [nan, 0.1, 0.0], 'GSM1054511': [1.0, 8.0, 1.0], 'GSM1054512': [1.0, 11.0, 0.0], 'GSM1054513': [1.0, 0.7, 0.0]}\n"
     ]
    }
   ],
   "source": [
    "is_gene_available = False\n",
    "trait_row = age_row = gender_row = None  # set to different values when applicable\n",
    "convert_trait = convert_age = convert_gender = None  # define the functions when applicable\n",
    "\n",
    "# Define sample_characteristics based on provided background information\n",
    "sample_characteristics = {\n",
    "    0: ['tissue: Skeletal muscle', 'tissue: fibroblast cell line'],\n",
    "    1: [\n",
    "        'respiratory chain complex deficiency: No Respiratory Chain Complex Deficiency',\n",
    "        'respiratory chain complex deficiency: Complexes I and III',\n",
    "        'respiratory chain complex deficiency: Complex IV',\n",
    "        'respiratory chain complex deficiency: Complexes II and III',\n",
    "        'respiratory chain complex deficiency: Not measured; 87% mtDNA depletion in muscle',\n",
    "        'respiratory chain complex deficiency: Complex IV; 70% mtDNA depletion in liver',\n",
    "        'respiratory chain complex deficiency: Complex IV; 93% mtDNA depletion in muscle',\n",
    "        'respiratory chain complex deficiency: Complexes I and IV',\n",
    "        'respiratory chain complex deficiency: Complex I',\n",
    "        'respiratory chain complex deficiency: Complex I and IV',\n",
    "        'respiratory chain complex deficiency in muscle: Not Determined',\n",
    "        'respiratory chain complex deficiency in muscle: Complex I+III Deficiency',\n",
    "        'respiratory chain complex deficiency in muscle: No Respiratory Chain Complex Deficiency',\n",
    "        'respiratory chain complex deficiency in muscle: Complexes I and III',\n",
    "        'respiratory chain complex deficiency in muscle: Complex IV',\n",
    "        'respiratory chain complex deficiency in muscle: Complexes II and III',\n",
    "        'respiratory chain complex deficiency in muscle: Complex IV; 93% mtDNA depletion in muscle',\n",
    "        'respiratory chain complex deficiency in muscle: Complex I'\n",
    "    ],\n",
    "    2: ['gender: F', 'gender: M'],\n",
    "    3: [\n",
    "        'age (years): 0.76', 'age (years): 20', 'age (years): 16', 'age (years): 1', \n",
    "        'age (years): 0.75', 'age (years): 3', 'age (years): 0.2', 'age (years): 0.9', \n",
    "        'age (years): 2', 'age (years): 6', 'age (years): 10', 'age (years): 4', \n",
    "        'age (years): 0.3', 'age (years): 8', 'age (years): 72', 'age (years): 54', \n",
    "        'age (years): 23', 'age (years): 60', 'age (years): 67', 'age (years): 59', \n",
    "        'age (years): 11', 'age (years): 46', 'age (years): 42', 'age (years): not obtained', \n",
    "        'age (years): 5', 'age (years): 30', 'age (years): 36', 'age (years): 39', \n",
    "        'age (years): 0.1', 'age (years): 0.7'\n",
    "    ],\n",
    "    4: [\n",
    "        'informatic analysis group: Control Group', \n",
    "        'informatic analysis group: Mito Disease Group', \n",
    "        'informatic analysis group: Excluded - poor quality', \n",
    "        'informatic analysis group: Excluded - sample outlier'\n",
    "    ]\n",
    "}\n",
    "\n",
    "# Step 1: Check for gene expression data availability\n",
    "is_gene_available = True  # Given that the dataset uses Affymetrix arrays appropriate for transcriptome profiling\n",
    "\n",
    "# Step 2.1: Data availability\n",
    "# Identify keys in the sample characteristics dictionary where variable is recorded\n",
    "\n",
    "# 'Mitochondrial_Disorders' is inferred from 'informatic analysis group'\n",
    "trait_row = 4 if any('informatic analysis group: Mito Disease Group' in val for val in sample_characteristics[4]) else None\n",
    "\n",
    "# 'age' values are available and seem non-constant\n",
    "age_row = 3 if len(set(val.split(':')[1].strip() for val in sample_characteristics[3])) > 1 else None\n",
    "\n",
    "# 'gender' values are available and seem non-constant\n",
    "gender_row = 2 if len(set(val.split(':')[1].strip() for val in sample_characteristics[2])) > 1 else None\n",
    "\n",
    "# Step 2.3: Data type conversion\n",
    "\n",
    "# Function to convert 'Mitochondrial_Disorders'\n",
    "def convert_trait(value):\n",
    "    val = value.split(':')[1].strip()\n",
    "    if val == 'Control Group':\n",
    "        return 0\n",
    "    elif val == 'Mito Disease Group':\n",
    "        return 1\n",
    "    return None\n",
    "\n",
    "# Function to convert 'age'\n",
    "def convert_age(value):\n",
    "    val = value.split(':')[1].strip()\n",
    "    try:\n",
    "        return float(val)\n",
    "    except ValueError:\n",
    "        return None  # If age is not obtained\n",
    "\n",
    "# Function to convert 'gender'\n",
    "def convert_gender(value):\n",
    "    val = value.split(':')[1].strip()\n",
    "    if val == 'F':\n",
    "        return 0\n",
    "    elif val == 'M':\n",
    "        return 1\n",
    "    return None\n",
    "\n",
    "# Save cohort information\n",
    "save_cohort_info('GSE42986', './preprocessed/Mitochondrial_Disorders/cohort_info.json', is_gene_available, trait_row is not None)\n",
    "\n",
    "# Extract clinical features if trait_row is not None\n",
    "if trait_row is not None:\n",
    "    selected_clinical_data = geo_select_clinical_features(clinical_data, 'Mitochondrial_Disorders', trait_row, convert_trait, age_row, convert_age, gender_row, convert_gender)\n",
    "    csv_path = './preprocessed/Mitochondrial_Disorders/trait_data/GSE42986.csv'\n",
    "    selected_clinical_data.to_csv(csv_path)\n",
    "    print(preview_df(selected_clinical_data))\n"
   ]
  },
  {
   "cell_type": "markdown",
   "id": "6b91f4f6",
   "metadata": {},
   "source": [
    "### Step 3: Gene Data Extraction"
   ]
  },
  {
   "cell_type": "code",
   "execution_count": 4,
   "id": "260195d6",
   "metadata": {
    "execution": {
     "iopub.execute_input": "2024-06-12T09:16:13.081029Z",
     "iopub.status.busy": "2024-06-12T09:16:13.080901Z",
     "iopub.status.idle": "2024-06-12T09:16:13.173865Z",
     "shell.execute_reply": "2024-06-12T09:16:13.173500Z"
    }
   },
   "outputs": [
    {
     "name": "stdout",
     "output_type": "stream",
     "text": [
      "Index(['100009676_at', '10000_at', '10001_at', '10002_at', '100033416_at',\n",
      "       '100033422_at', '100033423_at', '100033424_at', '100033425_at',\n",
      "       '100033426_at', '100033428_at', '100033431_at', '100033434_at',\n",
      "       '100033436_at', '100033438_at', '100033439_at', '100033444_at',\n",
      "       '100033800_at', '100033806_at', '100033819_at'],\n",
      "      dtype='object', name='ID')\n"
     ]
    }
   ],
   "source": [
    "# 1. Use the get_genetic_data function from the library to get the gene_data from the matrix_file previously defined.\n",
    "gene_data = get_genetic_data(matrix_file)\n",
    "\n",
    "# 2. Print the first 20 row ids for the following step.\n",
    "print(gene_data.index[:20])\n"
   ]
  },
  {
   "cell_type": "markdown",
   "id": "bbe8613a",
   "metadata": {},
   "source": [
    "### Step 4: Gene Identifier Review"
   ]
  },
  {
   "cell_type": "code",
   "execution_count": 5,
   "id": "d17603cb",
   "metadata": {
    "execution": {
     "iopub.execute_input": "2024-06-12T09:16:13.175606Z",
     "iopub.status.busy": "2024-06-12T09:16:13.175496Z",
     "iopub.status.idle": "2024-06-12T09:16:13.177368Z",
     "shell.execute_reply": "2024-06-12T09:16:13.177102Z"
    }
   },
   "outputs": [],
   "source": [
    "requires_gene_mapping = True\n"
   ]
  },
  {
   "cell_type": "markdown",
   "id": "e35f4879",
   "metadata": {},
   "source": [
    "### Step 5: Gene Annotation (Conditional)"
   ]
  },
  {
   "cell_type": "code",
   "execution_count": 6,
   "id": "55c2ab72",
   "metadata": {
    "execution": {
     "iopub.execute_input": "2024-06-12T09:16:13.179369Z",
     "iopub.status.busy": "2024-06-12T09:16:13.179276Z",
     "iopub.status.idle": "2024-06-12T09:16:14.370073Z",
     "shell.execute_reply": "2024-06-12T09:16:14.369656Z"
    }
   },
   "outputs": [
    {
     "name": "stdout",
     "output_type": "stream",
     "text": [
      "Gene annotation preview:\n",
      "{'ID': ['1_at', '2_at', '9_at', '10_at', '12_at'], 'Gene_ID': ['1', '2', '9', '10', '12'], 'ORF': ['A1BG', 'A2M', 'NAT1', 'NAT2', 'SERPINA3'], 'Symbol': ['A1BG', 'A2M', 'NAT1', 'NAT2', 'SERPINA3'], 'Chromosome': ['19', '12', '8', '8', '14'], 'RefSeq_ID': ['NM_130786;NP_570602', 'NM_000014;NP_000005', 'NM_000662;NM_001160170;NM_001160171;NM_001160172;NM_001160173;NM_001160174;NM_001160175;NM_001160176;NM_001160179;NP_000653;NP_001153642;NP_001153643;NP_001153644;NP_001153645;NP_001153646;NP_001153647;NP_001153648;NP_001153651', 'NM_000015;NP_000006', 'NM_001085;NP_001076'], 'Num_Probes': [47.0, 167.0, 74.0, 20.0, 56.0], 'Full_Name': ['alpha-1-B glycoprotein', 'alpha-2-macroglobulin', 'N-acetyltransferase 1 (arylamine N-acetyltransferase)', 'N-acetyltransferase 2 (arylamine N-acetyltransferase)', 'serpin peptidase inhibitor, clade A (alpha-1 antiproteinase, antitrypsin), member 3']}\n"
     ]
    }
   ],
   "source": [
    "# 1. Use the 'get_gene_annotation' function from the library to get gene annotation data from the soft file.\n",
    "gene_annotation = get_gene_annotation(soft_file)\n",
    "\n",
    "# 2. Use the 'preview_df' function from the library to preview the data and print out the results.\n",
    "print(\"Gene annotation preview:\")\n",
    "print(preview_df(gene_annotation))\n"
   ]
  },
  {
   "cell_type": "markdown",
   "id": "191c4cbc",
   "metadata": {},
   "source": [
    "### Step 6: Gene Identifier Mapping"
   ]
  },
  {
   "cell_type": "code",
   "execution_count": 7,
   "id": "045387b5",
   "metadata": {
    "execution": {
     "iopub.execute_input": "2024-06-12T09:16:14.372364Z",
     "iopub.status.busy": "2024-06-12T09:16:14.372222Z",
     "iopub.status.idle": "2024-06-12T09:16:14.463008Z",
     "shell.execute_reply": "2024-06-12T09:16:14.462610Z"
    }
   },
   "outputs": [],
   "source": [
    "# 1. Determine the identifier key and gene_symbol key\n",
    "identifier_key = 'ID'\n",
    "gene_symbol_key = 'Symbol'\n",
    "\n",
    "# 2. Get the dataframe storing the mapping between probe IDs and genes\n",
    "mapping_df = get_gene_mapping(gene_annotation, identifier_key, gene_symbol_key)\n",
    "\n",
    "# 3. Apply the mapping and obtain the gene expression dataframe\n",
    "gene_data = apply_gene_mapping(gene_data, mapping_df)\n"
   ]
  },
  {
   "cell_type": "markdown",
   "id": "82140c99",
   "metadata": {},
   "source": [
    "### Step 7: Data Normalization and Merging"
   ]
  },
  {
   "cell_type": "code",
   "execution_count": 8,
   "id": "0efa10c9",
   "metadata": {
    "execution": {
     "iopub.execute_input": "2024-06-12T09:16:14.465405Z",
     "iopub.status.busy": "2024-06-12T09:16:14.465272Z",
     "iopub.status.idle": "2024-06-12T09:17:03.960510Z",
     "shell.execute_reply": "2024-06-12T09:17:03.959984Z"
    }
   },
   "outputs": [
    {
     "name": "stdout",
     "output_type": "stream",
     "text": [
      "For the feature 'Mitochondrial_Disorders', the least common label is '0.0' with 15 occurrences. This represents 37.50% of the dataset.\n",
      "The distribution of the feature 'Mitochondrial_Disorders' in this dataset is fine.\n",
      "\n",
      "Quartiles for 'Age':\n",
      "  25%: 0.975\n",
      "  50% (Median): 5.0\n",
      "  75%: 17.0\n",
      "Min: 0.2\n",
      "Max: 67.0\n",
      "The distribution of the feature 'Age' in this dataset is fine.\n",
      "\n",
      "For the feature 'Gender', the least common label is '1.0' with 11 occurrences. This represents 27.50% of the dataset.\n",
      "The distribution of the feature 'Gender' in this dataset is fine.\n",
      "\n",
      "A new JSON file was created at: ./preprocessed/Mitochondrial_Disorders/cohort_info.json\n"
     ]
    }
   ],
   "source": [
    "# 1. Normalize the obtained gene data with the 'normalize_gene_symbols_in_index' function from the library.\n",
    "normalized_gene_data = normalize_gene_symbols_in_index(gene_data)\n",
    "gene_csv_path = './preprocessed/Mitochondrial_Disorders/gene_data/GSE42986.csv'\n",
    "normalized_gene_data.to_csv(gene_csv_path)\n",
    "\n",
    "# 2. Merge the clinical and genetic data with the 'geo_merge_clinical_genetic_data' function from the library.\n",
    "merged_data = geo_merge_clinical_genetic_data(selected_clinical_data, normalized_gene_data)\n",
    "\n",
    "# 3. Determine whether the trait and some demographic attributes in the data is severely biased, and remove biased attributes.\n",
    "trait_biased, unbiased_merged_data = judge_and_remove_biased_features(merged_data, 'Mitochondrial_Disorders')\n",
    "\n",
    "# If the trait is not severely biased, save the cohort information and the merged data.\n",
    "\n",
    "# 4. Save the cohort information.\n",
    "save_cohort_info('GSE42986', './preprocessed/Mitochondrial_Disorders/cohort_info.json', True, True, trait_biased, merged_data)\n",
    "\n",
    "if not trait_biased:\n",
    "    # 5. If the trait is not severely biased, save the merged data to a csv file.\n",
    "    csv_path = './preprocessed/Mitochondrial_Disorders/GSE42986.csv'\n",
    "    unbiased_merged_data.to_csv(csv_path)\n"
   ]
  }
 ],
 "metadata": {
  "language_info": {
   "codemirror_mode": {
    "name": "ipython",
    "version": 3
   },
   "file_extension": ".py",
   "mimetype": "text/x-python",
   "name": "python",
   "nbconvert_exporter": "python",
   "pygments_lexer": "ipython3",
   "version": "3.8.17"
  }
 },
 "nbformat": 4,
 "nbformat_minor": 5
}
