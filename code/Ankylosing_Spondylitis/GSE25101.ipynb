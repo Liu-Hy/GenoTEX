{
 "cells": [
  {
   "cell_type": "code",
   "execution_count": 1,
   "id": "bb872484",
   "metadata": {
    "execution": {
     "iopub.execute_input": "2024-06-12T10:32:16.148010Z",
     "iopub.status.busy": "2024-06-12T10:32:16.147914Z",
     "iopub.status.idle": "2024-06-12T10:32:16.153641Z",
     "shell.execute_reply": "2024-06-12T10:32:16.153183Z"
    }
   },
   "outputs": [],
   "source": [
    "\n",
    "import sys\n",
    "sys.path.append('/home/techt/Desktop/a4s')\n"
   ]
  },
  {
   "cell_type": "markdown",
   "id": "32271d19",
   "metadata": {},
   "source": [
    "### Step 1: Initial Data Loading"
   ]
  },
  {
   "cell_type": "code",
   "execution_count": 2,
   "id": "47dee17c",
   "metadata": {
    "execution": {
     "iopub.execute_input": "2024-06-12T10:32:16.155954Z",
     "iopub.status.busy": "2024-06-12T10:32:16.155794Z",
     "iopub.status.idle": "2024-06-12T10:32:16.423367Z",
     "shell.execute_reply": "2024-06-12T10:32:16.423011Z"
    }
   },
   "outputs": [
    {
     "name": "stdout",
     "output_type": "stream",
     "text": [
      "Background Information:\n",
      "!Series_title\t\"Expression profiling in whole blood in ankylosing spondylitis patients and controls\"\n",
      "!Series_summary\t\"Introduction: A number of genetic-association studies have identified genes contributing to AS susceptibility but such approaches provide little information as to the gene activity changes occurring during the disease process. Transcriptional profiling generates a “snapshot” of the sampled cells activity and thus can provide insights into the molecular processes driving the disease process. We undertook a whole-genome microarray approach to identify candidate genes associated with AS and validated these gene-expression changes in a larger sample cohort.  Methods: 18 active AS patients, classified according to the New York criteria. and 18 gender-and age-matched controls were profiled using Illumina HT-12 Whole-Genome Expression BeadChips which carry cDNAs for 48000 genes and transcripts. Class comparison analysis identified a number of differentially expressed candidate genes. These candidate genes were then validated in a larger cohort using qPCR-based TaqMan Low Density Arrays (TLDAs).  Results: 239 probes corresponding to 221 genes were identified as being significantly different between patients and controls with a p-value <0.0005 (80% confidence level of false discovery rate). Forty seven genes were then selected for validation studies, using the TLDAs. Thirteen of these genes were validated in the second patient cohort with 12 down-regulated 1.3-2-fold and only 1 upregulated (1.6-fold). Among a number of identified genes with well-documented inflammatory roles we also validated genes that might be of great interest to the understanding of AS progression such as SPOCK2 (osteonectin) and EP300 which modulate cartilage and bone metabolism.  Conclusion: We have validated a gene expression signature for AS from whole blood and identified strong candidate genes that may play roles in both the inflammatory and joint destruction aspects of the disease.\"\n",
      "!Series_overall_design\t\"RNA was extracted from whole blood using PAXGene tubes. 16 AS patients with active disease and 16 gender- and age-matched controls were analysed.\"\n",
      "Sample Characteristics Dictionary:\n",
      "{0: ['tissue: Whole blood'], 1: ['cell type: PBMC'], 2: ['disease status: Ankylosing spondylitis patient', 'disease status: Normal control']}\n"
     ]
    }
   ],
   "source": [
    "from utils.preprocess import *\n",
    "# 1. Identify the paths to the soft file and the matrix file\n",
    "cohort_dir = '/media/techt/DATA/GEO/Ankylosing_Spondylitis/GSE25101'\n",
    "soft_file, matrix_file = geo_get_relevant_filepaths(cohort_dir)\n",
    "\n",
    "# 2. Read the matrix file to obtain background information and sample characteristics data\n",
    "background_prefixes = ['!Series_title', '!Series_summary', '!Series_overall_design']\n",
    "clinical_prefixes = ['!Sample_geo_accession', '!Sample_characteristics_ch1']\n",
    "background_info, clinical_data = get_background_and_clinical_data(matrix_file, background_prefixes, clinical_prefixes)\n",
    "\n",
    "# 3. Obtain the sample characteristics dictionary from the clinical dataframe\n",
    "sample_characteristics_dict = get_unique_values_by_row(clinical_data)\n",
    "\n",
    "# 4. Explicitly print out all the background information and the sample characteristics dictionary\n",
    "print(\"Background Information:\")\n",
    "print(background_info)\n",
    "print(\"Sample Characteristics Dictionary:\")\n",
    "print(sample_characteristics_dict)\n"
   ]
  },
  {
   "cell_type": "markdown",
   "id": "97105a02",
   "metadata": {},
   "source": [
    "### Step 2: Dataset Analysis and Clinical Feature Extraction"
   ]
  },
  {
   "cell_type": "code",
   "execution_count": 3,
   "id": "61a21d8a",
   "metadata": {
    "execution": {
     "iopub.execute_input": "2024-06-12T10:32:16.425897Z",
     "iopub.status.busy": "2024-06-12T10:32:16.425688Z",
     "iopub.status.idle": "2024-06-12T10:32:16.433611Z",
     "shell.execute_reply": "2024-06-12T10:32:16.433333Z"
    }
   },
   "outputs": [
    {
     "name": "stdout",
     "output_type": "stream",
     "text": [
      "{'GSM616668': [1], 'GSM616669': [1], 'GSM616670': [1], 'GSM616671': [1], 'GSM616672': [1], 'GSM616673': [1], 'GSM616674': [1], 'GSM616675': [1], 'GSM616676': [1], 'GSM616677': [1], 'GSM616678': [1], 'GSM616679': [1], 'GSM616680': [1], 'GSM616681': [1], 'GSM616682': [1], 'GSM616683': [1], 'GSM616684': [0], 'GSM616685': [0], 'GSM616686': [0], 'GSM616687': [0], 'GSM616688': [0], 'GSM616689': [0], 'GSM616690': [0], 'GSM616691': [0], 'GSM616692': [0], 'GSM616693': [0], 'GSM616694': [0], 'GSM616695': [0], 'GSM616696': [0], 'GSM616697': [0], 'GSM616698': [0], 'GSM616699': [0]}\n"
     ]
    }
   ],
   "source": [
    "is_gene_available = False\n",
    "trait_row = age_row = gender_row = None  # set to different values when applicable\n",
    "convert_trait = convert_age = convert_gender = None  # define the functions when applicable\n",
    "\n",
    "# Based on the background information, this dataset contains gene expression data\n",
    "is_gene_available = True\n",
    "\n",
    "# Sample Characteristics Dictionary:\n",
    "sample_characteristics = {\n",
    "    0: ['tissue: Whole blood'], \n",
    "    1: ['cell type: PBMC'], \n",
    "    2: ['disease status: Ankylosing spondylitis patient', 'disease status: Normal control']\n",
    "}\n",
    "\n",
    "# Determine the keys for Ankylosing_Spondylitis, age, and gender\n",
    "if len(set([d.split(': ')[1] for d in sample_characteristics[2]])) > 1:\n",
    "    trait_row = 2\n",
    "\n",
    "# No information about age and gender in the sample_characteristics dictionary\n",
    "age_row = None\n",
    "gender_row = None\n",
    "\n",
    "# Define conversion functions\n",
    "def convert_trait(value):\n",
    "    \"\"\"\n",
    "    Convert Ankylosing_Spondylitis values to binary.\n",
    "    \"\"\"\n",
    "    actual_value = value.split(': ')[1]\n",
    "    if actual_value == 'Ankylosing spondylitis patient':\n",
    "        return 1\n",
    "    elif actual_value == 'Normal control':\n",
    "        return 0\n",
    "    else:\n",
    "        return None\n",
    "\n",
    "convert_age = lambda value: None  # As age data is not available\n",
    "convert_gender = lambda value: None  # As gender data is not available\n",
    "\n",
    "# Save cohort information\n",
    "save_cohort_info('GSE25101', './preprocessed/Ankylosing_Spondylitis/cohort_info.json', is_gene_available, trait_row is not None)\n",
    "\n",
    "# Clinical Feature Extraction\n",
    "if trait_row is not None:\n",
    "    selected_clinical_data = geo_select_clinical_features(clinical_data, 'Ankylosing_Spondylitis', trait_row, convert_trait, age_row, convert_age, gender_row, convert_gender)\n",
    "    csv_path = './preprocessed/Ankylosing_Spondylitis/trait_data/GSE25101.csv'\n",
    "    selected_clinical_data.to_csv(csv_path)\n",
    "    print(preview_df(selected_clinical_data))\n"
   ]
  },
  {
   "cell_type": "markdown",
   "id": "605785ab",
   "metadata": {},
   "source": [
    "### Step 3: Gene Data Extraction"
   ]
  },
  {
   "cell_type": "code",
   "execution_count": 4,
   "id": "e0b4df4f",
   "metadata": {
    "execution": {
     "iopub.execute_input": "2024-06-12T10:32:16.435657Z",
     "iopub.status.busy": "2024-06-12T10:32:16.435558Z",
     "iopub.status.idle": "2024-06-12T10:32:16.512778Z",
     "shell.execute_reply": "2024-06-12T10:32:16.512421Z"
    }
   },
   "outputs": [
    {
     "name": "stdout",
     "output_type": "stream",
     "text": [
      "Index(['ILMN_1343291', 'ILMN_1343295', 'ILMN_1651209', 'ILMN_1651228',\n",
      "       'ILMN_1651229', 'ILMN_1651232', 'ILMN_1651237', 'ILMN_1651254',\n",
      "       'ILMN_1651262', 'ILMN_1651268', 'ILMN_1651278', 'ILMN_1651282',\n",
      "       'ILMN_1651286', 'ILMN_1651296', 'ILMN_1651315', 'ILMN_1651316',\n",
      "       'ILMN_1651328', 'ILMN_1651336', 'ILMN_1651341', 'ILMN_1651346'],\n",
      "      dtype='object', name='ID')\n"
     ]
    }
   ],
   "source": [
    "# 1. Use the get_genetic_data function from the library to get the gene_data from the matrix_file previously defined.\n",
    "gene_data = get_genetic_data(matrix_file)\n",
    "\n",
    "# 2. Print the first 20 row ids for the following step.\n",
    "print(gene_data.index[:20])\n"
   ]
  },
  {
   "cell_type": "markdown",
   "id": "08926a89",
   "metadata": {},
   "source": [
    "### Step 4: Gene Identifier Review"
   ]
  },
  {
   "cell_type": "code",
   "execution_count": 5,
   "id": "7260c974",
   "metadata": {
    "execution": {
     "iopub.execute_input": "2024-06-12T10:32:16.515394Z",
     "iopub.status.busy": "2024-06-12T10:32:16.515257Z",
     "iopub.status.idle": "2024-06-12T10:32:16.517361Z",
     "shell.execute_reply": "2024-06-12T10:32:16.517101Z"
    }
   },
   "outputs": [],
   "source": [
    "requires_gene_mapping = True\n"
   ]
  },
  {
   "cell_type": "markdown",
   "id": "460acdbc",
   "metadata": {},
   "source": [
    "### Step 5: Gene Annotation (Conditional)"
   ]
  },
  {
   "cell_type": "code",
   "execution_count": 6,
   "id": "40280c22",
   "metadata": {
    "execution": {
     "iopub.execute_input": "2024-06-12T10:32:16.519212Z",
     "iopub.status.busy": "2024-06-12T10:32:16.519082Z",
     "iopub.status.idle": "2024-06-12T10:32:18.110105Z",
     "shell.execute_reply": "2024-06-12T10:32:18.109743Z"
    }
   },
   "outputs": [
    {
     "name": "stdout",
     "output_type": "stream",
     "text": [
      "Gene annotation preview:\n",
      "{'ID': ['ILMN_1725881', 'ILMN_1910180', 'ILMN_1804174', 'ILMN_1796063', 'ILMN_1811966'], 'nuID': ['rp13_p1x6D80lNLk3c', 'NEX0oqCV8.er4HVfU4', 'KyqQynMZxJcruyylEU', 'xXl7eXuF7sbPEp.KFI', '9ckqJrioiaej9_ajeQ'], 'Species': ['Homo sapiens', 'Homo sapiens', 'Homo sapiens', 'Homo sapiens', 'Homo sapiens'], 'Source': ['RefSeq', 'Unigene', 'RefSeq', 'RefSeq', 'RefSeq'], 'Search_Key': ['ILMN_44919', 'ILMN_127219', 'ILMN_139282', 'ILMN_5006', 'ILMN_38756'], 'Transcript': ['ILMN_44919', 'ILMN_127219', 'ILMN_139282', 'ILMN_5006', 'ILMN_38756'], 'ILMN_Gene': ['LOC23117', 'HS.575038', 'FCGR2B', 'TRIM44', 'LOC653895'], 'Source_Reference_ID': ['XM_933824.1', 'Hs.575038', 'XM_938851.1', 'NM_017583.3', 'XM_936379.1'], 'RefSeq_ID': ['XM_933824.1', nan, 'XM_938851.1', 'NM_017583.3', 'XM_936379.1'], 'Unigene_ID': [nan, 'Hs.575038', nan, nan, nan], 'Entrez_Gene_ID': [23117.0, nan, 2213.0, 54765.0, 653895.0], 'GI': [89040007.0, 10437021.0, 88952550.0, 29029528.0, 89033487.0], 'Accession': ['XM_933824.1', 'AK024680', 'XM_938851.1', 'NM_017583.3', 'XM_936379.1'], 'Symbol': ['LOC23117', nan, 'FCGR2B', 'TRIM44', 'LOC653895'], 'Protein_Product': ['XP_938917.1', nan, 'XP_943944.1', 'NP_060053.2', 'XP_941472.1'], 'Array_Address_Id': [1710221.0, 5900364.0, 2480717.0, 1300239.0, 4480719.0], 'Probe_Type': ['I', 'S', 'I', 'S', 'S'], 'Probe_Start': [122.0, 1409.0, 1643.0, 2901.0, 25.0], 'SEQUENCE': ['GGCTCCTCTTTGGGCTCCTACTGGAATTTATCAGCCATCAGTGCATCTCT', 'ACACCTTCAGGAGGGAAGCCCTTATTTCTGGGTTGAACTCCCCTTCCATG', 'TAGGGGCAATAGGCTATACGCTACAGCCTAGGTGTGTAGTAGGCCACACC', 'CCTGCCTGTCTGCCTGTGACCTGTGTACGTATTACAGGCTTTAGGACCAG', 'CTAGCAGGGAGCGGTGAGGGAGAGCGGCTGGATTTCTTGCGGGATCTGCA'], 'Chromosome': ['16', nan, nan, '11', nan], 'Probe_Chr_Orientation': ['-', nan, nan, '+', nan], 'Probe_Coordinates': ['21766363-21766363:21769901-21769949', nan, nan, '35786070-35786119', nan], 'Cytoband': ['16p12.2a', nan, '1q23.3b', '11p13a', '10q11.23b'], 'Definition': ['PREDICTED: Homo sapiens KIAA0220-like protein, transcript variant 11 (LOC23117), mRNA.', 'Homo sapiens cDNA: FLJ21027 fis, clone CAE07110', 'PREDICTED: Homo sapiens Fc fragment of IgG, low affinity IIb, receptor (CD32) (FCGR2B), mRNA.', 'Homo sapiens tripartite motif-containing 44 (TRIM44), mRNA.', 'PREDICTED: Homo sapiens similar to protein geranylgeranyltransferase type I, beta subunit (LOC653895), mRNA.'], 'Ontology_Component': [nan, nan, nan, 'intracellular [goid 5622] [evidence IEA]', nan], 'Ontology_Process': [nan, nan, nan, nan, nan], 'Ontology_Function': [nan, nan, nan, 'zinc ion binding [goid 8270] [evidence IEA]; metal ion binding [goid 46872] [evidence IEA]', nan], 'Synonyms': [nan, nan, nan, 'MGC3490; MC7; HSA249128; DIPB', nan], 'Obsolete_Probe_Id': [nan, nan, nan, 'MGC3490; MC7; HSA249128; DIPB', nan], 'GB_ACC': ['XM_933824.1', 'AK024680', 'XM_938851.1', 'NM_017583.3', 'XM_936379.1']}\n"
     ]
    }
   ],
   "source": [
    "# 1. Use the 'get_gene_annotation' function from the library to get gene annotation data from the soft file.\n",
    "gene_annotation = get_gene_annotation(soft_file)\n",
    "\n",
    "# 2. Use the 'preview_df' function from the library to preview the data and print out the results.\n",
    "print(\"Gene annotation preview:\")\n",
    "print(preview_df(gene_annotation))\n"
   ]
  },
  {
   "cell_type": "markdown",
   "id": "d7a5ae1a",
   "metadata": {},
   "source": [
    "### Step 6: Gene Identifier Mapping"
   ]
  },
  {
   "cell_type": "code",
   "execution_count": 7,
   "id": "72f18036",
   "metadata": {
    "execution": {
     "iopub.execute_input": "2024-06-12T10:32:18.112258Z",
     "iopub.status.busy": "2024-06-12T10:32:18.112111Z",
     "iopub.status.idle": "2024-06-12T10:32:18.237040Z",
     "shell.execute_reply": "2024-06-12T10:32:18.236648Z"
    }
   },
   "outputs": [],
   "source": [
    "\n",
    "# 1. Identify the keys in the gene annotation dictionary\n",
    "identifier_key = 'ID'\n",
    "gene_symbol_key = 'ILMN_Gene'\n",
    "\n",
    "# 2. Get the dataframe storing the mapping between probe IDs and genes\n",
    "mapping_data = get_gene_mapping(gene_annotation, identifier_key, gene_symbol_key)\n",
    "\n",
    "# 3. Apply the mapping to get the gene expression dataframe\n",
    "gene_data = apply_gene_mapping(gene_data, mapping_data)\n"
   ]
  },
  {
   "cell_type": "markdown",
   "id": "78ef1c79",
   "metadata": {},
   "source": [
    "### Step 7: Data Normalization and Merging"
   ]
  },
  {
   "cell_type": "code",
   "execution_count": 8,
   "id": "b67f1fe5",
   "metadata": {
    "execution": {
     "iopub.execute_input": "2024-06-12T10:32:18.239397Z",
     "iopub.status.busy": "2024-06-12T10:32:18.239288Z",
     "iopub.status.idle": "2024-06-12T10:32:52.249215Z",
     "shell.execute_reply": "2024-06-12T10:32:52.248664Z"
    }
   },
   "outputs": [
    {
     "name": "stdout",
     "output_type": "stream",
     "text": [
      "For the feature 'Ankylosing_Spondylitis', the least common label is '1.0' with 16 occurrences. This represents 50.00% of the dataset.\n",
      "The distribution of the feature 'Ankylosing_Spondylitis' in this dataset is fine.\n",
      "\n"
     ]
    }
   ],
   "source": [
    "# 1. Normalize the obtained gene data with the 'normalize_gene_symbols_in_index' function from the library.\n",
    "normalized_gene_data = normalize_gene_symbols_in_index(gene_data)\n",
    "gene_csv_path = './preprocessed/Ankylosing_Spondylitis/gene_data/GSE25101.csv'\n",
    "normalized_gene_data.to_csv(gene_csv_path)\n",
    "\n",
    "# 2. Merge the clinical and genetic data with the 'geo_merge_clinical_genetic_data' function from the library.\n",
    "merged_data = geo_merge_clinical_genetic_data(selected_clinical_data, normalized_gene_data)\n",
    "\n",
    "# 3. Determine whether the trait and some demographic attributes in the data is severely biased, and remove biased attributes.\n",
    "trait_biased, unbiased_merged_data = judge_and_remove_biased_features(merged_data, 'Ankylosing_Spondylitis')\n",
    "\n",
    "# If the trait is not severely biased, save the cohort information and the merged data.\n",
    "\n",
    "# 4. Save the cohort information.\n",
    "save_cohort_info('GSE25101', './preprocessed/Ankylosing_Spondylitis/cohort_info.json', True, True, trait_biased, merged_data)\n",
    "\n",
    "if not trait_biased:\n",
    "    # 5. If the trait is not severely biased, save the merged data to a csv file.\n",
    "    csv_path = './preprocessed/Ankylosing_Spondylitis/GSE25101.csv'\n",
    "    unbiased_merged_data.to_csv(csv_path)\n"
   ]
  }
 ],
 "metadata": {
  "language_info": {
   "codemirror_mode": {
    "name": "ipython",
    "version": 3
   },
   "file_extension": ".py",
   "mimetype": "text/x-python",
   "name": "python",
   "nbconvert_exporter": "python",
   "pygments_lexer": "ipython3",
   "version": "3.8.17"
  }
 },
 "nbformat": 4,
 "nbformat_minor": 5
}
