{
 "cells": [
  {
   "cell_type": "code",
   "execution_count": 1,
   "id": "23857468",
   "metadata": {
    "execution": {
     "iopub.execute_input": "2024-06-12T10:30:52.558226Z",
     "iopub.status.busy": "2024-06-12T10:30:52.558075Z",
     "iopub.status.idle": "2024-06-12T10:30:52.563603Z",
     "shell.execute_reply": "2024-06-12T10:30:52.563088Z"
    }
   },
   "outputs": [],
   "source": [
    "\n",
    "import sys\n",
    "sys.path.append('/home/techt/Desktop/a4s')\n"
   ]
  },
  {
   "cell_type": "markdown",
   "id": "ced33c6c",
   "metadata": {},
   "source": [
    "### Step 1: Initial Data Loading"
   ]
  },
  {
   "cell_type": "code",
   "execution_count": 2,
   "id": "a0a50ed9",
   "metadata": {
    "execution": {
     "iopub.execute_input": "2024-06-12T10:30:52.565568Z",
     "iopub.status.busy": "2024-06-12T10:30:52.565332Z",
     "iopub.status.idle": "2024-06-12T10:30:52.958192Z",
     "shell.execute_reply": "2024-06-12T10:30:52.957837Z"
    }
   },
   "outputs": [
    {
     "name": "stdout",
     "output_type": "stream",
     "text": [
      "Background Information:\n",
      "!Series_title\t\"Sexual Dimorphism in the Th17 Signature of Ankylosing Spondylitis\"\n",
      "!Series_summary\t\"Male AS patients have an elevated Th17 cell frequency vs. female AS patients (Gracey et al, Arthritis and Rheumatology, 2015). This analysis was performed to further examine differences between male and female AS patients\"\n",
      "!Series_overall_design\t\"AS patients were compared to healthy controls (HC). For sex-specific anaylsis, three groups were compared: F-HC vs. M-HC, M-AS vs. M-HC and F-AS vs. F-HC. A one way ANOVA was performed to identify genes differentially regulated in male and female AS patients\"\n",
      "Sample Characteristics Dictionary:\n",
      "{0: ['Sex: Male', 'Sex: Female'], 1: ['age (yr): 53', 'age (yr): 26', 'age (yr): 29', 'age (yr): 50', 'age (yr): 35', 'age (yr): 48', 'age (yr): 18', 'age (yr): 39', 'age (yr): 49', 'age (yr): 43', 'age (yr): 59', 'age (yr): 51', 'age (yr): 45', 'age (yr): 52', 'age (yr): 77', 'age (yr): 34', 'age (yr): 31', 'age (yr): 23', 'age (yr): 46', 'age (yr): 40', 'age (yr): 55', 'age (yr): 54', 'age (yr): 41', 'age (yr): 38', 'age (yr): 21', 'age (yr): 47', 'age (yr): 60', 'age (yr): 27', 'age (yr): 37', 'age (yr): 28'], 2: ['hla-b27 (1=positive, 0=negative): 1', 'hla-b27 (1=positive, 0=negative): 0', 'hla-b27 (1=positive, 0=negative): unknown'], 3: ['disease: Ankylosing Spondylitis', 'disease: healthy control']}\n"
     ]
    }
   ],
   "source": [
    "from utils.preprocess import *\n",
    "# 1. Identify the paths to the soft file and the matrix file\n",
    "cohort_dir = '/media/techt/DATA/GEO/Ankylosing_Spondylitis/GSE73754'\n",
    "soft_file, matrix_file = geo_get_relevant_filepaths(cohort_dir)\n",
    "\n",
    "# 2. Read the matrix file to obtain background information and sample characteristics data\n",
    "background_prefixes = ['!Series_title', '!Series_summary', '!Series_overall_design']\n",
    "clinical_prefixes = ['!Sample_geo_accession', '!Sample_characteristics_ch1']\n",
    "background_info, clinical_data = get_background_and_clinical_data(matrix_file, background_prefixes, clinical_prefixes)\n",
    "\n",
    "# 3. Obtain the sample characteristics dictionary from the clinical dataframe\n",
    "sample_characteristics_dict = get_unique_values_by_row(clinical_data)\n",
    "\n",
    "# 4. Explicitly print out all the background information and the sample characteristics dictionary\n",
    "print(\"Background Information:\")\n",
    "print(background_info)\n",
    "print(\"Sample Characteristics Dictionary:\")\n",
    "print(sample_characteristics_dict)\n"
   ]
  },
  {
   "cell_type": "markdown",
   "id": "6a5648d3",
   "metadata": {},
   "source": [
    "### Step 2: Dataset Analysis and Clinical Feature Extraction"
   ]
  },
  {
   "cell_type": "code",
   "execution_count": 3,
   "id": "a108fc94",
   "metadata": {
    "execution": {
     "iopub.execute_input": "2024-06-12T10:30:52.959536Z",
     "iopub.status.busy": "2024-06-12T10:30:52.959433Z",
     "iopub.status.idle": "2024-06-12T10:30:52.977144Z",
     "shell.execute_reply": "2024-06-12T10:30:52.976856Z"
    }
   },
   "outputs": [
    {
     "name": "stdout",
     "output_type": "stream",
     "text": [
      "{'GSM1902130': [1.0, 53.0, 1.0], 'GSM1902131': [1.0, 26.0, 1.0], 'GSM1902132': [1.0, 29.0, 1.0], 'GSM1902133': [1.0, 50.0, 1.0], 'GSM1902134': [1.0, 35.0, 1.0], 'GSM1902135': [1.0, 48.0, 1.0], 'GSM1902136': [1.0, 18.0, 1.0], 'GSM1902137': [1.0, 39.0, 1.0], 'GSM1902138': [1.0, 49.0, 1.0], 'GSM1902139': [1.0, 43.0, 1.0], 'GSM1902140': [1.0, 43.0, 1.0], 'GSM1902141': [1.0, 18.0, 1.0], 'GSM1902142': [1.0, 59.0, 1.0], 'GSM1902143': [1.0, 51.0, 1.0], 'GSM1902144': [1.0, 18.0, 1.0], 'GSM1902145': [1.0, 45.0, 1.0], 'GSM1902146': [1.0, 52.0, 1.0], 'GSM1902147': [1.0, 77.0, 1.0], 'GSM1902148': [1.0, 34.0, 1.0], 'GSM1902149': [1.0, 31.0, 1.0], 'GSM1902150': [1.0, 51.0, 1.0], 'GSM1902151': [1.0, 23.0, 1.0], 'GSM1902152': [1.0, 52.0, 0.0], 'GSM1902153': [1.0, 46.0, 0.0], 'GSM1902154': [1.0, 40.0, 0.0], 'GSM1902155': [1.0, 55.0, 1.0], 'GSM1902156': [1.0, 54.0, 0.0], 'GSM1902157': [1.0, 41.0, 0.0], 'GSM1902158': [1.0, 38.0, 0.0], 'GSM1902159': [1.0, 45.0, 0.0], 'GSM1902160': [1.0, 52.0, 0.0], 'GSM1902161': [1.0, 43.0, 0.0], 'GSM1902162': [1.0, 41.0, 0.0], 'GSM1902163': [1.0, 21.0, 0.0], 'GSM1902164': [1.0, 47.0, 0.0], 'GSM1902165': [1.0, 60.0, 0.0], 'GSM1902166': [1.0, 46.0, 0.0], 'GSM1902167': [1.0, 27.0, 0.0], 'GSM1902168': [1.0, 37.0, 0.0], 'GSM1902169': [1.0, 28.0, 0.0], 'GSM1902170': [1.0, 37.0, 0.0], 'GSM1902171': [1.0, 48.0, 0.0], 'GSM1902172': [1.0, 41.0, 0.0], 'GSM1902173': [1.0, 53.0, 0.0], 'GSM1902174': [1.0, 39.0, 0.0], 'GSM1902175': [1.0, 18.0, 0.0], 'GSM1902176': [1.0, 50.0, 0.0], 'GSM1902177': [1.0, 22.0, 1.0], 'GSM1902178': [1.0, 48.0, 1.0], 'GSM1902179': [1.0, 57.0, 1.0], 'GSM1902180': [1.0, 23.0, 1.0], 'GSM1902181': [1.0, 56.0, 0.0], 'GSM1902182': [0.0, 28.0, 1.0], 'GSM1902183': [0.0, 26.0, 1.0], 'GSM1902184': [0.0, 65.0, 1.0], 'GSM1902185': [0.0, 41.0, 1.0], 'GSM1902186': [0.0, 32.0, 1.0], 'GSM1902187': [0.0, 56.0, 1.0], 'GSM1902188': [0.0, 47.0, 1.0], 'GSM1902189': [0.0, 71.0, 1.0], 'GSM1902190': [0.0, 24.0, 1.0], 'GSM1902191': [0.0, 24.0, 1.0], 'GSM1902192': [0.0, 27.0, 0.0], 'GSM1902193': [0.0, 37.0, 0.0], 'GSM1902194': [0.0, 42.0, 0.0], 'GSM1902195': [0.0, 63.0, 0.0], 'GSM1902196': [0.0, 61.0, 0.0], 'GSM1902197': [0.0, 20.0, 0.0], 'GSM1902198': [0.0, 31.0, 0.0], 'GSM1902199': [0.0, 25.0, 0.0], 'GSM1902200': [0.0, 29.0, 0.0], 'GSM1902201': [0.0, 65.0, 0.0]}\n"
     ]
    }
   ],
   "source": [
    "is_gene_available = False\n",
    "trait_row = age_row = gender_row = None  # set to different values when applicable\n",
    "convert_trait = convert_age = convert_gender = None  # define the functions when applicable\n",
    "\n",
    "# Analyze the dataset and initialize variables appropriately\n",
    "is_gene_available = True\n",
    "\n",
    "# Determine the keys for variables\n",
    "trait_row = 3 if len(set(['disease: Ankylosing Spondylitis', 'disease: healthy control'])) > 1 else None\n",
    "age_row = 1 if len(set(['age (yr): 53', 'age (yr): 26', 'age (yr): 29', 'age (yr): 50', 'age (yr): 35', 'age (yr): 48', 'age (yr): 18', 'age (yr): 39', 'age (yr): 49', 'age (yr): 43', 'age (yr): 59', 'age (yr): 51', 'age (yr): 45', 'age (yr): 52', 'age (yr): 77', 'age (yr): 34', 'age (yr): 31', 'age (yr): 23', 'age (yr): 46', 'age (yr): 40', 'age (yr): 55', 'age (yr): 54', 'age (yr): 41', 'age (yr): 38', 'age (yr): 21', 'age (yr): 47', 'age (yr): 60', 'age (yr): 27', 'age (yr): 37', 'age (yr): 28'])) > 1 else None\n",
    "gender_row = 0 if len(set(['Sex: Male', 'Sex: Female'])) > 1 else None\n",
    "\n",
    "# Data conversion functions\n",
    "def convert_trait(value):\n",
    "    if 'Ankylosing Spondylitis' in value:\n",
    "        return 1\n",
    "    elif 'healthy control' in value:\n",
    "        return 0\n",
    "    return None\n",
    "\n",
    "def convert_age(value):\n",
    "    try:\n",
    "        return float(value.split(': ')[1])\n",
    "    except:\n",
    "        return None\n",
    "\n",
    "def convert_gender(value):\n",
    "    if 'Male' in value:\n",
    "        return 1\n",
    "    elif 'Female' in value:\n",
    "        return 0\n",
    "    return None\n",
    "\n",
    "# Save cohort information\n",
    "save_cohort_info('GSE73754', './preprocessed/Ankylosing_Spondylitis/cohort_info.json', is_gene_available, trait_row is not None)\n",
    "\n",
    "# Extract and save clinical feature data if available\n",
    "if trait_row is not None:\n",
    "    selected_clinical_data = geo_select_clinical_features(clinical_data, 'Ankylosing_Spondylitis', trait_row, convert_trait, age_row, convert_age, gender_row, convert_gender)\n",
    "    csv_path = './preprocessed/Ankylosing_Spondylitis/trait_data/GSE73754.csv'\n",
    "    selected_clinical_data.to_csv(csv_path)\n",
    "    print(preview_df(selected_clinical_data))\n"
   ]
  },
  {
   "cell_type": "markdown",
   "id": "40fc40f7",
   "metadata": {},
   "source": [
    "### Step 3: Gene Data Extraction"
   ]
  },
  {
   "cell_type": "code",
   "execution_count": 4,
   "id": "523795f4",
   "metadata": {
    "execution": {
     "iopub.execute_input": "2024-06-12T10:30:52.979083Z",
     "iopub.status.busy": "2024-06-12T10:30:52.978959Z",
     "iopub.status.idle": "2024-06-12T10:30:53.300722Z",
     "shell.execute_reply": "2024-06-12T10:30:53.300367Z"
    }
   },
   "outputs": [
    {
     "name": "stdout",
     "output_type": "stream",
     "text": [
      "Index(['ILMN_1343291', 'ILMN_1343295', 'ILMN_1651199', 'ILMN_1651209',\n",
      "       'ILMN_1651210', 'ILMN_1651221', 'ILMN_1651228', 'ILMN_1651229',\n",
      "       'ILMN_1651230', 'ILMN_1651232', 'ILMN_1651235', 'ILMN_1651236',\n",
      "       'ILMN_1651237', 'ILMN_1651238', 'ILMN_1651249', 'ILMN_1651253',\n",
      "       'ILMN_1651254', 'ILMN_1651259', 'ILMN_1651260', 'ILMN_1651262'],\n",
      "      dtype='object', name='ID')\n"
     ]
    }
   ],
   "source": [
    "# 1. Use the get_genetic_data function from the library to get the gene_data from the matrix_file previously defined.\n",
    "gene_data = get_genetic_data(matrix_file)\n",
    "\n",
    "# 2. Print the first 20 row ids for the following step.\n",
    "print(gene_data.index[:20])\n"
   ]
  },
  {
   "cell_type": "markdown",
   "id": "45cf15d7",
   "metadata": {},
   "source": [
    "### Step 4: Gene Identifier Review"
   ]
  },
  {
   "cell_type": "code",
   "execution_count": 5,
   "id": "847c17c1",
   "metadata": {
    "execution": {
     "iopub.execute_input": "2024-06-12T10:30:53.302769Z",
     "iopub.status.busy": "2024-06-12T10:30:53.302660Z",
     "iopub.status.idle": "2024-06-12T10:30:53.304672Z",
     "shell.execute_reply": "2024-06-12T10:30:53.304405Z"
    }
   },
   "outputs": [],
   "source": [
    "requires_gene_mapping = True\n"
   ]
  },
  {
   "cell_type": "markdown",
   "id": "d0dbcd73",
   "metadata": {},
   "source": [
    "### Step 5: Gene Annotation (Conditional)"
   ]
  },
  {
   "cell_type": "code",
   "execution_count": 6,
   "id": "495b37f7",
   "metadata": {
    "execution": {
     "iopub.execute_input": "2024-06-12T10:30:53.306774Z",
     "iopub.status.busy": "2024-06-12T10:30:53.306649Z",
     "iopub.status.idle": "2024-06-12T10:31:00.348751Z",
     "shell.execute_reply": "2024-06-12T10:31:00.348382Z"
    }
   },
   "outputs": [
    {
     "name": "stdout",
     "output_type": "stream",
     "text": [
      "Gene annotation preview:\n",
      "{'ID': ['ILMN_1343048', 'ILMN_1343049', 'ILMN_1343050', 'ILMN_1343052', 'ILMN_1343059'], 'Species': [nan, nan, nan, nan, nan], 'Source': [nan, nan, nan, nan, nan], 'Search_Key': [nan, nan, nan, nan, nan], 'Transcript': [nan, nan, nan, nan, nan], 'ILMN_Gene': [nan, nan, nan, nan, nan], 'Source_Reference_ID': [nan, nan, nan, nan, nan], 'RefSeq_ID': [nan, nan, nan, nan, nan], 'Unigene_ID': [nan, nan, nan, nan, nan], 'Entrez_Gene_ID': [nan, nan, nan, nan, nan], 'GI': [nan, nan, nan, nan, nan], 'Accession': [nan, nan, nan, nan, nan], 'Symbol': ['phage_lambda_genome', 'phage_lambda_genome', 'phage_lambda_genome:low', 'phage_lambda_genome:low', 'thrB'], 'Protein_Product': [nan, nan, nan, nan, 'thrB'], 'Probe_Id': [nan, nan, nan, nan, nan], 'Array_Address_Id': [5090180.0, 6510136.0, 7560739.0, 1450438.0, 1240647.0], 'Probe_Type': [nan, nan, nan, nan, nan], 'Probe_Start': [nan, nan, nan, nan, nan], 'SEQUENCE': ['GAATAAAGAACAATCTGCTGATGATCCCTCCGTGGATCTGATTCGTGTAA', 'CCATGTGATACGAGGGCGCGTAGTTTGCATTATCGTTTTTATCGTTTCAA', 'CCGACAGATGTATGTAAGGCCAACGTGCTCAAATCTTCATACAGAAAGAT', 'TCTGTCACTGTCAGGAAAGTGGTAAAACTGCAACTCAATTACTGCAATGC', 'CTTGTGCCTGAGCTGTCAAAAGTAGAGCACGTCGCCGAGATGAAGGGCGC'], 'Chromosome': [nan, nan, nan, nan, nan], 'Probe_Chr_Orientation': [nan, nan, nan, nan, nan], 'Probe_Coordinates': [nan, nan, nan, nan, nan], 'Cytoband': [nan, nan, nan, nan, nan], 'Definition': [nan, nan, nan, nan, nan], 'Ontology_Component': [nan, nan, nan, nan, nan], 'Ontology_Process': [nan, nan, nan, nan, nan], 'Ontology_Function': [nan, nan, nan, nan, nan], 'Synonyms': [nan, nan, nan, nan, nan], 'Obsolete_Probe_Id': [nan, nan, nan, nan, nan], 'GB_ACC': [nan, nan, nan, nan, nan]}\n"
     ]
    }
   ],
   "source": [
    "# 1. Use the 'get_gene_annotation' function from the library to get gene annotation data from the soft file.\n",
    "gene_annotation = get_gene_annotation(soft_file)\n",
    "\n",
    "# 2. Use the 'preview_df' function from the library to preview the data and print out the results.\n",
    "print(\"Gene annotation preview:\")\n",
    "print(preview_df(gene_annotation))\n"
   ]
  },
  {
   "cell_type": "markdown",
   "id": "f2ccbec1",
   "metadata": {},
   "source": [
    "### Step 6: Gene Identifier Mapping"
   ]
  },
  {
   "cell_type": "code",
   "execution_count": 7,
   "id": "98c23bea",
   "metadata": {
    "execution": {
     "iopub.execute_input": "2024-06-12T10:31:00.350130Z",
     "iopub.status.busy": "2024-06-12T10:31:00.350024Z",
     "iopub.status.idle": "2024-06-12T10:31:00.594027Z",
     "shell.execute_reply": "2024-06-12T10:31:00.593611Z"
    }
   },
   "outputs": [
    {
     "name": "stdout",
     "output_type": "stream",
     "text": [
      "{'GSM1902130': [6.583238, 7.541307, 6.63791275, 6.8039856, 7.515051175], 'GSM1902131': [6.634187, 7.4189355500000005, 6.584239, 6.6177506, 7.646111375], 'GSM1902132': [6.7367725, 7.7238567499999995, 6.66416685, 6.6775446, 7.551642975], 'GSM1902133': [6.606144, 7.45788875, 6.6658995, 6.5772543, 8.093897675000001], 'GSM1902134': [6.5923347, 8.0634962, 6.6458128, 6.7254357, 7.6429497], 'GSM1902135': [6.5824294, 7.3454676, 6.645117, 6.6966567, 7.75618035], 'GSM1902136': [6.7272, 7.918340349999999, 6.61541605, 6.7681003, 7.66085175], 'GSM1902137': [6.687715, 7.6838125, 6.647268, 6.5886893, 7.634818525], 'GSM1902138': [6.815838, 7.5176643, 6.65425975, 6.6227317, 8.171752325], 'GSM1902139': [6.6861186, 7.3310905, 6.575991650000001, 6.529279, 7.75284245], 'GSM1902140': [6.6841364, 7.60499375, 6.6829137, 6.723507, 7.560919075], 'GSM1902141': [6.540846, 7.46802825, 6.6664674999999995, 6.633009, 7.84258305], 'GSM1902142': [6.6597323, 7.5115417, 6.609412799999999, 6.7284937, 7.808516624999999], 'GSM1902143': [6.6915307, 7.52063845, 6.616230099999999, 6.617138, 7.9321076], 'GSM1902144': [6.6782823, 7.86029235, 6.6006798, 6.6795187, 7.5685987], 'GSM1902145': [6.696426, 7.53917585, 6.689107, 6.62898, 8.037668125], 'GSM1902146': [6.7455096, 7.2844157, 6.705439999999999, 6.579772, 7.682466325], 'GSM1902147': [6.6980343, 7.4803847, 6.6200958, 6.570355, 8.089561925], 'GSM1902148': [6.63904, 7.49054875, 6.6046494, 6.6376367, 7.823530475], 'GSM1902149': [6.565611, 7.6663959, 6.68509575, 6.737057, 7.515305175], 'GSM1902150': [6.679809, 7.6210191, 6.6279877, 6.5993943, 7.81354135], 'GSM1902151': [6.7036424, 7.43708165, 6.673496350000001, 6.7166653, 7.766429275], 'GSM1902152': [6.6152587, 7.7873655, 6.64360495, 6.735879, 7.51139325], 'GSM1902153': [6.5270014, 7.33548855, 6.69624725, 6.639576, 7.98627235], 'GSM1902154': [6.609742, 7.3518975, 6.7128415, 6.6454215, 7.767443675000001], 'GSM1902155': [6.7227335, 7.262606999999999, 6.6163875, 6.733961, 7.4243136750000005], 'GSM1902156': [6.621636, 7.8323402, 6.62780225, 6.5753293, 7.543278750000001], 'GSM1902157': [6.768833, 7.2652547, 6.6796019, 6.5749125, 7.5566017500000005], 'GSM1902158': [6.723977, 7.57277425, 6.5542985, 6.5955386, 7.525315525], 'GSM1902159': [6.6956353, 7.72429725, 6.593297, 6.697606, 7.72767215], 'GSM1902160': [6.79546, 7.4246301500000005, 6.66060125, 6.569794, 7.5970266], 'GSM1902161': [6.724243, 7.516330699999999, 6.59868835, 6.666217, 7.52149195], 'GSM1902162': [6.6995587, 7.701483, 6.625318350000001, 6.744419, 8.6532495], 'GSM1902163': [6.6708736, 7.59951665, 6.6420233, 6.560431, 7.946360575], 'GSM1902164': [6.5949636, 7.505519850000001, 6.716200349999999, 6.6367645, 7.935316575], 'GSM1902165': [6.7456613, 7.2123005, 6.7005345, 6.6864767, 8.21245775], 'GSM1902166': [6.703421, 7.589953749999999, 6.6269807499999995, 6.7309704, 7.6310538], 'GSM1902167': [6.599566, 7.299675499999999, 6.7551257499999995, 6.6781754, 7.999074175], 'GSM1902168': [6.662097, 7.3370603, 6.679302699999999, 6.736761, 7.912820875], 'GSM1902169': [6.575152, 7.3491641, 6.64768885, 6.507989, 7.496926875], 'GSM1902170': [6.5965524, 7.6562605, 6.7147363, 6.5876207, 7.39355065], 'GSM1902171': [6.583153, 7.2466351499999995, 6.654354250000001, 6.626046, 8.06853025], 'GSM1902172': [6.591962, 7.4831132, 6.62648735, 6.7496176, 7.52815885], 'GSM1902173': [6.56616, 7.7193788, 6.5772485, 6.623588, 7.423037325], 'GSM1902174': [6.7014656, 7.388563400000001, 6.681324200000001, 6.674631, 7.686444325], 'GSM1902175': [6.7088833, 7.41399975, 6.6109762, 6.6384606, 7.2343171250000005], 'GSM1902176': [6.6220393, 7.546333499999999, 6.6663599, 6.65746, 7.6205731], 'GSM1902177': [6.702451, 7.6216042, 6.61738665, 6.5822077, 8.161701825], 'GSM1902178': [6.696325, 7.725335299999999, 6.68401315, 6.65815, 7.73075855], 'GSM1902179': [6.7098384, 7.3022097, 6.6841588000000005, 6.630497, 7.7573348499999994], 'GSM1902180': [6.6477156, 7.5014818000000005, 6.6346697500000005, 6.5140233, 7.88085955], 'GSM1902181': [6.60926, 7.63108875, 6.6008093, 6.693071, 7.8493664999999995], 'GSM1902182': [6.7864604, 7.8306945, 6.593609750000001, 6.8645773, 7.5448757], 'GSM1902183': [6.7930055, 7.511747850000001, 6.6341853, 6.653244, 7.866802575], 'GSM1902184': [7.0013814, 7.549168099999999, 6.7066882, 6.648507, 8.303183325], 'GSM1902185': [6.5605636, 7.43126365, 6.555460500000001, 6.6114326, 8.5184385], 'GSM1902186': [6.618115, 7.61710545, 6.6962473, 6.651243, 7.78667065], 'GSM1902187': [6.689874, 7.5311305, 6.6333212, 6.6180925, 7.94271025], 'GSM1902188': [6.7185383, 7.737140699999999, 6.70053125, 6.641592, 7.21665985], 'GSM1902189': [6.716383, 7.6870908, 6.6607971, 6.60858, 7.6866753999999995], 'GSM1902190': [6.7795906, 7.4960255, 6.58076215, 6.7760167, 7.45732525], 'GSM1902191': [6.615305, 7.805870049999999, 6.695591, 6.700173, 7.635972525000001], 'GSM1902192': [6.7306223, 7.7278455, 6.565555, 6.641082, 7.408530975], 'GSM1902193': [6.6625214, 7.882471499999999, 6.667528300000001, 6.6932077, 7.456630775], 'GSM1902194': [6.5362563, 7.646876000000001, 6.646483, 6.6560187, 7.84983665], 'GSM1902195': [6.717677, 7.620931000000001, 6.655234, 6.7014475, 7.341352875], 'GSM1902196': [6.5674405, 7.521967999999999, 6.5612545, 6.62216, 7.28374275], 'GSM1902197': [6.684505, 7.61226025, 6.59679795, 6.62875, 7.821661575], 'GSM1902198': [6.6353383, 7.6779477, 6.65280715, 6.7129993, 7.364902875], 'GSM1902199': [6.5013633, 7.704807049999999, 6.6472838, 6.660842, 7.319058575], 'GSM1902200': [6.668359, 7.7479435, 6.6581144000000005, 6.6125245, 7.650862775], 'GSM1902201': [6.60134, 7.45352435, 6.60780175, 6.8492208, 7.85087065]}\n"
     ]
    }
   ],
   "source": [
    "# 1. Set the appropriate keys for identifiers and gene symbols\n",
    "identifier_key = 'ID'\n",
    "gene_symbol_key = 'Symbol'\n",
    "\n",
    "# 2. Get the dataframe storing the mapping between probe IDs and genes\n",
    "gene_mapping = get_gene_mapping(gene_annotation, identifier_key, gene_symbol_key)\n",
    "\n",
    "# 3. Apply the mapping to get the gene_data\n",
    "gene_data = apply_gene_mapping(gene_data, gene_mapping)\n",
    "\n",
    "print(preview_df(gene_data))\n"
   ]
  },
  {
   "cell_type": "markdown",
   "id": "16745b9e",
   "metadata": {},
   "source": [
    "### Step 7: Data Normalization and Merging"
   ]
  },
  {
   "cell_type": "code",
   "execution_count": 8,
   "id": "449e5ca2",
   "metadata": {
    "execution": {
     "iopub.execute_input": "2024-06-12T10:31:00.596256Z",
     "iopub.status.busy": "2024-06-12T10:31:00.596116Z",
     "iopub.status.idle": "2024-06-12T10:32:15.185703Z",
     "shell.execute_reply": "2024-06-12T10:32:15.185215Z"
    }
   },
   "outputs": [
    {
     "name": "stdout",
     "output_type": "stream",
     "text": [
      "For the feature 'Ankylosing_Spondylitis', the least common label is '0.0' with 20 occurrences. This represents 27.78% of the dataset.\n",
      "The distribution of the feature 'Ankylosing_Spondylitis' in this dataset is fine.\n",
      "\n",
      "Quartiles for 'Age':\n",
      "  25%: 28.75\n",
      "  50% (Median): 41.5\n",
      "  75%: 51.25\n",
      "Min: 18.0\n",
      "Max: 77.0\n",
      "The distribution of the feature 'Age' in this dataset is fine.\n",
      "\n",
      "For the feature 'Gender', the least common label is '0.0' with 35 occurrences. This represents 48.61% of the dataset.\n",
      "The distribution of the feature 'Gender' in this dataset is fine.\n",
      "\n"
     ]
    }
   ],
   "source": [
    "# 1. Normalize the obtained gene data with the 'normalize_gene_symbols_in_index' function from the library.\n",
    "normalized_gene_data = normalize_gene_symbols_in_index(gene_data)\n",
    "gene_csv_path = './preprocessed/Ankylosing_Spondylitis/gene_data/GSE73754.csv'\n",
    "normalized_gene_data.to_csv(gene_csv_path)\n",
    "\n",
    "# 2. Merge the clinical and genetic data with the 'geo_merge_clinical_genetic_data' function from the library.\n",
    "merged_data = geo_merge_clinical_genetic_data(selected_clinical_data, normalized_gene_data)\n",
    "\n",
    "# 3. Determine whether the trait and some demographic attributes in the data is severely biased, and remove biased attributes.\n",
    "trait_biased, unbiased_merged_data = judge_and_remove_biased_features(merged_data, 'Ankylosing_Spondylitis')\n",
    "\n",
    "# 4. Save the cohort information.\n",
    "save_cohort_info('GSE73754', './preprocessed/Ankylosing_Spondylitis/cohort_info.json', True, True, trait_biased, merged_data)\n",
    "\n",
    "if not trait_biased:\n",
    "    # 5. If the trait is not severely biased, save the merged data to a csv file.\n",
    "    csv_path = './preprocessed/Ankylosing_Spondylitis/GSE73754.csv'\n",
    "    unbiased_merged_data.to_csv(csv_path)\n"
   ]
  }
 ],
 "metadata": {
  "language_info": {
   "codemirror_mode": {
    "name": "ipython",
    "version": 3
   },
   "file_extension": ".py",
   "mimetype": "text/x-python",
   "name": "python",
   "nbconvert_exporter": "python",
   "pygments_lexer": "ipython3",
   "version": "3.8.17"
  }
 },
 "nbformat": 4,
 "nbformat_minor": 5
}
