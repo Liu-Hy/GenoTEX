{
 "cells": [
  {
   "cell_type": "code",
   "execution_count": 1,
   "id": "27b5b8f6",
   "metadata": {
    "execution": {
     "iopub.execute_input": "2024-06-12T07:43:59.360983Z",
     "iopub.status.busy": "2024-06-12T07:43:59.360862Z",
     "iopub.status.idle": "2024-06-12T07:43:59.365984Z",
     "shell.execute_reply": "2024-06-12T07:43:59.365695Z"
    }
   },
   "outputs": [],
   "source": [
    "\n",
    "import sys\n",
    "sys.path.append('/home/techt/Desktop/a4s')\n"
   ]
  },
  {
   "cell_type": "markdown",
   "id": "7bb6a4b9",
   "metadata": {},
   "source": [
    "### Step 1: Initial Data Loading"
   ]
  },
  {
   "cell_type": "code",
   "execution_count": 2,
   "id": "f6f6de4e",
   "metadata": {
    "execution": {
     "iopub.execute_input": "2024-06-12T07:43:59.367974Z",
     "iopub.status.busy": "2024-06-12T07:43:59.367672Z",
     "iopub.status.idle": "2024-06-12T07:43:59.763181Z",
     "shell.execute_reply": "2024-06-12T07:43:59.762874Z"
    }
   },
   "outputs": [
    {
     "name": "stdout",
     "output_type": "stream",
     "text": [
      "Background Information:\n",
      "!Series_title\t\"Basal gene expression data of 21 cell lines (18 cancer and 3 non-tumorigenic)\"\n",
      "!Series_summary\t\"We profiled basal gene expressed levels of 21 cell lines (18 cancer and 3 non-tumorigenic) using Affymetrix HG-U133_plus2 GeneChip microarrays.\"\n",
      "!Series_summary\t\"Goal of the experiment was to benchmark a number of algorithms for biomarker detection all of which utilize gene expression data.\"\n",
      "!Series_overall_design\t\"Cell lines were cultivated in appropriate media according to supplier recommendations. Goal was to acquire a basal gene expression profile of 21 common cell lines.\"\n",
      "Sample Characteristics Dictionary:\n",
      "{0: ['gender: male', 'gender: female'], 1: ['organ: Kidney', 'organ: Lung', 'organ: Colon', 'organ: Prostate', 'organ: Skin', 'organ: Cervix', 'organ: Breast', 'organ: Pancreas', 'organ: Ovary', 'organ: Bone'], 2: ['disease: renal cell adenocarcinoma', 'disease: non-small cell carcinoma', 'disease: colorectal adenocarcinoma', 'disease: moderately differentiated adenocarcinoma', 'disease: non-tumorigenic; spontaneously immortilized keratinocytes', 'disease: colorectal carcinoma', 'disease: adenocarcinoma', 'disease: non-tumorigenic; aspartoacylase deficiency; possible Canavan disease', 'disease: invasive ductal carcinoma; inflammatory skin metastasis', 'disease: non-tumorigenic; Fibrocystic Breast disease', 'disease: intraductal adenocarcinoma', 'disease: carcinoma', 'disease: large cell carcinoma', 'disease: Gleason Grade 4; adenocarcinoma', 'disease: malignant melanoma', \"disease: Dukes' type B; colorectal adenocarcinoma\", 'disease: ductal carcinoma', 'disease: osteosarcoma'], 3: ['morphology: epithelial', 'morphology: fibroblast', 'morphology: attached epithelial with floating rounded cells', 'morphology: polygonal'], 4: ['is_metastasis: no', 'is_metastasis: yes'], 5: ['metastatic_site: n/a', 'metastatic_site: brain', 'metastatic_site: pleural fluid', 'metastatic_site: bone', 'metastatic_site: ascites'], 6: ['in_vivo_growth: yes', 'in_vivo_growth: not tested'], 7: ['cell line: 786-O', 'cell line: A549', 'cell line: Caco-2', 'cell line: DU 145', 'cell line: HaCaT', 'cell line: HCT 116', 'cell line: HeLa', 'cell line: Hs68', 'cell line: HT-29', 'cell line: KPL-4', 'cell line: MCF 10A', 'cell line: MCF7', 'cell line: MDA-MB-231', 'cell line: Mia PaCa-2', 'cell line: NCI-H460', 'cell line: PC-3', 'cell line: SK-MEL-28', 'cell line: SK-OV-3', 'cell line: SW480', 'cell line: T47D', 'cell line: U-2 OS'], 8: ['atcc_number: CRL-1932', 'atcc_number: CCL-185', 'atcc_number: HTB-37', 'atcc_number: HTB-81', 'atcc_number: n/a (PMID: 2450098)', 'atcc_number: CCL-247', 'atcc_number: CCL-2', 'atcc_number: CRL-1635', 'atcc_number: HTB-38', 'atcc_number: n/a (PMID: 10070858)', 'atcc_number: CRL-10317', 'atcc_number: HTB-22', 'atcc_number: HTB-26', 'atcc_number: CRL-1420', 'atcc_number: HTB-177', 'atcc_number: CRL-1435', 'atcc_number: HTB-72', 'atcc_number: HTB-77', 'atcc_number: CCL-228', 'atcc_number: HTB-133', 'atcc_number: HTB-96']}\n"
     ]
    }
   ],
   "source": [
    "from utils.preprocess import *\n",
    "# 1. Identify the paths to the soft file and the matrix file\n",
    "cohort_dir = '/media/techt/DATA/GEO/Canavan_Disease/GSE41445'\n",
    "soft_file, matrix_file = geo_get_relevant_filepaths(cohort_dir)\n",
    "\n",
    "# 2. Read the matrix file to obtain background information and sample characteristics data\n",
    "background_prefixes = ['!Series_title', '!Series_summary', '!Series_overall_design']\n",
    "clinical_prefixes = ['!Sample_geo_accession', '!Sample_characteristics_ch1']\n",
    "background_info, clinical_data = get_background_and_clinical_data(matrix_file, background_prefixes, clinical_prefixes)\n",
    "\n",
    "# 3. Obtain the sample characteristics dictionary from the clinical dataframe\n",
    "sample_characteristics_dict = get_unique_values_by_row(clinical_data)\n",
    "\n",
    "# 4. Explicitly print out all the background information and the sample characteristics dictionary\n",
    "print(\"Background Information:\")\n",
    "print(background_info)\n",
    "print(\"Sample Characteristics Dictionary:\")\n",
    "print(sample_characteristics_dict)\n"
   ]
  },
  {
   "cell_type": "markdown",
   "id": "1463db5e",
   "metadata": {},
   "source": [
    "### Step 2: Dataset Analysis and Clinical Feature Extraction"
   ]
  },
  {
   "cell_type": "code",
   "execution_count": 3,
   "id": "02dbf0ec",
   "metadata": {
    "execution": {
     "iopub.execute_input": "2024-06-12T07:43:59.764861Z",
     "iopub.status.busy": "2024-06-12T07:43:59.764747Z",
     "iopub.status.idle": "2024-06-12T07:43:59.779028Z",
     "shell.execute_reply": "2024-06-12T07:43:59.778763Z"
    }
   },
   "outputs": [
    {
     "name": "stdout",
     "output_type": "stream",
     "text": [
      "{'GSM1017454': [0, 1], 'GSM1017455': [0, 1], 'GSM1017456': [0, 1], 'GSM1017457': [0, 1], 'GSM1017458': [0, 1], 'GSM1017459': [0, 1], 'GSM1017460': [0, 1], 'GSM1017461': [0, 1], 'GSM1017462': [0, 1], 'GSM1017463': [0, 1], 'GSM1017464': [0, 1], 'GSM1017465': [0, 1], 'GSM1017466': [0, 0], 'GSM1017467': [0, 0], 'GSM1017468': [0, 0], 'GSM1017469': [0, 1], 'GSM1017470': [0, 1], 'GSM1017471': [0, 1], 'GSM1017472': [0, 0], 'GSM1017473': [0, 0], 'GSM1017474': [0, 0], 'GSM1017475': [1, 1], 'GSM1017476': [1, 1], 'GSM1017477': [1, 1], 'GSM1017478': [0, 0], 'GSM1017479': [0, 0], 'GSM1017480': [0, 0], 'GSM1017481': [0, 0], 'GSM1017482': [0, 0], 'GSM1017483': [0, 0], 'GSM1017484': [0, 0], 'GSM1017485': [0, 0], 'GSM1017486': [0, 0], 'GSM1017487': [0, 0], 'GSM1017488': [0, 0], 'GSM1017489': [0, 0], 'GSM1017490': [0, 0], 'GSM1017491': [0, 0], 'GSM1017492': [0, 0], 'GSM1017493': [0, 0], 'GSM1017494': [0, 0], 'GSM1017495': [0, 0], 'GSM1017496': [0, 1], 'GSM1017497': [0, 1], 'GSM1017498': [0, 1], 'GSM1017499': [0, 1], 'GSM1017500': [0, 1], 'GSM1017501': [0, 1], 'GSM1017502': [0, 1], 'GSM1017503': [0, 1], 'GSM1017504': [0, 1], 'GSM1017505': [0, 0], 'GSM1017506': [0, 0], 'GSM1017507': [0, 0], 'GSM1017508': [0, 0], 'GSM1017509': [0, 0], 'GSM1017510': [0, 0], 'GSM1017511': [0, 0], 'GSM1017512': [0, 0], 'GSM1017513': [0, 0], 'GSM1017514': [0, 0], 'GSM1017515': [0, 0], 'GSM1017516': [0, 0]}\n"
     ]
    }
   ],
   "source": [
    "is_gene_available = False\n",
    "trait_row = age_row = gender_row = None  # set to different values when applicable\n",
    "convert_trait = convert_age = convert_gender = None  # define the functions when applicable\n",
    "\n",
    "# Determine if gene expression data is available\n",
    "is_gene_available = True  # since Affymetrix HG-U133_plus2 GeneChip microarrays represent gene expression data\n",
    "\n",
    "# Variable Availability and Data Type Conversion\n",
    "# Identifying the keys for the required variables based on sample characteristics\n",
    "\n",
    "# Canavan_Disease (looking for evidence in sample characteristics)\n",
    "for key, values in {2: ['disease: non-tumorigenic; aspartoacylase deficiency; possible Canavan disease']}.items():\n",
    "    if any('Canavan disease' in value for value in values):\n",
    "        trait_row = key\n",
    "        break\n",
    "\n",
    "# Age (not available based on given data)\n",
    "age_row = None  \n",
    "\n",
    "# Gender data availability\n",
    "for key, values in {0: ['gender: male', 'gender: female']}.items():\n",
    "    if any('gender' in value for value in values):\n",
    "        gender_row = key\n",
    "        break\n",
    "\n",
    "# Data Type Conversion Functions\n",
    "# Canavan_Disease\n",
    "def convert_trait(value):\n",
    "    value = value.split(':')[1].strip().lower()\n",
    "    trait_dict = {'non-tumorigenic; aspartoacylase deficiency; possible canavan disease': 1}\n",
    "    return trait_dict.get(value, 0)\n",
    "\n",
    "# Age (since age data is not available, conversion function is not needed)\n",
    "convert_age = None\n",
    "\n",
    "# Gender\n",
    "def convert_gender(value):\n",
    "    value = value.split(':')[1].strip().lower()\n",
    "    if value == 'male':\n",
    "        return 1\n",
    "    elif value == 'female':\n",
    "        return 0\n",
    "    else:\n",
    "        return None\n",
    "\n",
    "save_cohort_info('GSE41445', './preprocessed/Canavan_Disease/cohort_info.json', is_gene_available, trait_row is not None)\n",
    "\n",
    "if trait_row is not None:\n",
    "    selected_clinical_data = geo_select_clinical_features(clinical_data, 'Canavan_Disease', trait_row, convert_trait, age_row, convert_age, gender_row, convert_gender)\n",
    "    csv_path = './preprocessed/Canavan_Disease/trait_data/GSE41445.csv'\n",
    "    selected_clinical_data.to_csv(csv_path)\n",
    "    print(preview_df(selected_clinical_data))\n"
   ]
  },
  {
   "cell_type": "markdown",
   "id": "99c44a1c",
   "metadata": {},
   "source": [
    "### Step 3: Gene Data Extraction"
   ]
  },
  {
   "cell_type": "code",
   "execution_count": 4,
   "id": "475d2e47",
   "metadata": {
    "execution": {
     "iopub.execute_input": "2024-06-12T07:43:59.780655Z",
     "iopub.status.busy": "2024-06-12T07:43:59.780551Z",
     "iopub.status.idle": "2024-06-12T07:44:00.101473Z",
     "shell.execute_reply": "2024-06-12T07:44:00.101111Z"
    }
   },
   "outputs": [
    {
     "name": "stdout",
     "output_type": "stream",
     "text": [
      "Index(['1007_s_at', '1053_at', '117_at', '121_at', '1255_g_at', '1294_at',\n",
      "       '1316_at', '1320_at', '1405_i_at', '1431_at', '1438_at', '1487_at',\n",
      "       '1494_f_at', '1552256_a_at', '1552257_a_at', '1552258_at', '1552261_at',\n",
      "       '1552263_at', '1552264_a_at', '1552266_at'],\n",
      "      dtype='object', name='ID')\n"
     ]
    }
   ],
   "source": [
    "# 1. Use the get_genetic_data function from the library to get the gene_data from the matrix_file previously defined.\n",
    "gene_data = get_genetic_data(matrix_file)\n",
    "\n",
    "# 2. Print the first 20 row ids for the following step.\n",
    "print(gene_data.index[:20])\n"
   ]
  },
  {
   "cell_type": "markdown",
   "id": "e0989345",
   "metadata": {},
   "source": [
    "### Step 4: Gene Identifier Review"
   ]
  },
  {
   "cell_type": "code",
   "execution_count": 5,
   "id": "98ffab10",
   "metadata": {
    "execution": {
     "iopub.execute_input": "2024-06-12T07:44:00.103703Z",
     "iopub.status.busy": "2024-06-12T07:44:00.103567Z",
     "iopub.status.idle": "2024-06-12T07:44:00.105558Z",
     "shell.execute_reply": "2024-06-12T07:44:00.105284Z"
    }
   },
   "outputs": [],
   "source": [
    "requires_gene_mapping = True\n"
   ]
  },
  {
   "cell_type": "markdown",
   "id": "8dc86b74",
   "metadata": {},
   "source": [
    "### Step 5: Gene Annotation (Conditional)"
   ]
  },
  {
   "cell_type": "code",
   "execution_count": 6,
   "id": "1c09061a",
   "metadata": {
    "execution": {
     "iopub.execute_input": "2024-06-12T07:44:00.107254Z",
     "iopub.status.busy": "2024-06-12T07:44:00.107128Z",
     "iopub.status.idle": "2024-06-12T07:44:05.885863Z",
     "shell.execute_reply": "2024-06-12T07:44:05.885514Z"
    }
   },
   "outputs": [
    {
     "name": "stdout",
     "output_type": "stream",
     "text": [
      "Gene annotation preview:\n",
      "{'ID': ['1007_s_at', '1053_at', '117_at', '121_at', '1255_g_at'], 'GB_ACC': ['U48705', 'M87338', 'X51757', 'X69699', 'L36861'], 'SPOT_ID': [nan, nan, nan, nan, nan], 'Species Scientific Name': ['Homo sapiens', 'Homo sapiens', 'Homo sapiens', 'Homo sapiens', 'Homo sapiens'], 'Annotation Date': ['Oct 6, 2014', 'Oct 6, 2014', 'Oct 6, 2014', 'Oct 6, 2014', 'Oct 6, 2014'], 'Sequence Type': ['Exemplar sequence', 'Exemplar sequence', 'Exemplar sequence', 'Exemplar sequence', 'Exemplar sequence'], 'Sequence Source': ['Affymetrix Proprietary Database', 'GenBank', 'Affymetrix Proprietary Database', 'GenBank', 'Affymetrix Proprietary Database'], 'Target Description': ['U48705 /FEATURE=mRNA /DEFINITION=HSU48705 Human receptor tyrosine kinase DDR gene, complete cds', 'M87338 /FEATURE= /DEFINITION=HUMA1SBU Human replication factor C, 40-kDa subunit (A1) mRNA, complete cds', \"X51757 /FEATURE=cds /DEFINITION=HSP70B Human heat-shock protein HSP70B' gene\", 'X69699 /FEATURE= /DEFINITION=HSPAX8A H.sapiens Pax8 mRNA', 'L36861 /FEATURE=expanded_cds /DEFINITION=HUMGCAPB Homo sapiens guanylate cyclase activating protein (GCAP) gene exons 1-4, complete cds'], 'Representative Public ID': ['U48705', 'M87338', 'X51757', 'X69699', 'L36861'], 'Gene Title': ['discoidin domain receptor tyrosine kinase 1 /// microRNA 4640', 'replication factor C (activator 1) 2, 40kDa', \"heat shock 70kDa protein 6 (HSP70B')\", 'paired box 8', 'guanylate cyclase activator 1A (retina)'], 'Gene Symbol': ['DDR1 /// MIR4640', 'RFC2', 'HSPA6', 'PAX8', 'GUCA1A'], 'ENTREZ_GENE_ID': ['780 /// 100616237', '5982', '3310', '7849', '2978'], 'RefSeq Transcript ID': ['NM_001202521 /// NM_001202522 /// NM_001202523 /// NM_001954 /// NM_013993 /// NM_013994 /// NR_039783 /// XM_005249385 /// XM_005249386 /// XM_005249387 /// XM_005249389 /// XM_005272873 /// XM_005272874 /// XM_005272875 /// XM_005272877 /// XM_005275027 /// XM_005275028 /// XM_005275030 /// XM_005275031 /// XM_005275162 /// XM_005275163 /// XM_005275164 /// XM_005275166 /// XM_005275457 /// XM_005275458 /// XM_005275459 /// XM_005275461 /// XM_006715185 /// XM_006715186 /// XM_006715187 /// XM_006715188 /// XM_006715189 /// XM_006715190 /// XM_006725501 /// XM_006725502 /// XM_006725503 /// XM_006725504 /// XM_006725505 /// XM_006725506 /// XM_006725714 /// XM_006725715 /// XM_006725716 /// XM_006725717 /// XM_006725718 /// XM_006725719 /// XM_006725720 /// XM_006725721 /// XM_006725722 /// XM_006725827 /// XM_006725828 /// XM_006725829 /// XM_006725830 /// XM_006725831 /// XM_006725832 /// XM_006726017 /// XM_006726018 /// XM_006726019 /// XM_006726020 /// XM_006726021 /// XM_006726022 /// XR_427836 /// XR_430858 /// XR_430938 /// XR_430974 /// XR_431015', 'NM_001278791 /// NM_001278792 /// NM_001278793 /// NM_002914 /// NM_181471 /// XM_006716080', 'NM_002155', 'NM_003466 /// NM_013951 /// NM_013952 /// NM_013953 /// NM_013992', 'NM_000409 /// XM_006715073'], 'Gene Ontology Biological Process': ['0001558 // regulation of cell growth // inferred from electronic annotation /// 0001952 // regulation of cell-matrix adhesion // inferred from electronic annotation /// 0006468 // protein phosphorylation // inferred from electronic annotation /// 0007155 // cell adhesion // traceable author statement /// 0007169 // transmembrane receptor protein tyrosine kinase signaling pathway // inferred from electronic annotation /// 0007565 // female pregnancy // inferred from electronic annotation /// 0007566 // embryo implantation // inferred from electronic annotation /// 0007595 // lactation // inferred from electronic annotation /// 0008285 // negative regulation of cell proliferation // inferred from electronic annotation /// 0010715 // regulation of extracellular matrix disassembly // inferred from mutant phenotype /// 0014909 // smooth muscle cell migration // inferred from mutant phenotype /// 0016310 // phosphorylation // inferred from electronic annotation /// 0018108 // peptidyl-tyrosine phosphorylation // inferred from electronic annotation /// 0030198 // extracellular matrix organization // traceable author statement /// 0038063 // collagen-activated tyrosine kinase receptor signaling pathway // inferred from direct assay /// 0038063 // collagen-activated tyrosine kinase receptor signaling pathway // inferred from mutant phenotype /// 0038083 // peptidyl-tyrosine autophosphorylation // inferred from direct assay /// 0043583 // ear development // inferred from electronic annotation /// 0044319 // wound healing, spreading of cells // inferred from mutant phenotype /// 0046777 // protein autophosphorylation // inferred from direct assay /// 0060444 // branching involved in mammary gland duct morphogenesis // inferred from electronic annotation /// 0060749 // mammary gland alveolus development // inferred from electronic annotation /// 0061302 // smooth muscle cell-matrix adhesion // inferred from mutant phenotype', '0000278 // mitotic cell cycle // traceable author statement /// 0000722 // telomere maintenance via recombination // traceable author statement /// 0000723 // telomere maintenance // traceable author statement /// 0006260 // DNA replication // traceable author statement /// 0006271 // DNA strand elongation involved in DNA replication // traceable author statement /// 0006281 // DNA repair // traceable author statement /// 0006283 // transcription-coupled nucleotide-excision repair // traceable author statement /// 0006289 // nucleotide-excision repair // traceable author statement /// 0006297 // nucleotide-excision repair, DNA gap filling // traceable author statement /// 0015979 // photosynthesis // inferred from electronic annotation /// 0015995 // chlorophyll biosynthetic process // inferred from electronic annotation /// 0032201 // telomere maintenance via semi-conservative replication // traceable author statement', '0000902 // cell morphogenesis // inferred from electronic annotation /// 0006200 // ATP catabolic process // inferred from direct assay /// 0006950 // response to stress // inferred from electronic annotation /// 0006986 // response to unfolded protein // traceable author statement /// 0034605 // cellular response to heat // inferred from direct assay /// 0042026 // protein refolding // inferred from direct assay /// 0070370 // cellular heat acclimation // inferred from mutant phenotype', '0001655 // urogenital system development // inferred from sequence or structural similarity /// 0001656 // metanephros development // inferred from electronic annotation /// 0001658 // branching involved in ureteric bud morphogenesis // inferred from expression pattern /// 0001822 // kidney development // inferred from expression pattern /// 0001823 // mesonephros development // inferred from sequence or structural similarity /// 0003337 // mesenchymal to epithelial transition involved in metanephros morphogenesis // inferred from expression pattern /// 0006351 // transcription, DNA-templated // inferred from direct assay /// 0006355 // regulation of transcription, DNA-templated // inferred from electronic annotation /// 0007275 // multicellular organismal development // inferred from electronic annotation /// 0007417 // central nervous system development // inferred from expression pattern /// 0009653 // anatomical structure morphogenesis // traceable author statement /// 0030154 // cell differentiation // inferred from electronic annotation /// 0030878 // thyroid gland development // inferred from expression pattern /// 0030878 // thyroid gland development // inferred from mutant phenotype /// 0038194 // thyroid-stimulating hormone signaling pathway // traceable author statement /// 0039003 // pronephric field specification // inferred from sequence or structural similarity /// 0042472 // inner ear morphogenesis // inferred from sequence or structural similarity /// 0042981 // regulation of apoptotic process // inferred from sequence or structural similarity /// 0045893 // positive regulation of transcription, DNA-templated // inferred from direct assay /// 0045893 // positive regulation of transcription, DNA-templated // inferred from sequence or structural similarity /// 0045944 // positive regulation of transcription from RNA polymerase II promoter // inferred from direct assay /// 0048793 // pronephros development // inferred from sequence or structural similarity /// 0071371 // cellular response to gonadotropin stimulus // inferred from direct assay /// 0071599 // otic vesicle development // inferred from expression pattern /// 0072050 // S-shaped body morphogenesis // inferred from electronic annotation /// 0072073 // kidney epithelium development // inferred from electronic annotation /// 0072108 // positive regulation of mesenchymal to epithelial transition involved in metanephros morphogenesis // inferred from sequence or structural similarity /// 0072164 // mesonephric tubule development // inferred from electronic annotation /// 0072207 // metanephric epithelium development // inferred from expression pattern /// 0072221 // metanephric distal convoluted tubule development // inferred from sequence or structural similarity /// 0072278 // metanephric comma-shaped body morphogenesis // inferred from expression pattern /// 0072284 // metanephric S-shaped body morphogenesis // inferred from expression pattern /// 0072289 // metanephric nephron tubule formation // inferred from sequence or structural similarity /// 0072305 // negative regulation of mesenchymal cell apoptotic process involved in metanephric nephron morphogenesis // inferred from sequence or structural similarity /// 0072307 // regulation of metanephric nephron tubule epithelial cell differentiation // inferred from sequence or structural similarity /// 0090190 // positive regulation of branching involved in ureteric bud morphogenesis // inferred from sequence or structural similarity /// 1900212 // negative regulation of mesenchymal cell apoptotic process involved in metanephros development // inferred from sequence or structural similarity /// 1900215 // negative regulation of apoptotic process involved in metanephric collecting duct development // inferred from sequence or structural similarity /// 1900218 // negative regulation of apoptotic process involved in metanephric nephron tubule development // inferred from sequence or structural similarity /// 2000594 // positive regulation of metanephric DCT cell differentiation // inferred from sequence or structural similarity /// 2000611 // positive regulation of thyroid hormone generation // inferred from mutant phenotype /// 2000612 // regulation of thyroid-stimulating hormone secretion // inferred from mutant phenotype', '0007165 // signal transduction // non-traceable author statement /// 0007601 // visual perception // inferred from electronic annotation /// 0007602 // phototransduction // inferred from electronic annotation /// 0007603 // phototransduction, visible light // traceable author statement /// 0016056 // rhodopsin mediated signaling pathway // traceable author statement /// 0022400 // regulation of rhodopsin mediated signaling pathway // traceable author statement /// 0030828 // positive regulation of cGMP biosynthetic process // inferred from electronic annotation /// 0031282 // regulation of guanylate cyclase activity // inferred from electronic annotation /// 0031284 // positive regulation of guanylate cyclase activity // inferred from electronic annotation /// 0050896 // response to stimulus // inferred from electronic annotation'], 'Gene Ontology Cellular Component': ['0005576 // extracellular region // inferred from electronic annotation /// 0005615 // extracellular space // inferred from direct assay /// 0005886 // plasma membrane // traceable author statement /// 0005887 // integral component of plasma membrane // traceable author statement /// 0016020 // membrane // inferred from electronic annotation /// 0016021 // integral component of membrane // inferred from electronic annotation /// 0043235 // receptor complex // inferred from direct assay /// 0070062 // extracellular vesicular exosome // inferred from direct assay', '0005634 // nucleus // inferred from electronic annotation /// 0005654 // nucleoplasm // traceable author statement /// 0005663 // DNA replication factor C complex // inferred from direct assay', '0005737 // cytoplasm // inferred from direct assay /// 0005814 // centriole // inferred from direct assay /// 0005829 // cytosol // inferred from direct assay /// 0008180 // COP9 signalosome // inferred from direct assay /// 0070062 // extracellular vesicular exosome // inferred from direct assay /// 0072562 // blood microparticle // inferred from direct assay', '0005634 // nucleus // inferred from direct assay /// 0005654 // nucleoplasm // inferred from sequence or structural similarity /// 0005730 // nucleolus // inferred from direct assay', '0001750 // photoreceptor outer segment // inferred from electronic annotation /// 0001917 // photoreceptor inner segment // inferred from electronic annotation /// 0005578 // proteinaceous extracellular matrix // inferred from electronic annotation /// 0005886 // plasma membrane // inferred from direct assay /// 0016020 // membrane // inferred from electronic annotation /// 0097381 // photoreceptor disc membrane // traceable author statement'], 'Gene Ontology Molecular Function': ['0000166 // nucleotide binding // inferred from electronic annotation /// 0004672 // protein kinase activity // inferred from electronic annotation /// 0004713 // protein tyrosine kinase activity // inferred from electronic annotation /// 0004714 // transmembrane receptor protein tyrosine kinase activity // traceable author statement /// 0005515 // protein binding // inferred from physical interaction /// 0005518 // collagen binding // inferred from direct assay /// 0005518 // collagen binding // inferred from mutant phenotype /// 0005524 // ATP binding // inferred from electronic annotation /// 0016301 // kinase activity // inferred from electronic annotation /// 0016740 // transferase activity // inferred from electronic annotation /// 0016772 // transferase activity, transferring phosphorus-containing groups // inferred from electronic annotation /// 0038062 // protein tyrosine kinase collagen receptor activity // inferred from direct assay /// 0046872 // metal ion binding // inferred from electronic annotation', '0000166 // nucleotide binding // inferred from electronic annotation /// 0003677 // DNA binding // inferred from electronic annotation /// 0005515 // protein binding // inferred from physical interaction /// 0005524 // ATP binding // inferred from electronic annotation /// 0016851 // magnesium chelatase activity // inferred from electronic annotation /// 0017111 // nucleoside-triphosphatase activity // inferred from electronic annotation', '0000166 // nucleotide binding // inferred from electronic annotation /// 0005524 // ATP binding // inferred from electronic annotation /// 0019899 // enzyme binding // inferred from physical interaction /// 0031072 // heat shock protein binding // inferred from physical interaction /// 0042623 // ATPase activity, coupled // inferred from direct assay /// 0051082 // unfolded protein binding // inferred from direct assay', '0000979 // RNA polymerase II core promoter sequence-specific DNA binding // inferred from direct assay /// 0003677 // DNA binding // inferred from direct assay /// 0003677 // DNA binding // inferred from mutant phenotype /// 0003700 // sequence-specific DNA binding transcription factor activity // inferred from direct assay /// 0004996 // thyroid-stimulating hormone receptor activity // traceable author statement /// 0005515 // protein binding // inferred from physical interaction /// 0044212 // transcription regulatory region DNA binding // inferred from direct assay', '0005509 // calcium ion binding // inferred from electronic annotation /// 0008048 // calcium sensitive guanylate cyclase activator activity // inferred from electronic annotation /// 0030249 // guanylate cyclase regulator activity // inferred from electronic annotation /// 0046872 // metal ion binding // inferred from electronic annotation']}\n"
     ]
    }
   ],
   "source": [
    "# 1. Use the 'get_gene_annotation' function from the library to get gene annotation data from the soft file.\n",
    "gene_annotation = get_gene_annotation(soft_file)\n",
    "\n",
    "# 2. Use the 'preview_df' function from the library to preview the data and print out the results.\n",
    "print(\"Gene annotation preview:\")\n",
    "print(preview_df(gene_annotation))\n"
   ]
  },
  {
   "cell_type": "markdown",
   "id": "16d39348",
   "metadata": {},
   "source": [
    "### Step 6: Gene Identifier Mapping"
   ]
  },
  {
   "cell_type": "code",
   "execution_count": 7,
   "id": "4486a484",
   "metadata": {
    "execution": {
     "iopub.execute_input": "2024-06-12T07:44:05.887704Z",
     "iopub.status.busy": "2024-06-12T07:44:05.887594Z",
     "iopub.status.idle": "2024-06-12T07:44:06.170493Z",
     "shell.execute_reply": "2024-06-12T07:44:06.170083Z"
    }
   },
   "outputs": [],
   "source": [
    "# 1. Determine the key names for identifiers and gene symbols from the annotation data.\n",
    "identifier_key = 'ID'\n",
    "gene_symbol_key = 'Gene Symbol'\n",
    "\n",
    "# 2. Get the dataframe storing the mapping between probe IDs and genes.\n",
    "gene_mapping = get_gene_mapping(gene_annotation, identifier_key, gene_symbol_key)\n",
    "\n",
    "# 3. Apply the mapping with the 'apply_gene_mapping' function and name the resulting gene expression dataframe \"gene_data\".\n",
    "gene_data = apply_gene_mapping(gene_data, gene_mapping)\n"
   ]
  },
  {
   "cell_type": "markdown",
   "id": "a6670e22",
   "metadata": {},
   "source": [
    "### Step 7: Data Normalization and Merging"
   ]
  },
  {
   "cell_type": "code",
   "execution_count": 8,
   "id": "ead164e2",
   "metadata": {
    "execution": {
     "iopub.execute_input": "2024-06-12T07:44:06.172385Z",
     "iopub.status.busy": "2024-06-12T07:44:06.172274Z",
     "iopub.status.idle": "2024-06-12T07:45:07.800348Z",
     "shell.execute_reply": "2024-06-12T07:45:07.799953Z"
    }
   },
   "outputs": [
    {
     "name": "stdout",
     "output_type": "stream",
     "text": [
      "For the feature 'Canavan_Disease', the least common label is '1.0' with 3 occurrences. This represents 4.76% of the dataset.\n",
      "The distribution of the feature 'Canavan_Disease' in this dataset is severely biased.\n",
      "\n",
      "For the feature 'Gender', the least common label is '1.0' with 27 occurrences. This represents 42.86% of the dataset.\n",
      "The distribution of the feature 'Gender' in this dataset is fine.\n",
      "\n",
      "A new JSON file was created at: ./preprocessed/Canavan_Disease/cohort_info.json\n"
     ]
    }
   ],
   "source": [
    "# 1. Normalize the obtained gene data with the 'normalize_gene_symbols_in_index' function from the library.\n",
    "normalized_gene_data = normalize_gene_symbols_in_index(gene_data)\n",
    "gene_csv_path = './preprocessed/Canavan_Disease/gene_data/GSE41445.csv'\n",
    "normalized_gene_data.to_csv(gene_csv_path)\n",
    "\n",
    "# 2. Merge the clinical and genetic data with the 'geo_merge_clinical_genetic_data' function from the library.\n",
    "merged_data = geo_merge_clinical_genetic_data(selected_clinical_data, normalized_gene_data)\n",
    "\n",
    "# 3. Determine whether the trait and some demographic attributes in the data is severely biased, and remove biased attributes.\n",
    "trait_biased, unbiased_merged_data = judge_and_remove_biased_features(merged_data, 'Canavan_Disease')\n",
    "\n",
    "# Define trait_biased\n",
    "trait_biased = trait_biased\n",
    "\n",
    "# 4. Save the cohort information.\n",
    "save_cohort_info('GSE41445', './preprocessed/Canavan_Disease/cohort_info.json', True, True, trait_biased, merged_data)\n",
    "\n",
    "if not trait_biased:\n",
    "    # 5. If the trait is not severely biased, save the merged data to a csv file.\n",
    "    csv_path = './preprocessed/Canavan_Disease/GSE41445.csv'\n",
    "    unbiased_merged_data.to_csv(csv_path)\n"
   ]
  }
 ],
 "metadata": {
  "language_info": {
   "codemirror_mode": {
    "name": "ipython",
    "version": 3
   },
   "file_extension": ".py",
   "mimetype": "text/x-python",
   "name": "python",
   "nbconvert_exporter": "python",
   "pygments_lexer": "ipython3",
   "version": "3.8.17"
  }
 },
 "nbformat": 4,
 "nbformat_minor": 5
}
