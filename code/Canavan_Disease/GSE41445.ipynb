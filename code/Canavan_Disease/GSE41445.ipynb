{
 "cells": [
  {
   "cell_type": "code",
   "execution_count": 1,
   "id": "40d9f2c3",
   "metadata": {
    "execution": {
     "iopub.execute_input": "2025-03-25T07:05:10.051924Z",
     "iopub.status.busy": "2025-03-25T07:05:10.051825Z",
     "iopub.status.idle": "2025-03-25T07:05:10.208358Z",
     "shell.execute_reply": "2025-03-25T07:05:10.208022Z"
    }
   },
   "outputs": [],
   "source": [
    "import sys\n",
    "import os\n",
    "sys.path.append(os.path.abspath(os.path.join(os.getcwd(), '../..')))\n",
    "\n",
    "# Path Configuration\n",
    "from tools.preprocess import *\n",
    "\n",
    "# Processing context\n",
    "trait = \"Canavan_Disease\"\n",
    "cohort = \"GSE41445\"\n",
    "\n",
    "# Input paths\n",
    "in_trait_dir = \"../../input/GEO/Canavan_Disease\"\n",
    "in_cohort_dir = \"../../input/GEO/Canavan_Disease/GSE41445\"\n",
    "\n",
    "# Output paths\n",
    "out_data_file = \"../../output/preprocess/Canavan_Disease/GSE41445.csv\"\n",
    "out_gene_data_file = \"../../output/preprocess/Canavan_Disease/gene_data/GSE41445.csv\"\n",
    "out_clinical_data_file = \"../../output/preprocess/Canavan_Disease/clinical_data/GSE41445.csv\"\n",
    "json_path = \"../../output/preprocess/Canavan_Disease/cohort_info.json\"\n"
   ]
  },
  {
   "cell_type": "markdown",
   "id": "f96d40d8",
   "metadata": {},
   "source": [
    "### Step 1: Initial Data Loading"
   ]
  },
  {
   "cell_type": "code",
   "execution_count": 2,
   "id": "2c1f36a1",
   "metadata": {
    "execution": {
     "iopub.execute_input": "2025-03-25T07:05:10.209547Z",
     "iopub.status.busy": "2025-03-25T07:05:10.209414Z",
     "iopub.status.idle": "2025-03-25T07:05:10.372409Z",
     "shell.execute_reply": "2025-03-25T07:05:10.372118Z"
    }
   },
   "outputs": [
    {
     "name": "stdout",
     "output_type": "stream",
     "text": [
      "Background Information:\n",
      "!Series_title\t\"Basal gene expression data of 21 cell lines (18 cancer and 3 non-tumorigenic)\"\n",
      "!Series_summary\t\"We profiled basal gene expressed levels of 21 cell lines (18 cancer and 3 non-tumorigenic) using Affymetrix HG-U133_plus2 GeneChip microarrays.\"\n",
      "!Series_summary\t\"Goal of the experiment was to benchmark a number of algorithms for biomarker detection all of which utilize gene expression data.\"\n",
      "!Series_overall_design\t\"Cell lines were cultivated in appropriate media according to supplier recommendations. Goal was to acquire a basal gene expression profile of 21 common cell lines.\"\n",
      "Sample Characteristics Dictionary:\n",
      "{0: ['gender: male', 'gender: female'], 1: ['organ: Kidney', 'organ: Lung', 'organ: Colon', 'organ: Prostate', 'organ: Skin', 'organ: Cervix', 'organ: Breast', 'organ: Pancreas', 'organ: Ovary', 'organ: Bone'], 2: ['disease: renal cell adenocarcinoma', 'disease: non-small cell carcinoma', 'disease: colorectal adenocarcinoma', 'disease: moderately differentiated adenocarcinoma', 'disease: non-tumorigenic; spontaneously immortilized keratinocytes', 'disease: colorectal carcinoma', 'disease: adenocarcinoma', 'disease: non-tumorigenic; aspartoacylase deficiency; possible Canavan disease', 'disease: invasive ductal carcinoma; inflammatory skin metastasis', 'disease: non-tumorigenic; Fibrocystic Breast disease', 'disease: intraductal adenocarcinoma', 'disease: carcinoma', 'disease: large cell carcinoma', 'disease: Gleason Grade 4; adenocarcinoma', 'disease: malignant melanoma', \"disease: Dukes' type B; colorectal adenocarcinoma\", 'disease: ductal carcinoma', 'disease: osteosarcoma'], 3: ['morphology: epithelial', 'morphology: fibroblast', 'morphology: attached epithelial with floating rounded cells', 'morphology: polygonal'], 4: ['is_metastasis: no', 'is_metastasis: yes'], 5: ['metastatic_site: n/a', 'metastatic_site: brain', 'metastatic_site: pleural fluid', 'metastatic_site: bone', 'metastatic_site: ascites'], 6: ['in_vivo_growth: yes', 'in_vivo_growth: not tested'], 7: ['cell line: 786-O', 'cell line: A549', 'cell line: Caco-2', 'cell line: DU 145', 'cell line: HaCaT', 'cell line: HCT 116', 'cell line: HeLa', 'cell line: Hs68', 'cell line: HT-29', 'cell line: KPL-4', 'cell line: MCF 10A', 'cell line: MCF7', 'cell line: MDA-MB-231', 'cell line: Mia PaCa-2', 'cell line: NCI-H460', 'cell line: PC-3', 'cell line: SK-MEL-28', 'cell line: SK-OV-3', 'cell line: SW480', 'cell line: T47D', 'cell line: U-2 OS'], 8: ['atcc_number: CRL-1932', 'atcc_number: CCL-185', 'atcc_number: HTB-37', 'atcc_number: HTB-81', 'atcc_number: n/a (PMID: 2450098)', 'atcc_number: CCL-247', 'atcc_number: CCL-2', 'atcc_number: CRL-1635', 'atcc_number: HTB-38', 'atcc_number: n/a (PMID: 10070858)', 'atcc_number: CRL-10317', 'atcc_number: HTB-22', 'atcc_number: HTB-26', 'atcc_number: CRL-1420', 'atcc_number: HTB-177', 'atcc_number: CRL-1435', 'atcc_number: HTB-72', 'atcc_number: HTB-77', 'atcc_number: CCL-228', 'atcc_number: HTB-133', 'atcc_number: HTB-96']}\n"
     ]
    }
   ],
   "source": [
    "from tools.preprocess import *\n",
    "# 1. Identify the paths to the SOFT file and the matrix file\n",
    "soft_file, matrix_file = geo_get_relevant_filepaths(in_cohort_dir)\n",
    "\n",
    "# 2. Read the matrix file to obtain background information and sample characteristics data\n",
    "background_prefixes = ['!Series_title', '!Series_summary', '!Series_overall_design']\n",
    "clinical_prefixes = ['!Sample_geo_accession', '!Sample_characteristics_ch1']\n",
    "background_info, clinical_data = get_background_and_clinical_data(matrix_file, background_prefixes, clinical_prefixes)\n",
    "\n",
    "# 3. Obtain the sample characteristics dictionary from the clinical dataframe\n",
    "sample_characteristics_dict = get_unique_values_by_row(clinical_data)\n",
    "\n",
    "# 4. Explicitly print out all the background information and the sample characteristics dictionary\n",
    "print(\"Background Information:\")\n",
    "print(background_info)\n",
    "print(\"Sample Characteristics Dictionary:\")\n",
    "print(sample_characteristics_dict)\n"
   ]
  },
  {
   "cell_type": "markdown",
   "id": "7f2e58f3",
   "metadata": {},
   "source": [
    "### Step 2: Dataset Analysis and Clinical Feature Extraction"
   ]
  },
  {
   "cell_type": "code",
   "execution_count": 3,
   "id": "daec03bd",
   "metadata": {
    "execution": {
     "iopub.execute_input": "2025-03-25T07:05:10.373861Z",
     "iopub.status.busy": "2025-03-25T07:05:10.373722Z",
     "iopub.status.idle": "2025-03-25T07:05:10.384197Z",
     "shell.execute_reply": "2025-03-25T07:05:10.383924Z"
    }
   },
   "outputs": [
    {
     "name": "stdout",
     "output_type": "stream",
     "text": [
      "Preview of selected clinical features:\n",
      "{0: [0.0, 1.0], 1: [0.0, 0.0], 2: [0.0, nan], 3: [0.0, nan], 4: [0.0, nan], 5: [0.0, nan], 6: [0.0, nan], 7: [1.0, nan], 8: [0.0, nan], 9: [0.0, nan], 10: [0.0, nan], 11: [0.0, nan], 12: [0.0, nan], 13: [0.0, nan], 14: [0.0, nan], 15: [0.0, nan], 16: [0.0, nan], 17: [0.0, nan], 18: [nan, nan], 19: [nan, nan], 20: [nan, nan]}\n",
      "Clinical data saved to: ../../output/preprocess/Canavan_Disease/clinical_data/GSE41445.csv\n"
     ]
    }
   ],
   "source": [
    "import pandas as pd\n",
    "import os\n",
    "import json\n",
    "from typing import Callable, Optional, Dict, Any\n",
    "\n",
    "# Analyze the data\n",
    "# 1. Gene Expression Data Availability\n",
    "# Given the background info: \"Affymetrix HG-U133_plus2 GeneChip microarrays\" indicates gene expression data\n",
    "is_gene_available = True\n",
    "\n",
    "# 2. Variable Availability and Data Type Conversion\n",
    "# 2.1 Data Availability\n",
    "# For trait (Canavan Disease), look for it in disease field\n",
    "trait_row = 2  # Disease information is in row 2\n",
    "# Age is not available in the sample characteristics\n",
    "age_row = None\n",
    "# Gender is available\n",
    "gender_row = 0\n",
    "\n",
    "# 2.2 Data Type Conversion Functions\n",
    "def convert_trait(value):\n",
    "    \"\"\"Convert trait information to binary: 1 for Canavan disease, 0 for other\"\"\"\n",
    "    if value is None or ':' not in value:\n",
    "        return None\n",
    "    \n",
    "    disease_part = value.split(':', 1)[1].strip().lower()\n",
    "    # Check for Canavan disease, including partial mentions or indications\n",
    "    if 'canavan disease' in disease_part or 'aspartoacylase deficiency' in disease_part:\n",
    "        return 1\n",
    "    else:\n",
    "        return 0\n",
    "\n",
    "def convert_age(value):\n",
    "    \"\"\"Convert age to continuous value - not used as age data is unavailable\"\"\"\n",
    "    if value is None or ':' not in value:\n",
    "        return None\n",
    "    \n",
    "    # If we had age data, we would extract and convert to float\n",
    "    age_part = value.split(':', 1)[1].strip()\n",
    "    try:\n",
    "        return float(age_part)\n",
    "    except:\n",
    "        return None\n",
    "\n",
    "def convert_gender(value):\n",
    "    \"\"\"Convert gender to binary: 0 for female, 1 for male\"\"\"\n",
    "    if value is None or ':' not in value:\n",
    "        return None\n",
    "    \n",
    "    gender_part = value.split(':', 1)[1].strip().lower()\n",
    "    if 'female' in gender_part:\n",
    "        return 0\n",
    "    elif 'male' in gender_part:\n",
    "        return 1\n",
    "    else:\n",
    "        return None\n",
    "\n",
    "# 3. Save Metadata - Initial Filtering\n",
    "# Check if trait data is available (trait_row is not None)\n",
    "is_trait_available = trait_row is not None\n",
    "validate_and_save_cohort_info(is_final=False, cohort=cohort, info_path=json_path, \n",
    "                              is_gene_available=is_gene_available, \n",
    "                              is_trait_available=is_trait_available)\n",
    "\n",
    "# 4. Clinical Feature Extraction\n",
    "# Properly create the clinical data DataFrame from the sample characteristics dictionary\n",
    "sample_chars_dict = {0: ['gender: male', 'gender: female'], \n",
    "                     1: ['organ: Kidney', 'organ: Lung', 'organ: Colon', 'organ: Prostate', 'organ: Skin', 'organ: Cervix', 'organ: Breast', 'organ: Pancreas', 'organ: Ovary', 'organ: Bone'], \n",
    "                     2: ['disease: renal cell adenocarcinoma', 'disease: non-small cell carcinoma', 'disease: colorectal adenocarcinoma', 'disease: moderately differentiated adenocarcinoma', 'disease: non-tumorigenic; spontaneously immortilized keratinocytes', 'disease: colorectal carcinoma', 'disease: adenocarcinoma', 'disease: non-tumorigenic; aspartoacylase deficiency; possible Canavan disease', 'disease: invasive ductal carcinoma; inflammatory skin metastasis', 'disease: non-tumorigenic; Fibrocystic Breast disease', 'disease: intraductal adenocarcinoma', 'disease: carcinoma', 'disease: large cell carcinoma', 'disease: Gleason Grade 4; adenocarcinoma', 'disease: malignant melanoma', \"disease: Dukes' type B; colorectal adenocarcinoma\", 'disease: ductal carcinoma', 'disease: osteosarcoma'], \n",
    "                     3: ['morphology: epithelial', 'morphology: fibroblast', 'morphology: attached epithelial with floating rounded cells', 'morphology: polygonal'], \n",
    "                     4: ['is_metastasis: no', 'is_metastasis: yes'], \n",
    "                     5: ['metastatic_site: n/a', 'metastatic_site: brain', 'metastatic_site: pleural fluid', 'metastatic_site: bone', 'metastatic_site: ascites'], \n",
    "                     6: ['in_vivo_growth: yes', 'in_vivo_growth: not tested'], \n",
    "                     7: ['cell line: 786-O', 'cell line: A549', 'cell line: Caco-2', 'cell line: DU 145', 'cell line: HaCaT', 'cell line: HCT 116', 'cell line: HeLa', 'cell line: Hs68', 'cell line: HT-29', 'cell line: KPL-4', 'cell line: MCF 10A', 'cell line: MCF7', 'cell line: MDA-MB-231', 'cell line: Mia PaCa-2', 'cell line: NCI-H460', 'cell line: PC-3', 'cell line: SK-MEL-28', 'cell line: SK-OV-3', 'cell line: SW480', 'cell line: T47D', 'cell line: U-2 OS'], \n",
    "                     8: ['atcc_number: CRL-1932', 'atcc_number: CCL-185', 'atcc_number: HTB-37', 'atcc_number: HTB-81', 'atcc_number: n/a (PMID: 2450098)', 'atcc_number: CCL-247', 'atcc_number: CCL-2', 'atcc_number: CRL-1635', 'atcc_number: HTB-38', 'atcc_number: n/a (PMID: 10070858)', 'atcc_number: CRL-10317', 'atcc_number: HTB-22', 'atcc_number: HTB-26', 'atcc_number: CRL-1420', 'atcc_number: HTB-177', 'atcc_number: CRL-1435', 'atcc_number: HTB-72', 'atcc_number: HTB-77', 'atcc_number: CCL-228', 'atcc_number: HTB-133', 'atcc_number: HTB-96']}\n",
    "\n",
    "clinical_data = pd.DataFrame.from_dict(sample_chars_dict, orient='index')\n",
    "\n",
    "# If trait_row is not None, extract clinical features\n",
    "if trait_row is not None:\n",
    "    # Extract clinical features using the library function\n",
    "    selected_clinical_df = geo_select_clinical_features(\n",
    "        clinical_df=clinical_data,\n",
    "        trait=trait,\n",
    "        trait_row=trait_row,\n",
    "        convert_trait=convert_trait,\n",
    "        age_row=age_row,\n",
    "        convert_age=convert_age,\n",
    "        gender_row=gender_row,\n",
    "        convert_gender=convert_gender\n",
    "    )\n",
    "    \n",
    "    # Preview the dataframe\n",
    "    preview = preview_df(selected_clinical_df)\n",
    "    print(\"Preview of selected clinical features:\")\n",
    "    print(preview)\n",
    "    \n",
    "    # Create directory if it doesn't exist\n",
    "    os.makedirs(os.path.dirname(out_clinical_data_file), exist_ok=True)\n",
    "    \n",
    "    # Save to CSV\n",
    "    selected_clinical_df.to_csv(out_clinical_data_file)\n",
    "    print(f\"Clinical data saved to: {out_clinical_data_file}\")\n"
   ]
  },
  {
   "cell_type": "markdown",
   "id": "532f6efb",
   "metadata": {},
   "source": [
    "### Step 3: Gene Data Extraction"
   ]
  },
  {
   "cell_type": "code",
   "execution_count": 4,
   "id": "fa96898f",
   "metadata": {
    "execution": {
     "iopub.execute_input": "2025-03-25T07:05:10.385491Z",
     "iopub.status.busy": "2025-03-25T07:05:10.385390Z",
     "iopub.status.idle": "2025-03-25T07:05:10.664213Z",
     "shell.execute_reply": "2025-03-25T07:05:10.663791Z"
    }
   },
   "outputs": [
    {
     "name": "stdout",
     "output_type": "stream",
     "text": [
      "Index(['1007_s_at', '1053_at', '117_at', '121_at', '1255_g_at', '1294_at',\n",
      "       '1316_at', '1320_at', '1405_i_at', '1431_at', '1438_at', '1487_at',\n",
      "       '1494_f_at', '1552256_a_at', '1552257_a_at', '1552258_at', '1552261_at',\n",
      "       '1552263_at', '1552264_a_at', '1552266_at'],\n",
      "      dtype='object', name='ID')\n"
     ]
    }
   ],
   "source": [
    "# 1. Use the get_genetic_data function from the library to get the gene_data from the matrix_file previously defined.\n",
    "gene_data = get_genetic_data(matrix_file)\n",
    "\n",
    "# 2. Print the first 20 row IDs (gene or probe identifiers) for future observation.\n",
    "print(gene_data.index[:20])\n"
   ]
  },
  {
   "cell_type": "markdown",
   "id": "47250c13",
   "metadata": {},
   "source": [
    "### Step 4: Gene Identifier Review"
   ]
  },
  {
   "cell_type": "code",
   "execution_count": 5,
   "id": "96252da1",
   "metadata": {
    "execution": {
     "iopub.execute_input": "2025-03-25T07:05:10.665633Z",
     "iopub.status.busy": "2025-03-25T07:05:10.665524Z",
     "iopub.status.idle": "2025-03-25T07:05:10.667352Z",
     "shell.execute_reply": "2025-03-25T07:05:10.667086Z"
    }
   },
   "outputs": [],
   "source": [
    "# Looking at the gene identifiers provided in the output above, I can see they follow the Affymetrix probe ID format\n",
    "# (e.g., \"1007_s_at\", \"1053_at\") rather than standard human gene symbols.\n",
    "# These are probe IDs from an Affymetrix microarray that need to be mapped to human gene symbols\n",
    "\n",
    "# These IDs need to be mapped to standard gene symbols for proper analysis\n",
    "requires_gene_mapping = True\n"
   ]
  },
  {
   "cell_type": "markdown",
   "id": "4a694105",
   "metadata": {},
   "source": [
    "### Step 5: Gene Annotation"
   ]
  },
  {
   "cell_type": "code",
   "execution_count": 6,
   "id": "6fe5c770",
   "metadata": {
    "execution": {
     "iopub.execute_input": "2025-03-25T07:05:10.668697Z",
     "iopub.status.busy": "2025-03-25T07:05:10.668601Z",
     "iopub.status.idle": "2025-03-25T07:05:16.084763Z",
     "shell.execute_reply": "2025-03-25T07:05:16.084134Z"
    }
   },
   "outputs": [
    {
     "name": "stdout",
     "output_type": "stream",
     "text": [
      "Gene annotation preview:\n",
      "{'ID': ['1007_s_at', '1053_at', '117_at', '121_at', '1255_g_at'], 'GB_ACC': ['U48705', 'M87338', 'X51757', 'X69699', 'L36861'], 'SPOT_ID': [nan, nan, nan, nan, nan], 'Species Scientific Name': ['Homo sapiens', 'Homo sapiens', 'Homo sapiens', 'Homo sapiens', 'Homo sapiens'], 'Annotation Date': ['Oct 6, 2014', 'Oct 6, 2014', 'Oct 6, 2014', 'Oct 6, 2014', 'Oct 6, 2014'], 'Sequence Type': ['Exemplar sequence', 'Exemplar sequence', 'Exemplar sequence', 'Exemplar sequence', 'Exemplar sequence'], 'Sequence Source': ['Affymetrix Proprietary Database', 'GenBank', 'Affymetrix Proprietary Database', 'GenBank', 'Affymetrix Proprietary Database'], 'Target Description': ['U48705 /FEATURE=mRNA /DEFINITION=HSU48705 Human receptor tyrosine kinase DDR gene, complete cds', 'M87338 /FEATURE= /DEFINITION=HUMA1SBU Human replication factor C, 40-kDa subunit (A1) mRNA, complete cds', \"X51757 /FEATURE=cds /DEFINITION=HSP70B Human heat-shock protein HSP70B' gene\", 'X69699 /FEATURE= /DEFINITION=HSPAX8A H.sapiens Pax8 mRNA', 'L36861 /FEATURE=expanded_cds /DEFINITION=HUMGCAPB Homo sapiens guanylate cyclase activating protein (GCAP) gene exons 1-4, complete cds'], 'Representative Public ID': ['U48705', 'M87338', 'X51757', 'X69699', 'L36861'], 'Gene Title': ['discoidin domain receptor tyrosine kinase 1 /// microRNA 4640', 'replication factor C (activator 1) 2, 40kDa', \"heat shock 70kDa protein 6 (HSP70B')\", 'paired box 8', 'guanylate cyclase activator 1A (retina)'], 'Gene Symbol': ['DDR1 /// MIR4640', 'RFC2', 'HSPA6', 'PAX8', 'GUCA1A'], 'ENTREZ_GENE_ID': ['780 /// 100616237', '5982', '3310', '7849', '2978'], 'RefSeq Transcript ID': ['NM_001202521 /// NM_001202522 /// NM_001202523 /// NM_001954 /// NM_013993 /// NM_013994 /// NR_039783 /// XM_005249385 /// XM_005249386 /// XM_005249387 /// XM_005249389 /// XM_005272873 /// XM_005272874 /// XM_005272875 /// XM_005272877 /// XM_005275027 /// XM_005275028 /// XM_005275030 /// XM_005275031 /// XM_005275162 /// XM_005275163 /// XM_005275164 /// XM_005275166 /// XM_005275457 /// XM_005275458 /// XM_005275459 /// XM_005275461 /// XM_006715185 /// XM_006715186 /// XM_006715187 /// XM_006715188 /// XM_006715189 /// XM_006715190 /// XM_006725501 /// XM_006725502 /// XM_006725503 /// XM_006725504 /// XM_006725505 /// XM_006725506 /// XM_006725714 /// XM_006725715 /// XM_006725716 /// XM_006725717 /// XM_006725718 /// XM_006725719 /// XM_006725720 /// XM_006725721 /// XM_006725722 /// XM_006725827 /// XM_006725828 /// XM_006725829 /// XM_006725830 /// XM_006725831 /// XM_006725832 /// XM_006726017 /// XM_006726018 /// XM_006726019 /// XM_006726020 /// XM_006726021 /// XM_006726022 /// XR_427836 /// XR_430858 /// XR_430938 /// XR_430974 /// XR_431015', 'NM_001278791 /// NM_001278792 /// NM_001278793 /// NM_002914 /// NM_181471 /// XM_006716080', 'NM_002155', 'NM_003466 /// NM_013951 /// NM_013952 /// NM_013953 /// NM_013992', 'NM_000409 /// XM_006715073'], 'Gene Ontology Biological Process': ['0001558 // regulation of cell growth // inferred from electronic annotation /// 0001952 // regulation of cell-matrix adhesion // inferred from electronic annotation /// 0006468 // protein phosphorylation // inferred from electronic annotation /// 0007155 // cell adhesion // traceable author statement /// 0007169 // transmembrane receptor protein tyrosine kinase signaling pathway // inferred from electronic annotation /// 0007565 // female pregnancy // inferred from electronic annotation /// 0007566 // embryo implantation // inferred from electronic annotation /// 0007595 // lactation // inferred from electronic annotation /// 0008285 // negative regulation of cell proliferation // inferred from electronic annotation /// 0010715 // regulation of extracellular matrix disassembly // inferred from mutant phenotype /// 0014909 // smooth muscle cell migration // inferred from mutant phenotype /// 0016310 // phosphorylation // inferred from electronic annotation /// 0018108 // peptidyl-tyrosine phosphorylation // inferred from electronic annotation /// 0030198 // extracellular matrix organization // traceable author statement /// 0038063 // collagen-activated tyrosine kinase receptor signaling pathway // inferred from direct assay /// 0038063 // collagen-activated tyrosine kinase receptor signaling pathway // inferred from mutant phenotype /// 0038083 // peptidyl-tyrosine autophosphorylation // inferred from direct assay /// 0043583 // ear development // inferred from electronic annotation /// 0044319 // wound healing, spreading of cells // inferred from mutant phenotype /// 0046777 // protein autophosphorylation // inferred from direct assay /// 0060444 // branching involved in mammary gland duct morphogenesis // inferred from electronic annotation /// 0060749 // mammary gland alveolus development // inferred from electronic annotation /// 0061302 // smooth muscle cell-matrix adhesion // inferred from mutant phenotype', '0000278 // mitotic cell cycle // traceable author statement /// 0000722 // telomere maintenance via recombination // traceable author statement /// 0000723 // telomere maintenance // traceable author statement /// 0006260 // DNA replication // traceable author statement /// 0006271 // DNA strand elongation involved in DNA replication // traceable author statement /// 0006281 // DNA repair // traceable author statement /// 0006283 // transcription-coupled nucleotide-excision repair // traceable author statement /// 0006289 // nucleotide-excision repair // traceable author statement /// 0006297 // nucleotide-excision repair, DNA gap filling // traceable author statement /// 0015979 // photosynthesis // inferred from electronic annotation /// 0015995 // chlorophyll biosynthetic process // inferred from electronic annotation /// 0032201 // telomere maintenance via semi-conservative replication // traceable author statement', '0000902 // cell morphogenesis // inferred from electronic annotation /// 0006200 // ATP catabolic process // inferred from direct assay /// 0006950 // response to stress // inferred from electronic annotation /// 0006986 // response to unfolded protein // traceable author statement /// 0034605 // cellular response to heat // inferred from direct assay /// 0042026 // protein refolding // inferred from direct assay /// 0070370 // cellular heat acclimation // inferred from mutant phenotype', '0001655 // urogenital system development // inferred from sequence or structural similarity /// 0001656 // metanephros development // inferred from electronic annotation /// 0001658 // branching involved in ureteric bud morphogenesis // inferred from expression pattern /// 0001822 // kidney development // inferred from expression pattern /// 0001823 // mesonephros development // inferred from sequence or structural similarity /// 0003337 // mesenchymal to epithelial transition involved in metanephros morphogenesis // inferred from expression pattern /// 0006351 // transcription, DNA-templated // inferred from direct assay /// 0006355 // regulation of transcription, DNA-templated // inferred from electronic annotation /// 0007275 // multicellular organismal development // inferred from electronic annotation /// 0007417 // central nervous system development // inferred from expression pattern /// 0009653 // anatomical structure morphogenesis // traceable author statement /// 0030154 // cell differentiation // inferred from electronic annotation /// 0030878 // thyroid gland development // inferred from expression pattern /// 0030878 // thyroid gland development // inferred from mutant phenotype /// 0038194 // thyroid-stimulating hormone signaling pathway // traceable author statement /// 0039003 // pronephric field specification // inferred from sequence or structural similarity /// 0042472 // inner ear morphogenesis // inferred from sequence or structural similarity /// 0042981 // regulation of apoptotic process // inferred from sequence or structural similarity /// 0045893 // positive regulation of transcription, DNA-templated // inferred from direct assay /// 0045893 // positive regulation of transcription, DNA-templated // inferred from sequence or structural similarity /// 0045944 // positive regulation of transcription from RNA polymerase II promoter // inferred from direct assay /// 0048793 // pronephros development // inferred from sequence or structural similarity /// 0071371 // cellular response to gonadotropin stimulus // inferred from direct assay /// 0071599 // otic vesicle development // inferred from expression pattern /// 0072050 // S-shaped body morphogenesis // inferred from electronic annotation /// 0072073 // kidney epithelium development // inferred from electronic annotation /// 0072108 // positive regulation of mesenchymal to epithelial transition involved in metanephros morphogenesis // inferred from sequence or structural similarity /// 0072164 // mesonephric tubule development // inferred from electronic annotation /// 0072207 // metanephric epithelium development // inferred from expression pattern /// 0072221 // metanephric distal convoluted tubule development // inferred from sequence or structural similarity /// 0072278 // metanephric comma-shaped body morphogenesis // inferred from expression pattern /// 0072284 // metanephric S-shaped body morphogenesis // inferred from expression pattern /// 0072289 // metanephric nephron tubule formation // inferred from sequence or structural similarity /// 0072305 // negative regulation of mesenchymal cell apoptotic process involved in metanephric nephron morphogenesis // inferred from sequence or structural similarity /// 0072307 // regulation of metanephric nephron tubule epithelial cell differentiation // inferred from sequence or structural similarity /// 0090190 // positive regulation of branching involved in ureteric bud morphogenesis // inferred from sequence or structural similarity /// 1900212 // negative regulation of mesenchymal cell apoptotic process involved in metanephros development // inferred from sequence or structural similarity /// 1900215 // negative regulation of apoptotic process involved in metanephric collecting duct development // inferred from sequence or structural similarity /// 1900218 // negative regulation of apoptotic process involved in metanephric nephron tubule development // inferred from sequence or structural similarity /// 2000594 // positive regulation of metanephric DCT cell differentiation // inferred from sequence or structural similarity /// 2000611 // positive regulation of thyroid hormone generation // inferred from mutant phenotype /// 2000612 // regulation of thyroid-stimulating hormone secretion // inferred from mutant phenotype', '0007165 // signal transduction // non-traceable author statement /// 0007601 // visual perception // inferred from electronic annotation /// 0007602 // phototransduction // inferred from electronic annotation /// 0007603 // phototransduction, visible light // traceable author statement /// 0016056 // rhodopsin mediated signaling pathway // traceable author statement /// 0022400 // regulation of rhodopsin mediated signaling pathway // traceable author statement /// 0030828 // positive regulation of cGMP biosynthetic process // inferred from electronic annotation /// 0031282 // regulation of guanylate cyclase activity // inferred from electronic annotation /// 0031284 // positive regulation of guanylate cyclase activity // inferred from electronic annotation /// 0050896 // response to stimulus // inferred from electronic annotation'], 'Gene Ontology Cellular Component': ['0005576 // extracellular region // inferred from electronic annotation /// 0005615 // extracellular space // inferred from direct assay /// 0005886 // plasma membrane // traceable author statement /// 0005887 // integral component of plasma membrane // traceable author statement /// 0016020 // membrane // inferred from electronic annotation /// 0016021 // integral component of membrane // inferred from electronic annotation /// 0043235 // receptor complex // inferred from direct assay /// 0070062 // extracellular vesicular exosome // inferred from direct assay', '0005634 // nucleus // inferred from electronic annotation /// 0005654 // nucleoplasm // traceable author statement /// 0005663 // DNA replication factor C complex // inferred from direct assay', '0005737 // cytoplasm // inferred from direct assay /// 0005814 // centriole // inferred from direct assay /// 0005829 // cytosol // inferred from direct assay /// 0008180 // COP9 signalosome // inferred from direct assay /// 0070062 // extracellular vesicular exosome // inferred from direct assay /// 0072562 // blood microparticle // inferred from direct assay', '0005634 // nucleus // inferred from direct assay /// 0005654 // nucleoplasm // inferred from sequence or structural similarity /// 0005730 // nucleolus // inferred from direct assay', '0001750 // photoreceptor outer segment // inferred from electronic annotation /// 0001917 // photoreceptor inner segment // inferred from electronic annotation /// 0005578 // proteinaceous extracellular matrix // inferred from electronic annotation /// 0005886 // plasma membrane // inferred from direct assay /// 0016020 // membrane // inferred from electronic annotation /// 0097381 // photoreceptor disc membrane // traceable author statement'], 'Gene Ontology Molecular Function': ['0000166 // nucleotide binding // inferred from electronic annotation /// 0004672 // protein kinase activity // inferred from electronic annotation /// 0004713 // protein tyrosine kinase activity // inferred from electronic annotation /// 0004714 // transmembrane receptor protein tyrosine kinase activity // traceable author statement /// 0005515 // protein binding // inferred from physical interaction /// 0005518 // collagen binding // inferred from direct assay /// 0005518 // collagen binding // inferred from mutant phenotype /// 0005524 // ATP binding // inferred from electronic annotation /// 0016301 // kinase activity // inferred from electronic annotation /// 0016740 // transferase activity // inferred from electronic annotation /// 0016772 // transferase activity, transferring phosphorus-containing groups // inferred from electronic annotation /// 0038062 // protein tyrosine kinase collagen receptor activity // inferred from direct assay /// 0046872 // metal ion binding // inferred from electronic annotation', '0000166 // nucleotide binding // inferred from electronic annotation /// 0003677 // DNA binding // inferred from electronic annotation /// 0005515 // protein binding // inferred from physical interaction /// 0005524 // ATP binding // inferred from electronic annotation /// 0016851 // magnesium chelatase activity // inferred from electronic annotation /// 0017111 // nucleoside-triphosphatase activity // inferred from electronic annotation', '0000166 // nucleotide binding // inferred from electronic annotation /// 0005524 // ATP binding // inferred from electronic annotation /// 0019899 // enzyme binding // inferred from physical interaction /// 0031072 // heat shock protein binding // inferred from physical interaction /// 0042623 // ATPase activity, coupled // inferred from direct assay /// 0051082 // unfolded protein binding // inferred from direct assay', '0000979 // RNA polymerase II core promoter sequence-specific DNA binding // inferred from direct assay /// 0003677 // DNA binding // inferred from direct assay /// 0003677 // DNA binding // inferred from mutant phenotype /// 0003700 // sequence-specific DNA binding transcription factor activity // inferred from direct assay /// 0004996 // thyroid-stimulating hormone receptor activity // traceable author statement /// 0005515 // protein binding // inferred from physical interaction /// 0044212 // transcription regulatory region DNA binding // inferred from direct assay', '0005509 // calcium ion binding // inferred from electronic annotation /// 0008048 // calcium sensitive guanylate cyclase activator activity // inferred from electronic annotation /// 0030249 // guanylate cyclase regulator activity // inferred from electronic annotation /// 0046872 // metal ion binding // inferred from electronic annotation']}\n"
     ]
    }
   ],
   "source": [
    "# 1. Use the 'get_gene_annotation' function from the library to get gene annotation data from the SOFT file.\n",
    "gene_annotation = get_gene_annotation(soft_file)\n",
    "\n",
    "# 2. Use the 'preview_df' function from the library to preview the data and print out the results.\n",
    "print(\"Gene annotation preview:\")\n",
    "print(preview_df(gene_annotation))\n"
   ]
  },
  {
   "cell_type": "markdown",
   "id": "72c1f140",
   "metadata": {},
   "source": [
    "### Step 6: Gene Identifier Mapping"
   ]
  },
  {
   "cell_type": "code",
   "execution_count": 7,
   "id": "67d2898f",
   "metadata": {
    "execution": {
     "iopub.execute_input": "2025-03-25T07:05:16.086278Z",
     "iopub.status.busy": "2025-03-25T07:05:16.086139Z",
     "iopub.status.idle": "2025-03-25T07:05:16.391364Z",
     "shell.execute_reply": "2025-03-25T07:05:16.390711Z"
    }
   },
   "outputs": [
    {
     "name": "stdout",
     "output_type": "stream",
     "text": [
      "Shape of mapped gene expression data: (21278, 63)\n",
      "First few gene symbols after mapping:\n",
      "Index(['A1BG', 'A1BG-AS1', 'A1CF', 'A2M', 'A2M-AS1', 'A2ML1', 'A2MP1',\n",
      "       'A4GALT', 'A4GNT', 'AA06'],\n",
      "      dtype='object', name='Gene')\n"
     ]
    }
   ],
   "source": [
    "# 1. Based on the previews, we need to map the probe IDs to gene symbols\n",
    "# The 'ID' column in gene_annotation matches the index of gene_data\n",
    "# The 'Gene Symbol' column contains the gene symbols we need\n",
    "probe_col = 'ID'\n",
    "gene_col = 'Gene Symbol'\n",
    "\n",
    "# 2. Get a gene mapping dataframe by extracting the relevant columns\n",
    "gene_mapping = get_gene_mapping(gene_annotation, probe_col, gene_col)\n",
    "\n",
    "# 3. Apply the gene mapping to convert probe-level measurements to gene expression data\n",
    "# This function handles the many-to-many relation between probes and genes\n",
    "gene_data = apply_gene_mapping(gene_data, gene_mapping)\n",
    "\n",
    "# Print shape of the resulting gene expression dataframe\n",
    "print(f\"Shape of mapped gene expression data: {gene_data.shape}\")\n",
    "print(\"First few gene symbols after mapping:\")\n",
    "print(gene_data.index[:10])\n"
   ]
  },
  {
   "cell_type": "markdown",
   "id": "b0664076",
   "metadata": {},
   "source": [
    "### Step 7: Data Normalization and Linking"
   ]
  },
  {
   "cell_type": "code",
   "execution_count": 8,
   "id": "a8da4fe4",
   "metadata": {
    "execution": {
     "iopub.execute_input": "2025-03-25T07:05:16.392836Z",
     "iopub.status.busy": "2025-03-25T07:05:16.392714Z",
     "iopub.status.idle": "2025-03-25T07:05:23.539684Z",
     "shell.execute_reply": "2025-03-25T07:05:23.539036Z"
    }
   },
   "outputs": [
    {
     "name": "stdout",
     "output_type": "stream",
     "text": [
      "Normalized gene data saved to ../../output/preprocess/Canavan_Disease/gene_data/GSE41445.csv\n",
      "Clinical data shape: (2, 21)\n",
      "Clinical data preview:\n",
      "                   0    1    2    3    4    5    6    7    8    9  ...   11  \\\n",
      "Canavan_Disease  0.0  0.0  0.0  0.0  0.0  0.0  0.0  1.0  0.0  0.0  ...  0.0   \n",
      "Gender           1.0  0.0  NaN  NaN  NaN  NaN  NaN  NaN  NaN  NaN  ...  NaN   \n",
      "\n",
      "                  12   13   14   15   16   17  18  19  20  \n",
      "Canavan_Disease  0.0  0.0  0.0  0.0  0.0  0.0 NaN NaN NaN  \n",
      "Gender           NaN  NaN  NaN  NaN  NaN  NaN NaN NaN NaN  \n",
      "\n",
      "[2 rows x 21 columns]\n",
      "\n",
      "Disease values (row 2):\n",
      "['disease: renal cell adenocarcinoma', 'disease: non-small cell carcinoma', 'disease: colorectal adenocarcinoma', 'disease: moderately differentiated adenocarcinoma', 'disease: non-tumorigenic; spontaneously immortilized keratinocytes', 'disease: colorectal carcinoma', 'disease: adenocarcinoma', 'disease: non-tumorigenic; aspartoacylase deficiency; possible Canavan disease', 'disease: invasive ductal carcinoma; inflammatory skin metastasis', 'disease: non-tumorigenic; Fibrocystic Breast disease', 'disease: intraductal adenocarcinoma', 'disease: carcinoma', 'disease: large cell carcinoma', 'disease: Gleason Grade 4; adenocarcinoma', 'disease: malignant melanoma', \"disease: Dukes' type B; colorectal adenocarcinoma\", 'disease: ductal carcinoma', 'disease: osteosarcoma']\n",
      "\n",
      "Updated clinical data saved to ../../output/preprocess/Canavan_Disease/clinical_data/GSE41445.csv\n",
      "Linked data shape: (63, 19847)\n"
     ]
    },
    {
     "name": "stdout",
     "output_type": "stream",
     "text": [
      "For the feature 'Canavan_Disease', the least common label is '1.0' with 3 occurrences. This represents 4.76% of the dataset.\n",
      "The distribution of the feature 'Canavan_Disease' in this dataset is severely biased.\n",
      "\n",
      "For the feature 'Gender', the least common label is '1.0' with 27 occurrences. This represents 42.86% of the dataset.\n",
      "The distribution of the feature 'Gender' in this dataset is fine.\n",
      "\n",
      "A new JSON file was created at: ../../output/preprocess/Canavan_Disease/cohort_info.json\n",
      "Data was determined to be unusable and was not saved\n"
     ]
    }
   ],
   "source": [
    "# 1. Normalize the obtained gene data with the 'normalize_gene_symbols_in_index' function from the library.\n",
    "normalized_gene_data = normalize_gene_symbols_in_index(gene_data)\n",
    "os.makedirs(os.path.dirname(out_gene_data_file), exist_ok=True)\n",
    "normalized_gene_data.to_csv(out_gene_data_file)\n",
    "print(f\"Normalized gene data saved to {out_gene_data_file}\")\n",
    "\n",
    "# Reload the clinical data to understand what's happening with the trait values\n",
    "clinical_df = pd.read_csv(out_clinical_data_file, index_col=0)\n",
    "print(\"Clinical data shape:\", clinical_df.shape)\n",
    "print(\"Clinical data preview:\")\n",
    "print(clinical_df.head())\n",
    "\n",
    "# The problem is likely that the clinical data extraction didn't successfully identify Canavan disease samples\n",
    "# Reload the original clinical data to see the actual values\n",
    "background_info, clinical_data = get_background_and_clinical_data(matrix_file)\n",
    "unique_values_dict = get_unique_values_by_row(clinical_data)\n",
    "print(\"\\nDisease values (row 2):\")\n",
    "print(unique_values_dict[2])\n",
    "\n",
    "# Update the trait conversion function to better identify Canavan disease cases\n",
    "def improved_convert_trait(value):\n",
    "    \"\"\"Convert trait information to binary: 1 for Canavan disease, 0 for other\"\"\"\n",
    "    if value is None or ':' not in value:\n",
    "        return None\n",
    "    \n",
    "    disease_part = value.split(':', 1)[1].strip().lower()\n",
    "    # Look for clearer indicators of Canavan disease\n",
    "    if 'canavan disease' in disease_part or 'aspartoacylase deficiency' in disease_part:\n",
    "        return 1\n",
    "    else:\n",
    "        return 0\n",
    "\n",
    "# Extract clinical features using updated function\n",
    "selected_clinical_df = geo_select_clinical_features(\n",
    "    clinical_df=clinical_data,\n",
    "    trait=trait,\n",
    "    trait_row=2,  # Disease information is in row 2\n",
    "    convert_trait=improved_convert_trait,\n",
    "    gender_row=0,\n",
    "    convert_gender=convert_gender\n",
    ")\n",
    "\n",
    "# Save updated clinical data\n",
    "os.makedirs(os.path.dirname(out_clinical_data_file), exist_ok=True)\n",
    "selected_clinical_df.to_csv(out_clinical_data_file)\n",
    "print(f\"\\nUpdated clinical data saved to {out_clinical_data_file}\")\n",
    "\n",
    "# Now link the updated clinical and genetic data\n",
    "linked_data = geo_link_clinical_genetic_data(selected_clinical_df, normalized_gene_data)\n",
    "print(\"Linked data shape:\", linked_data.shape)\n",
    "\n",
    "# Handle missing values in the linked data\n",
    "linked_data = handle_missing_values(linked_data, trait)\n",
    "\n",
    "# 4. Determine whether the trait and some demographic features are severely biased, and remove biased features.\n",
    "is_trait_biased, unbiased_linked_data = judge_and_remove_biased_features(linked_data, trait)\n",
    "\n",
    "# 5. Conduct quality check and save the cohort information.\n",
    "is_usable = validate_and_save_cohort_info(\n",
    "    is_final=True, \n",
    "    cohort=cohort, \n",
    "    info_path=json_path, \n",
    "    is_gene_available=True, \n",
    "    is_trait_available=True, \n",
    "    is_biased=is_trait_biased, \n",
    "    df=unbiased_linked_data,\n",
    "    note=\"Dataset contains 21 cell lines including one with aspartoacylase deficiency (Canavan disease)\"\n",
    ")\n",
    "\n",
    "# 6. If the linked data is usable, save it as a CSV file to 'out_data_file'.\n",
    "if is_usable:\n",
    "    os.makedirs(os.path.dirname(out_data_file), exist_ok=True)\n",
    "    unbiased_linked_data.to_csv(out_data_file)\n",
    "    print(f\"Linked data saved to {out_data_file}\")\n",
    "else:\n",
    "    print(\"Data was determined to be unusable and was not saved\")"
   ]
  }
 ],
 "metadata": {
  "language_info": {
   "codemirror_mode": {
    "name": "ipython",
    "version": 3
   },
   "file_extension": ".py",
   "mimetype": "text/x-python",
   "name": "python",
   "nbconvert_exporter": "python",
   "pygments_lexer": "ipython3",
   "version": "3.10.16"
  }
 },
 "nbformat": 4,
 "nbformat_minor": 5
}
