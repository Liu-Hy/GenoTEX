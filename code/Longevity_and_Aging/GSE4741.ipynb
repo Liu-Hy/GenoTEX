{
 "cells": [
  {
   "cell_type": "code",
   "execution_count": 1,
   "id": "04ea4bac",
   "metadata": {
    "execution": {
     "iopub.execute_input": "2024-06-12T07:15:12.677637Z",
     "iopub.status.busy": "2024-06-12T07:15:12.677544Z",
     "iopub.status.idle": "2024-06-12T07:15:12.682703Z",
     "shell.execute_reply": "2024-06-12T07:15:12.682205Z"
    }
   },
   "outputs": [],
   "source": [
    "\n",
    "import sys\n",
    "sys.path.append('/home/techt/Desktop/a4s')\n"
   ]
  },
  {
   "cell_type": "markdown",
   "id": "3d206269",
   "metadata": {},
   "source": [
    "### Step 1: Initial Data Loading"
   ]
  },
  {
   "cell_type": "code",
   "execution_count": 2,
   "id": "9733f8df",
   "metadata": {
    "execution": {
     "iopub.execute_input": "2024-06-12T07:15:12.685066Z",
     "iopub.status.busy": "2024-06-12T07:15:12.684857Z",
     "iopub.status.idle": "2024-06-12T07:15:12.916412Z",
     "shell.execute_reply": "2024-06-12T07:15:12.916020Z"
    }
   },
   "outputs": [
    {
     "name": "stdout",
     "output_type": "stream",
     "text": [
      "Background Information:\n",
      "!Series_title\t\"Convergence of TCR and IL-7 pathways leads to FOXO3a phosphorylation and drives the survival of C. Memory CD4+ T cells\"\n",
      "!Series_summary\t\"The molecular events that are involved in the establishment and the maintenance of CD4+ Central Memory (TCM) and Effector Memory (TEM) T cells are poorly understood. Using global gene expression profiling, single cell proteomics, and functional assays, we show that the survival of TCM CD4+ T cells involves the activation and phosphorylation of STAT5a and FOXO3a. STAT5a phosphorylation induces the transcriptional up-regulation of anti-apoptotic genes specifically in TCM. The phosphorylation of FOXO3a at S315, following TCR engagement, prevents the transcription of pro-apoptotic gene like FasL and BIM. Experiments aimed at blocking FOXO3a phosphorylation confirmed the role of FOXO3a in protecting TCM from apoptosis. Our results define the underlying molecular mechanisms responsible for the longevity and persistence of CD4+ TCM.\"\n",
      "!Series_summary\t\"Keywords: comparative gene profile, cell-type comparison, central memory to Effector memory\"\n",
      "!Series_overall_design\t\"Isolation of CD4+T cell sub-populations. Peripheral blood mononuclear cells (PBMCs) from healthy adult individuals were isolated by Ficoll-HyPaque (Pharmacia) density gradient. We first enriched for CD4+ T cells using negative immunomagnetic beads selection (Automacs, Myltenii), cells were then labeled with anti-CD4-APCcy7, anti-CD45RA-ECD, anti-CD27-FITC and anti-CCR7-PEcy7 and sorted into Naive cells described as CD4+, CD45RA+, CD27+ and CCR7+, Central Memory cells (TCM) described as CD4+, CD45RA-, CD27+ and CCR7+ cells and Effector Memory cells (TEM) described as CD4+, CD45RA-, CD27- and CCR7- cells. Sorting was performed using a BDAria (BD Pharmingen).  Purity of the TCM and TEM sub-populations was ranging from 96 to 99%. All procedures were done at 4Â°C to avoid any changes in cell phenotype or gene expression. Sample RNA was extracted using an RNA extraction kit (Quiagen), then amplified using the MessageAmp RNA kit (Ambion) as per the manufacturer's instructions. The amplified RNA (aRNA) was then verified for quality and quantity using the Agilent Bioanalyser and measuring the OD. Universal human RNA (Stratagene) was also prepared in the same way.  Sample probes were prepared by direct labelling with 3 µg of the aRNA Cy-5 (R values) fluorescent dye while the universal RNA probes were prepared by direct labelling of universal aRNA with Cy-3 (G values). All patient samples were hybridized against amplified universal RNA at 37 ºC for 18h on a custom human Immune array. Detailed information on the labeling and hybridization procedures can be obtained at URL:  http://www.microarrays.ca.\"\n",
      "Sample Characteristics Dictionary:\n",
      "{0: ['Tissue:Universal RNA']}\n"
     ]
    }
   ],
   "source": [
    "from utils.preprocess import *\n",
    "# 1. Identify the paths to the soft file and the matrix file\n",
    "cohort_dir = '/media/techt/DATA/GEO/Longevity_and_Aging/GSE4741'\n",
    "soft_file, matrix_file = geo_get_relevant_filepaths(cohort_dir)\n",
    "\n",
    "# 2. Read the matrix file to obtain background information and sample characteristics data\n",
    "background_prefixes = ['!Series_title', '!Series_summary', '!Series_overall_design']\n",
    "clinical_prefixes = ['!Sample_geo_accession', '!Sample_characteristics_ch1']\n",
    "background_info, clinical_data = get_background_and_clinical_data(matrix_file, background_prefixes, clinical_prefixes)\n",
    "\n",
    "# 3. Obtain the sample characteristics dictionary from the clinical dataframe\n",
    "sample_characteristics_dict = get_unique_values_by_row(clinical_data)\n",
    "\n",
    "# 4. Explicitly print out all the background information and the sample characteristics dictionary\n",
    "print(\"Background Information:\")\n",
    "print(background_info)\n",
    "print(\"Sample Characteristics Dictionary:\")\n",
    "print(sample_characteristics_dict)\n"
   ]
  },
  {
   "cell_type": "markdown",
   "id": "ea34c60a",
   "metadata": {},
   "source": [
    "### Step 2: Dataset Analysis and Clinical Feature Extraction"
   ]
  },
  {
   "cell_type": "code",
   "execution_count": 3,
   "id": "4fbf68c3",
   "metadata": {
    "execution": {
     "iopub.execute_input": "2024-06-12T07:15:12.918018Z",
     "iopub.status.busy": "2024-06-12T07:15:12.917905Z",
     "iopub.status.idle": "2024-06-12T07:15:12.919977Z",
     "shell.execute_reply": "2024-06-12T07:15:12.919685Z"
    }
   },
   "outputs": [],
   "source": [
    "is_gene_available = False\n",
    "trait_row = age_row = gender_row = None  # set to different values when applicable\n",
    "convert_trait = convert_age = convert_gender = None  # define the functions when applicable\n"
   ]
  },
  {
   "cell_type": "markdown",
   "id": "5c5df5f0",
   "metadata": {},
   "source": [
    "### Step 2: Dataset Analysis and Questions: Unknown Step"
   ]
  },
  {
   "cell_type": "code",
   "execution_count": 4,
   "id": "b879d855",
   "metadata": {
    "execution": {
     "iopub.execute_input": "2024-06-12T07:15:12.921371Z",
     "iopub.status.busy": "2024-06-12T07:15:12.921267Z",
     "iopub.status.idle": "2024-06-12T07:15:12.924055Z",
     "shell.execute_reply": "2024-06-12T07:15:12.923722Z"
    }
   },
   "outputs": [],
   "source": [
    "\n",
    "# 1. Gene Expression Data Availability\n",
    "# Based on the STEP 1 output and series summary which includes terms like \"gene expression profiling\", we can infer gene expression data is likely available.\n",
    "is_gene_available = True\n",
    "\n",
    "# 2. Variable Availability and Data Type Conversion\n",
    "\n",
    "# 2.1 Data Availability\n",
    "# From the sample characteristics dictionary, we only see 'Tissue:Universal RNA'. Thus, other variables such as 'Longevity_and_Aging', 'age', and 'gender' are not available.\n",
    "trait_row = age_row = gender_row = None\n",
    "\n",
    "# 2.3 Data Type Conversion\n",
    "# Since no keys for the variables were found, we define dummy functions for conversion, although they won't be used.\n",
    "def convert_trait(value):\n",
    "    return None\n",
    "\n",
    "def convert_age(value):\n",
    "    return None\n",
    "\n",
    "def convert_gender(value):\n",
    "    return None\n",
    "\n",
    "# 3. Save Metadata\n",
    "save_cohort_info('GSE4741', './preprocessed/Longevity_and_Aging/cohort_info.json', is_gene_available, trait_row is not None)\n",
    "\n",
    "# 4. Clinical Feature Extraction\n",
    "# Skipped because trait_row is None.\n"
   ]
  }
 ],
 "metadata": {
  "language_info": {
   "codemirror_mode": {
    "name": "ipython",
    "version": 3
   },
   "file_extension": ".py",
   "mimetype": "text/x-python",
   "name": "python",
   "nbconvert_exporter": "python",
   "pygments_lexer": "ipython3",
   "version": "3.8.17"
  }
 },
 "nbformat": 4,
 "nbformat_minor": 5
}
