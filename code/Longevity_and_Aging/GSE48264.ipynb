{
 "cells": [
  {
   "cell_type": "code",
   "execution_count": 1,
   "id": "97dd1280",
   "metadata": {
    "execution": {
     "iopub.execute_input": "2024-06-12T07:15:13.617155Z",
     "iopub.status.busy": "2024-06-12T07:15:13.617042Z",
     "iopub.status.idle": "2024-06-12T07:15:13.620919Z",
     "shell.execute_reply": "2024-06-12T07:15:13.620645Z"
    }
   },
   "outputs": [],
   "source": [
    "\n",
    "import sys\n",
    "sys.path.append('/home/techt/Desktop/a4s')\n"
   ]
  },
  {
   "cell_type": "markdown",
   "id": "c7da3751",
   "metadata": {},
   "source": [
    "### Step 1: Initial Data Loading"
   ]
  },
  {
   "cell_type": "code",
   "execution_count": 2,
   "id": "b0fc1cf9",
   "metadata": {
    "execution": {
     "iopub.execute_input": "2024-06-12T07:15:13.622596Z",
     "iopub.status.busy": "2024-06-12T07:15:13.622497Z",
     "iopub.status.idle": "2024-06-12T07:15:13.922406Z",
     "shell.execute_reply": "2024-06-12T07:15:13.922024Z"
    }
   },
   "outputs": [
    {
     "name": "stdout",
     "output_type": "stream",
     "text": [
      "Background Information:\n",
      "!Series_title\t\"Uppsala Longitudinal Study of Adult Men (ULSAM)\"\n",
      "!Series_summary\t\"The Uppsala Longitudinal Study of Adult Men is a population-based study aimed at identifying risk factors for cardiovascular disease. At the time of biopsy all subjects were ~ 70yr of age\"\n",
      "!Series_overall_design\t\"We extracted RNA from muscle tissue taken from 129 subjects, when they were aged ~70yr and characterised as disease-free (note the above average longevity in Swedes born circa 1920 compared with US and UK populations). From these samples, 108 yielded RNA of sufficient quality to profile on Affymetrix gene-chips.\"\n",
      "!Series_overall_design\t\"Only survival data are used in the paper.\"\n",
      "!Series_overall_design\t\"There are no data from cardiovascular disease subjects; we only profiled the healthy subjects and followed for 20yrs.\"\n",
      "Sample Characteristics Dictionary:\n",
      "{0: ['disease-free: disease-free'], 1: ['age(approx): 70 yr'], 2: ['tissue: skeletal muscle biopsy (baseline)'], 3: ['survival: None', 'survival: Hosp', 'survival: Death'], 4: ['patient id: 32', 'patient id: 117', 'patient id: 152', 'patient id: 211', 'patient id: 241', 'patient id: 254', 'patient id: 255', 'patient id: 296', 'patient id: 298', 'patient id: 300', 'patient id: 317', 'patient id: 349', 'patient id: 351', 'patient id: 355', 'patient id: 373', 'patient id: 377', 'patient id: 381', 'patient id: 397', 'patient id: 421', 'patient id: 465', 'patient id: 498', 'patient id: 521', 'patient id: 549', 'patient id: 554', 'patient id: 576', 'patient id: 621', 'patient id: 632', 'patient id: 634', 'patient id: 664', 'patient id: 674']}\n"
     ]
    }
   ],
   "source": [
    "from utils.preprocess import *\n",
    "# 1. Identify the paths to the soft file and the matrix file\n",
    "cohort_dir = '/media/techt/DATA/GEO/Longevity_and_Aging/GSE48264'\n",
    "soft_file, matrix_file = geo_get_relevant_filepaths(cohort_dir)\n",
    "\n",
    "# 2. Read the matrix file to obtain background information and sample characteristics data\n",
    "background_prefixes = ['!Series_title', '!Series_summary', '!Series_overall_design']\n",
    "clinical_prefixes = ['!Sample_geo_accession', '!Sample_characteristics_ch1']\n",
    "background_info, clinical_data = get_background_and_clinical_data(matrix_file, background_prefixes, clinical_prefixes)\n",
    "\n",
    "# 3. Obtain the sample characteristics dictionary from the clinical dataframe\n",
    "sample_characteristics_dict = get_unique_values_by_row(clinical_data)\n",
    "\n",
    "# 4. Explicitly print out all the background information and the sample characteristics dictionary\n",
    "print(\"Background Information:\")\n",
    "print(background_info)\n",
    "print(\"Sample Characteristics Dictionary:\")\n",
    "print(sample_characteristics_dict)\n"
   ]
  },
  {
   "cell_type": "markdown",
   "id": "be4203ab",
   "metadata": {},
   "source": [
    "### Step 2: Dataset Analysis and Clinical Feature Extraction"
   ]
  },
  {
   "cell_type": "code",
   "execution_count": 3,
   "id": "a999e070",
   "metadata": {
    "execution": {
     "iopub.execute_input": "2024-06-12T07:15:13.924171Z",
     "iopub.status.busy": "2024-06-12T07:15:13.924059Z",
     "iopub.status.idle": "2024-06-12T07:15:13.943455Z",
     "shell.execute_reply": "2024-06-12T07:15:13.943162Z"
    }
   },
   "outputs": [
    {
     "name": "stdout",
     "output_type": "stream",
     "text": [
      "{'GSM1173505': [0.0, 70.0], 'GSM1173506': [1.0, 70.0], 'GSM1173507': [1.0, 70.0], 'GSM1173508': [1.0, 70.0], 'GSM1173509': [1.0, 70.0], 'GSM1173510': [1.0, 70.0], 'GSM1173511': [0.0, 70.0], 'GSM1173512': [1.0, 70.0], 'GSM1173513': [1.0, 70.0], 'GSM1173514': [1.0, 70.0], 'GSM1173515': [1.0, 70.0], 'GSM1173516': [1.0, 70.0], 'GSM1173517': [1.0, 70.0], 'GSM1173518': [0.0, 70.0], 'GSM1173519': [1.0, 70.0], 'GSM1173520': [1.0, 70.0], 'GSM1173521': [0.0, 70.0], 'GSM1173522': [1.0, 70.0], 'GSM1173523': [0.0, 70.0], 'GSM1173524': [1.0, 70.0], 'GSM1173525': [1.0, 70.0], 'GSM1173526': [1.0, 70.0], 'GSM1173527': [1.0, 70.0], 'GSM1173528': [1.0, 70.0], 'GSM1173529': [0.0, 70.0], 'GSM1173530': [1.0, 70.0], 'GSM1173531': [1.0, 70.0], 'GSM1173532': [0.0, 70.0], 'GSM1173533': [1.0, 70.0], 'GSM1173534': [1.0, 70.0], 'GSM1173535': [1.0, 70.0], 'GSM1173536': [1.0, 70.0], 'GSM1173537': [0.0, 70.0], 'GSM1173538': [1.0, 70.0], 'GSM1173539': [1.0, 70.0], 'GSM1173540': [1.0, 70.0], 'GSM1173541': [0.0, 70.0], 'GSM1173542': [1.0, 70.0], 'GSM1173543': [1.0, 70.0], 'GSM1173544': [1.0, 70.0], 'GSM1173545': [1.0, 70.0], 'GSM1173546': [0.0, 70.0], 'GSM1173547': [1.0, 70.0], 'GSM1173548': [0.0, 70.0], 'GSM1173549': [1.0, 70.0], 'GSM1173550': [0.0, 70.0], 'GSM1173551': [0.0, 70.0], 'GSM1173552': [1.0, 70.0], 'GSM1173553': [1.0, 70.0], 'GSM1173554': [1.0, 70.0], 'GSM1173555': [1.0, 70.0], 'GSM1173556': [1.0, 70.0], 'GSM1173557': [1.0, 70.0], 'GSM1173558': [1.0, 70.0], 'GSM1173559': [1.0, 70.0], 'GSM1173560': [1.0, 70.0], 'GSM1173561': [0.0, 70.0], 'GSM1173562': [0.0, 70.0], 'GSM1173563': [1.0, 70.0], 'GSM1173564': [1.0, 70.0], 'GSM1173565': [0.0, 70.0], 'GSM1173566': [0.0, 70.0], 'GSM1173567': [0.0, 70.0], 'GSM1173568': [0.0, 70.0], 'GSM1173569': [0.0, 70.0], 'GSM1173570': [1.0, 70.0], 'GSM1173571': [0.0, 70.0], 'GSM1173572': [1.0, 70.0], 'GSM1173573': [0.0, 70.0], 'GSM1173574': [1.0, 70.0], 'GSM1173575': [1.0, 70.0], 'GSM1173576': [1.0, 70.0], 'GSM1173577': [0.0, 70.0], 'GSM1173578': [1.0, 70.0], 'GSM1173579': [1.0, 70.0], 'GSM1173580': [1.0, 70.0], 'GSM1173581': [1.0, 70.0], 'GSM1173582': [0.0, 70.0], 'GSM1173583': [1.0, 70.0], 'GSM1173584': [0.0, 70.0], 'GSM1173585': [0.0, 70.0], 'GSM1173586': [1.0, 70.0], 'GSM1173587': [0.0, 70.0], 'GSM1173588': [1.0, 70.0], 'GSM1173589': [1.0, 70.0], 'GSM1173590': [1.0, 70.0], 'GSM1173591': [1.0, 70.0], 'GSM1173592': [1.0, 70.0], 'GSM1173593': [0.0, 70.0], 'GSM1173594': [1.0, 70.0], 'GSM1173595': [0.0, 70.0], 'GSM1173596': [0.0, 70.0], 'GSM1173597': [1.0, 70.0], 'GSM1173598': [1.0, 70.0], 'GSM1173599': [0.0, 70.0], 'GSM1173600': [1.0, 70.0], 'GSM1173601': [1.0, 70.0], 'GSM1173602': [1.0, 70.0], 'GSM1173603': [1.0, 70.0], 'GSM1173604': [1.0, 70.0], 'GSM1173605': [1.0, 70.0], 'GSM1173606': [1.0, 70.0], 'GSM1173607': [1.0, 70.0], 'GSM1173608': [1.0, 70.0], 'GSM1173609': [1.0, 70.0], 'GSM1173610': [1.0, 70.0], 'GSM1173611': [1.0, 70.0], 'GSM1173612': [0.0, 70.0]}\n"
     ]
    }
   ],
   "source": [
    "is_gene_available = False\n",
    "trait_row = age_row = gender_row = None  # set to different values when applicable\n",
    "convert_trait = convert_age = convert_gender = None  # define the functions when applicable\n",
    "\n",
    "# 1. Gene Expression Data Availability\n",
    "# Given that the data is obtained from RNA profiled on Affymetrix gene-chips, it is likely to contain gene expression data.\n",
    "is_gene_available = True \n",
    "\n",
    "# 2. Variable Availability and Data Type Conversion\n",
    "# Given the available keys, let's identify the relevant rows:\n",
    "\n",
    "trait_row = 3  # Longevity_and_Aging ('survival') is available at key 3.\n",
    "age_row = 1  # age is explicitly recorded under key 1, all values are approximately 70.\n",
    "gender_row = None  # gender information is not explicitly mentioned or inferred from the summary.\n",
    "\n",
    "def convert_trait(value):\n",
    "    # Extract the actual value from format like 'survival: None'\n",
    "    term = value.split(': ')[1]\n",
    "    if term == 'None':\n",
    "        return 0\n",
    "    elif term in ['Hosp', 'Death']:\n",
    "        return 1\n",
    "    else:\n",
    "        return None\n",
    "\n",
    "def convert_age(value):\n",
    "    # Extract the actual value from format like 'age(approx): 70 yr'\n",
    "    term = value.split(': ')[1]\n",
    "    try:\n",
    "        return float(term.split(' ')[0])\n",
    "    except:\n",
    "        return None\n",
    "\n",
    "# For gender_row being None, we do not need to define `convert_gender`.\n",
    "convert_gender = None\n",
    "\n",
    "# 3. Save Metadata\n",
    "import os\n",
    "json_path = './preprocessed/Longevity_and_Aging/cohort_info.json'\n",
    "os.makedirs(os.path.dirname(json_path), exist_ok=True)\n",
    "save_cohort_info('GSE48264', json_path, is_gene_available, trait_row is not None)\n",
    "\n",
    "# 4. Clinical Feature Extraction\n",
    "if trait_row is not None:\n",
    "    csv_path = './preprocessed/Longevity_and_Aging/trait_data/GSE48264.csv'\n",
    "    os.makedirs(os.path.dirname(csv_path), exist_ok=True)\n",
    "    \n",
    "    selected_clinical_data = geo_select_clinical_features(clinical_data, 'Longevity_and_Aging', trait_row, convert_trait, age_row, convert_age, gender_row, convert_gender)\n",
    "    selected_clinical_data.to_csv(csv_path)\n",
    "    print(preview_df(selected_clinical_data))\n"
   ]
  },
  {
   "cell_type": "markdown",
   "id": "aebf9b14",
   "metadata": {},
   "source": [
    "### Step 3: Gene Data Extraction"
   ]
  },
  {
   "cell_type": "code",
   "execution_count": 4,
   "id": "845e5157",
   "metadata": {
    "execution": {
     "iopub.execute_input": "2024-06-12T07:15:13.945446Z",
     "iopub.status.busy": "2024-06-12T07:15:13.945342Z",
     "iopub.status.idle": "2024-06-12T07:15:14.129380Z",
     "shell.execute_reply": "2024-06-12T07:15:14.128979Z"
    }
   },
   "outputs": [
    {
     "name": "stdout",
     "output_type": "stream",
     "text": [
      "Index(['2315251', '2315373', '2315554', '2315633', '2315674', '2315739',\n",
      "       '2315894', '2315918', '2315951', '2316069', '2316218', '2316245',\n",
      "       '2316379', '2316558', '2316605', '2316746', '2316905', '2316953',\n",
      "       '2317246', '2317317'],\n",
      "      dtype='object', name='ID')\n"
     ]
    }
   ],
   "source": [
    "# 1. Use the get_genetic_data function from the library to get the gene_data from the matrix_file previously defined.\n",
    "gene_data = get_genetic_data(matrix_file)\n",
    "\n",
    "# 2. Print the first 20 row ids for the following step.\n",
    "print(gene_data.index[:20])\n"
   ]
  },
  {
   "cell_type": "markdown",
   "id": "dd84276d",
   "metadata": {},
   "source": [
    "### Step 4: Gene Identifier Review"
   ]
  },
  {
   "cell_type": "code",
   "execution_count": 5,
   "id": "ced3565d",
   "metadata": {
    "execution": {
     "iopub.execute_input": "2024-06-12T07:15:14.131458Z",
     "iopub.status.busy": "2024-06-12T07:15:14.131314Z",
     "iopub.status.idle": "2024-06-12T07:15:14.133505Z",
     "shell.execute_reply": "2024-06-12T07:15:14.133216Z"
    }
   },
   "outputs": [],
   "source": [
    "requires_gene_mapping = True\n"
   ]
  },
  {
   "cell_type": "markdown",
   "id": "a94da9ee",
   "metadata": {},
   "source": [
    "### Step 5: Gene Annotation (Conditional)"
   ]
  },
  {
   "cell_type": "code",
   "execution_count": 6,
   "id": "9568c8bc",
   "metadata": {
    "execution": {
     "iopub.execute_input": "2024-06-12T07:15:14.135624Z",
     "iopub.status.busy": "2024-06-12T07:15:14.135495Z",
     "iopub.status.idle": "2024-06-12T07:15:18.099817Z",
     "shell.execute_reply": "2024-06-12T07:15:18.099373Z"
    }
   },
   "outputs": [
    {
     "name": "stdout",
     "output_type": "stream",
     "text": [
      "Gene annotation preview:\n",
      "{'ID': ['2315100', '2315106', '2315109', '2315111', '2315113'], 'GB_LIST': ['NR_024005,NR_034090,NR_024004,AK093685', 'DQ786314', nan, nan, 'DQ786265'], 'SPOT_ID': ['chr1:11884-14409', 'chr1:14760-15198', 'chr1:19408-19712', 'chr1:25142-25532', 'chr1:27563-27813'], 'seqname': ['chr1', 'chr1', 'chr1', 'chr1', 'chr1'], 'RANGE_GB': ['NC_000001.10', 'NC_000001.10', 'NC_000001.10', 'NC_000001.10', 'NC_000001.10'], 'RANGE_STRAND': ['+', '+', '+', '+', '+'], 'RANGE_START': ['11884', '14760', '19408', '25142', '27563'], 'RANGE_STOP': ['14409', '15198', '19712', '25532', '27813'], 'total_probes': ['20', '8', '4', '4', '4'], 'gene_assignment': ['NR_024005 // DDX11L2 // DEAD/H (Asp-Glu-Ala-Asp/His) box polypeptide 11 like 2 // 2q13 // 84771 /// NR_034090 // DDX11L9 // DEAD/H (Asp-Glu-Ala-Asp/His) box polypeptide 11 like 9 // 15q26.3 // 100288486 /// NR_024004 // DDX11L2 // DEAD/H (Asp-Glu-Ala-Asp/His) box polypeptide 11 like 2 // 2q13 // 84771 /// AK093685 // DDX11L2 // DEAD/H (Asp-Glu-Ala-Asp/His) box polypeptide 11 like 2 // 2q13 // 84771', '---', '---', '---', '---'], 'mrna_assignment': ['NR_024005 // RefSeq // Homo sapiens DEAD/H (Asp-Glu-Ala-Asp/His) box polypeptide 11 like 2 (DDX11L2), transcript variant 2, non-coding RNA. // chr1 // 100 // 80 // 16 // 16 // 0 /// NR_034090 // RefSeq // Homo sapiens DEAD/H (Asp-Glu-Ala-Asp/His) box polypeptide 11 like 9 (DDX11L9), non-coding RNA. // chr1 // 100 // 80 // 16 // 16 // 0 /// NR_024004 // RefSeq // Homo sapiens DEAD/H (Asp-Glu-Ala-Asp/His) box polypeptide 11 like 2 (DDX11L2), transcript variant 1, non-coding RNA. // chr1 // 100 // 75 // 15 // 15 // 0 /// AK093685 // GenBank // Homo sapiens cDNA FLJ36366 fis, clone THYMU2007824. // chr1 // 94 // 80 // 15 // 16 // 0 /// ENST00000513886 // ENSEMBL // cdna:known chromosome:GRCh37:16:61555:64090:1 gene:ENSG00000233614 // chr1 // 100 // 80 // 16 // 16 // 0 /// ENST00000456328 // ENSEMBL // cdna:known chromosome:GRCh37:1:11869:14409:1 gene:ENSG00000223972 // chr1 // 100 // 80 // 16 // 16 // 0 /// ENST00000518655 // ENSEMBL // cdna:known chromosome:GRCh37:1:11869:14409:1 gene:ENSG00000253101 // chr1 // 100 // 80 // 16 // 16 // 0', 'DQ786314 // GenBank // Homo sapiens clone HLS_IMAGE_811138 mRNA sequence. // chr1 // 100 // 38 // 3 // 3 // 0', '---', '---', 'DQ786265 // GenBank // Homo sapiens clone HLS_IMAGE_298685 mRNA sequence. // chr1 // 100 // 100 // 4 // 4 // 0'], 'category': ['main', 'main', '---', '---', 'main']}\n"
     ]
    }
   ],
   "source": [
    "# 1. Use the 'get_gene_annotation' function from the library to get gene annotation data from the soft file.\n",
    "gene_annotation = get_gene_annotation(soft_file)\n",
    "\n",
    "# 2. Use the 'preview_df' function from the library to preview the data and print out the results.\n",
    "print(\"Gene annotation preview:\")\n",
    "print(preview_df(gene_annotation))\n"
   ]
  },
  {
   "cell_type": "markdown",
   "id": "05254e3f",
   "metadata": {},
   "source": [
    "### Step 6: Gene Identifier Mapping"
   ]
  },
  {
   "cell_type": "code",
   "execution_count": 7,
   "id": "ac5962cf",
   "metadata": {
    "execution": {
     "iopub.execute_input": "2024-06-12T07:15:18.101709Z",
     "iopub.status.busy": "2024-06-12T07:15:18.101574Z",
     "iopub.status.idle": "2024-06-12T07:15:20.854898Z",
     "shell.execute_reply": "2024-06-12T07:15:20.854478Z"
    }
   },
   "outputs": [],
   "source": [
    "# 1. Map keys for identifiers and gene symbols in gene annotations\n",
    "identifier_key = 'ID'\n",
    "gene_symbol_key = 'gene_assignment'\n",
    "\n",
    "# 2. Get the dataframe storing the mapping between probe IDs and genes \n",
    "gene_mapping = get_gene_mapping(gene_annotation, identifier_key, gene_symbol_key)\n",
    "\n",
    "# 3. Apply the mapping and obtain the gene expression dataframe\n",
    "gene_data = apply_gene_mapping(gene_data, gene_mapping)\n"
   ]
  }
 ],
 "metadata": {
  "language_info": {
   "codemirror_mode": {
    "name": "ipython",
    "version": 3
   },
   "file_extension": ".py",
   "mimetype": "text/x-python",
   "name": "python",
   "nbconvert_exporter": "python",
   "pygments_lexer": "ipython3",
   "version": "3.8.17"
  }
 },
 "nbformat": 4,
 "nbformat_minor": 5
}
