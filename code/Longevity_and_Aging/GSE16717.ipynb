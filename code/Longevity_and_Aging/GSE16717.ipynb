{
 "cells": [
  {
   "cell_type": "code",
   "execution_count": 1,
   "id": "07e9f7ba",
   "metadata": {
    "execution": {
     "iopub.execute_input": "2024-06-12T07:15:23.066316Z",
     "iopub.status.busy": "2024-06-12T07:15:23.065937Z",
     "iopub.status.idle": "2024-06-12T07:15:23.072309Z",
     "shell.execute_reply": "2024-06-12T07:15:23.072031Z"
    }
   },
   "outputs": [],
   "source": [
    "\n",
    "import sys\n",
    "sys.path.append('/home/techt/Desktop/a4s')\n"
   ]
  },
  {
   "cell_type": "markdown",
   "id": "cb144a4e",
   "metadata": {},
   "source": [
    "### Step 1: Initial Data Loading"
   ]
  },
  {
   "cell_type": "code",
   "execution_count": 2,
   "id": "8e8cd899",
   "metadata": {
    "execution": {
     "iopub.execute_input": "2024-06-12T07:15:23.073775Z",
     "iopub.status.busy": "2024-06-12T07:15:23.073646Z",
     "iopub.status.idle": "2024-06-12T07:15:23.736861Z",
     "shell.execute_reply": "2024-06-12T07:15:23.736473Z"
    }
   },
   "outputs": [
    {
     "name": "stdout",
     "output_type": "stream",
     "text": [
      "Background Information:\n",
      "!Series_title\t\"Gene expression profiles in the Leiden Longevity Study\"\n",
      "!Series_summary\t\"Biomarkers of familial longevity may represent mechanisms underlying healthy aging. To identify gene expression profiles marking human familial longevity, an explorative genome-wide expression study was performed among 50 families from the Leiden Longevity Study who have a life-long survival advantage of 30%.  Gene expression profiles were compared between 50 nonagenarians (mean age 93.4 years) and 50 controls (mean age 61.9 years) to investigate differential gene expression that may arise as a function of both chronological age and familial longevity. Differential expression was observed for 2953 probes (FDR≤0.05) and for 109 GO terms, which corresponded well with previously reported findings on gene expression changes associated with chronological age, such as ‘immune response’, ‘signal transduction’ and ‘regulation of gene transcription’. To explore which of the 2953 chronological age-related probes also marked familial longevity, we compared gene expression profiles of 50 offspring of the nonagenarians (mean age 60.8 years) with the same 50 controls. Since the average gene expression levels did not differ between offspring and controls, we tested for differential expression as a function of age (age range 43-79 years). We identified 360 probes (FDR≤0.1) and the ‘Rho protein signal transduction’ GO biological process (FWER = 0.079) whose expression signatures marked familial longevity already at middle-age. Of these probes, 236 were annotated and represent 244 known genes, including WRN and MYC. Interestingly, 51 genes are involved in the regulation of gene expression. Further investigation into the genes involved may be important for unraveling mechanisms underlying longevity.\"\n",
      "!Series_overall_design\t\"From the Leiden Longevity Study 50 long-lived siblings, 50 of their offspring and 50 partners thereof were analysed in this study. From one individual per group two technical replicates were included in the measurement, but left out in the analysis.\"\n",
      "Sample Characteristics Dictionary:\n",
      "{0: ['group: long-lived sib', 'group: control', 'group: offspring'], 1: ['gender: female', 'gender: male'], 2: ['age: 91.53 years', 'age: 56.1 years', 'age: 91.52 years', 'age: 52.83 years', 'age: 64.11 years', 'age: 64.27 years', 'age: 59.75 years', 'age: 93.4 years', 'age: 61.47 years', 'age: 93.19 years', 'age: 90.79 years', 'age: 53.4 years', 'age: 96.75 years', 'age: 101.16 years', 'age: 98.26 years', 'age: 54.37 years', 'age: 58.01 years', 'age: 59.93 years', 'age: 60.73 years', 'age: 92.76 years', 'age: 62.88 years', 'age: 69.31 years', 'age: 90.22 years', 'age: 89.52 years', 'age: 63.1 years', 'age: 56.93 years', 'age: 91.74 years', 'age: 90.37 years', 'age: 94.33 years', 'age: 60.31 years'], 3: ['family: Family 118', 'family: Family 142', 'family: Family 129', 'family: Family 008', 'family: Family 136', 'family: Family 181', 'family: Family 085', 'family: Family 108', 'family: Family 188', 'family: Family 056', 'family: Family 025', 'family: Family 123', 'family: Family 380', 'family: Family 189', 'family: Family 228', 'family: Family 196', 'family: Family 171', 'family: Family 066', 'family: Family 257', 'family: Family 305', 'family: Family 063', 'family: Family 014', 'family: Family 371', 'family: Family 156', 'family: Family 049', 'family: Family 264', 'family: Family 420', 'family: Family 016', 'family: Family 295', 'family: Family 291'], 4: ['hybridization day: Day 01', 'hybridization day: Day 02', 'hybridization day: Day 03', 'hybridization day: Day 06', 'hybridization day: Day 04', 'hybridization day: Day 05', 'hybridization day: Day 07', 'hybridization day: Day 08', 'hybridization day: Day 09', 'hybridization day: Day 10', 'hybridization day: Day 11', 'hybridization day: Day 12', 'hybridization day: Day 13', 'hybridization day: Day 14']}\n"
     ]
    }
   ],
   "source": [
    "from utils.preprocess import *\n",
    "# 1. Identify the paths to the soft file and the matrix file\n",
    "cohort_dir = '/media/techt/DATA/GEO/Longevity_and_Aging/GSE16717'\n",
    "soft_file, matrix_file = geo_get_relevant_filepaths(cohort_dir)\n",
    "\n",
    "# 2. Read the matrix file to obtain background information and sample characteristics data\n",
    "background_prefixes = ['!Series_title', '!Series_summary', '!Series_overall_design']\n",
    "clinical_prefixes = ['!Sample_geo_accession', '!Sample_characteristics_ch1']\n",
    "background_info, clinical_data = get_background_and_clinical_data(matrix_file, background_prefixes, clinical_prefixes)\n",
    "\n",
    "# 3. Obtain the sample characteristics dictionary from the clinical dataframe\n",
    "sample_characteristics_dict = get_unique_values_by_row(clinical_data)\n",
    "\n",
    "# 4. Explicitly print out all the background information and the sample characteristics dictionary\n",
    "print(\"Background Information:\")\n",
    "print(background_info)\n",
    "print(\"Sample Characteristics Dictionary:\")\n",
    "print(sample_characteristics_dict)\n"
   ]
  },
  {
   "cell_type": "markdown",
   "id": "d984ea72",
   "metadata": {},
   "source": [
    "### Step 2: Dataset Analysis and Clinical Feature Extraction"
   ]
  },
  {
   "cell_type": "code",
   "execution_count": 3,
   "id": "c3081d25",
   "metadata": {
    "execution": {
     "iopub.execute_input": "2024-06-12T07:15:23.738638Z",
     "iopub.status.busy": "2024-06-12T07:15:23.738501Z",
     "iopub.status.idle": "2024-06-12T07:15:23.770894Z",
     "shell.execute_reply": "2024-06-12T07:15:23.770459Z"
    }
   },
   "outputs": [
    {
     "name": "stdout",
     "output_type": "stream",
     "text": [
      "{'GSM418770': [1.0, 91.53, 0.0], 'GSM418771': [0.0, 56.1, 0.0], 'GSM418772': [1.0, 91.52, 1.0], 'GSM418773': [0.0, 52.83, 1.0], 'GSM418774': [0.0, 64.11, 0.0], 'GSM418775': [0.0, 64.27, 1.0], 'GSM418776': [0.0, 59.75, 1.0], 'GSM418777': [1.0, 93.4, 0.0], 'GSM418778': [0.0, 61.47, 1.0], 'GSM418779': [1.0, 93.19, 1.0], 'GSM418780': [1.0, 90.79, 1.0], 'GSM418781': [0.0, 53.4, 0.0], 'GSM418782': [1.0, 96.75, 0.0], 'GSM418783': [1.0, 101.16, 0.0], 'GSM418784': [1.0, 98.26, 0.0], 'GSM418785': [0.0, 54.37, 0.0], 'GSM418786': [0.0, 58.01, 0.0], 'GSM418787': [0.0, 59.93, 0.0], 'GSM418788': [0.0, 60.73, 1.0], 'GSM418789': [1.0, 92.76, 0.0], 'GSM418790': [0.0, 62.88, 0.0], 'GSM418791': [0.0, 69.31, 1.0], 'GSM418792': [1.0, 90.22, 1.0], 'GSM418793': [1.0, 89.52, 1.0], 'GSM418794': [0.0, 63.1, 1.0], 'GSM418795': [0.0, 56.93, 0.0], 'GSM418796': [1.0, 91.74, 1.0], 'GSM418797': [1.0, 90.37, 1.0], 'GSM418798': [1.0, 94.33, 0.0], 'GSM418799': [0.0, 60.31, 0.0], 'GSM418800': [0.0, 64.62, 1.0], 'GSM418801': [0.0, 63.11, 1.0], 'GSM418802': [1.0, 89.71, 1.0], 'GSM418803': [0.0, 64.89, 1.0], 'GSM418804': [0.0, 63.67, 0.0], 'GSM418805': [0.0, 54.95, 0.0], 'GSM418806': [1.0, 92.67, 1.0], 'GSM418807': [1.0, 99.16, 1.0], 'GSM418808': [1.0, 93.68, 0.0], 'GSM418809': [1.0, 96.05, 1.0], 'GSM418810': [0.0, 66.0, 1.0], 'GSM418811': [0.0, 56.27, 0.0], 'GSM418812': [0.0, 64.13, 0.0], 'GSM418813': [0.0, 70.11, 0.0], 'GSM418814': [0.0, 59.02, 1.0], 'GSM418815': [0.0, 61.53, 0.0], 'GSM418816': [1.0, 91.97, 0.0], 'GSM418817': [0.0, 56.82, 0.0], 'GSM418818': [0.0, 72.25, 1.0], 'GSM418819': [0.0, 68.44, 1.0], 'GSM418820': [1.0, 91.4, 1.0], 'GSM418821': [0.0, 60.29, 1.0], 'GSM418822': [0.0, 62.53, 0.0], 'GSM418823': [0.0, 58.41, 1.0], 'GSM418824': [0.0, 73.6, 1.0], 'GSM418825': [0.0, 60.54, 0.0], 'GSM418826': [0.0, 54.97, 1.0], 'GSM418827': [0.0, 59.56, 0.0], 'GSM418828': [0.0, 56.17, 1.0], 'GSM418829': [1.0, 102.19, 1.0], 'GSM418830': [0.0, 62.37, 1.0], 'GSM418831': [0.0, 61.05, 0.0], 'GSM418832': [1.0, 98.52, 0.0], 'GSM418833': [0.0, 60.87, 0.0], 'GSM418834': [0.0, 55.78, 1.0], 'GSM418835': [0.0, 61.08, 1.0], 'GSM418836': [0.0, 68.5, 0.0], 'GSM418837': [1.0, 92.81, 0.0], 'GSM418838': [0.0, 61.53, 0.0], 'GSM418839': [0.0, 73.41, 0.0], 'GSM418840': [0.0, 57.54, 0.0], 'GSM418841': [0.0, 62.65, 0.0], 'GSM418842': [0.0, 62.43, 1.0], 'GSM418843': [0.0, 65.57, 1.0], 'GSM418844': [0.0, 62.08, 1.0], 'GSM418845': [1.0, 90.09, 1.0], 'GSM418846': [0.0, 70.46, 0.0], 'GSM418847': [0.0, 61.76, 0.0], 'GSM418848': [0.0, 62.41, 0.0], 'GSM418849': [1.0, 91.93, 1.0], 'GSM418850': [1.0, 92.03, 0.0], 'GSM418851': [1.0, 94.43, 1.0], 'GSM418852': [0.0, 65.11, 0.0], 'GSM418853': [0.0, 61.12, 0.0], 'GSM418854': [0.0, 60.49, 0.0], 'GSM418855': [0.0, 63.98, 1.0], 'GSM418856': [1.0, 91.16, 1.0], 'GSM418857': [0.0, 61.48, 1.0], 'GSM418858': [0.0, 60.41, 0.0], 'GSM418859': [0.0, 58.71, 0.0], 'GSM418860': [0.0, 66.98, 1.0], 'GSM418861': [0.0, 54.25, 0.0], 'GSM418862': [1.0, 92.33, 0.0], 'GSM418863': [0.0, 71.32, 1.0], 'GSM418864': [0.0, 65.17, 0.0], 'GSM418865': [0.0, 58.7, 0.0], 'GSM418866': [1.0, 97.88, 0.0], 'GSM418867': [0.0, 61.78, 1.0], 'GSM418868': [0.0, 65.25, 0.0], 'GSM418869': [1.0, 90.81, 1.0], 'GSM418870': [0.0, 51.88, 0.0], 'GSM418871': [1.0, 91.43, 0.0], 'GSM418872': [0.0, 61.19, 1.0], 'GSM418873': [1.0, 92.21, 0.0], 'GSM418874': [1.0, 91.72, 0.0], 'GSM418875': [1.0, 96.03, 0.0], 'GSM418876': [0.0, 49.7, 0.0], 'GSM418877': [0.0, 61.85, 0.0], 'GSM418878': [0.0, 47.67, 0.0], 'GSM418879': [1.0, 93.93, 0.0], 'GSM418880': [0.0, 72.33, 1.0], 'GSM418881': [0.0, 57.8, 1.0], 'GSM418882': [1.0, 93.34, 0.0], 'GSM418883': [0.0, 54.78, 0.0], 'GSM418884': [0.0, 74.83, 0.0], 'GSM418885': [1.0, 92.5, 1.0], 'GSM418886': [0.0, 69.37, 0.0], 'GSM418887': [1.0, 92.18, 0.0], 'GSM418888': [0.0, 57.36, 0.0], 'GSM418889': [0.0, 60.84, 0.0], 'GSM418890': [0.0, 55.94, 0.0], 'GSM418891': [0.0, 58.43, 1.0], 'GSM418892': [1.0, 89.91, 1.0], 'GSM418893': [0.0, 78.76, 1.0], 'GSM418894': [1.0, 91.26, 1.0], 'GSM418895': [1.0, 89.27, 1.0], 'GSM418896': [0.0, 63.7, 1.0], 'GSM418897': [0.0, 57.46, 1.0], 'GSM418898': [1.0, 94.03, 1.0], 'GSM418899': [0.0, 61.78, 1.0], 'GSM418900': [0.0, 59.25, 0.0], 'GSM418901': [0.0, 62.86, 1.0], 'GSM418902': [0.0, 64.32, 1.0], 'GSM418903': [0.0, 66.12, 1.0], 'GSM418904': [1.0, 96.16, 1.0], 'GSM418905': [0.0, 51.48, 1.0], 'GSM418906': [0.0, 56.53, 0.0], 'GSM418907': [0.0, 48.6, 1.0], 'GSM418908': [1.0, 95.3, 0.0], 'GSM418909': [0.0, 66.62, 1.0], 'GSM418910': [0.0, 66.29, 1.0], 'GSM418911': [0.0, 43.71, 0.0], 'GSM418912': [0.0, 42.79, 1.0], 'GSM418913': [1.0, 91.62, 1.0], 'GSM418914': [0.0, 63.92, 1.0], 'GSM418915': [1.0, 97.14, 0.0], 'GSM418916': [0.0, 66.85, 1.0], 'GSM418917': [0.0, 68.17, 1.0], 'GSM418918': [1.0, 92.69, 0.0], 'GSM418919': [1.0, 94.95, 1.0]}\n"
     ]
    }
   ],
   "source": [
    "is_gene_available = False\n",
    "trait_row = age_row = gender_row = None  # set to different values when applicable\n",
    "convert_trait = convert_age = convert_gender = None  # define the functions when applicable\n",
    "\n",
    "# Check if gene expression data is available\n",
    "is_gene_available = True  # based on the series summary description of gene expression profiles\n",
    "\n",
    "# Determine the availability and keys for required variables\n",
    "sample_characteristics = {0: ['group: long-lived sib', 'group: control', 'group: offspring'], \n",
    "                          1: ['gender: female', 'gender: male'], \n",
    "                          2: ['age: 91.53 years', 'age: 56.1 years', 'age: 91.52 years', 'age: 52.83 years', \n",
    "                              'age: 64.11 years', 'age: 64.27 years', 'age: 59.75 years', 'age: 93.4 years', \n",
    "                              'age: 61.47 years', 'age: 93.19 years', 'age: 90.79 years', 'age: 53.4 years', \n",
    "                              'age: 96.75 years', 'age: 101.16 years', 'age: 98.26 years', 'age: 54.37 years', \n",
    "                              'age: 58.01 years', 'age: 59.93 years', 'age: 60.73 years', 'age: 92.76 years', \n",
    "                              'age: 62.88 years', 'age: 69.31 years', 'age: 90.22 years', 'age: 89.52 years', \n",
    "                              'age: 63.1 years', 'age: 56.93 years', 'age: 91.74 years', 'age: 90.37 years', \n",
    "                              'age: 94.33 years', 'age: 60.31 years'], \n",
    "                          3: ['family: Family 118', 'family: Family 142', 'family: Family 129', 'family: Family 008', \n",
    "                              'family: Family 136', 'family: Family 181', 'family: Family 085', 'family: Family 108', \n",
    "                              'family: Family 188', 'family: Family 056', 'family: Family 025', 'family: Family 123', \n",
    "                              'family: Family 380', 'family: Family 189', 'family: Family 228', 'family: Family 196', \n",
    "                              'family: Family 171', 'family: Family 066', 'family: Family 257', 'family: Family 305', \n",
    "                              'family: Family 063', 'family: Family 014', 'family: Family 371', 'family: Family 156', \n",
    "                              'family: Family 049', 'family: Family 264', 'family: Family 420', 'family: Family 016', \n",
    "                              'family: Family 295', 'family: Family 291'], \n",
    "                          4: ['hybridization day: Day 01', 'hybridization day: Day 02', 'hybridization day: Day 03', \n",
    "                              'hybridization day: Day 06', 'hybridization day: Day 04', 'hybridization day: Day 05', \n",
    "                              'hybridization day: Day 07', 'hybridization day: Day 08', 'hybridization day: Day 09', \n",
    "                              'hybridization day: Day 10', 'hybridization day: Day 11', 'hybridization day: Day 12', \n",
    "                              'hybridization day: Day 13', 'hybridization day: Day 14']}\n",
    "\n",
    "# Longevity trait information\n",
    "trait_row = 0  # as inferred from 'group: long-lived sib', 'group: control', 'group: offspring'\n",
    "\n",
    "# Age information\n",
    "age_row = 2  # as inferred from the age-related values listed\n",
    "\n",
    "# Gender information\n",
    "gender_row = 1  # as inferred from 'gender: female', 'gender: male'\n",
    "\n",
    "# Functions for data type conversion\n",
    "def convert_trait(value):\n",
    "    if 'group: long-lived sib' in value:\n",
    "        return 1\n",
    "    elif 'group: control' in value or 'group: offspring' in value:\n",
    "        return 0\n",
    "    return None\n",
    "\n",
    "def convert_age(value):\n",
    "    try:\n",
    "        return float(value.split(': ')[1].split()[0])\n",
    "    except ValueError:\n",
    "        return None\n",
    "\n",
    "def convert_gender(value):\n",
    "    if 'gender: female' in value:\n",
    "        return 0\n",
    "    elif 'gender: male' in value:\n",
    "        return 1\n",
    "    return None\n",
    "\n",
    "# Save cohort information\n",
    "save_cohort_info('GSE16717', './preprocessed/Longevity_and_Aging/cohort_info.json', is_gene_available, trait_row is not None)\n",
    "\n",
    "# Clinical feature extraction if trait_row is not None\n",
    "if trait_row is not None:\n",
    "    selected_clinical_data = geo_select_clinical_features(clinical_data, 'Longevity_and_Aging', trait_row, convert_trait, age_row, convert_age, gender_row, convert_gender)\n",
    "    csv_path = './preprocessed/Longevity_and_Aging/trait_data/GSE16717.csv'\n",
    "    selected_clinical_data.to_csv(csv_path)\n",
    "    print(preview_df(selected_clinical_data))\n"
   ]
  },
  {
   "cell_type": "markdown",
   "id": "75af4256",
   "metadata": {},
   "source": [
    "### Step 3: Gene Data Extraction"
   ]
  },
  {
   "cell_type": "code",
   "execution_count": 4,
   "id": "297983c5",
   "metadata": {
    "execution": {
     "iopub.execute_input": "2024-06-12T07:15:23.772478Z",
     "iopub.status.busy": "2024-06-12T07:15:23.772350Z",
     "iopub.status.idle": "2024-06-12T07:15:24.659038Z",
     "shell.execute_reply": "2024-06-12T07:15:24.658649Z"
    }
   },
   "outputs": [
    {
     "name": "stdout",
     "output_type": "stream",
     "text": [
      "Index(['1005', '1006', '1007', '1010', '1011', '1014', '1023', '1027', '1028',\n",
      "       '1048', '1054', '1059', '1061', '1065', '1072', '1073', '1074', '1076',\n",
      "       '1079', '1080'],\n",
      "      dtype='object', name='ID')\n"
     ]
    }
   ],
   "source": [
    "# 1. Use the get_genetic_data function from the library to get the gene_data from the matrix_file previously defined.\n",
    "gene_data = get_genetic_data(matrix_file)\n",
    "\n",
    "# 2. Print the first 20 row ids for the following step.\n",
    "print(gene_data.index[:20])\n"
   ]
  },
  {
   "cell_type": "markdown",
   "id": "73be2361",
   "metadata": {},
   "source": [
    "### Step 4: Gene Identifier Review"
   ]
  },
  {
   "cell_type": "code",
   "execution_count": 5,
   "id": "f5a57033",
   "metadata": {
    "execution": {
     "iopub.execute_input": "2024-06-12T07:15:24.660681Z",
     "iopub.status.busy": "2024-06-12T07:15:24.660574Z",
     "iopub.status.idle": "2024-06-12T07:15:24.662575Z",
     "shell.execute_reply": "2024-06-12T07:15:24.662288Z"
    }
   },
   "outputs": [],
   "source": [
    "requires_gene_mapping = True\n"
   ]
  },
  {
   "cell_type": "markdown",
   "id": "0cfc5ae0",
   "metadata": {},
   "source": [
    "### Step 5: Gene Annotation (Conditional)"
   ]
  },
  {
   "cell_type": "code",
   "execution_count": 6,
   "id": "c22ff49b",
   "metadata": {
    "execution": {
     "iopub.execute_input": "2024-06-12T07:15:24.664058Z",
     "iopub.status.busy": "2024-06-12T07:15:24.663957Z",
     "iopub.status.idle": "2024-06-12T07:15:36.737369Z",
     "shell.execute_reply": "2024-06-12T07:15:36.736884Z"
    }
   },
   "outputs": [
    {
     "name": "stdout",
     "output_type": "stream",
     "text": [
      "Gene annotation preview:\n",
      "{'ID': ['1001', '1002', '1003', '1004', '1005'], 'LOGICAL_ROW': ['1', '1', '1', '1', '1'], 'LOGICAL_COL': [1.0, 2.0, 3.0, 4.0, 5.0], 'PROBE_NAME': ['GE200017', 'GE766244', 'GE766859', 'GE519376', 'GE519777'], 'PROBE_TYPE': ['FIDUCIAL', 'DISCOVERY', 'DISCOVERY', 'DISCOVERY', 'DISCOVERY'], 'PUB_PROBE_TARGETS': ['CONTROL', 'SINGLE', 'SINGLE', 'SINGLE', 'SINGLE'], 'SPOT_ID': ['-- FID CTRL: PCTRL17', nan, nan, '-- NP DISC: INCYTE UNIQUE', nan], 'GB_LIST': [nan, 'XM_293099.2', 'BF588963.1', nan, 'BE550764.1'], 'GI_LIST': [nan, '30157495', '11681287', nan, '9792456']}\n"
     ]
    }
   ],
   "source": [
    "# 1. Use the 'get_gene_annotation' function from the library to get gene annotation data from the soft file.\n",
    "gene_annotation = get_gene_annotation(soft_file)\n",
    "\n",
    "# 2. Use the 'preview_df' function from the library to preview the data and print out the results.\n",
    "print(\"Gene annotation preview:\")\n",
    "print(preview_df(gene_annotation))\n"
   ]
  },
  {
   "cell_type": "markdown",
   "id": "cffa36f2",
   "metadata": {},
   "source": [
    "### Step 6: Gene Identifier Mapping"
   ]
  },
  {
   "cell_type": "code",
   "execution_count": 7,
   "id": "625aaa63",
   "metadata": {
    "execution": {
     "iopub.execute_input": "2024-06-12T07:15:36.739247Z",
     "iopub.status.busy": "2024-06-12T07:15:36.739097Z",
     "iopub.status.idle": "2024-06-12T07:15:37.419617Z",
     "shell.execute_reply": "2024-06-12T07:15:37.419201Z"
    }
   },
   "outputs": [],
   "source": [
    "# 1. When analyzing a gene expression dataset, we need to map some identifiers of genes to actual gene symbols.\n",
    "identifier_key = 'ID'\n",
    "gene_symbol_key = 'GB_LIST'\n",
    "\n",
    "# 2. Get the dataframe storing the mapping between probe IDs and genes using the 'get_gene_mapping' function from the library.\n",
    "gene_mapping = get_gene_mapping(gene_annotation, identifier_key, gene_symbol_key)\n",
    "\n",
    "# 3. Apply the mapping with the 'apply_gene_mapping' function from the library, and name the resulting gene expression dataframe \"gene_data\".\n",
    "gene_data = apply_gene_mapping(gene_data, gene_mapping)\n"
   ]
  },
  {
   "cell_type": "markdown",
   "id": "4b57379a",
   "metadata": {},
   "source": [
    "### Step 7: Data Normalization and Merging"
   ]
  },
  {
   "cell_type": "code",
   "execution_count": 8,
   "id": "b4117231",
   "metadata": {
    "execution": {
     "iopub.execute_input": "2024-06-12T07:15:37.421783Z",
     "iopub.status.busy": "2024-06-12T07:15:37.421648Z",
     "iopub.status.idle": "2024-06-12T07:17:00.237515Z",
     "shell.execute_reply": "2024-06-12T07:17:00.236894Z"
    }
   },
   "outputs": [
    {
     "name": "stdout",
     "output_type": "stream",
     "text": [
      "No gene data in the dataframe\n"
     ]
    }
   ],
   "source": [
    "# 1. Normalize the obtained gene data with the 'normalize_gene_symbols_in_index' function from the library.\n",
    "normalized_gene_data = normalize_gene_symbols_in_index(gene_data)\n",
    "gene_csv_path = './preprocessed/Longevity_and_Aging/gene_data/GSE16717.csv'\n",
    "normalized_gene_data.to_csv(gene_csv_path)\n",
    "\n",
    "# 2. Merge the clinical and genetic data with the 'geo_merge_clinical_genetic_data' function from the library.\n",
    "merged_data = geo_merge_clinical_genetic_data(selected_clinical_data, normalized_gene_data)\n",
    "\n",
    "# 3. Determine whether the trait and some demographic attributes in the data is severely biased and remove biased attributes.\n",
    "trait_biased, unbiased_merged_data = judge_and_remove_biased_features(merged_data, 'Longevity_and_Aging')\n",
    "\n",
    "# 4. Save the cohort information.\n",
    "save_cohort_info('GSE16717', './preprocessed/Longevity_and_Aging/cohort_info.json', True, True, trait_biased, merged_data)\n",
    "\n",
    "# 5. If the trait is not severely biased, save the merged data to a csv file.\n",
    "if not trait_biased:\n",
    "    csv_path = './preprocessed/Longevity_and_Aging/GSE16717.csv'\n",
    "    unbiased_merged_data.to_csv(csv_path)\n"
   ]
  }
 ],
 "metadata": {
  "language_info": {
   "codemirror_mode": {
    "name": "ipython",
    "version": 3
   },
   "file_extension": ".py",
   "mimetype": "text/x-python",
   "name": "python",
   "nbconvert_exporter": "python",
   "pygments_lexer": "ipython3",
   "version": "3.8.17"
  }
 },
 "nbformat": 4,
 "nbformat_minor": 5
}
