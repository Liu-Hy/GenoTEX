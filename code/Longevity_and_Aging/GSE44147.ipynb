{
 "cells": [
  {
   "cell_type": "code",
   "execution_count": 1,
   "id": "62e86a6d",
   "metadata": {
    "execution": {
     "iopub.execute_input": "2024-06-12T07:15:21.903954Z",
     "iopub.status.busy": "2024-06-12T07:15:21.903795Z",
     "iopub.status.idle": "2024-06-12T07:15:21.909253Z",
     "shell.execute_reply": "2024-06-12T07:15:21.908840Z"
    }
   },
   "outputs": [],
   "source": [
    "\n",
    "import sys\n",
    "sys.path.append('/home/techt/Desktop/a4s')\n"
   ]
  },
  {
   "cell_type": "markdown",
   "id": "7134e79e",
   "metadata": {},
   "source": [
    "### Step 1: Initial Data Loading"
   ]
  },
  {
   "cell_type": "code",
   "execution_count": 2,
   "id": "73716dbc",
   "metadata": {
    "execution": {
     "iopub.execute_input": "2024-06-12T07:15:21.911055Z",
     "iopub.status.busy": "2024-06-12T07:15:21.910622Z",
     "iopub.status.idle": "2024-06-12T07:15:22.209260Z",
     "shell.execute_reply": "2024-06-12T07:15:22.208869Z"
    }
   },
   "outputs": [
    {
     "name": "stdout",
     "output_type": "stream",
     "text": [
      "Background Information:\n",
      "!Series_title\t\"Transcriptomic effects of caloric restriction reflected in primate difference\"\n",
      "!Series_summary\t\"Caloric restriction (CR) can delay morbidity and mortality in a broad range of species, including mice and macaques. Mutations and chemical agents, such as resveratrol or rapamycin that partly mimic the CR effect, can similarly increase survival or extend lifespan. In humans, however, the effects of CR or other life-extending agents have not been investigated systematically. Humans already display lower mortality and greater maximal lifespan compared to closely related species, including chimpanzees and macaques. It is thus possible that humans, during their evolution, have acquired genetic mutations mimicking the CR effect. To address this question, we compared transcriptome differences between humans and other primates, with transcriptome changes observed in mice subjected to CR [see references below]. We show that the human transcriptome state examined in multiple tissues and across different ages resembles the transcriptome state of mice fed ad libitum, relative to CR mice or mice treated with resveratrol. Furthermore, transcriptome changes induced by CR were enriched among genes showing age-related changes among primates, concentrated in specific expression patterns, and could be linked with specific functional pathways, including insulin signalling, cancer, and immune response. These findings indicate that the evolution of human longevity was likely independent of CR-induced lifespan extension mechanisms. Consequently, application of CR or CR-mimicking agents may offer a promising direction in the extension of healthy human lifespan.\"\n",
      "!Series_summary\t\"\"\n",
      "!Series_summary\t\"References for the transcriptome changes observed in mice subjected to CR:\"\n",
      "!Series_summary\t\"1)  Barger JL, Kayo T, Vann JM, Arias EB, Wang J, Hacker TA, Wang Y, Raederstorff D, Morrow JD, Leeuwenburgh C, et al: A low dose of dietary resveratrol partially mimics caloric restriction and retards aging parameters in mice. PLoS One 2008, 3:e2264.\"\n",
      "!Series_summary\t\"2)  Tsuchiya T, Dhahbi JM, Cui X, Mote PL, Bartke A, Spindler SR: Additive regulation of hepatic gene expression by dwarfism and caloric restriction. Physiol Genomics 2004, 17:307-315.\"\n",
      "!Series_summary\t\"3)  Baur JA, Pearson KJ, Price NL, Jamieson HA, Lerin C, Kalra A, Prabhu VV, Allard JS, Lopez-Lluch G, Lewis K, et al: Resveratrol improves health and survival of mice on a high-calorie diet. Nature 2006, 444:337-342.\"\n",
      "!Series_overall_design\t\"We collected post-mortem brain, heart, and liver samples from 16 human, 16 chimpanzee and 4 rhesus macaque seperately. All these individuals are adults. RNA extracted from the dissected tissue was hybridized to Affymetrix® Human Gene 1.0 ST arrays to quantify gene expression level.\"\n",
      "!Series_overall_design\t\"We collected prefrontal cortex tissues of mice with age ranging from postnatal 2 days to 2.5 years. The strain of the mice is C57BL/6. RNA extracted from the dissected tissue was hybridized to Affymetrix® Mouse Gene 1.0 ST Arrays to quantify gene expression level.\"\n",
      "Sample Characteristics Dictionary:\n",
      "{0: ['tissue: superior frontal gyrus of the brain', 'tissue: heart', 'tissue: liver']}\n"
     ]
    }
   ],
   "source": [
    "from utils.preprocess import *\n",
    "# 1. Identify the paths to the soft file and the matrix file\n",
    "cohort_dir = '/media/techt/DATA/GEO/Longevity_and_Aging/GSE44147'\n",
    "soft_file, matrix_file = geo_get_relevant_filepaths(cohort_dir)\n",
    "\n",
    "# 2. Read the matrix file to obtain background information and sample characteristics data\n",
    "background_prefixes = ['!Series_title', '!Series_summary', '!Series_overall_design']\n",
    "clinical_prefixes = ['!Sample_geo_accession', '!Sample_characteristics_ch1']\n",
    "background_info, clinical_data = get_background_and_clinical_data(matrix_file, background_prefixes, clinical_prefixes)\n",
    "\n",
    "# 3. Obtain the sample characteristics dictionary from the clinical dataframe\n",
    "sample_characteristics_dict = get_unique_values_by_row(clinical_data)\n",
    "\n",
    "# 4. Explicitly print out all the background information and the sample characteristics dictionary\n",
    "print(\"Background Information:\")\n",
    "print(background_info)\n",
    "print(\"Sample Characteristics Dictionary:\")\n",
    "print(sample_characteristics_dict)\n"
   ]
  },
  {
   "cell_type": "markdown",
   "id": "0e5e0eda",
   "metadata": {},
   "source": [
    "### Step 2: Dataset Analysis and Clinical Feature Extraction"
   ]
  },
  {
   "cell_type": "code",
   "execution_count": 3,
   "id": "985febee",
   "metadata": {
    "execution": {
     "iopub.execute_input": "2024-06-12T07:15:22.210643Z",
     "iopub.status.busy": "2024-06-12T07:15:22.210530Z",
     "iopub.status.idle": "2024-06-12T07:15:22.215087Z",
     "shell.execute_reply": "2024-06-12T07:15:22.214794Z"
    }
   },
   "outputs": [],
   "source": [
    "is_gene_available = False\n",
    "trait_row = age_row = gender_row = None  # set to different values when applicable\n",
    "convert_trait = convert_age = convert_gender = None  # define the functions when applicable\n",
    "\n",
    "# Determine if the dataset contains gene expression data\n",
    "is_gene_available = True  # Based on the RNA hybridization to Affymetrix® Human Gene 1.0 ST arrays\n",
    "\n",
    "# Sample Characteristics Dictionary from Output of Step 1\n",
    "sample_characteristics_dict = {\n",
    "    0: ['strain: C57BL/6'], \n",
    "    1: ['tissue: prefrontal cortex of the brain'], \n",
    "    2: ['age: 2 days', 'age: 5 days', 'age: 11 days', 'age: 20 days', 'age: 32 days', 'age: 61 days', 'age: 122 days', 'age: 184 days', 'age: 365 days', 'age: 649 days', 'age: 904 days']\n",
    "}\n",
    "\n",
    "# Identify the rows where the variables are recorded\n",
    "for key, values in sample_characteristics_dict.items():\n",
    "    if all('age' in value for value in values):\n",
    "        age_row = key\n",
    "        break\n",
    "\n",
    "# No data related to 'Longevity_and_Aging' or 'gender' available in the dictionary\n",
    "trait_row = None\n",
    "gender_row = None\n",
    "\n",
    "# Define conversion functions\n",
    "def convert_age(value):\n",
    "    try:\n",
    "        return float(value.split(':')[-1].strip().split()[0])\n",
    "    except (ValueError, IndexError):\n",
    "        return None\n",
    "\n",
    "def convert_trait(value):\n",
    "    return None  # Placeholder as no trait data is found in current sample_characteristics_dict\n",
    "\n",
    "def convert_gender(value):\n",
    "    val = value.split(':')[-1].strip().lower()\n",
    "    if val == 'female':\n",
    "        return 0\n",
    "    elif val == 'male':\n",
    "        return 1\n",
    "    else:\n",
    "        return None\n",
    "\n",
    "# Save cohort information\n",
    "save_cohort_info('GSE44147', './preprocessed/Longevity_and_Aging/cohort_info.json', is_gene_available, trait_row is not None)\n",
    "\n",
    "# Clinical Feature Extraction (to be done only if we could find trait_row, which is None here)\n"
   ]
  }
 ],
 "metadata": {
  "language_info": {
   "codemirror_mode": {
    "name": "ipython",
    "version": 3
   },
   "file_extension": ".py",
   "mimetype": "text/x-python",
   "name": "python",
   "nbconvert_exporter": "python",
   "pygments_lexer": "ipython3",
   "version": "3.8.17"
  }
 },
 "nbformat": 4,
 "nbformat_minor": 5
}
