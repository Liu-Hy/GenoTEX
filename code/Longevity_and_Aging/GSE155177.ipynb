{
 "cells": [
  {
   "cell_type": "code",
   "execution_count": 1,
   "id": "3a9ad987",
   "metadata": {
    "execution": {
     "iopub.execute_input": "2024-06-12T07:15:11.675328Z",
     "iopub.status.busy": "2024-06-12T07:15:11.675225Z",
     "iopub.status.idle": "2024-06-12T07:15:11.679132Z",
     "shell.execute_reply": "2024-06-12T07:15:11.678830Z"
    }
   },
   "outputs": [],
   "source": [
    "\n",
    "import sys\n",
    "sys.path.append('/home/techt/Desktop/a4s')\n"
   ]
  },
  {
   "cell_type": "markdown",
   "id": "6f42a7cd",
   "metadata": {},
   "source": [
    "### Step 1: Initial Data Loading"
   ]
  },
  {
   "cell_type": "code",
   "execution_count": 2,
   "id": "8ff2f13c",
   "metadata": {
    "execution": {
     "iopub.execute_input": "2024-06-12T07:15:11.680848Z",
     "iopub.status.busy": "2024-06-12T07:15:11.680751Z",
     "iopub.status.idle": "2024-06-12T07:15:11.924063Z",
     "shell.execute_reply": "2024-06-12T07:15:11.923622Z"
    }
   },
   "outputs": [
    {
     "name": "stdout",
     "output_type": "stream",
     "text": [
      "Background Information:\n",
      "!Series_title\t\"IgG4-ROD and orbital MALT lymphoma\"\n",
      "!Series_summary\t\"The molecular pathogenesis of orbital lymphoproliferative disorders, such as immunoglobulin G4-related ophthalmic disease (IgG4-ROD) and orbital mucosa-associated lymphoid tissue (MALT) lymphoma, remains essentially unknown. Differentiation between the two disorders, which is important since work-up and treatment can vary greatly, is often challenging due to the lack of specific biomarkers. Although miRNAs play an important role in the regulation of carcinogenesis and inflammation, the relationship between miRNA and orbital lymphoproliferative diseases remains unknown. A comprehensive analysis of 2,565 miRNAs was performed in biopsied specimens and serum of 17 cases with IgG4-ROD and 21 cases with orbital MALT lymphoma. We identified specific miRNA signatures, their miRNA target pathways, and network analysis associated with IgG4-ROD and orbital MALT lymphoma. Machine-learning analysis identified miR-202-3p and miR-7112-3p as the best discriminators of IgG4-ROD and orbital MALT lymphoma, respectively. In the tissue pathway, Longevity regulating pathway in IgG4-ROD and MAPK signaling pathway in orbital MALT lymphoma were most enriched by downregulated miRNAs. This is the first evidence of the miRNA profile in biopsied specimens and serum of patients with IgG4-ROD and orbital MALT lymphoma. These data will be useful for developing diagnostic and therapeutic interventions, as well as elucidating of these disorders.\"\n",
      "!Series_overall_design\t\"A total of 14 biopsied specimen of patients with 6 IgG4 related ophthalmic disease (IgG4-ROD) and 8 orbital mucosa associated lymphoid tissue (MALT) lymphoma and a total of 35 serum of patients with 11 IgG4-ROD, 13 orbital MALT lymphoma and 11 healthy individual were characterized using the 3D-Gene® Human miRNA Oligo Chip (Toray Industries, Inc.).\"\n",
      "Sample Characteristics Dictionary:\n",
      "{0: ['diagnosis: IgG4 related ophthalmic disease', 'diagnosis: orbital MALT lymphoma', 'diagnosis: orbital MALT lympoma', 'diagnosis: healthy individual'], 1: ['tissue: biopsied specimen', 'tissue: serum'], 2: ['age: 75', 'age: 43', 'age: 73', 'age: 60', 'age: 86', 'age: 78', 'age: 67', 'age: 79', 'age: 85', 'age: 59', 'age: 69', 'age: 89', 'age: 62', 'age: 31', 'age: 77', 'age: 52', 'age: 46', 'age: 65', 'age: 88', 'age: 41', 'age: 80', 'age: 87', 'age: 84', 'age: 68', 'age: 76', 'age: 56', 'age: 57', 'age: 81', 'age: 38', 'age: 61'], 3: ['Sex: F', 'Sex: M'], 4: ['swollen eyelid: P', 'swollen eyelid: N'], 5: ['diplopia: N', 'diplopia: P'], 6: ['decrease of vision: N', 'decrease of vision: P'], 7: ['other organ lesion: submandibular\\xa0lymph nodes', 'other organ lesion: N', 'other organ lesion: abdomen\\xa0lymph\\xa0node', 'other organ lesion: parotid\\xa0gland', 'other organ lesion: submandibular\\xa0lymph nodes, bile duct dilation', 'other organ lesion: mediastinal\\xa0lymph\\xa0nodes']}\n"
     ]
    }
   ],
   "source": [
    "from utils.preprocess import *\n",
    "# 1. Identify the paths to the soft file and the matrix file\n",
    "cohort_dir = '/media/techt/DATA/GEO/Longevity_and_Aging/GSE155177'\n",
    "soft_file, matrix_file = geo_get_relevant_filepaths(cohort_dir)\n",
    "\n",
    "# 2. Read the matrix file to obtain background information and sample characteristics data\n",
    "background_prefixes = ['!Series_title', '!Series_summary', '!Series_overall_design']\n",
    "clinical_prefixes = ['!Sample_geo_accession', '!Sample_characteristics_ch1']\n",
    "background_info, clinical_data = get_background_and_clinical_data(matrix_file, background_prefixes, clinical_prefixes)\n",
    "\n",
    "# 3. Obtain the sample characteristics dictionary from the clinical dataframe\n",
    "sample_characteristics_dict = get_unique_values_by_row(clinical_data)\n",
    "\n",
    "# 4. Explicitly print out all the background information and the sample characteristics dictionary\n",
    "print(\"Background Information:\")\n",
    "print(background_info)\n",
    "print(\"Sample Characteristics Dictionary:\")\n",
    "print(sample_characteristics_dict)\n"
   ]
  },
  {
   "cell_type": "markdown",
   "id": "aaa326a1",
   "metadata": {},
   "source": [
    "### Step 2: Dataset Analysis and Clinical Feature Extraction"
   ]
  },
  {
   "cell_type": "code",
   "execution_count": 3,
   "id": "7481de40",
   "metadata": {
    "execution": {
     "iopub.execute_input": "2024-06-12T07:15:11.926078Z",
     "iopub.status.busy": "2024-06-12T07:15:11.925940Z",
     "iopub.status.idle": "2024-06-12T07:15:11.930948Z",
     "shell.execute_reply": "2024-06-12T07:15:11.930661Z"
    }
   },
   "outputs": [],
   "source": [
    "is_gene_available = False\n",
    "trait_row = age_row = gender_row = None  # set to different values when applicable\n",
    "convert_trait = convert_age = convert_gender = None  # define the functions when applicable\n",
    "\n",
    "# Check if the dataset contains gene expression data\n",
    "# This dataset contains miRNA data, therefore no gene expression data is available.\n",
    "is_gene_available = False\n",
    "\n",
    "# Determine the availability of data for 'Longevity_and_Aging', 'age', and 'gender'\n",
    "sample_characteristics_dict = {\n",
    "    0: ['diagnosis: IgG4 related ophthalmic disease', 'diagnosis: orbital MALT lymphoma', 'diagnosis: orbital MALT lympoma', 'diagnosis: healthy individual'],\n",
    "    1: ['tissue: biopsied specimen', 'tissue: serum'],\n",
    "    2: ['age: 75', 'age: 43', 'age: 73', 'age: 60', 'age: 86', 'age: 78', 'age: 67', 'age: 79', 'age: 85', 'age: 59',\n",
    "        'age: 69', 'age: 89', 'age: 62', 'age: 31', 'age: 77', 'age: 52', 'age: 46', 'age: 65', 'age: 88', 'age: 41',\n",
    "        'age: 80', 'age: 87', 'age: 84', 'age: 68', 'age: 76', 'age: 56', 'age: 57', 'age: 81', 'age: 38', 'age: 61'],\n",
    "    3: ['Sex: F', 'Sex: M'],\n",
    "    4: ['swollen eyelid: P', 'swollen eyelid: N'],\n",
    "    5: ['diplopia: N', 'diplopia: P'],\n",
    "    6: ['decrease of vision: N', 'decrease of vision: P'],\n",
    "    7: ['other organ lesion: submandibular\\xa0lymph nodes', 'other organ lesion: N', 'other organ lesion: abdomen\\xa0lymph\\xa0node',\n",
    "        'other organ lesion: parotid\\xa0gland', 'other organ lesion: submandibular\\xa0lymph nodes, bile duct dilation',\n",
    "        'other organ lesion: mediastinal\\xa0lymph\\xa0nodes']\n",
    "}\n",
    "\n",
    "# Check if 'Longevity_and_Aging' data is available (not directly linkable)\n",
    "trait_row = None  # No direct annotation for 'Longevity_and_Aging' is found.\n",
    "\n",
    "# Check if 'age' data is available\n",
    "age_row = 2  # Available under key 2, with multiple unique values.\n",
    "\n",
    "# Check if 'gender' data is available\n",
    "gender_row = 3  # Available under key 3, with male and female values.\n",
    "\n",
    "# Data Type Conversion Functions\n",
    "def convert_trait(value):\n",
    "    return None  # No conversion since no trait data found\n",
    "\n",
    "def convert_age(value):\n",
    "    try:\n",
    "        return float(value.split(': ')[1])\n",
    "    except:\n",
    "        return None\n",
    "\n",
    "def convert_gender(value):\n",
    "    try:\n",
    "        gender = value.split(': ')[1]\n",
    "        if gender == 'F':\n",
    "            return 0\n",
    "        elif gender == 'M':\n",
    "            return 1\n",
    "        else:\n",
    "            return None\n",
    "    except:\n",
    "        return None\n",
    "\n",
    "# Save cohort information\n",
    "save_cohort_info('GSE155177', './preprocessed/Longevity_and_Aging/cohort_info.json', is_gene_available, trait_row is not None)\n"
   ]
  }
 ],
 "metadata": {
  "language_info": {
   "codemirror_mode": {
    "name": "ipython",
    "version": 3
   },
   "file_extension": ".py",
   "mimetype": "text/x-python",
   "name": "python",
   "nbconvert_exporter": "python",
   "pygments_lexer": "ipython3",
   "version": "3.8.17"
  }
 },
 "nbformat": 4,
 "nbformat_minor": 5
}
