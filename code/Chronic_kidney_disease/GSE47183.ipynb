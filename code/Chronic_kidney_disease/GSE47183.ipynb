{
 "cells": [
  {
   "cell_type": "code",
   "execution_count": 1,
   "id": "3a6ea350",
   "metadata": {
    "execution": {
     "iopub.execute_input": "2024-06-12T11:05:22.938260Z",
     "iopub.status.busy": "2024-06-12T11:05:22.938085Z",
     "iopub.status.idle": "2024-06-12T11:05:22.944887Z",
     "shell.execute_reply": "2024-06-12T11:05:22.944370Z"
    }
   },
   "outputs": [],
   "source": [
    "\n",
    "import sys\n",
    "sys.path.append('/home/techt/Desktop/a4s')\n"
   ]
  },
  {
   "cell_type": "markdown",
   "id": "ae30aa2f",
   "metadata": {},
   "source": [
    "### Step 1: Initial Data Loading"
   ]
  },
  {
   "cell_type": "code",
   "execution_count": 2,
   "id": "eabfe539",
   "metadata": {
    "execution": {
     "iopub.execute_input": "2024-06-12T11:05:22.947573Z",
     "iopub.status.busy": "2024-06-12T11:05:22.947194Z",
     "iopub.status.idle": "2024-06-12T11:05:23.259086Z",
     "shell.execute_reply": "2024-06-12T11:05:23.258706Z"
    }
   },
   "outputs": [
    {
     "name": "stdout",
     "output_type": "stream",
     "text": [
      "Background Information:\n",
      "!Series_title\t\"In silico nano-dissection: defining cell type specificity at transcriptional level in human disease (glomeruli)\"\n",
      "!Series_summary\t\"To identify genes with cell-lineage-specific expression not accessible by experimental micro-dissection, we developed a genome-scale iterative method, in-silico nano-dissection, which leverages high-throughput functional-genomics data from tissue homogenates using a machine-learning framework.\"\n",
      "!Series_summary\t\"This study applied nano-dissection to chronic kidney disease and identified transcripts specific to podocytes, key cells in the glomerular filter responsible for hereditary proteinuric syndromes and acquired CKD. In-silico prediction accuracy exceeded predictions derived from fluorescence-tagged-murine podocytes, identified genes recently implicated in hereditary glomerular disease and predicted genes significantly correlated with kidney function. The nano-dissection method is broadly applicable to define lineage specificity in many functional and disease contexts.\"\n",
      "!Series_overall_design\t\"We applied a machine-learning framework on high-throughput gene expression data from human kidney biopsy tissue homogenates and predict novel podocyte-specific genes. The prediction was validated by Human Protein Atlas at protein level. Prediction accuracy was compared with predictions derived from experimental approach using fluorescence-tagged-murine podocytes.\"\n",
      "Sample Characteristics Dictionary:\n",
      "{0: ['tissue: Glomeruli from kidney biopsy'], 1: ['disease status: Diabetic Nephropathy', 'disease status: Focal and Segmental Glomerulosclerosis and Minimal Change Disease', 'disease status: Focal and Segmental Glomerulosclerosis', 'disease status: Minimal Change Disease', 'disease status: Rapidly Progressive Glomerulonephritis', 'disease status: Tumor Nephrectomy']}\n"
     ]
    }
   ],
   "source": [
    "from utils.preprocess import *\n",
    "# 1. Identify the paths to the soft file and the matrix file\n",
    "cohort_dir = '/media/techt/DATA/GEO/Chronic_kidney_disease/GSE47183'\n",
    "soft_file, matrix_file = geo_get_relevant_filepaths(cohort_dir)\n",
    "\n",
    "# 2. Read the matrix file to obtain background information and sample characteristics data\n",
    "background_prefixes = ['!Series_title', '!Series_summary', '!Series_overall_design']\n",
    "clinical_prefixes = ['!Sample_geo_accession', '!Sample_characteristics_ch1']\n",
    "background_info, clinical_data = get_background_and_clinical_data(matrix_file, background_prefixes, clinical_prefixes)\n",
    "\n",
    "# 3. Obtain the sample characteristics dictionary from the clinical dataframe\n",
    "sample_characteristics_dict = get_unique_values_by_row(clinical_data)\n",
    "\n",
    "# 4. Explicitly print out all the background information and the sample characteristics dictionary\n",
    "print(\"Background Information:\")\n",
    "print(background_info)\n",
    "print(\"Sample Characteristics Dictionary:\")\n",
    "print(sample_characteristics_dict)\n"
   ]
  },
  {
   "cell_type": "markdown",
   "id": "5c910faa",
   "metadata": {},
   "source": [
    "### Step 2: Dataset Analysis and Clinical Feature Extraction"
   ]
  },
  {
   "cell_type": "code",
   "execution_count": 3,
   "id": "c0aa174b",
   "metadata": {
    "execution": {
     "iopub.execute_input": "2024-06-12T11:05:23.260690Z",
     "iopub.status.busy": "2024-06-12T11:05:23.260560Z",
     "iopub.status.idle": "2024-06-12T11:05:23.269794Z",
     "shell.execute_reply": "2024-06-12T11:05:23.269501Z"
    }
   },
   "outputs": [
    {
     "name": "stdout",
     "output_type": "stream",
     "text": [
      "{'GSM1146269': [1], 'GSM1146270': [1], 'GSM1146271': [1], 'GSM1146272': [1], 'GSM1146273': [1], 'GSM1146274': [1], 'GSM1146275': [1], 'GSM1146276': [1], 'GSM1146277': [1], 'GSM1146278': [1], 'GSM1146279': [1], 'GSM1146280': [1], 'GSM1146281': [1], 'GSM1146282': [1], 'GSM1146283': [1], 'GSM1146284': [1], 'GSM1146285': [1], 'GSM1146286': [1], 'GSM1146287': [1], 'GSM1146288': [1], 'GSM1146289': [1], 'GSM1146290': [1], 'GSM1146291': [1], 'GSM1146292': [1], 'GSM1146293': [1], 'GSM1146294': [1], 'GSM1146295': [1], 'GSM1146296': [1], 'GSM1146297': [1], 'GSM1146298': [1], 'GSM1146299': [1], 'GSM1146300': [1], 'GSM1146301': [1], 'GSM1146302': [1], 'GSM1146303': [1], 'GSM1146304': [1], 'GSM1146305': [1], 'GSM1146306': [1], 'GSM1146307': [1], 'GSM1146308': [1], 'GSM1146309': [1], 'GSM1146310': [1], 'GSM1146311': [1], 'GSM1146312': [1], 'GSM1146313': [1], 'GSM1146314': [1], 'GSM1146315': [1], 'GSM1146316': [1], 'GSM1146317': [1], 'GSM1146318': [1], 'GSM1146319': [1], 'GSM1146320': [1], 'GSM1146321': [1], 'GSM1146322': [1]}\n"
     ]
    }
   ],
   "source": [
    "is_gene_available = False\n",
    "trait_row = age_row = gender_row = None  # set to different values when applicable\n",
    "convert_trait = convert_age = convert_gender = None  # define the functions when applicable\n",
    "\n",
    "# Determine if the dataset contains gene expression data\n",
    "is_gene_available = True\n",
    "\n",
    "# Check availability of variables in the sample characteristics dictionary\n",
    "sample_characteristics_dict = {\n",
    "    0: ['tissue: Glomeruli from kidney biopsy'],\n",
    "    1: [\n",
    "        'disease status: Diabetic Nephropathy', \n",
    "        'disease status: Minimal Change Disease', \n",
    "        'disease status: Thin Membrane Disease', \n",
    "        'disease status: Tumor Nephrectomy', \n",
    "        'disease status: Focal and Segmental Glomerulosclerosis', \n",
    "        'disease status: Membranous Glomerulonephritis'\n",
    "    ]\n",
    "}\n",
    "\n",
    "# 'Chronic_kidney_disease' can be inferred from 'disease status' related terms.\n",
    "if len(set(sample_characteristics_dict[1])) > 1:\n",
    "    trait_row = 1\n",
    "\n",
    "# No direct mention of age and gender in the sample characteristics\n",
    "age_row = None\n",
    "gender_row = None\n",
    "\n",
    "# Data type conversion functions\n",
    "def convert_trait(value):\n",
    "    if \"disease status:\" in value:\n",
    "        return 1  # Considering presence of disease as trait\n",
    "    return None  # If no 'disease status' in the value\n",
    "\n",
    "def convert_age(value):\n",
    "    try:\n",
    "        age_value = int(value.strip())\n",
    "        return age_value\n",
    "    except ValueError:\n",
    "        return None\n",
    "\n",
    "def convert_gender(value):\n",
    "    lower_val = value.strip().lower()\n",
    "    if lower_val == 'female':\n",
    "        return 0\n",
    "    elif lower_val == 'male':\n",
    "        return 1\n",
    "    return None\n",
    "\n",
    "# Save cohort information\n",
    "save_cohort_info('GSE47183', './preprocessed/Chronic_kidney_disease/cohort_info.json', is_gene_available, trait_row is not None)\n",
    "\n",
    "# Clinical feature extraction if clinical data is available\n",
    "if trait_row is not None:\n",
    "    selected_clinical_data = geo_select_clinical_features(clinical_data, 'Chronic_kidney_disease', trait_row, convert_trait, age_row, convert_age, gender_row, convert_gender)\n",
    "    csv_path = './preprocessed/Chronic_kidney_disease/trait_data/GSE47183.csv'\n",
    "    selected_clinical_data.to_csv(csv_path)\n",
    "    print(preview_df(selected_clinical_data))\n"
   ]
  },
  {
   "cell_type": "markdown",
   "id": "bd57c2f4",
   "metadata": {},
   "source": [
    "### Step 3: Gene Data Extraction"
   ]
  },
  {
   "cell_type": "code",
   "execution_count": 4,
   "id": "9bf440eb",
   "metadata": {
    "execution": {
     "iopub.execute_input": "2024-06-12T11:05:23.270974Z",
     "iopub.status.busy": "2024-06-12T11:05:23.270875Z",
     "iopub.status.idle": "2024-06-12T11:05:23.359952Z",
     "shell.execute_reply": "2024-06-12T11:05:23.359573Z"
    }
   },
   "outputs": [
    {
     "name": "stdout",
     "output_type": "stream",
     "text": [
      "Index(['10', '100', '1000', '10000', '10001', '10002', '10003', '10004',\n",
      "       '10005', '10006', '10007', '10009', '1001', '10010', '10013', '10014',\n",
      "       '10015', '10016', '10017', '10018'],\n",
      "      dtype='object', name='ID')\n"
     ]
    }
   ],
   "source": [
    "# 1. Use the get_genetic_data function from the library to get the gene_data from the matrix_file previously defined.\n",
    "gene_data = get_genetic_data(matrix_file)\n",
    "\n",
    "# 2. Print the first 20 row ids for the following step.\n",
    "print(gene_data.index[:20])\n"
   ]
  },
  {
   "cell_type": "markdown",
   "id": "f5a65296",
   "metadata": {},
   "source": [
    "### Step 4: Gene Identifier Review"
   ]
  },
  {
   "cell_type": "code",
   "execution_count": 5,
   "id": "c306aa7e",
   "metadata": {
    "execution": {
     "iopub.execute_input": "2024-06-12T11:05:23.361604Z",
     "iopub.status.busy": "2024-06-12T11:05:23.361496Z",
     "iopub.status.idle": "2024-06-12T11:05:23.363387Z",
     "shell.execute_reply": "2024-06-12T11:05:23.363110Z"
    }
   },
   "outputs": [],
   "source": [
    "requires_gene_mapping = True\n"
   ]
  },
  {
   "cell_type": "markdown",
   "id": "d5b2a638",
   "metadata": {},
   "source": [
    "### Step 5: Gene Annotation (Conditional)"
   ]
  },
  {
   "cell_type": "code",
   "execution_count": 6,
   "id": "3274e47a",
   "metadata": {
    "execution": {
     "iopub.execute_input": "2024-06-12T11:05:23.364812Z",
     "iopub.status.busy": "2024-06-12T11:05:23.364712Z",
     "iopub.status.idle": "2024-06-12T11:05:25.053260Z",
     "shell.execute_reply": "2024-06-12T11:05:25.052858Z"
    }
   },
   "outputs": [
    {
     "name": "stdout",
     "output_type": "stream",
     "text": [
      "Gene annotation preview:\n",
      "{'ID': ['1', '2', '9', '10', '12'], 'GeneID': ['1', '2', '9', '10', '12'], 'ORF': ['A1BG', 'A2M', 'NAT1', 'NAT2', 'SERPINA3'], 'Description': ['alpha-1-Bglycoprotein', 'alpha-2-macroglobulin', 'N-acetyltransferase1(arylamineN-acetyltransferase)', 'N-acetyltransferase2(arylamineN-acetyltransferase)', 'serpinpeptidaseinhibitor,cladeA(alpha-1antiproteinase,antitrypsin),member3'], 'SPOT_ID': [nan, nan, nan, nan, nan]}\n"
     ]
    }
   ],
   "source": [
    "# 1. Use the 'get_gene_annotation' function from the library to get gene annotation data from the soft file.\n",
    "gene_annotation = get_gene_annotation(soft_file)\n",
    "\n",
    "# 2. Use the 'preview_df' function from the library to preview the data and print out the results.\n",
    "print(\"Gene annotation preview:\")\n",
    "print(preview_df(gene_annotation))\n"
   ]
  },
  {
   "cell_type": "markdown",
   "id": "ce87c7bb",
   "metadata": {},
   "source": [
    "### Step 6: Gene Identifier Mapping"
   ]
  },
  {
   "cell_type": "code",
   "execution_count": 7,
   "id": "407ebe81",
   "metadata": {
    "execution": {
     "iopub.execute_input": "2024-06-12T11:05:25.054805Z",
     "iopub.status.busy": "2024-06-12T11:05:25.054685Z",
     "iopub.status.idle": "2024-06-12T11:05:25.182401Z",
     "shell.execute_reply": "2024-06-12T11:05:25.181992Z"
    }
   },
   "outputs": [],
   "source": [
    "# 1. Determine the keys for identifiers and gene symbols\n",
    "identifier_key = 'ID'\n",
    "gene_symbol_key = 'ORF'\n",
    "\n",
    "# 2. Get the dataframe storing the mapping between probe IDs and genes using the 'get_gene_mapping' function from the library.\n",
    "gene_mapping_df = get_gene_mapping(gene_annotation, identifier_key, gene_symbol_key)\n",
    "\n",
    "# 3. Apply the mapping with the 'apply_gene_mapping' function from the library, and name the resulting gene expression dataframe \"gene_data\".\n",
    "gene_data = apply_gene_mapping(gene_data, gene_mapping_df)\n"
   ]
  },
  {
   "cell_type": "markdown",
   "id": "11a23578",
   "metadata": {},
   "source": [
    "### Step 7: Data Normalization and Merging"
   ]
  },
  {
   "cell_type": "code",
   "execution_count": 8,
   "id": "c9160b8c",
   "metadata": {
    "execution": {
     "iopub.execute_input": "2024-06-12T11:05:25.184401Z",
     "iopub.status.busy": "2024-06-12T11:05:25.184276Z",
     "iopub.status.idle": "2024-06-12T11:05:55.629086Z",
     "shell.execute_reply": "2024-06-12T11:05:55.628662Z"
    }
   },
   "outputs": [
    {
     "name": "stdout",
     "output_type": "stream",
     "text": [
      "Quartiles for 'Chronic_kidney_disease':\n",
      "  25%: 1.0\n",
      "  50% (Median): 1.0\n",
      "  75%: 1.0\n",
      "Min: 1.0\n",
      "Max: 1.0\n",
      "The distribution of the feature 'Chronic_kidney_disease' in this dataset is severely biased.\n",
      "\n"
     ]
    }
   ],
   "source": [
    "# 1. Normalize the obtained gene data with the 'normalize_gene_symbols_in_index' function from the library.\n",
    "normalized_gene_data = normalize_gene_symbols_in_index(gene_data)\n",
    "gene_csv_path = './preprocessed/Chronic_kidney_disease/gene_data/GSE47183.csv'\n",
    "normalized_gene_data.to_csv(gene_csv_path)\n",
    "\n",
    "# 2. Merge the clinical and genetic data with the 'geo_merge_clinical_genetic_data' function from the library.\n",
    "merged_data = geo_merge_clinical_genetic_data(selected_clinical_data, normalized_gene_data)\n",
    "\n",
    "# 3. Determine whether the trait and some demographic attributes in the data is severely biased, and remove biased attributes.\n",
    "trait_biased, unbiased_merged_data = judge_and_remove_biased_features(merged_data, 'Chronic_kidney_disease')\n",
    "\n",
    "# 4. Save the cohort information.\n",
    "save_cohort_info('GSE47183', './preprocessed/Chronic_kidney_disease/cohort_info.json', True, True, trait_biased, merged_data)\n",
    "\n",
    "if not trait_biased:\n",
    "    # 5. If the trait is not severely biased, save the merged data to a csv file.\n",
    "    csv_path = './preprocessed/Chronic_kidney_disease/GSE47183.csv'\n",
    "    unbiased_merged_data.to_csv(csv_path)\n"
   ]
  }
 ],
 "metadata": {
  "language_info": {
   "codemirror_mode": {
    "name": "ipython",
    "version": 3
   },
   "file_extension": ".py",
   "mimetype": "text/x-python",
   "name": "python",
   "nbconvert_exporter": "python",
   "pygments_lexer": "ipython3",
   "version": "3.8.17"
  }
 },
 "nbformat": 4,
 "nbformat_minor": 5
}
