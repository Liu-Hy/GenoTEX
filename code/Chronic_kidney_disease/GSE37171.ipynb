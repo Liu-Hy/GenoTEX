{
 "cells": [
  {
   "cell_type": "code",
   "execution_count": 1,
   "id": "a4e2a0f6",
   "metadata": {
    "execution": {
     "iopub.execute_input": "2024-06-12T11:05:56.464992Z",
     "iopub.status.busy": "2024-06-12T11:05:56.464681Z",
     "iopub.status.idle": "2024-06-12T11:05:56.470129Z",
     "shell.execute_reply": "2024-06-12T11:05:56.469730Z"
    }
   },
   "outputs": [],
   "source": [
    "\n",
    "import sys\n",
    "sys.path.append('/home/techt/Desktop/a4s')\n"
   ]
  },
  {
   "cell_type": "markdown",
   "id": "a8c68ebe",
   "metadata": {},
   "source": [
    "### Step 1: Initial Data Loading"
   ]
  },
  {
   "cell_type": "code",
   "execution_count": 2,
   "id": "79b4b67f",
   "metadata": {
    "execution": {
     "iopub.execute_input": "2024-06-12T11:05:56.472470Z",
     "iopub.status.busy": "2024-06-12T11:05:56.472319Z",
     "iopub.status.idle": "2024-06-12T11:05:56.943884Z",
     "shell.execute_reply": "2024-06-12T11:05:56.943519Z"
    }
   },
   "outputs": [
    {
     "name": "stdout",
     "output_type": "stream",
     "text": [
      "Background Information:\n",
      "!Series_title\t\"Expression data from uremic patients and 20 healthy controls (normals)\"\n",
      "!Series_summary\t\"Renal failure is characterized by important biological changes resulting in profound pleomorphic physiological effects termed “uremia”, whose molecular causation is not well understood. The data was used to study gene expression changes in uremia using whole genome microarray analysis of peripheral blood from subjects with end-stage renal failure (n=63) and healthy controls (n=20) to obtain insight into the molecular and biological causation of this syndrome.\"\n",
      "!Series_overall_design\t\"The study was conducted at the University of British Columbia and approved by the human ethics research board. A 3:1 case-control design was employed to compare gene expression in patients with chronic renal failure and healthy controls. Patients with stage 5 renal disease aged 18 to 75 years, who were clinically stable awaiting renal transplantation, were not receiving immunosuppressive medications, and who provided written informed consent were enrolled into the study. Patients were treated according to Canadian Guidelines for Chronic Kidney Disease (13). Normal controls of comparable age and gender to the patients who were screened to ensure freedom from known illness and medical therapy served as comparators.\"\n",
      "Sample Characteristics Dictionary:\n",
      "{0: ['disease state: uremia', 'disease state: healthy control'], 1: ['tissue: whole blood (WB)'], 2: ['age_tx: 47.4', 'age_tx: 37.3', 'age_tx: 36.4', 'age_tx: 29.9', 'age_tx: 58.1', 'age_tx: 55.7', 'age_tx: 57.8', 'age_tx: 50', 'age_tx: 43.2', 'age_tx: 52.6', 'age_tx: 38.8', 'age_tx: 30', 'age_tx: 55.4', 'age_tx: 31.8', 'age_tx: 52.2', 'age_tx: 37', 'age_tx: 23.2', 'age_tx: 27', 'age_tx: 50.2', 'age_tx: 50.3', 'age_tx: 58.7', 'age_tx: 57.5', 'age_tx: 34.5', 'age_tx: 38', 'age_tx: 42.3', 'age_tx: 56.4', 'age_tx: 51.1', 'age_tx: 64.6', 'age_tx: 55.2', 'age_tx: 55.3'], 3: ['Sex: F', 'Sex: M'], 4: ['race: Caucasian', 'race: Asian Indian', 'race: North American Indian', 'race: Asian Filipino', 'race: Asian Oriental', 'race: Black', 'race: Other/multiracial'], 5: ['dial_type: Conventional Haemo', 'dial_type: Pre Dialysis', 'dial_type: CAPD', 'dial_type: CCPD (Automated PD)', 'dial_type: Slow Nocturnal Haemo', 'dial_type: PD Combined with Haemo', 'dial_type: Home Haemo', nan]}\n"
     ]
    }
   ],
   "source": [
    "from utils.preprocess import *\n",
    "# 1. Identify the paths to the soft file and the matrix file\n",
    "cohort_dir = '/media/techt/DATA/GEO/Chronic_kidney_disease/GSE37171'\n",
    "soft_file, matrix_file = geo_get_relevant_filepaths(cohort_dir)\n",
    "\n",
    "# 2. Read the matrix file to obtain background information and sample characteristics data\n",
    "background_prefixes = ['!Series_title', '!Series_summary', '!Series_overall_design']\n",
    "clinical_prefixes = ['!Sample_geo_accession', '!Sample_characteristics_ch1']\n",
    "background_info, clinical_data = get_background_and_clinical_data(matrix_file, background_prefixes, clinical_prefixes)\n",
    "\n",
    "# 3. Obtain the sample characteristics dictionary from the clinical dataframe\n",
    "sample_characteristics_dict = get_unique_values_by_row(clinical_data)\n",
    "\n",
    "# 4. Explicitly print out all the background information and the sample characteristics dictionary\n",
    "print(\"Background Information:\")\n",
    "print(background_info)\n",
    "print(\"Sample Characteristics Dictionary:\")\n",
    "print(sample_characteristics_dict)\n"
   ]
  },
  {
   "cell_type": "markdown",
   "id": "a393a893",
   "metadata": {},
   "source": [
    "### Step 2: Dataset Analysis and Clinical Feature Extraction"
   ]
  },
  {
   "cell_type": "code",
   "execution_count": 3,
   "id": "03767cd0",
   "metadata": {
    "execution": {
     "iopub.execute_input": "2024-06-12T11:05:56.946310Z",
     "iopub.status.busy": "2024-06-12T11:05:56.946174Z",
     "iopub.status.idle": "2024-06-12T11:05:56.970620Z",
     "shell.execute_reply": "2024-06-12T11:05:56.970337Z"
    }
   },
   "outputs": [
    {
     "name": "stdout",
     "output_type": "stream",
     "text": [
      "{'GSM912761': [1.0, 47.4, 0.0], 'GSM912762': [1.0, 37.3, 1.0], 'GSM912763': [1.0, 36.4, 1.0], 'GSM912764': [1.0, 29.9, 0.0], 'GSM912765': [1.0, 58.1, 1.0], 'GSM912766': [1.0, 55.7, 1.0], 'GSM912767': [1.0, 57.8, 1.0], 'GSM912768': [1.0, 50.0, 1.0], 'GSM912769': [1.0, 43.2, 0.0], 'GSM912770': [1.0, 52.6, 0.0], 'GSM912771': [1.0, 38.8, 0.0], 'GSM912772': [1.0, 30.0, 1.0], 'GSM912773': [1.0, 55.4, 1.0], 'GSM912774': [1.0, 31.8, 1.0], 'GSM912775': [1.0, 52.2, 0.0], 'GSM912776': [1.0, 37.0, 1.0], 'GSM912777': [1.0, 23.2, 1.0], 'GSM912778': [1.0, 27.0, 1.0], 'GSM912779': [1.0, 50.2, 1.0], 'GSM912780': [1.0, 50.3, 1.0], 'GSM912781': [1.0, 58.7, 1.0], 'GSM912782': [1.0, 57.5, 1.0], 'GSM912783': [1.0, 34.5, 1.0], 'GSM912784': [1.0, 38.0, 1.0], 'GSM912785': [1.0, 42.3, 1.0], 'GSM912786': [1.0, 56.4, 0.0], 'GSM912787': [1.0, 51.1, 1.0], 'GSM912788': [1.0, 64.6, 1.0], 'GSM912789': [1.0, 55.2, 0.0], 'GSM912790': [1.0, 55.3, 0.0], 'GSM912791': [1.0, 45.1, 1.0], 'GSM912792': [1.0, 58.6, 1.0], 'GSM912793': [1.0, 57.1, 1.0], 'GSM912794': [1.0, 61.6, 1.0], 'GSM912795': [1.0, 55.2, 1.0], 'GSM912796': [1.0, 37.9, 1.0], 'GSM912797': [1.0, 47.9, 1.0], 'GSM912798': [1.0, 51.4, 1.0], 'GSM912799': [1.0, 50.8, 0.0], 'GSM912800': [1.0, 29.0, 0.0], 'GSM912801': [1.0, 60.4, 0.0], 'GSM912802': [1.0, 60.0, 1.0], 'GSM912803': [1.0, 38.4, 1.0], 'GSM912804': [1.0, 40.1, 1.0], 'GSM912805': [1.0, 46.6, 0.0], 'GSM912806': [1.0, 60.9, 0.0], 'GSM912807': [1.0, 42.0, 0.0], 'GSM912808': [1.0, 58.5, 1.0], 'GSM912809': [1.0, 44.8, 0.0], 'GSM912810': [1.0, 35.9, 0.0], 'GSM912811': [1.0, 58.6, 0.0], 'GSM912812': [1.0, 45.4, 1.0], 'GSM912813': [1.0, 47.3, 0.0], 'GSM912814': [1.0, 49.5, 1.0], 'GSM912815': [1.0, 32.4, 1.0], 'GSM912816': [1.0, 35.5, 0.0], 'GSM912817': [1.0, 30.3, 1.0], 'GSM912818': [1.0, 51.8, 0.0], 'GSM912819': [1.0, 56.4, 1.0], 'GSM912820': [1.0, 24.5, 1.0], 'GSM912821': [1.0, 56.8, 1.0], 'GSM912822': [1.0, 20.7, 1.0], 'GSM912823': [1.0, 65.9, 1.0], 'GSM912824': [1.0, 37.6, 1.0], 'GSM912825': [1.0, 54.6, 0.0], 'GSM912826': [1.0, 46.6, 1.0], 'GSM912827': [1.0, 45.4, 0.0], 'GSM912828': [1.0, 58.4, 1.0], 'GSM912829': [1.0, 49.7, 1.0], 'GSM912830': [1.0, 53.2, 0.0], 'GSM912831': [1.0, 43.4, 1.0], 'GSM912832': [1.0, 50.2, 1.0], 'GSM912833': [1.0, 50.7, 1.0], 'GSM912834': [1.0, 20.3, 0.0], 'GSM912835': [1.0, 71.8, 0.0], 'GSM912836': [0.0, 48.0, 0.0], 'GSM912837': [0.0, 61.0, 1.0], 'GSM912838': [0.0, 26.0, 1.0], 'GSM912839': [0.0, 43.0, 1.0], 'GSM912840': [0.0, 43.0, 0.0], 'GSM912841': [0.0, 26.0, 0.0], 'GSM912842': [0.0, 31.0, 0.0], 'GSM912843': [0.0, 32.0, 1.0], 'GSM912844': [0.0, 43.0, 1.0], 'GSM912845': [0.0, 43.0, 0.0], 'GSM912846': [0.0, 34.0, 0.0], 'GSM912847': [0.0, 46.0, 1.0], 'GSM912848': [0.0, 42.0, 1.0], 'GSM912849': [0.0, 26.0, 1.0], 'GSM912850': [0.0, 47.0, 0.0], 'GSM912851': [0.0, 65.0, 0.0], 'GSM912852': [0.0, 54.0, 1.0], 'GSM912853': [0.0, 41.0, 1.0], 'GSM912854': [0.0, 41.0, 1.0], 'GSM912855': [0.0, 57.0, 1.0], 'GSM912856': [0.0, 48.0, 0.0], 'GSM912857': [0.0, 61.0, 1.0], 'GSM912858': [0.0, 26.0, 1.0], 'GSM912859': [0.0, 43.0, 1.0], 'GSM912860': [0.0, 43.0, 0.0], 'GSM912861': [0.0, 26.0, 0.0], 'GSM912862': [0.0, 31.0, 0.0], 'GSM912863': [0.0, 32.0, 1.0], 'GSM912864': [0.0, 43.0, 1.0], 'GSM912865': [0.0, 43.0, 0.0], 'GSM912866': [0.0, 34.0, 0.0], 'GSM912867': [0.0, 46.0, 1.0], 'GSM912868': [0.0, 42.0, 1.0], 'GSM912869': [0.0, 26.0, 1.0], 'GSM912870': [0.0, 47.0, 0.0], 'GSM912871': [0.0, 65.0, 0.0], 'GSM912872': [0.0, 54.0, 1.0], 'GSM912873': [0.0, 41.0, 1.0], 'GSM912874': [0.0, 41.0, 1.0], 'GSM912875': [0.0, 57.0, 1.0]}\n"
     ]
    }
   ],
   "source": [
    "is_gene_available = False\n",
    "trait_row = age_row = gender_row = None  # set to different values when applicable\n",
    "convert_trait = convert_age = convert_gender = None  # define the functions when applicable\n",
    "\n",
    "# Check for gene expression data availability\n",
    "is_gene_available = True\n",
    "\n",
    "# Check availability of 'Chronic_kidney_disease' variable and set the corresponding key\n",
    "trait_row = 0 if len(set(['disease state: uremia', 'disease state: healthy control'])) > 1 else None\n",
    "\n",
    "# Check availability of 'age' variable and set the corresponding key\n",
    "age_row = 2 if len(set(['age_tx: 47.4', 'age_tx: 37.3', 'age_tx: 36.4', 'age_tx: 29.9', 'age_tx: 58.1', 'age_tx: 55.7', 'age_tx: 57.8', 'age_tx: 50', 'age_tx: 43.2', 'age_tx: 52.6', 'age_tx: 38.8', 'age_tx: 30', 'age_tx: 55.4', 'age_tx: 31.8', 'age_tx: 52.2', 'age_tx: 37', 'age_tx: 23.2', 'age_tx: 27', 'age_tx: 50.2', 'age_tx: 50.3', 'age_tx: 58.7', 'age_tx: 57.5', 'age_tx: 34.5', 'age_tx: 38', 'age_tx: 42.3', 'age_tx: 56.4', 'age_tx: 51.1', 'age_tx: 64.6', 'age_tx: 55.2', 'age_tx: 55.3'])) > 1 else None\n",
    "\n",
    "# Check availability of 'gender' variable and set the corresponding key\n",
    "gender_row = 3 if len(set(['Sex: F', 'Sex: M'])) > 1 else None\n",
    "\n",
    "# Define data type conversion functions\n",
    "def convert_trait(value):\n",
    "    val = value.split(': ')[-1]\n",
    "    if val == 'uremia':\n",
    "        return 1\n",
    "    elif val == 'healthy control':\n",
    "        return 0\n",
    "    return None\n",
    "\n",
    "def convert_age(value):\n",
    "    val = value.split(': ')[-1]\n",
    "    try:\n",
    "        return float(val)\n",
    "    except ValueError:\n",
    "        return None\n",
    "\n",
    "def convert_gender(value):\n",
    "    val = value.split(': ')[-1]\n",
    "    if val == 'M':\n",
    "        return 1\n",
    "    elif val == 'F':\n",
    "        return 0\n",
    "    return None\n",
    "\n",
    "# Save cohort info\n",
    "save_cohort_info('GSE37171', './preprocessed/Chronic_kidney_disease/cohort_info.json', is_gene_available, trait_row is not None)\n",
    "\n",
    "# Clinical Feature Extraction\n",
    "if trait_row is not None:\n",
    "    selected_clinical_data = geo_select_clinical_features(clinical_data, 'Chronic_kidney_disease', trait_row, convert_trait, age_row, convert_age, gender_row, convert_gender)\n",
    "    csv_path = './preprocessed/Chronic_kidney_disease/trait_data/GSE37171.csv'\n",
    "    selected_clinical_data.to_csv(csv_path)\n",
    "    print(preview_df(selected_clinical_data))\n"
   ]
  },
  {
   "cell_type": "markdown",
   "id": "0226bdf2",
   "metadata": {},
   "source": [
    "### Step 3: Gene Data Extraction"
   ]
  },
  {
   "cell_type": "code",
   "execution_count": 4,
   "id": "e68d4227",
   "metadata": {
    "execution": {
     "iopub.execute_input": "2024-06-12T11:05:56.972793Z",
     "iopub.status.busy": "2024-06-12T11:05:56.972664Z",
     "iopub.status.idle": "2024-06-12T11:05:57.461915Z",
     "shell.execute_reply": "2024-06-12T11:05:57.461555Z"
    }
   },
   "outputs": [
    {
     "name": "stdout",
     "output_type": "stream",
     "text": [
      "Index(['1007_s_at', '1053_at', '117_at', '121_at', '1255_g_at', '1294_at',\n",
      "       '1316_at', '1320_at', '1405_i_at', '1431_at', '1438_at', '1487_at',\n",
      "       '1494_f_at', '1552256_a_at', '1552257_a_at', '1552258_at', '1552261_at',\n",
      "       '1552263_at', '1552264_a_at', '1552266_at'],\n",
      "      dtype='object', name='ID')\n"
     ]
    }
   ],
   "source": [
    "# 1. Use the get_genetic_data function from the library to get the gene_data from the matrix_file previously defined.\n",
    "gene_data = get_genetic_data(matrix_file)\n",
    "\n",
    "# 2. Print the first 20 row ids for the following step.\n",
    "print(gene_data.index[:20])\n"
   ]
  },
  {
   "cell_type": "markdown",
   "id": "a5291212",
   "metadata": {},
   "source": [
    "### Step 4: Gene Identifier Review"
   ]
  },
  {
   "cell_type": "code",
   "execution_count": 5,
   "id": "890af7b8",
   "metadata": {
    "execution": {
     "iopub.execute_input": "2024-06-12T11:05:57.463326Z",
     "iopub.status.busy": "2024-06-12T11:05:57.463220Z",
     "iopub.status.idle": "2024-06-12T11:05:57.465056Z",
     "shell.execute_reply": "2024-06-12T11:05:57.464796Z"
    }
   },
   "outputs": [],
   "source": [
    "requires_gene_mapping = True\n"
   ]
  },
  {
   "cell_type": "markdown",
   "id": "1076c356",
   "metadata": {},
   "source": [
    "### Step 5: Gene Annotation (Conditional)"
   ]
  },
  {
   "cell_type": "code",
   "execution_count": 6,
   "id": "0c56d524",
   "metadata": {
    "execution": {
     "iopub.execute_input": "2024-06-12T11:05:57.466365Z",
     "iopub.status.busy": "2024-06-12T11:05:57.466269Z",
     "iopub.status.idle": "2024-06-12T11:06:06.151671Z",
     "shell.execute_reply": "2024-06-12T11:06:06.151314Z"
    }
   },
   "outputs": [
    {
     "name": "stdout",
     "output_type": "stream",
     "text": [
      "Gene annotation preview:\n",
      "{'ID': ['1007_s_at', '1053_at', '117_at', '121_at', '1255_g_at'], 'GB_ACC': ['U48705', 'M87338', 'X51757', 'X69699', 'L36861'], 'SPOT_ID': [nan, nan, nan, nan, nan], 'Species Scientific Name': ['Homo sapiens', 'Homo sapiens', 'Homo sapiens', 'Homo sapiens', 'Homo sapiens'], 'Annotation Date': ['Oct 6, 2014', 'Oct 6, 2014', 'Oct 6, 2014', 'Oct 6, 2014', 'Oct 6, 2014'], 'Sequence Type': ['Exemplar sequence', 'Exemplar sequence', 'Exemplar sequence', 'Exemplar sequence', 'Exemplar sequence'], 'Sequence Source': ['Affymetrix Proprietary Database', 'GenBank', 'Affymetrix Proprietary Database', 'GenBank', 'Affymetrix Proprietary Database'], 'Target Description': ['U48705 /FEATURE=mRNA /DEFINITION=HSU48705 Human receptor tyrosine kinase DDR gene, complete cds', 'M87338 /FEATURE= /DEFINITION=HUMA1SBU Human replication factor C, 40-kDa subunit (A1) mRNA, complete cds', \"X51757 /FEATURE=cds /DEFINITION=HSP70B Human heat-shock protein HSP70B' gene\", 'X69699 /FEATURE= /DEFINITION=HSPAX8A H.sapiens Pax8 mRNA', 'L36861 /FEATURE=expanded_cds /DEFINITION=HUMGCAPB Homo sapiens guanylate cyclase activating protein (GCAP) gene exons 1-4, complete cds'], 'Representative Public ID': ['U48705', 'M87338', 'X51757', 'X69699', 'L36861'], 'Gene Title': ['discoidin domain receptor tyrosine kinase 1 /// microRNA 4640', 'replication factor C (activator 1) 2, 40kDa', \"heat shock 70kDa protein 6 (HSP70B')\", 'paired box 8', 'guanylate cyclase activator 1A (retina)'], 'Gene Symbol': ['DDR1 /// MIR4640', 'RFC2', 'HSPA6', 'PAX8', 'GUCA1A'], 'ENTREZ_GENE_ID': ['780 /// 100616237', '5982', '3310', '7849', '2978'], 'RefSeq Transcript ID': ['NM_001202521 /// NM_001202522 /// NM_001202523 /// NM_001954 /// NM_013993 /// NM_013994 /// NR_039783 /// XM_005249385 /// XM_005249386 /// XM_005249387 /// XM_005249389 /// XM_005272873 /// XM_005272874 /// XM_005272875 /// XM_005272877 /// XM_005275027 /// XM_005275028 /// XM_005275030 /// XM_005275031 /// XM_005275162 /// XM_005275163 /// XM_005275164 /// XM_005275166 /// XM_005275457 /// XM_005275458 /// XM_005275459 /// XM_005275461 /// XM_006715185 /// XM_006715186 /// XM_006715187 /// XM_006715188 /// XM_006715189 /// XM_006715190 /// XM_006725501 /// XM_006725502 /// XM_006725503 /// XM_006725504 /// XM_006725505 /// XM_006725506 /// XM_006725714 /// XM_006725715 /// XM_006725716 /// XM_006725717 /// XM_006725718 /// XM_006725719 /// XM_006725720 /// XM_006725721 /// XM_006725722 /// XM_006725827 /// XM_006725828 /// XM_006725829 /// XM_006725830 /// XM_006725831 /// XM_006725832 /// XM_006726017 /// XM_006726018 /// XM_006726019 /// XM_006726020 /// XM_006726021 /// XM_006726022 /// XR_427836 /// XR_430858 /// XR_430938 /// XR_430974 /// XR_431015', 'NM_001278791 /// NM_001278792 /// NM_001278793 /// NM_002914 /// NM_181471 /// XM_006716080', 'NM_002155', 'NM_003466 /// NM_013951 /// NM_013952 /// NM_013953 /// NM_013992', 'NM_000409 /// XM_006715073'], 'Gene Ontology Biological Process': ['0001558 // regulation of cell growth // inferred from electronic annotation /// 0001952 // regulation of cell-matrix adhesion // inferred from electronic annotation /// 0006468 // protein phosphorylation // inferred from electronic annotation /// 0007155 // cell adhesion // traceable author statement /// 0007169 // transmembrane receptor protein tyrosine kinase signaling pathway // inferred from electronic annotation /// 0007565 // female pregnancy // inferred from electronic annotation /// 0007566 // embryo implantation // inferred from electronic annotation /// 0007595 // lactation // inferred from electronic annotation /// 0008285 // negative regulation of cell proliferation // inferred from electronic annotation /// 0010715 // regulation of extracellular matrix disassembly // inferred from mutant phenotype /// 0014909 // smooth muscle cell migration // inferred from mutant phenotype /// 0016310 // phosphorylation // inferred from electronic annotation /// 0018108 // peptidyl-tyrosine phosphorylation // inferred from electronic annotation /// 0030198 // extracellular matrix organization // traceable author statement /// 0038063 // collagen-activated tyrosine kinase receptor signaling pathway // inferred from direct assay /// 0038063 // collagen-activated tyrosine kinase receptor signaling pathway // inferred from mutant phenotype /// 0038083 // peptidyl-tyrosine autophosphorylation // inferred from direct assay /// 0043583 // ear development // inferred from electronic annotation /// 0044319 // wound healing, spreading of cells // inferred from mutant phenotype /// 0046777 // protein autophosphorylation // inferred from direct assay /// 0060444 // branching involved in mammary gland duct morphogenesis // inferred from electronic annotation /// 0060749 // mammary gland alveolus development // inferred from electronic annotation /// 0061302 // smooth muscle cell-matrix adhesion // inferred from mutant phenotype', '0000278 // mitotic cell cycle // traceable author statement /// 0000722 // telomere maintenance via recombination // traceable author statement /// 0000723 // telomere maintenance // traceable author statement /// 0006260 // DNA replication // traceable author statement /// 0006271 // DNA strand elongation involved in DNA replication // traceable author statement /// 0006281 // DNA repair // traceable author statement /// 0006283 // transcription-coupled nucleotide-excision repair // traceable author statement /// 0006289 // nucleotide-excision repair // traceable author statement /// 0006297 // nucleotide-excision repair, DNA gap filling // traceable author statement /// 0015979 // photosynthesis // inferred from electronic annotation /// 0015995 // chlorophyll biosynthetic process // inferred from electronic annotation /// 0032201 // telomere maintenance via semi-conservative replication // traceable author statement', '0000902 // cell morphogenesis // inferred from electronic annotation /// 0006200 // ATP catabolic process // inferred from direct assay /// 0006950 // response to stress // inferred from electronic annotation /// 0006986 // response to unfolded protein // traceable author statement /// 0034605 // cellular response to heat // inferred from direct assay /// 0042026 // protein refolding // inferred from direct assay /// 0070370 // cellular heat acclimation // inferred from mutant phenotype', '0001655 // urogenital system development // inferred from sequence or structural similarity /// 0001656 // metanephros development // inferred from electronic annotation /// 0001658 // branching involved in ureteric bud morphogenesis // inferred from expression pattern /// 0001822 // kidney development // inferred from expression pattern /// 0001823 // mesonephros development // inferred from sequence or structural similarity /// 0003337 // mesenchymal to epithelial transition involved in metanephros morphogenesis // inferred from expression pattern /// 0006351 // transcription, DNA-templated // inferred from direct assay /// 0006355 // regulation of transcription, DNA-templated // inferred from electronic annotation /// 0007275 // multicellular organismal development // inferred from electronic annotation /// 0007417 // central nervous system development // inferred from expression pattern /// 0009653 // anatomical structure morphogenesis // traceable author statement /// 0030154 // cell differentiation // inferred from electronic annotation /// 0030878 // thyroid gland development // inferred from expression pattern /// 0030878 // thyroid gland development // inferred from mutant phenotype /// 0038194 // thyroid-stimulating hormone signaling pathway // traceable author statement /// 0039003 // pronephric field specification // inferred from sequence or structural similarity /// 0042472 // inner ear morphogenesis // inferred from sequence or structural similarity /// 0042981 // regulation of apoptotic process // inferred from sequence or structural similarity /// 0045893 // positive regulation of transcription, DNA-templated // inferred from direct assay /// 0045893 // positive regulation of transcription, DNA-templated // inferred from sequence or structural similarity /// 0045944 // positive regulation of transcription from RNA polymerase II promoter // inferred from direct assay /// 0048793 // pronephros development // inferred from sequence or structural similarity /// 0071371 // cellular response to gonadotropin stimulus // inferred from direct assay /// 0071599 // otic vesicle development // inferred from expression pattern /// 0072050 // S-shaped body morphogenesis // inferred from electronic annotation /// 0072073 // kidney epithelium development // inferred from electronic annotation /// 0072108 // positive regulation of mesenchymal to epithelial transition involved in metanephros morphogenesis // inferred from sequence or structural similarity /// 0072164 // mesonephric tubule development // inferred from electronic annotation /// 0072207 // metanephric epithelium development // inferred from expression pattern /// 0072221 // metanephric distal convoluted tubule development // inferred from sequence or structural similarity /// 0072278 // metanephric comma-shaped body morphogenesis // inferred from expression pattern /// 0072284 // metanephric S-shaped body morphogenesis // inferred from expression pattern /// 0072289 // metanephric nephron tubule formation // inferred from sequence or structural similarity /// 0072305 // negative regulation of mesenchymal cell apoptotic process involved in metanephric nephron morphogenesis // inferred from sequence or structural similarity /// 0072307 // regulation of metanephric nephron tubule epithelial cell differentiation // inferred from sequence or structural similarity /// 0090190 // positive regulation of branching involved in ureteric bud morphogenesis // inferred from sequence or structural similarity /// 1900212 // negative regulation of mesenchymal cell apoptotic process involved in metanephros development // inferred from sequence or structural similarity /// 1900215 // negative regulation of apoptotic process involved in metanephric collecting duct development // inferred from sequence or structural similarity /// 1900218 // negative regulation of apoptotic process involved in metanephric nephron tubule development // inferred from sequence or structural similarity /// 2000594 // positive regulation of metanephric DCT cell differentiation // inferred from sequence or structural similarity /// 2000611 // positive regulation of thyroid hormone generation // inferred from mutant phenotype /// 2000612 // regulation of thyroid-stimulating hormone secretion // inferred from mutant phenotype', '0007165 // signal transduction // non-traceable author statement /// 0007601 // visual perception // inferred from electronic annotation /// 0007602 // phototransduction // inferred from electronic annotation /// 0007603 // phototransduction, visible light // traceable author statement /// 0016056 // rhodopsin mediated signaling pathway // traceable author statement /// 0022400 // regulation of rhodopsin mediated signaling pathway // traceable author statement /// 0030828 // positive regulation of cGMP biosynthetic process // inferred from electronic annotation /// 0031282 // regulation of guanylate cyclase activity // inferred from electronic annotation /// 0031284 // positive regulation of guanylate cyclase activity // inferred from electronic annotation /// 0050896 // response to stimulus // inferred from electronic annotation'], 'Gene Ontology Cellular Component': ['0005576 // extracellular region // inferred from electronic annotation /// 0005615 // extracellular space // inferred from direct assay /// 0005886 // plasma membrane // traceable author statement /// 0005887 // integral component of plasma membrane // traceable author statement /// 0016020 // membrane // inferred from electronic annotation /// 0016021 // integral component of membrane // inferred from electronic annotation /// 0043235 // receptor complex // inferred from direct assay /// 0070062 // extracellular vesicular exosome // inferred from direct assay', '0005634 // nucleus // inferred from electronic annotation /// 0005654 // nucleoplasm // traceable author statement /// 0005663 // DNA replication factor C complex // inferred from direct assay', '0005737 // cytoplasm // inferred from direct assay /// 0005814 // centriole // inferred from direct assay /// 0005829 // cytosol // inferred from direct assay /// 0008180 // COP9 signalosome // inferred from direct assay /// 0070062 // extracellular vesicular exosome // inferred from direct assay /// 0072562 // blood microparticle // inferred from direct assay', '0005634 // nucleus // inferred from direct assay /// 0005654 // nucleoplasm // inferred from sequence or structural similarity /// 0005730 // nucleolus // inferred from direct assay', '0001750 // photoreceptor outer segment // inferred from electronic annotation /// 0001917 // photoreceptor inner segment // inferred from electronic annotation /// 0005578 // proteinaceous extracellular matrix // inferred from electronic annotation /// 0005886 // plasma membrane // inferred from direct assay /// 0016020 // membrane // inferred from electronic annotation /// 0097381 // photoreceptor disc membrane // traceable author statement'], 'Gene Ontology Molecular Function': ['0000166 // nucleotide binding // inferred from electronic annotation /// 0004672 // protein kinase activity // inferred from electronic annotation /// 0004713 // protein tyrosine kinase activity // inferred from electronic annotation /// 0004714 // transmembrane receptor protein tyrosine kinase activity // traceable author statement /// 0005515 // protein binding // inferred from physical interaction /// 0005518 // collagen binding // inferred from direct assay /// 0005518 // collagen binding // inferred from mutant phenotype /// 0005524 // ATP binding // inferred from electronic annotation /// 0016301 // kinase activity // inferred from electronic annotation /// 0016740 // transferase activity // inferred from electronic annotation /// 0016772 // transferase activity, transferring phosphorus-containing groups // inferred from electronic annotation /// 0038062 // protein tyrosine kinase collagen receptor activity // inferred from direct assay /// 0046872 // metal ion binding // inferred from electronic annotation', '0000166 // nucleotide binding // inferred from electronic annotation /// 0003677 // DNA binding // inferred from electronic annotation /// 0005515 // protein binding // inferred from physical interaction /// 0005524 // ATP binding // inferred from electronic annotation /// 0016851 // magnesium chelatase activity // inferred from electronic annotation /// 0017111 // nucleoside-triphosphatase activity // inferred from electronic annotation', '0000166 // nucleotide binding // inferred from electronic annotation /// 0005524 // ATP binding // inferred from electronic annotation /// 0019899 // enzyme binding // inferred from physical interaction /// 0031072 // heat shock protein binding // inferred from physical interaction /// 0042623 // ATPase activity, coupled // inferred from direct assay /// 0051082 // unfolded protein binding // inferred from direct assay', '0000979 // RNA polymerase II core promoter sequence-specific DNA binding // inferred from direct assay /// 0003677 // DNA binding // inferred from direct assay /// 0003677 // DNA binding // inferred from mutant phenotype /// 0003700 // sequence-specific DNA binding transcription factor activity // inferred from direct assay /// 0004996 // thyroid-stimulating hormone receptor activity // traceable author statement /// 0005515 // protein binding // inferred from physical interaction /// 0044212 // transcription regulatory region DNA binding // inferred from direct assay', '0005509 // calcium ion binding // inferred from electronic annotation /// 0008048 // calcium sensitive guanylate cyclase activator activity // inferred from electronic annotation /// 0030249 // guanylate cyclase regulator activity // inferred from electronic annotation /// 0046872 // metal ion binding // inferred from electronic annotation']}\n"
     ]
    }
   ],
   "source": [
    "# 1. Use the 'get_gene_annotation' function from the library to get gene annotation data from the soft file.\n",
    "gene_annotation = get_gene_annotation(soft_file)\n",
    "\n",
    "# 2. Use the 'preview_df' function from the library to preview the data and print out the results.\n",
    "print(\"Gene annotation preview:\")\n",
    "print(preview_df(gene_annotation))\n"
   ]
  },
  {
   "cell_type": "markdown",
   "id": "c550d51e",
   "metadata": {},
   "source": [
    "### Step 6: Gene Identifier Mapping"
   ]
  },
  {
   "cell_type": "code",
   "execution_count": 7,
   "id": "f203b0c6",
   "metadata": {
    "execution": {
     "iopub.execute_input": "2024-06-12T11:06:06.153410Z",
     "iopub.status.busy": "2024-06-12T11:06:06.152974Z",
     "iopub.status.idle": "2024-06-12T11:06:06.559856Z",
     "shell.execute_reply": "2024-06-12T11:06:06.559456Z"
    }
   },
   "outputs": [],
   "source": [
    "if requires_gene_mapping:\n",
    "    # 1. Reading dictionary keys.\n",
    "    identifier_key = 'ID'\n",
    "    gene_symbol_key = 'Gene Symbol'\n",
    "\n",
    "    # 2. Get the dataframe storing the mapping between probe IDs and genes using the 'get_gene_mapping' function from the library.\n",
    "    gene_mapping = get_gene_mapping(gene_annotation, identifier_key, gene_symbol_key)\n",
    "\n",
    "    # 3. Apply the mapping with the 'apply_gene_mapping' function from the library, and name the resulting gene expression dataframe \"gene_data\".\n",
    "    gene_data = apply_gene_mapping(gene_data, gene_mapping)\n"
   ]
  },
  {
   "cell_type": "markdown",
   "id": "9f036bbb",
   "metadata": {},
   "source": [
    "### Step 7: Data Normalization and Merging"
   ]
  },
  {
   "cell_type": "code",
   "execution_count": 8,
   "id": "55317a24",
   "metadata": {
    "execution": {
     "iopub.execute_input": "2024-06-12T11:06:06.561655Z",
     "iopub.status.busy": "2024-06-12T11:06:06.561544Z",
     "iopub.status.idle": "2024-06-12T11:07:10.803295Z",
     "shell.execute_reply": "2024-06-12T11:07:10.802756Z"
    }
   },
   "outputs": [
    {
     "name": "stdout",
     "output_type": "stream",
     "text": [
      "For the feature 'Chronic_kidney_disease', the least common label is '0.0' with 40 occurrences. This represents 34.78% of the dataset.\n",
      "The distribution of the feature 'Chronic_kidney_disease' in this dataset is fine.\n",
      "\n",
      "Quartiles for 'Age':\n",
      "  25%: 37.45\n",
      "  50% (Median): 46.0\n",
      "  75%: 55.2\n",
      "Min: 20.3\n",
      "Max: 71.8\n",
      "The distribution of the feature 'Age' in this dataset is fine.\n",
      "\n",
      "For the feature 'Gender', the least common label is '0.0' with 42 occurrences. This represents 36.52% of the dataset.\n",
      "The distribution of the feature 'Gender' in this dataset is fine.\n",
      "\n"
     ]
    }
   ],
   "source": [
    "# 1. Normalize the obtained gene data with the 'normalize_gene_symbols_in_index' function from the library.\n",
    "normalized_gene_data = normalize_gene_symbols_in_index(gene_data)\n",
    "gene_csv_path = './preprocessed/Chronic_kidney_disease/gene_data/GSE37171.csv'\n",
    "normalized_gene_data.to_csv(gene_csv_path)\n",
    "\n",
    "# 2. Merge the clinical and genetic data with the 'geo_merge_clinical_genetic_data' function from the library.\n",
    "merged_data = geo_merge_clinical_genetic_data(selected_clinical_data, normalized_gene_data)\n",
    "\n",
    "# 3. Determine whether the trait and some demographic attributes in the data is severely biased, and remove biased attributes.\n",
    "trait_biased, unbiased_merged_data = judge_and_remove_biased_features(merged_data, 'Chronic_kidney_disease')\n",
    "trait_biased = trait_biased\n",
    "\n",
    "# If the trait is not severely biased, save the cohort information and the merged data.\n",
    "\n",
    "# 4. Save the cohort information.\n",
    "save_cohort_info('GSE37171', './preprocessed/Chronic_kidney_disease/cohort_info.json', True, True, trait_biased, unbiased_merged_data)\n",
    "\n",
    "if not trait_biased:\n",
    "    # 5. If the trait is not severely biased, save the merged data to a csv file.\n",
    "    csv_path = './preprocessed/Chronic_kidney_disease/GSE37171.csv'\n",
    "    unbiased_merged_data.to_csv(csv_path)\n"
   ]
  }
 ],
 "metadata": {
  "language_info": {
   "codemirror_mode": {
    "name": "ipython",
    "version": 3
   },
   "file_extension": ".py",
   "mimetype": "text/x-python",
   "name": "python",
   "nbconvert_exporter": "python",
   "pygments_lexer": "ipython3",
   "version": "3.8.17"
  }
 },
 "nbformat": 4,
 "nbformat_minor": 5
}
