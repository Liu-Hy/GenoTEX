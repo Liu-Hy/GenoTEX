{
 "cells": [
  {
   "cell_type": "code",
   "execution_count": 1,
   "id": "28e7c5e9",
   "metadata": {
    "execution": {
     "iopub.execute_input": "2024-06-12T11:05:21.706478Z",
     "iopub.status.busy": "2024-06-12T11:05:21.706380Z",
     "iopub.status.idle": "2024-06-12T11:05:21.710401Z",
     "shell.execute_reply": "2024-06-12T11:05:21.710121Z"
    }
   },
   "outputs": [],
   "source": [
    "\n",
    "import sys\n",
    "sys.path.append('/home/techt/Desktop/a4s')\n"
   ]
  },
  {
   "cell_type": "markdown",
   "id": "666cc44d",
   "metadata": {},
   "source": [
    "### Step 1: Initial Data Loading"
   ]
  },
  {
   "cell_type": "code",
   "execution_count": 2,
   "id": "0d80c258",
   "metadata": {
    "execution": {
     "iopub.execute_input": "2024-06-12T11:05:21.712307Z",
     "iopub.status.busy": "2024-06-12T11:05:21.712182Z",
     "iopub.status.idle": "2024-06-12T11:05:21.981845Z",
     "shell.execute_reply": "2024-06-12T11:05:21.981466Z"
    }
   },
   "outputs": [
    {
     "name": "stdout",
     "output_type": "stream",
     "text": [
      "Background Information:\n",
      "!Series_title\t\"An integrative analysis of renal miRNA- and mRNA-expression signatures in progressive chronic kidney disease\"\n",
      "!Series_summary\t\"This SuperSeries is composed of the SubSeries listed below.\"\n",
      "!Series_overall_design\t\"Refer to individual Series\"\n",
      "Sample Characteristics Dictionary:\n",
      "{0: ['gender: male', 'gender: female', 'tissue: kidney biopsy'], 1: ['age (yrs): 72', 'age (yrs): 20', 'age (yrs): 64', 'age (yrs): 17', 'age (yrs): 46', 'age (yrs): 55', 'age (yrs): 74', 'age (yrs): 49', 'age (yrs): 42', 'age (yrs): 73', 'age (yrs): 63', 'age (yrs): 33', 'age (yrs): 24', 'age (yrs): 45', 'age (yrs): 70', 'age (yrs): 60', 'age (yrs): 67', 'age (yrs): 31', 'age (yrs): 53', 'age (yrs): 22', 'age (yrs): 54', 'age (yrs): 40', 'age (yrs): 38', 'age (yrs): 19', 'age (yrs): 28', 'age (yrs): 65', 'age (yrs): 58', 'age (yrs): 56', 'age (yrs): 34', 'age (yrs): 59'], 2: ['diagnosis: Diabetic Nephropathy', 'diagnosis: Focal-Segmental Glomerulosclerosis', 'diagnosis: Hypertensive Nephropathy', 'diagnosis: IgA-Nephropathy', 'diagnosis: Membranous Nephropathy', 'diagnosis: Minimal-Change Disease', 'diagnosis: Other/Unknown', 'age (yrs): 41.6', 'age (yrs): 59.0', 'age (yrs): 21.0', 'age (yrs): 33.0', 'age (yrs): 35.0', 'age (yrs): 24.0', 'age (yrs): 70.0', 'age (yrs): 43.0', 'age (yrs): 45.0', 'age (yrs): 44.0', 'age (yrs): 54.0', 'age (yrs): 74.0', 'age (yrs): 31.0', 'age (yrs): 49.0', 'age (yrs): 28.0', 'age (yrs): 26.0', 'age (yrs): 47.0', 'age (yrs): 20.0', 'age (yrs): 71.0', 'age (yrs): 58.0', 'age (yrs): 18.0', 'age (yrs): 32.0', 'age (yrs): 55.0'], 3: ['clinical course: stable', 'clinical course: progressive', 'diagnosis: IgA nephropathy', 'diagnosis: Glomerulonephritis, not specified', 'diagnosis: Lupus nephritis class 4', 'diagnosis: Lupus nephritis class 5', 'diagnosis: Membranoproliferative glomerulonephritis', 'diagnosis: Focal-segmental glomerulosclerosis', 'diagnosis: Vasculitis', 'diagnosis: Membranous nephropathy', 'diagnosis: Lupus nephritis class 3', 'diagnosis: Minimal change disease', 'diagnosis: Diabetic nephropathy'], 4: [nan, 'clinical course: progressive', 'clinical course: stable']}\n"
     ]
    }
   ],
   "source": [
    "from utils.preprocess import *\n",
    "# 1. Identify the paths to the soft file and the matrix file\n",
    "cohort_dir = '/media/techt/DATA/GEO/Chronic_kidney_disease/GSE60861'\n",
    "soft_file, matrix_file = geo_get_relevant_filepaths(cohort_dir)\n",
    "\n",
    "# 2. Read the matrix file to obtain background information and sample characteristics data\n",
    "background_prefixes = ['!Series_title', '!Series_summary', '!Series_overall_design']\n",
    "clinical_prefixes = ['!Sample_geo_accession', '!Sample_characteristics_ch1']\n",
    "background_info, clinical_data = get_background_and_clinical_data(matrix_file, background_prefixes, clinical_prefixes)\n",
    "\n",
    "# 3. Obtain the sample characteristics dictionary from the clinical dataframe\n",
    "sample_characteristics_dict = get_unique_values_by_row(clinical_data)\n",
    "\n",
    "# 4. Explicitly print out all the background information and the sample characteristics dictionary\n",
    "print(\"Background Information:\")\n",
    "print(background_info)\n",
    "print(\"Sample Characteristics Dictionary:\")\n",
    "print(sample_characteristics_dict)\n"
   ]
  },
  {
   "cell_type": "markdown",
   "id": "46eff907",
   "metadata": {},
   "source": [
    "### Step 2: Dataset Analysis and Clinical Feature Extraction"
   ]
  },
  {
   "cell_type": "code",
   "execution_count": 3,
   "id": "48198a94",
   "metadata": {
    "execution": {
     "iopub.execute_input": "2024-06-12T11:05:21.983580Z",
     "iopub.status.busy": "2024-06-12T11:05:21.983466Z",
     "iopub.status.idle": "2024-06-12T11:05:21.987273Z",
     "shell.execute_reply": "2024-06-12T11:05:21.986980Z"
    }
   },
   "outputs": [],
   "source": [
    "is_gene_available = True\n",
    "trait_row = None  # There is no explicit information about 'Chronic_kidney_disease'\n",
    "age_row = 1  # Age information is available at key 1\n",
    "gender_row = 0  # Gender information is available at key 0\n",
    "convert_trait = convert_age = convert_gender = None  # define the functions when applicable\n",
    "\n",
    "# Define the conversion functions\n",
    "def extract_value(value):\n",
    "    if ':' in value:\n",
    "        return value.split(':')[1].strip()\n",
    "    return None\n",
    "\n",
    "def convert_age(value):\n",
    "    extracted_value = extract_value(value)\n",
    "    try:\n",
    "        return float(extracted_value)\n",
    "    except (ValueError, TypeError):\n",
    "        return None\n",
    "\n",
    "def convert_gender(value):\n",
    "    extracted_value = extract_value(value)\n",
    "    if extracted_value.lower() == 'female':\n",
    "        return 0\n",
    "    elif extracted_value.lower() == 'male':\n",
    "        return 1\n",
    "    else:\n",
    "        return None\n",
    "\n",
    "# Save cohort information\n",
    "save_cohort_info('GSE60861', './preprocessed/Chronic_kidney_disease/cohort_info.json', is_gene_available, trait_row is not None)\n"
   ]
  }
 ],
 "metadata": {
  "language_info": {
   "codemirror_mode": {
    "name": "ipython",
    "version": 3
   },
   "file_extension": ".py",
   "mimetype": "text/x-python",
   "name": "python",
   "nbconvert_exporter": "python",
   "pygments_lexer": "ipython3",
   "version": "3.8.17"
  }
 },
 "nbformat": 4,
 "nbformat_minor": 5
}
