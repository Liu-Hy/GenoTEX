{
 "cells": [
  {
   "cell_type": "code",
   "execution_count": 1,
   "id": "e512d6f1",
   "metadata": {
    "execution": {
     "iopub.execute_input": "2024-06-12T11:03:41.626519Z",
     "iopub.status.busy": "2024-06-12T11:03:41.626358Z",
     "iopub.status.idle": "2024-06-12T11:03:41.631984Z",
     "shell.execute_reply": "2024-06-12T11:03:41.631545Z"
    }
   },
   "outputs": [],
   "source": [
    "\n",
    "import sys\n",
    "sys.path.append('/home/techt/Desktop/a4s')\n"
   ]
  },
  {
   "cell_type": "markdown",
   "id": "1c536620",
   "metadata": {},
   "source": [
    "### Step 1: Initial Data Loading"
   ]
  },
  {
   "cell_type": "code",
   "execution_count": 2,
   "id": "12240743",
   "metadata": {
    "execution": {
     "iopub.execute_input": "2024-06-12T11:03:41.634038Z",
     "iopub.status.busy": "2024-06-12T11:03:41.633886Z",
     "iopub.status.idle": "2024-06-12T11:03:41.932823Z",
     "shell.execute_reply": "2024-06-12T11:03:41.932308Z"
    }
   },
   "outputs": [
    {
     "name": "stdout",
     "output_type": "stream",
     "text": [
      "Background Information:\n",
      "!Series_title\t\"Tubulointerstitial transcriptome from ERCB subjects with chronic kidney disease and living donor biopsies.\"\n",
      "!Series_summary\t\"summary : Tubulointerstitial transcriptome from ERCB subjects with chronic kidney disease and living donor biopsies. Samples included in this analysis have been previously analyzed using older CDF definitions and are included under previous GEO submissions - GSE47184 (chronic kidney disease samples), and GSE32591 (IgA nephropathy samples).  \"\n",
      "!Series_overall_design\t\"RNA from the tubulointerstitial compartment of was extracted and processed for hybridization on Affymetrix microarrays, annotated using Human Entrez Gene ID custom CDF version 19.\"\n",
      "Sample Characteristics Dictionary:\n",
      "{0: ['tissue: Tubulointerstitium from kidney biopsy'], 1: ['diagnosis: Diabetic nephropathy', 'diagnosis: Focal segmental glomerulosclerosis and minimal change disease', 'diagnosis: Focal segmental glomerulosclerosis', nan, 'diagnosis: Minimal change disease', 'diagnosis: ANCA-associated vasculitis', 'diagnosis: Tumor nephrectomy']}\n"
     ]
    }
   ],
   "source": [
    "from utils.preprocess import *\n",
    "# 1. Identify the paths to the soft file and the matrix file\n",
    "cohort_dir = '/media/techt/DATA/GEO/Chronic_kidney_disease/GSE104954'\n",
    "soft_file, matrix_file = geo_get_relevant_filepaths(cohort_dir)\n",
    "\n",
    "# 2. Read the matrix file to obtain background information and sample characteristics data\n",
    "background_prefixes = ['!Series_title', '!Series_summary', '!Series_overall_design']\n",
    "clinical_prefixes = ['!Sample_geo_accession', '!Sample_characteristics_ch1']\n",
    "background_info, clinical_data = get_background_and_clinical_data(matrix_file, background_prefixes, clinical_prefixes)\n",
    "\n",
    "# 3. Obtain the sample characteristics dictionary from the clinical dataframe\n",
    "sample_characteristics_dict = get_unique_values_by_row(clinical_data)\n",
    "\n",
    "# 4. Explicitly print out all the background information and the sample characteristics dictionary\n",
    "print(\"Background Information:\")\n",
    "print(background_info)\n",
    "print(\"Sample Characteristics Dictionary:\")\n",
    "print(sample_characteristics_dict)\n"
   ]
  },
  {
   "cell_type": "markdown",
   "id": "1e0496dd",
   "metadata": {},
   "source": [
    "### Step 2: Dataset Analysis and Clinical Feature Extraction"
   ]
  },
  {
   "cell_type": "code",
   "execution_count": 3,
   "id": "828ee70c",
   "metadata": {
    "execution": {
     "iopub.execute_input": "2024-06-12T11:03:41.934691Z",
     "iopub.status.busy": "2024-06-12T11:03:41.934576Z",
     "iopub.status.idle": "2024-06-12T11:03:41.945572Z",
     "shell.execute_reply": "2024-06-12T11:03:41.945210Z"
    }
   },
   "outputs": [
    {
     "name": "stdout",
     "output_type": "stream",
     "text": [
      "{'GSM2811029': [1], 'GSM2811030': [1], 'GSM2811031': [1], 'GSM2811032': [1], 'GSM2811033': [1], 'GSM2811034': [1], 'GSM2811035': [1], 'GSM2811036': [0], 'GSM2811037': [0], 'GSM2811038': [0], 'GSM2811039': [0], 'GSM2811040': [0], 'GSM2811041': [0], 'GSM2811042': [0], 'GSM2811043': [None], 'GSM2811044': [None], 'GSM2811045': [None], 'GSM2811046': [None], 'GSM2811047': [None], 'GSM2811048': [None], 'GSM2811049': [None], 'GSM2811050': [None], 'GSM2811051': [None], 'GSM2811052': [None], 'GSM2811053': [None], 'GSM2811054': [None], 'GSM2811055': [None], 'GSM2811056': [None], 'GSM2811057': [None], 'GSM2811058': [None], 'GSM2811059': [None], 'GSM2811060': [None], 'GSM2811061': [0], 'GSM2811062': [0], 'GSM2811063': [0], 'GSM2811064': [0], 'GSM2811065': [0], 'GSM2811066': [0], 'GSM2811067': [0], 'GSM2811068': [0], 'GSM2811069': [0], 'GSM2811070': [0], 'GSM2811071': [0], 'GSM2811072': [0], 'GSM2811073': [0], 'GSM2811074': [0], 'GSM2811075': [0], 'GSM2811076': [0], 'GSM2811077': [0], 'GSM2811078': [0], 'GSM2811079': [0], 'GSM2811080': [0], 'GSM2811081': [0], 'GSM2811082': [0], 'GSM2811083': [0], 'GSM2811084': [0], 'GSM2811085': [0], 'GSM2811086': [0], 'GSM2811087': [0], 'GSM2811088': [0]}\n"
     ]
    }
   ],
   "source": [
    "is_gene_available = False\n",
    "trait_row = age_row = gender_row = None  # set to different values when applicable\n",
    "convert_trait = convert_age = convert_gender = None  # define the functions when applicable\n",
    "\n",
    "import numpy as np  # Import needed to fix 'nan' error\n",
    "\n",
    "# 1. Gene Expression Data Availability\n",
    "if \"Affymetrix microarrays\" in \"!Series_overall_design\\t\" or \"!Series_summary\\t\":\n",
    "    is_gene_available = True\n",
    "\n",
    "# 2. Variable Availability and Data Type Conversion\n",
    "\n",
    "# Extract available variables from the provided sample characteristics dictionary\n",
    "sample_characteristics = {\n",
    "    0: ['tissue: Tubulointerstitium from kidney biopsy'], \n",
    "    1: ['diagnosis: Diabetic nephropathy', \n",
    "        'diagnosis: Minimal change disease', \n",
    "        'diagnosis: Thin membrande disease', \n",
    "        'diagnosis: Hypertensive nephropathy', \n",
    "        'diagnosis: Tumor nephrectomy', \n",
    "        'diagnosis: IgA nephropathy', \n",
    "        'diagnosis: Systemic lupus erythematosus', \n",
    "        'diagnosis: Membranous glomerulonephropathy', \n",
    "        'diagnosis: Focal segmental glomerulosclerosis', \n",
    "        np.nan  # Updated the 'nan' to 'np.nan'\n",
    "    ]\n",
    "}\n",
    "\n",
    "# Placeholder row indices (these are guessed based on typical dataset observations)\n",
    "row_index_guess = {'diagnosis': 1}  \n",
    "\n",
    "# 2.1 Data Availability\n",
    "exact_keys = {'Chronic_kidney_disease': 'diagnosis'}\n",
    "for variable, field in exact_keys.items():\n",
    "    if row_index_guess.get(field) is not None:\n",
    "        trait_row = row_index_guess[field]  # Update this if an exact match is found.\n",
    "\n",
    "# Assuming no keys for age and gender available in given data\n",
    "age_row = gender_row = None\n",
    "\n",
    "# 2.3 Data Type Conversion\n",
    "def convert_trait(value):\n",
    "    try:\n",
    "        return 1 if 'diagnosis' in value and 'nephropathy' in value else 0\n",
    "    except:\n",
    "        return None\n",
    "\n",
    "def convert_age(value):\n",
    "    return None  # Placeholder return, need actual conversion logic if age data available later\n",
    "\n",
    "def convert_gender(value):\n",
    "    return None  # Placeholder return, need actual conversion logic if gender data available later\n",
    "\n",
    "# 3. Save Metadata\n",
    "save_cohort_info('GSE104954', './preprocessed/Chronic_kidney_disease/cohort_info.json', is_gene_available, trait_row is not None)\n",
    "\n",
    "# 4. Clinical Feature Extraction\n",
    "if trait_row is not None:\n",
    "    selected_clinical_data = geo_select_clinical_features(clinical_data, 'Chronic_kidney_disease', trait_row, convert_trait, age_row, convert_age, gender_row, convert_gender)\n",
    "    csv_path = './preprocessed/Chronic_kidney_disease/trait_data/GSE104954.csv'\n",
    "    selected_clinical_data.to_csv(csv_path)\n",
    "    print(preview_df(selected_clinical_data))\n"
   ]
  },
  {
   "cell_type": "markdown",
   "id": "210d24d0",
   "metadata": {},
   "source": [
    "### Step 3: Gene Data Extraction"
   ]
  },
  {
   "cell_type": "code",
   "execution_count": 4,
   "id": "dd692637",
   "metadata": {
    "execution": {
     "iopub.execute_input": "2024-06-12T11:03:41.947289Z",
     "iopub.status.busy": "2024-06-12T11:03:41.947182Z",
     "iopub.status.idle": "2024-06-12T11:03:42.047695Z",
     "shell.execute_reply": "2024-06-12T11:03:42.047187Z"
    }
   },
   "outputs": [
    {
     "name": "stdout",
     "output_type": "stream",
     "text": [
      "Index(['10000_at', '10001_at', '10002_at', '10003_at', '100048912_at',\n",
      "       '10004_at', '10005_at', '10006_at', '10007_at', '100093698_at',\n",
      "       '10009_at', '1000_at', '10010_at', '100126791_at', '100128124_at',\n",
      "       '100128640_at', '100129128_at', '100129250_at', '100129271_at',\n",
      "       '100129361_at'],\n",
      "      dtype='object', name='ID')\n"
     ]
    }
   ],
   "source": [
    "# 1. Use the get_genetic_data function from the library to get the gene_data from the matrix_file previously defined.\n",
    "gene_data = get_genetic_data(matrix_file)\n",
    "\n",
    "# 2. Print the first 20 row ids for the following step.\n",
    "print(gene_data.index[:20])\n"
   ]
  },
  {
   "cell_type": "markdown",
   "id": "23d37ea4",
   "metadata": {},
   "source": [
    "### Step 4: Gene Identifier Review"
   ]
  },
  {
   "cell_type": "code",
   "execution_count": 5,
   "id": "3539631d",
   "metadata": {
    "execution": {
     "iopub.execute_input": "2024-06-12T11:03:42.049577Z",
     "iopub.status.busy": "2024-06-12T11:03:42.049466Z",
     "iopub.status.idle": "2024-06-12T11:03:42.051598Z",
     "shell.execute_reply": "2024-06-12T11:03:42.051235Z"
    }
   },
   "outputs": [],
   "source": [
    "requires_gene_mapping = True\n"
   ]
  },
  {
   "cell_type": "markdown",
   "id": "7b058881",
   "metadata": {},
   "source": [
    "### Step 5: Gene Annotation (Conditional)"
   ]
  },
  {
   "cell_type": "code",
   "execution_count": 6,
   "id": "25dca40f",
   "metadata": {
    "execution": {
     "iopub.execute_input": "2024-06-12T11:03:42.053763Z",
     "iopub.status.busy": "2024-06-12T11:03:42.053661Z",
     "iopub.status.idle": "2024-06-12T11:03:44.935371Z",
     "shell.execute_reply": "2024-06-12T11:03:44.934841Z"
    }
   },
   "outputs": [
    {
     "name": "stdout",
     "output_type": "stream",
     "text": [
      "Gene annotation preview:\n",
      "{'ID': ['1000_at', '10000_at', '100009676_at', '10001_at', '10004_at'], 'Symbol': ['CDH2', 'AKT3', 'ZBTB11-AS1', 'MED6', 'NAALADL1'], 'SPOT_ID': ['cadherin 2', 'AKT serine/threonine kinase 3', 'ZBTB11 antisense RNA 1', 'mediator complex subunit 6', 'N-acetylated alpha-linked acidic dipeptidase-like 1'], 'ENTREZ_GENE_ID': ['1000', '10000', '100009676', '10001', '10004']}\n"
     ]
    }
   ],
   "source": [
    "# 1. Use the 'get_gene_annotation' function from the library to get gene annotation data from the soft file.\n",
    "gene_annotation = get_gene_annotation(soft_file)\n",
    "\n",
    "# 2. Use the 'preview_df' function from the library to preview the data and print out the results.\n",
    "print(\"Gene annotation preview:\")\n",
    "print(preview_df(gene_annotation))\n"
   ]
  },
  {
   "cell_type": "markdown",
   "id": "b5074c8b",
   "metadata": {},
   "source": [
    "### Step 6: Gene Identifier Mapping"
   ]
  },
  {
   "cell_type": "code",
   "execution_count": 7,
   "id": "8b88aa41",
   "metadata": {
    "execution": {
     "iopub.execute_input": "2024-06-12T11:03:44.937359Z",
     "iopub.status.busy": "2024-06-12T11:03:44.937234Z",
     "iopub.status.idle": "2024-06-12T11:03:57.398790Z",
     "shell.execute_reply": "2024-06-12T11:03:57.398230Z"
    }
   },
   "outputs": [],
   "source": [
    "# 1. Identify the keys storing probe IDs and gene symbols from the gene annotation dictionary\n",
    "identifier_key = 'ID'\n",
    "gene_symbol_key = 'Symbol'\n",
    "\n",
    "# 2. Get the dataframe storing the mapping between probe IDs and genes\n",
    "gene_mapping = get_gene_mapping(gene_annotation, identifier_key, gene_symbol_key)\n",
    "\n",
    "# 3. Apply the mapping to get the gene expression dataframe\n",
    "gene_data = apply_gene_mapping(gene_data, gene_mapping)\n"
   ]
  }
 ],
 "metadata": {
  "language_info": {
   "codemirror_mode": {
    "name": "ipython",
    "version": 3
   },
   "file_extension": ".py",
   "mimetype": "text/x-python",
   "name": "python",
   "nbconvert_exporter": "python",
   "pygments_lexer": "ipython3",
   "version": "3.8.17"
  }
 },
 "nbformat": 4,
 "nbformat_minor": 5
}
