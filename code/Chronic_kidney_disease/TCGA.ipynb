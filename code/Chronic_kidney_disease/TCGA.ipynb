{
 "cells": [
  {
   "cell_type": "code",
   "execution_count": 1,
   "id": "b1b98b88",
   "metadata": {
    "execution": {
     "iopub.execute_input": "2025-03-25T08:19:14.408918Z",
     "iopub.status.busy": "2025-03-25T08:19:14.408730Z",
     "iopub.status.idle": "2025-03-25T08:19:14.574906Z",
     "shell.execute_reply": "2025-03-25T08:19:14.574504Z"
    }
   },
   "outputs": [],
   "source": [
    "import sys\n",
    "import os\n",
    "sys.path.append(os.path.abspath(os.path.join(os.getcwd(), '../..')))\n",
    "\n",
    "# Path Configuration\n",
    "from tools.preprocess import *\n",
    "\n",
    "# Processing context\n",
    "trait = \"Chronic_kidney_disease\"\n",
    "\n",
    "# Input paths\n",
    "tcga_root_dir = \"../../input/TCGA\"\n",
    "\n",
    "# Output paths\n",
    "out_data_file = \"../../output/preprocess/Chronic_kidney_disease/TCGA.csv\"\n",
    "out_gene_data_file = \"../../output/preprocess/Chronic_kidney_disease/gene_data/TCGA.csv\"\n",
    "out_clinical_data_file = \"../../output/preprocess/Chronic_kidney_disease/clinical_data/TCGA.csv\"\n",
    "json_path = \"../../output/preprocess/Chronic_kidney_disease/cohort_info.json\"\n"
   ]
  },
  {
   "cell_type": "markdown",
   "id": "6895d429",
   "metadata": {},
   "source": [
    "### Step 1: Initial Data Loading"
   ]
  },
  {
   "cell_type": "code",
   "execution_count": 2,
   "id": "da823839",
   "metadata": {
    "execution": {
     "iopub.execute_input": "2025-03-25T08:19:14.576143Z",
     "iopub.status.busy": "2025-03-25T08:19:14.575988Z",
     "iopub.status.idle": "2025-03-25T08:19:14.835011Z",
     "shell.execute_reply": "2025-03-25T08:19:14.834467Z"
    }
   },
   "outputs": [
    {
     "name": "stdout",
     "output_type": "stream",
     "text": [
      "Looking for a relevant cohort directory for Chronic_kidney_disease...\n",
      "Available cohorts: ['TCGA_Liver_Cancer_(LIHC)', 'TCGA_Lower_Grade_Glioma_(LGG)', 'TCGA_lower_grade_glioma_and_glioblastoma_(GBMLGG)', 'TCGA_Lung_Adenocarcinoma_(LUAD)', 'TCGA_Lung_Cancer_(LUNG)', 'TCGA_Lung_Squamous_Cell_Carcinoma_(LUSC)', 'TCGA_Melanoma_(SKCM)', 'TCGA_Mesothelioma_(MESO)', 'TCGA_Ocular_melanomas_(UVM)', 'TCGA_Ovarian_Cancer_(OV)', 'TCGA_Pancreatic_Cancer_(PAAD)', 'TCGA_Pheochromocytoma_Paraganglioma_(PCPG)', 'TCGA_Prostate_Cancer_(PRAD)', 'TCGA_Rectal_Cancer_(READ)', 'TCGA_Sarcoma_(SARC)', 'TCGA_Stomach_Cancer_(STAD)', 'TCGA_Testicular_Cancer_(TGCT)', 'TCGA_Thymoma_(THYM)', 'TCGA_Thyroid_Cancer_(THCA)', 'TCGA_Uterine_Carcinosarcoma_(UCS)', '.DS_Store', 'CrawlData.ipynb', 'TCGA_Acute_Myeloid_Leukemia_(LAML)', 'TCGA_Adrenocortical_Cancer_(ACC)', 'TCGA_Bile_Duct_Cancer_(CHOL)', 'TCGA_Bladder_Cancer_(BLCA)', 'TCGA_Breast_Cancer_(BRCA)', 'TCGA_Cervical_Cancer_(CESC)', 'TCGA_Colon_and_Rectal_Cancer_(COADREAD)', 'TCGA_Colon_Cancer_(COAD)', 'TCGA_Endometrioid_Cancer_(UCEC)', 'TCGA_Esophageal_Cancer_(ESCA)', 'TCGA_Glioblastoma_(GBM)', 'TCGA_Head_and_Neck_Cancer_(HNSC)', 'TCGA_Kidney_Chromophobe_(KICH)', 'TCGA_Kidney_Clear_Cell_Carcinoma_(KIRC)', 'TCGA_Kidney_Papillary_Cell_Carcinoma_(KIRP)', 'TCGA_Large_Bcell_Lymphoma_(DLBC)']\n",
      "Kidney disease-related cohorts: ['TCGA_Kidney_Chromophobe_(KICH)', 'TCGA_Kidney_Clear_Cell_Carcinoma_(KIRC)', 'TCGA_Kidney_Papillary_Cell_Carcinoma_(KIRP)']\n",
      "Selected cohort: TCGA_Kidney_Chromophobe_(KICH)\n",
      "Clinical data file: TCGA.KICH.sampleMap_KICH_clinicalMatrix\n",
      "Genetic data file: TCGA.KICH.sampleMap_HiSeqV2_PANCAN.gz\n"
     ]
    },
    {
     "name": "stdout",
     "output_type": "stream",
     "text": [
      "\n",
      "Clinical data columns:\n",
      "['_INTEGRATION', '_PATIENT', '_cohort', '_primary_disease', '_primary_site', 'additional_pharmaceutical_therapy', 'additional_radiation_therapy', 'additional_surgery_locoregional_procedure', 'additional_surgery_metastatic_procedure', 'age_at_initial_pathologic_diagnosis', 'bcr_followup_barcode', 'bcr_patient_barcode', 'bcr_sample_barcode', 'clinical_M', 'days_to_additional_surgery_metastatic_procedure', 'days_to_birth', 'days_to_death', 'days_to_initial_pathologic_diagnosis', 'days_to_last_followup', 'days_to_new_tumor_event_after_initial_treatment', 'eastern_cancer_oncology_group', 'followup_case_report_form_submission_reason', 'followup_treatment_success', 'form_completion_date', 'gender', 'hemoglobin_result', 'histological_type', 'history_of_neoadjuvant_treatment', 'icd_10', 'icd_o_3_histology', 'icd_o_3_site', 'informed_consent_verified', 'intermediate_dimension', 'is_ffpe', 'karnofsky_performance_score', 'lactate_dehydrogenase_result', 'laterality', 'longest_dimension', 'lost_follow_up', 'lymph_node_examined_count', 'new_tumor_event_after_initial_treatment', 'number_of_lymphnodes_positive', 'number_pack_years_smoked', 'other_dx', 'pathologic_M', 'pathologic_N', 'pathologic_T', 'pathologic_stage', 'pathology_report_file_name', 'patient_id', 'percent_tumor_sarcomatoid', 'performance_status_scale_timing', 'person_neoplasm_cancer_status', 'platelet_qualitative_result', 'presence_of_sarcomatoid_features', 'primary_lymph_node_presentation_assessment', 'primary_therapy_outcome_success', 'radiation_therapy', 'sample_type', 'sample_type_id', 'serum_calcium_result', 'shortest_dimension', 'stopped_smoking_year', 'system_version', 'targeted_molecular_therapy', 'tissue_prospective_collection_indicator', 'tissue_retrospective_collection_indicator', 'tissue_source_site', 'tobacco_smoking_history', 'tumor_tissue_site', 'vial_number', 'vital_status', 'white_cell_count_result', 'year_of_initial_pathologic_diagnosis', 'year_of_tobacco_smoking_onset', '_GENOMIC_ID_TCGA_KICH_PDMRNAseq', '_GENOMIC_ID_TCGA_KICH_exp_HiSeqV2_percentile', '_GENOMIC_ID_TCGA_KICH_gistic2thd', '_GENOMIC_ID_TCGA_KICH_mutation_bcgsc_gene', '_GENOMIC_ID_TCGA_KICH_exp_HiSeqV2', '_GENOMIC_ID_TCGA_KICH_RPPA', '_GENOMIC_ID_TCGA_KICH_miRNA_HiSeq', '_GENOMIC_ID_TCGA_KICH_mutation_bcm_gene', '_GENOMIC_ID_TCGA_KICH_exp_HiSeqV2_exon', '_GENOMIC_ID_TCGA_KICH_PDMRNAseqCNV', '_GENOMIC_ID_TCGA_KICH_exp_HiSeqV2_PANCAN', '_GENOMIC_ID_TCGA_KICH_hMethyl450', '_GENOMIC_ID_TCGA_KICH_mutation_broad_gene', '_GENOMIC_ID_data/public/TCGA/KICH/miRNA_HiSeq_gene', '_GENOMIC_ID_TCGA_KICH_gistic2']\n",
      "\n",
      "Clinical data shape: (91, 90)\n",
      "Genetic data shape: (20530, 91)\n"
     ]
    }
   ],
   "source": [
    "import os\n",
    "\n",
    "# Check if there's a suitable cohort directory for Chronic_kidney_disease\n",
    "print(f\"Looking for a relevant cohort directory for {trait}...\")\n",
    "\n",
    "# Check available cohorts\n",
    "available_dirs = os.listdir(tcga_root_dir)\n",
    "print(f\"Available cohorts: {available_dirs}\")\n",
    "\n",
    "# Kidney disease-related keywords\n",
    "kidney_keywords = ['kidney', 'renal', 'nephro', 'kich', 'kirc', 'kirp']\n",
    "\n",
    "# Look for Kidney disease-related directories\n",
    "kidney_related_dirs = []\n",
    "for d in available_dirs:\n",
    "    if any(keyword in d.lower() for keyword in kidney_keywords):\n",
    "        kidney_related_dirs.append(d)\n",
    "\n",
    "print(f\"Kidney disease-related cohorts: {kidney_related_dirs}\")\n",
    "\n",
    "if not kidney_related_dirs:\n",
    "    print(f\"No suitable cohort found for {trait}.\")\n",
    "    # Mark the task as completed by recording the unavailability\n",
    "    validate_and_save_cohort_info(\n",
    "        is_final=False,\n",
    "        cohort=\"TCGA\",\n",
    "        info_path=json_path,\n",
    "        is_gene_available=False,\n",
    "        is_trait_available=False\n",
    "    )\n",
    "    # Exit the script early since no suitable cohort was found\n",
    "    selected_cohort = None\n",
    "else:\n",
    "    # Since we're looking for chronic kidney disease specifically, prioritize \n",
    "    # directories that might be more relevant to this specific condition\n",
    "    # For now, we'll take all matches as they're all kidney-related cancers\n",
    "    selected_cohort = kidney_related_dirs[0]  # We'll use the first match if multiple exist\n",
    "\n",
    "if selected_cohort:\n",
    "    print(f\"Selected cohort: {selected_cohort}\")\n",
    "    \n",
    "    # Get the full path to the selected cohort directory\n",
    "    cohort_dir = os.path.join(tcga_root_dir, selected_cohort)\n",
    "    \n",
    "    # Get the clinical and genetic data file paths\n",
    "    clinical_file_path, genetic_file_path = tcga_get_relevant_filepaths(cohort_dir)\n",
    "    \n",
    "    print(f\"Clinical data file: {os.path.basename(clinical_file_path)}\")\n",
    "    print(f\"Genetic data file: {os.path.basename(genetic_file_path)}\")\n",
    "    \n",
    "    # Load the clinical and genetic data\n",
    "    clinical_df = pd.read_csv(clinical_file_path, index_col=0, sep='\\t')\n",
    "    genetic_df = pd.read_csv(genetic_file_path, index_col=0, sep='\\t')\n",
    "    \n",
    "    # Print the column names of the clinical data\n",
    "    print(\"\\nClinical data columns:\")\n",
    "    print(clinical_df.columns.tolist())\n",
    "    \n",
    "    # Basic info about the datasets\n",
    "    print(f\"\\nClinical data shape: {clinical_df.shape}\")\n",
    "    print(f\"Genetic data shape: {genetic_df.shape}\")\n"
   ]
  },
  {
   "cell_type": "markdown",
   "id": "8948b43d",
   "metadata": {},
   "source": [
    "### Step 2: Find Candidate Demographic Features"
   ]
  },
  {
   "cell_type": "code",
   "execution_count": 3,
   "id": "59411f9a",
   "metadata": {
    "execution": {
     "iopub.execute_input": "2025-03-25T08:19:14.836574Z",
     "iopub.status.busy": "2025-03-25T08:19:14.836444Z",
     "iopub.status.idle": "2025-03-25T08:19:14.846280Z",
     "shell.execute_reply": "2025-03-25T08:19:14.845830Z"
    }
   },
   "outputs": [
    {
     "name": "stdout",
     "output_type": "stream",
     "text": [
      "Age columns preview:\n",
      "{'age_at_initial_pathologic_diagnosis': [53.0, 71.0, 71.0, 67.0, 80.0], 'days_to_birth': [-19603.0, -26244.0, -26134.0, -24626.0, -29275.0]}\n",
      "Gender columns preview:\n",
      "{'gender': ['MALE', 'MALE', 'FEMALE', 'MALE', 'MALE']}\n"
     ]
    }
   ],
   "source": [
    "# Identifying candidate age and gender columns from clinical data columns\n",
    "candidate_age_cols = ['age_at_initial_pathologic_diagnosis', 'days_to_birth']\n",
    "candidate_gender_cols = ['gender']\n",
    "\n",
    "# Loading clinical data to preview candidate columns\n",
    "clinical_file_path, _ = tcga_get_relevant_filepaths(os.path.join(tcga_root_dir, 'TCGA_Kidney_Papillary_Cell_Carcinoma_(KIRP)'))\n",
    "clinical_df = pd.read_csv(clinical_file_path, sep='\\t', index_col=0)\n",
    "\n",
    "# Extract and preview age columns\n",
    "age_preview = {}\n",
    "for col in candidate_age_cols:\n",
    "    if col in clinical_df.columns:\n",
    "        age_preview[col] = clinical_df[col].head(5).tolist()\n",
    "\n",
    "print(\"Age columns preview:\")\n",
    "print(age_preview)\n",
    "\n",
    "# Extract and preview gender columns\n",
    "gender_preview = {}\n",
    "for col in candidate_gender_cols:\n",
    "    if col in clinical_df.columns:\n",
    "        gender_preview[col] = clinical_df[col].head(5).tolist()\n",
    "\n",
    "print(\"Gender columns preview:\")\n",
    "print(gender_preview)\n"
   ]
  },
  {
   "cell_type": "markdown",
   "id": "3d9a43c8",
   "metadata": {},
   "source": [
    "### Step 3: Select Demographic Features"
   ]
  },
  {
   "cell_type": "code",
   "execution_count": 4,
   "id": "9caf008e",
   "metadata": {
    "execution": {
     "iopub.execute_input": "2025-03-25T08:19:14.847754Z",
     "iopub.status.busy": "2025-03-25T08:19:14.847632Z",
     "iopub.status.idle": "2025-03-25T08:19:14.851271Z",
     "shell.execute_reply": "2025-03-25T08:19:14.850830Z"
    }
   },
   "outputs": [
    {
     "name": "stdout",
     "output_type": "stream",
     "text": [
      "Selected age column: age_at_initial_pathologic_diagnosis\n",
      "Age column preview: [53.0, 71.0, 71.0, 67.0, 80.0]\n",
      "Selected gender column: gender\n",
      "Gender column preview: ['MALE', 'MALE', 'FEMALE', 'MALE', 'MALE']\n"
     ]
    }
   ],
   "source": [
    "# Step: Select Demographic Features\n",
    "\n",
    "# Selecting age column\n",
    "age_columns = {'age_at_initial_pathologic_diagnosis': [53.0, 71.0, 71.0, 67.0, 80.0], \n",
    "               'days_to_birth': [-19603.0, -26244.0, -26134.0, -24626.0, -29275.0]}\n",
    "\n",
    "# Examine age columns\n",
    "# 'age_at_initial_pathologic_diagnosis' contains direct age values (in years)\n",
    "# 'days_to_birth' contains negative values representing days before birth (more complex to interpret)\n",
    "# Choose 'age_at_initial_pathologic_diagnosis' as it directly represents age in years\n",
    "age_col = 'age_at_initial_pathologic_diagnosis'\n",
    "\n",
    "# Selecting gender column\n",
    "gender_columns = {'gender': ['MALE', 'MALE', 'FEMALE', 'MALE', 'MALE']}\n",
    "\n",
    "# There's only one gender column and it contains valid values (MALE/FEMALE)\n",
    "gender_col = 'gender'\n",
    "\n",
    "# Print the chosen columns\n",
    "print(f\"Selected age column: {age_col}\")\n",
    "print(f\"Age column preview: {age_columns[age_col]}\")\n",
    "print(f\"Selected gender column: {gender_col}\")\n",
    "print(f\"Gender column preview: {gender_columns[gender_col]}\")\n"
   ]
  },
  {
   "cell_type": "markdown",
   "id": "07c078a0",
   "metadata": {},
   "source": [
    "### Step 4: Feature Engineering and Validation"
   ]
  },
  {
   "cell_type": "code",
   "execution_count": 5,
   "id": "b1c60afd",
   "metadata": {
    "execution": {
     "iopub.execute_input": "2025-03-25T08:19:14.852682Z",
     "iopub.status.busy": "2025-03-25T08:19:14.852574Z",
     "iopub.status.idle": "2025-03-25T08:19:52.373363Z",
     "shell.execute_reply": "2025-03-25T08:19:52.372794Z"
    }
   },
   "outputs": [
    {
     "name": "stdout",
     "output_type": "stream",
     "text": [
      "Clinical features (first 5 rows):\n",
      "                 Chronic_kidney_disease   Age  Gender\n",
      "sampleID                                             \n",
      "TCGA-2K-A9WE-01                       1  53.0       1\n",
      "TCGA-2Z-A9J1-01                       1  71.0       1\n",
      "TCGA-2Z-A9J2-01                       1  71.0       0\n",
      "TCGA-2Z-A9J3-01                       1  67.0       1\n",
      "TCGA-2Z-A9J5-01                       1  80.0       1\n",
      "\n",
      "Processing gene expression data...\n"
     ]
    },
    {
     "name": "stdout",
     "output_type": "stream",
     "text": [
      "Original gene data shape: (20530, 323)\n"
     ]
    },
    {
     "name": "stdout",
     "output_type": "stream",
     "text": [
      "Attempting to normalize gene symbols...\n",
      "Gene data shape after normalization: (19848, 323)\n"
     ]
    },
    {
     "name": "stdout",
     "output_type": "stream",
     "text": [
      "Gene data saved to: ../../output/preprocess/Chronic_kidney_disease/gene_data/TCGA.csv\n",
      "\n",
      "Linking clinical and genetic data...\n",
      "Clinical data shape: (352, 3)\n",
      "Genetic data shape: (19848, 323)\n",
      "Number of common samples: 323\n",
      "\n",
      "Linked data shape: (323, 19851)\n",
      "Linked data preview (first 5 rows, first few columns):\n",
      "                 Chronic_kidney_disease   Age  Gender      A1BG  A1BG-AS1\n",
      "TCGA-5P-A9KE-01                       1  70.0       1 -1.832274 -2.060683\n",
      "TCGA-B9-7268-01                       1  59.0       1 -2.074374 -2.547183\n",
      "TCGA-BQ-5879-01                       1  32.0       0  0.389126  0.522517\n",
      "TCGA-P4-A5ED-01                       1  51.0       1  1.791126  1.324417\n",
      "TCGA-Y8-A8RY-01                       1  63.0       1 -0.335474 -0.016783\n"
     ]
    },
    {
     "name": "stdout",
     "output_type": "stream",
     "text": [
      "\n",
      "Data shape after handling missing values: (323, 19851)\n",
      "\n",
      "Checking for bias in features:\n",
      "For the feature 'Chronic_kidney_disease', the least common label is '0' with 32 occurrences. This represents 9.91% of the dataset.\n",
      "The distribution of the feature 'Chronic_kidney_disease' in this dataset is fine.\n",
      "\n",
      "Quartiles for 'Age':\n",
      "  25%: 54.0\n",
      "  50% (Median): 61.459375\n",
      "  75%: 71.0\n",
      "Min: 28.0\n",
      "Max: 88.0\n",
      "The distribution of the feature 'Age' in this dataset is fine.\n",
      "\n",
      "For the feature 'Gender', the least common label is '0' with 87 occurrences. This represents 26.93% of the dataset.\n",
      "The distribution of the feature 'Gender' in this dataset is fine.\n",
      "\n",
      "\n",
      "Performing final validation...\n"
     ]
    },
    {
     "name": "stdout",
     "output_type": "stream",
     "text": [
      "Linked data saved to: ../../output/preprocess/Chronic_kidney_disease/TCGA.csv\n",
      "Clinical data saved to: ../../output/preprocess/Chronic_kidney_disease/clinical_data/TCGA.csv\n"
     ]
    }
   ],
   "source": [
    "# 1. Extract and standardize clinical features\n",
    "# Use tcga_select_clinical_features which will automatically create the trait variable and add age/gender if provided\n",
    "# Use the correct cohort identified in Step 1\n",
    "cohort_dir = os.path.join(tcga_root_dir, 'TCGA_Kidney_Papillary_Cell_Carcinoma_(KIRP)')\n",
    "clinical_file_path, genetic_file_path = tcga_get_relevant_filepaths(cohort_dir)\n",
    "\n",
    "# Load the clinical data if not already loaded\n",
    "clinical_df = pd.read_csv(clinical_file_path, sep='\\t', index_col=0)\n",
    "\n",
    "linked_clinical_df = tcga_select_clinical_features(\n",
    "    clinical_df, \n",
    "    trait=trait, \n",
    "    age_col=age_col, \n",
    "    gender_col=gender_col\n",
    ")\n",
    "\n",
    "# Print preview of clinical features\n",
    "print(\"Clinical features (first 5 rows):\")\n",
    "print(linked_clinical_df.head())\n",
    "\n",
    "# 2. Process gene expression data\n",
    "print(\"\\nProcessing gene expression data...\")\n",
    "# Load genetic data from the same cohort directory\n",
    "genetic_df = pd.read_csv(genetic_file_path, sep='\\t', index_col=0)\n",
    "\n",
    "# Check gene data shape\n",
    "print(f\"Original gene data shape: {genetic_df.shape}\")\n",
    "\n",
    "# Save a version of the gene data before normalization (as a backup)\n",
    "os.makedirs(os.path.dirname(out_gene_data_file), exist_ok=True)\n",
    "genetic_df.to_csv(out_gene_data_file.replace('.csv', '_original.csv'))\n",
    "\n",
    "# We need to transpose genetic data so genes are rows and samples are columns for normalization\n",
    "gene_df_for_norm = genetic_df.copy()  # Keep original orientation for now\n",
    "\n",
    "# Try to normalize gene symbols - adding debug output to understand what's happening\n",
    "print(\"Attempting to normalize gene symbols...\")\n",
    "try:\n",
    "    # First check if we need to transpose based on the data format\n",
    "    # In TCGA data, typically genes are rows and samples are columns\n",
    "    if gene_df_for_norm.shape[0] > gene_df_for_norm.shape[1]:\n",
    "        # More rows than columns, likely genes are rows already\n",
    "        normalized_gene_df = normalize_gene_symbols_in_index(gene_df_for_norm)\n",
    "    else:\n",
    "        # Need to transpose first\n",
    "        normalized_gene_df = normalize_gene_symbols_in_index(gene_df_for_norm.T)\n",
    "        \n",
    "    print(f\"Gene data shape after normalization: {normalized_gene_df.shape}\")\n",
    "    \n",
    "    # Check if normalization returned empty DataFrame\n",
    "    if normalized_gene_df.shape[0] == 0:\n",
    "        print(\"WARNING: Gene symbol normalization returned an empty DataFrame.\")\n",
    "        print(\"Using original gene data instead of normalized data.\")\n",
    "        # Use original data\n",
    "        normalized_gene_df = genetic_df\n",
    "    \n",
    "except Exception as e:\n",
    "    print(f\"Error during gene symbol normalization: {e}\")\n",
    "    print(\"Using original gene data instead.\")\n",
    "    normalized_gene_df = genetic_df\n",
    "\n",
    "# Save gene data\n",
    "normalized_gene_df.to_csv(out_gene_data_file)\n",
    "print(f\"Gene data saved to: {out_gene_data_file}\")\n",
    "\n",
    "# 3. Link clinical and genetic data\n",
    "# TCGA data uses the same sample IDs in both datasets\n",
    "print(\"\\nLinking clinical and genetic data...\")\n",
    "print(f\"Clinical data shape: {linked_clinical_df.shape}\")\n",
    "print(f\"Genetic data shape: {normalized_gene_df.shape}\")\n",
    "\n",
    "# Find common samples between clinical and genetic data\n",
    "# In TCGA, samples are typically columns in the gene data and index in the clinical data\n",
    "common_samples = set(linked_clinical_df.index).intersection(set(normalized_gene_df.columns))\n",
    "print(f\"Number of common samples: {len(common_samples)}\")\n",
    "\n",
    "if len(common_samples) == 0:\n",
    "    print(\"ERROR: No common samples found between clinical and genetic data.\")\n",
    "    # Try the alternative orientation\n",
    "    common_samples = set(linked_clinical_df.index).intersection(set(normalized_gene_df.index))\n",
    "    print(f\"Checking alternative orientation: {len(common_samples)} common samples found.\")\n",
    "    \n",
    "    if len(common_samples) == 0:\n",
    "        # Use is_final=False mode which doesn't require df and is_biased\n",
    "        validate_and_save_cohort_info(\n",
    "            is_final=False,\n",
    "            cohort=\"TCGA\",\n",
    "            info_path=json_path,\n",
    "            is_gene_available=True,\n",
    "            is_trait_available=True\n",
    "        )\n",
    "        print(\"The dataset was determined to be unusable for this trait due to no common samples. No data files were saved.\")\n",
    "else:\n",
    "    # Filter clinical data to only include common samples\n",
    "    linked_clinical_df = linked_clinical_df.loc[list(common_samples)]\n",
    "    \n",
    "    # Create linked data by merging\n",
    "    linked_data = pd.concat([linked_clinical_df, normalized_gene_df[list(common_samples)].T], axis=1)\n",
    "    \n",
    "    print(f\"\\nLinked data shape: {linked_data.shape}\")\n",
    "    print(\"Linked data preview (first 5 rows, first few columns):\")\n",
    "    display_cols = [trait, 'Age', 'Gender'] + list(linked_data.columns[3:5])\n",
    "    print(linked_data[display_cols].head())\n",
    "    \n",
    "    # 4. Handle missing values\n",
    "    linked_data = handle_missing_values(linked_data, trait)\n",
    "    print(f\"\\nData shape after handling missing values: {linked_data.shape}\")\n",
    "    \n",
    "    # 5. Check for bias in features\n",
    "    print(\"\\nChecking for bias in features:\")\n",
    "    is_trait_biased, linked_data = judge_and_remove_biased_features(linked_data, trait)\n",
    "    \n",
    "    # 6. Validate and save cohort info\n",
    "    print(\"\\nPerforming final validation...\")\n",
    "    is_usable = validate_and_save_cohort_info(\n",
    "        is_final=True,\n",
    "        cohort=\"TCGA\",\n",
    "        info_path=json_path,\n",
    "        is_gene_available=len(linked_data.columns) > 3,  # More than just trait/age/gender columns\n",
    "        is_trait_available=trait in linked_data.columns,\n",
    "        is_biased=is_trait_biased,\n",
    "        df=linked_data,\n",
    "        note=\"Data from TCGA Kidney Papillary Cell Carcinoma cohort used for chronic kidney disease analysis.\"\n",
    "    )\n",
    "    \n",
    "    # 7. Save linked data if usable\n",
    "    if is_usable:\n",
    "        os.makedirs(os.path.dirname(out_data_file), exist_ok=True)\n",
    "        linked_data.to_csv(out_data_file)\n",
    "        print(f\"Linked data saved to: {out_data_file}\")\n",
    "        \n",
    "        # Also save clinical data separately\n",
    "        os.makedirs(os.path.dirname(out_clinical_data_file), exist_ok=True)\n",
    "        clinical_columns = [col for col in linked_data.columns if col in [trait, 'Age', 'Gender']]\n",
    "        linked_data[clinical_columns].to_csv(out_clinical_data_file)\n",
    "        print(f\"Clinical data saved to: {out_clinical_data_file}\")\n",
    "    else:\n",
    "        print(\"The dataset was determined to be unusable for this trait. No data files were saved.\")"
   ]
  }
 ],
 "metadata": {
  "language_info": {
   "codemirror_mode": {
    "name": "ipython",
    "version": 3
   },
   "file_extension": ".py",
   "mimetype": "text/x-python",
   "name": "python",
   "nbconvert_exporter": "python",
   "pygments_lexer": "ipython3",
   "version": "3.10.16"
  }
 },
 "nbformat": 4,
 "nbformat_minor": 5
}
