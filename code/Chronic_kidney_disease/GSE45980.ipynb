{
 "cells": [
  {
   "cell_type": "code",
   "execution_count": 1,
   "id": "624780cf",
   "metadata": {
    "execution": {
     "iopub.execute_input": "2024-06-12T11:04:50.906087Z",
     "iopub.status.busy": "2024-06-12T11:04:50.905959Z",
     "iopub.status.idle": "2024-06-12T11:04:50.910369Z",
     "shell.execute_reply": "2024-06-12T11:04:50.909835Z"
    }
   },
   "outputs": [],
   "source": [
    "\n",
    "import sys\n",
    "sys.path.append('/home/techt/Desktop/a4s')\n"
   ]
  },
  {
   "cell_type": "markdown",
   "id": "3ed517c9",
   "metadata": {},
   "source": [
    "### Step 1: Initial Data Loading"
   ]
  },
  {
   "cell_type": "code",
   "execution_count": 2,
   "id": "2c71af47",
   "metadata": {
    "execution": {
     "iopub.execute_input": "2024-06-12T11:04:50.912969Z",
     "iopub.status.busy": "2024-06-12T11:04:50.912547Z",
     "iopub.status.idle": "2024-06-12T11:04:51.180254Z",
     "shell.execute_reply": "2024-06-12T11:04:51.179877Z"
    }
   },
   "outputs": [
    {
     "name": "stdout",
     "output_type": "stream",
     "text": [
      "Background Information:\n",
      "!Series_title\t\"An integrative analysis of renal miRNA- and mRNA-expression signatures in progressive chronic kidney disease [discovery cohort]\"\n",
      "!Series_summary\t\"MicroRNAs (miRNAs) significantly contribute to chronic kidney disease (CKD) progression via regulating mRNA expression and abundance. However, their association with clinical outcome remains poorly understood. We performed large scale miRNA and mRNA expression profiling on cryo-cut renal biopsy sections from n=43 subjects. miRNAs differentiating stable and progressive cases were determined, and putative target mRNAs showing inversely correlated expression profiles were identified and further characterized. We found a downregulation of 7 miRNAs in the progressive phenotype, and an upregulation of 29 target mRNAs which are involved in inflammatory response, cell-cell-interaction, apoptosis, and intracellular signaling. Particularly a diminished expression of miR-206 in progressive disease correlated significantly with the upregulation of the target mRNAs CCL19, CXCL1, IFNAR2, NCK2, PTK2B, PTPRC, RASGRP1, and TNFRSF25, all participating in inflammatory pathways. Progressive cases also showed a decreased expression of miR-532-3p, and an increased expression of target transcripts MAP3K14, TNFRSF10B/TRAIL-R2, TRADD, and TRAF2, all being involved in apoptosis pathways. miR-206, miR-532-3p and all 12 mRNA targets correlated with the degree of histological damage. \"\n",
      "!Series_summary\t\"The identified renal miRNA- and mRNA-profiles, and biological pathways may represent regulatory mechanisms, which are commonly present in various kinds of progressive chronic kidney disease.\"\n",
      "!Series_overall_design\t\"mRNA- and miRNA-profiling was performed on renal biopsy samples from human subjects with various proteinuric nephropathies, miRNA-mRNA correlations were identified for those subjects who showed a progressive decline of renal function during follow up.\"\n",
      "Sample Characteristics Dictionary:\n",
      "{0: ['gender: male', 'gender: female'], 1: ['age (yrs): 72', 'age (yrs): 20', 'age (yrs): 64', 'age (yrs): 17', 'age (yrs): 46', 'age (yrs): 55', 'age (yrs): 74', 'age (yrs): 49', 'age (yrs): 42', 'age (yrs): 73', 'age (yrs): 63', 'age (yrs): 33', 'age (yrs): 24', 'age (yrs): 45', 'age (yrs): 70', 'age (yrs): 60', 'age (yrs): 67', 'age (yrs): 31', 'age (yrs): 53', 'age (yrs): 22', 'age (yrs): 54', 'age (yrs): 40', 'age (yrs): 38', 'age (yrs): 19', 'age (yrs): 28', 'age (yrs): 65', 'age (yrs): 58', 'age (yrs): 56', 'age (yrs): 34', 'age (yrs): 59'], 2: ['diagnosis: Diabetic Nephropathy', 'diagnosis: Focal-Segmental Glomerulosclerosis', 'diagnosis: Hypertensive Nephropathy', 'diagnosis: IgA-Nephropathy', 'diagnosis: Membranous Nephropathy', 'diagnosis: Minimal-Change Disease', 'diagnosis: Other/Unknown'], 3: ['clinical course: stable', 'clinical course: progressive']}\n"
     ]
    }
   ],
   "source": [
    "from utils.preprocess import *\n",
    "# 1. Identify the paths to the soft file and the matrix file\n",
    "cohort_dir = '/media/techt/DATA/GEO/Chronic_kidney_disease/GSE45980'\n",
    "soft_file, matrix_file = geo_get_relevant_filepaths(cohort_dir)\n",
    "\n",
    "# 2. Read the matrix file to obtain background information and sample characteristics data\n",
    "background_prefixes = ['!Series_title', '!Series_summary', '!Series_overall_design']\n",
    "clinical_prefixes = ['!Sample_geo_accession', '!Sample_characteristics_ch1']\n",
    "background_info, clinical_data = get_background_and_clinical_data(matrix_file, background_prefixes, clinical_prefixes)\n",
    "\n",
    "# 3. Obtain the sample characteristics dictionary from the clinical dataframe\n",
    "sample_characteristics_dict = get_unique_values_by_row(clinical_data)\n",
    "\n",
    "# 4. Explicitly print out all the background information and the sample characteristics dictionary\n",
    "print(\"Background Information:\")\n",
    "print(background_info)\n",
    "print(\"Sample Characteristics Dictionary:\")\n",
    "print(sample_characteristics_dict)\n"
   ]
  },
  {
   "cell_type": "markdown",
   "id": "ba742fca",
   "metadata": {},
   "source": [
    "### Step 2: Dataset Analysis and Clinical Feature Extraction"
   ]
  },
  {
   "cell_type": "code",
   "execution_count": 3,
   "id": "112e5ff7",
   "metadata": {
    "execution": {
     "iopub.execute_input": "2024-06-12T11:04:51.182147Z",
     "iopub.status.busy": "2024-06-12T11:04:51.182033Z",
     "iopub.status.idle": "2024-06-12T11:04:51.196869Z",
     "shell.execute_reply": "2024-06-12T11:04:51.196570Z"
    }
   },
   "outputs": [
    {
     "name": "stdout",
     "output_type": "stream",
     "text": [
      "{'GSM1121040': [0.0, 72.0, 1.0], 'GSM1121041': [0.0, 20.0, 0.0], 'GSM1121042': [0.0, 64.0, 0.0], 'GSM1121043': [0.0, 17.0, 1.0], 'GSM1121044': [0.0, 46.0, 1.0], 'GSM1121045': [0.0, 55.0, 1.0], 'GSM1121046': [0.0, 74.0, 1.0], 'GSM1121047': [0.0, 49.0, 1.0], 'GSM1121048': [0.0, 20.0, 1.0], 'GSM1121049': [0.0, 42.0, 1.0], 'GSM1121050': [0.0, 73.0, 0.0], 'GSM1121051': [0.0, 63.0, 0.0], 'GSM1121052': [0.0, 33.0, 0.0], 'GSM1121053': [0.0, 74.0, 1.0], 'GSM1121054': [0.0, 24.0, 1.0], 'GSM1121055': [0.0, 45.0, 1.0], 'GSM1121056': [0.0, 70.0, 1.0], 'GSM1121057': [0.0, 60.0, 1.0], 'GSM1121058': [0.0, 67.0, 0.0], 'GSM1121059': [0.0, 31.0, 0.0], 'GSM1121060': [0.0, 53.0, 0.0], 'GSM1121061': [0.0, 67.0, 0.0], 'GSM1121062': [0.0, 22.0, 0.0], 'GSM1121063': [0.0, 54.0, 0.0], 'GSM1121064': [0.0, 40.0, 1.0], 'GSM1121065': [0.0, 38.0, 0.0], 'GSM1121066': [0.0, 19.0, 1.0], 'GSM1121067': [0.0, 28.0, 0.0], 'GSM1121068': [0.0, 65.0, 1.0], 'GSM1121069': [0.0, 74.0, 1.0], 'GSM1121070': [0.0, 65.0, 1.0], 'GSM1121071': [1.0, 54.0, 1.0], 'GSM1121072': [1.0, 58.0, 1.0], 'GSM1121073': [1.0, 56.0, 1.0], 'GSM1121074': [1.0, 34.0, 1.0], 'GSM1121075': [1.0, 31.0, 1.0], 'GSM1121076': [1.0, 64.0, 0.0], 'GSM1121077': [1.0, 59.0, 1.0], 'GSM1121078': [1.0, 70.0, 1.0], 'GSM1121079': [1.0, 58.0, 1.0], 'GSM1121080': [1.0, 67.0, 0.0], 'GSM1121081': [1.0, 54.0, 1.0], 'GSM1121082': [1.0, 61.0, 1.0]}\n"
     ]
    }
   ],
   "source": [
    "is_gene_available = False\n",
    "trait_row = age_row = gender_row = None  # set to different values when applicable\n",
    "convert_trait = convert_age = convert_gender = None  # define the functions when applicable\n",
    "\n",
    "# Check if gene expression data is available\n",
    "is_gene_available = True\n",
    "\n",
    "# Determine availability of variables and respective keys\n",
    "trait_row = 3 if len({v.split(\": \")[1] for v in {value for value in {3: ['clinical course: stable', 'clinical course: progressive']}[3]}}) > 1 else None\n",
    "age_row = 1 if len({v.split(\": \")[1] for v in {value for value in {1: ['age (yrs): 72', 'age (yrs): 20', 'age (yrs): 64', 'age (yrs): 17', 'age (yrs): 46', 'age (yrs): 55', 'age (yrs): 74', 'age (yrs): 49', 'age (yrs): 42', 'age (yrs): 73', 'age (yrs): 63', 'age (yrs): 33', 'age (yrs): 24', 'age (yrs): 45', 'age (yrs): 70', 'age (yrs): 60', 'age (yrs): 67', 'age (yrs): 31', 'age (yrs): 53', 'age (yrs): 22', 'age (yrs): 54', 'age (yrs): 40', 'age (yrs): 38', 'age (yrs): 19', 'age (yrs): 28', 'age (yrs): 65', 'age (yrs): 58', 'age (yrs): 56', 'age (yrs): 34', 'age (yrs): 59']}[1]}}) > 1 else None\n",
    "gender_row = 0 if len({v.split(\": \")[1] for v in {value for value in {0: ['gender: male', 'gender: female']}[0]}}) > 1 else None\n",
    "\n",
    "# Define conversion functions\n",
    "def convert_trait(value):\n",
    "    try:\n",
    "        val = value.split(': ')[1].strip().lower()\n",
    "        return 1 if val == 'progressive' else 0 if val == 'stable' else None\n",
    "    except:\n",
    "        return None\n",
    "\n",
    "def convert_age(value):\n",
    "    try:\n",
    "        val = value.split(': ')[1].strip()\n",
    "        return float(val) if val.isnumeric() else None\n",
    "    except:\n",
    "        return None\n",
    "\n",
    "def convert_gender(value):\n",
    "    try:\n",
    "        val = value.split(': ')[1].strip().lower()\n",
    "        return 1 if val == 'male' else 0 if val == 'female' else None\n",
    "    except:\n",
    "        return None\n",
    "\n",
    "# Save cohort information\n",
    "save_cohort_info('GSE45980', './preprocessed/Chronic_kidney_disease/cohort_info.json', is_gene_available, trait_row is not None)\n",
    "\n",
    "# Clinical Feature Extraction\n",
    "if trait_row is not None:\n",
    "    selected_clinical_data = geo_select_clinical_features(clinical_data, 'Chronic_kidney_disease', trait_row, convert_trait, age_row, convert_age, gender_row, convert_gender)\n",
    "    csv_path = './preprocessed/Chronic_kidney_disease/trait_data/GSE45980.csv'\n",
    "    selected_clinical_data.to_csv(csv_path)\n",
    "    print(preview_df(selected_clinical_data))\n"
   ]
  },
  {
   "cell_type": "markdown",
   "id": "adfba284",
   "metadata": {},
   "source": [
    "### Step 3: Gene Data Extraction"
   ]
  },
  {
   "cell_type": "code",
   "execution_count": 4,
   "id": "92015220",
   "metadata": {
    "execution": {
     "iopub.execute_input": "2024-06-12T11:04:51.198593Z",
     "iopub.status.busy": "2024-06-12T11:04:51.198462Z",
     "iopub.status.idle": "2024-06-12T11:04:51.242096Z",
     "shell.execute_reply": "2024-06-12T11:04:51.241732Z"
    }
   },
   "outputs": [
    {
     "name": "stdout",
     "output_type": "stream",
     "text": [
      "Index(['A_23_P100001', 'A_23_P100240', 'A_23_P100315', 'A_23_P100326',\n",
      "       'A_23_P100355', 'A_23_P100392', 'A_23_P100486', 'A_23_P100501',\n",
      "       'A_23_P100660', 'A_23_P100704', 'A_23_P100764', 'A_23_P100963',\n",
      "       'A_23_P101111', 'A_23_P101332', 'A_23_P10135', 'A_23_P101407',\n",
      "       'A_23_P101480', 'A_23_P101516', 'A_23_P101532', 'A_23_P101551'],\n",
      "      dtype='object', name='ID')\n"
     ]
    }
   ],
   "source": [
    "# 1. Use the get_genetic_data function from the library to get the gene_data from the matrix_file previously defined.\n",
    "gene_data = get_genetic_data(matrix_file)\n",
    "\n",
    "# 2. Print the first 20 row ids for the following step.\n",
    "print(gene_data.index[:20])\n"
   ]
  },
  {
   "cell_type": "markdown",
   "id": "a98a91d2",
   "metadata": {},
   "source": [
    "### Step 4: Gene Identifier Review"
   ]
  },
  {
   "cell_type": "code",
   "execution_count": 5,
   "id": "2110d361",
   "metadata": {
    "execution": {
     "iopub.execute_input": "2024-06-12T11:04:51.243852Z",
     "iopub.status.busy": "2024-06-12T11:04:51.243721Z",
     "iopub.status.idle": "2024-06-12T11:04:51.245750Z",
     "shell.execute_reply": "2024-06-12T11:04:51.245462Z"
    }
   },
   "outputs": [],
   "source": [
    "requires_gene_mapping = True\n"
   ]
  },
  {
   "cell_type": "markdown",
   "id": "232c0aa1",
   "metadata": {},
   "source": [
    "### Step 5: Gene Annotation (Conditional)"
   ]
  },
  {
   "cell_type": "code",
   "execution_count": 6,
   "id": "8071fa9f",
   "metadata": {
    "execution": {
     "iopub.execute_input": "2024-06-12T11:04:51.247368Z",
     "iopub.status.busy": "2024-06-12T11:04:51.247269Z",
     "iopub.status.idle": "2024-06-12T11:04:52.217886Z",
     "shell.execute_reply": "2024-06-12T11:04:52.217501Z"
    }
   },
   "outputs": [
    {
     "name": "stdout",
     "output_type": "stream",
     "text": [
      "Gene annotation preview:\n",
      "{'ID': ['(+)E1A_r60_1', '(+)E1A_r60_3', '(+)E1A_r60_a104', '(+)E1A_r60_a107', '(+)E1A_r60_a135'], 'SPOT_ID': ['(+)E1A_r60_1', '(+)E1A_r60_3', '(+)E1A_r60_a104', '(+)E1A_r60_a107', '(+)E1A_r60_a135'], 'CONTROL_TYPE': ['pos', 'pos', 'pos', 'pos', 'pos'], 'REFSEQ': [nan, nan, nan, nan, nan], 'GB_ACC': [nan, nan, nan, nan, nan], 'GENE': [nan, nan, nan, nan, nan], 'GENE_SYMBOL': [nan, nan, nan, nan, nan], 'GENE_NAME': [nan, nan, nan, nan, nan], 'UNIGENE_ID': [nan, nan, nan, nan, nan], 'ENSEMBL_ID': [nan, nan, nan, nan, nan], 'TIGR_ID': [nan, nan, nan, nan, nan], 'ACCESSION_STRING': [nan, nan, nan, nan, nan], 'CHROMOSOMAL_LOCATION': [nan, nan, nan, nan, nan], 'CYTOBAND': [nan, nan, nan, nan, nan], 'DESCRIPTION': [nan, nan, nan, nan, nan], 'GO_ID': [nan, nan, nan, nan, nan], 'SEQUENCE': [nan, nan, nan, nan, nan]}\n"
     ]
    }
   ],
   "source": [
    "# 1. Use the 'get_gene_annotation' function from the library to get gene annotation data from the soft file.\n",
    "gene_annotation = get_gene_annotation(soft_file)\n",
    "\n",
    "# 2. Use the 'preview_df' function from the library to preview the data and print out the results.\n",
    "print(\"Gene annotation preview:\")\n",
    "print(preview_df(gene_annotation))\n"
   ]
  },
  {
   "cell_type": "markdown",
   "id": "476ea369",
   "metadata": {},
   "source": [
    "### Step 6: Gene Identifier Mapping"
   ]
  },
  {
   "cell_type": "code",
   "execution_count": 7,
   "id": "8492345c",
   "metadata": {
    "execution": {
     "iopub.execute_input": "2024-06-12T11:04:52.219746Z",
     "iopub.status.busy": "2024-06-12T11:04:52.219605Z",
     "iopub.status.idle": "2024-06-12T11:04:52.292889Z",
     "shell.execute_reply": "2024-06-12T11:04:52.292511Z"
    }
   },
   "outputs": [],
   "source": [
    "# 1. Identifying keys for gene mapping\n",
    "identifier_key = 'ID'\n",
    "gene_symbol_key = 'GENE_SYMBOL'\n",
    "\n",
    "# 2. Get the dataframe storing the mapping between probe IDs and genes\n",
    "gene_mapping = get_gene_mapping(gene_annotation, identifier_key, gene_symbol_key)\n",
    "\n",
    "# 3. Apply the mapping to get the resulting gene expression dataframe named \"gene_data\"\n",
    "gene_data = apply_gene_mapping(gene_data, gene_mapping)\n"
   ]
  },
  {
   "cell_type": "markdown",
   "id": "55019ade",
   "metadata": {},
   "source": [
    "### Step 7: Data Normalization and Merging"
   ]
  },
  {
   "cell_type": "code",
   "execution_count": 8,
   "id": "02271638",
   "metadata": {
    "execution": {
     "iopub.execute_input": "2024-06-12T11:04:52.295055Z",
     "iopub.status.busy": "2024-06-12T11:04:52.294922Z",
     "iopub.status.idle": "2024-06-12T11:05:14.116815Z",
     "shell.execute_reply": "2024-06-12T11:05:14.116369Z"
    }
   },
   "outputs": [
    {
     "name": "stdout",
     "output_type": "stream",
     "text": [
      "For the feature 'Chronic_kidney_disease', the least common label is '1.0' with 12 occurrences. This represents 27.91% of the dataset.\n",
      "The distribution of the feature 'Chronic_kidney_disease' in this dataset is fine.\n",
      "\n",
      "Quartiles for 'Age':\n",
      "  25%: 36.0\n",
      "  50% (Median): 55.0\n",
      "  75%: 65.0\n",
      "Min: 17.0\n",
      "Max: 74.0\n",
      "The distribution of the feature 'Age' in this dataset is fine.\n",
      "\n",
      "For the feature 'Gender', the least common label is '0.0' with 15 occurrences. This represents 34.88% of the dataset.\n",
      "The distribution of the feature 'Gender' in this dataset is fine.\n",
      "\n"
     ]
    }
   ],
   "source": [
    "# 1. Normalize the obtained gene data with the 'normalize_gene_symbols_in_index' function from the library.\n",
    "normalized_gene_data = normalize_gene_symbols_in_index(gene_data)\n",
    "gene_csv_path = './preprocessed/Chronic_kidney_disease/gene_data/GSE45980.csv'\n",
    "normalized_gene_data.to_csv(gene_csv_path)\n",
    "\n",
    "# 2. Merge the clinical and genetic data with the 'geo_merge_clinical_genetic_data' function from the library.\n",
    "merged_data = geo_merge_clinical_genetic_data(selected_clinical_data, normalized_gene_data)\n",
    "\n",
    "# 3. Determine whether the trait and some demographic attributes in the data is severely biased, and remove biased attributes.\n",
    "trait_biased, unbiased_merged_data = judge_and_remove_biased_features(merged_data, 'Chronic_kidney_disease')\n",
    "\n",
    "# 4. Save the cohort information.\n",
    "save_cohort_info('GSE45980', './preprocessed/Chronic_kidney_disease/cohort_info.json', True, True, trait_biased, merged_data)\n",
    "\n",
    "# If the trait is not severely biased, save the merged data to a csv file.\n",
    "if not trait_biased:\n",
    "    csv_path = './preprocessed/Chronic_kidney_disease/GSE45980.csv'\n",
    "    unbiased_merged_data.to_csv(csv_path)\n"
   ]
  }
 ],
 "metadata": {
  "language_info": {
   "codemirror_mode": {
    "name": "ipython",
    "version": 3
   },
   "file_extension": ".py",
   "mimetype": "text/x-python",
   "name": "python",
   "nbconvert_exporter": "python",
   "pygments_lexer": "ipython3",
   "version": "3.8.17"
  }
 },
 "nbformat": 4,
 "nbformat_minor": 5
}
