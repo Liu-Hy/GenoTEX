{
 "cells": [
  {
   "cell_type": "code",
   "execution_count": 1,
   "id": "a3dd0fc1",
   "metadata": {
    "execution": {
     "iopub.execute_input": "2024-06-12T11:04:17.849252Z",
     "iopub.status.busy": "2024-06-12T11:04:17.849081Z",
     "iopub.status.idle": "2024-06-12T11:04:17.854506Z",
     "shell.execute_reply": "2024-06-12T11:04:17.854109Z"
    }
   },
   "outputs": [],
   "source": [
    "\n",
    "import sys\n",
    "sys.path.append('/home/techt/Desktop/a4s')\n"
   ]
  },
  {
   "cell_type": "markdown",
   "id": "2f7a3bf1",
   "metadata": {},
   "source": [
    "### Step 1: Initial Data Loading"
   ]
  },
  {
   "cell_type": "code",
   "execution_count": 2,
   "id": "9d01b1b0",
   "metadata": {
    "execution": {
     "iopub.execute_input": "2024-06-12T11:04:17.856527Z",
     "iopub.status.busy": "2024-06-12T11:04:17.856379Z",
     "iopub.status.idle": "2024-06-12T11:04:18.134019Z",
     "shell.execute_reply": "2024-06-12T11:04:18.133637Z"
    }
   },
   "outputs": [
    {
     "name": "stdout",
     "output_type": "stream",
     "text": [
      "Background Information:\n",
      "!Series_title\t\"In silico nano-dissection: defining cell type specificity at transcriptional level in human disease (tubulointerstitium)\"\n",
      "!Series_summary\t\"To identify genes with cell-lineage-specific expression not accessible by experimental micro-dissection, we developed a genome-scale iterative method, in-silico nano-dissection, which leverages high-throughput functional-genomics data from tissue homogenates using a machine-learning framework.\"\n",
      "!Series_summary\t\"This study applied nano-dissection to chronic kidney disease and identified transcripts specific to podocytes, key cells in the glomerular filter responsible for hereditary proteinuric syndromes and acquired CKD. In-silico prediction accuracy exceeded predictions derived from fluorescence-tagged-murine podocytes, identified genes recently implicated in hereditary glomerular disease and predicted genes significantly correlated with kidney function. The nano-dissection method is broadly applicable to define lineage specificity in many functional and disease contexts.\"\n",
      "!Series_overall_design\t\"We applied a machine-learning framework on high-throughput gene expression data from human kidney biopsy tissue homogenates and predict novel podocyte-specific genes. The prediction was validated by Human Protein Atlas at protein level. Prediction accuracy was compared with predictions derived from experimental approach using fluorescence-tagged-murine podocytes.\"\n",
      "Sample Characteristics Dictionary:\n",
      "{0: ['tissue: Tubulointerstitium from kidney biopsy'], 1: ['disease status: Diabetic Nephropathy', 'disease status: Focal and Segmental Glomerulosclerosis and\\xa0Minimal Change Disease', 'disease status: Focal and Segmental Glomerulosclerosis', 'disease status: Minimal Change Disease', 'disease status: Rapidly Progressive Glomerulonephritis', 'disease status: Tumor Nephrectomy']}\n"
     ]
    }
   ],
   "source": [
    "from utils.preprocess import *\n",
    "# 1. Identify the paths to the soft file and the matrix file\n",
    "cohort_dir = '/media/techt/DATA/GEO/Chronic_kidney_disease/GSE47184'\n",
    "soft_file, matrix_file = geo_get_relevant_filepaths(cohort_dir)\n",
    "\n",
    "# 2. Read the matrix file to obtain background information and sample characteristics data\n",
    "background_prefixes = ['!Series_title', '!Series_summary', '!Series_overall_design']\n",
    "clinical_prefixes = ['!Sample_geo_accession', '!Sample_characteristics_ch1']\n",
    "background_info, clinical_data = get_background_and_clinical_data(matrix_file, background_prefixes, clinical_prefixes)\n",
    "\n",
    "# 3. Obtain the sample characteristics dictionary from the clinical dataframe\n",
    "sample_characteristics_dict = get_unique_values_by_row(clinical_data)\n",
    "\n",
    "# 4. Explicitly print out all the background information and the sample characteristics dictionary\n",
    "print(\"Background Information:\")\n",
    "print(background_info)\n",
    "print(\"Sample Characteristics Dictionary:\")\n",
    "print(sample_characteristics_dict)\n"
   ]
  },
  {
   "cell_type": "markdown",
   "id": "b74c420b",
   "metadata": {},
   "source": [
    "### Step 2: Dataset Analysis and Clinical Feature Extraction"
   ]
  },
  {
   "cell_type": "code",
   "execution_count": 3,
   "id": "84aaba28",
   "metadata": {
    "execution": {
     "iopub.execute_input": "2024-06-12T11:04:18.135805Z",
     "iopub.status.busy": "2024-06-12T11:04:18.135693Z",
     "iopub.status.idle": "2024-06-12T11:04:18.144990Z",
     "shell.execute_reply": "2024-06-12T11:04:18.144695Z"
    }
   },
   "outputs": [
    {
     "name": "stdout",
     "output_type": "stream",
     "text": [
      "{'GSM1146387': [1], 'GSM1146388': [1], 'GSM1146389': [1], 'GSM1146390': [1], 'GSM1146391': [1], 'GSM1146392': [1], 'GSM1146393': [1], 'GSM1146394': [1], 'GSM1146395': [1], 'GSM1146396': [1], 'GSM1146397': [1], 'GSM1146398': [None], 'GSM1146399': [None], 'GSM1146400': [None], 'GSM1146401': [1], 'GSM1146402': [1], 'GSM1146403': [1], 'GSM1146404': [1], 'GSM1146405': [1], 'GSM1146406': [1], 'GSM1146407': [1], 'GSM1146408': [1], 'GSM1146409': [1], 'GSM1146410': [1], 'GSM1146411': [1], 'GSM1146412': [1], 'GSM1146413': [1], 'GSM1146414': [1], 'GSM1146415': [1], 'GSM1146416': [1], 'GSM1146417': [1], 'GSM1146418': [1], 'GSM1146419': [1], 'GSM1146420': [1], 'GSM1146421': [1], 'GSM1146422': [1], 'GSM1146423': [1], 'GSM1146424': [1], 'GSM1146425': [1], 'GSM1146426': [1], 'GSM1146427': [0], 'GSM1146428': [0], 'GSM1146429': [0]}\n"
     ]
    }
   ],
   "source": [
    "is_gene_available = False\n",
    "trait_row = age_row = gender_row = None  # set to different values when applicable\n",
    "convert_trait = convert_age = convert_gender = None  # define the functions when applicable\n",
    "\n",
    "# 1. Determine if gene expression data is available\n",
    "is_gene_available = True\n",
    "\n",
    "# 2. Variable Availability and Data Type Conversion\n",
    "\n",
    "# Sample Characteristics Dictionary from the output of STEP 1\n",
    "sample_characteristics = {\n",
    "    0: ['tissue: Tubulointerstitium from kidney biopsy'], \n",
    "    1: [None, 'disease status: Diabetic Nephropathy', 'disease status: Minimal Change Disease', 'disease status: Thin Membrane Disease', 'disease status: Tumor Nephrectomy', 'disease status: Focal and Segmental Glomerulosclerosis', 'disease status: Hypertensive nephropathy', 'disease status: IgA Nephropathy', 'disease status: Membranous Glomerulonephritis']\n",
    "}\n",
    "\n",
    "# 2.1 Data Availability\n",
    "# Assuming dataset key for Chronic_kidney_disease\n",
    "trait_row = 1\n",
    "\n",
    "def convert_trait(value):\n",
    "    try:\n",
    "        val = value.split(': ')[1].strip().lower()\n",
    "        if 'nephropathy' in val or 'glomerulonephritis' in val or 'disease' in val:\n",
    "            return 1\n",
    "        elif 'tumor nephrectomy' in val:\n",
    "            return 0\n",
    "        else:\n",
    "            return None\n",
    "    except:\n",
    "        return None\n",
    "\n",
    "# No mention of age and gender data, setting them unavailable\n",
    "age_row = None\n",
    "\n",
    "def convert_age(value):\n",
    "    return None  # As there is no age data available\n",
    "\n",
    "gender_row = None\n",
    "\n",
    "def convert_gender(value):\n",
    "    return None  # As there is no gender data available\n",
    "\n",
    "# 3. Save Metadata \n",
    "save_cohort_info('GSE47184', './preprocessed/Chronic_kidney_disease/cohort_info.json', is_gene_available, trait_row is not None)\n",
    "\n",
    "# 4. Clinical Feature Extraction\n",
    "if trait_row is not None:\n",
    "    selected_clinical_data = geo_select_clinical_features(clinical_data, 'Chronic_kidney_disease', trait_row, convert_trait, age_row, convert_age, gender_row, convert_gender)\n",
    "    csv_path = './preprocessed/Chronic_kidney_disease/trait_data/GSE47184.csv'\n",
    "    selected_clinical_data.to_csv(csv_path)\n",
    "    print(preview_df(selected_clinical_data))\n"
   ]
  },
  {
   "cell_type": "markdown",
   "id": "3894137e",
   "metadata": {},
   "source": [
    "### Step 3: Gene Data Extraction"
   ]
  },
  {
   "cell_type": "code",
   "execution_count": 4,
   "id": "bb7cf28a",
   "metadata": {
    "execution": {
     "iopub.execute_input": "2024-06-12T11:04:18.146856Z",
     "iopub.status.busy": "2024-06-12T11:04:18.146603Z",
     "iopub.status.idle": "2024-06-12T11:04:18.218521Z",
     "shell.execute_reply": "2024-06-12T11:04:18.218206Z"
    }
   },
   "outputs": [
    {
     "name": "stdout",
     "output_type": "stream",
     "text": [
      "Index(['10', '100', '1000', '10000', '10001', '10002', '10003', '10004',\n",
      "       '10005', '10006', '10007', '10009', '1001', '10010', '10013', '10014',\n",
      "       '10015', '10016', '10017', '10018'],\n",
      "      dtype='object', name='ID')\n"
     ]
    }
   ],
   "source": [
    "# 1. Use the get_genetic_data function from the library to get the gene_data from the matrix_file previously defined.\n",
    "gene_data = get_genetic_data(matrix_file)\n",
    "\n",
    "# 2. Print the first 20 row ids for the following step.\n",
    "print(gene_data.index[:20])\n"
   ]
  },
  {
   "cell_type": "markdown",
   "id": "948c27d6",
   "metadata": {},
   "source": [
    "### Step 4: Gene Identifier Review"
   ]
  },
  {
   "cell_type": "code",
   "execution_count": 5,
   "id": "ceae41dc",
   "metadata": {
    "execution": {
     "iopub.execute_input": "2024-06-12T11:04:18.220278Z",
     "iopub.status.busy": "2024-06-12T11:04:18.220150Z",
     "iopub.status.idle": "2024-06-12T11:04:18.222225Z",
     "shell.execute_reply": "2024-06-12T11:04:18.221919Z"
    }
   },
   "outputs": [],
   "source": [
    "requires_gene_mapping = True\n"
   ]
  },
  {
   "cell_type": "markdown",
   "id": "dcf9d384",
   "metadata": {},
   "source": [
    "### Step 5: Gene Annotation (Conditional)"
   ]
  },
  {
   "cell_type": "code",
   "execution_count": 6,
   "id": "65e03bd9",
   "metadata": {
    "execution": {
     "iopub.execute_input": "2024-06-12T11:04:18.223880Z",
     "iopub.status.busy": "2024-06-12T11:04:18.223775Z",
     "iopub.status.idle": "2024-06-12T11:04:19.699897Z",
     "shell.execute_reply": "2024-06-12T11:04:19.699512Z"
    }
   },
   "outputs": [
    {
     "name": "stdout",
     "output_type": "stream",
     "text": [
      "Gene annotation preview:\n",
      "{'ID': ['1', '2', '9', '10', '12'], 'GeneID': ['1', '2', '9', '10', '12'], 'ORF': ['A1BG', 'A2M', 'NAT1', 'NAT2', 'SERPINA3'], 'Description': ['alpha-1-Bglycoprotein', 'alpha-2-macroglobulin', 'N-acetyltransferase1(arylamineN-acetyltransferase)', 'N-acetyltransferase2(arylamineN-acetyltransferase)', 'serpinpeptidaseinhibitor,cladeA(alpha-1antiproteinase,antitrypsin),member3'], 'SPOT_ID': [nan, nan, nan, nan, nan]}\n"
     ]
    }
   ],
   "source": [
    "# 1. Use the 'get_gene_annotation' function from the library to get gene annotation data from the soft file.\n",
    "gene_annotation = get_gene_annotation(soft_file)\n",
    "\n",
    "# 2. Use the 'preview_df' function from the library to preview the data and print out the results.\n",
    "print(\"Gene annotation preview:\")\n",
    "print(preview_df(gene_annotation))\n"
   ]
  },
  {
   "cell_type": "markdown",
   "id": "4963fa80",
   "metadata": {},
   "source": [
    "### Step 6: Gene Identifier Mapping"
   ]
  },
  {
   "cell_type": "code",
   "execution_count": 7,
   "id": "107b3be3",
   "metadata": {
    "execution": {
     "iopub.execute_input": "2024-06-12T11:04:19.701710Z",
     "iopub.status.busy": "2024-06-12T11:04:19.701593Z",
     "iopub.status.idle": "2024-06-12T11:04:19.818371Z",
     "shell.execute_reply": "2024-06-12T11:04:19.817964Z"
    }
   },
   "outputs": [],
   "source": [
    "# 1. Determine keys for identifiers and gene symbols\n",
    "identifier_key = 'ID'\n",
    "gene_symbol_key = 'ORF'\n",
    "\n",
    "# 2. Get the dataframe storing the mapping between probe IDs and genes\n",
    "mapping_df = get_gene_mapping(gene_annotation, identifier_key, gene_symbol_key)\n",
    "\n",
    "# 3. Apply the mapping to the gene expression dataframe\n",
    "gene_data = apply_gene_mapping(gene_data, mapping_df)\n"
   ]
  },
  {
   "cell_type": "markdown",
   "id": "caf5e981",
   "metadata": {},
   "source": [
    "### Step 7: Data Normalization and Merging"
   ]
  },
  {
   "cell_type": "code",
   "execution_count": 8,
   "id": "33418e08",
   "metadata": {
    "execution": {
     "iopub.execute_input": "2024-06-12T11:04:19.820440Z",
     "iopub.status.busy": "2024-06-12T11:04:19.820310Z",
     "iopub.status.idle": "2024-06-12T11:04:50.138557Z",
     "shell.execute_reply": "2024-06-12T11:04:50.138171Z"
    }
   },
   "outputs": [
    {
     "name": "stdout",
     "output_type": "stream",
     "text": [
      "For the feature 'Chronic_kidney_disease', the least common label is '0.0' with 3 occurrences. This represents 7.50% of the dataset.\n",
      "The distribution of the feature 'Chronic_kidney_disease' in this dataset is severely biased.\n",
      "\n"
     ]
    }
   ],
   "source": [
    "# 1. Normalize the obtained gene data with the 'normalize_gene_symbols_in_index' function from the library.\n",
    "normalized_gene_data = normalize_gene_symbols_in_index(gene_data)\n",
    "gene_csv_path = './preprocessed/Chronic_kidney_disease/gene_data/GSE47184.csv'\n",
    "normalized_gene_data.to_csv(gene_csv_path)\n",
    "\n",
    "# 2. Merge the clinical and genetic data with the 'geo_merge_clinical_genetic_data' function from the library.\n",
    "merged_data = geo_merge_clinical_genetic_data(selected_clinical_data, normalized_gene_data)\n",
    "\n",
    "# 3. Determine whether the trait and some demographic attributes in the data is severely biased, and remove biased attributes.\n",
    "trait_biased, unbiased_merged_data = judge_and_remove_biased_features(merged_data, 'Chronic_kidney_disease')\n",
    "\n",
    "# If the trait is not severely biased, save the cohort information and the merged data.\n",
    "\n",
    "# 4. Save the cohort information.\n",
    "save_cohort_info('GSE47184', './preprocessed/Chronic_kidney_disease/cohort_info.json', True, True, trait_biased, merged_data)\n",
    "\n",
    "if not trait_biased:\n",
    "    # 5. If the trait is not severely biased, save the merged data to a csv file.\n",
    "    csv_path = './preprocessed/Chronic_kidney_disease/GSE47184.csv'\n",
    "    unbiased_merged_data.to_csv(csv_path)\n"
   ]
  }
 ],
 "metadata": {
  "language_info": {
   "codemirror_mode": {
    "name": "ipython",
    "version": 3
   },
   "file_extension": ".py",
   "mimetype": "text/x-python",
   "name": "python",
   "nbconvert_exporter": "python",
   "pygments_lexer": "ipython3",
   "version": "3.8.17"
  }
 },
 "nbformat": 4,
 "nbformat_minor": 5
}
