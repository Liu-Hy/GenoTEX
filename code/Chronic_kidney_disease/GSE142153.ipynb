{
 "cells": [
  {
   "cell_type": "code",
   "execution_count": 1,
   "id": "5517d795",
   "metadata": {
    "execution": {
     "iopub.execute_input": "2024-06-12T11:02:38.935723Z",
     "iopub.status.busy": "2024-06-12T11:02:38.935623Z",
     "iopub.status.idle": "2024-06-12T11:02:38.939215Z",
     "shell.execute_reply": "2024-06-12T11:02:38.938964Z"
    }
   },
   "outputs": [],
   "source": [
    "\n",
    "import sys\n",
    "sys.path.append('/home/techt/Desktop/a4s')\n"
   ]
  },
  {
   "cell_type": "markdown",
   "id": "66f9adf6",
   "metadata": {},
   "source": [
    "### Step 1: Initial Data Loading"
   ]
  },
  {
   "cell_type": "code",
   "execution_count": 2,
   "id": "84b61c80",
   "metadata": {
    "execution": {
     "iopub.execute_input": "2024-06-12T11:02:38.940712Z",
     "iopub.status.busy": "2024-06-12T11:02:38.940550Z",
     "iopub.status.idle": "2024-06-12T11:02:39.226036Z",
     "shell.execute_reply": "2024-06-12T11:02:39.225678Z"
    }
   },
   "outputs": [
    {
     "name": "stdout",
     "output_type": "stream",
     "text": [
      "Background Information:\n",
      "!Series_title\t\"Human PBMCs: Healthy vs Diabetic nephropathy vs ESRD\"\n",
      "!Series_summary\t\"Transcriptional profiling of human PBMCs comparing healthy controls, patients with diabetic nephropathy and patients with ESRD. PBMCs were analyzed as they mediate inflammatory injury. Goal was to determine effects of increasing severity of diabetic nephropathy on global PBMC gene expression. Microarray analysis of PBMCs taken from patients with varying degrees of diabetic nephropathy.\"\n",
      "!Series_overall_design\t\"3 condition experiment - Healthy control (10) vs diabetic nephropathy (23) vs ESRD (7)\"\n",
      "Sample Characteristics Dictionary:\n",
      "{0: ['tissue: peripheral blood'], 1: ['diagnosis: healthy control', 'diagnosis: diabetic nephropathy', 'diagnosis: ESRD']}\n"
     ]
    }
   ],
   "source": [
    "from utils.preprocess import *\n",
    "# 1. Identify the paths to the soft file and the matrix file\n",
    "cohort_dir = '/media/techt/DATA/GEO/Chronic_kidney_disease/GSE142153'\n",
    "soft_file, matrix_file = geo_get_relevant_filepaths(cohort_dir)\n",
    "\n",
    "# 2. Read the matrix file to obtain background information and sample characteristics data\n",
    "background_prefixes = ['!Series_title', '!Series_summary', '!Series_overall_design']\n",
    "clinical_prefixes = ['!Sample_geo_accession', '!Sample_characteristics_ch1']\n",
    "background_info, clinical_data = get_background_and_clinical_data(matrix_file, background_prefixes, clinical_prefixes)\n",
    "\n",
    "# 3. Obtain the sample characteristics dictionary from the clinical dataframe\n",
    "sample_characteristics_dict = get_unique_values_by_row(clinical_data)\n",
    "\n",
    "# 4. Explicitly print out all the background information and the sample characteristics dictionary\n",
    "print(\"Background Information:\")\n",
    "print(background_info)\n",
    "print(\"Sample Characteristics Dictionary:\")\n",
    "print(sample_characteristics_dict)\n"
   ]
  },
  {
   "cell_type": "markdown",
   "id": "7b327392",
   "metadata": {},
   "source": [
    "### Step 2: Dataset Analysis and Clinical Feature Extraction"
   ]
  },
  {
   "cell_type": "code",
   "execution_count": 3,
   "id": "f3c7d1e9",
   "metadata": {
    "execution": {
     "iopub.execute_input": "2024-06-12T11:02:39.227708Z",
     "iopub.status.busy": "2024-06-12T11:02:39.227566Z",
     "iopub.status.idle": "2024-06-12T11:02:39.234990Z",
     "shell.execute_reply": "2024-06-12T11:02:39.234706Z"
    }
   },
   "outputs": [
    {
     "name": "stdout",
     "output_type": "stream",
     "text": [
      "{'GSM4221568': [0], 'GSM4221569': [0], 'GSM4221570': [0], 'GSM4221571': [0], 'GSM4221572': [0], 'GSM4221573': [0], 'GSM4221574': [0], 'GSM4221575': [0], 'GSM4221576': [0], 'GSM4221577': [0], 'GSM4221578': [1], 'GSM4221579': [1], 'GSM4221580': [1], 'GSM4221581': [1], 'GSM4221582': [1], 'GSM4221583': [1], 'GSM4221584': [1], 'GSM4221585': [1], 'GSM4221586': [1], 'GSM4221587': [1], 'GSM4221588': [1], 'GSM4221589': [1], 'GSM4221590': [1], 'GSM4221591': [1], 'GSM4221592': [1], 'GSM4221593': [1], 'GSM4221594': [1], 'GSM4221595': [1], 'GSM4221596': [1], 'GSM4221597': [1], 'GSM4221598': [1], 'GSM4221599': [1], 'GSM4221600': [1], 'GSM4221601': [2], 'GSM4221602': [2], 'GSM4221603': [2], 'GSM4221604': [2], 'GSM4221605': [2], 'GSM4221606': [2], 'GSM4221607': [2]}\n"
     ]
    }
   ],
   "source": [
    "is_gene_available = False  # Change to True if gene expression data is available\n",
    "trait_row = age_row = gender_row = None  # set to different values when applicable\n",
    "convert_trait = convert_age = convert_gender = None  # define the functions when applicable\n",
    "\n",
    "# Check if the dataset likely contains gene expression data\n",
    "is_gene_available = True\n",
    "\n",
    "# Data Availability section\n",
    "trait_row = 1\n",
    "age_row = None\n",
    "gender_row = None\n",
    "\n",
    "# Data Type Conversion section\n",
    "\n",
    "def convert_trait(value):\n",
    "    try:\n",
    "        trait_map = {\n",
    "            'healthy control': 0,\n",
    "            'diabetic nephropathy': 1,\n",
    "            'ESRD': 2\n",
    "        }\n",
    "        return trait_map.get(value.split(':')[-1].strip(), None)\n",
    "    except:\n",
    "        return None\n",
    "\n",
    "# Function to save cohort information\n",
    "save_cohort_info('GSE142153', './preprocessed/Chronic_kidney_disease/cohort_info.json', is_gene_available, trait_row is not None)\n",
    "\n",
    "# Clinical Feature Extraction section\n",
    "selected_clinical_data = geo_select_clinical_features(clinical_data, 'Chronic_kidney_disease', trait_row, convert_trait, age_row, convert_age, gender_row, convert_gender)\n",
    "csv_path = './preprocessed/Chronic_kidney_disease/trait_data/GSE142153.csv'\n",
    "selected_clinical_data.to_csv(csv_path)\n",
    "print(preview_df(selected_clinical_data))\n"
   ]
  },
  {
   "cell_type": "markdown",
   "id": "1067390f",
   "metadata": {},
   "source": [
    "### Step 3: Gene Data Extraction"
   ]
  },
  {
   "cell_type": "code",
   "execution_count": 4,
   "id": "8c2de92c",
   "metadata": {
    "execution": {
     "iopub.execute_input": "2024-06-12T11:02:39.236553Z",
     "iopub.status.busy": "2024-06-12T11:02:39.236346Z",
     "iopub.status.idle": "2024-06-12T11:02:39.368357Z",
     "shell.execute_reply": "2024-06-12T11:02:39.367992Z"
    }
   },
   "outputs": [
    {
     "name": "stdout",
     "output_type": "stream",
     "text": [
      "Index(['A_23_P100001', 'A_23_P100022', 'A_23_P100056', 'A_23_P100074',\n",
      "       'A_23_P100111', 'A_23_P100127', 'A_23_P100133', 'A_23_P100141',\n",
      "       'A_23_P100156', 'A_23_P100189', 'A_23_P100203', 'A_23_P100220',\n",
      "       'A_23_P100240', 'A_23_P10025', 'A_23_P100278', 'A_23_P100292',\n",
      "       'A_23_P100315', 'A_23_P100344', 'A_23_P100355', 'A_23_P100386'],\n",
      "      dtype='object', name='ID')\n"
     ]
    }
   ],
   "source": [
    "# 1. Use the get_genetic_data function from the library to get the gene_data from the matrix_file previously defined.\n",
    "gene_data = get_genetic_data(matrix_file)\n",
    "\n",
    "# 2. Print the first 20 row ids for the following step.\n",
    "print(gene_data.index[:20])\n"
   ]
  },
  {
   "cell_type": "markdown",
   "id": "a0092f70",
   "metadata": {},
   "source": [
    "### Step 4: Gene Identifier Review"
   ]
  },
  {
   "cell_type": "code",
   "execution_count": 5,
   "id": "ad5253bf",
   "metadata": {
    "execution": {
     "iopub.execute_input": "2024-06-12T11:02:39.370023Z",
     "iopub.status.busy": "2024-06-12T11:02:39.369887Z",
     "iopub.status.idle": "2024-06-12T11:02:39.371889Z",
     "shell.execute_reply": "2024-06-12T11:02:39.371628Z"
    }
   },
   "outputs": [],
   "source": [
    "requires_gene_mapping = True\n"
   ]
  },
  {
   "cell_type": "markdown",
   "id": "2c9b4568",
   "metadata": {},
   "source": [
    "### Step 5: Gene Annotation (Conditional)"
   ]
  },
  {
   "cell_type": "code",
   "execution_count": 6,
   "id": "4de7ce2a",
   "metadata": {
    "execution": {
     "iopub.execute_input": "2024-06-12T11:02:39.373256Z",
     "iopub.status.busy": "2024-06-12T11:02:39.373161Z",
     "iopub.status.idle": "2024-06-12T11:02:41.560605Z",
     "shell.execute_reply": "2024-06-12T11:02:41.560233Z"
    }
   },
   "outputs": [
    {
     "name": "stdout",
     "output_type": "stream",
     "text": [
      "Gene annotation preview:\n",
      "{'ID': ['A_23_P100001', 'A_23_P100011', 'A_23_P100022', 'A_23_P100056', 'A_23_P100074'], 'SPOT_ID': ['A_23_P100001', 'A_23_P100011', 'A_23_P100022', 'A_23_P100056', 'A_23_P100074'], 'CONTROL_TYPE': ['FALSE', 'FALSE', 'FALSE', 'FALSE', 'FALSE'], 'REFSEQ': ['NM_207446', 'NM_005829', 'NM_014848', 'NM_194272', 'NM_020371'], 'GB_ACC': ['NM_207446', 'NM_005829', 'NM_014848', 'NM_194272', 'NM_020371'], 'GENE': [400451.0, 10239.0, 9899.0, 348093.0, 57099.0], 'GENE_SYMBOL': ['FAM174B', 'AP3S2', 'SV2B', 'RBPMS2', 'AVEN'], 'GENE_NAME': ['family with sequence similarity 174, member B', 'adaptor-related protein complex 3, sigma 2 subunit', 'synaptic vesicle glycoprotein 2B', 'RNA binding protein with multiple splicing 2', 'apoptosis, caspase activation inhibitor'], 'UNIGENE_ID': ['Hs.27373', 'Hs.632161', 'Hs.21754', 'Hs.436518', 'Hs.555966'], 'ENSEMBL_ID': ['ENST00000557398', nan, 'ENST00000557410', 'ENST00000300069', 'ENST00000306730'], 'TIGR_ID': [nan, nan, nan, nan, nan], 'ACCESSION_STRING': ['ref|NM_207446|ens|ENST00000557398|ens|ENST00000553393|ens|ENST00000327355', 'ref|NM_005829|ref|NM_001199058|ref|NR_023361|ref|NR_037582', 'ref|NM_014848|ref|NM_001167580|ens|ENST00000557410|ens|ENST00000330276', 'ref|NM_194272|ens|ENST00000300069|gb|AK127873|gb|AK124123', 'ref|NM_020371|ens|ENST00000306730|gb|AF283508|gb|BC010488'], 'CHROMOSOMAL_LOCATION': ['chr15:93160848-93160789', 'chr15:90378743-90378684', 'chr15:91838329-91838388', 'chr15:65032375-65032316', 'chr15:34158739-34158680'], 'CYTOBAND': ['hs|15q26.1', 'hs|15q26.1', 'hs|15q26.1', 'hs|15q22.31', 'hs|15q14'], 'DESCRIPTION': ['Homo sapiens family with sequence similarity 174, member B (FAM174B), mRNA [NM_207446]', 'Homo sapiens adaptor-related protein complex 3, sigma 2 subunit (AP3S2), transcript variant 1, mRNA [NM_005829]', 'Homo sapiens synaptic vesicle glycoprotein 2B (SV2B), transcript variant 1, mRNA [NM_014848]', 'Homo sapiens RNA binding protein with multiple splicing 2 (RBPMS2), mRNA [NM_194272]', 'Homo sapiens apoptosis, caspase activation inhibitor (AVEN), mRNA [NM_020371]'], 'GO_ID': ['GO:0016020(membrane)|GO:0016021(integral to membrane)', 'GO:0005794(Golgi apparatus)|GO:0006886(intracellular protein transport)|GO:0008565(protein transporter activity)|GO:0016020(membrane)|GO:0016192(vesicle-mediated transport)|GO:0030117(membrane coat)|GO:0030659(cytoplasmic vesicle membrane)|GO:0031410(cytoplasmic vesicle)', 'GO:0001669(acrosomal vesicle)|GO:0006836(neurotransmitter transport)|GO:0016020(membrane)|GO:0016021(integral to membrane)|GO:0022857(transmembrane transporter activity)|GO:0030054(cell junction)|GO:0030672(synaptic vesicle membrane)|GO:0031410(cytoplasmic vesicle)|GO:0045202(synapse)', 'GO:0000166(nucleotide binding)|GO:0003676(nucleic acid binding)', 'GO:0005515(protein binding)|GO:0005622(intracellular)|GO:0005624(membrane fraction)|GO:0006915(apoptosis)|GO:0006916(anti-apoptosis)|GO:0012505(endomembrane system)|GO:0016020(membrane)'], 'SEQUENCE': ['ATCTCATGGAAAAGCTGGATTCCTCTGCCTTACGCAGAAACACCCGGGCTCCATCTGCCA', 'TCAAGTATTGGCCTGACATAGAGTCCTTAAGACAAGCAAAGACAAGCAAGGCAAGCACGT', 'ATGTCGGCTGTGGAGGGTTAAAGGGATGAGGCTTTCCTTTGTTTAGCAAATCTGTTCACA', 'CCCTGTCAGATAAGTTTAATGTTTAGTTTGAGGCATGAAGAAGAAAAGGGTTTCCATTCT', 'GACCAGCCAGTTTACAAGCATGTCTCAAGCTAGTGTGTTCCATTATGCTCACAGCAGTAA']}\n"
     ]
    }
   ],
   "source": [
    "# 1. Use the 'get_gene_annotation' function from the library to get gene annotation data from the soft file.\n",
    "gene_annotation = get_gene_annotation(soft_file)\n",
    "\n",
    "# 2. Use the 'preview_df' function from the library to preview the data and print out the results.\n",
    "print(\"Gene annotation preview:\")\n",
    "print(preview_df(gene_annotation))\n"
   ]
  },
  {
   "cell_type": "markdown",
   "id": "5c065773",
   "metadata": {},
   "source": [
    "### Step 6: Gene Identifier Mapping"
   ]
  },
  {
   "cell_type": "code",
   "execution_count": 7,
   "id": "80226771",
   "metadata": {
    "execution": {
     "iopub.execute_input": "2024-06-12T11:02:41.562472Z",
     "iopub.status.busy": "2024-06-12T11:02:41.562352Z",
     "iopub.status.idle": "2024-06-12T11:02:41.663202Z",
     "shell.execute_reply": "2024-06-12T11:02:41.662810Z"
    }
   },
   "outputs": [],
   "source": [
    "# 1. When analyzing a gene expression dataset, we need to map some identifiers of genes to actual gene symbols.\n",
    "\n",
    "identifier_key = 'ID'\n",
    "gene_symbol_key = 'GENE_SYMBOL'\n",
    "\n",
    "# 2. Get the dataframe storing the mapping between probe IDs and genes using the 'get_gene_mapping' function from the library.\n",
    "mapping_df = get_gene_mapping(gene_annotation, identifier_key, gene_symbol_key)\n",
    "\n",
    "# 3. Apply the mapping with the 'apply_gene_mapping' function from the library, and name the resulting gene expression dataframe \"gene_data\".\n",
    "gene_data = apply_gene_mapping(gene_data, mapping_df) \n"
   ]
  },
  {
   "cell_type": "markdown",
   "id": "f69d6a26",
   "metadata": {},
   "source": [
    "### Step 7: Data Normalization and Merging"
   ]
  },
  {
   "cell_type": "code",
   "execution_count": 8,
   "id": "6d9c3599",
   "metadata": {
    "execution": {
     "iopub.execute_input": "2024-06-12T11:02:41.665299Z",
     "iopub.status.busy": "2024-06-12T11:02:41.665155Z",
     "iopub.status.idle": "2024-06-12T11:03:30.938751Z",
     "shell.execute_reply": "2024-06-12T11:03:30.938218Z"
    }
   },
   "outputs": [
    {
     "name": "stdout",
     "output_type": "stream",
     "text": [
      "Quartiles for 'Chronic_kidney_disease':\n",
      "  25%: 0.75\n",
      "  50% (Median): 1.0\n",
      "  75%: 1.0\n",
      "Min: 0.0\n",
      "Max: 2.0\n",
      "The distribution of the feature 'Chronic_kidney_disease' in this dataset is fine.\n",
      "\n",
      "A new JSON file was created at: ./preprocessed/Chronic_kidney_disease/cohort_info.json\n"
     ]
    }
   ],
   "source": [
    "# 1. Normalize the obtained gene data with the 'normalize_gene_symbols_in_index' function from the library.\n",
    "normalized_gene_data = normalize_gene_symbols_in_index(gene_data)\n",
    "gene_csv_path = './preprocessed/Chronic_kidney_disease/gene_data/GSE142153.csv'\n",
    "normalized_gene_data.to_csv(gene_csv_path)\n",
    "\n",
    "# 2. Merge the clinical and genetic data with the 'geo_merge_clinical_genetic_data' function from the library.\n",
    "merged_data = geo_merge_clinical_genetic_data(selected_clinical_data, normalized_gene_data)\n",
    "\n",
    "# 3. Determine whether the trait and some demographic attributes in the data is severely biased, and remove biased attributes.\n",
    "trait_biased, unbiased_merged_data = judge_and_remove_biased_features(merged_data, 'Chronic_kidney_disease')\n",
    "\n",
    "# If the trait is not severely biased, save the cohort information and the merged data.\n",
    "\n",
    "# 4. Save the cohort information.\n",
    "save_cohort_info('GSE142153', './preprocessed/Chronic_kidney_disease/cohort_info.json', True, True, trait_biased, merged_data)\n",
    "\n",
    "if not trait_biased:\n",
    "    # 5. If the trait is not severely biased, save the merged data to a csv file.\n",
    "    csv_path = './preprocessed/Chronic_kidney_disease/GSE142153.csv'\n",
    "    unbiased_merged_data.to_csv(csv_path)\n"
   ]
  }
 ],
 "metadata": {
  "language_info": {
   "codemirror_mode": {
    "name": "ipython",
    "version": 3
   },
   "file_extension": ".py",
   "mimetype": "text/x-python",
   "name": "python",
   "nbconvert_exporter": "python",
   "pygments_lexer": "ipython3",
   "version": "3.8.17"
  }
 },
 "nbformat": 4,
 "nbformat_minor": 5
}
