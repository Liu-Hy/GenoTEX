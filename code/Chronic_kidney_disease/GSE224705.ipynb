{
 "cells": [
  {
   "cell_type": "code",
   "execution_count": 1,
   "id": "d01dfb4e",
   "metadata": {
    "execution": {
     "iopub.execute_input": "2024-06-12T11:04:16.333389Z",
     "iopub.status.busy": "2024-06-12T11:04:16.333269Z",
     "iopub.status.idle": "2024-06-12T11:04:16.338366Z",
     "shell.execute_reply": "2024-06-12T11:04:16.338081Z"
    }
   },
   "outputs": [],
   "source": [
    "\n",
    "import sys\n",
    "sys.path.append('/home/techt/Desktop/a4s')\n"
   ]
  },
  {
   "cell_type": "markdown",
   "id": "6e8d7d3f",
   "metadata": {},
   "source": [
    "### Step 1: Initial Data Loading"
   ]
  },
  {
   "cell_type": "code",
   "execution_count": 2,
   "id": "e67552dc",
   "metadata": {
    "execution": {
     "iopub.execute_input": "2024-06-12T11:04:16.340331Z",
     "iopub.status.busy": "2024-06-12T11:04:16.340011Z",
     "iopub.status.idle": "2024-06-12T11:04:16.970627Z",
     "shell.execute_reply": "2024-06-12T11:04:16.970325Z"
    }
   },
   "outputs": [
    {
     "name": "stdout",
     "output_type": "stream",
     "text": [
      "Background Information:\n",
      "!Series_title\t\"Defining molecular and cellular landscape behind non-response to Mycophenolate Mofetil in Systemic Lupus Erythematosus\"\n",
      "!Series_summary\t\"Lupus nephritis (LN) is one of the more severe systemic lupus erythematosus manifestations with the potential of developing into end stage kidney disease. Mycophenolate mofetil (MMF) is widely used for both induction and maintenance therapy for LN, but the one year complete renal response ranges from 30-40% in most trials. Reasons for non-response are still unknown.  Thus, anticipating lack of drug efficacy in a patient could lead to early introduction of advanced therapies.  A longitudinal cohort comprising gene-expression and clinical data of 97 MMF responder and 28 non-responder samples was retrospectively analyzed. Response to MMF was defined over time according to whether the protein/creatinine ratio in urine was reduced and maintained below 500 mg/g with the use of the treatment. Differential gene expression and functional analysis were performed. Response rate was measured based on blood cell proportions. Single-cell RNA sequencing data was analyzed to identify the cell subtypes influencing non-response and their contributing genes.\"\n",
      "!Series_overall_design\t\"We recruited 97 longitudinal samples from peripheral blood from 32 responder patients to MMF and 28 longitudinal samples from 10 non-responder patients.\"\n",
      "Sample Characteristics Dictionary:\n",
      "{0: ['days_from_first_visit: 0', 'days_from_first_visit: 52', 'days_from_first_visit: 82', 'days_from_first_visit: 124', 'days_from_first_visit: 143', 'days_from_first_visit: 35', 'days_from_first_visit: 126', 'days_from_first_visit: 219', 'days_from_first_visit: 295', 'days_from_first_visit: 384', 'days_from_first_visit: 629', 'days_from_first_visit: 91', 'days_from_first_visit: 85', 'days_from_first_visit: 68', 'days_from_first_visit: 109', 'days_from_first_visit: 38', 'days_from_first_visit: 157', 'days_from_first_visit: 96', 'days_from_first_visit: 97', 'days_from_first_visit: 268', 'days_from_first_visit: 79', 'days_from_first_visit: 170', 'days_from_first_visit: 435', 'days_from_first_visit: 560', 'days_from_first_visit: 163', 'days_from_first_visit: 27', 'days_from_first_visit: 58', 'days_from_first_visit: 284', 'days_from_first_visit: 382', 'days_from_first_visit: 478'], 1: ['Sex: Female', 'Sex: Male'], 2: ['age: 18.71', 'age: 17.66', 'age: 25.41', 'age: 25.77', 'age: 15.56', 'age: 19.38', 'age: 24.11', 'age: 22.25', 'age: 45.79', 'age: 22.26', 'age: 41.59', 'age: 19.84', 'age: 28.45', 'age: 36.34', 'age: 12.79', 'age: 23.12', 'age: 27.27', 'age: 16.92', 'age: 16.61', 'age: 17.02', 'age: 27.85', 'age: 32.14', 'age: 37.9', 'age: 24.83', 'age: 32.36', 'age: 22.85', 'age: 13.58', 'age: 60.05', 'age: 16.44', 'age: 36.28'], 3: ['mmf_response: NO', 'mmf_response: YES'], 4: ['sledai: 4', 'sledai: 0', 'sledai: 8', 'sledai: 10', 'sledai: 6', 'sledai: 12', 'sledai: 11', 'sledai: 2', 'sledai: 1', 'sledai: 3'], 5: ['protein_creatinine_ratio_urine_(mg/g): 8.22', 'protein_creatinine_ratio_urine_(mg/g): 0.93', 'protein_creatinine_ratio_urine_(mg/g): 2.57', 'protein_creatinine_ratio_urine_(mg/g): 1.38', 'protein_creatinine_ratio_urine_(mg/g): 3,276', 'protein_creatinine_ratio_urine_(mg/g): 1,608', 'protein_creatinine_ratio_urine_(mg/g): 0.21', 'protein_creatinine_ratio_urine_(mg/g): 0.44', 'protein_creatinine_ratio_urine_(mg/g): 0.17', 'protein_creatinine_ratio_urine_(mg/g): 0.2', 'protein_creatinine_ratio_urine_(mg/g): 0.52', 'protein_creatinine_ratio_urine_(mg/g): 3.14', 'protein_creatinine_ratio_urine_(mg/g): 0', 'protein_creatinine_ratio_urine_(mg/g): 0.64', 'protein_creatinine_ratio_urine_(mg/g): 2.6', 'protein_creatinine_ratio_urine_(mg/g): 2', 'protein_creatinine_ratio_urine_(mg/g): 2,175', 'protein_creatinine_ratio_urine_(mg/g): 1.43', 'protein_creatinine_ratio_urine_(mg/g): 1.75', 'protein_creatinine_ratio_urine_(mg/g): 0.925', 'protein_creatinine_ratio_urine_(mg/g): 1.72', 'protein_creatinine_ratio_urine_(mg/g): 1.17', 'protein_creatinine_ratio_urine_(mg/g): 1.64', 'protein_creatinine_ratio_urine_(mg/g): 0.56', 'protein_creatinine_ratio_urine_(mg/g): 0.03', 'protein_creatinine_ratio_urine_(mg/g): 0.53', 'protein_creatinine_ratio_urine_(mg/g): 0.94', 'protein_creatinine_ratio_urine_(mg/g): 0.06', 'protein_creatinine_ratio_urine_(mg/g): 0.66', 'protein_creatinine_ratio_urine_(mg/g): 0.598'], 6: ['dosis_mmf_(mg): 0', 'dosis_mmf_(mg): 2000', 'dosis_mmf_(mg): 3000', 'dosis_mmf_(mg): NA', 'dosis_mmf_(mg): 1425', 'dosis_mmf_(mg): 1000', 'dosis_mmf_(mg): 500', 'dosis_mmf_(mg): 1500', 'dosis_mmf_(mg): 750', 'dosis_mmf_(mg): 2500'], 7: ['race: African-American', 'race: Asian', 'race: Caucasian', 'race: Other']}\n"
     ]
    }
   ],
   "source": [
    "from utils.preprocess import *\n",
    "# 1. Identify the paths to the soft file and the matrix file\n",
    "cohort_dir = '/media/techt/DATA/GEO/Chronic_kidney_disease/GSE224705'\n",
    "soft_file, matrix_file = geo_get_relevant_filepaths(cohort_dir)\n",
    "\n",
    "# 2. Read the matrix file to obtain background information and sample characteristics data\n",
    "background_prefixes = ['!Series_title', '!Series_summary', '!Series_overall_design']\n",
    "clinical_prefixes = ['!Sample_geo_accession', '!Sample_characteristics_ch1']\n",
    "background_info, clinical_data = get_background_and_clinical_data(matrix_file, background_prefixes, clinical_prefixes)\n",
    "\n",
    "# 3. Obtain the sample characteristics dictionary from the clinical dataframe\n",
    "sample_characteristics_dict = get_unique_values_by_row(clinical_data)\n",
    "\n",
    "# 4. Explicitly print out all the background information and the sample characteristics dictionary\n",
    "print(\"Background Information:\")\n",
    "print(background_info)\n",
    "print(\"Sample Characteristics Dictionary:\")\n",
    "print(sample_characteristics_dict)\n"
   ]
  },
  {
   "cell_type": "markdown",
   "id": "d6180100",
   "metadata": {},
   "source": [
    "### Step 2: Dataset Analysis and Clinical Feature Extraction"
   ]
  },
  {
   "cell_type": "code",
   "execution_count": 3,
   "id": "3d8eef3f",
   "metadata": {
    "execution": {
     "iopub.execute_input": "2024-06-12T11:04:16.972518Z",
     "iopub.status.busy": "2024-06-12T11:04:16.972409Z",
     "iopub.status.idle": "2024-06-12T11:04:17.000115Z",
     "shell.execute_reply": "2024-06-12T11:04:16.999819Z"
    }
   },
   "outputs": [
    {
     "name": "stdout",
     "output_type": "stream",
     "text": [
      "{'GSM7029843': [0.0, 18.71, 0.0], 'GSM7029844': [0.0, 18.71, 0.0], 'GSM7029845': [0.0, 18.71, 0.0], 'GSM7029846': [0.0, 18.71, 0.0], 'GSM7029847': [0.0, 18.71, 0.0], 'GSM7029848': [0.0, 17.66, 0.0], 'GSM7029849': [0.0, 17.66, 0.0], 'GSM7029850': [1.0, 25.41, 0.0], 'GSM7029851': [1.0, 25.41, 0.0], 'GSM7029852': [1.0, 25.41, 0.0], 'GSM7029853': [1.0, 25.41, 0.0], 'GSM7029854': [1.0, 25.41, 0.0], 'GSM7029855': [1.0, 25.41, 0.0], 'GSM7029856': [1.0, 25.41, 0.0], 'GSM7029857': [0.0, 25.77, 0.0], 'GSM7029858': [0.0, 25.77, 0.0], 'GSM7029859': [0.0, 15.56, 0.0], 'GSM7029860': [0.0, 15.56, 0.0], 'GSM7029861': [0.0, 19.38, 0.0], 'GSM7029862': [0.0, 19.38, 0.0], 'GSM7029863': [0.0, 24.11, 0.0], 'GSM7029864': [0.0, 24.11, 0.0], 'GSM7029865': [0.0, 24.11, 0.0], 'GSM7029866': [1.0, 22.25, 0.0], 'GSM7029867': [1.0, 22.25, 0.0], 'GSM7029868': [1.0, 22.25, 0.0], 'GSM7029869': [0.0, 45.79, 1.0], 'GSM7029870': [0.0, 45.79, 1.0], 'GSM7029871': [0.0, 22.26, 0.0], 'GSM7029872': [0.0, 22.26, 0.0], 'GSM7029873': [0.0, 22.26, 0.0], 'GSM7029874': [0.0, 41.59, 0.0], 'GSM7029875': [0.0, 41.59, 0.0], 'GSM7029876': [0.0, 41.59, 0.0], 'GSM7029877': [0.0, 41.59, 0.0], 'GSM7029878': [0.0, 41.59, 0.0], 'GSM7029879': [0.0, 19.84, 0.0], 'GSM7029880': [0.0, 19.84, 0.0], 'GSM7029881': [1.0, 28.45, 0.0], 'GSM7029882': [1.0, 28.45, 0.0], 'GSM7029883': [1.0, 28.45, 0.0], 'GSM7029884': [1.0, 28.45, 0.0], 'GSM7029885': [1.0, 28.45, 0.0], 'GSM7029886': [1.0, 28.45, 0.0], 'GSM7029887': [1.0, 28.45, 0.0], 'GSM7029888': [1.0, 36.34, 0.0], 'GSM7029889': [1.0, 36.34, 0.0], 'GSM7029890': [1.0, 36.34, 0.0], 'GSM7029891': [1.0, 12.79, 0.0], 'GSM7029892': [1.0, 12.79, 0.0], 'GSM7029893': [1.0, 12.79, 0.0], 'GSM7029894': [1.0, 12.79, 0.0], 'GSM7029895': [1.0, 12.79, 0.0], 'GSM7029896': [1.0, 12.79, 0.0], 'GSM7029897': [1.0, 23.12, 0.0], 'GSM7029898': [1.0, 23.12, 0.0], 'GSM7029899': [1.0, 23.12, 0.0], 'GSM7029900': [1.0, 27.27, 0.0], 'GSM7029901': [1.0, 27.27, 0.0], 'GSM7029902': [1.0, 16.92, 0.0], 'GSM7029903': [1.0, 16.92, 0.0], 'GSM7029904': [1.0, 16.61, 0.0], 'GSM7029905': [1.0, 16.61, 0.0], 'GSM7029906': [1.0, 17.02, 1.0], 'GSM7029907': [1.0, 17.02, 1.0], 'GSM7029908': [1.0, 27.85, 1.0], 'GSM7029909': [1.0, 27.85, 1.0], 'GSM7029910': [1.0, 32.14, 0.0], 'GSM7029911': [1.0, 32.14, 0.0], 'GSM7029912': [1.0, 37.9, 0.0], 'GSM7029913': [1.0, 37.9, 0.0], 'GSM7029914': [1.0, 37.9, 0.0], 'GSM7029915': [1.0, 24.83, 0.0], 'GSM7029916': [1.0, 24.83, 0.0], 'GSM7029917': [1.0, 24.83, 0.0], 'GSM7029918': [1.0, 24.83, 0.0], 'GSM7029919': [1.0, 24.83, 0.0], 'GSM7029920': [1.0, 24.83, 0.0], 'GSM7029921': [1.0, 24.83, 0.0], 'GSM7029922': [1.0, 24.83, 0.0], 'GSM7029923': [1.0, 32.36, 0.0], 'GSM7029924': [1.0, 32.36, 0.0], 'GSM7029925': [1.0, 22.85, 1.0], 'GSM7029926': [1.0, 22.85, 1.0], 'GSM7029927': [1.0, 27.27, 0.0], 'GSM7029928': [1.0, 27.27, 0.0], 'GSM7029929': [1.0, 27.27, 0.0], 'GSM7029930': [1.0, 27.27, 0.0], 'GSM7029931': [1.0, 13.58, 0.0], 'GSM7029932': [1.0, 13.58, 0.0], 'GSM7029933': [1.0, 60.05, 0.0], 'GSM7029934': [1.0, 60.05, 0.0], 'GSM7029935': [1.0, 16.44, 0.0], 'GSM7029936': [1.0, 16.44, 0.0], 'GSM7029937': [1.0, 36.28, 0.0], 'GSM7029938': [1.0, 36.28, 0.0], 'GSM7029939': [1.0, 17.49, 0.0], 'GSM7029940': [1.0, 17.49, 0.0], 'GSM7029941': [1.0, 17.49, 0.0], 'GSM7029942': [1.0, 28.33, 0.0], 'GSM7029943': [1.0, 28.33, 0.0], 'GSM7029944': [1.0, 28.33, 0.0], 'GSM7029945': [1.0, 28.33, 0.0], 'GSM7029946': [1.0, 48.42, 0.0], 'GSM7029947': [1.0, 48.42, 0.0], 'GSM7029948': [1.0, 48.42, 0.0], 'GSM7029949': [1.0, 48.42, 0.0], 'GSM7029950': [1.0, 18.46, 1.0], 'GSM7029951': [1.0, 18.46, 1.0], 'GSM7029952': [1.0, 26.77, 1.0], 'GSM7029953': [1.0, 26.77, 1.0], 'GSM7029954': [1.0, 12.39, 0.0], 'GSM7029955': [1.0, 12.39, 0.0], 'GSM7029956': [1.0, 12.39, 0.0], 'GSM7029957': [1.0, 12.39, 0.0], 'GSM7029958': [1.0, 28.97, 0.0], 'GSM7029959': [1.0, 28.97, 0.0], 'GSM7029960': [1.0, 56.22, 0.0], 'GSM7029961': [1.0, 56.22, 0.0], 'GSM7029962': [1.0, 35.15, 1.0], 'GSM7029963': [1.0, 35.15, 1.0], 'GSM7029964': [1.0, 15.24, 0.0], 'GSM7029965': [1.0, 15.24, 0.0], 'GSM7029966': [1.0, 40.11, 0.0], 'GSM7029967': [1.0, 40.11, 0.0]}\n"
     ]
    }
   ],
   "source": [
    "is_gene_available = False\n",
    "trait_row = age_row = gender_row = None  # set to different values when applicable\n",
    "convert_trait = convert_age = convert_gender = None  # define the functions when applicable\n",
    "\n",
    "# Gene Expression Data Availability\n",
    "background_information = \"Defining molecular and cellular landscape behind non-response to Mycophenolate Mofetil in Systemic Lupus Erythematosus\"\n",
    "if \"gene-expression\" in background_information or \"gene expression\" in background_information:\n",
    "    is_gene_available = True\n",
    "\n",
    "# Variable Availability and Data Type Conversion\n",
    "data_dict = {0: ['days_from_first_visit: 0', 'days_from_first_visit: 52', 'days_from_first_visit: 82', 'days_from_first_visit: 124', 'days_from_first_visit: 143', 'days_from_first_visit: 35', 'days_from_first_visit: 126', 'days_from_first_visit: 219', 'days_from_first_visit: 295', 'days_from_first_visit: 384', 'days_from_first_visit: 629', 'days_from_first_visit: 91', 'days_from_first_visit: 85', 'days_from_first_visit: 68', 'days_from_first_visit: 109', 'days_from_first_visit: 38', 'days_from_first_visit: 157', 'days_from_first_visit: 96', 'days_from_first_visit: 97', 'days_from_first_visit: 268', 'days_from_first_visit: 79', 'days_from_first_visit: 170', 'days_from_first_visit: 435', 'days_from_first_visit: 560', 'days_from_first_visit: 163', 'days_from_first_visit: 27', 'days_from_first_visit: 58', 'days_from_first_visit: 284', 'days_from_first_visit: 382', 'days_from_first_visit: 478'],\n",
    "             1: ['Sex: Female', 'Sex: Male'],\n",
    "             2: ['age: 18.71', 'age: 17.66', 'age: 25.41', 'age: 25.77', 'age: 15.56', 'age: 19.38', 'age: 24.11', 'age: 22.25', 'age: 45.79', 'age: 22.26', 'age: 41.59', 'age: 19.84', 'age: 28.45', 'age: 36.34', 'age: 12.79', 'age: 23.12', 'age: 27.27', 'age: 16.92', 'age: 16.61', 'age: 17.02', 'age: 27.85', 'age: 32.14', 'age: 37.9', 'age: 24.83', 'age: 32.36', 'age: 22.85', 'age: 13.58', 'age: 60.05', 'age: 16.44', 'age: 36.28'],\n",
    "             3: ['mmf_response: NO', 'mmf_response: YES'],\n",
    "             4: ['sledai: 4', 'sledai: 0', 'sledai: 8', 'sledai: 10', 'sledai: 6', 'sledai: 12', 'sledai: 11', 'sledai: 2', 'sledai: 1', 'sledai: 3']}\n",
    "\n",
    "# Chronic_kidney_disease (trait)\n",
    "if 3 in data_dict and len(set(data_dict[3])) > 1:\n",
    "    trait_row = 3\n",
    "    def convert_trait(value):\n",
    "        if \"YES\" in value:\n",
    "            return 1\n",
    "        elif \"NO\" in value:\n",
    "            return 0\n",
    "        return None\n",
    "\n",
    "# Age\n",
    "if 2 in data_dict and len(set(data_dict[2])) > 1:\n",
    "    age_row = 2\n",
    "    def convert_age(value):\n",
    "        try:\n",
    "            return float(value.split(\": \")[1])\n",
    "        except ValueError:\n",
    "            return None\n",
    "\n",
    "# Gender\n",
    "if 1 in data_dict and len(set(data_dict[1])) > 1:\n",
    "    gender_row = 1\n",
    "    def convert_gender(value):\n",
    "        if \"Female\" in value:\n",
    "            return 0\n",
    "        elif \"Male\" in value:\n",
    "            return 1\n",
    "        return None\n",
    "\n",
    "# Save Metadata\n",
    "save_cohort_info('GSE224705', './preprocessed/Chronic_kidney_disease/cohort_info.json', is_gene_available, trait_row is not None)\n",
    "\n",
    "# Clinical Feature Extraction\n",
    "if trait_row is not None:\n",
    "    selected_clinical_data = geo_select_clinical_features(clinical_data, 'Chronic_kidney_disease', trait_row, convert_trait, age_row, convert_age, gender_row, convert_gender)\n",
    "    csv_path = './preprocessed/Chronic_kidney_disease/trait_data/GSE224705.csv'\n",
    "    selected_clinical_data.to_csv(csv_path)\n",
    "    print(preview_df(selected_clinical_data))\n"
   ]
  }
 ],
 "metadata": {
  "language_info": {
   "codemirror_mode": {
    "name": "ipython",
    "version": 3
   },
   "file_extension": ".py",
   "mimetype": "text/x-python",
   "name": "python",
   "nbconvert_exporter": "python",
   "pygments_lexer": "ipython3",
   "version": "3.8.17"
  }
 },
 "nbformat": 4,
 "nbformat_minor": 5
}
