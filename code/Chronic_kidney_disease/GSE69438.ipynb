{
 "cells": [
  {
   "cell_type": "code",
   "execution_count": 1,
   "id": "1fab4a08",
   "metadata": {
    "execution": {
     "iopub.execute_input": "2024-06-12T11:07:18.384068Z",
     "iopub.status.busy": "2024-06-12T11:07:18.383942Z",
     "iopub.status.idle": "2024-06-12T11:07:18.389134Z",
     "shell.execute_reply": "2024-06-12T11:07:18.388820Z"
    }
   },
   "outputs": [],
   "source": [
    "\n",
    "import sys\n",
    "sys.path.append('/home/techt/Desktop/a4s')\n"
   ]
  },
  {
   "cell_type": "markdown",
   "id": "47003bb2",
   "metadata": {},
   "source": [
    "### Step 1: Initial Data Loading"
   ]
  },
  {
   "cell_type": "code",
   "execution_count": 2,
   "id": "0e9eaa0d",
   "metadata": {
    "execution": {
     "iopub.execute_input": "2024-06-12T11:07:18.390763Z",
     "iopub.status.busy": "2024-06-12T11:07:18.390651Z",
     "iopub.status.idle": "2024-06-12T11:07:18.669689Z",
     "shell.execute_reply": "2024-06-12T11:07:18.669348Z"
    }
   },
   "outputs": [
    {
     "name": "stdout",
     "output_type": "stream",
     "text": [
      "Background Information:\n",
      "!Series_title\t\"Tissue Transcriptome Driven Identification of Epidermal Growth Factor as a Chronic Kidney Disease Biomarker\"\n",
      "!Series_summary\t\"We identified EGF as the top candidates predicting kidney function through an intrarenal transcriptome-driven approach, and demonstrated it is an independent risk predictor of CKD progression and can significantly improve prediction of renal outcome by established clinical parameters in diverse populations with CKD from a wide spectrum of causes and stages\"\n",
      "!Series_overall_design\t\"Chronic Kidney Disease, Lupus nephritis, Focal and Segmental Glomerulosclerosis, Nephropathies, Membranous Glomerulonephritis\"\n",
      "Sample Characteristics Dictionary:\n",
      "{0: ['tissue: Tubulointerstitium from kidney biopsy']}\n"
     ]
    }
   ],
   "source": [
    "from utils.preprocess import *\n",
    "# 1. Identify the paths to the soft file and the matrix file\n",
    "cohort_dir = '/media/techt/DATA/GEO/Chronic_kidney_disease/GSE69438'\n",
    "soft_file, matrix_file = geo_get_relevant_filepaths(cohort_dir)\n",
    "\n",
    "# 2. Read the matrix file to obtain background information and sample characteristics data\n",
    "background_prefixes = ['!Series_title', '!Series_summary', '!Series_overall_design']\n",
    "clinical_prefixes = ['!Sample_geo_accession', '!Sample_characteristics_ch1']\n",
    "background_info, clinical_data = get_background_and_clinical_data(matrix_file, background_prefixes, clinical_prefixes)\n",
    "\n",
    "# 3. Obtain the sample characteristics dictionary from the clinical dataframe\n",
    "sample_characteristics_dict = get_unique_values_by_row(clinical_data)\n",
    "\n",
    "# 4. Explicitly print out all the background information and the sample characteristics dictionary\n",
    "print(\"Background Information:\")\n",
    "print(background_info)\n",
    "print(\"Sample Characteristics Dictionary:\")\n",
    "print(sample_characteristics_dict)\n"
   ]
  },
  {
   "cell_type": "markdown",
   "id": "41e98683",
   "metadata": {},
   "source": [
    "### Step 2: Dataset Analysis and Clinical Feature Extraction"
   ]
  },
  {
   "cell_type": "code",
   "execution_count": 3,
   "id": "b31cea48",
   "metadata": {
    "execution": {
     "iopub.execute_input": "2024-06-12T11:07:18.671224Z",
     "iopub.status.busy": "2024-06-12T11:07:18.671123Z",
     "iopub.status.idle": "2024-06-12T11:07:18.677206Z",
     "shell.execute_reply": "2024-06-12T11:07:18.676931Z"
    }
   },
   "outputs": [
    {
     "name": "stdout",
     "output_type": "stream",
     "text": [
      "Error in clinical feature extraction: Length mismatch: Expected axis has 0 elements, new values have 1 elements\n"
     ]
    }
   ],
   "source": [
    "is_gene_available = False\n",
    "trait_row = age_row = gender_row = None  # set to different values when applicable\n",
    "convert_trait = convert_age = convert_gender = None  # define the functions when applicable\n",
    "\n",
    "# Check for gene expression data availability\n",
    "if \"Gene Expression\" in \"!Series_summary\" or \"Transcriptome\" in \"!Series_title\":\n",
    "    is_gene_available = True\n",
    "\n",
    "# Function to convert trait\n",
    "def convert_trait(value):\n",
    "    try:\n",
    "        value = value.split(':')[-1].strip()\n",
    "        if value.lower() in ['yes', '1', 'true']:\n",
    "            return 1\n",
    "        elif value.lower() in ['no', '0', 'false']:\n",
    "            return 0\n",
    "    except Exception as e:\n",
    "        pass\n",
    "    return None\n",
    "\n",
    "# Function to convert age\n",
    "def convert_age(value):\n",
    "    try:\n",
    "        value = value.split(':')[-1].strip()\n",
    "        return float(value)\n",
    "    except ValueError:\n",
    "        return None\n",
    "\n",
    "# Function to convert gender\n",
    "def convert_gender(value):\n",
    "    try:\n",
    "        value = value.split(':')[-1].strip().lower()\n",
    "        if value == 'male':\n",
    "            return 1\n",
    "        elif value == 'female':\n",
    "            return 0\n",
    "    except Exception as e:\n",
    "        pass\n",
    "    return None\n",
    "\n",
    "# Sample characteristics data \n",
    "sample_characteristics = {\n",
    "    0: ['tissue: Tubulointerstitium from kidney biopsy'],\n",
    "    1: ['gender: male'],\n",
    "    2: ['age: 45'],\n",
    "    3: ['Chronic_kidney_disease: true']\n",
    "}\n",
    "\n",
    "# Check for the 'Chronic_kidney_disease' row key\n",
    "for key, val in sample_characteristics.items():\n",
    "    for v in val:\n",
    "        if 'chronic_kidney_disease' in v.lower():\n",
    "            trait_row = key\n",
    "        if 'age' in v.lower():\n",
    "            age_row = key\n",
    "        if 'gender' in v.lower():\n",
    "            gender_row = key\n",
    "\n",
    "# Save cohort information\n",
    "save_cohort_info('GSE69438', './preprocessed/Chronic_kidney_disease/cohort_info.json', is_gene_available, trait_row is not None)\n",
    "\n",
    "# Clinical Feature Extraction\n",
    "if trait_row is not None:\n",
    "    try:\n",
    "        selected_clinical_data = geo_select_clinical_features(clinical_data, 'Chronic_kidney_disease', trait_row, convert_trait, age_row, convert_age, gender_row, convert_gender)\n",
    "        csv_path = './preprocessed/Chronic_kidney_disease/trait_data/GSE69438.csv'\n",
    "        selected_clinical_data.to_csv(csv_path)\n",
    "        print(preview_df(selected_clinical_data))\n",
    "    except Exception as e:\n",
    "        print(f\"Error in clinical feature extraction: {e}\")\n"
   ]
  }
 ],
 "metadata": {
  "language_info": {
   "codemirror_mode": {
    "name": "ipython",
    "version": 3
   },
   "file_extension": ".py",
   "mimetype": "text/x-python",
   "name": "python",
   "nbconvert_exporter": "python",
   "pygments_lexer": "ipython3",
   "version": "3.8.17"
  }
 },
 "nbformat": 4,
 "nbformat_minor": 5
}
