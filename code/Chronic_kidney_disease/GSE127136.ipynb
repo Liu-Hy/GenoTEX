{
 "cells": [
  {
   "cell_type": "code",
   "execution_count": 1,
   "id": "820f906e",
   "metadata": {
    "execution": {
     "iopub.execute_input": "2024-06-12T11:07:15.615172Z",
     "iopub.status.busy": "2024-06-12T11:07:15.615076Z",
     "iopub.status.idle": "2024-06-12T11:07:15.618798Z",
     "shell.execute_reply": "2024-06-12T11:07:15.618536Z"
    }
   },
   "outputs": [],
   "source": [
    "\n",
    "import sys\n",
    "sys.path.append('/home/techt/Desktop/a4s')\n"
   ]
  },
  {
   "cell_type": "markdown",
   "id": "ae4f559b",
   "metadata": {},
   "source": [
    "### Step 1: Initial Data Loading"
   ]
  },
  {
   "cell_type": "code",
   "execution_count": 2,
   "id": "50daea0c",
   "metadata": {
    "execution": {
     "iopub.execute_input": "2024-06-12T11:07:15.620788Z",
     "iopub.status.busy": "2024-06-12T11:07:15.620691Z",
     "iopub.status.idle": "2024-06-12T11:07:15.963647Z",
     "shell.execute_reply": "2024-06-12T11:07:15.963212Z"
    }
   },
   "outputs": [
    {
     "name": "stdout",
     "output_type": "stream",
     "text": [
      "Background Information:\n",
      "!Series_title\t\"Single-cell RNA-seq profiling reveals novel insights in immune-complex deposition and epithelium transition in IgA nephropathy\"\n",
      "!Series_summary\t\"IgA nephropathy represents the most prevalent chronic nephrosis worldwide. However, pathogenesis about IgA deposition and end-stage renal failure is still not well defined. Using single-cell RNA-seq, we identified the mesangial membrane receptor for IgA, which collaborates with increased extracellular matrix proteins and protease inhibitor to facilitate IgA deposition. Meanwhile, cell-cell interaction analysis revealed increased communications between mesangium and other cell types, uncovering how morbidity inside glomerulus spreads to whole kidney, which results in the genetic changes of kidney resident immune cells. Prominent interaction decreasing in intercalated cells leads to the discovery of a transitional cell type, which exhibited significant EMT and fibrosis features. Our work comprehensively characterized the pathological mesangial signatures, highlighting the step-by-step pathogenic process of IgA nephropathy from mesangium to epithelium.\"\n",
      "!Series_overall_design\t\"In this study, we collected single cells from 13 IgAN patients’ renal biopsies and normal renal cells from 6 kidney cancer patients’ paracancerous tissues. As glomerulus are difficult to digest, we separately dissociated the glomerulus and the rest renal tissues. We applied CD326+ and CD14+ MACS to capture epithelium and macrophages, to cover the entire renal cell types, negative selected cells from MACS were also collected. Meanwhile, we isolated monocytes from 5 of the 13 IgAN patients and another 5 normal persons’ peripheral blood using CD14+ MACS\"\n",
      "!Series_overall_design\t\"\"\n",
      "!Series_overall_design\t\"**Submitter declares that the raw data have been deposited in the Genome Sequence Archive for Human (https://bigd.big.ac.cn/gsa-human/) under submission number PRJCA003506.**\"\n",
      "Sample Characteristics Dictionary:\n",
      "{0: ['patients: IgAN_01', 'patients: IgAN_06', 'patients: IgAN_07', 'patients: IgAN_09', 'patients: IgAN_10', 'patients: IgAN_11', 'patients: IgAN_12', 'patients: IgAN_15', 'patients: IgAN_16', 'patients: IgAN_17', 'patients: IgAN_18', 'patients: IgAN_19', 'patients: IgAN_20', 'patients: NM_01', 'patients: NM_02', 'patients: NM_03', 'patients: NM_07', 'patients: NM_08', 'patients: NM_09', 'patients: PBM_IgAN_10', 'patients: PBM_IgAN_12', 'patients: PBM_IgAN_17', 'patients: PBM_IgAN_19', 'patients: PBM_IgAN_20', 'patients: PBM_NM_01', 'patients: PBM_NM_02', 'patients: PBM_NM_03', 'patients: PBM_NM_04', 'patients: PBM_NM_05'], 1: ['disease state: IgAN', 'disease state: kidney cancer', 'disease state: normal'], 2: ['tissue: renal biopsies', 'tissue: paracancerous tissues', 'cell type: monocytes']}\n"
     ]
    }
   ],
   "source": [
    "from utils.preprocess import *\n",
    "# 1. Identify the paths to the soft file and the matrix file\n",
    "cohort_dir = '/media/techt/DATA/GEO/Chronic_kidney_disease/GSE127136'\n",
    "soft_file, matrix_file = geo_get_relevant_filepaths(cohort_dir)\n",
    "\n",
    "# 2. Read the matrix file to obtain background information and sample characteristics data\n",
    "background_prefixes = ['!Series_title', '!Series_summary', '!Series_overall_design']\n",
    "clinical_prefixes = ['!Sample_geo_accession', '!Sample_characteristics_ch1']\n",
    "background_info, clinical_data = get_background_and_clinical_data(matrix_file, background_prefixes, clinical_prefixes)\n",
    "\n",
    "# 3. Obtain the sample characteristics dictionary from the clinical dataframe\n",
    "sample_characteristics_dict = get_unique_values_by_row(clinical_data)\n",
    "\n",
    "# 4. Explicitly print out all the background information and the sample characteristics dictionary\n",
    "print(\"Background Information:\")\n",
    "print(background_info)\n",
    "print(\"Sample Characteristics Dictionary:\")\n",
    "print(sample_characteristics_dict)\n"
   ]
  },
  {
   "cell_type": "markdown",
   "id": "bbcfd718",
   "metadata": {},
   "source": [
    "### Step 2: Dataset Analysis and Clinical Feature Extraction"
   ]
  },
  {
   "cell_type": "code",
   "execution_count": 3,
   "id": "e2d49f25",
   "metadata": {
    "execution": {
     "iopub.execute_input": "2024-06-12T11:07:15.965890Z",
     "iopub.status.busy": "2024-06-12T11:07:15.965750Z",
     "iopub.status.idle": "2024-06-12T11:07:16.183891Z",
     "shell.execute_reply": "2024-06-12T11:07:16.183495Z"
    }
   },
   "outputs": [
    {
     "name": "stdout",
     "output_type": "stream",
     "text": [
      "{'GSM3625775': [1], 'GSM3625776': [1], 'GSM3625777': [1], 'GSM3625778': [1], 'GSM3625779': [1], 'GSM3625780': [1], 'GSM3625781': [1], 'GSM3625782': [1], 'GSM3625783': [1], 'GSM3625784': [1], 'GSM3625785': [1], 'GSM3625786': [1], 'GSM3625787': [1], 'GSM3625788': [1], 'GSM3625789': [1], 'GSM3625790': [1], 'GSM3625791': [1], 'GSM3625792': [1], 'GSM3625793': [1], 'GSM3625794': [1], 'GSM3625795': [1], 'GSM3625796': [1], 'GSM3625797': [1], 'GSM3625798': [1], 'GSM3625799': [1], 'GSM3625800': [1], 'GSM3625801': [1], 'GSM3625802': [1], 'GSM3625803': [1], 'GSM3625804': [1], 'GSM3625805': [1], 'GSM3625806': [1], 'GSM3625807': [1], 'GSM3625808': [1], 'GSM3625809': [1], 'GSM3625810': [1], 'GSM3625811': [1], 'GSM3625812': [1], 'GSM3625813': [1], 'GSM3625814': [1], 'GSM3625815': [1], 'GSM3625816': [1], 'GSM3625817': [1], 'GSM3625818': [1], 'GSM3625819': [1], 'GSM3625820': [1], 'GSM3625821': [1], 'GSM3625822': [1], 'GSM3625823': [1], 'GSM3625824': [1], 'GSM3625825': [1], 'GSM3625826': [1], 'GSM3625827': [1], 'GSM3625828': [1], 'GSM3625829': [1], 'GSM3625830': [1], 'GSM3625831': [1], 'GSM3625832': [1], 'GSM3625833': [1], 'GSM3625834': [1], 'GSM3625835': [1], 'GSM3625836': [1], 'GSM3625837': [1], 'GSM3625838': [1], 'GSM3625839': [1], 'GSM3625840': [1], 'GSM3625841': [1], 'GSM3625842': [1], 'GSM3625843': [1], 'GSM3625844': [1], 'GSM3625845': [1], 'GSM3625846': [1], 'GSM3625847': [1], 'GSM3625848': [1], 'GSM3625849': [1], 'GSM3625850': [1], 'GSM3625851': [1], 'GSM3625852': [1], 'GSM3625853': [1], 'GSM3625854': [1], 'GSM3625855': [1], 'GSM3625856': [1], 'GSM3625857': [1], 'GSM3625858': [1], 'GSM3625859': [1], 'GSM3625860': [1], 'GSM3625861': [1], 'GSM3625862': [1], 'GSM3625863': [1], 'GSM3625864': [1], 'GSM3625865': [1], 'GSM3625866': [1], 'GSM3625867': [1], 'GSM3625868': [1], 'GSM3625869': [1], 'GSM3625870': [1], 'GSM3625871': [1], 'GSM3625872': [1], 'GSM3625873': [1], 'GSM3625874': [1], 'GSM3625875': [1], 'GSM3625876': [1], 'GSM3625877': [1], 'GSM3625878': [1], 'GSM3625879': [1], 'GSM3625880': [1], 'GSM3625881': [1], 'GSM3625882': [1], 'GSM3625883': [1], 'GSM3625884': [1], 'GSM3625885': [1], 'GSM3625886': [1], 'GSM3625887': [1], 'GSM3625888': [1], 'GSM3625889': [1], 'GSM3625890': [1], 'GSM3625891': [1], 'GSM3625892': [1], 'GSM3625893': [1], 'GSM3625894': [1], 'GSM3625895': [1], 'GSM3625896': [1], 'GSM3625897': [1], 'GSM3625898': [1], 'GSM3625899': [1], 'GSM3625900': [1], 'GSM3625901': [1], 'GSM3625902': [1], 'GSM3625903': [1], 'GSM3625904': [1], 'GSM3625905': [1], 'GSM3625906': [1], 'GSM3625907': [1], 'GSM3625908': [1], 'GSM3625909': [1], 'GSM3625910': [1], 'GSM3625911': [1], 'GSM3625912': [1], 'GSM3625913': [1], 'GSM3625914': [1], 'GSM3625915': [1], 'GSM3625916': [1], 'GSM3625917': [1], 'GSM3625918': [1], 'GSM3625919': [1], 'GSM3625920': [1], 'GSM3625921': [1], 'GSM3625922': [1], 'GSM3625923': [1], 'GSM3625924': [1], 'GSM3625925': [1], 'GSM3625926': [1], 'GSM3625927': [1], 'GSM3625928': [1], 'GSM3625929': [1], 'GSM3625930': [1], 'GSM3625931': [1], 'GSM3625932': [1], 'GSM3625933': [1], 'GSM3625934': [1], 'GSM3625935': [1], 'GSM3625936': [1], 'GSM3625937': [1], 'GSM3625938': [1], 'GSM3625939': [1], 'GSM3625940': [1], 'GSM3625941': [1], 'GSM3625942': [1], 'GSM3625943': [1], 'GSM3625944': [1], 'GSM3625945': [1], 'GSM3625946': [1], 'GSM3625947': [1], 'GSM3625948': [1], 'GSM3625949': [1], 'GSM3625950': [1], 'GSM3625951': [1], 'GSM3625952': [1], 'GSM3625953': [1], 'GSM3625954': [1], 'GSM3625955': [1], 'GSM3625956': [1], 'GSM3625957': [1], 'GSM3625958': [1], 'GSM3625959': [1], 'GSM3625960': [1], 'GSM3625961': [1], 'GSM3625962': [1], 'GSM3625963': [1], 'GSM3625964': [1], 'GSM3625965': [1], 'GSM3625966': [1], 'GSM3625967': [1], 'GSM3625968': [1], 'GSM3625969': [1], 'GSM3625970': [1], 'GSM3625971': [1], 'GSM3625972': [1], 'GSM3625973': [1], 'GSM3625974': [1]}\n"
     ]
    }
   ],
   "source": [
    "is_gene_available = False\n",
    "trait_row = age_row = gender_row = None  # set to different values when applicable\n",
    "convert_trait = convert_age = convert_gender = None  # define the functions when applicable\n",
    "\n",
    "# Checking if the dataset contains gene expression data\n",
    "# Assuming the given data is gene expression data based on single-cell RNA-seq information in the Series summary.\n",
    "is_gene_available = True\n",
    "\n",
    "# Variable Availability and Data Type Conversion\n",
    "# Chronic_kidney_disease\n",
    "sample_characteristics = {0: ['patients: IgAN_01', 'patients: IgAN_06', 'patients: IgAN_07', 'patients: IgAN_09', 'patients: IgAN_10', 'patients: IgAN_11', 'patients: IgAN_12', 'patients: IgAN_15', 'patients: IgAN_16', 'patients: IgAN_17', 'patients: IgAN_18', 'patients: IgAN_19', 'patients: IgAN_20', 'patients: NM_01', 'patients: NM_02', 'patients: NM_03', 'patients: NM_07', 'patients: NM_08', 'patients: NM_09', 'patients: PBM_IgAN_10', 'patients: PBM_IgAN_12', 'patients: PBM_IgAN_17', 'patients: PBM_IgAN_19', 'patients: PBM_NM_01', 'patients: PBM_NM_02', 'patients: PBM_NM_03', 'patients: PBM_NM_04', 'patients: PBM_NM_05'], \n",
    "                       1: ['disease state: IgAN', 'disease state: kidney cancer', 'disease state: normal'], \n",
    "                       2: ['tissue: renal biopsies', 'tissue: paracancerous tissues', 'cell type: monocytes']}\n",
    "\n",
    "if 1 in sample_characteristics:\n",
    "    trait_row = 1\n",
    "\n",
    "# Age and gender data are not available\n",
    "age_row = None\n",
    "gender_row = None\n",
    "\n",
    "# Data type conversion functions\n",
    "def convert_trait(value):\n",
    "    if not value:\n",
    "        return None\n",
    "    value = value.split(':')[-1].strip().lower()\n",
    "    if value == \"igan\":\n",
    "        return 1\n",
    "    elif value in [\"kidney cancer\", \"normal\"]:\n",
    "        return 0\n",
    "    else:\n",
    "        return None\n",
    "\n",
    "convert_age = None  # Since age data is not available\n",
    "convert_gender = None  # Since gender data is not available\n",
    "\n",
    "# Save cohort information\n",
    "save_cohort_info('GSE127136', './preprocessed/Chronic_kidney_disease/cohort_info.json', is_gene_available, trait_row is not None)\n",
    "\n",
    "# Clinical Feature Extraction\n",
    "if trait_row is not None:\n",
    "    selected_clinical_data = geo_select_clinical_features(clinical_data, 'Chronic_kidney_disease', trait_row, convert_trait, age_row, convert_age, gender_row, convert_gender)\n",
    "    csv_path = './preprocessed/Chronic_kidney_disease/trait_data/GSE127136.csv'\n",
    "    selected_clinical_data.to_csv(csv_path)\n",
    "    print(preview_df(selected_clinical_data))\n"
   ]
  },
  {
   "cell_type": "markdown",
   "id": "7ef068bb",
   "metadata": {},
   "source": [
    "### Step 3: Gene Data Extraction"
   ]
  },
  {
   "cell_type": "code",
   "execution_count": 4,
   "id": "e15b72e5",
   "metadata": {
    "execution": {
     "iopub.execute_input": "2024-06-12T11:07:16.185992Z",
     "iopub.status.busy": "2024-06-12T11:07:16.185861Z",
     "iopub.status.idle": "2024-06-12T11:07:16.734748Z",
     "shell.execute_reply": "2024-06-12T11:07:16.734396Z"
    }
   },
   "outputs": [
    {
     "name": "stdout",
     "output_type": "stream",
     "text": [
      "Index([], dtype='object', name='ID')\n"
     ]
    }
   ],
   "source": [
    "# 1. Use the get_genetic_data function from the library to get the gene_data from the matrix_file previously defined.\n",
    "gene_data = get_genetic_data(matrix_file)\n",
    "\n",
    "# 2. Print the first 20 row ids for the following step.\n",
    "print(gene_data.index[:20])\n",
    "    \n",
    "\n",
    "# Given the output from STEP3 is an empty index, we cannot conclusively determine\n",
    "# if the identifiers are human gene symbols. As a default assumption in the absence \n",
    "# of specific identifiers, we assume that they require gene mapping.\n"
   ]
  },
  {
   "cell_type": "markdown",
   "id": "dae6284a",
   "metadata": {},
   "source": [
    "### Step 4: Gene Identifier Review"
   ]
  },
  {
   "cell_type": "code",
   "execution_count": 5,
   "id": "b0ec3223",
   "metadata": {
    "execution": {
     "iopub.execute_input": "2024-06-12T11:07:16.736816Z",
     "iopub.status.busy": "2024-06-12T11:07:16.736715Z",
     "iopub.status.idle": "2024-06-12T11:07:16.739211Z",
     "shell.execute_reply": "2024-06-12T11:07:16.738941Z"
    }
   },
   "outputs": [],
   "source": [
    "requires_gene_mapping = True\n",
    "\n",
    "\n",
    "from utils.preprocess import *\n",
    "\n",
    "# Function to read a few lines from a gzipped file for debugging\n",
    "def read_gzipped_file(file_path, num_lines=10):\n",
    "    import gzip\n",
    "    with gzip.open(file_path, 'rt') as f:\n",
    "        lines = [f.readline().strip() for _ in range(num_lines)]\n",
    "    return lines\n"
   ]
  },
  {
   "cell_type": "markdown",
   "id": "9afd91c6",
   "metadata": {},
   "source": [
    "### Step 5: Gene Annotation (Conditional)"
   ]
  },
  {
   "cell_type": "code",
   "execution_count": 6,
   "id": "713a6a60",
   "metadata": {
    "execution": {
     "iopub.execute_input": "2024-06-12T11:07:16.741213Z",
     "iopub.status.busy": "2024-06-12T11:07:16.741079Z",
     "iopub.status.idle": "2024-06-12T11:07:16.885244Z",
     "shell.execute_reply": "2024-06-12T11:07:16.884898Z"
    }
   },
   "outputs": [
    {
     "name": "stdout",
     "output_type": "stream",
     "text": [
      "An error occurred: No columns to parse from file\n",
      "First few lines of the file for debugging:\n",
      "['^DATABASE = GeoMiame', '!Database_name = Gene Expression Omnibus (GEO)', '!Database_institute = NCBI NLM NIH', '!Database_web_link = http://www.ncbi.nlm.nih.gov/geo', '!Database_email = geo@ncbi.nlm.nih.gov', '^SERIES = GSE127136', '!Series_title = Single-cell RNA-seq profiling reveals novel insights in immune-complex deposition and epithelium transition in IgA nephropathy', '!Series_geo_accession = GSE127136', '!Series_status = Public on Jul 06 2021', '!Series_submission_date = Feb 25 2019']\n"
     ]
    }
   ],
   "source": [
    "try:\n",
    "    # 1. Use the 'get_gene_annotation' function from the library to get gene annotation data from the soft file\n",
    "    gene_annotation = get_gene_annotation(soft_file)\n",
    "    \n",
    "    # 2. Use the 'preview_df' function from the library to preview the data and print out the results.\n",
    "    print(\"Gene annotation preview:\")\n",
    "    print(preview_df(gene_annotation))\n",
    "except Exception as e:\n",
    "    print(f\"An error occurred: {e}\")\n",
    "    print(\"First few lines of the file for debugging:\")\n",
    "    print(read_gzipped_file(soft_file, num_lines=10))\n"
   ]
  },
  {
   "cell_type": "markdown",
   "id": "c802b989",
   "metadata": {},
   "source": [
    "### Step 6: Gene Identifier Mapping"
   ]
  },
  {
   "cell_type": "code",
   "execution_count": 7,
   "id": "51ef6dbe",
   "metadata": {
    "execution": {
     "iopub.execute_input": "2024-06-12T11:07:16.887275Z",
     "iopub.status.busy": "2024-06-12T11:07:16.887148Z",
     "iopub.status.idle": "2024-06-12T11:07:17.018685Z",
     "shell.execute_reply": "2024-06-12T11:07:17.018361Z"
    }
   },
   "outputs": [
    {
     "name": "stdout",
     "output_type": "stream",
     "text": [
      "An error occurred: No columns to parse from file\n",
      "First few lines of the soft file for debugging:\n",
      "['^DATABASE = GeoMiame', '!Database_name = Gene Expression Omnibus (GEO)', '!Database_institute = NCBI NLM NIH', '!Database_web_link = http://www.ncbi.nlm.nih.gov/geo', '!Database_email = geo@ncbi.nlm.nih.gov', '^SERIES = GSE127136', '!Series_title = Single-cell RNA-seq profiling reveals novel insights in immune-complex deposition and epithelium transition in IgA nephropathy', '!Series_geo_accession = GSE127136', '!Series_status = Public on Jul 06 2021', '!Series_submission_date = Feb 25 2019']\n"
     ]
    }
   ],
   "source": [
    "if requires_gene_mapping:\n",
    "    try:\n",
    "        # STEP5: Obtain gene annotation data\n",
    "        gene_annotation = get_gene_annotation(soft_file)\n",
    "        print(\"Gene annotation preview:\")\n",
    "        print(preview_df(gene_annotation))\n",
    "\n",
    "        # 1. Determine the appropriate keys for identifiers and gene symbols\n",
    "        identifier_key = 'ID'\n",
    "        gene_symbol_key = 'Gene Symbol'\n",
    "\n",
    "        # 2. Get the dataframe storing the mapping between probe IDs and genes\n",
    "        gene_mapping_df = get_gene_mapping(gene_annotation, identifier_key, gene_symbol_key)\n",
    "        \n",
    "        # 3. Apply the mapping and obtain the resulting gene expression dataframe\n",
    "        gene_data = apply_gene_mapping(gene_data, gene_mapping_df)\n",
    "    except Exception as e:\n",
    "        print(f\"An error occurred: {e}\")\n",
    "        # Debugging information\n",
    "        print(\"First few lines of the soft file for debugging:\")\n",
    "        print(read_gzipped_file(soft_file, num_lines=10))\n"
   ]
  },
  {
   "cell_type": "markdown",
   "id": "f28a2863",
   "metadata": {},
   "source": [
    "### Step 7: Data Normalization and Merging"
   ]
  },
  {
   "cell_type": "code",
   "execution_count": 8,
   "id": "c5e9b367",
   "metadata": {
    "execution": {
     "iopub.execute_input": "2024-06-12T11:07:17.020759Z",
     "iopub.status.busy": "2024-06-12T11:07:17.020634Z",
     "iopub.status.idle": "2024-06-12T11:07:17.578236Z",
     "shell.execute_reply": "2024-06-12T11:07:17.577881Z"
    }
   },
   "outputs": [
    {
     "name": "stdout",
     "output_type": "stream",
     "text": [
      "No gene data in the dataframe\n"
     ]
    }
   ],
   "source": [
    "# 1. Normalize the obtained gene data with the 'normalize_gene_symbols_in_index' function from the library.\n",
    "normalized_gene_data = normalize_gene_symbols_in_index(gene_data)\n",
    "gene_csv_path = './preprocessed/Chronic_kidney_disease/gene_data/GSE127136.csv'\n",
    "normalized_gene_data.to_csv(gene_csv_path)\n",
    "\n",
    "# 2. Merge the clinical and genetic data with the 'geo_merge_clinical_genetic_data' function from the library.\n",
    "merged_data = geo_merge_clinical_genetic_data(selected_clinical_data, normalized_gene_data)\n",
    "\n",
    "# 3. Determine whether the trait and some demographic attributes in the data is severely biased, and remove biased attributes.\n",
    "trait_biased, unbiased_merged_data = judge_and_remove_biased_features(merged_data, 'Chronic_kidney_disease')\n",
    "\n",
    "# 4. Save the cohort information.\n",
    "save_cohort_info('GSE127136', './preprocessed/Chronic_kidney_disease/cohort_info.json', True, True, trait_biased, merged_data)\n",
    "\n",
    "# If the trait is not severely biased, save the merged data to a csv file.\n",
    "if not trait_biased:\n",
    "    # 5. If the trait is not severely biased, save the merged data to a csv file.\n",
    "    csv_path = './preprocessed/Chronic_kidney_disease/GSE127136.csv'\n",
    "    unbiased_merged_data.to_csv(csv_path)\n"
   ]
  }
 ],
 "metadata": {
  "language_info": {
   "codemirror_mode": {
    "name": "ipython",
    "version": 3
   },
   "file_extension": ".py",
   "mimetype": "text/x-python",
   "name": "python",
   "nbconvert_exporter": "python",
   "pygments_lexer": "ipython3",
   "version": "3.8.17"
  }
 },
 "nbformat": 4,
 "nbformat_minor": 5
}
