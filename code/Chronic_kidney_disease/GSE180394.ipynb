{
 "cells": [
  {
   "cell_type": "code",
   "execution_count": 1,
   "id": "3a4a553b",
   "metadata": {
    "execution": {
     "iopub.execute_input": "2024-06-12T11:03:31.889693Z",
     "iopub.status.busy": "2024-06-12T11:03:31.889541Z",
     "iopub.status.idle": "2024-06-12T11:03:31.894956Z",
     "shell.execute_reply": "2024-06-12T11:03:31.894568Z"
    }
   },
   "outputs": [],
   "source": [
    "\n",
    "import sys\n",
    "sys.path.append('/home/techt/Desktop/a4s')\n"
   ]
  },
  {
   "cell_type": "markdown",
   "id": "71a7d140",
   "metadata": {},
   "source": [
    "### Step 1: Initial Data Loading"
   ]
  },
  {
   "cell_type": "code",
   "execution_count": 2,
   "id": "5f812b82",
   "metadata": {
    "execution": {
     "iopub.execute_input": "2024-06-12T11:03:31.896829Z",
     "iopub.status.busy": "2024-06-12T11:03:31.896456Z",
     "iopub.status.idle": "2024-06-12T11:03:32.238935Z",
     "shell.execute_reply": "2024-06-12T11:03:32.238556Z"
    }
   },
   "outputs": [
    {
     "name": "stdout",
     "output_type": "stream",
     "text": [
      "Background Information:\n",
      "!Series_title\t\"Tubular Transcriptome in the Cprobe Cohort\"\n",
      "!Series_summary\t\"We used microarrays to analyze the transcriptome of microdissected renal biopsies from patients with kidney disease and living donors. We derived pathway specific scores for Angiopoietin-Tie signaling pathway activation at mRNA level (or transcriptome level) for individual patients and studied the association of pathway activation with disease outcomes.\"\n",
      "!Series_overall_design\t\"Tubular gene expression data from micro dissected human kidney biopsy samples  from patients with chronic kidney disease(Lupus, DN, IgA,HT, TN) and healthy living donors.\"\n",
      "!Series_overall_design\t\"Profiling was performed on Affymetrix ST2.1 microarray platform. \"\n",
      "Sample Characteristics Dictionary:\n",
      "{0: ['sample group: Living donor', \"sample group: 2' FSGS\", 'sample group: chronic Glomerulonephritis (GN) with infiltration by CLL', 'sample group: DN', 'sample group: FGGS', 'sample group: FSGS', 'sample group: Hydronephrosis', 'sample group: IgAN', 'sample group: Interstitial nephritis', 'sample group: Hypertensive Nephrosclerosis', 'sample group: Light-Chain Deposit Disease (IgG lambda)', 'sample group: LN-WHO III', 'sample group: LN-WHO III+V', 'sample group: LN-WHO IV', 'sample group: LN-WHO IV+V', 'sample group: LN-WHO V', 'sample group: LN-WHO-I/II', 'sample group: MCD', 'sample group: MN', 'sample group: CKD with mod-severe Interstitial fibrosis', 'sample group: Thin-BMD', 'sample group: Unaffected parts of Tumor Nephrectomy'], 1: ['tissue: Tubuli from kidney biopsy']}\n"
     ]
    }
   ],
   "source": [
    "from utils.preprocess import *\n",
    "# 1. Identify the paths to the soft file and the matrix file\n",
    "cohort_dir = '/media/techt/DATA/GEO/Chronic_kidney_disease/GSE180394'\n",
    "soft_file, matrix_file = geo_get_relevant_filepaths(cohort_dir)\n",
    "\n",
    "# 2. Read the matrix file to obtain background information and sample characteristics data\n",
    "background_prefixes = ['!Series_title', '!Series_summary', '!Series_overall_design']\n",
    "clinical_prefixes = ['!Sample_geo_accession', '!Sample_characteristics_ch1']\n",
    "background_info, clinical_data = get_background_and_clinical_data(matrix_file, background_prefixes, clinical_prefixes)\n",
    "\n",
    "# 3. Obtain the sample characteristics dictionary from the clinical dataframe\n",
    "sample_characteristics_dict = get_unique_values_by_row(clinical_data)\n",
    "\n",
    "# 4. Explicitly print out all the background information and the sample characteristics dictionary\n",
    "print(\"Background Information:\")\n",
    "print(background_info)\n",
    "print(\"Sample Characteristics Dictionary:\")\n",
    "print(sample_characteristics_dict)\n"
   ]
  },
  {
   "cell_type": "markdown",
   "id": "b1109924",
   "metadata": {},
   "source": [
    "### Step 2: Dataset Analysis and Clinical Feature Extraction"
   ]
  },
  {
   "cell_type": "code",
   "execution_count": 3,
   "id": "33da6d0f",
   "metadata": {
    "execution": {
     "iopub.execute_input": "2024-06-12T11:03:32.240844Z",
     "iopub.status.busy": "2024-06-12T11:03:32.240703Z",
     "iopub.status.idle": "2024-06-12T11:03:32.252095Z",
     "shell.execute_reply": "2024-06-12T11:03:32.251796Z"
    }
   },
   "outputs": [
    {
     "name": "stdout",
     "output_type": "stream",
     "text": [
      "{'GSM5607814': [0], 'GSM5607815': [0], 'GSM5607816': [0], 'GSM5607817': [0], 'GSM5607818': [0], 'GSM5607819': [0], 'GSM5607820': [0], 'GSM5607821': [0], 'GSM5607822': [0], 'GSM5607823': [None], 'GSM5607824': [1], 'GSM5607825': [None], 'GSM5607826': [None], 'GSM5607827': [None], 'GSM5607828': [None], 'GSM5607829': [None], 'GSM5607830': [None], 'GSM5607831': [None], 'GSM5607832': [None], 'GSM5607833': [None], 'GSM5607834': [None], 'GSM5607835': [None], 'GSM5607836': [None], 'GSM5607837': [None], 'GSM5607838': [None], 'GSM5607839': [None], 'GSM5607840': [None], 'GSM5607841': [None], 'GSM5607842': [None], 'GSM5607843': [None], 'GSM5607844': [None], 'GSM5607845': [1], 'GSM5607846': [None], 'GSM5607847': [None], 'GSM5607848': [None], 'GSM5607849': [None], 'GSM5607850': [None], 'GSM5607851': [None], 'GSM5607852': [None], 'GSM5607853': [None], 'GSM5607854': [None], 'GSM5607855': [None], 'GSM5607856': [None], 'GSM5607857': [None], 'GSM5607858': [None], 'GSM5607859': [None], 'GSM5607860': [None], 'GSM5607861': [None], 'GSM5607862': [None], 'GSM5607863': [1], 'GSM5607864': [None], 'GSM5607865': [None], 'GSM5607866': [None], 'GSM5607867': [0], 'GSM5607868': [0], 'GSM5607869': [0], 'GSM5607870': [0], 'GSM5607871': [0], 'GSM5607872': [0]}\n"
     ]
    }
   ],
   "source": [
    "is_gene_available = False\n",
    "trait_row = age_row = gender_row = None  # set to different values when applicable\n",
    "convert_trait = convert_age = convert_gender = None  # define the functions when applicable\n",
    "\n",
    "# Check if gene expression data is available\n",
    "is_gene_available = True\n",
    "\n",
    "# Determine the rows for each trait\n",
    "sample_characteristics_dict = {\n",
    "    0: ['sample group: Living donor', \"sample group: 2' FSGS\", 'sample group: chronic Glomerulonephritis (GN) with infiltration by CLL', \n",
    "        'sample group: DN', 'sample group: FGGS', 'sample group: FSGS', 'sample group: Hydronephrosis', 'sample group: IgAN', \n",
    "        'sample group: Interstitial nephritis', 'sample group: Hypertensive Nephrosclerosis', 'sample group: Light-Chain Deposit Disease (IgG lambda)', \n",
    "        'sample group: LN-WHO III', 'sample group: LN-WHO III+V', 'sample group: LN-WHO IV', 'sample group: LN-WHO IV+V', 'sample group: LN-WHO V', \n",
    "        'sample group: LN-WHO-I/II', 'sample group: MCD', 'sample group: MN', 'sample group: CKD with mod-severe Interstitial fibrosis', \n",
    "        'sample group: Thin-BMD', 'sample group: Unaffected parts of Tumor Nephrectomy'], \n",
    "    1: ['tissue: Tubuli from kidney biopsy']\n",
    "}\n",
    "\n",
    "# Assuming dataset contains information in a structured manner and we could infer keys (abstract example)\n",
    "trait_row = 0        # Set to 0 if CKD status is derived from sample group info.\n",
    "age_row = None       # No age information apparent in the dataset\n",
    "gender_row = None    # No gender information apparent in the dataset\n",
    "\n",
    "# Define data conversion functions\n",
    "def convert_trait(value):\n",
    "    if 'donor' in value.lower() or 'unaffected' in value.lower():\n",
    "        return 0  # Non-CKD\n",
    "    elif 'ckd' in value.lower() or 'chronic' in value.lower() or 'gn' in value.lower() or 'disease' in value.lower():\n",
    "        return 1  # CKD\n",
    "    return None\n",
    "\n",
    "def convert_age(value):\n",
    "    # Age information not available\n",
    "    return None\n",
    "\n",
    "def convert_gender(value):\n",
    "    # Gender information not available\n",
    "    return None\n",
    "\n",
    "# Save cohort information\n",
    "save_cohort_info('GSE180394', './preprocessed/Chronic_kidney_disease/cohort_info.json', is_gene_available, trait_row is not None)\n",
    "\n",
    "# If clinical data is available, process it\n",
    "if trait_row is not None:\n",
    "    selected_clinical_data = geo_select_clinical_features(clinical_data, 'Chronic_kidney_disease', trait_row, convert_trait, age_row, convert_age, gender_row, convert_gender)\n",
    "    csv_path = './preprocessed/Chronic_kidney_disease/trait_data/GSE180394.csv'\n",
    "    selected_clinical_data.to_csv(csv_path)\n",
    "    print(preview_df(selected_clinical_data))\n"
   ]
  },
  {
   "cell_type": "markdown",
   "id": "5aa14f82",
   "metadata": {},
   "source": [
    "### Step 3: Gene Data Extraction"
   ]
  },
  {
   "cell_type": "code",
   "execution_count": 4,
   "id": "897b4926",
   "metadata": {
    "execution": {
     "iopub.execute_input": "2024-06-12T11:03:32.254029Z",
     "iopub.status.busy": "2024-06-12T11:03:32.253733Z",
     "iopub.status.idle": "2024-06-12T11:03:32.442993Z",
     "shell.execute_reply": "2024-06-12T11:03:32.442563Z"
    }
   },
   "outputs": [
    {
     "name": "stdout",
     "output_type": "stream",
     "text": [
      "Index(['100009613_at', '100009676_at', '10000_at', '10001_at', '10002_at',\n",
      "       '100033413_at', '100033422_at', '100033423_at', '100033424_at',\n",
      "       '100033425_at', '100033426_at', '100033427_at', '100033428_at',\n",
      "       '100033430_at', '100033431_at', '100033432_at', '100033434_at',\n",
      "       '100033435_at', '100033436_at', '100033437_at'],\n",
      "      dtype='object', name='ID')\n"
     ]
    }
   ],
   "source": [
    "# 1. Use the get_genetic_data function from the library to get the gene_data from the matrix_file previously defined.\n",
    "gene_data = get_genetic_data(matrix_file)\n",
    "\n",
    "# 2. Print the first 20 row ids for the following step.\n",
    "print(gene_data.index[:20])\n"
   ]
  },
  {
   "cell_type": "markdown",
   "id": "b80fb823",
   "metadata": {},
   "source": [
    "### Step 4: Gene Identifier Review"
   ]
  },
  {
   "cell_type": "code",
   "execution_count": 5,
   "id": "fa00af3a",
   "metadata": {
    "execution": {
     "iopub.execute_input": "2024-06-12T11:03:32.444733Z",
     "iopub.status.busy": "2024-06-12T11:03:32.444620Z",
     "iopub.status.idle": "2024-06-12T11:03:32.446558Z",
     "shell.execute_reply": "2024-06-12T11:03:32.446278Z"
    }
   },
   "outputs": [],
   "source": [
    "requires_gene_mapping = True\n"
   ]
  },
  {
   "cell_type": "markdown",
   "id": "589aeef8",
   "metadata": {},
   "source": [
    "### Step 5: Gene Annotation (Conditional)"
   ]
  },
  {
   "cell_type": "code",
   "execution_count": 6,
   "id": "d89a8ddb",
   "metadata": {
    "execution": {
     "iopub.execute_input": "2024-06-12T11:03:32.448380Z",
     "iopub.status.busy": "2024-06-12T11:03:32.448279Z",
     "iopub.status.idle": "2024-06-12T11:03:34.095489Z",
     "shell.execute_reply": "2024-06-12T11:03:34.095106Z"
    }
   },
   "outputs": [
    {
     "name": "stdout",
     "output_type": "stream",
     "text": [
      "Gene annotation preview:\n",
      "{'ID': ['1_at', '10_at', '100_at', '1000_at', '10000_at'], 'ENTREZ_GENE_ID': ['1', '10', '100', '1000', '10000']}\n"
     ]
    }
   ],
   "source": [
    "# 1. Use the 'get_gene_annotation' function from the library to get gene annotation data from the soft file.\n",
    "gene_annotation = get_gene_annotation(soft_file)\n",
    "\n",
    "# 2. Use the 'preview_df' function from the library to preview the data and print out the results.\n",
    "print(\"Gene annotation preview:\")\n",
    "print(preview_df(gene_annotation))\n"
   ]
  },
  {
   "cell_type": "markdown",
   "id": "c79f7b38",
   "metadata": {},
   "source": [
    "### Step 6: Gene Identifier Mapping"
   ]
  },
  {
   "cell_type": "code",
   "execution_count": 7,
   "id": "740211b9",
   "metadata": {
    "execution": {
     "iopub.execute_input": "2024-06-12T11:03:34.097226Z",
     "iopub.status.busy": "2024-06-12T11:03:34.097074Z",
     "iopub.status.idle": "2024-06-12T11:03:40.583328Z",
     "shell.execute_reply": "2024-06-12T11:03:40.582900Z"
    }
   },
   "outputs": [],
   "source": [
    "# 1. Identifying the keys for mapping\n",
    "identifier_key = 'ID'\n",
    "gene_symbol_key = 'ENTREZ_GENE_ID'\n",
    "\n",
    "# 2. Get the dataframe storing the mapping between probe IDs and genes\n",
    "mapping_df = get_gene_mapping(gene_annotation, identifier_key, gene_symbol_key)\n",
    "\n",
    "# 3. Apply the mapping to get the gene expression dataframe\n",
    "gene_data = apply_gene_mapping(gene_data, mapping_df)\n"
   ]
  }
 ],
 "metadata": {
  "language_info": {
   "codemirror_mode": {
    "name": "ipython",
    "version": 3
   },
   "file_extension": ".py",
   "mimetype": "text/x-python",
   "name": "python",
   "nbconvert_exporter": "python",
   "pygments_lexer": "ipython3",
   "version": "3.8.17"
  }
 },
 "nbformat": 4,
 "nbformat_minor": 5
}
