{
 "cells": [
  {
   "cell_type": "code",
   "execution_count": 1,
   "id": "c849790e",
   "metadata": {
    "execution": {
     "iopub.execute_input": "2024-06-12T11:03:58.540976Z",
     "iopub.status.busy": "2024-06-12T11:03:58.540854Z",
     "iopub.status.idle": "2024-06-12T11:03:58.546092Z",
     "shell.execute_reply": "2024-06-12T11:03:58.545804Z"
    }
   },
   "outputs": [],
   "source": [
    "\n",
    "import sys\n",
    "sys.path.append('/home/techt/Desktop/a4s')\n"
   ]
  },
  {
   "cell_type": "markdown",
   "id": "67aea812",
   "metadata": {},
   "source": [
    "### Step 1: Initial Data Loading"
   ]
  },
  {
   "cell_type": "code",
   "execution_count": 2,
   "id": "5803aba5",
   "metadata": {
    "execution": {
     "iopub.execute_input": "2024-06-12T11:03:58.547789Z",
     "iopub.status.busy": "2024-06-12T11:03:58.547674Z",
     "iopub.status.idle": "2024-06-12T11:03:58.850492Z",
     "shell.execute_reply": "2024-06-12T11:03:58.850195Z"
    }
   },
   "outputs": [
    {
     "name": "stdout",
     "output_type": "stream",
     "text": [
      "Background Information:\n",
      "!Series_title\t\"Glomerular Transcriptome from European Renal cDNA Bank subjects and living donors\"\n",
      "!Series_summary\t\"summary : Glomerular Transcriptome from European Renal cDNA Bank subjects and living donors. Samples included in this analysis have been previously analyzed using older CDF definitions and are included under previous GEO submissions - GSE47183 (chronic kidney disease samples), and GSE32591 (IgA nephropathy samples).  \"\n",
      "!Series_overall_design\t\"RNA from the glomerular compartment of was extracted and processed for hybridization on Affymetrix microarrays, annotated using Human Entrez Gene ID custom CDF version 19.\"\n",
      "Sample Characteristics Dictionary:\n",
      "{0: ['tissue: Glomeruli from kidney biopsy'], 1: ['diagnosis: Diabetic Nephropathy', 'diagnosis: Focal Segmental Glomerular Sclerosis/Minimal Change Disease', 'diagnosis: Focal Segmental Glomerular Sclerosis', nan, 'diagnosis: Minimal Change Disease', 'diagnosis: ANCA Associated Vasculitis', 'diagnosis: Tumor Nephrectomy']}\n"
     ]
    }
   ],
   "source": [
    "from utils.preprocess import *\n",
    "# 1. Identify the paths to the soft file and the matrix file\n",
    "cohort_dir = '/media/techt/DATA/GEO/Chronic_kidney_disease/GSE104948'\n",
    "soft_file, matrix_file = geo_get_relevant_filepaths(cohort_dir)\n",
    "\n",
    "# 2. Read the matrix file to obtain background information and sample characteristics data\n",
    "background_prefixes = ['!Series_title', '!Series_summary', '!Series_overall_design']\n",
    "clinical_prefixes = ['!Sample_geo_accession', '!Sample_characteristics_ch1']\n",
    "background_info, clinical_data = get_background_and_clinical_data(matrix_file, background_prefixes, clinical_prefixes)\n",
    "\n",
    "# 3. Obtain the sample characteristics dictionary from the clinical dataframe\n",
    "sample_characteristics_dict = get_unique_values_by_row(clinical_data)\n",
    "\n",
    "# 4. Explicitly print out all the background information and the sample characteristics dictionary\n",
    "print(\"Background Information:\")\n",
    "print(background_info)\n",
    "print(\"Sample Characteristics Dictionary:\")\n",
    "print(sample_characteristics_dict)\n"
   ]
  },
  {
   "cell_type": "markdown",
   "id": "58c3a53f",
   "metadata": {},
   "source": [
    "### Step 2: Dataset Analysis and Clinical Feature Extraction"
   ]
  },
  {
   "cell_type": "code",
   "execution_count": 3,
   "id": "dae0b166",
   "metadata": {
    "execution": {
     "iopub.execute_input": "2024-06-12T11:03:58.852635Z",
     "iopub.status.busy": "2024-06-12T11:03:58.852528Z",
     "iopub.status.idle": "2024-06-12T11:03:58.864426Z",
     "shell.execute_reply": "2024-06-12T11:03:58.864129Z"
    }
   },
   "outputs": [
    {
     "name": "stdout",
     "output_type": "stream",
     "text": [
      "{'GSM2810770': [1], 'GSM2810771': [1], 'GSM2810772': [1], 'GSM2810773': [1], 'GSM2810774': [1], 'GSM2810775': [1], 'GSM2810776': [1], 'GSM2810777': [0], 'GSM2810778': [0], 'GSM2810779': [0], 'GSM2810780': [0], 'GSM2810781': [0], 'GSM2810782': [0], 'GSM2810783': [1], 'GSM2810784': [1], 'GSM2810785': [1], 'GSM2810786': [1], 'GSM2810787': [1], 'GSM2810788': [1], 'GSM2810789': [1], 'GSM2810790': [1], 'GSM2810791': [1], 'GSM2810792': [1], 'GSM2810793': [None], 'GSM2810794': [None], 'GSM2810795': [None], 'GSM2810796': [None], 'GSM2810797': [None], 'GSM2810798': [None], 'GSM2810799': [None], 'GSM2810800': [None], 'GSM2810801': [None], 'GSM2810802': [None], 'GSM2810803': [None], 'GSM2810804': [None], 'GSM2810805': [None], 'GSM2810806': [None], 'GSM2810807': [None], 'GSM2810808': [None], 'GSM2810809': [None], 'GSM2810810': [None], 'GSM2810811': [1], 'GSM2810812': [1], 'GSM2810813': [1], 'GSM2810814': [1], 'GSM2810815': [1], 'GSM2810816': [0], 'GSM2810817': [0], 'GSM2810818': [0], 'GSM2810819': [0], 'GSM2810820': [0], 'GSM2810821': [0], 'GSM2810822': [0], 'GSM2810823': [0], 'GSM2810824': [0], 'GSM2810825': [0], 'GSM2810826': [0], 'GSM2810827': [0], 'GSM2810828': [0], 'GSM2810829': [0], 'GSM2810830': [0], 'GSM2810831': [0], 'GSM2810832': [0], 'GSM2810833': [0], 'GSM2810834': [0], 'GSM2810835': [0], 'GSM2810836': [0], 'GSM2810837': [0], 'GSM2810838': [1], 'GSM2810839': [1], 'GSM2810840': [1]}\n"
     ]
    }
   ],
   "source": [
    "is_gene_available = False\n",
    "trait_row = age_row = gender_row = None  # set to different values when applicable\n",
    "convert_trait = convert_age = convert_gender = None  # define the functions when applicable\n",
    "\n",
    "from numpy import nan\n",
    "\n",
    "is_gene_available = True  # Based on the background, it appears to be gene expression data.\n",
    "\n",
    "# Identify variable keys\n",
    "for key, values in {\n",
    "    0: ['tissue: Glomeruli from kidney biopsy'],\n",
    "    1: ['diagnosis: Diabetic Nephropathy', 'diagnosis: Minimal Change Disease', 'diagnosis: Thin Membrande Disease', 'diagnosis: Hypertensive Nephropathy', 'diagnosis: Tumor Nephrectomy', 'diagnosis: IgA Nephropathy', 'diagnosis: Focal Segmental Glomerular Sclerosis', nan, 'diagnosis: Membranous Glomerulonephropathy', 'diagnosis: Systemic Lupus Erythematosus']\n",
    "}.items():\n",
    "    if any(isinstance(v, str) and 'diagnosis:' in v for v in values):\n",
    "        trait_row = key\n",
    "    if any(isinstance(v, str) and 'age:' in v for v in values):\n",
    "        age_row = key\n",
    "    if any(isinstance(v, str) and 'gender:' in v for v in values):\n",
    "        gender_row = key\n",
    "\n",
    "def convert_trait(value):\n",
    "    if value is None or pd.isna(value):\n",
    "        return None\n",
    "    val = value.split(':')[1].strip().lower()\n",
    "    if val in ['diabetic nephropathy', 'minimal change disease', 'thin membrane disease', 'hypertensive nephropathy', 'tumor nephrectomy', 'iga nephropathy', 'focal segmental glomerular sclerosis', 'membranous glomerulonephropathy', 'systemic lupus erythematosus']:\n",
    "        return 1  # Presence of chronic kidney disease\n",
    "    return 0  # Unknown or not chronic kidney disease\n",
    "\n",
    "def convert_age(value):\n",
    "    if value is None or pd.isna(value):\n",
    "        return None\n",
    "    try:\n",
    "        return float(value.split(':')[1].strip())\n",
    "    except (IndexError, ValueError):\n",
    "        return None\n",
    "\n",
    "def convert_gender(value):\n",
    "    if value is None or pd.isna(value):\n",
    "        return None\n",
    "    val = value.split(':')[1].strip().lower()\n",
    "    return 1 if val == 'male' else 0 if val == 'female' else None\n",
    "\n",
    "save_cohort_info('GSE104948', './preprocessed/Chronic_kidney_disease/cohort_info.json', is_gene_available, trait_row is not None)\n",
    "\n",
    "if trait_row is not None:\n",
    "    selected_clinical_data = geo_select_clinical_features(clinical_data, 'Chronic_kidney_disease', trait_row, convert_trait, age_row, convert_age, gender_row, convert_gender)\n",
    "    csv_path = './preprocessed/Chronic_kidney_disease/trait_data/GSE104948.csv'\n",
    "    selected_clinical_data.to_csv(csv_path)\n",
    "    print(preview_df(selected_clinical_data))\n"
   ]
  },
  {
   "cell_type": "markdown",
   "id": "32c30a7d",
   "metadata": {},
   "source": [
    "### Step 3: Gene Data Extraction"
   ]
  },
  {
   "cell_type": "code",
   "execution_count": 4,
   "id": "3fe4b473",
   "metadata": {
    "execution": {
     "iopub.execute_input": "2024-06-12T11:03:58.866042Z",
     "iopub.status.busy": "2024-06-12T11:03:58.865939Z",
     "iopub.status.idle": "2024-06-12T11:03:58.976673Z",
     "shell.execute_reply": "2024-06-12T11:03:58.976293Z"
    }
   },
   "outputs": [
    {
     "name": "stdout",
     "output_type": "stream",
     "text": [
      "Index(['10000_at', '10001_at', '10002_at', '10003_at', '100048912_at',\n",
      "       '10004_at', '10005_at', '10006_at', '10007_at', '100093698_at',\n",
      "       '10009_at', '1000_at', '10010_at', '100126791_at', '100128124_at',\n",
      "       '100128640_at', '100129128_at', '100129250_at', '100129271_at',\n",
      "       '100129361_at'],\n",
      "      dtype='object', name='ID')\n"
     ]
    }
   ],
   "source": [
    "# 1. Use the get_genetic_data function from the library to get the gene_data from the matrix_file previously defined.\n",
    "gene_data = get_genetic_data(matrix_file)\n",
    "\n",
    "# 2. Print the first 20 row ids for the following step.\n",
    "print(gene_data.index[:20])\n"
   ]
  },
  {
   "cell_type": "markdown",
   "id": "eec8bbae",
   "metadata": {},
   "source": [
    "### Step 4: Gene Identifier Review"
   ]
  },
  {
   "cell_type": "code",
   "execution_count": 5,
   "id": "8f6d2d34",
   "metadata": {
    "execution": {
     "iopub.execute_input": "2024-06-12T11:03:58.978539Z",
     "iopub.status.busy": "2024-06-12T11:03:58.978431Z",
     "iopub.status.idle": "2024-06-12T11:03:58.980383Z",
     "shell.execute_reply": "2024-06-12T11:03:58.980103Z"
    }
   },
   "outputs": [],
   "source": [
    "requires_gene_mapping = True\n"
   ]
  },
  {
   "cell_type": "markdown",
   "id": "435c25a5",
   "metadata": {},
   "source": [
    "### Step 5: Gene Annotation (Conditional)"
   ]
  },
  {
   "cell_type": "code",
   "execution_count": 6,
   "id": "32384308",
   "metadata": {
    "execution": {
     "iopub.execute_input": "2024-06-12T11:03:58.982069Z",
     "iopub.status.busy": "2024-06-12T11:03:58.981943Z",
     "iopub.status.idle": "2024-06-12T11:04:01.897806Z",
     "shell.execute_reply": "2024-06-12T11:04:01.897303Z"
    }
   },
   "outputs": [
    {
     "name": "stdout",
     "output_type": "stream",
     "text": [
      "Gene annotation preview:\n",
      "{'ID': ['1000_at', '10000_at', '100009676_at', '10001_at', '10004_at'], 'Symbol': ['CDH2', 'AKT3', 'ZBTB11-AS1', 'MED6', 'NAALADL1'], 'SPOT_ID': ['cadherin 2', 'AKT serine/threonine kinase 3', 'ZBTB11 antisense RNA 1', 'mediator complex subunit 6', 'N-acetylated alpha-linked acidic dipeptidase-like 1'], 'ENTREZ_GENE_ID': ['1000', '10000', '100009676', '10001', '10004']}\n"
     ]
    }
   ],
   "source": [
    "# 1. Use the 'get_gene_annotation' function from the library to get gene annotation data from the soft file.\n",
    "gene_annotation = get_gene_annotation(soft_file)\n",
    "\n",
    "# 2. Use the 'preview_df' function from the library to preview the data and print out the results.\n",
    "print(\"Gene annotation preview:\")\n",
    "print(preview_df(gene_annotation))\n"
   ]
  },
  {
   "cell_type": "markdown",
   "id": "f656f2b0",
   "metadata": {},
   "source": [
    "### Step 6: Gene Identifier Mapping"
   ]
  },
  {
   "cell_type": "code",
   "execution_count": 7,
   "id": "81db0d49",
   "metadata": {
    "execution": {
     "iopub.execute_input": "2024-06-12T11:04:01.899451Z",
     "iopub.status.busy": "2024-06-12T11:04:01.899347Z",
     "iopub.status.idle": "2024-06-12T11:04:15.191051Z",
     "shell.execute_reply": "2024-06-12T11:04:15.190405Z"
    }
   },
   "outputs": [],
   "source": [
    "# 1. Identify keys for identifiers and gene symbols\n",
    "identifier_key = 'ID'\n",
    "gene_symbol_key = 'Symbol'\n",
    "\n",
    "# 2. Get the dataframe storing the mapping between probe IDs and genes\n",
    "gene_mapping = get_gene_mapping(gene_annotation, identifier_key, gene_symbol_key)\n",
    "\n",
    "# 3. Apply the mapping with the 'apply_gene_mapping' function from the library\n",
    "gene_data = apply_gene_mapping(gene_data, gene_mapping)\n"
   ]
  }
 ],
 "metadata": {
  "language_info": {
   "codemirror_mode": {
    "name": "ipython",
    "version": 3
   },
   "file_extension": ".py",
   "mimetype": "text/x-python",
   "name": "python",
   "nbconvert_exporter": "python",
   "pygments_lexer": "ipython3",
   "version": "3.8.17"
  }
 },
 "nbformat": 4,
 "nbformat_minor": 5
}
