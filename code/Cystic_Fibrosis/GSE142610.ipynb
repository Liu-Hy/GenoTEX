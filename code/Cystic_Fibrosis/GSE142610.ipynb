{
 "cells": [
  {
   "cell_type": "code",
   "execution_count": 1,
   "id": "8f82bcae",
   "metadata": {
    "execution": {
     "iopub.execute_input": "2024-06-12T09:50:07.471059Z",
     "iopub.status.busy": "2024-06-12T09:50:07.470899Z",
     "iopub.status.idle": "2024-06-12T09:50:07.476273Z",
     "shell.execute_reply": "2024-06-12T09:50:07.475876Z"
    }
   },
   "outputs": [],
   "source": [
    "\n",
    "import sys\n",
    "sys.path.append('/home/techt/Desktop/a4s')\n"
   ]
  },
  {
   "cell_type": "markdown",
   "id": "abbd2801",
   "metadata": {},
   "source": [
    "### Step 1: Initial Data Loading"
   ]
  },
  {
   "cell_type": "code",
   "execution_count": 2,
   "id": "df54096d",
   "metadata": {
    "execution": {
     "iopub.execute_input": "2024-06-12T09:50:07.478363Z",
     "iopub.status.busy": "2024-06-12T09:50:07.478063Z",
     "iopub.status.idle": "2024-06-12T09:50:07.801867Z",
     "shell.execute_reply": "2024-06-12T09:50:07.801502Z"
    }
   },
   "outputs": [
    {
     "name": "stdout",
     "output_type": "stream",
     "text": [
      "Background Information:\n",
      "!Series_title\t\"Integrative genomic meta-analysis reveals novel molecular insights into cystic fibrosis and ΔF508-CFTR rescue\"\n",
      "!Series_summary\t\"Cystic fibrosis (CF), caused by mutations to CFTR, leads to severe and progressive lung disease. The most common mutant, ΔF508-CFTR, undergoes proteasomal degradation, depleting its anion channel function.  “Proteostasis” pathways, i.e. those relevant to protein processing and trafficking, are altered in cells with ΔF508-CFTR and can be modulated to partially rescue protein function. However, many details regarding proteostasis modulation, and its relevance to CF and ΔF508-CFTR rescue, remain poorly understood. To shed light on this, we re-analyzed public datasets characterizing transcription in CF vs. non-CF epithelia from human and pig airways, and also profiled established temperature, genetic, and chemical interventions that rescue ΔF508-CFTR. Meta-analysis yielded a core disease signature and two core rescue signatures. To interpret these, we compiled proteostasis pathways and an original “CFTR Gene Set Library”. The disease signature revealed differential regulation of mTORC1 signaling, endocytosis, and proteasomal degradation. Overlaying functional genomics data identified candidate mediators of low-temperature rescue, while multiple rescue strategies converged on activation of unfolded protein response pathways. Remarkably, however, C18, an analog of the CFTR corrector compound Lumacaftor, induced minimal transcriptional perturbation despite its rescue activity. This work elucidates the involvement of proteostasis in both disease and rescue perturbations while highlighting that not all CFTR rescue interventions act on transcription.\"\n",
      "!Series_overall_design\t\"Polarized air-liquid interface cultures of CFBE cells were treated to either knockdown of SIN3A, SYVN1 or NEED8, overexpression of miR-138, treated with corrector compound 18 (C18), or cultured at temperatures associated with improving ΔF508-CFTR trafficking.\"\n",
      "Sample Characteristics Dictionary:\n",
      "{0: ['tag: Cell line: CFBE'], 1: ['treatment: DMSO for 24h', 'temperature: 40°C incubation for 24h followed by 27°C incubation for 24h', 'treatment: NEDD8 DsiRNA + 6µM Corrector Compound C18 treatment for 24h', 'treatment: Scrambled DsiRNA', 'temperature: 27°C incubation for 24h', 'treatment: SIN3A DsiRNA', 'temperature: 37°C incubation for 24h', 'treatment: SYVN1 DsiRNA', 'treatment: 6µM Corrector Compound C18 treatment for 24h', 'treatment: No treatment', 'treatment: miR-138 mimic', 'treatment: SYVN1 DsiRNA + 6µM Corrector Compound C18 treatment for 24h', 'temperature: 40°C incubation for 24h', 'treatment: NEDD8 DsiRNA']}\n"
     ]
    }
   ],
   "source": [
    "from utils.preprocess import *\n",
    "# 1. Identify the paths to the soft file and the matrix file\n",
    "cohort_dir = '/media/techt/DATA/GEO/Cystic_Fibrosis/GSE142610'\n",
    "soft_file, matrix_file = geo_get_relevant_filepaths(cohort_dir)\n",
    "\n",
    "# 2. Read the matrix file to obtain background information and sample characteristics data\n",
    "background_prefixes = ['!Series_title', '!Series_summary', '!Series_overall_design']\n",
    "clinical_prefixes = ['!Sample_geo_accession', '!Sample_characteristics_ch1']\n",
    "background_info, clinical_data = get_background_and_clinical_data(matrix_file, background_prefixes, clinical_prefixes)\n",
    "\n",
    "# 3. Obtain the sample characteristics dictionary from the clinical dataframe\n",
    "sample_characteristics_dict = get_unique_values_by_row(clinical_data)\n",
    "\n",
    "# 4. Explicitly print out all the background information and the sample characteristics dictionary\n",
    "print(\"Background Information:\")\n",
    "print(background_info)\n",
    "print(\"Sample Characteristics Dictionary:\")\n",
    "print(sample_characteristics_dict)\n"
   ]
  },
  {
   "cell_type": "markdown",
   "id": "efc315f3",
   "metadata": {},
   "source": [
    "### Step 2: Dataset Analysis and Clinical Feature Extraction"
   ]
  },
  {
   "cell_type": "code",
   "execution_count": 3,
   "id": "012f2543",
   "metadata": {
    "execution": {
     "iopub.execute_input": "2024-06-12T09:50:07.803609Z",
     "iopub.status.busy": "2024-06-12T09:50:07.803502Z",
     "iopub.status.idle": "2024-06-12T09:50:07.806852Z",
     "shell.execute_reply": "2024-06-12T09:50:07.806581Z"
    }
   },
   "outputs": [],
   "source": [
    "is_gene_available = False\n",
    "trait_row = age_row = gender_row = None  # set to different values when applicable\n",
    "convert_trait = convert_age = convert_gender = None  # define the functions when applicable\n",
    "\n",
    "# Check if gene expression data is available\n",
    "is_gene_available = True  # Based on the context provided, it is likely the dataset contains gene expression data.\n",
    "\n",
    "# Examine the sample characteristics for the required data\n",
    "sample_characteristics = { \n",
    "    0: ['tag: Cell line: CFBE'], \n",
    "    1: ['treatment: DMSO for 24h', 'temperature: 40°C incubation for 24h followed by 27°C incubation for 24h', \n",
    "        'treatment: NEDD8 DsiRNA + 6µM Corrector Compound C18 treatment for 24h', 'treatment: Scrambled DsiRNA', \n",
    "        'temperature: 27°C incubation for 24h', 'treatment: SIN3A DsiRNA', 'temperature: 37°C incubation for 24h', \n",
    "        'treatment: SYVN1 DsiRNA', 'treatment: 6µM Corrector Compound C18 treatment for 24h', 'treatment: No treatment', \n",
    "        'treatment: miR-138 mimic', 'treatment: SYVN1 DsiRNA + 6µM Corrector Compound C18 treatment for 24h', \n",
    "        'temperature: 40°C incubation for 24h', 'treatment: NEDD8 DsiRNA']\n",
    "}\n",
    "\n",
    "# No explicit mention of 'Cystic_Fibrosis', 'age', or 'gender' in the sample characteristics\n",
    "# Hence, infer the absence of these variables for the current dataset\n",
    "\n",
    "# Define conversion functions\n",
    "def convert_trait(value):\n",
    "    return None  # No trait data available\n",
    "\n",
    "def convert_age(value):\n",
    "    return None  # No age data available\n",
    "\n",
    "def convert_gender(value):\n",
    "    return None  # No gender data available\n",
    "\n",
    "# Save cohort information\n",
    "save_cohort_info('GSE142610', './preprocessed/Cystic_Fibrosis/cohort_info.json', is_gene_available, trait_row is not None)\n"
   ]
  }
 ],
 "metadata": {
  "language_info": {
   "codemirror_mode": {
    "name": "ipython",
    "version": 3
   },
   "file_extension": ".py",
   "mimetype": "text/x-python",
   "name": "python",
   "nbconvert_exporter": "python",
   "pygments_lexer": "ipython3",
   "version": "3.8.17"
  }
 },
 "nbformat": 4,
 "nbformat_minor": 5
}
