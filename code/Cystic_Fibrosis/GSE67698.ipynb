{
 "cells": [
  {
   "cell_type": "code",
   "execution_count": 1,
   "id": "7c4add16",
   "metadata": {
    "execution": {
     "iopub.execute_input": "2024-06-12T09:50:09.705822Z",
     "iopub.status.busy": "2024-06-12T09:50:09.705728Z",
     "iopub.status.idle": "2024-06-12T09:50:09.709507Z",
     "shell.execute_reply": "2024-06-12T09:50:09.709241Z"
    }
   },
   "outputs": [],
   "source": [
    "\n",
    "import sys\n",
    "sys.path.append('/home/techt/Desktop/a4s')\n"
   ]
  },
  {
   "cell_type": "markdown",
   "id": "b96019dd",
   "metadata": {},
   "source": [
    "### Step 1: Initial Data Loading"
   ]
  },
  {
   "cell_type": "code",
   "execution_count": 2,
   "id": "7e678f2e",
   "metadata": {
    "execution": {
     "iopub.execute_input": "2024-06-12T09:50:09.711420Z",
     "iopub.status.busy": "2024-06-12T09:50:09.711327Z",
     "iopub.status.idle": "2024-06-12T09:50:10.079195Z",
     "shell.execute_reply": "2024-06-12T09:50:10.078831Z"
    }
   },
   "outputs": [
    {
     "name": "stdout",
     "output_type": "stream",
     "text": [
      "Background Information:\n",
      "!Series_title\t\"Transcriptional profiling of CFBE41o-ΔF508 cells and CFBE41o−CFTR cells.\"\n",
      "!Series_summary\t\"Cystic fibrosis bronchial epithelial (CFBE41o-ΔF508) cells subjected to 23 bio-active small molecules including vehicle controls, at low temperature and untreated cells. Untreated Cystic fibrosis bronchial epithelial cells (CFBE41o−CFTR) are also included.\"\n",
      "!Series_overall_design\t\"Two-colors Dye-swap, two or three biological replicates with two technical replicates each and DMSO (vehicle control) were included in each hybridization batch.\"\n",
      "Sample Characteristics Dictionary:\n",
      "{0: ['cell line: polarized CFBE41o-cell line'], 1: ['transduction: TranzVector lentivectors containing deltaF508 CFTR (CFBE41o-deltaF508CFTR)', 'transduction: TranzVector lentivectors containing wildtype CFTR (CFBE41o-CFTR)']}\n"
     ]
    }
   ],
   "source": [
    "from utils.preprocess import *\n",
    "# 1. Identify the paths to the soft file and the matrix file\n",
    "cohort_dir = '/media/techt/DATA/GEO/Cystic_Fibrosis/GSE67698'\n",
    "soft_file, matrix_file = geo_get_relevant_filepaths(cohort_dir)\n",
    "\n",
    "# 2. Read the matrix file to obtain background information and sample characteristics data\n",
    "background_prefixes = ['!Series_title', '!Series_summary', '!Series_overall_design']\n",
    "clinical_prefixes = ['!Sample_geo_accession', '!Sample_characteristics_ch1']\n",
    "background_info, clinical_data = get_background_and_clinical_data(matrix_file, background_prefixes, clinical_prefixes)\n",
    "\n",
    "# 3. Obtain the sample characteristics dictionary from the clinical dataframe\n",
    "sample_characteristics_dict = get_unique_values_by_row(clinical_data)\n",
    "\n",
    "# 4. Explicitly print out all the background information and the sample characteristics dictionary\n",
    "print(\"Background Information:\")\n",
    "print(background_info)\n",
    "print(\"Sample Characteristics Dictionary:\")\n",
    "print(sample_characteristics_dict)\n"
   ]
  },
  {
   "cell_type": "markdown",
   "id": "613149e2",
   "metadata": {},
   "source": [
    "### Step 2: Dataset Analysis and Clinical Feature Extraction"
   ]
  },
  {
   "cell_type": "code",
   "execution_count": 3,
   "id": "fae1c79c",
   "metadata": {
    "execution": {
     "iopub.execute_input": "2024-06-12T09:50:10.081103Z",
     "iopub.status.busy": "2024-06-12T09:50:10.080981Z",
     "iopub.status.idle": "2024-06-12T09:50:10.084268Z",
     "shell.execute_reply": "2024-06-12T09:50:10.083989Z"
    }
   },
   "outputs": [],
   "source": [
    "is_gene_available = False\n",
    "trait_row = age_row = gender_row = None  # set to different values when applicable\n",
    "convert_trait = convert_age = convert_gender = None  # define the functions when applicable\n",
    "\n",
    "# Determine Gene Expression Data Availability\n",
    "# More rigorous check to determine gene expression data availability based on sample characteristics content\n",
    "sample_characteristics = {0: ['cell line: polarized CFBE41o-cell line'], \n",
    "                          1: ['transduction: TranzVector lentivectors containing deltaF508 CFTR (CFBE41o-deltaF508CFTR)', \n",
    "                              'transduction: TranzVector lentivectors containing wildtype CFTR (CFBE41o-CFTR)']}\n",
    "if any('CFBE41o' in characteristic for characteristics in sample_characteristics.values() for characteristic in characteristics):\n",
    "    is_gene_available = True\n",
    "\n",
    "# Data Availability\n",
    "# Since the study is on cell lines, no human data for Cystic Fibrosis, age, or gender.\n",
    "\n",
    "def dummy_conversion(value):\n",
    "    return None\n",
    "\n",
    "convert_trait = dummy_conversion\n",
    "convert_age = dummy_conversion\n",
    "convert_gender = dummy_conversion\n",
    "\n",
    "save_cohort_info('GSE67698', './preprocessed/Cystic_Fibrosis/cohort_info.json', is_gene_available, trait_row is not None)\n"
   ]
  }
 ],
 "metadata": {
  "language_info": {
   "codemirror_mode": {
    "name": "ipython",
    "version": 3
   },
   "file_extension": ".py",
   "mimetype": "text/x-python",
   "name": "python",
   "nbconvert_exporter": "python",
   "pygments_lexer": "ipython3",
   "version": "3.8.17"
  }
 },
 "nbformat": 4,
 "nbformat_minor": 5
}
