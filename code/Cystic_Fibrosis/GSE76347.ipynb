{
 "cells": [
  {
   "cell_type": "code",
   "execution_count": 1,
   "id": "0d90563a",
   "metadata": {
    "execution": {
     "iopub.execute_input": "2024-06-12T09:55:16.497061Z",
     "iopub.status.busy": "2024-06-12T09:55:16.496668Z",
     "iopub.status.idle": "2024-06-12T09:55:16.503551Z",
     "shell.execute_reply": "2024-06-12T09:55:16.503106Z"
    }
   },
   "outputs": [],
   "source": [
    "\n",
    "import sys\n",
    "sys.path.append('/home/techt/Desktop/a4s')\n"
   ]
  },
  {
   "cell_type": "markdown",
   "id": "c0915470",
   "metadata": {},
   "source": [
    "### Step 1: Initial Data Loading"
   ]
  },
  {
   "cell_type": "code",
   "execution_count": 2,
   "id": "902bcf19",
   "metadata": {
    "execution": {
     "iopub.execute_input": "2024-06-12T09:55:16.505464Z",
     "iopub.status.busy": "2024-06-12T09:55:16.504960Z",
     "iopub.status.idle": "2024-06-12T09:55:17.051123Z",
     "shell.execute_reply": "2024-06-12T09:55:17.050610Z"
    }
   },
   "outputs": [
    {
     "name": "stdout",
     "output_type": "stream",
     "text": [
      "Background Information:\n",
      "!Series_title\t\"Phase 2 Study of Digitoxin for the Treatment of Airway Inflammation in Cystic Fibrosis\"\n",
      "!Series_summary\t\"Cystic Fibrosis lung disease progresses by a combination of accelerated airways inflammation and bacterial colonization and infection. Airways inflammation in CF is predominantly neutrophilic and complicates airway clearance therapies through cellular debris, excessive DNA, excessive and viscous mucous, and high concentrations of neutrophils,Il-8 and related cytokines liberated along the NFkB signaling pathway. We conducted a single site, randomized, double blind, placebo-controlled, proof-of-concept trial in which we evaluated the effects of 28 days of two dose levels (0.05 mg and 0.10 mg daily) of an older cardiac glycoside, digitoxin, as compared with placebo, on inflammatory markers in induced sputum obtained from 24 subjects with mild to moderate CF lung disease. Nasal epithelial cells from 23 subjects were analyzed for microarray analysis. CF patients 18 to 45 years old, any genotype combination, were eligible.\"\n",
      "!Series_summary\t\"The primary objective was to measure the effects of digitoxin on IL-8 and neutrophil counts in induced sputum. Secondary objectives were to measure: 1) the pharmacokinetics of digitoxin in serum in stable CF patients, 2) safety indices, including ECG changes and sputum microbiology, in stable CF patients, 3) the effect of digitoxin on gene expression in nasal epithelial cells of stable CF patients and 4) quality of life scores using the CFQ-R©.  As expected, it took several weeks to achieve a detectable serum level of digitoxin in CF.  Digitoxin showed a trend towards reduction in sputum free neutrophil elastase and neutrophil counts, but was not associated with a reduction in sputum Il-8.  Digitoxin did not dampen sputum inflammation as measured by primary and secondary outcome measures over the 28 day study period.  However the patient groups receiving placebo and 50 micro gram digitoxin daily fell into similar patterns which were distinctly different from the patient group taking 100 micro gram digitoxin.  The mRNAs encoding chemokine/cytokine or cell surface receptors in immune cells were decreased in nasal epithelial cells at the higher dose, leading to pathway mediated reductions in Il-8, Il-6, lung epithelial inflammation, neutrophil recruitment and mucus hypersecretion.  It is possible that a longer treatment period would be necessary to detect a meaningful, dose- dependent change in sputum indices of inflammation in CF.  Importantly, there were no safety issues over the course of the study\"\n",
      "!Series_overall_design\t\"46 total samples (pre- and post treatment of each 8 subjects for 50 micro gram, 100 micro gram digitoxin and 7 subjects for placebo) were analyzed using two way ANOVA model.\"\n",
      "Sample Characteristics Dictionary:\n",
      "{0: ['disease state: CF'], 1: ['individual: patient # 001', 'individual: patient # 002', 'individual: patient # 004', 'individual: patient # 006', 'individual: patient # 009', 'individual: patient # 013', 'individual: patient # 015', 'individual: patient # 017', 'individual: patient # 019', 'individual: patient # 020', 'individual: patient # 021', 'individual: patient # 024', 'individual: patient # 025', 'individual: patient # 028', 'individual: patient # 030', 'individual: patient # 031', 'individual: patient # 003', 'individual: patient # 005', 'individual: patient # 010', 'individual: patient # 014', 'individual: patient # 018', 'individual: patient # 022', 'individual: patient # 027'], 2: ['treatment: digitoxin', 'treatment: placebo'], 3: ['dosage: 50 micro gram/daily', 'dosage: 100 micro gram/daily'], 4: ['time: post treatment', 'time: pre treatment'], 5: ['cell type: nasal epithelial cells']}\n"
     ]
    }
   ],
   "source": [
    "from utils.preprocess import *\n",
    "# 1. Identify the paths to the soft file and the matrix file\n",
    "cohort_dir = '/media/techt/DATA/GEO/Cystic_Fibrosis/GSE76347'\n",
    "soft_file, matrix_file = geo_get_relevant_filepaths(cohort_dir)\n",
    "\n",
    "# 2. Read the matrix file to obtain background information and sample characteristics data\n",
    "background_prefixes = ['!Series_title', '!Series_summary', '!Series_overall_design']\n",
    "clinical_prefixes = ['!Sample_geo_accession', '!Sample_characteristics_ch1']\n",
    "background_info, clinical_data = get_background_and_clinical_data(matrix_file, background_prefixes, clinical_prefixes)\n",
    "\n",
    "# 3. Obtain the sample characteristics dictionary from the clinical dataframe\n",
    "sample_characteristics_dict = get_unique_values_by_row(clinical_data)\n",
    "\n",
    "# 4. Explicitly print out all the background information and the sample characteristics dictionary\n",
    "print(\"Background Information:\")\n",
    "print(background_info)\n",
    "print(\"Sample Characteristics Dictionary:\")\n",
    "print(sample_characteristics_dict)\n"
   ]
  },
  {
   "cell_type": "markdown",
   "id": "cc53d265",
   "metadata": {},
   "source": [
    "### Step 2: Dataset Analysis and Clinical Feature Extraction"
   ]
  },
  {
   "cell_type": "code",
   "execution_count": 3,
   "id": "d481e055",
   "metadata": {
    "execution": {
     "iopub.execute_input": "2024-06-12T09:55:17.052807Z",
     "iopub.status.busy": "2024-06-12T09:55:17.052690Z",
     "iopub.status.idle": "2024-06-12T09:55:17.058038Z",
     "shell.execute_reply": "2024-06-12T09:55:17.057634Z"
    }
   },
   "outputs": [
    {
     "name": "stdout",
     "output_type": "stream",
     "text": [
      "Variables 'Cystic_Fibrosis', 'age', and 'gender' are not available in this dataset.\n"
     ]
    }
   ],
   "source": [
    "is_gene_available = False\n",
    "trait_row = age_row = gender_row = None  # set to different values when applicable\n",
    "convert_trait = convert_age = convert_gender = None  # define the functions when applicable\n",
    "\n",
    "import os\n",
    "\n",
    "sample_dict = {\n",
    "    0: ['disease state: CF'],\n",
    "    1: ['individual: patient # 001', 'individual: patient # 002', 'individual: patient # 004', 'individual: patient # 006', 'individual: patient # 009', 'individual: patient # 013', 'individual: patient # 015', 'individual: patient # 017', 'individual: patient # 019', 'individual: patient # 020', 'individual: patient # 021', 'individual: patient # 024', 'individual: patient # 025', 'individual: patient # 028', 'individual: patient # 030', 'individual: patient # 031', 'individual: patient # 003', 'individual: patient # 005', 'individual: patient # 010', 'individual: patient # 014', 'individual: patient # 018', 'individual: patient # 022', 'individual: patient # 027'],\n",
    "    2: ['treatment: digitoxin', 'treatment: placebo'],\n",
    "    3: ['dosage: 50 micro gram/daily', 'dosage: 100 micro gram/daily'],\n",
    "    4: ['time: post treatment', 'time: pre treatment'],\n",
    "    5: ['cell type: nasal epithelial cells']\n",
    "}\n",
    "\n",
    "# 1. Gene Expression Data Availability\n",
    "is_gene_available = True  # Based on series information mentioning gene expression analysis\n",
    "\n",
    "# 2. Variable Availability and Data Type Conversion\n",
    "# Given sample characteristics don't contain information on 'Cystic_Fibrosis', 'age', or 'gender'\n",
    "\n",
    "trait_row = None  # Data about 'Cystic_Fibrosis' is not explicitly present\n",
    "age_row = None  # Data about 'age' is not present\n",
    "gender_row = None  # Data about 'gender' is not present\n",
    "\n",
    "def convert_trait(value):\n",
    "    return None\n",
    "\n",
    "def convert_age(value):\n",
    "    return None\n",
    "\n",
    "def convert_gender(value):\n",
    "    return None\n",
    "\n",
    "# Ensure the output directory exists\n",
    "output_dir = './preprocessed/Cystic_Fibrosis'\n",
    "if not os.path.exists(output_dir):\n",
    "    os.makedirs(output_dir)\n",
    "\n",
    "# 3. Save Metadata\n",
    "save_cohort_info('GSE76347', os.path.join(output_dir, 'cohort_info.json'), is_gene_available, trait_row is not None)\n",
    "\n",
    "# Print a log indicating variables are not available\n",
    "print(\"Variables 'Cystic_Fibrosis', 'age', and 'gender' are not available in this dataset.\")\n",
    "\n",
    "# Ensure the trait data directory exists for future steps\n",
    "trait_data_dir = './preprocessed/Cystic_Fibrosis/trait_data'\n",
    "if not os.path.exists(trait_data_dir):\n",
    "    os.makedirs(trait_data_dir)\n"
   ]
  }
 ],
 "metadata": {
  "language_info": {
   "codemirror_mode": {
    "name": "ipython",
    "version": 3
   },
   "file_extension": ".py",
   "mimetype": "text/x-python",
   "name": "python",
   "nbconvert_exporter": "python",
   "pygments_lexer": "ipython3",
   "version": "3.8.17"
  }
 },
 "nbformat": 4,
 "nbformat_minor": 5
}
