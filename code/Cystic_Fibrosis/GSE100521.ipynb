{
 "cells": [
  {
   "cell_type": "code",
   "execution_count": 1,
   "id": "4a5283c5",
   "metadata": {
    "execution": {
     "iopub.execute_input": "2024-06-12T09:51:41.419458Z",
     "iopub.status.busy": "2024-06-12T09:51:41.419296Z",
     "iopub.status.idle": "2024-06-12T09:51:41.426030Z",
     "shell.execute_reply": "2024-06-12T09:51:41.425511Z"
    }
   },
   "outputs": [],
   "source": [
    "\n",
    "import sys\n",
    "sys.path.append('/home/techt/Desktop/a4s')\n"
   ]
  },
  {
   "cell_type": "markdown",
   "id": "999daaad",
   "metadata": {},
   "source": [
    "### Step 1: Initial Data Loading"
   ]
  },
  {
   "cell_type": "code",
   "execution_count": 2,
   "id": "5e89e3db",
   "metadata": {
    "execution": {
     "iopub.execute_input": "2024-06-12T09:51:41.428709Z",
     "iopub.status.busy": "2024-06-12T09:51:41.428343Z",
     "iopub.status.idle": "2024-06-12T09:51:41.885266Z",
     "shell.execute_reply": "2024-06-12T09:51:41.884870Z"
    }
   },
   "outputs": [
    {
     "name": "stdout",
     "output_type": "stream",
     "text": [
      "Background Information:\n",
      "!Series_title\t\"Transcriptional and Functional Diversity of Macrophage Repolarization: Implications in Chronic Inflammation and Cystic Fibrosis\"\n",
      "!Series_summary\t\"Macrophage plasticity allows cells to adopt different phenotypes, a property with potentially important implications in chronic pulmonary disorders such as cystic fibrosis (CF). We examined the transcriptional and functional significance of macrophage repolarization from an “M1” (LPS-stimulated) towards an “M2” phenotype using 5 stimuli. We found that macrophages exhibit highly diverse responses to distinct M2-polarizing stimuli. Specifically, we observed that IL-10 abrogated LPS-tolerance allowing for rapid restoration of LPS responsiveness. In contrast, IL-4 enhanced LPS-tolerance, dampening pro-inflammatory responses after repeat LPS challenge. We found enrichment of phagocytosis-associated pathways in macrophages stimulated with IL-10, leading them to display the greatest efferocytosis ability. Finally, we observed that CF macrophages had intact reparative responses, suggesting that macrophage contributions to CF lung disease are shaped by their environmental milieu and are modifiable. These findings highlight the diversity of macrophage activation states, attribute functional consequences to these stimuli, and provide a unique resource of human macrophage repolarization markers.\"\n",
      "!Series_overall_design\t\"Non-polarized, M0 state monocyte-derived macrophages (MDMs) from n= 6 cystic fibrosis (CF) patients and n =6 non-CF subjects were initially polarized to M1 by exposure to LPS. M1 MDMs were then cultured in MDM media alone (no treatment) or supplemented with IL-4, IL-10, methylprednisolone, azithromycin, or apoptotic PMNs for 24 h to repolarize MDMs towards an M2 state. Total RNA from each condition was isolated and hybridized to Illumina HumanHT-12 v4 BeadChip (total number of samples = 72).\"\n",
      "Sample Characteristics Dictionary:\n",
      "{0: ['patient identification number: Non CF subject 1', 'patient identification number: Non CF subject 2', 'patient identification number: Non CF subject 3', 'patient identification number: Non CF subject 4', 'patient identification number: Non CF subject 5', 'patient identification number: Non CF subject 6', 'patient identification number: CF patient 1', 'patient identification number: CF patient 2', 'patient identification number: CF patient 3', 'patient identification number: CF patient 4', 'patient identification number: CF patient 5', 'patient identification number: CF patient 6'], 1: ['age: 28', 'age: 27', 'age: 26', 'age: 31', 'age: 21', 'age: 25', 'age: 29', 'age: 32'], 2: ['gender: Male', 'gender: Female']}\n"
     ]
    }
   ],
   "source": [
    "from utils.preprocess import *\n",
    "# 1. Identify the paths to the soft file and the matrix file\n",
    "cohort_dir = '/media/techt/DATA/GEO/Cystic_Fibrosis/GSE100521'\n",
    "soft_file, matrix_file = geo_get_relevant_filepaths(cohort_dir)\n",
    "\n",
    "# 2. Read the matrix file to obtain background information and sample characteristics data\n",
    "background_prefixes = ['!Series_title', '!Series_summary', '!Series_overall_design']\n",
    "clinical_prefixes = ['!Sample_geo_accession', '!Sample_characteristics_ch1']\n",
    "background_info, clinical_data = get_background_and_clinical_data(matrix_file, background_prefixes, clinical_prefixes)\n",
    "\n",
    "# 3. Obtain the sample characteristics dictionary from the clinical dataframe\n",
    "sample_characteristics_dict = get_unique_values_by_row(clinical_data)\n",
    "\n",
    "# 4. Explicitly print out all the background information and the sample characteristics dictionary\n",
    "print(\"Background Information:\")\n",
    "print(background_info)\n",
    "print(\"Sample Characteristics Dictionary:\")\n",
    "print(sample_characteristics_dict)\n"
   ]
  },
  {
   "cell_type": "markdown",
   "id": "81604273",
   "metadata": {},
   "source": [
    "### Step 2: Dataset Analysis and Clinical Feature Extraction"
   ]
  },
  {
   "cell_type": "code",
   "execution_count": 3,
   "id": "f201c488",
   "metadata": {
    "execution": {
     "iopub.execute_input": "2024-06-12T09:51:41.886930Z",
     "iopub.status.busy": "2024-06-12T09:51:41.886813Z",
     "iopub.status.idle": "2024-06-12T09:51:41.904877Z",
     "shell.execute_reply": "2024-06-12T09:51:41.904563Z"
    }
   },
   "outputs": [
    {
     "name": "stdout",
     "output_type": "stream",
     "text": [
      "{'GSM2685867': [0.0, 28.0, 1.0], 'GSM2685868': [0.0, 27.0, 1.0], 'GSM2685869': [0.0, 26.0, 0.0], 'GSM2685870': [0.0, 31.0, 0.0], 'GSM2685871': [0.0, 21.0, 1.0], 'GSM2685872': [0.0, 25.0, 1.0], 'GSM2685873': [0.0, 28.0, 1.0], 'GSM2685874': [0.0, 27.0, 1.0], 'GSM2685875': [0.0, 26.0, 0.0], 'GSM2685876': [0.0, 31.0, 0.0], 'GSM2685877': [0.0, 21.0, 1.0], 'GSM2685878': [0.0, 25.0, 1.0], 'GSM2685879': [0.0, 28.0, 1.0], 'GSM2685880': [0.0, 27.0, 1.0], 'GSM2685881': [0.0, 26.0, 0.0], 'GSM2685882': [0.0, 31.0, 0.0], 'GSM2685883': [0.0, 21.0, 1.0], 'GSM2685884': [0.0, 25.0, 1.0], 'GSM2685885': [0.0, 28.0, 1.0], 'GSM2685886': [0.0, 27.0, 1.0], 'GSM2685887': [0.0, 26.0, 0.0], 'GSM2685888': [0.0, 31.0, 0.0], 'GSM2685889': [0.0, 21.0, 1.0], 'GSM2685890': [0.0, 25.0, 1.0], 'GSM2685891': [0.0, 28.0, 1.0], 'GSM2685892': [0.0, 27.0, 1.0], 'GSM2685893': [0.0, 26.0, 0.0], 'GSM2685894': [0.0, 31.0, 0.0], 'GSM2685895': [0.0, 21.0, 1.0], 'GSM2685896': [0.0, 25.0, 1.0], 'GSM2685897': [0.0, 28.0, 1.0], 'GSM2685898': [0.0, 27.0, 1.0], 'GSM2685899': [0.0, 26.0, 0.0], 'GSM2685900': [0.0, 31.0, 0.0], 'GSM2685901': [0.0, 21.0, 1.0], 'GSM2685902': [0.0, 25.0, 1.0], 'GSM2685903': [1.0, 27.0, 1.0], 'GSM2685904': [1.0, 27.0, 1.0], 'GSM2685905': [1.0, 29.0, 0.0], 'GSM2685906': [1.0, 27.0, 0.0], 'GSM2685907': [1.0, 29.0, 1.0], 'GSM2685908': [1.0, 32.0, 1.0], 'GSM2685909': [1.0, 27.0, 1.0], 'GSM2685910': [1.0, 27.0, 1.0], 'GSM2685911': [1.0, 29.0, 0.0], 'GSM2685912': [1.0, 27.0, 0.0], 'GSM2685913': [1.0, 29.0, 1.0], 'GSM2685914': [1.0, 32.0, 1.0], 'GSM2685915': [1.0, 27.0, 1.0], 'GSM2685916': [1.0, 27.0, 1.0], 'GSM2685917': [1.0, 29.0, 0.0], 'GSM2685918': [1.0, 27.0, 0.0], 'GSM2685919': [1.0, 29.0, 1.0], 'GSM2685920': [1.0, 32.0, 1.0], 'GSM2685921': [1.0, 27.0, 1.0], 'GSM2685922': [1.0, 27.0, 1.0], 'GSM2685923': [1.0, 29.0, 0.0], 'GSM2685924': [1.0, 27.0, 0.0], 'GSM2685925': [1.0, 29.0, 1.0], 'GSM2685926': [1.0, 32.0, 1.0], 'GSM2685927': [1.0, 27.0, 1.0], 'GSM2685928': [1.0, 27.0, 1.0], 'GSM2685929': [1.0, 29.0, 0.0], 'GSM2685930': [1.0, 27.0, 0.0], 'GSM2685931': [1.0, 29.0, 1.0], 'GSM2685932': [1.0, 32.0, 1.0], 'GSM2685933': [1.0, 27.0, 1.0], 'GSM2685934': [1.0, 27.0, 1.0], 'GSM2685935': [1.0, 29.0, 0.0], 'GSM2685936': [1.0, 27.0, 0.0], 'GSM2685937': [1.0, 29.0, 1.0], 'GSM2685938': [1.0, 32.0, 1.0]}\n"
     ]
    }
   ],
   "source": [
    "is_gene_available = True\n",
    "trait_row = 0\n",
    "age_row = 1\n",
    "gender_row = 2\n",
    "\n",
    "def convert_trait(value):\n",
    "    if \"CF patient\" in value:\n",
    "        return 1\n",
    "    elif \"Non CF subject\" in value:\n",
    "        return 0\n",
    "    else:\n",
    "        return None\n",
    "\n",
    "def convert_age(value):\n",
    "    try:\n",
    "        return float(value.split(': ')[1])\n",
    "    except:\n",
    "        return None\n",
    "\n",
    "def convert_gender(value):\n",
    "    gender = value.split(': ')[1].strip().lower()\n",
    "    if gender == 'male':\n",
    "        return 1\n",
    "    elif gender == 'female':\n",
    "        return 0\n",
    "    else:\n",
    "        return None\n",
    "\n",
    "save_cohort_info('GSE100521', './preprocessed/Cystic_Fibrosis/cohort_info.json', is_gene_available, trait_row is not None) \n",
    "\n",
    "selected_clinical_data = geo_select_clinical_features(clinical_data, 'Cystic_Fibrosis', trait_row, convert_trait, age_row, convert_age, gender_row, convert_gender)\n",
    "csv_path = './preprocessed/Cystic_Fibrosis/trait_data/GSE100521.csv'\n",
    "selected_clinical_data.to_csv(csv_path)\n",
    "print(preview_df(selected_clinical_data))\n"
   ]
  },
  {
   "cell_type": "markdown",
   "id": "e9b854cf",
   "metadata": {},
   "source": [
    "### Step 3: Gene Data Extraction"
   ]
  },
  {
   "cell_type": "code",
   "execution_count": 4,
   "id": "b748425e",
   "metadata": {
    "execution": {
     "iopub.execute_input": "2024-06-12T09:51:41.906415Z",
     "iopub.status.busy": "2024-06-12T09:51:41.906309Z",
     "iopub.status.idle": "2024-06-12T09:51:42.324933Z",
     "shell.execute_reply": "2024-06-12T09:51:42.324541Z"
    }
   },
   "outputs": [
    {
     "name": "stdout",
     "output_type": "stream",
     "text": [
      "Index(['ILMN_1343291', 'ILMN_1343295', 'ILMN_1651199', 'ILMN_1651209',\n",
      "       'ILMN_1651210', 'ILMN_1651221', 'ILMN_1651228', 'ILMN_1651229',\n",
      "       'ILMN_1651230', 'ILMN_1651232', 'ILMN_1651235', 'ILMN_1651236',\n",
      "       'ILMN_1651237', 'ILMN_1651238', 'ILMN_1651249', 'ILMN_1651253',\n",
      "       'ILMN_1651254', 'ILMN_1651259', 'ILMN_1651260', 'ILMN_1651262'],\n",
      "      dtype='object', name='ID')\n"
     ]
    }
   ],
   "source": [
    "# 1. Use the get_genetic_data function from the library to get the gene_data from the matrix_file previously defined.\n",
    "gene_data = get_genetic_data(matrix_file)\n",
    "\n",
    "# 2. Print the first 20 row ids for the following step.\n",
    "print(gene_data.index[:20])\n"
   ]
  },
  {
   "cell_type": "markdown",
   "id": "ef218b06",
   "metadata": {},
   "source": [
    "### Step 4: Gene Identifier Review"
   ]
  },
  {
   "cell_type": "code",
   "execution_count": 5,
   "id": "634fb6b5",
   "metadata": {
    "execution": {
     "iopub.execute_input": "2024-06-12T09:51:42.326587Z",
     "iopub.status.busy": "2024-06-12T09:51:42.326467Z",
     "iopub.status.idle": "2024-06-12T09:51:42.328478Z",
     "shell.execute_reply": "2024-06-12T09:51:42.328186Z"
    }
   },
   "outputs": [],
   "source": [
    "requires_gene_mapping = True\n"
   ]
  },
  {
   "cell_type": "markdown",
   "id": "6e00c7c6",
   "metadata": {},
   "source": [
    "### Step 5: Gene Annotation (Conditional)"
   ]
  },
  {
   "cell_type": "code",
   "execution_count": 6,
   "id": "fdb592c3",
   "metadata": {
    "execution": {
     "iopub.execute_input": "2024-06-12T09:51:42.329958Z",
     "iopub.status.busy": "2024-06-12T09:51:42.329855Z",
     "iopub.status.idle": "2024-06-12T09:51:50.095244Z",
     "shell.execute_reply": "2024-06-12T09:51:50.094778Z"
    }
   },
   "outputs": [
    {
     "name": "stdout",
     "output_type": "stream",
     "text": [
      "Gene annotation preview:\n",
      "{'ID': ['ILMN_1343048', 'ILMN_1343049', 'ILMN_1343050', 'ILMN_1343052', 'ILMN_1343059'], 'Species': [nan, nan, nan, nan, nan], 'Source': [nan, nan, nan, nan, nan], 'Search_Key': [nan, nan, nan, nan, nan], 'Transcript': [nan, nan, nan, nan, nan], 'ILMN_Gene': [nan, nan, nan, nan, nan], 'Source_Reference_ID': [nan, nan, nan, nan, nan], 'RefSeq_ID': [nan, nan, nan, nan, nan], 'Unigene_ID': [nan, nan, nan, nan, nan], 'Entrez_Gene_ID': [nan, nan, nan, nan, nan], 'GI': [nan, nan, nan, nan, nan], 'Accession': [nan, nan, nan, nan, nan], 'Symbol': ['phage_lambda_genome', 'phage_lambda_genome', 'phage_lambda_genome:low', 'phage_lambda_genome:low', 'thrB'], 'Protein_Product': [nan, nan, nan, nan, 'thrB'], 'Probe_Id': [nan, nan, nan, nan, nan], 'Array_Address_Id': [5090180.0, 6510136.0, 7560739.0, 1450438.0, 1240647.0], 'Probe_Type': [nan, nan, nan, nan, nan], 'Probe_Start': [nan, nan, nan, nan, nan], 'SEQUENCE': ['GAATAAAGAACAATCTGCTGATGATCCCTCCGTGGATCTGATTCGTGTAA', 'CCATGTGATACGAGGGCGCGTAGTTTGCATTATCGTTTTTATCGTTTCAA', 'CCGACAGATGTATGTAAGGCCAACGTGCTCAAATCTTCATACAGAAAGAT', 'TCTGTCACTGTCAGGAAAGTGGTAAAACTGCAACTCAATTACTGCAATGC', 'CTTGTGCCTGAGCTGTCAAAAGTAGAGCACGTCGCCGAGATGAAGGGCGC'], 'Chromosome': [nan, nan, nan, nan, nan], 'Probe_Chr_Orientation': [nan, nan, nan, nan, nan], 'Probe_Coordinates': [nan, nan, nan, nan, nan], 'Cytoband': [nan, nan, nan, nan, nan], 'Definition': [nan, nan, nan, nan, nan], 'Ontology_Component': [nan, nan, nan, nan, nan], 'Ontology_Process': [nan, nan, nan, nan, nan], 'Ontology_Function': [nan, nan, nan, nan, nan], 'Synonyms': [nan, nan, nan, nan, nan], 'Obsolete_Probe_Id': [nan, nan, nan, nan, nan], 'GB_ACC': [nan, nan, nan, nan, nan]}\n"
     ]
    }
   ],
   "source": [
    "# 1. Use the 'get_gene_annotation' function from the library to get gene annotation data from the soft file.\n",
    "gene_annotation = get_gene_annotation(soft_file)\n",
    "\n",
    "# 2. Use the 'preview_df' function from the library to preview the data and print out the results.\n",
    "print(\"Gene annotation preview:\")\n",
    "print(preview_df(gene_annotation))\n"
   ]
  },
  {
   "cell_type": "markdown",
   "id": "e8f61fc3",
   "metadata": {},
   "source": [
    "### Step 6: Gene Identifier Mapping"
   ]
  },
  {
   "cell_type": "code",
   "execution_count": 7,
   "id": "762c200f",
   "metadata": {
    "execution": {
     "iopub.execute_input": "2024-06-12T09:51:50.097063Z",
     "iopub.status.busy": "2024-06-12T09:51:50.096918Z",
     "iopub.status.idle": "2024-06-12T09:51:50.351802Z",
     "shell.execute_reply": "2024-06-12T09:51:50.351376Z"
    }
   },
   "outputs": [],
   "source": [
    "# 1. Identifier and gene symbol keys\n",
    "identifier_key = 'ID'\n",
    "gene_symbol_key = 'Symbol'\n",
    "\n",
    "# 2. Get the dataframe storing the mapping between probe IDs and genes\n",
    "mapping_df = get_gene_mapping(gene_annotation, identifier_key, gene_symbol_key)\n",
    "\n",
    "# 3. Apply the mapping\n",
    "gene_data = apply_gene_mapping(gene_data, mapping_df)\n"
   ]
  },
  {
   "cell_type": "markdown",
   "id": "ff7e53eb",
   "metadata": {},
   "source": [
    "### Step 7: Data Normalization and Merging"
   ]
  },
  {
   "cell_type": "code",
   "execution_count": 8,
   "id": "66615257",
   "metadata": {
    "execution": {
     "iopub.execute_input": "2024-06-12T09:51:50.354026Z",
     "iopub.status.busy": "2024-06-12T09:51:50.353874Z",
     "iopub.status.idle": "2024-06-12T09:53:04.908126Z",
     "shell.execute_reply": "2024-06-12T09:53:04.907693Z"
    }
   },
   "outputs": [
    {
     "name": "stdout",
     "output_type": "stream",
     "text": [
      "For the feature 'Cystic_Fibrosis', the least common label is '0.0' with 36 occurrences. This represents 50.00% of the dataset.\n",
      "The distribution of the feature 'Cystic_Fibrosis' in this dataset is fine.\n",
      "\n",
      "Quartiles for 'Age':\n",
      "  25%: 26.75\n",
      "  50% (Median): 27.0\n",
      "  75%: 29.0\n",
      "Min: 21.0\n",
      "Max: 32.0\n",
      "The distribution of the feature 'Age' in this dataset is fine.\n",
      "\n",
      "For the feature 'Gender', the least common label is '0.0' with 24 occurrences. This represents 33.33% of the dataset.\n",
      "The distribution of the feature 'Gender' in this dataset is fine.\n",
      "\n"
     ]
    }
   ],
   "source": [
    "# 1. Normalize the obtained gene data with the 'normalize_gene_symbols_in_index' function from the library.\n",
    "normalized_gene_data = normalize_gene_symbols_in_index(gene_data)\n",
    "gene_csv_path = './preprocessed/Cystic_Fibrosis/gene_data/GSE100521.csv'\n",
    "normalized_gene_data.to_csv(gene_csv_path)\n",
    "\n",
    "# 2. Merge the clinical and genetic data with the 'geo_merge_clinical_genetic_data' function from the library.\n",
    "merged_data = geo_merge_clinical_genetic_data(selected_clinical_data, normalized_gene_data)\n",
    "\n",
    "# 3. Determine whether the trait and some demographic attributes in the data is severely biased, and remove biased attributes.\n",
    "trait_biased, unbiased_merged_data = judge_and_remove_biased_features(merged_data, 'Cystic_Fibrosis')\n",
    "\n",
    "# 4. Save the cohort information.\n",
    "save_cohort_info('GSE100521', './preprocessed/Cystic_Fibrosis/cohort_info.json', True, True, trait_biased, merged_data)\n",
    "\n",
    "if not trait_biased:\n",
    "    # 5. If the trait is not severely biased, save the merged data to a csv file.\n",
    "    csv_path = './preprocessed/Cystic_Fibrosis/GSE100521.csv'\n",
    "    unbiased_merged_data.to_csv(csv_path)\n"
   ]
  }
 ],
 "metadata": {
  "language_info": {
   "codemirror_mode": {
    "name": "ipython",
    "version": 3
   },
   "file_extension": ".py",
   "mimetype": "text/x-python",
   "name": "python",
   "nbconvert_exporter": "python",
   "pygments_lexer": "ipython3",
   "version": "3.8.17"
  }
 },
 "nbformat": 4,
 "nbformat_minor": 5
}
