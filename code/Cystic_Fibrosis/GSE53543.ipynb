{
 "cells": [
  {
   "cell_type": "code",
   "execution_count": 1,
   "id": "3e2dd864",
   "metadata": {
    "execution": {
     "iopub.execute_input": "2024-06-12T09:50:08.558644Z",
     "iopub.status.busy": "2024-06-12T09:50:08.558106Z",
     "iopub.status.idle": "2024-06-12T09:50:08.563686Z",
     "shell.execute_reply": "2024-06-12T09:50:08.563288Z"
    }
   },
   "outputs": [],
   "source": [
    "\n",
    "import sys\n",
    "sys.path.append('/home/techt/Desktop/a4s')\n"
   ]
  },
  {
   "cell_type": "markdown",
   "id": "8a85f31a",
   "metadata": {},
   "source": [
    "### Step 1: Initial Data Loading"
   ]
  },
  {
   "cell_type": "code",
   "execution_count": 2,
   "id": "48b41e69",
   "metadata": {
    "execution": {
     "iopub.execute_input": "2024-06-12T09:50:08.566047Z",
     "iopub.status.busy": "2024-06-12T09:50:08.565892Z",
     "iopub.status.idle": "2024-06-12T09:50:08.928006Z",
     "shell.execute_reply": "2024-06-12T09:50:08.927601Z"
    }
   },
   "outputs": [
    {
     "name": "stdout",
     "output_type": "stream",
     "text": [
      "Background Information:\n",
      "!Series_title\t\"Gene expression data from uninfected and rhinovirus-infected peripheral blood mononuclear cells from 98 individuals\"\n",
      "!Series_summary\t\"Rhinovirus (RV) is the most prevalent human respiratory virus. Each year, RV infects billions of people and is responsible for at least half of all common colds, the most common illness of humans. RV infection also affects the morbidity of a range of respiratory illnesses, such as bronchiolitis, pneumonia, asthma, chronic obstructive pulmonary disease, and cystic fibrosis. Despite its biological importance and public health significance, little is known about the genetic architecture of response to RV. To address this, we obtained genome-wide genotype and gene expression data in uninfected and RV-infected peripheral blood mononuclear cells (PBMCs) from 98 individuals. We characterized gene expression differences in response to RV infection and mapped expression quantitative trait loci (eQTLs) in both uninfected and RV-infected PBMCs.\"\n",
      "!Series_overall_design\t\"The study includes data from uninfected and rhinovirus-infected peripheral blood mononuclear cells (PBMCs) from 98 individuals. Twenty ml of blood was drawn from each participant. PBMCs were isolated from whole blood samples by Ficoll-Paque separation. From each subject, 4 million PBMCs were treated with media alone for 24 hours and 4 million PBMCs were treated with media containing RV16 for 24 hours. The multiplicity of infection was 10 plaque-forming units per cell. Total RNA was extracted after 24-hour incubation, using the RNeasy Plus Mini Kit; concentrations were measured on a Nanodrop ND-100 Spectrophotometer and quality was assessed using an Agilent 2100 Bioanalyzer. Genome wide gene expression profiling of uninfected and rhinovirus-infected PBMCs was obtained using Illumina HumanHT-12 v4 Expression BeadChip arrays at the University of Chicago Functional Genomics Core.\"\n",
      "Sample Characteristics Dictionary:\n",
      "{0: ['subject id: FS119', 'subject id: FS114', 'subject id: FS64', 'subject id: FS98', 'subject id: FS156', 'subject id: FS65', 'subject id: FS144', 'subject id: FS133', 'subject id: FS95', 'subject id: FS161', 'subject id: FS106', 'subject id: FS52', 'subject id: FS159', 'subject id: FS142', 'subject id: FS73', 'subject id: FS118', 'subject id: FS101', 'subject id: FS67', 'subject id: FS88', 'subject id: FS83', 'subject id: FS110', 'subject id: FS82', 'subject id: FS76', 'subject id: FS108', 'subject id: FS107', 'subject id: FS134', 'subject id: FS115', 'subject id: FS84', 'subject id: FS136', 'subject id: FS140'], 1: ['gender: Female', 'gender: Male'], 2: ['sample group: Uninfected', 'sample group: RV_infected'], 3: ['cell type: peripheral blood mononuclear cells'], 4: ['treated with: media alone for 24 hours', 'treated with: media containing rhinovirus (RV16) for 24 hrs']}\n"
     ]
    }
   ],
   "source": [
    "from utils.preprocess import *\n",
    "# 1. Identify the paths to the soft file and the matrix file\n",
    "cohort_dir = '/media/techt/DATA/GEO/Cystic_Fibrosis/GSE53543'\n",
    "soft_file, matrix_file = geo_get_relevant_filepaths(cohort_dir)\n",
    "\n",
    "# 2. Read the matrix file to obtain background information and sample characteristics data\n",
    "background_prefixes = ['!Series_title', '!Series_summary', '!Series_overall_design']\n",
    "clinical_prefixes = ['!Sample_geo_accession', '!Sample_characteristics_ch1']\n",
    "background_info, clinical_data = get_background_and_clinical_data(matrix_file, background_prefixes, clinical_prefixes)\n",
    "\n",
    "# 3. Obtain the sample characteristics dictionary from the clinical dataframe\n",
    "sample_characteristics_dict = get_unique_values_by_row(clinical_data)\n",
    "\n",
    "# 4. Explicitly print out all the background information and the sample characteristics dictionary\n",
    "print(\"Background Information:\")\n",
    "print(background_info)\n",
    "print(\"Sample Characteristics Dictionary:\")\n",
    "print(sample_characteristics_dict)\n"
   ]
  },
  {
   "cell_type": "markdown",
   "id": "1c5cee75",
   "metadata": {},
   "source": [
    "### Step 2: Dataset Analysis and Clinical Feature Extraction"
   ]
  },
  {
   "cell_type": "code",
   "execution_count": 3,
   "id": "3868143c",
   "metadata": {
    "execution": {
     "iopub.execute_input": "2024-06-12T09:50:08.930255Z",
     "iopub.status.busy": "2024-06-12T09:50:08.930112Z",
     "iopub.status.idle": "2024-06-12T09:50:08.933746Z",
     "shell.execute_reply": "2024-06-12T09:50:08.933460Z"
    }
   },
   "outputs": [],
   "source": [
    "is_gene_available = False\n",
    "trait_row = age_row = gender_row = None  # set to different values when applicable\n",
    "convert_trait = convert_age = convert_gender = None  # define the functions when applicable\n",
    "\n",
    "# Check for gene expression data availability\n",
    "is_gene_available = True  # Based on the !Series_title and overall design, the dataset contains gene expression data\n",
    "\n",
    "# Variable Availability and Data Type Conversion\n",
    "# Identify keys\n",
    "gender_row = 1  # Based on the provided sample characteristics, it maps to ['gender: Female', 'gender: Male']\n",
    "\n",
    "# Convert functions\n",
    "def convert_trait(value):\n",
    "    return None  # No information available on Cystic_Fibrosis trait\n",
    "\n",
    "def convert_age(value):\n",
    "    return None  # No information available on age variable\n",
    "\n",
    "def convert_gender(value):\n",
    "    # Extract the value after the colon\n",
    "    if 'gender: ' in value:\n",
    "        extracted_value = value.split(': ')[1]\n",
    "        if extracted_value == 'Female':\n",
    "            return 0\n",
    "        elif extracted_value == 'Male':\n",
    "            return 1\n",
    "    return None\n",
    "\n",
    "# Save Metadata\n",
    "save_cohort_info('GSE53543', './preprocessed/Cystic_Fibrosis/cohort_info.json', is_gene_available, trait_row is not None)\n",
    "\n",
    "# No clinical feature extraction is required as trait_row is None\n"
   ]
  }
 ],
 "metadata": {
  "language_info": {
   "codemirror_mode": {
    "name": "ipython",
    "version": 3
   },
   "file_extension": ".py",
   "mimetype": "text/x-python",
   "name": "python",
   "nbconvert_exporter": "python",
   "pygments_lexer": "ipython3",
   "version": "3.8.17"
  }
 },
 "nbformat": 4,
 "nbformat_minor": 5
}
