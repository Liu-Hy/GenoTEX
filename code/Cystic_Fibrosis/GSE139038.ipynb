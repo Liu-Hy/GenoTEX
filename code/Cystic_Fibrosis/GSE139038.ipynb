{
 "cells": [
  {
   "cell_type": "code",
   "execution_count": 1,
   "id": "ec717d3f",
   "metadata": {
    "execution": {
     "iopub.execute_input": "2024-06-12T09:55:15.321490Z",
     "iopub.status.busy": "2024-06-12T09:55:15.321336Z",
     "iopub.status.idle": "2024-06-12T09:55:15.326739Z",
     "shell.execute_reply": "2024-06-12T09:55:15.326337Z"
    }
   },
   "outputs": [],
   "source": [
    "\n",
    "import sys\n",
    "sys.path.append('/home/techt/Desktop/a4s')\n"
   ]
  },
  {
   "cell_type": "markdown",
   "id": "9d48115e",
   "metadata": {},
   "source": [
    "### Step 1: Initial Data Loading"
   ]
  },
  {
   "cell_type": "code",
   "execution_count": 2,
   "id": "c292e9db",
   "metadata": {
    "execution": {
     "iopub.execute_input": "2024-06-12T09:55:15.328783Z",
     "iopub.status.busy": "2024-06-12T09:55:15.328630Z",
     "iopub.status.idle": "2024-06-12T09:55:15.648352Z",
     "shell.execute_reply": "2024-06-12T09:55:15.647986Z"
    }
   },
   "outputs": [
    {
     "name": "stdout",
     "output_type": "stream",
     "text": [
      "Background Information:\n",
      "!Series_title\t\"Gene expression profiling in paired normal, apparently normal and breast tumour tissues\"\n",
      "!Series_summary\t\"The main objective of the study was to identify potential diagnostic and follow up markers along with therapeutic targets for breast cancer. We performed gene expression studies using the microarray technology on 65 samples including 41 breast tumours [24 early stage, 17 locally advanced, 18 adjacent normal tissue [paired normal] and 6 apparently normal from breasts which had been operated for non-malignant conditions. All the samples had frozen section done – tumours needed to have 70% or more tumour cells; paired normal and apparently normal had to be morphologically normal with no tumour cells.\"\n",
      "!Series_overall_design\t\"Two-dye experiments using Universal Control RNA (Stratagene) and RNA from tissues.\"\n",
      "!Series_overall_design\t\"Biological replicates - Apparently normal = 6, Paired normal = 18, Breast tumor tissues = 41\"\n",
      "Sample Characteristics Dictionary:\n",
      "{0: ['age: 35', 'age: 67', 'age: 36', 'age: 40', 'age: 52', 'age: 50', 'age: 59', 'age: 60', 'age: 55', 'age: 56', 'age: 42', 'age: 48', 'age: 46', 'age: 45', 'age: 54', 'age: 65', 'age: 74', 'age: 63', 'age: 32', 'age: 61', 'age: 64', 'age: 31', 'age: 70', 'age: 41', 'age: 58', 'age: 53', 'age: 75', 'age: 57'], 1: ['gender: Female'], 2: ['histopathological examination (hpe); inflitrating lobular carcinoma (ilc); infiltrating ductal carcinoma (idc): Morphologically normal', 'histopathological examination (hpe); inflitrating lobular carcinoma (ilc); infiltrating ductal carcinoma (idc): IDC', 'histopathological examination (hpe); inflitrating lobular carcinoma (ilc); infiltrating ductal carcinoma (idc): Infiltrating mammary carcinoma, probably ILC', 'histopathological examination (hpe); inflitrating lobular carcinoma (ilc); infiltrating ductal carcinoma (idc): ILC', 'histopathological examination (hpe); inflitrating lobular carcinoma (ilc); infiltrating ductal carcinoma (idc): IDC with extensive DCIS', 'histopathological examination (hpe); inflitrating lobular carcinoma (ilc); infiltrating ductal carcinoma (idc): IDC with DCIS', 'histopathological examination (hpe); inflitrating lobular carcinoma (ilc); infiltrating ductal carcinoma (idc): IDC with vascular emboli'], 3: ['cancer stage: Apparent normal', 'cancer stage: T2N1M0', 'cancer stage: T4bN1M0', 'cancer stage: T4bN2M0', 'cancer stage: T4bN3M1', 'cancer stage: T3N1Mx', 'cancer stage: T3N2M0', 'cancer stage: T4bN3M0', 'cancer stage: T1N1M0', 'cancer stage: T1N0Mx', 'cancer stage: T1N0M0', 'cancer stage: Paired normal', 'cancer stage: T2N0M0', 'cancer stage: Both breast T2N0M0', 'cancer stage: T1N1'], 4: ['tissue origin: breast', 'er status: Positive', 'er status: Negative'], 5: ['sample type: surgery (frozen tissue)', 'sample type: trucut biopsy (frozen tissue)', 'pr status: Positive', 'pr status: Negative', 'pr status: positive'], 6: [nan, 'her2 status: Positive', 'her2 status: Negative', 'her2 status: positive', 'her2 status: Block not available'], 7: [nan, 'tissue origin: breast'], 8: [nan, 'sample type: surgery (frozen tissue)', 'sample type: trucut biopsy (frozen tissue)', 'sample type: trucut (frozen tissue)']}\n"
     ]
    }
   ],
   "source": [
    "from utils.preprocess import *\n",
    "# 1. Identify the paths to the soft file and the matrix file\n",
    "cohort_dir = '/media/techt/DATA/GEO/Cystic_Fibrosis/GSE139038'\n",
    "soft_file, matrix_file = geo_get_relevant_filepaths(cohort_dir)\n",
    "\n",
    "# 2. Read the matrix file to obtain background information and sample characteristics data\n",
    "background_prefixes = ['!Series_title', '!Series_summary', '!Series_overall_design']\n",
    "clinical_prefixes = ['!Sample_geo_accession', '!Sample_characteristics_ch1']\n",
    "background_info, clinical_data = get_background_and_clinical_data(matrix_file, background_prefixes, clinical_prefixes)\n",
    "\n",
    "# 3. Obtain the sample characteristics dictionary from the clinical dataframe\n",
    "sample_characteristics_dict = get_unique_values_by_row(clinical_data)\n",
    "\n",
    "# 4. Explicitly print out all the background information and the sample characteristics dictionary\n",
    "print(\"Background Information:\")\n",
    "print(background_info)\n",
    "print(\"Sample Characteristics Dictionary:\")\n",
    "print(sample_characteristics_dict)\n"
   ]
  },
  {
   "cell_type": "markdown",
   "id": "173b91e6",
   "metadata": {},
   "source": [
    "### Step 2: Dataset Analysis and Clinical Feature Extraction"
   ]
  },
  {
   "cell_type": "code",
   "execution_count": 3,
   "id": "f5e7b408",
   "metadata": {
    "execution": {
     "iopub.execute_input": "2024-06-12T09:55:15.650565Z",
     "iopub.status.busy": "2024-06-12T09:55:15.650462Z",
     "iopub.status.idle": "2024-06-12T09:55:15.654112Z",
     "shell.execute_reply": "2024-06-12T09:55:15.653836Z"
    }
   },
   "outputs": [],
   "source": [
    "is_gene_available = False\n",
    "trait_row = age_row = gender_row = None  # set to different values when applicable\n",
    "convert_trait = convert_age = convert_gender = None  # define the functions when applicable\n",
    "\n",
    "# Determining the availability of gene expression data\n",
    "is_gene_available = True  # The dataset description mentions gene expression profiling using microarray technology\n",
    "\n",
    "# Assess variable availability and define the rows based on the sample characteristics dictionary\n",
    "trait_row = None  # 'Cystic_Fibrosis' is not available in the described data\n",
    "\n",
    "age_row = 0  # Age information is available under key '0'\n",
    "\n",
    "gender_row = 1  # Gender information is available under key '1'\n",
    "\n",
    "# Define conversion functions\n",
    "\n",
    "def convert_age(value: str):\n",
    "    try:\n",
    "        age = int(value.split(': ')[1])\n",
    "        return age\n",
    "    except (ValueError, IndexError):\n",
    "        return None\n",
    "\n",
    "def convert_gender(value: str):\n",
    "    try:\n",
    "        gender = value.split(': ')[1]\n",
    "        return 1 if gender.lower() == 'male' else 0\n",
    "    except (ValueError, IndexError):\n",
    "        return None\n",
    "\n",
    "convert_trait = None  # No conversion needed as 'Cystic_Fibrosis' data is not available\n",
    "\n",
    "# Save cohort information\n",
    "save_cohort_info('GSE139038', './preprocessed/Cystic_Fibrosis/cohort_info.json', is_gene_available, trait_row is not None)\n"
   ]
  }
 ],
 "metadata": {
  "language_info": {
   "codemirror_mode": {
    "name": "ipython",
    "version": 3
   },
   "file_extension": ".py",
   "mimetype": "text/x-python",
   "name": "python",
   "nbconvert_exporter": "python",
   "pygments_lexer": "ipython3",
   "version": "3.8.17"
  }
 },
 "nbformat": 4,
 "nbformat_minor": 5
}
