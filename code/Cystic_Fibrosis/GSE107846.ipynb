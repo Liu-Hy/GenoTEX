{
 "cells": [
  {
   "cell_type": "code",
   "execution_count": 1,
   "id": "0ad40973",
   "metadata": {
    "execution": {
     "iopub.execute_input": "2024-06-12T09:47:36.285576Z",
     "iopub.status.busy": "2024-06-12T09:47:36.285477Z",
     "iopub.status.idle": "2024-06-12T09:47:36.290397Z",
     "shell.execute_reply": "2024-06-12T09:47:36.289999Z"
    }
   },
   "outputs": [],
   "source": [
    "\n",
    "import sys\n",
    "sys.path.append('/home/techt/Desktop/a4s')\n"
   ]
  },
  {
   "cell_type": "markdown",
   "id": "dac75888",
   "metadata": {},
   "source": [
    "### Step 1: Initial Data Loading"
   ]
  },
  {
   "cell_type": "code",
   "execution_count": 2,
   "id": "f675bee0",
   "metadata": {
    "execution": {
     "iopub.execute_input": "2024-06-12T09:47:36.292328Z",
     "iopub.status.busy": "2024-06-12T09:47:36.292046Z",
     "iopub.status.idle": "2024-06-12T09:47:36.619726Z",
     "shell.execute_reply": "2024-06-12T09:47:36.619359Z"
    }
   },
   "outputs": [
    {
     "name": "stdout",
     "output_type": "stream",
     "text": [
      "Background Information:\n",
      "!Series_title\t\"Secondhand smoke alters arachidonic acid metabolism in infants and children with cystic fibrosis\"\n",
      "!Series_summary\t\"Children ages 0-10 years old with CF were recruited from 2012-2015 at the outpatient CF clinic, and classified according to age (infants <1 year old, vs. children 1-10 years old). The diagnosis of CF was defined as two disease-causing mutations or a sweat chloride test ≥ 60 mmol/L. Hair and blood samples were collected from each subject. Hair nicotine concentrations were determined and considered as the primary objective measure of SHSe.  Hair nicotine provides a long-term measure of SHSe as nicotine is integrated into the growing hair shaft over multiple months. (15)  For each subject, 30-40 shafts of hair of approximately 2-3 cm in length were cut at the hair root from the occipital skull.  Hair samples were refrigerated at 4° for storage, washed before analyses to remove ambient nicotine (15) and batch-tested at a contract research facility (Environmental Health Sciences, Johns Hopkins School of Public Health). Samples were processed by reverse-phase high-performance liquid chromatography with electrochemical detection as described. (15) Hair nicotine concentrations were expressed as ng/mg of hair and the assay limit of detection was 0.087 ng/mg.\"\n",
      "!Series_overall_design\t\"40 total samples: 12 healthy, 28 cycstic fibrosis (CF); Of the CF samples, 10 were negative for nicotine as tested by hair sample and 18 were positive\"\n",
      "Sample Characteristics Dictionary:\n",
      "{0: ['identifier: NCH-C019', 'identifier: NCH-C011', 'identifier: NCH-C010', 'identifier: NCH-C017', 'identifier: NCH-C016', 'identifier: NCH-C008', 'identifier: NCH-C001', 'identifier: NCH-C009', 'identifier: NCH-C015', 'identifier: NCH-C020', 'identifier: NCH-C012', 'identifier: NCH-C013', 'identifier: CF-050', 'identifier: CF-044', 'identifier: CF-027', 'identifier: CF-028', 'identifier: CF-033', 'identifier: CF-026', 'identifier: CF-052', 'identifier: CF-058', 'identifier: CF-021', 'identifier: CF-018', 'identifier: CF-060', 'identifier: CF-031', 'identifier: CF-063', 'identifier: CF-049', 'identifier: CF-034', 'identifier: CF-048', 'identifier: CF-065', 'identifier: CF-030'], 1: ['age: 9', 'age: 3.8', 'age: 5.1', 'age: 3.4', 'age: 7', 'age: 2.8', 'age: 4.3', 'age: 2.3', 'age: 9.9', 'age: 7.8', 'age: 7.25', 'age: 4', 'age: 2.333', 'age: 1.917', 'age: 8.583', 'age: 6.8', 'age: 2.667', 'age: 9.917', 'age: 1.083', 'age: 2.25', 'age: 7.75', 'age: 6.833', 'age: 4.583', 'age: 6.417', 'age: 4.75', 'age: 4.333', 'age: 5.25', 'age: 4.25', 'age: 6', 'age: 6.167'], 2: ['Sex: F', 'Sex: M'], 3: ['race: White', 'race: Black', 'race: Biracial'], 4: ['condition: Healthy', 'condition: Toddler'], 5: ['state: Healthy', 'state: CF'], 6: ['nicotine: Healthy (no nicotine)', 'nicotine: No nicotine', 'nicotine: Nicotine']}\n"
     ]
    }
   ],
   "source": [
    "from utils.preprocess import *\n",
    "# 1. Identify the paths to the soft file and the matrix file\n",
    "cohort_dir = '/media/techt/DATA/GEO/Cystic_Fibrosis/GSE107846'\n",
    "soft_file, matrix_file = geo_get_relevant_filepaths(cohort_dir)\n",
    "\n",
    "# 2. Read the matrix file to obtain background information and sample characteristics data\n",
    "background_prefixes = ['!Series_title', '!Series_summary', '!Series_overall_design']\n",
    "clinical_prefixes = ['!Sample_geo_accession', '!Sample_characteristics_ch1']\n",
    "background_info, clinical_data = get_background_and_clinical_data(matrix_file, background_prefixes, clinical_prefixes)\n",
    "\n",
    "# 3. Obtain the sample characteristics dictionary from the clinical dataframe\n",
    "sample_characteristics_dict = get_unique_values_by_row(clinical_data)\n",
    "\n",
    "# 4. Explicitly print out all the background information and the sample characteristics dictionary\n",
    "print(\"Background Information:\")\n",
    "print(background_info)\n",
    "print(\"Sample Characteristics Dictionary:\")\n",
    "print(sample_characteristics_dict)\n"
   ]
  },
  {
   "cell_type": "markdown",
   "id": "efc22528",
   "metadata": {},
   "source": [
    "### Step 2: Dataset Analysis and Clinical Feature Extraction"
   ]
  },
  {
   "cell_type": "code",
   "execution_count": 3,
   "id": "1c81f7f0",
   "metadata": {
    "execution": {
     "iopub.execute_input": "2024-06-12T09:47:36.621494Z",
     "iopub.status.busy": "2024-06-12T09:47:36.621382Z",
     "iopub.status.idle": "2024-06-12T09:47:36.634613Z",
     "shell.execute_reply": "2024-06-12T09:47:36.634325Z"
    }
   },
   "outputs": [
    {
     "name": "stdout",
     "output_type": "stream",
     "text": [
      "{'GSM2881538': [0.0, 9.0, 0.0], 'GSM2881539': [0.0, 3.8, 0.0], 'GSM2881540': [0.0, 5.1, 1.0], 'GSM2881541': [0.0, 3.4, 0.0], 'GSM2881542': [0.0, 7.0, 1.0], 'GSM2881543': [0.0, 2.8, 1.0], 'GSM2881544': [0.0, 4.3, 0.0], 'GSM2881545': [0.0, 2.3, 0.0], 'GSM2881546': [0.0, 9.9, 0.0], 'GSM2881547': [0.0, 7.8, 1.0], 'GSM2881548': [0.0, 2.3, 1.0], 'GSM2881549': [0.0, 3.4, 0.0], 'GSM2881550': [1.0, 7.25, 0.0], 'GSM2881551': [1.0, 4.0, 1.0], 'GSM2881552': [1.0, 2.333, 1.0], 'GSM2881553': [1.0, 1.917, 0.0], 'GSM2881554': [1.0, 8.583, 1.0], 'GSM2881555': [1.0, 6.8, 0.0], 'GSM2881556': [1.0, 2.667, 0.0], 'GSM2881557': [1.0, 9.917, 0.0], 'GSM2881558': [1.0, 1.083, 0.0], 'GSM2881559': [1.0, 2.25, 1.0], 'GSM2881560': [1.0, 7.75, 1.0], 'GSM2881561': [1.0, 6.833, 1.0], 'GSM2881562': [1.0, 4.583, 1.0], 'GSM2881563': [1.0, 6.417, 0.0], 'GSM2881564': [1.0, 7.0, 0.0], 'GSM2881565': [1.0, 4.75, 1.0], 'GSM2881566': [1.0, 4.333, 0.0], 'GSM2881567': [1.0, 5.25, 1.0], 'GSM2881568': [1.0, 4.25, 1.0], 'GSM2881569': [1.0, 6.0, 0.0], 'GSM2881570': [1.0, 6.167, 0.0], 'GSM2881571': [1.0, 2.417, 1.0], 'GSM2881572': [1.0, 4.667, 1.0], 'GSM2881573': [1.0, 2.5, 1.0], 'GSM2881574': [1.0, 5.0, 0.0], 'GSM2881575': [1.0, 5.417, 1.0], 'GSM2881576': [1.0, 5.25, 1.0], 'GSM2881577': [1.0, 4.0, 0.0]}\n"
     ]
    }
   ],
   "source": [
    "is_gene_available = False\n",
    "trait_row = age_row = gender_row = None  # set to different values when applicable\n",
    "convert_trait = convert_age = convert_gender = None  # define the functions when applicable\n",
    "\n",
    "# Determine if gene expression data is available\n",
    "# According to the provided context, we infer gene expression data is available.\n",
    "is_gene_available = True\n",
    "\n",
    "\n",
    "# Variable Availability and Data Type Conversion\n",
    "\n",
    "# For 'Cystic_Fibrosis', the characteristic is represented by the `state` which resides in key 5.\n",
    "# Other keywords indicating health status like \"condition\" won't be as specific as \"state: Healthy\" is found there.\n",
    "trait_row = 5\n",
    "\n",
    "# For 'age', the key is identified as key 1, as it directly provides age data.\n",
    "age_row = 1\n",
    "\n",
    "# For 'gender', the key is identified as key 2.\n",
    "gender_row = 2\n",
    "\n",
    "def convert_trait(value):\n",
    "    parts = value.split(\":\")\n",
    "    if len(parts) == 2:\n",
    "        status = parts[1].strip().lower()\n",
    "        if status == 'cf':\n",
    "            return 1\n",
    "        elif status == 'healthy':\n",
    "            return 0\n",
    "    return None  # In case of any unexpected value\n",
    "\n",
    "def convert_age(value):\n",
    "    parts = value.split(\":\")\n",
    "    if len(parts) == 2:\n",
    "        try:\n",
    "            return float(parts[1].strip())\n",
    "        except ValueError:\n",
    "            return None\n",
    "    return None  # In case of any unexpected format\n",
    "\n",
    "def convert_gender(value):\n",
    "    parts = value.split(\":\")\n",
    "    if len(parts) == 2:\n",
    "        gender = parts[1].strip().upper()\n",
    "        if gender == 'F':\n",
    "            return 0\n",
    "        elif gender == 'M':\n",
    "            return 1\n",
    "    return None  # In case of any unexpected value\n",
    "\n",
    "# Save Metadata\n",
    "save_cohort_info('GSE107846', './preprocessed/Cystic_Fibrosis/cohort_info.json', is_gene_available, trait_row is not None)\n",
    "\n",
    "if trait_row is not None:\n",
    "    selected_clinical_data = geo_select_clinical_features(clinical_data, 'Cystic_Fibrosis', trait_row, convert_trait, age_row, convert_age, gender_row, convert_gender)\n",
    "    csv_path = './preprocessed/Cystic_Fibrosis/trait_data/GSE107846.csv'\n",
    "    selected_clinical_data.to_csv(csv_path)\n",
    "    print(preview_df(selected_clinical_data))\n"
   ]
  },
  {
   "cell_type": "markdown",
   "id": "7327d113",
   "metadata": {},
   "source": [
    "### Step 3: Gene Data Extraction"
   ]
  },
  {
   "cell_type": "code",
   "execution_count": 4,
   "id": "5782c0ab",
   "metadata": {
    "execution": {
     "iopub.execute_input": "2024-06-12T09:47:36.636251Z",
     "iopub.status.busy": "2024-06-12T09:47:36.636151Z",
     "iopub.status.idle": "2024-06-12T09:47:36.827879Z",
     "shell.execute_reply": "2024-06-12T09:47:36.827517Z"
    }
   },
   "outputs": [
    {
     "name": "stdout",
     "output_type": "stream",
     "text": [
      "Index(['ILMN_1343291', 'ILMN_1343295', 'ILMN_1651199', 'ILMN_1651209',\n",
      "       'ILMN_1651210', 'ILMN_1651221', 'ILMN_1651228', 'ILMN_1651229',\n",
      "       'ILMN_1651230', 'ILMN_1651232', 'ILMN_1651235', 'ILMN_1651236',\n",
      "       'ILMN_1651237', 'ILMN_1651238', 'ILMN_1651249', 'ILMN_1651253',\n",
      "       'ILMN_1651254', 'ILMN_1651259', 'ILMN_1651260', 'ILMN_1651262'],\n",
      "      dtype='object', name='ID')\n"
     ]
    }
   ],
   "source": [
    "# 1. Use the get_genetic_data function from the library to get the gene_data from the matrix_file previously defined.\n",
    "gene_data = get_genetic_data(matrix_file)\n",
    "\n",
    "# 2. Print the first 20 row ids for the following step.\n",
    "print(gene_data.index[:20])\n"
   ]
  },
  {
   "cell_type": "markdown",
   "id": "cd03ca98",
   "metadata": {},
   "source": [
    "### Step 4: Gene Identifier Review"
   ]
  },
  {
   "cell_type": "code",
   "execution_count": 5,
   "id": "f7d717fe",
   "metadata": {
    "execution": {
     "iopub.execute_input": "2024-06-12T09:47:36.830029Z",
     "iopub.status.busy": "2024-06-12T09:47:36.829925Z",
     "iopub.status.idle": "2024-06-12T09:47:36.831901Z",
     "shell.execute_reply": "2024-06-12T09:47:36.831634Z"
    }
   },
   "outputs": [],
   "source": [
    "requires_gene_mapping = True\n"
   ]
  },
  {
   "cell_type": "markdown",
   "id": "e98a081a",
   "metadata": {},
   "source": [
    "### Step 5: Gene Annotation (Conditional)"
   ]
  },
  {
   "cell_type": "code",
   "execution_count": 6,
   "id": "aebf739c",
   "metadata": {
    "execution": {
     "iopub.execute_input": "2024-06-12T09:47:36.833896Z",
     "iopub.status.busy": "2024-06-12T09:47:36.833799Z",
     "iopub.status.idle": "2024-06-12T09:47:41.419839Z",
     "shell.execute_reply": "2024-06-12T09:47:41.419473Z"
    }
   },
   "outputs": [
    {
     "name": "stdout",
     "output_type": "stream",
     "text": [
      "Gene annotation preview:\n",
      "{'ID': ['ILMN_1762337', 'ILMN_2055271', 'ILMN_1736007', 'ILMN_2383229', 'ILMN_1806310'], 'SPECIES': ['Homo sapiens', 'Homo sapiens', 'Homo sapiens', 'Homo sapiens', 'Homo sapiens'], 'SOURCE': ['RefSeq', 'RefSeq', 'RefSeq', 'RefSeq', 'RefSeq'], 'SEARCH_KEY': ['NM_182762.2', 'NM_130786.2', 'NM_130786.2', 'NM_138932.1', 'NM_138933.1'], 'TRANSCRIPT': ['ILMN_183371', 'ILMN_175569', 'ILMN_18893', 'ILMN_18532', 'ILMN_7300'], 'ILMN_GENE': ['7A5', 'A1BG', 'A1BG', 'A1CF', 'A1CF'], 'SOURCE_REFERENCE_ID': ['NM_182762.2', 'NM_130786.2', 'NM_130786.2', 'NM_138932.1', 'NM_014576.2'], 'REFSEQ_ID': ['NM_182762.2', 'NM_130786.2', 'NM_130786.2', 'NM_138932.1', 'NM_014576.2'], 'UNIGENE_ID': [nan, nan, nan, nan, nan], 'ENTREZ_GENE_ID': [346389.0, 1.0, 1.0, 29974.0, 29974.0], 'GI': [47271497.0, 21071029.0, 21071029.0, 20357574.0, 20357571.0], 'ACCESSION': ['NM_182762.2', 'NM_130786.2', 'NM_130786.2', 'NM_138932.1', 'NM_014576.2'], 'SYMBOL': ['7A5', 'A1BG', 'A1BG', 'A1CF', 'A1CF'], 'PROTEIN_PRODUCT': ['NP_877439.2', 'NP_570602.2', 'NP_570602.2', 'NP_620310.1', 'NP_055391.2'], 'ARRAY_ADDRESS_ID': [6450255.0, 2570615.0, 6370619.0, 2600039.0, 2650615.0], 'PROBE_TYPE': ['S', 'S', 'S', 'A', 'A'], 'PROBE_START': [2725.0, 3151.0, 2512.0, 1826.0, 1893.0], 'PROBE_SEQUENCE': ['GTGTTACAAGACCTTCAGTCAGCTTTGGACAGAATGAAAAACCCTGTGAC', 'GGGATTACAGGGGTGAGCCACCACGCCCAGCCCCAGCTTAGTTTTTTAAA', 'GCAGAGCTGGACGCTGTGGAAATGGCTGGATTCCTCTGTGTTCTTTCCCA', 'TGCTGTCCCTAATGCAACTGCACCCGTGTCTGCAGCCCAGCTCAAGCAAG', 'GAGGTCTACCCAACTTTTGCAGTGACTGCCCGAGGGGATGGATATGGCAC'], 'CHROMOSOME': ['7', '19', '19', '10', '10'], 'PROBE_CHR_ORIENTATION': ['-', '-', '-', '-', '-'], 'PROBE_COORDINATES': ['20147187-20147236', '63548541-63548590', '63549180-63549229', '52566586-52566635', '52566495-52566544'], 'DEFINITION': ['Homo sapiens putative binding protein 7a5 (7A5), mRNA.', 'Homo sapiens alpha-1-B glycoprotein (A1BG), mRNA.', 'Homo sapiens alpha-1-B glycoprotein (A1BG), mRNA.', 'Homo sapiens APOBEC1 complementation factor (A1CF), transcript variant 2, mRNA.', 'Homo sapiens APOBEC1 complementation factor (A1CF), transcript variant 1, mRNA.'], 'ONTOLOGY_COMPONENT': [nan, 'The space external to the outermost structure of a cell. For cells without external protective or external encapsulating structures this refers to space outside of the plasma membrane. This term covers the host cell environment outside an intracellular parasite [goid 5576] [pmid 3458201] [evidence IDA]', 'The space external to the outermost structure of a cell. For cells without external protective or external encapsulating structures this refers to space outside of the plasma membrane. This term covers the host cell environment outside an intracellular parasite [goid 5576] [pmid 3458201] [evidence IDA]', \"A membrane-bounded organelle of eukaryotic cells in which chromosomes are housed and replicated. In most cells, the nucleus contains all of the cell's chromosomes except the organellar chromosomes, and is the site of RNA synthesis and processing. In some species, or in specialized cell types, RNA metabolism or DNA replication may be absent [goid 5634] [evidence IEA]; All of the contents of a cell excluding the plasma membrane and nucleus, but including other subcellular structures [goid 5737] [pmid 12881431] [evidence IDA]; The irregular network of unit membranes, visible only by electron microscopy, that occurs in the cytoplasm of many eukaryotic cells. The membranes form a complex meshwork of tubular channels, which are often expanded into slitlike cavities called cisternae. The ER takes two forms, rough (or granular), with ribosomes adhering to the outer surface, and smooth (with no ribosomes attached) [goid 5783] [evidence IEA]; Protein complex that mediates editing of the mRNA encoding apolipoprotein B; catalyzes the deamination of C to U (residue 6666 in the human mRNA). Contains a catalytic subunit, APOBEC-1, and other proteins (e.g. human ASP; rat ASP and KSRP) [goid 30895] [pmid 10781591] [evidence IDA]\", \"A membrane-bounded organelle of eukaryotic cells in which chromosomes are housed and replicated. In most cells, the nucleus contains all of the cell's chromosomes except the organellar chromosomes, and is the site of RNA synthesis and processing. In some species, or in specialized cell types, RNA metabolism or DNA replication may be absent [goid 5634] [evidence IEA]; All of the contents of a cell excluding the plasma membrane and nucleus, but including other subcellular structures [goid 5737] [pmid 12881431] [evidence IDA]; The irregular network of unit membranes, visible only by electron microscopy, that occurs in the cytoplasm of many eukaryotic cells. The membranes form a complex meshwork of tubular channels, which are often expanded into slitlike cavities called cisternae. The ER takes two forms, rough (or granular), with ribosomes adhering to the outer surface, and smooth (with no ribosomes attached) [goid 5783] [evidence IEA]; Protein complex that mediates editing of the mRNA encoding apolipoprotein B; catalyzes the deamination of C to U (residue 6666 in the human mRNA). Contains a catalytic subunit, APOBEC-1, and other proteins (e.g. human ASP; rat ASP and KSRP) [goid 30895] [pmid 10781591] [evidence IDA]\"], 'ONTOLOGY_PROCESS': [nan, 'Any process specifically pertinent to the functioning of integrated living units: cells, tissues, organs, and organisms. A process is a collection of molecular events with a defined beginning and end [goid 8150] [evidence ND ]', 'Any process specifically pertinent to the functioning of integrated living units: cells, tissues, organs, and organisms. A process is a collection of molecular events with a defined beginning and end [goid 8150] [evidence ND ]', 'Any process involved in the conversion of a primary mRNA transcript into one or more mature mRNA(s) prior to translation into polypeptide [goid 6397] [evidence IEA]; Any process involved in maintaining the structure and integrity of a protein and preventing it from degradation or aggregation [goid 50821] [pmid 12881431] [evidence IDA]', 'Any process involved in the conversion of a primary mRNA transcript into one or more mature mRNA(s) prior to translation into polypeptide [goid 6397] [evidence IEA]; Any process involved in maintaining the structure and integrity of a protein and preventing it from degradation or aggregation [goid 50821] [pmid 12881431] [evidence IDA]'], 'ONTOLOGY_FUNCTION': [nan, 'Elemental activities, such as catalysis or binding, describing the actions of a gene product at the molecular level. A given gene product may exhibit one or more molecular functions [goid 3674] [evidence ND ]', 'Elemental activities, such as catalysis or binding, describing the actions of a gene product at the molecular level. A given gene product may exhibit one or more molecular functions [goid 3674] [evidence ND ]', 'Interacting selectively with a nucleotide, any compound consisting of a nucleoside that is esterified with (ortho)phosphate or an oligophosphate at any hydroxyl group on the ribose or deoxyribose moiety [goid 166] [evidence IEA]; Interacting selectively with double-stranded RNA [goid 3725] [pmid 11871661] [evidence IDA]; Interacting selectively with single-stranded RNA [goid 3727] [pmid 11871661] [evidence IDA]; Interacting selectively with any protein or protein complex (a complex of two or more proteins that may include other nonprotein molecules) [goid 5515] [pmid 12896982] [evidence IPI]; Interacting selectively with any protein or protein complex (a complex of two or more proteins that may include other nonprotein molecules) [goid 5515] [pmid 10669759] [evidence IPI]', 'Interacting selectively with a nucleotide, any compound consisting of a nucleoside that is esterified with (ortho)phosphate or an oligophosphate at any hydroxyl group on the ribose or deoxyribose moiety [goid 166] [evidence IEA]; Interacting selectively with double-stranded RNA [goid 3725] [pmid 11871661] [evidence IDA]; Interacting selectively with single-stranded RNA [goid 3727] [pmid 11871661] [evidence IDA]; Interacting selectively with any protein or protein complex (a complex of two or more proteins that may include other nonprotein molecules) [goid 5515] [pmid 12896982] [evidence IPI]; Interacting selectively with any protein or protein complex (a complex of two or more proteins that may include other nonprotein molecules) [goid 5515] [pmid 10669759] [evidence IPI]'], 'SYNONYMS': [nan, 'A1B; GAB; HYST2477; ABG; DKFZp686F0970', 'A1B; GAB; HYST2477; ABG; DKFZp686F0970', 'ASP; MGC163391; APOBEC1CF; ACF65; ACF64; ACF; RP11-564C4.2', 'ASP; APOBEC1CF; ACF65; ACF64; RP11-564C4.2; MGC163391; ACF'], 'OBSOLETE_PROBE_ID': [nan, 'A1B; GAB; HYST2477; ABG; DKFZp686F0970', 'A1B; GAB; HYST2477; ABG; DKFZp686F0970', 'ASP; APOBEC1CF; ACF65; ACF64; RP11-564C4.2; MGC163391; ACF', 'ASP; APOBEC1CF; ACF65; ACF64; RP11-564C4.2; MGC163391; ACF'], 'GB_ACC': ['NM_182762.2', 'NM_130786.2', 'NM_130786.2', 'NM_138932.1', 'NM_014576.2'], 'SPOT_ID': [nan, nan, nan, nan, nan]}\n"
     ]
    }
   ],
   "source": [
    "# 1. Use the 'get_gene_annotation' function from the library to get gene annotation data from the soft file.\n",
    "gene_annotation = get_gene_annotation(soft_file)\n",
    "\n",
    "# 2. Use the 'preview_df' function from the library to preview the data and print out the results.\n",
    "print(\"Gene annotation preview:\")\n",
    "print(preview_df(gene_annotation))\n"
   ]
  },
  {
   "cell_type": "markdown",
   "id": "366a138d",
   "metadata": {},
   "source": [
    "### Step 6: Gene Identifier Mapping"
   ]
  },
  {
   "cell_type": "code",
   "execution_count": 7,
   "id": "e3d6f5c6",
   "metadata": {
    "execution": {
     "iopub.execute_input": "2024-06-12T09:47:41.422018Z",
     "iopub.status.busy": "2024-06-12T09:47:41.421913Z",
     "iopub.status.idle": "2024-06-12T09:47:41.583899Z",
     "shell.execute_reply": "2024-06-12T09:47:41.583470Z"
    }
   },
   "outputs": [],
   "source": [
    "# 1. Mapping identifiers to gene symbols\n",
    "identifier_key = 'ID'\n",
    "gene_symbol_key = 'SYMBOL'\n",
    "\n",
    "# 2. Get the dataframe storing the mapping between probe IDs and genes using the 'get_gene_mapping' function from the library.\n",
    "gene_mapping = get_gene_mapping(gene_annotation, identifier_key, gene_symbol_key)\n",
    "\n",
    "# 3. Apply the mapping with the 'apply_gene_mapping' function from the library, and name the resulting gene expression dataframe \"gene_data\".\n",
    "gene_data = apply_gene_mapping(gene_data, gene_mapping)\n"
   ]
  },
  {
   "cell_type": "markdown",
   "id": "075f547a",
   "metadata": {},
   "source": [
    "### Step 7: Data Normalization and Merging"
   ]
  },
  {
   "cell_type": "code",
   "execution_count": 8,
   "id": "5663b788",
   "metadata": {
    "execution": {
     "iopub.execute_input": "2024-06-12T09:47:41.585662Z",
     "iopub.status.busy": "2024-06-12T09:47:41.585556Z",
     "iopub.status.idle": "2024-06-12T09:48:55.346774Z",
     "shell.execute_reply": "2024-06-12T09:48:55.346133Z"
    }
   },
   "outputs": [
    {
     "name": "stdout",
     "output_type": "stream",
     "text": [
      "For the feature 'Cystic_Fibrosis', the least common label is '0.0' with 12 occurrences. This represents 30.00% of the dataset.\n",
      "The distribution of the feature 'Cystic_Fibrosis' in this dataset is fine.\n",
      "\n",
      "Quartiles for 'Age':\n",
      "  25%: 3.25\n",
      "  50% (Median): 4.7085\n",
      "  75%: 6.80825\n",
      "Min: 1.083\n",
      "Max: 9.917\n",
      "The distribution of the feature 'Age' in this dataset is fine.\n",
      "\n",
      "For the feature 'Gender', the least common label is '0.0' with 20 occurrences. This represents 50.00% of the dataset.\n",
      "The distribution of the feature 'Gender' in this dataset is fine.\n",
      "\n",
      "A new JSON file was created at: ./preprocessed/Cystic_Fibrosis/cohort_info.json\n"
     ]
    }
   ],
   "source": [
    "# 1. Normalize the obtained gene data with the 'normalize_gene_symbols_in_index' function from the library.\n",
    "normalized_gene_data = normalize_gene_symbols_in_index(gene_data)\n",
    "gene_csv_path = './preprocessed/Cystic_Fibrosis/gene_data/GSE107846.csv'\n",
    "normalized_gene_data.to_csv(gene_csv_path)\n",
    "\n",
    "# 2. Merge the clinical and genetic data with the 'geo_merge_clinical_genetic_data' function from the library.\n",
    "merged_data = geo_merge_clinical_genetic_data(selected_clinical_data, normalized_gene_data)\n",
    "\n",
    "# 3. Determine whether the trait and some demographic attributes in the data is severely biased, and remove biased attributes.\n",
    "trait_biased, unbiased_merged_data = judge_and_remove_biased_features(merged_data, 'Cystic_Fibrosis')\n",
    "\n",
    "# If the trait is not severely biased, save the cohort information and the merged data.\n",
    "\n",
    "# 4. Save the cohort information.\n",
    "save_cohort_info('GSE107846', './preprocessed/Cystic_Fibrosis/cohort_info.json', True, True, trait_biased, merged_data)\n",
    "\n",
    "if not trait_biased:\n",
    "    # 5. If the trait is not severely biased, save the merged data to a csv file.\n",
    "    csv_path = './preprocessed/Cystic_Fibrosis/GSE107846.csv'\n",
    "    unbiased_merged_data.to_csv(csv_path)\n"
   ]
  }
 ],
 "metadata": {
  "language_info": {
   "codemirror_mode": {
    "name": "ipython",
    "version": 3
   },
   "file_extension": ".py",
   "mimetype": "text/x-python",
   "name": "python",
   "nbconvert_exporter": "python",
   "pygments_lexer": "ipython3",
   "version": "3.8.17"
  }
 },
 "nbformat": 4,
 "nbformat_minor": 5
}
