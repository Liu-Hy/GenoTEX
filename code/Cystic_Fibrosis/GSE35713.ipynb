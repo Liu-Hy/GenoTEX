{
 "cells": [
  {
   "cell_type": "code",
   "execution_count": 1,
   "id": "2eedbfbc",
   "metadata": {
    "execution": {
     "iopub.execute_input": "2024-06-12T09:50:10.967007Z",
     "iopub.status.busy": "2024-06-12T09:50:10.966621Z",
     "iopub.status.idle": "2024-06-12T09:50:10.973497Z",
     "shell.execute_reply": "2024-06-12T09:50:10.972946Z"
    }
   },
   "outputs": [],
   "source": [
    "\n",
    "import sys\n",
    "sys.path.append('/home/techt/Desktop/a4s')\n"
   ]
  },
  {
   "cell_type": "markdown",
   "id": "998aa253",
   "metadata": {},
   "source": [
    "### Step 1: Initial Data Loading"
   ]
  },
  {
   "cell_type": "code",
   "execution_count": 2,
   "id": "ee269600",
   "metadata": {
    "execution": {
     "iopub.execute_input": "2024-06-12T09:50:10.976232Z",
     "iopub.status.busy": "2024-06-12T09:50:10.975813Z",
     "iopub.status.idle": "2024-06-12T09:50:11.618946Z",
     "shell.execute_reply": "2024-06-12T09:50:11.618599Z"
    }
   },
   "outputs": [
    {
     "name": "stdout",
     "output_type": "stream",
     "text": [
      "Background Information:\n",
      "!Series_title\t\"Transcriptional Signatures as a Disease-Specific and Predictive Inflammatory Biomarker for Type 1 Diabetes\"\n",
      "!Series_summary\t\"This SuperSeries is composed of the SubSeries listed below.\"\n",
      "!Series_overall_design\t\"Refer to individual Series\"\n",
      "Sample Characteristics Dictionary:\n",
      "{0: ['responder cell line: UPN727', 'protocol: stimulated with Auto250S7 plasma', 'protocol: stimulated with HC2074 plasma', 'protocol: stimulated with HC2302 plasma', 'protocol: stimulated with HC2593 plasma', 'protocol: stimulated with RO1973 plasma', 'protocol: stimulated with RO2130 plasma', 'protocol: stimulated with RO2312 plasma', 'protocol: stimulated with RO1964 plasma', 'protocol: stimulated with RO2348 plasma', 'protocol: stimulated with RO2366 plasma', 'protocol: stimulated with RO2598 plasma', 'protocol: stimulated with Auto250S8 plasma', 'protocol: stimulated with HC2146 plasma', 'protocol: stimulated with HC223 plasma', 'protocol: stimulated with RO1939 plasma', 'protocol: stimulated with RO2109 plasma', 'protocol: stimulated with Auto250S9 plasma', 'protocol: stimulated with HC285 plasma', 'protocol: stimulated with HC233 plasma', 'protocol: stimulated with HC294 plasma', 'protocol: stimulated with HC224 plasma', 'protocol: stimulated with RO253 plasma', 'protocol: stimulated with RO2024 plasma', 'protocol: stimulated with RO1037 plasma', 'protocol: stimulated with RO1437 plasma', 'protocol: stimulated with RO2944 plasma', 'protocol: stimulated with RO2953 plasma', 'protocol: stimulated with Auto250S10 plasma', 'protocol: stimulated with HC217 plasma'], 1: ['protocol: stimuated with AutoB1S1 plasma', 'protocol: stimuated with AutoB1S2 plasma', 'protocol: stimuated with AutoB1S3 plasma', 'protocol: stimuated with AutoB3W1 plasma', 'protocol: stimuated with AutoB3W1+2 plasma', 'protocol: stimulated with CF4017 plasma', 'protocol: stimulated with CF4024 plasma', 'protocol: stimulated with CF4026 plasma', 'protocol: stimulated with CF4045 plasma', 'protocol: stimulated with CF4047 plasma', 'protocol: stimulated with CF4087 plasma', 'protocol: stimulated with CF4091 plasma', 'protocol: stimulated with CF4107 plasma', 'protocol: stimulated with CF4088 plasma', 'protocol: stimulated with CF4133 plasma', 'protocol: stimulated with CF4138 plasma', 'protocol: stimulated with CF4157 plasma', 'protocol: stimulated with CF4184 plasma', 'protocol: stimulated with CF4256 plasma', 'protocol: stimulated with CF4265 plasma', 'protocol: stimulated with CF4271 plasma', 'protocol: stimulated with CF4297 plasma', 'protocol: stimulated with CF4304 plasma', 'protocol: stimulated with CF4305 plasma', 'protocol: stimulated with CF4285 plasma', 'protocol: stimulated with HC1271 plasma', 'protocol: stimulated with HC1365 plasma', 'protocol: stimulated with HC1301 plasma', 'protocol: stimulated with HC1249 plasma', 'protocol: stimulated with HC1265 plasma']}\n"
     ]
    }
   ],
   "source": [
    "from utils.preprocess import *\n",
    "# 1. Identify the paths to the soft file and the matrix file\n",
    "cohort_dir = '/media/techt/DATA/GEO/Cystic_Fibrosis/GSE35713'\n",
    "soft_file, matrix_file = geo_get_relevant_filepaths(cohort_dir)\n",
    "\n",
    "# 2. Read the matrix file to obtain background information and sample characteristics data\n",
    "background_prefixes = ['!Series_title', '!Series_summary', '!Series_overall_design']\n",
    "clinical_prefixes = ['!Sample_geo_accession', '!Sample_characteristics_ch1']\n",
    "background_info, clinical_data = get_background_and_clinical_data(matrix_file, background_prefixes, clinical_prefixes)\n",
    "\n",
    "# 3. Obtain the sample characteristics dictionary from the clinical dataframe\n",
    "sample_characteristics_dict = get_unique_values_by_row(clinical_data)\n",
    "\n",
    "# 4. Explicitly print out all the background information and the sample characteristics dictionary\n",
    "print(\"Background Information:\")\n",
    "print(background_info)\n",
    "print(\"Sample Characteristics Dictionary:\")\n",
    "print(sample_characteristics_dict)\n"
   ]
  },
  {
   "cell_type": "markdown",
   "id": "1271f8de",
   "metadata": {},
   "source": [
    "### Step 2: Dataset Analysis and Clinical Feature Extraction"
   ]
  },
  {
   "cell_type": "code",
   "execution_count": 3,
   "id": "19fa13ca",
   "metadata": {
    "execution": {
     "iopub.execute_input": "2024-06-12T09:50:11.620661Z",
     "iopub.status.busy": "2024-06-12T09:50:11.620538Z",
     "iopub.status.idle": "2024-06-12T09:50:11.640315Z",
     "shell.execute_reply": "2024-06-12T09:50:11.640005Z"
    }
   },
   "outputs": [
    {
     "name": "stdout",
     "output_type": "stream",
     "text": [
      "{'GSM873748': [0], 'GSM873749': [0], 'GSM873750': [0], 'GSM873751': [0], 'GSM873752': [0], 'GSM873753': [1], 'GSM873754': [1], 'GSM873755': [1], 'GSM873756': [1], 'GSM873758': [1], 'GSM873759': [1], 'GSM873760': [1], 'GSM873761': [1], 'GSM873762': [1], 'GSM873763': [1], 'GSM873764': [1], 'GSM873765': [1], 'GSM873766': [1], 'GSM873767': [1], 'GSM873768': [1], 'GSM873769': [1], 'GSM873770': [1], 'GSM873771': [1], 'GSM873772': [1], 'GSM873773': [1], 'GSM873774': [0], 'GSM873775': [0], 'GSM873776': [0], 'GSM873777': [0], 'GSM873778': [0], 'GSM873779': [0], 'GSM873780': [0], 'GSM873781': [0], 'GSM873782': [0], 'GSM873783': [0], 'GSM873784': [0], 'GSM873785': [0], 'GSM873786': [0], 'GSM873787': [0], 'GSM873788': [0], 'GSM873789': [0], 'GSM873790': [0], 'GSM873791': [0], 'GSM873792': [0], 'GSM873793': [0], 'GSM873794': [0], 'GSM873795': [0], 'GSM873796': [0], 'GSM873797': [0], 'GSM873800': [0], 'GSM873801': [0], 'GSM873802': [0], 'GSM873803': [0], 'GSM873804': [0], 'GSM873805': [0], 'GSM873806': [0], 'GSM873807': [0], 'GSM873808': [0], 'GSM873809': [0], 'GSM873810': [0], 'GSM873811': [0], 'GSM873833': [0], 'GSM873834': [0], 'GSM873835': [0], 'GSM873836': [0], 'GSM873837': [0], 'GSM873838': [0], 'GSM873839': [0], 'GSM873840': [0], 'GSM873841': [0], 'GSM873842': [0], 'GSM873843': [0], 'GSM873844': [0], 'GSM873845': [0], 'GSM873846': [0], 'GSM873847': [0], 'GSM873848': [0], 'GSM873849': [0], 'GSM873850': [0], 'GSM873851': [0], 'GSM873852': [0], 'GSM873853': [0], 'GSM873854': [0], 'GSM873855': [0], 'GSM873856': [0], 'GSM873857': [0], 'GSM873858': [0], 'GSM873859': [0], 'GSM873860': [0], 'GSM874033': [0], 'GSM874034': [0], 'GSM874035': [0], 'GSM874036': [0], 'GSM874037': [0], 'GSM874038': [0], 'GSM874039': [0], 'GSM874040': [0], 'GSM874041': [0], 'GSM874042': [0], 'GSM874043': [0], 'GSM874044': [0], 'GSM874045': [0], 'GSM874046': [0], 'GSM874047': [0], 'GSM874048': [0], 'GSM874049': [0], 'GSM874050': [0], 'GSM874051': [0], 'GSM874052': [0], 'GSM874053': [0], 'GSM874054': [0], 'GSM874055': [0], 'GSM874056': [0], 'GSM874057': [0], 'GSM874058': [0], 'GSM874059': [0], 'GSM874060': [0], 'GSM874061': [0], 'GSM874062': [0], 'GSM874063': [0], 'GSM874064': [0], 'GSM874065': [0], 'GSM874066': [0], 'GSM874067': [0], 'GSM874068': [0], 'GSM874069': [0], 'GSM874070': [0], 'GSM874071': [0], 'GSM874072': [0], 'GSM874073': [0], 'GSM874074': [0], 'GSM874075': [0], 'GSM874076': [0], 'GSM874077': [0], 'GSM874078': [0], 'GSM874079': [0], 'GSM874080': [0], 'GSM874081': [0], 'GSM874082': [0], 'GSM874083': [0], 'GSM874084': [0], 'GSM874085': [0], 'GSM874086': [0], 'GSM874087': [0], 'GSM874088': [0], 'GSM874089': [0], 'GSM874090': [0], 'GSM874091': [0], 'GSM874092': [0], 'GSM874093': [0], 'GSM874094': [0], 'GSM874095': [0], 'GSM874096': [0], 'GSM874097': [0], 'GSM874098': [0], 'GSM874099': [0], 'GSM874100': [0], 'GSM874101': [0], 'GSM874102': [0], 'GSM874103': [0], 'GSM874104': [0], 'GSM874105': [0], 'GSM874106': [0], 'GSM874107': [0], 'GSM874108': [0], 'GSM874109': [0], 'GSM874110': [0], 'GSM874111': [0], 'GSM874112': [0], 'GSM874113': [0], 'GSM874114': [0], 'GSM874115': [0], 'GSM874116': [0], 'GSM874117': [0], 'GSM874118': [0], 'GSM874119': [0], 'GSM874120': [0], 'GSM874121': [0], 'GSM874122': [0], 'GSM874123': [0], 'GSM874124': [0], 'GSM874125': [0], 'GSM874126': [0], 'GSM874127': [0], 'GSM874128': [0], 'GSM874129': [0], 'GSM874130': [0], 'GSM874131': [0], 'GSM874132': [0], 'GSM874133': [0], 'GSM874134': [0], 'GSM874135': [0], 'GSM874136': [0], 'GSM874137': [0], 'GSM874138': [0], 'GSM874139': [0], 'GSM874140': [0], 'GSM874141': [0], 'GSM874142': [0], 'GSM874143': [0]}\n"
     ]
    }
   ],
   "source": [
    "is_gene_available = False\n",
    "trait_row = age_row = gender_row = None  # set to different values when applicable\n",
    "convert_trait = convert_age = convert_gender = None  # define the functions when applicable\n",
    "\n",
    "# Check for gene expression data availability\n",
    "is_gene_available = True  # Based on STEP 1 output, assuming gene expression data is included since no exclusion criteria met\n",
    "\n",
    "# Data Availability Check\n",
    "sample_characteristics = {\n",
    "    0: ['responder cell line: UPN727', 'protocol: stimulated with Auto250S7 plasma', 'protocol: stimulated with HC2074 plasma', \n",
    "        'protocol: stimulated with HC2302 plasma', 'protocol: stimulated with HC2593 plasma', 'protocol: stimulated with RO1973 plasma', \n",
    "        'protocol: stimulated with RO2130 plasma', 'protocol: stimulated with RO2312 plasma', 'protocol: stimulated with RO1964 plasma', \n",
    "        'protocol: stimulated with RO2348 plasma', 'protocol: stimulated with RO2366 plasma', 'protocol: stimulated with RO2598 plasma', \n",
    "        'protocol: stimulated with Auto250S8 plasma', 'protocol: stimulated with HC2146 plasma', 'protocol: stimulated with HC223 plasma', \n",
    "        'protocol: stimulated with RO1939 plasma', 'protocol: stimulated with RO2109 plasma', 'protocol: stimulated with Auto250S9 plasma', \n",
    "        'protocol: stimulated with HC285 plasma', 'protocol: stimulated with HC233 plasma', 'protocol: stimulated with HC294 plasma', \n",
    "        'protocol: stimulated with HC224 plasma', 'protocol: stimulated with RO253 plasma', 'protocol: stimulated with RO2024 plasma', \n",
    "        'protocol: stimulated with RO1037 plasma', 'protocol: stimulated with RO1437 plasma', 'protocol: stimulated with RO2944 plasma', \n",
    "        'protocol: stimulated with RO2953 plasma', 'protocol: stimulated with Auto250S10 plasma', 'protocol: stimulated with HC217 plasma'], \n",
    "    1: ['protocol: stimuated with AutoB1S1 plasma', 'protocol: stimuated with AutoB1S2 plasma', 'protocol: stimuated with AutoB1S3 plasma', \n",
    "        'protocol: stimuated with AutoB3W1 plasma', 'protocol: stimuated with AutoB3W1+2 plasma', 'protocol: stimulated with CF4017 plasma', \n",
    "        'protocol: stimulated with CF4024 plasma', 'protocol: stimulated with CF4026 plasma', 'protocol: stimulated with CF4045 plasma', \n",
    "        'protocol: stimulated with CF4047 plasma', 'protocol: stimulated with CF4087 plasma', 'protocol: stimulated with CF4091 plasma', \n",
    "        'protocol: stimulated with CF4107 plasma', 'protocol: stimulated with CF4088 plasma', 'protocol: stimulated with CF4133 plasma', \n",
    "        'protocol: stimulated with CF4138 plasma', 'protocol: stimulated with CF4157 plasma', 'protocol: stimulated with CF4184 plasma', \n",
    "        'protocol: stimulated with CF4256 plasma', 'protocol: stimulated with CF4265 plasma', 'protocol: stimulated with CF4271 plasma', \n",
    "        'protocol: stimulated with CF4297 plasma', 'protocol: stimulated with CF4304 plasma', 'protocol: stimulated with CF4305 plasma', \n",
    "        'protocol: stimulated with CF4285 plasma', 'protocol: stimulated with HC1271 plasma', 'protocol: stimulated with HC1365 plasma', \n",
    "        'protocol: stimulated with HC1301 plasma', 'protocol: stimulated with HC1249 plasma', 'protocol: stimulated with HC1265 plasma']\n",
    "}\n",
    "\n",
    "# Identify keys for 'Cystic_Fibrosis'\n",
    "for key, values in sample_characteristics.items():\n",
    "    if any('CF' in value for value in values):\n",
    "        trait_row = key\n",
    "        break\n",
    "\n",
    "# Based on the given information, there's no age and gender directly indicated in the sample characteristics dictionary.\n",
    "age_row = None\n",
    "gender_row = None\n",
    "\n",
    "# Define conversion functions\n",
    "def convert_trait(value):\n",
    "    if 'CF' in value:\n",
    "        return 1\n",
    "    else:\n",
    "        return 0\n",
    "\n",
    "def convert_age(value):\n",
    "    try:\n",
    "        return float(value.split(':')[1].strip())\n",
    "    except ValueError:\n",
    "        return None\n",
    "\n",
    "def convert_gender(value):\n",
    "    gender = value.split(':')[1].strip().lower()\n",
    "    if gender == 'female':\n",
    "        return 0\n",
    "    elif gender == 'male':\n",
    "        return 1\n",
    "    else:\n",
    "        return None\n",
    "\n",
    "# Save cohort information\n",
    "save_cohort_info('GSE35713', './preprocessed/Cystic_Fibrosis/cohort_info.json', is_gene_available, trait_row is not None)\n",
    "\n",
    "# Clinical Feature Extraction\n",
    "if trait_row is not None:\n",
    "    selected_clinical_data = geo_select_clinical_features(clinical_data, 'Cystic_Fibrosis', trait_row, convert_trait, age_row, convert_age, gender_row, convert_gender)\n",
    "    csv_path = './preprocessed/Cystic_Fibrosis/trait_data/GSE35713.csv'\n",
    "    selected_clinical_data.to_csv(csv_path)\n",
    "    print(preview_df(selected_clinical_data))\n"
   ]
  },
  {
   "cell_type": "markdown",
   "id": "4c9f6ed1",
   "metadata": {},
   "source": [
    "### Step 3: Gene Data Extraction"
   ]
  },
  {
   "cell_type": "code",
   "execution_count": 4,
   "id": "033bedbe",
   "metadata": {
    "execution": {
     "iopub.execute_input": "2024-06-12T09:50:11.641953Z",
     "iopub.status.busy": "2024-06-12T09:50:11.641846Z",
     "iopub.status.idle": "2024-06-12T09:50:12.524618Z",
     "shell.execute_reply": "2024-06-12T09:50:12.524228Z"
    }
   },
   "outputs": [
    {
     "name": "stdout",
     "output_type": "stream",
     "text": [
      "Index(['1007_s_at', '1053_at', '117_at', '121_at', '1255_g_at', '1294_at',\n",
      "       '1316_at', '1320_at', '1405_i_at', '1431_at', '1438_at', '1487_at',\n",
      "       '1494_f_at', '1552256_a_at', '1552257_a_at', '1552258_at', '1552261_at',\n",
      "       '1552263_at', '1552264_a_at', '1552266_at'],\n",
      "      dtype='object', name='ID')\n"
     ]
    }
   ],
   "source": [
    "# 1. Use the get_genetic_data function from the library to get the gene_data from the matrix_file previously defined.\n",
    "gene_data = get_genetic_data(matrix_file)\n",
    "\n",
    "# 2. Print the first 20 row ids for the following step.\n",
    "print(gene_data.index[:20])\n"
   ]
  },
  {
   "cell_type": "markdown",
   "id": "ae8aa578",
   "metadata": {},
   "source": [
    "### Step 4: Gene Identifier Review"
   ]
  },
  {
   "cell_type": "code",
   "execution_count": 5,
   "id": "b648af97",
   "metadata": {
    "execution": {
     "iopub.execute_input": "2024-06-12T09:50:12.526412Z",
     "iopub.status.busy": "2024-06-12T09:50:12.526301Z",
     "iopub.status.idle": "2024-06-12T09:50:12.528291Z",
     "shell.execute_reply": "2024-06-12T09:50:12.528008Z"
    }
   },
   "outputs": [],
   "source": [
    "requires_gene_mapping = True\n"
   ]
  },
  {
   "cell_type": "markdown",
   "id": "88499cd7",
   "metadata": {},
   "source": [
    "### Step 5: Gene Annotation (Conditional)"
   ]
  },
  {
   "cell_type": "code",
   "execution_count": 6,
   "id": "ed505bd7",
   "metadata": {
    "execution": {
     "iopub.execute_input": "2024-06-12T09:50:12.529805Z",
     "iopub.status.busy": "2024-06-12T09:50:12.529702Z",
     "iopub.status.idle": "2024-06-12T09:50:28.108646Z",
     "shell.execute_reply": "2024-06-12T09:50:28.108172Z"
    }
   },
   "outputs": [
    {
     "name": "stdout",
     "output_type": "stream",
     "text": [
      "Gene annotation preview:\n",
      "{'ID': ['1007_s_at', '1053_at', '117_at', '121_at', '1255_g_at'], 'GB_ACC': ['U48705', 'M87338', 'X51757', 'X69699', 'L36861'], 'SPOT_ID': [nan, nan, nan, nan, nan], 'Species Scientific Name': ['Homo sapiens', 'Homo sapiens', 'Homo sapiens', 'Homo sapiens', 'Homo sapiens'], 'Annotation Date': ['Oct 6, 2014', 'Oct 6, 2014', 'Oct 6, 2014', 'Oct 6, 2014', 'Oct 6, 2014'], 'Sequence Type': ['Exemplar sequence', 'Exemplar sequence', 'Exemplar sequence', 'Exemplar sequence', 'Exemplar sequence'], 'Sequence Source': ['Affymetrix Proprietary Database', 'GenBank', 'Affymetrix Proprietary Database', 'GenBank', 'Affymetrix Proprietary Database'], 'Target Description': ['U48705 /FEATURE=mRNA /DEFINITION=HSU48705 Human receptor tyrosine kinase DDR gene, complete cds', 'M87338 /FEATURE= /DEFINITION=HUMA1SBU Human replication factor C, 40-kDa subunit (A1) mRNA, complete cds', \"X51757 /FEATURE=cds /DEFINITION=HSP70B Human heat-shock protein HSP70B' gene\", 'X69699 /FEATURE= /DEFINITION=HSPAX8A H.sapiens Pax8 mRNA', 'L36861 /FEATURE=expanded_cds /DEFINITION=HUMGCAPB Homo sapiens guanylate cyclase activating protein (GCAP) gene exons 1-4, complete cds'], 'Representative Public ID': ['U48705', 'M87338', 'X51757', 'X69699', 'L36861'], 'Gene Title': ['discoidin domain receptor tyrosine kinase 1 /// microRNA 4640', 'replication factor C (activator 1) 2, 40kDa', \"heat shock 70kDa protein 6 (HSP70B')\", 'paired box 8', 'guanylate cyclase activator 1A (retina)'], 'Gene Symbol': ['DDR1 /// MIR4640', 'RFC2', 'HSPA6', 'PAX8', 'GUCA1A'], 'ENTREZ_GENE_ID': ['780 /// 100616237', '5982', '3310', '7849', '2978'], 'RefSeq Transcript ID': ['NM_001202521 /// NM_001202522 /// NM_001202523 /// NM_001954 /// NM_013993 /// NM_013994 /// NR_039783 /// XM_005249385 /// XM_005249386 /// XM_005249387 /// XM_005249389 /// XM_005272873 /// XM_005272874 /// XM_005272875 /// XM_005272877 /// XM_005275027 /// XM_005275028 /// XM_005275030 /// XM_005275031 /// XM_005275162 /// XM_005275163 /// XM_005275164 /// XM_005275166 /// XM_005275457 /// XM_005275458 /// XM_005275459 /// XM_005275461 /// XM_006715185 /// XM_006715186 /// XM_006715187 /// XM_006715188 /// XM_006715189 /// XM_006715190 /// XM_006725501 /// XM_006725502 /// XM_006725503 /// XM_006725504 /// XM_006725505 /// XM_006725506 /// XM_006725714 /// XM_006725715 /// XM_006725716 /// XM_006725717 /// XM_006725718 /// XM_006725719 /// XM_006725720 /// XM_006725721 /// XM_006725722 /// XM_006725827 /// XM_006725828 /// XM_006725829 /// XM_006725830 /// XM_006725831 /// XM_006725832 /// XM_006726017 /// XM_006726018 /// XM_006726019 /// XM_006726020 /// XM_006726021 /// XM_006726022 /// XR_427836 /// XR_430858 /// XR_430938 /// XR_430974 /// XR_431015', 'NM_001278791 /// NM_001278792 /// NM_001278793 /// NM_002914 /// NM_181471 /// XM_006716080', 'NM_002155', 'NM_003466 /// NM_013951 /// NM_013952 /// NM_013953 /// NM_013992', 'NM_000409 /// XM_006715073'], 'Gene Ontology Biological Process': ['0001558 // regulation of cell growth // inferred from electronic annotation /// 0001952 // regulation of cell-matrix adhesion // inferred from electronic annotation /// 0006468 // protein phosphorylation // inferred from electronic annotation /// 0007155 // cell adhesion // traceable author statement /// 0007169 // transmembrane receptor protein tyrosine kinase signaling pathway // inferred from electronic annotation /// 0007565 // female pregnancy // inferred from electronic annotation /// 0007566 // embryo implantation // inferred from electronic annotation /// 0007595 // lactation // inferred from electronic annotation /// 0008285 // negative regulation of cell proliferation // inferred from electronic annotation /// 0010715 // regulation of extracellular matrix disassembly // inferred from mutant phenotype /// 0014909 // smooth muscle cell migration // inferred from mutant phenotype /// 0016310 // phosphorylation // inferred from electronic annotation /// 0018108 // peptidyl-tyrosine phosphorylation // inferred from electronic annotation /// 0030198 // extracellular matrix organization // traceable author statement /// 0038063 // collagen-activated tyrosine kinase receptor signaling pathway // inferred from direct assay /// 0038063 // collagen-activated tyrosine kinase receptor signaling pathway // inferred from mutant phenotype /// 0038083 // peptidyl-tyrosine autophosphorylation // inferred from direct assay /// 0043583 // ear development // inferred from electronic annotation /// 0044319 // wound healing, spreading of cells // inferred from mutant phenotype /// 0046777 // protein autophosphorylation // inferred from direct assay /// 0060444 // branching involved in mammary gland duct morphogenesis // inferred from electronic annotation /// 0060749 // mammary gland alveolus development // inferred from electronic annotation /// 0061302 // smooth muscle cell-matrix adhesion // inferred from mutant phenotype', '0000278 // mitotic cell cycle // traceable author statement /// 0000722 // telomere maintenance via recombination // traceable author statement /// 0000723 // telomere maintenance // traceable author statement /// 0006260 // DNA replication // traceable author statement /// 0006271 // DNA strand elongation involved in DNA replication // traceable author statement /// 0006281 // DNA repair // traceable author statement /// 0006283 // transcription-coupled nucleotide-excision repair // traceable author statement /// 0006289 // nucleotide-excision repair // traceable author statement /// 0006297 // nucleotide-excision repair, DNA gap filling // traceable author statement /// 0015979 // photosynthesis // inferred from electronic annotation /// 0015995 // chlorophyll biosynthetic process // inferred from electronic annotation /// 0032201 // telomere maintenance via semi-conservative replication // traceable author statement', '0000902 // cell morphogenesis // inferred from electronic annotation /// 0006200 // ATP catabolic process // inferred from direct assay /// 0006950 // response to stress // inferred from electronic annotation /// 0006986 // response to unfolded protein // traceable author statement /// 0034605 // cellular response to heat // inferred from direct assay /// 0042026 // protein refolding // inferred from direct assay /// 0070370 // cellular heat acclimation // inferred from mutant phenotype', '0001655 // urogenital system development // inferred from sequence or structural similarity /// 0001656 // metanephros development // inferred from electronic annotation /// 0001658 // branching involved in ureteric bud morphogenesis // inferred from expression pattern /// 0001822 // kidney development // inferred from expression pattern /// 0001823 // mesonephros development // inferred from sequence or structural similarity /// 0003337 // mesenchymal to epithelial transition involved in metanephros morphogenesis // inferred from expression pattern /// 0006351 // transcription, DNA-templated // inferred from direct assay /// 0006355 // regulation of transcription, DNA-templated // inferred from electronic annotation /// 0007275 // multicellular organismal development // inferred from electronic annotation /// 0007417 // central nervous system development // inferred from expression pattern /// 0009653 // anatomical structure morphogenesis // traceable author statement /// 0030154 // cell differentiation // inferred from electronic annotation /// 0030878 // thyroid gland development // inferred from expression pattern /// 0030878 // thyroid gland development // inferred from mutant phenotype /// 0038194 // thyroid-stimulating hormone signaling pathway // traceable author statement /// 0039003 // pronephric field specification // inferred from sequence or structural similarity /// 0042472 // inner ear morphogenesis // inferred from sequence or structural similarity /// 0042981 // regulation of apoptotic process // inferred from sequence or structural similarity /// 0045893 // positive regulation of transcription, DNA-templated // inferred from direct assay /// 0045893 // positive regulation of transcription, DNA-templated // inferred from sequence or structural similarity /// 0045944 // positive regulation of transcription from RNA polymerase II promoter // inferred from direct assay /// 0048793 // pronephros development // inferred from sequence or structural similarity /// 0071371 // cellular response to gonadotropin stimulus // inferred from direct assay /// 0071599 // otic vesicle development // inferred from expression pattern /// 0072050 // S-shaped body morphogenesis // inferred from electronic annotation /// 0072073 // kidney epithelium development // inferred from electronic annotation /// 0072108 // positive regulation of mesenchymal to epithelial transition involved in metanephros morphogenesis // inferred from sequence or structural similarity /// 0072164 // mesonephric tubule development // inferred from electronic annotation /// 0072207 // metanephric epithelium development // inferred from expression pattern /// 0072221 // metanephric distal convoluted tubule development // inferred from sequence or structural similarity /// 0072278 // metanephric comma-shaped body morphogenesis // inferred from expression pattern /// 0072284 // metanephric S-shaped body morphogenesis // inferred from expression pattern /// 0072289 // metanephric nephron tubule formation // inferred from sequence or structural similarity /// 0072305 // negative regulation of mesenchymal cell apoptotic process involved in metanephric nephron morphogenesis // inferred from sequence or structural similarity /// 0072307 // regulation of metanephric nephron tubule epithelial cell differentiation // inferred from sequence or structural similarity /// 0090190 // positive regulation of branching involved in ureteric bud morphogenesis // inferred from sequence or structural similarity /// 1900212 // negative regulation of mesenchymal cell apoptotic process involved in metanephros development // inferred from sequence or structural similarity /// 1900215 // negative regulation of apoptotic process involved in metanephric collecting duct development // inferred from sequence or structural similarity /// 1900218 // negative regulation of apoptotic process involved in metanephric nephron tubule development // inferred from sequence or structural similarity /// 2000594 // positive regulation of metanephric DCT cell differentiation // inferred from sequence or structural similarity /// 2000611 // positive regulation of thyroid hormone generation // inferred from mutant phenotype /// 2000612 // regulation of thyroid-stimulating hormone secretion // inferred from mutant phenotype', '0007165 // signal transduction // non-traceable author statement /// 0007601 // visual perception // inferred from electronic annotation /// 0007602 // phototransduction // inferred from electronic annotation /// 0007603 // phototransduction, visible light // traceable author statement /// 0016056 // rhodopsin mediated signaling pathway // traceable author statement /// 0022400 // regulation of rhodopsin mediated signaling pathway // traceable author statement /// 0030828 // positive regulation of cGMP biosynthetic process // inferred from electronic annotation /// 0031282 // regulation of guanylate cyclase activity // inferred from electronic annotation /// 0031284 // positive regulation of guanylate cyclase activity // inferred from electronic annotation /// 0050896 // response to stimulus // inferred from electronic annotation'], 'Gene Ontology Cellular Component': ['0005576 // extracellular region // inferred from electronic annotation /// 0005615 // extracellular space // inferred from direct assay /// 0005886 // plasma membrane // traceable author statement /// 0005887 // integral component of plasma membrane // traceable author statement /// 0016020 // membrane // inferred from electronic annotation /// 0016021 // integral component of membrane // inferred from electronic annotation /// 0043235 // receptor complex // inferred from direct assay /// 0070062 // extracellular vesicular exosome // inferred from direct assay', '0005634 // nucleus // inferred from electronic annotation /// 0005654 // nucleoplasm // traceable author statement /// 0005663 // DNA replication factor C complex // inferred from direct assay', '0005737 // cytoplasm // inferred from direct assay /// 0005814 // centriole // inferred from direct assay /// 0005829 // cytosol // inferred from direct assay /// 0008180 // COP9 signalosome // inferred from direct assay /// 0070062 // extracellular vesicular exosome // inferred from direct assay /// 0072562 // blood microparticle // inferred from direct assay', '0005634 // nucleus // inferred from direct assay /// 0005654 // nucleoplasm // inferred from sequence or structural similarity /// 0005730 // nucleolus // inferred from direct assay', '0001750 // photoreceptor outer segment // inferred from electronic annotation /// 0001917 // photoreceptor inner segment // inferred from electronic annotation /// 0005578 // proteinaceous extracellular matrix // inferred from electronic annotation /// 0005886 // plasma membrane // inferred from direct assay /// 0016020 // membrane // inferred from electronic annotation /// 0097381 // photoreceptor disc membrane // traceable author statement'], 'Gene Ontology Molecular Function': ['0000166 // nucleotide binding // inferred from electronic annotation /// 0004672 // protein kinase activity // inferred from electronic annotation /// 0004713 // protein tyrosine kinase activity // inferred from electronic annotation /// 0004714 // transmembrane receptor protein tyrosine kinase activity // traceable author statement /// 0005515 // protein binding // inferred from physical interaction /// 0005518 // collagen binding // inferred from direct assay /// 0005518 // collagen binding // inferred from mutant phenotype /// 0005524 // ATP binding // inferred from electronic annotation /// 0016301 // kinase activity // inferred from electronic annotation /// 0016740 // transferase activity // inferred from electronic annotation /// 0016772 // transferase activity, transferring phosphorus-containing groups // inferred from electronic annotation /// 0038062 // protein tyrosine kinase collagen receptor activity // inferred from direct assay /// 0046872 // metal ion binding // inferred from electronic annotation', '0000166 // nucleotide binding // inferred from electronic annotation /// 0003677 // DNA binding // inferred from electronic annotation /// 0005515 // protein binding // inferred from physical interaction /// 0005524 // ATP binding // inferred from electronic annotation /// 0016851 // magnesium chelatase activity // inferred from electronic annotation /// 0017111 // nucleoside-triphosphatase activity // inferred from electronic annotation', '0000166 // nucleotide binding // inferred from electronic annotation /// 0005524 // ATP binding // inferred from electronic annotation /// 0019899 // enzyme binding // inferred from physical interaction /// 0031072 // heat shock protein binding // inferred from physical interaction /// 0042623 // ATPase activity, coupled // inferred from direct assay /// 0051082 // unfolded protein binding // inferred from direct assay', '0000979 // RNA polymerase II core promoter sequence-specific DNA binding // inferred from direct assay /// 0003677 // DNA binding // inferred from direct assay /// 0003677 // DNA binding // inferred from mutant phenotype /// 0003700 // sequence-specific DNA binding transcription factor activity // inferred from direct assay /// 0004996 // thyroid-stimulating hormone receptor activity // traceable author statement /// 0005515 // protein binding // inferred from physical interaction /// 0044212 // transcription regulatory region DNA binding // inferred from direct assay', '0005509 // calcium ion binding // inferred from electronic annotation /// 0008048 // calcium sensitive guanylate cyclase activator activity // inferred from electronic annotation /// 0030249 // guanylate cyclase regulator activity // inferred from electronic annotation /// 0046872 // metal ion binding // inferred from electronic annotation']}\n"
     ]
    }
   ],
   "source": [
    "# 1. Use the 'get_gene_annotation' function from the library to get gene annotation data from the soft file.\n",
    "gene_annotation = get_gene_annotation(soft_file)\n",
    "\n",
    "# 2. Use the 'preview_df' function from the library to preview the data and print out the results.\n",
    "print(\"Gene annotation preview:\")\n",
    "print(preview_df(gene_annotation))\n"
   ]
  },
  {
   "cell_type": "markdown",
   "id": "72937ca1",
   "metadata": {},
   "source": [
    "### Step 6: Gene Identifier Mapping"
   ]
  },
  {
   "cell_type": "code",
   "execution_count": 7,
   "id": "bf0138ed",
   "metadata": {
    "execution": {
     "iopub.execute_input": "2024-06-12T09:50:28.110542Z",
     "iopub.status.busy": "2024-06-12T09:50:28.110391Z",
     "iopub.status.idle": "2024-06-12T09:50:28.851886Z",
     "shell.execute_reply": "2024-06-12T09:50:28.851438Z"
    }
   },
   "outputs": [
    {
     "name": "stdout",
     "output_type": "stream",
     "text": [
      "{'GSM873748': [7.02143, 3.99158, 3.99158, 2.68914, 3.21356], 'GSM873749': [7.13402, 3.79929, 3.79929, 2.56659, 3.22859], 'GSM873750': [7.16147, 3.6665, 3.6665, 2.85174, 2.84358], 'GSM873751': [6.64351, 3.97479, 3.97479, 2.55753, 3.18672], 'GSM873752': [6.82251, 4.03708, 4.03708, 2.89281, 3.29246], 'GSM873753': [7.35671, 3.87646, 3.87646, 2.6447, 3.36356], 'GSM873754': [7.25638, 3.92406, 3.92406, 2.71165, 3.07434], 'GSM873755': [7.12382, 3.8876, 3.8876, 2.64236, 3.34501], 'GSM873756': [6.96944, 4.25138, 4.25138, 2.71493, 3.45668], 'GSM873758': [6.99481, 4.47985, 4.47985, 2.73072, 2.90601], 'GSM873759': [7.40452, 3.98811, 3.98811, 2.60028, 3.22297], 'GSM873760': [7.67058, 3.80658, 3.80658, 2.62301, 3.12619], 'GSM873761': [7.432, 3.89335, 3.89335, 2.76384, 3.0608], 'GSM873762': [7.21408, 4.46145, 4.46145, 2.69274, 3.48044], 'GSM873763': [7.40886, 3.97873, 3.97873, 2.59636, 3.01807], 'GSM873764': [7.31359, 3.83514, 3.83514, 2.60078, 3.48415], 'GSM873765': [7.65783, 4.00817, 4.00817, 2.56258, 2.70627], 'GSM873766': [7.39204, 3.99911, 3.99911, 2.47229, 3.27227], 'GSM873767': [7.26503, 3.81345, 3.81345, 2.61728, 3.37198], 'GSM873768': [7.22721, 4.08909, 4.08909, 2.53828, 2.61839], 'GSM873769': [7.30278, 4.04197, 4.04197, 2.84417, 2.73265], 'GSM873770': [6.98762, 3.92019, 3.92019, 2.67798, 2.98239], 'GSM873771': [7.30731, 3.99422, 3.99422, 2.77616, 2.79961], 'GSM873772': [7.51509, 3.89758, 3.89758, 2.54058, 3.07223], 'GSM873773': [7.27456, 3.86392, 3.86392, 2.67798, 3.01783], 'GSM873774': [6.86582, 3.92157, 3.92157, 2.46896, 3.38635], 'GSM873775': [7.00571, 4.13796, 4.13796, 2.71635, 3.10548], 'GSM873776': [7.23282, 4.01681, 4.01681, 2.61949, 3.13022], 'GSM873777': [7.0557, 4.08479, 4.08479, 2.96299, 2.97477], 'GSM873778': [6.93384, 3.94769, 3.94769, 2.59164, 3.11906], 'GSM873779': [6.8285, 4.04399, 4.04399, 2.54086, 3.26266], 'GSM873780': [6.97368, 4.20938, 4.20938, 2.67798, 3.20882], 'GSM873781': [7.04845, 4.03587, 4.03587, 2.72822, 3.32428], 'GSM873782': [6.96064, 4.22208, 4.22208, 2.71635, 3.12036], 'GSM873783': [6.92688, 3.96734, 3.96734, 2.61462, 3.1667], 'GSM873784': [6.62467, 4.09105, 4.09105, 2.69915, 3.54369], 'GSM873785': [6.79412, 4.03319, 4.03319, 2.73723, 3.43537], 'GSM873786': [6.99657, 3.83815, 3.83815, 2.53395, 2.95922], 'GSM873787': [7.0405, 4.05323, 4.05323, 2.85724, 3.24308], 'GSM873788': [7.01958, 3.89915, 3.89915, 2.63752, 2.89919], 'GSM873789': [7.02792, 3.8124, 3.8124, 2.675, 2.96513], 'GSM873790': [7.33789, 3.73281, 3.73281, 2.73243, 3.12434], 'GSM873791': [7.18858, 3.92339, 3.92339, 2.74794, 2.7191], 'GSM873792': [7.2542, 3.97873, 3.97873, 2.79427, 3.2614], 'GSM873793': [7.15176, 3.88889, 3.88889, 2.63644, 3.07339], 'GSM873794': [7.0441, 3.87569, 3.87569, 2.5638, 3.37343], 'GSM873795': [7.15539, 3.85616, 3.85616, 2.90655, 3.43945], 'GSM873796': [7.14817, 3.95702, 3.95702, 2.70203, 3.05585], 'GSM873797': [6.97999, 4.03641, 4.03641, 2.985, 3.3018], 'GSM873800': [7.15227, 3.32993, 3.32993, 3.03123, 3.32837], 'GSM873801': [7.11026, 3.08468, 3.08468, 2.98496, 3.65833], 'GSM873802': [7.42021, 3.60294, 3.60294, 2.63718, 2.95675], 'GSM873803': [7.65502, 3.36462, 3.36462, 2.75946, 3.43036], 'GSM873804': [7.34239, 3.44293, 3.44293, 3.02908, 3.44704], 'GSM873805': [7.24525, 3.14662, 3.14662, 2.92898, 3.63554], 'GSM873806': [7.68015, 3.43425, 3.43425, 2.83903, 3.30404], 'GSM873807': [7.55393, 3.30677, 3.30677, 3.10352, 3.51421], 'GSM873808': [7.23795, 3.35977, 3.35977, 2.97527, 3.52713], 'GSM873809': [7.46521, 3.25684, 3.25684, 2.95174, 3.65843], 'GSM873810': [7.33465, 3.16898, 3.16898, 2.97869, 3.5597], 'GSM873811': [7.31342, 3.41036, 3.41036, 3.23821, 3.75558], 'GSM873833': [6.82217, 3.93187, 3.93187, 2.61043, 3.44845], 'GSM873834': [6.91281, 4.0087, 4.0087, 2.6491, 3.11311], 'GSM873835': [6.84126, 3.94461, 3.94461, 2.59459, 3.22197], 'GSM873836': [6.95663, 3.75241, 3.75241, 2.6583, 3.20802], 'GSM873837': [6.83419, 3.91667, 3.91667, 2.58894, 3.24413], 'GSM873838': [6.41233, 3.98511, 3.98511, 2.76905, 3.58166], 'GSM873839': [6.58981, 3.83296, 3.83296, 2.66481, 3.45455], 'GSM873840': [6.81744, 3.76607, 3.76607, 2.49538, 2.97248], 'GSM873841': [6.80308, 3.77857, 3.77857, 2.53792, 3.1147], 'GSM873842': [6.8107, 3.6894, 3.6894, 2.58646, 2.92504], 'GSM873843': [7.13721, 3.56066, 3.56066, 2.72897, 3.16919], 'GSM873844': [6.98727, 3.74641, 3.74641, 2.62955, 2.94389], 'GSM873845': [7.03284, 3.8729, 3.8729, 2.97701, 3.36875], 'GSM873846': [7.06046, 3.72462, 3.72462, 2.68469, 3.26286], 'GSM873847': [6.87598, 3.80161, 3.80161, 2.43986, 3.56871], 'GSM873848': [7.35074, 3.68061, 3.68061, 1.97659, 3.24121], 'GSM873849': [7.02114, 3.84472, 3.84472, 2.60648, 3.52036], 'GSM873850': [7.48469, 3.85066, 3.85066, 2.4441, 3.21814], 'GSM873851': [7.04868, 3.94739, 3.94739, 2.59526, 3.15219], 'GSM873852': [7.22291, 3.79119, 3.79119, 2.38288, 2.94389], 'GSM873853': [6.88442, 3.85591, 3.85591, 2.72735, 3.12241], 'GSM873854': [6.99338, 3.97282, 3.97282, 2.63202, 3.31281], 'GSM873855': [7.13248, 4.14066, 4.14066, 2.49714, 3.47233], 'GSM873856': [7.2683, 3.61642, 3.61642, 2.55794, 3.43418], 'GSM873857': [7.02067, 3.77457, 3.77457, 2.55375, 3.70234], 'GSM873858': [6.96318, 4.26394, 4.26394, 2.49591, 3.65887], 'GSM873859': [6.9732, 3.86452, 3.86452, 2.9532, 3.25642], 'GSM873860': [7.02179, 3.65458, 3.65458, 2.44754, 3.22865], 'GSM874033': [6.88366, 3.8817, 3.8817, 2.65177, 3.1105], 'GSM874034': [7.11383, 4.22949, 4.22949, 2.56668, 3.26267], 'GSM874035': [7.24807, 4.11834, 4.11834, 2.93281, 3.27448], 'GSM874036': [7.35752, 4.31061, 4.31061, 2.97263, 3.32478], 'GSM874037': [7.0864, 4.29679, 4.29679, 2.95691, 3.22236], 'GSM874038': [6.81279, 4.23582, 4.23582, 2.65656, 2.81189], 'GSM874039': [7.12949, 4.39505, 4.39505, 2.84843, 3.59583], 'GSM874040': [7.39917, 4.15107, 4.15107, 2.58434, 3.20327], 'GSM874041': [7.4615, 4.21699, 4.21699, 2.48174, 3.18545], 'GSM874042': [7.13733, 4.21112, 4.21112, 2.95457, 3.15103], 'GSM874043': [7.36824, 3.96677, 3.96677, 2.68798, 3.35664], 'GSM874044': [6.77964, 4.02776, 4.02776, 2.69968, 3.05126], 'GSM874045': [6.98067, 4.22087, 4.22087, 2.59825, 3.26248], 'GSM874046': [7.05368, 4.69308, 4.69308, 2.78556, 3.067], 'GSM874047': [6.5813, 4.13194, 4.13194, 2.79207, 3.11792], 'GSM874048': [6.93174, 4.72894, 4.72894, 2.43728, 3.55856], 'GSM874049': [6.64688, 4.27331, 4.27331, 2.91721, 3.00893], 'GSM874050': [7.0525, 3.9473, 3.9473, 2.64457, 3.06939], 'GSM874051': [7.19972, 4.26819, 4.26819, 2.90049, 3.27773], 'GSM874052': [7.10736, 4.11869, 4.11869, 2.58725, 2.9668], 'GSM874053': [7.05756, 4.17124, 4.17124, 2.59516, 3.42896], 'GSM874054': [7.3405, 4.392, 4.392, 2.87453, 2.67795], 'GSM874055': [7.16293, 4.10049, 4.10049, 2.81033, 3.08112], 'GSM874056': [6.93588, 4.27143, 4.27143, 2.87936, 3.14782], 'GSM874057': [7.3045, 4.10638, 4.10638, 2.57588, 2.8568], 'GSM874058': [6.51748, 4.22577, 4.22577, 2.71404, 3.79205], 'GSM874059': [6.68175, 4.11147, 4.11147, 2.65912, 3.20082], 'GSM874060': [6.86354, 4.41499, 4.41499, 2.68444, 2.93444], 'GSM874061': [6.787, 4.46577, 4.46577, 2.7693, 3.23195], 'GSM874062': [6.8788, 4.5155, 4.5155, 2.54511, 3.55237], 'GSM874063': [6.96799, 4.2309, 4.2309, 2.6721, 3.30192], 'GSM874064': [6.7781, 4.46071, 4.46071, 2.66198, 3.65409], 'GSM874065': [7.2326, 4.45603, 4.45603, 2.87192, 3.4001], 'GSM874066': [6.95723, 4.40337, 4.40337, 2.66365, 3.46783], 'GSM874067': [6.84468, 4.57844, 4.57844, 2.9433, 3.62381], 'GSM874068': [6.64503, 4.59858, 4.59858, 2.60538, 3.44957], 'GSM874069': [7.02272, 4.08746, 4.08746, 2.65261, 3.21218], 'GSM874070': [6.89281, 4.72135, 4.72135, 2.92514, 3.44545], 'GSM874071': [6.82179, 4.17788, 4.17788, 2.71641, 3.16504], 'GSM874072': [6.70611, 3.91378, 3.91378, 2.7862, 2.9724], 'GSM874073': [7.50435, 4.21907, 4.21907, 2.3871, 3.21844], 'GSM874074': [7.11246, 4.00938, 4.00938, 2.63792, 2.86165], 'GSM874075': [7.27661, 3.88573, 3.88573, 2.62968, 3.02049], 'GSM874076': [7.15146, 4.28853, 4.28853, 2.24342, 2.88936], 'GSM874077': [7.27883, 4.16738, 4.16738, 2.52072, 3.13209], 'GSM874078': [7.243, 4.23358, 4.23358, 2.52624, 2.92683], 'GSM874079': [6.75296, 4.19004, 4.19004, 2.55504, 3.37857], 'GSM874080': [6.73381, 4.44306, 4.44306, 2.65603, 3.30692], 'GSM874081': [6.86222, 4.31997, 4.31997, 2.56194, 3.24974], 'GSM874082': [6.75023, 4.35108, 4.35108, 2.81408, 3.21904], 'GSM874083': [7.1611, 4.30242, 4.30242, 2.43965, 3.20716], 'GSM874084': [6.59151, 4.6258, 4.6258, 3.22375, 3.70116], 'GSM874085': [6.59995, 4.62683, 4.62683, 2.53067, 3.64724], 'GSM874086': [6.8783, 4.2524, 4.2524, 2.53891, 3.56876], 'GSM874087': [6.88406, 4.24562, 4.24562, 2.72706, 3.01194], 'GSM874088': [7.17184, 4.19558, 4.19558, 2.58594, 3.05195], 'GSM874089': [7.29281, 4.38852, 4.38852, 2.59165, 2.81743], 'GSM874090': [7.0933, 3.95516, 3.95516, 2.73992, 2.84963], 'GSM874091': [7.10108, 4.39638, 4.39638, 2.54261, 3.09672], 'GSM874092': [7.17248, 4.25901, 4.25901, 2.39764, 3.07072], 'GSM874093': [7.01565, 4.0379, 4.0379, 2.95712, 3.21875], 'GSM874094': [7.37322, 4.18763, 4.18763, 2.65261, 2.83457], 'GSM874095': [7.18355, 4.18644, 4.18644, 2.68541, 3.13214], 'GSM874096': [7.31607, 4.30329, 4.30329, 2.65742, 3.11402], 'GSM874097': [7.55613, 4.21926, 4.21926, 2.55087, 3.11307], 'GSM874098': [7.00416, 4.19251, 4.19251, 2.66346, 3.30417], 'GSM874099': [7.05712, 4.44963, 4.44963, 2.64315, 3.16826], 'GSM874100': [7.13545, 4.26719, 4.26719, 2.48504, 3.05252], 'GSM874101': [7.1728, 4.22487, 4.22487, 2.54561, 3.13829], 'GSM874102': [7.29929, 4.19373, 4.19373, 2.41992, 3.15351], 'GSM874103': [7.49647, 4.31641, 4.31641, 2.30894, 3.31116], 'GSM874104': [7.22589, 4.26379, 4.26379, 2.49274, 2.93741], 'GSM874105': [7.54307, 4.29421, 4.29421, 2.36108, 3.19352], 'GSM874106': [7.414, 3.91439, 3.91439, 2.41512, 3.0118], 'GSM874107': [7.14444, 3.99163, 3.99163, 2.57842, 3.14036], 'GSM874108': [7.02311, 4.16151, 4.16151, 2.7944, 3.17141], 'GSM874109': [6.69103, 4.07397, 4.07397, 2.68399, 3.14154], 'GSM874110': [6.76036, 4.30356, 4.30356, 2.38957, 2.96715], 'GSM874111': [7.26674, 4.22166, 4.22166, 2.59075, 3.08682], 'GSM874112': [7.34971, 4.44533, 4.44533, 2.5459, 3.25503], 'GSM874113': [6.24209, 4.4786, 4.4786, 2.98206, 3.49996], 'GSM874114': [6.92488, 4.21546, 4.21546, 2.60282, 3.53806], 'GSM874115': [7.2887, 4.38908, 4.38908, 2.40884, 2.88932], 'GSM874116': [7.11851, 4.13165, 4.13165, 2.65647, 2.95667], 'GSM874117': [7.33802, 4.24815, 4.24815, 2.58225, 3.14563], 'GSM874118': [7.52869, 4.02132, 4.02132, 2.49429, 3.15949], 'GSM874119': [7.70257, 3.96251, 3.96251, 2.64025, 2.9747], 'GSM874120': [7.62766, 3.94912, 3.94912, 2.18542, 2.96461], 'GSM874121': [7.2102, 3.86901, 3.86901, 2.62127, 3.38985], 'GSM874122': [6.93327, 4.22771, 4.22771, 2.49646, 3.06717], 'GSM874123': [7.09956, 4.12903, 4.12903, 2.28918, 3.15537], 'GSM874124': [6.92295, 4.16884, 4.16884, 2.857, 3.29896], 'GSM874125': [7.33406, 4.24205, 4.24205, 2.73031, 3.25379], 'GSM874126': [7.46337, 3.93648, 3.93648, 2.46899, 2.99586], 'GSM874127': [7.1377, 4.10246, 4.10246, 2.6367, 3.13506], 'GSM874128': [7.72397, 4.08245, 4.08245, 2.32404, 3.0963], 'GSM874129': [7.09645, 4.46198, 4.46198, 2.70768, 3.49186], 'GSM874130': [7.1362, 4.10119, 4.10119, 2.64001, 3.2586], 'GSM874131': [7.15057, 4.22771, 4.22771, 2.57522, 3.24993], 'GSM874132': [7.26505, 4.33499, 4.33499, 2.83039, 3.3808], 'GSM874133': [7.21739, 4.46222, 4.46222, 2.61741, 3.44402], 'GSM874134': [7.29149, 4.14029, 4.14029, 2.71404, 3.16775], 'GSM874135': [7.06112, 4.20068, 4.20068, 2.59582, 3.30504], 'GSM874136': [7.11422, 4.12632, 4.12632, 2.61184, 3.37076], 'GSM874137': [6.81795, 4.33517, 4.33517, 2.62096, 3.42992], 'GSM874138': [7.23117, 4.03787, 4.03787, 2.67825, 3.00483], 'GSM874139': [7.26148, 4.21267, 4.21267, 2.70107, 3.31279], 'GSM874140': [7.48782, 3.95649, 3.95649, 2.68839, 3.04784], 'GSM874141': [7.40516, 3.99541, 3.99541, 2.64626, 3.39498], 'GSM874142': [7.38341, 4.14367, 4.14367, 2.45881, 3.36992], 'GSM874143': [7.326, 4.25738, 4.25738, 2.81614, 2.96125]}\n"
     ]
    }
   ],
   "source": [
    "# 1. Identify the keys for identifiers and gene symbols in the gene annotation dictionary\n",
    "identifier_key = 'ID'\n",
    "gene_symbol_key = 'Gene Symbol'\n",
    "\n",
    "# 2. Get the dataframe storing the mapping between probe IDs and genes\n",
    "gene_mapping = get_gene_mapping(gene_annotation, identifier_key, gene_symbol_key)\n",
    "\n",
    "# 3. Apply the mapping and name the resulting gene expression dataframe \"gene_data\"\n",
    "gene_data = apply_gene_mapping(gene_data, gene_mapping)\n",
    "print(preview_df(gene_data))\n"
   ]
  },
  {
   "cell_type": "markdown",
   "id": "100ebf67",
   "metadata": {},
   "source": [
    "### Step 7: Data Normalization and Merging"
   ]
  },
  {
   "cell_type": "code",
   "execution_count": 8,
   "id": "e4063d37",
   "metadata": {
    "execution": {
     "iopub.execute_input": "2024-06-12T09:50:28.853740Z",
     "iopub.status.busy": "2024-06-12T09:50:28.853604Z",
     "iopub.status.idle": "2024-06-12T09:51:33.826845Z",
     "shell.execute_reply": "2024-06-12T09:51:33.826418Z"
    }
   },
   "outputs": [
    {
     "name": "stdout",
     "output_type": "stream",
     "text": [
      "For the feature 'Cystic_Fibrosis', the least common label is '1.0' with 20 occurrences. This represents 9.85% of the dataset.\n",
      "The distribution of the feature 'Cystic_Fibrosis' in this dataset is fine.\n",
      "\n"
     ]
    }
   ],
   "source": [
    "# 1. Normalize the obtained gene data with the 'normalize_gene_symbols_in_index' function from the library.\n",
    "normalized_gene_data = normalize_gene_symbols_in_index(gene_data)\n",
    "gene_csv_path = './preprocessed/Cystic_Fibrosis/gene_data/GSE35713.csv'\n",
    "normalized_gene_data.to_csv(gene_csv_path)\n",
    "\n",
    "# 2. Merge the clinical and genetic data with the 'geo_merge_clinical_genetic_data' function from the library.\n",
    "merged_data = geo_merge_clinical_genetic_data(selected_clinical_data, normalized_gene_data)\n",
    "\n",
    "# 3. Determine whether the trait and some demographic attributes in the data is severely biased, and remove biased attributes.\n",
    "trait_biased, unbiased_merged_data = judge_and_remove_biased_features(merged_data, 'Cystic_Fibrosis')\n",
    "\n",
    "# 4. Save the cohort information.\n",
    "save_cohort_info('GSE35713', './preprocessed/Cystic_Fibrosis/cohort_info.json', True, True, trait_biased, merged_data)\n",
    "\n",
    "# 5. If the trait is not severely biased, save the merged data to a csv file.\n",
    "if not trait_biased:\n",
    "    csv_path = './preprocessed/Cystic_Fibrosis/GSE35713.csv'\n",
    "    unbiased_merged_data.to_csv(csv_path)\n"
   ]
  }
 ],
 "metadata": {
  "language_info": {
   "codemirror_mode": {
    "name": "ipython",
    "version": 3
   },
   "file_extension": ".py",
   "mimetype": "text/x-python",
   "name": "python",
   "nbconvert_exporter": "python",
   "pygments_lexer": "ipython3",
   "version": "3.8.17"
  }
 },
 "nbformat": 4,
 "nbformat_minor": 5
}
