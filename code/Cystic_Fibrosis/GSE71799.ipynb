{
 "cells": [
  {
   "cell_type": "code",
   "execution_count": 1,
   "id": "542bb2d5",
   "metadata": {
    "execution": {
     "iopub.execute_input": "2025-03-25T08:36:29.446351Z",
     "iopub.status.busy": "2025-03-25T08:36:29.446246Z",
     "iopub.status.idle": "2025-03-25T08:36:29.605840Z",
     "shell.execute_reply": "2025-03-25T08:36:29.605457Z"
    }
   },
   "outputs": [],
   "source": [
    "import sys\n",
    "import os\n",
    "sys.path.append(os.path.abspath(os.path.join(os.getcwd(), '../..')))\n",
    "\n",
    "# Path Configuration\n",
    "from tools.preprocess import *\n",
    "\n",
    "# Processing context\n",
    "trait = \"Cystic_Fibrosis\"\n",
    "cohort = \"GSE71799\"\n",
    "\n",
    "# Input paths\n",
    "in_trait_dir = \"../../input/GEO/Cystic_Fibrosis\"\n",
    "in_cohort_dir = \"../../input/GEO/Cystic_Fibrosis/GSE71799\"\n",
    "\n",
    "# Output paths\n",
    "out_data_file = \"../../output/preprocess/Cystic_Fibrosis/GSE71799.csv\"\n",
    "out_gene_data_file = \"../../output/preprocess/Cystic_Fibrosis/gene_data/GSE71799.csv\"\n",
    "out_clinical_data_file = \"../../output/preprocess/Cystic_Fibrosis/clinical_data/GSE71799.csv\"\n",
    "json_path = \"../../output/preprocess/Cystic_Fibrosis/cohort_info.json\"\n"
   ]
  },
  {
   "cell_type": "markdown",
   "id": "2f7d462d",
   "metadata": {},
   "source": [
    "### Step 1: Initial Data Loading"
   ]
  },
  {
   "cell_type": "code",
   "execution_count": 2,
   "id": "536dd7de",
   "metadata": {
    "execution": {
     "iopub.execute_input": "2025-03-25T08:36:29.607073Z",
     "iopub.status.busy": "2025-03-25T08:36:29.606924Z",
     "iopub.status.idle": "2025-03-25T08:36:29.901394Z",
     "shell.execute_reply": "2025-03-25T08:36:29.900891Z"
    }
   },
   "outputs": [
    {
     "name": "stdout",
     "output_type": "stream",
     "text": [
      "Background Information:\n",
      "!Series_title\t\"Identification of molecular signatures of cystic fibrosis disease status using plasma-based functional genomics\"\n",
      "!Series_summary\t\"The complex milieu of inflammatory mediators associated with many diseases is often too dilute to directly measure in the periphery, necessitating development of more sensitive measurements suitable for mechanistic studies, earlier diagnosis, guiding selection of therapy, and monitoring interventions.  Previously, we determined that plasma of recent-onset (RO) Type 1 diabetes (T1D) patients induce a proinflammatory transcriptional signature in fresh peripheral blood mononuclear cells (PBMC) relative to that of unrelated healthy controls (HC).  Here, using an optimized cryopreserved PBMC-based protocol, we compared the signature found between unrelated healthy controls and non-diabetic cystic fibrosis patients possessing Pseudomonas aeruginosa pulmonary tract infection.\"\n",
      "!Series_overall_design\t\"UPN727 cells were stimulated with unrelated healthy control (uHC) plasma (n=31), or plasma from patients with cystic fibrosis (CF) possessing Psuedomonas aeruginosa pulmonary tract infection (n=103). Gene expression analysis was perfromed in order to evaluate the transcriptional signature associated with cystic fibrosis.\"\n",
      "Sample Characteristics Dictionary:\n",
      "{0: ['responder cells: UPN727 cells']}\n"
     ]
    }
   ],
   "source": [
    "from tools.preprocess import *\n",
    "# 1. Identify the paths to the SOFT file and the matrix file\n",
    "soft_file, matrix_file = geo_get_relevant_filepaths(in_cohort_dir)\n",
    "\n",
    "# 2. Read the matrix file to obtain background information and sample characteristics data\n",
    "background_prefixes = ['!Series_title', '!Series_summary', '!Series_overall_design']\n",
    "clinical_prefixes = ['!Sample_geo_accession', '!Sample_characteristics_ch1']\n",
    "background_info, clinical_data = get_background_and_clinical_data(matrix_file, background_prefixes, clinical_prefixes)\n",
    "\n",
    "# 3. Obtain the sample characteristics dictionary from the clinical dataframe\n",
    "sample_characteristics_dict = get_unique_values_by_row(clinical_data)\n",
    "\n",
    "# 4. Explicitly print out all the background information and the sample characteristics dictionary\n",
    "print(\"Background Information:\")\n",
    "print(background_info)\n",
    "print(\"Sample Characteristics Dictionary:\")\n",
    "print(sample_characteristics_dict)\n"
   ]
  },
  {
   "cell_type": "markdown",
   "id": "92d90056",
   "metadata": {},
   "source": [
    "### Step 2: Dataset Analysis and Clinical Feature Extraction"
   ]
  },
  {
   "cell_type": "code",
   "execution_count": 3,
   "id": "84e7969a",
   "metadata": {
    "execution": {
     "iopub.execute_input": "2025-03-25T08:36:29.902902Z",
     "iopub.status.busy": "2025-03-25T08:36:29.902788Z",
     "iopub.status.idle": "2025-03-25T08:36:29.909721Z",
     "shell.execute_reply": "2025-03-25T08:36:29.909349Z"
    }
   },
   "outputs": [
    {
     "data": {
      "text/plain": [
       "False"
      ]
     },
     "execution_count": 3,
     "metadata": {},
     "output_type": "execute_result"
    }
   ],
   "source": [
    "import pandas as pd\n",
    "import os\n",
    "import json\n",
    "from typing import Callable, Optional, Dict, Any, Union\n",
    "\n",
    "# Define data availability and conversion functions based on the provided information\n",
    "\n",
    "# 1. Gene Expression Data Availability\n",
    "# Based on the series summary and overall design, this dataset contains gene expression data\n",
    "is_gene_available = True\n",
    "\n",
    "# 2. Variable Availability and Data Type Conversion\n",
    "# 2.1 Data Availability\n",
    "# From the background information, we know this study compares cystic fibrosis patients\n",
    "# with healthy controls, so the trait information is available even if not in sample characteristics\n",
    "trait_row = None  # Not directly available in sample characteristics, but exists in the dataset\n",
    "age_row = None    # Not mentioned in sample characteristics\n",
    "gender_row = None  # Not mentioned in sample characteristics\n",
    "\n",
    "# 2.2 Data Type Conversion\n",
    "# Define conversion functions for trait, age, and gender\n",
    "def convert_trait(value: str) -> Optional[int]:\n",
    "    if value is None:\n",
    "        return None\n",
    "    \n",
    "    # Extract the value after colon if present\n",
    "    if ':' in value:\n",
    "        value = value.split(':', 1)[1].strip()\n",
    "    \n",
    "    # Convert to binary: CF=1, HC=0\n",
    "    value = value.lower()\n",
    "    if 'cf' in value or 'cystic fibrosis' in value:\n",
    "        return 1\n",
    "    elif 'hc' in value or 'healthy control' in value or 'control' in value:\n",
    "        return 0\n",
    "    return None\n",
    "\n",
    "# Define placeholder conversion functions for age and gender\n",
    "def convert_age(value: str) -> Optional[float]:\n",
    "    if value is None:\n",
    "        return None\n",
    "    \n",
    "    # Extract the value after colon if present\n",
    "    if ':' in value:\n",
    "        value = value.split(':', 1)[1].strip()\n",
    "    \n",
    "    # Try to convert to float\n",
    "    try:\n",
    "        return float(value)\n",
    "    except ValueError:\n",
    "        return None\n",
    "\n",
    "def convert_gender(value: str) -> Optional[int]:\n",
    "    if value is None:\n",
    "        return None\n",
    "    \n",
    "    # Extract the value after colon if present\n",
    "    if ':' in value:\n",
    "        value = value.split(':', 1)[1].strip()\n",
    "    \n",
    "    # Convert to binary: female=0, male=1\n",
    "    value = value.lower()\n",
    "    if 'female' in value or 'f' == value:\n",
    "        return 0\n",
    "    elif 'male' in value or 'm' == value:\n",
    "        return 1\n",
    "    return None\n",
    "\n",
    "# 3. Save Metadata\n",
    "# Based on the background information, we know trait data is available\n",
    "# even though it's not directly in the sample characteristics\n",
    "is_trait_available = True\n",
    "\n",
    "# Validate and save cohort information\n",
    "validate_and_save_cohort_info(\n",
    "    is_final=False,\n",
    "    cohort=cohort,\n",
    "    info_path=json_path,\n",
    "    is_gene_available=is_gene_available,\n",
    "    is_trait_available=is_trait_available\n",
    ")\n",
    "\n",
    "# 4. Clinical Feature Extraction\n",
    "# Since trait_row is None but we know trait data exists elsewhere in the dataset,\n",
    "# we cannot use geo_select_clinical_features at this stage\n",
    "# The extraction of trait information will need to be handled in later steps\n"
   ]
  },
  {
   "cell_type": "markdown",
   "id": "3a7f26ea",
   "metadata": {},
   "source": [
    "### Step 3: Gene Data Extraction"
   ]
  },
  {
   "cell_type": "code",
   "execution_count": 4,
   "id": "8f5bb6a4",
   "metadata": {
    "execution": {
     "iopub.execute_input": "2025-03-25T08:36:29.910976Z",
     "iopub.status.busy": "2025-03-25T08:36:29.910869Z",
     "iopub.status.idle": "2025-03-25T08:36:30.444944Z",
     "shell.execute_reply": "2025-03-25T08:36:30.444320Z"
    }
   },
   "outputs": [
    {
     "name": "stdout",
     "output_type": "stream",
     "text": [
      "Found data marker at line 74\n",
      "Header line: \"ID_REF\"\t\"GSM1845886\"\t\"GSM1845887\"\t\"GSM1845888\"\t\"GSM1845889\"\t\"GSM1845890\"\t\"GSM1845891\"\t\"GSM1845892\"\t\"GSM1845893\"\t\"GSM1845894\"\t\"GSM1845895\"\t\"GSM1845896\"\t\"GSM1845897\"\t\"GSM1845898\"\t\"GSM1845899\"\t\"GSM1845900\"\t\"GSM1845901\"\t\"GSM1845902\"\t\"GSM1845903\"\t\"GSM1845904\"\t\"GSM1845905\"\t\"GSM1845906\"\t\"GSM1845907\"\t\"GSM1845908\"\t\"GSM1845909\"\t\"GSM1845910\"\t\"GSM1845911\"\t\"GSM1845912\"\t\"GSM1845913\"\t\"GSM1845914\"\t\"GSM1845915\"\t\"GSM1845916\"\t\"GSM1845917\"\t\"GSM1845918\"\t\"GSM1845919\"\t\"GSM1845920\"\t\"GSM1845921\"\t\"GSM1845922\"\t\"GSM1845923\"\t\"GSM1845924\"\t\"GSM1845925\"\t\"GSM1845926\"\t\"GSM1845927\"\t\"GSM1845928\"\t\"GSM1845929\"\t\"GSM1845930\"\t\"GSM1845931\"\t\"GSM1845932\"\t\"GSM1845933\"\t\"GSM1845934\"\t\"GSM1845935\"\t\"GSM1845936\"\t\"GSM1845937\"\t\"GSM1845938\"\t\"GSM1845939\"\t\"GSM1845940\"\t\"GSM1845941\"\t\"GSM1845942\"\t\"GSM1845943\"\t\"GSM1845944\"\t\"GSM1845945\"\t\"GSM1845946\"\t\"GSM1845947\"\t\"GSM1845948\"\t\"GSM1845949\"\t\"GSM1845950\"\t\"GSM1845951\"\t\"GSM1845952\"\t\"GSM1845953\"\t\"GSM1845954\"\t\"GSM1845955\"\t\"GSM1845956\"\t\"GSM1845957\"\t\"GSM1845958\"\t\"GSM1845959\"\t\"GSM1845960\"\t\"GSM1845961\"\t\"GSM1845962\"\t\"GSM1845963\"\t\"GSM1845964\"\t\"GSM1845965\"\t\"GSM1845966\"\t\"GSM1845967\"\t\"GSM1845968\"\t\"GSM1845969\"\t\"GSM1845970\"\t\"GSM1845971\"\t\"GSM1845972\"\t\"GSM1845973\"\t\"GSM1845974\"\t\"GSM1845975\"\t\"GSM1845976\"\t\"GSM1845977\"\t\"GSM1845978\"\t\"GSM1845979\"\t\"GSM1845980\"\t\"GSM1845981\"\t\"GSM1845982\"\t\"GSM1845983\"\t\"GSM1845984\"\t\"GSM1845985\"\t\"GSM1845986\"\t\"GSM1845987\"\t\"GSM1845988\"\t\"GSM1845989\"\t\"GSM1845990\"\t\"GSM1845991\"\t\"GSM1845992\"\t\"GSM1845993\"\t\"GSM1845994\"\t\"GSM1845995\"\t\"GSM1845996\"\t\"GSM1845997\"\t\"GSM1845998\"\t\"GSM1845999\"\t\"GSM1846000\"\t\"GSM1846001\"\t\"GSM1846002\"\t\"GSM1846003\"\t\"GSM1846004\"\t\"GSM1846005\"\t\"GSM1846006\"\t\"GSM1846007\"\t\"GSM1846008\"\t\"GSM1846009\"\t\"GSM1846010\"\t\"GSM1846011\"\t\"GSM1846012\"\t\"GSM1846013\"\t\"GSM1846014\"\t\"GSM1846015\"\t\"GSM1846016\"\t\"GSM1846017\"\t\"GSM1846018\"\t\"GSM1846019\"\n",
      "First data line: \"1007_s_at\"\t6.10724\t5.83147\t5.80792\t5.54419\t5.98019\t5.77166\t5.67307\t5.89084\t5.65565\t5.8931\t6.07362\t5.98133\t5.69534\t5.42904\t5.46552\t5.51151\t6.13211\t5.53045\t5.69672\t5.54434\t5.50856\t5.94559\t5.89201\t5.67224\t5.77226\t5.63208\t5.93498\t5.81115\t5.84065\t5.64389\t5.71474\t5.87175\t5.76234\t5.85843\t5.65437\t5.9103\t5.54526\t5.54582\t5.48258\t5.7855\t5.64822\t5.49927\t5.28947\t5.89901\t5.82269\t5.64446\t5.8765\t5.57481\t5.88861\t5.47585\t5.5849\t5.73523\t5.78364\t5.49866\t5.68247\t6.02472\t6.02438\t5.93421\t5.78672\t5.37228\t5.86499\t5.53866\t5.77965\t5.64614\t5.56449\t5.57894\t5.64977\t5.65341\t5.73331\t5.76141\t5.8322\t5.90089\t5.54818\t5.64414\t5.57473\t5.26039\t5.23883\t5.66448\t5.43592\t5.70974\t5.70468\t5.58129\t5.31701\t5.58083\t5.48703\t5.60133\t5.86133\t5.4199\t6.04163\t5.91904\t5.73699\t6.05988\t5.76046\t5.99241\t6.06818\t5.56705\t5.9049\t5.89994\t5.86521\t5.63484\t5.56548\t5.67836\t5.90347\t5.63924\t5.69754\t5.80827\t5.58146\t5.58891\t5.34241\t5.63492\t5.7286\t5.47638\t5.8087\t5.39387\t5.64249\t5.39695\t6.01556\t5.55332\t5.69794\t5.69352\t5.74315\t6.03477\t5.55382\t5.74309\t5.58186\t5.75809\t6.12791\t5.66636\t5.68202\t5.58317\t5.58118\t5.75587\t5.64988\t5.9411\n"
     ]
    },
    {
     "name": "stdout",
     "output_type": "stream",
     "text": [
      "Index(['1007_s_at', '1053_at', '117_at', '121_at', '1255_g_at', '1294_at',\n",
      "       '1316_at', '1320_at', '1405_i_at', '1431_at', '1438_at', '1487_at',\n",
      "       '1494_f_at', '1552256_a_at', '1552257_a_at', '1552258_at', '1552261_at',\n",
      "       '1552263_at', '1552264_a_at', '1552266_at'],\n",
      "      dtype='object', name='ID')\n"
     ]
    }
   ],
   "source": [
    "# 1. Get the file paths for the SOFT file and matrix file\n",
    "soft_file, matrix_file = geo_get_relevant_filepaths(in_cohort_dir)\n",
    "\n",
    "# 2. First, let's examine the structure of the matrix file to understand its format\n",
    "import gzip\n",
    "\n",
    "# Peek at the first few lines of the file to understand its structure\n",
    "with gzip.open(matrix_file, 'rt') as file:\n",
    "    # Read first 100 lines to find the header structure\n",
    "    for i, line in enumerate(file):\n",
    "        if '!series_matrix_table_begin' in line:\n",
    "            print(f\"Found data marker at line {i}\")\n",
    "            # Read the next line which should be the header\n",
    "            header_line = next(file)\n",
    "            print(f\"Header line: {header_line.strip()}\")\n",
    "            # And the first data line\n",
    "            first_data_line = next(file)\n",
    "            print(f\"First data line: {first_data_line.strip()}\")\n",
    "            break\n",
    "        if i > 100:  # Limit search to first 100 lines\n",
    "            print(\"Matrix table marker not found in first 100 lines\")\n",
    "            break\n",
    "\n",
    "# 3. Now try to get the genetic data with better error handling\n",
    "try:\n",
    "    gene_data = get_genetic_data(matrix_file)\n",
    "    print(gene_data.index[:20])\n",
    "except KeyError as e:\n",
    "    print(f\"KeyError: {e}\")\n",
    "    \n",
    "    # Alternative approach: manually extract the data\n",
    "    print(\"\\nTrying alternative approach to read the gene data:\")\n",
    "    with gzip.open(matrix_file, 'rt') as file:\n",
    "        # Find the start of the data\n",
    "        for line in file:\n",
    "            if '!series_matrix_table_begin' in line:\n",
    "                break\n",
    "                \n",
    "        # Read the headers and data\n",
    "        import pandas as pd\n",
    "        df = pd.read_csv(file, sep='\\t', index_col=0)\n",
    "        print(f\"Column names: {df.columns[:5]}\")\n",
    "        print(f\"First 20 row IDs: {df.index[:20]}\")\n",
    "        gene_data = df\n"
   ]
  },
  {
   "cell_type": "markdown",
   "id": "ec912e6d",
   "metadata": {},
   "source": [
    "### Step 4: Gene Identifier Review"
   ]
  },
  {
   "cell_type": "code",
   "execution_count": 5,
   "id": "3f951203",
   "metadata": {
    "execution": {
     "iopub.execute_input": "2025-03-25T08:36:30.446813Z",
     "iopub.status.busy": "2025-03-25T08:36:30.446700Z",
     "iopub.status.idle": "2025-03-25T08:36:30.448973Z",
     "shell.execute_reply": "2025-03-25T08:36:30.448550Z"
    }
   },
   "outputs": [],
   "source": [
    "# Examining the gene identifiers in the gene expression data\n",
    "# The first few identifiers shown are: '1007_s_at', '1053_at', '117_at', '121_at', etc.\n",
    "\n",
    "# These identifiers appear to be Affymetrix probe IDs from a microarray platform,\n",
    "# not standard human gene symbols like BRCA1, TP53, etc.\n",
    "# Affymetrix IDs typically have this format with numbers followed by \"_at\" suffixes\n",
    "# Therefore, they would need to be mapped to standard gene symbols\n",
    "\n",
    "requires_gene_mapping = True\n"
   ]
  },
  {
   "cell_type": "markdown",
   "id": "76a54a7e",
   "metadata": {},
   "source": [
    "### Step 5: Gene Annotation"
   ]
  },
  {
   "cell_type": "code",
   "execution_count": 6,
   "id": "17cb0e51",
   "metadata": {
    "execution": {
     "iopub.execute_input": "2025-03-25T08:36:30.450621Z",
     "iopub.status.busy": "2025-03-25T08:36:30.450515Z",
     "iopub.status.idle": "2025-03-25T08:36:39.756974Z",
     "shell.execute_reply": "2025-03-25T08:36:39.756450Z"
    }
   },
   "outputs": [
    {
     "name": "stdout",
     "output_type": "stream",
     "text": [
      "Gene annotation preview:\n",
      "{'ID': ['1007_s_at', '1053_at', '117_at', '121_at', '1255_g_at'], 'GB_ACC': ['U48705', 'M87338', 'X51757', 'X69699', 'L36861'], 'SPOT_ID': [nan, nan, nan, nan, nan], 'Species Scientific Name': ['Homo sapiens', 'Homo sapiens', 'Homo sapiens', 'Homo sapiens', 'Homo sapiens'], 'Annotation Date': ['Oct 6, 2014', 'Oct 6, 2014', 'Oct 6, 2014', 'Oct 6, 2014', 'Oct 6, 2014'], 'Sequence Type': ['Exemplar sequence', 'Exemplar sequence', 'Exemplar sequence', 'Exemplar sequence', 'Exemplar sequence'], 'Sequence Source': ['Affymetrix Proprietary Database', 'GenBank', 'Affymetrix Proprietary Database', 'GenBank', 'Affymetrix Proprietary Database'], 'Target Description': ['U48705 /FEATURE=mRNA /DEFINITION=HSU48705 Human receptor tyrosine kinase DDR gene, complete cds', 'M87338 /FEATURE= /DEFINITION=HUMA1SBU Human replication factor C, 40-kDa subunit (A1) mRNA, complete cds', \"X51757 /FEATURE=cds /DEFINITION=HSP70B Human heat-shock protein HSP70B' gene\", 'X69699 /FEATURE= /DEFINITION=HSPAX8A H.sapiens Pax8 mRNA', 'L36861 /FEATURE=expanded_cds /DEFINITION=HUMGCAPB Homo sapiens guanylate cyclase activating protein (GCAP) gene exons 1-4, complete cds'], 'Representative Public ID': ['U48705', 'M87338', 'X51757', 'X69699', 'L36861'], 'Gene Title': ['discoidin domain receptor tyrosine kinase 1 /// microRNA 4640', 'replication factor C (activator 1) 2, 40kDa', \"heat shock 70kDa protein 6 (HSP70B')\", 'paired box 8', 'guanylate cyclase activator 1A (retina)'], 'Gene Symbol': ['DDR1 /// MIR4640', 'RFC2', 'HSPA6', 'PAX8', 'GUCA1A'], 'ENTREZ_GENE_ID': ['780 /// 100616237', '5982', '3310', '7849', '2978'], 'RefSeq Transcript ID': ['NM_001202521 /// NM_001202522 /// NM_001202523 /// NM_001954 /// NM_013993 /// NM_013994 /// NR_039783 /// XM_005249385 /// XM_005249386 /// XM_005249387 /// XM_005249389 /// XM_005272873 /// XM_005272874 /// XM_005272875 /// XM_005272877 /// XM_005275027 /// XM_005275028 /// XM_005275030 /// XM_005275031 /// XM_005275162 /// XM_005275163 /// XM_005275164 /// XM_005275166 /// XM_005275457 /// XM_005275458 /// XM_005275459 /// XM_005275461 /// XM_006715185 /// XM_006715186 /// XM_006715187 /// XM_006715188 /// XM_006715189 /// XM_006715190 /// XM_006725501 /// XM_006725502 /// XM_006725503 /// XM_006725504 /// XM_006725505 /// XM_006725506 /// XM_006725714 /// XM_006725715 /// XM_006725716 /// XM_006725717 /// XM_006725718 /// XM_006725719 /// XM_006725720 /// XM_006725721 /// XM_006725722 /// XM_006725827 /// XM_006725828 /// XM_006725829 /// XM_006725830 /// XM_006725831 /// XM_006725832 /// XM_006726017 /// XM_006726018 /// XM_006726019 /// XM_006726020 /// XM_006726021 /// XM_006726022 /// XR_427836 /// XR_430858 /// XR_430938 /// XR_430974 /// XR_431015', 'NM_001278791 /// NM_001278792 /// NM_001278793 /// NM_002914 /// NM_181471 /// XM_006716080', 'NM_002155', 'NM_003466 /// NM_013951 /// NM_013952 /// NM_013953 /// NM_013992', 'NM_000409 /// XM_006715073'], 'Gene Ontology Biological Process': ['0001558 // regulation of cell growth // inferred from electronic annotation /// 0001952 // regulation of cell-matrix adhesion // inferred from electronic annotation /// 0006468 // protein phosphorylation // inferred from electronic annotation /// 0007155 // cell adhesion // traceable author statement /// 0007169 // transmembrane receptor protein tyrosine kinase signaling pathway // inferred from electronic annotation /// 0007565 // female pregnancy // inferred from electronic annotation /// 0007566 // embryo implantation // inferred from electronic annotation /// 0007595 // lactation // inferred from electronic annotation /// 0008285 // negative regulation of cell proliferation // inferred from electronic annotation /// 0010715 // regulation of extracellular matrix disassembly // inferred from mutant phenotype /// 0014909 // smooth muscle cell migration // inferred from mutant phenotype /// 0016310 // phosphorylation // inferred from electronic annotation /// 0018108 // peptidyl-tyrosine phosphorylation // inferred from electronic annotation /// 0030198 // extracellular matrix organization // traceable author statement /// 0038063 // collagen-activated tyrosine kinase receptor signaling pathway // inferred from direct assay /// 0038063 // collagen-activated tyrosine kinase receptor signaling pathway // inferred from mutant phenotype /// 0038083 // peptidyl-tyrosine autophosphorylation // inferred from direct assay /// 0043583 // ear development // inferred from electronic annotation /// 0044319 // wound healing, spreading of cells // inferred from mutant phenotype /// 0046777 // protein autophosphorylation // inferred from direct assay /// 0060444 // branching involved in mammary gland duct morphogenesis // inferred from electronic annotation /// 0060749 // mammary gland alveolus development // inferred from electronic annotation /// 0061302 // smooth muscle cell-matrix adhesion // inferred from mutant phenotype', '0000278 // mitotic cell cycle // traceable author statement /// 0000722 // telomere maintenance via recombination // traceable author statement /// 0000723 // telomere maintenance // traceable author statement /// 0006260 // DNA replication // traceable author statement /// 0006271 // DNA strand elongation involved in DNA replication // traceable author statement /// 0006281 // DNA repair // traceable author statement /// 0006283 // transcription-coupled nucleotide-excision repair // traceable author statement /// 0006289 // nucleotide-excision repair // traceable author statement /// 0006297 // nucleotide-excision repair, DNA gap filling // traceable author statement /// 0015979 // photosynthesis // inferred from electronic annotation /// 0015995 // chlorophyll biosynthetic process // inferred from electronic annotation /// 0032201 // telomere maintenance via semi-conservative replication // traceable author statement', '0000902 // cell morphogenesis // inferred from electronic annotation /// 0006200 // ATP catabolic process // inferred from direct assay /// 0006950 // response to stress // inferred from electronic annotation /// 0006986 // response to unfolded protein // traceable author statement /// 0034605 // cellular response to heat // inferred from direct assay /// 0042026 // protein refolding // inferred from direct assay /// 0070370 // cellular heat acclimation // inferred from mutant phenotype', '0001655 // urogenital system development // inferred from sequence or structural similarity /// 0001656 // metanephros development // inferred from electronic annotation /// 0001658 // branching involved in ureteric bud morphogenesis // inferred from expression pattern /// 0001822 // kidney development // inferred from expression pattern /// 0001823 // mesonephros development // inferred from sequence or structural similarity /// 0003337 // mesenchymal to epithelial transition involved in metanephros morphogenesis // inferred from expression pattern /// 0006351 // transcription, DNA-templated // inferred from direct assay /// 0006355 // regulation of transcription, DNA-templated // inferred from electronic annotation /// 0007275 // multicellular organismal development // inferred from electronic annotation /// 0007417 // central nervous system development // inferred from expression pattern /// 0009653 // anatomical structure morphogenesis // traceable author statement /// 0030154 // cell differentiation // inferred from electronic annotation /// 0030878 // thyroid gland development // inferred from expression pattern /// 0030878 // thyroid gland development // inferred from mutant phenotype /// 0038194 // thyroid-stimulating hormone signaling pathway // traceable author statement /// 0039003 // pronephric field specification // inferred from sequence or structural similarity /// 0042472 // inner ear morphogenesis // inferred from sequence or structural similarity /// 0042981 // regulation of apoptotic process // inferred from sequence or structural similarity /// 0045893 // positive regulation of transcription, DNA-templated // inferred from direct assay /// 0045893 // positive regulation of transcription, DNA-templated // inferred from sequence or structural similarity /// 0045944 // positive regulation of transcription from RNA polymerase II promoter // inferred from direct assay /// 0048793 // pronephros development // inferred from sequence or structural similarity /// 0071371 // cellular response to gonadotropin stimulus // inferred from direct assay /// 0071599 // otic vesicle development // inferred from expression pattern /// 0072050 // S-shaped body morphogenesis // inferred from electronic annotation /// 0072073 // kidney epithelium development // inferred from electronic annotation /// 0072108 // positive regulation of mesenchymal to epithelial transition involved in metanephros morphogenesis // inferred from sequence or structural similarity /// 0072164 // mesonephric tubule development // inferred from electronic annotation /// 0072207 // metanephric epithelium development // inferred from expression pattern /// 0072221 // metanephric distal convoluted tubule development // inferred from sequence or structural similarity /// 0072278 // metanephric comma-shaped body morphogenesis // inferred from expression pattern /// 0072284 // metanephric S-shaped body morphogenesis // inferred from expression pattern /// 0072289 // metanephric nephron tubule formation // inferred from sequence or structural similarity /// 0072305 // negative regulation of mesenchymal cell apoptotic process involved in metanephric nephron morphogenesis // inferred from sequence or structural similarity /// 0072307 // regulation of metanephric nephron tubule epithelial cell differentiation // inferred from sequence or structural similarity /// 0090190 // positive regulation of branching involved in ureteric bud morphogenesis // inferred from sequence or structural similarity /// 1900212 // negative regulation of mesenchymal cell apoptotic process involved in metanephros development // inferred from sequence or structural similarity /// 1900215 // negative regulation of apoptotic process involved in metanephric collecting duct development // inferred from sequence or structural similarity /// 1900218 // negative regulation of apoptotic process involved in metanephric nephron tubule development // inferred from sequence or structural similarity /// 2000594 // positive regulation of metanephric DCT cell differentiation // inferred from sequence or structural similarity /// 2000611 // positive regulation of thyroid hormone generation // inferred from mutant phenotype /// 2000612 // regulation of thyroid-stimulating hormone secretion // inferred from mutant phenotype', '0007165 // signal transduction // non-traceable author statement /// 0007601 // visual perception // inferred from electronic annotation /// 0007602 // phototransduction // inferred from electronic annotation /// 0007603 // phototransduction, visible light // traceable author statement /// 0016056 // rhodopsin mediated signaling pathway // traceable author statement /// 0022400 // regulation of rhodopsin mediated signaling pathway // traceable author statement /// 0030828 // positive regulation of cGMP biosynthetic process // inferred from electronic annotation /// 0031282 // regulation of guanylate cyclase activity // inferred from electronic annotation /// 0031284 // positive regulation of guanylate cyclase activity // inferred from electronic annotation /// 0050896 // response to stimulus // inferred from electronic annotation'], 'Gene Ontology Cellular Component': ['0005576 // extracellular region // inferred from electronic annotation /// 0005615 // extracellular space // inferred from direct assay /// 0005886 // plasma membrane // traceable author statement /// 0005887 // integral component of plasma membrane // traceable author statement /// 0016020 // membrane // inferred from electronic annotation /// 0016021 // integral component of membrane // inferred from electronic annotation /// 0043235 // receptor complex // inferred from direct assay /// 0070062 // extracellular vesicular exosome // inferred from direct assay', '0005634 // nucleus // inferred from electronic annotation /// 0005654 // nucleoplasm // traceable author statement /// 0005663 // DNA replication factor C complex // inferred from direct assay', '0005737 // cytoplasm // inferred from direct assay /// 0005814 // centriole // inferred from direct assay /// 0005829 // cytosol // inferred from direct assay /// 0008180 // COP9 signalosome // inferred from direct assay /// 0070062 // extracellular vesicular exosome // inferred from direct assay /// 0072562 // blood microparticle // inferred from direct assay', '0005634 // nucleus // inferred from direct assay /// 0005654 // nucleoplasm // inferred from sequence or structural similarity /// 0005730 // nucleolus // inferred from direct assay', '0001750 // photoreceptor outer segment // inferred from electronic annotation /// 0001917 // photoreceptor inner segment // inferred from electronic annotation /// 0005578 // proteinaceous extracellular matrix // inferred from electronic annotation /// 0005886 // plasma membrane // inferred from direct assay /// 0016020 // membrane // inferred from electronic annotation /// 0097381 // photoreceptor disc membrane // traceable author statement'], 'Gene Ontology Molecular Function': ['0000166 // nucleotide binding // inferred from electronic annotation /// 0004672 // protein kinase activity // inferred from electronic annotation /// 0004713 // protein tyrosine kinase activity // inferred from electronic annotation /// 0004714 // transmembrane receptor protein tyrosine kinase activity // traceable author statement /// 0005515 // protein binding // inferred from physical interaction /// 0005518 // collagen binding // inferred from direct assay /// 0005518 // collagen binding // inferred from mutant phenotype /// 0005524 // ATP binding // inferred from electronic annotation /// 0016301 // kinase activity // inferred from electronic annotation /// 0016740 // transferase activity // inferred from electronic annotation /// 0016772 // transferase activity, transferring phosphorus-containing groups // inferred from electronic annotation /// 0038062 // protein tyrosine kinase collagen receptor activity // inferred from direct assay /// 0046872 // metal ion binding // inferred from electronic annotation', '0000166 // nucleotide binding // inferred from electronic annotation /// 0003677 // DNA binding // inferred from electronic annotation /// 0005515 // protein binding // inferred from physical interaction /// 0005524 // ATP binding // inferred from electronic annotation /// 0016851 // magnesium chelatase activity // inferred from electronic annotation /// 0017111 // nucleoside-triphosphatase activity // inferred from electronic annotation', '0000166 // nucleotide binding // inferred from electronic annotation /// 0005524 // ATP binding // inferred from electronic annotation /// 0019899 // enzyme binding // inferred from physical interaction /// 0031072 // heat shock protein binding // inferred from physical interaction /// 0042623 // ATPase activity, coupled // inferred from direct assay /// 0051082 // unfolded protein binding // inferred from direct assay', '0000979 // RNA polymerase II core promoter sequence-specific DNA binding // inferred from direct assay /// 0003677 // DNA binding // inferred from direct assay /// 0003677 // DNA binding // inferred from mutant phenotype /// 0003700 // sequence-specific DNA binding transcription factor activity // inferred from direct assay /// 0004996 // thyroid-stimulating hormone receptor activity // traceable author statement /// 0005515 // protein binding // inferred from physical interaction /// 0044212 // transcription regulatory region DNA binding // inferred from direct assay', '0005509 // calcium ion binding // inferred from electronic annotation /// 0008048 // calcium sensitive guanylate cyclase activator activity // inferred from electronic annotation /// 0030249 // guanylate cyclase regulator activity // inferred from electronic annotation /// 0046872 // metal ion binding // inferred from electronic annotation']}\n"
     ]
    }
   ],
   "source": [
    "# 1. Use the 'get_gene_annotation' function from the library to get gene annotation data from the SOFT file.\n",
    "gene_annotation = get_gene_annotation(soft_file)\n",
    "\n",
    "# 2. Use the 'preview_df' function from the library to preview the data and print out the results.\n",
    "print(\"Gene annotation preview:\")\n",
    "print(preview_df(gene_annotation))\n"
   ]
  },
  {
   "cell_type": "markdown",
   "id": "ea7fd1e2",
   "metadata": {},
   "source": [
    "### Step 6: Gene Identifier Mapping"
   ]
  },
  {
   "cell_type": "code",
   "execution_count": 7,
   "id": "e09eb59a",
   "metadata": {
    "execution": {
     "iopub.execute_input": "2025-03-25T08:36:39.758388Z",
     "iopub.status.busy": "2025-03-25T08:36:39.758259Z",
     "iopub.status.idle": "2025-03-25T08:36:40.297009Z",
     "shell.execute_reply": "2025-03-25T08:36:40.296576Z"
    }
   },
   "outputs": [
    {
     "name": "stdout",
     "output_type": "stream",
     "text": [
      "Gene expression data after mapping (first 5 genes):\n",
      "          GSM1845886  GSM1845887  GSM1845888  GSM1845889  GSM1845890  \\\n",
      "Gene                                                                   \n",
      "A1BG         4.89781     5.10467     4.84837     4.90231     5.02062   \n",
      "A1BG-AS1     3.52356     4.29494     3.88388     4.12250     3.86527   \n",
      "A1CF         5.75930     5.74441     5.66063     5.26587     5.30560   \n",
      "A2M          5.27707     5.52795     5.21202     4.78926     5.44513   \n",
      "A2M-AS1      4.92566     5.22810     4.97152     4.99641     4.62297   \n",
      "\n",
      "          GSM1845891  GSM1845892  GSM1845893  GSM1845894  GSM1845895  ...  \\\n",
      "Gene                                                                  ...   \n",
      "A1BG         4.96612     4.74118     5.29547     4.93891     4.85341  ...   \n",
      "A1BG-AS1     3.96104     3.97486     4.19960     4.06677     3.68093  ...   \n",
      "A1CF         5.67823     5.60140     5.79863     5.77698     5.88500  ...   \n",
      "A2M          5.39855     5.40238     5.36047     5.36353     5.78311  ...   \n",
      "A2M-AS1      4.99843     4.93507     5.10932     5.12242     5.13305  ...   \n",
      "\n",
      "          GSM1846010  GSM1846011  GSM1846012  GSM1846013  GSM1846014  \\\n",
      "Gene                                                                   \n",
      "A1BG         5.21990     5.11205     5.22923     4.97536     5.05013   \n",
      "A1BG-AS1     4.15984     4.11915     4.38681     4.00073     3.54489   \n",
      "A1CF         6.06507     5.25477     5.63367     5.24566     5.44824   \n",
      "A2M          4.61311     5.04107     5.25627     4.91521     5.26775   \n",
      "A2M-AS1      5.10941     5.39360     4.91043     5.18173     5.71912   \n",
      "\n",
      "          GSM1846015  GSM1846016  GSM1846017  GSM1846018  GSM1846019  \n",
      "Gene                                                                  \n",
      "A1BG         5.17069     4.92041     5.03854     5.19840     5.12878  \n",
      "A1BG-AS1     4.08184     3.91525     3.77944     4.07809     4.02243  \n",
      "A1CF         5.15126     6.18105     5.55074     5.48770     5.93112  \n",
      "A2M          5.36628     6.26277     5.59701     5.48826     5.13352  \n",
      "A2M-AS1      5.62958     4.63296     5.22517     4.97762     4.87986  \n",
      "\n",
      "[5 rows x 134 columns]\n",
      "Shape of gene expression data: (21278, 134)\n"
     ]
    }
   ],
   "source": [
    "# 1. Identify the appropriate columns for gene mapping\n",
    "# From the gene annotation preview, 'ID' column contains probe IDs (matching gene expression data index)\n",
    "# and 'Gene Symbol' contains the gene symbols we want to map to\n",
    "probe_id_column = 'ID'  # Column containing probe IDs matching the gene expression data\n",
    "gene_symbol_column = 'Gene Symbol'  # Column containing gene symbols\n",
    "\n",
    "# 2. Get gene mapping dataframe by extracting the relevant columns\n",
    "gene_mapping = get_gene_mapping(gene_annotation, prob_col=probe_id_column, gene_col=gene_symbol_column)\n",
    "\n",
    "# 3. Apply gene mapping to convert probe-level measurements to gene expression data\n",
    "gene_data = apply_gene_mapping(gene_data, gene_mapping)\n",
    "\n",
    "# Preview the mapped gene expression data\n",
    "print(\"Gene expression data after mapping (first 5 genes):\")\n",
    "print(gene_data.head(5))\n",
    "print(f\"Shape of gene expression data: {gene_data.shape}\")\n"
   ]
  },
  {
   "cell_type": "markdown",
   "id": "3b6649ac",
   "metadata": {},
   "source": [
    "### Step 7: Data Normalization and Linking"
   ]
  },
  {
   "cell_type": "code",
   "execution_count": 8,
   "id": "db1282f8",
   "metadata": {
    "execution": {
     "iopub.execute_input": "2025-03-25T08:36:40.298239Z",
     "iopub.status.busy": "2025-03-25T08:36:40.298126Z",
     "iopub.status.idle": "2025-03-25T08:36:55.598891Z",
     "shell.execute_reply": "2025-03-25T08:36:55.598436Z"
    }
   },
   "outputs": [
    {
     "name": "stdout",
     "output_type": "stream",
     "text": [
      "Normalized gene data shape: (19845, 134)\n",
      "First few genes with their expression values after normalization:\n",
      "          GSM1845886  GSM1845887  GSM1845888  GSM1845889  GSM1845890  \\\n",
      "Gene                                                                   \n",
      "A1BG         4.89781     5.10467     4.84837     4.90231     5.02062   \n",
      "A1BG-AS1     3.52356     4.29494     3.88388     4.12250     3.86527   \n",
      "A1CF         5.75930     5.74441     5.66063     5.26587     5.30560   \n",
      "A2M          5.27707     5.52795     5.21202     4.78926     5.44513   \n",
      "A2M-AS1      4.92566     5.22810     4.97152     4.99641     4.62297   \n",
      "\n",
      "          GSM1845891  GSM1845892  GSM1845893  GSM1845894  GSM1845895  ...  \\\n",
      "Gene                                                                  ...   \n",
      "A1BG         4.96612     4.74118     5.29547     4.93891     4.85341  ...   \n",
      "A1BG-AS1     3.96104     3.97486     4.19960     4.06677     3.68093  ...   \n",
      "A1CF         5.67823     5.60140     5.79863     5.77698     5.88500  ...   \n",
      "A2M          5.39855     5.40238     5.36047     5.36353     5.78311  ...   \n",
      "A2M-AS1      4.99843     4.93507     5.10932     5.12242     5.13305  ...   \n",
      "\n",
      "          GSM1846010  GSM1846011  GSM1846012  GSM1846013  GSM1846014  \\\n",
      "Gene                                                                   \n",
      "A1BG         5.21990     5.11205     5.22923     4.97536     5.05013   \n",
      "A1BG-AS1     4.15984     4.11915     4.38681     4.00073     3.54489   \n",
      "A1CF         6.06507     5.25477     5.63367     5.24566     5.44824   \n",
      "A2M          4.61311     5.04107     5.25627     4.91521     5.26775   \n",
      "A2M-AS1      5.10941     5.39360     4.91043     5.18173     5.71912   \n",
      "\n",
      "          GSM1846015  GSM1846016  GSM1846017  GSM1846018  GSM1846019  \n",
      "Gene                                                                  \n",
      "A1BG         5.17069     4.92041     5.03854     5.19840     5.12878  \n",
      "A1BG-AS1     4.08184     3.91525     3.77944     4.07809     4.02243  \n",
      "A1CF         5.15126     6.18105     5.55074     5.48770     5.93112  \n",
      "A2M          5.36628     6.26277     5.59701     5.48826     5.13352  \n",
      "A2M-AS1      5.62958     4.63296     5.22517     4.97762     4.87986  \n",
      "\n",
      "[5 rows x 134 columns]\n"
     ]
    },
    {
     "name": "stdout",
     "output_type": "stream",
     "text": [
      "Normalized gene data saved to ../../output/preprocess/Cystic_Fibrosis/gene_data/GSE71799.csv\n",
      "Clinical data saved to ../../output/preprocess/Cystic_Fibrosis/clinical_data/GSE71799.csv\n",
      "Clinical data preview:\n",
      "{'CF_Status': [0, 0, 0, 0, 0]}\n",
      "Linked data shape (before handling missing values): (134, 19846)\n",
      "Linked data columns (first few):\n",
      "['CF_Status', 'A1BG', 'A1BG-AS1', 'A1CF', 'A2M', 'A2M-AS1', 'A2ML1', 'A2MP1', 'A4GALT', 'A4GNT']\n"
     ]
    },
    {
     "name": "stdout",
     "output_type": "stream",
     "text": [
      "Data after handling missing values: (134, 19846)\n",
      "For the feature 'CF_Status', the least common label is '0' with 31 occurrences. This represents 23.13% of the dataset.\n",
      "The distribution of the feature 'CF_Status' in this dataset is fine.\n",
      "\n"
     ]
    },
    {
     "name": "stdout",
     "output_type": "stream",
     "text": [
      "Linked data saved to ../../output/preprocess/Cystic_Fibrosis/GSE71799.csv\n"
     ]
    }
   ],
   "source": [
    "# 1. Normalize gene symbols in the gene expression data\n",
    "normalized_gene_data = normalize_gene_symbols_in_index(gene_data)\n",
    "print(f\"Normalized gene data shape: {normalized_gene_data.shape}\")\n",
    "print(\"First few genes with their expression values after normalization:\")\n",
    "print(normalized_gene_data.head())\n",
    "\n",
    "# Save the normalized gene data\n",
    "os.makedirs(os.path.dirname(out_gene_data_file), exist_ok=True)\n",
    "normalized_gene_data.to_csv(out_gene_data_file)\n",
    "print(f\"Normalized gene data saved to {out_gene_data_file}\")\n",
    "\n",
    "# 2. Create clinical features manually based on background information\n",
    "# From Step 1 background information, we know the dataset compares:\n",
    "# - unrelated healthy controls (uHC) plasma (n=31)\n",
    "# - plasma from patients with cystic fibrosis (CF) with Pseudomonas infection (n=103)\n",
    "# The total sample count matches our gene data columns (134)\n",
    "\n",
    "# Get sample IDs from the gene data\n",
    "sample_ids = normalized_gene_data.columns.tolist()\n",
    "\n",
    "# Create a DataFrame with the trait information\n",
    "# According to the background info: first 31 samples are healthy controls (0), remaining 103 are CF patients (1)\n",
    "trait_name = \"CF_Status\"  # Using a clear column name rather than the variable 'trait'\n",
    "cf_status = pd.Series([0] * 31 + [1] * 103, index=sample_ids, name=trait_name)\n",
    "clinical_df = pd.DataFrame({trait_name: cf_status})\n",
    "\n",
    "# Save the clinical data\n",
    "os.makedirs(os.path.dirname(out_clinical_data_file), exist_ok=True)\n",
    "clinical_df.to_csv(out_clinical_data_file)\n",
    "print(f\"Clinical data saved to {out_clinical_data_file}\")\n",
    "print(\"Clinical data preview:\")\n",
    "print(preview_df(clinical_df))\n",
    "\n",
    "# 3. Link the clinical and genetic data\n",
    "linked_data = pd.concat([clinical_df, normalized_gene_data.T], axis=1)\n",
    "print(f\"Linked data shape (before handling missing values): {linked_data.shape}\")\n",
    "print(\"Linked data columns (first few):\")\n",
    "print(linked_data.columns[:10].tolist())\n",
    "\n",
    "# 4. Handle missing values in the linked data\n",
    "linked_data = handle_missing_values(linked_data, trait_name)\n",
    "print(f\"Data after handling missing values: {linked_data.shape}\")\n",
    "\n",
    "# 5. Determine whether the trait and demographic features are biased\n",
    "is_trait_biased, unbiased_linked_data = judge_and_remove_biased_features(linked_data, trait_name)\n",
    "\n",
    "# 6. Conduct final quality validation and save cohort information\n",
    "is_usable = validate_and_save_cohort_info(\n",
    "    is_final=True, \n",
    "    cohort=cohort, \n",
    "    info_path=json_path, \n",
    "    is_gene_available=True, \n",
    "    is_trait_available=True, \n",
    "    is_biased=is_trait_biased, \n",
    "    df=unbiased_linked_data,\n",
    "    note=\"Dataset contains gene expression data comparing cystic fibrosis patients with Pseudomonas infection to healthy controls.\"\n",
    ")\n",
    "\n",
    "# 7. If the linked data is usable, save it\n",
    "if is_usable:\n",
    "    os.makedirs(os.path.dirname(out_data_file), exist_ok=True)\n",
    "    unbiased_linked_data.to_csv(out_data_file)\n",
    "    print(f\"Linked data saved to {out_data_file}\")\n",
    "else:\n",
    "    print(\"Data was determined to be unusable and was not saved\")"
   ]
  }
 ],
 "metadata": {
  "language_info": {
   "codemirror_mode": {
    "name": "ipython",
    "version": 3
   },
   "file_extension": ".py",
   "mimetype": "text/x-python",
   "name": "python",
   "nbconvert_exporter": "python",
   "pygments_lexer": "ipython3",
   "version": "3.10.16"
  }
 },
 "nbformat": 4,
 "nbformat_minor": 5
}
