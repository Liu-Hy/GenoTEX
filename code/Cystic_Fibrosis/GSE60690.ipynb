{
 "cells": [
  {
   "cell_type": "markdown",
   "id": "89b6a1ae",
   "metadata": {},
   "source": [
    "### Step 1: Initial Data Loading"
   ]
  },
  {
   "cell_type": "code",
   "execution_count": null,
   "id": "ddc3a843",
   "metadata": {},
   "outputs": [],
   "source": [
    "from utils.preprocess import *\n",
    "# 1. Identify the paths to the soft file and the matrix file\n",
    "cohort_dir = '/media/techt/DATA/GEO/Cystic_Fibrosis/GSE60690'\n",
    "soft_file, matrix_file = geo_get_relevant_filepaths(cohort_dir)\n",
    "\n",
    "# 2. Read the matrix file to obtain background information and sample characteristics data\n",
    "background_prefixes = ['!Series_title', '!Series_summary', '!Series_overall_design']\n",
    "clinical_prefixes = ['!Sample_geo_accession', '!Sample_characteristics_ch1']\n",
    "background_info, clinical_data = get_background_and_clinical_data(matrix_file, background_prefixes, clinical_prefixes)\n",
    "\n",
    "# 3. Obtain the sample characteristics dictionary from the clinical dataframe\n",
    "sample_characteristics_dict = get_unique_values_by_row(clinical_data)\n",
    "\n",
    "# 4. Explicitly print out all the background information and the sample characteristics dictionary\n",
    "print(\"Background Information:\")\n",
    "print(background_info)\n",
    "print(\"Sample Characteristics Dictionary:\")\n",
    "print(sample_characteristics_dict)\n"
   ]
  },
  {
   "cell_type": "markdown",
   "id": "3a989cca",
   "metadata": {},
   "source": [
    "### Step 2: Dataset Analysis and Clinical Feature Extraction"
   ]
  },
  {
   "cell_type": "code",
   "execution_count": null,
   "id": "832a43f3",
   "metadata": {},
   "outputs": [],
   "source": [
    "is_gene_available = False\n",
    "trait_row = age_row = gender_row = None  # set to different values when applicable\n",
    "convert_trait = convert_age = convert_gender = None  # define the functions when applicable\n",
    "\n",
    "# 1. Gene Expression Data Availability\n",
    "is_gene_available = True\n",
    "\n",
    "# 2. Variable Availability and Data Type Conversion\n",
    "\n",
    "# 2.1 Data Availability\n",
    "def find_row_for_keyword(keyword, characteristics_dict):\n",
    "    for key, values in characteristics_dict.items():\n",
    "        unique_values = set(values)  # Ensure values have enough variability\n",
    "        if any(keyword in value for value in values) and len(unique_values) > 1:\n",
    "            return key, values\n",
    "    return None, None\n",
    "\n",
    "# Cystic_Fibrosis\n",
    "trait_row, _ = find_row_for_keyword('persistent ps aer status', clinical_data)\n",
    "\n",
    "# Age\n",
    "age_row, _ = find_row_for_keyword('age of enrollment', clinical_data)\n",
    "\n",
    "# Gender\n",
    "gender_row, _ = find_row_for_keyword('Sex', clinical_data)\n",
    "\n",
    "# 2.3 Data Type Conversion\n",
    "\n",
    "# Function to extract the part after the colon\n",
    "def extract_value(value):\n",
    "    parts = value.split(':')\n",
    "    result = parts[1].strip() if len(parts) > 1 else None\n",
    "    return result\n",
    "\n",
    "# Conversion for Cystic_Fibrosis (binary)\n",
    "def convert_trait(value):\n",
    "    extracted_value = extract_value(value)\n",
    "    try:\n",
    "        if extracted_value is None or extracted_value == 'NA':\n",
    "            return None\n",
    "        return int(float(extracted_value))  # converting through float to handle decimal numbers\n",
    "    except (ValueError, TypeError):\n",
    "        return None\n",
    "\n",
    "# Conversion for Age (continuous)\n",
    "def convert_age(value):\n",
    "    extracted_value = extract_value(value)\n",
    "    try:\n",
    "        return float(extracted_value) if extracted_value is not None else None\n",
    "    except (ValueError, TypeError):\n",
    "        return None\n",
    "\n",
    "# Conversion for Gender (binary: female -> 0, male -> 1)\n",
    "def convert_gender(value):\n",
    "    extracted_value = extract_value(value)\n",
    "    try:\n",
    "        if extracted_value is None:\n",
    "            return None\n",
    "        return 0 if extracted_value.lower() == 'female' else 1 if extracted_value.lower() == 'male' else None\n",
    "    except (AttributeError, TypeError):\n",
    "        return None\n",
    "\n",
    "# Ensure the conversion functions are properly assigned\n",
    "convert_trait = convert_trait\n",
    "convert_age = convert_age\n",
    "convert_gender = convert_gender\n",
    "\n",
    "# 3. Save Metadata\n",
    "save_cohort_info('GSE60690', './preprocessed/Cystic_Fibrosis/cohort_info.json', is_gene_available, trait_row is not None)\n",
    "\n",
    "# 4. Clinical Feature Extraction\n",
    "if trait_row is not None:\n",
    "    selected_clinical_data = geo_select_clinical_features(clinical_data, 'Cystic_Fibrosis', trait_row, convert_trait, age_row, convert_age, gender_row, convert_gender)\n",
    "    csv_path = './preprocessed/Cystic_Fibrosis/trait_data/GSE60690.csv'\n",
    "    selected_clinical_data.to_csv(csv_path)\n",
    "    print(preview_df(selected_clinical_data))\n"
   ]
  },
  {
   "cell_type": "markdown",
   "id": "d0832039",
   "metadata": {},
   "source": [
    "### Step 3: Gene Data Extraction"
   ]
  },
  {
   "cell_type": "code",
   "execution_count": null,
   "id": "1241a793",
   "metadata": {},
   "outputs": [],
   "source": [
    "# 1. Use the get_genetic_data function from the library to get the gene_data from the matrix_file previously defined.\n",
    "gene_data = get_genetic_data(matrix_file)\n",
    "\n",
    "# 2. Print the first 20 row ids for the following step.\n",
    "print(gene_data.index[:20])\n"
   ]
  },
  {
   "cell_type": "markdown",
   "id": "603fe839",
   "metadata": {},
   "source": [
    "### Step 4: Gene Identifier Review"
   ]
  },
  {
   "cell_type": "code",
   "execution_count": null,
   "id": "e0bece4c",
   "metadata": {},
   "outputs": [],
   "source": [
    "requires_gene_mapping = True\n"
   ]
  },
  {
   "cell_type": "markdown",
   "id": "15394f85",
   "metadata": {},
   "source": [
    "### Step 5: Gene Annotation (Conditional)"
   ]
  },
  {
   "cell_type": "code",
   "execution_count": null,
   "id": "f5eddbe4",
   "metadata": {},
   "outputs": [],
   "source": [
    "# 1. Use the 'get_gene_annotation' function from the library to get gene annotation data from the soft file.\n",
    "gene_annotation = get_gene_annotation(soft_file)\n",
    "\n",
    "# 2. Use the 'preview_df' function from the library to preview the data and print out the results.\n",
    "print(\"Gene annotation preview:\")\n",
    "print(preview_df(gene_annotation))\n"
   ]
  },
  {
   "cell_type": "markdown",
   "id": "12a746df",
   "metadata": {},
   "source": [
    "### Step 6: Gene Identifier Mapping"
   ]
  },
  {
   "cell_type": "code",
   "execution_count": null,
   "id": "5c71a34a",
   "metadata": {},
   "outputs": [],
   "source": [
    "# 1. Identifying the keys for identifiers and gene symbols\n",
    "identifier_key = 'ID'\n",
    "gene_symbol_key = 'gene_assignment'\n",
    "\n",
    "# 2. Get the dataframe storing the mapping between probe IDs and genes using the 'get_gene_mapping' function from the library.\n",
    "gene_mapping = get_gene_mapping(gene_annotation, identifier_key, gene_symbol_key)\n",
    "\n",
    "# 3. Apply the mapping with the 'apply_gene_mapping' function from the library\n",
    "gene_data = apply_gene_mapping(gene_data, gene_mapping)\n"
   ]
  }
 ],
 "metadata": {},
 "nbformat": 4,
 "nbformat_minor": 5
}
