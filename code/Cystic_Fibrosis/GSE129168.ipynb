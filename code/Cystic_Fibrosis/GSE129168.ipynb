{
 "cells": [
  {
   "cell_type": "code",
   "execution_count": 1,
   "id": "727e83d3",
   "metadata": {
    "execution": {
     "iopub.execute_input": "2024-06-12T09:54:20.560287Z",
     "iopub.status.busy": "2024-06-12T09:54:20.560131Z",
     "iopub.status.idle": "2024-06-12T09:54:20.565558Z",
     "shell.execute_reply": "2024-06-12T09:54:20.565164Z"
    }
   },
   "outputs": [],
   "source": [
    "\n",
    "import sys\n",
    "sys.path.append('/home/techt/Desktop/a4s')\n"
   ]
  },
  {
   "cell_type": "markdown",
   "id": "d42511b0",
   "metadata": {},
   "source": [
    "### Step 1: Initial Data Loading"
   ]
  },
  {
   "cell_type": "code",
   "execution_count": 2,
   "id": "8561c06a",
   "metadata": {
    "execution": {
     "iopub.execute_input": "2024-06-12T09:54:20.567916Z",
     "iopub.status.busy": "2024-06-12T09:54:20.567772Z",
     "iopub.status.idle": "2024-06-12T09:54:20.837785Z",
     "shell.execute_reply": "2024-06-12T09:54:20.837427Z"
    }
   },
   "outputs": [
    {
     "name": "stdout",
     "output_type": "stream",
     "text": [
      "Background Information:\n",
      "!Series_title\t\"High-throughput screening for modulators of CFTR activity applying an organotypic functional assay based on genetically engineered Cystic Fibrosis disease-specific iPSCs\"\n",
      "!Series_summary\t\"Organotypic culture systems from disease-specific induced pluripotent stem cells (iPSCs) exhibit obvious advantages compared to immortalized cell lines and primary cell cultures but implementation of iPSC-based high throughput (HT) assays is still technically challenging. Here we demonstrate the development and conduction of an organotypic HT Cl-/I- exchange assay using Cystic Fibrosis (CF) disease-specific iPSCs. The introduction of a halide sensitive YFP variant enabled automated quantitative measurement of Cystic Fibrosis Transmembrane Conductance Regulator (CFTR) function in iPSC-derived intestinal epithelia. CFTR function was partially rescued by treatment with VX-770 and VX-809, and seamless gene correction of the p.Phe508del mutation resulted in full restoration of CFTR function. The identification of a series of validated primary hits that improve the function of p.Phe508del CFTR from a library of ~ 42.500 chemical compounds demonstrates that the advantages of complex iPSC-derived culture systems for disease modelling can also be utilized for drug screening at a true HT format.\"\n",
      "!Series_overall_design\t\"For detailed analysis of the differentiated hiPSC cell populations on day 15 of differentiation 32 samples in total were analyzed.  Three independent donor lines were utilized (donor 1 and 6 CFTR WT, donor 2 (p.Phe508del)) and one isogenic gene corrected control line (donor 2 gene corrected-CFTR WT.) Samples from undifferentiated and differentiated cells represent biological replicates (n=3). As controls RNA from adult intestine, liver and colon was. Tissue samples are represented as technical replicates.\"\n",
      "Sample Characteristics Dictionary:\n",
      "{0: ['donor line: donor 2', 'donor line: donor 2 gene corrected', 'donor line: donor 6', 'donor line: donor 1', 'tissue: small intestine', 'tissue: colon', 'tissue: liver'], 1: ['cell type: pluripotent stem cell', 'developmental stage: adult'], 2: ['genotype: CFiPS (p.Phe508del)', 'genotype: CFiPS (p.Phe508del) gene corrected', 'genotype: iPS CFTR WT', 'genotype: CFTR WT'], 3: ['treatment: untreated/undifferentiated', 'treatment: day 15 of differentiation', nan]}\n"
     ]
    }
   ],
   "source": [
    "from utils.preprocess import *\n",
    "# 1. Identify the paths to the soft file and the matrix file\n",
    "cohort_dir = '/media/techt/DATA/GEO/Cystic_Fibrosis/GSE129168'\n",
    "soft_file, matrix_file = geo_get_relevant_filepaths(cohort_dir)\n",
    "\n",
    "# 2. Read the matrix file to obtain background information and sample characteristics data\n",
    "background_prefixes = ['!Series_title', '!Series_summary', '!Series_overall_design']\n",
    "clinical_prefixes = ['!Sample_geo_accession', '!Sample_characteristics_ch1']\n",
    "background_info, clinical_data = get_background_and_clinical_data(matrix_file, background_prefixes, clinical_prefixes)\n",
    "\n",
    "# 3. Obtain the sample characteristics dictionary from the clinical dataframe\n",
    "sample_characteristics_dict = get_unique_values_by_row(clinical_data)\n",
    "\n",
    "# 4. Explicitly print out all the background information and the sample characteristics dictionary\n",
    "print(\"Background Information:\")\n",
    "print(background_info)\n",
    "print(\"Sample Characteristics Dictionary:\")\n",
    "print(sample_characteristics_dict)\n"
   ]
  },
  {
   "cell_type": "markdown",
   "id": "39c72f18",
   "metadata": {},
   "source": [
    "### Step 2: Dataset Analysis and Clinical Feature Extraction"
   ]
  },
  {
   "cell_type": "code",
   "execution_count": 3,
   "id": "5842ff6a",
   "metadata": {
    "execution": {
     "iopub.execute_input": "2024-06-12T09:54:20.840174Z",
     "iopub.status.busy": "2024-06-12T09:54:20.840037Z",
     "iopub.status.idle": "2024-06-12T09:54:20.847255Z",
     "shell.execute_reply": "2024-06-12T09:54:20.846968Z"
    }
   },
   "outputs": [
    {
     "name": "stdout",
     "output_type": "stream",
     "text": [
      "{'GSM3701915': [1], 'GSM3701916': [1], 'GSM3701917': [1], 'GSM3701918': [1], 'GSM3701919': [1], 'GSM3701920': [1], 'GSM3701921': [1], 'GSM3701922': [1], 'GSM3701923': [1], 'GSM3701924': [1], 'GSM3701925': [1], 'GSM3701926': [1], 'GSM3701927': [0], 'GSM3701928': [0], 'GSM3701929': [0], 'GSM3701930': [0], 'GSM3701931': [0], 'GSM3701932': [0], 'GSM3701933': [0], 'GSM3701934': [0], 'GSM3701935': [0], 'GSM3701936': [0], 'GSM3701937': [0], 'GSM3701938': [0], 'GSM3701939': [0], 'GSM3701940': [0], 'GSM3701941': [0], 'GSM3701942': [0], 'GSM3701943': [0], 'GSM3701944': [0], 'GSM3701945': [0], 'GSM3701946': [0]}\n"
     ]
    }
   ],
   "source": [
    "is_gene_available = False\n",
    "trait_row = age_row = gender_row = None  # set to different values when applicable\n",
    "convert_trait = convert_age = convert_gender = None  # define the functions when applicable\n",
    "\n",
    "is_gene_available = True  # Based on the summary, gene expression is likely available\n",
    "\n",
    "trait_row = 2  # CF status is inferred from 'genotype' in row 2\n",
    "age_row = None\n",
    "gender_row = None\n",
    "\n",
    "def convert_trait(value):\n",
    "    try:\n",
    "        trait_value = value.split(':')[-1].strip()\n",
    "        if \"CFTR\" in trait_value or \"CFiPS\" in trait_value:\n",
    "            return 1 if \"p.Phe508del\" in trait_value else 0\n",
    "        return None\n",
    "    except Exception:\n",
    "        return None\n",
    "\n",
    "def convert_age(value):\n",
    "    return None  # Age data is not available\n",
    "\n",
    "def convert_gender(value):\n",
    "    return None  # Gender data is not available\n",
    "\n",
    "# Save cohort information\n",
    "save_cohort_info('GSE129168', './preprocessed/Cystic_Fibrosis/cohort_info.json', is_gene_available, trait_row is not None)\n",
    "\n",
    "# Clinical feature extraction\n",
    "if trait_row is not None:\n",
    "    selected_clinical_data = geo_select_clinical_features(clinical_data, 'Cystic_Fibrosis', trait_row, convert_trait, age_row, convert_age, gender_row, convert_gender)\n",
    "    csv_path = './preprocessed/Cystic_Fibrosis/trait_data/GSE129168.csv'\n",
    "    selected_clinical_data.to_csv(csv_path)\n",
    "    print(preview_df(selected_clinical_data))\n"
   ]
  },
  {
   "cell_type": "markdown",
   "id": "9d7f1e43",
   "metadata": {},
   "source": [
    "### Step 3: Gene Data Extraction"
   ]
  },
  {
   "cell_type": "code",
   "execution_count": 4,
   "id": "eb656406",
   "metadata": {
    "execution": {
     "iopub.execute_input": "2024-06-12T09:54:20.848924Z",
     "iopub.status.busy": "2024-06-12T09:54:20.848826Z",
     "iopub.status.idle": "2024-06-12T09:54:20.920875Z",
     "shell.execute_reply": "2024-06-12T09:54:20.920519Z"
    }
   },
   "outputs": [
    {
     "name": "stdout",
     "output_type": "stream",
     "text": [
      "Index(['A_23_P100001', 'A_23_P100022', 'A_23_P100056', 'A_23_P100074',\n",
      "       'A_23_P100127', 'A_23_P100141', 'A_23_P100189', 'A_23_P100196',\n",
      "       'A_23_P100203', 'A_23_P100220', 'A_23_P100240', 'A_23_P10025',\n",
      "       'A_23_P100292', 'A_23_P100315', 'A_23_P100326', 'A_23_P100344',\n",
      "       'A_23_P100355', 'A_23_P100386', 'A_23_P100392', 'A_23_P100420'],\n",
      "      dtype='object', name='ID')\n"
     ]
    }
   ],
   "source": [
    "# 1. Use the get_genetic_data function from the library to get the gene_data from the matrix_file previously defined.\n",
    "gene_data = get_genetic_data(matrix_file)\n",
    "\n",
    "# 2. Print the first 20 row ids for the following step.\n",
    "print(gene_data.index[:20])\n"
   ]
  },
  {
   "cell_type": "markdown",
   "id": "9e85476b",
   "metadata": {},
   "source": [
    "### Step 4: Gene Identifier Review"
   ]
  },
  {
   "cell_type": "code",
   "execution_count": 5,
   "id": "2e791c3e",
   "metadata": {
    "execution": {
     "iopub.execute_input": "2024-06-12T09:54:20.923055Z",
     "iopub.status.busy": "2024-06-12T09:54:20.922919Z",
     "iopub.status.idle": "2024-06-12T09:54:20.925029Z",
     "shell.execute_reply": "2024-06-12T09:54:20.924752Z"
    }
   },
   "outputs": [],
   "source": [
    "requires_gene_mapping = True\n"
   ]
  },
  {
   "cell_type": "markdown",
   "id": "3072aa0f",
   "metadata": {},
   "source": [
    "### Step 5: Gene Annotation (Conditional)"
   ]
  },
  {
   "cell_type": "code",
   "execution_count": 6,
   "id": "534aa0d4",
   "metadata": {
    "execution": {
     "iopub.execute_input": "2024-06-12T09:54:20.927077Z",
     "iopub.status.busy": "2024-06-12T09:54:20.926946Z",
     "iopub.status.idle": "2024-06-12T09:54:22.761864Z",
     "shell.execute_reply": "2024-06-12T09:54:22.761534Z"
    }
   },
   "outputs": [
    {
     "name": "stdout",
     "output_type": "stream",
     "text": [
      "Gene annotation preview:\n",
      "{'ID': ['A_23_P100001', 'A_23_P100022', 'A_23_P100056', 'A_23_P100074', 'A_23_P100127'], 'SPOT_ID': [nan, nan, nan, nan, nan], 'CONTROL_TYPE': ['FALSE', 'FALSE', 'FALSE', 'FALSE', 'FALSE'], 'REFSEQ': ['NM_207446', 'NM_014848', 'NM_194272', 'NM_020371', 'NM_170589'], 'GB_ACC': ['NM_207446', 'NM_014848', 'NM_194272', 'NM_020371', 'NM_170589'], 'LOCUSLINK_ID': [400451.0, 9899.0, 348093.0, 57099.0, 57082.0], 'GENE_SYMBOL': ['FAM174B', 'SV2B', 'RBPMS2', 'AVEN', 'KNL1'], 'GENE_NAME': ['family with sequence similarity 174 member B', 'synaptic vesicle glycoprotein 2B', 'RNA binding protein, mRNA processing factor 2', 'apoptosis and caspase activation inhibitor', 'kinetochore scaffold 1'], 'UNIGENE_ID': ['Hs.27373', 'Hs.21754', 'Hs.436518', 'Hs.555966', 'Hs.181855'], 'ENSEMBL_ID': ['ENST00000553393', nan, nan, 'ENST00000306730', 'ENST00000527044'], 'TIGR_ID': [nan, nan, nan, nan, nan], 'ACCESSION_STRING': ['ref|NM_207446|ens|ENST00000553393|ens|ENST00000327355|ref|XR_931815', 'ref|NM_014848|ref|NM_001323039|ref|NM_001323032|ref|NM_001323037', 'ref|NM_194272|ref|NR_138350|ref|NR_138363|ref|NR_138364', 'ref|NM_020371|ens|ENST00000306730|ref|XM_011521819|ref|XM_011521818', 'ref|NM_170589|ref|NM_144508|ens|ENST00000527044|ens|ENST00000533001'], 'CHROMOSOMAL_LOCATION': ['chr15:93160848-93160789', 'chr15:91838329-91838388', 'chr15:65032375-65032316', 'chr15:34158739-34158680', 'chr15:40917525-40917584'], 'CYTOBAND': ['hs|15q26.1', 'hs|15q26.1', 'hs|15q22.31', 'hs|15q14', 'hs|15q15.1'], 'DESCRIPTION': ['Homo sapiens family with sequence similarity 174 member B (FAM174B), mRNA [NM_207446]', 'Homo sapiens synaptic vesicle glycoprotein 2B (SV2B), transcript variant 1, mRNA [NM_014848]', 'Homo sapiens RNA binding protein, mRNA processing factor 2 (RBPMS2), transcript variant 1, mRNA [NM_194272]', 'Homo sapiens apoptosis and caspase activation inhibitor (AVEN), mRNA [NM_020371]', 'Homo sapiens kinetochore scaffold 1 (KNL1), transcript variant 1, mRNA [NM_170589]'], 'GO_ID': ['GO:0016021(integral component of membrane)', 'GO:0001669(acrosomal vesicle)|GO:0005515(protein binding)|GO:0005886(plasma membrane)|GO:0006836(neurotransmitter transport)|GO:0007268(chemical synaptic transmission)|GO:0008021(synaptic vesicle)|GO:0016020(membrane)|GO:0016021(integral component of membrane)|GO:0022857(transmembrane transporter activity)|GO:0030054(cell junction)|GO:0030672(synaptic vesicle membrane)|GO:0043005(neuron projection)|GO:0055085(transmembrane transport)', 'GO:0000398(mRNA splicing, via spliceosome)|GO:0003729(mRNA binding)|GO:0005515(protein binding)|GO:0005737(cytoplasm)|GO:0030514(negative regulation of BMP signaling pathway)|GO:0035614(snRNA stem-loop binding)|GO:0042803(protein homodimerization activity)|GO:0048557(embryonic digestive tract morphogenesis)|GO:0048661(positive regulation of smooth muscle cell proliferation)|GO:0051151(negative regulation of smooth muscle cell differentiation)', 'GO:0005515(protein binding)|GO:0005622(intracellular)|GO:0006915(apoptotic process)|GO:0012505(endomembrane system)|GO:0016020(membrane)|GO:0043066(negative regulation of apoptotic process)', 'GO:0000777(condensed chromosome kinetochore)|GO:0001669(acrosomal vesicle)|GO:0001675(acrosome assembly)|GO:0005515(protein binding)|GO:0005634(nucleus)|GO:0005654(nucleoplasm)|GO:0005829(cytosol)|GO:0008608(attachment of spindle microtubules to kinetochore)|GO:0010923(negative regulation of phosphatase activity)|GO:0016604(nuclear body)|GO:0034080(CENP-A containing nucleosome assembly)|GO:0034501(protein localization to kinetochore)|GO:0051301(cell division)'], 'SEQUENCE': ['ATCTCATGGAAAAGCTGGATTCCTCTGCCTTACGCAGAAACACCCGGGCTCCATCTGCCA', 'ATGTCGGCTGTGGAGGGTTAAAGGGATGAGGCTTTCCTTTGTTTAGCAAATCTGTTCACA', 'CCCTGTCAGATAAGTTTAATGTTTAGTTTGAGGCATGAAGAAGAAAAGGGTTTCCATTCT', 'GACCAGCCAGTTTACAAGCATGTCTCAAGCTAGTGTGTTCCATTATGCTCACAGCAGTAA', 'CGGTCTCTAGCAAAGATTCAGGCATTGGATCTGTTGCAGGTAAACTGAACCTAAGTCCTT']}\n"
     ]
    }
   ],
   "source": [
    "# 1. Use the 'get_gene_annotation' function from the library to get gene annotation data from the soft file.\n",
    "gene_annotation = get_gene_annotation(soft_file)\n",
    "\n",
    "# 2. Use the 'preview_df' function from the library to preview the data and print out the results.\n",
    "print(\"Gene annotation preview:\")\n",
    "print(preview_df(gene_annotation))\n"
   ]
  },
  {
   "cell_type": "markdown",
   "id": "84c4fbf6",
   "metadata": {},
   "source": [
    "### Step 6: Gene Identifier Mapping"
   ]
  },
  {
   "cell_type": "code",
   "execution_count": 7,
   "id": "2077ee91",
   "metadata": {
    "execution": {
     "iopub.execute_input": "2024-06-12T09:54:22.764099Z",
     "iopub.status.busy": "2024-06-12T09:54:22.763956Z",
     "iopub.status.idle": "2024-06-12T09:54:22.854346Z",
     "shell.execute_reply": "2024-06-12T09:54:22.853980Z"
    }
   },
   "outputs": [],
   "source": [
    "# 1. Decide which keys store gene identifiers and gene symbols\n",
    "identifier_key = 'ID'\n",
    "gene_symbol_key = 'GENE_SYMBOL'\n",
    "\n",
    "# 2. Get the dataframe storing the mapping between probe IDs and genes\n",
    "mapping_df = get_gene_mapping(gene_annotation, identifier_key, gene_symbol_key)\n",
    "\n",
    "# 3. Apply the mapping with the 'apply_gene_mapping' function from the library\n",
    "gene_data = apply_gene_mapping(gene_data, mapping_df)\n"
   ]
  },
  {
   "cell_type": "markdown",
   "id": "84131d99",
   "metadata": {},
   "source": [
    "### Step 7: Data Normalization and Merging"
   ]
  },
  {
   "cell_type": "code",
   "execution_count": 8,
   "id": "f3cb4eef",
   "metadata": {
    "execution": {
     "iopub.execute_input": "2024-06-12T09:54:22.857001Z",
     "iopub.status.busy": "2024-06-12T09:54:22.856862Z",
     "iopub.status.idle": "2024-06-12T09:55:14.498526Z",
     "shell.execute_reply": "2024-06-12T09:55:14.498042Z"
    }
   },
   "outputs": [
    {
     "name": "stdout",
     "output_type": "stream",
     "text": [
      "For the feature 'Cystic_Fibrosis', the least common label is '1.0' with 12 occurrences. This represents 37.50% of the dataset.\n",
      "The distribution of the feature 'Cystic_Fibrosis' in this dataset is fine.\n",
      "\n"
     ]
    }
   ],
   "source": [
    "# 1. Normalize the obtained gene data with the 'normalize_gene_symbols_in_index' function from the library.\n",
    "normalized_gene_data = normalize_gene_symbols_in_index(gene_data)\n",
    "gene_csv_path = './preprocessed/Cystic_Fibrosis/gene_data/GSE129168.csv'\n",
    "normalized_gene_data.to_csv(gene_csv_path)\n",
    "\n",
    "# 2. Merge the clinical and genetic data with the 'geo_merge_clinical_genetic_data' function from the library.\n",
    "merged_data = geo_merge_clinical_genetic_data(selected_clinical_data, normalized_gene_data)\n",
    "\n",
    "# 3. Determine whether the trait and some demographic attributes in the data is severely biased, and remove biased attributes.\n",
    "trait_biased, unbiased_merged_data = judge_and_remove_biased_features(merged_data, 'Cystic_Fibrosis')\n",
    "\n",
    "# 4. Save the cohort information.\n",
    "save_cohort_info('GSE129168', './preprocessed/Cystic_Fibrosis/cohort_info.json', True, True, trait_biased, merged_data)\n",
    "\n",
    "if not trait_biased:\n",
    "    # 5. If the trait is not severely biased, save the merged data to a csv file.\n",
    "    csv_path = './preprocessed/Cystic_Fibrosis/GSE129168.csv'\n",
    "    unbiased_merged_data.to_csv(csv_path)\n"
   ]
  }
 ],
 "metadata": {
  "language_info": {
   "codemirror_mode": {
    "name": "ipython",
    "version": 3
   },
   "file_extension": ".py",
   "mimetype": "text/x-python",
   "name": "python",
   "nbconvert_exporter": "python",
   "pygments_lexer": "ipython3",
   "version": "3.8.17"
  }
 },
 "nbformat": 4,
 "nbformat_minor": 5
}
