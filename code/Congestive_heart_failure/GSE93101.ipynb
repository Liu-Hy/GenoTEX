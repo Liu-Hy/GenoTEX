{
 "cells": [
  {
   "cell_type": "code",
   "execution_count": 1,
   "id": "aee52723",
   "metadata": {
    "execution": {
     "iopub.execute_input": "2024-06-12T10:32:54.079821Z",
     "iopub.status.busy": "2024-06-12T10:32:54.079614Z",
     "iopub.status.idle": "2024-06-12T10:32:54.085653Z",
     "shell.execute_reply": "2024-06-12T10:32:54.085120Z"
    }
   },
   "outputs": [],
   "source": [
    "\n",
    "import sys\n",
    "sys.path.append('/home/techt/Desktop/a4s')\n"
   ]
  },
  {
   "cell_type": "markdown",
   "id": "7164be16",
   "metadata": {},
   "source": [
    "### Step 1: Initial Data Loading"
   ]
  },
  {
   "cell_type": "code",
   "execution_count": 2,
   "id": "394e57bc",
   "metadata": {
    "execution": {
     "iopub.execute_input": "2024-06-12T10:32:54.087769Z",
     "iopub.status.busy": "2024-06-12T10:32:54.087441Z",
     "iopub.status.idle": "2024-06-12T10:32:54.373724Z",
     "shell.execute_reply": "2024-06-12T10:32:54.373302Z"
    }
   },
   "outputs": [
    {
     "name": "stdout",
     "output_type": "stream",
     "text": [
      "Background Information:\n",
      "!Series_title\t\"Molecular Prognosis of Cardiogenic Shock Patients under Extracorporeal Membrane Oxygenation\"\n",
      "!Series_summary\t\"Prognosis for cardiogenic shock patients under ECMO was our study goal. Success defined as survived more than 7 days after ECMO installation and failure died or had multiple organ failure in 7 days. Total 34 cases were enrolled, 17 success and 17 failure.\"\n",
      "!Series_summary\t\"Peripheral blood mononuclear cells collected at ECMO installation were used analyzed.\"\n",
      "!Series_overall_design\t\"Analysis of the cardiogenic shock patients at extracorporeal membrane oxygenation treatment by genome-wide expression and methylation. Transcriptomic profiling and DNA methylation between successful and failure groups were analyzed.\"\n",
      "!Series_overall_design\t\"This submission represents the transcriptome data.\"\n",
      "Sample Characteristics Dictionary:\n",
      "{0: ['course: Acute myocarditis', 'course: Acute myocardial infarction', 'course: Dilated cardiomyopathy, DCMP', 'course: Congestive heart failure', 'course: Dilated cardiomyopathy', 'course: Arrhythmia', 'course: Aortic dissection'], 1: ['age: 33.4', 'age: 51.2', 'age: 51.9', 'age: 47.8', 'age: 41.5', 'age: 67.3', 'age: 52.8', 'age: 16.1', 'age: 78.9', 'age: 53.2', 'age: 70.9', 'age: 59.9', 'age: 21.9', 'age: 45.2', 'age: 52.4', 'age: 32.3', 'age: 55.8', 'age: 47', 'age: 57.3', 'age: 31.7', 'age: 49.3', 'age: 66.1', 'age: 55.9', 'age: 49.1', 'age: 63', 'age: 21', 'age: 53.6', 'age: 50.1', 'age: 37.4', 'age: 71.5'], 2: ['gender: F', 'gender: M'], 3: ['outcome: Success', 'outcome: Failure', 'outcome: failure']}\n"
     ]
    }
   ],
   "source": [
    "from utils.preprocess import *\n",
    "# 1. Identify the paths to the soft file and the matrix file\n",
    "cohort_dir = '/media/techt/DATA/GEO/Congestive_heart_failure/GSE93101'\n",
    "soft_file, matrix_file = geo_get_relevant_filepaths(cohort_dir)\n",
    "\n",
    "# 2. Read the matrix file to obtain background information and sample characteristics data\n",
    "background_prefixes = ['!Series_title', '!Series_summary', '!Series_overall_design']\n",
    "clinical_prefixes = ['!Sample_geo_accession', '!Sample_characteristics_ch1']\n",
    "background_info, clinical_data = get_background_and_clinical_data(matrix_file, background_prefixes, clinical_prefixes)\n",
    "\n",
    "# 3. Obtain the sample characteristics dictionary from the clinical dataframe\n",
    "sample_characteristics_dict = get_unique_values_by_row(clinical_data)\n",
    "\n",
    "# 4. Explicitly print out all the background information and the sample characteristics dictionary\n",
    "print(\"Background Information:\")\n",
    "print(background_info)\n",
    "print(\"Sample Characteristics Dictionary:\")\n",
    "print(sample_characteristics_dict)\n"
   ]
  },
  {
   "cell_type": "markdown",
   "id": "2a226840",
   "metadata": {},
   "source": [
    "### Step 2: Dataset Analysis and Clinical Feature Extraction"
   ]
  },
  {
   "cell_type": "code",
   "execution_count": 3,
   "id": "7365a45c",
   "metadata": {
    "execution": {
     "iopub.execute_input": "2024-06-12T10:32:54.375868Z",
     "iopub.status.busy": "2024-06-12T10:32:54.375726Z",
     "iopub.status.idle": "2024-06-12T10:32:54.388475Z",
     "shell.execute_reply": "2024-06-12T10:32:54.388179Z"
    }
   },
   "outputs": [
    {
     "name": "stdout",
     "output_type": "stream",
     "text": [
      "{'GSM2443799': [0.0, 33.4, 0.0], 'GSM2443800': [0.0, 51.2, 1.0], 'GSM2443801': [0.0, 51.9, 0.0], 'GSM2443802': [0.0, 47.8, 1.0], 'GSM2443803': [0.0, 41.5, 0.0], 'GSM2443804': [0.0, 67.3, 1.0], 'GSM2443805': [0.0, 52.8, 1.0], 'GSM2443806': [0.0, 16.1, 1.0], 'GSM2443807': [0.0, 78.9, 1.0], 'GSM2443808': [0.0, 53.2, 1.0], 'GSM2443809': [0.0, 70.9, 1.0], 'GSM2443810': [0.0, 59.9, 1.0], 'GSM2443811': [0.0, 21.9, 0.0], 'GSM2443812': [1.0, 45.2, 0.0], 'GSM2443813': [0.0, 52.4, 1.0], 'GSM2443814': [0.0, 32.3, 1.0], 'GSM2443815': [0.0, 52.8, 1.0], 'GSM2443816': [0.0, 55.8, 1.0], 'GSM2443817': [0.0, 47.0, 1.0], 'GSM2443818': [0.0, 55.8, 1.0], 'GSM2443819': [0.0, 57.3, 0.0], 'GSM2443820': [0.0, 31.7, 0.0], 'GSM2443821': [0.0, 49.3, 1.0], 'GSM2443822': [1.0, 66.1, 1.0], 'GSM2443823': [0.0, 55.9, 1.0], 'GSM2443824': [0.0, 49.1, 0.0], 'GSM2443825': [0.0, 63.0, 1.0], 'GSM2443826': [0.0, 21.0, 1.0], 'GSM2443827': [0.0, 53.6, 1.0], 'GSM2443828': [0.0, 50.1, 0.0], 'GSM2443829': [0.0, 37.4, 1.0], 'GSM2443830': [0.0, 71.5, 0.0], 'GSM2443831': [1.0, 56.5, 1.0]}\n"
     ]
    }
   ],
   "source": [
    "is_gene_available = False\n",
    "trait_row = age_row = gender_row = None  # set to different values when applicable\n",
    "convert_trait = convert_age = convert_gender = None  # define the functions when applicable\n",
    "\n",
    "# Checking the availability of gene expression data\n",
    "is_gene_available = True\n",
    "\n",
    "# Data availability for variables\n",
    "trait_row = 0 if any('Congestive heart failure' in s for s in {0: ['course: Acute myocarditis', 'course: Acute myocardial infarction', 'course: Dilated cardiomyopathy, DCMP', 'course: Congestive heart failure', 'course: Dilated cardiomyopathy', 'course: Arrhythmia', 'course: Aortic dissection']}[0]) else None\n",
    "age_row = 1 if len({1: ['age: 33.4', 'age: 51.2', 'age: 51.9', 'age: 47.8', 'age: 41.5', 'age: 67.3', 'age: 52.8', 'age: 16.1', 'age: 78.9', 'age: 53.2', 'age: 70.9', 'age: 59.9', 'age: 21.9', 'age: 45.2', 'age: 52.4', 'age: 32.3', 'age: 55.8', 'age: 47', 'age: 57.3', 'age: 31.7', 'age: 49.3', 'age: 66.1', 'age: 55.9', 'age: 49.1', 'age: 63', 'age: 21', 'age: 53.6', 'age: 50.1', 'age: 37.4', 'age: 71.5']}[1]) > 1 else None\n",
    "gender_row = 2 if len({2: ['gender: F', 'gender: M']}[2]) > 1 else None\n",
    "\n",
    "# Data type conversion functions\n",
    "def convert_trait(value):\n",
    "    val = value.split(':')[-1].strip()\n",
    "    if val == 'Congestive heart failure':\n",
    "        return 1\n",
    "    return 0 if val else None\n",
    "\n",
    "def convert_age(value):\n",
    "    try:\n",
    "        return float(value.split(':')[-1].strip())\n",
    "    except ValueError:\n",
    "        return None\n",
    "    \n",
    "def convert_gender(value):\n",
    "    val = value.split(':')[-1].strip()\n",
    "    if val == 'M':\n",
    "        return 1\n",
    "    elif val == 'F':\n",
    "        return 0\n",
    "    return None\n",
    "\n",
    "# Save cohort information\n",
    "save_cohort_info('GSE93101', './preprocessed/Congestive_heart_failure/cohort_info.json', is_gene_available, trait_row is not None)\n",
    "\n",
    "# Clinical feature extraction if clinical data is available\n",
    "if trait_row is not None:\n",
    "    selected_clinical_data = geo_select_clinical_features(clinical_data, 'Congestive_heart_failure', trait_row, convert_trait, age_row, convert_age, gender_row, convert_gender)\n",
    "    csv_path = './preprocessed/Congestive_heart_failure/trait_data/GSE93101.csv'\n",
    "    selected_clinical_data.to_csv(csv_path)\n",
    "    print(preview_df(selected_clinical_data))\n"
   ]
  },
  {
   "cell_type": "markdown",
   "id": "ceddd9ec",
   "metadata": {},
   "source": [
    "### Step 3: Gene Data Extraction"
   ]
  },
  {
   "cell_type": "code",
   "execution_count": 4,
   "id": "d9f8199f",
   "metadata": {
    "execution": {
     "iopub.execute_input": "2024-06-12T10:32:54.389746Z",
     "iopub.status.busy": "2024-06-12T10:32:54.389644Z",
     "iopub.status.idle": "2024-06-12T10:32:54.516637Z",
     "shell.execute_reply": "2024-06-12T10:32:54.516316Z"
    }
   },
   "outputs": [
    {
     "name": "stdout",
     "output_type": "stream",
     "text": [
      "Index(['ILMN_1343291', 'ILMN_1651209', 'ILMN_1651228', 'ILMN_1651229',\n",
      "       'ILMN_1651235', 'ILMN_1651236', 'ILMN_1651237', 'ILMN_1651238',\n",
      "       'ILMN_1651254', 'ILMN_1651260', 'ILMN_1651262', 'ILMN_1651268',\n",
      "       'ILMN_1651278', 'ILMN_1651282', 'ILMN_1651285', 'ILMN_1651286',\n",
      "       'ILMN_1651292', 'ILMN_1651303', 'ILMN_1651309', 'ILMN_1651315'],\n",
      "      dtype='object', name='ID')\n"
     ]
    }
   ],
   "source": [
    "# 1. Use the get_genetic_data function from the library to get the gene_data from the matrix_file previously defined.\n",
    "gene_data = get_genetic_data(matrix_file)\n",
    "\n",
    "# 2. Print the first 20 row ids for the following step.\n",
    "print(gene_data.index[:20])\n"
   ]
  },
  {
   "cell_type": "markdown",
   "id": "ca604432",
   "metadata": {},
   "source": [
    "### Step 4: Gene Identifier Review"
   ]
  },
  {
   "cell_type": "code",
   "execution_count": 5,
   "id": "03affcbb",
   "metadata": {
    "execution": {
     "iopub.execute_input": "2024-06-12T10:32:54.517969Z",
     "iopub.status.busy": "2024-06-12T10:32:54.517865Z",
     "iopub.status.idle": "2024-06-12T10:32:54.519736Z",
     "shell.execute_reply": "2024-06-12T10:32:54.519467Z"
    }
   },
   "outputs": [],
   "source": [
    "requires_gene_mapping = True\n"
   ]
  },
  {
   "cell_type": "markdown",
   "id": "430a89b9",
   "metadata": {},
   "source": [
    "### Step 5: Gene Annotation (Conditional)"
   ]
  },
  {
   "cell_type": "code",
   "execution_count": 6,
   "id": "8794015e",
   "metadata": {
    "execution": {
     "iopub.execute_input": "2024-06-12T10:32:54.521006Z",
     "iopub.status.busy": "2024-06-12T10:32:54.520908Z",
     "iopub.status.idle": "2024-06-12T10:32:56.908793Z",
     "shell.execute_reply": "2024-06-12T10:32:56.908432Z"
    }
   },
   "outputs": [
    {
     "name": "stdout",
     "output_type": "stream",
     "text": [
      "Gene annotation preview:\n",
      "{'ID': ['ILMN_3166687', 'ILMN_3165566', 'ILMN_3164811', 'ILMN_3165363', 'ILMN_3166511'], 'Transcript': ['ILMN_333737', 'ILMN_333646', 'ILMN_333584', 'ILMN_333628', 'ILMN_333719'], 'Species': ['ILMN Controls', 'ILMN Controls', 'ILMN Controls', 'ILMN Controls', 'ILMN Controls'], 'Source': ['ILMN_Controls', 'ILMN_Controls', 'ILMN_Controls', 'ILMN_Controls', 'ILMN_Controls'], 'Search_Key': ['ERCC-00162', 'ERCC-00071', 'ERCC-00009', 'ERCC-00053', 'ERCC-00144'], 'ILMN_Gene': ['ERCC-00162', 'ERCC-00071', 'ERCC-00009', 'ERCC-00053', 'ERCC-00144'], 'Source_Reference_ID': ['ERCC-00162', 'ERCC-00071', 'ERCC-00009', 'ERCC-00053', 'ERCC-00144'], 'RefSeq_ID': [nan, nan, nan, nan, nan], 'Entrez_Gene_ID': [nan, nan, nan, nan, nan], 'GI': [nan, nan, nan, nan, nan], 'Accession': ['DQ516750', 'DQ883654', 'DQ668364', 'DQ516785', 'DQ854995'], 'Symbol': ['ERCC-00162', 'ERCC-00071', 'ERCC-00009', 'ERCC-00053', 'ERCC-00144'], 'Protein_Product': [nan, nan, nan, nan, nan], 'Array_Address_Id': [5270161.0, 4260594.0, 7610424.0, 5260356.0, 2030196.0], 'Probe_Type': ['S', 'S', 'S', 'S', 'S'], 'Probe_Start': [12.0, 224.0, 868.0, 873.0, 130.0], 'SEQUENCE': ['CCCATGTGTCCAATTCTGAATATCTTTCCAGCTAAGTGCTTCTGCCCACC', 'GGATTAACTGCTGTGGTGTGTCATACTCGGCTACCTCCTGGTTTGGCGTC', 'GACCACGCCTTGTAATCGTATGACACGCGCTTGACACGACTGAATCCAGC', 'CTGCAATGCCATTAACAACCTTAGCACGGTATTTCCAGTAGCTGGTGAGC', 'CGTGCAGACAGGGATCGTAAGGCGATCCAGCCGGTATACCTTAGTCACAT'], 'Chromosome': [nan, nan, nan, nan, nan], 'Probe_Chr_Orientation': [nan, nan, nan, nan, nan], 'Probe_Coordinates': [nan, nan, nan, nan, nan], 'Cytoband': [nan, nan, nan, nan, nan], 'Definition': ['Methanocaldococcus jannaschii spike-in control MJ-500-33 genomic sequence', 'Synthetic construct clone NISTag13 external RNA control sequence', 'Synthetic construct clone TagJ microarray control', 'Methanocaldococcus jannaschii spike-in control MJ-1000-68 genomic sequence', 'Synthetic construct clone AG006.1100 external RNA control sequence'], 'Ontology_Component': [nan, nan, nan, nan, nan], 'Ontology_Process': [nan, nan, nan, nan, nan], 'Ontology_Function': [nan, nan, nan, nan, nan], 'Synonyms': [nan, nan, nan, nan, nan], 'Obsolete_Probe_Id': [nan, nan, nan, nan, nan], 'GB_ACC': ['DQ516750', 'DQ883654', 'DQ668364', 'DQ516785', 'DQ854995']}\n"
     ]
    }
   ],
   "source": [
    "# 1. Use the 'get_gene_annotation' function from the library to get gene annotation data from the soft file.\n",
    "gene_annotation = get_gene_annotation(soft_file)\n",
    "\n",
    "# 2. Use the 'preview_df' function from the library to preview the data and print out the results.\n",
    "print(\"Gene annotation preview:\")\n",
    "print(preview_df(gene_annotation))\n"
   ]
  },
  {
   "cell_type": "markdown",
   "id": "28bfcc0b",
   "metadata": {},
   "source": [
    "### Step 6: Gene Identifier Mapping"
   ]
  },
  {
   "cell_type": "code",
   "execution_count": 7,
   "id": "79740750",
   "metadata": {
    "execution": {
     "iopub.execute_input": "2024-06-12T10:32:56.911026Z",
     "iopub.status.busy": "2024-06-12T10:32:56.910879Z",
     "iopub.status.idle": "2024-06-12T10:32:56.998075Z",
     "shell.execute_reply": "2024-06-12T10:32:56.997678Z"
    }
   },
   "outputs": [],
   "source": [
    "# 1. Determine the identifier and gene symbol keys\n",
    "identifier_key = 'ID'\n",
    "gene_symbol_key = 'Symbol'\n",
    "\n",
    "# 2. Get the dataframe storing the mapping between probe IDs and genes\n",
    "mapping_df = get_gene_mapping(gene_annotation, identifier_key, gene_symbol_key)\n",
    "\n",
    "# 3. Apply the mapping and store the resulting gene expression dataframe as \"gene_data\"\n",
    "gene_data = apply_gene_mapping(gene_data, mapping_df)\n"
   ]
  },
  {
   "cell_type": "markdown",
   "id": "ae42c0e9",
   "metadata": {},
   "source": [
    "### Step 7: Data Normalization and Merging"
   ]
  },
  {
   "cell_type": "code",
   "execution_count": 8,
   "id": "566c9197",
   "metadata": {
    "execution": {
     "iopub.execute_input": "2024-06-12T10:32:57.000262Z",
     "iopub.status.busy": "2024-06-12T10:32:57.000144Z",
     "iopub.status.idle": "2024-06-12T10:33:45.981204Z",
     "shell.execute_reply": "2024-06-12T10:33:45.980576Z"
    }
   },
   "outputs": [
    {
     "name": "stdout",
     "output_type": "stream",
     "text": [
      "For the feature 'Congestive_heart_failure', the least common label is '1.0' with 3 occurrences. This represents 9.09% of the dataset.\n",
      "The distribution of the feature 'Congestive_heart_failure' in this dataset is severely biased.\n",
      "\n",
      "Quartiles for 'Age':\n",
      "  25%: 45.2\n",
      "  50% (Median): 52.4\n",
      "  75%: 56.5\n",
      "Min: 16.1\n",
      "Max: 78.9\n",
      "The distribution of the feature 'Age' in this dataset is fine.\n",
      "\n",
      "For the feature 'Gender', the least common label is '0.0' with 10 occurrences. This represents 30.30% of the dataset.\n",
      "The distribution of the feature 'Gender' in this dataset is fine.\n",
      "\n"
     ]
    }
   ],
   "source": [
    "# 1. Normalize the obtained gene data with the 'normalize_gene_symbols_in_index' function from the library.\n",
    "normalized_gene_data = normalize_gene_symbols_in_index(gene_data)\n",
    "gene_csv_path = './preprocessed/Congestive_heart_failure/gene_data/GSE93101.csv'\n",
    "os.makedirs(os.path.dirname(gene_csv_path), exist_ok=True)\n",
    "normalized_gene_data.to_csv(gene_csv_path)\n",
    "\n",
    "# 2. Merge the clinical and genetic data with the 'geo_merge_clinical_genetic_data' function from the library.\n",
    "merged_data = geo_merge_clinical_genetic_data(selected_clinical_data, normalized_gene_data)\n",
    "\n",
    "# 3. Determine whether the trait and some demographic attributes in the data is severely biased, and remove biased attributes.\n",
    "trait_biased, unbiased_merged_data = judge_and_remove_biased_features(merged_data, 'Congestive_heart_failure')\n",
    "\n",
    "# If the trait is not severely biased, save the cohort information and the merged data.\n",
    "\n",
    "# 4. Save the cohort information.\n",
    "save_cohort_info('GSE93101', './preprocessed/Congestive_heart_failure/cohort_info.json', True, True, trait_biased, merged_data)\n",
    "\n",
    "if not trait_biased:\n",
    "    # 5. If the trait is not severely biased, save the merged data to a csv file.\n",
    "    csv_path = './preprocessed/Congestive_heart_failure/GSE93101.csv'\n",
    "    os.makedirs(os.path.dirname(csv_path), exist_ok=True)\n",
    "    unbiased_merged_data.to_csv(csv_path)\n"
   ]
  }
 ],
 "metadata": {
  "language_info": {
   "codemirror_mode": {
    "name": "ipython",
    "version": 3
   },
   "file_extension": ".py",
   "mimetype": "text/x-python",
   "name": "python",
   "nbconvert_exporter": "python",
   "pygments_lexer": "ipython3",
   "version": "3.8.17"
  }
 },
 "nbformat": 4,
 "nbformat_minor": 5
}
