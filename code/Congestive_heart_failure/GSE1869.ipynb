{
 "cells": [
  {
   "cell_type": "code",
   "execution_count": 1,
   "id": "54277133",
   "metadata": {
    "execution": {
     "iopub.execute_input": "2024-06-12T10:32:53.043356Z",
     "iopub.status.busy": "2024-06-12T10:32:53.043207Z",
     "iopub.status.idle": "2024-06-12T10:32:53.048597Z",
     "shell.execute_reply": "2024-06-12T10:32:53.048200Z"
    }
   },
   "outputs": [],
   "source": [
    "\n",
    "import sys\n",
    "sys.path.append('/home/techt/Desktop/a4s')\n"
   ]
  },
  {
   "cell_type": "markdown",
   "id": "253b8722",
   "metadata": {},
   "source": [
    "### Step 1: Initial Data Loading"
   ]
  },
  {
   "cell_type": "code",
   "execution_count": 2,
   "id": "57fb19fe",
   "metadata": {
    "execution": {
     "iopub.execute_input": "2024-06-12T10:32:53.050264Z",
     "iopub.status.busy": "2024-06-12T10:32:53.049951Z",
     "iopub.status.idle": "2024-06-12T10:32:53.337117Z",
     "shell.execute_reply": "2024-06-12T10:32:53.336743Z"
    }
   },
   "outputs": [
    {
     "name": "stdout",
     "output_type": "stream",
     "text": [
      "Background Information:\n",
      "!Series_title\t\"Ischemic and Nonischemic CM and NF Hearts\"\n",
      "!Series_summary\t\"Pre-LVAD and explanted ischemic and nonischemic cardiomyopathy and nonfailing hearts all normalized with RMA\"\n",
      "!Series_summary\t\"Keywords: other\"\n",
      "Sample Characteristics Dictionary:\n",
      "{}\n"
     ]
    }
   ],
   "source": [
    "from utils.preprocess import *\n",
    "# 1. Identify the paths to the soft file and the matrix file\n",
    "cohort_dir = '/media/techt/DATA/GEO/Congestive_heart_failure/GSE1869'\n",
    "soft_file, matrix_file = geo_get_relevant_filepaths(cohort_dir)\n",
    "\n",
    "# 2. Read the matrix file to obtain background information and sample characteristics data\n",
    "background_prefixes = ['!Series_title', '!Series_summary', '!Series_overall_design']\n",
    "clinical_prefixes = ['!Sample_geo_accession', '!Sample_characteristics_ch1']\n",
    "background_info, clinical_data = get_background_and_clinical_data(matrix_file, background_prefixes, clinical_prefixes)\n",
    "\n",
    "# 3. Obtain the sample characteristics dictionary from the clinical dataframe\n",
    "sample_characteristics_dict = get_unique_values_by_row(clinical_data)\n",
    "\n",
    "# 4. Explicitly print out all the background information and the sample characteristics dictionary\n",
    "print(\"Background Information:\")\n",
    "print(background_info)\n",
    "print(\"Sample Characteristics Dictionary:\")\n",
    "print(sample_characteristics_dict)\n"
   ]
  },
  {
   "cell_type": "markdown",
   "id": "4dd89e75",
   "metadata": {},
   "source": [
    "### Step 2: Dataset Analysis and Clinical Feature Extraction"
   ]
  },
  {
   "cell_type": "code",
   "execution_count": 3,
   "id": "85deb594",
   "metadata": {
    "execution": {
     "iopub.execute_input": "2024-06-12T10:32:53.338886Z",
     "iopub.status.busy": "2024-06-12T10:32:53.338750Z",
     "iopub.status.idle": "2024-06-12T10:32:53.342764Z",
     "shell.execute_reply": "2024-06-12T10:32:53.342488Z"
    }
   },
   "outputs": [
    {
     "name": "stdout",
     "output_type": "stream",
     "text": [
      "A new JSON file was created at: ./preprocessed/Congestive_heart_failure/cohort_info.json\n"
     ]
    }
   ],
   "source": [
    "is_gene_available = False\n",
    "trait_row = age_row = gender_row = None  # set to different values when applicable\n",
    "convert_trait = convert_age = convert_gender = None  # define the functions when applicable\n",
    "\n",
    "# Determine gene expression data availability\n",
    "is_gene_available = True\n",
    "\n",
    "# Variable Availability and Data Type Conversion\n",
    "trait_row = None\n",
    "age_row = None\n",
    "gender_row = None\n",
    "\n",
    "def convert_trait(value):\n",
    "    try:\n",
    "        return int(value.split(':')[1].strip())\n",
    "    except:\n",
    "        return None\n",
    "\n",
    "def convert_age(value):\n",
    "    try:\n",
    "        return float(value.split(':')[1].strip())\n",
    "    except:\n",
    "        return None\n",
    "\n",
    "def convert_gender(value):\n",
    "    gender_str = value.split(':')[1].strip().lower()\n",
    "    if gender_str in ['male', 'm']:\n",
    "        return 1\n",
    "    elif gender_str in ['female', 'f']:\n",
    "        return 0\n",
    "    else:\n",
    "        return None\n",
    "\n",
    "# Since we assume no clinical data is available from the provided output\n",
    "save_cohort_info('GSE1869', './preprocessed/Congestive_heart_failure/cohort_info.json', is_gene_available, trait_row is not None)\n"
   ]
  }
 ],
 "metadata": {
  "language_info": {
   "codemirror_mode": {
    "name": "ipython",
    "version": 3
   },
   "file_extension": ".py",
   "mimetype": "text/x-python",
   "name": "python",
   "nbconvert_exporter": "python",
   "pygments_lexer": "ipython3",
   "version": "3.8.17"
  }
 },
 "nbformat": 4,
 "nbformat_minor": 5
}
