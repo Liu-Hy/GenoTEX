{
 "cells": [
  {
   "cell_type": "code",
   "execution_count": 1,
   "id": "935d8b27",
   "metadata": {
    "execution": {
     "iopub.execute_input": "2025-03-25T08:25:14.800886Z",
     "iopub.status.busy": "2025-03-25T08:25:14.800776Z",
     "iopub.status.idle": "2025-03-25T08:25:14.970087Z",
     "shell.execute_reply": "2025-03-25T08:25:14.969718Z"
    }
   },
   "outputs": [],
   "source": [
    "import sys\n",
    "import os\n",
    "sys.path.append(os.path.abspath(os.path.join(os.getcwd(), '../..')))\n",
    "\n",
    "# Path Configuration\n",
    "from tools.preprocess import *\n",
    "\n",
    "# Processing context\n",
    "trait = \"Congestive_heart_failure\"\n",
    "cohort = \"GSE182600\"\n",
    "\n",
    "# Input paths\n",
    "in_trait_dir = \"../../input/GEO/Congestive_heart_failure\"\n",
    "in_cohort_dir = \"../../input/GEO/Congestive_heart_failure/GSE182600\"\n",
    "\n",
    "# Output paths\n",
    "out_data_file = \"../../output/preprocess/Congestive_heart_failure/GSE182600.csv\"\n",
    "out_gene_data_file = \"../../output/preprocess/Congestive_heart_failure/gene_data/GSE182600.csv\"\n",
    "out_clinical_data_file = \"../../output/preprocess/Congestive_heart_failure/clinical_data/GSE182600.csv\"\n",
    "json_path = \"../../output/preprocess/Congestive_heart_failure/cohort_info.json\"\n"
   ]
  },
  {
   "cell_type": "markdown",
   "id": "58903b36",
   "metadata": {},
   "source": [
    "### Step 1: Initial Data Loading"
   ]
  },
  {
   "cell_type": "code",
   "execution_count": 2,
   "id": "65c5fd50",
   "metadata": {
    "execution": {
     "iopub.execute_input": "2025-03-25T08:25:14.971552Z",
     "iopub.status.busy": "2025-03-25T08:25:14.971403Z",
     "iopub.status.idle": "2025-03-25T08:25:15.163888Z",
     "shell.execute_reply": "2025-03-25T08:25:15.163481Z"
    }
   },
   "outputs": [
    {
     "name": "stdout",
     "output_type": "stream",
     "text": [
      "Background Information:\n",
      "!Series_title\t\"Gene Expression of Cardiogenic Shock Patients under Extracorporeal Membrane Oxygenation\"\n",
      "!Series_summary\t\"Prognosis for cardiogenic shock patients under ECMO was our study goal. Success defined as survived more than 7 days after ECMO installation and failure died or had multiple organ failure in 7 days. Total 34 cases were enrolled, 17 success and 17 failure.\"\n",
      "!Series_summary\t\"Peripheral blood mononuclear cells collected at ECMO installation 0hr, 2hr and removal were used analyzed.\"\n",
      "!Series_overall_design\t\"Analysis of the cardiogenic shock patients at extracorporeal membrane oxygenation treatment by genome-wide gene expression. Transcriptomic profiling between successful and failure groups were analyzed.\"\n",
      "Sample Characteristics Dictionary:\n",
      "{0: ['disease state: Acute myocarditis', 'disease state: Acute myocardial infarction', 'disease state: Dilated cardiomyopathy, DCMP', 'disease state: Congestive heart failure', 'disease state: Dilated cardiomyopathy', 'disease state: Arrhythmia', 'disease state: Aortic dissection'], 1: ['age: 33.4', 'age: 51.2', 'age: 51.9', 'age: 47.8', 'age: 41.5', 'age: 67.3', 'age: 52.8', 'age: 16.1', 'age: 78.9', 'age: 53.2', 'age: 70.9', 'age: 59.9', 'age: 21.9', 'age: 45.2', 'age: 52.4', 'age: 32.3', 'age: 55.8', 'age: 47', 'age: 57.3', 'age: 31.7', 'age: 49.3', 'age: 66.1', 'age: 55.9', 'age: 49.1', 'age: 63', 'age: 21', 'age: 53.6', 'age: 50.1', 'age: 37.4', 'age: 71.5'], 2: ['gender: F', 'gender: M'], 3: ['outcome: Success', 'outcome: Failure', 'outcome: failure'], 4: ['cell type: PBMC'], 5: ['time: 0hr', 'time: 2hr', 'time: Removal']}\n"
     ]
    }
   ],
   "source": [
    "from tools.preprocess import *\n",
    "# 1. Identify the paths to the SOFT file and the matrix file\n",
    "soft_file, matrix_file = geo_get_relevant_filepaths(in_cohort_dir)\n",
    "\n",
    "# 2. Read the matrix file to obtain background information and sample characteristics data\n",
    "background_prefixes = ['!Series_title', '!Series_summary', '!Series_overall_design']\n",
    "clinical_prefixes = ['!Sample_geo_accession', '!Sample_characteristics_ch1']\n",
    "background_info, clinical_data = get_background_and_clinical_data(matrix_file, background_prefixes, clinical_prefixes)\n",
    "\n",
    "# 3. Obtain the sample characteristics dictionary from the clinical dataframe\n",
    "sample_characteristics_dict = get_unique_values_by_row(clinical_data)\n",
    "\n",
    "# 4. Explicitly print out all the background information and the sample characteristics dictionary\n",
    "print(\"Background Information:\")\n",
    "print(background_info)\n",
    "print(\"Sample Characteristics Dictionary:\")\n",
    "print(sample_characteristics_dict)\n"
   ]
  },
  {
   "cell_type": "markdown",
   "id": "936da96f",
   "metadata": {},
   "source": [
    "### Step 2: Dataset Analysis and Clinical Feature Extraction"
   ]
  },
  {
   "cell_type": "code",
   "execution_count": 3,
   "id": "0f6ebafa",
   "metadata": {
    "execution": {
     "iopub.execute_input": "2025-03-25T08:25:15.165382Z",
     "iopub.status.busy": "2025-03-25T08:25:15.165264Z",
     "iopub.status.idle": "2025-03-25T08:25:15.171480Z",
     "shell.execute_reply": "2025-03-25T08:25:15.171192Z"
    }
   },
   "outputs": [
    {
     "data": {
      "text/plain": [
       "False"
      ]
     },
     "execution_count": 3,
     "metadata": {},
     "output_type": "execute_result"
    }
   ],
   "source": [
    "# 1. Gene Expression Data Availability\n",
    "# Based on the background information, this dataset appears to contain gene expression data\n",
    "is_gene_available = True\n",
    "\n",
    "# 2. Variable Availability and Data Type Conversion\n",
    "# For trait (Congestive heart failure)\n",
    "# Looking at the sample characteristics, outcome (row 3) indicates success or failure of ECMO treatment\n",
    "# which is directly related to the trait of congestive heart failure\n",
    "trait_row = 3\n",
    "\n",
    "def convert_trait(value):\n",
    "    if value is None:\n",
    "        return None\n",
    "    \n",
    "    # Extract value after colon if present\n",
    "    if ':' in value:\n",
    "        value = value.split(':', 1)[1].strip()\n",
    "    \n",
    "    # Convert to binary: 1 for failure (worse outcome), 0 for success\n",
    "    if value.lower() in ['failure']:\n",
    "        return 1\n",
    "    elif value.lower() == 'success':\n",
    "        return 0\n",
    "    return None\n",
    "\n",
    "# For age\n",
    "age_row = 1\n",
    "\n",
    "def convert_age(value):\n",
    "    if value is None:\n",
    "        return None\n",
    "    \n",
    "    # Extract value after colon if present\n",
    "    if ':' in value:\n",
    "        value = value.split(':', 1)[1].strip()\n",
    "    \n",
    "    try:\n",
    "        return float(value)\n",
    "    except:\n",
    "        return None\n",
    "\n",
    "# For gender\n",
    "gender_row = 2\n",
    "\n",
    "def convert_gender(value):\n",
    "    if value is None:\n",
    "        return None\n",
    "    \n",
    "    # Extract value after colon if present\n",
    "    if ':' in value:\n",
    "        value = value.split(':', 1)[1].strip()\n",
    "    \n",
    "    # Convert to binary: 0 for female, 1 for male\n",
    "    if value.upper() == 'F':\n",
    "        return 0\n",
    "    elif value.upper() == 'M':\n",
    "        return 1\n",
    "    return None\n",
    "\n",
    "# 3. Save Metadata\n",
    "# Initial filtering - check if both gene and trait data are available\n",
    "is_trait_available = trait_row is not None\n",
    "validate_and_save_cohort_info(\n",
    "    is_final=False, \n",
    "    cohort=cohort, \n",
    "    info_path=json_path, \n",
    "    is_gene_available=is_gene_available, \n",
    "    is_trait_available=is_trait_available\n",
    ")\n",
    "\n",
    "# 4. Clinical Feature Extraction\n",
    "# I'll skip this part for now as we don't have the proper clinical data structure\n",
    "# This will be handled in the next step when we have the appropriate data format\n"
   ]
  },
  {
   "cell_type": "markdown",
   "id": "fcdc3b78",
   "metadata": {},
   "source": [
    "### Step 3: Gene Data Extraction"
   ]
  },
  {
   "cell_type": "code",
   "execution_count": 4,
   "id": "41dc21d1",
   "metadata": {
    "execution": {
     "iopub.execute_input": "2025-03-25T08:25:15.172614Z",
     "iopub.status.busy": "2025-03-25T08:25:15.172505Z",
     "iopub.status.idle": "2025-03-25T08:25:15.520121Z",
     "shell.execute_reply": "2025-03-25T08:25:15.519718Z"
    }
   },
   "outputs": [
    {
     "name": "stdout",
     "output_type": "stream",
     "text": [
      "Matrix file found: ../../input/GEO/Congestive_heart_failure/GSE182600/GSE182600_series_matrix.txt.gz\n"
     ]
    },
    {
     "name": "stdout",
     "output_type": "stream",
     "text": [
      "Gene data shape: (29363, 78)\n",
      "First 20 gene/probe identifiers:\n",
      "Index(['ILMN_1343291', 'ILMN_1651209', 'ILMN_1651228', 'ILMN_1651229',\n",
      "       'ILMN_1651235', 'ILMN_1651236', 'ILMN_1651237', 'ILMN_1651238',\n",
      "       'ILMN_1651254', 'ILMN_1651260', 'ILMN_1651262', 'ILMN_1651268',\n",
      "       'ILMN_1651278', 'ILMN_1651282', 'ILMN_1651285', 'ILMN_1651286',\n",
      "       'ILMN_1651292', 'ILMN_1651303', 'ILMN_1651309', 'ILMN_1651315'],\n",
      "      dtype='object', name='ID')\n"
     ]
    }
   ],
   "source": [
    "# 1. Get the SOFT and matrix file paths again \n",
    "soft_file, matrix_file = geo_get_relevant_filepaths(in_cohort_dir)\n",
    "print(f\"Matrix file found: {matrix_file}\")\n",
    "\n",
    "# 2. Use the get_genetic_data function from the library to get the gene_data\n",
    "try:\n",
    "    gene_data = get_genetic_data(matrix_file)\n",
    "    print(f\"Gene data shape: {gene_data.shape}\")\n",
    "    \n",
    "    # 3. Print the first 20 row IDs (gene or probe identifiers)\n",
    "    print(\"First 20 gene/probe identifiers:\")\n",
    "    print(gene_data.index[:20])\n",
    "except Exception as e:\n",
    "    print(f\"Error extracting gene data: {e}\")\n"
   ]
  },
  {
   "cell_type": "markdown",
   "id": "b3230465",
   "metadata": {},
   "source": [
    "### Step 4: Gene Identifier Review"
   ]
  },
  {
   "cell_type": "code",
   "execution_count": 5,
   "id": "35182ced",
   "metadata": {
    "execution": {
     "iopub.execute_input": "2025-03-25T08:25:15.521489Z",
     "iopub.status.busy": "2025-03-25T08:25:15.521363Z",
     "iopub.status.idle": "2025-03-25T08:25:15.523304Z",
     "shell.execute_reply": "2025-03-25T08:25:15.523017Z"
    }
   },
   "outputs": [],
   "source": [
    "# The gene identifiers start with 'ILMN_', which indicates these are Illumina array probe IDs,\n",
    "# not standard human gene symbols. These IDs need to be mapped to official gene symbols\n",
    "# for proper biological interpretation.\n",
    "\n",
    "# Illumina probe IDs like ILMN_1343291 need to be converted to their corresponding gene symbols\n",
    "# using annotation information typically provided in platform files or through bioinformatics\n",
    "# databases.\n",
    "\n",
    "requires_gene_mapping = True\n"
   ]
  },
  {
   "cell_type": "markdown",
   "id": "b394d6e1",
   "metadata": {},
   "source": [
    "### Step 5: Gene Annotation"
   ]
  },
  {
   "cell_type": "code",
   "execution_count": 6,
   "id": "4729ed07",
   "metadata": {
    "execution": {
     "iopub.execute_input": "2025-03-25T08:25:15.524558Z",
     "iopub.status.busy": "2025-03-25T08:25:15.524446Z",
     "iopub.status.idle": "2025-03-25T08:25:41.315718Z",
     "shell.execute_reply": "2025-03-25T08:25:41.315342Z"
    }
   },
   "outputs": [
    {
     "name": "stdout",
     "output_type": "stream",
     "text": [
      "\n",
      "Gene annotation preview:\n",
      "Columns in gene annotation: ['ID', 'Transcript', 'Species', 'Source', 'Search_Key', 'ILMN_Gene', 'Source_Reference_ID', 'RefSeq_ID', 'Entrez_Gene_ID', 'GI', 'Accession', 'Symbol', 'Protein_Product', 'Array_Address_Id', 'Probe_Type', 'Probe_Start', 'SEQUENCE', 'Chromosome', 'Probe_Chr_Orientation', 'Probe_Coordinates', 'Cytoband', 'Definition', 'Ontology_Component', 'Ontology_Process', 'Ontology_Function', 'Synonyms', 'Obsolete_Probe_Id', 'GB_ACC']\n",
      "{'ID': ['ILMN_3166687', 'ILMN_3165566', 'ILMN_3164811', 'ILMN_3165363', 'ILMN_3166511'], 'Transcript': ['ILMN_333737', 'ILMN_333646', 'ILMN_333584', 'ILMN_333628', 'ILMN_333719'], 'Species': ['ILMN Controls', 'ILMN Controls', 'ILMN Controls', 'ILMN Controls', 'ILMN Controls'], 'Source': ['ILMN_Controls', 'ILMN_Controls', 'ILMN_Controls', 'ILMN_Controls', 'ILMN_Controls'], 'Search_Key': ['ERCC-00162', 'ERCC-00071', 'ERCC-00009', 'ERCC-00053', 'ERCC-00144'], 'ILMN_Gene': ['ERCC-00162', 'ERCC-00071', 'ERCC-00009', 'ERCC-00053', 'ERCC-00144'], 'Source_Reference_ID': ['ERCC-00162', 'ERCC-00071', 'ERCC-00009', 'ERCC-00053', 'ERCC-00144'], 'RefSeq_ID': [nan, nan, nan, nan, nan], 'Entrez_Gene_ID': [nan, nan, nan, nan, nan], 'GI': [nan, nan, nan, nan, nan], 'Accession': ['DQ516750', 'DQ883654', 'DQ668364', 'DQ516785', 'DQ854995'], 'Symbol': ['ERCC-00162', 'ERCC-00071', 'ERCC-00009', 'ERCC-00053', 'ERCC-00144'], 'Protein_Product': [nan, nan, nan, nan, nan], 'Array_Address_Id': [5270161.0, 4260594.0, 7610424.0, 5260356.0, 2030196.0], 'Probe_Type': ['S', 'S', 'S', 'S', 'S'], 'Probe_Start': [12.0, 224.0, 868.0, 873.0, 130.0], 'SEQUENCE': ['CCCATGTGTCCAATTCTGAATATCTTTCCAGCTAAGTGCTTCTGCCCACC', 'GGATTAACTGCTGTGGTGTGTCATACTCGGCTACCTCCTGGTTTGGCGTC', 'GACCACGCCTTGTAATCGTATGACACGCGCTTGACACGACTGAATCCAGC', 'CTGCAATGCCATTAACAACCTTAGCACGGTATTTCCAGTAGCTGGTGAGC', 'CGTGCAGACAGGGATCGTAAGGCGATCCAGCCGGTATACCTTAGTCACAT'], 'Chromosome': [nan, nan, nan, nan, nan], 'Probe_Chr_Orientation': [nan, nan, nan, nan, nan], 'Probe_Coordinates': [nan, nan, nan, nan, nan], 'Cytoband': [nan, nan, nan, nan, nan], 'Definition': ['Methanocaldococcus jannaschii spike-in control MJ-500-33 genomic sequence', 'Synthetic construct clone NISTag13 external RNA control sequence', 'Synthetic construct clone TagJ microarray control', 'Methanocaldococcus jannaschii spike-in control MJ-1000-68 genomic sequence', 'Synthetic construct clone AG006.1100 external RNA control sequence'], 'Ontology_Component': [nan, nan, nan, nan, nan], 'Ontology_Process': [nan, nan, nan, nan, nan], 'Ontology_Function': [nan, nan, nan, nan, nan], 'Synonyms': [nan, nan, nan, nan, nan], 'Obsolete_Probe_Id': [nan, nan, nan, nan, nan], 'GB_ACC': ['DQ516750', 'DQ883654', 'DQ668364', 'DQ516785', 'DQ854995']}\n",
      "\n",
      "Analyzing SPOT_ID.1 column for gene symbols:\n",
      "\n",
      "Gene data ID prefix: ILMN\n"
     ]
    },
    {
     "name": "stdout",
     "output_type": "stream",
     "text": [
      "Column 'ID' contains values matching gene data ID pattern\n"
     ]
    },
    {
     "name": "stdout",
     "output_type": "stream",
     "text": [
      "Column 'Transcript' contains values matching gene data ID pattern\n"
     ]
    },
    {
     "name": "stdout",
     "output_type": "stream",
     "text": [
      "Column 'Species' contains values matching gene data ID pattern\n"
     ]
    },
    {
     "name": "stdout",
     "output_type": "stream",
     "text": [
      "Column 'Source' contains values matching gene data ID pattern\n"
     ]
    },
    {
     "name": "stdout",
     "output_type": "stream",
     "text": [
      "\n",
      "Checking for columns containing transcript or gene related terms:\n",
      "Column 'Transcript' may contain gene-related information\n",
      "Sample values: ['ILMN_333737', 'ILMN_333646', 'ILMN_333584']\n",
      "Column 'ILMN_Gene' may contain gene-related information\n",
      "Sample values: ['ERCC-00162', 'ERCC-00071', 'ERCC-00009']\n",
      "Column 'Entrez_Gene_ID' may contain gene-related information\n",
      "Sample values: [nan, nan, nan]\n",
      "Column 'Symbol' may contain gene-related information\n",
      "Sample values: ['ERCC-00162', 'ERCC-00071', 'ERCC-00009']\n"
     ]
    }
   ],
   "source": [
    "# 1. Use the 'get_gene_annotation' function from the library to get gene annotation data from the SOFT file.\n",
    "gene_annotation = get_gene_annotation(soft_file)\n",
    "\n",
    "# 2. Analyze the gene annotation dataframe to identify which columns contain the gene identifiers and gene symbols\n",
    "print(\"\\nGene annotation preview:\")\n",
    "print(f\"Columns in gene annotation: {gene_annotation.columns.tolist()}\")\n",
    "print(preview_df(gene_annotation, n=5))\n",
    "\n",
    "# Check for gene information in the SPOT_ID.1 column which appears to contain gene names\n",
    "print(\"\\nAnalyzing SPOT_ID.1 column for gene symbols:\")\n",
    "if 'SPOT_ID.1' in gene_annotation.columns:\n",
    "    # Extract a few sample values\n",
    "    sample_values = gene_annotation['SPOT_ID.1'].head(3).tolist()\n",
    "    for i, value in enumerate(sample_values):\n",
    "        print(f\"Sample {i+1} excerpt: {value[:200]}...\")  # Print first 200 chars\n",
    "        # Test the extract_human_gene_symbols function on these values\n",
    "        symbols = extract_human_gene_symbols(value)\n",
    "        print(f\"  Extracted gene symbols: {symbols}\")\n",
    "\n",
    "# Try to find the probe IDs in the gene annotation\n",
    "gene_data_id_prefix = gene_data.index[0].split('_')[0]  # Get prefix of first gene ID\n",
    "print(f\"\\nGene data ID prefix: {gene_data_id_prefix}\")\n",
    "\n",
    "# Look for columns that might match the gene data IDs\n",
    "for col in gene_annotation.columns:\n",
    "    if gene_annotation[col].astype(str).str.contains(gene_data_id_prefix).any():\n",
    "        print(f\"Column '{col}' contains values matching gene data ID pattern\")\n",
    "\n",
    "# Check if there's any column that might contain transcript or gene IDs\n",
    "print(\"\\nChecking for columns containing transcript or gene related terms:\")\n",
    "for col in gene_annotation.columns:\n",
    "    if any(term in col.upper() for term in ['GENE', 'TRANSCRIPT', 'SYMBOL', 'NAME', 'DESCRIPTION']):\n",
    "        print(f\"Column '{col}' may contain gene-related information\")\n",
    "        # Show sample values\n",
    "        print(f\"Sample values: {gene_annotation[col].head(3).tolist()}\")\n"
   ]
  },
  {
   "cell_type": "markdown",
   "id": "0e6cfa72",
   "metadata": {},
   "source": [
    "### Step 6: Gene Identifier Mapping"
   ]
  },
  {
   "cell_type": "code",
   "execution_count": 7,
   "id": "714c6291",
   "metadata": {
    "execution": {
     "iopub.execute_input": "2025-03-25T08:25:41.317128Z",
     "iopub.status.busy": "2025-03-25T08:25:41.316994Z",
     "iopub.status.idle": "2025-03-25T08:25:42.898238Z",
     "shell.execute_reply": "2025-03-25T08:25:42.897830Z"
    }
   },
   "outputs": [
    {
     "name": "stdout",
     "output_type": "stream",
     "text": [
      "Gene mapping dataframe sample:\n",
      "             ID        Gene\n",
      "0  ILMN_3166687  ERCC-00162\n",
      "1  ILMN_3165566  ERCC-00071\n",
      "2  ILMN_3164811  ERCC-00009\n",
      "3  ILMN_3165363  ERCC-00053\n",
      "4  ILMN_3166511  ERCC-00144\n",
      "Mapping dataframe shape: (29377, 2)\n"
     ]
    },
    {
     "name": "stdout",
     "output_type": "stream",
     "text": [
      "\n",
      "Gene expression data shape after mapping: (20206, 78)\n",
      "First 10 gene symbols after mapping:\n",
      "['A1BG', 'A1CF', 'A26C3', 'A2BP1', 'A2LD1', 'A2M', 'A2ML1', 'A3GALT2', 'A4GALT', 'A4GNT']\n"
     ]
    },
    {
     "name": "stdout",
     "output_type": "stream",
     "text": [
      "Gene expression data saved to: ../../output/preprocess/Congestive_heart_failure/gene_data/GSE182600.csv\n"
     ]
    }
   ],
   "source": [
    "# 1. Identify the columns in gene_annotation that correspond to gene identifiers and gene symbols\n",
    "# From the previous output, we can see:\n",
    "# - The 'ID' column contains values matching the ILMN_ pattern used in gene_data index\n",
    "# - The 'Symbol' column appears to contain gene symbols\n",
    "\n",
    "# 2. Get a gene mapping dataframe using the get_gene_mapping function\n",
    "probe_col = 'ID'\n",
    "gene_col = 'Symbol'\n",
    "gene_mapping = get_gene_mapping(gene_annotation, probe_col, gene_col)\n",
    "\n",
    "# Preview the mapping dataframe\n",
    "print(\"Gene mapping dataframe sample:\")\n",
    "print(gene_mapping.head())\n",
    "print(f\"Mapping dataframe shape: {gene_mapping.shape}\")\n",
    "\n",
    "# 3. Apply the gene mapping to convert probe-level data to gene-level data\n",
    "# The apply_gene_mapping function handles the many-to-many mapping as specified\n",
    "gene_data = apply_gene_mapping(gene_data, gene_mapping)\n",
    "\n",
    "# Print information about the resulting gene expression dataframe\n",
    "print(f\"\\nGene expression data shape after mapping: {gene_data.shape}\")\n",
    "print(\"First 10 gene symbols after mapping:\")\n",
    "print(gene_data.index[:10].tolist())\n",
    "\n",
    "# Save the gene data to a CSV file\n",
    "gene_data.to_csv(out_gene_data_file)\n",
    "print(f\"Gene expression data saved to: {out_gene_data_file}\")\n"
   ]
  },
  {
   "cell_type": "markdown",
   "id": "aa84763a",
   "metadata": {},
   "source": [
    "### Step 7: Data Normalization and Linking"
   ]
  },
  {
   "cell_type": "code",
   "execution_count": 8,
   "id": "260a86ff",
   "metadata": {
    "execution": {
     "iopub.execute_input": "2025-03-25T08:25:42.899819Z",
     "iopub.status.busy": "2025-03-25T08:25:42.899604Z",
     "iopub.status.idle": "2025-03-25T08:25:55.500301Z",
     "shell.execute_reply": "2025-03-25T08:25:55.499894Z"
    }
   },
   "outputs": [
    {
     "name": "stdout",
     "output_type": "stream",
     "text": [
      "Gene data shape before normalization: (20206, 78)\n",
      "Gene data shape after normalization: (19445, 78)\n"
     ]
    },
    {
     "name": "stdout",
     "output_type": "stream",
     "text": [
      "Normalized gene expression data saved to ../../output/preprocess/Congestive_heart_failure/gene_data/GSE182600.csv\n",
      "Original clinical data preview:\n",
      "         !Sample_geo_accession                        GSM5532093  \\\n",
      "0  !Sample_characteristics_ch1  disease state: Acute myocarditis   \n",
      "1  !Sample_characteristics_ch1                         age: 33.4   \n",
      "2  !Sample_characteristics_ch1                         gender: F   \n",
      "3  !Sample_characteristics_ch1                  outcome: Success   \n",
      "4  !Sample_characteristics_ch1                   cell type: PBMC   \n",
      "\n",
      "                         GSM5532094                        GSM5532095  \\\n",
      "0  disease state: Acute myocarditis  disease state: Acute myocarditis   \n",
      "1                         age: 51.2                         age: 51.9   \n",
      "2                         gender: M                         gender: F   \n",
      "3                  outcome: Success                  outcome: Failure   \n",
      "4                   cell type: PBMC                   cell type: PBMC   \n",
      "\n",
      "                                   GSM5532096  \\\n",
      "0  disease state: Acute myocardial infarction   \n",
      "1                                   age: 47.8   \n",
      "2                                   gender: M   \n",
      "3                            outcome: Success   \n",
      "4                             cell type: PBMC   \n",
      "\n",
      "                         GSM5532097  \\\n",
      "0  disease state: Acute myocarditis   \n",
      "1                         age: 41.5   \n",
      "2                         gender: F   \n",
      "3                  outcome: Failure   \n",
      "4                   cell type: PBMC   \n",
      "\n",
      "                                   GSM5532098  \\\n",
      "0  disease state: Acute myocardial infarction   \n",
      "1                                   age: 67.3   \n",
      "2                                   gender: M   \n",
      "3                            outcome: Failure   \n",
      "4                             cell type: PBMC   \n",
      "\n",
      "                                   GSM5532099  \\\n",
      "0  disease state: Acute myocardial infarction   \n",
      "1                                   age: 52.8   \n",
      "2                                   gender: M   \n",
      "3                            outcome: Success   \n",
      "4                             cell type: PBMC   \n",
      "\n",
      "                                    GSM5532100  \\\n",
      "0  disease state: Dilated cardiomyopathy, DCMP   \n",
      "1                                    age: 16.1   \n",
      "2                                    gender: M   \n",
      "3                             outcome: Failure   \n",
      "4                              cell type: PBMC   \n",
      "\n",
      "                                   GSM5532101  ...  \\\n",
      "0  disease state: Acute myocardial infarction  ...   \n",
      "1                                   age: 78.9  ...   \n",
      "2                                   gender: M  ...   \n",
      "3                            outcome: Failure  ...   \n",
      "4                             cell type: PBMC  ...   \n",
      "\n",
      "                                   GSM5532161  \\\n",
      "0  disease state: Acute myocardial infarction   \n",
      "1                                   age: 52.8   \n",
      "2                                   gender: M   \n",
      "3                            outcome: Success   \n",
      "4                             cell type: PBMC   \n",
      "\n",
      "                                   GSM5532162  \\\n",
      "0  disease state: Acute myocardial infarction   \n",
      "1                                   age: 53.2   \n",
      "2                                   gender: M   \n",
      "3                            outcome: Success   \n",
      "4                             cell type: PBMC   \n",
      "\n",
      "                         GSM5532163                 GSM5532164  \\\n",
      "0  disease state: Acute myocarditis  disease state: Arrhythmia   \n",
      "1                         age: 21.9                  age: 55.8   \n",
      "2                         gender: F                  gender: M   \n",
      "3                  outcome: Success           outcome: Success   \n",
      "4                   cell type: PBMC            cell type: PBMC   \n",
      "\n",
      "                              GSM5532165  \\\n",
      "0  disease state: Dilated cardiomyopathy   \n",
      "1                                age: 47   \n",
      "2                              gender: M   \n",
      "3                       outcome: Success   \n",
      "4                        cell type: PBMC   \n",
      "\n",
      "                                   GSM5532166  \\\n",
      "0  disease state: Acute myocardial infarction   \n",
      "1                                   age: 49.3   \n",
      "2                                   gender: M   \n",
      "3                            outcome: Success   \n",
      "4                             cell type: PBMC   \n",
      "\n",
      "                                GSM5532167  \\\n",
      "0  disease state: Congestive heart failure   \n",
      "1                                age: 66.1   \n",
      "2                                gender: M   \n",
      "3                         outcome: Success   \n",
      "4                          cell type: PBMC   \n",
      "\n",
      "                                   GSM5532168  \\\n",
      "0  disease state: Acute myocardial infarction   \n",
      "1                                   age: 53.6   \n",
      "2                                   gender: M   \n",
      "3                            outcome: Success   \n",
      "4                             cell type: PBMC   \n",
      "\n",
      "                                   GSM5532169  \\\n",
      "0  disease state: Acute myocardial infarction   \n",
      "1                                   age: 50.1   \n",
      "2                                   gender: F   \n",
      "3                            outcome: Success   \n",
      "4                             cell type: PBMC   \n",
      "\n",
      "                                GSM5532170  \n",
      "0  disease state: Congestive heart failure  \n",
      "1                                age: 56.5  \n",
      "2                                gender: M  \n",
      "3                         outcome: Success  \n",
      "4                          cell type: PBMC  \n",
      "\n",
      "[5 rows x 79 columns]\n",
      "Selected clinical data shape: (3, 78)\n",
      "Clinical data preview:\n",
      "                          GSM5532093  GSM5532094  GSM5532095  GSM5532096  \\\n",
      "Congestive_heart_failure         0.0         0.0         1.0         0.0   \n",
      "Age                             33.4        51.2        51.9        47.8   \n",
      "Gender                           0.0         1.0         0.0         1.0   \n",
      "\n",
      "                          GSM5532097  GSM5532098  GSM5532099  GSM5532100  \\\n",
      "Congestive_heart_failure         1.0         1.0         0.0         1.0   \n",
      "Age                             41.5        67.3        52.8        16.1   \n",
      "Gender                           0.0         1.0         1.0         1.0   \n",
      "\n",
      "                          GSM5532101  GSM5532102  ...  GSM5532161  GSM5532162  \\\n",
      "Congestive_heart_failure         1.0         0.0  ...         0.0         0.0   \n",
      "Age                             78.9        53.2  ...        52.8        53.2   \n",
      "Gender                           1.0         1.0  ...         1.0         1.0   \n",
      "\n",
      "                          GSM5532163  GSM5532164  GSM5532165  GSM5532166  \\\n",
      "Congestive_heart_failure         0.0         0.0         0.0         0.0   \n",
      "Age                             21.9        55.8        47.0        49.3   \n",
      "Gender                           0.0         1.0         1.0         1.0   \n",
      "\n",
      "                          GSM5532167  GSM5532168  GSM5532169  GSM5532170  \n",
      "Congestive_heart_failure         0.0         0.0         0.0         0.0  \n",
      "Age                             66.1        53.6        50.1        56.5  \n",
      "Gender                           1.0         1.0         0.0         1.0  \n",
      "\n",
      "[3 rows x 78 columns]\n",
      "Linked data shape before processing: (78, 19448)\n",
      "Linked data preview (first 5 rows, 5 columns):\n",
      "            Congestive_heart_failure   Age  Gender        A1BG     A1BG-AS1\n",
      "GSM5532093                       0.0  33.4     0.0  123.145500  1284.286536\n",
      "GSM5532094                       0.0  51.2     1.0  134.323626  2123.843378\n",
      "GSM5532095                       1.0  51.9     0.0  100.294706  1088.857429\n",
      "GSM5532096                       0.0  47.8     1.0  130.315854  1074.517347\n",
      "GSM5532097                       1.0  41.5     0.0  106.890941  1070.809003\n"
     ]
    },
    {
     "name": "stdout",
     "output_type": "stream",
     "text": [
      "Data shape after handling missing values: (78, 19448)\n",
      "For the feature 'Congestive_heart_failure', the least common label is '1.0' with 31 occurrences. This represents 39.74% of the dataset.\n",
      "Quartiles for 'Age':\n",
      "  25%: 47.0\n",
      "  50% (Median): 52.15\n",
      "  75%: 56.35\n",
      "Min: 16.1\n",
      "Max: 78.9\n",
      "For the feature 'Gender', the least common label is '0.0' with 24 occurrences. This represents 30.77% of the dataset.\n",
      "A new JSON file was created at: ../../output/preprocess/Congestive_heart_failure/cohort_info.json\n"
     ]
    },
    {
     "name": "stdout",
     "output_type": "stream",
     "text": [
      "Linked data saved to ../../output/preprocess/Congestive_heart_failure/GSE182600.csv\n"
     ]
    }
   ],
   "source": [
    "# 1. Normalize gene symbols in the gene expression data\n",
    "# Use normalize_gene_symbols_in_index to standardize gene symbols\n",
    "normalized_gene_data = normalize_gene_symbols_in_index(gene_data)\n",
    "print(f\"Gene data shape before normalization: {gene_data.shape}\")\n",
    "print(f\"Gene data shape after normalization: {normalized_gene_data.shape}\")\n",
    "\n",
    "# Save the normalized gene data to file\n",
    "os.makedirs(os.path.dirname(out_gene_data_file), exist_ok=True)\n",
    "normalized_gene_data.to_csv(out_gene_data_file)\n",
    "print(f\"Normalized gene expression data saved to {out_gene_data_file}\")\n",
    "\n",
    "# Load the actual clinical data from the matrix file that was previously obtained in Step 1\n",
    "soft_file, matrix_file = geo_get_relevant_filepaths(in_cohort_dir)\n",
    "background_info, clinical_data = get_background_and_clinical_data(matrix_file)\n",
    "\n",
    "# Get preview of clinical data to understand its structure\n",
    "print(\"Original clinical data preview:\")\n",
    "print(clinical_data.head())\n",
    "\n",
    "# 2. If we have trait data available, proceed with linking\n",
    "if trait_row is not None:\n",
    "    # Extract clinical features using the original clinical data\n",
    "    selected_clinical_df = geo_select_clinical_features(\n",
    "        clinical_df=clinical_data,\n",
    "        trait=trait,\n",
    "        trait_row=trait_row,\n",
    "        convert_trait=convert_trait,\n",
    "        age_row=age_row,\n",
    "        convert_age=convert_age,\n",
    "        gender_row=gender_row,\n",
    "        convert_gender=convert_gender\n",
    "    )\n",
    "\n",
    "    print(f\"Selected clinical data shape: {selected_clinical_df.shape}\")\n",
    "    print(\"Clinical data preview:\")\n",
    "    print(selected_clinical_df.head())\n",
    "\n",
    "    # Link the clinical and genetic data\n",
    "    linked_data = geo_link_clinical_genetic_data(selected_clinical_df, normalized_gene_data)\n",
    "    print(f\"Linked data shape before processing: {linked_data.shape}\")\n",
    "    print(\"Linked data preview (first 5 rows, 5 columns):\")\n",
    "    print(linked_data.iloc[:5, :5] if not linked_data.empty else \"Empty dataframe\")\n",
    "\n",
    "    # 3. Handle missing values\n",
    "    try:\n",
    "        linked_data = handle_missing_values(linked_data, trait)\n",
    "        print(f\"Data shape after handling missing values: {linked_data.shape}\")\n",
    "    except Exception as e:\n",
    "        print(f\"Error handling missing values: {e}\")\n",
    "        linked_data = pd.DataFrame()  # Create empty dataframe if error occurs\n",
    "\n",
    "    # 4. Check for bias in features\n",
    "    if not linked_data.empty and linked_data.shape[0] > 0:\n",
    "        # Check if trait is biased\n",
    "        trait_type = 'binary' if len(linked_data[trait].unique()) <= 2 else 'continuous'\n",
    "        if trait_type == \"binary\":\n",
    "            is_biased = judge_binary_variable_biased(linked_data, trait)\n",
    "        else:\n",
    "            is_biased = judge_continuous_variable_biased(linked_data, trait)\n",
    "            \n",
    "        # Remove biased demographic features\n",
    "        if \"Age\" in linked_data.columns:\n",
    "            age_biased = judge_continuous_variable_biased(linked_data, 'Age')\n",
    "            if age_biased:\n",
    "                linked_data = linked_data.drop(columns='Age')\n",
    "                \n",
    "        if \"Gender\" in linked_data.columns:\n",
    "            gender_biased = judge_binary_variable_biased(linked_data, 'Gender')\n",
    "            if gender_biased:\n",
    "                linked_data = linked_data.drop(columns='Gender')\n",
    "    else:\n",
    "        is_biased = True\n",
    "        print(\"Cannot check for bias as dataframe is empty or has no rows after missing value handling\")\n",
    "\n",
    "    # 5. Validate and save cohort information\n",
    "    note = \"\"\n",
    "    if linked_data.empty or linked_data.shape[0] == 0:\n",
    "        note = \"Dataset contains gene expression data related to atrial fibrillation after cardiac surgery, but linking clinical and genetic data failed, possibly due to mismatched sample IDs.\"\n",
    "    else:\n",
    "        note = \"Dataset contains gene expression data for atrial fibrillation after cardiac surgery, which is relevant to arrhythmia research.\"\n",
    "    \n",
    "    is_usable = validate_and_save_cohort_info(\n",
    "        is_final=True,\n",
    "        cohort=cohort,\n",
    "        info_path=json_path,\n",
    "        is_gene_available=True,\n",
    "        is_trait_available=True,\n",
    "        is_biased=is_biased,\n",
    "        df=linked_data,\n",
    "        note=note\n",
    "    )\n",
    "\n",
    "    # 6. Save the linked data if usable\n",
    "    if is_usable:\n",
    "        os.makedirs(os.path.dirname(out_data_file), exist_ok=True)\n",
    "        linked_data.to_csv(out_data_file)\n",
    "        print(f\"Linked data saved to {out_data_file}\")\n",
    "    else:\n",
    "        print(\"Dataset is not usable for analysis. No linked data file saved.\")\n",
    "else:\n",
    "    # If no trait data available, validate with trait_available=False\n",
    "    is_usable = validate_and_save_cohort_info(\n",
    "        is_final=True,\n",
    "        cohort=cohort,\n",
    "        info_path=json_path,\n",
    "        is_gene_available=True,\n",
    "        is_trait_available=False,\n",
    "        is_biased=True,  # Set to True since we can't use data without trait\n",
    "        df=pd.DataFrame(),  # Empty DataFrame\n",
    "        note=\"Dataset contains gene expression data but lacks proper clinical trait information for arrhythmia analysis.\"\n",
    "    )\n",
    "    \n",
    "    print(\"Dataset is not usable for arrhythmia analysis due to lack of clinical trait data. No linked data file saved.\")"
   ]
  }
 ],
 "metadata": {
  "language_info": {
   "codemirror_mode": {
    "name": "ipython",
    "version": 3
   },
   "file_extension": ".py",
   "mimetype": "text/x-python",
   "name": "python",
   "nbconvert_exporter": "python",
   "pygments_lexer": "ipython3",
   "version": "3.10.16"
  }
 },
 "nbformat": 4,
 "nbformat_minor": 5
}
