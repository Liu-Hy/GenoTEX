{
 "cells": [
  {
   "cell_type": "code",
   "execution_count": 1,
   "id": "7185da91",
   "metadata": {
    "execution": {
     "iopub.execute_input": "2024-06-12T10:52:33.674723Z",
     "iopub.status.busy": "2024-06-12T10:52:33.674630Z",
     "iopub.status.idle": "2024-06-12T10:52:33.678343Z",
     "shell.execute_reply": "2024-06-12T10:52:33.678033Z"
    }
   },
   "outputs": [],
   "source": [
    "\n",
    "import sys\n",
    "sys.path.append('/home/techt/Desktop/a4s')\n"
   ]
  },
  {
   "cell_type": "markdown",
   "id": "277510dd",
   "metadata": {},
   "source": [
    "### Step 1: Initial Data Loading"
   ]
  },
  {
   "cell_type": "code",
   "execution_count": 2,
   "id": "21d49ea9",
   "metadata": {
    "execution": {
     "iopub.execute_input": "2024-06-12T10:52:33.680490Z",
     "iopub.status.busy": "2024-06-12T10:52:33.680261Z",
     "iopub.status.idle": "2024-06-12T10:52:33.940140Z",
     "shell.execute_reply": "2024-06-12T10:52:33.939784Z"
    }
   },
   "outputs": [
    {
     "name": "stdout",
     "output_type": "stream",
     "text": [
      "Background Information:\n",
      "!Series_title\t\"Expression signature of cardiac muscle as a potential diagnostic or prognostic tool for dilated cardiomyopathy\"\n",
      "!Series_summary\t\"There is an emerging hypothesis that dilated cardiomyopathy (DCM) is a manifestation of end-stage heart failure (ESHF) resulting from “final common pathway” despite heterogeneous primary etiologies. We performed genome-wide expression profiling by means of high-density oligonucleotide microarrays using cardiac muscles from patients with DCM or specific cardiomyopathy as well as non-disease control hearts. Differentially expressed genes between ESHF and non-disease samples should include both genes reactive to heart failure (HF) and those responsible for ESHF. With the aid of samples with acute HF without DCM and those with DCM without HF (corrected with left ventricular assist device), we successfully distinguished ESHF genes from HF genes. Our findings implicate that transcriptional signature of cardiac muscle can be potentially applied as a diagnostic or prognostic tool for severe HF.\"\n",
      "!Series_summary\t\"Keywords: disease state analysis\"\n",
      "!Series_overall_design\t\"The expression profiles of approximately 20,227 genes were analyzed using a microarray, Human 1A ver.2 (Agilent Technologies). A total of 30 cardiac RNA samples (21 clinical samples and 9 purchased samples) were used in the hybridizations. 200ng of total RNA was used for T7 RNA polymerase-based cRNA labeling. The microarray experiments were then carried out using competitive hybridization experiments with Cy5-labeled heart RNAs as a test RNA and with Cy3-labeled pooled heart RNA (Sample N) as a template control for normalization. The glass slides were scanned using an Agilent G2565BA microarray scanner. Scanned images were then analyzed using Feature Extraction software. The average signal intensities were corrected for median background intensity and transferred with GenBank descriptors to a Microsoft Excel data spreadsheet (Microsoft, Redmond, WA). \"\n",
      "!Series_overall_design\t\"Data analysis was performed using Genespring software version 6.1 (Silicon Genetics, Redwood City, CA). To avoid ‘false positive’ signals, we excluded certain genes from the analysis for which the average reference signal level constraints were under 70. After intensity dependent normalization (Lowess), the expression levels relative to the control were calculated as a ratio, and the expression profiles were then compared between each disease or normal sample. Statistical analysis was done using non-parametric tests. To order the samples according to the correlation coefficient, we applied “Find Similar Samples” algorithm using Spearman Correlation.\"\n",
      "Sample Characteristics Dictionary:\n",
      "{0: ['Normal myocardium sold commercially', 'myocardium sold commercially', 'Left ventricular myocardium in patients with Dilated cardiomyopathty', 'Left ventricular myocardium in patients with Eosinophilic myocarditis', 'Left ventricular myocardium in patients with Cardiac sarcoidosis', 'Left ventricular myocardium in patients with Ischemic cardiomyopathy', 'Left ventricular myocardium in patients with Peripartal cardiomyopathy', 'Left ventricular myocardium in patients with Alcoholic myopathy', 'Pooled normal myocardium sold commercially', 'Left ventricular myocardium in patients with Hypertrophic cardiomyopathy', 'Non-disease heart']}\n"
     ]
    }
   ],
   "source": [
    "from utils.preprocess import *\n",
    "# 1. Identify the paths to the soft file and the matrix file\n",
    "cohort_dir = '/media/techt/DATA/GEO/Hypertrophic_Cardiomyopathy/GSE9800'\n",
    "soft_file, matrix_file = geo_get_relevant_filepaths(cohort_dir)\n",
    "\n",
    "# 2. Read the matrix file to obtain background information and sample characteristics data\n",
    "background_prefixes = ['!Series_title', '!Series_summary', '!Series_overall_design']\n",
    "clinical_prefixes = ['!Sample_geo_accession', '!Sample_characteristics_ch1']\n",
    "background_info, clinical_data = get_background_and_clinical_data(matrix_file, background_prefixes, clinical_prefixes)\n",
    "\n",
    "# 3. Obtain the sample characteristics dictionary from the clinical dataframe\n",
    "sample_characteristics_dict = get_unique_values_by_row(clinical_data)\n",
    "\n",
    "# 4. Explicitly print out all the background information and the sample characteristics dictionary\n",
    "print(\"Background Information:\")\n",
    "print(background_info)\n",
    "print(\"Sample Characteristics Dictionary:\")\n",
    "print(sample_characteristics_dict)\n"
   ]
  },
  {
   "cell_type": "markdown",
   "id": "4f958c1a",
   "metadata": {},
   "source": [
    "### Step 2: Dataset Analysis and Clinical Feature Extraction"
   ]
  },
  {
   "cell_type": "code",
   "execution_count": 3,
   "id": "9023de6f",
   "metadata": {
    "execution": {
     "iopub.execute_input": "2024-06-12T10:52:33.942412Z",
     "iopub.status.busy": "2024-06-12T10:52:33.942267Z",
     "iopub.status.idle": "2024-06-12T10:52:33.946384Z",
     "shell.execute_reply": "2024-06-12T10:52:33.946116Z"
    }
   },
   "outputs": [],
   "source": [
    "is_gene_available = False\n",
    "trait_row = age_row = gender_row = None  # set to different values when applicable\n",
    "convert_trait = convert_age = convert_gender = None  # define the functions when applicable\n",
    "\n",
    "# Define sample_characteristics as provided in the previous output\n",
    "sample_characteristics = {\n",
    "    0: ['Normal myocardium sold commercially', 'myocardium sold commercially', 'Left ventricular myocardium in patients with Dilated cardiomyopathy', 'Left ventricular myocardium in patients with Eosinophilic myocarditis', 'Left ventricular myocardium in patients with Cardiac sarcoidosis', 'Left ventricular myocardium in patients with Ischemic cardiomyopathy', 'Left ventricular myocardium in patients with Peripartal cardiomyopathy', 'Left ventricular myocardium in patients with Alcoholic myopathy', 'Pooled normal myocardium sold commercially', 'Left ventricular myocardium in patients with Hypertrophic cardiomyopathy', 'Non-disease heart']\n",
    "}\n",
    "\n",
    "# Gene Expression Data Availability\n",
    "is_gene_available = True  # Based on the description, gene expression data is available\n",
    "\n",
    "# Variable Availability and Data Type Conversion\n",
    "trait_row = 0 if any('Hypertrophic cardiomyopathy' in s.lower() for s in sample_characteristics[0]) else None\n",
    "age_row = None  # Assuming no age information is found\n",
    "gender_row = None  # Assuming no gender information is found\n",
    "\n",
    "# Converting trait data\n",
    "def convert_trait(value):\n",
    "    value = value.lower()\n",
    "    if 'hypertrophic cardiomyopathy' in value:\n",
    "        return 1\n",
    "    elif 'non-disease heart' in value or 'normal myocardium' in value:\n",
    "        return 0\n",
    "    return None\n",
    "\n",
    "convert_age = None\n",
    "convert_gender = None\n",
    "\n",
    "# Save Metadata\n",
    "save_cohort_info('GSE9800', './preprocessed/Hypertrophic_Cardiomyopathy/cohort_info.json', is_gene_available, trait_row is not None)\n",
    "\n",
    "# Clinical Feature Extraction\n",
    "if trait_row is not None:\n",
    "    selected_clinical_data = geo_select_clinical_features(clinical_data, 'Hypertrophic_Cardiomyopathy', trait_row, convert_trait, age_row, convert_age, gender_row, convert_gender)\n",
    "    csv_path = './preprocessed/Hypertrophic_Cardiomyopathy/trait_data/GSE9800.csv'\n",
    "    if not selected_clinical_data.empty:  # Ensure data is meaningful before saving\n",
    "        selected_clinical_data.to_csv(csv_path)\n",
    "        print(preview_df(selected_clinical_data))\n"
   ]
  }
 ],
 "metadata": {
  "language_info": {
   "codemirror_mode": {
    "name": "ipython",
    "version": 3
   },
   "file_extension": ".py",
   "mimetype": "text/x-python",
   "name": "python",
   "nbconvert_exporter": "python",
   "pygments_lexer": "ipython3",
   "version": "3.8.17"
  }
 },
 "nbformat": 4,
 "nbformat_minor": 5
}
