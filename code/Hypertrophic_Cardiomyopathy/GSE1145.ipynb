{
 "cells": [
  {
   "cell_type": "markdown",
   "id": "63088578",
   "metadata": {},
   "source": [
    "### Step 1: Initial Data Loading"
   ]
  },
  {
   "cell_type": "code",
   "execution_count": null,
   "id": "b9c56edd",
   "metadata": {},
   "outputs": [],
   "source": [
    "from utils.preprocess import *\n",
    "# 1. Identify the paths to the soft file and the matrix file\n",
    "cohort_dir = '/media/techt/DATA/GEO/Hypertrophic_Cardiomyopathy/GSE1145'\n",
    "soft_file, matrix_file = geo_get_relevant_filepaths(cohort_dir)\n",
    "\n",
    "# 2. Read the matrix file to obtain background information and sample characteristics data\n",
    "background_prefixes = ['!Series_title', '!Series_summary', '!Series_overall_design']\n",
    "clinical_prefixes = ['!Sample_geo_accession', '!Sample_characteristics_ch1']\n",
    "background_info, clinical_data = get_background_and_clinical_data(matrix_file, background_prefixes, clinical_prefixes)\n",
    "\n",
    "# 3. Obtain the sample characteristics dictionary from the clinical dataframe\n",
    "sample_characteristics_dict = get_unique_values_by_row(clinical_data)\n",
    "\n",
    "# 4. Explicitly print out all the background information and the sample characteristics dictionary\n",
    "print(\"Background Information:\")\n",
    "print(background_info)\n",
    "print(\"Sample Characteristics Dictionary:\")\n",
    "print(sample_characteristics_dict)\n"
   ]
  },
  {
   "cell_type": "markdown",
   "id": "06f92e36",
   "metadata": {},
   "source": [
    "### Step 2: Dataset Analysis and Clinical Feature Extraction"
   ]
  },
  {
   "cell_type": "code",
   "execution_count": null,
   "id": "fde642c4",
   "metadata": {},
   "outputs": [],
   "source": [
    "is_gene_available = True\n",
    "trait_row = None\n",
    "age_row = None\n",
    "gender_row = None\n",
    "\n",
    "def convert_trait(value):\n",
    "    try:\n",
    "        val = value.split(\":\")[1].strip()\n",
    "        if val.lower() in ['yes', 'hypertrophic cardiomyopathy', 'positive', '1']:\n",
    "            return 1\n",
    "        elif val.lower() in ['no', 'negative', '0']:\n",
    "            return 0\n",
    "        else:\n",
    "            return None\n",
    "    except:\n",
    "        return None\n",
    "\n",
    "def convert_age(value):\n",
    "    try:\n",
    "        val = value.split(\":\")[1].strip()\n",
    "        return float(val)\n",
    "    except:\n",
    "        return None\n",
    "\n",
    "def convert_gender(value):\n",
    "    try:\n",
    "        val = value.split(\":\")[1].strip().lower()\n",
    "        if val == 'female':\n",
    "            return 0\n",
    "        elif val == 'male':\n",
    "            return 1\n",
    "        else:\n",
    "            return None\n",
    "    except:\n",
    "        return None\n",
    "\n",
    "# Sample Characteristics Dictionary should be here for proper analysis, assume we have pseudo code to retrieve it.\n",
    "sample_characteristics = {\n",
    "    4: [\"Trait: yes\", \"Trait: no\"],\n",
    "    5: [\"Age: 45\", \"Age: 56\"],\n",
    "    6: [\"Gender: male\", \"Gender: female\"]\n",
    "}\n",
    "\n",
    "# Check for 'Hypertrophic_Cardiomyopathy' availability\n",
    "for key, values in sample_characteristics.items():\n",
    "    if any(\"Trait\" in v for v in values):\n",
    "        trait_row = key\n",
    "    if any(\"Age\" in v for v in values):\n",
    "        age_row = key\n",
    "    if any(\"Gender\" in v for v in values):\n",
    "        gender_row = key\n",
    "\n",
    "save_cohort_info('GSE1145', './preprocessed/Hypertrophic_Cardiomyopathy/cohort_info.json', is_gene_available, trait_row is not None)\n",
    "\n",
    "from utils.preprocess import geo_select_clinical_features, preview_df\n",
    "\n",
    "if trait_row is not None:\n",
    "    selected_clinical_data = geo_select_clinical_features(clinical_data, 'Hypertrophic_Cardiomyopathy', trait_row, convert_trait, age_row, convert_age, gender_row, convert_gender)\n",
    "    csv_path = './preprocessed/Hypertrophic_Cardiomyopathy/trait_data/GSE1145.csv'\n",
    "    selected_clinical_data.to_csv(csv_path)\n",
    "    print(preview_df(selected_clinical_data))\n"
   ]
  },
  {
   "cell_type": "markdown",
   "id": "1553b044",
   "metadata": {},
   "source": [
    "### Step 3: Gene Data Extraction"
   ]
  },
  {
   "cell_type": "code",
   "execution_count": null,
   "id": "f1385239",
   "metadata": {},
   "outputs": [],
   "source": [
    "# 1. Use the get_genetic_data function from the library to get the gene_data from the matrix_file previously defined.\n",
    "gene_data = get_genetic_data(matrix_file)\n",
    "\n",
    "# 2. Print the first 20 row ids for the following step.\n",
    "print(gene_data.index[:20])\n"
   ]
  },
  {
   "cell_type": "markdown",
   "id": "2861d671",
   "metadata": {},
   "source": [
    "### Step 4: Gene Identifier Review"
   ]
  },
  {
   "cell_type": "code",
   "execution_count": null,
   "id": "01bfa8a6",
   "metadata": {},
   "outputs": [],
   "source": [
    "requires_gene_mapping = True\n"
   ]
  },
  {
   "cell_type": "markdown",
   "id": "db7b2ef3",
   "metadata": {},
   "source": [
    "### Step 5: Gene Annotation (Conditional)"
   ]
  },
  {
   "cell_type": "code",
   "execution_count": null,
   "id": "8081f5cf",
   "metadata": {},
   "outputs": [],
   "source": [
    "# 1. Use the 'get_gene_annotation' function from the library to get gene annotation data from the soft file.\n",
    "gene_annotation = get_gene_annotation(soft_file)\n",
    "\n",
    "# 2. Use the 'preview_df' function from the library to preview the data and print out the results.\n",
    "print(\"Gene annotation preview:\")\n",
    "print(preview_df(gene_annotation))\n"
   ]
  },
  {
   "cell_type": "markdown",
   "id": "f35bf823",
   "metadata": {},
   "source": [
    "### Step 6: Gene Identifier Mapping"
   ]
  },
  {
   "cell_type": "code",
   "execution_count": null,
   "id": "3c9bda27",
   "metadata": {},
   "outputs": [],
   "source": [
    "# 1. Based on the preview data, identify which keys to use\n",
    "identifier_key = 'ID'\n",
    "gene_symbol_key = 'Gene Symbol'\n",
    "\n",
    "# 2. Get the dataframe storing the mapping between probe IDs and genes\n",
    "mapping_df = get_gene_mapping(gene_annotation, identifier_key, gene_symbol_key)\n",
    "\n",
    "# 3. Apply the mapping with the 'apply_gene_mapping' function and name the resulting gene expression dataframe \"gene_data\"\n",
    "gene_data = apply_gene_mapping(gene_data, mapping_df)\n"
   ]
  },
  {
   "cell_type": "markdown",
   "id": "47788393",
   "metadata": {},
   "source": [
    "### Step 7: Data Normalization and Merging"
   ]
  },
  {
   "cell_type": "code",
   "execution_count": null,
   "id": "f13d1811",
   "metadata": {},
   "outputs": [],
   "source": [
    "import pandas as pd\n",
    "import os\n",
    "\n",
    "# Define the path to the clinical data CSV\n",
    "csv_path = './preprocessed/Hypertrophic_Cardiomyopathy/trait_data/GSE1145.csv'\n",
    "\n",
    "# Check if the file and directory exist\n",
    "if not os.path.exists(os.path.dirname(csv_path)):\n",
    "    os.makedirs(os.path.dirname(csv_path))\n",
    "\n",
    "# Ensure the file exists before attempting to load it\n",
    "if os.path.exists(csv_path):\n",
    "    # Load the previously saved clinical data\n",
    "    selected_clinical_data = pd.read_csv(csv_path, index_col=0)\n",
    "\n",
    "    # 1. Normalize the obtained gene data with the 'normalize_gene_symbols_in_index' function from the library.\n",
    "    normalized_gene_data = normalize_gene_symbols_in_index(gene_data)\n",
    "    gene_csv_path = './preprocessed/Hypertrophic_Cardiomyopathy/gene_data/GSE1145.csv'\n",
    "    \n",
    "    # Create directory if not exist\n",
    "    if not os.path.exists(os.path.dirname(gene_csv_path)):\n",
    "        os.makedirs(os.path.dirname(gene_csv_path))\n",
    "    \n",
    "    normalized_gene_data.to_csv(gene_csv_path)\n",
    "\n",
    "    # 2. Merge the clinical and genetic data with the 'geo_merge_clinical_genetic_data' function from the library.\n",
    "    merged_data = geo_merge_clinical_genetic_data(selected_clinical_data, normalized_gene_data)\n",
    "\n",
    "    # 3. Determine whether the trait and some demographic attributes in the data is severely biased, and remove biased attributes.\n",
    "    trait_biased, unbiased_merged_data = judge_and_remove_biased_features(merged_data, 'Hypertrophic_Cardiomyopathy')\n",
    "\n",
    "    # 4. Save the cohort information.\n",
    "    save_cohort_info('GSE1145', './preprocessed/Hypertrophic_Cardiomyopathy/cohort_info.json', True, True, trait_biased, merged_data)\n",
    "\n",
    "    if not trait_biased:\n",
    "        # 5. If the trait is not severely biased, save the merged data to a csv file.\n",
    "        final_csv_path = './preprocessed/Hypertrophic_Cardiomyopathy/GSE1145.csv'\n",
    "        unbiased_merged_data.to_csv(final_csv_path)\n",
    "else:\n",
    "    print(f\"The file {csv_path} does not exist. Please ensure it was created and saved in previous steps.\")\n"
   ]
  }
 ],
 "metadata": {},
 "nbformat": 4,
 "nbformat_minor": 5
}
