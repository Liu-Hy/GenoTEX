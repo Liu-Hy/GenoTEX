{
 "cells": [
  {
   "cell_type": "markdown",
   "id": "5d3ea123",
   "metadata": {},
   "source": [
    "### Step 1: Initial Data Loading"
   ]
  },
  {
   "cell_type": "code",
   "execution_count": null,
   "id": "441c30ae",
   "metadata": {},
   "outputs": [],
   "source": [
    "from utils.preprocess import *\n",
    "# 1. Identify the paths to the soft file and the matrix file\n",
    "cohort_dir = '/media/techt/DATA/GEO/Hypertrophic_Cardiomyopathy/GSE36961'\n",
    "soft_file, matrix_file = geo_get_relevant_filepaths(cohort_dir)\n",
    "\n",
    "# 2. Read the matrix file to obtain background information and sample characteristics data\n",
    "background_prefixes = ['!Series_title', '!Series_summary', '!Series_overall_design']\n",
    "clinical_prefixes = ['!Sample_geo_accession', '!Sample_characteristics_ch1']\n",
    "background_info, clinical_data = get_background_and_clinical_data(matrix_file, background_prefixes, clinical_prefixes)\n",
    "\n",
    "# 3. Obtain the sample characteristics dictionary from the clinical dataframe\n",
    "sample_characteristics_dict = get_unique_values_by_row(clinical_data)\n",
    "\n",
    "# 4. Explicitly print out all the background information and the sample characteristics dictionary\n",
    "print(\"Background Information:\")\n",
    "print(background_info)\n",
    "print(\"Sample Characteristics Dictionary:\")\n",
    "print(sample_characteristics_dict)\n"
   ]
  },
  {
   "cell_type": "markdown",
   "id": "7bdd329a",
   "metadata": {},
   "source": [
    "### Step 2: Dataset Analysis and Clinical Feature Extraction"
   ]
  },
  {
   "cell_type": "code",
   "execution_count": null,
   "id": "a0c89220",
   "metadata": {},
   "outputs": [],
   "source": [
    "is_gene_available = False\n",
    "trait_row = age_row = gender_row = None  # set to different values when applicable\n",
    "convert_trait = convert_age = convert_gender = None  # define the functions when applicable\n",
    "\n",
    "# Define sample_characteristics from the provided data\n",
    "sample_characteristics = {\n",
    "    0: ['Sex: male', 'Sex: female'], \n",
    "    1: ['age (yrs): 9', 'age (yrs): 10', 'age (yrs): 11', 'age (yrs): 13', 'age (yrs): 14', 'age (yrs): 15', 'age (yrs): 16', 'age (yrs): 17', 'age (yrs): 19', 'age (yrs): 20', 'age (yrs): 23', 'age (yrs): 26', 'age (yrs): 27', 'age (yrs): 28', 'age (yrs): 30', 'age (yrs): 31', 'age (yrs): 32', 'age (yrs): 33', 'age (yrs): 35', 'age (yrs): 37', 'age (yrs): 38', 'age (yrs): 41', 'age (yrs): 43', 'age (yrs): 44', 'age (yrs): 45', 'age (yrs): 46', 'age (yrs): 47', 'age (yrs): 48', 'age (yrs): 50', 'age (yrs): 51'], \n",
    "    2: ['tissue: cardiac', 'sample type: control'], \n",
    "    3: ['disease state: hypertrophic cardiomyopathy (HCM)', None, 'sample type: control'], \n",
    "    4: ['sample type: case', None]\n",
    "}\n",
    "\n",
    "# Check for gene expression data availability\n",
    "is_gene_available = True  # based on the background info provided, it mentions gene expression profiling technology\n",
    "\n",
    "# Determine the keys for the corresponding variables\n",
    "trait_row = 3 if 3 in sample_characteristics and len(set(sample_characteristics[3])) > 1 else None\n",
    "age_row = 1  # age data is available\n",
    "gender_row = 0  # gender data is available\n",
    "\n",
    "# Function to convert 'Hypertrophic_Cardiomyopathy' data to binary\n",
    "def convert_trait(value):\n",
    "    if value is None:\n",
    "        return None\n",
    "    value = value.split(\":\")[-1].strip().lower()\n",
    "    return 1 if value == \"hypertrophic cardiomyopathy (hcm)\" else 0 if value == \"control\" else None\n",
    "\n",
    "# Function to convert 'age' data to continuous data type\n",
    "def convert_age(value):\n",
    "    if value is None:\n",
    "        return None\n",
    "    value = value.split(\":\")[-1].strip()\n",
    "    try:\n",
    "        return float(value)\n",
    "    except ValueError:\n",
    "        return None\n",
    "\n",
    "# Function to convert 'gender' data to binary\n",
    "def convert_gender(value):\n",
    "    if value is None:\n",
    "        return None\n",
    "    parts = value.split(\":\")\n",
    "    if len(parts) < 2:\n",
    "        return None\n",
    "    value = parts[-1].strip().lower()\n",
    "    return 1 if value == \"male\" else 0 if value == \"female\" else None\n",
    "\n",
    "# Save Metadata\n",
    "save_cohort_info('GSE36961', './preprocessed/Hypertrophic_Cardiomyopathy/cohort_info.json', is_gene_available, trait_row is not None)\n",
    "\n",
    "# Clinical Feature Extraction\n",
    "if trait_row is not None:\n",
    "    selected_clinical_data = geo_select_clinical_features(clinical_data, 'Hypertrophic_Cardiomyopathy', trait_row, convert_trait, age_row, convert_age, gender_row, convert_gender)\n",
    "    csv_path = './preprocessed/Hypertrophic_Cardiomyopathy/trait_data/GSE36961.csv'\n",
    "    selected_clinical_data.to_csv(csv_path)\n",
    "    print(preview_df(selected_clinical_data))\n"
   ]
  },
  {
   "cell_type": "markdown",
   "id": "dc3657a5",
   "metadata": {},
   "source": [
    "### Step 3: Gene Data Extraction"
   ]
  },
  {
   "cell_type": "code",
   "execution_count": null,
   "id": "01ca28b1",
   "metadata": {},
   "outputs": [],
   "source": [
    "# 1. Use the get_genetic_data function from the library to get the gene_data from the matrix_file previously defined.\n",
    "gene_data = get_genetic_data(matrix_file)\n",
    "\n",
    "# 2. Print the first 20 row ids for the following step.\n",
    "print(gene_data.index[:20])\n"
   ]
  },
  {
   "cell_type": "markdown",
   "id": "2d2f4715",
   "metadata": {},
   "source": [
    "### Step 4: Gene Identifier Review"
   ]
  },
  {
   "cell_type": "code",
   "execution_count": null,
   "id": "055b7c4e",
   "metadata": {},
   "outputs": [],
   "source": [
    "requires_gene_mapping = False\n"
   ]
  },
  {
   "cell_type": "markdown",
   "id": "bd388743",
   "metadata": {},
   "source": [
    "### Step 5: Gene Annotation (Conditional)"
   ]
  },
  {
   "cell_type": "code",
   "execution_count": null,
   "id": "05cb7d74",
   "metadata": {},
   "outputs": [],
   "source": [
    "# 1. Use the 'get_gene_annotation' function from the library to get gene annotation data from the soft file.\n",
    "gene_annotation = get_gene_annotation(soft_file)\n",
    "\n",
    "# 2. Use the 'preview_df' function from the library to preview the data and print out the results.\n",
    "print(\"Gene annotation preview:\")\n",
    "print(preview_df(gene_annotation))\n"
   ]
  },
  {
   "cell_type": "markdown",
   "id": "9171adaf",
   "metadata": {},
   "source": [
    "### Step 2: Dataset Analysis and Clinical Feature Extraction"
   ]
  },
  {
   "cell_type": "code",
   "execution_count": null,
   "id": "387cc005",
   "metadata": {},
   "outputs": [],
   "source": [
    "is_gene_available = False\n",
    "trait_row = age_row = gender_row = None  # set to different values when applicable\n",
    "convert_trait = convert_age = convert_gender = None  # define the functions when applicable\n",
    "\n",
    "# Define sample_characteristics from the provided data\n",
    "sample_characteristics = {\n",
    "    0: ['Sex: male', 'Sex: female'], \n",
    "    1: ['age (yrs): 9', 'age (yrs): 10', 'age (yrs): 11', 'age (yrs): 13', 'age (yrs): 14', 'age (yrs): 15', 'age (yrs): 16', 'age (yrs): 17', 'age (yrs): 19', 'age (yrs): 20', 'age (yrs): 23', 'age (yrs): 26', 'age (yrs): 27', 'age (yrs): 28', 'age (yrs): 30', 'age (yrs): 31', 'age (yrs): 32', 'age (yrs): 33', 'age (yrs): 35', 'age (yrs): 37', 'age (yrs): 38', 'age (yrs): 41', 'age (yrs): 43', 'age (yrs): 44', 'age (yrs): 45', 'age (yrs): 46', 'age (yrs): 47', 'age (yrs): 48', 'age (yrs): 50', 'age (yrs): 51'], \n",
    "    2: ['tissue: cardiac', 'sample type: control'], \n",
    "    3: ['disease state: hypertrophic cardiomyopathy (HCM)', None, 'sample type: control'], \n",
    "    4: ['sample type: case', None]\n",
    "}\n",
    "\n",
    "# Check for gene expression data availability\n",
    "is_gene_available = True  # based on the background info provided, it mentions gene expression profiling technology\n",
    "\n",
    "# Determine the keys for the corresponding variables\n",
    "trait_row = 3 if 3 in sample_characteristics and len(set(sample_characteristics[3])) > 1 else None\n",
    "age_row = 1  # age data is available\n",
    "gender_row = 0  # gender data is available\n",
    "\n",
    "# Function to convert 'Hypertrophic_Cardiomyopathy' data to binary\n",
    "def convert_trait(value):\n",
    "    if value is None:\n",
    "        return None\n",
    "    value = str(value).split(\":\")[-1].strip().lower()\n",
    "    return 1 if value == \"hypertrophic cardiomyopathy (hcm)\" else 0 if value == \"control\" else None\n",
    "\n",
    "# Function to convert 'age' data to continuous data type\n",
    "def convert_age(value):\n",
    "    if value is None:\n",
    "        return None\n",
    "    value = str(value).split(\":\")[-1].strip()\n",
    "    try:\n",
    "        return float(value)\n",
    "    except ValueError:\n",
    "        return None\n",
    "\n",
    "# Function to convert 'gender' data to binary\n",
    "def convert_gender(value):\n",
    "    if value is None:\n",
    "        return None\n",
    "    parts = str(value).split(\":\")\n",
    "    if len(parts) < 2:\n",
    "        return None\n",
    "    value = parts[-1].strip().lower()\n",
    "    return 1 if value == \"male\" else 0 if value == \"female\" else None\n",
    "\n",
    "# Save Metadata\n",
    "save_cohort_info('GSE36961', './preprocessed/Hypertrophic_Cardiomyopathy/cohort_info.json', is_gene_available, trait_row is not None)\n",
    "\n",
    "# Clinical Feature Extraction\n",
    "if trait_row is not None:\n",
    "    selected_clinical_data = geo_select_clinical_features(clinical_data, 'Hypertrophic_Cardiomyopathy', trait_row, convert_trait, age_row, convert_age, gender_row, convert_gender)\n",
    "    csv_path = './preprocessed/Hypertrophic_Cardiomyopathy/trait_data/GSE36961.csv'\n",
    "    # Ensure the directory exists before saving\n",
    "    os.makedirs(os.path.dirname(csv_path), exist_ok=True)\n",
    "    selected_clinical_data.to_csv(csv_path)\n",
    "    print(preview_df(selected_clinical_data))\n"
   ]
  },
  {
   "cell_type": "markdown",
   "id": "599b90d0",
   "metadata": {},
   "source": [
    "### Step 7: Data Normalization and Merging"
   ]
  },
  {
   "cell_type": "code",
   "execution_count": null,
   "id": "c540c774",
   "metadata": {},
   "outputs": [],
   "source": [
    "# 1. Normalize the obtained gene data with the 'normalize_gene_symbols_in_index' function from the library.\n",
    "normalized_gene_data = normalize_gene_symbols_in_index(gene_data)\n",
    "gene_csv_path = './preprocessed/Hypertrophic_Cardiomyopathy/gene_data/GSE36961.csv'\n",
    "normalized_gene_data.to_csv(gene_csv_path)\n",
    "\n",
    "# 2. Merge the clinical and genetic data with the 'geo_merge_clinical_genetic_data' function from the library.\n",
    "merged_data = geo_merge_clinical_genetic_data(selected_clinical_data, normalized_gene_data)\n",
    "\n",
    "# 3. Determine whether the trait and some demographic attributes in the data is severely biased, and remove biased attributes.\n",
    "trait_biased, unbiased_merged_data = judge_and_remove_biased_features(merged_data, 'Hypertrophic_Cardiomyopathy')\n",
    "\n",
    "# If the trait is not severely biased, save the cohort information and the merged data.\n",
    "\n",
    "# 4. Save the cohort information.\n",
    "save_cohort_info('GSE36961', './preprocessed/Hypertrophic_Cardiomyopathy/cohort_info.json', True, True, trait_biased, merged_data)\n",
    "\n",
    "if not trait_biased:\n",
    "    # 5. If the trait is not severely biased, save the merged data to a csv file.\n",
    "    csv_path = './preprocessed/Hypertrophic_Cardiomyopathy/GSE36961.csv'\n",
    "    unbiased_merged_data.to_csv(csv_path)\n"
   ]
  }
 ],
 "metadata": {},
 "nbformat": 4,
 "nbformat_minor": 5
}
