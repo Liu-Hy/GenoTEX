{
 "cells": [
  {
   "cell_type": "code",
   "execution_count": 1,
   "id": "56fc3bd5",
   "metadata": {
    "execution": {
     "iopub.execute_input": "2024-06-12T10:52:30.336467Z",
     "iopub.status.busy": "2024-06-12T10:52:30.336311Z",
     "iopub.status.idle": "2024-06-12T10:52:30.342284Z",
     "shell.execute_reply": "2024-06-12T10:52:30.341685Z"
    }
   },
   "outputs": [],
   "source": [
    "\n",
    "import sys\n",
    "sys.path.append('/home/techt/Desktop/a4s')\n"
   ]
  },
  {
   "cell_type": "markdown",
   "id": "6b2f8b7e",
   "metadata": {},
   "source": [
    "### Step 1: Initial Data Loading"
   ]
  },
  {
   "cell_type": "code",
   "execution_count": 2,
   "id": "77003483",
   "metadata": {
    "execution": {
     "iopub.execute_input": "2024-06-12T10:52:30.344666Z",
     "iopub.status.busy": "2024-06-12T10:52:30.344253Z",
     "iopub.status.idle": "2024-06-12T10:52:30.590823Z",
     "shell.execute_reply": "2024-06-12T10:52:30.590456Z"
    }
   },
   "outputs": [
    {
     "name": "stdout",
     "output_type": "stream",
     "text": [
      "Background Information:\n",
      "!Series_title\t\"MicroRNA Profiling of Surgical Myectomy Tissue from Patients with Hypertrophic Cardiomyopathy\"\n",
      "!Series_summary\t\"Using a high-throughput gene expression profiling technology, we have illuminated novel potential microRNA (miRNA) components of the molecular disease process underlying human hypertrophic cardiomyopathy (HCM).  It is hoped that this will fuel future research endeavors that will eventually uncover the role miRNAs may play in the phenotypic heterogeneity of the disease, and thus, provide potential tools for identifying patients with benign versus malignant forms of the disease.\"\n",
      "!Series_overall_design\t\"Case (n = 107)-Control (n=20) study comparing the microRNA transcriptome of cardiac tissues from patients with hypertrophic cardiomyopathy to the microRNA transcriptome of control donor cardiac tissues.\"\n",
      "Sample Characteristics Dictionary:\n",
      "{0: ['Sex: male', 'Sex: female'], 1: ['age (yrs): 9', 'age (yrs): 10', 'age (yrs): 11', 'age (yrs): 13', 'age (yrs): 14', 'age (yrs): 15', 'age (yrs): 16', 'age (yrs): 17', 'age (yrs): 19', 'age (yrs): 20', 'age (yrs): 23', 'age (yrs): 26', 'age (yrs): 27', 'age (yrs): 28', 'age (yrs): 30', 'age (yrs): 31', 'age (yrs): 32', 'age (yrs): 33', 'age (yrs): 35', 'age (yrs): 37', 'age (yrs): 38', 'age (yrs): 41', 'age (yrs): 43', 'age (yrs): 44', 'age (yrs): 45', 'age (yrs): 46', 'age (yrs): 47', 'age (yrs): 48', 'age (yrs): 50', 'age (yrs): 51'], 2: ['tissue: cardiac', 'sample type: control'], 3: ['disease state: hypertrophic cardiomyopathy (HCM)', nan, 'sample type: control'], 4: ['sample type: case', nan]}\n"
     ]
    }
   ],
   "source": [
    "from utils.preprocess import *\n",
    "# 1. Identify the paths to the soft file and the matrix file\n",
    "cohort_dir = '/media/techt/DATA/GEO/Hypertrophic_Cardiomyopathy/GSE36946'\n",
    "soft_file, matrix_file = geo_get_relevant_filepaths(cohort_dir)\n",
    "\n",
    "# 2. Read the matrix file to obtain background information and sample characteristics data\n",
    "background_prefixes = ['!Series_title', '!Series_summary', '!Series_overall_design']\n",
    "clinical_prefixes = ['!Sample_geo_accession', '!Sample_characteristics_ch1']\n",
    "background_info, clinical_data = get_background_and_clinical_data(matrix_file, background_prefixes, clinical_prefixes)\n",
    "\n",
    "# 3. Obtain the sample characteristics dictionary from the clinical dataframe\n",
    "sample_characteristics_dict = get_unique_values_by_row(clinical_data)\n",
    "\n",
    "# 4. Explicitly print out all the background information and the sample characteristics dictionary\n",
    "print(\"Background Information:\")\n",
    "print(background_info)\n",
    "print(\"Sample Characteristics Dictionary:\")\n",
    "print(sample_characteristics_dict)\n"
   ]
  },
  {
   "cell_type": "markdown",
   "id": "6d20ea40",
   "metadata": {},
   "source": [
    "### Step 2: Dataset Analysis and Clinical Feature Extraction"
   ]
  },
  {
   "cell_type": "code",
   "execution_count": 3,
   "id": "9edc32d1",
   "metadata": {
    "execution": {
     "iopub.execute_input": "2024-06-12T10:52:30.592667Z",
     "iopub.status.busy": "2024-06-12T10:52:30.592530Z",
     "iopub.status.idle": "2024-06-12T10:52:30.597310Z",
     "shell.execute_reply": "2024-06-12T10:52:30.597013Z"
    }
   },
   "outputs": [],
   "source": [
    "is_gene_available = False\n",
    "trait_row = age_row = gender_row = None  # set to different values when applicable\n",
    "convert_trait = convert_age = convert_gender = None  # define the functions when applicable\n",
    "\n",
    "# Step 1: Determine if gene expression data is available\n",
    "is_gene_available = False  # Based on the dataset description, only miRNA data is used\n",
    "\n",
    "# Step 2: Variable Availability and Data Type Conversion\n",
    "# 2.1 Data Availability\n",
    "age_row = 1  # 'age (yrs):' is listed under key 1\n",
    "gender_row = 0  # 'Sex:' is listed under key 0\n",
    "trait_row = 3  # 'disease state:' is listed under key 3\n",
    "\n",
    "# 2.3 Data Type Conversion\n",
    "# Function to convert 'Hypertrophic_Cardiomyopathy' to binary\n",
    "def convert_trait(value):\n",
    "    if value is None or pd.isna(value):\n",
    "        return None\n",
    "    value = value.split(':')[1].strip().lower()\n",
    "    if value == 'hypertrophic cardiomyopathy (hcm)':\n",
    "        return 1\n",
    "    elif value == 'control':\n",
    "        return 0\n",
    "    return None\n",
    "\n",
    "# Function to convert 'age' to continuous\n",
    "def convert_age(value):\n",
    "    if value is None or pd.isna(value):\n",
    "        return None\n",
    "    age_value = value.split(':')[1].strip()\n",
    "    try:\n",
    "        return float(age_value)\n",
    "    except ValueError:\n",
    "        return None\n",
    "\n",
    "# Function to convert 'gender' to binary\n",
    "def convert_gender(value):\n",
    "    if value is None or pd.isna(value):\n",
    "        return None\n",
    "    gender_value = value.split(':')[1].strip().lower()\n",
    "    if gender_value == \"male\":\n",
    "        return 1\n",
    "    elif gender_value == \"female\":\n",
    "        return 0\n",
    "    return None\n",
    "\n",
    "# Save cohort information\n",
    "# The trait_row is not None, but we avoid further steps because is_gene_available is False\n",
    "save_cohort_info('GSE36946', './preprocessed/Hypertrophic_Cardiomyopathy/cohort_info.json', is_gene_available, trait_row is not None)\n",
    "\n",
    "# Clinical Feature Extraction\n",
    "# Since `is_gene_available` is False, skipping clinical feature extraction as per instructions\n"
   ]
  }
 ],
 "metadata": {
  "language_info": {
   "codemirror_mode": {
    "name": "ipython",
    "version": 3
   },
   "file_extension": ".py",
   "mimetype": "text/x-python",
   "name": "python",
   "nbconvert_exporter": "python",
   "pygments_lexer": "ipython3",
   "version": "3.8.17"
  }
 },
 "nbformat": 4,
 "nbformat_minor": 5
}
