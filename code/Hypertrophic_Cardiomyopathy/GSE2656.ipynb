{
 "cells": [
  {
   "cell_type": "code",
   "execution_count": 1,
   "id": "24f23fda",
   "metadata": {
    "execution": {
     "iopub.execute_input": "2024-06-12T10:52:29.179030Z",
     "iopub.status.busy": "2024-06-12T10:52:29.178934Z",
     "iopub.status.idle": "2024-06-12T10:52:29.184556Z",
     "shell.execute_reply": "2024-06-12T10:52:29.184001Z"
    }
   },
   "outputs": [],
   "source": [
    "\n",
    "import sys\n",
    "sys.path.append('/home/techt/Desktop/a4s')\n"
   ]
  },
  {
   "cell_type": "markdown",
   "id": "7bc5678b",
   "metadata": {},
   "source": [
    "### Step 1: Initial Data Loading"
   ]
  },
  {
   "cell_type": "code",
   "execution_count": 2,
   "id": "83a3af6b",
   "metadata": {
    "execution": {
     "iopub.execute_input": "2024-06-12T10:52:29.187079Z",
     "iopub.status.busy": "2024-06-12T10:52:29.186738Z",
     "iopub.status.idle": "2024-06-12T10:52:29.459884Z",
     "shell.execute_reply": "2024-06-12T10:52:29.459524Z"
    }
   },
   "outputs": [
    {
     "name": "stdout",
     "output_type": "stream",
     "text": [
      "Background Information:\n",
      "!Series_title\t\"Gene expression profile of human heart failure from different etiologies\"\n",
      "!Series_summary\t\"The goal of this experiment was to identify gene expression changes that are common in different heart failure (HF) types or specific to an etiology of HF. HF groups studied include doxorubicin induced cardiomyopathy, familial dilated cardiomyopathy, hypertrophic cardiomyopathy, idiopathic dilated cardiomyopathy, ischemic heart disease, peripartum cardiomyopathy, and viral induced cardiomyopathy.\"\n",
      "!Series_summary\t\"\n",
      "!Series_summary\t\"Non-diseased left ventricles (LV) were obtained from donor hearts not used for transplantation (these were considered to be unsuitable for transplantation for a variety of reasons including the lack of a tissue-compatible recipient). Failing LV were obtained from patients undergoing heart transplantation. Transmural sections of LV anterior free wall were trimmed of fat, dissected into 1-1.5 gm pieces, and immediately frozen in the operating theater. 100-200 mg of frozen transmural LV was ground to a fine powder in liquid nitrogen using a mortar and pestle. Then total RNA was isolated by a method described by Wei and Khan (A Molecular Cloning Manual). The purity of the RNA extract was assessed by measuring the absorbance at 260 nm and 280 nm. Its quantity and integrity was then examined using RNA Nano Chips on a 2100 Bioanalyzer (Agilent Technologies, Palo Alto, CA, USA). 10 ?g of RNA extracts and a universal human reference RNA (Stratagene, La Jolla, CA, USA) were reverse transcribed with Cy3-dUTP and Cy5-dUTP, respectively, to produce labeled cDNA probes using Thermoscript reverse transcriptase according Hwang JJ et. al. (Physiological Genomics 10: 31-44, 2002). Raw scanned images were processed using ScanAlyze version 2.50 (Michael Eisen, Stanford University, CA, USA). Cy3 and Cy5 scans were superimposed, local backgrounds were subtracted, and the fluorescence intensities of each spot were quantified. All further analyses of CardioChips were done using GeneSpring version 6.1 (Silicon Genetics, Redwood City, CA, USA). The data from each array was normalized first to the reference RNA and then a LOWESS curve was fit to the log-intensity versus log-ratio plot for each array and for each gene across all experiments. 40.0% of the data was used to calculate the LOWESS fit at each point. Differentially expressed genes in each HF group compared to donor hearts were identified by a one-way ANOVA test (P <0.05) with the benjamini and hochberg multiple testing corrections and we selected those genes with an average difference greater than 1.5 fold. A hierarchical clustering analysis was performed using pearson correlation with the separation ratio of 1.0 and minimum distance of 0.001 as similarity measure.\"\n",
      "!Series_summary\t\"\n",
      "!Series_summary\t\"Using a cardiovascular-specific gene array (CardioChip) of 42 heart failure (HF) patients from a wide range of etiology groups and 8 non-failing donors, we have identified down-regulation of LIM domain protein which may be an important pathway for the clinical progression of HF. We identified six genes, encoding LIM domain and Homer proteins, that are down-regulated in terminally failing hearts. The LIM and cysteine rich domain 1 (LMCD1) gene, in particular, was significantly down-regulated in all HF samples. This novel finding suggests that the LMCD 1 is a universal biomarker for end-stage HF.  Other LIM domain genes were also down-regulated but only in non-familial dilated forms of cardiomyopathy. This is probably due to the fact that down-regulation of LIM protein expression may disrupt the cytoskeletal architecture, leading to dilated cardiomyopathy. In addition to identifying the LIM domain genes as possible regulatory genes involved in HF, we also demonstrated that the gene expression profile was able to classify multiple HF patients groups. This paper is the first to examine viral-induced cardiomyopathy, doxorubicin toxicity cardiomyopathy and perimartum cardiomyopathy and to perform the clustering analysis of those HF types providing new insights into human HF.\"\n",
      "!Series_summary\t\"Keywords: other\"\n",
      "Sample Characteristics Dictionary:\n",
      "{}\n"
     ]
    }
   ],
   "source": [
    "from utils.preprocess import *\n",
    "# 1. Identify the paths to the soft file and the matrix file\n",
    "cohort_dir = '/media/techt/DATA/GEO/Hypertrophic_Cardiomyopathy/GSE2656'\n",
    "soft_file, matrix_file = geo_get_relevant_filepaths(cohort_dir)\n",
    "\n",
    "# 2. Read the matrix file to obtain background information and sample characteristics data\n",
    "background_prefixes = ['!Series_title', '!Series_summary', '!Series_overall_design']\n",
    "clinical_prefixes = ['!Sample_geo_accession', '!Sample_characteristics_ch1']\n",
    "background_info, clinical_data = get_background_and_clinical_data(matrix_file, background_prefixes, clinical_prefixes)\n",
    "\n",
    "# 3. Obtain the sample characteristics dictionary from the clinical dataframe\n",
    "sample_characteristics_dict = get_unique_values_by_row(clinical_data)\n",
    "\n",
    "# 4. Explicitly print out all the background information and the sample characteristics dictionary\n",
    "print(\"Background Information:\")\n",
    "print(background_info)\n",
    "print(\"Sample Characteristics Dictionary:\")\n",
    "print(sample_characteristics_dict)\n"
   ]
  },
  {
   "cell_type": "markdown",
   "id": "7ee08a6b",
   "metadata": {},
   "source": [
    "### Step 2: Dataset Analysis and Clinical Feature Extraction"
   ]
  },
  {
   "cell_type": "code",
   "execution_count": 3,
   "id": "b525e1dc",
   "metadata": {
    "execution": {
     "iopub.execute_input": "2024-06-12T10:52:29.461894Z",
     "iopub.status.busy": "2024-06-12T10:52:29.461784Z",
     "iopub.status.idle": "2024-06-12T10:52:29.465857Z",
     "shell.execute_reply": "2024-06-12T10:52:29.465569Z"
    }
   },
   "outputs": [
    {
     "name": "stdout",
     "output_type": "stream",
     "text": [
      "A new JSON file was created at: ./preprocessed/Hypertrophic_Cardiomyopathy/cohort_info.json\n"
     ]
    }
   ],
   "source": [
    "is_gene_available = True\n",
    "trait_row = age_row = gender_row = None  # set to different values when applicable\n",
    "\n",
    "# Define conversion functions if applicable\n",
    "def convert_trait(value):\n",
    "    try:\n",
    "        # Extract and convert trait information after colon\n",
    "        val = value.split(':')[-1].strip().lower()\n",
    "        return 1 if val == 'hypertrophic_cardiomyopathy' else 0\n",
    "    except:\n",
    "        return None\n",
    "\n",
    "def convert_age(value):\n",
    "    try:\n",
    "        # Extract and convert age information after colon to float\n",
    "        return float(value.split(':')[-1].strip())\n",
    "    except:\n",
    "        return None\n",
    "    \n",
    "def convert_gender(value):\n",
    "    try:\n",
    "        # Extract and convert gender information after colon\n",
    "        val = value.split(':')[-1].strip().lower()\n",
    "        return 1 if val == 'male' else (0 if val == 'female' else None)\n",
    "    except:\n",
    "        return None\n",
    "\n",
    "# No specific row keys available from the provided output, setting variables to None\n",
    "# and corresponding convert functions to None when not available\n",
    "\n",
    "# Save cohort information\n",
    "save_cohort_info('GSE2656', './preprocessed/Hypertrophic_Cardiomyopathy/cohort_info.json', is_gene_available, trait_row is not None)\n"
   ]
  }
 ],
 "metadata": {
  "language_info": {
   "codemirror_mode": {
    "name": "ipython",
    "version": 3
   },
   "file_extension": ".py",
   "mimetype": "text/x-python",
   "name": "python",
   "nbconvert_exporter": "python",
   "pygments_lexer": "ipython3",
   "version": "3.8.17"
  }
 },
 "nbformat": 4,
 "nbformat_minor": 5
}
