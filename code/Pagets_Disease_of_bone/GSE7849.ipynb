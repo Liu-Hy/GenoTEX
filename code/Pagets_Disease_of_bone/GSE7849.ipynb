{
 "cells": [
  {
   "cell_type": "code",
   "execution_count": 1,
   "id": "965bb7bd",
   "metadata": {
    "execution": {
     "iopub.execute_input": "2024-06-12T09:56:53.473013Z",
     "iopub.status.busy": "2024-06-12T09:56:53.472913Z",
     "iopub.status.idle": "2024-06-12T09:56:53.477271Z",
     "shell.execute_reply": "2024-06-12T09:56:53.476984Z"
    }
   },
   "outputs": [],
   "source": [
    "\n",
    "import sys\n",
    "sys.path.append('/home/techt/Desktop/a4s')\n"
   ]
  },
  {
   "cell_type": "markdown",
   "id": "7df20d90",
   "metadata": {},
   "source": [
    "### Step 1: Initial Data Loading"
   ]
  },
  {
   "cell_type": "code",
   "execution_count": 2,
   "id": "4614d9a0",
   "metadata": {
    "execution": {
     "iopub.execute_input": "2024-06-12T09:56:53.479083Z",
     "iopub.status.busy": "2024-06-12T09:56:53.478984Z",
     "iopub.status.idle": "2024-06-12T09:56:53.759268Z",
     "shell.execute_reply": "2024-06-12T09:56:53.758897Z"
    }
   },
   "outputs": [
    {
     "name": "stdout",
     "output_type": "stream",
     "text": [
      "Background Information:\n",
      "!Series_title\t\"Age-Specific Differences of Oncogenic Pathway Deregulation Seen in Human Breast Tumors\"\n",
      "!Series_summary\t\"Breast cancer arising in young women has a poorer prognosis, is less likely to be hormone sensitive, and represents a particularly challenging clinical entity.  The biology driving the aggressive nature of breast cancer arising in young women has yet to be defined.\"\n",
      "!Series_summary\t\"Among 784 patients with early stage breast cancer, using prospectively-defined, age-specific cohorts (young <= 45 years; older >= 65 years), 411 eligible patients (n = 200 < 45 years; n = 211 >= 65 years) with clinically-annotated Affymetrix microarray data were identified. Gene set enrichment analyses, signatures of oncogenic pathway deregulation and predictors of chemotherapy sensitivity were evaluated within the two age-defined cohorts.\"\n",
      "!Series_summary\t\"In comparing deregulation of oncogenic pathways between age groups, a statistically higher probability of PI3K (p = 0.006) and Myc (p = 0.03) pathway deregulation was observed in the tumors of younger women.  When evaluating unique patterns of pathway deregulation, a low probability of Src and E2F deregulation in tumors of younger women, concurrent with activation of PI3K, Myc, and beta-catenin, conferred a worse prognosis (HR = 4.15; p = 0.008).  In contrast, a higher probability of Src and E2F pathway activation in tumors of older women, concurrent low probability of PI3K, Myc and beta-catenin deregulation, was associated with a poorer outcome (HR = 2.7; p = 0.006). Similar pathway differences were identified using gene set enrichment analysis. Importantly, in multivariate analyses including clinico-pathologic variables, genomic clusters of pathway deregulation were identified to be independent predictors of disease-free survival.  Finally, a significant relationship (p = 0.02) between anthracycline sensitivity and genomic clusters was observed among women aged >= 65 years.\"\n",
      "!Series_summary\t\"\"\n",
      "!Series_summary\t\"Submitters do not have approval to publish the .CEL files\"\n",
      "!Series_summary\t\"Keywords: Retrospective analyses\"\n",
      "!Series_overall_design\t\"n=78\"\n",
      "Sample Characteristics Dictionary:\n",
      "{0: ['Tumor'], 1: ['EA_Designation = 1', 'EA_Designation = 2', 'EA_Designation = 3', 'EA_Designation = 4', 'EA_Designation = 5', 'EA_Designation = 6', 'EA_Designation = 7', 'EA_Designation = 8', 'EA_Designation = 9', 'EA_Designation = 10', 'EA_Designation = 11', 'EA_Designation = 12', 'EA_Designation = 13', 'EA_Designation = 14', 'EA_Designation = 15', 'EA_Designation = 16', 'EA_Designation = 17', 'EA_Designation = 18', 'EA_Designation = 19', 'EA_Designation = 20', 'EA_Designation = 21', 'EA_Designation = 22', 'EA_Designation = 23', 'EA_Designation = 24', 'EA_Designation = 25', 'EA_Designation = 26', 'EA_Designation = 27', 'EA_Designation = 28', 'EA_Designation = 30', 'EA_Designation = 31'], 2: ['%_Tumor = 80', '%_Tumor = 60', '%_Tumor = 70', '%_Tumor = 50', '%_Tumor = 90'], 3: ['Race = White', 'Race = Black', 'Race = Asian', 'Race = Am Indian'], 4: ['Histo_Desc = Ductal Carcinoma, NOS', 'Histo_Desc = Infiltrating Duct & Lobualar Carcinoma', 'Histo_Desc = Mucinous Adenocarcinoma', 'Histo_Desc = Lobular carcinoma, NOS', 'Histo_Desc = Papillary Carcinoma, NOS', 'Histo_Desc = Atypical medullary carcinoma', 'Histo_Desc = Paget Disease & Infiltrating Duct Carcinoma', 'Histo_Desc = Carcinoma, NOS'], 5: ['Histo_Grade = Poorly Diff', 'Histo_Grade = Moderately Diff', 'Histo_Grade = Not Graded / Unknown', 'Histo_Grade = Well Diff', 'Histo_Grade = Undifferentiated'], 6: ['Path_T = 1A', 'Path_T = 1C', 'Path_T = 1B', 'Path_T = 2'], 7: ['Path_Stg = 1', 'Path_N = 1B', 'Path_Stg = 2A', 'Path_N = 1A', 'Path_N = 1', 'Path_N = 2'], 8: ['Tumor_Size_(cm) = 1.6', 'Path_M = X', 'Path_Stg = 2A', 'Tumor_Size_(cm) = 0.7', 'Tumor_Size_(cm) = 0.2', 'Tumor_Size_(cm) = 2', 'Tumor_Size_(cm) = 1.5', 'Tumor_Size_(cm) = 4', 'Tumor_Size_(cm) = 0.8', 'Tumor_Size_(cm) = 1.8', 'Tumor_Size_(cm) = 1', 'Tumor_Size_(cm) = 1.7', 'Tumor_Size_(cm) = 1.9', 'Tumor_Size_(cm) = 2.5', 'Path_Stg = 2B', 'Tumor_Size_(cm) = 3.5', 'Tumor_Size_(cm) = 5', 'Tumor_Size_(cm) = 3.3', 'Tumor_Size_(cm) = 4.2', 'Tumor_Size_(cm) = 4.5', 'Tumor_Size_(cm) = 4.3', 'Tumor_Size_(cm) = 3.6', 'Path_Stg = 3A', 'Path_M = 1'], 9: ['Regional_Nodes_Examined = 12', 'Path_Stg = 99', 'Tumor_Size_(cm) = 1', 'Regional_Nodes_Examined = 15', 'Tumor_Size_(cm) = 1.5', 'Regional_Nodes_Examined = 23', 'Tumor_Size_(cm) = 1.2', 'Regional_Nodes_Examined = 18', 'Tumor_Size_(cm) = 1.7', 'Regional_Nodes_Examined = 16', 'Regional_Nodes_Examined = 17', 'Regional_Nodes_Examined = 19', 'Regional_Nodes_Examined = 13', 'Regional_Nodes_Examined = 32', 'Regional_Nodes_Examined = 36', 'Regional_Nodes_Examined = 9', 'Regional_Nodes_Examined = 8', 'Regional_Nodes_Examined = 2', 'Regional_Nodes_Examined = 25', 'Tumor_Size_(cm) = 1.6', 'Regional_Nodes_Examined = 26', 'Regional_Nodes_Examined = 28', 'Tumor_Size_(cm) = 2.5', 'Regional_Nodes_Examined = 14', 'Regional_Nodes_Examined = 6', 'Tumor_Size_(cm) = 3.6', 'Tumor_Size_(cm) = 2.9', 'Tumor_Size_(cm) = 3', 'Regional_Nodes_Examined = 11', 'Tumor_Size_(cm) = 4.5'], 10: ['ER = Positive/elevated', 'Tumor_Size_(cm) = 1.6', 'Regional_Nodes_Positive = 11', 'ER = Negative/Normal', 'Regional_Nodes_Positive = 2', 'Regional_Nodes_Positive = 1', 'ER = Borderline,Undetermined', 'Regional_Nodes_Positive = 4', 'Regional_Nodes_Positive = 9', 'Regional_Nodes_Positive = 3', 'Regional_Nodes_Positive = 7', 'Tumor_Size_(cm) = 1.5', 'Regional_Nodes_Positive = 6', 'Regional_Nodes_Positive = 19'], 11: ['PR = Positive/elevated', 'Regional_Nodes_Positive = 6', 'Regional_Nodes_Examined = 27', 'PR = Negative/Normal', 'Regional_Nodes_Examined = 11', 'Regional_Nodes_Examined = 16', 'Regional_Nodes_Examined = 28', 'PR = Borderline,Undetermined', 'Regional_Nodes_Examined = 12', 'Regional_Nodes_Examined = 26', 'Regional_Nodes_Examined = 24', 'Regional_Nodes_Examined = 35', 'Regional_Nodes_Examined = 18', 'Regional_Nodes_Examined = 23', 'Regional_Nodes_Examined = 22', 'Regional_Nodes_Examined = 20', 'Regional_Nodes_Examined = 13', 'PR = Unknown if Done', 'Regional_Nodes_Examined = 32', 'Regional_Nodes_Examined = 9', 'Regional_Nodes_Positive = 42', 'Regional_Nodes_Examined = 17'], 12: ['Type_of_Surgery = MRM', 'Regional_Nodes_Examined = 23', 'ER = Positive/elevated', 'ER = Negative/Normal', 'Type_of_Surgery = Partial Mastectomy', 'ER = Borderline,Undetermined', 'ER = Unknown if Done', 'Regional_Nodes_Examined = 42'], 13: ['Margins = negative', 'ER = Positive/elevated', 'PR = Negative/Normal', 'PR = Positive/elevated', 'Age_at_Dx = 42', 'Margins = positive', 'PR = Unknown if Done', 'PR = Borderline,Undetermined', 'ER = Negative/Normal'], 14: ['Nuclear_Grade = 2', 'PR = Positive/elevated', 'Type_of_Surgery = MRM', 'LVI = absent', 'Nuclear_Grade = 3', 'DFS = 136.5333333', 'Nuclear_Grade = 1', 'LVI = present', 'Type_of_Surgery = Partial Mastectomy', 'PR = Negative/Normal'], 15: ['LVI = absent', 'Type_of_Surgery = MRM', 'EIC = present', 'Margins = negative', 'Age_at_Dx = 56', 'TYPE_1st_Recur = None', 'LVI = present', 'Age_at_Dx = 68', 'Age_at_Dx = 43', 'Margins = positive', 'EIC = absent', 'Nuclear_Grade = 2', 'Nuclear_Grade = 3', 'Type_of_Surgery = None'], 16: ['EIC = absent', 'Nuclear_Grade = 2', 'Age_at_Dx = 39', 'Age_at_Dx = 62', 'Age_at_Dx = 47', 'DFS = 150.1333333', '1st_Distant_Site_Recur = None', 'Age_at_Dx = 74', 'Nuclear_Grade = 3', 'EIC = present', 'DFS = 105.7666667', 'DFS = 115.9', 'Age_at_Dx = 65', 'Age_at_Dx = 42', 'LVI = absent', 'Age_at_Dx = 60', 'LVI = present', 'Age_at_Dx = 59'], 17: ['Age_at_Dx = 67', 'EIC = present', 'DFS = 136.4', 'DFS = 139.3', 'DFS = 42.23333333', 'DFS = 86.13333333', 'TYPE_1st_Recur = None', '2nd_Distant_Site_Recur = None', 'DFS = 139.8', 'Age_at_Dx = 65', 'LVI = present', 'Age_at_Dx = 39', 'Age_at_Dx = 60', 'Age_at_Dx = 69', 'Age_at_Dx = 61', 'Age_at_Dx = 50', 'LVI = absent', 'Age_at_Dx = 47', 'Age_at_Dx = 45', 'Age_at_Dx = 38', 'Multicentric_Tumor = yes', 'Age_at_Dx = 48', 'Age_at_Dx = 81', 'Age_at_Dx = 58', 'Age_at_Dx = 41', 'DFS = 53.86666667', 'Age_at_Dx = 56', 'Age_at_Dx = 46', 'Age_at_Dx = 49', 'Age_at_Dx = 82'], 18: ['DFS = 137.4666667', 'Age_at_Dx = 65', 'TYPE_1st_Recur = None', 'Recurrence = 1', '1st_Distant_Site_Recur = None', '3rd_Distant_Site_Recur = None', 'DFS = 32.83333333', 'EIC = absent', 'DFS = 125.2', 'DFS = 81.2', 'DFS = 119.8333333', 'DFS = 88.33333333', 'DFS = 116.5666667', 'DFS = 108.8666667', 'DFS = 103.3333333', 'DFS = 87.43333333', 'DFS = 71.96666667', 'Age_at_Dx = 52', 'DFS = 58.93333333', 'DFS = 81.33333333', 'DFS = 44.63333333', 'DFS = 48.73333333', 'Age_at_Dx = 61', 'Age_at_Dx = 44', 'DFS = 73.7', 'DFS = 61.83333333', 'Age_at_Dx = 62', 'DFS = 48.76666667', 'DFS = 49.73333333', 'DFS = 63.56666667'], 19: ['TYPE_1st_Recur = None', 'DFS = 116.5666667', '1st_Distant_Site_Recur = None', 'Date_1st_Recur = 5/1/1998', '2nd_Distant_Site_Recur = None', 'XRT = No', 'Recurrence = 1', 'Age_at_Dx = 74', 'Age_at_Dx = 67', 'DFS = 63.33333333', 'DFS = 71', 'Multicentric_Tumor = yes', 'DFS = 81.7', 'Age_at_Dx = 81', 'DFS = 50', 'Age_at_Dx = 60', 'Age_at_Dx = 52', 'Age_at_Dx = 53', 'Age_at_Dx = 46', 'Recurrence = na', 'Age_at_Dx = 77', 'DFS = 150.0333333', 'Age_at_Dx = 49', 'DFS = 116.8333333', 'Age_at_Dx = 42', 'Age_at_Dx = 56', 'DFS = 128.1666667', 'Date_1st_Recur = 12/31/1995', 'Age_at_Dx = 39', 'DFS = 107.6666667'], 20: ['1st_Distant_Site_Recur = None', 'Recurrence = 1', '2nd_Distant_Site_Recur = None', 'TYPE_1st_Recur = Distant', '3rd_Distant_Site_Recur = None', 'Type_1st_XRT = None', 'Date_1st_Recur = 4/27/1994', 'DFS = 157.5', 'Date_1st_Recur = 2/2/2001', 'DFS = 74.36666667', 'TYPE_1st_Recur = None', 'Age_at_Dx = 47', 'DFS = 76.2', 'DFS = 59.03333333', 'DFS = 48.7', 'Date_1st_Recur = 5/21/2001', 'DFS = 88.2', 'DFS = 92', 'DFS = 16.13333333', 'TYPE_1st_Recur = Never Disease Free', 'DFS = 10.26666667', 'DFS = 16.86666667', 'Date_1st_Recur = 3/8/1994', 'DFS = 141.4333333', 'DFS = 108.8', 'DFS = 33.83333333', 'Date_1st_Recur = 12/1/1993', 'DFS = 115.3', 'Age_at_Dx = 40', 'DFS = 37.33333333'], 21: ['2nd_Distant_Site_Recur = None', 'Date_1st_Recur = 2/17/1999', '3rd_Distant_Site_Recur = None', '1st_Distant_Site_Recur = Distant Lymph Nodes', 'XRT = No', 'Chemotherapy = No', 'TYPE_1st_Recur = Distant', 'TYPE_1st_Recur = None', 'XRT = Yes', '1st_Distant_Site_Recur = None', 'DFS = 61.16666667', 'TYPE_1st_Recur = DIstant', 'Recurrence = 1', '1st_Distant_Site_Recur = Bone', 'DFS = 41.23333333', 'Date_1st_Recur = 1/19/1995'], 22: ['3rd_Distant_Site_Recur = None', 'TYPE_1st_Recur = Distant', 'XRT = No', '2nd_Distant_Site_Recur = None', 'Type_1st_XRT = None', 'Type_1st_Chemo = None', '1st_Distant_Site_Recur = Bone', '1st_Distant_Site_Recur = None', '1st_Distant_Site_Recur = Distant Lymph Nodes', 'Type_1st_XRT = Beam', 'TYPE_1st_Recur = None', '1st_Distant_Site_Recur = Lung', 'Date_1st_Recur = 3/21/1997', 'Date_1st_Recur = 9/1/1997', 'Date_1st_Recur = 5/30/1990', 'Date_1st_Recur = 6/29/2000', 'Date_1st_Recur = 7/26/1994', 'Date_1st_Recur = 4/11/1994', 'TYPE_1st_Recur = Local'], 23: ['XRT = No', '1st_Distant_Site_Recur = Other, generalized, Unknown Site', 'Type_1st_XRT = None', '3rd_Distant_Site_Recur = None', 'Chemotherapy = Yes', 'Hormone_Tx = Yes', '2nd_Distant_Site_Recur = None', 'XRT = Yes', 'Chemotherapy = No', '2nd_Distant_Site_Recur = Lung', '1st_Distant_Site_Recur = None', 'TYPE_1st_Recur = Distant', '2nd_Distant_Site_Recur = Distant Lymph Nodes'], 24: ['Type_1st_XRT = None', '2nd_Distant_Site_Recur = None', 'Chemotherapy = Yes', 'Chemotherapy = No', 'XRT = No', 'Type_1st_Chemo = 1', nan, '3rd_Distant_Site_Recur = None', 'Type_1st_XRT = Beam', 'Type_1st_Chemo = None', 'XRT = Yes', '1st_Distant_Site_Recur = CNS', '1st_Distant_Site_Recur = Bone', '1st_Distant_Site_Recur = Pleura', '1st_Distant_Site_Recur = Liver'], 25: ['Chemotherapy = No', '3rd_Distant_Site_Recur = None', 'Type_1st_Chemo = 1', 'Type_1st_Chemo = None', 'Type_1st_XRT = None', '= MF', nan, 'XRT = No', 'Chemotherapy = Yes', 'Hormone_Tx = Yes', 'Type_1st_XRT = Beam', 'XRT = Yes', '2nd_Distant_Site_Recur = Other, generalized, Unknown Site', '2nd_Distant_Site_Recur = None', '2nd_Distant_Site_Recur = Lung'], 26: ['Type_1st_Chemo = None', 'XRT = No', '= CMFVP-A', 'Hormone_Tx = Yes', 'Hormone_Tx = No', 'Chemotherapy = Yes', nan, 'Type_1st_XRT = None', 'Type_1st_Chemo = 1', 'Type_1st_Chemo = 3', 'Chemotherapy = No', 'Type_1st_XRT = Beam', '3rd_Distant_Site_Recur = None'], 27: ['Hormone_Tx = Yes', 'Type_1st_XRT = None', nan, 'Type_1st_Chemo = 1', 'Chemotherapy = No', '= CMF', '= MF, Lecovorin', 'Hormone_Tx = No', 'Type_1st_Chemo = None', '= AC', '= AT', 'Chemotherapy = Yes', 'XRT = Yes', 'Type_1st_Chemo = 3', 'XRT = No', '= CAF'], 28: [nan, 'Chemotherapy = No', '= CAF', 'Type_1st_Chemo = None', 'Hormone_Tx = Yes', 'Hormone_Tx = No', 'Chemotherapy = Yes', 'Type_1st_Chemo = 3', 'Type_1st_XRT = Beam', 'Type_1st_XRT = None', 'Type_1st_Chemo = 1', '= AC'], 29: [nan, 'Type_1st_Chemo = None', 'Hormone_Tx = Yes', 'Hormone_Tx = No', 'Type_1st_Chemo = 3', '= ACT', '= ACMF', 'Chemotherapy = Yes', 'Chemotherapy = No', '= CAF', 'Type_1st_Chemo = 1'], 30: [nan, 'Hormone_Tx = Yes', '= CMF', 'Hormone_Tx = No', 'Type_1st_Chemo = 3', 'Type_1st_Chemo = None', 'Type_1st_Chemo = 1', '= ACT', '= AC'], 31: [nan, 'Hormone_Tx = No', '= CAF'], 32: [nan, 'Hormone_Tx = No']}\n"
     ]
    }
   ],
   "source": [
    "from utils.preprocess import *\n",
    "# 1. Identify the paths to the soft file and the matrix file\n",
    "cohort_dir = '/media/techt/DATA/GEO/Pagets_Disease_of_bone/GSE7849'\n",
    "soft_file, matrix_file = geo_get_relevant_filepaths(cohort_dir)\n",
    "\n",
    "# 2. Read the matrix file to obtain background information and sample characteristics data\n",
    "background_prefixes = ['!Series_title', '!Series_summary', '!Series_overall_design']\n",
    "clinical_prefixes = ['!Sample_geo_accession', '!Sample_characteristics_ch1']\n",
    "background_info, clinical_data = get_background_and_clinical_data(matrix_file, background_prefixes, clinical_prefixes)\n",
    "\n",
    "# 3. Obtain the sample characteristics dictionary from the clinical dataframe\n",
    "sample_characteristics_dict = get_unique_values_by_row(clinical_data)\n",
    "\n",
    "# 4. Explicitly print out all the background information and the sample characteristics dictionary\n",
    "print(\"Background Information:\")\n",
    "print(background_info)\n",
    "print(\"Sample Characteristics Dictionary:\")\n",
    "print(sample_characteristics_dict)\n"
   ]
  },
  {
   "cell_type": "markdown",
   "id": "dab3c072",
   "metadata": {},
   "source": [
    "### Step 2: Dataset Analysis and Clinical Feature Extraction"
   ]
  },
  {
   "cell_type": "code",
   "execution_count": 3,
   "id": "32443681",
   "metadata": {
    "execution": {
     "iopub.execute_input": "2024-06-12T09:56:53.761726Z",
     "iopub.status.busy": "2024-06-12T09:56:53.761589Z",
     "iopub.status.idle": "2024-06-12T09:56:53.767289Z",
     "shell.execute_reply": "2024-06-12T09:56:53.766998Z"
    }
   },
   "outputs": [
    {
     "name": "stdout",
     "output_type": "stream",
     "text": [
      "A new JSON file was created at: ./preprocessed/Pagets_Disease_of_bone/cohort_info.json\n"
     ]
    }
   ],
   "source": [
    "is_gene_available = False\n",
    "trait_row = age_row = gender_row = None  # set to different values when applicable\n",
    "convert_trait = convert_age = convert_gender = None  # define the functions when applicable\n",
    "\n",
    "# Checking gene expression data availability\n",
    "# Assuming the matrix file contains gene expression data if the filenames suggest Affymetrix microarray data\n",
    "is_gene_available = True  \n",
    "\n",
    "# Variable Availability and Data Type Conversion\n",
    "def convert_trait(value):\n",
    "    return None  # Trait data not available\n",
    "\n",
    "# Age conversion function\n",
    "def convert_age(value):\n",
    "    try:\n",
    "        return float(value.split('=')[-1].strip())\n",
    "    except ValueError:\n",
    "        return None\n",
    "\n",
    "# Gender conversion function\n",
    "def convert_gender(value):\n",
    "    gender_map = {'female': 0, 'male': 1}\n",
    "    gender = value.split('=')[-1].strip().lower()\n",
    "    return gender_map.get(gender, None)\n",
    "\n",
    "# Setting the appropriate rows for each variable based on the provided data.\n",
    "# Checking keys for 'Pagets_Disease_of_bone'\n",
    "# There is no explicit mention of Paget's Disease of Bone, assuming 4 for histological descriptions but we'll consider it unavailable.\n",
    "\n",
    "# Checking keys for 'age'\n",
    "for key, values in clinical_data.items():\n",
    "    if 'Age_at_Dx' in values[0]:  # Example key string\n",
    "        age_row = key\n",
    "        break\n",
    "# If no proper key is found, we leave age_row as None\n",
    "\n",
    "# Checking keys for 'gender'\n",
    "for key, values in clinical_data.items():\n",
    "    # gender data not provided\n",
    "    gender_row = None\n",
    "\n",
    "# Metadata saving\n",
    "save_cohort_info('GSE7849', './preprocessed/Pagets_Disease_of_bone/cohort_info.json', is_gene_available, trait_row is not None)\n",
    "\n",
    "# Clinical Feature Extraction\n",
    "if trait_row is not None:\n",
    "    selected_clinical_data = geo_select_clinical_features(clinical_data, 'Pagets_Disease_of_bone', trait_row, convert_trait, age_row, convert_age, gender_row, convert_gender)\n",
    "    csv_path = './preprocessed/Pagets_Disease_of_bone/trait_data/GSE7849.csv'\n",
    "    selected_clinical_data.to_csv(csv_path)\n",
    "    print(preview_df(selected_clinical_data))\n"
   ]
  }
 ],
 "metadata": {
  "language_info": {
   "codemirror_mode": {
    "name": "ipython",
    "version": 3
   },
   "file_extension": ".py",
   "mimetype": "text/x-python",
   "name": "python",
   "nbconvert_exporter": "python",
   "pygments_lexer": "ipython3",
   "version": "3.8.17"
  }
 },
 "nbformat": 4,
 "nbformat_minor": 5
}
