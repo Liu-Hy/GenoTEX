{
 "cells": [
  {
   "cell_type": "code",
   "execution_count": 1,
   "id": "df7a59b9",
   "metadata": {
    "execution": {
     "iopub.execute_input": "2024-06-12T10:07:57.154052Z",
     "iopub.status.busy": "2024-06-12T10:07:57.153888Z",
     "iopub.status.idle": "2024-06-12T10:07:57.160737Z",
     "shell.execute_reply": "2024-06-12T10:07:57.160161Z"
    }
   },
   "outputs": [],
   "source": [
    "\n",
    "import sys\n",
    "sys.path.append('/home/techt/Desktop/a4s')\n"
   ]
  },
  {
   "cell_type": "markdown",
   "id": "bb2267c5",
   "metadata": {},
   "source": [
    "### Step 1: Initial Data Loading"
   ]
  },
  {
   "cell_type": "code",
   "execution_count": 2,
   "id": "a7a98819",
   "metadata": {
    "execution": {
     "iopub.execute_input": "2024-06-12T10:07:57.163264Z",
     "iopub.status.busy": "2024-06-12T10:07:57.163058Z",
     "iopub.status.idle": "2024-06-12T10:07:57.462514Z",
     "shell.execute_reply": "2024-06-12T10:07:57.462057Z"
    }
   },
   "outputs": [
    {
     "name": "stdout",
     "output_type": "stream",
     "text": [
      "Background Information:\n",
      "!Series_title\t\"New specific molecular targets for radiochemotherapy in colorectal cancer\"\n",
      "!Series_summary\t\"A promising treatment for patients with advanced colorectal cancer is preoperative radiochemotherapy. The early side effects of this treatment have been considered to be acceptable. The aim of this study was to identify the effects of preoperative radiochemotherapy (PRT) on gene expression in tumour and normal colon rectal tissue form the same patients, before and after PRT.  For that purpose, tissue samples from ten patients with operable rectal adenocarcinomas were collected for use in whole genome–microarray based gene expression analysis. A factorial experimental design allowed us to look solely at the radiation effect on tumours. This resulted in 4496 differentially expressed genes in tumour tissue with p<0.05. In addition to known markers for radiochemotherapy, a Gene Set Enrichment Analysis (GSEA) showed a significant enrichment in gene sets associated with cell adhesion and leukocyte transendothelial migration (TEM).  We conclude that radiochemotherapy has a greater effect in tumour tissue gene expression than normal tissue.  Not only is the effect on normal tissue limited compared to tumour, but significantly different gene sets are enriched. The profound change of cell adhesion molecule expression in tumour tissue could either increase the risk of metastasis, or decrease the tumours invasive potential. Further characterization of genes involved in cell adhesion and leukocyte TEM may give new insights into the molecular responses to radiochemotherapy in colorectal cancer.\"\n",
      "!Series_overall_design\t\"Factorial experimental design\"\n",
      "Sample Characteristics Dictionary:\n",
      "{0: ['tissue: tumour tissue', 'tissue: normal tissue'], 1: ['treatment: non-irradiated', 'treatment: irradiated']}\n"
     ]
    }
   ],
   "source": [
    "from utils.preprocess import *\n",
    "# 1. Identify the paths to the soft file and the matrix file\n",
    "cohort_dir = '/media/techt/DATA/GEO/Colon_and_Rectal_Cancer/GSE15781'\n",
    "soft_file, matrix_file = geo_get_relevant_filepaths(cohort_dir)\n",
    "\n",
    "# 2. Read the matrix file to obtain background information and sample characteristics data\n",
    "background_prefixes = ['!Series_title', '!Series_summary', '!Series_overall_design']\n",
    "clinical_prefixes = ['!Sample_geo_accession', '!Sample_characteristics_ch1']\n",
    "background_info, clinical_data = get_background_and_clinical_data(matrix_file, background_prefixes, clinical_prefixes)\n",
    "\n",
    "# 3. Obtain the sample characteristics dictionary from the clinical dataframe\n",
    "sample_characteristics_dict = get_unique_values_by_row(clinical_data)\n",
    "\n",
    "# 4. Explicitly print out all the background information and the sample characteristics dictionary\n",
    "print(\"Background Information:\")\n",
    "print(background_info)\n",
    "print(\"Sample Characteristics Dictionary:\")\n",
    "print(sample_characteristics_dict)\n"
   ]
  },
  {
   "cell_type": "markdown",
   "id": "f4b9c945",
   "metadata": {},
   "source": [
    "### Step 2: Dataset Analysis and Clinical Feature Extraction"
   ]
  },
  {
   "cell_type": "code",
   "execution_count": 3,
   "id": "bb3c5fa8",
   "metadata": {
    "execution": {
     "iopub.execute_input": "2024-06-12T10:07:57.464379Z",
     "iopub.status.busy": "2024-06-12T10:07:57.464268Z",
     "iopub.status.idle": "2024-06-12T10:07:57.472652Z",
     "shell.execute_reply": "2024-06-12T10:07:57.472262Z"
    }
   },
   "outputs": [
    {
     "name": "stdout",
     "output_type": "stream",
     "text": [
      "{'GSM396309': [0], 'GSM396310': [0], 'GSM396311': [0], 'GSM396312': [0], 'GSM396313': [0], 'GSM396314': [0], 'GSM396315': [0], 'GSM396316': [0], 'GSM396317': [0], 'GSM396318': [0], 'GSM396319': [0], 'GSM396320': [0], 'GSM396321': [0], 'GSM396322': [0], 'GSM396323': [0], 'GSM396324': [0], 'GSM396325': [0], 'GSM396326': [0], 'GSM396327': [0], 'GSM396328': [0], 'GSM396329': [0], 'GSM396330': [0], 'GSM396331': [0], 'GSM396332': [1], 'GSM396333': [1], 'GSM396334': [1], 'GSM396335': [1], 'GSM396336': [1], 'GSM396337': [1], 'GSM396338': [1], 'GSM396339': [1], 'GSM396340': [1], 'GSM396341': [1], 'GSM396342': [1], 'GSM396343': [1], 'GSM396344': [1], 'GSM396345': [1], 'GSM396346': [1], 'GSM396347': [1], 'GSM396348': [1], 'GSM396349': [1], 'GSM396350': [1]}\n"
     ]
    }
   ],
   "source": [
    "is_gene_available = False\n",
    "trait_row = age_row = gender_row = None  # set to different values when applicable\n",
    "convert_trait = convert_age = convert_gender = None  # define the functions when applicable\n",
    "\n",
    "# First, determine if gene expression data is available\n",
    "is_gene_available = True  # Based on text, gene expression data is present\n",
    "\n",
    "# Data Availability for 'Colon_and_Rectal_Cancer', 'age', 'gender'\n",
    "trait_row = 1  # Using 'treatment: non-irradiated', 'treatment: irradiated' to infer the cancer status, setting key to 1\n",
    "age_row = None  # No explicit or inferred age data available\n",
    "gender_row = None  # No explicit or inferred gender data available\n",
    "\n",
    "# Define data conversion functions\n",
    "def convert_trait(value):\n",
    "    try:\n",
    "        treatment = value.split(\":\")[1].strip()\n",
    "        if treatment == 'non-irradiated':\n",
    "            return 0\n",
    "        elif treatment == 'irradiated':\n",
    "            return 1\n",
    "        else:\n",
    "            return None\n",
    "    except IndexError:\n",
    "        return None\n",
    "\n",
    "# Since no age or gender data are available, only define the convert_trait function\n",
    "convert_age = lambda value: None  # no conversion needed, data not available\n",
    "convert_gender = lambda value: None  # no conversion needed, data not available\n",
    "\n",
    "# Save Metadata\n",
    "save_cohort_info('GSE15781', './preprocessed/Colon_and_Rectal_Cancer/cohort_info.json', is_gene_available, trait_row is not None)\n",
    "\n",
    "# Clinical Feature Extraction if trait_row is not None\n",
    "if trait_row is not None:\n",
    "    selected_clinical_data = geo_select_clinical_features(clinical_data, 'Colon_and_Rectal_Cancer', trait_row, convert_trait, age_row, convert_age, gender_row, convert_gender)\n",
    "    csv_path = './preprocessed/Colon_and_Rectal_Cancer/trait_data/GSE15781.csv'\n",
    "    selected_clinical_data.to_csv(csv_path)\n",
    "    print(preview_df(selected_clinical_data))\n"
   ]
  },
  {
   "cell_type": "markdown",
   "id": "85eb2da0",
   "metadata": {},
   "source": [
    "### Step 3: Gene Data Extraction"
   ]
  },
  {
   "cell_type": "code",
   "execution_count": 4,
   "id": "cb3f9ee1",
   "metadata": {
    "execution": {
     "iopub.execute_input": "2024-06-12T10:07:57.474429Z",
     "iopub.status.busy": "2024-06-12T10:07:57.474274Z",
     "iopub.status.idle": "2024-06-12T10:07:57.618058Z",
     "shell.execute_reply": "2024-06-12T10:07:57.617528Z"
    }
   },
   "outputs": [
    {
     "name": "stdout",
     "output_type": "stream",
     "text": [
      "Index(['100002', '100003', '100027', '100036', '100037', '100039', '100044',\n",
      "       '100045', '100051', '100052', '100057', '100058', '100060', '100062',\n",
      "       '100064', '100079', '100089', '100093', '100095', '100100'],\n",
      "      dtype='object', name='ID')\n"
     ]
    }
   ],
   "source": [
    "# 1. Use the get_genetic_data function from the library to get the gene_data from the matrix_file previously defined.\n",
    "gene_data = get_genetic_data(matrix_file)\n",
    "\n",
    "# 2. Print the first 20 row ids for the following step.\n",
    "print(gene_data.index[:20])\n"
   ]
  },
  {
   "cell_type": "markdown",
   "id": "a26d13bb",
   "metadata": {},
   "source": [
    "### Step 4: Gene Identifier Review"
   ]
  },
  {
   "cell_type": "code",
   "execution_count": 5,
   "id": "205a7540",
   "metadata": {
    "execution": {
     "iopub.execute_input": "2024-06-12T10:07:57.619987Z",
     "iopub.status.busy": "2024-06-12T10:07:57.619873Z",
     "iopub.status.idle": "2024-06-12T10:07:57.622006Z",
     "shell.execute_reply": "2024-06-12T10:07:57.621632Z"
    }
   },
   "outputs": [],
   "source": [
    "requires_gene_mapping = True\n"
   ]
  },
  {
   "cell_type": "markdown",
   "id": "aba4ebbe",
   "metadata": {},
   "source": [
    "### Step 5: Gene Annotation (Conditional)"
   ]
  },
  {
   "cell_type": "code",
   "execution_count": 6,
   "id": "f2adef06",
   "metadata": {
    "execution": {
     "iopub.execute_input": "2024-06-12T10:07:57.623703Z",
     "iopub.status.busy": "2024-06-12T10:07:57.623598Z",
     "iopub.status.idle": "2024-06-12T10:07:59.492976Z",
     "shell.execute_reply": "2024-06-12T10:07:59.492410Z"
    }
   },
   "outputs": [
    {
     "name": "stdout",
     "output_type": "stream",
     "text": [
      "Gene annotation preview:\n",
      "{'ID': ['156427', '139282', '131316', '235751', '696770'], 'GeneID': ['hCG1811459.2', 'hCG2022854', 'hCG20768.4', 'hCG2024647', 'hCG2038184'], 'GENE': [nan, '2596', '10243', nan, nan], 'ORF_LIST': [nan, '2596', '10243', nan, nan], 'Gene Name': [nan, 'growth associated protein 43', 'gephyrin', nan, nan], 'Gene Symbol': [nan, 'GAP43', 'GPHN', nan, nan], 'Celera Transcript': ['hCT2328995.1,hCT1643564.3', 'hCT2319628,hCT2319630', 'hCT11848.4,hCT1955809.2', 'hCT2322598', 'hCT2342610'], 'GB_LIST': [nan, 'NM_002045.2', 'NM_020806.3', nan, nan], 'MGC': [nan, 'BC007936.2', 'BC030016.2', nan, nan], 'GenBank': [nan, 'CR612258.1,M25667.1,BT019771.1,CR614045.1,CR607941.1', 'AJ272033.1,AB037806.1,AF272663.1,AJ272343.1', nan, nan], 'Ensembl Transcript': [nan, 'ENST00000358762,ENST00000305124', 'ENST00000315266,ENST00000305960', nan, nan], 'ESTs': [nan, 'AL519551.3,BG184834.1,CD613833.1,BM720621.1,BP199413.1', 'AA232725.1,CD630404.1,CX784062.1,BX480248.1,CR736255.1', nan, nan], 'Others': [nan, nan, nan, nan, nan], 'TaqMan Assay Inventory': ['Hs00373450_m1,Hs00191244_m1', 'Hs00176645_m1', 'Hs00221190_m1', nan, nan], 'TaqMan Assay Virtual': ['Hs01028191_m1,Hs01028192_m1,Hs01028194_m1,Hs01028195_m1,Hs01028196_m1', 'Hs00967138_m1', 'Hs00982852_m1,Hs00982851_m1,Hs00982853_m1,Hs00982849_m1,Hs00982848_m1', 'Hs01023718_m1', 'Hs01391374_g1'], 'Status': ['current', 'current', 'current', 'current', 'current'], 'SPOT_ID': ['Celera Transcript hCT2328995.1,Celera Transcript hCT1643564.3', nan, nan, 'Celera Transcript hCT2322598', 'Celera Transcript hCT2342610']}\n"
     ]
    }
   ],
   "source": [
    "# 1. Use the 'get_gene_annotation' function from the library to get gene annotation data from the soft file.\n",
    "gene_annotation = get_gene_annotation(soft_file)\n",
    "\n",
    "# 2. Use the 'preview_df' function from the library to preview the data and print out the results.\n",
    "print(\"Gene annotation preview:\")\n",
    "print(preview_df(gene_annotation))\n"
   ]
  },
  {
   "cell_type": "markdown",
   "id": "48c93972",
   "metadata": {},
   "source": [
    "### Step 6: Gene Identifier Mapping"
   ]
  },
  {
   "cell_type": "code",
   "execution_count": 7,
   "id": "0daf9986",
   "metadata": {
    "execution": {
     "iopub.execute_input": "2024-06-12T10:07:59.495032Z",
     "iopub.status.busy": "2024-06-12T10:07:59.494879Z",
     "iopub.status.idle": "2024-06-12T10:07:59.619187Z",
     "shell.execute_reply": "2024-06-12T10:07:59.618656Z"
    }
   },
   "outputs": [],
   "source": [
    "# 1. Identify the keys for probe IDs and gene symbols\n",
    "identifier_key = 'ID'\n",
    "gene_symbol_key = 'Gene Symbol'\n",
    "\n",
    "# 2. Get the dataframe storing the mapping between probe IDs and genes using the 'get_gene_mapping' function\n",
    "mapping_df = get_gene_mapping(gene_annotation, identifier_key, gene_symbol_key)\n",
    "\n",
    "# 3. Apply the mapping with the 'apply_gene_mapping' function from the library\n",
    "gene_data = apply_gene_mapping(gene_data, mapping_df)\n"
   ]
  },
  {
   "cell_type": "markdown",
   "id": "999fd760",
   "metadata": {},
   "source": [
    "### Step 7: Data Normalization and Merging"
   ]
  },
  {
   "cell_type": "code",
   "execution_count": 8,
   "id": "342c9b34",
   "metadata": {
    "execution": {
     "iopub.execute_input": "2024-06-12T10:07:59.621436Z",
     "iopub.status.busy": "2024-06-12T10:07:59.621295Z",
     "iopub.status.idle": "2024-06-12T10:08:39.732688Z",
     "shell.execute_reply": "2024-06-12T10:08:39.732146Z"
    }
   },
   "outputs": [
    {
     "name": "stdout",
     "output_type": "stream",
     "text": [
      "For the feature 'Colon_and_Rectal_Cancer', the least common label is '1.0' with 19 occurrences. This represents 45.24% of the dataset.\n",
      "The distribution of the feature 'Colon_and_Rectal_Cancer' in this dataset is fine.\n",
      "\n"
     ]
    }
   ],
   "source": [
    "# 1. Normalize the obtained gene data with the 'normalize_gene_symbols_in_index' function from the library.\n",
    "normalized_gene_data = normalize_gene_symbols_in_index(gene_data)\n",
    "gene_csv_path = './preprocessed/Colon_and_Rectal_Cancer/gene_data/GSE15781.csv'\n",
    "normalized_gene_data.to_csv(gene_csv_path)\n",
    "\n",
    "# 2. Merge the clinical and genetic data with the 'geo_merge_clinical_genetic_data' function from the library.\n",
    "merged_data = geo_merge_clinical_genetic_data(selected_clinical_data, normalized_gene_data)\n",
    "\n",
    "# 3. Determine whether the trait and some demographic attributes in the data is severely biased, and remove biased attributes.\n",
    "trait_biased, unbiased_merged_data = judge_and_remove_biased_features(merged_data, 'Colon_and_Rectal_Cancer')\n",
    "\n",
    "# 4. Save the cohort information.\n",
    "save_cohort_info('GSE15781', './preprocessed/Colon_and_Rectal_Cancer/cohort_info.json', True, True, trait_biased, merged_data)\n",
    "\n",
    "if not trait_biased:\n",
    "    # 5. If the trait is not severely biased, save the merged data to a csv file.\n",
    "    csv_path = './preprocessed/Colon_and_Rectal_Cancer/GSE15781.csv'\n",
    "    unbiased_merged_data.to_csv(csv_path)\n"
   ]
  }
 ],
 "metadata": {
  "language_info": {
   "codemirror_mode": {
    "name": "ipython",
    "version": 3
   },
   "file_extension": ".py",
   "mimetype": "text/x-python",
   "name": "python",
   "nbconvert_exporter": "python",
   "pygments_lexer": "ipython3",
   "version": "3.8.17"
  }
 },
 "nbformat": 4,
 "nbformat_minor": 5
}
