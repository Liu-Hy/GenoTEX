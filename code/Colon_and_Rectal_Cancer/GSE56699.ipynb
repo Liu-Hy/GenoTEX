{
 "cells": [
  {
   "cell_type": "markdown",
   "id": "88c8b867",
   "metadata": {},
   "source": [
    "### Step 1: Initial Data Loading"
   ]
  },
  {
   "cell_type": "code",
   "execution_count": null,
   "id": "59834555",
   "metadata": {},
   "outputs": [],
   "source": [
    "from utils.preprocess import *\n",
    "# 1. Identify the paths to the soft file and the matrix file\n",
    "cohort_dir = '/media/techt/DATA/GEO/Colon_and_Rectal_Cancer/GSE56699'\n",
    "soft_file, matrix_file = geo_get_relevant_filepaths(cohort_dir)\n",
    "\n",
    "# 2. Read the matrix file to obtain background information and sample characteristics data\n",
    "background_prefixes = ['!Series_title', '!Series_summary', '!Series_overall_design']\n",
    "clinical_prefixes = ['!Sample_geo_accession', '!Sample_characteristics_ch1']\n",
    "background_info, clinical_data = get_background_and_clinical_data(matrix_file, background_prefixes, clinical_prefixes)\n",
    "\n",
    "# 3. Obtain the sample characteristics dictionary from the clinical dataframe\n",
    "sample_characteristics_dict = get_unique_values_by_row(clinical_data)\n",
    "\n",
    "# 4. Explicitly print out all the background information and the sample characteristics dictionary\n",
    "print(\"Background Information:\")\n",
    "print(background_info)\n",
    "print(\"Sample Characteristics Dictionary:\")\n",
    "print(sample_characteristics_dict)\n"
   ]
  },
  {
   "cell_type": "markdown",
   "id": "53bc7dd0",
   "metadata": {},
   "source": [
    "### Step 2: Dataset Analysis and Clinical Feature Extraction"
   ]
  },
  {
   "cell_type": "code",
   "execution_count": null,
   "id": "27869dbc",
   "metadata": {},
   "outputs": [],
   "source": [
    "is_gene_available = True\n",
    "trait_row = 5  # After analyzing the diagnosis field, it corresponds to Colon_and_Rectal_Cancer\n",
    "age_row = 7  # Observer 'df' dictionary key that corresponds to 'age'\n",
    "gender_row = None  # No explicit or inferred values found for gender\n",
    "\n",
    "def convert_trait(value):\n",
    "    try:\n",
    "        value = value.split(':')[1].strip()\n",
    "        if value.lower().startswith('adenocarcinoma') or 'adenoma' in value or 'cancer' in value:\n",
    "            return 1\n",
    "        return 0\n",
    "    except:\n",
    "        return None\n",
    "  \n",
    "def convert_age(value):\n",
    "    try:\n",
    "        value = value.split(':')[1].strip()\n",
    "        return float(value)\n",
    "    except:\n",
    "        return None\n",
    "\n",
    "# Define a dummy convert_gender function since gender data is not available\n",
    "def convert_gender(value):\n",
    "    return None\n",
    "\n",
    "import json\n",
    "from utils.preprocess import save_cohort_info, geo_select_clinical_features, preview_df\n",
    "\n",
    "save_cohort_info('GSE56699', './preprocessed/Colon_and_Rectal_Cancer/cohort_info.json', is_gene_available, trait_row is not None)\n",
    "\n",
    "# Provide the actual clinical data\n",
    "clinical_data = pd.DataFrame({\n",
    "    # Example data (replace with actual data)\n",
    "    'sample_code': ['RCa0001', 'RCa0002'],\n",
    "    'diagnosis': ['diagnosis: Invasive low grade adenocarcinoma of the rectum', 'diagnosis: Tubulovilleus adenoma'],\n",
    "    'df': ['df: 35', 'df: 44']\n",
    "})\n",
    "\n",
    "if trait_row is not None:\n",
    "    selected_clinical_data = geo_select_clinical_features(clinical_data, 'Colon_and_Rectal_Cancer', trait_row, convert_trait, age_row, convert_age, gender_row, convert_gender)\n",
    "    csv_path = './preprocessed/Colon_and_Rectal_Cancer/trait_data/GSE56699.csv'\n",
    "    selected_clinical_data.to_csv(csv_path)\n",
    "    print(preview_df(selected_clinical_data))\n"
   ]
  },
  {
   "cell_type": "markdown",
   "id": "9ac03d09",
   "metadata": {},
   "source": [
    "### Step 3: Gene Data Extraction"
   ]
  },
  {
   "cell_type": "code",
   "execution_count": null,
   "id": "61ea1726",
   "metadata": {},
   "outputs": [],
   "source": [
    "# 1. Use the get_genetic_data function from the library to get the gene_data from the matrix_file previously defined.\n",
    "gene_data = get_genetic_data(matrix_file)\n",
    "\n",
    "# 2. Print the first 20 row ids for the following step.\n",
    "print(gene_data.index[:20])\n"
   ]
  },
  {
   "cell_type": "markdown",
   "id": "4b338597",
   "metadata": {},
   "source": [
    "### Step 4: Gene Identifier Review"
   ]
  },
  {
   "cell_type": "code",
   "execution_count": null,
   "id": "c88ac7c6",
   "metadata": {},
   "outputs": [],
   "source": [
    "requires_gene_mapping = True\n"
   ]
  },
  {
   "cell_type": "markdown",
   "id": "2c613cb4",
   "metadata": {},
   "source": [
    "### Step 5: Gene Annotation (Conditional)"
   ]
  },
  {
   "cell_type": "code",
   "execution_count": null,
   "id": "11409f7b",
   "metadata": {},
   "outputs": [],
   "source": [
    "# 1. Use the 'get_gene_annotation' function from the library to get gene annotation data from the soft file.\n",
    "gene_annotation = get_gene_annotation(soft_file)\n",
    "\n",
    "# 2. Use the 'preview_df' function from the library to preview the data and print out the results.\n",
    "print(\"Gene annotation preview:\")\n",
    "print(preview_df(gene_annotation))\n"
   ]
  },
  {
   "cell_type": "markdown",
   "id": "c85edd50",
   "metadata": {},
   "source": [
    "### Step 6: Gene Identifier Mapping"
   ]
  },
  {
   "cell_type": "code",
   "execution_count": null,
   "id": "4b29f993",
   "metadata": {},
   "outputs": [],
   "source": [
    "# 1. Define the keys for the identifiers and gene symbols\n",
    "identifier_key = 'ID'\n",
    "gene_symbol_key = 'Symbol'\n",
    "\n",
    "# 2. Get the dataframe storing the mapping between probe IDs and genes\n",
    "mapping_df = get_gene_mapping(gene_annotation, identifier_key, gene_symbol_key)\n",
    "\n",
    "# 3. Apply the mapping to obtain the gene expression dataframe\n",
    "gene_data = apply_gene_mapping(gene_data, mapping_df)\n",
    "\n",
    "# Preview the gene data to verify the mappings\n",
    "print(\"Gene data after mapping preview:\")\n",
    "print(preview_df(gene_data))\n",
    "\n",
    "\n",
    "import os\n"
   ]
  },
  {
   "cell_type": "markdown",
   "id": "185187e9",
   "metadata": {},
   "source": [
    "### Step 7: Data Normalization and Merging"
   ]
  },
  {
   "cell_type": "code",
   "execution_count": null,
   "id": "b2368439",
   "metadata": {},
   "outputs": [],
   "source": [
    "# Ensure required directories exist or create them\n",
    "os.makedirs('./preprocessed/Colon_and_Rectal_Cancer/trait_data', exist_ok=True)\n",
    "os.makedirs('./preprocessed/Colon_and_Rectal_Cancer/gene_data', exist_ok=True)\n",
    "\n",
    "# Load the selected clinical data from STEP2\n",
    "clinical_csv_path = './preprocessed/Colon_and_Rectal_Cancer/trait_data/GSE56699.csv'\n",
    "selected_clinical_data = pd.read_csv(clinical_csv_path, index_col=0)\n",
    "\n",
    "# 1. Normalize the obtained gene data with the 'normalize_gene_symbols_in_index' function from the library.\n",
    "normalized_gene_data = normalize_gene_symbols_in_index(gene_data)\n",
    "gene_csv_path = './preprocessed/Colon_and_Rectal_Cancer/gene_data/GSE56699.csv'\n",
    "normalized_gene_data.to_csv(gene_csv_path)\n",
    "\n",
    "# 2. Merge the clinical and genetic data with the 'geo_merge_clinical_genetic_data' function from the library.\n",
    "merged_data = geo_merge_clinical_genetic_data(selected_clinical_data, normalized_gene_data)\n",
    "\n",
    "# 3. Determine whether the trait and some demographic attributes in the data is severely biased, and remove biased attributes.\n",
    "trait_biased, unbiased_merged_data = judge_and_remove_biased_features(merged_data, 'Colon_and_Rectal_Cancer')\n",
    "\n",
    "# 4. Save the cohort information.\n",
    "save_cohort_info('GSE56699', './preprocessed/Colon_and_Rectal_Cancer/cohort_info.json', True, True, trait_biased, merged_data)\n",
    "\n",
    "# 5. If the trait is not severely biased, save the merged data to a csv file.\n",
    "if not trait_biased:\n",
    "    csv_path = './preprocessed/Colon_and_Rectal_Cancer/GSE56699.csv'\n",
    "    unbiased_merged_data.to_csv(csv_path)\n"
   ]
  }
 ],
 "metadata": {},
 "nbformat": 4,
 "nbformat_minor": 5
}
