{
 "cells": [
  {
   "cell_type": "code",
   "execution_count": 1,
   "id": "5848da28",
   "metadata": {
    "execution": {
     "iopub.execute_input": "2024-06-12T10:06:58.358558Z",
     "iopub.status.busy": "2024-06-12T10:06:58.358461Z",
     "iopub.status.idle": "2024-06-12T10:06:58.362183Z",
     "shell.execute_reply": "2024-06-12T10:06:58.361921Z"
    }
   },
   "outputs": [],
   "source": [
    "\n",
    "import sys\n",
    "sys.path.append('/home/techt/Desktop/a4s')\n"
   ]
  },
  {
   "cell_type": "markdown",
   "id": "505ac6a8",
   "metadata": {},
   "source": [
    "### Step 1: Initial Data Loading"
   ]
  },
  {
   "cell_type": "code",
   "execution_count": 2,
   "id": "4cf0fb88",
   "metadata": {
    "execution": {
     "iopub.execute_input": "2024-06-12T10:06:58.364173Z",
     "iopub.status.busy": "2024-06-12T10:06:58.364075Z",
     "iopub.status.idle": "2024-06-12T10:06:58.743439Z",
     "shell.execute_reply": "2024-06-12T10:06:58.742961Z"
    }
   },
   "outputs": [
    {
     "name": "stdout",
     "output_type": "stream",
     "text": [
      "Background Information:\n",
      "!Series_title\t\"Human melanoma samples comparing nevi and primary and metastatic melanoma\"\n",
      "!Series_summary\t\"We sought to identify genes and gene signatures which correlate with progression by sampling human melanomas from nevi, primary, and metastatic tumors. The large number of samples also permits analysis within groups.\"\n",
      "!Series_overall_design\t\"Human melanoma samples were isolated from historical frozen patient specimens. RNA was extracted and run on the human Affymetrix U133A microarray chip.\"\n",
      "Sample Characteristics Dictionary:\n",
      "{0: ['tissue type: Metastatic Melanoma', 'tissue type: Primary Melanoma', 'tissue type: Nevus', 'tissue type: Normal Skin', 'tissue type: Normal Epithelial Melanocytes'], 1: [nan, 'patient id: 35', 'patient id: 23', 'patient id: 13', 'patient id: 6', 'patient id: 40', 'patient id: 26', 'patient id: 1', 'patient id: 22', 'patient id: 4', 'patient id: 30', 'patient id: 5', 'patient id: 15', 'patient id: 20', 'patient id: 17', 'patient id: 38', 'patient id: 37', 'patient id: 36', 'patient id: 25', 'patient id: 39', 'patient id: 29', 'patient id: 7', 'patient id: 18', 'patient id: 16', 'patient id: 3', 'patient id: 31', 'patient id: 32', 'patient id: 8', 'patient id: 10', 'patient id: 21'], 2: [nan, '% melanoma cells: 95', '% melanoma cells: 85', '% melanoma cells: 90', '% melanoma cells: 75', '% melanoma cells: 20', '% melanoma cells: 40', '% melanoma cells: 80', '% melanoma cells: 70', '% melanoma cells: 100', '% melanoma cells: 5', '% melanoma cells: 25', '% melanoma cells: 60', '% melanoma cells: 45', '% melanoma cells: 97', '% inflammatory cells: 40', '% inflammatory cells: 50', '% inflammatory cells: 25', '% inflammatory cells: 0', '% inflammatory cells: 35', '% inflammatory cells: 5', '% inflammatory cells: 45', '% inflammatory cells: 55', '% inflammatory cells: 60', '% inflammatory cells: 30', '% inflammatory cells: 20', '% inflammatory cells: 10', '% inflammatory cells: 80', '% melanocytes: 85', '% melanocytes: 75'], 3: [nan, '% inflammatory cells: 0', '% inflammatory cells: 5', '% inflammatory cells: 10', '% inflammatory cells: 7', '% inflammatory cells: 77', '% inflammatory cells: 60', '% inflammatory cells: 17', '% inflammatory cells: 15', '% inflammatory cells: 25', '% inflammatory cells: 80', '% inflammatory cells: 95', '% inflammatory cells: 75', '% inflammatory cells: 40', '% inflammatory cells: 50', '% inflammatory cells: 3', '% other cells: 15', '% other cells: 25', '% other cells: 10', '% other cells: 35', '% other cells: 5', '% other cells: 30', '% other cells: 40', '% other cells: 20', '% other cells: 0', '% other cells: 50', '% keratinocytes: 96', '% keratinocytes: 64'], 4: [nan, '% other cells: 5', '% other cells: 10', '% other cells: 0', '% other cells: 3', '% other cells: 20', '% other cells: 15', '% other cells: <1%', 'necrosis (% of total area): 0', '% keratinocytes: 15', '% keratinocytes: 25', '% keratinocytes: 12', '% keratinocytes: 90', '% keratinocytes: 80', '% keratinocytes: 5', 'body-site: right forearm', 'body-site: breast'], 5: [nan, 'other cell types: Muscle', 'other cell types: Skin', 'necrosis (% of total area): 0', 'necrosis (% of total area): 20', 'necrosis (% of total area): 50', 'necrosis (% of total area): 30', 'necrosis (% of total area): 10', 'necrosis (% of total area): 5', 'necrosis (% of total area): 3', 'other cell types: Few Fibrous strands', 'necrosis (% of total area): 25', 'other cell types: Epidermis/skin', 'necrosis (% of total area): 15', 'necrosis (% of total area): 2', 'other cell types: Epidermis', 'body-site: backside', 'body-site: left food', 'body-site: left thigh', 'body-site: right forearm', 'body-site: right lower leg', 'body-site: neck', 'body-site: abdomen', 'body-site: left lower leg', 'body-site: left upper arm', 'body-site: scalp', 'body-site: right shoulder', 'body-site: chest', 'body-site: right food', 'diagnosis: melanocytic nevus, compound-type'], 6: [nan, 'necrosis (% of total area): 10', 'necrosis (% of total area): 0', 'body-site: left thigh', 'body-site: left axilla', 'necrosis (% of total area): 3', 'body-site: left lower leg', 'body-site: abdominal', 'necrosis (% of total area): 30', 'body-site: neck', 'body-site: right inguinal', 'body-site: right axilla', 'body-site: left inguinal', 'body-site: right lower leg', 'body-site: abdomen', 'body-site: chest', 'location: mesenterial', 'body-site: suprascapulär li B', 'necrosis (% of total area): 40', 'body-site: right thigh', 'body-site: colon', 'body-site: backside', 'date of resection: Mar-96', 'date of resection: Jul-97', 'date of resection: Feb-95', 'date of resection: Oct-96', 'date of resection: Aug-97', 'date of resection: Jan-96', 'date of resection: May-95', 'date of resection: May-90'], 7: [nan, 'body-site: right lower leg', 'body-site: left knee', 'body-site: abdomen', 'location: cutaneous/subcutaneous', 'location: cutaneous', 'body-site: chest', 'body-site: backside', 'location: subcutaneous', 'body-site: facial', 'location: Lymph Node', 'organ: mesenterial', 'body-site: neck', 'body-site: left lower leg', 'body-site: left axilla', 'location: colon/peritoneal', 'body-site: right cervical', 'body-site: left thigh', 'body-site: right inguinal', 'age at time of resection: 72y 4m', 'age at time of resection: 52y 1m', 'age at time of resection: 87y 9m', 'age at time of resection: 55y 8m', 'age at time of resection: 84y 9m', 'age at time of resection: 72y 5m', 'age at time of resection: 73y 4m', 'age at time of resection: 78y 2m', 'age at time of resection: 66y 6m', 'age at time of resection: 81y 4m', 'age at time of resection: 59y 6m'], 8: [nan, 'location: cutaneous', 'organ: skin', 'location: cutaneous/subcutaneous', 'location: subcutaneous', 'organ: Lymph Node', 'date of resection: Feb-93', 'organ: colon/peritoneal', 'location: Lymph Node', 'gender: male', 'gender: female'], 9: [nan, 'organ: skin', 'date of resection: May-96', 'date of resection: Apr-93', 'date of resection: Dec-96', 'date of resection: Aug-90', 'date of resection: Apr-94', 'date of resection: Jun-93', 'date of resection: Mar-95', 'date of resection: Jul-95', 'date of resection: Jul-93', 'date of resection: Aug-91', 'date of resection: Feb-95', 'date of resection: May-93', 'age at time of resection: 30y 6m', 'date of resection: Jan-95', 'date of resection: Sep-95', 'date of resection: Jun-95', 'date of resection: Oct-95', 'date of resection: May-92', 'date of resection: Sep-96', 'date of resection: Apr-96', 'date of resection: Jan-96', 'date of resection: Feb-93', 'organ: Lymph Node', 'date of resection: Apr-89', 'date of resection: Oct-96', 'race: caucasian'], 10: [nan, 'date of resection: Sep-93', 'date of resection: Mar-97', 'date of resection: Aug-96', 'age at time of resection: 69y 9m', 'age at time of resection: 60y 5m', 'date of resection: Apr-95', 'date of resection: Oct-95', 'date of resection: Jan-97', 'age at time of resection: 68y 9m', 'date of resection: Jul-97', 'date of resection: Jan-96', 'date of resection: Jul-90', 'age at time of resection: 41y', 'date of resection: Nov-89', 'date of resection: Sep-95', 'age at time of resection: 34y 2m', 'age at time of resection: 54y 11m', 'age at time of resection: 62y 11m', 'age at time of resection: 52y 6m', 'age at time of resection: 28y 4m', 'age at time of resection: 53y 1m', 'age at time of resection: 57y 5m', 'age at time of resection: 31y 8m', 'date of resection: May-93', 'gender: male', 'age at time of resection: 56y 9m', 'date of resection: Jan-95', 'age at time of resection: 28y', 'age at time of resection: 59y 7m'], 11: [nan, 'age at time of resection: 57y 11m', 'age at time of resection: 59y 7m', 'age at time of resection: 70y', 'gender: male', 'age at time of resection: 58y 4m', 'age at time of resection: 56y 4m', 'age at time of resection: 68y 10m', 'age at time of resection: 73y 4m', 'age at time of resection: 68y 8m', 'age at time of resection: 30y 2m', 'age at time of resection: 66y 5m', 'age at time of resection: 66y', 'gender: female', 'age at time of resection: 60y 5m', 'race: caucasian', 'age at time of resection: 79y 1m', 'age at time of resection: 83y 6m', 'age at time of resection: 34y 2m', 'age at time of resection: 69y 6m', 'age at time of resection: 57y 5m', 'age at time of resection: 85y 5 m', 'age at time of resection: 72y 10m', 'age at time of resection: 60y 8m', 'age at time of resection: 82y 11m', 'age at time of resection: 71y 1m', 'tnm status: pT3N0M0', 'tnm status: pT2N0M0', 'tnm status: pT4N0M0', 'tnm status: pT3N1M1a'], 12: [nan, 'gender: female', 'gender: male', 'race: caucasian', 'clinical stage: 4 new AJCC', 'prior ctx, rtx, itx: no'], 13: [nan, 'race: caucasian', 'clinical stage: 4 new AJCC', 'clinical stage: 3 C new AJCC', 'clinical stage: 4 C new AJCC', 'tnm status: pT4aN3bM1c', 'clinical stage: 3 B new AJCC', 'clinical stage: no further clinical data', 'subsequent metastasis: no', 'subsequent metastasis: 8/01 LNN retrojugular, retroclavicular, retrosternal, pretracheal', 'subsequent metastasis: yes, progressive disease', 'subsequent metastasis: 10/98 LNN left inguinal, 3/99 brain, suspected lung mets', 'subsequent metastasis: 8/97 LNN left inguinal; 8/98 liver; 12/98 brain', 'subsequent metastasis: 9/99 satellite mets , 7/01 LNN left cervical/supraclavicular, 10/01 LNN right cervical/axilla, 2/02 LNN left cervical, s.c. left cervical and supraclavicular, 7/02 colon, coecum, liver; 8/02 lungs', 'subsequent metastasis: 4/94 liver', 'subsequent metastasis: 7/95 cutis; 8/97 cutis; 9/97 LNN; 12/97 LNN [recurrence]; 5/98 skin; 7/98 LNN [recurrence] + skin; 7/98 liver, lung; 11/98 LNN [recurrence]', 'subsequent metastasis: 02/01 + 04/01 neck; 07/01 LNN mediast.; 07/01 liver; 10/01 cutis; 12/01 liver, spleen; 2/02 lungs.', 'subsequent metastasis: 6/96 lung, LNN', 'subsequent metastasis: 6/92 liver, LNN', 'subsequent metastasis: 12/99 LNN ing. left; 9/00 LNN cervical left; 1/02 LNN right axilla; 4/02 brain'], 14: [nan, 'clinical stage: 3 C new AJCC', 'clinical stage: 4 new AJCC', 'tnm status: pT4N1M1', 'tnm status: pT1N2M1b', 'tnm status: pT4N0M1b', 'tnm status: pT1N3M1c', 'clinical stage: 3 B new AJCC', 'tnm status: pT2N3M1c', 'tnm status: pT3bN3bM1c', 'tnm status: pT3N3M0', 'tnm status: pT3N3M1c', 'tnm status: pT3bN3bM1b', 'tnm status: pT3aN0M1c', 'tnm status: pT4N3M1c', 'corresponding primary tumor thickness: Breslow index, mm: [4,7]', 'tnm status: pT4aN2bcM0', 'tnm status: pT4aN3bM1c', 'tnm status: pT1aN1bM0', 'tnm status: pT1N3M0', 'tnm status: no further clinical data', 'tnm status: pT2aN2bM0', 'tnm status: pT2N3M0', 'tnm status: pT2aN2bM1a', 'tnm status: pT3aN1bM1b', 'tnm status: pT4N3M0', 'first instance [fi] or recurrance [r]: FI'], 15: [nan, 'tnm status: pT4bN3M0', 'tnm status: pT3aN1bM1b', 'tnm status: pT4N1M1', 'corresponding primary tumor thickness: Breslow index, mm: [>5]', 'corresponding primary tumor thickness: Breslow index, mm: [0,4]', 'tnm status: pT3N1M1a', 'tnm status: pT2N2M1c', 'tnm status: pT4N0M1b', 'corresponding primary tumor thickness: Breslow index, mm: [4,4]', 'tnm status: pT4N2M1b', 'tnm status: pT1N2M1b', 'tnm status: pT4N3M1c', 'corresponding primary tumor thickness: Breslow index, mm: [0,75]', 'tnm status: pT4aN1bM0', 'tnm status: pT3NxM1c', 'corresponding primary tumor thickness: Breslow index, mm: [1,4]', 'corresponding primary tumor thickness: Breslow index, mm: [>3,0]', 'corresponding primary tumor thickness: Breslow index, mm: [3,1]', 'corresponding primary tumor thickness: Breslow index, mm: [1,8]', 'corresponding primary tumor thickness: Breslow index, mm: [1,5]', 'corresponding primary tumor thickness: Breslow index, mm: [2,6]', 'corresponding primary tumor thickness: Breslow index, mm: [>25,0]', \"corresponding primary tumor thickness: Clark's level: [IV]\", 'corresponding primary tumor thickness: Breslow index, mm: [8]', 'tnm status: pTxN3M1c', 'corresponding primary tumor thickness: Breslow index, mm: [0,618]', 'tnm status: pT4N0M1c', 'tnm status: pT2N3M1c', 'tnm status: pT4N3M0'], 16: [nan, 'corresponding primary tumor thickness: Breslow index, mm: [4,5]', 'corresponding primary tumor thickness: Breslow index, mm: [2,75]', 'corresponding primary tumor thickness: Breslow index, mm: [>5]', \"corresponding primary tumor thickness: Clark's level: [IV]\", \"corresponding primary tumor thickness: Clark's level: [II]\", 'corresponding primary tumor thickness: Breslow index, mm: [2,3]', 'corresponding primary tumor thickness: Breslow index, mm: [?]', 'corresponding primary tumor thickness: Breslow index, mm: [4,4]', 'corresponding primary tumor thickness: Breslow index, mm: [5,0]', 'corresponding primary tumor thickness: Breslow index, mm: [0,75]', 'corresponding primary tumor thickness: Breslow index, mm: [4]', 'corresponding primary tumor thickness: Breslow index, mm: [3,5]', \"corresponding primary tumor thickness: Clark's level: [V]\", 'corresponding primary tumor thickness: Breslow index, mm: [0,4]', 'corresponding primary tumor: Histologic Type: [SSM, sec.nod.]', 'corresponding primary tumor thickness: Breslow index, mm: n.a.', 'corresponding primary tumor thickness: Breslow index, mm: [8,0]', 'corresponding primary tumor thickness: Breslow index, mm: [1,4]', 'corresponding primary tumor thickness: Breslow index, mm: [6,5]', 'corresponding primary tumor thickness: Breslow index, mm: [2,6]', \"corresponding primary tumor thickness: Clark's level: [III]\", \"corresponding primary tumor thickness: Clark's level: no further clinical data\", 'corresponding primary tumor thickness: Breslow index, mm: [7,5]', 'corresponding primary tumor thickness: Breslow index, mm: [2,5]', 'past malignant tumors?: no', 'past malignant tumors?: liposarcoma', 'past malignant tumors?: adrenal adenoma'], 17: [nan, \"corresponding primary tumor thickness: Clark's level: [IV]\", 'corresponding primary tumor: Histologic Type: [SSM]', \"corresponding primary tumor thickness: Clark's level: [III]\", 'prior ctx, rtx, itx: no', \"corresponding primary tumor thickness: Clark's level: [V]\", 'corresponding primary tumor: Histologic Type: [NMM]', \"corresponding primary tumor thickness: Clark's level: [II]\", 'prior ctx, rtx, itx: 1-6/94: 6x immunochemotherapy (DTIC+IL2+INFa); 3/96 radiation therapy head; 11/96 radiation therapy spine; 8/94-3/95 8x polychemotherapy (DTIC + Vindesine + Carboplatin)', \"corresponding primary tumor thickness: Clark's level: n.a.\", 'corresponding primary tumor: Histologic Type: [MM]', 'corresponding primary tumor: Histologic Type: no further clinical data', 'corresponding primary tumor: Histologic Type: [ALM]', 'corresponding primary tumor: Histologic Type: [SSM, sec.nod.]', 'corresponding primary tumor: Histologic Type: NMM', 'last clinical status: Sep 03, alive, NED', 'last clinical status: Feb 03, alive, NED', 'last clinical status: Aug 00, death, MM-unrelated', 'last clinical status: Okt 02, death, MM-unrelated', 'last clinical status: Mai 02, alive, NED', 'last clinical status: Nov 01, death, MM-unrelated', 'last clinical status: Okt 01, death, MM-related', 'last clinical status: 1999, death, MM-related', 'last clinical status: Aug 02, alive, NED', 'last clinical status: Jun 96, alive, NED', 'last clinical status: Nov 01, alive, NED', 'last clinical status: Mai 01, death, MM-related', 'last clinical status: Jan 03, alive, NED', 'last clinical status: Okt 02, death, MM-related', 'last clinical status: Jun 01, alive, NED'], 18: [nan, 'corresponding primary tumor: Histologic Type: [MM]', 'corresponding primary tumor: Histologic Type: [NMM]', 'corresponding primary tumor: Histologic Type: [SSM]', 'prior ctx, rtx, itx: no', 'prior ctx, rtx, itx: 2-9/99 3x3 Mio IE Interferon/week + 7 cycles chemotherapy DTIC.', 'prior ctx, rtx, itx: 1 cycle of polychemotherapy (Temodal + Vindesine + Carboplatin) 12/00', 'subsequent metastasis: 2/02 lung, soft tissue, GI', 'prior ctx, rtx, itx: 3 cycles of immunochemotherapy (DTIC, Intron A, Proleukin)', 'corresponding primary tumor: Histologic Type: [ALM]', 'prior ctx, rtx, itx: 1 cycle of immunochemotherapy (DTIC, Proleukin, Intron A)', 'prior ctx, rtx, itx: 10/95-1/96 3 x polychemotherapy (DTIC + Vindesine + Carboplatin)', 'prior ctx, rtx, itx: 1 cycle of polychemotherapy (DTIC, Cisplatin, Vindesine)', 'prior ctx, rtx, itx: 4/93-7/93 3 x immunochemotherapy (DTIC + INF-a + IL-2); 6/94 embolisation of liver mets [Cisplatin]; 11/96-7/97 polychemotherapy (DTIC + Vindesine + Carboplatin); 8/97 radiation therapy brain [30 Gy]', 'prior ctx, rtx, itx: 3 cycles of polychemotherapy (DVP-regimen)', 'subsequent metastasis: 1/98 progression liver and bone, 4/99 lung', 'prior ctx, rtx, itx: 6/88 Interferon beta, 05/89 Interferon alpha, hyperthermic limb perfusion (Melphalan)', 'corresponding primary tumor: Histologic Type: [uvea]', 'prior ctx, rtx, itx: 11x immunochemotherapy (DTIC+IL2+INFa);  adjuvant immunotherapy INF-a', 'prior ctx, rtx, itx: 12 x polychemotherapy (DTIC + Vindesine + Carboplatin)', 'corresponding primary tumor: Histologic Type: [SSM, sec.nod.]', 'prior ctx, rtx, itx: no further clinical data', 'prior ctx, rtx, itx: 1-6/94: 6x immunochemotherapy (DTIC+IL2+INFa); 3/96 radiation therapy head; 11/96 radiation therapy spine; 8/94-3/95 8x polychemotherapy (DTIC + Vindesine + Carboplatin)', 'prior ctx, rtx, itx: since 4/00 polychemotherapy (DTIC + Vindesine + Carboplatin)', 'prior ctx, rtx, itx: 1/97 INF-a s.c.; 2/98 hyperthermic limb perfusion (Melphalan); 3/99-11/99 chemotherapy Vindesine', 'corresponding primary tumor: Histologic Type: [SSM, sec.nod]', 'type: SSM, sec. nodular', 'type: SSM', 'type: Acral Lentiginous', 'ulceration: Yes'], 19: [nan, 'prior ctx, rtx, itx: no', 'prior ctx, rtx, itx: 1/97 INF-a s.c.; 2/98 hyperthermic limb perfusion (Melphalan); 3/99-11/99 chemotherapy Vindesine', 'prior ctx, rtx, itx: 1 cycle of immunochemotherapy (DTIC, Intron A)', 'subsequent metastasis: 7/00 cutis, spleen; 9/01 cutis, liver.', 'subsequent metastasis: 8/97 brain, progression of pulmonal mets, progression of LNN mets axillar and mediastinal, suspected adrenal mets, suspected liver mets, progression of cutaneous mets', 'prior ctx, rtx, itx: 2 cycles polychemotherapy (DTIC, Cisplatin, Vindesine)', 'subsequent metastasis: 9/99 brain, LNN', 'subsequent metastasis: 2/02 lung, soft tissue, GI', 'first instance [fi] or recurrance [r]: FI', 'prior ctx, rtx, itx: from 8/99 4 cycles of polychemotherapy (Vindesine + Cisplatin), radiation therapy (Lnn left axilla) 12/99', 'prior ctx, rtx, itx: no further clinical data', 'subsequent metastasis: 10/94: lungs', 'prior ctx, rtx, itx: 10 cycles of polychemotherapy (DTIC + Vindesine + Carboplatin), 3 cycles of polychemotherapy (Taxol+Tamoxifen+Cisplatin), radiation therapy brain (30 Gy)', 'subsequent metastasis: 7/98: lungs, intraabdominal, s.c., brain', 'subsequent metastasis: 7/97: Lnn right inguinal, right kidney, left suprarenal gland; 3/98: brain, lung, liver, kidney, cutis', 'subsequent metastasis: no further clinical data', 'subsequent metastasis: 8/99: lungs, intraabdominal, spleen, liver', 'subsequent metastasis: progression of mets: lung, liver, spleen, brain, LNN', 'subsequent metastasis: 9/95 lung; 10/95 LNN right inguinal; 8/96 LNN right axilla; 3/97 LNN right inguinal; 7/97: Lnn right inguinal, right kidney, left suprarenal gland; 3/98 brain, lung, liver, kidney, cutis', 'subsequent metastasis: 8/97 s.c. left scapula, right cheek, left upper leg; 8/97 brain', 'subsequent metastasis: progression of known mets (s.c., lungs, liver, peritoneum, mediastinum)', 'subsequent metastasis: recurrent s.c. mets left leg', 'subsequent metastasis: no (complete remission since 4/00)', 'subsequent metastasis: 9/01 Lnn cervical right; 3/02 brain (single lesion) g-knife; 11/02 progression of brain met: chemotherapy Temodal', 'prior ctx, rtx, itx: 1 cycle of immunochemotherapy (DTIC, Proleukin, Intron A)', 'prior ctx, rtx, itx: 4/93-7/93 3 x immunochemotherapy (DTIC + INF-a + IL-2); 6/94 embolisation of liver mets [Cisplatin]; 11/96-7/97 polychemotherapy (DTIC + Vindesine + Carboplatin); 8/97 radiation therapy brain [30 Gy]', 'subsequent metastasis: 9/00 left chest, 2/02: s.c. mets thoracal left', 'subsequent metastasis: 8/96 + 4/97 + 5/97: Lnn right inguinal; 7/97 brain', 'subsequent metastasis: 1/98 progression liver and bone, 4/99 lung'], 20: [nan, 'subsequent metastasis: 8/00: Lnn, lungs', 'subsequent metastasis: 1/02 lungs, pleura (subsequent polychemotherapy Temodal, Vindesine, Carboplatin; complete remission)', 'subsequent metastasis: 7/00 cutis, spleen; 9/01 cutis, liver.', 'first instance [fi] or recurrance [r]: FI', 'subsequent metastasis: 5/99 brain, meningeosis carcinomatosa; 6/99 cutis.', 'other concurrent malignant tumors?: no', 'subsequent metastasis: 7/01 scull (bone); lungs, Lnn, cutis', 'subsequent metastasis: no at 3/2000', 'subsequent metastasis: no further clinical data', 'first instance [fi] or recurrance [r]: R', 'subsequent metastasis: 5/95 local recurrance, 9/95 LNN,', 'subsequent metastasis: progression of known mets', 'subsequent metastasis: 8/97 brain, progression of pulmonal mets, progression of LNN mets axillar and mediastinal, suspected adrenal mets, suspected liver mets, progression of cutaneous mets', 'subsequent metastasis: n.a.', 'subsequent metastasis: 7/98: lungs, intraabdominal, s.c., brain', 'subsequent metastasis: no', 'subsequent metastasis: 8/97 s.c. left scapula, right cheek, left upper leg; 8/97 brain', 'subsequent metastasis: 6/92 liver, LN', 'subsequent metastasis: 9/00 liver, lung, heart, spleen, cutis, LNN', 'subsequent metastasis: 8/97 cutis; 9/97 LN; 12/97 LN [recurrence]; 5/98 cutis; 7/98 LN [recurrence] + cutis; 7/98 liver, lung; 11/98 LN [recurrence]', 'subsequent metastasis: 9/01: cutaneous mets right leg, 5/02 cutaneous mets abdomen, mets lungs, mets intraabdominal', 'other concurrent malignant tumors?: no further clinical data', \"clark's: IV\", \"clark's: III\", \"clark's: V\", \"clark's: II\", \"clark's: III/IV\", 'breslow thickness: 2.750'], 21: [nan, 'first instance [fi] or recurrance [r]: FI', 'other concurrent malignant tumors?: no', 'past malignant tumors?: no', 'other concurrent malignant tumors?: suspected rectal carcinoma', 'other concurrent malignant tumors?: no further clinical data', 'first instance [fi] or recurrance [r]: R', 'past malignant tumors?: no further clinical data', 'breslow thickness: 3.500', 'breslow thickness: 0.400', 'breslow thickness: 4.500', 'breslow thickness: 3.000', 'breslow thickness: 2.000', 'breslow thickness: 2.510', 'breslow thickness: 0.600', 'breslow thickness: 0.450', 'breslow thickness: 6.500', 'breslow thickness: 1.000', 'breslow thickness: 0.350', 'breslow thickness: 0.925', 'breslow thickness: 1.200', 'breslow thickness: 1.130', 'breslow thickness: 4.000', 'breslow thickness: 2.500', 'breslow thickness: 1.625', 'breslow thickness: 6.000', 'breslow thickness: 1.100', 'breslow thickness: 0.375', 'breslow thickness: 0.975', 'breslow thickness: 2.800'], 22: [nan, 'other concurrent malignant tumors?: no', 'past malignant tumors?: no', 'last clinical status: Feb 01, death, MM-related', 'other concurrent malignant tumors?: no further clinical data', 'last clinical status: Mai 99, death, MM-related', 'past malignant tumors?: no further clinical data', 'last clinical status: no further clinical data', 'ulceration size: 2', 'ulceration size: -', 'ulceration size: 5', 'ulceration size: 6', 'ulceration size: 3', 'rgp: Yes', 'vgp: Yes'], 23: [nan, 'past malignant tumors?: no', 'last clinical status: Dez 01, death, MM-related', 'last clinical status: Okt 97, death, MM-related', 'last clinical status: 2000, death, MM-related', 'last clinical status: Feb 01, death, MM-related', 'past malignant tumors?: no further clinical data', 'last clinical status: 1996, death, MM-related', 'last clinical status: Feb 99, death, MM-related', 'last clinical status: Jun 99, alive with disease', 'last clinical status: 1999, death, MM-related', 'last clinical status: Sep 97, death, MM-related', 'last clinical status: Nov 97, death, MM-related', 'last clinical status: Aug 99, death, MM-related', 'last clinical status: Feb 03, alive, NED', 'last clinical status: Jan 03, alive, NED', 'last clinical status: 1997, death, MM-unrelated', 'last clinical status: Nov 99, death, MM-related', 'last clinical status: Dez 02, alive, NED', 'last clinical status: 1998, death, MM-related', 'last clinical status: Mai 99, death, MM-related', 'rgp: Yes', 'vgp: Yes', 'vgp type: Epithelioid', 'rgp: No'], 24: [nan, 'last clinical status: Jan 01, alive with disease', 'last clinical status: Jan 03, alive, NED', 'last clinical status: Dez 01, death, MM-related', 'last clinical status: Sep 99, death, MM-related', 'last clinical status: Okt 02, death, MM-related', 'last clinical status: 2000, death, MM-related', 'last clinical status: no further clinical data', 'last clinical status: Apr 97, death, MM-related', 'last clinical status: Dez 99, death, MM-related', 'last clinical status: Okt 97, death, MM-related', 'last clinical status: Feb 99, death, MM-related', 'last clinical status: Dez 95, death, MM-related', 'last clinical status: Nov 97, death, MM-related', 'last clinical status: Jul 92, death, MM-related', 'comments: /extensive necrosis in adjacent areas', 'last clinical status: Dez 00, death, MM-related', 'last clinical status: Jun 02, death, MM-related', 'vgp: Yes', 'vgp: No', 'vgp type: Epithelioid and Spindled', 'precursor: No'], 25: [nan, 'comments: tumor cell number, is this an inflammatory infiltrate?', 'comments: 2 cell types in met (spindle/epitheloid)', 'comments: 2 cell types in met', 'comments: looks like lymphoma', 'vgp type: Epithelioid', 'precursor: No', 'vgp type: Epithelioid and Spindled', 'vgp type: Spindled', 'vgp type: RGP:Epithelioid', 'vgp type: RGP: Epithelioid', 'mitotic rate: 2'], 26: [nan, 'precursor: No', 'precursor: DN', 'precursor: CCN', 'mitotic rate: N/A', 'mitotic rate: 45', 'precursor: DN FOC', 'precursor: LCDN', 'tils: Absent'], 27: [nan, 'mitotic rate: 8', 'mitotic rate: Cannot Evaluate', 'mitotic rate: 6', 'mitotic rate: 4', 'mitotic rate: 7', 'mitotic rate: 0', 'mitotic rate: 1', 'tils: Non-brisk', 'mitotic rate: 10', 'mitotic rate: 3', 'mitotic rate: 33', 'mitotic rate: N/A', 'neural invasion: No', 'mitotic rate: 2'], 28: [nan, 'tils: Non-brisk', 'tils: Cannot Evaluate', 'tils: Absent', 'neural invasion: No', 'tils: N/A', 'vascular: No'], 29: [nan, 'neural invasion: No', 'vascular: No', 'neural invasion: N/A', 'regression: No'], 30: [nan, 'vascular: No', 'vascular: Yes', 'regression: No', 'regression: Yes', 'vascular: N/A', 'microsatellites: No'], 31: [nan, 'regression: No', 'regression: Yes', 'microsatellites: No', 'regression: Partial', 'comments: type: nodular vs. superficial spreading'], 32: [nan, 'microsatellites: No', 'comments: no further clinical data available', 'microsatellites: N/A'], 33: [nan, 'comments: tumor cells could be high as 50%', 'comments: metastatic disease at first diagnosis', 'comments: 50% melanoma cells, 50% nevus cells', 'comments: Breslow: 1,2 vs. 3,0']}\n"
     ]
    }
   ],
   "source": [
    "from utils.preprocess import *\n",
    "# 1. Identify the paths to the soft file and the matrix file\n",
    "cohort_dir = '/media/techt/DATA/GEO/Colon_and_Rectal_Cancer/GSE46517'\n",
    "soft_file, matrix_file = geo_get_relevant_filepaths(cohort_dir)\n",
    "\n",
    "# 2. Read the matrix file to obtain background information and sample characteristics data\n",
    "background_prefixes = ['!Series_title', '!Series_summary', '!Series_overall_design']\n",
    "clinical_prefixes = ['!Sample_geo_accession', '!Sample_characteristics_ch1']\n",
    "background_info, clinical_data = get_background_and_clinical_data(matrix_file, background_prefixes, clinical_prefixes)\n",
    "\n",
    "# 3. Obtain the sample characteristics dictionary from the clinical dataframe\n",
    "sample_characteristics_dict = get_unique_values_by_row(clinical_data)\n",
    "\n",
    "# 4. Explicitly print out all the background information and the sample characteristics dictionary\n",
    "print(\"Background Information:\")\n",
    "print(background_info)\n",
    "print(\"Sample Characteristics Dictionary:\")\n",
    "print(sample_characteristics_dict)\n"
   ]
  },
  {
   "cell_type": "markdown",
   "id": "0dc99cae",
   "metadata": {},
   "source": [
    "### Step 2: Dataset Analysis and Clinical Feature Extraction"
   ]
  },
  {
   "cell_type": "code",
   "execution_count": 3,
   "id": "9fb1069a",
   "metadata": {
    "execution": {
     "iopub.execute_input": "2024-06-12T10:06:58.745889Z",
     "iopub.status.busy": "2024-06-12T10:06:58.745750Z",
     "iopub.status.idle": "2024-06-12T10:06:58.781428Z",
     "shell.execute_reply": "2024-06-12T10:06:58.781064Z"
    }
   },
   "outputs": [
    {
     "name": "stdout",
     "output_type": "stream",
     "text": [
      "{'GSM1131566': [None, None, None], 'GSM1131567': [None, None, None], 'GSM1131568': [None, None, None], 'GSM1131569': [None, None, None], 'GSM1131570': [None, None, None], 'GSM1131571': [None, None, None], 'GSM1131572': [None, None, None], 'GSM1131573': [None, None, None], 'GSM1131574': [None, None, None], 'GSM1131575': [None, None, None], 'GSM1131576': [None, None, None], 'GSM1131577': [None, None, None], 'GSM1131578': [None, None, None], 'GSM1131579': [None, None, None], 'GSM1131580': [None, None, None], 'GSM1131581': [None, None, None], 'GSM1131582': [None, None, None], 'GSM1131583': [None, None, None], 'GSM1131584': [None, None, None], 'GSM1131585': [None, None, None], 'GSM1131586': [None, None, None], 'GSM1131587': [0, None, 0], 'GSM1131588': [0, None, 1], 'GSM1131589': [0, None, 1], 'GSM1131590': [0, None, None], 'GSM1131591': [0, None, None], 'GSM1131592': [0, None, 1], 'GSM1131593': [0, None, 0], 'GSM1131594': [0, None, 1], 'GSM1131595': [0, None, None], 'GSM1131596': [0, None, 1], 'GSM1131597': [0, None, 1], 'GSM1131598': [0, None, 0], 'GSM1131599': [0, None, None], 'GSM1131600': [0, None, 1], 'GSM1131601': [0, None, 1], 'GSM1131602': [0, None, None], 'GSM1131603': [0, None, None], 'GSM1131604': [0, None, None], 'GSM1131605': [0, None, None], 'GSM1131606': [0, None, None], 'GSM1131607': [0, None, None], 'GSM1131608': [0, None, None], 'GSM1131609': [0, None, None], 'GSM1131610': [0, None, None], 'GSM1131611': [0, None, 1], 'GSM1131612': [0, None, None], 'GSM1131613': [0, None, None], 'GSM1131614': [0, None, 0], 'GSM1131615': [0, None, None], 'GSM1131616': [0, None, None], 'GSM1131617': [0, None, 1], 'GSM1131618': [0, None, 0], 'GSM1131619': [0, None, 0], 'GSM1131620': [0, None, 1], 'GSM1131621': [0, None, None], 'GSM1131622': [0, None, None], 'GSM1131623': [0, None, 0], 'GSM1131624': [0, None, None], 'GSM1131625': [0, None, None], 'GSM1131626': [0, None, None], 'GSM1131627': [0, None, None], 'GSM1131628': [0, None, None], 'GSM1131629': [0, None, None], 'GSM1131630': [0, None, None], 'GSM1131631': [1, None, None], 'GSM1131632': [0, None, 1], 'GSM1131633': [0, None, 0], 'GSM1131634': [0, None, 0], 'GSM1131635': [0, None, 0], 'GSM1131636': [0, None, None], 'GSM1131637': [0, None, 1], 'GSM1131638': [0, None, None], 'GSM1131639': [0, None, None], 'GSM1131640': [0, None, None], 'GSM1131641': [0, None, None], 'GSM1131642': [0, None, None], 'GSM1131643': [0, None, None], 'GSM1131644': [0, None, None], 'GSM1131645': [0, None, None], 'GSM1131646': [0, None, None], 'GSM1131647': [0, None, None], 'GSM1131648': [0, None, None], 'GSM1131649': [0, None, None], 'GSM1131650': [0, None, None], 'GSM1131651': [0, None, None], 'GSM1131652': [0, None, None], 'GSM1131653': [0, None, None], 'GSM1131654': [0, None, None], 'GSM1131655': [0, None, None], 'GSM1131656': [0, None, None], 'GSM1131657': [0, None, None], 'GSM1131658': [0, None, None], 'GSM1131659': [0, None, None], 'GSM1131660': [0, None, None], 'GSM1131661': [0, None, None], 'GSM1131662': [0, None, None], 'GSM1131663': [0, None, None], 'GSM1131664': [0, None, None], 'GSM1131665': [0, None, None], 'GSM1131666': [0, None, None], 'GSM1131667': [0, None, None], 'GSM1131668': [0, None, None], 'GSM1131669': [0, None, None], 'GSM1131670': [None, None, None], 'GSM1131671': [None, None, None], 'GSM1131672': [None, None, None], 'GSM1131673': [None, None, None], 'GSM1131674': [None, None, None], 'GSM1131675': [None, None, None], 'GSM1131676': [None, None, None], 'GSM1131677': [None, None, None], 'GSM1131678': [None, None, None], 'GSM1131679': [None, None, None], 'GSM1131680': [None, None, None], 'GSM1131681': [None, None, None], 'GSM1131682': [None, None, None], 'GSM1131683': [None, None, None], 'GSM1131684': [None, None, None], 'GSM1131685': [None, None, None], 'GSM1131686': [None, None, None]}\n"
     ]
    }
   ],
   "source": [
    "is_gene_available = False\n",
    "trait_row = age_row = gender_row = None  # set to different values when applicable\n",
    "convert_trait = convert_age = convert_gender = None  # define the functions when applicable\n",
    "\n",
    "import numpy as np\n",
    "\n",
    "# Step 1: Identify if gene expression data is available\n",
    "series_design = \"!Series_overall_design\\t\\\"Human melanoma samples were isolated from historical frozen patient specimens. RNA was extracted and run on the human Affymetrix U133A microarray chip.\\\"\"\n",
    "if \"Affymetrix U133A microarray\" in series_design:\n",
    "    is_gene_available = True\n",
    "\n",
    "# Step 2.1: Identify available data variables and respective rows\n",
    "sample_characteristics = {\n",
    "    0: ['tissue type: Metastatic Melanoma', 'tissue type: Primary Melanoma', 'tissue type: Nevus', 'tissue type: Normal Skin', 'tissue type: Normal Epithelial Melanocytes'],\n",
    "    8: [np.nan, 'location: cutaneous', 'organ: skin', 'location: cutaneous/subcutaneous', 'location: subcutaneous', 'organ: Lymph Node', 'date of resection: Feb-93', 'organ: colon/peritoneal', 'location: Lymph Node', 'gender: male', 'gender: female'],\n",
    "    19: [np.nan, 'subsequent metastasis: 7/00 cutis, spleen; 9/01 cutis, liver.', 'subsequent metastasis: 8/97 brain, progression of pulmonal mets, progression of LNN mets axillar and mediastinal, suspected adrenal mets, suspected liver mets, progression of cutaneous mets', 'prior ctx, rtx, itx: 2 cycles polychemotherapy (DTIC, Cisplatin, Vindesine)', 'subsequent metastasis: 9/99 brain, LNN', 'subsequent metastasis: 2/02 lung, soft tissue, GI', 'first instance [fi] or recurrance [r]: FI', 'prior ctx, rtx, itx: from 8/99 4 cycles of polychemotherapy (Vindesine + Cisplatin), radiation therapy (Lnn left axilla) 12/99', 'prior ctx, rtx, itx: no further clinical data', 'subsequent metastasis: 10/94: lungs', 'prior ctx, rtx, itx: 10 cycles of polychemotherapy (DTIC + Vindesine + Carboplatin), 3 cycles of polychemotherapy (Taxol+Tamoxifen+Cisplatin), radiation therapy brain (30 Gy)', 'subsequent metastasis: 7/98: lungs, intraabdominal, s.c., brain', 'subsequent metastasis: no further clinical data', 'subsequent metastasis: 7/00 cutis, spleen; 9/01 cutis, liver.', 'subsequent metastasis: 8/97 brain, progression of known mets (s.c., lungs, liver, peritoneum, mediastinum)', 'subsequent metastasis: 9/01 Lnn cervical right; 3/02 brain (single lesion) g-knife; 11/02 progression of brain met: chemotherapy Temodal'],\n",
    "    9: [np.nan, 'organ: skin', 'date of resection: May-96', 'age at time of resection: 30y 6m', 'date of resection: Jan-95', 'date of resection: Sep-95', 'age at time of resection: 28y', 'age at time of resection: 59y 7m'],\n",
    "    12: [np.nan, 'gender: female', 'gender: male', 'race: caucasian', 'clinical stage: 4 new AJCC', 'prior ctx, rtx, itx: no'],\n",
    "}\n",
    "\n",
    "# Colon and Rectal Cancer trait availability check\n",
    "for key, values in sample_characteristics.items():\n",
    "    if any(isinstance(value, str) and ('colon' in value.lower() or 'rectal' in value.lower()) for value in values):\n",
    "        trait_row = key\n",
    "\n",
    "# Age variable availability check\n",
    "for key, values in sample_characteristics.items():\n",
    "    if any(isinstance(value, str) and 'age' in value.lower() for value in values):\n",
    "        age_row = key\n",
    "\n",
    "# Gender variable availability check\n",
    "for key, values in sample_characteristics.items():\n",
    "    if any(isinstance(value, str) and 'gender' in value.lower() for value in values):\n",
    "        gender_row = key\n",
    "\n",
    "# Data Type Conversion Functions\n",
    "def convert_trait(value):\n",
    "    if value is None or (isinstance(value, float) and np.isnan(value)):\n",
    "        return None\n",
    "    trait_values = ['colon', 'rectal']\n",
    "    for trait in trait_values:\n",
    "        if trait in value.lower():\n",
    "            return 1\n",
    "    return 0\n",
    "\n",
    "def convert_age(value):\n",
    "    if value is None or (isinstance(value, float) and np.isnan(value)):\n",
    "        return None\n",
    "    try:\n",
    "        age_str = value.split(':')[-1].strip().split('y')[0]\n",
    "        return float(age_str)\n",
    "    except:\n",
    "        return None\n",
    "\n",
    "def convert_gender(value):\n",
    "    if value is None or (isinstance(value, float) and np.isnan(value)):\n",
    "        return None\n",
    "    if 'female' in value.lower():\n",
    "        return 0\n",
    "    elif 'male' in value.lower():\n",
    "        return 1\n",
    "    return None\n",
    "\n",
    "# Save cohort info\n",
    "save_cohort_info('GSE46517', './preprocessed/Colon_and_Rectal_Cancer/cohort_info.json', is_gene_available, trait_row is not None)\n",
    "\n",
    "# Clinical feature extraction if trait_row is not None\n",
    "if trait_row is not None:\n",
    "    selected_clinical_data = geo_select_clinical_features(clinical_data, 'Colon_and_Rectal_Cancer', trait_row, convert_trait, age_row, convert_age, gender_row, convert_gender)\n",
    "    csv_path = './preprocessed/Colon_and_Rectal_Cancer/trait_data/GSE46517.csv'\n",
    "    selected_clinical_data.to_csv(csv_path)\n",
    "    print(preview_df(selected_clinical_data))\n"
   ]
  },
  {
   "cell_type": "markdown",
   "id": "719fc43c",
   "metadata": {},
   "source": [
    "### Step 3: Gene Data Extraction"
   ]
  },
  {
   "cell_type": "code",
   "execution_count": 4,
   "id": "c4c3eef3",
   "metadata": {
    "execution": {
     "iopub.execute_input": "2024-06-12T10:06:58.783074Z",
     "iopub.status.busy": "2024-06-12T10:06:58.782956Z",
     "iopub.status.idle": "2024-06-12T10:06:59.110210Z",
     "shell.execute_reply": "2024-06-12T10:06:59.109846Z"
    }
   },
   "outputs": [
    {
     "name": "stdout",
     "output_type": "stream",
     "text": [
      "Index(['1007_s_at', '1053_at', '117_at', '121_at', '1255_g_at', '1294_at',\n",
      "       '1316_at', '1320_at', '1405_i_at', '1431_at', '1438_at', '1487_at',\n",
      "       '1494_f_at', '1598_g_at', '160020_at', '1729_at', '1773_at', '177_at',\n",
      "       '179_at', '1861_at'],\n",
      "      dtype='object', name='ID')\n"
     ]
    }
   ],
   "source": [
    "# 1. Use the get_genetic_data function from the library to get the gene_data from the matrix_file previously defined.\n",
    "gene_data = get_genetic_data(matrix_file)\n",
    "\n",
    "# 2. Print the first 20 row ids for the following step.\n",
    "print(gene_data.index[:20])\n"
   ]
  },
  {
   "cell_type": "markdown",
   "id": "fe4c324d",
   "metadata": {},
   "source": [
    "### Step 4: Gene Identifier Review"
   ]
  },
  {
   "cell_type": "code",
   "execution_count": 5,
   "id": "29213032",
   "metadata": {
    "execution": {
     "iopub.execute_input": "2024-06-12T10:06:59.111984Z",
     "iopub.status.busy": "2024-06-12T10:06:59.111847Z",
     "iopub.status.idle": "2024-06-12T10:06:59.113921Z",
     "shell.execute_reply": "2024-06-12T10:06:59.113645Z"
    }
   },
   "outputs": [],
   "source": [
    "requires_gene_mapping = True\n"
   ]
  },
  {
   "cell_type": "markdown",
   "id": "919a190f",
   "metadata": {},
   "source": [
    "### Step 5: Gene Annotation (Conditional)"
   ]
  },
  {
   "cell_type": "code",
   "execution_count": 6,
   "id": "cc29b7ac",
   "metadata": {
    "execution": {
     "iopub.execute_input": "2024-06-12T10:06:59.115547Z",
     "iopub.status.busy": "2024-06-12T10:06:59.115450Z",
     "iopub.status.idle": "2024-06-12T10:07:03.837581Z",
     "shell.execute_reply": "2024-06-12T10:07:03.836842Z"
    }
   },
   "outputs": [
    {
     "name": "stdout",
     "output_type": "stream",
     "text": [
      "Gene annotation preview:\n",
      "{'ID': ['1007_s_at', '1053_at', '117_at', '121_at', '1255_g_at'], 'GB_ACC': ['U48705', 'M87338', 'X51757', 'X69699', 'L36861'], 'SPOT_ID': [nan, nan, nan, nan, nan], 'Species Scientific Name': ['Homo sapiens', 'Homo sapiens', 'Homo sapiens', 'Homo sapiens', 'Homo sapiens'], 'Annotation Date': ['Oct 6, 2014', 'Oct 6, 2014', 'Oct 6, 2014', 'Oct 6, 2014', 'Oct 6, 2014'], 'Sequence Type': ['Exemplar sequence', 'Exemplar sequence', 'Exemplar sequence', 'Exemplar sequence', 'Exemplar sequence'], 'Sequence Source': ['Affymetrix Proprietary Database', 'GenBank', 'Affymetrix Proprietary Database', 'GenBank', 'Affymetrix Proprietary Database'], 'Target Description': ['U48705 /FEATURE=mRNA /DEFINITION=HSU48705 Human receptor tyrosine kinase DDR gene, complete cds', 'M87338 /FEATURE= /DEFINITION=HUMA1SBU Human replication factor C, 40-kDa subunit (A1) mRNA, complete cds', \"X51757 /FEATURE=cds /DEFINITION=HSP70B Human heat-shock protein HSP70B' gene\", 'X69699 /FEATURE= /DEFINITION=HSPAX8A H.sapiens Pax8 mRNA', 'L36861 /FEATURE=expanded_cds /DEFINITION=HUMGCAPB Homo sapiens guanylate cyclase activating protein (GCAP) gene exons 1-4, complete cds'], 'Representative Public ID': ['U48705', 'M87338', 'X51757', 'X69699', 'L36861'], 'Gene Title': ['discoidin domain receptor tyrosine kinase 1 /// microRNA 4640', 'replication factor C (activator 1) 2, 40kDa', \"heat shock 70kDa protein 6 (HSP70B')\", 'paired box 8', 'guanylate cyclase activator 1A (retina)'], 'Gene Symbol': ['DDR1 /// MIR4640', 'RFC2', 'HSPA6', 'PAX8', 'GUCA1A'], 'ENTREZ_GENE_ID': ['780 /// 100616237', '5982', '3310', '7849', '2978'], 'RefSeq Transcript ID': ['NM_001202521 /// NM_001202522 /// NM_001202523 /// NM_001954 /// NM_013993 /// NM_013994 /// NR_039783 /// XM_005249385 /// XM_005249386 /// XM_005249387 /// XM_005249389 /// XM_005272873 /// XM_005272874 /// XM_005272875 /// XM_005272877 /// XM_005275027 /// XM_005275028 /// XM_005275030 /// XM_005275031 /// XM_005275162 /// XM_005275163 /// XM_005275164 /// XM_005275166 /// XM_005275457 /// XM_005275458 /// XM_005275459 /// XM_005275461 /// XM_006715185 /// XM_006715186 /// XM_006715187 /// XM_006715188 /// XM_006715189 /// XM_006715190 /// XM_006725501 /// XM_006725502 /// XM_006725503 /// XM_006725504 /// XM_006725505 /// XM_006725506 /// XM_006725714 /// XM_006725715 /// XM_006725716 /// XM_006725717 /// XM_006725718 /// XM_006725719 /// XM_006725720 /// XM_006725721 /// XM_006725722 /// XM_006725827 /// XM_006725828 /// XM_006725829 /// XM_006725830 /// XM_006725831 /// XM_006725832 /// XM_006726017 /// XM_006726018 /// XM_006726019 /// XM_006726020 /// XM_006726021 /// XM_006726022 /// XR_427836 /// XR_430858 /// XR_430938 /// XR_430974 /// XR_431015', 'NM_001278791 /// NM_001278792 /// NM_001278793 /// NM_002914 /// NM_181471 /// XM_006716080', 'NM_002155', 'NM_003466 /// NM_013951 /// NM_013952 /// NM_013953 /// NM_013992', 'NM_000409 /// XM_006715073'], 'Gene Ontology Biological Process': ['0001558 // regulation of cell growth // inferred from electronic annotation /// 0001952 // regulation of cell-matrix adhesion // inferred from electronic annotation /// 0006468 // protein phosphorylation // inferred from electronic annotation /// 0007155 // cell adhesion // traceable author statement /// 0007169 // transmembrane receptor protein tyrosine kinase signaling pathway // inferred from electronic annotation /// 0007565 // female pregnancy // inferred from electronic annotation /// 0007566 // embryo implantation // inferred from electronic annotation /// 0007595 // lactation // inferred from electronic annotation /// 0008285 // negative regulation of cell proliferation // inferred from electronic annotation /// 0010715 // regulation of extracellular matrix disassembly // inferred from mutant phenotype /// 0014909 // smooth muscle cell migration // inferred from mutant phenotype /// 0016310 // phosphorylation // inferred from electronic annotation /// 0018108 // peptidyl-tyrosine phosphorylation // inferred from electronic annotation /// 0030198 // extracellular matrix organization // traceable author statement /// 0038063 // collagen-activated tyrosine kinase receptor signaling pathway // inferred from direct assay /// 0038063 // collagen-activated tyrosine kinase receptor signaling pathway // inferred from mutant phenotype /// 0038083 // peptidyl-tyrosine autophosphorylation // inferred from direct assay /// 0043583 // ear development // inferred from electronic annotation /// 0044319 // wound healing, spreading of cells // inferred from mutant phenotype /// 0046777 // protein autophosphorylation // inferred from direct assay /// 0060444 // branching involved in mammary gland duct morphogenesis // inferred from electronic annotation /// 0060749 // mammary gland alveolus development // inferred from electronic annotation /// 0061302 // smooth muscle cell-matrix adhesion // inferred from mutant phenotype', '0000278 // mitotic cell cycle // traceable author statement /// 0000722 // telomere maintenance via recombination // traceable author statement /// 0000723 // telomere maintenance // traceable author statement /// 0006260 // DNA replication // traceable author statement /// 0006271 // DNA strand elongation involved in DNA replication // traceable author statement /// 0006281 // DNA repair // traceable author statement /// 0006283 // transcription-coupled nucleotide-excision repair // traceable author statement /// 0006289 // nucleotide-excision repair // traceable author statement /// 0006297 // nucleotide-excision repair, DNA gap filling // traceable author statement /// 0015979 // photosynthesis // inferred from electronic annotation /// 0015995 // chlorophyll biosynthetic process // inferred from electronic annotation /// 0032201 // telomere maintenance via semi-conservative replication // traceable author statement', '0000902 // cell morphogenesis // inferred from electronic annotation /// 0006200 // ATP catabolic process // inferred from direct assay /// 0006950 // response to stress // inferred from electronic annotation /// 0006986 // response to unfolded protein // traceable author statement /// 0034605 // cellular response to heat // inferred from direct assay /// 0042026 // protein refolding // inferred from direct assay /// 0070370 // cellular heat acclimation // inferred from mutant phenotype', '0001655 // urogenital system development // inferred from sequence or structural similarity /// 0001656 // metanephros development // inferred from electronic annotation /// 0001658 // branching involved in ureteric bud morphogenesis // inferred from expression pattern /// 0001822 // kidney development // inferred from expression pattern /// 0001823 // mesonephros development // inferred from sequence or structural similarity /// 0003337 // mesenchymal to epithelial transition involved in metanephros morphogenesis // inferred from expression pattern /// 0006351 // transcription, DNA-templated // inferred from direct assay /// 0006355 // regulation of transcription, DNA-templated // inferred from electronic annotation /// 0007275 // multicellular organismal development // inferred from electronic annotation /// 0007417 // central nervous system development // inferred from expression pattern /// 0009653 // anatomical structure morphogenesis // traceable author statement /// 0030154 // cell differentiation // inferred from electronic annotation /// 0030878 // thyroid gland development // inferred from expression pattern /// 0030878 // thyroid gland development // inferred from mutant phenotype /// 0038194 // thyroid-stimulating hormone signaling pathway // traceable author statement /// 0039003 // pronephric field specification // inferred from sequence or structural similarity /// 0042472 // inner ear morphogenesis // inferred from sequence or structural similarity /// 0042981 // regulation of apoptotic process // inferred from sequence or structural similarity /// 0045893 // positive regulation of transcription, DNA-templated // inferred from direct assay /// 0045893 // positive regulation of transcription, DNA-templated // inferred from sequence or structural similarity /// 0045944 // positive regulation of transcription from RNA polymerase II promoter // inferred from direct assay /// 0048793 // pronephros development // inferred from sequence or structural similarity /// 0071371 // cellular response to gonadotropin stimulus // inferred from direct assay /// 0071599 // otic vesicle development // inferred from expression pattern /// 0072050 // S-shaped body morphogenesis // inferred from electronic annotation /// 0072073 // kidney epithelium development // inferred from electronic annotation /// 0072108 // positive regulation of mesenchymal to epithelial transition involved in metanephros morphogenesis // inferred from sequence or structural similarity /// 0072164 // mesonephric tubule development // inferred from electronic annotation /// 0072207 // metanephric epithelium development // inferred from expression pattern /// 0072221 // metanephric distal convoluted tubule development // inferred from sequence or structural similarity /// 0072278 // metanephric comma-shaped body morphogenesis // inferred from expression pattern /// 0072284 // metanephric S-shaped body morphogenesis // inferred from expression pattern /// 0072289 // metanephric nephron tubule formation // inferred from sequence or structural similarity /// 0072305 // negative regulation of mesenchymal cell apoptotic process involved in metanephric nephron morphogenesis // inferred from sequence or structural similarity /// 0072307 // regulation of metanephric nephron tubule epithelial cell differentiation // inferred from sequence or structural similarity /// 0090190 // positive regulation of branching involved in ureteric bud morphogenesis // inferred from sequence or structural similarity /// 1900212 // negative regulation of mesenchymal cell apoptotic process involved in metanephros development // inferred from sequence or structural similarity /// 1900215 // negative regulation of apoptotic process involved in metanephric collecting duct development // inferred from sequence or structural similarity /// 1900218 // negative regulation of apoptotic process involved in metanephric nephron tubule development // inferred from sequence or structural similarity /// 2000594 // positive regulation of metanephric DCT cell differentiation // inferred from sequence or structural similarity /// 2000611 // positive regulation of thyroid hormone generation // inferred from mutant phenotype /// 2000612 // regulation of thyroid-stimulating hormone secretion // inferred from mutant phenotype', '0007165 // signal transduction // non-traceable author statement /// 0007601 // visual perception // inferred from electronic annotation /// 0007602 // phototransduction // inferred from electronic annotation /// 0007603 // phototransduction, visible light // traceable author statement /// 0016056 // rhodopsin mediated signaling pathway // traceable author statement /// 0022400 // regulation of rhodopsin mediated signaling pathway // traceable author statement /// 0030828 // positive regulation of cGMP biosynthetic process // inferred from electronic annotation /// 0031282 // regulation of guanylate cyclase activity // inferred from electronic annotation /// 0031284 // positive regulation of guanylate cyclase activity // inferred from electronic annotation /// 0050896 // response to stimulus // inferred from electronic annotation'], 'Gene Ontology Cellular Component': ['0005576 // extracellular region // inferred from electronic annotation /// 0005615 // extracellular space // inferred from direct assay /// 0005886 // plasma membrane // traceable author statement /// 0005887 // integral component of plasma membrane // traceable author statement /// 0016020 // membrane // inferred from electronic annotation /// 0016021 // integral component of membrane // inferred from electronic annotation /// 0043235 // receptor complex // inferred from direct assay /// 0070062 // extracellular vesicular exosome // inferred from direct assay', '0005634 // nucleus // inferred from electronic annotation /// 0005654 // nucleoplasm // traceable author statement /// 0005663 // DNA replication factor C complex // inferred from direct assay', '0005737 // cytoplasm // inferred from direct assay /// 0005814 // centriole // inferred from direct assay /// 0005829 // cytosol // inferred from direct assay /// 0008180 // COP9 signalosome // inferred from direct assay /// 0070062 // extracellular vesicular exosome // inferred from direct assay /// 0072562 // blood microparticle // inferred from direct assay', '0005634 // nucleus // inferred from direct assay /// 0005654 // nucleoplasm // inferred from sequence or structural similarity /// 0005730 // nucleolus // inferred from direct assay', '0001750 // photoreceptor outer segment // inferred from electronic annotation /// 0001917 // photoreceptor inner segment // inferred from electronic annotation /// 0005578 // proteinaceous extracellular matrix // inferred from electronic annotation /// 0005886 // plasma membrane // inferred from direct assay /// 0016020 // membrane // inferred from electronic annotation /// 0097381 // photoreceptor disc membrane // traceable author statement'], 'Gene Ontology Molecular Function': ['0000166 // nucleotide binding // inferred from electronic annotation /// 0004672 // protein kinase activity // inferred from electronic annotation /// 0004713 // protein tyrosine kinase activity // inferred from electronic annotation /// 0004714 // transmembrane receptor protein tyrosine kinase activity // traceable author statement /// 0005515 // protein binding // inferred from physical interaction /// 0005518 // collagen binding // inferred from direct assay /// 0005518 // collagen binding // inferred from mutant phenotype /// 0005524 // ATP binding // inferred from electronic annotation /// 0016301 // kinase activity // inferred from electronic annotation /// 0016740 // transferase activity // inferred from electronic annotation /// 0016772 // transferase activity, transferring phosphorus-containing groups // inferred from electronic annotation /// 0038062 // protein tyrosine kinase collagen receptor activity // inferred from direct assay /// 0046872 // metal ion binding // inferred from electronic annotation', '0000166 // nucleotide binding // inferred from electronic annotation /// 0003677 // DNA binding // inferred from electronic annotation /// 0005515 // protein binding // inferred from physical interaction /// 0005524 // ATP binding // inferred from electronic annotation /// 0016851 // magnesium chelatase activity // inferred from electronic annotation /// 0017111 // nucleoside-triphosphatase activity // inferred from electronic annotation', '0000166 // nucleotide binding // inferred from electronic annotation /// 0005524 // ATP binding // inferred from electronic annotation /// 0019899 // enzyme binding // inferred from physical interaction /// 0031072 // heat shock protein binding // inferred from physical interaction /// 0042623 // ATPase activity, coupled // inferred from direct assay /// 0051082 // unfolded protein binding // inferred from direct assay', '0000979 // RNA polymerase II core promoter sequence-specific DNA binding // inferred from direct assay /// 0003677 // DNA binding // inferred from direct assay /// 0003677 // DNA binding // inferred from mutant phenotype /// 0003700 // sequence-specific DNA binding transcription factor activity // inferred from direct assay /// 0004996 // thyroid-stimulating hormone receptor activity // traceable author statement /// 0005515 // protein binding // inferred from physical interaction /// 0044212 // transcription regulatory region DNA binding // inferred from direct assay', '0005509 // calcium ion binding // inferred from electronic annotation /// 0008048 // calcium sensitive guanylate cyclase activator activity // inferred from electronic annotation /// 0030249 // guanylate cyclase regulator activity // inferred from electronic annotation /// 0046872 // metal ion binding // inferred from electronic annotation']}\n"
     ]
    }
   ],
   "source": [
    "# 1. Use the 'get_gene_annotation' function from the library to get gene annotation data from the soft file.\n",
    "gene_annotation = get_gene_annotation(soft_file)\n",
    "\n",
    "# 2. Use the 'preview_df' function from the library to preview the data and print out the results.\n",
    "print(\"Gene annotation preview:\")\n",
    "print(preview_df(gene_annotation))\n"
   ]
  },
  {
   "cell_type": "markdown",
   "id": "c5708dd9",
   "metadata": {},
   "source": [
    "### Step 6: Gene Identifier Mapping"
   ]
  },
  {
   "cell_type": "code",
   "execution_count": 7,
   "id": "9d4fb7be",
   "metadata": {
    "execution": {
     "iopub.execute_input": "2024-06-12T10:07:03.839435Z",
     "iopub.status.busy": "2024-06-12T10:07:03.839301Z",
     "iopub.status.idle": "2024-06-12T10:07:04.009659Z",
     "shell.execute_reply": "2024-06-12T10:07:04.009118Z"
    }
   },
   "outputs": [],
   "source": [
    "# Substep 1: Define the keys for identifiers and gene symbols\n",
    "identifier_key = 'ID'\n",
    "gene_symbol_key = 'Gene Symbol'\n",
    "\n",
    "# Substep 2: Get the dataframe storing the mapping between probe IDs and genes\n",
    "gene_mapping_df = get_gene_mapping(gene_annotation, identifier_key, gene_symbol_key)\n",
    "\n",
    "# Substep 3: Apply the mapping to get the gene expression dataframe\n",
    "gene_data = apply_gene_mapping(gene_data, gene_mapping_df)\n"
   ]
  },
  {
   "cell_type": "markdown",
   "id": "a328ad87",
   "metadata": {},
   "source": [
    "### Step 7: Data Normalization and Merging"
   ]
  },
  {
   "cell_type": "code",
   "execution_count": 8,
   "id": "3c7ed063",
   "metadata": {
    "execution": {
     "iopub.execute_input": "2024-06-12T10:07:04.011708Z",
     "iopub.status.busy": "2024-06-12T10:07:04.011593Z",
     "iopub.status.idle": "2024-06-12T10:07:40.019006Z",
     "shell.execute_reply": "2024-06-12T10:07:40.018469Z"
    }
   },
   "outputs": [
    {
     "name": "stdout",
     "output_type": "stream",
     "text": [
      "No valid data available for 'Colon_and_Rectal_Cancer'. Skipping bias check and saving steps.\n",
      "A new JSON file was created at: ./preprocessed/Colon_and_Rectal_Cancer/cohort_info.json\n"
     ]
    }
   ],
   "source": [
    "# 1. Normalize the obtained gene data with the 'normalize_gene_symbols_in_index' function from the library.\n",
    "normalized_gene_data = normalize_gene_symbols_in_index(gene_data)\n",
    "gene_csv_path = './preprocessed/Colon_and_Rectal_Cancer/gene_data/GSE46517.csv'\n",
    "normalized_gene_data.to_csv(gene_csv_path)\n",
    "\n",
    "# 2. Merge the clinical and genetic data with the 'geo_merge_clinical_genetic_data' function from the library.\n",
    "merged_data = geo_merge_clinical_genetic_data(selected_clinical_data, normalized_gene_data)\n",
    "\n",
    "# Ensure that there is valid data available for 'Colon_and_Rectal_Cancer' before proceeding\n",
    "if 'Colon_and_Rectal_Cancer' in merged_data.columns and not merged_data['Colon_and_Rectal_Cancer'].isnull().all():\n",
    "    # 3. Determine whether the trait and some demographic attributes in the data is severely biased, and remove biased attributes.\n",
    "    trait_biased, unbiased_merged_data = judge_and_remove_biased_features(merged_data, 'Colon_and_Rectal_Cancer')\n",
    "\n",
    "    # 4. Save the cohort information.\n",
    "    save_cohort_info('GSE46517', './preprocessed/Colon_and_Rectal_Cancer/cohort_info.json', True, True, trait_biased, merged_data)\n",
    "    \n",
    "    if not trait_biased:\n",
    "        # 5. If the trait is not severely biased, save the merged data to a csv file.\n",
    "        csv_path = './preprocessed/Colon_and_Rectal_Cancer/GSE46517.csv'\n",
    "        unbiased_merged_data.to_csv(csv_path)\n",
    "else:\n",
    "    # Handle the case where no valid data is available for 'Colon_and_Rectal_Cancer'\n",
    "    print(\"No valid data available for 'Colon_and_Rectal_Cancer'. Skipping bias check and saving steps.\")\n",
    "    \n",
    "    # Save cohort information with a note about the lack of valid data\n",
    "    save_cohort_info('GSE46517', './preprocessed/Colon_and_Rectal_Cancer/cohort_info.json', True, False, note='No valid data for Colon_and_Rectal_Cancer')\n"
   ]
  }
 ],
 "metadata": {
  "language_info": {
   "codemirror_mode": {
    "name": "ipython",
    "version": 3
   },
   "file_extension": ".py",
   "mimetype": "text/x-python",
   "name": "python",
   "nbconvert_exporter": "python",
   "pygments_lexer": "ipython3",
   "version": "3.8.17"
  }
 },
 "nbformat": 4,
 "nbformat_minor": 5
}
