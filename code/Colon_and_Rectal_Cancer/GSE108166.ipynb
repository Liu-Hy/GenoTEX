{
 "cells": [
  {
   "cell_type": "code",
   "execution_count": 1,
   "id": "93abd2db",
   "metadata": {
    "execution": {
     "iopub.execute_input": "2024-06-12T10:07:40.846366Z",
     "iopub.status.busy": "2024-06-12T10:07:40.846160Z",
     "iopub.status.idle": "2024-06-12T10:07:40.853387Z",
     "shell.execute_reply": "2024-06-12T10:07:40.852826Z"
    }
   },
   "outputs": [],
   "source": [
    "\n",
    "import sys\n",
    "sys.path.append('/home/techt/Desktop/a4s')\n"
   ]
  },
  {
   "cell_type": "markdown",
   "id": "de92c630",
   "metadata": {},
   "source": [
    "### Step 1: Initial Data Loading"
   ]
  },
  {
   "cell_type": "code",
   "execution_count": 2,
   "id": "498449e8",
   "metadata": {
    "execution": {
     "iopub.execute_input": "2024-06-12T10:07:40.856307Z",
     "iopub.status.busy": "2024-06-12T10:07:40.855820Z",
     "iopub.status.idle": "2024-06-12T10:07:41.466173Z",
     "shell.execute_reply": "2024-06-12T10:07:41.465795Z"
    }
   },
   "outputs": [
    {
     "name": "stdout",
     "output_type": "stream",
     "text": [
      "Background Information:\n",
      "!Series_title\t\"Differential clinicopathological and molecular features within late-onset colorectal cancer according to tumor location\"\n",
      "!Series_summary\t\"Background: Since there is a predilection of some clinical and molecular features for a given tumor location, we assessed whether this can be confirmed in late-onset colorectal cancer (LOCRC).  Methods: We analyzed clinical and molecular characteristics of LOCRC at different tumor locations in order to determine if there are differential phenotypes related with the location in the colon.  Results: Right colon cancers showed features associated with sporadic Microsatellite Instability: predominance of female cases and BRAF mutations, and an important mucinous component. Left colon cancers developed a higher number of polyps and multiple primary CRCs, showed the strongest familial component, and had better prognosis. Rectal cancers showed a predominantly sporadic phenotype, with worse prognosis and a CpG Island Methylator Phenotype (CIMP)-High. No copy number alterations (CNAs) greater than or equal to 50% were observed in this LOCRC group, and the most recurrent alterations were losses at 5q13 and 14q11, and gains at 7q11, 7q21-q22, 19p13-p12, 19q13 and 20p11-q11. KRAS and PIK3CA were the only mutated genes showing differences according to the tumor location, mainly for right colon cancers.   Conclusions: Categorizing LOCRC according to tumor location appears to be an adequate first step to resolving the heterogeneity of this subset of CRC.\"\n",
      "!Series_overall_design\t\"A total of 100 consecutive individuals with colorectal cancer diagnosed at an age of 70 years or older were collected from our institution, starting from January 2002. All patients, or a first degree relative in case of death of the index case, provided written consent. 86 of these samples could be adequately processed for Array Comparative Genomic Hybridisation (a-CGH).\"\n",
      "Sample Characteristics Dictionary:\n",
      "{0: ['Sex: Female', 'Sex: Male'], 1: ['age: 81', 'age: 77', 'age: 85', 'age: 70', 'age: 71', 'age: 75', 'age: 86', 'age: 80', 'age: 87', 'age: 83', 'age: 93', 'age: 88', 'age: 74', 'age: 78', 'age: 72', 'age: 79', 'age: 76', 'age: 73', 'age: 69', 'age: 84', 'age: 82', 'age: 89'], 2: ['molecular classification: MSS y CIMP-High', 'molecular classification: MSS y CIMP-Low/0', 'molecular classification: MSI y CIMP-Low/0', 'molecular classification: MSI y CIMP-High']}\n"
     ]
    }
   ],
   "source": [
    "from utils.preprocess import *\n",
    "# 1. Identify the paths to the soft file and the matrix file\n",
    "cohort_dir = '/media/techt/DATA/GEO/Colon_and_Rectal_Cancer/GSE108166'\n",
    "soft_file, matrix_file = geo_get_relevant_filepaths(cohort_dir)\n",
    "\n",
    "# 2. Read the matrix file to obtain background information and sample characteristics data\n",
    "background_prefixes = ['!Series_title', '!Series_summary', '!Series_overall_design']\n",
    "clinical_prefixes = ['!Sample_geo_accession', '!Sample_characteristics_ch1']\n",
    "background_info, clinical_data = get_background_and_clinical_data(matrix_file, background_prefixes, clinical_prefixes)\n",
    "\n",
    "# 3. Obtain the sample characteristics dictionary from the clinical dataframe\n",
    "sample_characteristics_dict = get_unique_values_by_row(clinical_data)\n",
    "\n",
    "# 4. Explicitly print out all the background information and the sample characteristics dictionary\n",
    "print(\"Background Information:\")\n",
    "print(background_info)\n",
    "print(\"Sample Characteristics Dictionary:\")\n",
    "print(sample_characteristics_dict)\n"
   ]
  },
  {
   "cell_type": "markdown",
   "id": "0c7b63f8",
   "metadata": {},
   "source": [
    "### Step 2: Dataset Analysis and Clinical Feature Extraction"
   ]
  },
  {
   "cell_type": "code",
   "execution_count": 3,
   "id": "7e2b4cd9",
   "metadata": {
    "execution": {
     "iopub.execute_input": "2024-06-12T10:07:41.468237Z",
     "iopub.status.busy": "2024-06-12T10:07:41.468128Z",
     "iopub.status.idle": "2024-06-12T10:07:41.473043Z",
     "shell.execute_reply": "2024-06-12T10:07:41.472758Z"
    }
   },
   "outputs": [],
   "source": [
    "is_gene_available = False\n",
    "trait_row = age_row = gender_row = None  # set to different values when applicable\n",
    "convert_trait = convert_age = convert_gender = None  # define the functions when applicable\n",
    "\n",
    "# Check the gene expression availability\n",
    "is_gene_available = True  # Based on background information, assuming gene expression data is available \n",
    "\n",
    "# Variable Availability and Data Type Conversion\n",
    "sample_characteristics = {\n",
    "    0: ['Sex: Female', 'Sex: Male'],\n",
    "    1: ['age: 81', 'age: 77', 'age: 85', 'age: 70', 'age: 71', 'age: 75', 'age: 86', 'age: 80', 'age: 87',\n",
    "        'age: 83', 'age: 93', 'age: 88', 'age: 74', 'age: 78', 'age: 72', 'age: 79', 'age: 76', 'age: 73',\n",
    "        'age: 69', 'age: 84', 'age: 82', 'age: 89'],\n",
    "    2: ['molecular classification: MSS y CIMP-High', 'molecular classification: MSS y CIMP-Low/0',\n",
    "        'molecular classification: MSI y CIMP-Low/0', 'molecular classification: MSI y CIMP-High']\n",
    "}\n",
    "\n",
    "# Determine the data availability\n",
    "trait_row = None  # There is no clear key for 'Colon_and_Rectal_Cancer'\n",
    "age_row = 1\n",
    "gender_row = 0\n",
    "\n",
    "# Define conversion functions\n",
    "def convert_trait(value):\n",
    "    return None  # No trait information is available\n",
    "\n",
    "def convert_age(value):\n",
    "    try:\n",
    "        return float(value.split(': ')[1])\n",
    "    except:\n",
    "        return None\n",
    "\n",
    "def convert_gender(value):\n",
    "    try:\n",
    "        gender = value.split(': ')[1].lower()\n",
    "        return 1 if gender == 'male' else 0\n",
    "    except:\n",
    "        return None\n",
    "\n",
    "# Save cohort information\n",
    "save_cohort_info('GSE108166', './preprocessed/Colon_and_Rectal_Cancer/cohort_info.json', is_gene_available, trait_row is not None)\n",
    "\n",
    "# Clinical Feature Extraction\n",
    "if trait_row is not None:\n",
    "    selected_clinical_data = geo_select_clinical_features(clinical_data, 'Colon_and_Rectal_Cancer', trait_row, convert_trait, age_row, convert_age, gender_row, convert_gender)\n",
    "    csv_path = './preprocessed/Colon_and_Rectal_Cancer/trait_data/GSE108166.csv'\n",
    "    selected_clinical_data.to_csv(csv_path)\n",
    "    print(preview_df(selected_clinical_data))\n"
   ]
  }
 ],
 "metadata": {
  "language_info": {
   "codemirror_mode": {
    "name": "ipython",
    "version": 3
   },
   "file_extension": ".py",
   "mimetype": "text/x-python",
   "name": "python",
   "nbconvert_exporter": "python",
   "pygments_lexer": "ipython3",
   "version": "3.8.17"
  }
 },
 "nbformat": 4,
 "nbformat_minor": 5
}
