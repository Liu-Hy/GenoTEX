{
 "cells": [
  {
   "cell_type": "code",
   "execution_count": 1,
   "id": "7366f555",
   "metadata": {
    "execution": {
     "iopub.execute_input": "2024-06-12T10:07:42.356694Z",
     "iopub.status.busy": "2024-06-12T10:07:42.356491Z",
     "iopub.status.idle": "2024-06-12T10:07:42.363493Z",
     "shell.execute_reply": "2024-06-12T10:07:42.362968Z"
    }
   },
   "outputs": [],
   "source": [
    "\n",
    "import sys\n",
    "sys.path.append('/home/techt/Desktop/a4s')\n"
   ]
  },
  {
   "cell_type": "markdown",
   "id": "2ab0c721",
   "metadata": {},
   "source": [
    "### Step 1: Initial Data Loading"
   ]
  },
  {
   "cell_type": "code",
   "execution_count": 2,
   "id": "674763aa",
   "metadata": {
    "execution": {
     "iopub.execute_input": "2024-06-12T10:07:42.366273Z",
     "iopub.status.busy": "2024-06-12T10:07:42.365904Z",
     "iopub.status.idle": "2024-06-12T10:07:42.730158Z",
     "shell.execute_reply": "2024-06-12T10:07:42.729741Z"
    }
   },
   "outputs": [
    {
     "name": "stdout",
     "output_type": "stream",
     "text": [
      "Background Information:\n",
      "!Series_title\t\"miRNA and colorectal cancer:  associations with tumor phenotype and survival\"\n",
      "!Series_summary\t\"MicroRNAs (miRNA) are a class of small regulatory RNAs that mediate post-transcriptional silencing of specific target mRNAs.  Data suggest the importance of miRNAs to cancer development and possibly to survival.  Our overall hypothesis is that miRNA expression is unique to tumor molecular phenotype; that miRNA expression levels at time of diagnosis predicts survival; and that miRNA expression is associated with inflammation-related genetic and lifestyle factors key to colorectal cancer (CRC). This study takes a two pronged approach to addressing our hypotheses.  While we propose to validate previously identified miRNAs that have been identified as associated with CRC (either by differential expression or from assessment of mutations), we will add to the field through discovery of new and important associations that may be unique to specific molecular phenotypes, to polyp to cancer progression, and  to survival.  We have analyzed the expression of 2006 human miRNAs using data derived from tumor and paired normal tissue at time of diagnosis from:  1975 people with incident colon cancer or rectal cancer and 290 polyps from colon and rectal cases (included in this study) who reported a prior polyp.  MiRNA was obtained from dissected paraffin-embedded tissue and assessed using an Agilent microarray platform.  We intend to extend our validation of previously identified mutated miRNAs and differentially expressed miRNAs to determine if these alterations are associated with specific tumor molecular phenotype (TP53, KRAS2, CIMP+, and for colon tumors MSI+), inflammation-related factors, clinical factors and survival.  We will identify associations with miRNAs that are related to specific molecular phenotypes, with drivers in the carcinogenic process, and with clinical features and survival.  These miRNAs will be validated using targeted Agilent Platform. Associations will be tested based on differential expression for both individual and groups of miRNAs using recent extensions of several statistical methods including ANOVA, logistic regression, and Cox proportional hazards models.  Our sample size allows for both a training and validation component, and provides sufficient statistical power to meet the study goals.  MiRNAs that are differentially expressed in polyps and in subsequent tumors will provide new insights into targets for screening and treatment as well as provide support that miRNAs function as the “driver” in the carcinogenic process.  Testing of mutated miRNAs identified from sequencing in conjunction with tumor phenotype, clinical, and survival data will further validate the importance of these miRNAs, and provide insight as to which CRC molecular pathway the miRNAs function.  Our rich dataset of lifestyle, genetic, clinical and prognosis, and tumor molecular phenotype on 1975 CRC and paired normal tissue allows us to examine factors that are associated with miRNA expression and mutation in a large sample of population-based cases in the most cost-efficient manner possible. The miRNAs identified in these analyses will elucidate pathways important in the etiology of CRC and will provide insight into potential targets for screening and treatment.\"\n",
      "!Series_summary\t\"MiRNAs are small, non-protein-coding RNA molecules that regulate gene expression either by post-transcriptionally suppressing mRNA translation or by mRNA degradation.  We examine differentially expressed miRNAs in colorectal carcinomas, adenomas, and normal colonic mucosa. Data come from population-based studies of colorectal cancer conducted in Utah and the Kaiser Permanente Medical Care Program.  A total of 1893 carcinoma/normal paired samples and 290 adenoma tissue samples were run on the Agilent Human miRNA Microarray V19.0 which contained 2006 miRNAs.  We tested for significant differences in miRNA expression between paired carcinoma/adenoma/normal colonic tissue samples.  Fewer than 600 miRNAs were expressed in >80% of people for colonic tissue; of these 86.5% were statistically differentially expressed between carcinoma and normal colonic mucosa using a False Discovery Rate of 0.05.  Roughly half of these differentially expressed miRNAs showed a progression in levels of expression from normal to adenoma to carcinoma tissue.  Other miRNAs appeared to be altered at the normal to adenoma stage, while others were only altered at the adenoma to carcinoma stage or only at the normal to carcinoma stage.    Evaluation of the Agilent platform showed a high degree of repeatability (r=0.98) and reasonable agreement with the NanoString platform.  Our data suggest that miRNAs are highly dysregulated in colorectal tissue among individuals with colorectal cancer; the pattern of disruption varies by miRNA as tissue progresses from normal to adenoma to carcinoma.\"\n",
      "!Series_overall_design\t\"Population-based ascertainment of all diagnosed cases of colorectal cancer from Utah and Northern California Kaiser.\"\n",
      "!Series_overall_design\t\"\"\n",
      "!Series_overall_design\t\"Please note that the 'characteristics: AJCC_stage' values for each sample have been updated on July 5th, 2018.\"\n",
      "Sample Characteristics Dictionary:\n",
      "{0: ['individual: Subject 001', 'individual: Subject 002', 'individual: Subject 003', 'individual: Subject 004', 'individual: Subject 005', 'individual: Subject 006', 'individual: Subject 007', 'individual: Subject 008', 'individual: Subject 009', 'individual: Subject 010', 'individual: Subject 011', 'individual: Subject 012', 'individual: Subject 013', 'individual: Subject 014', 'individual: Subject 015', 'individual: Subject 016', 'individual: Subject 017', 'individual: Subject 018', 'individual: Subject 019', 'individual: Subject 020', 'individual: Subject 021', 'individual: Subject 022', 'individual: Subject 023', 'individual: Subject 024', 'individual: Subject 025', 'individual: Subject 026', 'individual: Subject 027', 'individual: Subject 028', 'individual: Subject 029', 'individual: Subject 030'], 1: ['organ: Colon', 'organ: Rectum'], 2: ['tissue: Carcinoma', 'tissue: Normal Mucosa', 'tissue: Adenoma', 'tissue: Serrated Sessile Polyp', 'tissue: High-Grade Displasia', 'tissue: Hyperplastic Polyp'], 3: ['age_at_diagnosis: 59y', 'age_at_diagnosis: 56y', 'age_at_diagnosis: 69y', 'age_at_diagnosis: 73y', 'age_at_diagnosis: 76y', 'age_at_diagnosis: 61y', 'age_at_diagnosis: 79y', 'age_at_diagnosis: 77y', 'age_at_diagnosis: 70y', 'age_at_diagnosis: 67y', 'age_at_diagnosis: 37y', 'age_at_diagnosis: 74y', 'age_at_diagnosis: 55y', 'age_at_diagnosis: 65y', 'age_at_diagnosis: 66y', 'age_at_diagnosis: 71y', 'age_at_diagnosis: 72y', 'age_at_diagnosis: 78y', 'age_at_diagnosis: 45y', 'age_at_diagnosis: 64y', 'age_at_diagnosis: 58y', 'age_at_diagnosis: 68y', 'age_at_diagnosis: 75y', 'age_at_diagnosis: 63y', 'age_at_diagnosis: 57y', 'age_at_diagnosis: 35y', 'age_at_diagnosis: 50y', 'age_at_diagnosis: 39y', 'age_at_diagnosis: 31y', 'age_at_diagnosis: 47y'], 4: ['Sex: Male', 'Sex: Female'], 5: ['site: 18', 'site: 18.7', 'site: 18.3', 'site: 18.2', 'site: 18.4', 'site: 18.5', 'site: 18.6', 'site: 18.9', 'site: 19.9', 'site: 20.9'], 6: ['site_summary: Proximal', 'site_summary: Distal', 'site_summary: Rectal'], 7: ['ajcc stage: 4', 'ajcc stage: NA', 'ajcc stage: 3', 'ajcc stage: 2', 'ajcc stage: 1', 'ajcc stage: Unknown']}\n"
     ]
    }
   ],
   "source": [
    "from utils.preprocess import *\n",
    "# 1. Identify the paths to the soft file and the matrix file\n",
    "cohort_dir = '/media/techt/DATA/GEO/Colon_and_Rectal_Cancer/GSE115513'\n",
    "soft_file, matrix_file = geo_get_relevant_filepaths(cohort_dir)\n",
    "\n",
    "# 2. Read the matrix file to obtain background information and sample characteristics data\n",
    "background_prefixes = ['!Series_title', '!Series_summary', '!Series_overall_design']\n",
    "clinical_prefixes = ['!Sample_geo_accession', '!Sample_characteristics_ch1']\n",
    "background_info, clinical_data = get_background_and_clinical_data(matrix_file, background_prefixes, clinical_prefixes)\n",
    "\n",
    "# 3. Obtain the sample characteristics dictionary from the clinical dataframe\n",
    "sample_characteristics_dict = get_unique_values_by_row(clinical_data)\n",
    "\n",
    "# 4. Explicitly print out all the background information and the sample characteristics dictionary\n",
    "print(\"Background Information:\")\n",
    "print(background_info)\n",
    "print(\"Sample Characteristics Dictionary:\")\n",
    "print(sample_characteristics_dict)\n"
   ]
  },
  {
   "cell_type": "markdown",
   "id": "f9f20d15",
   "metadata": {},
   "source": [
    "### Step 2: Dataset Analysis and Clinical Feature Extraction"
   ]
  },
  {
   "cell_type": "code",
   "execution_count": 3,
   "id": "37136dee",
   "metadata": {
    "execution": {
     "iopub.execute_input": "2024-06-12T10:07:42.731793Z",
     "iopub.status.busy": "2024-06-12T10:07:42.731684Z",
     "iopub.status.idle": "2024-06-12T10:07:44.518780Z",
     "shell.execute_reply": "2024-06-12T10:07:44.518415Z"
    }
   },
   "outputs": [
    {
     "name": "stdout",
     "output_type": "stream",
     "text": [
      "{'GSM3179852': [1, 59, 1], 'GSM3179853': [None, 56, 1], 'GSM3179854': [1, 56, 1], 'GSM3179855': [1, 69, 0], 'GSM3179856': [None, 73, 0], 'GSM3179857': [1, 73, 0], 'GSM3179858': [1, 76, 0], 'GSM3179859': [None, 61, 0], 'GSM3179860': [1, 61, 0], 'GSM3179861': [None, 79, 1], 'GSM3179862': [1, 79, 1], 'GSM3179863': [None, 77, 1], 'GSM3179864': [1, 77, 1], 'GSM3179865': [None, 70, 0], 'GSM3179866': [1, 70, 0], 'GSM3179867': [1, 67, 0], 'GSM3179868': [None, 37, 1], 'GSM3179869': [1, 37, 1], 'GSM3179870': [None, 69, 1], 'GSM3179871': [1, 69, 1], 'GSM3179872': [None, 79, 0], 'GSM3179873': [1, 79, 0], 'GSM3179874': [None, 74, 0], 'GSM3179875': [1, 74, 0], 'GSM3179876': [None, 69, 0], 'GSM3179877': [1, 69, 0], 'GSM3179878': [None, 55, 0], 'GSM3179879': [1, 55, 0], 'GSM3179880': [None, 67, 1], 'GSM3179881': [1, 67, 1], 'GSM3179882': [1, 65, 0], 'GSM3179883': [None, 66, 1], 'GSM3179884': [1, 66, 1], 'GSM3179885': [1, 71, 1], 'GSM3179886': [1, 69, 0], 'GSM3179887': [None, 72, 1], 'GSM3179888': [1, 72, 1], 'GSM3179889': [None, 55, 0], 'GSM3179890': [1, 55, 0], 'GSM3179891': [None, 77, 1], 'GSM3179892': [1, 77, 1], 'GSM3179893': [None, 74, 1], 'GSM3179894': [1, 74, 1], 'GSM3179895': [None, 61, 0], 'GSM3179896': [1, 61, 0], 'GSM3179897': [None, 71, 1], 'GSM3179898': [1, 71, 1], 'GSM3179899': [None, 61, 0], 'GSM3179900': [1, 61, 0], 'GSM3179901': [1, 74, 1], 'GSM3179902': [None, 74, 1], 'GSM3179903': [1, 74, 1], 'GSM3179904': [None, 73, 1], 'GSM3179905': [1, 73, 1], 'GSM3179906': [None, 65, 0], 'GSM3179907': [1, 65, 0], 'GSM3179908': [1, 56, 1], 'GSM3179909': [0, 73, 1], 'GSM3179910': [None, 73, 1], 'GSM3179911': [1, 73, 1], 'GSM3179912': [0, 78, 1], 'GSM3179913': [1, 78, 1], 'GSM3179914': [None, 67, 0], 'GSM3179915': [1, 67, 0], 'GSM3179916': [None, 72, 0], 'GSM3179917': [1, 72, 0], 'GSM3179918': [None, 79, 0], 'GSM3179919': [1, 79, 0], 'GSM3179920': [None, 70, 0], 'GSM3179921': [1, 70, 0], 'GSM3179922': [None, 70, 1], 'GSM3179923': [1, 70, 1], 'GSM3179924': [None, 45, 1], 'GSM3179925': [None, 64, 1], 'GSM3179926': [1, 64, 1], 'GSM3179927': [None, 58, 0], 'GSM3179928': [1, 58, 0], 'GSM3179929': [None, 76, 1], 'GSM3179930': [1, 76, 1], 'GSM3179931': [None, 58, 1], 'GSM3179932': [1, 58, 1], 'GSM3179933': [None, 71, 0], 'GSM3179934': [1, 71, 0], 'GSM3179935': [None, 68, 1], 'GSM3179936': [1, 68, 1], 'GSM3179937': [None, 70, 1], 'GSM3179938': [1, 70, 1], 'GSM3179939': [None, 75, 1], 'GSM3179940': [1, 75, 1], 'GSM3179941': [None, 79, 1], 'GSM3179942': [1, 79, 1], 'GSM3179943': [None, 79, 1], 'GSM3179944': [1, 79, 1], 'GSM3179945': [None, 63, 0], 'GSM3179946': [1, 63, 0], 'GSM3179947': [0, 55, 0], 'GSM3179948': [1, 55, 0], 'GSM3179949': [None, 66, 0], 'GSM3179950': [1, 66, 0], 'GSM3179951': [None, 78, 1], 'GSM3179952': [1, 78, 1], 'GSM3179953': [None, 74, 1], 'GSM3179954': [1, 74, 1], 'GSM3179955': [0, 57, 1], 'GSM3179956': [None, 57, 1], 'GSM3179957': [1, 57, 1], 'GSM3179958': [None, 35, 0], 'GSM3179959': [1, 35, 0], 'GSM3179960': [0, 72, 1], 'GSM3179961': [None, 72, 1], 'GSM3179962': [1, 72, 1], 'GSM3179963': [None, 74, 1], 'GSM3179964': [1, 74, 1], 'GSM3179965': [None, 65, 1], 'GSM3179966': [1, 65, 1], 'GSM3179967': [None, 50, 0], 'GSM3179968': [1, 50, 0], 'GSM3179969': [None, 78, 0], 'GSM3179970': [1, 78, 0], 'GSM3179971': [0, 57, 0], 'GSM3179972': [1, 57, 0], 'GSM3179973': [None, 65, 0], 'GSM3179974': [1, 65, 0], 'GSM3179975': [None, 58, 0], 'GSM3179976': [1, 58, 0], 'GSM3179977': [None, 57, 1], 'GSM3179978': [1, 57, 1], 'GSM3179979': [None, 73, 0], 'GSM3179980': [1, 73, 0], 'GSM3179981': [None, 55, 1], 'GSM3179982': [1, 55, 1], 'GSM3179983': [None, 69, 0], 'GSM3179984': [1, 69, 0], 'GSM3179985': [None, 78, 1], 'GSM3179986': [1, 78, 1], 'GSM3179987': [None, 73, 1], 'GSM3179988': [1, 73, 1], 'GSM3179989': [None, 68, 1], 'GSM3179990': [None, 78, 0], 'GSM3179991': [1, 78, 0], 'GSM3179992': [None, 78, 1], 'GSM3179993': [1, 78, 1], 'GSM3179994': [None, 72, 0], 'GSM3179995': [1, 72, 0], 'GSM3179996': [None, 72, 1], 'GSM3179997': [1, 72, 1], 'GSM3179998': [None, 64, 0], 'GSM3179999': [1, 64, 0], 'GSM3180000': [None, 72, 1], 'GSM3180001': [1, 72, 1], 'GSM3180002': [None, 68, 1], 'GSM3180003': [0, 75, 0], 'GSM3180004': [None, 75, 0], 'GSM3180005': [1, 75, 0], 'GSM3180006': [None, 76, 0], 'GSM3180007': [1, 76, 0], 'GSM3180008': [1, 79, 0], 'GSM3180009': [None, 73, 1], 'GSM3180010': [None, 75, 0], 'GSM3180011': [1, 75, 0], 'GSM3180012': [None, 75, 0], 'GSM3180013': [1, 75, 0], 'GSM3180014': [None, 64, 1], 'GSM3180015': [1, 64, 1], 'GSM3180016': [None, 77, 0], 'GSM3180017': [1, 77, 0], 'GSM3180018': [None, 76, 0], 'GSM3180019': [1, 76, 0], 'GSM3180020': [None, 65, 0], 'GSM3180021': [1, 65, 0], 'GSM3180022': [None, 73, 1], 'GSM3180023': [1, 73, 1], 'GSM3180024': [None, 55, 1], 'GSM3180025': [1, 55, 1], 'GSM3180026': [None, 69, 0], 'GSM3180027': [1, 69, 0], 'GSM3180028': [None, 72, 1], 'GSM3180029': [1, 72, 1], 'GSM3180030': [None, 50, 0], 'GSM3180031': [1, 50, 0], 'GSM3180032': [None, 39, 0], 'GSM3180033': [1, 39, 0], 'GSM3180034': [0, 61, 0], 'GSM3180035': [None, 61, 0], 'GSM3180036': [1, 61, 0], 'GSM3180037': [None, 50, 1], 'GSM3180038': [1, 50, 1], 'GSM3180039': [None, 31, 1], 'GSM3180040': [1, 31, 1], 'GSM3180041': [0, 75, 1], 'GSM3180042': [1, 75, 1], 'GSM3180043': [None, 74, 1], 'GSM3180044': [1, 74, 1], 'GSM3180045': [None, 71, 0], 'GSM3180046': [1, 71, 0], 'GSM3180047': [None, 47, 0], 'GSM3180048': [1, 47, 0], 'GSM3180049': [None, 55, 1], 'GSM3180050': [1, 55, 1], 'GSM3180051': [None, 73, 1]}\n"
     ]
    }
   ],
   "source": [
    "is_gene_available = False\n",
    "trait_row = age_row = gender_row = None  # set to different values when applicable\n",
    "convert_trait = convert_age = convert_gender = None  # define the functions when applicable\n",
    "\n",
    "# 1. Gene Expression Data Availability\n",
    "is_gene_available = False  # Correct based on dataset content\n",
    "\n",
    "# 2.1 Data Availability\n",
    "\n",
    "# Exploring possible inferences for the Colon_and_Rectal_Cancer trait based on tissue types\n",
    "if any(['tissue: Carcinoma' in values or 'tissue: Adenoma' in values for values in sample_characteristics_dict.values()]):\n",
    "    trait_row = 2\n",
    "else:\n",
    "    trait_row = None\n",
    "\n",
    "# Age proper availability identified as key 3 with 'age_at_diagnosis'\n",
    "age_row = 3  \n",
    "\n",
    "# Gender proper availability identified as key 4 with 'Sex'\n",
    "gender_row = 4  \n",
    "\n",
    "# 2.3 Data Type Conversion\n",
    "\n",
    "# Convert trait (presence of cancer or not, Infer Carcinoma is '1', others '0')\n",
    "def convert_trait(value):\n",
    "    tissue_type = value.split(': ')[1].lower()\n",
    "    return 1 if 'carcinoma' in tissue_type else 0 if 'adenoma' in tissue_type else None\n",
    "\n",
    "# Convert age to continuous value\n",
    "def convert_age(value):\n",
    "    try:\n",
    "        return int(value.split(': ')[1][:-1])  # Extracts the number before 'y'\n",
    "    except:\n",
    "        return None\n",
    "\n",
    "# Convert gender to binary (0 for female, 1 for male)\n",
    "def convert_gender(value):\n",
    "    gender_str = value.split(': ')[1]\n",
    "    return 1 if gender_str.lower() == 'male' else 0 if gender_str.lower() == 'female' else None\n",
    "\n",
    "# 3. Save Metadata\n",
    "save_cohort_info('GSE115513', './preprocessed/Colon_and_Rectal_Cancer/cohort_info.json', is_gene_available, trait_row is not None)\n",
    "\n",
    "# 4. Clinical Feature Extraction\n",
    "if trait_row is not None:\n",
    "    selected_clinical_data = geo_select_clinical_features(clinical_data, 'Colon_and_Rectal_Cancer', trait_row, convert_trait, age_row, convert_age, gender_row, convert_gender)\n",
    "    csv_path = './preprocessed/Colon_and_Rectal_Cancer/trait_data/GSE115513.csv'\n",
    "    selected_clinical_data.to_csv(csv_path)\n",
    "    print(preview_df(selected_clinical_data))\n"
   ]
  }
 ],
 "metadata": {
  "language_info": {
   "codemirror_mode": {
    "name": "ipython",
    "version": 3
   },
   "file_extension": ".py",
   "mimetype": "text/x-python",
   "name": "python",
   "nbconvert_exporter": "python",
   "pygments_lexer": "ipython3",
   "version": "3.8.17"
  }
 },
 "nbformat": 4,
 "nbformat_minor": 5
}
