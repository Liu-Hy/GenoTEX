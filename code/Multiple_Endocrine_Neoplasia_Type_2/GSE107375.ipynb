{
 "cells": [
  {
   "cell_type": "code",
   "execution_count": 1,
   "id": "847cb684",
   "metadata": {
    "execution": {
     "iopub.execute_input": "2024-06-12T10:24:13.735829Z",
     "iopub.status.busy": "2024-06-12T10:24:13.735725Z",
     "iopub.status.idle": "2024-06-12T10:24:13.739578Z",
     "shell.execute_reply": "2024-06-12T10:24:13.739301Z"
    }
   },
   "outputs": [],
   "source": [
    "\n",
    "import sys\n",
    "sys.path.append('/home/techt/Desktop/a4s')\n"
   ]
  },
  {
   "cell_type": "markdown",
   "id": "efd5ea8d",
   "metadata": {},
   "source": [
    "### Step 1: Initial Data Loading"
   ]
  },
  {
   "cell_type": "code",
   "execution_count": 2,
   "id": "72fb78a1",
   "metadata": {
    "execution": {
     "iopub.execute_input": "2024-06-12T10:24:13.741725Z",
     "iopub.status.busy": "2024-06-12T10:24:13.741628Z",
     "iopub.status.idle": "2024-06-12T10:24:14.126846Z",
     "shell.execute_reply": "2024-06-12T10:24:14.126467Z"
    }
   },
   "outputs": [
    {
     "name": "stdout",
     "output_type": "stream",
     "text": [
      "Background Information:\n",
      "!Series_title\t\"High-resolution map of copy number variations in motor cortex of Control and Sporadic Amyotrphic Lateral Sclerosis patients by using a customized exon-centric comparative genomic hybridization array.\"\n",
      "!Series_summary\t\"Amyotrophic lateral sclerosis (ALS) is an incurable and fatal neurodegenerative disease. Increasing the chances of success for future clinical strategies requires more in-depth knowledge of the molecular basis underlying disease heterogeneity. We recently laid the foundation for a molecular taxonomy of ALS by whole transcriptome expression profiling of motor cortex from sporadic ALS (SALS) patients. Here, we analyzed genomic structural aberrations occurring in the same patients, by using a customized exon-centered comparative genomic hybridization array (aCGH) covering a large panel of ALS-related genes. Integrative analysis of copy number profiles with their associated transcriptomic data revealed subtype-specific genomic perturbations and candidate driver genes positively correlated with transcriptional signatures, which might represent novel potential biomarkers and therapeutic targets. This study represents the first comprehensive “omics” analysis of molecular events characterizing SALS pathology, providing a road map to facilitate genome-guided personalized diagnosis and treatments for this devastating disease.\"\n",
      "!Series_overall_design\t\"Motor cortex samples from 30 patients with clear SALS diagnosis and 10 control individuals were analysed by using an 8x60K custom exon-centric NeuroArray platform v. 2.0 (Agilent Technologies, Santa Clara, CA), tailored to detect single/multi-exon deletions and duplications in a large panel of ALS-related genes and to others additional neurological disorders. Two experimental conditions: DNA test and a reference of the same sex (Euro Reference, Agilent Technologies, Santa Clara, CA) were processed according to the manufacturer’s protocol (Agilent Technologies, Santa Clara, CA). SALS patient DNAs were labeled with Cy5-dUTP and reference DNAs for reference DNAs. Arrays were scanned at 3 µm resolution using an Agilent G4900DA SureScan Microarray Scanner System and aCGH image data were processed using Agilent’s Feature Extraction software. Feature extracted raw data was normalized, analyzed and visualized using Agilent CytoGenomics v. 4.0.3.12 and Genomic Workbench v. 7.0.4.0 software (Agilent Technologies, Santa Clara, CA, USA). GC correction with a window size of 2 kb and Diploid Peak Centralization were used for normalization. The Centralization Normalization Algorithm with a threshold of 6.0 and a bin size of 10 was also used for detecting aberrant regions or regions of constant CNVs. Aberrations were detected by the Aberration Detection Method II algorithm (ADM-2), with a sensitivity threshold of 6.0 and moving average window of 2Mb. Human reference sequence hg19 assembly was used to define the genomic coordinates of detected CNVs.\"\n",
      "Sample Characteristics Dictionary:\n",
      "{0: ['Sex: male', 'Sex: female'], 1: ['age at death (in years): 31', 'age at death (in years): 59', 'age at death (in years): 68', 'age at death (in years): 71', 'age at death (in years): 48', 'age at death (in years): 58', 'age at death (in years): 60', 'age at death (in years): 44', 'age at death (in years): 73', 'age at death (in years): 39', 'age at death (in years): 67', 'age at death (in years): 41', 'age at death (in years): 65', 'age at death (in years): 43', 'age at death (in years): 54', 'age at death (in years): 38', 'age at death (in years): 45', 'age at death (in years): 46', 'age at death (in years): 51', 'age at death (in years): 69', 'age at death (in years): 61', 'age at death (in years): 40', 'age at death (in years): 63', 'age at death (in years): 70', 'age at death (in years): 64', 'age at death (in years): 55'], 2: ['disease state: Control', 'disease state: Sporadic Amyotrophic Lateral Sclerosis'], 3: ['survival characteristics: n/a', 'survival characteristics: long term survival more than 6 yrs', 'survival characteristics: medium term survival up to 6 yrs', 'survival characteristics: short term survival up to 24 months'], 4: ['survival time from date of onset (months): n/a', 'survival time from date of onset (months): 90', 'survival time from date of onset (months): 96', 'survival time from date of onset (months): 38', 'survival time from date of onset (months): 30', 'survival time from date of onset (months): 27', 'survival time from date of onset (months): 31', 'survival time from date of onset (months): 42', 'survival time from date of onset (months): 52', 'survival time from date of onset (months): 49', 'survival time from date of onset (months): 60', 'survival time from date of onset (months): 20', 'survival time from date of onset (months): 18', 'survival time from date of onset (months): 22', 'survival time from date of onset (months): 11', 'survival time from date of onset (months): 130', 'survival time from date of onset (months): 72', 'survival time from date of onset (months): 43', 'survival time from date of onset (months): 29', 'survival time from date of onset (months): 71', 'survival time from date of onset (months): 48', 'survival time from date of onset (months): 23', 'survival time from date of onset (months): 13'], 5: ['post-mortem interval in hours: 8', 'post-mortem interval in hours: 7', 'post-mortem interval in hours: 9', 'post-mortem interval in hours: 4', 'post-mortem interval in hours: 6.5', 'post-mortem interval in hours: 10', 'post-mortem interval in hours: 6', 'post-mortem interval in hours: 3', 'post-mortem interval in hours: 5', 'post-mortem interval in hours: 7.5', 'post-mortem interval in hours: 5.3'], 6: ['race: caucasian'], 7: ['location of onset: n/a', 'location of onset: arm onset', 'location of onset: trunk onset', 'location of onset: leg onset'], 8: ['occupation (job): n/a', 'occupation (job): technical architecture head civil servant', 'occupation (job): Employed in bike club as secretary. Sportive type, cycled 150 km a day up unill 1994.', 'occupation (job): Employed in agricultural machinery factory. Sportive type. Suffered a severe fall on her buttocks while skating on ice.', 'occupation (job): Administrator in gardening company, sportive man, Up until 1975 lived with his parents in gardening company and came into contact with different pesticides', 'occupation (job): Head constable of the policeforce in Haarlem', 'occupation (job): Plummer, intensive contact with copper and PVC-glue', \"occupation (job): housewife and nurse in old people's nursing home untill 1987\", 'occupation (job): employed in management with stressful job (self report)', 'occupation (job): employed in administration in woodfactory and in past worked as barman', 'occupation (job): Ex-metal- bank employee', 'occupation (job): computer operator, worked also with chemical substances', 'occupation (job): employed in administration', 'occupation (job): housewife', 'occupation (job): housewife, previously worked in a taylorshop, wife of painter,/decorator', 'occupation (job): In the past contact with lead damps, and dental protheses with 9 amalgam fillings', 'occupation (job): occupation not known, however patient had been exposed to toxic substances', 'occupation (job): Assistent export manager in office product supplies. At the age of 16 suffered a heavy blow on his head'], 9: ['smoker or non smoker: n/a', 'smoker or non smoker: non smoker', 'smoker or non smoker: smoker'], 10: ['alchool use or not: n/a', 'alchool use or not: moderate use of alcohol ( 2/d men, 1/d women, elderly)', 'alchool use or not: abstinent', 'alchool use or not: more than moderate (3 /d men, 2/d women, elderly)', 'alchool use or not: abuse of acohol'], 11: ['other pathologies: n/a', 'other pathologies: (1989) Anamnesis of Chronic aspecific respiratory disease, hypertsension and adipositas. Uncinate fits (temporal epilepsy). In 1988 Salmonella typhimu', 'other pathologies: Suffered atopic eczema as a child (age 2 yrs). 1969 pneumonia. Chronic aspecific respiratory disease', 'other pathologies: diverticulosis since 2nd WW. Benign mammay cyst. Uterus myoma. Melanoma right leg', 'other pathologies: Back pain underwent a laminectomy (L4-L5).As a child also suffered kidney disease during a cold. Bad acn?, rontgen treatment of torax and face. In 1990 facial and bottom cheak infection', 'other pathologies: A lot of stress due to loss of family members/ friends and difficult contact with eldest son', 'other pathologies: period of alcohol abuse as well as depression period in the past. Suffered stomach ache', 'other pathologies: recidive sinusitis, suffered frequent colds', 'other pathologies: Begin 1990,hallucinations with signs of daementia, change in personality, planning capacity and disorienation. 1990 diagnosis:schizofrenia simplex with loss of intelligence and frontal, cortical atrophy', 'other pathologies: Had bronchitis untill 1945, had a period of hypertension during the use of the pill', \"other pathologies: Raynaud's attacks\", 'other pathologies: transposition of n. ulnaris (1988)/in the past suffered some epileptic attacks/ spondylarthrosis deform. C4-C6', 'other pathologies: Suffered a heart attack after which he had probmlems of communication. August 1989 operated intestinal carcinoma (stoma was closed in november 1989)', 'other pathologies: Colic pains left side of abdomen, had previously been operated 13 times for similar problem. Suffered hypertension', 'other pathologies: psoriasis. Motor and car-accident', 'other pathologies: Stressful experiences in her life, such as traumatic birth of her son.', 'other pathologies: In the past frequent migrain headaches.Osteopenia and hypercholesterolemy. Trismus.', 'other pathologies: Injured nose (with nosebleeds), due to violent ex-partner. Very stressed due to personal situation, divorce. Previous womb operation.', 'other pathologies: Known with hypertension', 'other pathologies: Adipositas, diabetes mellitus, arthrosis. Amamnesis: womb operaion, and knees and ankles due to arthrosis', 'other pathologies: Possible leasion of periferic and central motoric neuron at the spinal level. Known with hypertension', 'other pathologies: known with hypertension since 1960. Hypercholesterolemia and ECG with signs of anteroseptal infarct.', 'other pathologies: malaria since 1991 (New-Guinea). Sincs 1990 diabetes type II. 1986 cholecystectomie, 1987 period with hypertension', 'other pathologies: In 1976 operated for aneurysma. Post-operational abducensparesis. in 1981 dogbite upperlip. 1983 angina complaints'], 12: ['therapy used: n/a', 'therapy used: Hypertension medication (tagamet, inhibin, trasolan, isoptin). Participated in the Acetyl cyst. trial', 'therapy used: rilutek', 'therapy used: Participated in the n-acetylcysteine trial', 'therapy used: Salazopyrin when needed', 'therapy used: In 1990 infections treated with different antibiotics and a mushroom extract. Vit B injections', 'therapy used: Vitamin B, Tryptizol, Prednison/Lactulose, Normison and lactulose when needed', 'therapy used: theolair retard, temesta, lactulose, codeine, zantac, regla, tranxene, euphiline, morfine hcl', 'therapy used: Participated in the n-acetylcysteine trial. Further medication Normison and Laxantia.', 'therapy used: rilutek, vit E, Oxazepam, amitriptyline-chloride, acetyl cyst.', 'therapy used: Acetyl cyst.', 'therapy used: Carbamazepine divitabs, sinaspril, clonazepam, importal, microlax', 'therapy used: Rilutek, cream for psoriasis', 'therapy used: vit-B complex, vitamine C', 'therapy used: Trismus treated with botox injections and irradiation of parotids for excessive saliva', 'therapy used: Participated in the n-acetylcysteine trial. Amytriptiline, Scopoderm plasters, Oxygen', 'therapy used: Participated in the n-acetylcysteine trial. Ozazepap when needed', 'therapy used: Renitec (hypertension). participated in the n-acetylcysteine trial', 'therapy used: Tolbutamide, magnesiumsulfate (for cramps), Rilutec, Fluimicil, etc', 'therapy used: Selokeen, vit C, vit E, Coenzyme q10, vitamax, vit. B complex, superoxyde dismutase.', 'therapy used: Participated in the Acetyl cyst. trial', 'therapy used: antidiabetics, Rastinon, glucophage', 'therapy used: Legendal, Tryptizol'], 13: ['vaccination boost: n/a', 'vaccination boost: polio vaccine (1992)'], 14: ['familial anamnesis: n/a', 'familial anamnesis: Father died of heart attack.', 'familial anamnesis: A son with asthma bronchiale. Brother with back problems.', \"familial anamnesis: Several cases of Alzheimer in his mother's family\", 'familial anamnesis: A sister of her mother had MS and died after an ilness period of 10 years at the age of 68', 'familial anamnesis: father died in 1987 of brain tumor and had spinal cord tumors and intestine polyps', 'familial anamnesis: brother MS, daughter handicapped', \"familial anamnesis: Husband died in 13-03-1986 in Switserland of ALS. A nephew of mother's side was paralyzed\", 'familial anamnesis: Mother died of cancer', 'familial anamnesis: sister with morbus Reckinhhausen', 'familial anamnesis: Mother died of cancer, father of consequences tentamen suicidii', 'familial anamnesis: father died at the age of 49 of hart disease and mother suffered of hypertension']}\n"
     ]
    }
   ],
   "source": [
    "from utils.preprocess import *\n",
    "# 1. Identify the paths to the soft file and the matrix file\n",
    "cohort_dir = '/media/techt/DATA/GEO/Multiple_Endocrine_Neoplasia_Type_2/GSE107375'\n",
    "soft_file, matrix_file = geo_get_relevant_filepaths(cohort_dir)\n",
    "\n",
    "# 2. Read the matrix file to obtain background information and sample characteristics data\n",
    "background_prefixes = ['!Series_title', '!Series_summary', '!Series_overall_design']\n",
    "clinical_prefixes = ['!Sample_geo_accession', '!Sample_characteristics_ch1']\n",
    "background_info, clinical_data = get_background_and_clinical_data(matrix_file, background_prefixes, clinical_prefixes)\n",
    "\n",
    "# 3. Obtain the sample characteristics dictionary from the clinical dataframe\n",
    "sample_characteristics_dict = get_unique_values_by_row(clinical_data)\n",
    "\n",
    "# 4. Explicitly print out all the background information and the sample characteristics dictionary\n",
    "print(\"Background Information:\")\n",
    "print(background_info)\n",
    "print(\"Sample Characteristics Dictionary:\")\n",
    "print(sample_characteristics_dict)\n"
   ]
  },
  {
   "cell_type": "markdown",
   "id": "e4d92f89",
   "metadata": {},
   "source": [
    "### Step 2: Dataset Analysis and Clinical Feature Extraction"
   ]
  },
  {
   "cell_type": "code",
   "execution_count": 3,
   "id": "d66bbfc8",
   "metadata": {
    "execution": {
     "iopub.execute_input": "2024-06-12T10:24:14.129082Z",
     "iopub.status.busy": "2024-06-12T10:24:14.128971Z",
     "iopub.status.idle": "2024-06-12T10:24:14.134039Z",
     "shell.execute_reply": "2024-06-12T10:24:14.133754Z"
    }
   },
   "outputs": [],
   "source": [
    "is_gene_available = False\n",
    "trait_row = age_row = gender_row = None  # set to different values when applicable\n",
    "convert_trait = convert_age = convert_gender = None  # define the functions when applicable\n",
    "\n",
    "# Step 1: Checking for gene expression data availability\n",
    "background_info = \"\"\"\n",
    "High-resolution map of copy number variations in motor cortex of Control and Sporadic Amyotrphic Lateral Sclerosis patients by using a customized exon-centric comparative genomic hybridization array.\n",
    "\"\"\"\n",
    "if \"gene expression\" in background_info.lower() or \"transcriptome\" in background_info.lower():\n",
    "    is_gene_available = True\n",
    "else:\n",
    "    is_gene_available = False\n",
    "\n",
    "# Check for availability of trait, age, and gender data\n",
    "sample_characteristics = {\n",
    "    0: ['Sex: male', 'Sex: female'],\n",
    "    1: ['age at death (in years): 31', 'age at death (in years): 59', 'age at death (in years): 68', 'age at death (in years): 71',\n",
    "        'age at death (in years): 48', 'age at death (in years): 58', 'age at death (in years): 60', 'age at death (in years): 44',\n",
    "        'age at death (in years): 73', 'age at death (in years): 39', 'age at death (in years): 67', 'age at death (in years): 41',\n",
    "        'age at death (in years): 65', 'age at death (in years): 43', 'age at death (in years): 54', 'age at death (in years): 38',\n",
    "        'age at death (in years): 45', 'age at death (in years): 46', 'age at death (in years): 51', 'age at death (in years): 69',\n",
    "        'age at death (in years): 61', 'age at death (in years): 40', 'age at death (in years): 63', 'age at death (in years): 70',\n",
    "        'age at death (in years): 64', 'age at death (in years): 55'],\n",
    "    2: ['disease state: Control', 'disease state: Sporadic Amyotrophic Lateral Sclerosis']\n",
    "}\n",
    "\n",
    "# 'Multiple_Endocrine_Neoplasia_Type_2' data is not available in this dataset\n",
    "trait_row = None\n",
    "\n",
    "# Check for age data\n",
    "age_keys = sample_characteristics[1] if len(sample_characteristics[1]) > 1 else None\n",
    "if age_keys:\n",
    "    age_row = 1\n",
    "\n",
    "# Check for gender data\n",
    "gender_keys = sample_characteristics[0] if len(sample_characteristics[0]) > 1 else None\n",
    "if gender_keys:\n",
    "    gender_row = 0\n",
    "\n",
    "# Data type conversion\n",
    "def convert_trait(value):\n",
    "    return None  # No trait data available\n",
    "\n",
    "def convert_age(value):\n",
    "    try:\n",
    "        return float(value.split(': ')[1])\n",
    "    except:\n",
    "        return None\n",
    "\n",
    "def convert_gender(value):\n",
    "    gender = value.split(': ')[1].lower()\n",
    "    if gender == 'male':\n",
    "        return 1\n",
    "    elif gender == 'female':\n",
    "        return 0\n",
    "    else:\n",
    "        return None\n",
    "\n",
    "# Save cohort information\n",
    "save_cohort_info('GSE107375', './preprocessed/Multiple_Endocrine_Neoplasia_Type_2/cohort_info.json', is_gene_available, trait_row is not None)\n",
    "\n",
    "# Clinical feature extraction, skipped because trait_row is None\n"
   ]
  }
 ],
 "metadata": {
  "language_info": {
   "codemirror_mode": {
    "name": "ipython",
    "version": 3
   },
   "file_extension": ".py",
   "mimetype": "text/x-python",
   "name": "python",
   "nbconvert_exporter": "python",
   "pygments_lexer": "ipython3",
   "version": "3.8.17"
  }
 },
 "nbformat": 4,
 "nbformat_minor": 5
}
