{
 "cells": [
  {
   "cell_type": "markdown",
   "id": "82c8292f",
   "metadata": {},
   "source": [
    "### Step 1: Initial Data Loading"
   ]
  },
  {
   "cell_type": "code",
   "execution_count": null,
   "id": "6533e161",
   "metadata": {},
   "outputs": [],
   "source": [
    "from utils.preprocess import *\n",
    "# 1. Identify the paths to the soft file and the matrix file\n",
    "cohort_dir = '/media/techt/DATA/GEO/Atrial_Fibrillation/GSE143924'\n",
    "soft_file, matrix_file = geo_get_relevant_filepaths(cohort_dir)\n",
    "\n",
    "# 2. Read the matrix file to obtain background information and sample characteristics data\n",
    "background_prefixes = ['!Series_title', '!Series_summary', '!Series_overall_design']\n",
    "clinical_prefixes = ['!Sample_geo_accession', '!Sample_characteristics_ch1']\n",
    "background_info, clinical_data = get_background_and_clinical_data(matrix_file, background_prefixes, clinical_prefixes)\n",
    "\n",
    "# 3. Obtain the sample characteristics dictionary from the clinical dataframe\n",
    "sample_characteristics_dict = get_unique_values_by_row(clinical_data)\n",
    "\n",
    "# 4. Explicitly print out all the background information and the sample characteristics dictionary\n",
    "print(\"Background Information:\")\n",
    "print(background_info)\n",
    "print(\"Sample Characteristics Dictionary:\")\n",
    "print(sample_characteristics_dict)\n"
   ]
  },
  {
   "cell_type": "markdown",
   "id": "352151ae",
   "metadata": {},
   "source": [
    "### Step 2: Dataset Analysis and Clinical Feature Extraction"
   ]
  },
  {
   "cell_type": "code",
   "execution_count": null,
   "id": "1b46a247",
   "metadata": {},
   "outputs": [],
   "source": [
    "is_gene_available = True\n",
    "trait_row = age_row = gender_row = None  # set to different values when applicable\n",
    "convert_trait = convert_age = convert_gender = None  # define the functions when applicable\n",
    "\n",
    "# Define keys for sample characteristics dictionary\n",
    "sample_char_dict_key_1 = 1  # Assuming 1 as it's the index containing 'Atrial_Fibrillation'\n",
    "\n",
    "# Identify the row containing the 'Atrial_Fibrillation' information\n",
    "if 'patient diagnosis: sinus rhythm after surgery' in clinical_data[sample_char_dict_key_1] or 'patient diagnosis: postoperative atrial fibrillation after surgery (POAF)' in clinical_data[sample_char_dict_key_1]:\n",
    "    trait_row = sample_char_dict_key_1\n",
    "\n",
    "# Dummy functions for age and gender variables as they are unavailable\n",
    "def convert_age(value):\n",
    "    return None\n",
    "\n",
    "def convert_gender(value):\n",
    "    return None\n",
    "\n",
    "# Define the conversion function for 'Atrial_Fibrillation'\n",
    "def convert_trait(value):\n",
    "    try:\n",
    "        value = value.split(':')[-1].strip()  # Extract the value after the colon and strip spaces\n",
    "        if value == 'sinus rhythm after surgery':\n",
    "            return 0\n",
    "        elif value == 'postoperative atrial fibrillation after surgery (POAF)':\n",
    "            return 1\n",
    "        else:\n",
    "            return None\n",
    "    except Exception:\n",
    "        return None\n",
    "\n",
    "# Save metadata\n",
    "save_cohort_info('GSE143924', './preprocessed/Atrial_Fibrillation/cohort_info.json', is_gene_available, trait_row is not None)\n",
    "\n",
    "# Clinical feature extraction\n",
    "if trait_row is not None:\n",
    "    selected_clinical_data = geo_select_clinical_features(clinical_data, 'Atrial_Fibrillation', trait_row, convert_trait, age_row, convert_age, gender_row, convert_gender)\n",
    "    csv_path = './preprocessed/Atrial_Fibrillation/trait_data/GSE143924.csv'\n",
    "    selected_clinical_data.to_csv(csv_path)\n",
    "    print(preview_df(selected_clinical_data))\n"
   ]
  }
 ],
 "metadata": {},
 "nbformat": 4,
 "nbformat_minor": 5
}
