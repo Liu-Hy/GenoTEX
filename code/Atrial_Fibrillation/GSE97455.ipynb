{
 "cells": [
  {
   "cell_type": "code",
   "execution_count": 1,
   "id": "98f82e75",
   "metadata": {
    "execution": {
     "iopub.execute_input": "2024-06-12T10:01:46.243221Z",
     "iopub.status.busy": "2024-06-12T10:01:46.243118Z",
     "iopub.status.idle": "2024-06-12T10:01:46.247629Z",
     "shell.execute_reply": "2024-06-12T10:01:46.247154Z"
    }
   },
   "outputs": [],
   "source": [
    "\n",
    "import sys\n",
    "sys.path.append('/home/techt/Desktop/a4s')\n"
   ]
  },
  {
   "cell_type": "markdown",
   "id": "a82fbbc8",
   "metadata": {},
   "source": [
    "### Step 1: Initial Data Loading"
   ]
  },
  {
   "cell_type": "code",
   "execution_count": 2,
   "id": "ba45fb14",
   "metadata": {
    "execution": {
     "iopub.execute_input": "2024-06-12T10:01:46.250051Z",
     "iopub.status.busy": "2024-06-12T10:01:46.249679Z",
     "iopub.status.idle": "2024-06-12T10:01:46.520763Z",
     "shell.execute_reply": "2024-06-12T10:01:46.519942Z"
    }
   },
   "outputs": [
    {
     "name": "stdout",
     "output_type": "stream",
     "text": [
      "Background Information:\n",
      "!Series_title\t\"Plasma Circular RNAs, Hsa_circRNA_025016, Predicts Postoperative Atrial Fibrillation After Isolated Off-Pump Coronary Artery Bypass Grafting\"\n",
      "!Series_summary\t\"Rationale: Circular RNAs are pervasively expressed in highly diverged eukaryotes. Circular RNAs are more stable in body fluids, however, the link between circular RNA and onset of atrial fibrillation has never been investigated.\"\n",
      "!Series_summary\t\"\"\n",
      "!Series_summary\t\"Objective: To identify plasma circular RNAs for diagnosing onset of atrial fibrillation after the cardiac surgery.\"\n",
      "!Series_summary\t\"\"\n",
      "!Series_summary\t\"Methods and Results: Plasma circular RNAs expression was investigated in participants underwent isolated off-pump coronary artery bypass grafting. First, we used microarray to screen 15 circular RNAs in 30 plasma samples for diagnosing new onset of atrial fibrillation. Quantitative polymerase chain reaction assay was then applied to evaluate the expression of selected circular RNAs. Hsa_circRNA_025016 was upregulated in patients with onset of atrial fibrillation, with a high diagnostic accuracy by area under the receiver operating characteristic curve. The satisfactory diagnostic performance of hsa_circRNA_025016 persisted in validation cohort. Kyoto Encyclopedia of Genes and Genomes biological pathway analysis indicated that hsa_circ_025016 could participate in melanogenesis, insulin secretion, and thyroid hormone signaling pathway. There was a positive correlation between hsa_circ_025016 and fast blood glucose in both cohorts.\"\n",
      "!Series_summary\t\"\"\n",
      "!Series_summary\t\"Conclusions: Hsa_circ_025016 is a novel biomarker of onset of atrial fibrillation after isolated off-pump coronary artery bypass grafting.\"\n",
      "!Series_overall_design\t\"Plasma Circular RNAs before surgery were collected. Plasma of patients with postoperative atrial fibrilltion and Patients without postoperative atrial fibrilltion were detected the expression of circular RNAs.\"\n",
      "Sample Characteristics Dictionary:\n",
      "{0: ['subject status: patients without postoperative atrial fibrilltion (no-PoAF)', 'subject status: patients with postoperative atrial fibrilltion (PoAF)'], 1: ['gender: male', 'gender: female'], 2: ['tissue: plasma'], 3: ['molecule subtype: circular RNA']}\n"
     ]
    }
   ],
   "source": [
    "from utils.preprocess import *\n",
    "# 1. Identify the paths to the soft file and the matrix file\n",
    "cohort_dir = '/media/techt/DATA/GEO/Atrial_Fibrillation/GSE97455'\n",
    "soft_file, matrix_file = geo_get_relevant_filepaths(cohort_dir)\n",
    "\n",
    "# 2. Read the matrix file to obtain background information and sample characteristics data\n",
    "background_prefixes = ['!Series_title', '!Series_summary', '!Series_overall_design']\n",
    "clinical_prefixes = ['!Sample_geo_accession', '!Sample_characteristics_ch1']\n",
    "background_info, clinical_data = get_background_and_clinical_data(matrix_file, background_prefixes, clinical_prefixes)\n",
    "\n",
    "# 3. Obtain the sample characteristics dictionary from the clinical dataframe\n",
    "sample_characteristics_dict = get_unique_values_by_row(clinical_data)\n",
    "\n",
    "# 4. Explicitly print out all the background information and the sample characteristics dictionary\n",
    "print(\"Background Information:\")\n",
    "print(background_info)\n",
    "print(\"Sample Characteristics Dictionary:\")\n",
    "print(sample_characteristics_dict)\n"
   ]
  },
  {
   "cell_type": "markdown",
   "id": "c21972d7",
   "metadata": {},
   "source": [
    "### Step 2: Dataset Analysis and Clinical Feature Extraction"
   ]
  },
  {
   "cell_type": "code",
   "execution_count": 3,
   "id": "ef0d9569",
   "metadata": {
    "execution": {
     "iopub.execute_input": "2024-06-12T10:01:46.522788Z",
     "iopub.status.busy": "2024-06-12T10:01:46.522666Z",
     "iopub.status.idle": "2024-06-12T10:01:46.533247Z",
     "shell.execute_reply": "2024-06-12T10:01:46.532766Z"
    }
   },
   "outputs": [
    {
     "name": "stdout",
     "output_type": "stream",
     "text": [
      "{'GSM2564863': [0, 1], 'GSM2564864': [0, 1], 'GSM2564865': [0, 1], 'GSM2564866': [0, 1], 'GSM2564867': [0, 1], 'GSM2564868': [0, 0], 'GSM2564869': [0, 1], 'GSM2564870': [0, 0], 'GSM2564871': [0, 1], 'GSM2564872': [0, 0], 'GSM2564873': [0, 1], 'GSM2564874': [0, 1], 'GSM2564875': [0, 1], 'GSM2564876': [0, 0], 'GSM2564877': [0, 1], 'GSM2564878': [1, 1], 'GSM2564879': [1, 0], 'GSM2564880': [1, 1], 'GSM2564881': [1, 0], 'GSM2564882': [1, 1], 'GSM2564883': [1, 1], 'GSM2564884': [1, 1], 'GSM2564885': [1, 1], 'GSM2564886': [1, 1], 'GSM2564887': [1, 1], 'GSM2564888': [1, 1], 'GSM2564889': [1, 1], 'GSM2564890': [1, 0], 'GSM2564891': [1, 1], 'GSM2564892': [1, 0]}\n"
     ]
    }
   ],
   "source": [
    "is_gene_available = False\n",
    "trait_row = age_row = gender_row = None  # set to different values when applicable\n",
    "convert_trait = convert_age = convert_gender = None  # define the functions when applicable\n",
    "\n",
    "# Define sample_characteristics\n",
    "sample_characteristics = {\n",
    "    0: ['subject status: patients without postoperative atrial fibrilltion (no-PoAF)', 'subject status: patients with postoperative atrial fibrilltion (PoAF)'],\n",
    "    1: ['gender: male', 'gender: female'],\n",
    "    2: ['tissue: plasma'],\n",
    "    3: ['molecule subtype: circular RNA']\n",
    "}\n",
    "\n",
    "# Check if gene expression data is available\n",
    "if 'molecule subtype: circular RNA' in sample_characteristics[3]:\n",
    "    is_gene_available = True\n",
    "\n",
    "# Identify appropriate keys in the sample characteristics dictionary\n",
    "if 'subject status: patients without postoperative atrial fibrilltion (no-PoAF)' in sample_characteristics[0]:\n",
    "    trait_row = 0\n",
    "if 'gender: male' in sample_characteristics[1] or 'gender: female' in sample_characteristics[1]:\n",
    "    gender_row = 1\n",
    "\n",
    "# As it's not clear if age information is available, set age_row to None\n",
    "age_row = None\n",
    "\n",
    "# Define data type conversion functions\n",
    "def convert_trait(value):\n",
    "    if 'patients without postoperative atrial fibrilltion' in value.lower():\n",
    "        return 0\n",
    "    elif 'patients with postoperative atrial fibrilltion' in value.lower():\n",
    "        return 1\n",
    "    return None\n",
    "\n",
    "def convert_gender(value):\n",
    "    if 'female' in value.lower():\n",
    "        return 0\n",
    "    elif 'male' in value.lower():\n",
    "        return 1\n",
    "    return None\n",
    "\n",
    "def convert_age(value):\n",
    "    return None  # Since age data is unavailable, returning None\n",
    "\n",
    "# Save cohort information\n",
    "save_cohort_info('GSE97455', './preprocessed/Atrial_Fibrillation/cohort_info.json', is_gene_available, trait_row is not None)\n",
    "\n",
    "# Clinical feature extraction\n",
    "if trait_row is not None:\n",
    "    selected_clinical_data = geo_select_clinical_features(clinical_data, 'Atrial_Fibrillation', trait_row, convert_trait, age_row, convert_age, gender_row, convert_gender)\n",
    "    csv_path = './preprocessed/Atrial_Fibrillation/trait_data/GSE97455.csv'\n",
    "    selected_clinical_data.to_csv(csv_path)\n",
    "    print(preview_df(selected_clinical_data))\n"
   ]
  },
  {
   "cell_type": "markdown",
   "id": "d768387c",
   "metadata": {},
   "source": [
    "### Step 3: Gene Data Extraction"
   ]
  },
  {
   "cell_type": "code",
   "execution_count": 4,
   "id": "f0e153ac",
   "metadata": {
    "execution": {
     "iopub.execute_input": "2024-06-12T10:01:46.535448Z",
     "iopub.status.busy": "2024-06-12T10:01:46.535311Z",
     "iopub.status.idle": "2024-06-12T10:01:46.593922Z",
     "shell.execute_reply": "2024-06-12T10:01:46.593323Z"
    }
   },
   "outputs": [
    {
     "name": "stdout",
     "output_type": "stream",
     "text": [
      "Index(['ASCRP3000001', 'ASCRP3000002', 'ASCRP3000003', 'ASCRP3000004',\n",
      "       'ASCRP3000005', 'ASCRP3000006', 'ASCRP3000007', 'ASCRP3000008',\n",
      "       'ASCRP3000009', 'ASCRP3000010', 'ASCRP3000011', 'ASCRP3000012',\n",
      "       'ASCRP3000013', 'ASCRP3000014', 'ASCRP3000015', 'ASCRP3000016',\n",
      "       'ASCRP3000017', 'ASCRP3000018', 'ASCRP3000019', 'ASCRP3000020'],\n",
      "      dtype='object', name='ID')\n"
     ]
    }
   ],
   "source": [
    "# 1. Use the get_genetic_data function from the library to get the gene_data from the matrix_file previously defined.\n",
    "gene_data = get_genetic_data(matrix_file)\n",
    "\n",
    "# 2. Print the first 20 row ids for the following step.\n",
    "print(gene_data.index[:20])\n"
   ]
  },
  {
   "cell_type": "markdown",
   "id": "f5acee79",
   "metadata": {},
   "source": [
    "### Step 4: Gene Identifier Review"
   ]
  },
  {
   "cell_type": "code",
   "execution_count": 5,
   "id": "fbe120d9",
   "metadata": {
    "execution": {
     "iopub.execute_input": "2024-06-12T10:01:46.596201Z",
     "iopub.status.busy": "2024-06-12T10:01:46.596069Z",
     "iopub.status.idle": "2024-06-12T10:01:46.598545Z",
     "shell.execute_reply": "2024-06-12T10:01:46.598087Z"
    }
   },
   "outputs": [],
   "source": [
    "requires_gene_mapping = True\n"
   ]
  },
  {
   "cell_type": "markdown",
   "id": "7fdc3f73",
   "metadata": {},
   "source": [
    "### Step 5: Gene Annotation (Conditional)"
   ]
  },
  {
   "cell_type": "code",
   "execution_count": 6,
   "id": "bfd7f538",
   "metadata": {
    "execution": {
     "iopub.execute_input": "2024-06-12T10:01:46.600905Z",
     "iopub.status.busy": "2024-06-12T10:01:46.600774Z",
     "iopub.status.idle": "2024-06-12T10:01:47.037049Z",
     "shell.execute_reply": "2024-06-12T10:01:47.036410Z"
    }
   },
   "outputs": [
    {
     "name": "stdout",
     "output_type": "stream",
     "text": [
      "Gene annotation preview:\n",
      "{'ID': ['ASCRP3000001', 'ASCRP3000002', 'ASCRP3000003', 'ASCRP3000004', 'ASCRP3000005'], 'circRNA': ['hsa_circRNA_082501', 'hsa_circRNA_407247', 'hsa_circRNA_007418', 'hsa_circRNA_407121', 'hsa_circRNA_407087'], 'TYPE': ['circRNA', 'circRNA', 'circRNA', 'circRNA', 'circRNA'], 'BUILD': ['HG19', 'HG19', 'HG19', 'HG19', 'HG19'], 'SEQUENCE': ['AAAAAAACAACCAAAAAATGTTCAACAGCATGAGAAGGTTCAGAAAGCCAGTACAGAGGG', 'AAAAAACGAAGAAAAAGAGACACCCAGCTCACCTCCAAGTTTGCCTGCAGGAGCCGGCTC', 'AAAAAACTAGAAATGTGTTCAGAAATTAAAGGTCCACAGAAGGAGGGCCTGTCCTCCCAA', 'AAAAAAGAAGTCCTCGGATACGCTGAAACTGCAGAAGAAAGCAAAAAAAGGTGGGACCAG', 'AAAAAAGGAACAGGAAAACTACATCTCAGACCCAACTATCTTATGGAGGGCTTATCCCCA']}\n"
     ]
    }
   ],
   "source": [
    "# 1. Use the 'get_gene_annotation' function from the library to get gene annotation data from the soft file.\n",
    "gene_annotation = get_gene_annotation(soft_file)\n",
    "\n",
    "# 2. Use the 'preview_df' function from the library to preview the data and print out the results.\n",
    "print(\"Gene annotation preview:\")\n",
    "print(preview_df(gene_annotation))\n"
   ]
  },
  {
   "cell_type": "markdown",
   "id": "58339aab",
   "metadata": {},
   "source": [
    "### Step 6: Gene Identifier Mapping"
   ]
  },
  {
   "cell_type": "code",
   "execution_count": 7,
   "id": "28d45bc6",
   "metadata": {
    "execution": {
     "iopub.execute_input": "2024-06-12T10:01:47.039029Z",
     "iopub.status.busy": "2024-06-12T10:01:47.038904Z",
     "iopub.status.idle": "2024-06-12T10:01:47.695950Z",
     "shell.execute_reply": "2024-06-12T10:01:47.695313Z"
    }
   },
   "outputs": [],
   "source": [
    "# 1. Identifiers and gene symbols in the dictionary\n",
    "identifier_key = 'ID'\n",
    "gene_symbol_key = 'circRNA'\n",
    "\n",
    "# 2. Get the dataframe storing the mapping between probe IDs and genes\n",
    "gene_mapping_df = get_gene_mapping(gene_annotation, identifier_key, gene_symbol_key)\n",
    "\n",
    "# 3. Apply the mapping to convert probe IDs into gene expression data\n",
    "gene_data = apply_gene_mapping(gene_data, gene_mapping_df)\n"
   ]
  },
  {
   "cell_type": "markdown",
   "id": "55f63a3d",
   "metadata": {},
   "source": [
    "### Step 7: Data Normalization and Merging"
   ]
  },
  {
   "cell_type": "code",
   "execution_count": 8,
   "id": "a5570a91",
   "metadata": {
    "execution": {
     "iopub.execute_input": "2024-06-12T10:01:47.698404Z",
     "iopub.status.busy": "2024-06-12T10:01:47.698246Z",
     "iopub.status.idle": "2024-06-12T10:02:42.595172Z",
     "shell.execute_reply": "2024-06-12T10:02:42.594415Z"
    }
   },
   "outputs": [
    {
     "name": "stdout",
     "output_type": "stream",
     "text": [
      "No gene data in the dataframe\n"
     ]
    }
   ],
   "source": [
    "# 1. Normalize the obtained gene data with the 'normalize_gene_symbols_in_index' function from the library.\n",
    "normalized_gene_data = normalize_gene_symbols_in_index(gene_data)\n",
    "gene_csv_path = './preprocessed/Atrial_Fibrillation/gene_data/GSE97455.csv'\n",
    "normalized_gene_data.to_csv(gene_csv_path)\n",
    "\n",
    "# 2. Merge the clinical and genetic data with the 'geo_merge_clinical_genetic_data' function from the library.\n",
    "merged_data = geo_merge_clinical_genetic_data(selected_clinical_data, normalized_gene_data)\n",
    "\n",
    "# 3. Determine whether the trait and some demographic attributes in the data is severely biased, and remove biased attributes.\n",
    "trait_biased, unbiased_merged_data = judge_and_remove_biased_features(merged_data, 'Atrial_Fibrillation')\n",
    "\n",
    "# 4. Save the cohort information.\n",
    "save_cohort_info('GSE97455', './preprocessed/Atrial_Fibrillation/cohort_info.json', True, True, trait_biased, merged_data)\n",
    "\n",
    "if not trait_biased:\n",
    "    # 5. If the trait is not severely biased, save the merged data to a csv file.\n",
    "    csv_path = './preprocessed/Atrial_Fibrillation/GSE97455.csv'\n",
    "    unbiased_merged_data.to_csv(csv_path)\n"
   ]
  }
 ],
 "metadata": {
  "language_info": {
   "codemirror_mode": {
    "name": "ipython",
    "version": 3
   },
   "file_extension": ".py",
   "mimetype": "text/x-python",
   "name": "python",
   "nbconvert_exporter": "python",
   "pygments_lexer": "ipython3",
   "version": "3.8.17"
  }
 },
 "nbformat": 4,
 "nbformat_minor": 5
}
