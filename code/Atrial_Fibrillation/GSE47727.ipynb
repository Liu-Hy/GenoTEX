{
 "cells": [
  {
   "cell_type": "code",
   "execution_count": 1,
   "id": "d2b08ec6",
   "metadata": {
    "execution": {
     "iopub.execute_input": "2025-03-25T06:48:37.420697Z",
     "iopub.status.busy": "2025-03-25T06:48:37.420466Z",
     "iopub.status.idle": "2025-03-25T06:48:37.584767Z",
     "shell.execute_reply": "2025-03-25T06:48:37.584418Z"
    }
   },
   "outputs": [],
   "source": [
    "import sys\n",
    "import os\n",
    "sys.path.append(os.path.abspath(os.path.join(os.getcwd(), '../..')))\n",
    "\n",
    "# Path Configuration\n",
    "from tools.preprocess import *\n",
    "\n",
    "# Processing context\n",
    "trait = \"Atrial_Fibrillation\"\n",
    "cohort = \"GSE47727\"\n",
    "\n",
    "# Input paths\n",
    "in_trait_dir = \"../../input/GEO/Atrial_Fibrillation\"\n",
    "in_cohort_dir = \"../../input/GEO/Atrial_Fibrillation/GSE47727\"\n",
    "\n",
    "# Output paths\n",
    "out_data_file = \"../../output/preprocess/Atrial_Fibrillation/GSE47727.csv\"\n",
    "out_gene_data_file = \"../../output/preprocess/Atrial_Fibrillation/gene_data/GSE47727.csv\"\n",
    "out_clinical_data_file = \"../../output/preprocess/Atrial_Fibrillation/clinical_data/GSE47727.csv\"\n",
    "json_path = \"../../output/preprocess/Atrial_Fibrillation/cohort_info.json\"\n"
   ]
  },
  {
   "cell_type": "markdown",
   "id": "cb11b6c2",
   "metadata": {},
   "source": [
    "### Step 1: Initial Data Loading"
   ]
  },
  {
   "cell_type": "code",
   "execution_count": 2,
   "id": "58fe97fd",
   "metadata": {
    "execution": {
     "iopub.execute_input": "2025-03-25T06:48:37.586136Z",
     "iopub.status.busy": "2025-03-25T06:48:37.585992Z",
     "iopub.status.idle": "2025-03-25T06:48:37.918222Z",
     "shell.execute_reply": "2025-03-25T06:48:37.917895Z"
    }
   },
   "outputs": [
    {
     "name": "stdout",
     "output_type": "stream",
     "text": [
      "Background Information:\n",
      "!Series_title\t\"Global peripheral blood gene expression study [HumanHT-12 V3.0]\"\n",
      "!Series_summary\t\"Samples were collected from 'control participants' of the Heart and Vascular Health (HVH) study that constitutes a group of population based case control studies of myocardial infarction (MI), stroke, venous thromboembolism (VTE), and atrial fibrillation (AF) conducted among 30-79 year old members of Group Health, a large integrated health care organization in Washington State.\"\n",
      "!Series_overall_design\t\"Total RNA was isolated from peripheral collected using PAXgene tubes and gene expression was profiled using the Illumina platform.\"\n",
      "Sample Characteristics Dictionary:\n",
      "{0: ['age (yrs): 67', 'age (yrs): 54', 'age (yrs): 73', 'age (yrs): 52', 'age (yrs): 75', 'age (yrs): 59', 'age (yrs): 74', 'age (yrs): 76', 'age (yrs): 58', 'age (yrs): 60', 'age (yrs): 66', 'age (yrs): 70', 'age (yrs): 78', 'age (yrs): 77', 'age (yrs): 72', 'age (yrs): 57', 'age (yrs): 63', 'age (yrs): 62', 'age (yrs): 64', 'age (yrs): 61', 'age (yrs): 69', 'age (yrs): 68', 'age (yrs): 82', 'age (yrs): 71', 'age (yrs): 56', 'age (yrs): 53', 'age (yrs): 49', 'age (yrs): 51', 'age (yrs): 79', 'age (yrs): 80'], 1: ['gender: male', 'gender: female'], 2: ['tissue: blood']}\n"
     ]
    }
   ],
   "source": [
    "from tools.preprocess import *\n",
    "# 1. Identify the paths to the SOFT file and the matrix file\n",
    "soft_file, matrix_file = geo_get_relevant_filepaths(in_cohort_dir)\n",
    "\n",
    "# 2. Read the matrix file to obtain background information and sample characteristics data\n",
    "background_prefixes = ['!Series_title', '!Series_summary', '!Series_overall_design']\n",
    "clinical_prefixes = ['!Sample_geo_accession', '!Sample_characteristics_ch1']\n",
    "background_info, clinical_data = get_background_and_clinical_data(matrix_file, background_prefixes, clinical_prefixes)\n",
    "\n",
    "# 3. Obtain the sample characteristics dictionary from the clinical dataframe\n",
    "sample_characteristics_dict = get_unique_values_by_row(clinical_data)\n",
    "\n",
    "# 4. Explicitly print out all the background information and the sample characteristics dictionary\n",
    "print(\"Background Information:\")\n",
    "print(background_info)\n",
    "print(\"Sample Characteristics Dictionary:\")\n",
    "print(sample_characteristics_dict)\n"
   ]
  },
  {
   "cell_type": "markdown",
   "id": "c4876598",
   "metadata": {},
   "source": [
    "### Step 2: Dataset Analysis and Clinical Feature Extraction"
   ]
  },
  {
   "cell_type": "code",
   "execution_count": 3,
   "id": "a14cd897",
   "metadata": {
    "execution": {
     "iopub.execute_input": "2025-03-25T06:48:37.919360Z",
     "iopub.status.busy": "2025-03-25T06:48:37.919246Z",
     "iopub.status.idle": "2025-03-25T06:48:37.941907Z",
     "shell.execute_reply": "2025-03-25T06:48:37.941642Z"
    }
   },
   "outputs": [
    {
     "data": {
      "text/plain": [
       "False"
      ]
     },
     "execution_count": 3,
     "metadata": {},
     "output_type": "execute_result"
    }
   ],
   "source": [
    "# 1. Gene Expression Data Availability\n",
    "# From the background information, we can see gene expression was profiled using Illumina platform\n",
    "# This indicates gene expression data should be available\n",
    "is_gene_available = True\n",
    "\n",
    "# 2. Variable Availability and Data Type Conversion\n",
    "# 2.1 Data Availability\n",
    "# Looking at the sample characteristics dictionary:\n",
    "# Key 0 contains age data\n",
    "# Key 1 contains gender data\n",
    "# For trait (Atrial_Fibrillation), there doesn't seem to be direct information in the characteristics\n",
    "# From the background info, these are \"control participants\" of a study that includes AF\n",
    "# Since we don't have explicit trait data, we'll mark it as not available\n",
    "# In a proper scientific study, we should not assume trait values without clear evidence\n",
    "\n",
    "trait_row = None  # No explicit trait information in the characteristics\n",
    "age_row = 0       # Age data is available under key 0\n",
    "gender_row = 1    # Gender data is available under key 1\n",
    "\n",
    "# 2.2 Data Type Conversion\n",
    "def convert_trait(trait_str):\n",
    "    \"\"\"\n",
    "    This function won't be used since trait_row is None, \n",
    "    but we define it for completeness\n",
    "    \"\"\"\n",
    "    try:\n",
    "        if ':' in trait_str:\n",
    "            trait_value = trait_str.split(':')[1].strip().lower()\n",
    "            if 'yes' in trait_value or 'positive' in trait_value or 'true' in trait_value:\n",
    "                return 1\n",
    "            elif 'no' in trait_value or 'negative' in trait_value or 'false' in trait_value:\n",
    "                return 0\n",
    "            else:\n",
    "                return None\n",
    "        else:\n",
    "            return None\n",
    "    except:\n",
    "        return None\n",
    "\n",
    "def convert_age(age_str):\n",
    "    \"\"\"Convert age string to integer value.\"\"\"\n",
    "    try:\n",
    "        # Extract the numeric value after the colon\n",
    "        if ':' in age_str:\n",
    "            age_value = age_str.split(':')[1].strip()\n",
    "            return int(age_value)\n",
    "        else:\n",
    "            return None\n",
    "    except:\n",
    "        return None\n",
    "\n",
    "def convert_gender(gender_str):\n",
    "    \"\"\"Convert gender string to binary (0 for female, 1 for male).\"\"\"\n",
    "    try:\n",
    "        if ':' in gender_str:\n",
    "            gender_value = gender_str.split(':')[1].strip().lower()\n",
    "            if 'female' in gender_value:\n",
    "                return 0\n",
    "            elif 'male' in gender_value:\n",
    "                return 1\n",
    "            else:\n",
    "                return None\n",
    "        else:\n",
    "            return None\n",
    "    except:\n",
    "        return None\n",
    "\n",
    "# 3. Save Metadata\n",
    "# trait_row is None, so trait data is not available\n",
    "is_trait_available = False if trait_row is None else True\n",
    "\n",
    "validate_and_save_cohort_info(\n",
    "    is_final=False,\n",
    "    cohort=cohort,\n",
    "    info_path=json_path,\n",
    "    is_gene_available=is_gene_available,\n",
    "    is_trait_available=is_trait_available\n",
    ")\n",
    "\n",
    "# 4. Clinical Feature Extraction\n",
    "# Since trait_row is None, we'll skip the clinical feature extraction step\n",
    "# We would have done this if trait data was available:\n",
    "# selected_clinical_df = geo_select_clinical_features(\n",
    "#     clinical_df=clinical_data,\n",
    "#     trait=trait,\n",
    "#     trait_row=trait_row,\n",
    "#     convert_trait=convert_trait,\n",
    "#     age_row=age_row,\n",
    "#     convert_age=convert_age,\n",
    "#     gender_row=gender_row,\n",
    "#     convert_gender=convert_gender\n",
    "# )\n"
   ]
  },
  {
   "cell_type": "markdown",
   "id": "d2cbf8d9",
   "metadata": {},
   "source": [
    "### Step 3: Gene Data Extraction"
   ]
  },
  {
   "cell_type": "code",
   "execution_count": 4,
   "id": "9f680906",
   "metadata": {
    "execution": {
     "iopub.execute_input": "2025-03-25T06:48:37.942908Z",
     "iopub.status.busy": "2025-03-25T06:48:37.942806Z",
     "iopub.status.idle": "2025-03-25T06:48:38.534964Z",
     "shell.execute_reply": "2025-03-25T06:48:38.534584Z"
    }
   },
   "outputs": [
    {
     "name": "stdout",
     "output_type": "stream",
     "text": [
      "Matrix file found: ../../input/GEO/Atrial_Fibrillation/GSE47727/GSE47727_series_matrix.txt.gz\n"
     ]
    },
    {
     "name": "stdout",
     "output_type": "stream",
     "text": [
      "Gene data shape: (48803, 122)\n",
      "First 20 gene/probe identifiers:\n",
      "Index(['ILMN_1343291', 'ILMN_1343295', 'ILMN_1651199', 'ILMN_1651209',\n",
      "       'ILMN_1651210', 'ILMN_1651221', 'ILMN_1651228', 'ILMN_1651229',\n",
      "       'ILMN_1651230', 'ILMN_1651232', 'ILMN_1651235', 'ILMN_1651236',\n",
      "       'ILMN_1651237', 'ILMN_1651238', 'ILMN_1651249', 'ILMN_1651253',\n",
      "       'ILMN_1651254', 'ILMN_1651259', 'ILMN_1651260', 'ILMN_1651262'],\n",
      "      dtype='object', name='ID')\n"
     ]
    }
   ],
   "source": [
    "# 1. Get the SOFT and matrix file paths again \n",
    "soft_file, matrix_file = geo_get_relevant_filepaths(in_cohort_dir)\n",
    "print(f\"Matrix file found: {matrix_file}\")\n",
    "\n",
    "# 2. Use the get_genetic_data function from the library to get the gene_data\n",
    "try:\n",
    "    gene_data = get_genetic_data(matrix_file)\n",
    "    print(f\"Gene data shape: {gene_data.shape}\")\n",
    "    \n",
    "    # 3. Print the first 20 row IDs (gene or probe identifiers)\n",
    "    print(\"First 20 gene/probe identifiers:\")\n",
    "    print(gene_data.index[:20])\n",
    "except Exception as e:\n",
    "    print(f\"Error extracting gene data: {e}\")\n"
   ]
  },
  {
   "cell_type": "markdown",
   "id": "2bc3fb47",
   "metadata": {},
   "source": [
    "### Step 4: Gene Identifier Review"
   ]
  },
  {
   "cell_type": "code",
   "execution_count": 5,
   "id": "feeeba77",
   "metadata": {
    "execution": {
     "iopub.execute_input": "2025-03-25T06:48:38.536312Z",
     "iopub.status.busy": "2025-03-25T06:48:38.536189Z",
     "iopub.status.idle": "2025-03-25T06:48:38.538107Z",
     "shell.execute_reply": "2025-03-25T06:48:38.537813Z"
    }
   },
   "outputs": [],
   "source": [
    "# These identifiers (ILMN_xxxxxxx) are Illumina probe IDs, not human gene symbols\n",
    "# They need to be mapped to official gene symbols for standardized analysis\n",
    "# ILMN_ prefix indicates these are from an Illumina microarray platform\n",
    "\n",
    "requires_gene_mapping = True\n"
   ]
  },
  {
   "cell_type": "markdown",
   "id": "093085e2",
   "metadata": {},
   "source": [
    "### Step 5: Gene Annotation"
   ]
  },
  {
   "cell_type": "code",
   "execution_count": 6,
   "id": "66ae4729",
   "metadata": {
    "execution": {
     "iopub.execute_input": "2025-03-25T06:48:38.539311Z",
     "iopub.status.busy": "2025-03-25T06:48:38.539204Z",
     "iopub.status.idle": "2025-03-25T06:49:44.908819Z",
     "shell.execute_reply": "2025-03-25T06:49:44.908478Z"
    }
   },
   "outputs": [
    {
     "name": "stdout",
     "output_type": "stream",
     "text": [
      "\n",
      "Gene annotation preview:\n",
      "Columns in gene annotation: ['ID', 'nuID', 'Species', 'Source', 'Search_Key', 'Transcript', 'ILMN_Gene', 'Source_Reference_ID', 'RefSeq_ID', 'Unigene_ID', 'Entrez_Gene_ID', 'GI', 'Accession', 'Symbol', 'Protein_Product', 'Array_Address_Id', 'Probe_Type', 'Probe_Start', 'SEQUENCE', 'Chromosome', 'Probe_Chr_Orientation', 'Probe_Coordinates', 'Cytoband', 'Definition', 'Ontology_Component', 'Ontology_Process', 'Ontology_Function', 'Synonyms', 'Obsolete_Probe_Id', 'GB_ACC']\n",
      "{'ID': ['ILMN_1725881', 'ILMN_1910180', 'ILMN_1804174', 'ILMN_1796063', 'ILMN_1811966'], 'nuID': ['rp13_p1x6D80lNLk3c', 'NEX0oqCV8.er4HVfU4', 'KyqQynMZxJcruyylEU', 'xXl7eXuF7sbPEp.KFI', '9ckqJrioiaej9_ajeQ'], 'Species': ['Homo sapiens', 'Homo sapiens', 'Homo sapiens', 'Homo sapiens', 'Homo sapiens'], 'Source': ['RefSeq', 'Unigene', 'RefSeq', 'RefSeq', 'RefSeq'], 'Search_Key': ['ILMN_44919', 'ILMN_127219', 'ILMN_139282', 'ILMN_5006', 'ILMN_38756'], 'Transcript': ['ILMN_44919', 'ILMN_127219', 'ILMN_139282', 'ILMN_5006', 'ILMN_38756'], 'ILMN_Gene': ['LOC23117', 'HS.575038', 'FCGR2B', 'TRIM44', 'LOC653895'], 'Source_Reference_ID': ['XM_933824.1', 'Hs.575038', 'XM_938851.1', 'NM_017583.3', 'XM_936379.1'], 'RefSeq_ID': ['XM_933824.1', nan, 'XM_938851.1', 'NM_017583.3', 'XM_936379.1'], 'Unigene_ID': [nan, 'Hs.575038', nan, nan, nan], 'Entrez_Gene_ID': [23117.0, nan, 2213.0, 54765.0, 653895.0], 'GI': [89040007.0, 10437021.0, 88952550.0, 29029528.0, 89033487.0], 'Accession': ['XM_933824.1', 'AK024680', 'XM_938851.1', 'NM_017583.3', 'XM_936379.1'], 'Symbol': ['LOC23117', nan, 'FCGR2B', 'TRIM44', 'LOC653895'], 'Protein_Product': ['XP_938917.1', nan, 'XP_943944.1', 'NP_060053.2', 'XP_941472.1'], 'Array_Address_Id': [1710221.0, 5900364.0, 2480717.0, 1300239.0, 4480719.0], 'Probe_Type': ['I', 'S', 'I', 'S', 'S'], 'Probe_Start': [122.0, 1409.0, 1643.0, 2901.0, 25.0], 'SEQUENCE': ['GGCTCCTCTTTGGGCTCCTACTGGAATTTATCAGCCATCAGTGCATCTCT', 'ACACCTTCAGGAGGGAAGCCCTTATTTCTGGGTTGAACTCCCCTTCCATG', 'TAGGGGCAATAGGCTATACGCTACAGCCTAGGTGTGTAGTAGGCCACACC', 'CCTGCCTGTCTGCCTGTGACCTGTGTACGTATTACAGGCTTTAGGACCAG', 'CTAGCAGGGAGCGGTGAGGGAGAGCGGCTGGATTTCTTGCGGGATCTGCA'], 'Chromosome': ['16', nan, nan, '11', nan], 'Probe_Chr_Orientation': ['-', nan, nan, '+', nan], 'Probe_Coordinates': ['21766363-21766363:21769901-21769949', nan, nan, '35786070-35786119', nan], 'Cytoband': ['16p12.2a', nan, '1q23.3b', '11p13a', '10q11.23b'], 'Definition': ['PREDICTED: Homo sapiens KIAA0220-like protein, transcript variant 11 (LOC23117), mRNA.', 'Homo sapiens cDNA: FLJ21027 fis, clone CAE07110', 'PREDICTED: Homo sapiens Fc fragment of IgG, low affinity IIb, receptor (CD32) (FCGR2B), mRNA.', 'Homo sapiens tripartite motif-containing 44 (TRIM44), mRNA.', 'PREDICTED: Homo sapiens similar to protein geranylgeranyltransferase type I, beta subunit (LOC653895), mRNA.'], 'Ontology_Component': [nan, nan, nan, 'intracellular [goid 5622] [evidence IEA]', nan], 'Ontology_Process': [nan, nan, nan, nan, nan], 'Ontology_Function': [nan, nan, nan, 'zinc ion binding [goid 8270] [evidence IEA]; metal ion binding [goid 46872] [evidence IEA]', nan], 'Synonyms': [nan, nan, nan, 'MGC3490; MC7; HSA249128; DIPB', nan], 'Obsolete_Probe_Id': [nan, nan, nan, 'MGC3490; MC7; HSA249128; DIPB', nan], 'GB_ACC': ['XM_933824.1', 'AK024680', 'XM_938851.1', 'NM_017583.3', 'XM_936379.1']}\n",
      "\n",
      "Analyzing SPOT_ID.1 column for gene symbols:\n",
      "\n",
      "Gene data ID prefix: ILMN\n"
     ]
    },
    {
     "name": "stdout",
     "output_type": "stream",
     "text": [
      "Column 'ID' contains values matching gene data ID pattern\n"
     ]
    },
    {
     "name": "stdout",
     "output_type": "stream",
     "text": [
      "Column 'Source' contains values matching gene data ID pattern\n"
     ]
    },
    {
     "name": "stdout",
     "output_type": "stream",
     "text": [
      "Column 'Search_Key' contains values matching gene data ID pattern\n"
     ]
    },
    {
     "name": "stdout",
     "output_type": "stream",
     "text": [
      "Column 'Transcript' contains values matching gene data ID pattern\n"
     ]
    },
    {
     "name": "stdout",
     "output_type": "stream",
     "text": [
      "\n",
      "Checking for columns containing transcript or gene related terms:\n",
      "Column 'Transcript' may contain gene-related information\n",
      "Sample values: ['ILMN_44919', 'ILMN_127219', 'ILMN_139282']\n",
      "Column 'ILMN_Gene' may contain gene-related information\n",
      "Sample values: ['LOC23117', 'HS.575038', 'FCGR2B']\n",
      "Column 'Unigene_ID' may contain gene-related information\n",
      "Sample values: [nan, 'Hs.575038', nan]\n",
      "Column 'Entrez_Gene_ID' may contain gene-related information\n",
      "Sample values: [23117.0, nan, 2213.0]\n",
      "Column 'Symbol' may contain gene-related information\n",
      "Sample values: ['LOC23117', nan, 'FCGR2B']\n"
     ]
    }
   ],
   "source": [
    "# 1. Use the 'get_gene_annotation' function from the library to get gene annotation data from the SOFT file.\n",
    "gene_annotation = get_gene_annotation(soft_file)\n",
    "\n",
    "# 2. Analyze the gene annotation dataframe to identify which columns contain the gene identifiers and gene symbols\n",
    "print(\"\\nGene annotation preview:\")\n",
    "print(f\"Columns in gene annotation: {gene_annotation.columns.tolist()}\")\n",
    "print(preview_df(gene_annotation, n=5))\n",
    "\n",
    "# Check for gene information in the SPOT_ID.1 column which appears to contain gene names\n",
    "print(\"\\nAnalyzing SPOT_ID.1 column for gene symbols:\")\n",
    "if 'SPOT_ID.1' in gene_annotation.columns:\n",
    "    # Extract a few sample values\n",
    "    sample_values = gene_annotation['SPOT_ID.1'].head(3).tolist()\n",
    "    for i, value in enumerate(sample_values):\n",
    "        print(f\"Sample {i+1} excerpt: {value[:200]}...\")  # Print first 200 chars\n",
    "        # Test the extract_human_gene_symbols function on these values\n",
    "        symbols = extract_human_gene_symbols(value)\n",
    "        print(f\"  Extracted gene symbols: {symbols}\")\n",
    "\n",
    "# Try to find the probe IDs in the gene annotation\n",
    "gene_data_id_prefix = gene_data.index[0].split('_')[0]  # Get prefix of first gene ID\n",
    "print(f\"\\nGene data ID prefix: {gene_data_id_prefix}\")\n",
    "\n",
    "# Look for columns that might match the gene data IDs\n",
    "for col in gene_annotation.columns:\n",
    "    if gene_annotation[col].astype(str).str.contains(gene_data_id_prefix).any():\n",
    "        print(f\"Column '{col}' contains values matching gene data ID pattern\")\n",
    "\n",
    "# Check if there's any column that might contain transcript or gene IDs\n",
    "print(\"\\nChecking for columns containing transcript or gene related terms:\")\n",
    "for col in gene_annotation.columns:\n",
    "    if any(term in col.upper() for term in ['GENE', 'TRANSCRIPT', 'SYMBOL', 'NAME', 'DESCRIPTION']):\n",
    "        print(f\"Column '{col}' may contain gene-related information\")\n",
    "        # Show sample values\n",
    "        print(f\"Sample values: {gene_annotation[col].head(3).tolist()}\")\n"
   ]
  },
  {
   "cell_type": "markdown",
   "id": "c58ddb41",
   "metadata": {},
   "source": [
    "### Step 6: Gene Identifier Mapping"
   ]
  },
  {
   "cell_type": "code",
   "execution_count": 7,
   "id": "24908422",
   "metadata": {
    "execution": {
     "iopub.execute_input": "2025-03-25T06:49:44.910158Z",
     "iopub.status.busy": "2025-03-25T06:49:44.910034Z",
     "iopub.status.idle": "2025-03-25T06:49:45.689401Z",
     "shell.execute_reply": "2025-03-25T06:49:45.689018Z"
    }
   },
   "outputs": [
    {
     "name": "stdout",
     "output_type": "stream",
     "text": [
      "Gene mapping dataframe shape: (36157, 2)\n",
      "First few rows of the mapping dataframe:\n",
      "             ID       Gene\n",
      "0  ILMN_1725881   LOC23117\n",
      "2  ILMN_1804174     FCGR2B\n",
      "3  ILMN_1796063     TRIM44\n",
      "4  ILMN_1811966  LOC653895\n",
      "5  ILMN_1668162    DGAT2L3\n"
     ]
    },
    {
     "name": "stdout",
     "output_type": "stream",
     "text": [
      "After mapping, gene expression dataframe shape: (19120, 122)\n",
      "First few rows and columns of the gene expression dataframe:\n",
      "        GSM1298251  GSM1298252  GSM1298253  GSM1298254  GSM1298255\n",
      "Gene                                                              \n",
      "A1BG     10.825611   11.188162   11.070092   10.885305   10.925528\n",
      "A1CF     16.422848   16.182496   16.291996   16.149145   16.580949\n",
      "A26A1    11.604043   11.172493   11.428927   11.124469   11.183355\n",
      "A26B1     5.627919    5.390721    5.578582    5.532279    5.499658\n",
      "A26C1B    5.460924    5.337081    5.859981    5.559626    5.605699\n",
      "Number of unique genes after mapping: 19120\n"
     ]
    }
   ],
   "source": [
    "# 1. Identify which columns in gene_annotation contain the gene identifiers and gene symbols\n",
    "# From the previous analysis, we can see:\n",
    "# - 'ID' column contains the probe identifiers (ILMN_xxxxxx) that match the gene expression data indices\n",
    "# - 'Symbol' column contains the gene symbols we need to map to\n",
    "\n",
    "# 2. Get gene mapping dataframe with probe identifiers and gene symbols\n",
    "prob_col = 'ID'\n",
    "gene_col = 'Symbol'\n",
    "mapping_df = get_gene_mapping(gene_annotation, prob_col, gene_col)\n",
    "\n",
    "print(f\"Gene mapping dataframe shape: {mapping_df.shape}\")\n",
    "print(\"First few rows of the mapping dataframe:\")\n",
    "print(mapping_df.head())\n",
    "\n",
    "# 3. Convert probe-level measurements to gene expression values\n",
    "# Apply gene mapping to the gene expression data\n",
    "gene_data = apply_gene_mapping(gene_data, mapping_df)\n",
    "\n",
    "print(f\"After mapping, gene expression dataframe shape: {gene_data.shape}\")\n",
    "print(\"First few rows and columns of the gene expression dataframe:\")\n",
    "print(gene_data.iloc[:5, :5])\n",
    "\n",
    "# Let's check how many genes we have after mapping\n",
    "print(f\"Number of unique genes after mapping: {len(gene_data.index)}\")\n"
   ]
  },
  {
   "cell_type": "markdown",
   "id": "f3217cdd",
   "metadata": {},
   "source": [
    "### Step 7: Data Normalization and Linking"
   ]
  },
  {
   "cell_type": "code",
   "execution_count": 8,
   "id": "5bd1322c",
   "metadata": {
    "execution": {
     "iopub.execute_input": "2025-03-25T06:49:45.690744Z",
     "iopub.status.busy": "2025-03-25T06:49:45.690632Z",
     "iopub.status.idle": "2025-03-25T06:49:47.487740Z",
     "shell.execute_reply": "2025-03-25T06:49:47.487423Z"
    }
   },
   "outputs": [
    {
     "name": "stdout",
     "output_type": "stream",
     "text": [
      "Gene data shape before normalization: (19120, 122)\n",
      "Gene data shape after normalization: (18326, 122)\n"
     ]
    },
    {
     "name": "stdout",
     "output_type": "stream",
     "text": [
      "Normalized gene expression data saved to ../../output/preprocess/Atrial_Fibrillation/gene_data/GSE47727.csv\n"
     ]
    },
    {
     "name": "stdout",
     "output_type": "stream",
     "text": [
      "Original clinical data preview:\n",
      "         !Sample_geo_accession     GSM1298251     GSM1298252     GSM1298253  \\\n",
      "0  !Sample_characteristics_ch1  age (yrs): 67  age (yrs): 54  age (yrs): 73   \n",
      "1  !Sample_characteristics_ch1   gender: male   gender: male   gender: male   \n",
      "2  !Sample_characteristics_ch1  tissue: blood  tissue: blood  tissue: blood   \n",
      "\n",
      "       GSM1298254     GSM1298255     GSM1298256      GSM1298257  \\\n",
      "0   age (yrs): 52  age (yrs): 75  age (yrs): 59   age (yrs): 74   \n",
      "1  gender: female   gender: male   gender: male  gender: female   \n",
      "2   tissue: blood  tissue: blood  tissue: blood   tissue: blood   \n",
      "\n",
      "       GSM1298258      GSM1298259  ...      GSM1298363     GSM1298364  \\\n",
      "0   age (yrs): 75   age (yrs): 74  ...   age (yrs): 71  age (yrs): 73   \n",
      "1  gender: female  gender: female  ...  gender: female   gender: male   \n",
      "2   tissue: blood   tissue: blood  ...   tissue: blood  tissue: blood   \n",
      "\n",
      "      GSM1298365     GSM1298366     GSM1298367     GSM1298368     GSM1298369  \\\n",
      "0  age (yrs): 71  age (yrs): 69  age (yrs): 70  age (yrs): 63  age (yrs): 65   \n",
      "1   gender: male   gender: male   gender: male   gender: male   gender: male   \n",
      "2  tissue: blood  tissue: blood  tissue: blood  tissue: blood  tissue: blood   \n",
      "\n",
      "       GSM1298370     GSM1298371      GSM1298372  \n",
      "0   age (yrs): 64  age (yrs): 67   age (yrs): 67  \n",
      "1  gender: female   gender: male  gender: female  \n",
      "2   tissue: blood  tissue: blood   tissue: blood  \n",
      "\n",
      "[3 rows x 123 columns]\n",
      "Abnormality detected in the cohort: GSE47727. Preprocessing failed.\n",
      "Dataset is not usable for arrhythmia analysis due to lack of clinical trait data. No linked data file saved.\n"
     ]
    }
   ],
   "source": [
    "# 1. Normalize gene symbols in the gene expression data\n",
    "# Use normalize_gene_symbols_in_index to standardize gene symbols\n",
    "normalized_gene_data = normalize_gene_symbols_in_index(gene_data)\n",
    "print(f\"Gene data shape before normalization: {gene_data.shape}\")\n",
    "print(f\"Gene data shape after normalization: {normalized_gene_data.shape}\")\n",
    "\n",
    "# Save the normalized gene data to file\n",
    "os.makedirs(os.path.dirname(out_gene_data_file), exist_ok=True)\n",
    "normalized_gene_data.to_csv(out_gene_data_file)\n",
    "print(f\"Normalized gene expression data saved to {out_gene_data_file}\")\n",
    "\n",
    "# Load the actual clinical data from the matrix file that was previously obtained in Step 1\n",
    "soft_file, matrix_file = geo_get_relevant_filepaths(in_cohort_dir)\n",
    "background_info, clinical_data = get_background_and_clinical_data(matrix_file)\n",
    "\n",
    "# Get preview of clinical data to understand its structure\n",
    "print(\"Original clinical data preview:\")\n",
    "print(clinical_data.head())\n",
    "\n",
    "# 2. If we have trait data available, proceed with linking\n",
    "if trait_row is not None:\n",
    "    # Extract clinical features using the original clinical data\n",
    "    selected_clinical_df = geo_select_clinical_features(\n",
    "        clinical_df=clinical_data,\n",
    "        trait=trait,\n",
    "        trait_row=trait_row,\n",
    "        convert_trait=convert_trait,\n",
    "        age_row=age_row,\n",
    "        convert_age=convert_age,\n",
    "        gender_row=gender_row,\n",
    "        convert_gender=convert_gender\n",
    "    )\n",
    "\n",
    "    print(f\"Selected clinical data shape: {selected_clinical_df.shape}\")\n",
    "    print(\"Clinical data preview:\")\n",
    "    print(selected_clinical_df.head())\n",
    "\n",
    "    # Link the clinical and genetic data\n",
    "    linked_data = geo_link_clinical_genetic_data(selected_clinical_df, normalized_gene_data)\n",
    "    print(f\"Linked data shape before processing: {linked_data.shape}\")\n",
    "    print(\"Linked data preview (first 5 rows, 5 columns):\")\n",
    "    print(linked_data.iloc[:5, :5] if not linked_data.empty else \"Empty dataframe\")\n",
    "\n",
    "    # 3. Handle missing values\n",
    "    try:\n",
    "        linked_data = handle_missing_values(linked_data, trait)\n",
    "        print(f\"Data shape after handling missing values: {linked_data.shape}\")\n",
    "    except Exception as e:\n",
    "        print(f\"Error handling missing values: {e}\")\n",
    "        linked_data = pd.DataFrame()  # Create empty dataframe if error occurs\n",
    "\n",
    "    # 4. Check for bias in features\n",
    "    if not linked_data.empty and linked_data.shape[0] > 0:\n",
    "        is_biased, linked_data = judge_and_remove_biased_features(linked_data, trait)\n",
    "        print(f\"Data shape after removing biased features: {linked_data.shape}\")\n",
    "    else:\n",
    "        is_biased = True\n",
    "        print(\"Cannot check for bias as dataframe is empty or has no rows after missing value handling\")\n",
    "\n",
    "    # 5. Validate and save cohort information\n",
    "    note = \"\"\n",
    "    if linked_data.empty or linked_data.shape[0] == 0:\n",
    "        note = \"Dataset contains gene expression data related to atrial fibrillation after cardiac surgery, but linking clinical and genetic data failed, possibly due to mismatched sample IDs.\"\n",
    "    else:\n",
    "        note = \"Dataset contains gene expression data for atrial fibrillation after cardiac surgery, which is relevant to arrhythmia research.\"\n",
    "    \n",
    "    is_usable = validate_and_save_cohort_info(\n",
    "        is_final=True,\n",
    "        cohort=cohort,\n",
    "        info_path=json_path,\n",
    "        is_gene_available=True,\n",
    "        is_trait_available=True,\n",
    "        is_biased=is_biased,\n",
    "        df=linked_data,\n",
    "        note=note\n",
    "    )\n",
    "\n",
    "    # 6. Save the linked data if usable\n",
    "    if is_usable:\n",
    "        os.makedirs(os.path.dirname(out_data_file), exist_ok=True)\n",
    "        linked_data.to_csv(out_data_file)\n",
    "        print(f\"Linked data saved to {out_data_file}\")\n",
    "    else:\n",
    "        print(\"Dataset is not usable for analysis. No linked data file saved.\")\n",
    "else:\n",
    "    # If no trait data available, validate with trait_available=False\n",
    "    is_usable = validate_and_save_cohort_info(\n",
    "        is_final=True,\n",
    "        cohort=cohort,\n",
    "        info_path=json_path,\n",
    "        is_gene_available=True,\n",
    "        is_trait_available=False,\n",
    "        is_biased=True,  # Set to True since we can't use data without trait\n",
    "        df=pd.DataFrame(),  # Empty DataFrame\n",
    "        note=\"Dataset contains gene expression data but lacks proper clinical trait information for arrhythmia analysis.\"\n",
    "    )\n",
    "    \n",
    "    print(\"Dataset is not usable for arrhythmia analysis due to lack of clinical trait data. No linked data file saved.\")"
   ]
  }
 ],
 "metadata": {
  "language_info": {
   "codemirror_mode": {
    "name": "ipython",
    "version": 3
   },
   "file_extension": ".py",
   "mimetype": "text/x-python",
   "name": "python",
   "nbconvert_exporter": "python",
   "pygments_lexer": "ipython3",
   "version": "3.10.16"
  }
 },
 "nbformat": 4,
 "nbformat_minor": 5
}
