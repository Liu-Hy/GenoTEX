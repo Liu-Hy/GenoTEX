{
 "cells": [
  {
   "cell_type": "code",
   "execution_count": 1,
   "id": "ecff5d3e",
   "metadata": {
    "execution": {
     "iopub.execute_input": "2024-06-12T10:02:43.575961Z",
     "iopub.status.busy": "2024-06-12T10:02:43.575753Z",
     "iopub.status.idle": "2024-06-12T10:02:43.582542Z",
     "shell.execute_reply": "2024-06-12T10:02:43.582010Z"
    }
   },
   "outputs": [],
   "source": [
    "\n",
    "import sys\n",
    "sys.path.append('/home/techt/Desktop/a4s')\n"
   ]
  },
  {
   "cell_type": "markdown",
   "id": "3a930fba",
   "metadata": {},
   "source": [
    "### Step 1: Initial Data Loading"
   ]
  },
  {
   "cell_type": "code",
   "execution_count": 2,
   "id": "69f53571",
   "metadata": {
    "execution": {
     "iopub.execute_input": "2024-06-12T10:02:43.585263Z",
     "iopub.status.busy": "2024-06-12T10:02:43.584836Z",
     "iopub.status.idle": "2024-06-12T10:02:44.176813Z",
     "shell.execute_reply": "2024-06-12T10:02:44.176426Z"
    }
   },
   "outputs": [
    {
     "name": "stdout",
     "output_type": "stream",
     "text": [
      "Background Information:\n",
      "!Series_title\t\"Global peripheral blood gene expression study [HumanHT-12 V3.0]\"\n",
      "!Series_summary\t\"Samples were collected from 'control participants' of the Heart and Vascular Health (HVH) study that constitutes a group of population based case control studies of myocardial infarction (MI), stroke, venous thromboembolism (VTE), and atrial fibrillation (AF) conducted among 30-79 year old members of Group Health, a large integrated health care organization in Washington State.\"\n",
      "!Series_overall_design\t\"Total RNA was isolated from peripheral collected using PAXgene tubes and gene expression was profiled using the Illumina platform.\"\n",
      "Sample Characteristics Dictionary:\n",
      "{0: ['age (yrs): 67', 'age (yrs): 54', 'age (yrs): 73', 'age (yrs): 52', 'age (yrs): 75', 'age (yrs): 59', 'age (yrs): 74', 'age (yrs): 76', 'age (yrs): 58', 'age (yrs): 60', 'age (yrs): 66', 'age (yrs): 70', 'age (yrs): 78', 'age (yrs): 77', 'age (yrs): 72', 'age (yrs): 57', 'age (yrs): 63', 'age (yrs): 62', 'age (yrs): 64', 'age (yrs): 61', 'age (yrs): 69', 'age (yrs): 68', 'age (yrs): 82', 'age (yrs): 71', 'age (yrs): 56', 'age (yrs): 53', 'age (yrs): 49', 'age (yrs): 51', 'age (yrs): 79', 'age (yrs): 80'], 1: ['gender: male', 'gender: female'], 2: ['tissue: blood']}\n"
     ]
    }
   ],
   "source": [
    "from utils.preprocess import *\n",
    "# 1. Identify the paths to the soft file and the matrix file\n",
    "cohort_dir = '/media/techt/DATA/GEO/Atrial_Fibrillation/GSE47727'\n",
    "soft_file, matrix_file = geo_get_relevant_filepaths(cohort_dir)\n",
    "\n",
    "# 2. Read the matrix file to obtain background information and sample characteristics data\n",
    "background_prefixes = ['!Series_title', '!Series_summary', '!Series_overall_design']\n",
    "clinical_prefixes = ['!Sample_geo_accession', '!Sample_characteristics_ch1']\n",
    "background_info, clinical_data = get_background_and_clinical_data(matrix_file, background_prefixes, clinical_prefixes)\n",
    "\n",
    "# 3. Obtain the sample characteristics dictionary from the clinical dataframe\n",
    "sample_characteristics_dict = get_unique_values_by_row(clinical_data)\n",
    "\n",
    "# 4. Explicitly print out all the background information and the sample characteristics dictionary\n",
    "print(\"Background Information:\")\n",
    "print(background_info)\n",
    "print(\"Sample Characteristics Dictionary:\")\n",
    "print(sample_characteristics_dict)\n"
   ]
  },
  {
   "cell_type": "markdown",
   "id": "a5eac4a7",
   "metadata": {},
   "source": [
    "### Step 2: Dataset Analysis and Clinical Feature Extraction"
   ]
  },
  {
   "cell_type": "code",
   "execution_count": 3,
   "id": "53c1cfe1",
   "metadata": {
    "execution": {
     "iopub.execute_input": "2024-06-12T10:02:44.178605Z",
     "iopub.status.busy": "2024-06-12T10:02:44.178496Z",
     "iopub.status.idle": "2024-06-12T10:02:44.182328Z",
     "shell.execute_reply": "2024-06-12T10:02:44.182041Z"
    }
   },
   "outputs": [],
   "source": [
    "is_gene_available = False\n",
    "trait_row = age_row = gender_row = None  # set to different values when applicable\n",
    "convert_trait = convert_age = convert_gender = None  # define the functions when applicable\n",
    "\n",
    "# Determine the availability of gene expression data\n",
    "# Based on the series summary and overall design, it is likely that the dataset contains gene expression data.\n",
    "is_gene_available = True\n",
    "\n",
    "# Variables and their corresponding keys in the sample characteristics dictionary\n",
    "age_row = 0  # 'age' is available in the data under key 0\n",
    "gender_row = 1  # 'gender' is available in the data under key 1\n",
    "# 'Atrial_Fibrillation' information is not available in this dataset\n",
    "trait_row = None\n",
    "\n",
    "# Convert functions\n",
    "def convert_age(value):\n",
    "    try:\n",
    "        # Extract value after the colon and convert to integer\n",
    "        return int(value.split(':')[-1].strip())\n",
    "    except (ValueError, IndexError):\n",
    "        return None\n",
    "\n",
    "def convert_gender(value):\n",
    "    gender_map = {\"male\": 1, \"female\": 0}\n",
    "    try:\n",
    "        # Extract value after the colon and map to binary\n",
    "        gender = value.split(':')[-1].strip().lower()\n",
    "        return gender_map.get(gender, None)\n",
    "    except (AttributeError, IndexError):\n",
    "        return None\n",
    "\n",
    "# Save cohort information\n",
    "save_cohort_info('GSE47727', './preprocessed/Atrial_Fibrillation/cohort_info.json', is_gene_available, trait_row is not None)\n"
   ]
  }
 ],
 "metadata": {
  "language_info": {
   "codemirror_mode": {
    "name": "ipython",
    "version": 3
   },
   "file_extension": ".py",
   "mimetype": "text/x-python",
   "name": "python",
   "nbconvert_exporter": "python",
   "pygments_lexer": "ipython3",
   "version": "3.8.17"
  }
 },
 "nbformat": 4,
 "nbformat_minor": 5
}
