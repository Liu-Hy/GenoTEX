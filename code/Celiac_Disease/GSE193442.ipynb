{
 "cells": [
  {
   "cell_type": "code",
   "execution_count": 1,
   "id": "d6a49e77",
   "metadata": {
    "execution": {
     "iopub.execute_input": "2024-06-12T08:15:48.412928Z",
     "iopub.status.busy": "2024-06-12T08:15:48.412761Z",
     "iopub.status.idle": "2024-06-12T08:15:48.417829Z",
     "shell.execute_reply": "2024-06-12T08:15:48.417434Z"
    }
   },
   "outputs": [],
   "source": [
    "\n",
    "import sys\n",
    "sys.path.append('/home/techt/Desktop/a4s')\n"
   ]
  },
  {
   "cell_type": "markdown",
   "id": "0c1ea2f7",
   "metadata": {},
   "source": [
    "### Step 1: Initial Data Loading"
   ]
  },
  {
   "cell_type": "code",
   "execution_count": 2,
   "id": "5a6ee88e",
   "metadata": {
    "execution": {
     "iopub.execute_input": "2024-06-12T08:15:48.420094Z",
     "iopub.status.busy": "2024-06-12T08:15:48.419941Z",
     "iopub.status.idle": "2024-06-12T08:15:48.752909Z",
     "shell.execute_reply": "2024-06-12T08:15:48.752539Z"
    }
   },
   "outputs": [
    {
     "name": "stdout",
     "output_type": "stream",
     "text": [
      "Background Information:\n",
      "!Series_title\t\"Transcriptional profiling of human KIR+ CD8 T cells\"\n",
      "!Series_summary\t\"This SuperSeries is composed of the SubSeries listed below.\"\n",
      "!Series_overall_design\t\"Refer to individual Series\"\n",
      "Sample Characteristics Dictionary:\n",
      "{0: ['tissue: PBMC'], 1: ['cell type: KIR+ CD8 T']}\n"
     ]
    }
   ],
   "source": [
    "from utils.preprocess import *\n",
    "# 1. Identify the paths to the soft file and the matrix file\n",
    "cohort_dir = '/media/techt/DATA/GEO/Celiac_Disease/GSE193442'\n",
    "soft_file, matrix_file = geo_get_relevant_filepaths(cohort_dir)\n",
    "\n",
    "# 2. Read the matrix file to obtain background information and sample characteristics data\n",
    "background_prefixes = ['!Series_title', '!Series_summary', '!Series_overall_design']\n",
    "clinical_prefixes = ['!Sample_geo_accession', '!Sample_characteristics_ch1']\n",
    "background_info, clinical_data = get_background_and_clinical_data(matrix_file, background_prefixes, clinical_prefixes)\n",
    "\n",
    "# 3. Obtain the sample characteristics dictionary from the clinical dataframe\n",
    "sample_characteristics_dict = get_unique_values_by_row(clinical_data)\n",
    "\n",
    "# 4. Explicitly print out all the background information and the sample characteristics dictionary\n",
    "print(\"Background Information:\")\n",
    "print(background_info)\n",
    "print(\"Sample Characteristics Dictionary:\")\n",
    "print(sample_characteristics_dict)\n"
   ]
  },
  {
   "cell_type": "markdown",
   "id": "8a9daa7b",
   "metadata": {},
   "source": [
    "### Step 2: Dataset Analysis and Clinical Feature Extraction"
   ]
  },
  {
   "cell_type": "code",
   "execution_count": 3,
   "id": "1b0973ae",
   "metadata": {
    "execution": {
     "iopub.execute_input": "2024-06-12T08:15:48.755122Z",
     "iopub.status.busy": "2024-06-12T08:15:48.754983Z",
     "iopub.status.idle": "2024-06-12T08:15:48.759185Z",
     "shell.execute_reply": "2024-06-12T08:15:48.758902Z"
    }
   },
   "outputs": [
    {
     "name": "stdout",
     "output_type": "stream",
     "text": [
      "A new JSON file was created at: ./preprocessed/Celiac_Disease/cohort_info.json\n"
     ]
    }
   ],
   "source": [
    "is_gene_available = False\n",
    "trait_row = age_row = gender_row = None  # set to different values when applicable\n",
    "convert_trait = convert_age = convert_gender = None  # define the functions when applicable\n",
    "\n",
    "# Determine if the dataset contains gene expression data\n",
    "is_gene_available = True  # Assuming gene expression data is available based on dataset title\n",
    "\n",
    "# Check for the availability of variables in the sample characteristics\n",
    "sample_characteristics = {\n",
    "    0: ['tissue: PBMC'],\n",
    "    1: ['cell type: KIR+ CD8 T']\n",
    "}\n",
    "\n",
    "# Determine trait_row\n",
    "trait_row = None  # No indicator of 'Celiac_Disease' in the provided characteristics\n",
    "\n",
    "# Determine age_row\n",
    "age_row = None  # No indicator of 'age' in the provided characteristics\n",
    "\n",
    "# Determine gender_row\n",
    "gender_row = None  # No indicator of 'gender' in the provided characteristics\n",
    "\n",
    "# Define conversion functions\n",
    "def convert_trait(value):\n",
    "    try:\n",
    "        return 1 if 'Celiac_Disease' in value else 0\n",
    "    except:\n",
    "        return None\n",
    "\n",
    "def convert_age(value):\n",
    "    try:\n",
    "        return float(value.split(':')[-1])\n",
    "    except:\n",
    "        return None\n",
    "\n",
    "def convert_gender(value):\n",
    "    try:\n",
    "        gender = value.split(':')[-1].strip().lower()\n",
    "        return 1 if gender == 'male' else 0 if gender == 'female' else None\n",
    "    except:\n",
    "        return None\n",
    "\n",
    "# Save cohort information\n",
    "save_cohort_info('GSE193442', './preprocessed/Celiac_Disease/cohort_info.json', is_gene_available, trait_row is not None)\n"
   ]
  }
 ],
 "metadata": {
  "language_info": {
   "codemirror_mode": {
    "name": "ipython",
    "version": 3
   },
   "file_extension": ".py",
   "mimetype": "text/x-python",
   "name": "python",
   "nbconvert_exporter": "python",
   "pygments_lexer": "ipython3",
   "version": "3.8.17"
  }
 },
 "nbformat": 4,
 "nbformat_minor": 5
}
