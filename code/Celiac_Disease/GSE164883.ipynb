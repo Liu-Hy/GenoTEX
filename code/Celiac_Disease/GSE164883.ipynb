{
 "cells": [
  {
   "cell_type": "code",
   "execution_count": 1,
   "id": "93b8532f",
   "metadata": {
    "execution": {
     "iopub.execute_input": "2024-06-12T08:17:10.866934Z",
     "iopub.status.busy": "2024-06-12T08:17:10.866780Z",
     "iopub.status.idle": "2024-06-12T08:17:10.871987Z",
     "shell.execute_reply": "2024-06-12T08:17:10.871447Z"
    }
   },
   "outputs": [],
   "source": [
    "\n",
    "import sys\n",
    "sys.path.append('/home/techt/Desktop/a4s')\n"
   ]
  },
  {
   "cell_type": "markdown",
   "id": "d48a657b",
   "metadata": {},
   "source": [
    "### Step 1: Initial Data Loading"
   ]
  },
  {
   "cell_type": "code",
   "execution_count": 2,
   "id": "2d0d0d37",
   "metadata": {
    "execution": {
     "iopub.execute_input": "2024-06-12T08:17:10.874756Z",
     "iopub.status.busy": "2024-06-12T08:17:10.874284Z",
     "iopub.status.idle": "2024-06-12T08:17:11.260215Z",
     "shell.execute_reply": "2024-06-12T08:17:11.259840Z"
    }
   },
   "outputs": [
    {
     "name": "stdout",
     "output_type": "stream",
     "text": [
      "Background Information:\n",
      "!Series_title\t\"Transcriptomic heterogeneity of Coeliac Disease biopsies from the duodenum\"\n",
      "!Series_summary\t\"Here, we present a high-resolution analysis of the transcriptomes extracted from duodenal probes of 25 children and adolescents with active CD and 21 children without CD but with diverse intestinal afflictions as controls. We found that the transcriptomes of CD patients divide into three subgroups, a mixed group resembling part of control cases and a CD-low and CD-high groups referring to lower and higher levels of CD severity\"\n",
      "!Series_summary\t\"Despite generally increased inflammation, considerable variation in inflammation-level between subgroups was observed, which was further de-chiffred into immune cell types using immune cell de-convolution\"\n",
      "!Series_overall_design\t\"one biopsy (15–20 mg) was taken from descending duodenum of each patient. Fresh tissue samples were snap frozen and stored in liquid nitrogen until preparation. Frozen biopsies were disrupted and homogenized by TissueLyzer from Quiagen (Hilden, Germany). Total RNA was isolated using AllPrep® DNA/RNA Micro kit (QIAGEN, Hilden, Germany) and stored at -70°C.\"\n",
      "Sample Characteristics Dictionary:\n",
      "{0: ['disease: Control', 'disease: Celiac disease'], 1: ['marsh stage: 0', 'marsh stage: 3C', 'marsh stage: 3B', 'marsh stage: 3A', 'marsh stage: 1'], 2: ['age: 1', 'age: 3', 'age: 4', 'age: 7', 'age: 6', 'age: 9', 'age: 10', 'age: 11', 'age: 12', 'age: 13', 'age: 14', 'age: 15', 'age: 16', 'age: 17', 'age: 2', 'age: 5', 'age: 8']}\n"
     ]
    }
   ],
   "source": [
    "from utils.preprocess import *\n",
    "# 1. Identify the paths to the soft file and the matrix file\n",
    "cohort_dir = '/media/techt/DATA/GEO/Celiac_Disease/GSE164883'\n",
    "soft_file, matrix_file = geo_get_relevant_filepaths(cohort_dir)\n",
    "\n",
    "# 2. Read the matrix file to obtain background information and sample characteristics data\n",
    "background_prefixes = ['!Series_title', '!Series_summary', '!Series_overall_design']\n",
    "clinical_prefixes = ['!Sample_geo_accession', '!Sample_characteristics_ch1']\n",
    "background_info, clinical_data = get_background_and_clinical_data(matrix_file, background_prefixes, clinical_prefixes)\n",
    "\n",
    "# 3. Obtain the sample characteristics dictionary from the clinical dataframe\n",
    "sample_characteristics_dict = get_unique_values_by_row(clinical_data)\n",
    "\n",
    "# 4. Explicitly print out all the background information and the sample characteristics dictionary\n",
    "print(\"Background Information:\")\n",
    "print(background_info)\n",
    "print(\"Sample Characteristics Dictionary:\")\n",
    "print(sample_characteristics_dict)\n"
   ]
  },
  {
   "cell_type": "markdown",
   "id": "88a33095",
   "metadata": {},
   "source": [
    "### Step 2: Dataset Analysis and Clinical Feature Extraction"
   ]
  },
  {
   "cell_type": "code",
   "execution_count": 3,
   "id": "37fda206",
   "metadata": {
    "execution": {
     "iopub.execute_input": "2024-06-12T08:17:11.262147Z",
     "iopub.status.busy": "2024-06-12T08:17:11.262030Z",
     "iopub.status.idle": "2024-06-12T08:17:11.273790Z",
     "shell.execute_reply": "2024-06-12T08:17:11.273486Z"
    }
   },
   "outputs": [
    {
     "name": "stdout",
     "output_type": "stream",
     "text": [
      "{'GSM5022362': [0.0, 1.0], 'GSM5022363': [1.0, 3.0], 'GSM5022364': [1.0, 3.0], 'GSM5022365': [1.0, 4.0], 'GSM5022366': [1.0, 7.0], 'GSM5022367': [0.0, 6.0], 'GSM5022368': [1.0, 9.0], 'GSM5022369': [0.0, 10.0], 'GSM5022370': [1.0, 10.0], 'GSM5022371': [0.0, 11.0], 'GSM5022372': [1.0, 11.0], 'GSM5022373': [1.0, 12.0], 'GSM5022374': [0.0, 12.0], 'GSM5022375': [0.0, 12.0], 'GSM5022376': [0.0, 12.0], 'GSM5022377': [0.0, 13.0], 'GSM5022378': [1.0, 13.0], 'GSM5022379': [1.0, 13.0], 'GSM5022380': [0.0, 14.0], 'GSM5022381': [0.0, 15.0], 'GSM5022382': [1.0, 16.0], 'GSM5022383': [1.0, 16.0], 'GSM5022384': [0.0, 17.0], 'GSM5022385': [1.0, 17.0], 'GSM5022386': [0.0, 17.0], 'GSM5022387': [1.0, 3.0], 'GSM5022388': [0.0, 2.0], 'GSM5022389': [0.0, 2.0], 'GSM5022390': [1.0, 3.0], 'GSM5022391': [1.0, 4.0], 'GSM5022392': [1.0, 4.0], 'GSM5022393': [1.0, 5.0], 'GSM5022394': [1.0, 4.0], 'GSM5022395': [0.0, 7.0], 'GSM5022396': [1.0, 8.0], 'GSM5022397': [1.0, 12.0], 'GSM5022398': [0.0, 12.0], 'GSM5022399': [1.0, 13.0], 'GSM5022400': [1.0, 13.0], 'GSM5022401': [1.0, 14.0], 'GSM5022402': [0.0, 14.0], 'GSM5022403': [0.0, 14.0], 'GSM5022404': [0.0, 15.0], 'GSM5022405': [0.0, 15.0], 'GSM5022406': [1.0, 15.0], 'GSM5022407': [0.0, 16.0], 'GSM5022408': [0.0, 14.0], 'GSM5022409': [1.0, 3.0]}\n"
     ]
    }
   ],
   "source": [
    "is_gene_available = False\n",
    "trait_row = age_row = gender_row = None  # set to different values when applicable\n",
    "convert_trait = convert_age = convert_gender = None  # define the functions when applicable\n",
    "\n",
    "# Step 1: Gene Expression Data Availability\n",
    "is_gene_available = True\n",
    "\n",
    "# Step 2: Variable Availability and Data Type Conversion\n",
    "\n",
    "# 2.1 Data Availability\n",
    "trait_row = 0 if len(set(['Control', 'Celiac disease'])) > 1 else None\n",
    "age_row = 2 \n",
    "gender_row = None  # gender data is not provided in this dataset\n",
    "\n",
    "# 2.3 Data Type Conversion\n",
    "def extract_value(cell):\n",
    "    return cell.split(':')[-1].strip()\n",
    "\n",
    "def convert_trait(cell):\n",
    "    value = extract_value(cell)\n",
    "    return 1 if value == 'Celiac disease' else 0 if value == 'Control' else None\n",
    "\n",
    "def convert_age(cell):\n",
    "    value = extract_value(cell)\n",
    "    try:\n",
    "        return float(value)\n",
    "    except ValueError:\n",
    "        return None\n",
    "\n",
    "def convert_gender(cell):\n",
    "    return None  # Not applicable in this dataset\n",
    "\n",
    "# Step 3: Save Metadata\n",
    "save_cohort_info('GSE164883', './preprocessed/Celiac_Disease/cohort_info.json', is_gene_available, trait_row is not None)\n",
    "\n",
    "# Step 4: Clinical Feature Extraction\n",
    "if trait_row is not None:\n",
    "    selected_clinical_data = geo_select_clinical_features(clinical_data, 'Celiac_Disease', trait_row, convert_trait, age_row, convert_age, gender_row, convert_gender)\n",
    "    csv_path = './preprocessed/Celiac_Disease/trait_data/GSE164883.csv'\n",
    "    selected_clinical_data.to_csv(csv_path)\n",
    "    print(preview_df(selected_clinical_data))\n"
   ]
  },
  {
   "cell_type": "markdown",
   "id": "9392b730",
   "metadata": {},
   "source": [
    "### Step 3: Gene Data Extraction"
   ]
  },
  {
   "cell_type": "code",
   "execution_count": 4,
   "id": "75823c4d",
   "metadata": {
    "execution": {
     "iopub.execute_input": "2024-06-12T08:17:11.275044Z",
     "iopub.status.busy": "2024-06-12T08:17:11.274937Z",
     "iopub.status.idle": "2024-06-12T08:17:11.541391Z",
     "shell.execute_reply": "2024-06-12T08:17:11.540989Z"
    }
   },
   "outputs": [
    {
     "name": "stdout",
     "output_type": "stream",
     "text": [
      "Index(['ILMN_1343291', 'ILMN_1343295', 'ILMN_1651199', 'ILMN_1651209',\n",
      "       'ILMN_1651210', 'ILMN_1651221', 'ILMN_1651228', 'ILMN_1651229',\n",
      "       'ILMN_1651230', 'ILMN_1651232', 'ILMN_1651235', 'ILMN_1651236',\n",
      "       'ILMN_1651237', 'ILMN_1651238', 'ILMN_1651249', 'ILMN_1651253',\n",
      "       'ILMN_1651254', 'ILMN_1651259', 'ILMN_1651260', 'ILMN_1651262'],\n",
      "      dtype='object', name='ID')\n"
     ]
    }
   ],
   "source": [
    "# 1. Use the get_genetic_data function from the library to get the gene_data from the matrix_file previously defined.\n",
    "gene_data = get_genetic_data(matrix_file)\n",
    "\n",
    "# 2. Print the first 20 row ids for the following step.\n",
    "print(gene_data.index[:20])\n"
   ]
  },
  {
   "cell_type": "markdown",
   "id": "60775aeb",
   "metadata": {},
   "source": [
    "### Step 4: Gene Identifier Review"
   ]
  },
  {
   "cell_type": "code",
   "execution_count": 5,
   "id": "90dcc343",
   "metadata": {
    "execution": {
     "iopub.execute_input": "2024-06-12T08:17:11.543087Z",
     "iopub.status.busy": "2024-06-12T08:17:11.542955Z",
     "iopub.status.idle": "2024-06-12T08:17:11.545218Z",
     "shell.execute_reply": "2024-06-12T08:17:11.544877Z"
    }
   },
   "outputs": [],
   "source": [
    "requires_gene_mapping = True\n"
   ]
  },
  {
   "cell_type": "markdown",
   "id": "6fd37622",
   "metadata": {},
   "source": [
    "### Step 5: Gene Annotation (Conditional)"
   ]
  },
  {
   "cell_type": "code",
   "execution_count": 6,
   "id": "0b3ee24b",
   "metadata": {
    "execution": {
     "iopub.execute_input": "2024-06-12T08:17:11.546831Z",
     "iopub.status.busy": "2024-06-12T08:17:11.546728Z",
     "iopub.status.idle": "2024-06-12T08:17:18.140123Z",
     "shell.execute_reply": "2024-06-12T08:17:18.139724Z"
    }
   },
   "outputs": [
    {
     "name": "stdout",
     "output_type": "stream",
     "text": [
      "Gene annotation preview:\n",
      "{'ID': ['ILMN_1343048', 'ILMN_1343049', 'ILMN_1343050', 'ILMN_1343052', 'ILMN_1343059'], 'Species': [nan, nan, nan, nan, nan], 'Source': [nan, nan, nan, nan, nan], 'Search_Key': [nan, nan, nan, nan, nan], 'Transcript': [nan, nan, nan, nan, nan], 'ILMN_Gene': [nan, nan, nan, nan, nan], 'Source_Reference_ID': [nan, nan, nan, nan, nan], 'RefSeq_ID': [nan, nan, nan, nan, nan], 'Unigene_ID': [nan, nan, nan, nan, nan], 'Entrez_Gene_ID': [nan, nan, nan, nan, nan], 'GI': [nan, nan, nan, nan, nan], 'Accession': [nan, nan, nan, nan, nan], 'Symbol': ['phage_lambda_genome', 'phage_lambda_genome', 'phage_lambda_genome:low', 'phage_lambda_genome:low', 'thrB'], 'Protein_Product': [nan, nan, nan, nan, 'thrB'], 'Probe_Id': [nan, nan, nan, nan, nan], 'Array_Address_Id': [5090180.0, 6510136.0, 7560739.0, 1450438.0, 1240647.0], 'Probe_Type': [nan, nan, nan, nan, nan], 'Probe_Start': [nan, nan, nan, nan, nan], 'SEQUENCE': ['GAATAAAGAACAATCTGCTGATGATCCCTCCGTGGATCTGATTCGTGTAA', 'CCATGTGATACGAGGGCGCGTAGTTTGCATTATCGTTTTTATCGTTTCAA', 'CCGACAGATGTATGTAAGGCCAACGTGCTCAAATCTTCATACAGAAAGAT', 'TCTGTCACTGTCAGGAAAGTGGTAAAACTGCAACTCAATTACTGCAATGC', 'CTTGTGCCTGAGCTGTCAAAAGTAGAGCACGTCGCCGAGATGAAGGGCGC'], 'Chromosome': [nan, nan, nan, nan, nan], 'Probe_Chr_Orientation': [nan, nan, nan, nan, nan], 'Probe_Coordinates': [nan, nan, nan, nan, nan], 'Cytoband': [nan, nan, nan, nan, nan], 'Definition': [nan, nan, nan, nan, nan], 'Ontology_Component': [nan, nan, nan, nan, nan], 'Ontology_Process': [nan, nan, nan, nan, nan], 'Ontology_Function': [nan, nan, nan, nan, nan], 'Synonyms': [nan, nan, nan, nan, nan], 'Obsolete_Probe_Id': [nan, nan, nan, nan, nan], 'GB_ACC': [nan, nan, nan, nan, nan]}\n"
     ]
    }
   ],
   "source": [
    "# 1. Use the 'get_gene_annotation' function from the library to get gene annotation data from the soft file.\n",
    "gene_annotation = get_gene_annotation(soft_file)\n",
    "\n",
    "# 2. Use the 'preview_df' function from the library to preview the data and print out the results.\n",
    "print(\"Gene annotation preview:\")\n",
    "print(preview_df(gene_annotation))\n"
   ]
  },
  {
   "cell_type": "markdown",
   "id": "af3c70cb",
   "metadata": {},
   "source": [
    "### Step 6: Gene Identifier Mapping"
   ]
  },
  {
   "cell_type": "code",
   "execution_count": 7,
   "id": "075ceb07",
   "metadata": {
    "execution": {
     "iopub.execute_input": "2024-06-12T08:17:18.141843Z",
     "iopub.status.busy": "2024-06-12T08:17:18.141732Z",
     "iopub.status.idle": "2024-06-12T08:17:18.338613Z",
     "shell.execute_reply": "2024-06-12T08:17:18.338198Z"
    }
   },
   "outputs": [],
   "source": [
    "# 1. Identify the keys for probe IDs and gene symbols\n",
    "identifier_key = 'ID'\n",
    "gene_symbol_key = 'Symbol'\n",
    "\n",
    "# 2. Get the dataframe storing the mapping between probe IDs and genes\n",
    "mapping_df = get_gene_mapping(gene_annotation, identifier_key, gene_symbol_key)\n",
    "\n",
    "# 3. Apply the mapping and obtain the resulting gene expression dataframe\n",
    "gene_data = apply_gene_mapping(gene_data, mapping_df)\n"
   ]
  },
  {
   "cell_type": "markdown",
   "id": "6fe08751",
   "metadata": {},
   "source": [
    "### Step 7: Data Normalization and Merging"
   ]
  },
  {
   "cell_type": "code",
   "execution_count": 8,
   "id": "67dca3e0",
   "metadata": {
    "execution": {
     "iopub.execute_input": "2024-06-12T08:17:18.340778Z",
     "iopub.status.busy": "2024-06-12T08:17:18.340641Z",
     "iopub.status.idle": "2024-06-12T08:18:32.292540Z",
     "shell.execute_reply": "2024-06-12T08:18:32.291993Z"
    }
   },
   "outputs": [
    {
     "name": "stdout",
     "output_type": "stream",
     "text": [
      "For the feature 'Celiac_Disease', the least common label is '0.0' with 22 occurrences. This represents 45.83% of the dataset.\n",
      "The distribution of the feature 'Celiac_Disease' in this dataset is fine.\n",
      "\n",
      "Quartiles for 'Age':\n",
      "  25%: 4.75\n",
      "  50% (Median): 12.0\n",
      "  75%: 14.0\n",
      "Min: 1.0\n",
      "Max: 17.0\n",
      "The distribution of the feature 'Age' in this dataset is fine.\n",
      "\n"
     ]
    }
   ],
   "source": [
    "# 1. Normalize the obtained gene data with the 'normalize_gene_symbols_in_index' function from the library.\n",
    "normalized_gene_data = normalize_gene_symbols_in_index(gene_data)\n",
    "gene_csv_path = './preprocessed/Celiac_Disease/gene_data/GSE164883.csv'\n",
    "normalized_gene_data.to_csv(gene_csv_path)\n",
    "\n",
    "# 2. Merge the clinical and genetic data with the 'geo_merge_clinical_genetic_data' function from the library.\n",
    "merged_data = geo_merge_clinical_genetic_data(selected_clinical_data, normalized_gene_data)\n",
    "\n",
    "# 3. Determine whether the trait and some demographic attributes in the data is severely biased, and remove biased attributes.\n",
    "trait_biased, unbiased_merged_data = judge_and_remove_biased_features(merged_data, 'Celiac_Disease')\n",
    "\n",
    "# 4. Save the cohort information.\n",
    "save_cohort_info('GSE164883', './preprocessed/Celiac_Disease/cohort_info.json', True, True, trait_biased, merged_data)\n",
    "\n",
    "if not trait_biased:\n",
    "    # 5. If the trait is not severely biased, save the merged data to a csv file.\n",
    "    csv_path = './preprocessed/Celiac_Disease/GSE164883.csv'\n",
    "    unbiased_merged_data.to_csv(csv_path)\n"
   ]
  }
 ],
 "metadata": {
  "language_info": {
   "codemirror_mode": {
    "name": "ipython",
    "version": 3
   },
   "file_extension": ".py",
   "mimetype": "text/x-python",
   "name": "python",
   "nbconvert_exporter": "python",
   "pygments_lexer": "ipython3",
   "version": "3.8.17"
  }
 },
 "nbformat": 4,
 "nbformat_minor": 5
}
