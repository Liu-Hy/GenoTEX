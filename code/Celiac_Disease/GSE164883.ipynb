{
 "cells": [
  {
   "cell_type": "code",
   "execution_count": 1,
   "id": "85ccdb22",
   "metadata": {
    "execution": {
     "iopub.execute_input": "2025-03-25T08:01:10.934495Z",
     "iopub.status.busy": "2025-03-25T08:01:10.934382Z",
     "iopub.status.idle": "2025-03-25T08:01:11.100388Z",
     "shell.execute_reply": "2025-03-25T08:01:11.100033Z"
    }
   },
   "outputs": [],
   "source": [
    "import sys\n",
    "import os\n",
    "sys.path.append(os.path.abspath(os.path.join(os.getcwd(), '../..')))\n",
    "\n",
    "# Path Configuration\n",
    "from tools.preprocess import *\n",
    "\n",
    "# Processing context\n",
    "trait = \"Celiac_Disease\"\n",
    "cohort = \"GSE164883\"\n",
    "\n",
    "# Input paths\n",
    "in_trait_dir = \"../../input/GEO/Celiac_Disease\"\n",
    "in_cohort_dir = \"../../input/GEO/Celiac_Disease/GSE164883\"\n",
    "\n",
    "# Output paths\n",
    "out_data_file = \"../../output/preprocess/Celiac_Disease/GSE164883.csv\"\n",
    "out_gene_data_file = \"../../output/preprocess/Celiac_Disease/gene_data/GSE164883.csv\"\n",
    "out_clinical_data_file = \"../../output/preprocess/Celiac_Disease/clinical_data/GSE164883.csv\"\n",
    "json_path = \"../../output/preprocess/Celiac_Disease/cohort_info.json\"\n"
   ]
  },
  {
   "cell_type": "markdown",
   "id": "8baefe83",
   "metadata": {},
   "source": [
    "### Step 1: Initial Data Loading"
   ]
  },
  {
   "cell_type": "code",
   "execution_count": 2,
   "id": "71888196",
   "metadata": {
    "execution": {
     "iopub.execute_input": "2025-03-25T08:01:11.101831Z",
     "iopub.status.busy": "2025-03-25T08:01:11.101689Z",
     "iopub.status.idle": "2025-03-25T08:01:11.254877Z",
     "shell.execute_reply": "2025-03-25T08:01:11.254453Z"
    }
   },
   "outputs": [
    {
     "name": "stdout",
     "output_type": "stream",
     "text": [
      "Background Information:\n",
      "!Series_title\t\"Transcriptomic heterogeneity of Coeliac Disease biopsies from the duodenum\"\n",
      "!Series_summary\t\"Here, we present a high-resolution analysis of the transcriptomes extracted from duodenal probes of 25 children and adolescents with active CD and 21 children without CD but with diverse intestinal afflictions as controls. We found that the transcriptomes of CD patients divide into three subgroups, a mixed group resembling part of control cases and a CD-low and CD-high groups referring to lower and higher levels of CD severity\"\n",
      "!Series_summary\t\"Despite generally increased inflammation, considerable variation in inflammation-level between subgroups was observed, which was further de-chiffred into immune cell types using immune cell de-convolution\"\n",
      "!Series_overall_design\t\"one biopsy (15–20 mg) was taken from descending duodenum of each patient. Fresh tissue samples were snap frozen and stored in liquid nitrogen until preparation. Frozen biopsies were disrupted and homogenized by TissueLyzer from Quiagen (Hilden, Germany). Total RNA was isolated using AllPrep® DNA/RNA Micro kit (QIAGEN, Hilden, Germany) and stored at -70°C.\"\n",
      "Sample Characteristics Dictionary:\n",
      "{0: ['disease: Control', 'disease: Celiac disease'], 1: ['marsh stage: 0', 'marsh stage: 3C', 'marsh stage: 3B', 'marsh stage: 3A', 'marsh stage: 1'], 2: ['age: 1', 'age: 3', 'age: 4', 'age: 7', 'age: 6', 'age: 9', 'age: 10', 'age: 11', 'age: 12', 'age: 13', 'age: 14', 'age: 15', 'age: 16', 'age: 17', 'age: 2', 'age: 5', 'age: 8']}\n"
     ]
    }
   ],
   "source": [
    "from tools.preprocess import *\n",
    "# 1. Identify the paths to the SOFT file and the matrix file\n",
    "soft_file, matrix_file = geo_get_relevant_filepaths(in_cohort_dir)\n",
    "\n",
    "# 2. Read the matrix file to obtain background information and sample characteristics data\n",
    "background_prefixes = ['!Series_title', '!Series_summary', '!Series_overall_design']\n",
    "clinical_prefixes = ['!Sample_geo_accession', '!Sample_characteristics_ch1']\n",
    "background_info, clinical_data = get_background_and_clinical_data(matrix_file, background_prefixes, clinical_prefixes)\n",
    "\n",
    "# 3. Obtain the sample characteristics dictionary from the clinical dataframe\n",
    "sample_characteristics_dict = get_unique_values_by_row(clinical_data)\n",
    "\n",
    "# 4. Explicitly print out all the background information and the sample characteristics dictionary\n",
    "print(\"Background Information:\")\n",
    "print(background_info)\n",
    "print(\"Sample Characteristics Dictionary:\")\n",
    "print(sample_characteristics_dict)\n"
   ]
  },
  {
   "cell_type": "markdown",
   "id": "71edd5f9",
   "metadata": {},
   "source": [
    "### Step 2: Dataset Analysis and Clinical Feature Extraction"
   ]
  },
  {
   "cell_type": "code",
   "execution_count": 3,
   "id": "07e6ebc2",
   "metadata": {
    "execution": {
     "iopub.execute_input": "2025-03-25T08:01:11.256386Z",
     "iopub.status.busy": "2025-03-25T08:01:11.256265Z",
     "iopub.status.idle": "2025-03-25T08:01:11.265818Z",
     "shell.execute_reply": "2025-03-25T08:01:11.265516Z"
    }
   },
   "outputs": [
    {
     "name": "stdout",
     "output_type": "stream",
     "text": [
      "Preview of selected clinical features:\n",
      "{'GSM5022362': [0.0, 1.0], 'GSM5022363': [1.0, 3.0], 'GSM5022364': [1.0, 3.0], 'GSM5022365': [1.0, 4.0], 'GSM5022366': [1.0, 7.0], 'GSM5022367': [0.0, 6.0], 'GSM5022368': [1.0, 9.0], 'GSM5022369': [0.0, 10.0], 'GSM5022370': [1.0, 10.0], 'GSM5022371': [0.0, 11.0], 'GSM5022372': [1.0, 11.0], 'GSM5022373': [1.0, 12.0], 'GSM5022374': [0.0, 12.0], 'GSM5022375': [0.0, 12.0], 'GSM5022376': [0.0, 12.0], 'GSM5022377': [0.0, 13.0], 'GSM5022378': [1.0, 13.0], 'GSM5022379': [1.0, 13.0], 'GSM5022380': [0.0, 14.0], 'GSM5022381': [0.0, 15.0], 'GSM5022382': [1.0, 16.0], 'GSM5022383': [1.0, 16.0], 'GSM5022384': [0.0, 17.0], 'GSM5022385': [1.0, 17.0], 'GSM5022386': [0.0, 17.0], 'GSM5022387': [1.0, 3.0], 'GSM5022388': [0.0, 2.0], 'GSM5022389': [0.0, 2.0], 'GSM5022390': [1.0, 3.0], 'GSM5022391': [1.0, 4.0], 'GSM5022392': [1.0, 4.0], 'GSM5022393': [1.0, 5.0], 'GSM5022394': [1.0, 4.0], 'GSM5022395': [0.0, 7.0], 'GSM5022396': [1.0, 8.0], 'GSM5022397': [1.0, 12.0], 'GSM5022398': [0.0, 12.0], 'GSM5022399': [1.0, 13.0], 'GSM5022400': [1.0, 13.0], 'GSM5022401': [1.0, 14.0], 'GSM5022402': [0.0, 14.0], 'GSM5022403': [0.0, 14.0], 'GSM5022404': [0.0, 15.0], 'GSM5022405': [0.0, 15.0], 'GSM5022406': [1.0, 15.0], 'GSM5022407': [0.0, 16.0], 'GSM5022408': [0.0, 14.0], 'GSM5022409': [1.0, 3.0]}\n",
      "Clinical data saved to ../../output/preprocess/Celiac_Disease/clinical_data/GSE164883.csv\n"
     ]
    }
   ],
   "source": [
    "# 1. Gene Expression Data Availability\n",
    "# Based on the background information, this dataset contains transcriptome data from duodenal biopsies\n",
    "# which indicates gene expression data is available\n",
    "is_gene_available = True\n",
    "\n",
    "# 2. Variable Availability and Data Type Conversion\n",
    "# 2.1 Data Availability\n",
    "# From Sample Characteristics Dictionary:\n",
    "# Key 0 has disease status: Control or Celiac disease (this is the trait)\n",
    "# Key 2 has age information\n",
    "# There's no gender information available\n",
    "trait_row = 0\n",
    "age_row = 2\n",
    "gender_row = None  # Gender data is not available\n",
    "\n",
    "# 2.2 Data Type Conversion\n",
    "def convert_trait(val):\n",
    "    \"\"\"Convert trait value to binary: 1 for Celiac disease, 0 for Control.\"\"\"\n",
    "    if val is None:\n",
    "        return None\n",
    "    if ':' in val:\n",
    "        val = val.split(':', 1)[1].strip()\n",
    "    if val.lower() == 'celiac disease':\n",
    "        return 1\n",
    "    elif val.lower() == 'control':\n",
    "        return 0\n",
    "    return None\n",
    "\n",
    "def convert_age(val):\n",
    "    \"\"\"Convert age value to continuous numeric value.\"\"\"\n",
    "    if val is None:\n",
    "        return None\n",
    "    if ':' in val:\n",
    "        val = val.split(':', 1)[1].strip()\n",
    "    try:\n",
    "        return float(val)\n",
    "    except (ValueError, TypeError):\n",
    "        return None\n",
    "\n",
    "def convert_gender(val):\n",
    "    \"\"\"Convert gender to binary: 0 for female, 1 for male.\"\"\"\n",
    "    # Not used as gender data is not available\n",
    "    return None\n",
    "\n",
    "# 3. Save Metadata\n",
    "# Check if trait data is available\n",
    "is_trait_available = trait_row is not None\n",
    "# Conduct initial filtering and save information\n",
    "validate_and_save_cohort_info(\n",
    "    is_final=False,\n",
    "    cohort=cohort,\n",
    "    info_path=json_path,\n",
    "    is_gene_available=is_gene_available,\n",
    "    is_trait_available=is_trait_available\n",
    ")\n",
    "\n",
    "# 4. Clinical Feature Extraction\n",
    "# Since trait_row is not None, we proceed with clinical feature extraction\n",
    "if trait_row is not None:\n",
    "    # Extract clinical features using the library function\n",
    "    selected_clinical_df = geo_select_clinical_features(\n",
    "        clinical_df=clinical_data,  # clinical_data is presumed to be available from previous steps\n",
    "        trait=trait,\n",
    "        trait_row=trait_row,\n",
    "        convert_trait=convert_trait,\n",
    "        age_row=age_row,\n",
    "        convert_age=convert_age,\n",
    "        gender_row=gender_row,\n",
    "        convert_gender=convert_gender\n",
    "    )\n",
    "    \n",
    "    # Preview the extracted clinical data\n",
    "    print(\"Preview of selected clinical features:\")\n",
    "    print(preview_df(selected_clinical_df))\n",
    "    \n",
    "    # Save the clinical data to the specified output file\n",
    "    os.makedirs(os.path.dirname(out_clinical_data_file), exist_ok=True)\n",
    "    selected_clinical_df.to_csv(out_clinical_data_file, index=False)\n",
    "    print(f\"Clinical data saved to {out_clinical_data_file}\")\n"
   ]
  },
  {
   "cell_type": "markdown",
   "id": "fd8e809e",
   "metadata": {},
   "source": [
    "### Step 3: Gene Data Extraction"
   ]
  },
  {
   "cell_type": "code",
   "execution_count": 4,
   "id": "f8bc79c0",
   "metadata": {
    "execution": {
     "iopub.execute_input": "2025-03-25T08:01:11.267103Z",
     "iopub.status.busy": "2025-03-25T08:01:11.266990Z",
     "iopub.status.idle": "2025-03-25T08:01:11.520684Z",
     "shell.execute_reply": "2025-03-25T08:01:11.520294Z"
    }
   },
   "outputs": [
    {
     "name": "stdout",
     "output_type": "stream",
     "text": [
      "Matrix file found: ../../input/GEO/Celiac_Disease/GSE164883/GSE164883_series_matrix.txt.gz\n"
     ]
    },
    {
     "name": "stdout",
     "output_type": "stream",
     "text": [
      "Gene data shape: (47307, 48)\n",
      "First 20 gene/probe identifiers:\n",
      "Index(['ILMN_1343291', 'ILMN_1343295', 'ILMN_1651199', 'ILMN_1651209',\n",
      "       'ILMN_1651210', 'ILMN_1651221', 'ILMN_1651228', 'ILMN_1651229',\n",
      "       'ILMN_1651230', 'ILMN_1651232', 'ILMN_1651235', 'ILMN_1651236',\n",
      "       'ILMN_1651237', 'ILMN_1651238', 'ILMN_1651249', 'ILMN_1651253',\n",
      "       'ILMN_1651254', 'ILMN_1651259', 'ILMN_1651260', 'ILMN_1651262'],\n",
      "      dtype='object', name='ID')\n"
     ]
    }
   ],
   "source": [
    "# 1. Get the SOFT and matrix file paths again \n",
    "soft_file, matrix_file = geo_get_relevant_filepaths(in_cohort_dir)\n",
    "print(f\"Matrix file found: {matrix_file}\")\n",
    "\n",
    "# 2. Use the get_genetic_data function from the library to get the gene_data\n",
    "try:\n",
    "    gene_data = get_genetic_data(matrix_file)\n",
    "    print(f\"Gene data shape: {gene_data.shape}\")\n",
    "    \n",
    "    # 3. Print the first 20 row IDs (gene or probe identifiers)\n",
    "    print(\"First 20 gene/probe identifiers:\")\n",
    "    print(gene_data.index[:20])\n",
    "except Exception as e:\n",
    "    print(f\"Error extracting gene data: {e}\")\n"
   ]
  },
  {
   "cell_type": "markdown",
   "id": "9d5d69e8",
   "metadata": {},
   "source": [
    "### Step 4: Gene Identifier Review"
   ]
  },
  {
   "cell_type": "code",
   "execution_count": 5,
   "id": "58e86fd8",
   "metadata": {
    "execution": {
     "iopub.execute_input": "2025-03-25T08:01:11.521962Z",
     "iopub.status.busy": "2025-03-25T08:01:11.521845Z",
     "iopub.status.idle": "2025-03-25T08:01:11.523818Z",
     "shell.execute_reply": "2025-03-25T08:01:11.523522Z"
    }
   },
   "outputs": [],
   "source": [
    "# Examining the gene identifiers from the previous step\n",
    "# These identifiers (ILMN_*) are Illumina microarray probe IDs, not human gene symbols\n",
    "# They need to be mapped to standard gene symbols for biological interpretation\n",
    "\n",
    "# Based on my biomedical knowledge, ILMN_* identifiers are Illumina BeadArray probe IDs\n",
    "# and require mapping to human gene symbols for meaningful analysis\n",
    "\n",
    "requires_gene_mapping = True\n"
   ]
  },
  {
   "cell_type": "markdown",
   "id": "65cfce4b",
   "metadata": {},
   "source": [
    "### Step 5: Gene Annotation"
   ]
  },
  {
   "cell_type": "code",
   "execution_count": 6,
   "id": "cb9d09b1",
   "metadata": {
    "execution": {
     "iopub.execute_input": "2025-03-25T08:01:11.524911Z",
     "iopub.status.busy": "2025-03-25T08:01:11.524806Z",
     "iopub.status.idle": "2025-03-25T08:01:17.891658Z",
     "shell.execute_reply": "2025-03-25T08:01:17.891026Z"
    }
   },
   "outputs": [
    {
     "name": "stdout",
     "output_type": "stream",
     "text": [
      "Gene annotation preview:\n",
      "{'ID': ['ILMN_1343048', 'ILMN_1343049', 'ILMN_1343050', 'ILMN_1343052', 'ILMN_1343059'], 'Species': [nan, nan, nan, nan, nan], 'Source': [nan, nan, nan, nan, nan], 'Search_Key': [nan, nan, nan, nan, nan], 'Transcript': [nan, nan, nan, nan, nan], 'ILMN_Gene': [nan, nan, nan, nan, nan], 'Source_Reference_ID': [nan, nan, nan, nan, nan], 'RefSeq_ID': [nan, nan, nan, nan, nan], 'Unigene_ID': [nan, nan, nan, nan, nan], 'Entrez_Gene_ID': [nan, nan, nan, nan, nan], 'GI': [nan, nan, nan, nan, nan], 'Accession': [nan, nan, nan, nan, nan], 'Symbol': ['phage_lambda_genome', 'phage_lambda_genome', 'phage_lambda_genome:low', 'phage_lambda_genome:low', 'thrB'], 'Protein_Product': [nan, nan, nan, nan, 'thrB'], 'Probe_Id': [nan, nan, nan, nan, nan], 'Array_Address_Id': [5090180.0, 6510136.0, 7560739.0, 1450438.0, 1240647.0], 'Probe_Type': [nan, nan, nan, nan, nan], 'Probe_Start': [nan, nan, nan, nan, nan], 'SEQUENCE': ['GAATAAAGAACAATCTGCTGATGATCCCTCCGTGGATCTGATTCGTGTAA', 'CCATGTGATACGAGGGCGCGTAGTTTGCATTATCGTTTTTATCGTTTCAA', 'CCGACAGATGTATGTAAGGCCAACGTGCTCAAATCTTCATACAGAAAGAT', 'TCTGTCACTGTCAGGAAAGTGGTAAAACTGCAACTCAATTACTGCAATGC', 'CTTGTGCCTGAGCTGTCAAAAGTAGAGCACGTCGCCGAGATGAAGGGCGC'], 'Chromosome': [nan, nan, nan, nan, nan], 'Probe_Chr_Orientation': [nan, nan, nan, nan, nan], 'Probe_Coordinates': [nan, nan, nan, nan, nan], 'Cytoband': [nan, nan, nan, nan, nan], 'Definition': [nan, nan, nan, nan, nan], 'Ontology_Component': [nan, nan, nan, nan, nan], 'Ontology_Process': [nan, nan, nan, nan, nan], 'Ontology_Function': [nan, nan, nan, nan, nan], 'Synonyms': [nan, nan, nan, nan, nan], 'Obsolete_Probe_Id': [nan, nan, nan, nan, nan], 'GB_ACC': [nan, nan, nan, nan, nan]}\n"
     ]
    }
   ],
   "source": [
    "# 1. Use the 'get_gene_annotation' function from the library to get gene annotation data from the SOFT file.\n",
    "gene_annotation = get_gene_annotation(soft_file)\n",
    "\n",
    "# 2. Use the 'preview_df' function from the library to preview the data and print out the results.\n",
    "print(\"Gene annotation preview:\")\n",
    "print(preview_df(gene_annotation))\n"
   ]
  },
  {
   "cell_type": "markdown",
   "id": "1d892569",
   "metadata": {},
   "source": [
    "### Step 6: Gene Identifier Mapping"
   ]
  },
  {
   "cell_type": "code",
   "execution_count": 7,
   "id": "52619dbe",
   "metadata": {
    "execution": {
     "iopub.execute_input": "2025-03-25T08:01:17.893411Z",
     "iopub.status.busy": "2025-03-25T08:01:17.893283Z",
     "iopub.status.idle": "2025-03-25T08:01:18.641729Z",
     "shell.execute_reply": "2025-03-25T08:01:18.641089Z"
    }
   },
   "outputs": [
    {
     "name": "stdout",
     "output_type": "stream",
     "text": [
      "Using ID for probe identifiers and Symbol for gene symbols\n",
      "Gene mapping shape: (44837, 2)\n",
      "Sample of gene mapping data:\n",
      "             ID                     Gene\n",
      "0  ILMN_1343048      phage_lambda_genome\n",
      "1  ILMN_1343049      phage_lambda_genome\n",
      "2  ILMN_1343050  phage_lambda_genome:low\n",
      "3  ILMN_1343052  phage_lambda_genome:low\n",
      "4  ILMN_1343059                     thrB\n"
     ]
    },
    {
     "name": "stdout",
     "output_type": "stream",
     "text": [
      "Gene expression data shape after mapping: (21460, 48)\n",
      "First few gene symbols after mapping:\n",
      "['A1BG', 'A1CF', 'A26C3', 'A2BP1', 'A2LD1', 'A2M', 'A2ML1', 'A3GALT2', 'A4GALT', 'A4GNT']\n"
     ]
    },
    {
     "name": "stdout",
     "output_type": "stream",
     "text": [
      "Gene expression data saved to ../../output/preprocess/Celiac_Disease/gene_data/GSE164883.csv\n"
     ]
    }
   ],
   "source": [
    "# 1. Identify the relevant columns in gene annotation - 'ID' for probe identifiers and 'Symbol' for gene symbols\n",
    "probe_id_col = 'ID'\n",
    "gene_symbol_col = 'Symbol'\n",
    "\n",
    "print(f\"Using {probe_id_col} for probe identifiers and {gene_symbol_col} for gene symbols\")\n",
    "\n",
    "# 2. Extract the mapping between probe IDs and gene symbols\n",
    "gene_mapping = get_gene_mapping(gene_annotation, probe_id_col, gene_symbol_col)\n",
    "print(f\"Gene mapping shape: {gene_mapping.shape}\")\n",
    "print(\"Sample of gene mapping data:\")\n",
    "print(gene_mapping.head())\n",
    "\n",
    "# 3. Convert probe-level measurements to gene-level expression by applying gene mapping\n",
    "# This handles the many-to-many relationship between probes and genes\n",
    "gene_data = apply_gene_mapping(gene_data, gene_mapping)\n",
    "print(f\"Gene expression data shape after mapping: {gene_data.shape}\")\n",
    "print(\"First few gene symbols after mapping:\")\n",
    "print(list(gene_data.index[:10]))\n",
    "\n",
    "# Optionally save the gene expression data to the output file\n",
    "os.makedirs(os.path.dirname(out_gene_data_file), exist_ok=True)\n",
    "gene_data.to_csv(out_gene_data_file)\n",
    "print(f\"Gene expression data saved to {out_gene_data_file}\")\n"
   ]
  },
  {
   "cell_type": "markdown",
   "id": "475fc1d6",
   "metadata": {},
   "source": [
    "### Step 7: Data Normalization and Linking"
   ]
  },
  {
   "cell_type": "code",
   "execution_count": 8,
   "id": "896400be",
   "metadata": {
    "execution": {
     "iopub.execute_input": "2025-03-25T08:01:18.643694Z",
     "iopub.status.busy": "2025-03-25T08:01:18.643574Z",
     "iopub.status.idle": "2025-03-25T08:01:28.981772Z",
     "shell.execute_reply": "2025-03-25T08:01:28.981132Z"
    }
   },
   "outputs": [
    {
     "name": "stdout",
     "output_type": "stream",
     "text": [
      "Clinical data shape: (2, 48)\n",
      "Clinical data preview:\n",
      "{'GSM5022362': [0.0, 1.0], 'GSM5022363': [1.0, 3.0], 'GSM5022364': [1.0, 3.0], 'GSM5022365': [1.0, 4.0], 'GSM5022366': [1.0, 7.0], 'GSM5022367': [0.0, 6.0], 'GSM5022368': [1.0, 9.0], 'GSM5022369': [0.0, 10.0], 'GSM5022370': [1.0, 10.0], 'GSM5022371': [0.0, 11.0], 'GSM5022372': [1.0, 11.0], 'GSM5022373': [1.0, 12.0], 'GSM5022374': [0.0, 12.0], 'GSM5022375': [0.0, 12.0], 'GSM5022376': [0.0, 12.0], 'GSM5022377': [0.0, 13.0], 'GSM5022378': [1.0, 13.0], 'GSM5022379': [1.0, 13.0], 'GSM5022380': [0.0, 14.0], 'GSM5022381': [0.0, 15.0], 'GSM5022382': [1.0, 16.0], 'GSM5022383': [1.0, 16.0], 'GSM5022384': [0.0, 17.0], 'GSM5022385': [1.0, 17.0], 'GSM5022386': [0.0, 17.0], 'GSM5022387': [1.0, 3.0], 'GSM5022388': [0.0, 2.0], 'GSM5022389': [0.0, 2.0], 'GSM5022390': [1.0, 3.0], 'GSM5022391': [1.0, 4.0], 'GSM5022392': [1.0, 4.0], 'GSM5022393': [1.0, 5.0], 'GSM5022394': [1.0, 4.0], 'GSM5022395': [0.0, 7.0], 'GSM5022396': [1.0, 8.0], 'GSM5022397': [1.0, 12.0], 'GSM5022398': [0.0, 12.0], 'GSM5022399': [1.0, 13.0], 'GSM5022400': [1.0, 13.0], 'GSM5022401': [1.0, 14.0], 'GSM5022402': [0.0, 14.0], 'GSM5022403': [0.0, 14.0], 'GSM5022404': [0.0, 15.0], 'GSM5022405': [0.0, 15.0], 'GSM5022406': [1.0, 15.0], 'GSM5022407': [0.0, 16.0], 'GSM5022408': [0.0, 14.0], 'GSM5022409': [1.0, 3.0]}\n",
      "Linked data shape before handling missing values: (48, 21462)\n",
      "Linked data first few columns:\n",
      "Index(['Celiac_Disease', 'Age', 'A1BG', 'A1CF', 'A26C3', 'A2BP1', 'A2LD1',\n",
      "       'A2M', 'A2ML1', 'A3GALT2'],\n",
      "      dtype='object')\n"
     ]
    },
    {
     "name": "stdout",
     "output_type": "stream",
     "text": [
      "Linked data shape after handling missing values: (48, 21462)\n",
      "For the feature 'Celiac_Disease', the least common label is '0.0' with 22 occurrences. This represents 45.83% of the dataset.\n",
      "The distribution of the feature 'Celiac_Disease' in this dataset is fine.\n",
      "\n",
      "Quartiles for 'Age':\n",
      "  25%: 4.75\n",
      "  50% (Median): 12.0\n",
      "  75%: 14.0\n",
      "Min: 1.0\n",
      "Max: 17.0\n",
      "The distribution of the feature 'Age' in this dataset is fine.\n",
      "\n",
      "Data is usable. Saving to ../../output/preprocess/Celiac_Disease/GSE164883.csv\n"
     ]
    }
   ],
   "source": [
    "# 1. Re-load clinical data from matrix file to ensure we have the correct data\n",
    "soft_file, matrix_file = geo_get_relevant_filepaths(in_cohort_dir)\n",
    "background_prefixes = ['!Series_title', '!Series_summary', '!Series_overall_design']\n",
    "clinical_prefixes = ['!Sample_geo_accession', '!Sample_characteristics_ch1']\n",
    "background_info, clinical_data = get_background_and_clinical_data(matrix_file, background_prefixes, clinical_prefixes)\n",
    "\n",
    "# Re-extract clinical features with the properly loaded clinical data\n",
    "selected_clinical_df = geo_select_clinical_features(\n",
    "    clinical_df=clinical_data,\n",
    "    trait=trait,\n",
    "    trait_row=trait_row,\n",
    "    convert_trait=convert_trait,\n",
    "    age_row=age_row,\n",
    "    convert_age=convert_age,\n",
    "    gender_row=gender_row,\n",
    "    convert_gender=convert_gender\n",
    ")\n",
    "\n",
    "print(f\"Clinical data shape: {selected_clinical_df.shape}\")\n",
    "print(\"Clinical data preview:\")\n",
    "print(preview_df(selected_clinical_df))\n",
    "\n",
    "# 2. Link the clinical and genetic data with the 'geo_link_clinical_genetic_data' function\n",
    "try:\n",
    "    linked_data = geo_link_clinical_genetic_data(selected_clinical_df, gene_data)\n",
    "    print(f\"Linked data shape before handling missing values: {linked_data.shape}\")\n",
    "    print(\"Linked data first few columns:\")\n",
    "    print(linked_data.columns[:10])\n",
    "    \n",
    "    # 3. Handle missing values in the linked data\n",
    "    linked_data = handle_missing_values(linked_data, trait)\n",
    "    print(f\"Linked data shape after handling missing values: {linked_data.shape}\")\n",
    "    \n",
    "    # 4. Determine whether the trait and demographic features are severely biased\n",
    "    is_trait_biased, unbiased_linked_data = judge_and_remove_biased_features(linked_data, trait)\n",
    "    \n",
    "    # 5. Conduct quality check and save the cohort information\n",
    "    is_usable = validate_and_save_cohort_info(\n",
    "        is_final=True, \n",
    "        cohort=cohort, \n",
    "        info_path=json_path, \n",
    "        is_gene_available=True, \n",
    "        is_trait_available=True, \n",
    "        is_biased=is_trait_biased, \n",
    "        df=unbiased_linked_data,\n",
    "        note=\"Dataset contains gene expression from duodenal biopsies of Celiac Disease patients, CVID patients, and healthy controls\"\n",
    "    )\n",
    "    \n",
    "    # 6. If the linked data is usable, save it as a CSV file\n",
    "    if is_usable:\n",
    "        print(f\"Data is usable. Saving to {out_data_file}\")\n",
    "        os.makedirs(os.path.dirname(out_data_file), exist_ok=True)\n",
    "        unbiased_linked_data.to_csv(out_data_file)\n",
    "    else:\n",
    "        print(\"Data is not usable. Not saving linked data file.\")\n",
    "        \n",
    "except Exception as e:\n",
    "    print(f\"Error in data linking or processing: {e}\")\n",
    "    is_usable = validate_and_save_cohort_info(\n",
    "        is_final=True, \n",
    "        cohort=cohort, \n",
    "        info_path=json_path, \n",
    "        is_gene_available=True, \n",
    "        is_trait_available=True, \n",
    "        is_biased=True, \n",
    "        df=pd.DataFrame(),\n",
    "        note=f\"Error processing data: {e}\"\n",
    "    )\n",
    "    print(\"Data is not usable due to processing error.\")"
   ]
  }
 ],
 "metadata": {
  "language_info": {
   "codemirror_mode": {
    "name": "ipython",
    "version": 3
   },
   "file_extension": ".py",
   "mimetype": "text/x-python",
   "name": "python",
   "nbconvert_exporter": "python",
   "pygments_lexer": "ipython3",
   "version": "3.10.16"
  }
 },
 "nbformat": 4,
 "nbformat_minor": 5
}
