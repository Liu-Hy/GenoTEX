{
 "cells": [
  {
   "cell_type": "code",
   "execution_count": 1,
   "id": "dce2f129",
   "metadata": {
    "execution": {
     "iopub.execute_input": "2024-06-12T08:19:56.943608Z",
     "iopub.status.busy": "2024-06-12T08:19:56.943509Z",
     "iopub.status.idle": "2024-06-12T08:19:56.947402Z",
     "shell.execute_reply": "2024-06-12T08:19:56.947144Z"
    }
   },
   "outputs": [],
   "source": [
    "\n",
    "import sys\n",
    "sys.path.append('/home/techt/Desktop/a4s')\n"
   ]
  },
  {
   "cell_type": "markdown",
   "id": "6b5de0a4",
   "metadata": {},
   "source": [
    "### Step 1: Initial Data Loading"
   ]
  },
  {
   "cell_type": "code",
   "execution_count": 2,
   "id": "7294af27",
   "metadata": {
    "execution": {
     "iopub.execute_input": "2024-06-12T08:19:56.949527Z",
     "iopub.status.busy": "2024-06-12T08:19:56.949433Z",
     "iopub.status.idle": "2024-06-12T08:19:57.200128Z",
     "shell.execute_reply": "2024-06-12T08:19:57.199763Z"
    }
   },
   "outputs": [
    {
     "name": "stdout",
     "output_type": "stream",
     "text": [
      "Background Information:\n",
      "!Series_title\t\"First Degree Relatives (FDRs) of Patients with Celiac Disease Harbour an Intestinal Transcriptomic Signature that Might Protect Them from Enterocyte Damage\"\n",
      "!Series_summary\t\"Patients with Celiac Disease, first degree relatives of celiac patients and control groups displayed significant differential gene expression.\"\n",
      "!Series_overall_design\t\"All subjects were underwent upper GI endoscopic examination. Multiple mucosal biopsies were obtained using spike biopsy forceps. Four bits of tissues in 10% formal saline were sent for histological assessment for villous architecture assessment. Other 4-6 bites of mucosal biopsies were taken in RNA later for gene expression analysis. In this study, FDRs were selected randomly and none of the FDRs were related to Celiac patients.\"\n",
      "Sample Characteristics Dictionary:\n",
      "{0: ['tissue: intestinal mucus'], 1: ['group: CeD', 'group: control', 'group: FDR'], 2: ['age: 40', 'age: 21', 'age: 23', 'age: 17', 'age: 19', 'age: 18', 'age: 20', 'age: 32', 'age: 38', 'age: 42', 'age: 27', 'age: 28', 'age: 26', 'age: 25', 'age: 35'], 3: ['hla-dq2/dq8: positive', 'hla-dq2/dq8: negative'], 4: ['gender: Male', 'gender: Female']}\n"
     ]
    }
   ],
   "source": [
    "from utils.preprocess import *\n",
    "# 1. Identify the paths to the soft file and the matrix file\n",
    "cohort_dir = '/media/techt/DATA/GEO/Celiac_Disease/GSE112102'\n",
    "soft_file, matrix_file = geo_get_relevant_filepaths(cohort_dir)\n",
    "\n",
    "# 2. Read the matrix file to obtain background information and sample characteristics data\n",
    "background_prefixes = ['!Series_title', '!Series_summary', '!Series_overall_design']\n",
    "clinical_prefixes = ['!Sample_geo_accession', '!Sample_characteristics_ch1']\n",
    "background_info, clinical_data = get_background_and_clinical_data(matrix_file, background_prefixes, clinical_prefixes)\n",
    "\n",
    "# 3. Obtain the sample characteristics dictionary from the clinical dataframe\n",
    "sample_characteristics_dict = get_unique_values_by_row(clinical_data)\n",
    "\n",
    "# 4. Explicitly print out all the background information and the sample characteristics dictionary\n",
    "print(\"Background Information:\")\n",
    "print(background_info)\n",
    "print(\"Sample Characteristics Dictionary:\")\n",
    "print(sample_characteristics_dict)\n"
   ]
  },
  {
   "cell_type": "markdown",
   "id": "48f70355",
   "metadata": {},
   "source": [
    "### Step 2: Dataset Analysis and Clinical Feature Extraction"
   ]
  },
  {
   "cell_type": "code",
   "execution_count": 3,
   "id": "9dc7ffdd",
   "metadata": {
    "execution": {
     "iopub.execute_input": "2024-06-12T08:19:57.202302Z",
     "iopub.status.busy": "2024-06-12T08:19:57.202162Z",
     "iopub.status.idle": "2024-06-12T08:19:57.214871Z",
     "shell.execute_reply": "2024-06-12T08:19:57.214587Z"
    }
   },
   "outputs": [
    {
     "name": "stdout",
     "output_type": "stream",
     "text": [
      "{'GSM3057759': [1.0, 40.0, 1.0], 'GSM3057760': [1.0, 21.0, 1.0], 'GSM3057761': [1.0, 23.0, 1.0], 'GSM3057762': [1.0, 21.0, 0.0], 'GSM3057763': [1.0, 23.0, 0.0], 'GSM3057764': [1.0, 17.0, 0.0], 'GSM3057765': [1.0, 19.0, 1.0], 'GSM3057766': [1.0, 21.0, 1.0], 'GSM3057767': [1.0, 18.0, 0.0], 'GSM3057768': [1.0, 20.0, 1.0], 'GSM3057769': [1.0, 19.0, 0.0], 'GSM3057770': [1.0, 32.0, 1.0], 'GSM3057771': [0.0, 38.0, 1.0], 'GSM3057772': [0.0, 42.0, 1.0], 'GSM3057773': [0.0, 27.0, 1.0], 'GSM3057774': [0.0, 27.0, 1.0], 'GSM3057775': [0.0, 21.0, 1.0], 'GSM3057776': [0.0, 28.0, 1.0], 'GSM3057777': [0.0, 27.0, 1.0], 'GSM3057778': [0.0, 32.0, 0.0], 'GSM3057779': [0.0, 26.0, 1.0], 'GSM3057780': [0.0, 23.0, 1.0], 'GSM3057781': [0.0, 28.0, 0.0], 'GSM3057782': [nan, 25.0, 1.0], 'GSM3057783': [nan, 32.0, 0.0], 'GSM3057784': [nan, 32.0, 0.0], 'GSM3057785': [nan, 17.0, 1.0], 'GSM3057786': [nan, 42.0, 1.0], 'GSM3057787': [nan, 35.0, 1.0], 'GSM3057788': [nan, 32.0, 0.0], 'GSM3057789': [nan, 18.0, 0.0], 'GSM3057790': [nan, 42.0, 0.0], 'GSM3057791': [nan, 42.0, 1.0], 'GSM3057792': [nan, 21.0, 1.0], 'GSM3057793': [nan, 42.0, 0.0], 'GSM3057794': [nan, 42.0, 0.0]}\n"
     ]
    }
   ],
   "source": [
    "is_gene_available = False\n",
    "trait_row = age_row = gender_row = None  # set to different values when applicable\n",
    "convert_trait = convert_age = convert_gender = None  # define the functions when applicable\n",
    "\n",
    "# Check gene expression data availability\n",
    "# Based on the summary in STEP 1, it mentions \"gene expression analysis.\"\n",
    "is_gene_available = True\n",
    "\n",
    "# Check data availability for 'Celiac_Disease'\n",
    "trait_row = 1  # 'Celiac_Disease' is part of the group key\n",
    "\n",
    "def convert_trait(value):\n",
    "    # Extract the actual value after the colon\n",
    "    key, val = value.split(': ', 1)\n",
    "    # Convert to binary: 0 for control, 1 for CeD, None for others like FDR\n",
    "    if val == \"CeD\":\n",
    "        return 1\n",
    "    elif val == \"control\":\n",
    "        return 0\n",
    "    else:\n",
    "        return None\n",
    "\n",
    "# Check data availability for 'age'\n",
    "age_row = 2  # 'age' is part of the key\n",
    "\n",
    "def convert_age(value):\n",
    "    # Extract the actual value after the colon\n",
    "    key, val = value.split(': ', 1)\n",
    "    try:\n",
    "        return float(val)\n",
    "    except ValueError:\n",
    "        return None\n",
    "\n",
    "# Check data availability for 'gender'\n",
    "gender_row = 4  # 'gender' is part of the key\n",
    "\n",
    "def convert_gender(value):\n",
    "    # Extract the actual value after the colon\n",
    "    key, val = value.split(': ', 1)\n",
    "    if val == \"Male\":\n",
    "        return 1\n",
    "    elif val == \"Female\":\n",
    "        return 0\n",
    "    else:\n",
    "        return None\n",
    "\n",
    "# Save cohort information\n",
    "save_cohort_info('GSE112102', './preprocessed/Celiac_Disease/cohort_info.json', is_gene_available, trait_row is not None)\n",
    "\n",
    "# Now, if trait_row is not None, extract clinical data, else skip this step.\n",
    "selected_clinical_data = geo_select_clinical_features(clinical_data, 'Celiac_Disease', trait_row, convert_trait, age_row, convert_age, gender_row, convert_gender)\n",
    "csv_path = './preprocessed/Celiac_Disease/trait_data/GSE112102.csv'\n",
    "selected_clinical_data.to_csv(csv_path)\n",
    "print(preview_df(selected_clinical_data))\n"
   ]
  },
  {
   "cell_type": "markdown",
   "id": "dd933d93",
   "metadata": {},
   "source": [
    "### Step 3: Gene Data Extraction"
   ]
  },
  {
   "cell_type": "code",
   "execution_count": 4,
   "id": "3668a113",
   "metadata": {
    "execution": {
     "iopub.execute_input": "2024-06-12T08:19:57.216952Z",
     "iopub.status.busy": "2024-06-12T08:19:57.216850Z",
     "iopub.status.idle": "2024-06-12T08:19:57.283379Z",
     "shell.execute_reply": "2024-06-12T08:19:57.283003Z"
    }
   },
   "outputs": [
    {
     "name": "stdout",
     "output_type": "stream",
     "text": [
      "Index(['ILMN_1343291', 'ILMN_1343295', 'ILMN_1651228', 'ILMN_1651229',\n",
      "       'ILMN_1651237', 'ILMN_1651254', 'ILMN_1651262', 'ILMN_1651278',\n",
      "       'ILMN_1651282', 'ILMN_1651285', 'ILMN_1651315', 'ILMN_1651336',\n",
      "       'ILMN_1651346', 'ILMN_1651347', 'ILMN_1651364', 'ILMN_1651378',\n",
      "       'ILMN_1651385', 'ILMN_1651405', 'ILMN_1651415', 'ILMN_1651429'],\n",
      "      dtype='object', name='ID')\n"
     ]
    }
   ],
   "source": [
    "# 1. Use the get_genetic_data function from the library to get the gene_data from the matrix_file previously defined.\n",
    "gene_data = get_genetic_data(matrix_file)\n",
    "\n",
    "# 2. Print the first 20 row ids for the following step.\n",
    "print(gene_data.index[:20])\n"
   ]
  },
  {
   "cell_type": "markdown",
   "id": "f1233cdb",
   "metadata": {},
   "source": [
    "### Step 4: Gene Identifier Review"
   ]
  },
  {
   "cell_type": "code",
   "execution_count": 5,
   "id": "16ebbb31",
   "metadata": {
    "execution": {
     "iopub.execute_input": "2024-06-12T08:19:57.285602Z",
     "iopub.status.busy": "2024-06-12T08:19:57.285465Z",
     "iopub.status.idle": "2024-06-12T08:19:57.287587Z",
     "shell.execute_reply": "2024-06-12T08:19:57.287314Z"
    }
   },
   "outputs": [],
   "source": [
    "requires_gene_mapping = True\n"
   ]
  },
  {
   "cell_type": "markdown",
   "id": "fe51147f",
   "metadata": {},
   "source": [
    "### Step 5: Gene Annotation (Conditional)"
   ]
  },
  {
   "cell_type": "code",
   "execution_count": 6,
   "id": "bdf6a903",
   "metadata": {
    "execution": {
     "iopub.execute_input": "2024-06-12T08:19:57.289786Z",
     "iopub.status.busy": "2024-06-12T08:19:57.289659Z",
     "iopub.status.idle": "2024-06-12T08:19:59.146368Z",
     "shell.execute_reply": "2024-06-12T08:19:59.145701Z"
    }
   },
   "outputs": [
    {
     "name": "stdout",
     "output_type": "stream",
     "text": [
      "Gene annotation preview:\n",
      "{'ID': ['ILMN_1343048', 'ILMN_1343049', 'ILMN_1343050', 'ILMN_1343052', 'ILMN_1343059'], 'Species': [nan, nan, nan, nan, nan], 'Source': [nan, nan, nan, nan, nan], 'Search_Key': [nan, nan, nan, nan, nan], 'Transcript': [nan, nan, nan, nan, nan], 'ILMN_Gene': [nan, nan, nan, nan, nan], 'Source_Reference_ID': [nan, nan, nan, nan, nan], 'RefSeq_ID': [nan, nan, nan, nan, nan], 'Unigene_ID': [nan, nan, nan, nan, nan], 'Entrez_Gene_ID': [nan, nan, nan, nan, nan], 'GI': [nan, nan, nan, nan, nan], 'Accession': [nan, nan, nan, nan, nan], 'Symbol': ['phage_lambda_genome', 'phage_lambda_genome', 'phage_lambda_genome:low', 'phage_lambda_genome:low', 'thrB'], 'Protein_Product': [nan, nan, nan, nan, 'thrB'], 'Probe_Id': [nan, nan, nan, nan, nan], 'Array_Address_Id': [5090180.0, 6510136.0, 7560739.0, 1450438.0, 1240647.0], 'Probe_Type': [nan, nan, nan, nan, nan], 'Probe_Start': [nan, nan, nan, nan, nan], 'SEQUENCE': ['GAATAAAGAACAATCTGCTGATGATCCCTCCGTGGATCTGATTCGTGTAA', 'CCATGTGATACGAGGGCGCGTAGTTTGCATTATCGTTTTTATCGTTTCAA', 'CCGACAGATGTATGTAAGGCCAACGTGCTCAAATCTTCATACAGAAAGAT', 'TCTGTCACTGTCAGGAAAGTGGTAAAACTGCAACTCAATTACTGCAATGC', 'CTTGTGCCTGAGCTGTCAAAAGTAGAGCACGTCGCCGAGATGAAGGGCGC'], 'Chromosome': [nan, nan, nan, nan, nan], 'Probe_Chr_Orientation': [nan, nan, nan, nan, nan], 'Probe_Coordinates': [nan, nan, nan, nan, nan], 'Cytoband': [nan, nan, nan, nan, nan], 'Definition': [nan, nan, nan, nan, nan], 'Ontology_Component': [nan, nan, nan, nan, nan], 'Ontology_Process': [nan, nan, nan, nan, nan], 'Ontology_Function': [nan, nan, nan, nan, nan], 'Synonyms': [nan, nan, nan, nan, nan], 'Obsolete_Probe_Id': [nan, nan, nan, nan, nan], 'GB_ACC': [nan, nan, nan, nan, nan]}\n"
     ]
    }
   ],
   "source": [
    "# 1. Use the 'get_gene_annotation' function from the library to get gene annotation data from the soft file.\n",
    "gene_annotation = get_gene_annotation(soft_file)\n",
    "\n",
    "# 2. Use the 'preview_df' function from the library to preview the data and print out the results.\n",
    "print(\"Gene annotation preview:\")\n",
    "print(preview_df(gene_annotation))\n"
   ]
  },
  {
   "cell_type": "markdown",
   "id": "f301aeea",
   "metadata": {},
   "source": [
    "### Step 6: Gene Identifier Mapping"
   ]
  },
  {
   "cell_type": "code",
   "execution_count": 7,
   "id": "225af456",
   "metadata": {
    "execution": {
     "iopub.execute_input": "2024-06-12T08:19:59.148290Z",
     "iopub.status.busy": "2024-06-12T08:19:59.148158Z",
     "iopub.status.idle": "2024-06-12T08:19:59.262946Z",
     "shell.execute_reply": "2024-06-12T08:19:59.262465Z"
    }
   },
   "outputs": [],
   "source": [
    "# 1. Identify the appropriate keys from the annotation dictionary.\n",
    "identifier_key = 'ID'\n",
    "gene_symbol_key = 'Symbol'\n",
    "\n",
    "# 2. Get the dataframe storing the mapping between probe IDs and genes\n",
    "mapping_df = get_gene_mapping(gene_annotation, identifier_key, gene_symbol_key)\n",
    "\n",
    "# 3. Apply the mapping to convert the gene data\n",
    "gene_data = apply_gene_mapping(gene_data, mapping_df)\n"
   ]
  },
  {
   "cell_type": "markdown",
   "id": "e7954615",
   "metadata": {},
   "source": [
    "### Step 7: Data Normalization and Merging"
   ]
  },
  {
   "cell_type": "code",
   "execution_count": 8,
   "id": "3739310d",
   "metadata": {
    "execution": {
     "iopub.execute_input": "2024-06-12T08:19:59.265145Z",
     "iopub.status.busy": "2024-06-12T08:19:59.264985Z",
     "iopub.status.idle": "2024-06-12T08:20:24.508237Z",
     "shell.execute_reply": "2024-06-12T08:20:24.507696Z"
    }
   },
   "outputs": [
    {
     "name": "stdout",
     "output_type": "stream",
     "text": [
      "For the feature 'Celiac_Disease', the least common label is '0.0' with 11 occurrences. This represents 47.83% of the dataset.\n",
      "The distribution of the feature 'Celiac_Disease' in this dataset is fine.\n",
      "\n",
      "Quartiles for 'Age':\n",
      "  25%: 21.0\n",
      "  50% (Median): 23.0\n",
      "  75%: 28.0\n",
      "Min: 17.0\n",
      "Max: 42.0\n",
      "The distribution of the feature 'Age' in this dataset is fine.\n",
      "\n",
      "For the feature 'Gender', the least common label is '0.0' with 7 occurrences. This represents 30.43% of the dataset.\n",
      "The distribution of the feature 'Gender' in this dataset is fine.\n",
      "\n"
     ]
    }
   ],
   "source": [
    "# 1. Normalize the obtained gene data with the 'normalize_gene_symbols_in_index' function from the library.\n",
    "normalized_gene_data = normalize_gene_symbols_in_index(gene_data)\n",
    "gene_csv_path = './preprocessed/Celiac_Disease/gene_data/GSE112102.csv'\n",
    "normalized_gene_data.to_csv(gene_csv_path)\n",
    "\n",
    "# 2. Merge the clinical and genetic data with the 'geo_merge_clinical_genetic_data' function from the library.\n",
    "merged_data = geo_merge_clinical_genetic_data(selected_clinical_data, normalized_gene_data)\n",
    "\n",
    "# 3. Determine whether the trait and some demographic attributes in the data is severely biased, and remove biased attributes.\n",
    "trait_biased, unbiased_merged_data = judge_and_remove_biased_features(merged_data, 'Celiac_Disease')\n",
    "\n",
    "# If the trait is not severely biased, save the cohort information and the merged data.\n",
    "\n",
    "# 4. Save the cohort information.\n",
    "save_cohort_info('GSE112102', './preprocessed/Celiac_Disease/cohort_info.json', True, True, trait_biased, merged_data)\n",
    "\n",
    "if not trait_biased:\n",
    "    # 5. If the trait is not severely biased, save the merged data to a csv file.\n",
    "    csv_path = './preprocessed/Celiac_Disease/GSE112102.csv'\n",
    "    unbiased_merged_data.to_csv(csv_path)\n"
   ]
  }
 ],
 "metadata": {
  "language_info": {
   "codemirror_mode": {
    "name": "ipython",
    "version": 3
   },
   "file_extension": ".py",
   "mimetype": "text/x-python",
   "name": "python",
   "nbconvert_exporter": "python",
   "pygments_lexer": "ipython3",
   "version": "3.8.17"
  }
 },
 "nbformat": 4,
 "nbformat_minor": 5
}
