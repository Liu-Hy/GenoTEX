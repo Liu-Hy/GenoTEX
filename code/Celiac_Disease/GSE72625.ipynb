{
 "cells": [
  {
   "cell_type": "code",
   "execution_count": 1,
   "id": "7b90f58b",
   "metadata": {
    "execution": {
     "iopub.execute_input": "2024-06-12T08:15:49.577657Z",
     "iopub.status.busy": "2024-06-12T08:15:49.577561Z",
     "iopub.status.idle": "2024-06-12T08:15:49.581524Z",
     "shell.execute_reply": "2024-06-12T08:15:49.581112Z"
    }
   },
   "outputs": [],
   "source": [
    "\n",
    "import sys\n",
    "sys.path.append('/home/techt/Desktop/a4s')\n"
   ]
  },
  {
   "cell_type": "markdown",
   "id": "c8baeb16",
   "metadata": {},
   "source": [
    "### Step 1: Initial Data Loading"
   ]
  },
  {
   "cell_type": "code",
   "execution_count": 2,
   "id": "ffb12dad",
   "metadata": {
    "execution": {
     "iopub.execute_input": "2024-06-12T08:15:49.583980Z",
     "iopub.status.busy": "2024-06-12T08:15:49.583676Z",
     "iopub.status.idle": "2024-06-12T08:15:49.963520Z",
     "shell.execute_reply": "2024-06-12T08:15:49.963155Z"
    }
   },
   "outputs": [
    {
     "name": "stdout",
     "output_type": "stream",
     "text": [
      "Background Information:\n",
      "!Series_title\t\"Gastrointestinal symptoms and pathology in patients with Common variable immunodeficiency\"\n",
      "!Series_summary\t\"Based on the findings of increased IEL in duodenal biopsies in CVID, an overlap with celiac disease has been suggested. In the present study, increased IEL, in particular in the pars descendens of the duodenum, was one of the most frequent histopathological finding. We therefore examined the gene expression profile in pars descendens of duodenum in CVID patients with increased IEL (n=12, IEL mean 34 [range 22-56] IEL/100 EC), CVID with normal levels of IEL (n=8), celiac disease (n=10, Marsh grade 3a or above) and healthy controls (n=17) by gene expression microarray\"\n",
      "!Series_overall_design\t\"GI histopathological findings in 53 CVID patients that underwent upper and lower endoscopic examination were addressed. For the microarray analysis 20 CVID (8 CVID_normal and 12 CVID with incresed IEL), 10 patients with celiac diseases and 17 healthy controls were included.\"\n",
      "Sample Characteristics Dictionary:\n",
      "{0: ['disease state: CVID with increased intraepithelial lymphocytes', 'disease state: CVID without increased intraepithelial lymphocytes', 'disease state: celiac disease', 'disease state: healthy controls'], 1: ['tissue: duodenal biopsy']}\n"
     ]
    }
   ],
   "source": [
    "from utils.preprocess import *\n",
    "# 1. Identify the paths to the soft file and the matrix file\n",
    "cohort_dir = '/media/techt/DATA/GEO/Celiac_Disease/GSE72625'\n",
    "soft_file, matrix_file = geo_get_relevant_filepaths(cohort_dir)\n",
    "\n",
    "# 2. Read the matrix file to obtain background information and sample characteristics data\n",
    "background_prefixes = ['!Series_title', '!Series_summary', '!Series_overall_design']\n",
    "clinical_prefixes = ['!Sample_geo_accession', '!Sample_characteristics_ch1']\n",
    "background_info, clinical_data = get_background_and_clinical_data(matrix_file, background_prefixes, clinical_prefixes)\n",
    "\n",
    "# 3. Obtain the sample characteristics dictionary from the clinical dataframe\n",
    "sample_characteristics_dict = get_unique_values_by_row(clinical_data)\n",
    "\n",
    "# 4. Explicitly print out all the background information and the sample characteristics dictionary\n",
    "print(\"Background Information:\")\n",
    "print(background_info)\n",
    "print(\"Sample Characteristics Dictionary:\")\n",
    "print(sample_characteristics_dict)\n"
   ]
  },
  {
   "cell_type": "markdown",
   "id": "add5bcf0",
   "metadata": {},
   "source": [
    "### Step 2: Dataset Analysis and Clinical Feature Extraction"
   ]
  },
  {
   "cell_type": "code",
   "execution_count": 3,
   "id": "bf50367d",
   "metadata": {
    "execution": {
     "iopub.execute_input": "2024-06-12T08:15:49.965301Z",
     "iopub.status.busy": "2024-06-12T08:15:49.965193Z",
     "iopub.status.idle": "2024-06-12T08:15:49.973549Z",
     "shell.execute_reply": "2024-06-12T08:15:49.973259Z"
    }
   },
   "outputs": [
    {
     "name": "stdout",
     "output_type": "stream",
     "text": [
      "{'GSM1866896': [0], 'GSM1866897': [0], 'GSM1866898': [0], 'GSM1866899': [0], 'GSM1866900': [0], 'GSM1866901': [0], 'GSM1866902': [0], 'GSM1866903': [0], 'GSM1866904': [0], 'GSM1866905': [0], 'GSM1866906': [0], 'GSM1866907': [0], 'GSM1866908': [0], 'GSM1866909': [0], 'GSM1866910': [0], 'GSM1866911': [0], 'GSM1866912': [0], 'GSM1866913': [0], 'GSM1866914': [0], 'GSM1866915': [0], 'GSM1866916': [1], 'GSM1866917': [1], 'GSM1866918': [1], 'GSM1866919': [1], 'GSM1866920': [1], 'GSM1866921': [1], 'GSM1866922': [1], 'GSM1866923': [1], 'GSM1866924': [1], 'GSM1866925': [1], 'GSM1866926': [0], 'GSM1866927': [0], 'GSM1866928': [0], 'GSM1866929': [0], 'GSM1866930': [0], 'GSM1866931': [0], 'GSM1866932': [0], 'GSM1866933': [0], 'GSM1866934': [0], 'GSM1866935': [0], 'GSM1866936': [0], 'GSM1866937': [0], 'GSM1866938': [0], 'GSM1866939': [0], 'GSM1866940': [0], 'GSM1866941': [0], 'GSM1866942': [0]}\n"
     ]
    }
   ],
   "source": [
    "is_gene_available = False\n",
    "trait_row = age_row = gender_row = None  # set to different values when applicable\n",
    "convert_trait = convert_age = convert_gender = None  # define the functions when applicable\n",
    "\n",
    "# Check gene expression data availability\n",
    "is_gene_available = True  # The dataset mentions gene expression microarray\n",
    "\n",
    "# Determine variable availability\n",
    "trait_row = 0  # Disease state information is available at this key\n",
    "age_row = None  # No information about age in sample characteristics\n",
    "gender_row = None  # No information about gender in sample characteristics\n",
    "\n",
    "# Define data conversion functions\n",
    "\n",
    "def convert_trait(value):\n",
    "    # Assuming the values are 'celiac disease', 'CVID with increased intraepithelial lymphocytes', \n",
    "    # 'CVID without increased intraepithelial lymphocytes', and 'healthy controls'\n",
    "    mapping = {\n",
    "        'celiac disease': 1,\n",
    "        'CVID with increased intraepithelial lymphocytes': 0,\n",
    "        'CVID without increased intraepithelial lymphocytes': 0,\n",
    "        'healthy controls': 0\n",
    "    }\n",
    "    return mapping.get(value.split(': ')[1], None)\n",
    "\n",
    "# Age and gender conversion functions are not needed as the data is not available\n",
    "convert_age = None \n",
    "convert_gender = None\n",
    "\n",
    "# Save cohort information\n",
    "save_cohort_info('GSE72625', './preprocessed/Celiac_Disease/cohort_info.json', is_gene_available, trait_row is not None)\n",
    "\n",
    "# Clinical feature extraction\n",
    "if trait_row is not None:\n",
    "    selected_clinical_data = geo_select_clinical_features(clinical_data, 'Celiac_Disease', trait_row, convert_trait, age_row, convert_age, gender_row, convert_gender)\n",
    "    csv_path = './preprocessed/Celiac_Disease/trait_data/GSE72625.csv'\n",
    "    selected_clinical_data.to_csv(csv_path)\n",
    "    print(preview_df(selected_clinical_data))\n"
   ]
  },
  {
   "cell_type": "markdown",
   "id": "5a374793",
   "metadata": {},
   "source": [
    "### Step 3: Gene Data Extraction"
   ]
  },
  {
   "cell_type": "code",
   "execution_count": 4,
   "id": "f9b2b829",
   "metadata": {
    "execution": {
     "iopub.execute_input": "2024-06-12T08:15:49.975586Z",
     "iopub.status.busy": "2024-06-12T08:15:49.975487Z",
     "iopub.status.idle": "2024-06-12T08:15:50.237948Z",
     "shell.execute_reply": "2024-06-12T08:15:50.237586Z"
    }
   },
   "outputs": [
    {
     "name": "stdout",
     "output_type": "stream",
     "text": [
      "Index(['ILMN_1343291', 'ILMN_1343295', 'ILMN_1651199', 'ILMN_1651209',\n",
      "       'ILMN_1651210', 'ILMN_1651221', 'ILMN_1651228', 'ILMN_1651229',\n",
      "       'ILMN_1651230', 'ILMN_1651232', 'ILMN_1651235', 'ILMN_1651236',\n",
      "       'ILMN_1651237', 'ILMN_1651238', 'ILMN_1651249', 'ILMN_1651253',\n",
      "       'ILMN_1651254', 'ILMN_1651259', 'ILMN_1651260', 'ILMN_1651262'],\n",
      "      dtype='object', name='ID')\n"
     ]
    }
   ],
   "source": [
    "# 1. Use the get_genetic_data function from the library to get the gene_data from the matrix_file previously defined.\n",
    "gene_data = get_genetic_data(matrix_file)\n",
    "\n",
    "# 2. Print the first 20 row ids for the following step.\n",
    "print(gene_data.index[:20])\n"
   ]
  },
  {
   "cell_type": "markdown",
   "id": "39a1a1a1",
   "metadata": {},
   "source": [
    "### Step 4: Gene Identifier Review"
   ]
  },
  {
   "cell_type": "code",
   "execution_count": 5,
   "id": "e05214d7",
   "metadata": {
    "execution": {
     "iopub.execute_input": "2024-06-12T08:15:50.240469Z",
     "iopub.status.busy": "2024-06-12T08:15:50.240318Z",
     "iopub.status.idle": "2024-06-12T08:15:50.242487Z",
     "shell.execute_reply": "2024-06-12T08:15:50.242220Z"
    }
   },
   "outputs": [],
   "source": [
    "requires_gene_mapping = True\n"
   ]
  },
  {
   "cell_type": "markdown",
   "id": "d8448a28",
   "metadata": {},
   "source": [
    "### Step 5: Gene Annotation (Conditional)"
   ]
  },
  {
   "cell_type": "code",
   "execution_count": 6,
   "id": "7773a304",
   "metadata": {
    "execution": {
     "iopub.execute_input": "2024-06-12T08:15:50.245479Z",
     "iopub.status.busy": "2024-06-12T08:15:50.245349Z",
     "iopub.status.idle": "2024-06-12T08:15:55.589904Z",
     "shell.execute_reply": "2024-06-12T08:15:55.589366Z"
    }
   },
   "outputs": [
    {
     "name": "stdout",
     "output_type": "stream",
     "text": [
      "Gene annotation preview:\n",
      "{'ID': ['ILMN_1343048', 'ILMN_1343049', 'ILMN_1343050', 'ILMN_1343052', 'ILMN_1343059'], 'Species': [nan, nan, nan, nan, nan], 'Source': [nan, nan, nan, nan, nan], 'Search_Key': [nan, nan, nan, nan, nan], 'Transcript': [nan, nan, nan, nan, nan], 'ILMN_Gene': [nan, nan, nan, nan, nan], 'Source_Reference_ID': [nan, nan, nan, nan, nan], 'RefSeq_ID': [nan, nan, nan, nan, nan], 'Unigene_ID': [nan, nan, nan, nan, nan], 'Entrez_Gene_ID': [nan, nan, nan, nan, nan], 'GI': [nan, nan, nan, nan, nan], 'Accession': [nan, nan, nan, nan, nan], 'Symbol': ['phage_lambda_genome', 'phage_lambda_genome', 'phage_lambda_genome:low', 'phage_lambda_genome:low', 'thrB'], 'Protein_Product': [nan, nan, nan, nan, 'thrB'], 'Probe_Id': [nan, nan, nan, nan, nan], 'Array_Address_Id': [5090180.0, 6510136.0, 7560739.0, 1450438.0, 1240647.0], 'Probe_Type': [nan, nan, nan, nan, nan], 'Probe_Start': [nan, nan, nan, nan, nan], 'SEQUENCE': ['GAATAAAGAACAATCTGCTGATGATCCCTCCGTGGATCTGATTCGTGTAA', 'CCATGTGATACGAGGGCGCGTAGTTTGCATTATCGTTTTTATCGTTTCAA', 'CCGACAGATGTATGTAAGGCCAACGTGCTCAAATCTTCATACAGAAAGAT', 'TCTGTCACTGTCAGGAAAGTGGTAAAACTGCAACTCAATTACTGCAATGC', 'CTTGTGCCTGAGCTGTCAAAAGTAGAGCACGTCGCCGAGATGAAGGGCGC'], 'Chromosome': [nan, nan, nan, nan, nan], 'Probe_Chr_Orientation': [nan, nan, nan, nan, nan], 'Probe_Coordinates': [nan, nan, nan, nan, nan], 'Cytoband': [nan, nan, nan, nan, nan], 'Definition': [nan, nan, nan, nan, nan], 'Ontology_Component': [nan, nan, nan, nan, nan], 'Ontology_Process': [nan, nan, nan, nan, nan], 'Ontology_Function': [nan, nan, nan, nan, nan], 'Synonyms': [nan, nan, nan, nan, nan], 'Obsolete_Probe_Id': [nan, nan, nan, nan, nan], 'GB_ACC': [nan, nan, nan, nan, nan]}\n"
     ]
    }
   ],
   "source": [
    "# 1. Use the 'get_gene_annotation' function from the library to get gene annotation data from the soft file.\n",
    "gene_annotation = get_gene_annotation(soft_file)\n",
    "\n",
    "# 2. Use the 'preview_df' function from the library to preview the data and print out the results.\n",
    "print(\"Gene annotation preview:\")\n",
    "print(preview_df(gene_annotation))\n"
   ]
  },
  {
   "cell_type": "markdown",
   "id": "38de0f2d",
   "metadata": {},
   "source": [
    "### Step 6: Gene Identifier Mapping"
   ]
  },
  {
   "cell_type": "code",
   "execution_count": 7,
   "id": "0844bc21",
   "metadata": {
    "execution": {
     "iopub.execute_input": "2024-06-12T08:15:55.591611Z",
     "iopub.status.busy": "2024-06-12T08:15:55.591479Z",
     "iopub.status.idle": "2024-06-12T08:15:55.784057Z",
     "shell.execute_reply": "2024-06-12T08:15:55.783518Z"
    }
   },
   "outputs": [],
   "source": [
    "# 1. Determine which keys to use for mapping identifiers to gene symbols.\n",
    "identifier_key = 'ID'\n",
    "gene_symbol_key = 'Symbol'\n",
    "\n",
    "# 2. Get the dataframe storing the mapping between probe IDs and genes using the get_gene_mapping function.\n",
    "mapping_df = get_gene_mapping(gene_annotation, prob_col=identifier_key, gene_col=gene_symbol_key)\n",
    "\n",
    "# 3. Apply the mapping with the apply_gene_mapping function, and name the resulting gene expression dataframe \"gene_data\".\n",
    "gene_data = apply_gene_mapping(gene_data, mapping_df)\n"
   ]
  },
  {
   "cell_type": "markdown",
   "id": "123e58e7",
   "metadata": {},
   "source": [
    "### Step 7: Data Normalization and Merging"
   ]
  },
  {
   "cell_type": "code",
   "execution_count": 8,
   "id": "e1269e25",
   "metadata": {
    "execution": {
     "iopub.execute_input": "2024-06-12T08:15:55.786118Z",
     "iopub.status.busy": "2024-06-12T08:15:55.785982Z",
     "iopub.status.idle": "2024-06-12T08:17:09.824058Z",
     "shell.execute_reply": "2024-06-12T08:17:09.823520Z"
    }
   },
   "outputs": [
    {
     "name": "stdout",
     "output_type": "stream",
     "text": [
      "For the feature 'Celiac_Disease', the least common label is '1.0' with 10 occurrences. This represents 21.28% of the dataset.\n",
      "The distribution of the feature 'Celiac_Disease' in this dataset is fine.\n",
      "\n"
     ]
    }
   ],
   "source": [
    "# 1. Normalize the obtained gene data with the 'normalize_gene_symbols_in_index' function from the library.\n",
    "normalized_gene_data = normalize_gene_symbols_in_index(gene_data)\n",
    "gene_csv_path = './preprocessed/Celiac_Disease/gene_data/GSE72625.csv'\n",
    "normalized_gene_data.to_csv(gene_csv_path)\n",
    "\n",
    "# 2. Merge the clinical and genetic data with the 'geo_merge_clinical_genetic_data' function from the library.\n",
    "merged_data = geo_merge_clinical_genetic_data(selected_clinical_data, normalized_gene_data)\n",
    "\n",
    "# 3. Determine whether the trait and some demographic attributes in the data is severely biased, and remove biased attributes.\n",
    "trait_biased, unbiased_merged_data = judge_and_remove_biased_features(merged_data, 'Celiac_Disease')\n",
    "\n",
    "# 4. Save the cohort information.\n",
    "save_cohort_info('GSE72625', './preprocessed/Celiac_Disease/cohort_info.json', True, True, trait_biased, unbiased_merged_data)\n",
    "\n",
    "if not trait_biased:\n",
    "    # 5. If the trait is not severely biased, save the merged data to a csv file.\n",
    "    csv_path = './preprocessed/Celiac_Disease/GSE72625.csv'\n",
    "    unbiased_merged_data.to_csv(csv_path)\n"
   ]
  }
 ],
 "metadata": {
  "language_info": {
   "codemirror_mode": {
    "name": "ipython",
    "version": 3
   },
   "file_extension": ".py",
   "mimetype": "text/x-python",
   "name": "python",
   "nbconvert_exporter": "python",
   "pygments_lexer": "ipython3",
   "version": "3.8.17"
  }
 },
 "nbformat": 4,
 "nbformat_minor": 5
}
