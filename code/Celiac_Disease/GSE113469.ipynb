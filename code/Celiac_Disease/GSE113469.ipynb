{
 "cells": [
  {
   "cell_type": "code",
   "execution_count": 1,
   "id": "68c0db44",
   "metadata": {
    "execution": {
     "iopub.execute_input": "2024-06-12T08:18:36.699526Z",
     "iopub.status.busy": "2024-06-12T08:18:36.699431Z",
     "iopub.status.idle": "2024-06-12T08:18:36.703135Z",
     "shell.execute_reply": "2024-06-12T08:18:36.702850Z"
    }
   },
   "outputs": [],
   "source": [
    "\n",
    "import sys\n",
    "sys.path.append('/home/techt/Desktop/a4s')\n"
   ]
  },
  {
   "cell_type": "markdown",
   "id": "8f0a27a3",
   "metadata": {},
   "source": [
    "### Step 1: Initial Data Loading"
   ]
  },
  {
   "cell_type": "code",
   "execution_count": 2,
   "id": "190765da",
   "metadata": {
    "execution": {
     "iopub.execute_input": "2024-06-12T08:18:36.705149Z",
     "iopub.status.busy": "2024-06-12T08:18:36.705037Z",
     "iopub.status.idle": "2024-06-12T08:18:37.012747Z",
     "shell.execute_reply": "2024-06-12T08:18:37.012382Z"
    }
   },
   "outputs": [
    {
     "name": "stdout",
     "output_type": "stream",
     "text": [
      "Background Information:\n",
      "!Series_title\t\"Identification of peculiar gene expression profile in peripheral blood mononuclear cells (PBMC) of celiac patients on gluten free diet\"\n",
      "!Series_summary\t\"The aim of the present study was to investigate changes in the whole-genome profile of the PBMCs of subjects with celiac disease (vs. controls).\"\n",
      "!Series_overall_design\t\"RNA obtained from PBMCs of the CTRL subjects and celiac patients. Comparisons: control vs celiac\"\n",
      "Sample Characteristics Dictionary:\n",
      "{0: ['disease state: Healthy Control', 'disease state: Celiac Disease'], 1: ['age: 30', 'age: 27', 'age: 31', 'age: 26', 'age: 28', 'age: 32', 'age: 41', 'age: 34', 'age: 25', 'age: 42', 'age: 29', 'age: 21', 'age: 44', 'age: 56', 'age: 50', 'age: 51', 'age: 37'], 2: ['cell type: PBMCs']}\n"
     ]
    }
   ],
   "source": [
    "from utils.preprocess import *\n",
    "# 1. Identify the paths to the soft file and the matrix file\n",
    "cohort_dir = '/media/techt/DATA/GEO/Celiac_Disease/GSE113469'\n",
    "soft_file, matrix_file = geo_get_relevant_filepaths(cohort_dir)\n",
    "\n",
    "# 2. Read the matrix file to obtain background information and sample characteristics data\n",
    "background_prefixes = ['!Series_title', '!Series_summary', '!Series_overall_design']\n",
    "clinical_prefixes = ['!Sample_geo_accession', '!Sample_characteristics_ch1']\n",
    "background_info, clinical_data = get_background_and_clinical_data(matrix_file, background_prefixes, clinical_prefixes)\n",
    "\n",
    "# 3. Obtain the sample characteristics dictionary from the clinical dataframe\n",
    "sample_characteristics_dict = get_unique_values_by_row(clinical_data)\n",
    "\n",
    "# 4. Explicitly print out all the background information and the sample characteristics dictionary\n",
    "print(\"Background Information:\")\n",
    "print(background_info)\n",
    "print(\"Sample Characteristics Dictionary:\")\n",
    "print(sample_characteristics_dict)\n"
   ]
  },
  {
   "cell_type": "markdown",
   "id": "3ec5d150",
   "metadata": {},
   "source": [
    "### Step 2: Dataset Analysis and Clinical Feature Extraction"
   ]
  },
  {
   "cell_type": "code",
   "execution_count": 3,
   "id": "c2d709c9",
   "metadata": {
    "execution": {
     "iopub.execute_input": "2024-06-12T08:18:37.014876Z",
     "iopub.status.busy": "2024-06-12T08:18:37.014769Z",
     "iopub.status.idle": "2024-06-12T08:18:37.024298Z",
     "shell.execute_reply": "2024-06-12T08:18:37.024017Z"
    }
   },
   "outputs": [
    {
     "name": "stdout",
     "output_type": "stream",
     "text": [
      "{'GSM3106457': [0, 30], 'GSM3106458': [0, 30], 'GSM3106459': [0, 27], 'GSM3106460': [0, 31], 'GSM3106461': [0, 26], 'GSM3106462': [0, 27], 'GSM3106463': [0, 28], 'GSM3106464': [0, 28], 'GSM3106465': [0, 31], 'GSM3106466': [0, 32], 'GSM3106467': [0, 41], 'GSM3106468': [0, 34], 'GSM3106469': [0, 30], 'GSM3106470': [0, 31], 'GSM3106471': [0, 25], 'GSM3106472': [0, 26], 'GSM3106473': [0, 42], 'GSM3106474': [0, 31], 'GSM3106475': [0, 31], 'GSM3106476': [0, 29], 'GSM3106477': [1, 27], 'GSM3106478': [1, 21], 'GSM3106479': [1, 21], 'GSM3106480': [1, 27], 'GSM3106481': [1, 44], 'GSM3106482': [1, 56], 'GSM3106483': [1, 41], 'GSM3106484': [1, 28], 'GSM3106485': [1, 28], 'GSM3106486': [1, 50], 'GSM3106487': [1, 51], 'GSM3106488': [1, 41], 'GSM3106489': [1, 32], 'GSM3106490': [1, 34], 'GSM3106491': [1, 37], 'GSM3106492': [1, 50], 'GSM3106493': [1, 25]}\n"
     ]
    }
   ],
   "source": [
    "is_gene_available = False\n",
    "trait_row = age_row = gender_row = None  # set to different values when applicable\n",
    "convert_trait = convert_age = convert_gender = None  # define the functions when applicable\n",
    "\n",
    "# Check for gene expression data availability\n",
    "is_gene_available = True  # based on the phrase \"whole-genome profile of the PBMCs\"\n",
    "\n",
    "# Assign keys for 'Celiac_Disease', 'age', 'gender'\n",
    "trait_row = 0  # 'disease state' information available\n",
    "age_row = 1  # 'age' information available\n",
    "gender_row = None  # 'gender' information is not available\n",
    "\n",
    "# Conversion functions\n",
    "def convert_trait(value):\n",
    "    if 'Healthy Control' in value:\n",
    "        return 0\n",
    "    elif 'Celiac Disease' in value:\n",
    "        return 1\n",
    "    return None\n",
    "\n",
    "def convert_age(value):\n",
    "    try:\n",
    "        age = int(value.split(':')[1].strip())\n",
    "        return age\n",
    "    except ValueError:\n",
    "        return None\n",
    "\n",
    "# Save cohort information\n",
    "save_cohort_info('GSE113469', './preprocessed/Celiac_Disease/cohort_info.json', is_gene_available, trait_row is not None)\n",
    "\n",
    "if trait_row is not None:\n",
    "    selected_clinical_data = geo_select_clinical_features(clinical_data, 'Celiac_Disease', trait_row, convert_trait, age_row, convert_age, gender_row, convert_gender)\n",
    "    csv_path = './preprocessed/Celiac_Disease/trait_data/GSE113469.csv'\n",
    "    selected_clinical_data.to_csv(csv_path)\n",
    "    print(preview_df(selected_clinical_data))\n"
   ]
  },
  {
   "cell_type": "markdown",
   "id": "6d65fd6a",
   "metadata": {},
   "source": [
    "### Step 3: Gene Data Extraction"
   ]
  },
  {
   "cell_type": "code",
   "execution_count": 4,
   "id": "21f265a4",
   "metadata": {
    "execution": {
     "iopub.execute_input": "2024-06-12T08:18:37.026345Z",
     "iopub.status.busy": "2024-06-12T08:18:37.026226Z",
     "iopub.status.idle": "2024-06-12T08:18:37.199479Z",
     "shell.execute_reply": "2024-06-12T08:18:37.199050Z"
    }
   },
   "outputs": [
    {
     "name": "stdout",
     "output_type": "stream",
     "text": [
      "Index(['ILMN_1343291', 'ILMN_1343295', 'ILMN_1651199', 'ILMN_1651209',\n",
      "       'ILMN_1651210', 'ILMN_1651221', 'ILMN_1651228', 'ILMN_1651229',\n",
      "       'ILMN_1651230', 'ILMN_1651232', 'ILMN_1651235', 'ILMN_1651236',\n",
      "       'ILMN_1651237', 'ILMN_1651238', 'ILMN_1651249', 'ILMN_1651253',\n",
      "       'ILMN_1651254', 'ILMN_1651259', 'ILMN_1651260', 'ILMN_1651262'],\n",
      "      dtype='object', name='ID')\n"
     ]
    }
   ],
   "source": [
    "# 1. Use the get_genetic_data function from the library to get the gene_data from the matrix_file previously defined.\n",
    "gene_data = get_genetic_data(matrix_file)\n",
    "\n",
    "# 2. Print the first 20 row ids for the following step.\n",
    "print(gene_data.index[:20])\n"
   ]
  },
  {
   "cell_type": "markdown",
   "id": "96548559",
   "metadata": {},
   "source": [
    "### Step 4: Gene Identifier Review"
   ]
  },
  {
   "cell_type": "code",
   "execution_count": 5,
   "id": "7f5be306",
   "metadata": {
    "execution": {
     "iopub.execute_input": "2024-06-12T08:18:37.201317Z",
     "iopub.status.busy": "2024-06-12T08:18:37.201187Z",
     "iopub.status.idle": "2024-06-12T08:18:37.203314Z",
     "shell.execute_reply": "2024-06-12T08:18:37.203008Z"
    }
   },
   "outputs": [],
   "source": [
    "requires_gene_mapping = True\n"
   ]
  },
  {
   "cell_type": "markdown",
   "id": "05dbba9b",
   "metadata": {},
   "source": [
    "### Step 5: Gene Annotation (Conditional)"
   ]
  },
  {
   "cell_type": "code",
   "execution_count": 6,
   "id": "375c62d2",
   "metadata": {
    "execution": {
     "iopub.execute_input": "2024-06-12T08:18:37.204987Z",
     "iopub.status.busy": "2024-06-12T08:18:37.204889Z",
     "iopub.status.idle": "2024-06-12T08:18:41.448107Z",
     "shell.execute_reply": "2024-06-12T08:18:41.447748Z"
    }
   },
   "outputs": [
    {
     "name": "stdout",
     "output_type": "stream",
     "text": [
      "Gene annotation preview:\n",
      "{'ID': ['ILMN_1343048', 'ILMN_1343049', 'ILMN_1343050', 'ILMN_1343052', 'ILMN_1343059'], 'Species': [nan, nan, nan, nan, nan], 'Source': [nan, nan, nan, nan, nan], 'Search_Key': [nan, nan, nan, nan, nan], 'Transcript': [nan, nan, nan, nan, nan], 'ILMN_Gene': [nan, nan, nan, nan, nan], 'Source_Reference_ID': [nan, nan, nan, nan, nan], 'RefSeq_ID': [nan, nan, nan, nan, nan], 'Unigene_ID': [nan, nan, nan, nan, nan], 'Entrez_Gene_ID': [nan, nan, nan, nan, nan], 'GI': [nan, nan, nan, nan, nan], 'Accession': [nan, nan, nan, nan, nan], 'Symbol': ['phage_lambda_genome', 'phage_lambda_genome', 'phage_lambda_genome:low', 'phage_lambda_genome:low', 'thrB'], 'Protein_Product': [nan, nan, nan, nan, 'thrB'], 'Probe_Id': [nan, nan, nan, nan, nan], 'Array_Address_Id': [5090180.0, 6510136.0, 7560739.0, 1450438.0, 1240647.0], 'Probe_Type': [nan, nan, nan, nan, nan], 'Probe_Start': [nan, nan, nan, nan, nan], 'SEQUENCE': ['GAATAAAGAACAATCTGCTGATGATCCCTCCGTGGATCTGATTCGTGTAA', 'CCATGTGATACGAGGGCGCGTAGTTTGCATTATCGTTTTTATCGTTTCAA', 'CCGACAGATGTATGTAAGGCCAACGTGCTCAAATCTTCATACAGAAAGAT', 'TCTGTCACTGTCAGGAAAGTGGTAAAACTGCAACTCAATTACTGCAATGC', 'CTTGTGCCTGAGCTGTCAAAAGTAGAGCACGTCGCCGAGATGAAGGGCGC'], 'Chromosome': [nan, nan, nan, nan, nan], 'Probe_Chr_Orientation': [nan, nan, nan, nan, nan], 'Probe_Coordinates': [nan, nan, nan, nan, nan], 'Cytoband': [nan, nan, nan, nan, nan], 'Definition': [nan, nan, nan, nan, nan], 'Ontology_Component': [nan, nan, nan, nan, nan], 'Ontology_Process': [nan, nan, nan, nan, nan], 'Ontology_Function': [nan, nan, nan, nan, nan], 'Synonyms': [nan, nan, nan, nan, nan], 'Obsolete_Probe_Id': [nan, nan, nan, nan, nan], 'GB_ACC': [nan, nan, nan, nan, nan]}\n"
     ]
    }
   ],
   "source": [
    "# 1. Use the 'get_gene_annotation' function from the library to get gene annotation data from the soft file.\n",
    "gene_annotation = get_gene_annotation(soft_file)\n",
    "\n",
    "# 2. Use the 'preview_df' function from the library to preview the data and print out the results.\n",
    "print(\"Gene annotation preview:\")\n",
    "print(preview_df(gene_annotation))\n"
   ]
  },
  {
   "cell_type": "markdown",
   "id": "10cbd03f",
   "metadata": {},
   "source": [
    "### Step 6: Gene Identifier Mapping"
   ]
  },
  {
   "cell_type": "code",
   "execution_count": 7,
   "id": "6cefa969",
   "metadata": {
    "execution": {
     "iopub.execute_input": "2024-06-12T08:18:41.450279Z",
     "iopub.status.busy": "2024-06-12T08:18:41.450143Z",
     "iopub.status.idle": "2024-06-12T08:18:41.609189Z",
     "shell.execute_reply": "2024-06-12T08:18:41.608823Z"
    }
   },
   "outputs": [],
   "source": [
    "# 1. Identify the keys storing the identifiers and gene symbols\n",
    "identifier_key = 'ID'\n",
    "gene_symbol_key = 'Symbol'\n",
    "\n",
    "# 2. Get the dataframe storing the mapping between probe IDs and genes using the 'get_gene_mapping' function\n",
    "mapping_df = get_gene_mapping(gene_annotation, identifier_key, gene_symbol_key)\n",
    "\n",
    "# 3. Apply the mapping to the gene expression dataframe\n",
    "gene_data = apply_gene_mapping(gene_data, mapping_df)\n"
   ]
  },
  {
   "cell_type": "markdown",
   "id": "0fe546bd",
   "metadata": {},
   "source": [
    "### Step 7: Data Normalization and Merging"
   ]
  },
  {
   "cell_type": "code",
   "execution_count": 8,
   "id": "f02ecbdc",
   "metadata": {
    "execution": {
     "iopub.execute_input": "2024-06-12T08:18:41.611185Z",
     "iopub.status.busy": "2024-06-12T08:18:41.611068Z",
     "iopub.status.idle": "2024-06-12T08:19:55.114607Z",
     "shell.execute_reply": "2024-06-12T08:19:55.113964Z"
    }
   },
   "outputs": [
    {
     "name": "stdout",
     "output_type": "stream",
     "text": [
      "For the feature 'Celiac_Disease', the least common label is '1.0' with 17 occurrences. This represents 45.95% of the dataset.\n",
      "The distribution of the feature 'Celiac_Disease' in this dataset is fine.\n",
      "\n",
      "Quartiles for 'Age':\n",
      "  25%: 27.0\n",
      "  50% (Median): 31.0\n",
      "  75%: 37.0\n",
      "Min: 21.0\n",
      "Max: 56.0\n",
      "The distribution of the feature 'Age' in this dataset is fine.\n",
      "\n"
     ]
    }
   ],
   "source": [
    "# 1. Normalize the obtained gene data with the 'normalize_gene_symbols_in_index' function from the library.\n",
    "normalized_gene_data = normalize_gene_symbols_in_index(gene_data)\n",
    "gene_csv_path = './preprocessed/Celiac_Disease/gene_data/GSE113469.csv'\n",
    "normalized_gene_data.to_csv(gene_csv_path)\n",
    "\n",
    "# 2. Merge the clinical and genetic data with the 'geo_merge_clinical_genetic_data' function from the library.\n",
    "merged_data = geo_merge_clinical_genetic_data(selected_clinical_data, normalized_gene_data)\n",
    "\n",
    "# 3. Determine whether the trait and some demographic attributes in the data is severely biased, and remove biased attributes.\n",
    "trait_biased, unbiased_merged_data = judge_and_remove_biased_features(merged_data, 'Celiac_Disease')\n",
    "\n",
    "# If the trait is not severely biased, save the cohort information and the merged data.\n",
    "\n",
    "# 4. Save the cohort information.\n",
    "save_cohort_info('GSE113469', './preprocessed/Celiac_Disease/cohort_info.json', True, True, trait_biased, merged_data)\n",
    "\n",
    "if not trait_biased:\n",
    "    # 5. If the trait is not severely biased, save the merged data to a csv file.\n",
    "    csv_path = './preprocessed/Celiac_Disease/GSE113469.csv'\n",
    "    unbiased_merged_data.to_csv(csv_path)\n"
   ]
  }
 ],
 "metadata": {
  "language_info": {
   "codemirror_mode": {
    "name": "ipython",
    "version": 3
   },
   "file_extension": ".py",
   "mimetype": "text/x-python",
   "name": "python",
   "nbconvert_exporter": "python",
   "pygments_lexer": "ipython3",
   "version": "3.8.17"
  }
 },
 "nbformat": 4,
 "nbformat_minor": 5
}
