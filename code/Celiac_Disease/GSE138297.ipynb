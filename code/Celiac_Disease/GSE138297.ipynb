{
 "cells": [
  {
   "cell_type": "code",
   "execution_count": 1,
   "id": "894909ad",
   "metadata": {
    "execution": {
     "iopub.execute_input": "2024-06-12T08:18:33.341138Z",
     "iopub.status.busy": "2024-06-12T08:18:33.340952Z",
     "iopub.status.idle": "2024-06-12T08:18:33.346574Z",
     "shell.execute_reply": "2024-06-12T08:18:33.346039Z"
    }
   },
   "outputs": [],
   "source": [
    "\n",
    "import sys\n",
    "sys.path.append('/home/techt/Desktop/a4s')\n"
   ]
  },
  {
   "cell_type": "markdown",
   "id": "148d9740",
   "metadata": {},
   "source": [
    "### Step 1: Initial Data Loading"
   ]
  },
  {
   "cell_type": "code",
   "execution_count": 2,
   "id": "031dcfc6",
   "metadata": {
    "execution": {
     "iopub.execute_input": "2024-06-12T08:18:33.349324Z",
     "iopub.status.busy": "2024-06-12T08:18:33.348788Z",
     "iopub.status.idle": "2024-06-12T08:18:33.750548Z",
     "shell.execute_reply": "2024-06-12T08:18:33.750164Z"
    }
   },
   "outputs": [
    {
     "name": "stdout",
     "output_type": "stream",
     "text": [
      "Background Information:\n",
      "!Series_title\t\"The host response of IBS patients to allogenic and autologous faecal microbiota transfer\"\n",
      "!Series_summary\t\"In this randomised placebo-controlled trial, irritable bowel syndrome (IBS) patients were treated with faecal material from a healthy donor (n=8, allogenic FMT) or with their own faecal microbiota (n=8, autologous FMT). The faecal transplant was administered by whole colonoscopy into the caecum (30 g of stool in 150 ml sterile saline). Two weeks before the FMT (baseline) as well as two and eight weeks after the FMT, the participants underwent a sigmoidoscopy, and biopsies were collected at a standardised location (20-25 cm from the anal verge at the crossing with the arteria iliaca communis) from an uncleansed sigmoid. In patients treated with allogenic FMT, predominantly immune response-related genes sets were induced, with the strongest response two weeks after FMT. In patients treated with autologous FMT, predominantly metabolism-related gene sets were affected.\"\n",
      "!Series_overall_design\t\"Microarray analysis was performed on sigmoid biopsies from ucleansed colon at baseline, 2 weeks and 8 weeks after FMT .\"\n",
      "Sample Characteristics Dictionary:\n",
      "{0: ['tissue: uncleansed colon'], 1: ['sex (female=1, male=0): 1', 'sex (female=1, male=0): 0'], 2: ['subjectid: 1', 'subjectid: 2', 'subjectid: 3', 'subjectid: 4', 'subjectid: 5', 'subjectid: 6', 'subjectid: 7', 'subjectid: 8', 'subjectid: 10', 'subjectid: 11', 'subjectid: 12', 'subjectid: 13', 'subjectid: 14', 'subjectid: 15', 'subjectid: 16'], 3: ['age (yrs): 49', 'age (yrs): 21', 'age (yrs): 31', 'age (yrs): 59', 'age (yrs): 40', 'age (yrs): 33', 'age (yrs): 28', 'age (yrs): 36', 'age (yrs): 50', 'age (yrs): 27', 'age (yrs): 23', 'age (yrs): 32', 'age (yrs): 38'], 4: ['moment of sampling (pre/post intervention): Baseline (app. 2w before intervention)', 'moment of sampling (pre/post intervention): 2 weeks after intervention', 'moment of sampling (pre/post intervention): 8 weeks after intervention'], 5: ['time of sampling: Morning, after overnight fasting'], 6: ['experimental condition: Allogenic FMT', 'experimental condition: Autologous FMT']}\n"
     ]
    }
   ],
   "source": [
    "from utils.preprocess import *\n",
    "# 1. Identify the paths to the soft file and the matrix file\n",
    "cohort_dir = '/media/techt/DATA/GEO/Celiac_Disease/GSE138297'\n",
    "soft_file, matrix_file = geo_get_relevant_filepaths(cohort_dir)\n",
    "\n",
    "# 2. Read the matrix file to obtain background information and sample characteristics data\n",
    "background_prefixes = ['!Series_title', '!Series_summary', '!Series_overall_design']\n",
    "clinical_prefixes = ['!Sample_geo_accession', '!Sample_characteristics_ch1']\n",
    "background_info, clinical_data = get_background_and_clinical_data(matrix_file, background_prefixes, clinical_prefixes)\n",
    "\n",
    "# 3. Obtain the sample characteristics dictionary from the clinical dataframe\n",
    "sample_characteristics_dict = get_unique_values_by_row(clinical_data)\n",
    "\n",
    "# 4. Explicitly print out all the background information and the sample characteristics dictionary\n",
    "print(\"Background Information:\")\n",
    "print(background_info)\n",
    "print(\"Sample Characteristics Dictionary:\")\n",
    "print(sample_characteristics_dict)\n"
   ]
  },
  {
   "cell_type": "markdown",
   "id": "506855a5",
   "metadata": {},
   "source": [
    "### Step 2: Dataset Analysis and Clinical Feature Extraction"
   ]
  },
  {
   "cell_type": "code",
   "execution_count": 3,
   "id": "ec2f595e",
   "metadata": {
    "execution": {
     "iopub.execute_input": "2024-06-12T08:18:33.752702Z",
     "iopub.status.busy": "2024-06-12T08:18:33.752595Z",
     "iopub.status.idle": "2024-06-12T08:18:33.756208Z",
     "shell.execute_reply": "2024-06-12T08:18:33.755935Z"
    }
   },
   "outputs": [],
   "source": [
    "is_gene_available = False\n",
    "trait_row = age_row = gender_row = None  # set to different values when applicable\n",
    "convert_trait = convert_age = convert_gender = None  # define the functions when applicable\n",
    "\n",
    "# Check if gene expression data is available\n",
    "# According to the series summary, the dataset involves \"Microarray analysis\", so it's likely to contain gene expression data.\n",
    "is_gene_available = True\n",
    "\n",
    "# Determine availability of variables and their corresponding rows\n",
    "# 'Celiac_Disease' information is not explicitly mentioned, so it is not considered available in the sample characteristics\n",
    "trait_row = None\n",
    "\n",
    "# 'age' information is available under key 3\n",
    "age_row = 3\n",
    "\n",
    "# 'gender' information is available under key 1\n",
    "gender_row = 1\n",
    "\n",
    "# Define the conversion functions\n",
    "\n",
    "# Conversion for age: continuous data type\n",
    "def convert_age(value):\n",
    "    try:\n",
    "        return float(value.split(':')[1].strip())\n",
    "    except (ValueError, IndexError):\n",
    "        return None\n",
    "\n",
    "# Conversion for gender: binary data type (female=0, male=1)\n",
    "def convert_gender(value):\n",
    "    try:\n",
    "        gender = int(value.split(':')[1].strip())\n",
    "        return 0 if gender == 1 else 1\n",
    "    except (ValueError, IndexError):\n",
    "        return None\n",
    "\n",
    "# Save cohort information\n",
    "save_cohort_info('GSE138297', './preprocessed/Celiac_Disease/cohort_info.json', is_gene_available, False)\n",
    "\n",
    "# Clinical Feature Extraction is skipped since trait_row is None\n"
   ]
  }
 ],
 "metadata": {
  "language_info": {
   "codemirror_mode": {
    "name": "ipython",
    "version": 3
   },
   "file_extension": ".py",
   "mimetype": "text/x-python",
   "name": "python",
   "nbconvert_exporter": "python",
   "pygments_lexer": "ipython3",
   "version": "3.8.17"
  }
 },
 "nbformat": 4,
 "nbformat_minor": 5
}
