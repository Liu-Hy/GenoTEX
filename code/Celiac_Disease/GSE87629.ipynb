{
 "cells": [
  {
   "cell_type": "code",
   "execution_count": 1,
   "id": "27b55441",
   "metadata": {
    "execution": {
     "iopub.execute_input": "2024-06-12T08:19:55.896731Z",
     "iopub.status.busy": "2024-06-12T08:19:55.896622Z",
     "iopub.status.idle": "2024-06-12T08:19:55.900621Z",
     "shell.execute_reply": "2024-06-12T08:19:55.900364Z"
    }
   },
   "outputs": [],
   "source": [
    "\n",
    "import sys\n",
    "sys.path.append('/home/techt/Desktop/a4s')\n"
   ]
  },
  {
   "cell_type": "markdown",
   "id": "6866ed31",
   "metadata": {},
   "source": [
    "### Step 1: Initial Data Loading"
   ]
  },
  {
   "cell_type": "code",
   "execution_count": 2,
   "id": "c62d8d51",
   "metadata": {
    "execution": {
     "iopub.execute_input": "2024-06-12T08:19:55.901910Z",
     "iopub.status.busy": "2024-06-12T08:19:55.901812Z",
     "iopub.status.idle": "2024-06-12T08:19:56.182392Z",
     "shell.execute_reply": "2024-06-12T08:19:56.182014Z"
    }
   },
   "outputs": [
    {
     "name": "stdout",
     "output_type": "stream",
     "text": [
      "Background Information:\n",
      "!Series_title\t\"Genome-wide analysis of B and T cell gene expression during a six-week gluten challenge in patients with celiac disease\"\n",
      "!Series_summary\t\"Dietary gluten proteins (prolamins) from wheat, rye, and barley are the driving forces behind celiac disease, an organ-specific autoimmune disorder that targets both the small intestine and organs outside the gut. In the small intestine, gluten induces inflammation and a typical morphological change of villous atrophy and crypt hyperplasia. Gut lesions improve and heal when gluten is excluded from the diet and the disease relapses when patients consume gluten. Oral immune tolerance towards gluten may be kept for years or decades before breaking tolerance in genetically susceptible individuals. Celiac disease provides a unique opportunity to study autoimmunity and the transition in immune cells as gluten breaks oral tolerance. Seventy-three celiac disease patients on a long-term gluten-free diet ingested a known amount of gluten daily for six weeks. A peripheral blood sample and intestinal biopsies were taken before and six weeks after initiating the gluten challenge. Biopsy results were reported on a continuous numeric scale that measured the villus height to crypt depth ratio to quantify gluten-induced gut mucosal injury. Pooled B and T cells were isolated from whole blood, and RNA was analyzed by DNA microarray looking for changes in peripheral B- and T-cell gene expression that correlated with changes in villus height to crypt depth, as patients maintained or broke oral tolerance in the face of a gluten challenge.\"\n",
      "!Series_overall_design\t\"Whole blood sample were taken before and six weeks after a gluten challenge in 73 patients with celiac disease. B and T cells were purified from whole blood using anti-CD3 and anti-CD19 conjugated magnetic beads. Total RNA obtained from the purified pool of B and T cells was used for DNA microarray analysis using the Illumina platform.\"\n",
      "Sample Characteristics Dictionary:\n",
      "{0: ['individual: celiac patient AA', 'individual: celiac patient AB', 'individual: celiac patient AC', 'individual: celiac patient AD', 'individual: celiac patient AE', 'individual: celiac patient AF', 'individual: celiac patient AG', 'individual: celiac patient AH', 'individual: celiac patient AI', 'individual: celiac patient AJ', 'individual: celiac patient AK', 'individual: celiac patient AL', 'individual: celiac patient AM', 'individual: celiac patient AN', 'individual: celiac patient AO', 'individual: celiac patient AP', 'individual: celiac patient AQ', 'individual: celiac patient AR', 'individual: celiac patient AS', 'individual: celiac patient AT', 'individual: celiac patient AU', 'individual: celiac patient AV', 'individual: celiac patient AW', 'individual: celiac patient AX', 'individual: celiac patient AY', 'individual: celiac patient BK', 'individual: celiac patient CA', 'individual: celiac patient CB', 'individual: celiac patient CE', 'individual: celiac patient CG'], 1: ['disease state: biopsy confirmed celiac disease on gluten-free diet greater than one year'], 2: ['treatment: control', 'treatment: 6 weeks gluten challenge'], 3: ['tissue: peripheral whole blood'], 4: ['cell type: purified pool of B and T cells'], 5: ['biopsy data, villus height to crypt depth: 2.5', 'biopsy data, villus height to crypt depth: 0.9', 'biopsy data, villus height to crypt depth: 2.3', 'biopsy data, villus height to crypt depth: 3.4', 'biopsy data, villus height to crypt depth: 0.3', 'biopsy data, villus height to crypt depth: 1.1', 'biopsy data, villus height to crypt depth: 2.4', 'biopsy data, villus height to crypt depth: 2.7', 'biopsy data, villus height to crypt depth: 0.4', 'biopsy data, villus height to crypt depth: 1.2', 'biopsy data, villus height to crypt depth: 2.6', 'biopsy data, villus height to crypt depth: 2.9', 'biopsy data, villus height to crypt depth: 1.6', 'biopsy data, villus height to crypt depth: 1.3', 'biopsy data, villus height to crypt depth: 3.3', 'biopsy data, villus height to crypt depth: 2.2', 'biopsy data, villus height to crypt depth: 2.8', 'biopsy data, villus height to crypt depth: 3', 'biopsy data, villus height to crypt depth: 3.2', 'biopsy data, villus height to crypt depth: 0.7', 'biopsy data, villus height to crypt depth: 1.7', 'biopsy data, villus height to crypt depth: 0.2', 'biopsy data, villus height to crypt depth: 3.1', 'biopsy data, villus height to crypt depth: 0.6', 'biopsy data, villus height to crypt depth: 1', 'biopsy data, villus height to crypt depth: 3.6', 'biopsy data, villus height to crypt depth: 2', 'biopsy data, villus height to crypt depth: 1.5', 'biopsy data, villus height to crypt depth: 1.4'], 6: ['hybridization batch: 2', 'hybridization batch: 3', 'hybridization batch: 4']}\n"
     ]
    }
   ],
   "source": [
    "from utils.preprocess import *\n",
    "# 1. Identify the paths to the soft file and the matrix file\n",
    "cohort_dir = '/media/techt/DATA/GEO/Celiac_Disease/GSE87629'\n",
    "soft_file, matrix_file = geo_get_relevant_filepaths(cohort_dir)\n",
    "\n",
    "# 2. Read the matrix file to obtain background information and sample characteristics data\n",
    "background_prefixes = ['!Series_title', '!Series_summary', '!Series_overall_design']\n",
    "clinical_prefixes = ['!Sample_geo_accession', '!Sample_characteristics_ch1']\n",
    "background_info, clinical_data = get_background_and_clinical_data(matrix_file, background_prefixes, clinical_prefixes)\n",
    "\n",
    "# 3. Obtain the sample characteristics dictionary from the clinical dataframe\n",
    "sample_characteristics_dict = get_unique_values_by_row(clinical_data)\n",
    "\n",
    "# 4. Explicitly print out all the background information and the sample characteristics dictionary\n",
    "print(\"Background Information:\")\n",
    "print(background_info)\n",
    "print(\"Sample Characteristics Dictionary:\")\n",
    "print(sample_characteristics_dict)\n"
   ]
  },
  {
   "cell_type": "markdown",
   "id": "9cb0a5f3",
   "metadata": {},
   "source": [
    "### Step 2: Dataset Analysis and Clinical Feature Extraction"
   ]
  },
  {
   "cell_type": "code",
   "execution_count": 3,
   "id": "65011e3e",
   "metadata": {
    "execution": {
     "iopub.execute_input": "2024-06-12T08:19:56.184509Z",
     "iopub.status.busy": "2024-06-12T08:19:56.184375Z",
     "iopub.status.idle": "2024-06-12T08:19:56.197247Z",
     "shell.execute_reply": "2024-06-12T08:19:56.196933Z"
    }
   },
   "outputs": [
    {
     "name": "stdout",
     "output_type": "stream",
     "text": [
      "{'GSM2335776': [None], 'GSM2335777': [None], 'GSM2335778': [None], 'GSM2335779': [None], 'GSM2335780': [None], 'GSM2335781': [None], 'GSM2335782': [None], 'GSM2335783': [None], 'GSM2335784': [None], 'GSM2335785': [None], 'GSM2335786': [None], 'GSM2335787': [None], 'GSM2335788': [None], 'GSM2335789': [None], 'GSM2335790': [None], 'GSM2335791': [None], 'GSM2335792': [None], 'GSM2335793': [None], 'GSM2335794': [None], 'GSM2335795': [None], 'GSM2335796': [None], 'GSM2335797': [None], 'GSM2335798': [None], 'GSM2335799': [None], 'GSM2335800': [None], 'GSM2335801': [None], 'GSM2335802': [None], 'GSM2335803': [None], 'GSM2335804': [None], 'GSM2335805': [None], 'GSM2335806': [None], 'GSM2335807': [None], 'GSM2335808': [None], 'GSM2335809': [None], 'GSM2335810': [None], 'GSM2335811': [None], 'GSM2335812': [None], 'GSM2335813': [None], 'GSM2335814': [None], 'GSM2335815': [None], 'GSM2335816': [None], 'GSM2335817': [None], 'GSM2335820': [None], 'GSM2335821': [None], 'GSM2335822': [None], 'GSM2335823': [None], 'GSM2335824': [None], 'GSM2335825': [None], 'GSM2335826': [None], 'GSM2335827': [None], 'GSM2335828': [None], 'GSM2335829': [None], 'GSM2335830': [None], 'GSM2335831': [None], 'GSM2335832': [None], 'GSM2335833': [None], 'GSM2335834': [None], 'GSM2335835': [None], 'GSM2335836': [None], 'GSM2335837': [None], 'GSM2335838': [None], 'GSM2335839': [None], 'GSM2335840': [None], 'GSM2335841': [None], 'GSM2335842': [None], 'GSM2335843': [None], 'GSM2335844': [None], 'GSM2335845': [None], 'GSM2335846': [None], 'GSM2335847': [None], 'GSM2335850': [None], 'GSM2335851': [None], 'GSM2335852': [None], 'GSM2335853': [None], 'GSM2335854': [None], 'GSM2335855': [None], 'GSM2335856': [None], 'GSM2335857': [None], 'GSM2335858': [None], 'GSM2335859': [None], 'GSM2335860': [None], 'GSM2335861': [None], 'GSM2335862': [None], 'GSM2335863': [None], 'GSM2335864': [None], 'GSM2335865': [None], 'GSM2335866': [None], 'GSM2335867': [None], 'GSM2335868': [None], 'GSM2335869': [None], 'GSM2335870': [None], 'GSM2335871': [None], 'GSM2335872': [None], 'GSM2335873': [None], 'GSM2335874': [None], 'GSM2335875': [None], 'GSM2335876': [None], 'GSM2335877': [None], 'GSM2335878': [None], 'GSM2335879': [None], 'GSM2335880': [None], 'GSM2335881': [None], 'GSM2335882': [None], 'GSM2335883': [None], 'GSM2335884': [None], 'GSM2335885': [None], 'GSM2335921': [None]}\n"
     ]
    }
   ],
   "source": [
    "is_gene_available = False\n",
    "trait_row = age_row = gender_row = None  # set to different values when applicable\n",
    "convert_trait = convert_age = convert_gender = None  # define the functions when applicable\n",
    "\n",
    "# Check for gene expression data\n",
    "if any('gene expression' in info.lower() or 'microarray' in info.lower() for info_list in sample_characteristics_dict.values() for info in info_list):\n",
    "    is_gene_available = True\n",
    "\n",
    "# Identify the available rows for each variable\n",
    "trait_row = 1 if any('celiac disease' in info.lower() for info in sample_characteristics_dict[1]) else None\n",
    "age_row = None  # No age information found in given data\n",
    "gender_row = None  # No gender information found in given data\n",
    "\n",
    "# Define the conversion functions\n",
    "def convert_trait(value):\n",
    "    if value:\n",
    "        if 'control' in value.lower():\n",
    "            return 0\n",
    "        elif 'gluten challenge' in value.lower():\n",
    "            return 1\n",
    "    return None\n",
    "\n",
    "# Adjusted conversion functions to return None when rows not available\n",
    "convert_age = lambda value: None\n",
    "convert_gender = lambda value: None\n",
    "\n",
    "# Save metadata\n",
    "save_cohort_info('GSE87629', './preprocessed/Celiac_Disease/cohort_info.json', is_gene_available, trait_row is not None)\n",
    "\n",
    "# Clinical feature extraction\n",
    "if trait_row is not None:\n",
    "    try:\n",
    "        selected_clinical_data = geo_select_clinical_features(clinical_data, 'Celiac_Disease', trait_row, convert_trait, age_row, convert_age, gender_row, convert_gender)\n",
    "        csv_path = './preprocessed/Celiac_Disease/trait_data/GSE87629.csv'\n",
    "        selected_clinical_data.to_csv(csv_path)\n",
    "        print(preview_df(selected_clinical_data))\n",
    "    except Exception as e:\n",
    "        print(f\"Clinical feature extraction error: {e}\")\n"
   ]
  }
 ],
 "metadata": {
  "language_info": {
   "codemirror_mode": {
    "name": "ipython",
    "version": 3
   },
   "file_extension": ".py",
   "mimetype": "text/x-python",
   "name": "python",
   "nbconvert_exporter": "python",
   "pygments_lexer": "ipython3",
   "version": "3.8.17"
  }
 },
 "nbformat": 4,
 "nbformat_minor": 5
}
