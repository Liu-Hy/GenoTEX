{
 "cells": [
  {
   "cell_type": "code",
   "execution_count": 1,
   "id": "3aba920d",
   "metadata": {
    "execution": {
     "iopub.execute_input": "2024-06-12T10:46:30.437258Z",
     "iopub.status.busy": "2024-06-12T10:46:30.437155Z",
     "iopub.status.idle": "2024-06-12T10:46:30.441651Z",
     "shell.execute_reply": "2024-06-12T10:46:30.441231Z"
    }
   },
   "outputs": [],
   "source": [
    "\n",
    "import sys\n",
    "sys.path.append('/home/techt/Desktop/a4s')\n"
   ]
  },
  {
   "cell_type": "markdown",
   "id": "9bb6584b",
   "metadata": {},
   "source": [
    "### Step 1: Initial Data Loading"
   ]
  },
  {
   "cell_type": "code",
   "execution_count": 2,
   "id": "a8e65026",
   "metadata": {
    "execution": {
     "iopub.execute_input": "2024-06-12T10:46:30.443812Z",
     "iopub.status.busy": "2024-06-12T10:46:30.443711Z",
     "iopub.status.idle": "2024-06-12T10:46:30.841857Z",
     "shell.execute_reply": "2024-06-12T10:46:30.841345Z"
    }
   },
   "outputs": [
    {
     "name": "stdout",
     "output_type": "stream",
     "text": [
      "Background Information:\n",
      "!Series_title\t\"Genomic profiling of the overlap phenotype between psoriasis and atopic dermatitis\"\n",
      "!Series_summary\t\"Clinical overlaps between psoriasis and atopic dermatitis are sometimes undiscernible, and there is no consensus whether to treat the overlap phenotype as psoriasis or atopic dermatitis. We enrolled patients diagnosed with either psoriasis or atopic dermatitis, and clinically re-stratified them into classic psoriasis, classic atopic dermatitis, and the overlap phenotype between psoriasis and atopic dermatitis. We compared gene expression profiles of lesional and nonlesional skin biopsy tissues between the three comparison groups. Global mRNA expression and T-cell subset cytokine expression in the skin of the overlap phenotype were consistent with the profiles of psoriasis and different from the profiles of atopic dermatitis. Unsupervised k-means clustering indicated that the best number of distinct clusters for the total population of the three comparison groups was two, and the two clusters of psoriasis and atopic dermatitis were differentiated by gene expression. Our study suggests that clinical overlap phenotype between psoriasis and atopic dermatitis has dominant molecular features of psoriasis, and genomic biomarkers can differentiate psoriasis and atopic dermatitis at molecular levels in patients with a spectrum of psoriasis and atopic dermatitis. \"\n",
      "!Series_overall_design\t\"Whole tissue samples of 20 atopic dermatitis (10 lesional and 10 nonlesional),  33 overlap phenotype of atopic dermatitis and psoriasis (17 lesional and 16 nonlesional), 16 psoriasis (9 lesional and 7 nonlesional), and 6 normal skin (including GSE78097 data) were obtained via skin biopsy and subjected to microarray analysis.\"\n",
      "Sample Characteristics Dictionary:\n",
      "{0: ['tissue: skin'], 1: ['disease: Psoriasis', 'disease: Atopic_dermatitis', 'disease: Mixed', 'disease: Normal_skin'], 2: ['lesional (ls) vs. nonlesional (nl) vs. normal: LS', 'lesional (ls) vs. nonlesional (nl) vs. normal: NL', 'lesional (ls) vs. nonlesional (nl) vs. normal: Normal'], 3: ['psoriasis area and diseave severity index (pasi): 10.1', 'psoriasis area and diseave severity index (pasi): 7.9', 'psoriasis area and diseave severity index (pasi): 10.4', 'psoriasis area and diseave severity index (pasi): 9', 'psoriasis area and diseave severity index (pasi): 18.4', 'psoriasis area and diseave severity index (pasi): 11.1', 'psoriasis area and diseave severity index (pasi): 8.5', 'psoriasis area and diseave severity index (pasi): 7.1', 'psoriasis area and diseave severity index (pasi): 6.3', 'psoriasis area and diseave severity index (pasi): 10.8', 'psoriasis area and diseave severity index (pasi): 7.4', 'psoriasis area and diseave severity index (pasi): 3.5', 'psoriasis area and diseave severity index (pasi): 4.7', 'psoriasis area and diseave severity index (pasi): 4', 'psoriasis area and diseave severity index (pasi): 25.4', 'psoriasis area and diseave severity index (pasi): 5.8', 'psoriasis area and diseave severity index (pasi): 6', 'psoriasis area and diseave severity index (pasi): 17.2', 'psoriasis area and diseave severity index (pasi): 7.6', 'psoriasis area and diseave severity index (pasi): 3.6', 'psoriasis area and diseave severity index (pasi): 2.4', 'psoriasis area and diseave severity index (pasi): 2.9', 'psoriasis area and diseave severity index (pasi): 17.9', 'psoriasis area and diseave severity index (pasi): 1.4', 'psoriasis area and diseave severity index (pasi): 18', 'psoriasis area and diseave severity index (pasi): 10.6', 'psoriasis area and diseave severity index (pasi): 11.8', 'psoriasis area and diseave severity index (pasi): 6.6', 'psoriasis area and diseave severity index (pasi): 20.4', 'psoriasis area and diseave severity index (pasi): 17.7'], 4: ['scoring atopic dermatitis (scorad): 19.97', 'scoring atopic dermatitis (scorad): 41.94', 'scoring atopic dermatitis (scorad): 46.98', 'scoring atopic dermatitis (scorad): 36.38', 'scoring atopic dermatitis (scorad): 81.92', 'scoring atopic dermatitis (scorad): 39.24', 'scoring atopic dermatitis (scorad): 51.74', 'scoring atopic dermatitis (scorad): 17.03', 'scoring atopic dermatitis (scorad): 35.2', 'scoring atopic dermatitis (scorad): 29.64', 'scoring atopic dermatitis (scorad): 43.3', 'scoring atopic dermatitis (scorad): 42.97', 'scoring atopic dermatitis (scorad): 13.22', 'scoring atopic dermatitis (scorad): 13.87', 'scoring atopic dermatitis (scorad): 14.29', 'scoring atopic dermatitis (scorad): 36.44', 'scoring atopic dermatitis (scorad): 21.94', 'scoring atopic dermatitis (scorad): 18.62', 'scoring atopic dermatitis (scorad): 30.2', 'scoring atopic dermatitis (scorad): 17.14', 'scoring atopic dermatitis (scorad): 16.99', 'scoring atopic dermatitis (scorad): 14.51', 'scoring atopic dermatitis (scorad): 12.64', 'scoring atopic dermatitis (scorad): 16.33', 'scoring atopic dermatitis (scorad): 32.31', 'scoring atopic dermatitis (scorad): 14.52', 'scoring atopic dermatitis (scorad): 30.49', 'scoring atopic dermatitis (scorad): 29.03', 'scoring atopic dermatitis (scorad): 33.96', 'scoring atopic dermatitis (scorad): 12.76'], 5: ['eczema area and severity index (easi): 9.4', 'eczema area and severity index (easi): 22.65', 'eczema area and severity index (easi): 25.55', 'eczema area and severity index (easi): 25.5', 'eczema area and severity index (easi): 47.65', 'eczema area and severity index (easi): 18.9', 'eczema area and severity index (easi): 28.65', 'eczema area and severity index (easi): 9.6', 'eczema area and severity index (easi): 20.95', 'eczema area and severity index (easi): 23.5', 'eczema area and severity index (easi): 29.6', 'eczema area and severity index (easi): 18.85', 'eczema area and severity index (easi): 5.8', 'eczema area and severity index (easi): 5.4', 'eczema area and severity index (easi): 10.2', 'eczema area and severity index (easi): 33', 'eczema area and severity index (easi): 14.5', 'eczema area and severity index (easi): 16.3', 'eczema area and severity index (easi): 16.8', 'eczema area and severity index (easi): 5.1', 'eczema area and severity index (easi): 2.85', 'eczema area and severity index (easi): 4.8', 'eczema area and severity index (easi): 2.5', 'eczema area and severity index (easi): 3.1', 'eczema area and severity index (easi): 20.6', 'eczema area and severity index (easi): 1.4', 'eczema area and severity index (easi): 20.5', 'eczema area and severity index (easi): 20.3', 'eczema area and severity index (easi): 17.1', 'eczema area and severity index (easi): 4.1'], 6: ['treatment: Pretreatment', 'sample relation with gse78097 (reanalysis): GSM2066662', 'sample relation with gse78097 (reanalysis): GSM2066663', 'sample relation with gse78097 (reanalysis): GSM2066664', 'sample relation with gse78097 (reanalysis): GSM2066665', 'sample relation with gse78097 (reanalysis): GSM2066666', 'sample relation with gse78097 (reanalysis): GSM2066667'], 7: [nan, 'treatment: Pretreatment']}\n"
     ]
    }
   ],
   "source": [
    "from utils.preprocess import *\n",
    "# 1. Identify the paths to the soft file and the matrix file\n",
    "cohort_dir = '/media/techt/DATA/GEO/Allergies/GSE182740'\n",
    "soft_file, matrix_file = geo_get_relevant_filepaths(cohort_dir)\n",
    "\n",
    "# 2. Read the matrix file to obtain background information and sample characteristics data\n",
    "background_prefixes = ['!Series_title', '!Series_summary', '!Series_overall_design']\n",
    "clinical_prefixes = ['!Sample_geo_accession', '!Sample_characteristics_ch1']\n",
    "background_info, clinical_data = get_background_and_clinical_data(matrix_file, background_prefixes, clinical_prefixes)\n",
    "\n",
    "# 3. Obtain the sample characteristics dictionary from the clinical dataframe\n",
    "sample_characteristics_dict = get_unique_values_by_row(clinical_data)\n",
    "\n",
    "# 4. Explicitly print out all the background information and the sample characteristics dictionary\n",
    "print(\"Background Information:\")\n",
    "print(background_info)\n",
    "print(\"Sample Characteristics Dictionary:\")\n",
    "print(sample_characteristics_dict)\n"
   ]
  },
  {
   "cell_type": "markdown",
   "id": "4ca56eaa",
   "metadata": {},
   "source": [
    "### Step 2: Dataset Analysis and Clinical Feature Extraction"
   ]
  },
  {
   "cell_type": "code",
   "execution_count": 3,
   "id": "771878cc",
   "metadata": {
    "execution": {
     "iopub.execute_input": "2024-06-12T10:46:30.843766Z",
     "iopub.status.busy": "2024-06-12T10:46:30.843629Z",
     "iopub.status.idle": "2024-06-12T10:46:30.849400Z",
     "shell.execute_reply": "2024-06-12T10:46:30.848823Z"
    }
   },
   "outputs": [],
   "source": [
    "is_gene_available = False\n",
    "trait_row = age_row = gender_row = None  # set to different values when applicable\n",
    "convert_trait = convert_age = convert_gender = None  # define the functions when applicable\n",
    "\n",
    "import os\n",
    "import pandas as pd  # Assuming pandas import is necessary for further processing\n",
    "import json\n",
    "\n",
    "def extract_value(cell):\n",
    "    if pd.isna(cell):\n",
    "        return None\n",
    "    return cell.split(': ')[1] if isinstance(cell, str) and ': ' in cell else None\n",
    "\n",
    "# Check if the dataset is likely to contain gene expression data\n",
    "if 'gene expression' in \"!Series_summary\".lower():\n",
    "    is_gene_available = True\n",
    "\n",
    "# Define explicit conversion functions that return None\n",
    "def convert_trait(x):\n",
    "    return None\n",
    "\n",
    "def convert_age(x):\n",
    "    return None\n",
    "\n",
    "def convert_gender(x):\n",
    "    return None\n",
    "\n",
    "# Save cohort information\n",
    "def save_cohort_info(series_id, filepath, is_gene_available, is_clinical_available):\n",
    "    cohort_info = {\n",
    "        \"series_id\": series_id, \n",
    "        \"is_gene_available\": is_gene_available, \n",
    "        \"is_clinical_available\": is_clinical_available\n",
    "    }\n",
    "    os.makedirs(os.path.dirname(filepath), exist_ok=True)\n",
    "    with open(filepath, 'w') as f:\n",
    "        json.dump(cohort_info, f)\n",
    "\n",
    "save_cohort_info('GSE182740', './preprocessed/Allergies/cohort_info.json', is_gene_available, trait_row is not None)\n",
    "\n",
    "# If trait_row is available, then extract clinical features\n",
    "if trait_row is not None:\n",
    "    selected_clinical_data = geo_select_clinical_features(clinical_data, 'Allergies', trait_row, convert_trait, age_row, convert_age, gender_row, convert_gender)\n",
    "    csv_path = './preprocessed/Allergies/trait_data/GSE182740.csv'\n",
    "    selected_clinical_data.to_csv(csv_path)\n",
    "    print(preview_df(selected_clinical_data))\n"
   ]
  }
 ],
 "metadata": {
  "language_info": {
   "codemirror_mode": {
    "name": "ipython",
    "version": 3
   },
   "file_extension": ".py",
   "mimetype": "text/x-python",
   "name": "python",
   "nbconvert_exporter": "python",
   "pygments_lexer": "ipython3",
   "version": "3.8.17"
  }
 },
 "nbformat": 4,
 "nbformat_minor": 5
}
