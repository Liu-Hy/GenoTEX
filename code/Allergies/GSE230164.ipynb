{
 "cells": [
  {
   "cell_type": "code",
   "execution_count": 1,
   "id": "f4444802",
   "metadata": {
    "execution": {
     "iopub.execute_input": "2024-06-12T10:46:34.846796Z",
     "iopub.status.busy": "2024-06-12T10:46:34.846632Z",
     "iopub.status.idle": "2024-06-12T10:46:34.853660Z",
     "shell.execute_reply": "2024-06-12T10:46:34.853037Z"
    }
   },
   "outputs": [],
   "source": [
    "\n",
    "import sys\n",
    "sys.path.append('/home/techt/Desktop/a4s')\n"
   ]
  },
  {
   "cell_type": "markdown",
   "id": "f3d30a16",
   "metadata": {},
   "source": [
    "### Step 1: Initial Data Loading"
   ]
  },
  {
   "cell_type": "code",
   "execution_count": 2,
   "id": "b70dd601",
   "metadata": {
    "execution": {
     "iopub.execute_input": "2024-06-12T10:46:34.855224Z",
     "iopub.status.busy": "2024-06-12T10:46:34.855092Z",
     "iopub.status.idle": "2024-06-12T10:46:35.335159Z",
     "shell.execute_reply": "2024-06-12T10:46:35.334821Z"
    }
   },
   "outputs": [
    {
     "name": "stdout",
     "output_type": "stream",
     "text": [
      "Background Information:\n",
      "!Series_title\t\"Gene expression profiling of asthma\"\n",
      "!Series_summary\t\"This SuperSeries is composed of the SubSeries listed below.\"\n",
      "!Series_overall_design\t\"Refer to individual Series\"\n",
      "Sample Characteristics Dictionary:\n",
      "{0: ['gender: female', 'gender: male']}\n"
     ]
    }
   ],
   "source": [
    "from utils.preprocess import *\n",
    "# 1. Identify the paths to the soft file and the matrix file\n",
    "cohort_dir = '/media/techt/DATA/GEO/Allergies/GSE230164'\n",
    "soft_file, matrix_file = geo_get_relevant_filepaths(cohort_dir)\n",
    "\n",
    "# 2. Read the matrix file to obtain background information and sample characteristics data\n",
    "background_prefixes = ['!Series_title', '!Series_summary', '!Series_overall_design']\n",
    "clinical_prefixes = ['!Sample_geo_accession', '!Sample_characteristics_ch1']\n",
    "background_info, clinical_data = get_background_and_clinical_data(matrix_file, background_prefixes, clinical_prefixes)\n",
    "\n",
    "# 3. Obtain the sample characteristics dictionary from the clinical dataframe\n",
    "sample_characteristics_dict = get_unique_values_by_row(clinical_data)\n",
    "\n",
    "# 4. Explicitly print out all the background information and the sample characteristics dictionary\n",
    "print(\"Background Information:\")\n",
    "print(background_info)\n",
    "print(\"Sample Characteristics Dictionary:\")\n",
    "print(sample_characteristics_dict)\n"
   ]
  },
  {
   "cell_type": "markdown",
   "id": "b6c3ca52",
   "metadata": {},
   "source": [
    "### Step 2: Dataset Analysis and Clinical Feature Extraction"
   ]
  },
  {
   "cell_type": "code",
   "execution_count": 3,
   "id": "07264bd7",
   "metadata": {
    "execution": {
     "iopub.execute_input": "2024-06-12T10:46:35.336721Z",
     "iopub.status.busy": "2024-06-12T10:46:35.336608Z",
     "iopub.status.idle": "2024-06-12T10:46:35.340458Z",
     "shell.execute_reply": "2024-06-12T10:46:35.340153Z"
    }
   },
   "outputs": [],
   "source": [
    "is_gene_available = False\n",
    "trait_row = age_row = gender_row = None  # set to different values when applicable\n",
    "convert_trait = convert_age = convert_gender = None  # define the functions when applicable\n",
    "\n",
    "# Determine if gene expression data is available\n",
    "# Based on the title and summary, it appears that gene expression data is available\n",
    "is_gene_available = True \n",
    "\n",
    "# Analyze sample characteristics for variable availability\n",
    "sample_characteristics_dict = {0: ['gender: female', 'gender: male']}\n",
    "\n",
    "# Gender\n",
    "if 'gender: female' in sample_characteristics_dict[0] and 'gender: male' in sample_characteristics_dict[0]:\n",
    "    gender_row = 0\n",
    "\n",
    "# Traits and Age\n",
    "# As the output did not show age or trait, assume no valid key for traits ('Allergies') and age\n",
    "# If detailed data becomes available, the keys below have to be updated.\n",
    "trait_row = None\n",
    "age_row = None\n",
    "\n",
    "# Define data conversion functions\n",
    "def convert_trait(value):\n",
    "    return None  # As trait_row is None, conversion is not applicable\n",
    "\n",
    "def convert_age(value):\n",
    "    return None  # As age_row is None, conversion is not applicable\n",
    "\n",
    "def convert_gender(value):\n",
    "    if 'female' in value.lower():\n",
    "        return 0\n",
    "    elif 'male' in value.lower():\n",
    "        return 1\n",
    "    else:\n",
    "        return None\n",
    "\n",
    "# Save cohort information\n",
    "save_cohort_info('GSE230164', './preprocessed/Allergies/cohort_info.json', is_gene_available, trait_row is not None)\n",
    "\n",
    "# Clinical feature extraction (skipped since trait_row is None)\n"
   ]
  }
 ],
 "metadata": {
  "language_info": {
   "codemirror_mode": {
    "name": "ipython",
    "version": 3
   },
   "file_extension": ".py",
   "mimetype": "text/x-python",
   "name": "python",
   "nbconvert_exporter": "python",
   "pygments_lexer": "ipython3",
   "version": "3.8.17"
  }
 },
 "nbformat": 4,
 "nbformat_minor": 5
}
