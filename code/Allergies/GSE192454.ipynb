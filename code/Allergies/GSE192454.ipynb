{
 "cells": [
  {
   "cell_type": "code",
   "execution_count": 1,
   "id": "3dbd3218",
   "metadata": {
    "execution": {
     "iopub.execute_input": "2024-06-12T10:46:36.043924Z",
     "iopub.status.busy": "2024-06-12T10:46:36.043439Z",
     "iopub.status.idle": "2024-06-12T10:46:36.050387Z",
     "shell.execute_reply": "2024-06-12T10:46:36.049847Z"
    }
   },
   "outputs": [],
   "source": [
    "\n",
    "import sys\n",
    "sys.path.append('/home/techt/Desktop/a4s')\n"
   ]
  },
  {
   "cell_type": "markdown",
   "id": "89445c2c",
   "metadata": {},
   "source": [
    "### Step 1: Initial Data Loading"
   ]
  },
  {
   "cell_type": "code",
   "execution_count": 2,
   "id": "4d78e4ef",
   "metadata": {
    "execution": {
     "iopub.execute_input": "2024-06-12T10:46:36.052956Z",
     "iopub.status.busy": "2024-06-12T10:46:36.052756Z",
     "iopub.status.idle": "2024-06-12T10:46:36.386329Z",
     "shell.execute_reply": "2024-06-12T10:46:36.386005Z"
    }
   },
   "outputs": [
    {
     "name": "stdout",
     "output_type": "stream",
     "text": [
      "Background Information:\n",
      "!Series_title\t\"Host cellular and immune responses in models of inflammatory skin conditions\"\n",
      "!Series_summary\t\"Skin colonisation of varied communities of commensal microorganisms, such as Staphylococcus aureus (SA), Staphylococcus epidermidis (SE) and Staphylococcus capitis (SC) form the microbiome; a necessity for healthy skin. The skin changes characteristic of atopic dermatitis, a common inflammatory skin disease, have been shown to provide a favourable niche for SA colonisation. We utilised a reconstructed human epidermal (RHE) model recapitulating the stratified anatomy of the epidermis on which to test host responses to bacterial colonisation. SA proliferation was significantly inhibited in contrast to that seen with SE at both high and low colonisation loads after 24 hours. These data strongly suggest species specific regulation of staphylococcal growth, which is partially mediated by interaction with the epidermis.\"\n",
      "!Series_overall_design\t\"Confluent monolayer primary keratinocyte cultures were used to seed and establish reconstituted human epideris models after 13-15 days of growth within cell culture inserts at the air-liquid interface. Approximate absolute numbers of 10^6 CFU of bacteria were used per model for the challenge protocol. Models were challeged with either S. aureus (ATCC 29213 or NCTC-8325-4), S. epidermidis (ATCC 12228) or S. capitis (ATCC 27840). The challenge protocol consisted of an intial three hour incubation, at which point the 3-hour samples were collected, the 24-hour samples were then treated by PBS washing and further incubation of 21 hours. Subsequently models underwent trypsinisation and lysis for RNA extraction and whole transcriptome profiline by microarray. S. aureus ATCC 29213 proved destructive to models at 24h so data are not avialble for this strain at this timepoint. All three and 24 hour time points were conducted in triplicate or quadruplicate, while only a single unchallenged baseline sample was used for comparisons.\"\n",
      "Sample Characteristics Dictionary:\n",
      "{0: ['tissue_type: reconsituted human epidermis (RHE)'], 1: ['bacterial_challenge: Control', 'bacterial_challenge: S. aureus NCTC-8325-4', 'bacterial_challenge: S. capitis ATCC 27840', 'bacterial_challenge: S. aureus ATCC 29213 (NCTC 12973)', 'bacterial_challenge: S. epidermidis ATCC 12228'], 2: ['challenge_time_course_hours: 0', 'challenge_time_course_hours: 3', 'challenge_time_course_hours: 24'], 3: ['batch_date: 180817', 'batch_date: 80917', 'batch_date: 220917', 'batch_date: 280917'], 4: ['array_id: 12342', 'array_id: 12343', 'array_id: 12344', 'array_id: 14525', 'array_id: 14526', 'array_id: 14527', 'array_id: 14576']}\n"
     ]
    }
   ],
   "source": [
    "from utils.preprocess import *\n",
    "# 1. Identify the paths to the soft file and the matrix file\n",
    "cohort_dir = '/media/techt/DATA/GEO/Allergies/GSE192454'\n",
    "soft_file, matrix_file = geo_get_relevant_filepaths(cohort_dir)\n",
    "\n",
    "# 2. Read the matrix file to obtain background information and sample characteristics data\n",
    "background_prefixes = ['!Series_title', '!Series_summary', '!Series_overall_design']\n",
    "clinical_prefixes = ['!Sample_geo_accession', '!Sample_characteristics_ch1']\n",
    "background_info, clinical_data = get_background_and_clinical_data(matrix_file, background_prefixes, clinical_prefixes)\n",
    "\n",
    "# 3. Obtain the sample characteristics dictionary from the clinical dataframe\n",
    "sample_characteristics_dict = get_unique_values_by_row(clinical_data)\n",
    "\n",
    "# 4. Explicitly print out all the background information and the sample characteristics dictionary\n",
    "print(\"Background Information:\")\n",
    "print(background_info)\n",
    "print(\"Sample Characteristics Dictionary:\")\n",
    "print(sample_characteristics_dict)\n"
   ]
  },
  {
   "cell_type": "markdown",
   "id": "8c421939",
   "metadata": {},
   "source": [
    "### Step 2: Dataset Analysis and Clinical Feature Extraction"
   ]
  },
  {
   "cell_type": "code",
   "execution_count": 3,
   "id": "a0ee0c04",
   "metadata": {
    "execution": {
     "iopub.execute_input": "2024-06-12T10:46:36.388128Z",
     "iopub.status.busy": "2024-06-12T10:46:36.388019Z",
     "iopub.status.idle": "2024-06-12T10:46:36.390954Z",
     "shell.execute_reply": "2024-06-12T10:46:36.390692Z"
    }
   },
   "outputs": [],
   "source": [
    "is_gene_available = False\n",
    "trait_row = age_row = gender_row = None  # set to different values when applicable\n",
    "convert_trait = convert_age = convert_gender = None  # define the functions when applicable\n",
    "\n",
    "# Determine if gene expression data is available\n",
    "is_gene_available = True\n",
    "\n",
    "# Check data availability; no evidence of relevant data from the provided characteristics \n",
    "trait_row = None\n",
    "age_row = None\n",
    "gender_row = None\n",
    "\n",
    "# Define conversion functions if the respective data rows are available\n",
    "\n",
    "# Save cohort info\n",
    "save_cohort_info('GSE192454', './preprocessed/Allergies/cohort_info.json', is_gene_available, trait_row is not None)\n"
   ]
  }
 ],
 "metadata": {
  "language_info": {
   "codemirror_mode": {
    "name": "ipython",
    "version": 3
   },
   "file_extension": ".py",
   "mimetype": "text/x-python",
   "name": "python",
   "nbconvert_exporter": "python",
   "pygments_lexer": "ipython3",
   "version": "3.8.17"
  }
 },
 "nbformat": 4,
 "nbformat_minor": 5
}
