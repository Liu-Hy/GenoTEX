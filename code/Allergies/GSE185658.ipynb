{
 "cells": [
  {
   "cell_type": "code",
   "execution_count": 1,
   "id": "fdc38221",
   "metadata": {
    "execution": {
     "iopub.execute_input": "2024-06-12T10:46:31.641335Z",
     "iopub.status.busy": "2024-06-12T10:46:31.641123Z",
     "iopub.status.idle": "2024-06-12T10:46:31.648031Z",
     "shell.execute_reply": "2024-06-12T10:46:31.647490Z"
    }
   },
   "outputs": [],
   "source": [
    "\n",
    "import sys\n",
    "sys.path.append('/home/techt/Desktop/a4s')\n"
   ]
  },
  {
   "cell_type": "markdown",
   "id": "68b92440",
   "metadata": {},
   "source": [
    "### Step 1: Initial Data Loading"
   ]
  },
  {
   "cell_type": "code",
   "execution_count": 2,
   "id": "cfa659dc",
   "metadata": {
    "execution": {
     "iopub.execute_input": "2024-06-12T10:46:31.650550Z",
     "iopub.status.busy": "2024-06-12T10:46:31.650345Z",
     "iopub.status.idle": "2024-06-12T10:46:31.967403Z",
     "shell.execute_reply": "2024-06-12T10:46:31.967044Z"
    }
   },
   "outputs": [
    {
     "name": "stdout",
     "output_type": "stream",
     "text": [
      "Background Information:\n",
      "!Series_title\t\"Rhinovirus-induced epithelial RIG-I inflammasome suppresses antiviral immunity and promotes inflammation in asthma and COVID-19\"\n",
      "!Series_summary\t\"Balanced immune responses in airways of patients with asthma are crucial to succesful clearance of viral infection and proper asthma control.\"\n",
      "!Series_summary\t\"We used microarrays to detail the global programme of gene expression data from bronchial brushings from control individuals and patients with asthma after rhinovirus infection in vivo.\"\n",
      "!Series_overall_design\t\"Bronchial brushings from control individuals and patients with asthma around two weeks before (day -14) and four days after (day 4) experimental in vivo rhinovirus infection were used for RNA isolation and hybrydyzation with Affymetric microarrays.\"\n",
      "Sample Characteristics Dictionary:\n",
      "{0: ['time: DAY14', 'time: DAY4'], 1: ['group: AsthmaHDM', 'group: AsthmaHDMNeg', 'group: Healthy'], 2: ['donor: DJ144', 'donor: DJ113', 'donor: DJ139', 'donor: DJ129', 'donor: DJ134', 'donor: DJ114', 'donor: DJ81', 'donor: DJ60', 'donor: DJ73', 'donor: DJ136', 'donor: DJ92', 'donor: DJ47', 'donor: DJ125', 'donor: DJ148', 'donor: DJ121', 'donor: DJ116', 'donor: DJ86', 'donor: DJ126', 'donor: DJ48', 'donor: DJ67', 'donor: DJ56', 'donor: DJ61', 'donor: DJ75', 'donor: DJ101']}\n"
     ]
    }
   ],
   "source": [
    "from utils.preprocess import *\n",
    "# 1. Identify the paths to the soft file and the matrix file\n",
    "cohort_dir = '/media/techt/DATA/GEO/Allergies/GSE185658'\n",
    "soft_file, matrix_file = geo_get_relevant_filepaths(cohort_dir)\n",
    "\n",
    "# 2. Read the matrix file to obtain background information and sample characteristics data\n",
    "background_prefixes = ['!Series_title', '!Series_summary', '!Series_overall_design']\n",
    "clinical_prefixes = ['!Sample_geo_accession', '!Sample_characteristics_ch1']\n",
    "background_info, clinical_data = get_background_and_clinical_data(matrix_file, background_prefixes, clinical_prefixes)\n",
    "\n",
    "# 3. Obtain the sample characteristics dictionary from the clinical dataframe\n",
    "sample_characteristics_dict = get_unique_values_by_row(clinical_data)\n",
    "\n",
    "# 4. Explicitly print out all the background information and the sample characteristics dictionary\n",
    "print(\"Background Information:\")\n",
    "print(background_info)\n",
    "print(\"Sample Characteristics Dictionary:\")\n",
    "print(sample_characteristics_dict)\n"
   ]
  },
  {
   "cell_type": "markdown",
   "id": "f3e30171",
   "metadata": {},
   "source": [
    "### Step 2: Dataset Analysis and Clinical Feature Extraction"
   ]
  },
  {
   "cell_type": "code",
   "execution_count": 3,
   "id": "6f811349",
   "metadata": {
    "execution": {
     "iopub.execute_input": "2024-06-12T10:46:31.969386Z",
     "iopub.status.busy": "2024-06-12T10:46:31.969200Z",
     "iopub.status.idle": "2024-06-12T10:46:31.973297Z",
     "shell.execute_reply": "2024-06-12T10:46:31.973018Z"
    }
   },
   "outputs": [],
   "source": [
    "is_gene_available = False\n",
    "trait_row = age_row = gender_row = None  # set to different values when applicable\n",
    "convert_trait = convert_age = convert_gender = None  # define the functions when applicable\n",
    "\n",
    "import json\n",
    "\n",
    "# Determine gene expression availability\n",
    "is_gene_available = True\n",
    "\n",
    "# Determine variable availability\n",
    "trait_row = None  # There is no direct indication of allergies\n",
    "age_row = None    # Age information is not provided\n",
    "gender_row = None # Gender information is not provided\n",
    "\n",
    "# Define conversion functions (if any)\n",
    "def extract_value_from_string(value):\n",
    "    if ':' in value:\n",
    "        return value.split(':')[-1].strip()\n",
    "    return None\n",
    "\n",
    "def convert_trait(value):\n",
    "    return None\n",
    "\n",
    "def convert_age(value):\n",
    "    return None\n",
    "\n",
    "def convert_gender(value):\n",
    "    return None\n",
    "\n",
    "# Save Metadata\n",
    "def save_cohort_info(study_id, file_path, is_gene_available, clinical_available):\n",
    "    cohort_info = {\n",
    "        \"study_id\": study_id,\n",
    "        \"file_path\": file_path,\n",
    "        \"is_gene_available\": is_gene_available,\n",
    "        \"clinical_available\": clinical_available\n",
    "    }\n",
    "    with open(file_path, 'w') as file:\n",
    "        json.dump(cohort_info, file)\n",
    "\n",
    "save_cohort_info('GSE185658', './preprocessed/Allergies/cohort_info.json', is_gene_available, trait_row is not None)\n",
    "\n",
    "# Clinical Feature Extraction\n",
    "if trait_row is not None:\n",
    "    selected_clinical_data = geo_select_clinical_features(clinical_data, 'Allergies', trait_row, convert_trait, age_row, convert_age, gender_row, convert_gender)\n",
    "    csv_path = './preprocessed/Allergies/trait_data/GSE185658.csv'\n",
    "    selected_clinical_data.to_csv(csv_path)\n",
    "    print(preview_df(selected_clinical_data))\n"
   ]
  }
 ],
 "metadata": {
  "language_info": {
   "codemirror_mode": {
    "name": "ipython",
    "version": 3
   },
   "file_extension": ".py",
   "mimetype": "text/x-python",
   "name": "python",
   "nbconvert_exporter": "python",
   "pygments_lexer": "ipython3",
   "version": "3.8.17"
  }
 },
 "nbformat": 4,
 "nbformat_minor": 5
}
