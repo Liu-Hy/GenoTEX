{
 "cells": [
  {
   "cell_type": "code",
   "execution_count": 1,
   "id": "fa3dab67",
   "metadata": {
    "execution": {
     "iopub.execute_input": "2024-06-12T10:46:33.776586Z",
     "iopub.status.busy": "2024-06-12T10:46:33.776460Z",
     "iopub.status.idle": "2024-06-12T10:46:33.780590Z",
     "shell.execute_reply": "2024-06-12T10:46:33.780311Z"
    }
   },
   "outputs": [],
   "source": [
    "\n",
    "import sys\n",
    "sys.path.append('/home/techt/Desktop/a4s')\n"
   ]
  },
  {
   "cell_type": "markdown",
   "id": "b5c7e103",
   "metadata": {},
   "source": [
    "### Step 1: Initial Data Loading"
   ]
  },
  {
   "cell_type": "code",
   "execution_count": 2,
   "id": "30665c76",
   "metadata": {
    "execution": {
     "iopub.execute_input": "2024-06-12T10:46:33.782820Z",
     "iopub.status.busy": "2024-06-12T10:46:33.782695Z",
     "iopub.status.idle": "2024-06-12T10:46:34.001332Z",
     "shell.execute_reply": "2024-06-12T10:46:34.000939Z"
    }
   },
   "outputs": [
    {
     "name": "stdout",
     "output_type": "stream",
     "text": [
      "Background Information:\n",
      "!Series_title\t\"MicroRNA expression data from skin samples of adult atopic dermatitis and psoriasis patients and healthy controls\"\n",
      "!Series_summary\t\"Atopic dermatitis (AD) and psoriasis vulgaris (PV) affect up to 3-5% of adults in developed countries and severely impair their quality of life thorough adulthood. MicroRNAs contribute to either the development or regulation of several diseases and are present in tissue.\"\n",
      "!Series_summary\t\"Although several miRNAs have been associated with AD or PV, to our knowledge, scarce studies have been published to date of miRNA profiling comparing AD and PV patients.\"\n",
      "!Series_overall_design\t\"We conducted a miRNA profiling analysis of skin samples from adult AD and PV patients and control individuals.\"\n",
      "Sample Characteristics Dictionary:\n",
      "{0: ['subject status: atopic dermatitis adult patient', 'subject status: healthy control adult', 'subject status: psoriasis adult patient'], 1: ['tissue: skin']}\n"
     ]
    }
   ],
   "source": [
    "from utils.preprocess import *\n",
    "# 1. Identify the paths to the soft file and the matrix file\n",
    "cohort_dir = '/media/techt/DATA/GEO/Allergies/GSE175438'\n",
    "soft_file, matrix_file = geo_get_relevant_filepaths(cohort_dir)\n",
    "\n",
    "# 2. Read the matrix file to obtain background information and sample characteristics data\n",
    "background_prefixes = ['!Series_title', '!Series_summary', '!Series_overall_design']\n",
    "clinical_prefixes = ['!Sample_geo_accession', '!Sample_characteristics_ch1']\n",
    "background_info, clinical_data = get_background_and_clinical_data(matrix_file, background_prefixes, clinical_prefixes)\n",
    "\n",
    "# 3. Obtain the sample characteristics dictionary from the clinical dataframe\n",
    "sample_characteristics_dict = get_unique_values_by_row(clinical_data)\n",
    "\n",
    "# 4. Explicitly print out all the background information and the sample characteristics dictionary\n",
    "print(\"Background Information:\")\n",
    "print(background_info)\n",
    "print(\"Sample Characteristics Dictionary:\")\n",
    "print(sample_characteristics_dict)\n"
   ]
  },
  {
   "cell_type": "markdown",
   "id": "4e88b423",
   "metadata": {},
   "source": [
    "### Step 2: Dataset Analysis and Clinical Feature Extraction"
   ]
  },
  {
   "cell_type": "code",
   "execution_count": 3,
   "id": "b86b1a93",
   "metadata": {
    "execution": {
     "iopub.execute_input": "2024-06-12T10:46:34.003561Z",
     "iopub.status.busy": "2024-06-12T10:46:34.003447Z",
     "iopub.status.idle": "2024-06-12T10:46:34.006377Z",
     "shell.execute_reply": "2024-06-12T10:46:34.006086Z"
    }
   },
   "outputs": [],
   "source": [
    "is_gene_available = False\n",
    "trait_row = age_row = gender_row = None  # set to different values when applicable\n",
    "convert_trait = convert_age = convert_gender = None  # define the functions when applicable\n",
    "\n",
    "# Check if the dataset contains gene expression data.\n",
    "is_gene_available = False # Based on the series summary, this dataset contains miRNA data, not gene expression data.\n",
    "\n",
    "# Data availability check\n",
    "trait_row = None  # Allergies is not explicitly stated in the sample characteristics.\n",
    "age_row = None  # Age data is not mentioned in the sample characteristics.\n",
    "gender_row = None  # Gender data is not mentioned in the sample characteristics.\n",
    "\n",
    "# Conversions not needed as data is not available\n",
    "convert_trait = None\n",
    "convert_age = None\n",
    "convert_gender = None \n",
    "\n",
    "# Save cohort information\n",
    "save_cohort_info('GSE175438', './preprocessed/Allergies/cohort_info.json', is_gene_available, trait_row is not None)\n",
    "\n",
    "# If trait_row is not None, process clinical data (this step will be skipped as trait_row is None)\n"
   ]
  }
 ],
 "metadata": {
  "language_info": {
   "codemirror_mode": {
    "name": "ipython",
    "version": 3
   },
   "file_extension": ".py",
   "mimetype": "text/x-python",
   "name": "python",
   "nbconvert_exporter": "python",
   "pygments_lexer": "ipython3",
   "version": "3.8.17"
  }
 },
 "nbformat": 4,
 "nbformat_minor": 5
}
