{
 "cells": [
  {
   "cell_type": "code",
   "execution_count": 1,
   "id": "9545950a",
   "metadata": {
    "execution": {
     "iopub.execute_input": "2024-06-12T10:46:32.708473Z",
     "iopub.status.busy": "2024-06-12T10:46:32.708322Z",
     "iopub.status.idle": "2024-06-12T10:46:32.713725Z",
     "shell.execute_reply": "2024-06-12T10:46:32.713330Z"
    }
   },
   "outputs": [],
   "source": [
    "\n",
    "import sys\n",
    "sys.path.append('/home/techt/Desktop/a4s')\n"
   ]
  },
  {
   "cell_type": "markdown",
   "id": "24e98c32",
   "metadata": {},
   "source": [
    "### Step 1: Initial Data Loading"
   ]
  },
  {
   "cell_type": "code",
   "execution_count": 2,
   "id": "0f843e2c",
   "metadata": {
    "execution": {
     "iopub.execute_input": "2024-06-12T10:46:32.715854Z",
     "iopub.status.busy": "2024-06-12T10:46:32.715703Z",
     "iopub.status.idle": "2024-06-12T10:46:32.951418Z",
     "shell.execute_reply": "2024-06-12T10:46:32.951060Z"
    }
   },
   "outputs": [
    {
     "name": "stdout",
     "output_type": "stream",
     "text": [
      "Background Information:\n",
      "!Series_title\t\"MicroRNA expression data from serum samples of adult atopic dermatitis and psoriasis patients and healthy controls\"\n",
      "!Series_summary\t\"Atopic dermatitis (AD) and psoriasis vulgaris (PV) affect up to 3-5% of adults in developed countries and severely impair their quality of life thorough adulthood. MicroRNAs contribute to either the development or regulation of several diseases and are present in body fluids, such as serum or plasma, where their identification is of remarkable value as minimally invasive circulating markers of disease.\"\n",
      "!Series_summary\t\"Although several miRNAs have been associated with AD, to our knowledge, no serum miRNA profiling of adult European AD patients has been published to date and no comparison of AD and PV has been performed.\"\n",
      "!Series_overall_design\t\"We conducted a miRNA profiling analysis of serum samples from adult AD and PV patients and control individuals.\"\n",
      "Sample Characteristics Dictionary:\n",
      "{0: ['subject status: atopic dermatitis adult patient', 'subject status: healthy control adult', 'subject status: psoriasis adult patient'], 1: ['tissue: serum']}\n"
     ]
    }
   ],
   "source": [
    "from utils.preprocess import *\n",
    "# 1. Identify the paths to the soft file and the matrix file\n",
    "cohort_dir = '/media/techt/DATA/GEO/Allergies/GSE162926'\n",
    "soft_file, matrix_file = geo_get_relevant_filepaths(cohort_dir)\n",
    "\n",
    "# 2. Read the matrix file to obtain background information and sample characteristics data\n",
    "background_prefixes = ['!Series_title', '!Series_summary', '!Series_overall_design']\n",
    "clinical_prefixes = ['!Sample_geo_accession', '!Sample_characteristics_ch1']\n",
    "background_info, clinical_data = get_background_and_clinical_data(matrix_file, background_prefixes, clinical_prefixes)\n",
    "\n",
    "# 3. Obtain the sample characteristics dictionary from the clinical dataframe\n",
    "sample_characteristics_dict = get_unique_values_by_row(clinical_data)\n",
    "\n",
    "# 4. Explicitly print out all the background information and the sample characteristics dictionary\n",
    "print(\"Background Information:\")\n",
    "print(background_info)\n",
    "print(\"Sample Characteristics Dictionary:\")\n",
    "print(sample_characteristics_dict)\n"
   ]
  },
  {
   "cell_type": "markdown",
   "id": "846551f9",
   "metadata": {},
   "source": [
    "### Step 2: Dataset Analysis and Clinical Feature Extraction"
   ]
  },
  {
   "cell_type": "code",
   "execution_count": 3,
   "id": "d00ffd42",
   "metadata": {
    "execution": {
     "iopub.execute_input": "2024-06-12T10:46:32.953129Z",
     "iopub.status.busy": "2024-06-12T10:46:32.953018Z",
     "iopub.status.idle": "2024-06-12T10:46:32.961582Z",
     "shell.execute_reply": "2024-06-12T10:46:32.961293Z"
    }
   },
   "outputs": [
    {
     "name": "stdout",
     "output_type": "stream",
     "text": [
      "{'GSM4966311': [1], 'GSM4966312': [1], 'GSM4966313': [1], 'GSM4966314': [1], 'GSM4966315': [1], 'GSM4966316': [1], 'GSM4966317': [1], 'GSM4966318': [1], 'GSM4966319': [1], 'GSM4966320': [1], 'GSM4966321': [1], 'GSM4966322': [1], 'GSM4966323': [1], 'GSM4966324': [1], 'GSM4966325': [1], 'GSM4966326': [1], 'GSM4966327': [0], 'GSM4966328': [0], 'GSM4966329': [0], 'GSM4966330': [0], 'GSM4966331': [0], 'GSM4966332': [0], 'GSM4966333': [0], 'GSM4966334': [0], 'GSM4966335': [0], 'GSM4966336': [0], 'GSM4966337': [0], 'GSM4966338': [0], 'GSM4966339': [0], 'GSM4966340': [0], 'GSM4966341': [0], 'GSM4966342': [0], 'GSM4966343': [0], 'GSM4966344': [None], 'GSM4966345': [None], 'GSM4966346': [None], 'GSM4966347': [None], 'GSM4966348': [None], 'GSM4966349': [None], 'GSM4966350': [None], 'GSM4966351': [None], 'GSM4966352': [None], 'GSM4966353': [None], 'GSM4966354': [None], 'GSM4966355': [None], 'GSM4966356': [None], 'GSM4966357': [None], 'GSM4966358': [None], 'GSM4966359': [None]}\n"
     ]
    }
   ],
   "source": [
    "is_gene_available = False\n",
    "trait_row = age_row = gender_row = None  # set to different values when applicable\n",
    "convert_trait = convert_age = convert_gender = None  # define the functions when applicable\n",
    "\n",
    "# Determine if the dataset likely contains gene expression data\n",
    "is_gene_available = False  # since the dataset focuses on miRNA data\n",
    "\n",
    "# Sample Characteristics Dictionary from STEP 1 output\n",
    "sample_characteristics_dict = {\n",
    "    0: ['subject status: atopic dermatitis adult patient', 'subject status: healthy control adult', 'subject status: psoriasis adult patient'],\n",
    "    1: ['tissue: serum']\n",
    "}\n",
    "\n",
    "# Assigning the keys to the appropriate variables if the data is available\n",
    "trait_row = 0  # since this row contains different subject statuses like 'atopic dermatitis', 'healthy control', and 'psoriasis'\n",
    "age_row = None  # no age data available\n",
    "gender_row = None  # no gender data available\n",
    "\n",
    "# Function to convert trait values\n",
    "def convert_trait(value):\n",
    "    value = value.split(':')[1].strip().lower()\n",
    "    if value == 'atopic dermatitis adult patient':\n",
    "        return 1\n",
    "    elif value == 'healthy control adult':\n",
    "        return 0\n",
    "    elif value == 'psoriasis adult patient':\n",
    "        return None  # Assuming we are only interested in allergies vs healthy control\n",
    "    return None\n",
    "\n",
    "# Since age and gender are not available, no need to define convert_age and convert_gender functions\n",
    "\n",
    "# Save the cohort information\n",
    "save_cohort_info('GSE162926', './preprocessed/Allergies/cohort_info.json', is_gene_available, trait_row is not None)\n",
    "\n",
    "# Clinical Feature Extraction\n",
    "if trait_row is not None:\n",
    "    selected_clinical_data = geo_select_clinical_features(clinical_data, 'Allergies', trait_row, convert_trait, age_row, convert_age, gender_row, convert_gender)\n",
    "    csv_path = './preprocessed/Allergies/trait_data/GSE162926.csv'\n",
    "    selected_clinical_data.to_csv(csv_path)\n",
    "    print(preview_df(selected_clinical_data))\n"
   ]
  }
 ],
 "metadata": {
  "language_info": {
   "codemirror_mode": {
    "name": "ipython",
    "version": 3
   },
   "file_extension": ".py",
   "mimetype": "text/x-python",
   "name": "python",
   "nbconvert_exporter": "python",
   "pygments_lexer": "ipython3",
   "version": "3.8.17"
  }
 },
 "nbformat": 4,
 "nbformat_minor": 5
}
