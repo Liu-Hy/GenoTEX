{
 "cells": [
  {
   "cell_type": "code",
   "execution_count": 1,
   "id": "450c9bf4",
   "metadata": {
    "execution": {
     "iopub.execute_input": "2024-06-12T07:11:39.804842Z",
     "iopub.status.busy": "2024-06-12T07:11:39.804609Z",
     "iopub.status.idle": "2024-06-12T07:11:39.809877Z",
     "shell.execute_reply": "2024-06-12T07:11:39.809474Z"
    }
   },
   "outputs": [],
   "source": [
    "\n",
    "import sys\n",
    "sys.path.append('/home/techt/Desktop/a4s')\n"
   ]
  },
  {
   "cell_type": "markdown",
   "id": "bec77471",
   "metadata": {},
   "source": [
    "### Step 1: Initial Data Loading"
   ]
  },
  {
   "cell_type": "code",
   "execution_count": 2,
   "id": "83212f95",
   "metadata": {
    "execution": {
     "iopub.execute_input": "2024-06-12T07:11:39.811946Z",
     "iopub.status.busy": "2024-06-12T07:11:39.811574Z",
     "iopub.status.idle": "2024-06-12T07:11:40.379738Z",
     "shell.execute_reply": "2024-06-12T07:11:40.379377Z"
    }
   },
   "outputs": [
    {
     "name": "stdout",
     "output_type": "stream",
     "text": [
      "Background Information:\n",
      "!Series_title\t\"Patterns of metastasis and recurrence in urothelial cancer molecular subtypes\"\n",
      "!Series_summary\t\"This series contains the gene expression data from urothelial bladder cancer samples from Swedish patients that were used to analyze metastatic sites. Included patients have a recurrence or distant metastasis before or after treatment with chemotherapy. Patients with only lymph-node metastases are not included. A previous series (GSE169455) contains data from all patients that recieved two or more cycles of neoadjuvant chemotherapy with curative intent. Patients in that series that developed distant recurrence are re-analyzed here. A few samples from a previous cystectomy series (GSE83586) are also included as re-analysis. In addition, the current series contains data from patients treated with palliative first-line chemotherapy, curative adjuvant chemotherapy, or < 2 cycles of neoadjuvant chemotherapy.\"\n",
      "!Series_summary\t\"Raw data should be adjusted in data processing for batch variables: Labeling batch and Labeling kit.\"\n",
      "!Series_overall_design\t\"Retrospective cohort study aiming to study metastatic sites and  chemotherapy response in muscle-invasive bladder cancer.\"\n",
      "Sample Characteristics Dictionary:\n",
      "{0: ['labeling kit: SensationPlus FFPE Amplification and WT labeling kit', 'labeling kit: GeneChip WT Pico kit'], 1: ['labeling batch: 3', 'labeling batch: 4', 'labeling batch: 5', 'labeling batch: 6', 'labeling batch: 7', 'labeling batch: 8', 'labeling batch: 9', 'labeling batch: 10', 'labeling batch: 11', 'labeling batch: 13', 'labeling batch: 14', 'labeling batch: 15', 'labeling batch: 16', 'labeling batch: 17', 'labeling batch: 18', 'labeling batch: 19', 'labeling batch: 20', 'labeling batch: 21', 'labeling batch: 22', 'labeling batch: 23', 'labeling batch: 24', 'labeling batch: 25', 'labeling batch: 26', 'labeling batch: 27'], 2: ['clinical tnm staging: cTxN0M1', 'clinical tnm staging: cT3N0M0', 'clinical tnm staging: pT4aN1M0', 'clinical tnm staging: cT2N0M0', 'clinical tnm staging: cT4bN0M0', 'clinical tnm staging: cTxN2M1', 'clinical tnm staging: cTxN3M1', 'clinical tnm staging: cT3bN0M0', 'clinical tnm staging: cTxNxM1', 'clinical tnm staging: cT2N2M0', 'clinical tnm staging: CT3bN0M0', 'clinical tnm staging: cT4bN1M0', 'clinical tnm staging: pT3bN2M0', 'clinical tnm staging: cT1N3M1', 'clinical tnm staging: cT3N1M0', 'clinical tnm staging: cT4aN0M0', 'clinical tnm staging: cT4bN2M0', 'clinical tnm staging: cT4N0M0', 'clinical tnm staging: cT1N0M1', 'clinical tnm staging: cT2N0M1', 'clinical tnm staging: cT2N1M0', 'clinical tnm staging: cT3bN0M1', 'clinical tnm staging: cT3N1M1', 'clinical tnm staging: pT1N2M0', 'clinical tnm staging: pT4aN2M0', 'clinical tnm staging: cT3N2M1', 'clinical tnm staging: cT3aN2M0', 'clinical tnm staging: cT2N3M1', 'clinical tnm staging: pT2N2M0', 'clinical tnm staging: cT2N2M1'], 3: ['chemotherapy type: palliative', 'chemotherapy type: neoadjuvant', 'chemotherapy type: adjuvant', 'chemotherapy type: induction', 'chemotherapy type: curative radiochemotherapy', 'chemotherapy type: induction + radiotherapy'], 4: ['lundtax rna-subtype: UroC', 'lundtax rna-subtype: GU', 'lundtax rna-subtype: UroB', 'lundtax rna-subtype: UroA', 'lundtax rna-subtype: ScNE', 'lundtax rna-subtype: BASQ', 'lundtax rna-subtype: Mes'], 5: ['lundtax ihc-subtype: Uro', 'lundtax ihc-subtype: GU', 'lundtax ihc-subtype: BASQ', 'lundtax ihc-subtype: ScNE', 'lundtax ihc-subtype: Mes'], 6: ['consensus classifier subtype: LumNS', 'consensus classifier subtype: LumU', 'consensus classifier subtype: BASQ', 'consensus classifier subtype: StromaRich', 'consensus classifier subtype: LumP', 'consensus classifier subtype: NE_like'], 7: ['rm-lymphnode: no', 'rm-lymphnode: yes'], 8: ['rm-local: no', 'rm-local: yes'], 9: ['rm-lung: no', 'rm-lung: yes'], 10: ['rm-liver: no', 'rm-liver: yes'], 11: ['rm-bone: yes', 'rm-bone: no'], 12: ['rm-other: no', 'rm-other: yes']}\n"
     ]
    }
   ],
   "source": [
    "from utils.preprocess import *\n",
    "# 1. Identify the paths to the soft file and the matrix file\n",
    "cohort_dir = '/media/techt/DATA/GEO/Bladder_Cancer/GSE222073'\n",
    "soft_file, matrix_file = geo_get_relevant_filepaths(cohort_dir)\n",
    "\n",
    "# 2. Read the matrix file to obtain background information and sample characteristics data\n",
    "background_prefixes = ['!Series_title', '!Series_summary', '!Series_overall_design']\n",
    "clinical_prefixes = ['!Sample_geo_accession', '!Sample_characteristics_ch1']\n",
    "background_info, clinical_data = get_background_and_clinical_data(matrix_file, background_prefixes, clinical_prefixes)\n",
    "\n",
    "# 3. Obtain the sample characteristics dictionary from the clinical dataframe\n",
    "sample_characteristics_dict = get_unique_values_by_row(clinical_data)\n",
    "\n",
    "# 4. Explicitly print out all the background information and the sample characteristics dictionary\n",
    "print(\"Background Information:\")\n",
    "print(background_info)\n",
    "print(\"Sample Characteristics Dictionary:\")\n",
    "print(sample_characteristics_dict)\n"
   ]
  },
  {
   "cell_type": "markdown",
   "id": "bcb3a660",
   "metadata": {},
   "source": [
    "### Step 2: Dataset Analysis and Clinical Feature Extraction"
   ]
  },
  {
   "cell_type": "code",
   "execution_count": 3,
   "id": "2e4b9190",
   "metadata": {
    "execution": {
     "iopub.execute_input": "2024-06-12T07:11:40.381735Z",
     "iopub.status.busy": "2024-06-12T07:11:40.381614Z",
     "iopub.status.idle": "2024-06-12T07:11:40.386131Z",
     "shell.execute_reply": "2024-06-12T07:11:40.385816Z"
    }
   },
   "outputs": [],
   "source": [
    "is_gene_available = True\n",
    "trait_row = None  # Update this if a trait related to Bladder_Cancer found\n",
    "age_row = None  # Update if age information is found\n",
    "gender_row = None  # Update if gender information is found\n",
    "convert_trait = convert_age = convert_gender = None  # Define the functions when applicable\n",
    "\n",
    "# Finding the variables from Sample Characteristics Dictionary\n",
    "sample_dict = {\n",
    "    0: ['labeling kit: SensationPlus FFPE Amplification and WT labeling kit', 'labeling kit: GeneChip WT Pico kit'],\n",
    "    1: ['labeling batch: 3', 'labeling batch: 4', 'labeling batch: 5', 'labeling batch: 6', ...],\n",
    "    2: ['clinical tnm staging: cTxN0M1', 'clinical tnm staging: cT3N0M0', 'clinical tnm staging: pT4aN1M0', ...],\n",
    "    3: ['chemotherapy type: palliative', 'chemotherapy type: neoadjuvant', 'chemotherapy type: adjuvant', ...],\n",
    "    4: ['lundtax rna-subtype: UroC', 'lundtax rna-subtype: GU', 'lundtax rna-subtype: UroB', ...],\n",
    "    5: ['lundtax ihc-subtype: Uro', 'lundtax ihc-subtype: GU', 'lundtax ihc-subtype: BASQ', ...],\n",
    "    6: ['consensus classifier subtype: LumNS', 'consensus classifier subtype: LumU', 'consensus classifier subtype: BASQ', ...],\n",
    "    7: ['rm-lymphnode: no', 'rm-lymphnode: yes'],\n",
    "    8: ['rm-local: no', 'rm-local: yes'],\n",
    "    9: ['rm-lung: no', 'rm-lung: yes'],\n",
    "    10: ['rm-liver: no', 'rm-liver: yes'],\n",
    "    11: ['rm-bone: yes', 'rm-bone: no'],\n",
    "    12: ['rm-other: no', 'rm-other: yes']\n",
    "}\n",
    "\n",
    "# No explicit information on 'Bladder_Cancer' trait, age, or gender\n",
    "# Assuming the dataset does not contain the required details for these specific traits\n",
    "\n",
    "def convert_trait(value):\n",
    "    # Example placeholder: Extract and transform 'Bladder_Cancer' related values\n",
    "    return None\n",
    "\n",
    "def convert_age(value):\n",
    "    # Example placeholder: Extract age, return as None because data is not available\n",
    "    return None\n",
    "\n",
    "def convert_gender(value):\n",
    "    # Example placeholder: Extract gender, return as None because data is not available\n",
    "    return None\n",
    "\n",
    "# Save cohort information\n",
    "save_cohort_info('GSE222073', './preprocessed/Bladder_Cancer/cohort_info.json', is_gene_available, trait_row is not None)\n"
   ]
  }
 ],
 "metadata": {
  "language_info": {
   "codemirror_mode": {
    "name": "ipython",
    "version": 3
   },
   "file_extension": ".py",
   "mimetype": "text/x-python",
   "name": "python",
   "nbconvert_exporter": "python",
   "pygments_lexer": "ipython3",
   "version": "3.8.17"
  }
 },
 "nbformat": 4,
 "nbformat_minor": 5
}
