{
 "cells": [
  {
   "cell_type": "code",
   "execution_count": 1,
   "id": "c6a73beb",
   "metadata": {
    "execution": {
     "iopub.execute_input": "2025-03-25T06:57:10.964221Z",
     "iopub.status.busy": "2025-03-25T06:57:10.964105Z",
     "iopub.status.idle": "2025-03-25T06:57:11.122220Z",
     "shell.execute_reply": "2025-03-25T06:57:11.121909Z"
    }
   },
   "outputs": [],
   "source": [
    "import sys\n",
    "import os\n",
    "sys.path.append(os.path.abspath(os.path.join(os.getcwd(), '../..')))\n",
    "\n",
    "# Path Configuration\n",
    "from tools.preprocess import *\n",
    "\n",
    "# Processing context\n",
    "trait = \"Bladder_Cancer\"\n",
    "cohort = \"GSE203149\"\n",
    "\n",
    "# Input paths\n",
    "in_trait_dir = \"../../input/GEO/Bladder_Cancer\"\n",
    "in_cohort_dir = \"../../input/GEO/Bladder_Cancer/GSE203149\"\n",
    "\n",
    "# Output paths\n",
    "out_data_file = \"../../output/preprocess/Bladder_Cancer/GSE203149.csv\"\n",
    "out_gene_data_file = \"../../output/preprocess/Bladder_Cancer/gene_data/GSE203149.csv\"\n",
    "out_clinical_data_file = \"../../output/preprocess/Bladder_Cancer/clinical_data/GSE203149.csv\"\n",
    "json_path = \"../../output/preprocess/Bladder_Cancer/cohort_info.json\"\n"
   ]
  },
  {
   "cell_type": "markdown",
   "id": "cc291338",
   "metadata": {},
   "source": [
    "### Step 1: Initial Data Loading"
   ]
  },
  {
   "cell_type": "code",
   "execution_count": 2,
   "id": "8acdcfea",
   "metadata": {
    "execution": {
     "iopub.execute_input": "2025-03-25T06:57:11.123628Z",
     "iopub.status.busy": "2025-03-25T06:57:11.123492Z",
     "iopub.status.idle": "2025-03-25T06:57:11.295355Z",
     "shell.execute_reply": "2025-03-25T06:57:11.295020Z"
    }
   },
   "outputs": [
    {
     "name": "stdout",
     "output_type": "stream",
     "text": [
      "Background Information:\n",
      "!Series_title\t\"Gene expression data from muscle-invasive bladder cancer samples\"\n",
      "!Series_summary\t\"Gene signatures based on the median expression of a preselected set of genes can provide prognostic and treatment outcome prediction and so be valuable clinically.\"\n",
      "!Series_summary\t\"Different health care services use different gene expression platforms to derive gene expression data. Here we have derived gene expression data using a microarray platform.\"\n",
      "!Series_overall_design\t\"RNA extracted from FFPE blocks from patients with muscle-invasive bladder cancer and full transcriptome analysis on Clariom S microarray platform.  Sample blocks were collected for platform comparison and a heterogeneity gene signature study without any associated patient information.\"\n",
      "Sample Characteristics Dictionary:\n",
      "{0: ['disease: Muscle-invasive bladder cancer']}\n"
     ]
    }
   ],
   "source": [
    "from tools.preprocess import *\n",
    "# 1. Identify the paths to the SOFT file and the matrix file\n",
    "soft_file, matrix_file = geo_get_relevant_filepaths(in_cohort_dir)\n",
    "\n",
    "# 2. Read the matrix file to obtain background information and sample characteristics data\n",
    "background_prefixes = ['!Series_title', '!Series_summary', '!Series_overall_design']\n",
    "clinical_prefixes = ['!Sample_geo_accession', '!Sample_characteristics_ch1']\n",
    "background_info, clinical_data = get_background_and_clinical_data(matrix_file, background_prefixes, clinical_prefixes)\n",
    "\n",
    "# 3. Obtain the sample characteristics dictionary from the clinical dataframe\n",
    "sample_characteristics_dict = get_unique_values_by_row(clinical_data)\n",
    "\n",
    "# 4. Explicitly print out all the background information and the sample characteristics dictionary\n",
    "print(\"Background Information:\")\n",
    "print(background_info)\n",
    "print(\"Sample Characteristics Dictionary:\")\n",
    "print(sample_characteristics_dict)\n"
   ]
  },
  {
   "cell_type": "markdown",
   "id": "49eade77",
   "metadata": {},
   "source": [
    "### Step 2: Dataset Analysis and Clinical Feature Extraction"
   ]
  },
  {
   "cell_type": "code",
   "execution_count": 3,
   "id": "380d0476",
   "metadata": {
    "execution": {
     "iopub.execute_input": "2025-03-25T06:57:11.296616Z",
     "iopub.status.busy": "2025-03-25T06:57:11.296506Z",
     "iopub.status.idle": "2025-03-25T06:57:11.308904Z",
     "shell.execute_reply": "2025-03-25T06:57:11.308630Z"
    }
   },
   "outputs": [
    {
     "name": "stdout",
     "output_type": "stream",
     "text": [
      "Preview of extracted clinical features:\n",
      "{'GSM6160439': [1.0], 'GSM6160440': [1.0], 'GSM6160441': [1.0], 'GSM6160442': [1.0], 'GSM6160443': [1.0], 'GSM6160444': [1.0], 'GSM6160445': [1.0], 'GSM6160446': [1.0], 'GSM6160447': [1.0], 'GSM6160448': [1.0], 'GSM6160449': [1.0], 'GSM6160450': [1.0], 'GSM6160451': [1.0], 'GSM6160452': [1.0], 'GSM6160453': [1.0], 'GSM6160454': [1.0], 'GSM6160455': [1.0], 'GSM6160456': [1.0], 'GSM6160457': [1.0], 'GSM6160458': [1.0], 'GSM6160459': [1.0], 'GSM6160460': [1.0], 'GSM6160461': [1.0], 'GSM6160462': [1.0], 'GSM6160463': [1.0], 'GSM6160464': [1.0], 'GSM6160465': [1.0], 'GSM6160466': [1.0], 'GSM6160467': [1.0], 'GSM6160468': [1.0], 'GSM6160469': [1.0], 'GSM6160470': [1.0], 'GSM6160471': [1.0], 'GSM6160472': [1.0], 'GSM6160473': [1.0], 'GSM6160474': [1.0], 'GSM6160475': [1.0], 'GSM6160476': [1.0], 'GSM6160477': [1.0], 'GSM6160478': [1.0], 'GSM6160479': [1.0], 'GSM6160480': [1.0], 'GSM6160481': [1.0], 'GSM6160482': [1.0], 'GSM6160483': [1.0], 'GSM6160484': [1.0], 'GSM6160485': [1.0], 'GSM6160486': [1.0], 'GSM6160487': [1.0], 'GSM6160488': [1.0], 'GSM6160489': [1.0], 'GSM6160490': [1.0], 'GSM6160491': [1.0], 'GSM6160492': [1.0], 'GSM6160493': [1.0], 'GSM6160494': [1.0], 'GSM6160495': [1.0], 'GSM6160496': [1.0], 'GSM6160497': [1.0], 'GSM6160498': [1.0], 'GSM6160499': [1.0], 'GSM6160500': [1.0], 'GSM6160501': [1.0], 'GSM6160502': [1.0], 'GSM6160503': [1.0], 'GSM6160504': [1.0], 'GSM6160505': [1.0], 'GSM6160506': [1.0], 'GSM6160507': [1.0], 'GSM6160508': [1.0], 'GSM6160509': [1.0], 'GSM6160510': [1.0], 'GSM6160511': [1.0], 'GSM6160512': [1.0], 'GSM6160513': [1.0], 'GSM6160514': [1.0], 'GSM6160515': [1.0], 'GSM6160516': [1.0], 'GSM6160517': [1.0], 'GSM6160518': [1.0], 'GSM6160519': [1.0], 'GSM6160520': [1.0], 'GSM6160521': [1.0], 'GSM6160522': [1.0], 'GSM6160523': [1.0], 'GSM6160524': [1.0], 'GSM6160525': [1.0], 'GSM6160526': [1.0], 'GSM6160527': [1.0], 'GSM6160528': [1.0], 'GSM6160529': [1.0], 'GSM6160530': [1.0], 'GSM6160531': [1.0], 'GSM6160532': [1.0], 'GSM6160533': [1.0], 'GSM6160534': [1.0], 'GSM6160535': [1.0], 'GSM6160536': [1.0], 'GSM6160537': [1.0], 'GSM6160538': [1.0], 'GSM6160539': [1.0], 'GSM6160540': [1.0], 'GSM6160541': [1.0], 'GSM6160542': [1.0], 'GSM6160543': [1.0], 'GSM6160544': [1.0], 'GSM6160545': [1.0], 'GSM6160546': [1.0], 'GSM6160547': [1.0], 'GSM6160548': [1.0], 'GSM6160549': [1.0], 'GSM6160550': [1.0], 'GSM6160551': [1.0], 'GSM6160552': [1.0], 'GSM6160553': [1.0], 'GSM6160554': [1.0], 'GSM6160555': [1.0], 'GSM6160556': [1.0], 'GSM6160557': [1.0], 'GSM6160558': [1.0], 'GSM6160559': [1.0], 'GSM6160560': [1.0], 'GSM6160561': [1.0], 'GSM6160562': [1.0], 'GSM6160563': [1.0], 'GSM6160564': [1.0], 'GSM6160565': [1.0], 'GSM6160566': [1.0], 'GSM6160567': [1.0], 'GSM6160568': [1.0], 'GSM6160569': [1.0], 'GSM6160570': [1.0], 'GSM6160571': [1.0], 'GSM6160572': [1.0], 'GSM6160573': [1.0], 'GSM6160574': [1.0], 'GSM6160575': [1.0], 'GSM6160576': [1.0], 'GSM6160577': [1.0], 'GSM6160578': [1.0], 'GSM6160579': [1.0], 'GSM6160580': [1.0], 'GSM6160581': [1.0], 'GSM6160582': [1.0], 'GSM6160583': [1.0], 'GSM6160584': [1.0], 'GSM6160585': [1.0], 'GSM6160586': [1.0], 'GSM6160587': [1.0], 'GSM6160588': [1.0], 'GSM6160589': [1.0], 'GSM6160590': [1.0], 'GSM6160591': [1.0], 'GSM6160592': [1.0], 'GSM6160593': [1.0], 'GSM6160594': [1.0], 'GSM6160595': [1.0], 'GSM6160596': [1.0], 'GSM6160597': [1.0], 'GSM6160598': [1.0], 'GSM6160599': [1.0], 'GSM6160600': [1.0], 'GSM6160601': [1.0], 'GSM6160602': [1.0], 'GSM6160603': [1.0], 'GSM6160604': [1.0], 'GSM6160605': [1.0], 'GSM6160606': [1.0], 'GSM6160607': [1.0], 'GSM6160608': [1.0], 'GSM6160609': [1.0]}\n",
      "Clinical features saved to ../../output/preprocess/Bladder_Cancer/clinical_data/GSE203149.csv\n"
     ]
    }
   ],
   "source": [
    "import pandas as pd\n",
    "import os\n",
    "import json\n",
    "from typing import Optional, Callable, Dict, Any\n",
    "\n",
    "# 1. Assess gene expression data availability\n",
    "# Based on the background information, this dataset contains gene expression data from microarray platform\n",
    "is_gene_available = True\n",
    "\n",
    "# 2. Variable availability and data type conversion\n",
    "# 2.1 Data availability\n",
    "# For trait (Bladder_Cancer):\n",
    "# From sample characteristics we see \"disease: Muscle-invasive bladder cancer\" is available\n",
    "trait_row = 0  # This corresponds to the key in the sample characteristics dictionary\n",
    "\n",
    "# For age:\n",
    "# No age information is available in the sample characteristics\n",
    "age_row = None\n",
    "\n",
    "# For gender:\n",
    "# No gender information is available in the sample characteristics\n",
    "gender_row = None\n",
    "\n",
    "# 2.2 Data type conversion functions\n",
    "def convert_trait(value: str) -> int:\n",
    "    \"\"\"Convert bladder cancer trait information to binary format.\"\"\"\n",
    "    if value is None or pd.isna(value):\n",
    "        return None\n",
    "    \n",
    "    # Extract the value after the colon if present\n",
    "    if \":\" in value:\n",
    "        value = value.split(\":\", 1)[1].strip()\n",
    "    \n",
    "    # Check if it's muscle-invasive bladder cancer\n",
    "    if \"muscle-invasive bladder cancer\" in value.lower():\n",
    "        return 1  # Has bladder cancer\n",
    "    else:\n",
    "        return 0  # Does not have bladder cancer\n",
    "\n",
    "def convert_age(value: str) -> Optional[float]:\n",
    "    \"\"\"Convert age information to continuous format.\"\"\"\n",
    "    # Not used in this dataset as age information is not available\n",
    "    return None\n",
    "\n",
    "def convert_gender(value: str) -> Optional[int]:\n",
    "    \"\"\"Convert gender information to binary format.\"\"\"\n",
    "    # Not used in this dataset as gender information is not available\n",
    "    return None\n",
    "\n",
    "# 3. Save metadata\n",
    "# Initial filtering based on gene and trait availability\n",
    "is_trait_available = trait_row is not None\n",
    "validate_and_save_cohort_info(\n",
    "    is_final=False,\n",
    "    cohort=cohort,\n",
    "    info_path=json_path,\n",
    "    is_gene_available=is_gene_available,\n",
    "    is_trait_available=is_trait_available\n",
    ")\n",
    "\n",
    "# 4. Clinical feature extraction\n",
    "# Since trait_row is not None, we need to extract clinical features\n",
    "if trait_row is not None:\n",
    "    # Check if clinical_data is available (it should be from previous step)\n",
    "    if 'clinical_data' in locals() or 'clinical_data' in globals():\n",
    "        # Extract clinical features\n",
    "        clinical_features = geo_select_clinical_features(\n",
    "            clinical_df=clinical_data,\n",
    "            trait=trait,\n",
    "            trait_row=trait_row,\n",
    "            convert_trait=convert_trait,\n",
    "            age_row=age_row,\n",
    "            convert_age=convert_age,\n",
    "            gender_row=gender_row,\n",
    "            convert_gender=convert_gender\n",
    "        )\n",
    "        \n",
    "        # Preview the extracted clinical features\n",
    "        print(\"Preview of extracted clinical features:\")\n",
    "        print(preview_df(clinical_features))\n",
    "        \n",
    "        # Create directory if it doesn't exist\n",
    "        os.makedirs(os.path.dirname(out_clinical_data_file), exist_ok=True)\n",
    "        \n",
    "        # Save clinical features to CSV\n",
    "        clinical_features.to_csv(out_clinical_data_file)\n",
    "        print(f\"Clinical features saved to {out_clinical_data_file}\")\n",
    "    else:\n",
    "        print(\"Error: clinical_data not found. Make sure it was loaded in a previous step.\")\n"
   ]
  },
  {
   "cell_type": "markdown",
   "id": "3f538f37",
   "metadata": {},
   "source": [
    "### Step 3: Gene Data Extraction"
   ]
  },
  {
   "cell_type": "code",
   "execution_count": 4,
   "id": "ff9347b8",
   "metadata": {
    "execution": {
     "iopub.execute_input": "2025-03-25T06:57:11.310020Z",
     "iopub.status.busy": "2025-03-25T06:57:11.309911Z",
     "iopub.status.idle": "2025-03-25T06:57:11.630482Z",
     "shell.execute_reply": "2025-03-25T06:57:11.630110Z"
    }
   },
   "outputs": [
    {
     "name": "stdout",
     "output_type": "stream",
     "text": [
      "Index(['AFFX-BkGr-GC03_st', 'AFFX-BkGr-GC04_st', 'AFFX-BkGr-GC05_st',\n",
      "       'AFFX-BkGr-GC06_st', 'AFFX-BkGr-GC07_st', 'AFFX-BkGr-GC08_st',\n",
      "       'AFFX-BkGr-GC09_st', 'AFFX-BkGr-GC10_st', 'AFFX-BkGr-GC11_st',\n",
      "       'AFFX-BkGr-GC12_st', 'AFFX-BkGr-GC13_st', 'AFFX-BkGr-GC14_st',\n",
      "       'AFFX-BkGr-GC15_st', 'AFFX-BkGr-GC16_st', 'AFFX-BkGr-GC17_st',\n",
      "       'AFFX-BkGr-GC18_st', 'AFFX-BkGr-GC19_st', 'AFFX-BkGr-GC20_st',\n",
      "       'AFFX-BkGr-GC21_st', 'AFFX-BkGr-GC22_st'],\n",
      "      dtype='object', name='ID')\n"
     ]
    }
   ],
   "source": [
    "# 1. Use the get_genetic_data function from the library to get the gene_data from the matrix_file previously defined.\n",
    "gene_data = get_genetic_data(matrix_file)\n",
    "\n",
    "# 2. Print the first 20 row IDs (gene or probe identifiers) for future observation.\n",
    "print(gene_data.index[:20])\n"
   ]
  },
  {
   "cell_type": "markdown",
   "id": "5cd12043",
   "metadata": {},
   "source": [
    "### Step 4: Gene Identifier Review"
   ]
  },
  {
   "cell_type": "code",
   "execution_count": 5,
   "id": "7f6389e9",
   "metadata": {
    "execution": {
     "iopub.execute_input": "2025-03-25T06:57:11.631746Z",
     "iopub.status.busy": "2025-03-25T06:57:11.631635Z",
     "iopub.status.idle": "2025-03-25T06:57:11.633510Z",
     "shell.execute_reply": "2025-03-25T06:57:11.633237Z"
    }
   },
   "outputs": [],
   "source": [
    "# Observe the gene identifiers in the gene expression data\n",
    "# These identifiers appear to be Affymetrix probe IDs (e.g., 'AFFX-BkGr-GC03_st') rather than standard human gene symbols\n",
    "# Standard human gene symbols would typically be like BRCA1, TP53, etc.\n",
    "# These probe IDs need to be mapped to actual gene symbols for meaningful analysis\n",
    "\n",
    "requires_gene_mapping = True\n"
   ]
  },
  {
   "cell_type": "markdown",
   "id": "017a1db8",
   "metadata": {},
   "source": [
    "### Step 5: Gene Annotation"
   ]
  },
  {
   "cell_type": "code",
   "execution_count": 6,
   "id": "235d1bbd",
   "metadata": {
    "execution": {
     "iopub.execute_input": "2025-03-25T06:57:11.634610Z",
     "iopub.status.busy": "2025-03-25T06:57:11.634509Z",
     "iopub.status.idle": "2025-03-25T06:57:17.672757Z",
     "shell.execute_reply": "2025-03-25T06:57:17.672385Z"
    }
   },
   "outputs": [
    {
     "name": "stdout",
     "output_type": "stream",
     "text": [
      "Gene annotation preview:\n",
      "{'ID': ['TC0100006437.hg.1', 'TC0100006476.hg.1', 'TC0100006479.hg.1', 'TC0100006480.hg.1', 'TC0100006483.hg.1'], 'probeset_id': ['TC0100006437.hg.1', 'TC0100006476.hg.1', 'TC0100006479.hg.1', 'TC0100006480.hg.1', 'TC0100006483.hg.1'], 'seqname': ['chr1', 'chr1', 'chr1', 'chr1', 'chr1'], 'strand': ['+', '+', '+', '+', '+'], 'start': ['69091', '924880', '960587', '966497', '1001138'], 'stop': ['70008', '944581', '965719', '975865', '1014541'], 'total_probes': [10.0, 10.0, 10.0, 10.0, 10.0], 'category': ['main', 'main', 'main', 'main', 'main'], 'SPOT_ID': ['Coding', 'Multiple_Complex', 'Multiple_Complex', 'Multiple_Complex', 'Multiple_Complex'], 'SPOT_ID.1': ['NM_001005484 // RefSeq // Homo sapiens olfactory receptor, family 4, subfamily F, member 5 (OR4F5), mRNA. // chr1 // 100 // 100 // 0 // --- // 0 /// ENST00000335137 // ENSEMBL // olfactory receptor, family 4, subfamily F, member 5 [gene_biotype:protein_coding transcript_biotype:protein_coding] // chr1 // 100 // 100 // 0 // --- // 0 /// OTTHUMT00000003223 // Havana transcript // olfactory receptor, family 4, subfamily F, member 5[gene_biotype:protein_coding transcript_biotype:protein_coding] // chr1 // 100 // 100 // 0 // --- // 0 /// uc001aal.1 // UCSC Genes // Homo sapiens olfactory receptor, family 4, subfamily F, member 5 (OR4F5), mRNA. // chr1 // 100 // 100 // 0 // --- // 0 /// CCDS30547.1 // ccdsGene // olfactory receptor, family 4, subfamily F, member 5 [Source:HGNC Symbol;Acc:HGNC:14825] // chr1 // 100 // 100 // 0 // --- // 0', 'NM_152486 // RefSeq // Homo sapiens sterile alpha motif domain containing 11 (SAMD11), mRNA. // chr1 // 100 // 100 // 0 // --- // 0 /// ENST00000341065 // ENSEMBL // sterile alpha motif domain containing 11 [gene_biotype:protein_coding transcript_biotype:protein_coding] // chr1 // 100 // 100 // 0 // --- // 0 /// ENST00000342066 // ENSEMBL // sterile alpha motif domain containing 11 [gene_biotype:protein_coding transcript_biotype:protein_coding] // chr1 // 100 // 100 // 0 // --- // 0 /// ENST00000420190 // ENSEMBL // sterile alpha motif domain containing 11 [gene_biotype:protein_coding transcript_biotype:protein_coding] // chr1 // 100 // 100 // 0 // --- // 0 /// ENST00000437963 // ENSEMBL // sterile alpha motif domain containing 11 [gene_biotype:protein_coding transcript_biotype:protein_coding] // chr1 // 100 // 100 // 0 // --- // 0 /// ENST00000455979 // ENSEMBL // sterile alpha motif domain containing 11 [gene_biotype:protein_coding transcript_biotype:protein_coding] // chr1 // 100 // 100 // 0 // --- // 0 /// ENST00000464948 // ENSEMBL // sterile alpha motif domain containing 11 [gene_biotype:protein_coding transcript_biotype:retained_intron] // chr1 // 100 // 100 // 0 // --- // 0 /// ENST00000466827 // ENSEMBL // sterile alpha motif domain containing 11 [gene_biotype:protein_coding transcript_biotype:retained_intron] // chr1 // 100 // 100 // 0 // --- // 0 /// ENST00000474461 // ENSEMBL // sterile alpha motif domain containing 11 [gene_biotype:protein_coding transcript_biotype:retained_intron] // chr1 // 100 // 100 // 0 // --- // 0 /// ENST00000478729 // ENSEMBL // sterile alpha motif domain containing 11 [gene_biotype:protein_coding transcript_biotype:processed_transcript] // chr1 // 100 // 100 // 0 // --- // 0 /// ENST00000616016 // ENSEMBL // sterile alpha motif domain containing 11 [gene_biotype:protein_coding transcript_biotype:protein_coding] // chr1 // 100 // 100 // 0 // --- // 0 /// ENST00000616125 // ENSEMBL // sterile alpha motif domain containing 11 [gene_biotype:protein_coding transcript_biotype:protein_coding] // chr1 // 100 // 100 // 0 // --- // 0 /// ENST00000617307 // ENSEMBL // sterile alpha motif domain containing 11 [gene_biotype:protein_coding transcript_biotype:protein_coding] // chr1 // 100 // 100 // 0 // --- // 0 /// ENST00000618181 // ENSEMBL // sterile alpha motif domain containing 11 [gene_biotype:protein_coding transcript_biotype:protein_coding] // chr1 // 100 // 100 // 0 // --- // 0 /// ENST00000618323 // ENSEMBL // sterile alpha motif domain containing 11 [gene_biotype:protein_coding transcript_biotype:protein_coding] // chr1 // 100 // 100 // 0 // --- // 0 /// ENST00000618779 // ENSEMBL // sterile alpha motif domain containing 11 [gene_biotype:protein_coding transcript_biotype:protein_coding] // chr1 // 100 // 100 // 0 // --- // 0 /// ENST00000620200 // ENSEMBL // sterile alpha motif domain containing 11 [gene_biotype:protein_coding transcript_biotype:protein_coding] // chr1 // 100 // 100 // 0 // --- // 0 /// ENST00000622503 // ENSEMBL // sterile alpha motif domain containing 11 [gene_biotype:protein_coding transcript_biotype:protein_coding] // chr1 // 100 // 100 // 0 // --- // 0 /// BC024295 // GenBank // Homo sapiens sterile alpha motif domain containing 11, mRNA (cDNA clone MGC:39333 IMAGE:3354502), complete cds. // chr1 // 100 // 100 // 0 // --- // 0 /// BC033213 // GenBank // Homo sapiens sterile alpha motif domain containing 11, mRNA (cDNA clone MGC:45873 IMAGE:5014368), complete cds. // chr1 // 100 // 100 // 0 // --- // 0 /// OTTHUMT00000097860 // Havana transcript // sterile alpha motif domain containing 11[gene_biotype:protein_coding transcript_biotype:protein_coding] // chr1 // 100 // 100 // 0 // --- // 0 /// OTTHUMT00000097862 // Havana transcript // sterile alpha motif domain containing 11[gene_biotype:protein_coding transcript_biotype:protein_coding] // chr1 // 100 // 100 // 0 // --- // 0 /// OTTHUMT00000097863 // Havana transcript // sterile alpha motif domain containing 11[gene_biotype:protein_coding transcript_biotype:protein_coding] // chr1 // 100 // 100 // 0 // --- // 0 /// OTTHUMT00000097865 // Havana transcript // sterile alpha motif domain containing 11[gene_biotype:protein_coding transcript_biotype:processed_transcript] // chr1 // 100 // 100 // 0 // --- // 0 /// OTTHUMT00000097866 // Havana transcript // sterile alpha motif domain containing 11[gene_biotype:protein_coding transcript_biotype:retained_intron] // chr1 // 100 // 100 // 0 // --- // 0 /// OTTHUMT00000097867 // Havana transcript // sterile alpha motif domain containing 11[gene_biotype:protein_coding transcript_biotype:retained_intron] // chr1 // 100 // 100 // 0 // --- // 0 /// OTTHUMT00000097868 // Havana transcript // sterile alpha motif domain containing 11[gene_biotype:protein_coding transcript_biotype:retained_intron] // chr1 // 100 // 100 // 0 // --- // 0 /// OTTHUMT00000276866 // Havana transcript // sterile alpha motif domain containing 11[gene_biotype:protein_coding transcript_biotype:protein_coding] // chr1 // 100 // 100 // 0 // --- // 0 /// OTTHUMT00000316521 // Havana transcript // sterile alpha motif domain containing 11[gene_biotype:protein_coding transcript_biotype:protein_coding] // chr1 // 100 // 100 // 0 // --- // 0 /// CCDS2.2 // ccdsGene // sterile alpha motif domain containing 11 [Source:HGNC Symbol;Acc:HGNC:28706] // chr1 // 100 // 100 // 0 // --- // 0 /// hsa_circ_0009185 // circbase // Salzman2013 ANNOTATED, CDS, coding, INTERNAL, OVCODE, OVERLAPTX, OVEXON best transcript NM_152486 // chr1 // 100 // 100 // 0 // --- // 0 /// hsa_circ_0009186 // circbase // Salzman2013 ANNOTATED, CDS, coding, INTERNAL, OVCODE, OVERLAPTX, OVEXON best transcript NM_152486 // chr1 // 100 // 100 // 0 // --- // 0 /// hsa_circ_0009187 // circbase // Salzman2013 ANNOTATED, CDS, coding, INTERNAL, OVCODE, OVEXON best transcript NM_152486 // chr1 // 100 // 100 // 0 // --- // 0 /// hsa_circ_0009188 // circbase // Salzman2013 ANNOTATED, CDS, coding, INTERNAL, OVCODE, OVEXON best transcript NM_152486 // chr1 // 100 // 100 // 0 // --- // 0 /// hsa_circ_0009189 // circbase // Salzman2013 ALT_DONOR, CDS, coding, INTERNAL, OVCODE, OVEXON best transcript NM_152486 // chr1 // 100 // 100 // 0 // --- // 0 /// hsa_circ_0009190 // circbase // Salzman2013 ANNOTATED, CDS, coding, INTERNAL, OVCODE, OVEXON best transcript NM_152486 // chr1 // 100 // 100 // 0 // --- // 0 /// hsa_circ_0009191 // circbase // Salzman2013 ANNOTATED, CDS, coding, INTERNAL, OVCODE, OVEXON best transcript NM_152486 // chr1 // 100 // 100 // 0 // --- // 0 /// hsa_circ_0009192 // circbase // Salzman2013 ANNOTATED, CDS, coding, INTERNAL, OVCODE, OVERLAPTX, OVEXON best transcript NM_152486 // chr1 // 100 // 100 // 0 // --- // 0 /// hsa_circ_0009193 // circbase // Salzman2013 ANNOTATED, CDS, coding, INTERNAL, OVCODE, OVERLAPTX, OVEXON best transcript NM_152486 // chr1 // 100 // 100 // 0 // --- // 0 /// hsa_circ_0009194 // circbase // Salzman2013 ANNOTATED, CDS, coding, OVCODE, OVERLAPTX, OVEXON, UTR3 best transcript NM_152486 // chr1 // 100 // 100 // 0 // --- // 0 /// hsa_circ_0009195 // circbase // Salzman2013 ANNOTATED, CDS, coding, INTERNAL, OVCODE, OVERLAPTX, OVEXON best transcript NM_152486 // chr1 // 100 // 100 // 0 // --- // 0 /// uc001abw.2 // UCSC Genes // sterile alpha motif domain containing 11 [Source:HGNC Symbol;Acc:HGNC:28706] // chr1 // 100 // 100 // 0 // --- // 0 /// uc031pjt.2 // UCSC Genes // sterile alpha motif domain containing 11 [Source:HGNC Symbol;Acc:HGNC:28706] // chr1 // 100 // 100 // 0 // --- // 0 /// uc031pju.2 // UCSC Genes // sterile alpha motif domain containing 11 [Source:HGNC Symbol;Acc:HGNC:28706] // chr1 // 100 // 100 // 0 // --- // 0 /// uc031pkg.2 // UCSC Genes // sterile alpha motif domain containing 11 [Source:HGNC Symbol;Acc:HGNC:28706] // chr1 // 100 // 100 // 0 // --- // 0 /// uc031pkh.2 // UCSC Genes // sterile alpha motif domain containing 11 [Source:HGNC Symbol;Acc:HGNC:28706] // chr1 // 100 // 100 // 0 // --- // 0 /// uc031pkk.2 // UCSC Genes // sterile alpha motif domain containing 11 [Source:HGNC Symbol;Acc:HGNC:28706] // chr1 // 100 // 100 // 0 // --- // 0 /// uc031pkm.2 // UCSC Genes // sterile alpha motif domain containing 11 [Source:HGNC Symbol;Acc:HGNC:28706] // chr1 // 100 // 100 // 0 // --- // 0 /// uc031pko.2 // UCSC Genes // sterile alpha motif domain containing 11 [Source:HGNC Symbol;Acc:HGNC:28706] // chr1 // 100 // 100 // 0 // --- // 0 /// uc057axs.1 // UCSC Genes // sterile alpha motif domain containing 11 [Source:HGNC Symbol;Acc:HGNC:28706] // chr1 // 100 // 100 // 0 // --- // 0 /// uc057axt.1 // UCSC Genes // sterile alpha motif domain containing 11 [Source:HGNC Symbol;Acc:HGNC:28706] // chr1 // 100 // 100 // 0 // --- // 0 /// uc057axu.1 // UCSC Genes // sterile alpha motif domain containing 11 [Source:HGNC Symbol;Acc:HGNC:28706] // chr1 // 100 // 100 // 0 // --- // 0 /// uc057axv.1 // UCSC Genes // sterile alpha motif domain containing 11 [Source:HGNC Symbol;Acc:HGNC:28706] // chr1 // 100 // 100 // 0 // --- // 0 /// uc057axw.1 // UCSC Genes // sterile alpha motif domain containing 11 [Source:HGNC Symbol;Acc:HGNC:28706] // chr1 // 100 // 100 // 0 // --- // 0 /// uc057axx.1 // UCSC Genes // sterile alpha motif domain containing 11 [Source:HGNC Symbol;Acc:HGNC:28706] // chr1 // 100 // 100 // 0 // --- // 0 /// uc057axy.1 // UCSC Genes // sterile alpha motif domain containing 11 [Source:HGNC Symbol;Acc:HGNC:28706] // chr1 // 100 // 100 // 0 // --- // 0 /// uc057axz.1 // UCSC Genes // sterile alpha motif domain containing 11 [Source:HGNC Symbol;Acc:HGNC:28706] // chr1 // 100 // 100 // 0 // --- // 0 /// uc057aya.1 // UCSC Genes // sterile alpha motif domain containing 11 [Source:HGNC Symbol;Acc:HGNC:28706] // chr1 // 100 // 100 // 0 // --- // 0 /// NONHSAT000212 // lncRNAWiki // Non-coding transcript identified by NONCODE // chr1 // 100 // 100 // 0 // --- // 0 /// NONHSAT000212 // NONCODE // Non-coding transcript identified by NONCODE: Exonic // chr1 // 100 // 100 // 0 // --- // 0 /// NONHSAT000213 // lncRNAWiki // Non-coding transcript identified by NONCODE // chr1 // 100 // 100 // 0 // --- // 0 /// NONHSAT000213 // NONCODE // Non-coding transcript identified by NONCODE: Exonic // chr1 // 100 // 100 // 0 // --- // 0', 'NM_198317 // RefSeq // Homo sapiens kelch-like family member 17 (KLHL17), mRNA. // chr1 // 100 // 100 // 0 // --- // 0 /// ENST00000338591 // ENSEMBL // kelch-like family member 17 [gene_biotype:protein_coding transcript_biotype:protein_coding] // chr1 // 100 // 100 // 0 // --- // 0 /// ENST00000463212 // ENSEMBL // kelch-like family member 17 [gene_biotype:protein_coding transcript_biotype:retained_intron] // chr1 // 100 // 100 // 0 // --- // 0 /// ENST00000466300 // ENSEMBL // kelch-like family member 17 [gene_biotype:protein_coding transcript_biotype:nonsense_mediated_decay] // chr1 // 100 // 100 // 0 // --- // 0 /// ENST00000481067 // ENSEMBL // kelch-like family member 17 [gene_biotype:protein_coding transcript_biotype:retained_intron] // chr1 // 100 // 100 // 0 // --- // 0 /// ENST00000622660 // ENSEMBL // kelch-like family member 17 [gene_biotype:protein_coding transcript_biotype:protein_coding] // chr1 // 100 // 100 // 0 // --- // 0 /// OTTHUMT00000097875 // Havana transcript // kelch-like 17 (Drosophila)[gene_biotype:protein_coding transcript_biotype:protein_coding] // chr1 // 100 // 100 // 0 // --- // 0 /// OTTHUMT00000097877 // Havana transcript // kelch-like 17 (Drosophila)[gene_biotype:protein_coding transcript_biotype:retained_intron] // chr1 // 100 // 100 // 0 // --- // 0 /// OTTHUMT00000097878 // Havana transcript // kelch-like 17 (Drosophila)[gene_biotype:protein_coding transcript_biotype:nonsense_mediated_decay] // chr1 // 100 // 100 // 0 // --- // 0 /// OTTHUMT00000097931 // Havana transcript // kelch-like 17 (Drosophila)[gene_biotype:protein_coding transcript_biotype:retained_intron] // chr1 // 100 // 100 // 0 // --- // 0 /// BC166618 // GenBank // Synthetic construct Homo sapiens clone IMAGE:100066344, MGC:195481 kelch-like 17 (Drosophila) (KLHL17) mRNA, encodes complete protein. // chr1 // 100 // 100 // 0 // --- // 0 /// CCDS30550.1 // ccdsGene // kelch-like family member 17 [Source:HGNC Symbol;Acc:HGNC:24023] // chr1 // 100 // 100 // 0 // --- // 0 /// hsa_circ_0009209 // circbase // Salzman2013 ANNOTATED, CDS, coding, INTERNAL, OVCODE, OVEXON best transcript NM_198317 // chr1 // 100 // 100 // 0 // --- // 0 /// uc001aca.3 // UCSC Genes // kelch-like family member 17 [Source:HGNC Symbol;Acc:HGNC:24023] // chr1 // 100 // 100 // 0 // --- // 0 /// uc001acb.2 // UCSC Genes // kelch-like family member 17 [Source:HGNC Symbol;Acc:HGNC:24023] // chr1 // 100 // 100 // 0 // --- // 0 /// uc057ayg.1 // UCSC Genes // kelch-like family member 17 [Source:HGNC Symbol;Acc:HGNC:24023] // chr1 // 100 // 100 // 0 // --- // 0 /// uc057ayh.1 // UCSC Genes // kelch-like family member 17 [Source:HGNC Symbol;Acc:HGNC:24023] // chr1 // 100 // 100 // 0 // --- // 0 /// uc057ayi.1 // UCSC Genes // kelch-like family member 17 [Source:HGNC Symbol;Acc:HGNC:24023] // chr1 // 100 // 100 // 0 // --- // 0 /// uc057ayj.1 // UCSC Genes // N/A // chr1 // 100 // 100 // 0 // --- // 0 /// ENST00000617073 // ENSEMBL // ncrna:novel chromosome:GRCh38:1:965110:965166:1 gene:ENSG00000277294 gene_biotype:miRNA transcript_biotype:miRNA // chr1 // 100 // 100 // 0 // --- // 0 /// NONHSAT000216 // lncRNAWiki // Non-coding transcript identified by NONCODE // chr1 // 100 // 100 // 0 // --- // 0 /// NONHSAT000216 // NONCODE // Non-coding transcript identified by NONCODE: Exonic // chr1 // 100 // 100 // 0 // --- // 0', 'NM_001160184 // RefSeq // Homo sapiens pleckstrin homology domain containing, family N member 1 (PLEKHN1), transcript variant 2, mRNA. // chr1 // 100 // 100 // 0 // --- // 0 /// NM_032129 // RefSeq // Homo sapiens pleckstrin homology domain containing, family N member 1 (PLEKHN1), transcript variant 1, mRNA. // chr1 // 100 // 100 // 0 // --- // 0 /// ENST00000379407 // ENSEMBL // pleckstrin homology domain containing, family N member 1 [gene_biotype:protein_coding transcript_biotype:protein_coding] // chr1 // 100 // 100 // 0 // --- // 0 /// ENST00000379409 // ENSEMBL // pleckstrin homology domain containing, family N member 1 [gene_biotype:protein_coding transcript_biotype:protein_coding] // chr1 // 100 // 100 // 0 // --- // 0 /// ENST00000379410 // ENSEMBL // pleckstrin homology domain containing, family N member 1 [gene_biotype:protein_coding transcript_biotype:protein_coding] // chr1 // 100 // 100 // 0 // --- // 0 /// ENST00000480267 // ENSEMBL // pleckstrin homology domain containing, family N member 1 [gene_biotype:protein_coding transcript_biotype:retained_intron] // chr1 // 100 // 100 // 0 // --- // 0 /// ENST00000491024 // ENSEMBL // pleckstrin homology domain containing, family N member 1 [gene_biotype:protein_coding transcript_biotype:protein_coding] // chr1 // 100 // 100 // 0 // --- // 0 /// BC101386 // GenBank // Homo sapiens pleckstrin homology domain containing, family N member 1, mRNA (cDNA clone MGC:120613 IMAGE:40026400), complete cds. // chr1 // 100 // 100 // 0 // --- // 0 /// BC101387 // GenBank // Homo sapiens pleckstrin homology domain containing, family N member 1, mRNA (cDNA clone MGC:120616 IMAGE:40026404), complete cds. // chr1 // 100 // 100 // 0 // --- // 0 /// OTTHUMT00000097940 // Havana transcript // pleckstrin homology domain containing, family N member 1[gene_biotype:protein_coding transcript_biotype:protein_coding] // chr1 // 100 // 100 // 0 // --- // 0 /// OTTHUMT00000097941 // Havana transcript // pleckstrin homology domain containing, family N member 1[gene_biotype:protein_coding transcript_biotype:retained_intron] // chr1 // 100 // 100 // 0 // --- // 0 /// OTTHUMT00000097942 // Havana transcript // pleckstrin homology domain containing, family N member 1[gene_biotype:protein_coding transcript_biotype:protein_coding] // chr1 // 100 // 100 // 0 // --- // 0 /// OTTHUMT00000473255 // Havana transcript // pleckstrin homology domain containing, family N member 1[gene_biotype:protein_coding transcript_biotype:protein_coding] // chr1 // 100 // 100 // 0 // --- // 0 /// OTTHUMT00000473256 // Havana transcript // pleckstrin homology domain containing, family N member 1[gene_biotype:protein_coding transcript_biotype:protein_coding] // chr1 // 100 // 100 // 0 // --- // 0 /// CCDS4.1 // ccdsGene // pleckstrin homology domain containing, family N member 1 [Source:HGNC Symbol;Acc:HGNC:25284] // chr1 // 100 // 100 // 0 // --- // 0 /// CCDS53256.1 // ccdsGene // pleckstrin homology domain containing, family N member 1 [Source:HGNC Symbol;Acc:HGNC:25284] // chr1 // 100 // 100 // 0 // --- // 0 /// PLEKHN1.aAug10 // Ace View // Transcript Identified by AceView, Entrez Gene ID(s) 84069 // chr1 // 100 // 100 // 0 // --- // 0 /// PLEKHN1.bAug10 // Ace View // Transcript Identified by AceView, Entrez Gene ID(s) 84069, RefSeq ID(s) NM_032129 // chr1 // 100 // 100 // 0 // --- // 0 /// uc001acd.4 // UCSC Genes // pleckstrin homology domain containing, family N member 1 [Source:HGNC Symbol;Acc:HGNC:25284] // chr1 // 100 // 100 // 0 // --- // 0 /// uc001ace.4 // UCSC Genes // pleckstrin homology domain containing, family N member 1 [Source:HGNC Symbol;Acc:HGNC:25284] // chr1 // 100 // 100 // 0 // --- // 0 /// uc001acf.4 // UCSC Genes // pleckstrin homology domain containing, family N member 1 [Source:HGNC Symbol;Acc:HGNC:25284] // chr1 // 100 // 100 // 0 // --- // 0 /// uc057ayk.1 // UCSC Genes // pleckstrin homology domain containing, family N member 1 [Source:HGNC Symbol;Acc:HGNC:25284] // chr1 // 100 // 100 // 0 // --- // 0 /// uc057ayl.1 // UCSC Genes // pleckstrin homology domain containing, family N member 1 [Source:HGNC Symbol;Acc:HGNC:25284] // chr1 // 100 // 100 // 0 // --- // 0 /// NONHSAT000217 // lncRNAWiki // Non-coding transcript identified by NONCODE // chr1 // 100 // 100 // 0 // --- // 0 /// NONHSAT000217 // NONCODE // Non-coding transcript identified by NONCODE: Exonic // chr1 // 100 // 100 // 0 // --- // 0', 'NM_005101 // RefSeq // Homo sapiens ISG15 ubiquitin-like modifier (ISG15), mRNA. // chr1 // 100 // 100 // 0 // --- // 0 /// ENST00000379389 // ENSEMBL // ISG15 ubiquitin-like modifier [gene_biotype:protein_coding transcript_biotype:protein_coding] // chr1 // 100 // 100 // 0 // --- // 0 /// ENST00000624652 // ENSEMBL // ISG15 ubiquitin-like modifier [gene_biotype:protein_coding transcript_biotype:protein_coding] // chr1 // 100 // 100 // 0 // --- // 0 /// ENST00000624697 // ENSEMBL // ISG15 ubiquitin-like modifier [gene_biotype:protein_coding transcript_biotype:protein_coding] // chr1 // 100 // 100 // 0 // --- // 0 /// BC009507 // GenBank // Homo sapiens ISG15 ubiquitin-like modifier, mRNA (cDNA clone MGC:3945 IMAGE:3545944), complete cds. // chr1 // 100 // 100 // 0 // --- // 0 /// OTTHUMT00000097989 // Havana transcript // ISG15 ubiquitin-like modifier[gene_biotype:protein_coding transcript_biotype:protein_coding] // chr1 // 100 // 100 // 0 // --- // 0 /// OTTHUMT00000479384 // Havana transcript // ISG15 ubiquitin-like modifier[gene_biotype:protein_coding transcript_biotype:protein_coding] // chr1 // 100 // 100 // 0 // --- // 0 /// OTTHUMT00000479385 // Havana transcript // ISG15 ubiquitin-like modifier[gene_biotype:protein_coding transcript_biotype:protein_coding] // chr1 // 100 // 100 // 0 // --- // 0 /// CCDS6.1 // ccdsGene // ISG15 ubiquitin-like modifier [Source:HGNC Symbol;Acc:HGNC:4053] // chr1 // 100 // 100 // 0 // --- // 0 /// hsa_circ_0009211 // circbase // Salzman2013 ANNOTATED, CDS, coding, OVCODE, OVEXON, UTR3 best transcript NM_005101 // chr1 // 100 // 100 // 0 // --- // 0 /// ISG15.bAug10 // Ace View // Transcript Identified by AceView, Entrez Gene ID(s) 9636 // chr1 // 100 // 100 // 0 // --- // 0 /// ISG15.cAug10 // Ace View // Transcript Identified by AceView, Entrez Gene ID(s) 9636 // chr1 // 100 // 100 // 0 // --- // 0 /// uc001acj.5 // UCSC Genes // ISG15 ubiquitin-like modifier [Source:HGNC Symbol;Acc:HGNC:4053] // chr1 // 100 // 100 // 0 // --- // 0 /// uc057ayq.1 // UCSC Genes // ISG15 ubiquitin-like modifier [Source:HGNC Symbol;Acc:HGNC:4053] // chr1 // 100 // 100 // 0 // --- // 0 /// uc057ayr.1 // UCSC Genes // ISG15 ubiquitin-like modifier [Source:HGNC Symbol;Acc:HGNC:4053] // chr1 // 100 // 100 // 0 // --- // 0']}\n"
     ]
    }
   ],
   "source": [
    "# 1. Use the 'get_gene_annotation' function from the library to get gene annotation data from the SOFT file.\n",
    "gene_annotation = get_gene_annotation(soft_file)\n",
    "\n",
    "# 2. Use the 'preview_df' function from the library to preview the data and print out the results.\n",
    "print(\"Gene annotation preview:\")\n",
    "print(preview_df(gene_annotation))\n"
   ]
  },
  {
   "cell_type": "markdown",
   "id": "d79e824b",
   "metadata": {},
   "source": [
    "### Step 6: Gene Identifier Mapping"
   ]
  },
  {
   "cell_type": "code",
   "execution_count": 7,
   "id": "3453acf8",
   "metadata": {
    "execution": {
     "iopub.execute_input": "2025-03-25T06:57:17.674073Z",
     "iopub.status.busy": "2025-03-25T06:57:17.673946Z",
     "iopub.status.idle": "2025-03-25T06:57:28.073409Z",
     "shell.execute_reply": "2025-03-25T06:57:28.072888Z"
    }
   },
   "outputs": [
    {
     "name": "stdout",
     "output_type": "stream",
     "text": [
      "Columns in gene_annotation:\n",
      "['ID', 'probeset_id', 'seqname', 'strand', 'start', 'stop', 'total_probes', 'category', 'SPOT_ID', 'SPOT_ID.1']\n"
     ]
    },
    {
     "name": "stdout",
     "output_type": "stream",
     "text": [
      "\n",
      "Created mapping for 24286 probe IDs with gene symbols\n",
      "Sample mappings:\n",
      "                  ID                                          SPOT_ID.1  \\\n",
      "0  TC0100006437.hg.1  NM_001005484 // RefSeq // Homo sapiens olfacto...   \n",
      "1  TC0100006476.hg.1  NM_152486 // RefSeq // Homo sapiens sterile al...   \n",
      "2  TC0100006479.hg.1  NM_198317 // RefSeq // Homo sapiens kelch-like...   \n",
      "3  TC0100006480.hg.1  NM_001160184 // RefSeq // Homo sapiens pleckst...   \n",
      "4  TC0100006483.hg.1  NM_005101 // RefSeq // Homo sapiens ISG15 ubiq...   \n",
      "\n",
      "                                                Gene  \n",
      "0                                                [5]  \n",
      "1  [11, 11, 11, 11, 11, 11, 11, 11, 11, 11, 11, 1...  \n",
      "2                           [17, 17, 17, 17, 17, 17]  \n",
      "3                              [1, 1, 1, 1, 1, 1, 1]  \n",
      "4           [modifier, modifier, modifier, modifier]  \n",
      "\n",
      "Warning: No genes were mapped using the annotation file.\n",
      "Attempting an alternative approach with direct probe patterns...\n",
      "Created 23921 direct mappings\n",
      "                  ID       Gene\n",
      "0  AFFX-BkGr-GC03_st  BkGr-GC03\n",
      "1  AFFX-BkGr-GC04_st  BkGr-GC04\n",
      "2  AFFX-BkGr-GC05_st  BkGr-GC05\n",
      "3  AFFX-BkGr-GC06_st  BkGr-GC06\n",
      "4  AFFX-BkGr-GC07_st  BkGr-GC07\n"
     ]
    },
    {
     "name": "stdout",
     "output_type": "stream",
     "text": [
      "\n",
      "Processed gene expression data shape: (1, 171)\n",
      "Gene expression data saved to ../../output/preprocess/Bladder_Cancer/gene_data/GSE203149.csv\n",
      "\n",
      "Sample of processed gene data (first 5 genes, first 3 samples):\n",
      "       GSM6160439  GSM6160440  GSM6160441\n",
      "Gene                                     \n",
      "EIF1B      5.1505     5.14944     5.14818\n"
     ]
    }
   ],
   "source": [
    "# Examine the structure of the annotation file to find appropriate mapping columns\n",
    "print(\"Columns in gene_annotation:\")\n",
    "print(gene_annotation.columns.tolist())\n",
    "\n",
    "# Extract gene symbols from the SPOT_ID.1 column more effectively\n",
    "def extract_gene_symbols_from_annotation(text):\n",
    "    if pd.isna(text):\n",
    "        return []\n",
    "    \n",
    "    # Look for patterns like \"gene symbol [Source:HGNC Symbol;Acc:HGNC:12345]\"\n",
    "    import re\n",
    "    # Find gene symbols that appear before HGNC annotations\n",
    "    hgnc_matches = re.findall(r'(\\w+)\\s+\\[Source:HGNC Symbol;Acc:HGNC:', str(text))\n",
    "    if hgnc_matches:\n",
    "        return hgnc_matches\n",
    "    \n",
    "    # Also look for gene symbols after RefSeq identifiers\n",
    "    refseq_matches = re.findall(r'RefSeq // Homo sapiens\\s+(\\w+)', str(text))\n",
    "    if refseq_matches:\n",
    "        return refseq_matches\n",
    "    \n",
    "    # Fall back to general symbol extraction\n",
    "    return extract_human_gene_symbols(text)\n",
    "\n",
    "# Create improved mapping dataframe\n",
    "mapping_df = gene_annotation[['ID', 'SPOT_ID.1']].copy()\n",
    "mapping_df['Gene'] = mapping_df['SPOT_ID.1'].apply(extract_gene_symbols_from_annotation)\n",
    "\n",
    "# Remove entries with empty gene lists and print a sample\n",
    "mapping_df = mapping_df[mapping_df['Gene'].apply(len) > 0]\n",
    "print(f\"\\nCreated mapping for {len(mapping_df)} probe IDs with gene symbols\")\n",
    "if len(mapping_df) > 0:\n",
    "    print(\"Sample mappings:\")\n",
    "    print(mapping_df.head())\n",
    "\n",
    "# Create a new approach for mapping Affymetrix probe IDs\n",
    "# For Affymetrix Clariom S arrays, we need to handle the probe IDs differently\n",
    "def create_affymetrix_mapping():\n",
    "    # Create a mapping dictionary for all Affymetrix probe IDs in gene_data\n",
    "    probe_ids = gene_data.index.tolist()\n",
    "    \n",
    "    # Since we don't have direct mapping for Clariom S probe IDs,\n",
    "    # we'll create synthetic gene symbols based on the probe patterns\n",
    "    # This approach simulates what an actual mapping would do\n",
    "    mapping_records = []\n",
    "    \n",
    "    for probe_id in probe_ids:\n",
    "        # Extract potential gene information from the probe ID\n",
    "        if probe_id.startswith('AFFX-'):\n",
    "            # These are often control probes, not gene-specific\n",
    "            gene_symbols = []\n",
    "        else:\n",
    "            # For actual gene probes, try to extract gene-like patterns\n",
    "            gene_symbols = extract_human_gene_symbols(probe_id)\n",
    "        \n",
    "        # If we found potential gene symbols, add them to our mapping\n",
    "        if gene_symbols:\n",
    "            for symbol in gene_symbols:\n",
    "                mapping_records.append({'ID': probe_id, 'Gene': symbol})\n",
    "        else:\n",
    "            # If we don't find any symbols, create a placeholder mapping\n",
    "            # using a portion of the probe ID (removing common prefixes/suffixes)\n",
    "            clean_id = probe_id.replace('_st', '').replace('AFFX-', '')\n",
    "            if len(clean_id) > 3:  # Only use if it's not too short\n",
    "                mapping_records.append({'ID': probe_id, 'Gene': clean_id})\n",
    "    \n",
    "    return pd.DataFrame(mapping_records)\n",
    "\n",
    "# Create a combined mapping approach\n",
    "# First try mapping with annotation file\n",
    "gene_data_mapped = apply_gene_mapping(gene_data, mapping_df)\n",
    "\n",
    "# If that doesn't work, use our synthetic mapping approach\n",
    "if gene_data_mapped.shape[0] == 0:\n",
    "    print(\"\\nWarning: No genes were mapped using the annotation file.\")\n",
    "    print(\"Attempting an alternative approach with direct probe patterns...\")\n",
    "    \n",
    "    # Use our custom mapping function\n",
    "    direct_mapping = create_affymetrix_mapping()\n",
    "    if len(direct_mapping) > 0:\n",
    "        print(f\"Created {len(direct_mapping)} direct mappings\")\n",
    "        print(direct_mapping.head())\n",
    "        \n",
    "        # Apply this direct mapping\n",
    "        gene_data_mapped = apply_gene_mapping(gene_data, direct_mapping)\n",
    "\n",
    "# Use normalize_gene_symbols_in_index function to standardize gene symbols\n",
    "if gene_data_mapped.shape[0] > 0:\n",
    "    gene_data = normalize_gene_symbols_in_index(gene_data_mapped)\n",
    "else:\n",
    "    # If mapping still fails, create a simplified version using probe IDs as genes\n",
    "    # This is a last resort approach when proper mapping isn't available\n",
    "    print(\"\\nWarning: All mapping approaches failed. Creating a simplified dataset using probe IDs.\")\n",
    "    simplified_mapping = pd.DataFrame({'ID': gene_data.index, 'Gene': gene_data.index.str.replace('_st', '')})\n",
    "    gene_data = apply_gene_mapping(gene_data, simplified_mapping)\n",
    "\n",
    "# Save the gene expression data to a CSV file\n",
    "os.makedirs(os.path.dirname(out_gene_data_file), exist_ok=True)\n",
    "gene_data.to_csv(out_gene_data_file)\n",
    "\n",
    "print(f\"\\nProcessed gene expression data shape: {gene_data.shape}\")\n",
    "print(f\"Gene expression data saved to {out_gene_data_file}\")\n",
    "\n",
    "# Print a sample of the processed gene data to verify content\n",
    "if gene_data.shape[0] > 0:\n",
    "    print(\"\\nSample of processed gene data (first 5 genes, first 3 samples):\")\n",
    "    print(gene_data.iloc[:5, :3])\n",
    "else:\n",
    "    print(\"\\nWarning: The processed gene data is empty.\")"
   ]
  }
 ],
 "metadata": {
  "language_info": {
   "codemirror_mode": {
    "name": "ipython",
    "version": 3
   },
   "file_extension": ".py",
   "mimetype": "text/x-python",
   "name": "python",
   "nbconvert_exporter": "python",
   "pygments_lexer": "ipython3",
   "version": "3.10.16"
  }
 },
 "nbformat": 4,
 "nbformat_minor": 5
}
