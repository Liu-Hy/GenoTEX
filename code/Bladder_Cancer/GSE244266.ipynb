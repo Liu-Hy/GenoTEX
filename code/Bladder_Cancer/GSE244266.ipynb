{
 "cells": [
  {
   "cell_type": "code",
   "execution_count": 1,
   "id": "c14fff34",
   "metadata": {
    "execution": {
     "iopub.execute_input": "2024-06-12T07:11:04.316157Z",
     "iopub.status.busy": "2024-06-12T07:11:04.315967Z",
     "iopub.status.idle": "2024-06-12T07:11:04.321767Z",
     "shell.execute_reply": "2024-06-12T07:11:04.321256Z"
    }
   },
   "outputs": [],
   "source": [
    "\n",
    "import sys\n",
    "sys.path.append('/home/techt/Desktop/a4s')\n"
   ]
  },
  {
   "cell_type": "markdown",
   "id": "2b950b75",
   "metadata": {},
   "source": [
    "### Step 1: Initial Data Loading"
   ]
  },
  {
   "cell_type": "code",
   "execution_count": 2,
   "id": "86945af5",
   "metadata": {
    "execution": {
     "iopub.execute_input": "2024-06-12T07:11:04.324378Z",
     "iopub.status.busy": "2024-06-12T07:11:04.324022Z",
     "iopub.status.idle": "2024-06-12T07:11:05.097370Z",
     "shell.execute_reply": "2024-06-12T07:11:05.096809Z"
    }
   },
   "outputs": [
    {
     "name": "stdout",
     "output_type": "stream",
     "text": [
      "Background Information:\n",
      "!Series_title\t\"Association of Molecular Subtypes with Pathologic Response, PFS and OS in a Phase II Study of Coexpression Extrapolation (COXEN) with Neoadjuvant Chemotherapy (NAC) for Localized, Muscle-Invasive Bladder Cancer (SWOG S1314; NCT02177695)\"\n",
      "!Series_summary\t\"Investigation of RNA-based molecular subtypes as additional predictive biomarkers for neoadjuvant chemotherapy response, progression-free survival and survival in patients treated in S1314.\"\n",
      "!Series_overall_design\t\"randomized 2-arm phase II trial of neoadjuvant chemotherapy in muscle-invasive bladder cancer, translational analysis of tissue\"\n",
      "Sample Characteristics Dictionary:\n",
      "{0: ['treatment arm: DDMVAC+CYST', 'treatment arm: GC+CYST'], 1: ['disease: muscle-invasive bladder cancer'], 2: ['clinical_stage_strat_factor: Clinical Stage -T2', 'clinical_stage_strat_factor: Clinical Stage -T3 or T4a']}\n"
     ]
    }
   ],
   "source": [
    "from utils.preprocess import *\n",
    "# 1. Identify the paths to the soft file and the matrix file\n",
    "cohort_dir = '/media/techt/DATA/GEO/Bladder_Cancer/GSE244266'\n",
    "soft_file, matrix_file = geo_get_relevant_filepaths(cohort_dir)\n",
    "\n",
    "# 2. Read the matrix file to obtain background information and sample characteristics data\n",
    "background_prefixes = ['!Series_title', '!Series_summary', '!Series_overall_design']\n",
    "clinical_prefixes = ['!Sample_geo_accession', '!Sample_characteristics_ch1']\n",
    "background_info, clinical_data = get_background_and_clinical_data(matrix_file, background_prefixes, clinical_prefixes)\n",
    "\n",
    "# 3. Obtain the sample characteristics dictionary from the clinical dataframe\n",
    "sample_characteristics_dict = get_unique_values_by_row(clinical_data)\n",
    "\n",
    "# 4. Explicitly print out all the background information and the sample characteristics dictionary\n",
    "print(\"Background Information:\")\n",
    "print(background_info)\n",
    "print(\"Sample Characteristics Dictionary:\")\n",
    "print(sample_characteristics_dict)\n"
   ]
  },
  {
   "cell_type": "markdown",
   "id": "dab7035a",
   "metadata": {},
   "source": [
    "### Step 2: Dataset Analysis and Clinical Feature Extraction"
   ]
  },
  {
   "cell_type": "code",
   "execution_count": 3,
   "id": "0a4e3466",
   "metadata": {
    "execution": {
     "iopub.execute_input": "2024-06-12T07:11:05.099388Z",
     "iopub.status.busy": "2024-06-12T07:11:05.099252Z",
     "iopub.status.idle": "2024-06-12T07:11:05.104124Z",
     "shell.execute_reply": "2024-06-12T07:11:05.103738Z"
    }
   },
   "outputs": [
    {
     "name": "stdout",
     "output_type": "stream",
     "text": [
      "A new JSON file was created at: ./preprocessed/Bladder_Cancer/cohort_info.json\n"
     ]
    }
   ],
   "source": [
    "is_gene_available = False\n",
    "trait_row = age_row = gender_row = None  # set to different values when applicable\n",
    "convert_trait = convert_age = convert_age = None  # define the functions when applicable\n",
    "\n",
    "# Check if the dataset contains gene expression data\n",
    "# Given that the data is RNA-based, set is_gene_available to True\n",
    "is_gene_available = True\n",
    "\n",
    "# Variable Availability and Data Type Conversion\n",
    "# Based on the provided sample characteristics dictionary, the relevant variables are inferred as:\n",
    "# - Bladder_Cancer: Not explicitly listed but assumed as all samples have 'muscle-invasive bladder cancer'\n",
    "# - Age and Gender: Not available in the given dictionary\n",
    "\n",
    "trait_row = None  # No specific entry for 'Bladder_Cancer' as all cases are muscle-invasive bladder cancer  \n",
    "age_row = None  # Age information is not available in the sample characteristics dictionary\n",
    "gender_row = None  # Gender information is not available in the sample characteristics dictionary\n",
    "\n",
    "# Conversion functions assuming standard format, though not applicable here since rows are None\n",
    "def convert_trait(value):\n",
    "    try:\n",
    "        val = value.split(':')[-1].strip().lower()\n",
    "        return 1 if 'bladder cancer' in val else 0\n",
    "    except:\n",
    "        return None\n",
    "\n",
    "def convert_age(value):\n",
    "    try:\n",
    "        val = value.split(':')[-1].strip()\n",
    "        return float(val)\n",
    "    except:\n",
    "        return None\n",
    "\n",
    "def convert_gender(value):\n",
    "    try:\n",
    "        val = value.split(':')[-1].strip().lower()\n",
    "        return 1 if 'male' in val else 0 if 'female' in val else None\n",
    "    except:\n",
    "        return None\n",
    "\n",
    "# Save Metadata\n",
    "save_cohort_info('GSE244266', './preprocessed/Bladder_Cancer/cohort_info.json', is_gene_available, trait_row is not None)\n",
    "\n",
    "# Clinical Feature Extraction\n",
    "# Since trait_row is None, no clinical feature extraction is performed.\n"
   ]
  }
 ],
 "metadata": {
  "language_info": {
   "codemirror_mode": {
    "name": "ipython",
    "version": 3
   },
   "file_extension": ".py",
   "mimetype": "text/x-python",
   "name": "python",
   "nbconvert_exporter": "python",
   "pygments_lexer": "ipython3",
   "version": "3.8.17"
  }
 },
 "nbformat": 4,
 "nbformat_minor": 5
}
