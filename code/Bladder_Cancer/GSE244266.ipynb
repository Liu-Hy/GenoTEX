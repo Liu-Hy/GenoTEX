{
 "cells": [
  {
   "cell_type": "code",
   "execution_count": 1,
   "id": "875b8677",
   "metadata": {
    "execution": {
     "iopub.execute_input": "2025-03-25T06:57:45.584925Z",
     "iopub.status.busy": "2025-03-25T06:57:45.584708Z",
     "iopub.status.idle": "2025-03-25T06:57:45.747050Z",
     "shell.execute_reply": "2025-03-25T06:57:45.746703Z"
    }
   },
   "outputs": [],
   "source": [
    "import sys\n",
    "import os\n",
    "sys.path.append(os.path.abspath(os.path.join(os.getcwd(), '../..')))\n",
    "\n",
    "# Path Configuration\n",
    "from tools.preprocess import *\n",
    "\n",
    "# Processing context\n",
    "trait = \"Bladder_Cancer\"\n",
    "cohort = \"GSE244266\"\n",
    "\n",
    "# Input paths\n",
    "in_trait_dir = \"../../input/GEO/Bladder_Cancer\"\n",
    "in_cohort_dir = \"../../input/GEO/Bladder_Cancer/GSE244266\"\n",
    "\n",
    "# Output paths\n",
    "out_data_file = \"../../output/preprocess/Bladder_Cancer/GSE244266.csv\"\n",
    "out_gene_data_file = \"../../output/preprocess/Bladder_Cancer/gene_data/GSE244266.csv\"\n",
    "out_clinical_data_file = \"../../output/preprocess/Bladder_Cancer/clinical_data/GSE244266.csv\"\n",
    "json_path = \"../../output/preprocess/Bladder_Cancer/cohort_info.json\"\n"
   ]
  },
  {
   "cell_type": "markdown",
   "id": "80497af3",
   "metadata": {},
   "source": [
    "### Step 1: Initial Data Loading"
   ]
  },
  {
   "cell_type": "code",
   "execution_count": 2,
   "id": "82869a0f",
   "metadata": {
    "execution": {
     "iopub.execute_input": "2025-03-25T06:57:45.748343Z",
     "iopub.status.busy": "2025-03-25T06:57:45.748213Z",
     "iopub.status.idle": "2025-03-25T06:57:46.316659Z",
     "shell.execute_reply": "2025-03-25T06:57:46.316298Z"
    }
   },
   "outputs": [
    {
     "name": "stdout",
     "output_type": "stream",
     "text": [
      "Background Information:\n",
      "!Series_title\t\"Association of Molecular Subtypes with Pathologic Response, PFS and OS in a Phase II Study of Coexpression Extrapolation (COXEN) with Neoadjuvant Chemotherapy (NAC) for Localized, Muscle-Invasive Bladder Cancer (SWOG S1314; NCT02177695)\"\n",
      "!Series_summary\t\"Investigation of RNA-based molecular subtypes as additional predictive biomarkers for neoadjuvant chemotherapy response, progression-free survival and survival in patients treated in S1314.\"\n",
      "!Series_overall_design\t\"randomized 2-arm phase II trial of neoadjuvant chemotherapy in muscle-invasive bladder cancer, translational analysis of tissue\"\n",
      "Sample Characteristics Dictionary:\n",
      "{0: ['treatment arm: DDMVAC+CYST', 'treatment arm: GC+CYST'], 1: ['disease: muscle-invasive bladder cancer'], 2: ['clinical_stage_strat_factor: Clinical Stage -T2', 'clinical_stage_strat_factor: Clinical Stage -T3 or T4a']}\n"
     ]
    }
   ],
   "source": [
    "from tools.preprocess import *\n",
    "# 1. Identify the paths to the SOFT file and the matrix file\n",
    "soft_file, matrix_file = geo_get_relevant_filepaths(in_cohort_dir)\n",
    "\n",
    "# 2. Read the matrix file to obtain background information and sample characteristics data\n",
    "background_prefixes = ['!Series_title', '!Series_summary', '!Series_overall_design']\n",
    "clinical_prefixes = ['!Sample_geo_accession', '!Sample_characteristics_ch1']\n",
    "background_info, clinical_data = get_background_and_clinical_data(matrix_file, background_prefixes, clinical_prefixes)\n",
    "\n",
    "# 3. Obtain the sample characteristics dictionary from the clinical dataframe\n",
    "sample_characteristics_dict = get_unique_values_by_row(clinical_data)\n",
    "\n",
    "# 4. Explicitly print out all the background information and the sample characteristics dictionary\n",
    "print(\"Background Information:\")\n",
    "print(background_info)\n",
    "print(\"Sample Characteristics Dictionary:\")\n",
    "print(sample_characteristics_dict)\n"
   ]
  },
  {
   "cell_type": "markdown",
   "id": "2140722f",
   "metadata": {},
   "source": [
    "### Step 2: Dataset Analysis and Clinical Feature Extraction"
   ]
  },
  {
   "cell_type": "code",
   "execution_count": 3,
   "id": "87a6b41b",
   "metadata": {
    "execution": {
     "iopub.execute_input": "2025-03-25T06:57:46.317980Z",
     "iopub.status.busy": "2025-03-25T06:57:46.317873Z",
     "iopub.status.idle": "2025-03-25T06:57:46.330416Z",
     "shell.execute_reply": "2025-03-25T06:57:46.330136Z"
    }
   },
   "outputs": [
    {
     "name": "stdout",
     "output_type": "stream",
     "text": [
      "Preview of selected clinical features:\n",
      "{'GSM7810144': [1.0], 'GSM7810145': [1.0], 'GSM7810146': [1.0], 'GSM7810147': [1.0], 'GSM7810148': [1.0], 'GSM7810149': [1.0], 'GSM7810150': [1.0], 'GSM7810151': [1.0], 'GSM7810152': [1.0], 'GSM7810153': [1.0], 'GSM7810154': [1.0], 'GSM7810155': [1.0], 'GSM7810156': [1.0], 'GSM7810157': [1.0], 'GSM7810158': [1.0], 'GSM7810159': [1.0], 'GSM7810160': [1.0], 'GSM7810161': [1.0], 'GSM7810162': [1.0], 'GSM7810163': [1.0], 'GSM7810164': [1.0], 'GSM7810165': [1.0], 'GSM7810166': [1.0], 'GSM7810167': [1.0], 'GSM7810168': [1.0], 'GSM7810169': [1.0], 'GSM7810170': [1.0], 'GSM7810171': [1.0], 'GSM7810172': [1.0], 'GSM7810173': [1.0], 'GSM7810174': [1.0], 'GSM7810175': [1.0], 'GSM7810176': [1.0], 'GSM7810177': [1.0], 'GSM7810178': [1.0], 'GSM7810179': [1.0], 'GSM7810180': [1.0], 'GSM7810181': [1.0], 'GSM7810182': [1.0], 'GSM7810183': [1.0], 'GSM7810184': [1.0], 'GSM7810185': [1.0], 'GSM7810186': [1.0], 'GSM7810187': [1.0], 'GSM7810188': [1.0], 'GSM7810189': [1.0], 'GSM7810190': [1.0], 'GSM7810191': [1.0], 'GSM7810192': [1.0], 'GSM7810193': [1.0], 'GSM7810194': [1.0], 'GSM7810195': [1.0], 'GSM7810196': [1.0], 'GSM7810197': [1.0], 'GSM7810198': [1.0], 'GSM7810199': [1.0], 'GSM7810200': [1.0], 'GSM7810201': [1.0], 'GSM7810202': [1.0], 'GSM7810203': [1.0], 'GSM7810204': [1.0], 'GSM7810205': [1.0], 'GSM7810206': [1.0], 'GSM7810207': [1.0], 'GSM7810208': [1.0], 'GSM7810209': [1.0], 'GSM7810210': [1.0], 'GSM7810211': [1.0], 'GSM7810212': [1.0], 'GSM7810213': [1.0], 'GSM7810214': [1.0], 'GSM7810215': [1.0], 'GSM7810216': [1.0], 'GSM7810217': [1.0], 'GSM7810218': [1.0], 'GSM7810219': [1.0], 'GSM7810220': [1.0], 'GSM7810221': [1.0], 'GSM7810222': [1.0], 'GSM7810223': [1.0], 'GSM7810224': [1.0], 'GSM7810225': [1.0], 'GSM7810226': [1.0], 'GSM7810227': [1.0], 'GSM7810228': [1.0], 'GSM7810229': [1.0], 'GSM7810230': [1.0], 'GSM7810231': [1.0], 'GSM7810232': [1.0], 'GSM7810233': [1.0], 'GSM7810234': [1.0], 'GSM7810235': [1.0], 'GSM7810236': [1.0], 'GSM7810237': [1.0], 'GSM7810238': [1.0], 'GSM7810239': [1.0], 'GSM7810240': [1.0], 'GSM7810241': [1.0], 'GSM7810242': [1.0], 'GSM7810243': [1.0], 'GSM7810244': [1.0], 'GSM7810245': [1.0], 'GSM7810246': [1.0], 'GSM7810247': [1.0], 'GSM7810248': [1.0], 'GSM7810249': [1.0], 'GSM7810250': [1.0], 'GSM7810251': [1.0], 'GSM7810252': [1.0], 'GSM7810253': [1.0], 'GSM7810254': [1.0], 'GSM7810255': [1.0], 'GSM7810256': [1.0], 'GSM7810257': [1.0], 'GSM7810258': [1.0], 'GSM7810259': [1.0], 'GSM7810260': [1.0], 'GSM7810261': [1.0], 'GSM7810262': [1.0], 'GSM7810263': [1.0], 'GSM7810264': [1.0], 'GSM7810265': [1.0], 'GSM7810266': [1.0], 'GSM7810267': [1.0], 'GSM7810268': [1.0], 'GSM7810269': [1.0], 'GSM7810270': [1.0], 'GSM7810271': [1.0], 'GSM7810272': [1.0], 'GSM7810273': [1.0], 'GSM7810274': [1.0], 'GSM7810275': [1.0], 'GSM7810276': [1.0], 'GSM7810277': [1.0], 'GSM7810278': [1.0], 'GSM7810279': [1.0], 'GSM7810280': [1.0], 'GSM7810281': [1.0], 'GSM7810282': [1.0], 'GSM7810283': [1.0], 'GSM7810284': [1.0], 'GSM7810285': [1.0], 'GSM7810286': [1.0], 'GSM7810287': [1.0], 'GSM7810288': [1.0], 'GSM7810289': [1.0], 'GSM7810290': [1.0], 'GSM7810291': [1.0], 'GSM7810292': [1.0], 'GSM7810293': [1.0], 'GSM7810294': [1.0], 'GSM7810295': [1.0], 'GSM7810296': [1.0], 'GSM7810297': [1.0], 'GSM7810298': [1.0], 'GSM7810299': [1.0], 'GSM7810300': [1.0], 'GSM7810301': [1.0], 'GSM7810302': [1.0], 'GSM7810303': [1.0], 'GSM7810304': [1.0], 'GSM7810305': [1.0], 'GSM7810306': [1.0], 'GSM7810307': [1.0], 'GSM7810308': [1.0], 'GSM7810309': [1.0], 'GSM7810310': [1.0], 'GSM7810311': [1.0], 'GSM7810312': [1.0], 'GSM7810313': [1.0], 'GSM7810314': [1.0], 'GSM7810315': [1.0], 'GSM7810316': [1.0], 'GSM7810317': [1.0], 'GSM7810318': [1.0], 'GSM7810319': [1.0], 'GSM7810320': [1.0], 'GSM7810321': [1.0], 'GSM7810322': [1.0], 'GSM7810323': [1.0], 'GSM7810324': [1.0], 'GSM7810325': [1.0], 'GSM7810326': [1.0], 'GSM7810327': [1.0], 'GSM7810328': [1.0], 'GSM7810329': [1.0], 'GSM7810330': [1.0], 'GSM7810331': [1.0], 'GSM7810332': [1.0]}\n",
      "Clinical data saved to: ../../output/preprocess/Bladder_Cancer/clinical_data/GSE244266.csv\n"
     ]
    }
   ],
   "source": [
    "# Step 1: Determine gene expression data availability\n",
    "# Based on the information provided, this dataset appears to be a clinical trial (S1314) for bladder cancer\n",
    "# with molecular subtypes (RNA-based) analysis, which suggests gene expression data.\n",
    "is_gene_available = True\n",
    "\n",
    "# Step 2: Identify keys and create conversion functions\n",
    "\n",
    "# 2.1: Trait (Bladder Cancer)\n",
    "# From sample characteristics, index 1 shows \"disease: muscle-invasive bladder cancer\"\n",
    "trait_row = 1\n",
    "\n",
    "def convert_trait(value):\n",
    "    if value is None:\n",
    "        return None\n",
    "    \n",
    "    # Extract value after colon\n",
    "    if ':' in value:\n",
    "        value = value.split(':', 1)[1].strip()\n",
    "    \n",
    "    # Since this is a bladder cancer study, convert to binary\n",
    "    if 'bladder cancer' in value.lower() or 'muscle-invasive bladder cancer' in value.lower():\n",
    "        return 1\n",
    "    return 0\n",
    "\n",
    "# 2.2: Age\n",
    "# There's no age information in the sample characteristics\n",
    "age_row = None\n",
    "\n",
    "def convert_age(value):\n",
    "    if value is None:\n",
    "        return None\n",
    "    \n",
    "    if ':' in value:\n",
    "        value = value.split(':', 1)[1].strip()\n",
    "    \n",
    "    try:\n",
    "        return float(value)\n",
    "    except:\n",
    "        return None\n",
    "\n",
    "# 2.3: Gender\n",
    "# There's no gender information in the sample characteristics\n",
    "gender_row = None\n",
    "\n",
    "def convert_gender(value):\n",
    "    if value is None:\n",
    "        return None\n",
    "    \n",
    "    if ':' in value:\n",
    "        value = value.split(':', 1)[1].strip()\n",
    "    \n",
    "    value = value.lower()\n",
    "    if 'female' in value or 'f' == value:\n",
    "        return 0\n",
    "    elif 'male' in value or 'm' == value:\n",
    "        return 1\n",
    "    return None\n",
    "\n",
    "# Step 3: Save metadata - perform initial filtering\n",
    "is_trait_available = trait_row is not None\n",
    "validate_and_save_cohort_info(\n",
    "    is_final=False,\n",
    "    cohort=cohort,\n",
    "    info_path=json_path,\n",
    "    is_gene_available=is_gene_available,\n",
    "    is_trait_available=is_trait_available\n",
    ")\n",
    "\n",
    "# Step 4: Extract clinical features if available\n",
    "if trait_row is not None:\n",
    "    # Create clinical dataframe using the geo_select_clinical_features function\n",
    "    clinical_selected = geo_select_clinical_features(\n",
    "        clinical_df=clinical_data,\n",
    "        trait=trait,\n",
    "        trait_row=trait_row,\n",
    "        convert_trait=convert_trait,\n",
    "        age_row=age_row,\n",
    "        convert_age=convert_age,\n",
    "        gender_row=gender_row,\n",
    "        convert_gender=convert_gender\n",
    "    )\n",
    "    \n",
    "    # Preview the dataframe\n",
    "    print(\"Preview of selected clinical features:\")\n",
    "    print(preview_df(clinical_selected))\n",
    "    \n",
    "    # Create the directory if it doesn't exist\n",
    "    os.makedirs(os.path.dirname(out_clinical_data_file), exist_ok=True)\n",
    "    \n",
    "    # Save to CSV\n",
    "    clinical_selected.to_csv(out_clinical_data_file)\n",
    "    print(f\"Clinical data saved to: {out_clinical_data_file}\")\n"
   ]
  },
  {
   "cell_type": "markdown",
   "id": "ecc11378",
   "metadata": {},
   "source": [
    "### Step 3: Gene Data Extraction"
   ]
  },
  {
   "cell_type": "code",
   "execution_count": 4,
   "id": "bf553e6e",
   "metadata": {
    "execution": {
     "iopub.execute_input": "2025-03-25T06:57:46.331540Z",
     "iopub.status.busy": "2025-03-25T06:57:46.331442Z",
     "iopub.status.idle": "2025-03-25T06:57:47.334789Z",
     "shell.execute_reply": "2025-03-25T06:57:47.334430Z"
    }
   },
   "outputs": [
    {
     "name": "stdout",
     "output_type": "stream",
     "text": [
      "Index(['1007_s_at', '1053_at', '117_at', '121_at', '1255_g_at', '1294_at',\n",
      "       '1316_at', '1320_at', '1405_i_at', '1431_at', '1438_at', '1487_at',\n",
      "       '1494_f_at', '1552256_a_at', '1552257_a_at', '1552258_at', '1552261_at',\n",
      "       '1552263_at', '1552264_a_at', '1552266_at'],\n",
      "      dtype='object', name='ID')\n"
     ]
    }
   ],
   "source": [
    "# 1. Use the get_genetic_data function from the library to get the gene_data from the matrix_file previously defined.\n",
    "gene_data = get_genetic_data(matrix_file)\n",
    "\n",
    "# 2. Print the first 20 row IDs (gene or probe identifiers) for future observation.\n",
    "print(gene_data.index[:20])\n"
   ]
  },
  {
   "cell_type": "markdown",
   "id": "02c47cbb",
   "metadata": {},
   "source": [
    "### Step 4: Gene Identifier Review"
   ]
  },
  {
   "cell_type": "code",
   "execution_count": 5,
   "id": "9b74ebb9",
   "metadata": {
    "execution": {
     "iopub.execute_input": "2025-03-25T06:57:47.336354Z",
     "iopub.status.busy": "2025-03-25T06:57:47.336237Z",
     "iopub.status.idle": "2025-03-25T06:57:47.338087Z",
     "shell.execute_reply": "2025-03-25T06:57:47.337809Z"
    }
   },
   "outputs": [],
   "source": [
    "# These gene identifiers appear to be Affymetrix probe IDs from a microarray platform,\n",
    "# not standard human gene symbols. For example, \"1007_s_at\" follows the Affymetrix naming pattern.\n",
    "# These will need to be mapped to official gene symbols for standardized analysis.\n",
    "\n",
    "requires_gene_mapping = True\n"
   ]
  },
  {
   "cell_type": "markdown",
   "id": "9ae46cda",
   "metadata": {},
   "source": [
    "### Step 5: Gene Annotation"
   ]
  },
  {
   "cell_type": "code",
   "execution_count": 6,
   "id": "9b867a65",
   "metadata": {
    "execution": {
     "iopub.execute_input": "2025-03-25T06:57:47.339243Z",
     "iopub.status.busy": "2025-03-25T06:57:47.339144Z",
     "iopub.status.idle": "2025-03-25T06:58:03.247185Z",
     "shell.execute_reply": "2025-03-25T06:58:03.246757Z"
    }
   },
   "outputs": [
    {
     "name": "stdout",
     "output_type": "stream",
     "text": [
      "Gene annotation preview:\n",
      "{'ID': ['1007_s_at', '1053_at', '117_at', '121_at', '1255_g_at'], 'GB_ACC': ['U48705', 'M87338', 'X51757', 'X69699', 'L36861'], 'SPOT_ID': [nan, nan, nan, nan, nan], 'Species Scientific Name': ['Homo sapiens', 'Homo sapiens', 'Homo sapiens', 'Homo sapiens', 'Homo sapiens'], 'Annotation Date': ['Oct 6, 2014', 'Oct 6, 2014', 'Oct 6, 2014', 'Oct 6, 2014', 'Oct 6, 2014'], 'Sequence Type': ['Exemplar sequence', 'Exemplar sequence', 'Exemplar sequence', 'Exemplar sequence', 'Exemplar sequence'], 'Sequence Source': ['Affymetrix Proprietary Database', 'GenBank', 'Affymetrix Proprietary Database', 'GenBank', 'Affymetrix Proprietary Database'], 'Target Description': ['U48705 /FEATURE=mRNA /DEFINITION=HSU48705 Human receptor tyrosine kinase DDR gene, complete cds', 'M87338 /FEATURE= /DEFINITION=HUMA1SBU Human replication factor C, 40-kDa subunit (A1) mRNA, complete cds', \"X51757 /FEATURE=cds /DEFINITION=HSP70B Human heat-shock protein HSP70B' gene\", 'X69699 /FEATURE= /DEFINITION=HSPAX8A H.sapiens Pax8 mRNA', 'L36861 /FEATURE=expanded_cds /DEFINITION=HUMGCAPB Homo sapiens guanylate cyclase activating protein (GCAP) gene exons 1-4, complete cds'], 'Representative Public ID': ['U48705', 'M87338', 'X51757', 'X69699', 'L36861'], 'Gene Title': ['discoidin domain receptor tyrosine kinase 1 /// microRNA 4640', 'replication factor C (activator 1) 2, 40kDa', \"heat shock 70kDa protein 6 (HSP70B')\", 'paired box 8', 'guanylate cyclase activator 1A (retina)'], 'Gene Symbol': ['DDR1 /// MIR4640', 'RFC2', 'HSPA6', 'PAX8', 'GUCA1A'], 'ENTREZ_GENE_ID': ['780 /// 100616237', '5982', '3310', '7849', '2978'], 'RefSeq Transcript ID': ['NM_001202521 /// NM_001202522 /// NM_001202523 /// NM_001954 /// NM_013993 /// NM_013994 /// NR_039783 /// XM_005249385 /// XM_005249386 /// XM_005249387 /// XM_005249389 /// XM_005272873 /// XM_005272874 /// XM_005272875 /// XM_005272877 /// XM_005275027 /// XM_005275028 /// XM_005275030 /// XM_005275031 /// XM_005275162 /// XM_005275163 /// XM_005275164 /// XM_005275166 /// XM_005275457 /// XM_005275458 /// XM_005275459 /// XM_005275461 /// XM_006715185 /// XM_006715186 /// XM_006715187 /// XM_006715188 /// XM_006715189 /// XM_006715190 /// XM_006725501 /// XM_006725502 /// XM_006725503 /// XM_006725504 /// XM_006725505 /// XM_006725506 /// XM_006725714 /// XM_006725715 /// XM_006725716 /// XM_006725717 /// XM_006725718 /// XM_006725719 /// XM_006725720 /// XM_006725721 /// XM_006725722 /// XM_006725827 /// XM_006725828 /// XM_006725829 /// XM_006725830 /// XM_006725831 /// XM_006725832 /// XM_006726017 /// XM_006726018 /// XM_006726019 /// XM_006726020 /// XM_006726021 /// XM_006726022 /// XR_427836 /// XR_430858 /// XR_430938 /// XR_430974 /// XR_431015', 'NM_001278791 /// NM_001278792 /// NM_001278793 /// NM_002914 /// NM_181471 /// XM_006716080', 'NM_002155', 'NM_003466 /// NM_013951 /// NM_013952 /// NM_013953 /// NM_013992', 'NM_000409 /// XM_006715073'], 'Gene Ontology Biological Process': ['0001558 // regulation of cell growth // inferred from electronic annotation /// 0001952 // regulation of cell-matrix adhesion // inferred from electronic annotation /// 0006468 // protein phosphorylation // inferred from electronic annotation /// 0007155 // cell adhesion // traceable author statement /// 0007169 // transmembrane receptor protein tyrosine kinase signaling pathway // inferred from electronic annotation /// 0007565 // female pregnancy // inferred from electronic annotation /// 0007566 // embryo implantation // inferred from electronic annotation /// 0007595 // lactation // inferred from electronic annotation /// 0008285 // negative regulation of cell proliferation // inferred from electronic annotation /// 0010715 // regulation of extracellular matrix disassembly // inferred from mutant phenotype /// 0014909 // smooth muscle cell migration // inferred from mutant phenotype /// 0016310 // phosphorylation // inferred from electronic annotation /// 0018108 // peptidyl-tyrosine phosphorylation // inferred from electronic annotation /// 0030198 // extracellular matrix organization // traceable author statement /// 0038063 // collagen-activated tyrosine kinase receptor signaling pathway // inferred from direct assay /// 0038063 // collagen-activated tyrosine kinase receptor signaling pathway // inferred from mutant phenotype /// 0038083 // peptidyl-tyrosine autophosphorylation // inferred from direct assay /// 0043583 // ear development // inferred from electronic annotation /// 0044319 // wound healing, spreading of cells // inferred from mutant phenotype /// 0046777 // protein autophosphorylation // inferred from direct assay /// 0060444 // branching involved in mammary gland duct morphogenesis // inferred from electronic annotation /// 0060749 // mammary gland alveolus development // inferred from electronic annotation /// 0061302 // smooth muscle cell-matrix adhesion // inferred from mutant phenotype', '0000278 // mitotic cell cycle // traceable author statement /// 0000722 // telomere maintenance via recombination // traceable author statement /// 0000723 // telomere maintenance // traceable author statement /// 0006260 // DNA replication // traceable author statement /// 0006271 // DNA strand elongation involved in DNA replication // traceable author statement /// 0006281 // DNA repair // traceable author statement /// 0006283 // transcription-coupled nucleotide-excision repair // traceable author statement /// 0006289 // nucleotide-excision repair // traceable author statement /// 0006297 // nucleotide-excision repair, DNA gap filling // traceable author statement /// 0015979 // photosynthesis // inferred from electronic annotation /// 0015995 // chlorophyll biosynthetic process // inferred from electronic annotation /// 0032201 // telomere maintenance via semi-conservative replication // traceable author statement', '0000902 // cell morphogenesis // inferred from electronic annotation /// 0006200 // ATP catabolic process // inferred from direct assay /// 0006950 // response to stress // inferred from electronic annotation /// 0006986 // response to unfolded protein // traceable author statement /// 0034605 // cellular response to heat // inferred from direct assay /// 0042026 // protein refolding // inferred from direct assay /// 0070370 // cellular heat acclimation // inferred from mutant phenotype', '0001655 // urogenital system development // inferred from sequence or structural similarity /// 0001656 // metanephros development // inferred from electronic annotation /// 0001658 // branching involved in ureteric bud morphogenesis // inferred from expression pattern /// 0001822 // kidney development // inferred from expression pattern /// 0001823 // mesonephros development // inferred from sequence or structural similarity /// 0003337 // mesenchymal to epithelial transition involved in metanephros morphogenesis // inferred from expression pattern /// 0006351 // transcription, DNA-templated // inferred from direct assay /// 0006355 // regulation of transcription, DNA-templated // inferred from electronic annotation /// 0007275 // multicellular organismal development // inferred from electronic annotation /// 0007417 // central nervous system development // inferred from expression pattern /// 0009653 // anatomical structure morphogenesis // traceable author statement /// 0030154 // cell differentiation // inferred from electronic annotation /// 0030878 // thyroid gland development // inferred from expression pattern /// 0030878 // thyroid gland development // inferred from mutant phenotype /// 0038194 // thyroid-stimulating hormone signaling pathway // traceable author statement /// 0039003 // pronephric field specification // inferred from sequence or structural similarity /// 0042472 // inner ear morphogenesis // inferred from sequence or structural similarity /// 0042981 // regulation of apoptotic process // inferred from sequence or structural similarity /// 0045893 // positive regulation of transcription, DNA-templated // inferred from direct assay /// 0045893 // positive regulation of transcription, DNA-templated // inferred from sequence or structural similarity /// 0045944 // positive regulation of transcription from RNA polymerase II promoter // inferred from direct assay /// 0048793 // pronephros development // inferred from sequence or structural similarity /// 0071371 // cellular response to gonadotropin stimulus // inferred from direct assay /// 0071599 // otic vesicle development // inferred from expression pattern /// 0072050 // S-shaped body morphogenesis // inferred from electronic annotation /// 0072073 // kidney epithelium development // inferred from electronic annotation /// 0072108 // positive regulation of mesenchymal to epithelial transition involved in metanephros morphogenesis // inferred from sequence or structural similarity /// 0072164 // mesonephric tubule development // inferred from electronic annotation /// 0072207 // metanephric epithelium development // inferred from expression pattern /// 0072221 // metanephric distal convoluted tubule development // inferred from sequence or structural similarity /// 0072278 // metanephric comma-shaped body morphogenesis // inferred from expression pattern /// 0072284 // metanephric S-shaped body morphogenesis // inferred from expression pattern /// 0072289 // metanephric nephron tubule formation // inferred from sequence or structural similarity /// 0072305 // negative regulation of mesenchymal cell apoptotic process involved in metanephric nephron morphogenesis // inferred from sequence or structural similarity /// 0072307 // regulation of metanephric nephron tubule epithelial cell differentiation // inferred from sequence or structural similarity /// 0090190 // positive regulation of branching involved in ureteric bud morphogenesis // inferred from sequence or structural similarity /// 1900212 // negative regulation of mesenchymal cell apoptotic process involved in metanephros development // inferred from sequence or structural similarity /// 1900215 // negative regulation of apoptotic process involved in metanephric collecting duct development // inferred from sequence or structural similarity /// 1900218 // negative regulation of apoptotic process involved in metanephric nephron tubule development // inferred from sequence or structural similarity /// 2000594 // positive regulation of metanephric DCT cell differentiation // inferred from sequence or structural similarity /// 2000611 // positive regulation of thyroid hormone generation // inferred from mutant phenotype /// 2000612 // regulation of thyroid-stimulating hormone secretion // inferred from mutant phenotype', '0007165 // signal transduction // non-traceable author statement /// 0007601 // visual perception // inferred from electronic annotation /// 0007602 // phototransduction // inferred from electronic annotation /// 0007603 // phototransduction, visible light // traceable author statement /// 0016056 // rhodopsin mediated signaling pathway // traceable author statement /// 0022400 // regulation of rhodopsin mediated signaling pathway // traceable author statement /// 0030828 // positive regulation of cGMP biosynthetic process // inferred from electronic annotation /// 0031282 // regulation of guanylate cyclase activity // inferred from electronic annotation /// 0031284 // positive regulation of guanylate cyclase activity // inferred from electronic annotation /// 0050896 // response to stimulus // inferred from electronic annotation'], 'Gene Ontology Cellular Component': ['0005576 // extracellular region // inferred from electronic annotation /// 0005615 // extracellular space // inferred from direct assay /// 0005886 // plasma membrane // traceable author statement /// 0005887 // integral component of plasma membrane // traceable author statement /// 0016020 // membrane // inferred from electronic annotation /// 0016021 // integral component of membrane // inferred from electronic annotation /// 0043235 // receptor complex // inferred from direct assay /// 0070062 // extracellular vesicular exosome // inferred from direct assay', '0005634 // nucleus // inferred from electronic annotation /// 0005654 // nucleoplasm // traceable author statement /// 0005663 // DNA replication factor C complex // inferred from direct assay', '0005737 // cytoplasm // inferred from direct assay /// 0005814 // centriole // inferred from direct assay /// 0005829 // cytosol // inferred from direct assay /// 0008180 // COP9 signalosome // inferred from direct assay /// 0070062 // extracellular vesicular exosome // inferred from direct assay /// 0072562 // blood microparticle // inferred from direct assay', '0005634 // nucleus // inferred from direct assay /// 0005654 // nucleoplasm // inferred from sequence or structural similarity /// 0005730 // nucleolus // inferred from direct assay', '0001750 // photoreceptor outer segment // inferred from electronic annotation /// 0001917 // photoreceptor inner segment // inferred from electronic annotation /// 0005578 // proteinaceous extracellular matrix // inferred from electronic annotation /// 0005886 // plasma membrane // inferred from direct assay /// 0016020 // membrane // inferred from electronic annotation /// 0097381 // photoreceptor disc membrane // traceable author statement'], 'Gene Ontology Molecular Function': ['0000166 // nucleotide binding // inferred from electronic annotation /// 0004672 // protein kinase activity // inferred from electronic annotation /// 0004713 // protein tyrosine kinase activity // inferred from electronic annotation /// 0004714 // transmembrane receptor protein tyrosine kinase activity // traceable author statement /// 0005515 // protein binding // inferred from physical interaction /// 0005518 // collagen binding // inferred from direct assay /// 0005518 // collagen binding // inferred from mutant phenotype /// 0005524 // ATP binding // inferred from electronic annotation /// 0016301 // kinase activity // inferred from electronic annotation /// 0016740 // transferase activity // inferred from electronic annotation /// 0016772 // transferase activity, transferring phosphorus-containing groups // inferred from electronic annotation /// 0038062 // protein tyrosine kinase collagen receptor activity // inferred from direct assay /// 0046872 // metal ion binding // inferred from electronic annotation', '0000166 // nucleotide binding // inferred from electronic annotation /// 0003677 // DNA binding // inferred from electronic annotation /// 0005515 // protein binding // inferred from physical interaction /// 0005524 // ATP binding // inferred from electronic annotation /// 0016851 // magnesium chelatase activity // inferred from electronic annotation /// 0017111 // nucleoside-triphosphatase activity // inferred from electronic annotation', '0000166 // nucleotide binding // inferred from electronic annotation /// 0005524 // ATP binding // inferred from electronic annotation /// 0019899 // enzyme binding // inferred from physical interaction /// 0031072 // heat shock protein binding // inferred from physical interaction /// 0042623 // ATPase activity, coupled // inferred from direct assay /// 0051082 // unfolded protein binding // inferred from direct assay', '0000979 // RNA polymerase II core promoter sequence-specific DNA binding // inferred from direct assay /// 0003677 // DNA binding // inferred from direct assay /// 0003677 // DNA binding // inferred from mutant phenotype /// 0003700 // sequence-specific DNA binding transcription factor activity // inferred from direct assay /// 0004996 // thyroid-stimulating hormone receptor activity // traceable author statement /// 0005515 // protein binding // inferred from physical interaction /// 0044212 // transcription regulatory region DNA binding // inferred from direct assay', '0005509 // calcium ion binding // inferred from electronic annotation /// 0008048 // calcium sensitive guanylate cyclase activator activity // inferred from electronic annotation /// 0030249 // guanylate cyclase regulator activity // inferred from electronic annotation /// 0046872 // metal ion binding // inferred from electronic annotation']}\n"
     ]
    }
   ],
   "source": [
    "# 1. Use the 'get_gene_annotation' function from the library to get gene annotation data from the SOFT file.\n",
    "gene_annotation = get_gene_annotation(soft_file)\n",
    "\n",
    "# 2. Use the 'preview_df' function from the library to preview the data and print out the results.\n",
    "print(\"Gene annotation preview:\")\n",
    "print(preview_df(gene_annotation))\n"
   ]
  },
  {
   "cell_type": "markdown",
   "id": "e29745f5",
   "metadata": {},
   "source": [
    "### Step 6: Gene Identifier Mapping"
   ]
  },
  {
   "cell_type": "code",
   "execution_count": 7,
   "id": "c78e3d92",
   "metadata": {
    "execution": {
     "iopub.execute_input": "2025-03-25T06:58:03.248534Z",
     "iopub.status.busy": "2025-03-25T06:58:03.248405Z",
     "iopub.status.idle": "2025-03-25T06:58:03.985912Z",
     "shell.execute_reply": "2025-03-25T06:58:03.985255Z"
    }
   },
   "outputs": [
    {
     "name": "stdout",
     "output_type": "stream",
     "text": [
      "Columns available in gene_annotation:\n",
      "Index(['ID', 'GB_ACC', 'SPOT_ID', 'Species Scientific Name', 'Annotation Date',\n",
      "       'Sequence Type', 'Sequence Source', 'Target Description',\n",
      "       'Representative Public ID', 'Gene Title', 'Gene Symbol',\n",
      "       'ENTREZ_GENE_ID', 'RefSeq Transcript ID',\n",
      "       'Gene Ontology Biological Process', 'Gene Ontology Cellular Component',\n",
      "       'Gene Ontology Molecular Function'],\n",
      "      dtype='object')\n"
     ]
    },
    {
     "name": "stdout",
     "output_type": "stream",
     "text": [
      "Gene mapping dataframe shape: (45782, 2)\n",
      "First few rows of gene mapping:\n",
      "          ID              Gene\n",
      "0  1007_s_at  DDR1 /// MIR4640\n",
      "1    1053_at              RFC2\n",
      "2     117_at             HSPA6\n",
      "3     121_at              PAX8\n",
      "4  1255_g_at            GUCA1A\n"
     ]
    },
    {
     "name": "stdout",
     "output_type": "stream",
     "text": [
      "Gene expression dataframe shape after mapping: (21278, 189)\n",
      "First few gene symbols after mapping:\n",
      "Index(['A1BG', 'A1BG-AS1', 'A1CF', 'A2M', 'A2M-AS1', 'A2ML1', 'A2MP1',\n",
      "       'A4GALT', 'A4GNT', 'AA06'],\n",
      "      dtype='object', name='Gene')\n"
     ]
    }
   ],
   "source": [
    "# 1. Identifying columns for gene mapping\n",
    "# Looking at gene annotation, we need to map from the 'ID' column (Affymetrix probe IDs) to 'Gene Symbol' column\n",
    "print(\"Columns available in gene_annotation:\")\n",
    "print(gene_annotation.columns)\n",
    "\n",
    "# 2. Get a gene mapping dataframe\n",
    "# Using get_gene_mapping function from the library to extract these columns\n",
    "gene_mapping = get_gene_mapping(gene_annotation, prob_col='ID', gene_col='Gene Symbol')\n",
    "print(f\"Gene mapping dataframe shape: {gene_mapping.shape}\")\n",
    "print(\"First few rows of gene mapping:\")\n",
    "print(gene_mapping.head())\n",
    "\n",
    "# 3. Apply gene mapping to convert probe-level measurements to gene expression\n",
    "# Using apply_gene_mapping function from the library\n",
    "gene_data = apply_gene_mapping(expression_df=gene_data, mapping_df=gene_mapping)\n",
    "print(f\"Gene expression dataframe shape after mapping: {gene_data.shape}\")\n",
    "print(\"First few gene symbols after mapping:\")\n",
    "print(gene_data.index[:10])\n"
   ]
  },
  {
   "cell_type": "markdown",
   "id": "975b32c2",
   "metadata": {},
   "source": [
    "### Step 7: Data Normalization and Linking"
   ]
  },
  {
   "cell_type": "code",
   "execution_count": 8,
   "id": "7ba5aca4",
   "metadata": {
    "execution": {
     "iopub.execute_input": "2025-03-25T06:58:03.987816Z",
     "iopub.status.busy": "2025-03-25T06:58:03.987685Z",
     "iopub.status.idle": "2025-03-25T06:58:13.253785Z",
     "shell.execute_reply": "2025-03-25T06:58:13.253245Z"
    }
   },
   "outputs": [
    {
     "name": "stdout",
     "output_type": "stream",
     "text": [
      "Original gene count: 21278\n",
      "Normalized gene count: 19845\n"
     ]
    },
    {
     "name": "stdout",
     "output_type": "stream",
     "text": [
      "Normalized gene data saved to ../../output/preprocess/Bladder_Cancer/gene_data/GSE244266.csv\n"
     ]
    },
    {
     "name": "stdout",
     "output_type": "stream",
     "text": [
      "Clinical data structure:\n",
      "(3, 190)\n",
      "First few rows of clinical data:\n",
      "         !Sample_geo_accession  \\\n",
      "0  !Sample_characteristics_ch1   \n",
      "1  !Sample_characteristics_ch1   \n",
      "2  !Sample_characteristics_ch1   \n",
      "\n",
      "                                        GSM7810144  \\\n",
      "0                       treatment arm: DDMVAC+CYST   \n",
      "1          disease: muscle-invasive bladder cancer   \n",
      "2  clinical_stage_strat_factor: Clinical Stage -T2   \n",
      "\n",
      "                                          GSM7810145  \\\n",
      "0                         treatment arm: DDMVAC+CYST   \n",
      "1            disease: muscle-invasive bladder cancer   \n",
      "2  clinical_stage_strat_factor: Clinical Stage -T...   \n",
      "\n",
      "                                        GSM7810146  \\\n",
      "0                       treatment arm: DDMVAC+CYST   \n",
      "1          disease: muscle-invasive bladder cancer   \n",
      "2  clinical_stage_strat_factor: Clinical Stage -T2   \n",
      "\n",
      "                                        GSM7810147  \\\n",
      "0                           treatment arm: GC+CYST   \n",
      "1          disease: muscle-invasive bladder cancer   \n",
      "2  clinical_stage_strat_factor: Clinical Stage -T2   \n",
      "\n",
      "                                        GSM7810148  \\\n",
      "0                           treatment arm: GC+CYST   \n",
      "1          disease: muscle-invasive bladder cancer   \n",
      "2  clinical_stage_strat_factor: Clinical Stage -T2   \n",
      "\n",
      "                                        GSM7810149  \\\n",
      "0                       treatment arm: DDMVAC+CYST   \n",
      "1          disease: muscle-invasive bladder cancer   \n",
      "2  clinical_stage_strat_factor: Clinical Stage -T2   \n",
      "\n",
      "                                        GSM7810150  \\\n",
      "0                       treatment arm: DDMVAC+CYST   \n",
      "1          disease: muscle-invasive bladder cancer   \n",
      "2  clinical_stage_strat_factor: Clinical Stage -T2   \n",
      "\n",
      "                                        GSM7810151  \\\n",
      "0                           treatment arm: GC+CYST   \n",
      "1          disease: muscle-invasive bladder cancer   \n",
      "2  clinical_stage_strat_factor: Clinical Stage -T2   \n",
      "\n",
      "                                        GSM7810152  ...  \\\n",
      "0                       treatment arm: DDMVAC+CYST  ...   \n",
      "1          disease: muscle-invasive bladder cancer  ...   \n",
      "2  clinical_stage_strat_factor: Clinical Stage -T2  ...   \n",
      "\n",
      "                                        GSM7810323  \\\n",
      "0                       treatment arm: DDMVAC+CYST   \n",
      "1          disease: muscle-invasive bladder cancer   \n",
      "2  clinical_stage_strat_factor: Clinical Stage -T2   \n",
      "\n",
      "                                        GSM7810324  \\\n",
      "0                           treatment arm: GC+CYST   \n",
      "1          disease: muscle-invasive bladder cancer   \n",
      "2  clinical_stage_strat_factor: Clinical Stage -T2   \n",
      "\n",
      "                                        GSM7810325  \\\n",
      "0                       treatment arm: DDMVAC+CYST   \n",
      "1          disease: muscle-invasive bladder cancer   \n",
      "2  clinical_stage_strat_factor: Clinical Stage -T2   \n",
      "\n",
      "                                        GSM7810326  \\\n",
      "0                       treatment arm: DDMVAC+CYST   \n",
      "1          disease: muscle-invasive bladder cancer   \n",
      "2  clinical_stage_strat_factor: Clinical Stage -T2   \n",
      "\n",
      "                                        GSM7810327  \\\n",
      "0                           treatment arm: GC+CYST   \n",
      "1          disease: muscle-invasive bladder cancer   \n",
      "2  clinical_stage_strat_factor: Clinical Stage -T2   \n",
      "\n",
      "                                        GSM7810328  \\\n",
      "0                       treatment arm: DDMVAC+CYST   \n",
      "1          disease: muscle-invasive bladder cancer   \n",
      "2  clinical_stage_strat_factor: Clinical Stage -T2   \n",
      "\n",
      "                                          GSM7810329  \\\n",
      "0                         treatment arm: DDMVAC+CYST   \n",
      "1            disease: muscle-invasive bladder cancer   \n",
      "2  clinical_stage_strat_factor: Clinical Stage -T...   \n",
      "\n",
      "                                        GSM7810330  \\\n",
      "0                           treatment arm: GC+CYST   \n",
      "1          disease: muscle-invasive bladder cancer   \n",
      "2  clinical_stage_strat_factor: Clinical Stage -T2   \n",
      "\n",
      "                                        GSM7810331  \\\n",
      "0                           treatment arm: GC+CYST   \n",
      "1          disease: muscle-invasive bladder cancer   \n",
      "2  clinical_stage_strat_factor: Clinical Stage -T2   \n",
      "\n",
      "                                        GSM7810332  \n",
      "0                       treatment arm: DDMVAC+CYST  \n",
      "1          disease: muscle-invasive bladder cancer  \n",
      "2  clinical_stage_strat_factor: Clinical Stage -T2  \n",
      "\n",
      "[3 rows x 190 columns]\n",
      "Clinical data shape after extraction: (1, 189)\n",
      "First few sample IDs in clinical data:\n",
      "['GSM7810144', 'GSM7810145', 'GSM7810146', 'GSM7810147', 'GSM7810148']\n",
      "First few sample IDs in gene data:\n",
      "['GSM7810144', 'GSM7810145', 'GSM7810146', 'GSM7810147', 'GSM7810148']\n",
      "Number of common samples between clinical and gene data: 189\n",
      "Clinical data saved to ../../output/preprocess/Bladder_Cancer/clinical_data/GSE244266.csv\n",
      "Linked data shape: (189, 19846)\n"
     ]
    },
    {
     "name": "stdout",
     "output_type": "stream",
     "text": [
      "Linked data shape after handling missing values: (189, 19846)\n",
      "Quartiles for 'Bladder_Cancer':\n",
      "  25%: 1.0\n",
      "  50% (Median): 1.0\n",
      "  75%: 1.0\n",
      "Min: 1.0\n",
      "Max: 1.0\n",
      "The distribution of the feature 'Bladder_Cancer' in this dataset is severely biased.\n",
      "\n",
      "The dataset was determined to be not usable for analysis due to bias in the trait distribution.\n"
     ]
    }
   ],
   "source": [
    "# 1. Normalize gene symbols in the gene expression data\n",
    "# First, normalize gene symbols using the function from the library\n",
    "normalized_gene_data = normalize_gene_symbols_in_index(gene_data)\n",
    "print(f\"Original gene count: {len(gene_data)}\")\n",
    "print(f\"Normalized gene count: {len(normalized_gene_data)}\")\n",
    "\n",
    "# Create directory for the gene data file if it doesn't exist\n",
    "os.makedirs(os.path.dirname(out_gene_data_file), exist_ok=True)\n",
    "\n",
    "# Save the normalized gene data to a CSV file\n",
    "normalized_gene_data.to_csv(out_gene_data_file)\n",
    "print(f\"Normalized gene data saved to {out_gene_data_file}\")\n",
    "\n",
    "# 2. Load clinical data from the matrix file again to ensure we have the correct sample IDs\n",
    "background_prefixes = ['!Series_title', '!Series_summary', '!Series_overall_design']\n",
    "clinical_prefixes = ['!Sample_geo_accession', '!Sample_characteristics_ch1']\n",
    "_, clinical_data = get_background_and_clinical_data(matrix_file, background_prefixes, clinical_prefixes)\n",
    "\n",
    "print(\"Clinical data structure:\")\n",
    "print(clinical_data.shape)\n",
    "print(\"First few rows of clinical data:\")\n",
    "print(clinical_data.head())\n",
    "\n",
    "# Extract clinical features with the correct sample IDs\n",
    "selected_clinical_df = geo_select_clinical_features(\n",
    "    clinical_df=clinical_data,\n",
    "    trait=trait,\n",
    "    trait_row=trait_row,\n",
    "    convert_trait=convert_trait,\n",
    "    age_row=age_row,\n",
    "    convert_age=convert_age,\n",
    "    gender_row=gender_row,\n",
    "    convert_gender=convert_gender\n",
    ")\n",
    "\n",
    "print(f\"Clinical data shape after extraction: {selected_clinical_df.shape}\")\n",
    "print(\"First few sample IDs in clinical data:\")\n",
    "print(list(selected_clinical_df.columns)[:5])\n",
    "print(\"First few sample IDs in gene data:\")\n",
    "print(list(normalized_gene_data.columns)[:5])\n",
    "\n",
    "# Check for column overlap\n",
    "common_samples = set(selected_clinical_df.columns).intersection(set(normalized_gene_data.columns))\n",
    "print(f\"Number of common samples between clinical and gene data: {len(common_samples)}\")\n",
    "\n",
    "# Save the clinical data for inspection\n",
    "os.makedirs(os.path.dirname(out_clinical_data_file), exist_ok=True)\n",
    "selected_clinical_df.to_csv(out_clinical_data_file)\n",
    "print(f\"Clinical data saved to {out_clinical_data_file}\")\n",
    "\n",
    "# Link the clinical and genetic data\n",
    "linked_data = geo_link_clinical_genetic_data(selected_clinical_df, normalized_gene_data)\n",
    "print(f\"Linked data shape: {linked_data.shape}\")\n",
    "\n",
    "# Check if linking was successful\n",
    "if len(linked_data) == 0 or trait not in linked_data.columns:\n",
    "    print(\"Linking clinical and genetic data failed - no valid rows or trait column missing\")\n",
    "    \n",
    "    # Check what columns are in the linked data\n",
    "    if len(linked_data.columns) > 0:\n",
    "        print(\"Columns in linked data:\")\n",
    "        print(list(linked_data.columns)[:10])  # Print first 10 columns\n",
    "    \n",
    "    # Set is_usable to False and save cohort info\n",
    "    is_usable = validate_and_save_cohort_info(\n",
    "        is_final=True, \n",
    "        cohort=cohort, \n",
    "        info_path=json_path, \n",
    "        is_gene_available=True, \n",
    "        is_trait_available=True, \n",
    "        is_biased=True,  # Consider it biased if linking fails\n",
    "        df=pd.DataFrame({trait: [], 'Gender': []}), \n",
    "        note=\"Data linking failed - unable to match sample IDs between clinical and gene expression data.\"\n",
    "    )\n",
    "    print(\"The dataset was determined to be not usable for analysis.\")\n",
    "else:\n",
    "    # 3. Handle missing values in the linked data\n",
    "    linked_data = handle_missing_values(linked_data, trait)\n",
    "    \n",
    "    print(f\"Linked data shape after handling missing values: {linked_data.shape}\")\n",
    "    \n",
    "    # 4. Determine whether the trait and demographic features are severely biased\n",
    "    is_trait_biased, linked_data = judge_and_remove_biased_features(linked_data, trait)\n",
    "    \n",
    "    # 5. Conduct quality check and save the cohort information.\n",
    "    note = \"Dataset contains gene expression data from bladder cancer samples with molecular subtyping information.\"\n",
    "    is_usable = validate_and_save_cohort_info(\n",
    "        is_final=True, \n",
    "        cohort=cohort, \n",
    "        info_path=json_path, \n",
    "        is_gene_available=True, \n",
    "        is_trait_available=True, \n",
    "        is_biased=is_trait_biased, \n",
    "        df=linked_data, \n",
    "        note=note\n",
    "    )\n",
    "    \n",
    "    # 6. If the linked data is usable, save it as a CSV file.\n",
    "    if is_usable:\n",
    "        os.makedirs(os.path.dirname(out_data_file), exist_ok=True)\n",
    "        linked_data.to_csv(out_data_file)\n",
    "        print(f\"Linked data saved to {out_data_file}\")\n",
    "    else:\n",
    "        print(\"The dataset was determined to be not usable for analysis due to bias in the trait distribution.\")"
   ]
  }
 ],
 "metadata": {
  "language_info": {
   "codemirror_mode": {
    "name": "ipython",
    "version": 3
   },
   "file_extension": ".py",
   "mimetype": "text/x-python",
   "name": "python",
   "nbconvert_exporter": "python",
   "pygments_lexer": "ipython3",
   "version": "3.10.16"
  }
 },
 "nbformat": 4,
 "nbformat_minor": 5
}
