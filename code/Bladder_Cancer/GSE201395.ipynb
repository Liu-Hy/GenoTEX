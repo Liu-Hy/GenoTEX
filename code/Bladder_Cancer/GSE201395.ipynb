{
 "cells": [
  {
   "cell_type": "code",
   "execution_count": 1,
   "id": "5979610d",
   "metadata": {
    "execution": {
     "iopub.execute_input": "2024-06-12T07:11:42.494867Z",
     "iopub.status.busy": "2024-06-12T07:11:42.494708Z",
     "iopub.status.idle": "2024-06-12T07:11:42.500115Z",
     "shell.execute_reply": "2024-06-12T07:11:42.499722Z"
    }
   },
   "outputs": [],
   "source": [
    "\n",
    "import sys\n",
    "sys.path.append('/home/techt/Desktop/a4s')\n"
   ]
  },
  {
   "cell_type": "markdown",
   "id": "3e8b7f8c",
   "metadata": {},
   "source": [
    "### Step 1: Initial Data Loading"
   ]
  },
  {
   "cell_type": "code",
   "execution_count": 2,
   "id": "32b87a9e",
   "metadata": {
    "execution": {
     "iopub.execute_input": "2024-06-12T07:11:42.502209Z",
     "iopub.status.busy": "2024-06-12T07:11:42.501859Z",
     "iopub.status.idle": "2024-06-12T07:11:42.881219Z",
     "shell.execute_reply": "2024-06-12T07:11:42.880840Z"
    }
   },
   "outputs": [
    {
     "name": "stdout",
     "output_type": "stream",
     "text": [
      "Background Information:\n",
      "!Series_title\t\"An in vitro study of the development of resistance to FGFR inhibition in two urothelial carcinoma cell lines\"\n",
      "!Series_summary\t\"Expression array data was used to compare parental FGFR3-TACC3 fusion-driven urothelial cell lines with their FGFR inhibitor-resistant derivatives.\"\n",
      "!Series_summary\t\"In this dataset, we include RT112 and RT4 parental cells, RT112 cells acutely treated with PD173074 (24 h), RT112 and RT4 resistant derivatives cultured with drug and their resistant derivatives cultured for four to six passages out of drug.\"\n",
      "!Series_overall_design\t\"11 cell lines were analysed on the Affymetrix HTA 2.0 platform: RT112 and RT4 parental cells (RT112 parental no PD; RT4 parental no PD), RT112 cells acutely treated with PD173074 (24 h) (RT112 parental PD), RT112 and RT4 resistant derivatives cultured with drug (RT112 R1 PD; RT112 R2 PD; RT112 R3 PD; RT4 R1 PD) and their resistant derivatives cultured for four to six passages out of drug (RT112 R1 no PD; RT112 R2 no PD; RT112 R3 no PD; RT4 R1 no PD). Each cell line was analysed in triplicate (33 samples in total).\"\n",
      "Sample Characteristics Dictionary:\n",
      "{0: ['cell line: urothelial carcinoma cell line, RT112', 'cell line: urothelial carcinoma cell line, RT4']}\n"
     ]
    }
   ],
   "source": [
    "from utils.preprocess import *\n",
    "# 1. Identify the paths to the soft file and the matrix file\n",
    "cohort_dir = '/media/techt/DATA/GEO/Bladder_Cancer/GSE201395'\n",
    "soft_file, matrix_file = geo_get_relevant_filepaths(cohort_dir)\n",
    "\n",
    "# 2. Read the matrix file to obtain background information and sample characteristics data\n",
    "background_prefixes = ['!Series_title', '!Series_summary', '!Series_overall_design']\n",
    "clinical_prefixes = ['!Sample_geo_accession', '!Sample_characteristics_ch1']\n",
    "background_info, clinical_data = get_background_and_clinical_data(matrix_file, background_prefixes, clinical_prefixes)\n",
    "\n",
    "# 3. Obtain the sample characteristics dictionary from the clinical dataframe\n",
    "sample_characteristics_dict = get_unique_values_by_row(clinical_data)\n",
    "\n",
    "# 4. Explicitly print out all the background information and the sample characteristics dictionary\n",
    "print(\"Background Information:\")\n",
    "print(background_info)\n",
    "print(\"Sample Characteristics Dictionary:\")\n",
    "print(sample_characteristics_dict)\n"
   ]
  },
  {
   "cell_type": "markdown",
   "id": "79db31b5",
   "metadata": {},
   "source": [
    "### Step 2: Dataset Analysis and Clinical Feature Extraction"
   ]
  },
  {
   "cell_type": "code",
   "execution_count": 3,
   "id": "207fe498",
   "metadata": {
    "execution": {
     "iopub.execute_input": "2024-06-12T07:11:42.883016Z",
     "iopub.status.busy": "2024-06-12T07:11:42.882878Z",
     "iopub.status.idle": "2024-06-12T07:11:42.886744Z",
     "shell.execute_reply": "2024-06-12T07:11:42.886469Z"
    }
   },
   "outputs": [],
   "source": [
    "is_gene_available = False\n",
    "trait_row = age_row = gender_row = None  # set to different values when applicable\n",
    "convert_trait = convert_age = convert_gender = None  # define the functions when applicable\n",
    "\n",
    "# Step 1. Gene Expression Data Availability\n",
    "is_gene_available = True  # Assuming the dataset uses the Affymetrix HTA 2.0 platform, which is for gene expression analysis\n",
    "\n",
    "# Step 2. Variable Availability and Data Type Conversion\n",
    "\n",
    "# 2.1 Data Availability\n",
    "# In this dataset, `Bladder_Cancer`, `age`, and `gender` information are not explicitly listed.\n",
    "\n",
    "# For the sake of completion, let's write conversion functions assuming we had found relevant keys\n",
    "\n",
    "# Conversion functions\n",
    "def convert_trait(value):\n",
    "    return None  # No available data hence cannot convert\n",
    "\n",
    "def convert_age(value):\n",
    "    try:\n",
    "        age = float(value.split(':')[1].strip())\n",
    "        return age\n",
    "    except (IndexError, ValueError):\n",
    "        return None\n",
    "\n",
    "def convert_gender(value):\n",
    "    value = value.split(':')[1].strip().lower()\n",
    "    if value in ['male', 'm']:\n",
    "        return 1\n",
    "    elif value in ['female', 'f']:\n",
    "        return 0\n",
    "    return None\n",
    "\n",
    "# Save Metadata\n",
    "save_cohort_info('GSE201395', './preprocessed/Bladder_Cancer/cohort_info.json', is_gene_available, trait_row is not None)\n"
   ]
  }
 ],
 "metadata": {
  "language_info": {
   "codemirror_mode": {
    "name": "ipython",
    "version": 3
   },
   "file_extension": ".py",
   "mimetype": "text/x-python",
   "name": "python",
   "nbconvert_exporter": "python",
   "pygments_lexer": "ipython3",
   "version": "3.8.17"
  }
 },
 "nbformat": 4,
 "nbformat_minor": 5
}
