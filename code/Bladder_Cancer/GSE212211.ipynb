{
 "cells": [
  {
   "cell_type": "code",
   "execution_count": 1,
   "id": "7875d367",
   "metadata": {
    "execution": {
     "iopub.execute_input": "2024-06-12T07:11:41.346869Z",
     "iopub.status.busy": "2024-06-12T07:11:41.346659Z",
     "iopub.status.idle": "2024-06-12T07:11:41.353579Z",
     "shell.execute_reply": "2024-06-12T07:11:41.353021Z"
    }
   },
   "outputs": [],
   "source": [
    "\n",
    "import sys\n",
    "sys.path.append('/home/techt/Desktop/a4s')\n"
   ]
  },
  {
   "cell_type": "markdown",
   "id": "61562995",
   "metadata": {},
   "source": [
    "### Step 1: Initial Data Loading"
   ]
  },
  {
   "cell_type": "code",
   "execution_count": 2,
   "id": "79eec23d",
   "metadata": {
    "execution": {
     "iopub.execute_input": "2024-06-12T07:11:41.356148Z",
     "iopub.status.busy": "2024-06-12T07:11:41.355939Z",
     "iopub.status.idle": "2024-06-12T07:11:41.636449Z",
     "shell.execute_reply": "2024-06-12T07:11:41.636065Z"
    }
   },
   "outputs": [
    {
     "name": "stdout",
     "output_type": "stream",
     "text": [
      "Background Information:\n",
      "!Series_title\t\"Development of blood biomarkers that distinguish pancreatic cancer from biliary tract cancer\"\n",
      "!Series_summary\t\"We have developed a method for diagnosing pancreatic cancer and bile duct cancer based on miRNA expression information in the circulating blood.\"\n",
      "!Series_summary\t\"2565 miRNAs in 426 serum samples were analyzed.\"\n",
      "!Series_overall_design\t\"The design of this series was constructed in 257 hepatocellular carcinoma (HCC) patients and 41 cholangiocarcinoma carcinoma (ICC) patients and two gall bladder cancer patients.\"\n",
      "Sample Characteristics Dictionary:\n",
      "{0: ['disease/diagnosis: hepatocellular carcinoma'], 1: ['sample collection time: after operation beyand 14 days', 'sample collection time: before operation', 'sample collection time: after operation within 14 days', 'sample collection time: before operation at 2nd recurrence'], 2: ['molecule subtype: miRNA']}\n"
     ]
    }
   ],
   "source": [
    "from utils.preprocess import *\n",
    "# 1. Identify the paths to the soft file and the matrix file\n",
    "cohort_dir = '/media/techt/DATA/GEO/Bladder_Cancer/GSE212211'\n",
    "soft_file, matrix_file = geo_get_relevant_filepaths(cohort_dir)\n",
    "\n",
    "# 2. Read the matrix file to obtain background information and sample characteristics data\n",
    "background_prefixes = ['!Series_title', '!Series_summary', '!Series_overall_design']\n",
    "clinical_prefixes = ['!Sample_geo_accession', '!Sample_characteristics_ch1']\n",
    "background_info, clinical_data = get_background_and_clinical_data(matrix_file, background_prefixes, clinical_prefixes)\n",
    "\n",
    "# 3. Obtain the sample characteristics dictionary from the clinical dataframe\n",
    "sample_characteristics_dict = get_unique_values_by_row(clinical_data)\n",
    "\n",
    "# 4. Explicitly print out all the background information and the sample characteristics dictionary\n",
    "print(\"Background Information:\")\n",
    "print(background_info)\n",
    "print(\"Sample Characteristics Dictionary:\")\n",
    "print(sample_characteristics_dict)\n"
   ]
  },
  {
   "cell_type": "markdown",
   "id": "af4d5624",
   "metadata": {},
   "source": [
    "### Step 2: Dataset Analysis and Clinical Feature Extraction"
   ]
  },
  {
   "cell_type": "code",
   "execution_count": 3,
   "id": "4bd0e8ea",
   "metadata": {
    "execution": {
     "iopub.execute_input": "2024-06-12T07:11:41.638165Z",
     "iopub.status.busy": "2024-06-12T07:11:41.638052Z",
     "iopub.status.idle": "2024-06-12T07:11:41.641123Z",
     "shell.execute_reply": "2024-06-12T07:11:41.640822Z"
    }
   },
   "outputs": [],
   "source": [
    "is_gene_available = False\n",
    "trait_row = age_row = gender_row = None  # set to different values when applicable\n",
    "convert_trait = convert_age = convert_gender = None  # define the functions when applicable\n",
    "\n",
    "# Determine if gene expression data is available\n",
    "is_gene_available = False  # From the background information, this dataset contains miRNA data, not gene expression data.\n",
    "\n",
    "# Data availability\n",
    "# Examining Sample Characteristics Dictionary to find relevant keys and checking for unique values.\n",
    "\n",
    "# Disease/diagnosis\n",
    "trait_row = None  # Even though 'disease/diagnosis' is available, it does not explicitly include 'Bladder_Cancer'\n",
    "\n",
    "# Age (not available in the provided sample characteristics dictionary)\n",
    "age_row = None\n",
    "\n",
    "# Gender (not available in the provided sample characteristics dictionary)\n",
    "gender_row = None\n",
    "\n",
    "# Since trait_row is None, we skip the clinical feature extraction\n",
    "\n",
    "save_cohort_info('GSE212211', './preprocessed/Bladder_Cancer/cohort_info.json', is_gene_available, trait_row is not None)\n",
    "\n",
    "# There is no need to call geo_select_clinical_features or save a CSV file, since trait_row is None.\n"
   ]
  }
 ],
 "metadata": {
  "language_info": {
   "codemirror_mode": {
    "name": "ipython",
    "version": 3
   },
   "file_extension": ".py",
   "mimetype": "text/x-python",
   "name": "python",
   "nbconvert_exporter": "python",
   "pygments_lexer": "ipython3",
   "version": "3.8.17"
  }
 },
 "nbformat": 4,
 "nbformat_minor": 5
}
