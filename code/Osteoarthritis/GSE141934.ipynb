{
 "cells": [
  {
   "cell_type": "code",
   "execution_count": 1,
   "id": "d5ac72a0",
   "metadata": {
    "execution": {
     "iopub.execute_input": "2024-06-12T08:55:24.522766Z",
     "iopub.status.busy": "2024-06-12T08:55:24.522671Z",
     "iopub.status.idle": "2024-06-12T08:55:24.528064Z",
     "shell.execute_reply": "2024-06-12T08:55:24.527754Z"
    }
   },
   "outputs": [],
   "source": [
    "\n",
    "import sys\n",
    "sys.path.append('/home/techt/Desktop/a4s')\n"
   ]
  },
  {
   "cell_type": "markdown",
   "id": "e54a2f6e",
   "metadata": {},
   "source": [
    "### Step 1: Initial Data Loading"
   ]
  },
  {
   "cell_type": "code",
   "execution_count": 2,
   "id": "df07a7a6",
   "metadata": {
    "execution": {
     "iopub.execute_input": "2024-06-12T08:55:24.530440Z",
     "iopub.status.busy": "2024-06-12T08:55:24.530286Z",
     "iopub.status.idle": "2024-06-12T08:55:24.824362Z",
     "shell.execute_reply": "2024-06-12T08:55:24.824004Z"
    }
   },
   "outputs": [
    {
     "name": "stdout",
     "output_type": "stream",
     "text": [
      "Background Information:\n",
      "!Series_title\t\"Transcriptional data of inflamatory arthritis T cells.\"\n",
      "!Series_summary\t\"With a focus on rheumatoid arthritis (RA), we sought new insight into genetic mechanisms of adaptive immune dysregulation to help prioritise molecular pathways for targeting in this and related immune pathologies. Whole genome methylation and transcriptional data from isolated CD4+ T cells and B cells of >100 genotyped and phenotyped inflammatory arthritis patients, all of whom were naïve to immunomodulatory treatments, were obtained. Analysis integrated these comprehensive data with GWAS findings across IMDs and other publically available resources.\"\n",
      "!Series_overall_design\t\"Suspected inflammatory arthritis patients of Northern European ancestry were recruited prior to treatment with immunomodulatory drugs. RA patients were classified using current, internationally accepted criteria, and matched with disease controls in respect of demographic and clinical characteristics. CD4+ cells were isolated from fresh peripheral blood using magnetic bead-based positive selection, with isolation of paired, high-integrity RNA and DNA using the AllPrep DNA/RNA Mini Kit (Qiagen, UK). The majority of samples are from GSE80513.\"\n",
      "Sample Characteristics Dictionary:\n",
      "{0: ['patient: 1072', 'patient: 1085', 'patient: 1076', 'patient: 1087', 'patient: 1080', 'patient: 1088', 'patient: 1083', 'patient: 1094', 'patient: 1050', 'patient: 1067', 'patient: 1051', 'patient: 1054', 'patient: 1070', 'patient: 1058', 'patient: 2010', 'patient: 2012', 'patient: 2029', 'patient: 2075', 'patient: 2062', 'patient: 2078', 'patient: 2086', 'patient: 2087', 'patient: 2067', 'patient: 2072', 'patient: 2090', 'patient: 1019', 'patient: 1020', 'patient: 1003', 'patient: 1008', 'patient: 2030'], 1: ['gender: F', 'gender: M'], 2: ['age: 50', 'age: 43', 'age: 66', 'age: 55', 'age: 52', 'age: 54', 'age: 63', 'age: 61', 'age: 58', 'age: 79', 'age: 69', 'age: 57', 'age: 46', 'age: 44', 'age: 59', 'age: 81', 'age: 60', 'age: 92', 'age: 45', 'age: 47', 'age: 27', 'age: 38', 'age: 51', 'age: 70', 'age: 56', 'age: 53', 'age: 74', 'age: 49', 'age: 31', 'age: 65'], 3: ['tissue: peripheral blood'], 4: ['cell type: CD4+ T cells'], 5: ['first_diagnosis: Rheumatoid Arthritis', 'first_diagnosis: Undifferentiated Inflammatory Arthritis', 'first_diagnosis: Reactive Arthritis', 'first_diagnosis: Crystal Arthritis', 'first_diagnosis: Psoriatic Arthritis', 'first_diagnosis: Non-Inflammatory', 'first_diagnosis: Other Inflammatory Arthritis', 'first_diagnosis: Enteropathic Arthritis', 'first_diagnosis: Undifferentiated Spondylo-Arthropathy', 'first_diagnosis: Unknown'], 6: ['working_diagnosis: Rheumatoid Arthritis', 'working_diagnosis: Psoriatic Arthritis', 'working_diagnosis: Reactive Arthritis', 'working_diagnosis: Crystal Arthritis', 'working_diagnosis: Osteoarthritis', 'working_diagnosis: Non-Inflammatory', 'working_diagnosis: Undifferentiated Inflammatory Arthritis', 'working_diagnosis: Other Inflammatory Arthritis', 'working_diagnosis: Enteropathic Arthritis', 'working_diagnosis: Undifferentiated Spondylo-Arthropathy', 'working_diagnosis: Unknown']}\n"
     ]
    }
   ],
   "source": [
    "from utils.preprocess import *\n",
    "# 1. Identify the paths to the soft file and the matrix file\n",
    "cohort_dir = '/media/techt/DATA/GEO/Osteoarthritis/GSE141934'\n",
    "soft_file, matrix_file = geo_get_relevant_filepaths(cohort_dir)\n",
    "\n",
    "# 2. Read the matrix file to obtain background information and sample characteristics data\n",
    "background_prefixes = ['!Series_title', '!Series_summary', '!Series_overall_design']\n",
    "clinical_prefixes = ['!Sample_geo_accession', '!Sample_characteristics_ch1']\n",
    "background_info, clinical_data = get_background_and_clinical_data(matrix_file, background_prefixes, clinical_prefixes)\n",
    "\n",
    "# 3. Obtain the sample characteristics dictionary from the clinical dataframe\n",
    "sample_characteristics_dict = get_unique_values_by_row(clinical_data)\n",
    "\n",
    "# 4. Explicitly print out all the background information and the sample characteristics dictionary\n",
    "print(\"Background Information:\")\n",
    "print(background_info)\n",
    "print(\"Sample Characteristics Dictionary:\")\n",
    "print(sample_characteristics_dict)\n"
   ]
  },
  {
   "cell_type": "markdown",
   "id": "fc74c4bb",
   "metadata": {},
   "source": [
    "### Step 2: Dataset Analysis and Clinical Feature Extraction"
   ]
  },
  {
   "cell_type": "code",
   "execution_count": 3,
   "id": "4085a5b8",
   "metadata": {
    "execution": {
     "iopub.execute_input": "2024-06-12T08:55:24.826628Z",
     "iopub.status.busy": "2024-06-12T08:55:24.826520Z",
     "iopub.status.idle": "2024-06-12T08:55:24.850620Z",
     "shell.execute_reply": "2024-06-12T08:55:24.850329Z"
    }
   },
   "outputs": [
    {
     "name": "stdout",
     "output_type": "stream",
     "text": [
      "{'GSM4216498': [0.0, 50.0, 0.0], 'GSM4216499': [0.0, 43.0, 0.0], 'GSM4216500': [0.0, 66.0, 0.0], 'GSM4216501': [0.0, 55.0, 1.0], 'GSM4216502': [0.0, 52.0, 0.0], 'GSM4216503': [0.0, 54.0, 0.0], 'GSM4216504': [0.0, 63.0, 0.0], 'GSM4216505': [0.0, 61.0, 1.0], 'GSM4216506': [0.0, 58.0, 1.0], 'GSM4216507': [0.0, 79.0, 1.0], 'GSM4216508': [0.0, 69.0, 0.0], 'GSM4216509': [1.0, 57.0, 0.0], 'GSM4216510': [0.0, 46.0, 0.0], 'GSM4216511': [0.0, 44.0, 0.0], 'GSM4216512': [0.0, 46.0, 0.0], 'GSM4216513': [0.0, 63.0, 0.0], 'GSM4216514': [0.0, 59.0, 1.0], 'GSM4216515': [0.0, 81.0, 1.0], 'GSM4216516': [0.0, 60.0, 1.0], 'GSM4216517': [0.0, 92.0, 1.0], 'GSM4216518': [0.0, 45.0, 0.0], 'GSM4216519': [0.0, 47.0, 0.0], 'GSM4216520': [0.0, 27.0, 0.0], 'GSM4216521': [0.0, 58.0, 0.0], 'GSM4216522': [0.0, 57.0, 0.0], 'GSM4216523': [1.0, 38.0, 0.0], 'GSM4216524': [0.0, 45.0, 1.0], 'GSM4216525': [0.0, 51.0, 1.0], 'GSM4216526': [0.0, 70.0, 1.0], 'GSM4216527': [0.0, 57.0, 1.0], 'GSM4216528': [0.0, 56.0, 0.0], 'GSM4216529': [0.0, 56.0, 0.0], 'GSM4216530': [0.0, 51.0, 1.0], 'GSM4216531': [0.0, 50.0, 0.0], 'GSM4216532': [1.0, 53.0, 0.0], 'GSM4216533': [0.0, 61.0, 1.0], 'GSM4216534': [0.0, 66.0, 1.0], 'GSM4216535': [0.0, 74.0, 1.0], 'GSM4216536': [0.0, 51.0, 1.0], 'GSM4216537': [0.0, 46.0, 0.0], 'GSM4216538': [0.0, 49.0, 0.0], 'GSM4216539': [0.0, 56.0, 0.0], 'GSM4216540': [0.0, 58.0, 0.0], 'GSM4216541': [0.0, 60.0, 1.0], 'GSM4216542': [0.0, 50.0, 0.0], 'GSM4216543': [0.0, 50.0, 0.0], 'GSM4216544': [0.0, 31.0, 0.0], 'GSM4216545': [0.0, 70.0, 0.0], 'GSM4216546': [1.0, 52.0, 0.0], 'GSM4216547': [0.0, 65.0, 1.0], 'GSM4216548': [0.0, 69.0, 0.0], 'GSM4216549': [0.0, 73.0, 0.0], 'GSM4216550': [0.0, 50.0, 0.0], 'GSM4216551': [0.0, 58.0, 0.0], 'GSM4216552': [0.0, 27.0, 0.0], 'GSM4216553': [0.0, 68.0, 1.0], 'GSM4216554': [0.0, 22.0, 1.0], 'GSM4216555': [0.0, 39.0, 0.0], 'GSM4216556': [0.0, 52.0, 0.0], 'GSM4216557': [0.0, 35.0, 0.0], 'GSM4216558': [0.0, 69.0, 1.0], 'GSM4216559': [0.0, 70.0, 0.0], 'GSM4216560': [0.0, 74.0, 0.0], 'GSM4216561': [0.0, 38.0, 0.0], 'GSM4216562': [0.0, 80.0, 0.0], 'GSM4216563': [0.0, 51.0, 0.0], 'GSM4216564': [0.0, 56.0, 1.0], 'GSM4216565': [0.0, 68.0, 0.0], 'GSM4216566': [0.0, 50.0, 0.0], 'GSM4216567': [0.0, 74.0, 1.0], 'GSM4216568': [0.0, 45.0, 0.0], 'GSM4216569': [0.0, 65.0, 1.0], 'GSM4216570': [0.0, 53.0, 0.0], 'GSM4216571': [1.0, 57.0, 1.0], 'GSM4216572': [0.0, 73.0, 0.0], 'GSM4216573': [0.0, 74.0, 0.0], 'GSM4216574': [0.0, 53.0, 0.0], 'GSM4216575': [0.0, 67.0, 0.0], 'GSM4216576': [0.0, 49.0, 1.0], 'GSM4216577': [0.0, 27.0, 0.0], 'GSM4216578': [0.0, 54.0, 0.0], 'GSM4216579': [0.0, 26.0, 0.0], 'GSM4216580': [0.0, 56.0, 0.0], 'GSM4216581': [0.0, 30.0, 0.0], 'GSM4216582': [0.0, 50.0, 0.0], 'GSM4216583': [0.0, 69.0, 0.0], 'GSM4216584': [0.0, 79.0, 1.0], 'GSM4216585': [0.0, 61.0, 1.0], 'GSM4216586': [0.0, 63.0, 0.0], 'GSM4216587': [0.0, 77.0, 0.0], 'GSM4216588': [0.0, 48.0, 0.0], 'GSM4216589': [0.0, 61.0, 1.0], 'GSM4216590': [0.0, 43.0, 1.0], 'GSM4216591': [0.0, 54.0, 0.0], 'GSM4216592': [0.0, 62.0, 0.0], 'GSM4216593': [0.0, 20.0, 0.0], 'GSM4216594': [0.0, 62.0, 0.0], 'GSM4216595': [0.0, 50.0, 0.0], 'GSM4216596': [0.0, 60.0, 0.0], 'GSM4216597': [0.0, 69.0, 0.0]}\n"
     ]
    }
   ],
   "source": [
    "is_gene_available = False\n",
    "trait_row = age_row = gender_row = None  # set to different values when applicable\n",
    "convert_trait = convert_age = convert_gender = None  # define the functions when applicable\n",
    "\n",
    "# 1. Gene Expression Data Availability\n",
    "# Parse the summary and design of the series to check for gene expression data.\n",
    "# Keywords to look for are \"transcriptional data\" which suggests mRNA (gene expression).\n",
    "\n",
    "is_gene_available = \"transcriptional data\" in \"!Series_summary\\t\\\"With a focus on rheumatoid arthritis (RA), we sought new insight into genetic mechanisms of adaptive immune dysregulation to help prioritise molecular pathways for targeting in this and related immune pathologies.\"  # Found in summary\n",
    "\n",
    "# 2. Variable Availability and Data Type Conversion\n",
    "\n",
    "# Define age_row by checking the dictionary\n",
    "if 2 in {2: ['age: 50', 'age: 43', 'age: 66', 'age: 55', 'age: 52', 'age: 54', 'age: 63', 'age: 61', 'age: 58', 'age: 79', 'age: 69', 'age: 57', 'age: 46', 'age: 44', 'age: 59', 'age: 81', 'age: 60', 'age: 92', 'age: 45', 'age: 47', 'age: 27', 'age: 38', 'age: 51', 'age: 70', 'age: 56', 'age: 53', 'age: 74', 'age: 49', 'age: 31', 'age: 65']} and len({2: ['age: 50', 'age: 43', 'age: 66', 'age: 55', 'age: 52', 'age: 54', 'age: 63', 'age: 61', 'age: 58', 'age: 79', 'age: 69', 'age: 57', 'age: 46', 'age: 44', 'age: 59', 'age: 81', 'age: 60', 'age: 92', 'age: 45', 'age: 47', 'age: 27', 'age: 38', 'age: 51', 'age: 70', 'age: 56', 'age: 53', 'age: 74', 'age: 49', 'age: 31', 'age: 65']}[2]) > 1:\n",
    "    age_row = 2\n",
    "\n",
    "# Define gender_row by checking the dictionary\n",
    "if 1 in {1: ['gender: F', 'gender: M']} and len({1: ['gender: F', 'gender: M']}[1]) > 1:\n",
    "    gender_row = 1\n",
    "\n",
    "# Define trait_row by checking the dictionary\n",
    "if 6 in {6: ['working_diagnosis: Rheumatoid Arthritis', 'working_diagnosis: Psoriatic Arthritis', 'working_diagnosis: Reactive Arthritis', 'working_diagnosis: Crystal Arthritis', 'working_diagnosis: Osteoarthritis', 'working_diagnosis: Non-Inflammatory', 'working_diagnosis: Undifferentiated Inflammatory Arthritis', 'working_diagnosis: Other Inflammatory Arthritis', 'working_diagnosis: Enteropathic Arthritis', 'working_diagnosis: Undifferentiated Spondylo-Arthropathy', 'working_diagnosis: Unknown']} and len({6: ['working_diagnosis: Rheumatoid Arthritis', 'working_diagnosis: Psoriatic Arthritis', 'working_diagnosis: Reactive Arthritis', 'working_diagnosis: Crystal Arthritis', 'working_diagnosis: Osteoarthritis', 'working_diagnosis: Non-Inflammatory', 'working_diagnosis: Undifferentiated Inflammatory Arthritis', 'working_diagnosis: Other Inflammatory Arthritis', 'working_diagnosis: Enteropathic Arthritis', 'working_diagnosis: Undifferentiated Spondylo-Arthropathy', 'working_diagnosis: Unknown']}[6]) > 1:\n",
    "    if 'working_diagnosis: Osteoarthritis' in {6: ['working_diagnosis: Rheumatoid Arthritis', 'working_diagnosis: Psoriatic Arthritis', 'working_diagnosis: Reactive Arthritis', 'working_diagnosis: Crystal Arthritis', 'working_diagnosis: Osteoarthritis', 'working_diagnosis: Non-Inflammatory', 'working_diagnosis: Undifferentiated Inflammatory Arthritis', 'working_diagnosis: Other Inflammatory Arthritis', 'working_diagnosis: Enteropathic Arthritis', 'working_diagnosis: Undifferentiated Spondylo-Arthropathy', 'working_diagnosis: Unknown']}[6]:\n",
    "        trait_row = 6\n",
    "\n",
    "# 2.3 Data Type Conversion\n",
    "\n",
    "# Define convert_trait function\n",
    "def convert_trait(value):\n",
    "    val = value.split(\":\")[1].strip()\n",
    "    if val == 'Osteoarthritis':\n",
    "        return 1\n",
    "    elif val in ['Rheumatoid Arthritis', 'Psoriatic Arthritis', 'Reactive Arthritis', 'Crystal Arthritis', 'Non-Inflammatory', 'Undifferentiated Inflammatory Arthritis', 'Other Inflammatory Arthritis', 'Enteropathic Arthritis', 'Undifferentiated Spondylo-Arthropathy', 'Unknown']:\n",
    "        return 0\n",
    "    else:\n",
    "        return None\n",
    "\n",
    "# Define convert_age function\n",
    "def convert_age(value):\n",
    "    try:\n",
    "        return float(value.split(\":\")[1].strip())\n",
    "    except ValueError:\n",
    "        return None\n",
    "\n",
    "# Define convert_gender function\n",
    "def convert_gender(value):\n",
    "    val = value.split(\":\")[1].strip()\n",
    "    if val == 'F':\n",
    "        return 0\n",
    "    elif val == 'M':\n",
    "        return 1\n",
    "    else:\n",
    "        return None\n",
    "\n",
    "# 3. Save Metadata\n",
    "save_cohort_info('GSE141934', './preprocessed/Osteoarthritis/cohort_info.json', is_gene_available, trait_row is not None)\n",
    "\n",
    "# 4. Clinical Feature Extraction\n",
    "if trait_row is not None:\n",
    "    selected_clinical_data = geo_select_clinical_features(clinical_data, 'Osteoarthritis', trait_row, convert_trait, age_row, convert_age, gender_row, convert_gender)\n",
    "    csv_path = './preprocessed/Osteoarthritis/trait_data/GSE141934.csv'\n",
    "    selected_clinical_data.to_csv(csv_path)\n",
    "    print(preview_df(selected_clinical_data))\n"
   ]
  }
 ],
 "metadata": {
  "language_info": {
   "codemirror_mode": {
    "name": "ipython",
    "version": 3
   },
   "file_extension": ".py",
   "mimetype": "text/x-python",
   "name": "python",
   "nbconvert_exporter": "python",
   "pygments_lexer": "ipython3",
   "version": "3.8.17"
  }
 },
 "nbformat": 4,
 "nbformat_minor": 5
}
