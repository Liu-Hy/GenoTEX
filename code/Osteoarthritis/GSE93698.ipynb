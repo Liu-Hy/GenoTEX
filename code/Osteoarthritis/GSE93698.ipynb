{
 "cells": [
  {
   "cell_type": "code",
   "execution_count": 1,
   "id": "3e80a2e1",
   "metadata": {
    "execution": {
     "iopub.execute_input": "2025-03-25T06:00:24.393283Z",
     "iopub.status.busy": "2025-03-25T06:00:24.393100Z",
     "iopub.status.idle": "2025-03-25T06:00:24.559947Z",
     "shell.execute_reply": "2025-03-25T06:00:24.559487Z"
    }
   },
   "outputs": [],
   "source": [
    "import sys\n",
    "import os\n",
    "sys.path.append(os.path.abspath(os.path.join(os.getcwd(), '../..')))\n",
    "\n",
    "# Path Configuration\n",
    "from tools.preprocess import *\n",
    "\n",
    "# Processing context\n",
    "trait = \"Osteoarthritis\"\n",
    "cohort = \"GSE93698\"\n",
    "\n",
    "# Input paths\n",
    "in_trait_dir = \"../../input/GEO/Osteoarthritis\"\n",
    "in_cohort_dir = \"../../input/GEO/Osteoarthritis/GSE93698\"\n",
    "\n",
    "# Output paths\n",
    "out_data_file = \"../../output/preprocess/Osteoarthritis/GSE93698.csv\"\n",
    "out_gene_data_file = \"../../output/preprocess/Osteoarthritis/gene_data/GSE93698.csv\"\n",
    "out_clinical_data_file = \"../../output/preprocess/Osteoarthritis/clinical_data/GSE93698.csv\"\n",
    "json_path = \"../../output/preprocess/Osteoarthritis/cohort_info.json\"\n"
   ]
  },
  {
   "cell_type": "markdown",
   "id": "c1a31aef",
   "metadata": {},
   "source": [
    "### Step 1: Initial Data Loading"
   ]
  },
  {
   "cell_type": "code",
   "execution_count": 2,
   "id": "dac161af",
   "metadata": {
    "execution": {
     "iopub.execute_input": "2025-03-25T06:00:24.561333Z",
     "iopub.status.busy": "2025-03-25T06:00:24.561182Z",
     "iopub.status.idle": "2025-03-25T06:00:24.696142Z",
     "shell.execute_reply": "2025-03-25T06:00:24.695656Z"
    }
   },
   "outputs": [
    {
     "name": "stdout",
     "output_type": "stream",
     "text": [
      "Background Information:\n",
      "!Series_title\t\"Gene expression profiles in systemic sclerosis tenosynovial biopsies\"\n",
      "!Series_summary\t\"Systemic sclerosis is a connective tissue disease affecting skin and internal organs, characterized by a triad of inflammation, vasculopathy and progressive fibrosis, due to deposition of mainly type I collagen. Out of the intricate mechanisms involved in the pathogenesis of the disease, evidence indicates that TGFbeta signaling plays a central role in mediating the effects of several pro-fibrotic effectors. In addition, TGFbeta is induced by hypoxia in cultured fibroblasts, an observation suggesting a role for this cytokine in linking vasculopathy and fibrosis in the disease. Not surprisingly, TGFbeta and Wnt signaling are among the most prevalent pathways found in global gene expression studies performed on systemic sclerosis skin biopsies. In this perspective, modulation of TGFbeta activity remains a top therapeutic target in systemic sclerosis drug development.\"\n",
      "!Series_summary\t\"We recently performed whole-body magnetic resonance imaging (MRI) studies in systemic sclerosis patients, and evidenced deep connective tissue infiltrates surrounding tendons in patients with active disease, and tendon friction rubs. Tenosynovitis and arthritis were also found by MRI in one third of the patients. We performed tenosynovial biopsies in patients with clinically active tenosynovitis, in order to evaluate whether such samples would provide additional information on disease mechanisms. Here, we report that these samples are characterized by the over-expression of genes involved in fibrosis, TGFbeta/Wnt signaling, chemokines and cytokines, but also by the concurrent over-expression of several ubiquitin-specific peptidases (USPs).\"\n",
      "!Series_summary\t\"Among the USPs overexpressed in systemic sclerosis tenosynovial biopsies, USP15 is known to specifically deubiquitinate SMAD3, and the TGFbeta Receptor 1. These results triggered us to perform additional experiments in order to test whether USP15 overexpression plays a role in the pathogenesis of systemic sclerosis via decreased ubiquitin-mediated degradation of proteins involved in TGFbeta signaling.\"\n",
      "!Series_overall_design\t\"Five tenosynovial biopsies were obtained from diffuse systemic sclerosis patients undergoing surgical procedures due to refractory pain and/or loss of function caused by tenosynovitis. These samples were used in high-density transcriptomic and immunohistochemistry experiments.\"\n",
      "!Series_overall_design\t\"Samples SSc1 to SSc5 are related to this submission.  25 synovial biopsy samples harvested previously by our group in patients with several rheumatic conditions (GSE36700) were used in the normalization procedure.\"\n",
      "!Series_overall_design\t\"For samples SSc1 to SSc5 , race, age and sex are blinded to preserve patients' confidentiality.\"\n",
      "Sample Characteristics Dictionary:\n",
      "{0: ['tissue: tenosynovial biopsy', 'tissue: synovial biopsies'], 1: ['disease state: diffuse systemic sclerosis', 'disease state: Osteoarthritis', 'disease state: Rheumatoid arthritis', 'disease state: Systemic lupus erythematosus', 'disease state: Microcrystalline arthritis', 'disease state: Seronegative arthritis'], 2: [nan, 'age: 71', 'age: 73', 'age: 65', 'age: 51', 'age: 56', 'age: 52', 'age: 42', 'age: 43', 'age: 69', 'age: 55', 'age: 62', 'age: 37', 'age: 38', 'age: 19', 'age: 40', 'age: 31', 'age: 45', 'age: 72', 'age: 28', 'age: 39', 'age: 47', 'age: 21'], 3: [nan, 'gender: f', 'gender: m'], 4: [nan, 'treatment: NSAIDs', 'treatment: -', 'treatment: NSAIDs/colchicine', 'treatment: colchicine']}\n"
     ]
    }
   ],
   "source": [
    "from tools.preprocess import *\n",
    "# 1. Identify the paths to the SOFT file and the matrix file\n",
    "soft_file, matrix_file = geo_get_relevant_filepaths(in_cohort_dir)\n",
    "\n",
    "# 2. Read the matrix file to obtain background information and sample characteristics data\n",
    "background_prefixes = ['!Series_title', '!Series_summary', '!Series_overall_design']\n",
    "clinical_prefixes = ['!Sample_geo_accession', '!Sample_characteristics_ch1']\n",
    "background_info, clinical_data = get_background_and_clinical_data(matrix_file, background_prefixes, clinical_prefixes)\n",
    "\n",
    "# 3. Obtain the sample characteristics dictionary from the clinical dataframe\n",
    "sample_characteristics_dict = get_unique_values_by_row(clinical_data)\n",
    "\n",
    "# 4. Explicitly print out all the background information and the sample characteristics dictionary\n",
    "print(\"Background Information:\")\n",
    "print(background_info)\n",
    "print(\"Sample Characteristics Dictionary:\")\n",
    "print(sample_characteristics_dict)\n"
   ]
  },
  {
   "cell_type": "markdown",
   "id": "6a811ccf",
   "metadata": {},
   "source": [
    "### Step 2: Dataset Analysis and Clinical Feature Extraction"
   ]
  },
  {
   "cell_type": "code",
   "execution_count": 3,
   "id": "8fb9e3ce",
   "metadata": {
    "execution": {
     "iopub.execute_input": "2025-03-25T06:00:24.697884Z",
     "iopub.status.busy": "2025-03-25T06:00:24.697772Z",
     "iopub.status.idle": "2025-03-25T06:00:24.708440Z",
     "shell.execute_reply": "2025-03-25T06:00:24.707949Z"
    }
   },
   "outputs": [
    {
     "name": "stdout",
     "output_type": "stream",
     "text": [
      "Preview of extracted clinical features:\n",
      "{'GSM2460692': [0.0, nan, nan], 'GSM2460693': [0.0, nan, nan], 'GSM2460694': [0.0, nan, nan], 'GSM2460695': [0.0, nan, nan], 'GSM2460696': [0.0, nan, nan], 'GSM2460733': [1.0, 71.0, 0.0], 'GSM2460734': [1.0, 73.0, 0.0], 'GSM2460735': [1.0, 65.0, 0.0], 'GSM2460736': [1.0, 51.0, 0.0], 'GSM2460737': [1.0, 56.0, 1.0], 'GSM2460738': [0.0, 52.0, 1.0], 'GSM2460739': [0.0, 42.0, 1.0], 'GSM2460740': [0.0, 43.0, 0.0], 'GSM2460741': [0.0, 69.0, 1.0], 'GSM2460742': [0.0, 55.0, 1.0], 'GSM2460743': [0.0, 62.0, 1.0], 'GSM2460744': [0.0, 37.0, 0.0], 'GSM2460745': [0.0, 38.0, 0.0], 'GSM2460746': [0.0, 19.0, 0.0], 'GSM2460747': [0.0, 40.0, 0.0], 'GSM2460748': [0.0, 31.0, 0.0], 'GSM2460749': [0.0, 45.0, 1.0], 'GSM2460750': [0.0, 55.0, 1.0], 'GSM2460751': [0.0, 72.0, 1.0], 'GSM2460752': [0.0, 42.0, 1.0], 'GSM2460753': [0.0, 72.0, 0.0], 'GSM2460754': [0.0, 28.0, 0.0], 'GSM2460755': [0.0, 39.0, 0.0], 'GSM2460756': [0.0, 47.0, 1.0], 'GSM2460757': [0.0, 21.0, 1.0]}\n",
      "Clinical features saved to ../../output/preprocess/Osteoarthritis/clinical_data/GSE93698.csv\n"
     ]
    }
   ],
   "source": [
    "# 1. Gene Expression Data Availability\n",
    "# The dataset appears to be gene expression data, not miRNA or methylation data\n",
    "is_gene_available = True\n",
    "\n",
    "# 2. Variable Availability and Data Type Conversion\n",
    "# 2.1 Data Availability\n",
    "\n",
    "# trait (Osteoarthritis)\n",
    "# From sample characteristics, I can see 'disease state' in row 1 has 'Osteoarthritis' as a value\n",
    "trait_row = 1\n",
    "\n",
    "# age\n",
    "# Age is available in row 2\n",
    "age_row = 2\n",
    "\n",
    "# gender\n",
    "# Gender is available in row 3\n",
    "gender_row = 3\n",
    "\n",
    "# 2.2 Data Type Conversion\n",
    "\n",
    "# trait conversion function\n",
    "def convert_trait(value):\n",
    "    \"\"\"Convert trait value to binary (0 for no, 1 for yes)\"\"\"\n",
    "    if pd.isna(value):\n",
    "        return None\n",
    "    \n",
    "    value = value.lower()\n",
    "    if 'disease state:' in value:\n",
    "        value = value.split('disease state:')[1].strip()\n",
    "    \n",
    "    # Check if the current value is for the trait we're interested in (Osteoarthritis)\n",
    "    if trait.lower() in value.lower():\n",
    "        return 1\n",
    "    else:\n",
    "        return 0\n",
    "\n",
    "# age conversion function\n",
    "def convert_age(value):\n",
    "    \"\"\"Convert age value to continuous\"\"\"\n",
    "    if pd.isna(value):\n",
    "        return None\n",
    "    \n",
    "    # Extract the age value after the colon\n",
    "    if 'age:' in value:\n",
    "        try:\n",
    "            age_val = value.split('age:')[1].strip()\n",
    "            return float(age_val)\n",
    "        except:\n",
    "            return None\n",
    "    return None\n",
    "\n",
    "# gender conversion function\n",
    "def convert_gender(value):\n",
    "    \"\"\"Convert gender value to binary (0 for female, 1 for male)\"\"\"\n",
    "    if pd.isna(value):\n",
    "        return None\n",
    "    \n",
    "    value = value.lower()\n",
    "    if 'gender:' in value:\n",
    "        gender_val = value.split('gender:')[1].strip()\n",
    "        if gender_val == 'f':\n",
    "            return 0\n",
    "        elif gender_val == 'm':\n",
    "            return 1\n",
    "    return None\n",
    "\n",
    "# 3. Save Metadata\n",
    "# Trait data is available if trait_row is not None\n",
    "is_trait_available = trait_row is not None\n",
    "\n",
    "# Initial filtering of dataset usability\n",
    "validate_and_save_cohort_info(\n",
    "    is_final=False,\n",
    "    cohort=cohort,\n",
    "    info_path=json_path,\n",
    "    is_gene_available=is_gene_available,\n",
    "    is_trait_available=is_trait_available\n",
    ")\n",
    "\n",
    "# 4. Clinical Feature Extraction\n",
    "# If trait data is available, extract and process clinical features\n",
    "if trait_row is not None and 'clinical_data' in globals():\n",
    "    # Extract clinical features\n",
    "    selected_clinical_df = geo_select_clinical_features(\n",
    "        clinical_df=clinical_data,\n",
    "        trait=trait,\n",
    "        trait_row=trait_row,\n",
    "        convert_trait=convert_trait,\n",
    "        age_row=age_row,\n",
    "        convert_age=convert_age,\n",
    "        gender_row=gender_row,\n",
    "        convert_gender=convert_gender\n",
    "    )\n",
    "    \n",
    "    # Preview the extracted clinical features\n",
    "    preview = preview_df(selected_clinical_df)\n",
    "    print(\"Preview of extracted clinical features:\")\n",
    "    print(preview)\n",
    "    \n",
    "    # Save the clinical features to a CSV file\n",
    "    os.makedirs(os.path.dirname(out_clinical_data_file), exist_ok=True)\n",
    "    selected_clinical_df.to_csv(out_clinical_data_file)\n",
    "    print(f\"Clinical features saved to {out_clinical_data_file}\")\n"
   ]
  },
  {
   "cell_type": "markdown",
   "id": "7251a1ab",
   "metadata": {},
   "source": [
    "### Step 3: Gene Data Extraction"
   ]
  },
  {
   "cell_type": "code",
   "execution_count": 4,
   "id": "36b1de2f",
   "metadata": {
    "execution": {
     "iopub.execute_input": "2025-03-25T06:00:24.709950Z",
     "iopub.status.busy": "2025-03-25T06:00:24.709846Z",
     "iopub.status.idle": "2025-03-25T06:00:24.905297Z",
     "shell.execute_reply": "2025-03-25T06:00:24.904885Z"
    }
   },
   "outputs": [
    {
     "name": "stdout",
     "output_type": "stream",
     "text": [
      "Matrix file found: ../../input/GEO/Osteoarthritis/GSE93698/GSE93698_series_matrix.txt.gz\n"
     ]
    },
    {
     "name": "stdout",
     "output_type": "stream",
     "text": [
      "Gene data shape: (54675, 30)\n",
      "First 20 gene/probe identifiers:\n",
      "Index(['1007_s_at', '1053_at', '117_at', '121_at', '1255_g_at', '1294_at',\n",
      "       '1316_at', '1320_at', '1405_i_at', '1431_at', '1438_at', '1487_at',\n",
      "       '1494_f_at', '1552256_a_at', '1552257_a_at', '1552258_at', '1552261_at',\n",
      "       '1552263_at', '1552264_a_at', '1552266_at'],\n",
      "      dtype='object', name='ID')\n"
     ]
    }
   ],
   "source": [
    "# 1. Get the SOFT and matrix file paths again \n",
    "soft_file, matrix_file = geo_get_relevant_filepaths(in_cohort_dir)\n",
    "print(f\"Matrix file found: {matrix_file}\")\n",
    "\n",
    "# 2. Use the get_genetic_data function from the library to get the gene_data\n",
    "try:\n",
    "    gene_data = get_genetic_data(matrix_file)\n",
    "    print(f\"Gene data shape: {gene_data.shape}\")\n",
    "    \n",
    "    # 3. Print the first 20 row IDs (gene or probe identifiers)\n",
    "    print(\"First 20 gene/probe identifiers:\")\n",
    "    print(gene_data.index[:20])\n",
    "except Exception as e:\n",
    "    print(f\"Error extracting gene data: {e}\")\n"
   ]
  },
  {
   "cell_type": "markdown",
   "id": "b192cfcb",
   "metadata": {},
   "source": [
    "### Step 4: Gene Identifier Review"
   ]
  },
  {
   "cell_type": "code",
   "execution_count": 5,
   "id": "4f6a7eae",
   "metadata": {
    "execution": {
     "iopub.execute_input": "2025-03-25T06:00:24.906618Z",
     "iopub.status.busy": "2025-03-25T06:00:24.906502Z",
     "iopub.status.idle": "2025-03-25T06:00:24.908534Z",
     "shell.execute_reply": "2025-03-25T06:00:24.908206Z"
    }
   },
   "outputs": [],
   "source": [
    "# Reviewing gene identifiers\n",
    "# The identifiers ('1007_s_at', '1053_at', etc.) appear to be Affymetrix probe IDs \n",
    "# rather than standard human gene symbols (which would look like BRCA1, TP53, etc.)\n",
    "# These probe IDs need to be mapped to human gene symbols for analysis\n",
    "\n",
    "requires_gene_mapping = True\n"
   ]
  },
  {
   "cell_type": "markdown",
   "id": "05d7c913",
   "metadata": {},
   "source": [
    "### Step 5: Gene Annotation"
   ]
  },
  {
   "cell_type": "code",
   "execution_count": 6,
   "id": "9eabe621",
   "metadata": {
    "execution": {
     "iopub.execute_input": "2025-03-25T06:00:24.909634Z",
     "iopub.status.busy": "2025-03-25T06:00:24.909535Z",
     "iopub.status.idle": "2025-03-25T06:00:27.973692Z",
     "shell.execute_reply": "2025-03-25T06:00:27.973026Z"
    }
   },
   "outputs": [
    {
     "name": "stdout",
     "output_type": "stream",
     "text": [
      "\n",
      "Gene annotation preview:\n",
      "Columns in gene annotation: ['ID', 'GB_ACC', 'SPOT_ID', 'Species Scientific Name', 'Annotation Date', 'Sequence Type', 'Sequence Source', 'Target Description', 'Representative Public ID', 'Gene Title', 'Gene Symbol', 'ENTREZ_GENE_ID', 'RefSeq Transcript ID', 'Gene Ontology Biological Process', 'Gene Ontology Cellular Component', 'Gene Ontology Molecular Function']\n",
      "{'ID': ['1007_s_at', '1053_at', '117_at', '121_at', '1255_g_at'], 'GB_ACC': ['U48705', 'M87338', 'X51757', 'X69699', 'L36861'], 'SPOT_ID': [nan, nan, nan, nan, nan], 'Species Scientific Name': ['Homo sapiens', 'Homo sapiens', 'Homo sapiens', 'Homo sapiens', 'Homo sapiens'], 'Annotation Date': ['Oct 6, 2014', 'Oct 6, 2014', 'Oct 6, 2014', 'Oct 6, 2014', 'Oct 6, 2014'], 'Sequence Type': ['Exemplar sequence', 'Exemplar sequence', 'Exemplar sequence', 'Exemplar sequence', 'Exemplar sequence'], 'Sequence Source': ['Affymetrix Proprietary Database', 'GenBank', 'Affymetrix Proprietary Database', 'GenBank', 'Affymetrix Proprietary Database'], 'Target Description': ['U48705 /FEATURE=mRNA /DEFINITION=HSU48705 Human receptor tyrosine kinase DDR gene, complete cds', 'M87338 /FEATURE= /DEFINITION=HUMA1SBU Human replication factor C, 40-kDa subunit (A1) mRNA, complete cds', \"X51757 /FEATURE=cds /DEFINITION=HSP70B Human heat-shock protein HSP70B' gene\", 'X69699 /FEATURE= /DEFINITION=HSPAX8A H.sapiens Pax8 mRNA', 'L36861 /FEATURE=expanded_cds /DEFINITION=HUMGCAPB Homo sapiens guanylate cyclase activating protein (GCAP) gene exons 1-4, complete cds'], 'Representative Public ID': ['U48705', 'M87338', 'X51757', 'X69699', 'L36861'], 'Gene Title': ['discoidin domain receptor tyrosine kinase 1 /// microRNA 4640', 'replication factor C (activator 1) 2, 40kDa', \"heat shock 70kDa protein 6 (HSP70B')\", 'paired box 8', 'guanylate cyclase activator 1A (retina)'], 'Gene Symbol': ['DDR1 /// MIR4640', 'RFC2', 'HSPA6', 'PAX8', 'GUCA1A'], 'ENTREZ_GENE_ID': ['780 /// 100616237', '5982', '3310', '7849', '2978'], 'RefSeq Transcript ID': ['NM_001202521 /// NM_001202522 /// NM_001202523 /// NM_001954 /// NM_013993 /// NM_013994 /// NR_039783 /// XM_005249385 /// XM_005249386 /// XM_005249387 /// XM_005249389 /// XM_005272873 /// XM_005272874 /// XM_005272875 /// XM_005272877 /// XM_005275027 /// XM_005275028 /// XM_005275030 /// XM_005275031 /// XM_005275162 /// XM_005275163 /// XM_005275164 /// XM_005275166 /// XM_005275457 /// XM_005275458 /// XM_005275459 /// XM_005275461 /// XM_006715185 /// XM_006715186 /// XM_006715187 /// XM_006715188 /// XM_006715189 /// XM_006715190 /// XM_006725501 /// XM_006725502 /// XM_006725503 /// XM_006725504 /// XM_006725505 /// XM_006725506 /// XM_006725714 /// XM_006725715 /// XM_006725716 /// XM_006725717 /// XM_006725718 /// XM_006725719 /// XM_006725720 /// XM_006725721 /// XM_006725722 /// XM_006725827 /// XM_006725828 /// XM_006725829 /// XM_006725830 /// XM_006725831 /// XM_006725832 /// XM_006726017 /// XM_006726018 /// XM_006726019 /// XM_006726020 /// XM_006726021 /// XM_006726022 /// XR_427836 /// XR_430858 /// XR_430938 /// XR_430974 /// XR_431015', 'NM_001278791 /// NM_001278792 /// NM_001278793 /// NM_002914 /// NM_181471 /// XM_006716080', 'NM_002155', 'NM_003466 /// NM_013951 /// NM_013952 /// NM_013953 /// NM_013992', 'NM_000409 /// XM_006715073'], 'Gene Ontology Biological Process': ['0001558 // regulation of cell growth // inferred from electronic annotation /// 0001952 // regulation of cell-matrix adhesion // inferred from electronic annotation /// 0006468 // protein phosphorylation // inferred from electronic annotation /// 0007155 // cell adhesion // traceable author statement /// 0007169 // transmembrane receptor protein tyrosine kinase signaling pathway // inferred from electronic annotation /// 0007565 // female pregnancy // inferred from electronic annotation /// 0007566 // embryo implantation // inferred from electronic annotation /// 0007595 // lactation // inferred from electronic annotation /// 0008285 // negative regulation of cell proliferation // inferred from electronic annotation /// 0010715 // regulation of extracellular matrix disassembly // inferred from mutant phenotype /// 0014909 // smooth muscle cell migration // inferred from mutant phenotype /// 0016310 // phosphorylation // inferred from electronic annotation /// 0018108 // peptidyl-tyrosine phosphorylation // inferred from electronic annotation /// 0030198 // extracellular matrix organization // traceable author statement /// 0038063 // collagen-activated tyrosine kinase receptor signaling pathway // inferred from direct assay /// 0038063 // collagen-activated tyrosine kinase receptor signaling pathway // inferred from mutant phenotype /// 0038083 // peptidyl-tyrosine autophosphorylation // inferred from direct assay /// 0043583 // ear development // inferred from electronic annotation /// 0044319 // wound healing, spreading of cells // inferred from mutant phenotype /// 0046777 // protein autophosphorylation // inferred from direct assay /// 0060444 // branching involved in mammary gland duct morphogenesis // inferred from electronic annotation /// 0060749 // mammary gland alveolus development // inferred from electronic annotation /// 0061302 // smooth muscle cell-matrix adhesion // inferred from mutant phenotype', '0000278 // mitotic cell cycle // traceable author statement /// 0000722 // telomere maintenance via recombination // traceable author statement /// 0000723 // telomere maintenance // traceable author statement /// 0006260 // DNA replication // traceable author statement /// 0006271 // DNA strand elongation involved in DNA replication // traceable author statement /// 0006281 // DNA repair // traceable author statement /// 0006283 // transcription-coupled nucleotide-excision repair // traceable author statement /// 0006289 // nucleotide-excision repair // traceable author statement /// 0006297 // nucleotide-excision repair, DNA gap filling // traceable author statement /// 0015979 // photosynthesis // inferred from electronic annotation /// 0015995 // chlorophyll biosynthetic process // inferred from electronic annotation /// 0032201 // telomere maintenance via semi-conservative replication // traceable author statement', '0000902 // cell morphogenesis // inferred from electronic annotation /// 0006200 // ATP catabolic process // inferred from direct assay /// 0006950 // response to stress // inferred from electronic annotation /// 0006986 // response to unfolded protein // traceable author statement /// 0034605 // cellular response to heat // inferred from direct assay /// 0042026 // protein refolding // inferred from direct assay /// 0070370 // cellular heat acclimation // inferred from mutant phenotype', '0001655 // urogenital system development // inferred from sequence or structural similarity /// 0001656 // metanephros development // inferred from electronic annotation /// 0001658 // branching involved in ureteric bud morphogenesis // inferred from expression pattern /// 0001822 // kidney development // inferred from expression pattern /// 0001823 // mesonephros development // inferred from sequence or structural similarity /// 0003337 // mesenchymal to epithelial transition involved in metanephros morphogenesis // inferred from expression pattern /// 0006351 // transcription, DNA-templated // inferred from direct assay /// 0006355 // regulation of transcription, DNA-templated // inferred from electronic annotation /// 0007275 // multicellular organismal development // inferred from electronic annotation /// 0007417 // central nervous system development // inferred from expression pattern /// 0009653 // anatomical structure morphogenesis // traceable author statement /// 0030154 // cell differentiation // inferred from electronic annotation /// 0030878 // thyroid gland development // inferred from expression pattern /// 0030878 // thyroid gland development // inferred from mutant phenotype /// 0038194 // thyroid-stimulating hormone signaling pathway // traceable author statement /// 0039003 // pronephric field specification // inferred from sequence or structural similarity /// 0042472 // inner ear morphogenesis // inferred from sequence or structural similarity /// 0042981 // regulation of apoptotic process // inferred from sequence or structural similarity /// 0045893 // positive regulation of transcription, DNA-templated // inferred from direct assay /// 0045893 // positive regulation of transcription, DNA-templated // inferred from sequence or structural similarity /// 0045944 // positive regulation of transcription from RNA polymerase II promoter // inferred from direct assay /// 0048793 // pronephros development // inferred from sequence or structural similarity /// 0071371 // cellular response to gonadotropin stimulus // inferred from direct assay /// 0071599 // otic vesicle development // inferred from expression pattern /// 0072050 // S-shaped body morphogenesis // inferred from electronic annotation /// 0072073 // kidney epithelium development // inferred from electronic annotation /// 0072108 // positive regulation of mesenchymal to epithelial transition involved in metanephros morphogenesis // inferred from sequence or structural similarity /// 0072164 // mesonephric tubule development // inferred from electronic annotation /// 0072207 // metanephric epithelium development // inferred from expression pattern /// 0072221 // metanephric distal convoluted tubule development // inferred from sequence or structural similarity /// 0072278 // metanephric comma-shaped body morphogenesis // inferred from expression pattern /// 0072284 // metanephric S-shaped body morphogenesis // inferred from expression pattern /// 0072289 // metanephric nephron tubule formation // inferred from sequence or structural similarity /// 0072305 // negative regulation of mesenchymal cell apoptotic process involved in metanephric nephron morphogenesis // inferred from sequence or structural similarity /// 0072307 // regulation of metanephric nephron tubule epithelial cell differentiation // inferred from sequence or structural similarity /// 0090190 // positive regulation of branching involved in ureteric bud morphogenesis // inferred from sequence or structural similarity /// 1900212 // negative regulation of mesenchymal cell apoptotic process involved in metanephros development // inferred from sequence or structural similarity /// 1900215 // negative regulation of apoptotic process involved in metanephric collecting duct development // inferred from sequence or structural similarity /// 1900218 // negative regulation of apoptotic process involved in metanephric nephron tubule development // inferred from sequence or structural similarity /// 2000594 // positive regulation of metanephric DCT cell differentiation // inferred from sequence or structural similarity /// 2000611 // positive regulation of thyroid hormone generation // inferred from mutant phenotype /// 2000612 // regulation of thyroid-stimulating hormone secretion // inferred from mutant phenotype', '0007165 // signal transduction // non-traceable author statement /// 0007601 // visual perception // inferred from electronic annotation /// 0007602 // phototransduction // inferred from electronic annotation /// 0007603 // phototransduction, visible light // traceable author statement /// 0016056 // rhodopsin mediated signaling pathway // traceable author statement /// 0022400 // regulation of rhodopsin mediated signaling pathway // traceable author statement /// 0030828 // positive regulation of cGMP biosynthetic process // inferred from electronic annotation /// 0031282 // regulation of guanylate cyclase activity // inferred from electronic annotation /// 0031284 // positive regulation of guanylate cyclase activity // inferred from electronic annotation /// 0050896 // response to stimulus // inferred from electronic annotation'], 'Gene Ontology Cellular Component': ['0005576 // extracellular region // inferred from electronic annotation /// 0005615 // extracellular space // inferred from direct assay /// 0005886 // plasma membrane // traceable author statement /// 0005887 // integral component of plasma membrane // traceable author statement /// 0016020 // membrane // inferred from electronic annotation /// 0016021 // integral component of membrane // inferred from electronic annotation /// 0043235 // receptor complex // inferred from direct assay /// 0070062 // extracellular vesicular exosome // inferred from direct assay', '0005634 // nucleus // inferred from electronic annotation /// 0005654 // nucleoplasm // traceable author statement /// 0005663 // DNA replication factor C complex // inferred from direct assay', '0005737 // cytoplasm // inferred from direct assay /// 0005814 // centriole // inferred from direct assay /// 0005829 // cytosol // inferred from direct assay /// 0008180 // COP9 signalosome // inferred from direct assay /// 0070062 // extracellular vesicular exosome // inferred from direct assay /// 0072562 // blood microparticle // inferred from direct assay', '0005634 // nucleus // inferred from direct assay /// 0005654 // nucleoplasm // inferred from sequence or structural similarity /// 0005730 // nucleolus // inferred from direct assay', '0001750 // photoreceptor outer segment // inferred from electronic annotation /// 0001917 // photoreceptor inner segment // inferred from electronic annotation /// 0005578 // proteinaceous extracellular matrix // inferred from electronic annotation /// 0005886 // plasma membrane // inferred from direct assay /// 0016020 // membrane // inferred from electronic annotation /// 0097381 // photoreceptor disc membrane // traceable author statement'], 'Gene Ontology Molecular Function': ['0000166 // nucleotide binding // inferred from electronic annotation /// 0004672 // protein kinase activity // inferred from electronic annotation /// 0004713 // protein tyrosine kinase activity // inferred from electronic annotation /// 0004714 // transmembrane receptor protein tyrosine kinase activity // traceable author statement /// 0005515 // protein binding // inferred from physical interaction /// 0005518 // collagen binding // inferred from direct assay /// 0005518 // collagen binding // inferred from mutant phenotype /// 0005524 // ATP binding // inferred from electronic annotation /// 0016301 // kinase activity // inferred from electronic annotation /// 0016740 // transferase activity // inferred from electronic annotation /// 0016772 // transferase activity, transferring phosphorus-containing groups // inferred from electronic annotation /// 0038062 // protein tyrosine kinase collagen receptor activity // inferred from direct assay /// 0046872 // metal ion binding // inferred from electronic annotation', '0000166 // nucleotide binding // inferred from electronic annotation /// 0003677 // DNA binding // inferred from electronic annotation /// 0005515 // protein binding // inferred from physical interaction /// 0005524 // ATP binding // inferred from electronic annotation /// 0016851 // magnesium chelatase activity // inferred from electronic annotation /// 0017111 // nucleoside-triphosphatase activity // inferred from electronic annotation', '0000166 // nucleotide binding // inferred from electronic annotation /// 0005524 // ATP binding // inferred from electronic annotation /// 0019899 // enzyme binding // inferred from physical interaction /// 0031072 // heat shock protein binding // inferred from physical interaction /// 0042623 // ATPase activity, coupled // inferred from direct assay /// 0051082 // unfolded protein binding // inferred from direct assay', '0000979 // RNA polymerase II core promoter sequence-specific DNA binding // inferred from direct assay /// 0003677 // DNA binding // inferred from direct assay /// 0003677 // DNA binding // inferred from mutant phenotype /// 0003700 // sequence-specific DNA binding transcription factor activity // inferred from direct assay /// 0004996 // thyroid-stimulating hormone receptor activity // traceable author statement /// 0005515 // protein binding // inferred from physical interaction /// 0044212 // transcription regulatory region DNA binding // inferred from direct assay', '0005509 // calcium ion binding // inferred from electronic annotation /// 0008048 // calcium sensitive guanylate cyclase activator activity // inferred from electronic annotation /// 0030249 // guanylate cyclase regulator activity // inferred from electronic annotation /// 0046872 // metal ion binding // inferred from electronic annotation']}\n",
      "\n",
      "Searching for platform information in SOFT file:\n",
      "!Series_platform_id = GPL570\n",
      "\n",
      "Searching for gene symbol information in SOFT file:\n",
      "Found references to gene symbols:\n",
      "!Platform_relation = Alternative to: GPL19918 (Gene symbol version, 10K)\n",
      "!Platform_relation = Alternative to: GPL20182 (Gene Symbol Version)\n",
      "#Gene Symbol = A gene symbol, when one is available (from UniGene).\n",
      "ID\tGB_ACC\tSPOT_ID\tSpecies Scientific Name\tAnnotation Date\tSequence Type\tSequence Source\tTarget Description\tRepresentative Public ID\tGene Title\tGene Symbol\tENTREZ_GENE_ID\tRefSeq Transcript ID\tGene Ontology Biological Process\tGene Ontology Cellular Component\tGene Ontology Molecular Function\n",
      "\n",
      "Checking for additional annotation files in the directory:\n",
      "[]\n"
     ]
    }
   ],
   "source": [
    "# 1. Use the 'get_gene_annotation' function from the library to get gene annotation data from the SOFT file.\n",
    "gene_annotation = get_gene_annotation(soft_file)\n",
    "\n",
    "# 2. Analyze the gene annotation dataframe to identify which columns contain the gene identifiers and gene symbols\n",
    "print(\"\\nGene annotation preview:\")\n",
    "print(f\"Columns in gene annotation: {gene_annotation.columns.tolist()}\")\n",
    "print(preview_df(gene_annotation, n=5))\n",
    "\n",
    "# Let's look for platform information in the SOFT file to understand the annotation better\n",
    "print(\"\\nSearching for platform information in SOFT file:\")\n",
    "with gzip.open(soft_file, 'rt') as f:\n",
    "    for i, line in enumerate(f):\n",
    "        if '!Series_platform_id' in line:\n",
    "            print(line.strip())\n",
    "            break\n",
    "        if i > 100:  # Limit search to first 100 lines\n",
    "            print(\"Platform ID not found in first 100 lines\")\n",
    "            break\n",
    "\n",
    "# Check if the SOFT file includes any reference to gene symbols\n",
    "print(\"\\nSearching for gene symbol information in SOFT file:\")\n",
    "with gzip.open(soft_file, 'rt') as f:\n",
    "    gene_symbol_lines = []\n",
    "    for i, line in enumerate(f):\n",
    "        if 'GENE_SYMBOL' in line or 'gene_symbol' in line.lower() or 'symbol' in line.lower():\n",
    "            gene_symbol_lines.append(line.strip())\n",
    "        if i > 1000 and len(gene_symbol_lines) > 0:  # Limit search but ensure we found something\n",
    "            break\n",
    "    \n",
    "    if gene_symbol_lines:\n",
    "        print(\"Found references to gene symbols:\")\n",
    "        for line in gene_symbol_lines[:5]:  # Show just first 5 matches\n",
    "            print(line)\n",
    "    else:\n",
    "        print(\"No explicit gene symbol references found in first 1000 lines\")\n",
    "\n",
    "# Look for alternative annotation files or references in the directory\n",
    "print(\"\\nChecking for additional annotation files in the directory:\")\n",
    "all_files = os.listdir(in_cohort_dir)\n",
    "print([f for f in all_files if 'annotation' in f.lower() or 'platform' in f.lower() or 'gpl' in f.lower()])\n"
   ]
  },
  {
   "cell_type": "markdown",
   "id": "bef01a40",
   "metadata": {},
   "source": [
    "### Step 6: Gene Identifier Mapping"
   ]
  },
  {
   "cell_type": "code",
   "execution_count": 7,
   "id": "c517dc0b",
   "metadata": {
    "execution": {
     "iopub.execute_input": "2025-03-25T06:00:27.975588Z",
     "iopub.status.busy": "2025-03-25T06:00:27.975464Z",
     "iopub.status.idle": "2025-03-25T06:00:28.567080Z",
     "shell.execute_reply": "2025-03-25T06:00:28.566526Z"
    }
   },
   "outputs": [
    {
     "name": "stdout",
     "output_type": "stream",
     "text": [
      "Gene mapping dataframe shape: (45782, 2)\n",
      "Sample of mapping data:\n",
      "          ID              Gene\n",
      "0  1007_s_at  DDR1 /// MIR4640\n",
      "1    1053_at              RFC2\n",
      "2     117_at             HSPA6\n",
      "3     121_at              PAX8\n",
      "4  1255_g_at            GUCA1A\n",
      "Converted gene expression data shape: (21278, 30)\n",
      "First 5 genes and their expression values:\n",
      "          GSM2460692  GSM2460693  GSM2460694  GSM2460695  GSM2460696  \\\n",
      "Gene                                                                   \n",
      "A1BG        0.003618   -0.234991   -0.027722    0.366942    0.245110   \n",
      "A1BG-AS1   -0.247791   -0.692595   -0.120352    0.292251    0.000284   \n",
      "A1CF       -0.106579   -1.037735   -0.575760   -0.453761   -0.176319   \n",
      "A2M        -1.141026   -0.091595    0.088030   -0.307626    0.513546   \n",
      "A2M-AS1    -1.137488    0.337934    0.031662   -0.573664    0.683518   \n",
      "\n",
      "          GSM2460733  GSM2460734  GSM2460735  GSM2460736  GSM2460737  ...  \\\n",
      "Gene                                                                  ...   \n",
      "A1BG        0.371366   -0.220693   -0.419188   -0.247535   -0.174090  ...   \n",
      "A1BG-AS1    0.356121   -0.168258    0.231900   -0.060650   -0.314335  ...   \n",
      "A1CF        0.266601   -0.019817   -0.378369   -0.134711    0.275717  ...   \n",
      "A2M         0.832096   -0.020062   -0.042206    0.186832   -0.467063  ...   \n",
      "A2M-AS1    -0.812949   -0.248500   -0.254008   -0.014274    0.445216  ...   \n",
      "\n",
      "          GSM2460748  GSM2460749  GSM2460750  GSM2460751  GSM2460752  \\\n",
      "Gene                                                                   \n",
      "A1BG       -0.165421   -0.003618    0.029210   -0.206305    0.080625   \n",
      "A1BG-AS1   -0.066240    0.011301   -0.098852    0.178460    0.011195   \n",
      "A1CF        0.166017    0.384190    0.098331    0.115542   -0.150232   \n",
      "A2M        -0.138949    0.477576    0.916314    0.376301    0.478266   \n",
      "A2M-AS1    -1.061136    0.026274   -0.086657    0.304242   -0.580935   \n",
      "\n",
      "          GSM2460753  GSM2460754  GSM2460755  GSM2460756  GSM2460757  \n",
      "Gene                                                                  \n",
      "A1BG       -0.269885   -0.091815    0.032743    0.065563   -0.181475  \n",
      "A1BG-AS1   -0.197281    0.068827   -0.254663    0.247795   -0.091089  \n",
      "A1CF       -0.167049    0.407760    0.409122    0.044021   -0.071219  \n",
      "A2M        -0.052728   -0.982840    0.437060    0.698349    0.446900  \n",
      "A2M-AS1     0.675681    0.562110   -0.040205    0.026521    0.220476  \n",
      "\n",
      "[5 rows x 30 columns]\n"
     ]
    },
    {
     "name": "stdout",
     "output_type": "stream",
     "text": [
      "Gene expression data saved to ../../output/preprocess/Osteoarthritis/gene_data/GSE93698.csv\n"
     ]
    }
   ],
   "source": [
    "# 1. Identify the columns in gene_annotation that contain probe IDs and gene symbols\n",
    "# From the gene annotation preview, we can see:\n",
    "# - 'ID' column contains the probe IDs (same as in gene_data.index)\n",
    "# - 'Gene Symbol' column contains the gene symbols\n",
    "\n",
    "# 2. Get gene mapping dataframe with the probe ID and gene symbol columns\n",
    "mapping_df = get_gene_mapping(gene_annotation, prob_col='ID', gene_col='Gene Symbol')\n",
    "print(f\"Gene mapping dataframe shape: {mapping_df.shape}\")\n",
    "print(\"Sample of mapping data:\")\n",
    "print(mapping_df.head())\n",
    "\n",
    "# 3. Apply gene mapping to convert probe-level measurements to gene expression data\n",
    "gene_data = apply_gene_mapping(gene_data, mapping_df)\n",
    "print(f\"Converted gene expression data shape: {gene_data.shape}\")\n",
    "print(\"First 5 genes and their expression values:\")\n",
    "print(gene_data.head())\n",
    "\n",
    "# Save the gene expression data\n",
    "os.makedirs(os.path.dirname(out_gene_data_file), exist_ok=True)\n",
    "gene_data.to_csv(out_gene_data_file)\n",
    "print(f\"Gene expression data saved to {out_gene_data_file}\")\n"
   ]
  },
  {
   "cell_type": "markdown",
   "id": "c8bb38de",
   "metadata": {},
   "source": [
    "### Step 7: Data Normalization and Linking"
   ]
  },
  {
   "cell_type": "code",
   "execution_count": 8,
   "id": "56188853",
   "metadata": {
    "execution": {
     "iopub.execute_input": "2025-03-25T06:00:28.569144Z",
     "iopub.status.busy": "2025-03-25T06:00:28.569015Z",
     "iopub.status.idle": "2025-03-25T06:00:36.665452Z",
     "shell.execute_reply": "2025-03-25T06:00:36.664829Z"
    }
   },
   "outputs": [
    {
     "name": "stdout",
     "output_type": "stream",
     "text": [
      "Normalized gene data shape: (19845, 30)\n"
     ]
    },
    {
     "name": "stdout",
     "output_type": "stream",
     "text": [
      "Normalized gene expression data saved to ../../output/preprocess/Osteoarthritis/gene_data/GSE93698.csv\n",
      "Clinical data shape: (3, 30)\n",
      "Clinical data preview: {'GSM2460692': [0.0, nan, nan], 'GSM2460693': [0.0, nan, nan], 'GSM2460694': [0.0, nan, nan], 'GSM2460695': [0.0, nan, nan], 'GSM2460696': [0.0, nan, nan], 'GSM2460733': [1.0, 71.0, 0.0], 'GSM2460734': [1.0, 73.0, 0.0], 'GSM2460735': [1.0, 65.0, 0.0], 'GSM2460736': [1.0, 51.0, 0.0], 'GSM2460737': [1.0, 56.0, 1.0], 'GSM2460738': [0.0, 52.0, 1.0], 'GSM2460739': [0.0, 42.0, 1.0], 'GSM2460740': [0.0, 43.0, 0.0], 'GSM2460741': [0.0, 69.0, 1.0], 'GSM2460742': [0.0, 55.0, 1.0], 'GSM2460743': [0.0, 62.0, 1.0], 'GSM2460744': [0.0, 37.0, 0.0], 'GSM2460745': [0.0, 38.0, 0.0], 'GSM2460746': [0.0, 19.0, 0.0], 'GSM2460747': [0.0, 40.0, 0.0], 'GSM2460748': [0.0, 31.0, 0.0], 'GSM2460749': [0.0, 45.0, 1.0], 'GSM2460750': [0.0, 55.0, 1.0], 'GSM2460751': [0.0, 72.0, 1.0], 'GSM2460752': [0.0, 42.0, 1.0], 'GSM2460753': [0.0, 72.0, 0.0], 'GSM2460754': [0.0, 28.0, 0.0], 'GSM2460755': [0.0, 39.0, 0.0], 'GSM2460756': [0.0, 47.0, 1.0], 'GSM2460757': [0.0, 21.0, 1.0]}\n",
      "Linked data shape before handling missing values: (30, 19848)\n"
     ]
    },
    {
     "name": "stdout",
     "output_type": "stream",
     "text": [
      "Linked data shape after handling missing values: (30, 19848)\n",
      "For the feature 'Osteoarthritis', the least common label is '1.0' with 5 occurrences. This represents 16.67% of the dataset.\n",
      "The distribution of the feature 'Osteoarthritis' in this dataset is fine.\n",
      "\n",
      "Quartiles for 'Age':\n",
      "  25%: 40.5\n",
      "  50% (Median): 49.0\n",
      "  75%: 55.75\n",
      "Min: 19.0\n",
      "Max: 73.0\n",
      "The distribution of the feature 'Age' in this dataset is fine.\n",
      "\n",
      "For the feature 'Gender', the least common label is '1.0' with 12 occurrences. This represents 40.00% of the dataset.\n",
      "The distribution of the feature 'Gender' in this dataset is fine.\n",
      "\n"
     ]
    },
    {
     "name": "stdout",
     "output_type": "stream",
     "text": [
      "Linked data saved to ../../output/preprocess/Osteoarthritis/GSE93698.csv\n"
     ]
    }
   ],
   "source": [
    "# 1. Normalize gene symbols in the gene expression data\n",
    "gene_data = normalize_gene_symbols_in_index(gene_data)\n",
    "print(f\"Normalized gene data shape: {gene_data.shape}\")\n",
    "\n",
    "# Save the normalized gene expression data\n",
    "os.makedirs(os.path.dirname(out_gene_data_file), exist_ok=True)\n",
    "gene_data.to_csv(out_gene_data_file)\n",
    "print(f\"Normalized gene expression data saved to {out_gene_data_file}\")\n",
    "\n",
    "# 2. Load clinical features data if needed\n",
    "# First check if we already have the clinical features from previous steps\n",
    "if not os.path.exists(out_clinical_data_file):\n",
    "    # If not, extract it again from the matrix file\n",
    "    background_info, clinical_data = get_background_and_clinical_data(matrix_file)\n",
    "    \n",
    "    # Extract clinical features using the conversion functions from Step 2\n",
    "    selected_clinical_df = geo_select_clinical_features(\n",
    "        clinical_df=clinical_data,\n",
    "        trait=trait,\n",
    "        trait_row=trait_row,\n",
    "        convert_trait=convert_trait,\n",
    "        age_row=age_row,\n",
    "        convert_age=convert_age,\n",
    "        gender_row=gender_row,\n",
    "        convert_gender=convert_gender\n",
    "    )\n",
    "    \n",
    "    # Save the clinical features\n",
    "    os.makedirs(os.path.dirname(out_clinical_data_file), exist_ok=True)\n",
    "    selected_clinical_df.to_csv(out_clinical_data_file)\n",
    "else:\n",
    "    # Load previously saved clinical data\n",
    "    selected_clinical_df = pd.read_csv(out_clinical_data_file, index_col=0)\n",
    "\n",
    "print(\"Clinical data shape:\", selected_clinical_df.shape)\n",
    "print(\"Clinical data preview:\", preview_df(selected_clinical_df))\n",
    "\n",
    "# 3. Link clinical and genetic data\n",
    "linked_data = geo_link_clinical_genetic_data(selected_clinical_df, gene_data)\n",
    "print(f\"Linked data shape before handling missing values: {linked_data.shape}\")\n",
    "\n",
    "# 4. Handle missing values\n",
    "linked_data = handle_missing_values(linked_data, trait)\n",
    "print(f\"Linked data shape after handling missing values: {linked_data.shape}\")\n",
    "\n",
    "# 5. Evaluate bias in trait and demographic features\n",
    "is_biased, linked_data = judge_and_remove_biased_features(linked_data, trait)\n",
    "\n",
    "# 6. Conduct final quality validation\n",
    "note = \"Dataset contains gene expression data from synovial and tenosynovial biopsies, including patients with Osteoarthritis.\"\n",
    "is_usable = validate_and_save_cohort_info(\n",
    "    is_final=True,\n",
    "    cohort=cohort,\n",
    "    info_path=json_path,\n",
    "    is_gene_available=True,\n",
    "    is_trait_available=(linked_data.shape[0] > 0),\n",
    "    is_biased=is_biased,\n",
    "    df=linked_data,\n",
    "    note=note\n",
    ")\n",
    "\n",
    "# 7. Save linked data if usable\n",
    "if is_usable:\n",
    "    os.makedirs(os.path.dirname(out_data_file), exist_ok=True)\n",
    "    linked_data.to_csv(out_data_file)\n",
    "    print(f\"Linked data saved to {out_data_file}\")\n",
    "else:\n",
    "    print(\"Dataset deemed not usable due to quality issues - linked data not saved\")"
   ]
  }
 ],
 "metadata": {
  "language_info": {
   "codemirror_mode": {
    "name": "ipython",
    "version": 3
   },
   "file_extension": ".py",
   "mimetype": "text/x-python",
   "name": "python",
   "nbconvert_exporter": "python",
   "pygments_lexer": "ipython3",
   "version": "3.10.16"
  }
 },
 "nbformat": 4,
 "nbformat_minor": 5
}
