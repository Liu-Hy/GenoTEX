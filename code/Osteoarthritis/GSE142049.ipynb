{
 "cells": [
  {
   "cell_type": "code",
   "execution_count": 1,
   "id": "7865fe52",
   "metadata": {
    "execution": {
     "iopub.execute_input": "2024-06-12T08:55:19.771594Z",
     "iopub.status.busy": "2024-06-12T08:55:19.771429Z",
     "iopub.status.idle": "2024-06-12T08:55:19.778004Z",
     "shell.execute_reply": "2024-06-12T08:55:19.777735Z"
    }
   },
   "outputs": [],
   "source": [
    "\n",
    "import sys\n",
    "sys.path.append('/home/techt/Desktop/a4s')\n"
   ]
  },
  {
   "cell_type": "markdown",
   "id": "50c6a1e7",
   "metadata": {},
   "source": [
    "### Step 1: Initial Data Loading"
   ]
  },
  {
   "cell_type": "code",
   "execution_count": 2,
   "id": "0f5a96a3",
   "metadata": {
    "execution": {
     "iopub.execute_input": "2024-06-12T08:55:19.780032Z",
     "iopub.status.busy": "2024-06-12T08:55:19.779937Z",
     "iopub.status.idle": "2024-06-12T08:55:20.063116Z",
     "shell.execute_reply": "2024-06-12T08:55:20.062652Z"
    }
   },
   "outputs": [
    {
     "name": "stdout",
     "output_type": "stream",
     "text": [
      "Background Information:\n",
      "!Series_title\t\"Transcriptional data of inflamatory arthritis B cells\"\n",
      "!Series_summary\t\"With a focus on rheumatoid arthritis (RA), we sought new insight into genetic mechanisms of adaptive immune dysregulation to help prioritise molecular pathways for targeting in this and related immune pathologies. Whole genome methylation and transcriptional data from isolated CD4+ T cells and B cells of >100 genotyped and phenotyped inflammatory arthritis patients, all of whom were naïve to immunomodulatory treatments, were obtained. Analysis integrated these comprehensive data with GWAS findings across IMDs and other publically available resources.\"\n",
      "!Series_overall_design\t\"Suspected inflammatory arthritis patients of Northern European ancestry were recruited prior to treatment with immunomodulatory drugs. RA patients were classified using current, internationally accepted criteria, and matched with disease controls in respect of demographic and clinical characteristics. CD19+ B cells were isolated from fresh peripheral blood using magnetic bead-based positive selection, with isolation of paired, high-integrity RNA and DNA using the AllPrep DNA/RNA Mini Kit (Qiagen, UK). The majority of samples are from GSE100648.\"\n",
      "Sample Characteristics Dictionary:\n",
      "{0: ['patient: 2367', 'patient: 2390', 'patient: 2368', 'patient: 2437', 'patient: 2439', 'patient: 2379', 'patient: 1010', 'patient: 841', 'patient: 926', 'patient: 948', 'patient: 898', 'patient: 980', 'patient: 2145', 'patient: 2036', 'patient: 2040', 'patient: 2029', 'patient: 2044', 'patient: 2030', 'patient: 2045', 'patient: 2231', 'patient: 2257', 'patient: 2233', 'patient: 2261', 'patient: 1070', 'patient: 1054', 'patient: 1072', 'patient: 1076', 'patient: 1080', 'patient: 1083', 'patient: 2047'], 1: ['gender: M', 'gender: F'], 2: ['age: 82', 'age: 29', 'age: 61', 'age: 56', 'age: 55', 'age: 72', 'age: 50', 'age: 22', 'age: 53', 'age: 54', 'age: 20', 'age: 49', 'age: 59', 'age: 57', 'age: 35', 'age: 58', 'age: 69', 'age: 46', 'age: 66', 'age: 52', 'age: 63', 'age: 51', 'age: 60', 'age: 92', 'age: 65', 'age: 73', 'age: 43', 'age: 67', 'age: 27', 'age: 32'], 3: ['tissue: peripheral blood'], 4: ['cell type: CD19+ B cells'], 5: ['first_diagnosis: Undifferentiated Spondylo-Arthropathy', 'first_diagnosis: Other Inflammatory Arthritis', 'first_diagnosis: Undifferentiated Inflammatory Arthritis', 'first_diagnosis: Rheumatoid Arthritis', 'first_diagnosis: Crystal Arthritis', 'first_diagnosis: Enteropathic Arthritis', 'first_diagnosis: Osteoarthritis', 'first_diagnosis: Psoriatic Arthritis', 'first_diagnosis: Reactive Arthritis', 'first_diagnosis: Non-Inflammatory'], 6: ['working_diagnosis: Undifferentiated Spondylo-Arthropathy', 'working_diagnosis: Other Inflammatory Arthritis', 'working_diagnosis: Rheumatoid Arthritis', 'working_diagnosis: Reactive Arthritis', 'working_diagnosis: Enteropathic Arthritis', 'working_diagnosis: Psoriatic Arthritis', 'working_diagnosis: Osteoarthritis', 'working_diagnosis: Crystal Arthritis', 'working_diagnosis: Non-Inflammatory', 'working_diagnosis: Undifferentiated Inflammatory Arthritis', 'working_diagnosis: Lupus/Other CTD-Associated']}\n"
     ]
    }
   ],
   "source": [
    "from utils.preprocess import *\n",
    "# 1. Identify the paths to the soft file and the matrix file\n",
    "cohort_dir = '/media/techt/DATA/GEO/Osteoarthritis/GSE142049'\n",
    "soft_file, matrix_file = geo_get_relevant_filepaths(cohort_dir)\n",
    "\n",
    "# 2. Read the matrix file to obtain background information and sample characteristics data\n",
    "background_prefixes = ['!Series_title', '!Series_summary', '!Series_overall_design']\n",
    "clinical_prefixes = ['!Sample_geo_accession', '!Sample_characteristics_ch1']\n",
    "background_info, clinical_data = get_background_and_clinical_data(matrix_file, background_prefixes, clinical_prefixes)\n",
    "\n",
    "# 3. Obtain the sample characteristics dictionary from the clinical dataframe\n",
    "sample_characteristics_dict = get_unique_values_by_row(clinical_data)\n",
    "\n",
    "# 4. Explicitly print out all the background information and the sample characteristics dictionary\n",
    "print(\"Background Information:\")\n",
    "print(background_info)\n",
    "print(\"Sample Characteristics Dictionary:\")\n",
    "print(sample_characteristics_dict)\n"
   ]
  },
  {
   "cell_type": "markdown",
   "id": "fff5adf1",
   "metadata": {},
   "source": [
    "### Step 2: Dataset Analysis and Clinical Feature Extraction"
   ]
  },
  {
   "cell_type": "code",
   "execution_count": 3,
   "id": "a3bde5a5",
   "metadata": {
    "execution": {
     "iopub.execute_input": "2024-06-12T08:55:20.065150Z",
     "iopub.status.busy": "2024-06-12T08:55:20.064982Z",
     "iopub.status.idle": "2024-06-12T08:55:20.089252Z",
     "shell.execute_reply": "2024-06-12T08:55:20.088943Z"
    }
   },
   "outputs": [
    {
     "name": "stdout",
     "output_type": "stream",
     "text": [
      "{'GSM4218229': [0.0, 82.0, 1.0], 'GSM4218230': [0.0, 29.0, 1.0], 'GSM4218231': [0.0, 61.0, 0.0], 'GSM4218232': [0.0, 56.0, 1.0], 'GSM4218233': [0.0, 55.0, 0.0], 'GSM4218234': [0.0, 72.0, 1.0], 'GSM4218235': [0.0, 50.0, 0.0], 'GSM4218236': [0.0, 22.0, 1.0], 'GSM4218237': [0.0, 61.0, 1.0], 'GSM4218238': [0.0, 53.0, 0.0], 'GSM4218239': [0.0, 54.0, 0.0], 'GSM4218240': [0.0, 20.0, 0.0], 'GSM4218241': [0.0, 49.0, 0.0], 'GSM4218242': [0.0, 61.0, 1.0], 'GSM4218243': [1.0, 53.0, 0.0], 'GSM4218244': [0.0, 59.0, 1.0], 'GSM4218245': [0.0, 56.0, 0.0], 'GSM4218246': [0.0, 57.0, 1.0], 'GSM4218247': [0.0, 55.0, 1.0], 'GSM4218248': [0.0, 56.0, 0.0], 'GSM4218249': [0.0, 35.0, 0.0], 'GSM4218250': [0.0, 58.0, 0.0], 'GSM4218251': [0.0, 69.0, 1.0], 'GSM4218252': [0.0, 46.0, 0.0], 'GSM4218253': [1.0, 57.0, 0.0], 'GSM4218254': [0.0, 50.0, 0.0], 'GSM4218255': [0.0, 66.0, 0.0], 'GSM4218256': [0.0, 52.0, 0.0], 'GSM4218257': [0.0, 63.0, 0.0], 'GSM4218258': [0.0, 51.0, 1.0], 'GSM4218259': [0.0, 50.0, 0.0], 'GSM4218260': [0.0, 66.0, 1.0], 'GSM4218261': [0.0, 58.0, 0.0], 'GSM4218262': [0.0, 60.0, 1.0], 'GSM4218263': [0.0, 92.0, 1.0], 'GSM4218264': [0.0, 65.0, 1.0], 'GSM4218265': [0.0, 60.0, 0.0], 'GSM4218266': [1.0, 57.0, 1.0], 'GSM4218267': [0.0, 73.0, 0.0], 'GSM4218268': [0.0, 43.0, 0.0], 'GSM4218269': [0.0, 55.0, 1.0], 'GSM4218270': [0.0, 46.0, 0.0], 'GSM4218271': [0.0, 54.0, 0.0], 'GSM4218272': [0.0, 63.0, 0.0], 'GSM4218273': [0.0, 61.0, 1.0], 'GSM4218274': [0.0, 56.0, 0.0], 'GSM4218275': [0.0, 67.0, 0.0], 'GSM4218276': [0.0, 27.0, 0.0], 'GSM4218277': [0.0, 73.0, 0.0], 'GSM4218278': [0.0, 32.0, 0.0], 'GSM4218279': [0.0, 54.0, 0.0], 'GSM4218280': [0.0, 61.0, 1.0], 'GSM4218281': [0.0, 22.0, 0.0], 'GSM4218282': [0.0, 52.0, 0.0], 'GSM4218283': [0.0, 51.0, 0.0], 'GSM4218284': [0.0, 53.0, 0.0], 'GSM4218285': [0.0, 70.0, 0.0], 'GSM4218286': [0.0, 56.0, 0.0], 'GSM4218287': [0.0, 40.0, 0.0], 'GSM4218288': [0.0, 59.0, 0.0], 'GSM4218289': [0.0, 62.0, 1.0], 'GSM4218290': [0.0, 32.0, 0.0], 'GSM4218291': [0.0, 82.0, 0.0], 'GSM4218292': [0.0, 45.0, 0.0], 'GSM4218293': [0.0, 69.0, 0.0], 'GSM4218294': [0.0, 57.0, 1.0], 'GSM4218295': [0.0, 79.0, 1.0], 'GSM4218296': [0.0, 65.0, 1.0], 'GSM4218297': [0.0, 68.0, 0.0], 'GSM4218298': [0.0, 43.0, 0.0], 'GSM4218299': [0.0, 57.0, 0.0], 'GSM4218300': [0.0, 81.0, 0.0], 'GSM4218301': [0.0, 50.0, 0.0], 'GSM4218302': [0.0, 57.0, 0.0], 'GSM4218303': [0.0, 45.0, 0.0], 'GSM4218304': [0.0, 47.0, 0.0], 'GSM4218305': [0.0, 70.0, 0.0], 'GSM4218306': [0.0, 74.0, 1.0], 'GSM4218307': [0.0, 26.0, 0.0], 'GSM4218308': [0.0, 38.0, 0.0], 'GSM4218309': [0.0, 74.0, 0.0], 'GSM4218310': [0.0, 45.0, 1.0], 'GSM4218311': [0.0, 50.0, 0.0], 'GSM4218312': [0.0, 51.0, 1.0], 'GSM4218313': [0.0, 53.0, 0.0], 'GSM4218314': [0.0, 69.0, 0.0], 'GSM4218315': [0.0, 71.0, 1.0], 'GSM4218316': [0.0, 82.0, 1.0], 'GSM4218317': [0.0, 39.0, 0.0], 'GSM4218318': [0.0, 51.0, 0.0], 'GSM4218319': [0.0, 43.0, 0.0], 'GSM4218320': [0.0, 69.0, 0.0], 'GSM4218321': [0.0, 79.0, 0.0], 'GSM4218322': [1.0, 52.0, 0.0], 'GSM4218323': [0.0, 53.0, 0.0], 'GSM4218324': [1.0, 38.0, 0.0], 'GSM4218325': [0.0, 41.0, 0.0], 'GSM4218326': [0.0, 50.0, 0.0], 'GSM4218327': [0.0, 77.0, 0.0], 'GSM4218328': [0.0, 62.0, 0.0], 'GSM4218329': [0.0, 50.0, 0.0], 'GSM4218330': [0.0, 54.0, 0.0], 'GSM4218331': [0.0, 43.0, 1.0], 'GSM4218332': [0.0, 62.0, 0.0], 'GSM4218333': [0.0, 70.0, 1.0], 'GSM4218334': [0.0, 68.0, 0.0], 'GSM4218335': [0.0, 63.0, 0.0], 'GSM4218336': [1.0, 56.0, 1.0], 'GSM4218337': [0.0, 74.0, 0.0], 'GSM4218338': [0.0, 46.0, 0.0], 'GSM4218339': [0.0, 44.0, 0.0], 'GSM4218340': [0.0, 56.0, 0.0], 'GSM4218341': [0.0, 68.0, 0.0], 'GSM4218342': [0.0, 57.0, 0.0]}\n"
     ]
    }
   ],
   "source": [
    "is_gene_available = False\n",
    "trait_row = age_row = gender_row = None  # set to different values when applicable\n",
    "convert_trait = convert_age = convert_gender = None  # define the functions when applicable\n",
    "\n",
    "# Check gene expression data availability\n",
    "is_gene_available = True  # Based on information, it mentions transcriptional data\n",
    "\n",
    "# Identify the rows for the variables\n",
    "trait_row = 6  # Based on the dictionary, 'working_diagnosis' contains 'Osteoarthritis'\n",
    "age_row = 2  # The dictionary contains an 'age' field\n",
    "gender_row = 1  # The dictionary contains a 'gender' field\n",
    "\n",
    "# Define the conversion functions\n",
    "def convert_trait(value):\n",
    "    diagnosis = value.split(\":\")[1].strip()\n",
    "    return 1 if diagnosis == 'Osteoarthritis' else 0\n",
    "\n",
    "def convert_age(value):\n",
    "    try:\n",
    "        return float(value.split(\":\")[1].strip())\n",
    "    except ValueError:\n",
    "        return None\n",
    "\n",
    "def convert_gender(value):\n",
    "    gender = value.split(\":\")[1].strip()\n",
    "    return 1 if gender == 'M' else 0\n",
    "\n",
    "# Save cohort info\n",
    "save_cohort_info('GSE142049', './preprocessed/Osteoarthritis/cohort_info.json', is_gene_available, trait_row is not None)\n",
    "\n",
    "# Extract clinical features\n",
    "if trait_row is not None:\n",
    "    selected_clinical_data = geo_select_clinical_features(clinical_data, 'Osteoarthritis', trait_row, convert_trait, age_row, convert_age, gender_row, convert_gender)\n",
    "    csv_path = './preprocessed/Osteoarthritis/trait_data/GSE142049.csv'\n",
    "    selected_clinical_data.to_csv(csv_path)\n",
    "    print(preview_df(selected_clinical_data))\n"
   ]
  },
  {
   "cell_type": "markdown",
   "id": "cc5245b4",
   "metadata": {},
   "source": [
    "### Step 3: Gene Data Extraction"
   ]
  },
  {
   "cell_type": "code",
   "execution_count": 4,
   "id": "1188c728",
   "metadata": {
    "execution": {
     "iopub.execute_input": "2024-06-12T08:55:20.090979Z",
     "iopub.status.busy": "2024-06-12T08:55:20.090847Z",
     "iopub.status.idle": "2024-06-12T08:55:20.244101Z",
     "shell.execute_reply": "2024-06-12T08:55:20.243733Z"
    }
   },
   "outputs": [
    {
     "name": "stdout",
     "output_type": "stream",
     "text": [
      "Index([], dtype='object', name='ID')\n"
     ]
    }
   ],
   "source": [
    "# 1. Use the get_genetic_data function from the library to get the gene_data from the matrix_file previously defined.\n",
    "gene_data = get_genetic_data(matrix_file)\n",
    "\n",
    "# 2. Print the first 20 row ids for the following step.\n",
    "print(gene_data.index[:20])\n"
   ]
  },
  {
   "cell_type": "markdown",
   "id": "08952c31",
   "metadata": {},
   "source": [
    "### Step 4: Gene Identifier Review"
   ]
  },
  {
   "cell_type": "code",
   "execution_count": 5,
   "id": "a094f2c1",
   "metadata": {
    "execution": {
     "iopub.execute_input": "2024-06-12T08:55:20.246383Z",
     "iopub.status.busy": "2024-06-12T08:55:20.246245Z",
     "iopub.status.idle": "2024-06-12T08:55:20.248448Z",
     "shell.execute_reply": "2024-06-12T08:55:20.248170Z"
    }
   },
   "outputs": [],
   "source": [
    "requires_gene_mapping = (True)\n"
   ]
  },
  {
   "cell_type": "markdown",
   "id": "85b0db55",
   "metadata": {},
   "source": [
    "### Step 5: Gene Annotation (Conditional)"
   ]
  },
  {
   "cell_type": "code",
   "execution_count": 6,
   "id": "bb7532e0",
   "metadata": {
    "execution": {
     "iopub.execute_input": "2024-06-12T08:55:20.250648Z",
     "iopub.status.busy": "2024-06-12T08:55:20.250520Z",
     "iopub.status.idle": "2024-06-12T08:55:23.534426Z",
     "shell.execute_reply": "2024-06-12T08:55:23.534058Z"
    }
   },
   "outputs": [
    {
     "name": "stdout",
     "output_type": "stream",
     "text": [
      "Gene annotation preview:\n",
      "{'ID': ['ILMN_1343048', 'ILMN_1343049', 'ILMN_1343050', 'ILMN_1343052', 'ILMN_1343059'], 'Species': [nan, nan, nan, nan, nan], 'Source': [nan, nan, nan, nan, nan], 'Search_Key': [nan, nan, nan, nan, nan], 'Transcript': [nan, nan, nan, nan, nan], 'ILMN_Gene': [nan, nan, nan, nan, nan], 'Source_Reference_ID': [nan, nan, nan, nan, nan], 'RefSeq_ID': [nan, nan, nan, nan, nan], 'Unigene_ID': [nan, nan, nan, nan, nan], 'Entrez_Gene_ID': [nan, nan, nan, nan, nan], 'GI': [nan, nan, nan, nan, nan], 'Accession': [nan, nan, nan, nan, nan], 'Symbol': ['phage_lambda_genome', 'phage_lambda_genome', 'phage_lambda_genome:low', 'phage_lambda_genome:low', 'thrB'], 'Protein_Product': [nan, nan, nan, nan, 'thrB'], 'Probe_Id': [nan, nan, nan, nan, nan], 'Array_Address_Id': [5090180.0, 6510136.0, 7560739.0, 1450438.0, 1240647.0], 'Probe_Type': [nan, nan, nan, nan, nan], 'Probe_Start': [nan, nan, nan, nan, nan], 'SEQUENCE': ['GAATAAAGAACAATCTGCTGATGATCCCTCCGTGGATCTGATTCGTGTAA', 'CCATGTGATACGAGGGCGCGTAGTTTGCATTATCGTTTTTATCGTTTCAA', 'CCGACAGATGTATGTAAGGCCAACGTGCTCAAATCTTCATACAGAAAGAT', 'TCTGTCACTGTCAGGAAAGTGGTAAAACTGCAACTCAATTACTGCAATGC', 'CTTGTGCCTGAGCTGTCAAAAGTAGAGCACGTCGCCGAGATGAAGGGCGC'], 'Chromosome': [nan, nan, nan, nan, nan], 'Probe_Chr_Orientation': [nan, nan, nan, nan, nan], 'Probe_Coordinates': [nan, nan, nan, nan, nan], 'Cytoband': [nan, nan, nan, nan, nan], 'Definition': [nan, nan, nan, nan, nan], 'Ontology_Component': [nan, nan, nan, nan, nan], 'Ontology_Process': [nan, nan, nan, nan, nan], 'Ontology_Function': [nan, nan, nan, nan, nan], 'Synonyms': [nan, nan, nan, nan, nan], 'Obsolete_Probe_Id': [nan, nan, nan, nan, nan], 'GB_ACC': [nan, nan, nan, nan, nan]}\n"
     ]
    }
   ],
   "source": [
    "# 1. Use the 'get_gene_annotation' function from the library to get gene annotation data from the soft file.\n",
    "gene_annotation = get_gene_annotation(soft_file)\n",
    "\n",
    "# 2. Use the 'preview_df' function from the library to preview the data and print out the results.\n",
    "print(\"Gene annotation preview:\")\n",
    "print(preview_df(gene_annotation))\n"
   ]
  },
  {
   "cell_type": "markdown",
   "id": "1ee4b755",
   "metadata": {},
   "source": [
    "### Step 6: Gene Identifier Mapping"
   ]
  },
  {
   "cell_type": "code",
   "execution_count": 7,
   "id": "3e51811d",
   "metadata": {
    "execution": {
     "iopub.execute_input": "2024-06-12T08:55:23.537028Z",
     "iopub.status.busy": "2024-06-12T08:55:23.536882Z",
     "iopub.status.idle": "2024-06-12T08:55:23.689080Z",
     "shell.execute_reply": "2024-06-12T08:55:23.688682Z"
    }
   },
   "outputs": [],
   "source": [
    "if requires_gene_mapping:\n",
    "    # 1. Define the columns for identifiers and gene symbols based on the preview\n",
    "    identifier_key = 'ID'\n",
    "    gene_symbol_key = 'Symbol'\n",
    "\n",
    "    # 2. Get the dataframe storing the mapping between probe IDs and genes\n",
    "    gene_mapping = get_gene_mapping(gene_annotation, identifier_key, gene_symbol_key)\n",
    "\n",
    "    # 3. Apply the mapping and name the resulting gene expression dataframe \"gene_data\"\n",
    "    gene_data = apply_gene_mapping(gene_data, gene_mapping)\n"
   ]
  },
  {
   "cell_type": "markdown",
   "id": "d9850c51",
   "metadata": {},
   "source": [
    "### Step 7: Data Normalization and Merging"
   ]
  },
  {
   "cell_type": "code",
   "execution_count": 8,
   "id": "3a35cda1",
   "metadata": {
    "execution": {
     "iopub.execute_input": "2024-06-12T08:55:23.691046Z",
     "iopub.status.busy": "2024-06-12T08:55:23.690939Z",
     "iopub.status.idle": "2024-06-12T08:55:23.697070Z",
     "shell.execute_reply": "2024-06-12T08:55:23.696781Z"
    }
   },
   "outputs": [
    {
     "name": "stdout",
     "output_type": "stream",
     "text": [
      "No gene data in the dataframe\n",
      "A new JSON file was created at: ./preprocessed/Osteoarthritis/cohort_info.json\n"
     ]
    }
   ],
   "source": [
    "# 1. Normalize the obtained gene data with the 'normalize_gene_symbols_in_index' function from the library.\n",
    "normalized_gene_data = normalize_gene_symbols_in_index(gene_data)\n",
    "gene_csv_path = './preprocessed/Osteoarthritis/gene_data/GSE142049.csv'\n",
    "normalized_gene_data.to_csv(gene_csv_path)\n",
    "\n",
    "# 2. Merge the clinical and genetic data with the 'geo_merge_clinical_genetic_data' function from the library.\n",
    "merged_data = geo_merge_clinical_genetic_data(selected_clinical_data, normalized_gene_data)\n",
    "\n",
    "# 3. Determine whether the trait and some demographic attributes in the data is severely biased, and remove biased attributes.\n",
    "trait_biased, unbiased_merged_data = judge_and_remove_biased_features(merged_data, 'Osteoarthritis')\n",
    "\n",
    "# If the trait is not severely biased, save the cohort information and the merged data.\n",
    "\n",
    "# 4. Save the cohort information.\n",
    "save_cohort_info('GSE142049', './preprocessed/Osteoarthritis/cohort_info.json', True, True, trait_biased, merged_data)\n",
    "\n",
    "if not trait_biased:\n",
    "    # 5. If the trait is not severely biased, save the merged data to a csv file.\n",
    "    csv_path = './preprocessed/Osteoarthritis/GSE142049.csv'\n",
    "    unbiased_merged_data.to_csv(csv_path)\n"
   ]
  }
 ],
 "metadata": {
  "language_info": {
   "codemirror_mode": {
    "name": "ipython",
    "version": 3
   },
   "file_extension": ".py",
   "mimetype": "text/x-python",
   "name": "python",
   "nbconvert_exporter": "python",
   "pygments_lexer": "ipython3",
   "version": "3.8.17"
  }
 },
 "nbformat": 4,
 "nbformat_minor": 5
}
