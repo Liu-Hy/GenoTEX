{
 "cells": [
  {
   "cell_type": "code",
   "execution_count": 1,
   "id": "c0fe6eaf",
   "metadata": {
    "execution": {
     "iopub.execute_input": "2024-06-12T10:24:58.706720Z",
     "iopub.status.busy": "2024-06-12T10:24:58.706620Z",
     "iopub.status.idle": "2024-06-12T10:24:58.712171Z",
     "shell.execute_reply": "2024-06-12T10:24:58.711715Z"
    }
   },
   "outputs": [],
   "source": [
    "\n",
    "import sys\n",
    "sys.path.append('/home/techt/Desktop/a4s')\n"
   ]
  },
  {
   "cell_type": "markdown",
   "id": "77c3d422",
   "metadata": {},
   "source": [
    "### Step 1: Initial Data Loading"
   ]
  },
  {
   "cell_type": "code",
   "execution_count": 2,
   "id": "e74ca121",
   "metadata": {
    "execution": {
     "iopub.execute_input": "2024-06-12T10:24:58.714609Z",
     "iopub.status.busy": "2024-06-12T10:24:58.714288Z",
     "iopub.status.idle": "2024-06-12T10:24:59.162696Z",
     "shell.execute_reply": "2024-06-12T10:24:59.162313Z"
    }
   },
   "outputs": [
    {
     "name": "stdout",
     "output_type": "stream",
     "text": [
      "Background Information:\n",
      "!Series_title\t\"A validated single-cell-based strategy to identify diagnostic and therapeutic targets in complex diseases [study of 13 diseases]\"\n",
      "!Series_summary\t\"We conducted prospective clinical studies to validate the importance of CD4+ T cells in 13 diseases from the following ICD-10-CM chapters: Neoplasms (breast cancer, chronic lymphocytic leukemia); endocrine, nutritional and metabolic diseases (type I diabetes, obesity); diseases of the circulatory system (atherosclerosis); diseases of the respiratory system (acute tonsillitis, influenza, seasonal allergic rhinitis, asthma); diseases of the digestive system (Crohn’s disease [CD], ulcerative colitis [UC]); and diseases of the skin and subcutaneous tissue (atopic eczema, psoriatic diseases).\"\n",
      "!Series_summary\t\"Study participants were recruited by clinical specialists based on diagnostic criteria defined by organizations representing each specialist’s discipline. Age and gender matched healthy controls (n = 127 and 39, respectively) were recruited in the Southeast region of Sweden from outpatient clinics at the University Hospital, Linköping; Ryhov County Hospital, Jönköping, a primary health care center in Jönköping; and a medical specialist unit for children in Värnamo. Study participants represented both urban and rural populations with an age range of 8–94 years. Patients with type I diabetes and obesity had an age range of 8–18 years. 12 patients had more than one diagnosis.\"\n",
      "!Series_overall_design\t\"Total RNA was extracted using the AllPrep DNA/RNA Micro kit (Qiagen, Hilden, Germany; cat. no. 80284) according to the manufacturer’s instructions. RNA concentration and integrity were evaluated using the Agilent RNA 6000 Nano Kit (Agilent Technologies, Santa Clara, California, USA; cat. no. 5067-1511) on an Agilent 2100 Bioanalyzer (Agilent Technologies, Santa Clara, California, USA). Microarrays were then further computationally processed as described in One-Color Microarray-Based Gene Expression Analysis Low Input Quick Amp Labeling protocol (Agilent Technologies, Santa Clara, California, USA).\"\n",
      "Sample Characteristics Dictionary:\n",
      "{0: ['cell type: CD4+ T cells'], 1: ['primary diagnosis: ASTHMA', 'primary diagnosis: ATHEROSCLEROSIS', 'primary diagnosis: BREAST_CANCER', 'primary diagnosis: CHRONIC_LYMPHOCYTIC_LEUKEMIA', 'primary diagnosis: CROHN_DISEASE', 'primary diagnosis: ATOPIC_ECZEMA', 'primary diagnosis: HEALTHY_CONTROL', 'primary diagnosis: INFLUENZA', 'primary diagnosis: OBESITY', 'primary diagnosis: PSORIASIS', 'primary diagnosis: SEASONAL_ALLERGIC_RHINITIS', 'primary diagnosis: TYPE_1_DIABETES', 'primary diagnosis: ACUTE_TONSILLITIS', 'primary diagnosis: ULCERATIVE_COLITIS'], 2: ['Sex: Male', 'diagnosis2: ATOPIC_ECZEMA', 'Sex: Female', 'diagnosis2: ATHEROSCLEROSIS', 'diagnosis2: ASTHMA_OBESITY', 'diagnosis2: ASTHMA', 'diagnosis2: ASTMHA_SEASONAL_ALLERGIC_RHINITIS', 'diagnosis2: OBESITY'], 3: ['age: 56', 'Sex: Male', 'age: 20', 'age: 51', 'age: 37', 'age: 61', 'age: 31', 'age: 41', 'age: 80', 'age: 53', 'age: 73', 'age: 60', 'age: 76', 'age: 77', 'age: 74', 'age: 69', 'age: 81', 'age: 70', 'age: 82', 'age: 67', 'age: 78', 'age: 72', 'age: 66', 'age: 36', 'age: 45', 'age: 65', 'age: 48', 'age: 50', 'age: 24', 'age: 42'], 4: [nan, 'age: 63', 'age: 74', 'age: 49', 'age: 60', 'age: 68', 'age: 38', 'age: 16', 'age: 12', 'age: 27']}\n"
     ]
    }
   ],
   "source": [
    "from utils.preprocess import *\n",
    "# 1. Identify the paths to the soft file and the matrix file\n",
    "cohort_dir = '/media/techt/DATA/GEO/Atherosclerosis/GSE123086'\n",
    "soft_file, matrix_file = geo_get_relevant_filepaths(cohort_dir)\n",
    "\n",
    "# 2. Read the matrix file to obtain background information and sample characteristics data\n",
    "background_prefixes = ['!Series_title', '!Series_summary', '!Series_overall_design']\n",
    "clinical_prefixes = ['!Sample_geo_accession', '!Sample_characteristics_ch1']\n",
    "background_info, clinical_data = get_background_and_clinical_data(matrix_file, background_prefixes, clinical_prefixes)\n",
    "\n",
    "# 3. Obtain the sample characteristics dictionary from the clinical dataframe\n",
    "sample_characteristics_dict = get_unique_values_by_row(clinical_data)\n",
    "\n",
    "# 4. Explicitly print out all the background information and the sample characteristics dictionary\n",
    "print(\"Background Information:\")\n",
    "print(background_info)\n",
    "print(\"Sample Characteristics Dictionary:\")\n",
    "print(sample_characteristics_dict)\n"
   ]
  },
  {
   "cell_type": "markdown",
   "id": "215a4aec",
   "metadata": {},
   "source": [
    "### Step 2: Dataset Analysis and Clinical Feature Extraction"
   ]
  },
  {
   "cell_type": "code",
   "execution_count": 3,
   "id": "2dfdc400",
   "metadata": {
    "execution": {
     "iopub.execute_input": "2024-06-12T10:24:59.164206Z",
     "iopub.status.busy": "2024-06-12T10:24:59.164095Z",
     "iopub.status.idle": "2024-06-12T10:24:59.202323Z",
     "shell.execute_reply": "2024-06-12T10:24:59.201964Z"
    }
   },
   "outputs": [
    {
     "name": "stdout",
     "output_type": "stream",
     "text": [
      "{'GSM3494884': [0, 56, 1], 'GSM3494885': [0, None, 0], 'GSM3494886': [0, 20, 0], 'GSM3494887': [0, 51, 0], 'GSM3494888': [0, 37, 1], 'GSM3494889': [0, 61, 1], 'GSM3494890': [0, None, 0], 'GSM3494891': [0, 31, 1], 'GSM3494892': [0, 56, 0], 'GSM3494893': [0, 41, 0], 'GSM3494894': [0, 61, 0], 'GSM3494895': [1, None, 0], 'GSM3494896': [1, 80, 1], 'GSM3494897': [1, 53, 1], 'GSM3494898': [1, 61, 1], 'GSM3494899': [1, 73, 1], 'GSM3494900': [1, 60, 1], 'GSM3494901': [1, 76, 1], 'GSM3494902': [1, 77, 0], 'GSM3494903': [1, 74, 0], 'GSM3494904': [1, 69, 1], 'GSM3494905': [0, 77, 0], 'GSM3494906': [0, 81, 0], 'GSM3494907': [0, 70, 0], 'GSM3494908': [0, 82, 0], 'GSM3494909': [0, 69, 0], 'GSM3494910': [0, 82, 0], 'GSM3494911': [0, 67, 0], 'GSM3494912': [0, 67, 0], 'GSM3494913': [0, 78, 0], 'GSM3494914': [0, 67, 0], 'GSM3494915': [0, 74, 1], 'GSM3494916': [0, None, 0], 'GSM3494917': [0, 51, 1], 'GSM3494918': [0, 72, 1], 'GSM3494919': [0, 66, 1], 'GSM3494920': [0, 80, 0], 'GSM3494921': [0, 36, 1], 'GSM3494922': [0, 67, 0], 'GSM3494923': [0, 31, 0], 'GSM3494924': [0, 31, 0], 'GSM3494925': [0, 45, 0], 'GSM3494926': [0, 56, 0], 'GSM3494927': [0, 65, 0], 'GSM3494928': [0, 53, 0], 'GSM3494929': [0, 48, 0], 'GSM3494930': [0, 50, 0], 'GSM3494931': [0, 76, 1], 'GSM3494932': [0, None, 0], 'GSM3494933': [0, 24, 0], 'GSM3494934': [0, 42, 0], 'GSM3494935': [0, 76, 1], 'GSM3494936': [0, 22, 1], 'GSM3494937': [0, None, 0], 'GSM3494938': [0, 23, 0], 'GSM3494939': [0, 34, 1], 'GSM3494940': [0, 43, 1], 'GSM3494941': [0, 47, 1], 'GSM3494942': [0, 24, 0], 'GSM3494943': [0, 55, 1], 'GSM3494944': [0, 48, 1], 'GSM3494945': [0, 58, 1], 'GSM3494946': [0, 30, 0], 'GSM3494947': [0, 28, 1], 'GSM3494948': [0, 41, 0], 'GSM3494949': [0, 63, 1], 'GSM3494950': [0, 55, 0], 'GSM3494951': [0, 55, 0], 'GSM3494952': [0, 67, 1], 'GSM3494953': [0, 47, 0], 'GSM3494954': [0, 46, 0], 'GSM3494955': [0, 49, 1], 'GSM3494956': [0, 23, 1], 'GSM3494957': [0, 68, 1], 'GSM3494958': [0, 39, 1], 'GSM3494959': [0, 24, 1], 'GSM3494960': [0, 36, 0], 'GSM3494961': [0, 58, 0], 'GSM3494962': [0, 38, 0], 'GSM3494963': [0, 27, 0], 'GSM3494964': [0, 67, 0], 'GSM3494965': [0, 61, 1], 'GSM3494966': [0, 69, 1], 'GSM3494967': [0, 63, 1], 'GSM3494968': [0, 60, 0], 'GSM3494969': [0, 17, 1], 'GSM3494970': [0, 10, 0], 'GSM3494971': [0, 9, 1], 'GSM3494972': [0, 13, 0], 'GSM3494973': [0, 10, 1], 'GSM3494974': [0, 13, 0], 'GSM3494975': [0, 15, 1], 'GSM3494976': [0, 12, 1], 'GSM3494977': [0, 13, 1], 'GSM3494978': [0, 81, 0], 'GSM3494979': [0, 94, 0], 'GSM3494980': [0, 51, 1], 'GSM3494981': [0, 40, 1], 'GSM3494982': [0, None, 0], 'GSM3494983': [0, 97, 1], 'GSM3494984': [0, 23, 1], 'GSM3494985': [0, 93, 0], 'GSM3494986': [0, 58, 1], 'GSM3494987': [0, 28, 0], 'GSM3494988': [0, 54, 1], 'GSM3494989': [0, 15, 1], 'GSM3494990': [0, 8, 1], 'GSM3494991': [0, 11, 1], 'GSM3494992': [0, 12, 1], 'GSM3494993': [0, 8, 0], 'GSM3494994': [0, 14, 1], 'GSM3494995': [0, 8, 0], 'GSM3494996': [0, 10, 1], 'GSM3494997': [0, 14, 1], 'GSM3494998': [0, 13, 1], 'GSM3494999': [0, 40, 0], 'GSM3495000': [0, 52, 0], 'GSM3495001': [0, 42, 0], 'GSM3495002': [0, 29, 0], 'GSM3495003': [0, 43, 0], 'GSM3495004': [0, 41, 0], 'GSM3495005': [0, 54, 1], 'GSM3495006': [0, 42, 1], 'GSM3495007': [0, 49, 1], 'GSM3495008': [0, 45, 0], 'GSM3495009': [0, 56, 1], 'GSM3495010': [0, 64, 0], 'GSM3495011': [0, 71, 0], 'GSM3495012': [0, 48, 0], 'GSM3495013': [0, 20, 1], 'GSM3495014': [0, 53, 0], 'GSM3495015': [0, 32, 0], 'GSM3495016': [0, 26, 0], 'GSM3495017': [0, 28, 0], 'GSM3495018': [0, 47, 0], 'GSM3495019': [0, 24, 0], 'GSM3495020': [0, 48, 0], 'GSM3495021': [0, None, 0], 'GSM3495022': [0, 19, 0], 'GSM3495023': [0, 41, 0], 'GSM3495024': [0, 38, 0], 'GSM3495025': [0, None, 0], 'GSM3495026': [0, 15, 0], 'GSM3495027': [0, 12, 1], 'GSM3495028': [0, 13, 0], 'GSM3495029': [0, None, 0], 'GSM3495030': [0, 11, 1], 'GSM3495031': [0, None, 0], 'GSM3495032': [0, 16, 1], 'GSM3495033': [0, 11, 1], 'GSM3495034': [0, None, 0], 'GSM3495035': [0, 35, 0], 'GSM3495036': [0, 26, 0], 'GSM3495037': [0, 39, 0], 'GSM3495038': [0, 46, 0], 'GSM3495039': [0, 42, 0], 'GSM3495040': [0, 20, 1], 'GSM3495041': [0, 69, 1], 'GSM3495042': [0, 69, 0], 'GSM3495043': [0, 47, 1], 'GSM3495044': [0, 47, 1], 'GSM3495045': [0, 56, 0], 'GSM3495046': [0, 54, 0], 'GSM3495047': [0, 53, 0], 'GSM3495048': [0, 50, 0], 'GSM3495049': [0, 22, 1]}\n"
     ]
    }
   ],
   "source": [
    "is_gene_available = False\n",
    "trait_row = age_row = gender_row = None  # set to different values when applicable\n",
    "convert_trait = convert_age = convert_gender = None  # define the functions when applicable\n",
    "\n",
    "# Sample Characteristics Dictionary\n",
    "sample_characteristics = {\n",
    "    0: ['cell type: CD4+ T cells'],\n",
    "    1: ['primary diagnosis: ASTHMA', 'primary diagnosis: ATHEROSCLEROSIS', 'primary diagnosis: BREAST_CANCER', 'primary diagnosis: CHRONIC_LYMPHOCYTIC_LEUKEMIA', 'primary diagnosis: CROHN_DISEASE', 'primary diagnosis: ATOPIC_ECZEMA', 'primary diagnosis: HEALTHY_CONTROL', 'primary diagnosis: INFLUENZA', 'primary diagnosis: OBESITY', 'primary diagnosis: PSORIASIS', 'primary diagnosis: SEASONAL_ALLERGIC_RHINITIS', 'primary diagnosis: TYPE_1_DIABETES', 'primary diagnosis: ACUTE_TONSILLITIS', 'primary diagnosis: ULCERATIVE_COLITIS'],\n",
    "    2: ['Sex: Male', 'diagnosis2: ATOPIC_ECZEMA', 'Sex: Female', 'diagnosis2: ATHEROSCLEROSIS', 'diagnosis2: ASTHMA_OBESITY', 'diagnosis2: ASTHMA', 'diagnosis2: ASTMHA_SEASONAL_ALLERGIC_RHINITIS', 'diagnosis2: OBESITY'],\n",
    "    3: ['age: 56', 'Sex: Male', 'age: 20', 'age: 51', 'age: 37', 'age: 61', 'age: 31', 'age: 41', 'age: 80', 'age: 53', 'age: 73', 'age: 60', 'age: 76', 'age: 77', 'age: 74', 'age: 69', 'age: 81', 'age: 70', 'age: 82', 'age: 67', 'age: 78', 'age: 72', 'age: 66', 'age: 36', 'age: 45', 'age: 65', 'age: 48', 'age: 50', 'age: 24', 'age: 42'],\n",
    "    4: [float('nan'), 'age: 63', 'age: 74', 'age: 49', 'age: 60', 'age: 68', 'age: 38', 'age: 16', 'age: 12', 'age: 27']\n",
    "}\n",
    "\n",
    "# Check if the dataset contains gene expression data\n",
    "is_gene_available = True\n",
    "\n",
    "# Determine the availability of the variables 'Atherosclerosis', 'age', and 'gender'\n",
    "if 1 in sample_characteristics:\n",
    "    if 'ATHEROSCLEROSIS' in [item.split(': ')[1] for item in sample_characteristics[1]]:\n",
    "        trait_row = 1\n",
    "\n",
    "if 3 in sample_characteristics:\n",
    "    age_values = [item.split(': ')[1] for item in sample_characteristics[3] if 'age' in item]\n",
    "    if len(set(age_values)) > 1:\n",
    "        age_row = 3\n",
    "\n",
    "if 2 in sample_characteristics:\n",
    "    gender_values = [item.split(': ')[1] for item in sample_characteristics[2] if 'Sex' in item]\n",
    "    if len(set(gender_values)) > 1:\n",
    "        gender_row = 2\n",
    "\n",
    "# Define conversion functions\n",
    "def convert_trait(value):\n",
    "    try:\n",
    "        value = value.split(': ')[1].lower()\n",
    "        return 1 if value == 'atherosclerosis' else 0\n",
    "    except:\n",
    "        return None\n",
    "\n",
    "def convert_age(value):\n",
    "    try:\n",
    "        return int(value.split(': ')[1])\n",
    "    except:\n",
    "        return None\n",
    "\n",
    "def convert_gender(value):\n",
    "    try:\n",
    "        value = value.split(': ')[1].lower()\n",
    "        return 1 if value == 'male' else 0\n",
    "    except:\n",
    "        return None\n",
    "\n",
    "save_cohort_info('GSE123086', './preprocessed/Atherosclerosis/cohort_info.json', is_gene_available, trait_row is not None)\n",
    "\n",
    "if trait_row is not None:\n",
    "    selected_clinical_data = geo_select_clinical_features(clinical_data, 'Atherosclerosis', trait_row, convert_trait, age_row, convert_age, gender_row, convert_gender)\n",
    "    csv_path = './preprocessed/Atherosclerosis/trait_data/GSE123086.csv'\n",
    "    selected_clinical_data.to_csv(csv_path)\n",
    "    print(preview_df(selected_clinical_data))\n"
   ]
  },
  {
   "cell_type": "markdown",
   "id": "026e3cb1",
   "metadata": {},
   "source": [
    "### Step 3: Gene Data Extraction"
   ]
  },
  {
   "cell_type": "code",
   "execution_count": 4,
   "id": "cc457159",
   "metadata": {
    "execution": {
     "iopub.execute_input": "2024-06-12T10:24:59.203614Z",
     "iopub.status.busy": "2024-06-12T10:24:59.203508Z",
     "iopub.status.idle": "2024-06-12T10:24:59.645710Z",
     "shell.execute_reply": "2024-06-12T10:24:59.645320Z"
    }
   },
   "outputs": [
    {
     "name": "stdout",
     "output_type": "stream",
     "text": [
      "Index(['1', '2', '3', '9', '10', '12', '13', '14', '15', '16', '18', '19',\n",
      "       '20', '21', '22', '23', '24', '25', '26', '27'],\n",
      "      dtype='object', name='ID')\n"
     ]
    }
   ],
   "source": [
    "# 1. Use the get_genetic_data function from the library to get the gene_data from the matrix_file previously defined.\n",
    "gene_data = get_genetic_data(matrix_file)\n",
    "\n",
    "# 2. Print the first 20 row ids for the following step.\n",
    "print(gene_data.index[:20])\n"
   ]
  },
  {
   "cell_type": "markdown",
   "id": "9b0cc73a",
   "metadata": {},
   "source": [
    "### Step 4: Gene Identifier Review"
   ]
  },
  {
   "cell_type": "code",
   "execution_count": 5,
   "id": "841e430b",
   "metadata": {
    "execution": {
     "iopub.execute_input": "2024-06-12T10:24:59.647368Z",
     "iopub.status.busy": "2024-06-12T10:24:59.647246Z",
     "iopub.status.idle": "2024-06-12T10:24:59.649290Z",
     "shell.execute_reply": "2024-06-12T10:24:59.648990Z"
    }
   },
   "outputs": [],
   "source": [
    "requires_gene_mapping = True\n"
   ]
  },
  {
   "cell_type": "markdown",
   "id": "7e1f6271",
   "metadata": {},
   "source": [
    "### Step 5: Gene Annotation (Conditional)"
   ]
  },
  {
   "cell_type": "code",
   "execution_count": 6,
   "id": "618ba243",
   "metadata": {
    "execution": {
     "iopub.execute_input": "2024-06-12T10:24:59.650758Z",
     "iopub.status.busy": "2024-06-12T10:24:59.650650Z",
     "iopub.status.idle": "2024-06-12T10:25:03.585361Z",
     "shell.execute_reply": "2024-06-12T10:25:03.584962Z"
    }
   },
   "outputs": [
    {
     "name": "stdout",
     "output_type": "stream",
     "text": [
      "Gene annotation preview:\n",
      "{'ID': ['1', '2', '3', '9', '10'], 'ENTREZ_GENE_ID': ['1', '2', '3', '9', '10'], 'SPOT_ID': [1.0, 2.0, 3.0, 9.0, 10.0]}\n"
     ]
    }
   ],
   "source": [
    "# 1. Use the 'get_gene_annotation' function from the library to get gene annotation data from the soft file.\n",
    "gene_annotation = get_gene_annotation(soft_file)\n",
    "\n",
    "# 2. Use the 'preview_df' function from the library to preview the data and print out the results.\n",
    "print(\"Gene annotation preview:\")\n",
    "print(preview_df(gene_annotation))\n"
   ]
  },
  {
   "cell_type": "markdown",
   "id": "d7ce64bb",
   "metadata": {},
   "source": [
    "### Step 6: Gene Identifier Mapping"
   ]
  },
  {
   "cell_type": "code",
   "execution_count": 7,
   "id": "444d81a6",
   "metadata": {
    "execution": {
     "iopub.execute_input": "2024-06-12T10:25:03.587014Z",
     "iopub.status.busy": "2024-06-12T10:25:03.586894Z",
     "iopub.status.idle": "2024-06-12T10:25:21.798579Z",
     "shell.execute_reply": "2024-06-12T10:25:21.798152Z"
    }
   },
   "outputs": [],
   "source": [
    "# 1. Define keys for identifiers and gene symbols based on the preview from STEP5\n",
    "identifier_key = 'ID'\n",
    "gene_symbol_key = 'ENTREZ_GENE_ID'\n",
    "\n",
    "# 2. Get the dataframe storing the mapping between probe IDs and genes\n",
    "mapping_df = get_gene_mapping(gene_annotation, identifier_key, gene_symbol_key)\n",
    "\n",
    "# 3. Apply the mapping and get the resulting gene expression dataframe\n",
    "gene_data = apply_gene_mapping(gene_data, mapping_df)\n"
   ]
  }
 ],
 "metadata": {
  "language_info": {
   "codemirror_mode": {
    "name": "ipython",
    "version": 3
   },
   "file_extension": ".py",
   "mimetype": "text/x-python",
   "name": "python",
   "nbconvert_exporter": "python",
   "pygments_lexer": "ipython3",
   "version": "3.8.17"
  }
 },
 "nbformat": 4,
 "nbformat_minor": 5
}
