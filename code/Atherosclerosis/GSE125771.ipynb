{
 "cells": [
  {
   "cell_type": "code",
   "execution_count": 1,
   "id": "c02dd5ac",
   "metadata": {
    "execution": {
     "iopub.execute_input": "2025-03-25T06:43:08.260811Z",
     "iopub.status.busy": "2025-03-25T06:43:08.260705Z",
     "iopub.status.idle": "2025-03-25T06:43:08.425910Z",
     "shell.execute_reply": "2025-03-25T06:43:08.425583Z"
    }
   },
   "outputs": [],
   "source": [
    "import sys\n",
    "import os\n",
    "sys.path.append(os.path.abspath(os.path.join(os.getcwd(), '../..')))\n",
    "\n",
    "# Path Configuration\n",
    "from tools.preprocess import *\n",
    "\n",
    "# Processing context\n",
    "trait = \"Atherosclerosis\"\n",
    "cohort = \"GSE125771\"\n",
    "\n",
    "# Input paths\n",
    "in_trait_dir = \"../../input/GEO/Atherosclerosis\"\n",
    "in_cohort_dir = \"../../input/GEO/Atherosclerosis/GSE125771\"\n",
    "\n",
    "# Output paths\n",
    "out_data_file = \"../../output/preprocess/Atherosclerosis/GSE125771.csv\"\n",
    "out_gene_data_file = \"../../output/preprocess/Atherosclerosis/gene_data/GSE125771.csv\"\n",
    "out_clinical_data_file = \"../../output/preprocess/Atherosclerosis/clinical_data/GSE125771.csv\"\n",
    "json_path = \"../../output/preprocess/Atherosclerosis/cohort_info.json\"\n"
   ]
  },
  {
   "cell_type": "markdown",
   "id": "74450864",
   "metadata": {},
   "source": [
    "### Step 1: Initial Data Loading"
   ]
  },
  {
   "cell_type": "code",
   "execution_count": 2,
   "id": "bf597240",
   "metadata": {
    "execution": {
     "iopub.execute_input": "2025-03-25T06:43:08.427366Z",
     "iopub.status.busy": "2025-03-25T06:43:08.427225Z",
     "iopub.status.idle": "2025-03-25T06:43:08.546926Z",
     "shell.execute_reply": "2025-03-25T06:43:08.546508Z"
    }
   },
   "outputs": [
    {
     "name": "stdout",
     "output_type": "stream",
     "text": [
      "Background Information:\n",
      "!Series_title\t\"RNA expression data from calcified human carotid atherosclerotic plaques\"\n",
      "!Series_summary\t\"Although unstable atherosclerosis in the carotid bifurcation is a significant etiology behind ischemic stroke, clinical imaging methods to distinguish stable from vulnerable lesions are lacking and selection of patients for stroke-preventive intervention still relies on surrogate variables with moderate predictive power, such as the degree of luminal narrowing. Here we combined clinical and diagnostic imaging information by comuted tomography to select patients with calcified plaques for large scale molecular analysis, in an effort to increase our understanding of the pathophysiology behind carotid plaque instability as related to patient- and plaque- phenotype.\"\n",
      "!Series_overall_design\t\"Patients undergoing surgery for high-grade (>50% NASCET) carotid stenosis at the Department of Vascular Surgery, Karolinska University Hospital, Stockholm, Sweden were consecutively enrolled in the study and clinical data recorded on admission. Carotid computed tomography angiography (CTA) was performed as a pre-operative routine at the admitting hospital using site-specific image acquisition protocols. Carotid endarterectomies (carotid plaques) were collected at surgery and retained within the Biobank of Karolinska Endarterectomies (BiKE). Tissues were frozen at -80°C immediately after surgery and RNA was prepared using Qiazol Lysis Reagent (Qiagen, Hilden, Germany) and purified by RNeasy Mini kit (Qiagen), including DNase digestion. The RNA concentration was measured using Nanodrop ND-1000 (Thermo Scientific, Waltham, MA) and quality estimated by a Bioanalyzer capillary electrophoresis system (Agilent Technologies, Santa Clara, CA). For microarrays, only RNA of good integrity with RIN>7, A260/A280 ratio between 1.8-2.1, A260/230 0.7-1.5 and concentration about 50-500 ng/μl was used, as per standards recommended for whole transcript arrays. Robust multi-array average normalization was performed and processed gene expression data was returned in log2-scale. All human samples were collected with informed consent from patients or organ donors’ guardians; studies were approved by the regional Ethical Committee and follow the guidelines of the Declaration of Helsinki.\"\n",
      "Sample Characteristics Dictionary:\n",
      "{0: ['tissue: carotid-atherosclerotic-plaque'], 1: ['ID: sample1', 'ID: sample2', 'ID: sample3', 'ID: sample4', 'ID: sample5', 'ID: sample6', 'ID: sample7', 'ID: sample8', 'ID: sample9', 'ID: sample10', 'ID: sample11', 'ID: sample12', 'ID: sample13', 'ID: sample14', 'ID: sample15', 'ID: sample16', 'ID: sample17', 'ID: sample18', 'ID: sample19', 'ID: sample20', 'ID: sample21', 'ID: sample22', 'ID: sample23', 'ID: sample24', 'ID: sample25', 'ID: sample26', 'ID: sample27', 'ID: sample28', 'ID: sample29', 'ID: sample30'], 2: ['Sex: Male', 'Sex: Female'], 3: ['age: 73', 'age: 60', 'age: 81', 'age: 85', 'age: 84', 'age: 76', 'age: 57', 'age: 71', 'age: 69', 'age: 79', 'age: 78', 'age: 54', 'age: 72', 'age: 64', 'age: 67', 'age: 63', 'age: 75', 'age: 62', 'age: 74', 'age: 65', 'age: 83', 'age: 61']}\n"
     ]
    }
   ],
   "source": [
    "from tools.preprocess import *\n",
    "# 1. Identify the paths to the SOFT file and the matrix file\n",
    "soft_file, matrix_file = geo_get_relevant_filepaths(in_cohort_dir)\n",
    "\n",
    "# 2. Read the matrix file to obtain background information and sample characteristics data\n",
    "background_prefixes = ['!Series_title', '!Series_summary', '!Series_overall_design']\n",
    "clinical_prefixes = ['!Sample_geo_accession', '!Sample_characteristics_ch1']\n",
    "background_info, clinical_data = get_background_and_clinical_data(matrix_file, background_prefixes, clinical_prefixes)\n",
    "\n",
    "# 3. Obtain the sample characteristics dictionary from the clinical dataframe\n",
    "sample_characteristics_dict = get_unique_values_by_row(clinical_data)\n",
    "\n",
    "# 4. Explicitly print out all the background information and the sample characteristics dictionary\n",
    "print(\"Background Information:\")\n",
    "print(background_info)\n",
    "print(\"Sample Characteristics Dictionary:\")\n",
    "print(sample_characteristics_dict)\n"
   ]
  },
  {
   "cell_type": "markdown",
   "id": "c735ba78",
   "metadata": {},
   "source": [
    "### Step 2: Dataset Analysis and Clinical Feature Extraction"
   ]
  },
  {
   "cell_type": "code",
   "execution_count": 3,
   "id": "98f36fad",
   "metadata": {
    "execution": {
     "iopub.execute_input": "2025-03-25T06:43:08.548368Z",
     "iopub.status.busy": "2025-03-25T06:43:08.548258Z",
     "iopub.status.idle": "2025-03-25T06:43:08.558387Z",
     "shell.execute_reply": "2025-03-25T06:43:08.558091Z"
    }
   },
   "outputs": [
    {
     "name": "stdout",
     "output_type": "stream",
     "text": [
      "Preview of clinical features:\n",
      "{'GSM3581706': [1.0, 73.0, 1.0], 'GSM3581707': [1.0, 60.0, 1.0], 'GSM3581708': [1.0, 81.0, 0.0], 'GSM3581709': [1.0, 85.0, 1.0], 'GSM3581710': [1.0, 60.0, 0.0], 'GSM3581711': [1.0, 84.0, 0.0], 'GSM3581712': [1.0, 76.0, 0.0], 'GSM3581713': [1.0, 57.0, 1.0], 'GSM3581714': [1.0, 71.0, 1.0], 'GSM3581715': [1.0, 69.0, 1.0], 'GSM3581716': [1.0, 79.0, 0.0], 'GSM3581717': [1.0, 78.0, 1.0], 'GSM3581718': [1.0, 79.0, 1.0], 'GSM3581719': [1.0, 54.0, 1.0], 'GSM3581720': [1.0, 72.0, 1.0], 'GSM3581721': [1.0, 73.0, 1.0], 'GSM3581722': [1.0, 64.0, 1.0], 'GSM3581723': [1.0, 67.0, 1.0], 'GSM3581724': [1.0, 63.0, 0.0], 'GSM3581725': [1.0, 75.0, 0.0], 'GSM3581726': [1.0, 62.0, 1.0], 'GSM3581727': [1.0, 64.0, 1.0], 'GSM3581728': [1.0, 73.0, 1.0], 'GSM3581729': [1.0, 81.0, 1.0], 'GSM3581730': [1.0, 79.0, 1.0], 'GSM3581731': [1.0, 72.0, 1.0], 'GSM3581732': [1.0, 71.0, 1.0], 'GSM3581733': [1.0, 75.0, 1.0], 'GSM3581734': [1.0, 74.0, 1.0], 'GSM3581735': [1.0, 76.0, 0.0], 'GSM3581736': [1.0, 69.0, 0.0], 'GSM3581737': [1.0, 65.0, 0.0], 'GSM3581738': [1.0, 83.0, 1.0], 'GSM3581739': [1.0, 85.0, 1.0], 'GSM3581740': [1.0, 61.0, 1.0], 'GSM3581741': [1.0, 72.0, 1.0], 'GSM3581742': [1.0, 64.0, 1.0], 'GSM3581743': [1.0, 69.0, 1.0], 'GSM3581744': [1.0, 61.0, 0.0], 'GSM3581745': [1.0, 71.0, 1.0]}\n",
      "Clinical features saved to ../../output/preprocess/Atherosclerosis/clinical_data/GSE125771.csv\n"
     ]
    }
   ],
   "source": [
    "# 1. Gene Expression Data Availability\n",
    "# Based on the background information, this dataset contains RNA expression data from carotid atherosclerotic plaques\n",
    "# which indicates gene expression data is available\n",
    "is_gene_available = True\n",
    "\n",
    "# 2. Variable Availability and Data Type Conversion\n",
    "# Looking at the Sample Characteristics Dictionary:\n",
    "\n",
    "# 2.1 Trait Availability\n",
    "# All samples are from carotid atherosclerotic plaques\n",
    "# Since we're studying Atherosclerosis and all samples are atherosclerotic plaques,\n",
    "# we can use this as a binary trait where all samples have the condition\n",
    "trait_row = 0  # All samples are atherosclerotic plaques\n",
    "\n",
    "# Function to convert trait values\n",
    "def convert_trait(value):\n",
    "    # All samples have atherosclerosis (carotid-atherosclerotic-plaque)\n",
    "    if 'atherosclerotic' in value.lower():\n",
    "        return 1  # Has atherosclerosis\n",
    "    return None  # Unknown or not clear\n",
    "\n",
    "# 2.2 Age Availability\n",
    "# Age information is available in row 3\n",
    "age_row = 3\n",
    "\n",
    "# Function to convert age values\n",
    "def convert_age(value):\n",
    "    try:\n",
    "        # Extract the number after \"age: \"\n",
    "        if ':' in value:\n",
    "            age_str = value.split(':', 1)[1].strip()\n",
    "            return float(age_str)  # Convert to float for continuous value\n",
    "        return None\n",
    "    except:\n",
    "        return None\n",
    "\n",
    "# 2.3 Gender Availability\n",
    "# Gender information is available in row 2\n",
    "gender_row = 2\n",
    "\n",
    "# Function to convert gender values\n",
    "def convert_gender(value):\n",
    "    if ':' in value:\n",
    "        gender_str = value.split(':', 1)[1].strip().lower()\n",
    "        if 'female' in gender_str:\n",
    "            return 0  # Female\n",
    "        elif 'male' in gender_str:\n",
    "            return 1  # Male\n",
    "    return None  # Unknown or unclear\n",
    "\n",
    "# 3. Save Metadata - Initial filtering\n",
    "# Determine if trait data is available\n",
    "is_trait_available = trait_row is not None\n",
    "# Use the validate_and_save_cohort_info function for initial filtering\n",
    "validate_and_save_cohort_info(\n",
    "    is_final=False,\n",
    "    cohort=cohort,\n",
    "    info_path=json_path,\n",
    "    is_gene_available=is_gene_available,\n",
    "    is_trait_available=is_trait_available\n",
    ")\n",
    "\n",
    "# 4. Clinical Feature Extraction\n",
    "# Since trait_row is not None, we proceed with clinical feature extraction\n",
    "if trait_row is not None:\n",
    "    # Use the geo_select_clinical_features function\n",
    "    clinical_features = geo_select_clinical_features(\n",
    "        clinical_df=clinical_data,\n",
    "        trait=trait,\n",
    "        trait_row=trait_row,\n",
    "        convert_trait=convert_trait,\n",
    "        age_row=age_row,\n",
    "        convert_age=convert_age,\n",
    "        gender_row=gender_row,\n",
    "        convert_gender=convert_gender\n",
    "    )\n",
    "    \n",
    "    # Preview the extracted clinical features\n",
    "    preview = preview_df(clinical_features)\n",
    "    print(\"Preview of clinical features:\")\n",
    "    print(preview)\n",
    "    \n",
    "    # Save the clinical features to CSV\n",
    "    os.makedirs(os.path.dirname(out_clinical_data_file), exist_ok=True)\n",
    "    clinical_features.to_csv(out_clinical_data_file, index=False)\n",
    "    print(f\"Clinical features saved to {out_clinical_data_file}\")\n"
   ]
  },
  {
   "cell_type": "markdown",
   "id": "93e2c2f2",
   "metadata": {},
   "source": [
    "### Step 3: Gene Data Extraction"
   ]
  },
  {
   "cell_type": "code",
   "execution_count": 4,
   "id": "03a13879",
   "metadata": {
    "execution": {
     "iopub.execute_input": "2025-03-25T06:43:08.559594Z",
     "iopub.status.busy": "2025-03-25T06:43:08.559488Z",
     "iopub.status.idle": "2025-03-25T06:43:08.713437Z",
     "shell.execute_reply": "2025-03-25T06:43:08.712990Z"
    }
   },
   "outputs": [
    {
     "name": "stdout",
     "output_type": "stream",
     "text": [
      "Matrix file found: ../../input/GEO/Atherosclerosis/GSE125771/GSE125771_series_matrix.txt.gz\n",
      "Gene data shape: (65535, 40)\n",
      "First 20 gene/probe identifiers:\n",
      "Index(['TC01000001.hg.1', 'TC01000002.hg.1', 'TC01000003.hg.1',\n",
      "       'TC01000004.hg.1', 'TC01000005.hg.1', 'TC01000006.hg.1',\n",
      "       'TC01000007.hg.1', 'TC01000008.hg.1', 'TC01000009.hg.1',\n",
      "       'TC01000010.hg.1', 'TC01000011.hg.1', 'TC01000012.hg.1',\n",
      "       'TC01000013.hg.1', 'TC01000014.hg.1', 'TC01000015.hg.1',\n",
      "       'TC01000016.hg.1', 'TC01000017.hg.1', 'TC01000018.hg.1',\n",
      "       'TC01000019.hg.1', 'TC01000020.hg.1'],\n",
      "      dtype='object', name='ID')\n"
     ]
    }
   ],
   "source": [
    "# 1. Get the SOFT and matrix file paths again \n",
    "soft_file, matrix_file = geo_get_relevant_filepaths(in_cohort_dir)\n",
    "print(f\"Matrix file found: {matrix_file}\")\n",
    "\n",
    "# 2. Use the get_genetic_data function from the library to get the gene_data\n",
    "try:\n",
    "    gene_data = get_genetic_data(matrix_file)\n",
    "    print(f\"Gene data shape: {gene_data.shape}\")\n",
    "    \n",
    "    # 3. Print the first 20 row IDs (gene or probe identifiers)\n",
    "    print(\"First 20 gene/probe identifiers:\")\n",
    "    print(gene_data.index[:20])\n",
    "except Exception as e:\n",
    "    print(f\"Error extracting gene data: {e}\")\n"
   ]
  },
  {
   "cell_type": "markdown",
   "id": "4c13b72c",
   "metadata": {},
   "source": [
    "### Step 4: Gene Identifier Review"
   ]
  },
  {
   "cell_type": "code",
   "execution_count": 5,
   "id": "c42c4054",
   "metadata": {
    "execution": {
     "iopub.execute_input": "2025-03-25T06:43:08.714904Z",
     "iopub.status.busy": "2025-03-25T06:43:08.714752Z",
     "iopub.status.idle": "2025-03-25T06:43:08.716816Z",
     "shell.execute_reply": "2025-03-25T06:43:08.716539Z"
    }
   },
   "outputs": [],
   "source": [
    "# The identifiers follow the format \"TC01000001.hg.1\" which appears to be probe IDs from a microarray platform\n",
    "# (likely Affymetrix or similar), not standard human gene symbols.\n",
    "# These are technical identifiers that need to be mapped to standard gene symbols for biological interpretation.\n",
    "\n",
    "requires_gene_mapping = True\n"
   ]
  },
  {
   "cell_type": "markdown",
   "id": "c829bd75",
   "metadata": {},
   "source": [
    "### Step 5: Gene Annotation"
   ]
  },
  {
   "cell_type": "code",
   "execution_count": 6,
   "id": "c2feab8d",
   "metadata": {
    "execution": {
     "iopub.execute_input": "2025-03-25T06:43:08.718130Z",
     "iopub.status.busy": "2025-03-25T06:43:08.718020Z",
     "iopub.status.idle": "2025-03-25T06:43:14.358044Z",
     "shell.execute_reply": "2025-03-25T06:43:14.357700Z"
    }
   },
   "outputs": [
    {
     "name": "stdout",
     "output_type": "stream",
     "text": [
      "\n",
      "Gene annotation preview:\n",
      "Columns in gene annotation: ['ID', 'probeset_id', 'seqname', 'strand', 'start', 'stop', 'total_probes', 'gene_assignment', 'mrna_assignment', 'swissprot', 'unigene', 'category', 'locus type', 'notes', 'SPOT_ID']\n",
      "{'ID': ['TC01000001.hg.1', 'TC01000002.hg.1', 'TC01000003.hg.1', 'TC01000004.hg.1', 'TC01000005.hg.1'], 'probeset_id': ['TC01000001.hg.1', 'TC01000002.hg.1', 'TC01000003.hg.1', 'TC01000004.hg.1', 'TC01000005.hg.1'], 'seqname': ['chr1', 'chr1', 'chr1', 'chr1', 'chr1'], 'strand': ['+', '+', '+', '+', '+'], 'start': ['11869', '29554', '69091', '160446', '317811'], 'stop': ['14409', '31109', '70008', '161525', '328581'], 'total_probes': [49.0, 60.0, 30.0, 30.0, 191.0], 'gene_assignment': ['NR_046018 // DDX11L1 // DEAD/H (Asp-Glu-Ala-Asp/His) box helicase 11 like 1 // 1p36.33 // 100287102 /// ENST00000456328 // DDX11L5 // DEAD/H (Asp-Glu-Ala-Asp/His) box helicase 11 like 5 // 9p24.3 // 100287596 /// ENST00000456328 // DDX11L1 // DEAD/H (Asp-Glu-Ala-Asp/His) box helicase 11 like 1 // 1p36.33 // 100287102', 'ENST00000408384 // MIR1302-11 // microRNA 1302-11 // --- // 100422919 /// ENST00000408384 // MIR1302-10 // microRNA 1302-10 // --- // 100422834 /// ENST00000408384 // MIR1302-9 // microRNA 1302-9 // --- // 100422831 /// ENST00000408384 // MIR1302-2 // microRNA 1302-2 // --- // 100302278 /// ENST00000469289 // MIR1302-11 // microRNA 1302-11 // --- // 100422919 /// ENST00000469289 // MIR1302-10 // microRNA 1302-10 // --- // 100422834 /// ENST00000469289 // MIR1302-9 // microRNA 1302-9 // --- // 100422831 /// ENST00000469289 // MIR1302-2 // microRNA 1302-2 // --- // 100302278 /// ENST00000473358 // MIR1302-11 // microRNA 1302-11 // --- // 100422919 /// ENST00000473358 // MIR1302-10 // microRNA 1302-10 // --- // 100422834 /// ENST00000473358 // MIR1302-9 // microRNA 1302-9 // --- // 100422831 /// ENST00000473358 // MIR1302-2 // microRNA 1302-2 // --- // 100302278 /// OTTHUMT00000002841 // OTTHUMG00000000959 // NULL // --- // --- /// OTTHUMT00000002841 // RP11-34P13.3 // NULL // --- // --- /// OTTHUMT00000002840 // OTTHUMG00000000959 // NULL // --- // --- /// OTTHUMT00000002840 // RP11-34P13.3 // NULL // --- // ---', 'NM_001005484 // OR4F5 // olfactory receptor, family 4, subfamily F, member 5 // 1p36.33 // 79501 /// ENST00000335137 // OR4F5 // olfactory receptor, family 4, subfamily F, member 5 // 1p36.33 // 79501 /// OTTHUMT00000003223 // OR4F5 // NULL // --- // ---', 'OTTHUMT00000007169 // OTTHUMG00000002525 // NULL // --- // --- /// OTTHUMT00000007169 // RP11-34P13.9 // NULL // --- // ---', 'NR_028322 // LOC100132287 // uncharacterized LOC100132287 // 1p36.33 // 100132287 /// NR_028327 // LOC100133331 // uncharacterized LOC100133331 // 1p36.33 // 100133331 /// ENST00000425496 // LOC101060495 // uncharacterized LOC101060495 // --- // 101060495 /// ENST00000425496 // LOC101060494 // uncharacterized LOC101060494 // --- // 101060494 /// ENST00000425496 // LOC101059936 // uncharacterized LOC101059936 // --- // 101059936 /// ENST00000425496 // LOC100996502 // uncharacterized LOC100996502 // --- // 100996502 /// ENST00000425496 // LOC100996328 // uncharacterized LOC100996328 // --- // 100996328 /// ENST00000425496 // LOC100287894 // uncharacterized LOC100287894 // 7q11.21 // 100287894 /// NR_028325 // LOC100132062 // uncharacterized LOC100132062 // 5q35.3 // 100132062 /// OTTHUMT00000346878 // OTTHUMG00000156968 // NULL // --- // --- /// OTTHUMT00000346878 // RP4-669L17.10 // NULL // --- // --- /// OTTHUMT00000346879 // OTTHUMG00000156968 // NULL // --- // --- /// OTTHUMT00000346879 // RP4-669L17.10 // NULL // --- // --- /// OTTHUMT00000346880 // OTTHUMG00000156968 // NULL // --- // --- /// OTTHUMT00000346880 // RP4-669L17.10 // NULL // --- // --- /// OTTHUMT00000346881 // OTTHUMG00000156968 // NULL // --- // --- /// OTTHUMT00000346881 // RP4-669L17.10 // NULL // --- // ---'], 'mrna_assignment': ['NR_046018 // RefSeq // Homo sapiens DEAD/H (Asp-Glu-Ala-Asp/His) box helicase 11 like 1 (DDX11L1), non-coding RNA. // chr1 // 100 // 100 // 0 // --- // 0 /// ENST00000456328 // ENSEMBL // cdna:known chromosome:GRCh37:1:11869:14409:1 gene:ENSG00000223972 gene_biotype:pseudogene transcript_biotype:processed_transcript // chr1 // 100 // 100 // 0 // --- // 0 /// uc001aaa.3 // UCSC Genes // --- // chr1 // 100 // 100 // 0 // --- // 0 /// uc010nxq.1 // UCSC Genes // --- // chr1 // 100 // 100 // 0 // --- // 0 /// uc010nxr.1 // UCSC Genes // --- // chr1 // 100 // 100 // 0 // --- // 0', 'ENST00000408384 // ENSEMBL // ncrna:miRNA chromosome:GRCh37:1:30366:30503:1 gene:ENSG00000221311 gene_biotype:miRNA transcript_biotype:miRNA // chr1 // 100 // 100 // 0 // --- // 0 /// ENST00000469289 // ENSEMBL // havana:lincRNA chromosome:GRCh37:1:30267:31109:1 gene:ENSG00000243485 gene_biotype:lincRNA transcript_biotype:lincRNA // chr1 // 100 // 100 // 0 // --- // 0 /// ENST00000473358 // ENSEMBL // havana:lincRNA chromosome:GRCh37:1:29554:31097:1 gene:ENSG00000243485 gene_biotype:lincRNA transcript_biotype:lincRNA // chr1 // 100 // 100 // 0 // --- // 0 /// OTTHUMT00000002841 // Havana transcript // cdna:all chromosome:VEGA52:1:30267:31109:1 Gene:OTTHUMG00000000959 // chr1 // 100 // 100 // 0 // --- // 0 /// OTTHUMT00000002840 // Havana transcript // cdna:all chromosome:VEGA52:1:29554:31097:1 Gene:OTTHUMG00000000959 // chr1 // 100 // 100 // 0 // --- // 0', 'NM_001005484 // RefSeq // Homo sapiens olfactory receptor, family 4, subfamily F, member 5 (OR4F5), mRNA. // chr1 // 100 // 100 // 0 // --- // 0 /// ENST00000335137 // ENSEMBL // cdna:known chromosome:GRCh37:1:69091:70008:1 gene:ENSG00000186092 gene_biotype:protein_coding transcript_biotype:protein_coding // chr1 // 100 // 100 // 0 // --- // 0 /// uc001aal.1 // UCSC Genes // --- // chr1 // 100 // 100 // 0 // --- // 0 /// OTTHUMT00000003223 // Havana transcript // cdna:all chromosome:VEGA52:1:69091:70008:1 Gene:OTTHUMG00000001094 // chr1 // 100 // 100 // 0 // --- // 0', 'ENST00000496488 // ENSEMBL // havana:lincRNA chromosome:GRCh37:1:160446:161525:1 gene:ENSG00000241599 gene_biotype:lincRNA transcript_biotype:lincRNA // chr1 // 100 // 100 // 0 // --- // 0 /// OTTHUMT00000007169 // Havana transcript // cdna:all chromosome:VEGA52:1:160446:161525:1 Gene:OTTHUMG00000002525 // chr1 // 100 // 100 // 0 // --- // 0', 'NR_028322 // RefSeq // Homo sapiens uncharacterized LOC100132287 (LOC100132287), non-coding RNA. // chr1 // 100 // 100 // 0 // --- // 0 /// NR_028327 // RefSeq // Homo sapiens uncharacterized LOC100133331 (LOC100133331), non-coding RNA. // chr1 // 100 // 100 // 0 // --- // 0 /// ENST00000425496 // ENSEMBL // ensembl:lincRNA chromosome:GRCh37:1:324756:328453:1 gene:ENSG00000237094 gene_biotype:lincRNA transcript_biotype:lincRNA // chr1 // 100 // 100 // 0 // --- // 0 /// ENST00000426316 // ENSEMBL // [retired] cdna:known chromosome:GRCh37:1:317811:328455:1 gene:ENSG00000240876 gene_biotype:processed_transcript transcript_biotype:processed_transcript // chr1 // 100 // 100 // 0 // --- // 0 /// NR_028325 // RefSeq // Homo sapiens uncharacterized LOC100132062 (LOC100132062), non-coding RNA. // chr1 // 100 // 100 // 0 // --- // 0 /// uc009vjk.2 // UCSC Genes // --- // chr1 // 100 // 100 // 0 // --- // 0 /// uc021oeh.1 // UCSC Genes // --- // chr1 // 100 // 100 // 0 // --- // 0 /// uc021oei.1 // UCSC Genes // --- // chr1 // 100 // 100 // 0 // --- // 0 /// OTTHUMT00000346906 // Havana transcript // [retired] cdna:all chromosome:VEGA50:1:317811:328455:1 Gene:OTTHUMG00000156972 // chr1 // 100 // 100 // 0 // --- // 0 /// OTTHUMT00000346878 // Havana transcript // cdna:all chromosome:VEGA52:1:320162:321056:1 Gene:OTTHUMG00000156968 // chr1 // 100 // 100 // 0 // --- // 0 /// OTTHUMT00000346879 // Havana transcript // cdna:all chromosome:VEGA52:1:320162:324461:1 Gene:OTTHUMG00000156968 // chr1 // 100 // 100 // 0 // --- // 0 /// OTTHUMT00000346880 // Havana transcript // cdna:all chromosome:VEGA52:1:317720:324873:1 Gene:OTTHUMG00000156968 // chr1 // 100 // 100 // 0 // --- // 0 /// OTTHUMT00000346881 // Havana transcript // cdna:all chromosome:VEGA52:1:322672:324955:1 Gene:OTTHUMG00000156968 // chr1 // 100 // 100 // 0 // --- // 0'], 'swissprot': ['NR_046018 // B7ZGX0 /// NR_046018 // B7ZGX2 /// NR_046018 // B7ZGX7 /// NR_046018 // B7ZGX8 /// ENST00000456328 // B7ZGX0 /// ENST00000456328 // B7ZGX2 /// ENST00000456328 // B7ZGX3 /// ENST00000456328 // B7ZGX7 /// ENST00000456328 // B7ZGX8 /// ENST00000456328 // Q6ZU42', '---', 'NM_001005484 // Q8NH21 /// ENST00000335137 // Q8NH21', '---', 'NR_028325 // B4DYM5 /// NR_028325 // B4E0H4 /// NR_028325 // B4E3X0 /// NR_028325 // B4E3X2 /// NR_028325 // Q6ZQS4'], 'unigene': ['NR_046018 // Hs.714157 // testis| normal| adult /// ENST00000456328 // Hs.719844 // brain| testis| normal /// ENST00000456328 // Hs.714157 // testis| normal| adult /// ENST00000456328 // Hs.618434 // testis| normal', 'ENST00000469289 // Hs.622486 // eye| normal| adult /// ENST00000469289 // Hs.729632 // testis| normal /// ENST00000469289 // Hs.742718 // testis /// ENST00000473358 // Hs.622486 // eye| normal| adult /// ENST00000473358 // Hs.729632 // testis| normal /// ENST00000473358 // Hs.742718 // testis', 'NM_001005484 // Hs.554500 // --- /// ENST00000335137 // Hs.554500 // ---', '---', 'NR_028322 // Hs.446409 // adrenal gland| blood| bone| brain| connective tissue| embryonic tissue| eye| intestine| kidney| larynx| lung| lymph node| mouth| pharynx| placenta| prostate| skin| testis| thymus| thyroid| uterus| bladder carcinoma| chondrosarcoma| colorectal tumor| germ cell tumor| head and neck tumor| kidney tumor| leukemia| lung tumor| normal| primitive neuroectodermal tumor of the CNS| uterine tumor|embryoid body| blastocyst| fetus| neonate| adult /// NR_028327 // Hs.733048 // ascites| bladder| blood| brain| embryonic tissue| eye| intestine| kidney| larynx| liver| lung| mammary gland| mouth| pancreas| placenta| prostate| skin| stomach| testis| thymus| thyroid| trachea| uterus| bladder carcinoma| breast (mammary gland) tumor| colorectal tumor| gastrointestinal tumor| head and neck tumor| kidney tumor| leukemia| liver tumor| lung tumor| normal| pancreatic tumor| prostate cancer| retinoblastoma| skin tumor| soft tissue/muscle tissue tumor| uterine tumor|embryoid body| blastocyst| fetus| adult /// ENST00000425496 // Hs.744556 // mammary gland| normal| adult /// ENST00000425496 // Hs.660700 // eye| placenta| testis| normal| adult /// ENST00000425496 // Hs.518952 // blood| brain| intestine| lung| mammary gland| mouth| muscle| pharynx| placenta| prostate| spleen| testis| thymus| thyroid| trachea| breast (mammary gland) tumor| colorectal tumor| head and neck tumor| leukemia| lung tumor| normal| prostate cancer| fetus| adult /// ENST00000425496 // Hs.742131 // testis| normal| adult /// ENST00000425496 // Hs.636102 // uterus| uterine tumor /// ENST00000425496 // Hs.646112 // brain| intestine| larynx| lung| mouth| prostate| testis| thyroid| colorectal tumor| head and neck tumor| lung tumor| normal| prostate cancer| adult /// ENST00000425496 // Hs.647795 // brain| lung| lung tumor| adult /// ENST00000425496 // Hs.684307 // --- /// ENST00000425496 // Hs.720881 // testis| normal /// ENST00000425496 // Hs.729353 // brain| lung| placenta| testis| trachea| lung tumor| normal| fetus| adult /// ENST00000425496 // Hs.735014 // ovary| ovarian tumor /// NR_028325 // Hs.732199 // ascites| blood| brain| connective tissue| embryonic tissue| eye| intestine| kidney| lung| ovary| placenta| prostate| stomach| testis| thymus| uterus| chondrosarcoma| colorectal tumor| gastrointestinal tumor| kidney tumor| leukemia| lung tumor| normal| ovarian tumor| fetus| adult'], 'category': ['main', 'main', 'main', 'main', 'main'], 'locus type': ['Coding', 'Coding', 'Coding', 'Coding', 'Coding'], 'notes': ['---', '---', '---', '---', '2 retired transcript(s) from ENSEMBL, Havana transcript'], 'SPOT_ID': ['chr1(+):11869-14409', 'chr1(+):29554-31109', 'chr1(+):69091-70008', 'chr1(+):160446-161525', 'chr1(+):317811-328581']}\n",
      "\n",
      "Creating mapping between probe IDs and gene symbols...\n"
     ]
    },
    {
     "name": "stdout",
     "output_type": "stream",
     "text": [
      "Mapping data shape: (32670, 3)\n",
      "Sample mapping data:\n",
      "{'ID': ['TC01000001.hg.1', 'TC01000002.hg.1', 'TC01000003.hg.1', 'TC01000004.hg.1', 'TC01000005.hg.1'], 'Gene': [['DDX11L1', 'DDX11L5', 'DDX11L1'], ['MIR1302-11', 'MIR1302-10', 'MIR1302-9', 'MIR1302-2', 'MIR1302-11', 'MIR1302-10', 'MIR1302-9', 'MIR1302-2', 'MIR1302-11', 'MIR1302-10', 'MIR1302-9', 'MIR1302-2', 'OTTHUMG00000000959', 'RP11-34P13.3', 'OTTHUMG00000000959', 'RP11-34P13.3'], ['OR4F5', 'OR4F5', 'OR4F5'], ['OTTHUMG00000002525', 'RP11-34P13.9'], ['LOC100132287', 'LOC100133331', 'LOC101060495', 'LOC101060494', 'LOC101059936', 'LOC100996502', 'LOC100996328', 'LOC100287894', 'LOC100132062', 'OTTHUMG00000156968', 'RP4-669L17.10', 'OTTHUMG00000156968', 'RP4-669L17.10', 'OTTHUMG00000156968', 'RP4-669L17.10', 'OTTHUMG00000156968', 'RP4-669L17.10']]}\n",
      "\n",
      "Found gene symbols for 32670 out of 2692193 probes (1.21%)\n"
     ]
    }
   ],
   "source": [
    "# 1. Use the 'get_gene_annotation' function from the library to get gene annotation data from the SOFT file.\n",
    "gene_annotation = get_gene_annotation(soft_file)\n",
    "\n",
    "# 2. Analyze the gene annotation dataframe to identify which columns contain the gene identifiers and gene symbols\n",
    "print(\"\\nGene annotation preview:\")\n",
    "print(f\"Columns in gene annotation: {gene_annotation.columns.tolist()}\")\n",
    "print(preview_df(gene_annotation, n=5))\n",
    "\n",
    "# Based on the preview, 'gene_assignment' column appears to contain gene symbol information\n",
    "# The format seems to be: \"Accession // Gene Symbol // Description // Location // ID\"\n",
    "# Let's create a mapping function to extract gene symbols from this column\n",
    "\n",
    "def extract_gene_symbols(gene_assignment_str):\n",
    "    \"\"\"Extract gene symbols from gene_assignment column values\"\"\"\n",
    "    if not isinstance(gene_assignment_str, str) or gene_assignment_str == '---':\n",
    "        return []\n",
    "    \n",
    "    # Split by multiple gene entries (separated by ///)\n",
    "    gene_entries = gene_assignment_str.split('///')\n",
    "    gene_symbols = []\n",
    "    \n",
    "    for entry in gene_entries:\n",
    "        parts = entry.strip().split('//')\n",
    "        if len(parts) >= 2:  # We need at least accession and gene symbol\n",
    "            symbol = parts[1].strip()\n",
    "            if symbol and symbol != '---' and symbol != 'NULL':\n",
    "                gene_symbols.append(symbol)\n",
    "    \n",
    "    return gene_symbols\n",
    "\n",
    "# Create a mapping dataframe with probe IDs and gene symbols\n",
    "print(\"\\nCreating mapping between probe IDs and gene symbols...\")\n",
    "mapping_data = gene_annotation[['ID', 'gene_assignment']].copy()\n",
    "mapping_data = mapping_data.dropna(subset=['gene_assignment'])\n",
    "mapping_data = mapping_data[mapping_data['gene_assignment'] != '---']\n",
    "\n",
    "# Extract all gene symbols from the gene_assignment column\n",
    "mapping_data['Gene'] = mapping_data['gene_assignment'].apply(extract_gene_symbols)\n",
    "\n",
    "# Filter out rows with empty gene lists and display sample of mapping data\n",
    "mapping_data = mapping_data[mapping_data['Gene'].apply(len) > 0]\n",
    "print(f\"Mapping data shape: {mapping_data.shape}\")\n",
    "print(\"Sample mapping data:\")\n",
    "print(preview_df(mapping_data[['ID', 'Gene']], n=5))\n",
    "\n",
    "# Count how many probes map to at least one gene symbol\n",
    "genes_mapped = mapping_data.shape[0]\n",
    "total_probes = gene_annotation.shape[0]\n",
    "mapping_percentage = (genes_mapped / total_probes) * 100 if total_probes > 0 else 0\n",
    "print(f\"\\nFound gene symbols for {genes_mapped} out of {total_probes} probes ({mapping_percentage:.2f}%)\")\n",
    "\n",
    "# Save the mapping for later use if needed\n",
    "gene_mapping = mapping_data[['ID', 'Gene']]\n"
   ]
  },
  {
   "cell_type": "markdown",
   "id": "9aa54f6d",
   "metadata": {},
   "source": [
    "### Step 6: Gene Identifier Mapping"
   ]
  },
  {
   "cell_type": "code",
   "execution_count": 7,
   "id": "c780e3bd",
   "metadata": {
    "execution": {
     "iopub.execute_input": "2025-03-25T06:43:14.359879Z",
     "iopub.status.busy": "2025-03-25T06:43:14.359761Z",
     "iopub.status.idle": "2025-03-25T06:44:57.812608Z",
     "shell.execute_reply": "2025-03-25T06:44:57.812221Z"
    }
   },
   "outputs": [
    {
     "name": "stdout",
     "output_type": "stream",
     "text": [
      "Attempting simplified gene mapping approach...\n"
     ]
    },
    {
     "name": "stdout",
     "output_type": "stream",
     "text": [
      "Gene expression data shape after simplified mapping: (40679, 40)\n",
      "Gene expression data preview (first 5 genes):\n",
      "{'GSM3581706': [6.373333333333333, 6.373333333333333, 3.4191666666666665, 0.6783333333333333, 3.4191666666666665], 'GSM3581707': [4.125, 4.125, 3.655, 0.735, 3.655], 'GSM3581708': [3.6849999999999996, 3.6849999999999996, 3.4908333333333332, 0.7216666666666667, 3.4908333333333332], 'GSM3581709': [3.523333333333333, 3.523333333333333, 3.8724999999999996, 0.7183333333333333, 3.8724999999999996], 'GSM3581710': [3.33, 3.33, 3.575, 0.7216666666666667, 3.575], 'GSM3581711': [3.7416666666666667, 3.7416666666666667, 3.63, 0.7116666666666666, 3.63], 'GSM3581712': [3.793333333333333, 3.793333333333333, 3.5075, 0.7416666666666667, 3.5075], 'GSM3581713': [3.6983333333333333, 3.6983333333333333, 3.5108333333333333, 0.7483333333333333, 3.5108333333333333], 'GSM3581714': [3.475, 3.475, 3.560833333333333, 0.7183333333333333, 3.560833333333333], 'GSM3581715': [3.5633333333333335, 3.5633333333333335, 3.595, 0.7249999999999999, 3.595], 'GSM3581716': [3.445, 3.445, 3.6391666666666667, 0.7233333333333333, 3.6391666666666667], 'GSM3581717': [3.833333333333333, 3.833333333333333, 3.581666666666667, 0.7, 3.581666666666667], 'GSM3581718': [3.5933333333333337, 3.5933333333333337, 3.5916666666666663, 0.7266666666666667, 3.5916666666666663], 'GSM3581719': [3.3866666666666667, 3.3866666666666667, 3.834166666666666, 0.7933333333333332, 3.834166666666666], 'GSM3581720': [3.34, 3.34, 3.5633333333333335, 0.6966666666666665, 3.5633333333333335], 'GSM3581721': [3.9383333333333335, 3.9383333333333335, 3.4208333333333334, 0.7133333333333334, 3.4208333333333334], 'GSM3581722': [3.66, 3.66, 3.3641666666666667, 0.6716666666666666, 3.3641666666666667], 'GSM3581723': [3.7416666666666667, 3.7416666666666667, 3.3958333333333335, 0.6966666666666665, 3.3958333333333335], 'GSM3581724': [3.5533333333333332, 3.5533333333333332, 3.5124999999999997, 0.7016666666666667, 3.5124999999999997], 'GSM3581725': [3.655, 3.655, 3.520833333333334, 0.73, 3.520833333333334], 'GSM3581726': [3.7983333333333333, 3.7983333333333333, 3.7524999999999995, 0.7683333333333333, 3.7524999999999995], 'GSM3581727': [3.5583333333333336, 3.5583333333333336, 3.639166666666666, 0.7266666666666667, 3.639166666666666], 'GSM3581728': [3.6566666666666663, 3.6566666666666663, 4.11, 0.8049999999999999, 4.11], 'GSM3581729': [3.808333333333333, 3.808333333333333, 4.054166666666667, 0.8166666666666667, 4.054166666666667], 'GSM3581730': [5.266666666666667, 5.266666666666667, 3.6833333333333336, 0.7283333333333333, 3.6833333333333336], 'GSM3581731': [3.7249999999999996, 3.7249999999999996, 3.58, 0.7483333333333333, 3.58], 'GSM3581732': [3.328333333333333, 3.328333333333333, 3.8225, 0.7566666666666666, 3.8225], 'GSM3581733': [4.045, 4.045, 3.763333333333333, 0.7416666666666667, 3.763333333333333], 'GSM3581734': [3.6816666666666666, 3.6816666666666666, 3.7449999999999997, 0.7449999999999999, 3.7449999999999997], 'GSM3581735': [3.3516666666666666, 3.3516666666666666, 3.7233333333333336, 0.7283333333333333, 3.7233333333333336], 'GSM3581736': [3.57, 3.57, 3.514166666666666, 0.72, 3.514166666666666], 'GSM3581737': [3.7666666666666666, 3.7666666666666666, 3.7391666666666667, 0.815, 3.7391666666666667], 'GSM3581738': [3.8850000000000002, 3.8850000000000002, 3.8133333333333335, 0.7483333333333333, 3.8133333333333335], 'GSM3581739': [3.708333333333333, 3.708333333333333, 3.625, 0.7283333333333333, 3.625], 'GSM3581740': [3.5416666666666665, 3.5416666666666665, 3.5008333333333335, 0.7, 3.5008333333333335], 'GSM3581741': [3.7699999999999996, 3.7699999999999996, 3.5691666666666664, 0.7799999999999999, 3.5691666666666664], 'GSM3581742': [3.7033333333333336, 3.7033333333333336, 3.5525, 0.6916666666666667, 3.5525], 'GSM3581743': [3.46, 3.46, 3.5908333333333333, 0.75, 3.5908333333333333], 'GSM3581744': [3.45, 3.45, 3.603333333333333, 0.7649999999999999, 3.603333333333333], 'GSM3581745': [3.6816666666666666, 3.6816666666666666, 3.5249999999999995, 0.7216666666666667, 3.5249999999999995]}\n"
     ]
    },
    {
     "name": "stdout",
     "output_type": "stream",
     "text": [
      "Gene expression data saved to ../../output/preprocess/Atherosclerosis/gene_data/GSE125771.csv\n"
     ]
    }
   ],
   "source": [
    "# Function for a simplified version of apply_gene_mapping that handles the case more directly\n",
    "def simplified_gene_mapping(expression_df, mapping_df):\n",
    "    \"\"\"\n",
    "    Direct implementation of probe-to-gene mapping that preserves more data\n",
    "    \"\"\"\n",
    "    # Prepare a dictionary to collect expression values by gene\n",
    "    gene_to_expr = {}\n",
    "    \n",
    "    # Process each probe in the expression data\n",
    "    for probe_id in expression_df.index:\n",
    "        # Skip if probe not in mapping\n",
    "        matching_rows = mapping_df[mapping_df['ID'] == probe_id]\n",
    "        if matching_rows.empty:\n",
    "            continue\n",
    "            \n",
    "        # Get the gene list for this probe\n",
    "        gene_list = []\n",
    "        for genes in matching_rows['Gene'].values:\n",
    "            if isinstance(genes, list) and genes:\n",
    "                gene_list.extend(genes)\n",
    "        \n",
    "        # Skip if no genes mapped\n",
    "        if not gene_list:\n",
    "            continue\n",
    "            \n",
    "        # Get unique gene names (to avoid double-counting)\n",
    "        unique_genes = list(set(gene_list))\n",
    "        if not unique_genes:\n",
    "            continue\n",
    "            \n",
    "        # For each sample, distribute expression value among genes\n",
    "        expr_values = expression_df.loc[probe_id]\n",
    "        contribution = 1.0 / len(unique_genes)  # Equal distribution\n",
    "        \n",
    "        # Add contribution to each gene\n",
    "        for gene in unique_genes:\n",
    "            if gene not in gene_to_expr:\n",
    "                gene_to_expr[gene] = pd.Series(0, index=expression_df.columns)\n",
    "            gene_to_expr[gene] += expr_values * contribution\n",
    "    \n",
    "    # Convert the dictionary to a DataFrame\n",
    "    if gene_to_expr:\n",
    "        return pd.DataFrame(gene_to_expr).T\n",
    "    else:\n",
    "        return pd.DataFrame(index=[], columns=expression_df.columns)\n",
    "\n",
    "# Let's try our simplified mapping function\n",
    "print(\"Attempting simplified gene mapping approach...\")\n",
    "# Ensure gene_mapping contains lists in the Gene column\n",
    "if isinstance(gene_mapping['Gene'].iloc[0], str):\n",
    "    gene_mapping['Gene'] = gene_mapping['Gene'].apply(lambda x: [x] if isinstance(x, str) else x)\n",
    "\n",
    "gene_data_mapped = simplified_gene_mapping(gene_data, gene_mapping)\n",
    "print(f\"Gene expression data shape after simplified mapping: {gene_data_mapped.shape}\")\n",
    "\n",
    "# If we still don't have data, attempt with a more aggressive extraction approach\n",
    "if gene_data_mapped.shape[0] == 0:\n",
    "    print(\"Simplified mapping failed. Using a more aggressive approach...\")\n",
    "    \n",
    "    # Extract a direct mapping dictionary by parsing the gene_assignment column\n",
    "    direct_mapping_dict = {}\n",
    "    \n",
    "    # Function to extract the most likely gene name from a gene assignment string\n",
    "    def extract_main_gene(text):\n",
    "        if not isinstance(text, str) or text == '---':\n",
    "            return None\n",
    "        \n",
    "        # Try to find a standard gene name pattern with one or more capital letters followed by digits/letters\n",
    "        patterns = [\n",
    "            r'\\/\\/\\s([A-Z][A-Z0-9]+)\\s\\/\\/',  # Pattern: // GENE //\n",
    "            r'\\/\\/\\s([A-Za-z][A-Za-z0-9]+)\\s\\/\\/',  # More permissive pattern\n",
    "            r'\\/\\/\\s([A-Z][A-Z0-9\\-]+)\\s'  # Another common pattern\n",
    "        ]\n",
    "        \n",
    "        for pattern in patterns:\n",
    "            matches = re.findall(pattern, text)\n",
    "            if matches:\n",
    "                return matches[0]\n",
    "        \n",
    "        # Fallback to any word that looks like a gene symbol\n",
    "        words = text.split()\n",
    "        for word in words:\n",
    "            if re.match(r'^[A-Z][A-Z0-9]{1,14}$', word) and word not in ['RNA', 'DNA', 'PCR']:\n",
    "                return word\n",
    "                \n",
    "        return None\n",
    "    \n",
    "    # Process each probe in the expression data\n",
    "    for probe_id in gene_data.index:\n",
    "        # Find the matching annotation\n",
    "        annotation = gene_annotation[gene_annotation['ID'] == probe_id]\n",
    "        if not annotation.empty and 'gene_assignment' in annotation.columns:\n",
    "            gene_assignment = annotation['gene_assignment'].values[0]\n",
    "            gene = extract_main_gene(gene_assignment)\n",
    "            if gene:\n",
    "                direct_mapping_dict[probe_id] = gene\n",
    "    \n",
    "    print(f\"Created direct mapping dictionary with {len(direct_mapping_dict)} entries\")\n",
    "    \n",
    "    # Apply the direct mapping\n",
    "    gene_sums = {}\n",
    "    for probe_id, gene in direct_mapping_dict.items():\n",
    "        if gene not in gene_sums:\n",
    "            gene_sums[gene] = pd.Series(0, index=gene_data.columns)\n",
    "        gene_sums[gene] += gene_data.loc[probe_id]\n",
    "    \n",
    "    if gene_sums:\n",
    "        gene_data_mapped = pd.DataFrame(gene_sums).T\n",
    "        print(f\"Gene expression data shape after direct mapping: {gene_data_mapped.shape}\")\n",
    "    else:\n",
    "        gene_data_mapped = pd.DataFrame(index=[], columns=gene_data.columns)\n",
    "        print(\"Failed to extract any gene data with all approaches.\")\n",
    "\n",
    "# Use the result (either from simplified_gene_mapping or direct mapping)\n",
    "gene_data = gene_data_mapped\n",
    "\n",
    "# Preview the first few rows of the gene expression data\n",
    "print(\"Gene expression data preview (first 5 genes):\")\n",
    "print(preview_df(gene_data, n=5))\n",
    "\n",
    "# Save the gene expression data to CSV\n",
    "os.makedirs(os.path.dirname(out_gene_data_file), exist_ok=True)\n",
    "gene_data.to_csv(out_gene_data_file)\n",
    "print(f\"Gene expression data saved to {out_gene_data_file}\")"
   ]
  }
 ],
 "metadata": {
  "language_info": {
   "codemirror_mode": {
    "name": "ipython",
    "version": 3
   },
   "file_extension": ".py",
   "mimetype": "text/x-python",
   "name": "python",
   "nbconvert_exporter": "python",
   "pygments_lexer": "ipython3",
   "version": "3.10.16"
  }
 },
 "nbformat": 4,
 "nbformat_minor": 5
}
