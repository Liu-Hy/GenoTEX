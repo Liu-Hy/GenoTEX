{
 "cells": [
  {
   "cell_type": "code",
   "execution_count": 1,
   "id": "858be85f",
   "metadata": {
    "execution": {
     "iopub.execute_input": "2024-06-12T10:24:15.779132Z",
     "iopub.status.busy": "2024-06-12T10:24:15.779029Z",
     "iopub.status.idle": "2024-06-12T10:24:15.783455Z",
     "shell.execute_reply": "2024-06-12T10:24:15.783040Z"
    }
   },
   "outputs": [],
   "source": [
    "\n",
    "import sys\n",
    "sys.path.append('/home/techt/Desktop/a4s')\n"
   ]
  },
  {
   "cell_type": "markdown",
   "id": "ff38b94e",
   "metadata": {},
   "source": [
    "### Step 1: Initial Data Loading"
   ]
  },
  {
   "cell_type": "code",
   "execution_count": 2,
   "id": "39bd2d84",
   "metadata": {
    "execution": {
     "iopub.execute_input": "2024-06-12T10:24:15.784938Z",
     "iopub.status.busy": "2024-06-12T10:24:15.784837Z",
     "iopub.status.idle": "2024-06-12T10:24:16.221345Z",
     "shell.execute_reply": "2024-06-12T10:24:16.220799Z"
    }
   },
   "outputs": [
    {
     "name": "stdout",
     "output_type": "stream",
     "text": [
      "Background Information:\n",
      "!Series_title\t\"Investigation Of Genes Associated With Atherosclerosis In Patients With Systemic Lupus Erythematosus\"\n",
      "!Series_summary\t\"Systemic lupus erythematosus (SLE) is a chronic, autoimmune disease affecting multiple heterogeneous organs and systems. SLE is associated with increased risk of atherosclerosis and increased cardiovascular complications. In this study, we specifically aimed to identify patients with SLE who are genetically at risk for developing atherosclerosis. Sureprint G3 Human Gene Expression 8x60K Microarray kit (Agilent technologies, Santa Clara, CA, USA) was used in our study. Genes showing differences in expression between the groups were identified by using GeneSpring GX 10.0 program. A total of 155 genes showing expression level difference were detected between SLE patients and healthy controls. In molecular network analysis.\"\n",
      "!Series_overall_design\t\"38 patients with systemic lupus erythematosus (36 females, 2 males) and 32 healthy controls (32 females) were included in the study. Sureprint G3 Human Gene Expression 8x60K Microarray kit (Agilent technologies, Santa Clara, CA, USA) was used in our study.\"\n",
      "Sample Characteristics Dictionary:\n",
      "{0: ['tissue: whole blood'], 1: ['gender: female', 'gender: male'], 2: ['age: 18y', 'age: 37y', 'age: 59y', 'age: 36y', 'age: 56y', 'age: 22y', 'age: 53y', 'age: 41y', 'age: 33y', 'age: 52y', 'age: 42y', 'age: 28y', 'age: 45y', 'age: 25y', 'age: 34y', 'age: 40y', 'age: 44y', 'age: 39y', 'age: 51y', 'age: 21y', 'age: 23y', 'age: 32y', 'age: 71y', 'age: 26y', 'age: 31y', 'age: 24y', 'age: 30y', 'age: 47y', 'age: 35y', 'age: 19y']}\n"
     ]
    }
   ],
   "source": [
    "from utils.preprocess import *\n",
    "# 1. Identify the paths to the soft file and the matrix file\n",
    "cohort_dir = '/media/techt/DATA/GEO/Atherosclerosis/GSE154851'\n",
    "soft_file, matrix_file = geo_get_relevant_filepaths(cohort_dir)\n",
    "\n",
    "# 2. Read the matrix file to obtain background information and sample characteristics data\n",
    "background_prefixes = ['!Series_title', '!Series_summary', '!Series_overall_design']\n",
    "clinical_prefixes = ['!Sample_geo_accession', '!Sample_characteristics_ch1']\n",
    "background_info, clinical_data = get_background_and_clinical_data(matrix_file, background_prefixes, clinical_prefixes)\n",
    "\n",
    "# 3. Obtain the sample characteristics dictionary from the clinical dataframe\n",
    "sample_characteristics_dict = get_unique_values_by_row(clinical_data)\n",
    "\n",
    "# 4. Explicitly print out all the background information and the sample characteristics dictionary\n",
    "print(\"Background Information:\")\n",
    "print(background_info)\n",
    "print(\"Sample Characteristics Dictionary:\")\n",
    "print(sample_characteristics_dict)\n"
   ]
  },
  {
   "cell_type": "markdown",
   "id": "1a3e3d91",
   "metadata": {},
   "source": [
    "### Step 2: Dataset Analysis and Clinical Feature Extraction"
   ]
  },
  {
   "cell_type": "code",
   "execution_count": 3,
   "id": "b094dd38",
   "metadata": {
    "execution": {
     "iopub.execute_input": "2024-06-12T10:24:16.223160Z",
     "iopub.status.busy": "2024-06-12T10:24:16.223022Z",
     "iopub.status.idle": "2024-06-12T10:24:16.227647Z",
     "shell.execute_reply": "2024-06-12T10:24:16.227278Z"
    }
   },
   "outputs": [],
   "source": [
    "is_gene_available = False\n",
    "trait_row = age_row = gender_row = None  # set to different values when applicable\n",
    "convert_trait = convert_age = convert_gender = None  # define the functions when applicable\n",
    "\n",
    "# Check gene expression data availability\n",
    "is_gene_available = True  # Dataset uses a Sureprint G3 Human Gene Expression 8x60K Microarray kit\n",
    "\n",
    "# Variable Availability and Data Type Conversion\n",
    "# Atherosclerosis data availability cannot be inferred explicitly from the given sample data\n",
    "trait_row = None\n",
    "\n",
    "# Check for 'age' data availability\n",
    "age_row = 2  # Age data is available under key 2\n",
    "\n",
    "# Check for 'gender' data availability\n",
    "gender_row = 1  # Gender data is available under key 1\n",
    "\n",
    "# Define conversion functions\n",
    "def convert_trait(value):\n",
    "    # This function remains unused in this step as trait_row is None.\n",
    "    return None\n",
    "\n",
    "def convert_age(value):\n",
    "    try:\n",
    "        return float(value.split(': ')[1][:-1])  # Strip 'y' character and convert to float\n",
    "    except (ValueError, IndexError):\n",
    "        return None\n",
    "\n",
    "def convert_gender(value):\n",
    "    gender = value.split(': ')[1].strip().lower()\n",
    "    if gender == 'female':\n",
    "        return 0\n",
    "    elif gender == 'male':\n",
    "        return 1\n",
    "    else:\n",
    "        return None\n",
    "\n",
    "# Save Metadata\n",
    "save_cohort_info('GSE154851', './preprocessed/Atherosclerosis/cohort_info.json', is_gene_available, trait_row is not None)\n",
    "\n",
    "# Clinical Feature Extraction\n",
    "if trait_row is not None:\n",
    "    selected_clinical_data = geo_select_clinical_features(clinical_data, 'Atherosclerosis', trait_row, convert_trait, age_row, convert_age, gender_row, convert_gender)\n",
    "    csv_path = './preprocessed/Atherosclerosis/trait_data/GSE154851.csv'\n",
    "    selected_clinical_data.to_csv(csv_path)\n",
    "    print(preview_df(selected_clinical_data))\n"
   ]
  }
 ],
 "metadata": {
  "language_info": {
   "codemirror_mode": {
    "name": "ipython",
    "version": 3
   },
   "file_extension": ".py",
   "mimetype": "text/x-python",
   "name": "python",
   "nbconvert_exporter": "python",
   "pygments_lexer": "ipython3",
   "version": "3.8.17"
  }
 },
 "nbformat": 4,
 "nbformat_minor": 5
}
