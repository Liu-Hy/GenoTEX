{
 "cells": [
  {
   "cell_type": "code",
   "execution_count": 1,
   "id": "265b0956",
   "metadata": {
    "execution": {
     "iopub.execute_input": "2024-06-12T10:24:14.833468Z",
     "iopub.status.busy": "2024-06-12T10:24:14.833369Z",
     "iopub.status.idle": "2024-06-12T10:24:14.837203Z",
     "shell.execute_reply": "2024-06-12T10:24:14.836909Z"
    }
   },
   "outputs": [],
   "source": [
    "\n",
    "import sys\n",
    "sys.path.append('/home/techt/Desktop/a4s')\n"
   ]
  },
  {
   "cell_type": "markdown",
   "id": "9be1ecae",
   "metadata": {},
   "source": [
    "### Step 1: Initial Data Loading"
   ]
  },
  {
   "cell_type": "code",
   "execution_count": 2,
   "id": "c2a090bd",
   "metadata": {
    "execution": {
     "iopub.execute_input": "2024-06-12T10:24:14.839292Z",
     "iopub.status.busy": "2024-06-12T10:24:14.839193Z",
     "iopub.status.idle": "2024-06-12T10:24:15.122519Z",
     "shell.execute_reply": "2024-06-12T10:24:15.122139Z"
    }
   },
   "outputs": [
    {
     "name": "stdout",
     "output_type": "stream",
     "text": [
      "Background Information:\n",
      "!Series_title\t\"Transcriptional survey of peripheral blood links lower oxygen saturation during sleep with reduced expressions of CD1D and RAB20 that is reversed by CPAP therapy\"\n",
      "!Series_summary\t\"Sleep Disordered Breathing (SDB) is associated with a wide range of physiological changes, likely due in part to the influence of hypoxemia during sleep on gene expression. We studied gene expression in peripheral blood mononuclear cells in association with three measures of SDB: the Apnea Hypopnea Index (AHI); average oxyhemoglobin saturation (avgO2) during sleep; and minimum oxyhemoglobin saturation (minO2) during sleep. We performed discovery analysis in two community-based studies: the Multi-Ethnic Study of Atherosclerosis (MESA; N = 580) and the Framingham Offspring Study (FOS; N=571). Associations with false discovery rate (FDR) q-value<0.05 in one study were considered to have replicated if a p-value<0.05 was observed in the other study. Associations that replicated between cohorts, or with FDR q-value<0.05 in meta-analysis of the two studies, were carried forward for gene expression analysis in the blood of 15 participants from the Heart Biomarkers In Apnea Treatment (HeartBEAT) trial who had moderate or severe obstructive sleep apnea (OSA) and were studied before and after three months of treatment with continuous positive airway pressure (CPAP). We also performed Gene Set Enrichment Analysis based on all trait and cohort analyses. We identified 22 genes associated with SDB traits in both MESA and FHS. Of these, lower CD1D and RAB20 expressions were associated with lower avgO2 in MESA and FHS, and CPAP treatment increased their expression in HeartBEAT. Immunity and inflammation pathways were up-regulated in subjects with lower avgO2, i.e. in those with a more severe SDB phenotype (MESA),  whereas immuno-inflammatory processes were down-regulated in response to CPAP treatment (HeartBEAT).\"\n",
      "!Series_overall_design\t\"The Heart Biomarker Evaluation in Apnea Treatment (HeartBEAT) study is a randomized, 4-site single-blind clinical trial that investigated the efficacy of OSA therapy in reducing cardiovascular disease risk for patients with moderate-severe OSA (ClinicalTrials.gov NCT01086800). Of HeartBEAT participants randomized to the CPAP treatment group, a subsample of 15 individuals who also adhered to CPAP therapy (defined by at least 4 hours of CPAP use over the 3-month intervention period) participated in a gene expression study.  Venous blood was collected following an overnight fast in 8 mL heparinized Cell Prep Tubes containing Ficoll Hypaque (Becton Dickinson #362753) in order to separate peripheral blood mononuclear cells.  The tubes were centrifuged fresh at room temperature for 15 minutes at 2000 G to isolate the buffy coat, which was pelleted, resuspended in Millipore S-002-10F freezing medium, and cryopreserved at -80C.\"\n",
      "Sample Characteristics Dictionary:\n",
      "{0: ['tissue: peripheral blood mononuclear cells'], 1: ['subject: 10031', 'subject: 11874', 'subject: 11992', 'subject: 30234', 'subject: 30665', 'subject: 30838', 'subject: 40044', 'subject: 40266', 'subject: 40657', 'subject: 11928', 'subject: 30031', 'subject: 40269', 'subject: 30624', 'subject: 40971', 'subject: 40197'], 2: ['timepoint: pre-CPAP', 'timepoint: post-CPAP']}\n"
     ]
    }
   ],
   "source": [
    "from utils.preprocess import *\n",
    "# 1. Identify the paths to the soft file and the matrix file\n",
    "cohort_dir = '/media/techt/DATA/GEO/Atherosclerosis/GSE133601'\n",
    "soft_file, matrix_file = geo_get_relevant_filepaths(cohort_dir)\n",
    "\n",
    "# 2. Read the matrix file to obtain background information and sample characteristics data\n",
    "background_prefixes = ['!Series_title', '!Series_summary', '!Series_overall_design']\n",
    "clinical_prefixes = ['!Sample_geo_accession', '!Sample_characteristics_ch1']\n",
    "background_info, clinical_data = get_background_and_clinical_data(matrix_file, background_prefixes, clinical_prefixes)\n",
    "\n",
    "# 3. Obtain the sample characteristics dictionary from the clinical dataframe\n",
    "sample_characteristics_dict = get_unique_values_by_row(clinical_data)\n",
    "\n",
    "# 4. Explicitly print out all the background information and the sample characteristics dictionary\n",
    "print(\"Background Information:\")\n",
    "print(background_info)\n",
    "print(\"Sample Characteristics Dictionary:\")\n",
    "print(sample_characteristics_dict)\n"
   ]
  },
  {
   "cell_type": "markdown",
   "id": "fb2d966d",
   "metadata": {},
   "source": [
    "### Step 2: Dataset Analysis and Clinical Feature Extraction"
   ]
  },
  {
   "cell_type": "code",
   "execution_count": 3,
   "id": "900622ff",
   "metadata": {
    "execution": {
     "iopub.execute_input": "2024-06-12T10:24:15.124364Z",
     "iopub.status.busy": "2024-06-12T10:24:15.124225Z",
     "iopub.status.idle": "2024-06-12T10:24:15.128453Z",
     "shell.execute_reply": "2024-06-12T10:24:15.128153Z"
    }
   },
   "outputs": [
    {
     "name": "stdout",
     "output_type": "stream",
     "text": [
      "A new JSON file was created at: ./preprocessed/Atherosclerosis/cohort_info.json\n"
     ]
    }
   ],
   "source": [
    "is_gene_available = True\n",
    "trait_row = age_row = gender_row = None  # set to different values when applicable\n",
    "convert_trait = convert_age = convert_gender = None  # define the functions when applicable\n",
    "\n",
    "# Function definitions\n",
    "def convert_trait(value):\n",
    "    val = value.split(':')[-1].strip()\n",
    "    if val.lower() == 'pre-cpap':\n",
    "        return 0\n",
    "    elif val.lower() == 'post-cpap':\n",
    "        return 1\n",
    "    return None\n",
    "\n",
    "def convert_age(value):\n",
    "    val = value.split(':')[-1].strip()\n",
    "    try:\n",
    "        return float(val)\n",
    "    except ValueError:\n",
    "        return None\n",
    "\n",
    "def convert_gender(value):\n",
    "    val = value.split(':')[-1].strip().lower()\n",
    "    if val == 'female':\n",
    "        return 0\n",
    "    elif val == 'male':\n",
    "        return 1\n",
    "    return None\n",
    "\n",
    "save_cohort_info('GSE133601', './preprocessed/Atherosclerosis/cohort_info.json', is_gene_available, trait_row is not None)\n"
   ]
  }
 ],
 "metadata": {
  "language_info": {
   "codemirror_mode": {
    "name": "ipython",
    "version": 3
   },
   "file_extension": ".py",
   "mimetype": "text/x-python",
   "name": "python",
   "nbconvert_exporter": "python",
   "pygments_lexer": "ipython3",
   "version": "3.8.17"
  }
 },
 "nbformat": 4,
 "nbformat_minor": 5
}
