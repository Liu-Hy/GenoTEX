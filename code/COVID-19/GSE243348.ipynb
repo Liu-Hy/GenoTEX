{
 "cells": [
  {
   "cell_type": "code",
   "execution_count": 1,
   "id": "8b8d43c1",
   "metadata": {
    "execution": {
     "iopub.execute_input": "2024-06-12T09:37:37.877541Z",
     "iopub.status.busy": "2024-06-12T09:37:37.877376Z",
     "iopub.status.idle": "2024-06-12T09:37:37.882837Z",
     "shell.execute_reply": "2024-06-12T09:37:37.882406Z"
    }
   },
   "outputs": [],
   "source": [
    "\n",
    "import sys\n",
    "sys.path.append('/home/techt/Desktop/a4s')\n"
   ]
  },
  {
   "cell_type": "markdown",
   "id": "8fd17137",
   "metadata": {},
   "source": [
    "### Step 1: Initial Data Loading"
   ]
  },
  {
   "cell_type": "code",
   "execution_count": 2,
   "id": "19a0fad4",
   "metadata": {
    "execution": {
     "iopub.execute_input": "2024-06-12T09:37:37.885164Z",
     "iopub.status.busy": "2024-06-12T09:37:37.884700Z",
     "iopub.status.idle": "2024-06-12T09:37:38.155533Z",
     "shell.execute_reply": "2024-06-12T09:37:38.155150Z"
    }
   },
   "outputs": [
    {
     "name": "stdout",
     "output_type": "stream",
     "text": [
      "Background Information:\n",
      "!Series_title\t\"Longitudinal gene expression profiling of self-collected blood samples in COVID-19+ and healthy participants\"\n",
      "!Series_summary\t\"Longitudinal cohort: 773 host response genes were profiled in previously vaccinated (n=16) and unvaccinated (n=14) COVID-19+ participants along with 5 healthy uninfected controls across a 2-week observational window\"\n",
      "!Series_summary\t\"Single timepoint cohort: 773 host response genes were profiled in 6 healthy uninfected participants\"\n",
      "!Series_overall_design\t\"Longitudinal cohort: 30 COVID-19+ and 5 uninfected participants were asked perform self-collection and stabilization of capillary blood using a novel technology (homeRNA) every other day for two weeks (7 longtiudinal timepoints per participant). Temporal kinetics of 773 immune genes were profiled using the nCounter direct digital counting of native mRNA.\"\n",
      "!Series_overall_design\t\"Single timepoint cohort: 6 healthy uninfected participants were asked perform self-collection and stabilization of capillary blood using a novel technology (homeRNA). Temporal kinetics of 773 immune genes were profiled using the nCounter direct digital counting of native mRNA.\"\n",
      "Sample Characteristics Dictionary:\n",
      "{0: ['disease status: COVID-19+', 'disease status: Healthy uninfected'], 1: ['participant id: CB0101', 'participant id: CB0102', 'participant id: CB0104', 'participant id: CB0106', 'participant id: CB0107', 'participant id: CB0111', 'participant id: CB0112', 'participant id: CB0113', 'participant id: CB0115', 'participant id: CB0116', 'participant id: CB0117', 'participant id: CB0118', 'participant id: CB0119', 'participant id: CB0120', 'participant id: CB0121', 'participant id: CB0122', 'participant id: CB0123', 'participant id: CB0124', 'participant id: CB0125', 'participant id: CB0128', 'participant id: CB0129', 'participant id: CB0130', 'participant id: CB0131', 'participant id: CB0132', 'participant id: CB0133', 'participant id: CB0134', 'participant id: CB0135', 'participant id: CB0136', 'participant id: CB0138', 'participant id: CB0139'], 2: ['Sex: female', 'Sex: male'], 3: ['age: 44', 'age: 29', 'age: 51', 'age: 32', 'age: 27', 'age: 30', 'age: 41', 'age: 43', 'age: 34', 'age: 60', 'age: 24', 'age: 36', 'age: 33', 'age: 53', 'age: 31', 'age: 59', 'age: 40', 'age: 65', 'age: 37', 'age: 39', 'age: 58', 'age: 42', 'age: 28', 'age: 38'], 4: ['covid-19 vaccination history: unvaccinated', 'covid-19 vaccination history: vaccinated', 'covid-19 vaccination history: partial'], 5: ['day post symptom onset: 10', 'day post symptom onset: 13', 'day post symptom onset: 15', 'day post symptom onset: 17', 'day post symptom onset: 19', 'day post symptom onset: 21', 'day post symptom onset: 23', 'day post symptom onset: 9', 'day post symptom onset: 11', 'day post symptom onset: 8', 'day post symptom onset: 12', 'day post symptom onset: 14', 'day post symptom onset: 16', 'day post symptom onset: 18', 'day post symptom onset: 20', 'day post symptom onset: 27', 'day post symptom onset: 25', 'day post symptom onset: 5', 'day post symptom onset: 7', 'day post symptom onset: 6', 'day post symptom onset: 22', 'day post symptom onset: 24', 'day post symptom onset: 26', 'day post symptom onset: 28', 'study day: 1', 'study day: 3', 'study day: 5', 'study day: 7', 'study day: 9', 'study day: 11'], 6: ['study day: 1', 'study day: 4', 'study day: 6', 'study day: 8', 'study day: 10', 'study day: 12', 'study day: 14', 'study day: 3', 'study day: 5', 'study day: 9', 'study day: 11', 'study day: 13', 'study day: 7', 'study day: 15', 'ncounter host response codeset: V1.0', 'ncounter host response codeset: V1.1'], 7: ['ncounter host response codeset: V1.0', 'ncounter host response codeset: V1.1', nan]}\n"
     ]
    }
   ],
   "source": [
    "from utils.preprocess import *\n",
    "# 1. Identify the paths to the soft file and the matrix file\n",
    "cohort_dir = '/media/techt/DATA/GEO/COVID-19/GSE243348'\n",
    "soft_file, matrix_file = geo_get_relevant_filepaths(cohort_dir)\n",
    "\n",
    "# 2. Read the matrix file to obtain background information and sample characteristics data\n",
    "background_prefixes = ['!Series_title', '!Series_summary', '!Series_overall_design']\n",
    "clinical_prefixes = ['!Sample_geo_accession', '!Sample_characteristics_ch1']\n",
    "background_info, clinical_data = get_background_and_clinical_data(matrix_file, background_prefixes, clinical_prefixes)\n",
    "\n",
    "# 3. Obtain the sample characteristics dictionary from the clinical dataframe\n",
    "sample_characteristics_dict = get_unique_values_by_row(clinical_data)\n",
    "\n",
    "# 4. Explicitly print out all the background information and the sample characteristics dictionary\n",
    "print(\"Background Information:\")\n",
    "print(background_info)\n",
    "print(\"Sample Characteristics Dictionary:\")\n",
    "print(sample_characteristics_dict)\n"
   ]
  },
  {
   "cell_type": "markdown",
   "id": "46094d92",
   "metadata": {},
   "source": [
    "### Step 2: Dataset Analysis and Clinical Feature Extraction"
   ]
  },
  {
   "cell_type": "code",
   "execution_count": 3,
   "id": "4a8c8c7a",
   "metadata": {
    "execution": {
     "iopub.execute_input": "2024-06-12T09:37:38.157460Z",
     "iopub.status.busy": "2024-06-12T09:37:38.157349Z",
     "iopub.status.idle": "2024-06-12T09:37:38.200313Z",
     "shell.execute_reply": "2024-06-12T09:37:38.199961Z"
    }
   },
   "outputs": [
    {
     "name": "stdout",
     "output_type": "stream",
     "text": [
      "{'GSM7783810': [1.0, 44.0, 0.0], 'GSM7783811': [1.0, 44.0, 0.0], 'GSM7783812': [1.0, 44.0, 0.0], 'GSM7783813': [1.0, 44.0, 0.0], 'GSM7783814': [1.0, 44.0, 0.0], 'GSM7783815': [1.0, 44.0, 0.0], 'GSM7783816': [1.0, 44.0, 0.0], 'GSM7783817': [1.0, 29.0, 0.0], 'GSM7783818': [1.0, 29.0, 0.0], 'GSM7783819': [1.0, 29.0, 0.0], 'GSM7783820': [1.0, 29.0, 0.0], 'GSM7783821': [1.0, 29.0, 0.0], 'GSM7783822': [1.0, 29.0, 0.0], 'GSM7783823': [1.0, 51.0, 0.0], 'GSM7783824': [1.0, 51.0, 0.0], 'GSM7783825': [1.0, 51.0, 0.0], 'GSM7783826': [1.0, 51.0, 0.0], 'GSM7783827': [1.0, 51.0, 0.0], 'GSM7783828': [1.0, 51.0, 0.0], 'GSM7783829': [1.0, 51.0, 0.0], 'GSM7783830': [1.0, 32.0, 1.0], 'GSM7783831': [1.0, 32.0, 1.0], 'GSM7783832': [1.0, 32.0, 1.0], 'GSM7783833': [1.0, 32.0, 1.0], 'GSM7783834': [1.0, 32.0, 1.0], 'GSM7783835': [1.0, 32.0, 1.0], 'GSM7783836': [1.0, 32.0, 1.0], 'GSM7783837': [1.0, 32.0, 0.0], 'GSM7783838': [1.0, 32.0, 0.0], 'GSM7783839': [1.0, 32.0, 0.0], 'GSM7783840': [1.0, 32.0, 0.0], 'GSM7783841': [1.0, 32.0, 0.0], 'GSM7783842': [1.0, 32.0, 0.0], 'GSM7783843': [1.0, 32.0, 0.0], 'GSM7783844': [1.0, 32.0, 0.0], 'GSM7783845': [1.0, 32.0, 0.0], 'GSM7783846': [1.0, 32.0, 0.0], 'GSM7783847': [1.0, 32.0, 0.0], 'GSM7783848': [1.0, 32.0, 0.0], 'GSM7783849': [1.0, 32.0, 0.0], 'GSM7783850': [1.0, 32.0, 0.0], 'GSM7783851': [1.0, 29.0, 1.0], 'GSM7783852': [1.0, 29.0, 1.0], 'GSM7783853': [1.0, 29.0, 1.0], 'GSM7783854': [1.0, 29.0, 1.0], 'GSM7783855': [1.0, 29.0, 1.0], 'GSM7783856': [1.0, 29.0, 1.0], 'GSM7783857': [1.0, 29.0, 1.0], 'GSM7783858': [1.0, 27.0, 0.0], 'GSM7783859': [1.0, 27.0, 0.0], 'GSM7783860': [1.0, 27.0, 0.0], 'GSM7783861': [1.0, 27.0, 0.0], 'GSM7783862': [1.0, 27.0, 0.0], 'GSM7783863': [1.0, 27.0, 0.0], 'GSM7783864': [1.0, 27.0, 0.0], 'GSM7783865': [1.0, 30.0, 1.0], 'GSM7783866': [1.0, 30.0, 1.0], 'GSM7783867': [1.0, 30.0, 1.0], 'GSM7783868': [1.0, 30.0, 1.0], 'GSM7783869': [1.0, 30.0, 1.0], 'GSM7783870': [1.0, 30.0, 1.0], 'GSM7783871': [1.0, 30.0, 1.0], 'GSM7783872': [1.0, 27.0, 1.0], 'GSM7783873': [1.0, 27.0, 1.0], 'GSM7783874': [1.0, 27.0, 1.0], 'GSM7783875': [1.0, 27.0, 1.0], 'GSM7783876': [1.0, 27.0, 1.0], 'GSM7783877': [1.0, 27.0, 1.0], 'GSM7783878': [1.0, 27.0, 1.0], 'GSM7783879': [1.0, 30.0, 1.0], 'GSM7783880': [1.0, 30.0, 1.0], 'GSM7783881': [1.0, 30.0, 1.0], 'GSM7783882': [1.0, 30.0, 1.0], 'GSM7783883': [1.0, 30.0, 1.0], 'GSM7783884': [1.0, 30.0, 1.0], 'GSM7783885': [1.0, 30.0, 1.0], 'GSM7783886': [1.0, 41.0, 0.0], 'GSM7783887': [1.0, 41.0, 0.0], 'GSM7783888': [1.0, 41.0, 0.0], 'GSM7783889': [1.0, 41.0, 0.0], 'GSM7783890': [1.0, 41.0, 0.0], 'GSM7783891': [1.0, 41.0, 0.0], 'GSM7783892': [1.0, 41.0, 0.0], 'GSM7783893': [1.0, 43.0, 0.0], 'GSM7783894': [1.0, 43.0, 0.0], 'GSM7783895': [1.0, 43.0, 0.0], 'GSM7783896': [1.0, 43.0, 0.0], 'GSM7783897': [1.0, 43.0, 0.0], 'GSM7783898': [1.0, 43.0, 0.0], 'GSM7783899': [1.0, 43.0, 0.0], 'GSM7783900': [1.0, 34.0, 0.0], 'GSM7783901': [1.0, 34.0, 0.0], 'GSM7783902': [1.0, 34.0, 0.0], 'GSM7783903': [1.0, 34.0, 0.0], 'GSM7783904': [1.0, 34.0, 0.0], 'GSM7783905': [1.0, 34.0, 0.0], 'GSM7783906': [1.0, 34.0, 0.0], 'GSM7783907': [1.0, 60.0, 0.0], 'GSM7783908': [1.0, 60.0, 0.0], 'GSM7783909': [1.0, 60.0, 0.0], 'GSM7783910': [1.0, 60.0, 0.0], 'GSM7783911': [1.0, 60.0, 0.0], 'GSM7783912': [1.0, 60.0, 0.0], 'GSM7783913': [1.0, 60.0, 0.0], 'GSM7783914': [1.0, 30.0, 0.0], 'GSM7783915': [1.0, 30.0, 0.0], 'GSM7783916': [1.0, 30.0, 0.0], 'GSM7783917': [1.0, 30.0, 0.0], 'GSM7783918': [1.0, 30.0, 0.0], 'GSM7783919': [1.0, 60.0, 0.0], 'GSM7783920': [1.0, 60.0, 0.0], 'GSM7783921': [1.0, 60.0, 0.0], 'GSM7783922': [1.0, 60.0, 0.0], 'GSM7783923': [1.0, 60.0, 0.0], 'GSM7783924': [1.0, 60.0, 0.0], 'GSM7783925': [1.0, 24.0, 0.0], 'GSM7783926': [1.0, 24.0, 0.0], 'GSM7783927': [1.0, 24.0, 0.0], 'GSM7783928': [1.0, 24.0, 0.0], 'GSM7783929': [1.0, 24.0, 0.0], 'GSM7783930': [1.0, 24.0, 0.0], 'GSM7783931': [1.0, 30.0, 0.0], 'GSM7783932': [1.0, 30.0, 0.0], 'GSM7783933': [1.0, 30.0, 0.0], 'GSM7783934': [1.0, 30.0, 0.0], 'GSM7783935': [1.0, 30.0, 0.0], 'GSM7783936': [1.0, 30.0, 0.0], 'GSM7783937': [1.0, 30.0, 0.0], 'GSM7783938': [1.0, 36.0, 0.0], 'GSM7783939': [1.0, 36.0, 0.0], 'GSM7783940': [1.0, 36.0, 0.0], 'GSM7783941': [1.0, 36.0, 0.0], 'GSM7783942': [1.0, 36.0, 0.0], 'GSM7783943': [1.0, 34.0, 0.0], 'GSM7783944': [1.0, 34.0, 0.0], 'GSM7783945': [1.0, 34.0, 0.0], 'GSM7783946': [1.0, 34.0, 0.0], 'GSM7783947': [1.0, 34.0, 0.0], 'GSM7783948': [1.0, 34.0, 0.0], 'GSM7783949': [1.0, 34.0, 0.0], 'GSM7783950': [1.0, 33.0, 1.0], 'GSM7783951': [1.0, 33.0, 1.0], 'GSM7783952': [1.0, 33.0, 1.0], 'GSM7783953': [1.0, 33.0, 1.0], 'GSM7783954': [1.0, 33.0, 1.0], 'GSM7783955': [1.0, 33.0, 1.0], 'GSM7783956': [1.0, 33.0, 1.0], 'GSM7783957': [1.0, 24.0, 1.0], 'GSM7783958': [1.0, 24.0, 1.0], 'GSM7783959': [1.0, 24.0, 1.0], 'GSM7783960': [1.0, 24.0, 1.0], 'GSM7783961': [1.0, 24.0, 1.0], 'GSM7783962': [1.0, 24.0, 1.0], 'GSM7783963': [1.0, 24.0, 1.0], 'GSM7783964': [1.0, 53.0, 0.0], 'GSM7783965': [1.0, 53.0, 0.0], 'GSM7783966': [1.0, 53.0, 0.0], 'GSM7783967': [1.0, 53.0, 0.0], 'GSM7783968': [1.0, 53.0, 0.0], 'GSM7783969': [1.0, 53.0, 0.0], 'GSM7783970': [1.0, 53.0, 0.0], 'GSM7783971': [1.0, 31.0, 1.0], 'GSM7783972': [1.0, 31.0, 1.0], 'GSM7783973': [1.0, 31.0, 1.0], 'GSM7783974': [1.0, 31.0, 1.0], 'GSM7783975': [1.0, 31.0, 1.0], 'GSM7783976': [1.0, 31.0, 1.0], 'GSM7783977': [1.0, 31.0, 1.0], 'GSM7783978': [1.0, 59.0, 1.0], 'GSM7783979': [1.0, 59.0, 1.0], 'GSM7783980': [1.0, 59.0, 1.0], 'GSM7783981': [1.0, 59.0, 1.0], 'GSM7783982': [1.0, 59.0, 1.0], 'GSM7783983': [1.0, 59.0, 1.0], 'GSM7783984': [1.0, 59.0, 1.0], 'GSM7783985': [1.0, 40.0, 0.0], 'GSM7783986': [1.0, 40.0, 0.0], 'GSM7783987': [1.0, 40.0, 0.0], 'GSM7783988': [1.0, 40.0, 0.0], 'GSM7783989': [1.0, 40.0, 0.0], 'GSM7783990': [1.0, 40.0, 0.0], 'GSM7783991': [1.0, 40.0, 0.0], 'GSM7783992': [1.0, 65.0, 1.0], 'GSM7783993': [1.0, 65.0, 1.0], 'GSM7783994': [1.0, 65.0, 1.0], 'GSM7783995': [1.0, 65.0, 1.0], 'GSM7783996': [1.0, 37.0, 0.0], 'GSM7783997': [1.0, 37.0, 0.0], 'GSM7783998': [1.0, 37.0, 0.0], 'GSM7783999': [1.0, 37.0, 0.0], 'GSM7784000': [1.0, 37.0, 0.0], 'GSM7784001': [1.0, 37.0, 0.0], 'GSM7784002': [1.0, 37.0, 0.0], 'GSM7784003': [1.0, 39.0, 1.0], 'GSM7784004': [1.0, 39.0, 1.0], 'GSM7784005': [1.0, 39.0, 1.0], 'GSM7784006': [1.0, 39.0, 1.0], 'GSM7784007': [1.0, 39.0, 1.0], 'GSM7784008': [1.0, 39.0, 1.0], 'GSM7784009': [1.0, 39.0, 1.0]}\n"
     ]
    }
   ],
   "source": [
    "is_gene_available = True\n",
    "trait_row = 0\n",
    "age_row = 3\n",
    "gender_row = 2 \n",
    "\n",
    "def convert_trait(value):\n",
    "    v = value.split(\":\")[1].strip()\n",
    "    if v == 'COVID-19+':\n",
    "        return 1\n",
    "    elif v == 'Healthy uninfected':\n",
    "        return 0\n",
    "    return None\n",
    "\n",
    "def convert_age(value):\n",
    "    v = value.split(\":\")[1].strip()\n",
    "    try:\n",
    "        return float(v)\n",
    "    except:\n",
    "        return None\n",
    "\n",
    "def convert_gender(value):\n",
    "    v = value.split(\":\")[1].strip()\n",
    "    if v == 'female':\n",
    "        return 0\n",
    "    elif v == 'male':\n",
    "        return 1\n",
    "    return None\n",
    "\n",
    "save_cohort_info('GSE243348', './preprocessed/COVID-19/cohort_info.json', is_gene_available, trait_row is not None)\n",
    "\n",
    "selected_clinical_data = geo_select_clinical_features(clinical_data, 'COVID-19', trait_row, convert_trait, age_row, convert_age, gender_row, convert_gender)\n",
    "csv_path = './preprocessed/COVID-19/trait_data/GSE243348.csv'\n",
    "selected_clinical_data.to_csv(csv_path)\n",
    "print(preview_df(selected_clinical_data))\n"
   ]
  },
  {
   "cell_type": "markdown",
   "id": "52d3e074",
   "metadata": {},
   "source": [
    "### Step 3: Gene Data Extraction"
   ]
  },
  {
   "cell_type": "code",
   "execution_count": 4,
   "id": "63fbf1db",
   "metadata": {
    "execution": {
     "iopub.execute_input": "2024-06-12T09:37:38.202211Z",
     "iopub.status.busy": "2024-06-12T09:37:38.201901Z",
     "iopub.status.idle": "2024-06-12T09:37:38.243052Z",
     "shell.execute_reply": "2024-06-12T09:37:38.242757Z"
    }
   },
   "outputs": [
    {
     "name": "stdout",
     "output_type": "stream",
     "text": [
      "Index(['ACE', 'ACKR2', 'ACKR3', 'ACKR4', 'ACOX1', 'ACSL1', 'ACSL3', 'ACSL4',\n",
      "       'ACVR1', 'ADAR', 'ADGRE5', 'ADGRG3', 'ADORA2A', 'AGT', 'AHR', 'AIF1',\n",
      "       'AIM2', 'AKT1', 'AKT2', 'AKT3'],\n",
      "      dtype='object', name='ID')\n"
     ]
    }
   ],
   "source": [
    "# 1. Use the get_genetic_data function from the library to get the gene_data from the matrix_file previously defined.\n",
    "gene_data = get_genetic_data(matrix_file)\n",
    "\n",
    "# 2. Print the first 20 row ids for the following step.\n",
    "print(gene_data.index[:20])\n"
   ]
  },
  {
   "cell_type": "markdown",
   "id": "2b387be4",
   "metadata": {},
   "source": [
    "### Step 4: Gene Identifier Review"
   ]
  },
  {
   "cell_type": "code",
   "execution_count": 5,
   "id": "deab7838",
   "metadata": {
    "execution": {
     "iopub.execute_input": "2024-06-12T09:37:38.244745Z",
     "iopub.status.busy": "2024-06-12T09:37:38.244639Z",
     "iopub.status.idle": "2024-06-12T09:37:38.246617Z",
     "shell.execute_reply": "2024-06-12T09:37:38.246330Z"
    }
   },
   "outputs": [],
   "source": [
    "requires_gene_mapping = False\n"
   ]
  },
  {
   "cell_type": "markdown",
   "id": "97901d15",
   "metadata": {},
   "source": [
    "### Step 5: Gene Annotation (Conditional)"
   ]
  },
  {
   "cell_type": "code",
   "execution_count": 6,
   "id": "66e6c5e5",
   "metadata": {
    "execution": {
     "iopub.execute_input": "2024-06-12T09:37:38.248687Z",
     "iopub.status.busy": "2024-06-12T09:37:38.248564Z",
     "iopub.status.idle": "2024-06-12T09:37:38.441702Z",
     "shell.execute_reply": "2024-06-12T09:37:38.441309Z"
    }
   },
   "outputs": [
    {
     "name": "stdout",
     "output_type": "stream",
     "text": [
      "Gene annotation preview:\n",
      "{'ID': ['ACE', 'ACKR2', 'ACKR3', 'ACKR4', 'ACOX1'], 'GB_ACC': ['NM_000789.2', 'NM_001296.5', 'NM_020311.1', 'NM_016557.2', 'NM_001185039.1'], 'PROBE ID - v1.0': ['NM_000789.2:2115', 'NM_001296.5:741', 'NM_020311.1:375', 'NM_016557.2:854', 'NM_001185039.1:1094'], 'PROBE ID - v1.1': ['NM_000789.2:2115', 'NM_001296.5:741', 'NM_020311.1:375', 'NM_016557.2:854', 'NM_001185039.1:1094'], 'SPOT_ID': [nan, nan, nan, nan, nan]}\n"
     ]
    }
   ],
   "source": [
    "# 1. Use the 'get_gene_annotation' function from the library to get gene annotation data from the soft file.\n",
    "gene_annotation = get_gene_annotation(soft_file)\n",
    "\n",
    "# 2. Use the 'preview_df' function from the library to preview the data and print out the results.\n",
    "print(\"Gene annotation preview:\")\n",
    "print(preview_df(gene_annotation))\n"
   ]
  },
  {
   "cell_type": "markdown",
   "id": "a3154b13",
   "metadata": {},
   "source": [
    "### Step 6: Skipping as requires_gene_mapping is False: Unknown Step"
   ]
  },
  {
   "cell_type": "code",
   "execution_count": 7,
   "id": "88c56b7e",
   "metadata": {
    "execution": {
     "iopub.execute_input": "2024-06-12T09:37:38.443451Z",
     "iopub.status.busy": "2024-06-12T09:37:38.443317Z",
     "iopub.status.idle": "2024-06-12T09:37:38.445417Z",
     "shell.execute_reply": "2024-06-12T09:37:38.445111Z"
    }
   },
   "outputs": [],
   "source": [
    "\n",
    "# Moving forward to the next tasks without implementing STEP6 as requires_gene_mapping is False.\n"
   ]
  },
  {
   "cell_type": "markdown",
   "id": "c48b90a6",
   "metadata": {},
   "source": [
    "### Step 7: Data Normalization and Merging"
   ]
  },
  {
   "cell_type": "code",
   "execution_count": 8,
   "id": "f1d206f6",
   "metadata": {
    "execution": {
     "iopub.execute_input": "2024-06-12T09:37:38.446741Z",
     "iopub.status.busy": "2024-06-12T09:37:38.446640Z",
     "iopub.status.idle": "2024-06-12T09:37:40.706546Z",
     "shell.execute_reply": "2024-06-12T09:37:40.706155Z"
    }
   },
   "outputs": [
    {
     "name": "stdout",
     "output_type": "stream",
     "text": [
      "For the feature 'COVID-19', the least common label is '0.0' with 37 occurrences. This represents 15.61% of the dataset.\n",
      "The distribution of the feature 'COVID-19' in this dataset is fine.\n",
      "\n",
      "Quartiles for 'Age':\n",
      "  25%: 30.0\n",
      "  50% (Median): 36.0\n",
      "  75%: 43.0\n",
      "Min: 24.0\n",
      "Max: 65.0\n",
      "The distribution of the feature 'Age' in this dataset is fine.\n",
      "\n",
      "For the feature 'Gender', the least common label is '1.0' with 77 occurrences. This represents 32.49% of the dataset.\n",
      "The distribution of the feature 'Gender' in this dataset is fine.\n",
      "\n",
      "A new JSON file was created at: ./preprocessed/COVID-19/cohort_info.json\n"
     ]
    }
   ],
   "source": [
    "# 1. Normalize the obtained gene data with the 'normalize_gene_symbols_in_index' function from the library.\n",
    "normalized_gene_data = normalize_gene_symbols_in_index(gene_data)\n",
    "gene_csv_path = './preprocessed/COVID-19/gene_data/GSE243348.csv'\n",
    "normalized_gene_data.to_csv(gene_csv_path)\n",
    "\n",
    "# 2. Merge the clinical and genetic data with the 'geo_merge_clinical_genetic_data' function from the library.\n",
    "merged_data = geo_merge_clinical_genetic_data(selected_clinical_data, normalized_gene_data)\n",
    "\n",
    "# 3. Determine whether the trait and some demographic attributes in the data is severely biased, and remove biased attributes.\n",
    "trait_biased, unbiased_merged_data = judge_and_remove_biased_features(merged_data, 'COVID-19')\n",
    "\n",
    "# 4. Save the cohort information.\n",
    "save_cohort_info('GSE243348', './preprocessed/COVID-19/cohort_info.json', True, True, trait_biased, merged_data)\n",
    "\n",
    "if not trait_biased:\n",
    "    # 5. If the trait is not severely biased, save the merged data to a csv file.\n",
    "    csv_path = './preprocessed/COVID-19/GSE243348.csv'\n",
    "    unbiased_merged_data.to_csv(csv_path)\n"
   ]
  }
 ],
 "metadata": {
  "language_info": {
   "codemirror_mode": {
    "name": "ipython",
    "version": 3
   },
   "file_extension": ".py",
   "mimetype": "text/x-python",
   "name": "python",
   "nbconvert_exporter": "python",
   "pygments_lexer": "ipython3",
   "version": "3.8.17"
  }
 },
 "nbformat": 4,
 "nbformat_minor": 5
}
