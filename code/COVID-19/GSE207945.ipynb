{
 "cells": [
  {
   "cell_type": "code",
   "execution_count": 1,
   "id": "f97ef0e0",
   "metadata": {
    "execution": {
     "iopub.execute_input": "2024-06-12T09:37:41.668793Z",
     "iopub.status.busy": "2024-06-12T09:37:41.668634Z",
     "iopub.status.idle": "2024-06-12T09:37:41.674064Z",
     "shell.execute_reply": "2024-06-12T09:37:41.673667Z"
    }
   },
   "outputs": [],
   "source": [
    "\n",
    "import sys\n",
    "sys.path.append('/home/techt/Desktop/a4s')\n"
   ]
  },
  {
   "cell_type": "markdown",
   "id": "718456a4",
   "metadata": {},
   "source": [
    "### Step 1: Initial Data Loading"
   ]
  },
  {
   "cell_type": "code",
   "execution_count": 2,
   "id": "2650dba9",
   "metadata": {
    "execution": {
     "iopub.execute_input": "2024-06-12T09:37:41.676706Z",
     "iopub.status.busy": "2024-06-12T09:37:41.676551Z",
     "iopub.status.idle": "2024-06-12T09:37:42.000238Z",
     "shell.execute_reply": "2024-06-12T09:37:41.999816Z"
    }
   },
   "outputs": [
    {
     "name": "stdout",
     "output_type": "stream",
     "text": [
      "Background Information:\n",
      "!Series_title\t\"Evaluating the utility of proteomics for the identification of circulating pharmacodynamic biomarkers of IFNβ-1 biologics\"\n",
      "!Series_summary\t\"In this study, we evaluated the utility of proteomics to identify plasma proteins in healthy participants from a phase I clinical trial with IFNβ-1a and pegIFNβ-1a biologics to identify potential pharmacodynamic (PD) biomarkers. Using a linear mixed-effects model with repeated measurement for product-time interaction, we found that 248 and 528 analytes detected by the SOMAscan® assay were differentially expressed (p-value < 6.86E-06) between therapeutic doses of IFNβ-1a or pegIFNβ-1a, and placebo, respectively. We further prioritized signals based on peak change, area under the effect curve over the study duration, and overlap in signals from the two products. Analysis of prioritized datasets indicated activation of IFNB1 signaling and an IFNB signaling node with IL-6 as upstream regulators of the plasma protein patterns from both products. Increased TNF, IL-1B, IFNG, and IFNA signaling also occurred early in response to each product suggesting a direct link between each product and these upstream regulators.  In summary, we identified longitudinal global PD changes in a large array of new and previously reported circulating proteins in healthy participants treated with IFNβ-1a and pegIFNβ-1a that may help identify novel single proteomic PD biomarkers and/or composite PD biomarker signatures as well as provide insight into the mechanism of action of these products. Independent replication is needed to confirm present proteomic results and to support further investigation of the identified candidate PD biomarkers for biosimilar product development.\"\n",
      "!Series_overall_design\t\"The study includes data on >7000 proteins from 12 subjects treated with IFNβ-1a, 12 with pegIFNβ-1a and 12 with placebo. The 12 subjects on IFNβ-1a were tested at 10 timepoints over 6 days, and the rest were tested at 12 time points over 13 days. Replicates for 4 random samples were included on the array. Two covid covalacent plasma samples were also included on the array.\"\n",
      "!Series_overall_design\t\"Submitter states: Raw data is normalized using specific plasma standards by the manufacturer. The raw data can not be used as is.\"\n",
      "Sample Characteristics Dictionary:\n",
      "{0: ['drug group: Covid-19 covalescent plasma', 'drug group: pegIFNBeta-1a', 'drug group: IFNBeta-1a', 'drug group: IFNBeta-1a_placebo', 'drug group: pegIFNBeta-1a_placebo'], 1: ['delivery: .', 'delivery: SC', 'delivery: IM'], 2: ['dose: .', 'dose: 125', 'dose: 30'], 3: ['timepoint: .', 'timepoint: 0:00:00', 'timepoint: 3:00:00', 'timepoint: 8:00:00', 'timepoint: 16:00:00', 'timepoint: 32:00:00', 'timepoint: 48:00:00', 'timepoint: 72:00:00', 'timepoint: 96:00:00', 'timepoint: 120:00:00', 'timepoint: 144:00:00', 'timepoint: 216:00:00', 'timepoint: 312:00:00']}\n"
     ]
    }
   ],
   "source": [
    "from utils.preprocess import *\n",
    "# 1. Identify the paths to the soft file and the matrix file\n",
    "cohort_dir = '/media/techt/DATA/GEO/COVID-19/GSE207945'\n",
    "soft_file, matrix_file = geo_get_relevant_filepaths(cohort_dir)\n",
    "\n",
    "# 2. Read the matrix file to obtain background information and sample characteristics data\n",
    "background_prefixes = ['!Series_title', '!Series_summary', '!Series_overall_design']\n",
    "clinical_prefixes = ['!Sample_geo_accession', '!Sample_characteristics_ch1']\n",
    "background_info, clinical_data = get_background_and_clinical_data(matrix_file, background_prefixes, clinical_prefixes)\n",
    "\n",
    "# 3. Obtain the sample characteristics dictionary from the clinical dataframe\n",
    "sample_characteristics_dict = get_unique_values_by_row(clinical_data)\n",
    "\n",
    "# 4. Explicitly print out all the background information and the sample characteristics dictionary\n",
    "print(\"Background Information:\")\n",
    "print(background_info)\n",
    "print(\"Sample Characteristics Dictionary:\")\n",
    "print(sample_characteristics_dict)\n"
   ]
  },
  {
   "cell_type": "markdown",
   "id": "1dc4e706",
   "metadata": {},
   "source": [
    "### Step 2: Dataset Analysis and Clinical Feature Extraction"
   ]
  },
  {
   "cell_type": "code",
   "execution_count": 3,
   "id": "3d8386d7",
   "metadata": {
    "execution": {
     "iopub.execute_input": "2024-06-12T09:37:42.002191Z",
     "iopub.status.busy": "2024-06-12T09:37:42.002054Z",
     "iopub.status.idle": "2024-06-12T09:37:42.032760Z",
     "shell.execute_reply": "2024-06-12T09:37:42.032414Z"
    }
   },
   "outputs": [
    {
     "name": "stdout",
     "output_type": "stream",
     "text": [
      "{'GSM6323672': [0], 'GSM6323673': [0], 'GSM6323674': [0], 'GSM6323675': [0], 'GSM6323676': [0], 'GSM6323677': [0], 'GSM6323678': [0], 'GSM6323679': [0], 'GSM6323680': [0], 'GSM6323681': [0], 'GSM6323682': [0], 'GSM6323683': [0], 'GSM6323684': [0], 'GSM6323685': [0], 'GSM6323686': [0], 'GSM6323687': [0], 'GSM6323688': [0], 'GSM6323689': [0], 'GSM6323690': [0], 'GSM6323691': [0], 'GSM6323692': [0], 'GSM6323693': [0], 'GSM6323694': [0], 'GSM6323695': [0], 'GSM6323696': [0], 'GSM6323697': [0], 'GSM6323698': [0], 'GSM6323699': [0], 'GSM6323700': [0], 'GSM6323701': [0], 'GSM6323702': [0], 'GSM6323703': [0], 'GSM6323704': [0], 'GSM6323705': [0], 'GSM6323706': [0], 'GSM6323707': [0], 'GSM6323708': [0], 'GSM6323709': [0], 'GSM6323710': [0], 'GSM6323711': [0], 'GSM6323712': [0], 'GSM6323713': [0], 'GSM6323714': [0], 'GSM6323715': [0], 'GSM6323716': [0], 'GSM6323717': [0], 'GSM6323718': [0], 'GSM6323719': [0], 'GSM6323720': [0], 'GSM6323721': [0], 'GSM6323722': [0], 'GSM6323723': [0], 'GSM6323724': [0], 'GSM6323725': [0], 'GSM6323726': [0], 'GSM6323727': [0], 'GSM6323728': [0], 'GSM6323729': [0], 'GSM6323730': [0], 'GSM6323731': [0], 'GSM6323732': [0], 'GSM6323733': [0], 'GSM6323734': [0], 'GSM6323735': [0], 'GSM6323736': [0], 'GSM6323737': [0], 'GSM6323738': [0], 'GSM6323739': [0], 'GSM6323740': [0], 'GSM6323741': [0], 'GSM6323742': [0], 'GSM6323743': [0], 'GSM6323744': [0], 'GSM6323745': [0], 'GSM6323746': [0], 'GSM6323747': [0], 'GSM6323748': [0], 'GSM6323749': [0], 'GSM6323750': [0], 'GSM6323751': [0], 'GSM6323752': [0], 'GSM6323753': [0], 'GSM6323754': [0], 'GSM6323755': [0], 'GSM6323756': [0], 'GSM6323757': [0], 'GSM6323758': [0], 'GSM6323759': [0], 'GSM6323760': [0], 'GSM6323761': [0], 'GSM6323762': [0], 'GSM6323763': [0], 'GSM6323764': [0], 'GSM6323765': [0], 'GSM6323766': [0], 'GSM6323767': [0], 'GSM6323768': [0], 'GSM6323769': [0], 'GSM6323770': [0], 'GSM6323771': [0], 'GSM6323772': [0], 'GSM6323773': [0], 'GSM6323774': [0], 'GSM6323775': [0], 'GSM6323776': [0], 'GSM6323777': [0], 'GSM6323778': [0], 'GSM6323779': [0], 'GSM6323780': [0], 'GSM6323781': [0], 'GSM6323782': [0], 'GSM6323783': [0], 'GSM6323784': [0], 'GSM6323785': [0], 'GSM6323786': [0], 'GSM6323787': [0], 'GSM6323788': [0], 'GSM6323789': [0], 'GSM6323790': [0], 'GSM6323791': [0], 'GSM6323792': [0], 'GSM6323793': [0], 'GSM6323794': [0], 'GSM6323795': [0], 'GSM6323796': [0], 'GSM6323797': [0], 'GSM6323798': [0], 'GSM6323799': [0], 'GSM6323800': [0], 'GSM6323801': [0], 'GSM6323802': [0], 'GSM6323803': [0], 'GSM6323804': [0], 'GSM6323805': [0], 'GSM6323806': [0], 'GSM6323807': [0], 'GSM6323808': [0], 'GSM6323809': [0], 'GSM6323810': [0], 'GSM6323811': [0], 'GSM6323812': [0], 'GSM6323813': [0], 'GSM6323814': [0], 'GSM6323815': [0], 'GSM6323816': [0], 'GSM6323817': [0], 'GSM6323818': [0], 'GSM6323819': [0], 'GSM6323820': [0], 'GSM6323821': [0], 'GSM6323822': [0], 'GSM6323823': [0], 'GSM6323824': [0], 'GSM6323825': [0], 'GSM6323826': [0], 'GSM6323827': [0], 'GSM6323828': [0], 'GSM6323829': [0], 'GSM6323830': [0], 'GSM6323831': [0], 'GSM6323832': [0], 'GSM6323833': [0], 'GSM6323834': [0], 'GSM6323835': [0], 'GSM6323836': [0], 'GSM6323837': [0], 'GSM6323838': [0], 'GSM6323839': [0], 'GSM6323840': [0], 'GSM6323841': [0], 'GSM6323842': [0], 'GSM6323843': [0], 'GSM6323844': [0], 'GSM6323845': [0], 'GSM6323846': [0], 'GSM6323847': [0], 'GSM6323848': [0], 'GSM6323849': [0], 'GSM6323850': [0], 'GSM6323851': [0], 'GSM6323852': [0], 'GSM6323853': [0], 'GSM6323854': [0], 'GSM6323855': [0], 'GSM6323856': [0], 'GSM6323857': [0], 'GSM6323858': [0], 'GSM6323859': [0], 'GSM6323860': [0], 'GSM6323861': [0], 'GSM6323862': [0], 'GSM6323863': [0], 'GSM6323864': [0], 'GSM6323865': [0], 'GSM6323866': [0], 'GSM6323867': [0], 'GSM6323868': [0], 'GSM6323869': [0], 'GSM6323870': [0], 'GSM6323871': [0]}\n"
     ]
    }
   ],
   "source": [
    "is_gene_available = False\n",
    "trait_row = age_row = gender_row = None  # set to different values when applicable\n",
    "convert_trait = convert_age = convert_age = None  # define the functions when applicable\n",
    "\n",
    "# Check for gene expression data availability\n",
    "is_gene_available = False  # proteomic data is not gene expression data\n",
    "\n",
    "# Variable Availability and Data Type Conversion\n",
    "\n",
    "# Define conversion functions\n",
    "def convert_trait(value):\n",
    "    try:\n",
    "        _, val = value.split(': ')\n",
    "        if val.lower() == 'covalescent plasma':\n",
    "            return 1\n",
    "        else:\n",
    "            return 0\n",
    "    except:\n",
    "        return None\n",
    "\n",
    "def convert_age(value):\n",
    "    try:\n",
    "        _, val = value.split(': ')\n",
    "        return float(val)\n",
    "    except:\n",
    "        return None\n",
    "\n",
    "def convert_gender(value):\n",
    "    try:\n",
    "        _, val = value.split(': ')\n",
    "        if val.lower() == 'male':\n",
    "            return 1\n",
    "        elif val.lower() == 'female':\n",
    "            return 0\n",
    "        else:\n",
    "            return None\n",
    "    except:\n",
    "        return None\n",
    "\n",
    "# Analyzing Sample Characteristics Dictionary for Data Availability\n",
    "# Inferred from output of step 1\n",
    "sample_characteristics = {\n",
    "    0: ['drug group: Covid-19 covalescent plasma', 'drug group: pegIFNBeta-1a', 'drug group: IFNBeta-1a', 'drug group: IFNBeta-1a_placebo', 'drug group: pegIFNBeta-1a_placebo'],\n",
    "    1: ['delivery: .', 'delivery: SC', 'delivery: IM'],\n",
    "    2: ['dose: .', 'dose: 125', 'dose: 30'],\n",
    "    3: ['timepoint: .', 'timepoint: 0:00:00', 'timepoint: 3:00:00', 'timepoint: 8:00:00', 'timepoint: 16:00:00', 'timepoint: 32:00:00', 'timepoint: 48:00:00', 'timepoint: 72:00:00', 'timepoint: 96:00:00', 'timepoint: 120:00:00', 'timepoint: 144:00:00', 'timepoint: 216:00:00', 'timepoint: 312:00:00'],\n",
    "}\n",
    "\n",
    "# Extract keys from characteristics dictionary\n",
    "trait_row = 0 if 'drug group: Covid-19 covalescent plasma' in sample_characteristics[0] else None\n",
    "age_row = None  # Age data is not explicitly given in the provided sample characteristics\n",
    "gender_row = None  # Gender data is not explicitly given in the provided sample characteristics\n",
    "\n",
    "# Save cohort information\n",
    "save_cohort_info('GSE207945', './preprocessed/COVID-19/cohort_info.json', is_gene_available, trait_row is not None)\n",
    "\n",
    "# Clinical Feature Extraction\n",
    "if trait_row is not None:\n",
    "    # import the already available 'clinical_data'\n",
    "    selected_clinical_data = geo_select_clinical_features(clinical_data, 'COVID-19', trait_row, convert_trait, age_row, convert_age, gender_row, convert_gender)\n",
    "    csv_path = './preprocessed/COVID-19/trait_data/GSE207945.csv'\n",
    "    selected_clinical_data.to_csv(csv_path)\n",
    "    print(preview_df(selected_clinical_data))\n"
   ]
  }
 ],
 "metadata": {
  "language_info": {
   "codemirror_mode": {
    "name": "ipython",
    "version": 3
   },
   "file_extension": ".py",
   "mimetype": "text/x-python",
   "name": "python",
   "nbconvert_exporter": "python",
   "pygments_lexer": "ipython3",
   "version": "3.8.17"
  }
 },
 "nbformat": 4,
 "nbformat_minor": 5
}
