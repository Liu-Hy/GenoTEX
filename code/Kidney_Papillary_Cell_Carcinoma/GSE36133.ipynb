{
 "cells": [
  {
   "cell_type": "code",
   "execution_count": 1,
   "id": "461cfbce",
   "metadata": {
    "execution": {
     "iopub.execute_input": "2024-06-12T09:38:31.194459Z",
     "iopub.status.busy": "2024-06-12T09:38:31.194028Z",
     "iopub.status.idle": "2024-06-12T09:38:31.199652Z",
     "shell.execute_reply": "2024-06-12T09:38:31.199126Z"
    }
   },
   "outputs": [],
   "source": [
    "\n",
    "import sys\n",
    "sys.path.append('/home/techt/Desktop/a4s')\n"
   ]
  },
  {
   "cell_type": "markdown",
   "id": "ca41560f",
   "metadata": {},
   "source": [
    "### Step 1: Initial Data Loading"
   ]
  },
  {
   "cell_type": "code",
   "execution_count": 2,
   "id": "c3d20a9d",
   "metadata": {
    "execution": {
     "iopub.execute_input": "2024-06-12T09:38:31.202347Z",
     "iopub.status.busy": "2024-06-12T09:38:31.201960Z",
     "iopub.status.idle": "2024-06-12T09:38:31.877033Z",
     "shell.execute_reply": "2024-06-12T09:38:31.876656Z"
    }
   },
   "outputs": [
    {
     "name": "stdout",
     "output_type": "stream",
     "text": [
      "Background Information:\n",
      "!Series_title\t\"Expression data from the Cancer Cell Line Encyclopedia (CCLE)\"\n",
      "!Series_summary\t\"The Cancer Cell Line Encyclopedia (CCLE) project is a collaboration between the Broad Institute, the Novartis Institutes for Biomedical Research and the Genomics Novartis Foundation to conduct a detailed genetic and pharmacologic characterization of a large panel of human cancer models\"\n",
      "!Series_summary\t\"It consists of a compilation of gene expression, chromosomal copy number, and massively parallel sequencing data from nearly 1,000 human cancer cell lines. All raw and processed data are available through an integrated portal on www.broadinstitute.org/ccle\"\n",
      "!Series_overall_design\t\"The final cell line collection spans 36 cancer types. Representation of cell lines for each cancer type was mainly driven by cancer mortality in the United States, as a surrogate of unmet medical need, as well as availability.\"\n",
      "Sample Characteristics Dictionary:\n",
      "{0: ['primary site: central_nervous_system', 'primary site: bone', 'primary site: prostate', 'primary site: stomach', 'primary site: urinary_tract', 'primary site: haematopoietic_and_lymphoid_tissue', 'primary site: kidney', 'primary site: thyroid', 'primary site: skin', 'primary site: soft_tissue', 'primary site: salivary_gland', 'primary site: ovary', 'primary site: lung', 'primary site: pleura', 'primary site: liver', 'primary site: endometrium', 'primary site: pancreas', 'primary site: breast', 'primary site: upper_aerodigestive_tract', 'primary site: large_intestine', 'primary site: autonomic_ganglia', 'primary site: oesophagus', 'primary site: biliary_tract', 'primary site: small_intestine'], 1: ['histology: glioma', 'histology: osteosarcoma', 'histology: carcinoma', 'histology: haematopoietic_neoplasm', 'histology: malignant_melanoma', 'histology: rhabdomyosarcoma', 'histology: lymphoid_neoplasm', 'histology: Ewings_sarcoma-peripheral_primitive_neuroectodermal_tumour', 'histology: mesothelioma', 'histology: chondrosarcoma', 'histology: neuroblastoma', 'histology: sex_cord-stromal_tumour', 'histology: primitive_neuroectodermal_tumour-medulloblastoma', 'histology: rhabdoid_tumour', 'histology: malignant_fibrous_histiocytoma-pleomorphic_sarcoma', 'histology: giant_cell_tumour', 'histology: other', 'histology: fibrosarcoma', 'histology: carcinoid-endocrine_tumour', 'histology: leiomyosarcoma', 'histology: sarcoma'], 2: ['histology subtype1: astrocytoma', nan, 'histology subtype1: adenocarcinoma', 'histology subtype1: astrocytoma_Grade_IV', 'histology subtype1: transitional_cell_carcinoma', 'histology subtype1: acute_lymphoblastic_leukaemia', 'histology subtype1: clear_cell_renal_cell_carcinoma', 'histology subtype1: anaplastic_carcinoma', 'histology subtype1: mucoepidermoid_carcinoma', 'histology subtype1: diffuse_large_B_cell_lymphoma', 'histology subtype1: renal_cell_carcinoma', 'histology subtype1: non_small_cell_carcinoma', 'histology subtype1: hepatocellular_carcinoma', 'histology subtype1: acute_myeloid_leukaemia', 'histology subtype1: plasma_cell_myeloma', 'histology subtype1: ductal_carcinoma', 'histology subtype1: B_cell_lymphoma_unspecified', 'histology subtype1: papillary_carcinoma', 'histology subtype1: acute_lymphoblastic_B_cell_leukaemia', 'histology subtype1: squamous_cell_carcinoma', 'histology subtype1: Burkitt_lymphoma', 'histology subtype1: blast_phase_chronic_myeloid_leukaemia', 'histology subtype1: dedifferentiated', 'histology subtype1: undifferentiated_carcinoma', 'histology subtype1: follicular_carcinoma', 'histology subtype1: small_cell_carcinoma', 'histology subtype1: large_cell_carcinoma', 'histology subtype1: granulosa_cell_tumour', 'histology subtype1: acute_lymphoblastic_T_cell_leukaemia', 'histology subtype1: small_cell_adenocarcinoma']}\n"
     ]
    }
   ],
   "source": [
    "from utils.preprocess import *\n",
    "# 1. Identify the paths to the soft file and the matrix file\n",
    "cohort_dir = '/media/techt/DATA/GEO/Kidney_Papillary_Cell_Carcinoma/GSE36133'\n",
    "soft_file, matrix_file = geo_get_relevant_filepaths(cohort_dir)\n",
    "\n",
    "# 2. Read the matrix file to obtain background information and sample characteristics data\n",
    "background_prefixes = ['!Series_title', '!Series_summary', '!Series_overall_design']\n",
    "clinical_prefixes = ['!Sample_geo_accession', '!Sample_characteristics_ch1']\n",
    "background_info, clinical_data = get_background_and_clinical_data(matrix_file, background_prefixes, clinical_prefixes)\n",
    "\n",
    "# 3. Obtain the sample characteristics dictionary from the clinical dataframe\n",
    "sample_characteristics_dict = get_unique_values_by_row(clinical_data)\n",
    "\n",
    "# 4. Explicitly print out all the background information and the sample characteristics dictionary\n",
    "print(\"Background Information:\")\n",
    "print(background_info)\n",
    "print(\"Sample Characteristics Dictionary:\")\n",
    "print(sample_characteristics_dict)\n"
   ]
  },
  {
   "cell_type": "markdown",
   "id": "444949dc",
   "metadata": {},
   "source": [
    "### Step 2: Dataset Analysis and Clinical Feature Extraction"
   ]
  },
  {
   "cell_type": "code",
   "execution_count": 3,
   "id": "877a79c9",
   "metadata": {
    "execution": {
     "iopub.execute_input": "2024-06-12T09:38:31.878609Z",
     "iopub.status.busy": "2024-06-12T09:38:31.878503Z",
     "iopub.status.idle": "2024-06-12T09:38:31.979155Z",
     "shell.execute_reply": "2024-06-12T09:38:31.978824Z"
    }
   },
   "outputs": [
    {
     "name": "stdout",
     "output_type": "stream",
     "text": [
      "{'GSM886835': [None], 'GSM886836': [None], 'GSM886837': [None], 'GSM886838': [None], 'GSM886839': [None], 'GSM886840': [None], 'GSM886841': [None], 'GSM886842': [None], 'GSM886843': [None], 'GSM886844': [1], 'GSM886845': [1], 'GSM886846': [None], 'GSM886847': [None], 'GSM886848': [None], 'GSM886849': [None], 'GSM886850': [None], 'GSM886851': [None], 'GSM886852': [None], 'GSM886853': [None], 'GSM886854': [None], 'GSM886855': [None], 'GSM886856': [1], 'GSM886857': [None], 'GSM886858': [None], 'GSM886859': [None], 'GSM886860': [1], 'GSM886861': [None], 'GSM886862': [None], 'GSM886863': [1], 'GSM886864': [None], 'GSM886865': [None], 'GSM886866': [None], 'GSM886867': [None], 'GSM886868': [None], 'GSM886869': [None], 'GSM886870': [None], 'GSM886871': [None], 'GSM886872': [None], 'GSM886873': [None], 'GSM886874': [None], 'GSM886875': [0], 'GSM886876': [None], 'GSM886877': [None], 'GSM886878': [None], 'GSM886879': [None], 'GSM886880': [None], 'GSM886881': [None], 'GSM886882': [None], 'GSM886883': [None], 'GSM886884': [None], 'GSM886885': [None], 'GSM886886': [None], 'GSM886887': [None], 'GSM886888': [None], 'GSM886889': [None], 'GSM886890': [None], 'GSM886891': [None], 'GSM886892': [None], 'GSM886893': [None], 'GSM886894': [None], 'GSM886895': [None], 'GSM886896': [None], 'GSM886897': [None], 'GSM886898': [None], 'GSM886899': [None], 'GSM886900': [None], 'GSM886901': [None], 'GSM886902': [1], 'GSM886903': [1], 'GSM886904': [None], 'GSM886905': [None], 'GSM886906': [None], 'GSM886907': [None], 'GSM886908': [None], 'GSM886909': [None], 'GSM886910': [1], 'GSM886911': [None], 'GSM886912': [None], 'GSM886913': [None], 'GSM886914': [None], 'GSM886915': [None], 'GSM886916': [None], 'GSM886917': [None], 'GSM886918': [None], 'GSM886919': [None], 'GSM886920': [None], 'GSM886921': [None], 'GSM886922': [None], 'GSM886923': [None], 'GSM886924': [None], 'GSM886925': [None], 'GSM886926': [None], 'GSM886927': [None], 'GSM886928': [None], 'GSM886929': [None], 'GSM886930': [None], 'GSM886931': [None], 'GSM886932': [None], 'GSM886933': [None], 'GSM886934': [None], 'GSM886935': [None], 'GSM886936': [None], 'GSM886937': [None], 'GSM886938': [None], 'GSM886939': [None], 'GSM886940': [None], 'GSM886941': [None], 'GSM886942': [None], 'GSM886943': [None], 'GSM886944': [None], 'GSM886945': [None], 'GSM886946': [None], 'GSM886947': [None], 'GSM886948': [None], 'GSM886949': [None], 'GSM886950': [None], 'GSM886951': [None], 'GSM886952': [None], 'GSM886953': [None], 'GSM886954': [None], 'GSM886955': [None], 'GSM886956': [None], 'GSM886957': [None], 'GSM886958': [None], 'GSM886959': [None], 'GSM886960': [None], 'GSM886961': [None], 'GSM886962': [None], 'GSM886963': [None], 'GSM886964': [None], 'GSM886965': [None], 'GSM886966': [None], 'GSM886967': [None], 'GSM886968': [None], 'GSM886969': [None], 'GSM886970': [None], 'GSM886971': [None], 'GSM886972': [None], 'GSM886973': [None], 'GSM886974': [None], 'GSM886975': [None], 'GSM886976': [None], 'GSM886977': [None], 'GSM886978': [None], 'GSM886979': [None], 'GSM886980': [None], 'GSM886981': [None], 'GSM886982': [None], 'GSM886983': [None], 'GSM886984': [None], 'GSM886985': [None], 'GSM886986': [None], 'GSM886987': [None], 'GSM886988': [None], 'GSM886989': [None], 'GSM886990': [None], 'GSM886991': [None], 'GSM886992': [None], 'GSM886993': [None], 'GSM886994': [None], 'GSM886995': [None], 'GSM886996': [None], 'GSM886997': [None], 'GSM886998': [None], 'GSM886999': [None], 'GSM887000': [None], 'GSM887001': [None], 'GSM887002': [None], 'GSM887003': [None], 'GSM887004': [None], 'GSM887005': [None], 'GSM887006': [None], 'GSM887007': [None], 'GSM887008': [None], 'GSM887009': [None], 'GSM887010': [None], 'GSM887011': [None], 'GSM887012': [None], 'GSM887013': [None], 'GSM887014': [None], 'GSM887015': [None], 'GSM887016': [None], 'GSM887017': [None], 'GSM887018': [None], 'GSM887019': [None], 'GSM887020': [None], 'GSM887021': [None], 'GSM887022': [None], 'GSM887023': [None], 'GSM887024': [None], 'GSM887025': [None], 'GSM887026': [None], 'GSM887027': [None], 'GSM887028': [None], 'GSM887029': [None], 'GSM887030': [None], 'GSM887031': [None], 'GSM887032': [None], 'GSM887033': [None], 'GSM887034': [None]}\n"
     ]
    }
   ],
   "source": [
    "is_gene_available = True\n",
    "trait_row = 2\n",
    "age_row = None\n",
    "gender_row = None  # set to different values when applicable\n",
    "\n",
    "# Define the conversion function for trait\n",
    "def convert_trait(value):\n",
    "    if isinstance(value, str):\n",
    "        parts = value.split(':')\n",
    "        if len(parts) > 1:\n",
    "            key, val = parts[0].strip(), parts[1].strip().lower()\n",
    "            if \"clear_cell_renal_cell_carcinoma\" in val or \"renal_cell_carcinoma\" in val:\n",
    "                return 1  # Positive indicator for trait\n",
    "            elif \"papillary_carcinoma\" in val:\n",
    "                return 0  # Negative indicator or control\n",
    "            else:\n",
    "                return None\n",
    "        else:\n",
    "            return None\n",
    "    else:\n",
    "        return None\n",
    "\n",
    "# Define the conversion function for age\n",
    "def convert_age(value):\n",
    "    try:\n",
    "        if isinstance(value, str):\n",
    "            parts = value.split(':')\n",
    "            if len(parts) > 1:\n",
    "                return float(parts[1].strip())\n",
    "            else:\n",
    "                return None\n",
    "        elif isinstance(value, (int, float)):\n",
    "            return float(value)\n",
    "        else:\n",
    "            return None\n",
    "    except ValueError:\n",
    "        return None\n",
    "\n",
    "# Define the conversion function for gender\n",
    "def convert_gender(value):\n",
    "    if isinstance(value, str):\n",
    "        parts = value.split(':')\n",
    "        if len(parts) > 1:\n",
    "            gender = parts[1].strip().lower()\n",
    "            if gender == 'male':\n",
    "                return 1\n",
    "            elif gender == 'female':\n",
    "                return 0\n",
    "            else:\n",
    "                return None\n",
    "        else:\n",
    "            return None\n",
    "    elif isinstance(value, (int, float)):\n",
    "        return int(value)\n",
    "    else:\n",
    "        return None\n",
    "\n",
    "# Saving cohort information\n",
    "save_cohort_info('GSE36133', './preprocessed/Kidney_Papillary_Cell_Carcinoma/cohort_info.json', is_gene_available, trait_row is not None)\n",
    "\n",
    "if trait_row is not None:\n",
    "    # Clinical feature extraction\n",
    "    selected_clinical_data = geo_select_clinical_features(clinical_data, 'Kidney_Papillary_Cell_Carcinoma', trait_row, convert_trait, age_row, convert_age, gender_row, convert_gender)\n",
    "    csv_path = './preprocessed/Kidney_Papillary_Cell_Carcinoma/trait_data/GSE36133.csv'\n",
    "    selected_clinical_data.to_csv(csv_path)\n",
    "    print(preview_df(selected_clinical_data))\n"
   ]
  },
  {
   "cell_type": "markdown",
   "id": "5a92617f",
   "metadata": {},
   "source": [
    "### Step 3: Gene Data Extraction"
   ]
  },
  {
   "cell_type": "code",
   "execution_count": 4,
   "id": "d79e00d9",
   "metadata": {
    "execution": {
     "iopub.execute_input": "2024-06-12T09:38:31.980573Z",
     "iopub.status.busy": "2024-06-12T09:38:31.980473Z",
     "iopub.status.idle": "2024-06-12T09:38:33.242733Z",
     "shell.execute_reply": "2024-06-12T09:38:33.242368Z"
    }
   },
   "outputs": [
    {
     "name": "stdout",
     "output_type": "stream",
     "text": [
      "Index(['100009676_at', '10000_at', '10001_at', '10002_at', '10003_at',\n",
      "       '100048912_at', '100049716_at', '10004_at', '10005_at', '10006_at',\n",
      "       '10007_at', '10008_at', '100093630_at', '10009_at', '1000_at',\n",
      "       '100101467_at', '100101938_at', '10010_at', '100113407_at', '10011_at'],\n",
      "      dtype='object', name='ID')\n"
     ]
    }
   ],
   "source": [
    "# 1. Use the get_genetic_data function from the library to get the gene_data from the matrix_file previously defined.\n",
    "gene_data = get_genetic_data(matrix_file)\n",
    "\n",
    "# 2. Print the first 20 row ids for the following step.\n",
    "print(gene_data.index[:20])\n"
   ]
  },
  {
   "cell_type": "markdown",
   "id": "b2648b57",
   "metadata": {},
   "source": [
    "### Step 4: Gene Identifier Review"
   ]
  },
  {
   "cell_type": "code",
   "execution_count": 5,
   "id": "2def7f47",
   "metadata": {
    "execution": {
     "iopub.execute_input": "2024-06-12T09:38:33.244263Z",
     "iopub.status.busy": "2024-06-12T09:38:33.244160Z",
     "iopub.status.idle": "2024-06-12T09:38:33.246142Z",
     "shell.execute_reply": "2024-06-12T09:38:33.245869Z"
    }
   },
   "outputs": [],
   "source": [
    "requires_gene_mapping = True\n"
   ]
  },
  {
   "cell_type": "markdown",
   "id": "44c80462",
   "metadata": {},
   "source": [
    "### Step 5: Gene Annotation (Conditional)"
   ]
  },
  {
   "cell_type": "code",
   "execution_count": 6,
   "id": "658caba7",
   "metadata": {
    "execution": {
     "iopub.execute_input": "2024-06-12T09:38:33.247353Z",
     "iopub.status.busy": "2024-06-12T09:38:33.247258Z",
     "iopub.status.idle": "2024-06-12T09:38:48.580844Z",
     "shell.execute_reply": "2024-06-12T09:38:48.580203Z"
    }
   },
   "outputs": [
    {
     "name": "stdout",
     "output_type": "stream",
     "text": [
      "Gene annotation preview:\n",
      "{'ID': ['1_at', '10_at', '100_at', '1000_at', '10000_at'], 'ORF': ['1', '10', '100', '1000', '10000'], 'Description': ['alpha-1-B glycoprotein', 'N-acetyltransferase 2 (arylamine N-acetyltransferase)', 'adenosine deaminase', 'cadherin 2, type 1, N-cadherin (neuronal)', 'v-akt murine thymoma viral oncogene homolog 3 (protein kinase B, gamma)']}\n"
     ]
    }
   ],
   "source": [
    "# 1. Use the 'get_gene_annotation' function from the library to get gene annotation data from the soft file.\n",
    "gene_annotation = get_gene_annotation(soft_file)\n",
    "\n",
    "# 2. Use the 'preview_df' function from the library to preview the data and print out the results.\n",
    "print(\"Gene annotation preview:\")\n",
    "print(preview_df(gene_annotation))\n"
   ]
  },
  {
   "cell_type": "markdown",
   "id": "aab7ddf7",
   "metadata": {},
   "source": [
    "### Step 6: Gene Identifier Mapping"
   ]
  },
  {
   "cell_type": "code",
   "execution_count": 7,
   "id": "af769b71",
   "metadata": {
    "execution": {
     "iopub.execute_input": "2024-06-12T09:38:48.583291Z",
     "iopub.status.busy": "2024-06-12T09:38:48.583130Z",
     "iopub.status.idle": "2024-06-12T09:38:49.928461Z",
     "shell.execute_reply": "2024-06-12T09:38:49.927829Z"
    }
   },
   "outputs": [],
   "source": [
    "if requires_gene_mapping:\n",
    "    # 1. Read the dictionary and decide the keys\n",
    "    identifier_key = 'ID'\n",
    "    gene_symbol_key = 'Description'\n",
    "\n",
    "    # 2. Get the dataframe storing the mapping between probe IDs and genes using the 'get_gene_mapping' function\n",
    "    gene_mapping = get_gene_mapping(gene_annotation, identifier_key, gene_symbol_key)\n",
    "\n",
    "    # 3. Apply the mapping with the 'apply_gene_mapping' function, and name the resulting gene expression dataframe \"gene_data\"\n",
    "    gene_data = apply_gene_mapping(gene_data, gene_mapping)\n"
   ]
  },
  {
   "cell_type": "markdown",
   "id": "3aef548a",
   "metadata": {},
   "source": [
    "### Step 7: Data Normalization and Merging"
   ]
  },
  {
   "cell_type": "code",
   "execution_count": 8,
   "id": "0d16d48a",
   "metadata": {
    "execution": {
     "iopub.execute_input": "2024-06-12T09:38:49.930284Z",
     "iopub.status.busy": "2024-06-12T09:38:49.930136Z",
     "iopub.status.idle": "2024-06-12T09:39:33.754658Z",
     "shell.execute_reply": "2024-06-12T09:39:33.754034Z"
    }
   },
   "outputs": [
    {
     "name": "stdout",
     "output_type": "stream",
     "text": [
      "For the feature 'Kidney_Papillary_Cell_Carcinoma', the least common label is '0.0' with 1 occurrences. This represents 6.25% of the dataset.\n",
      "The distribution of the feature 'Kidney_Papillary_Cell_Carcinoma' in this dataset is severely biased.\n",
      "\n"
     ]
    }
   ],
   "source": [
    "# 1. Normalize the obtained gene data with the 'normalize_gene_symbols_in_index' function from the library.\n",
    "normalized_gene_data = normalize_gene_symbols_in_index(gene_data)\n",
    "gene_csv_path = './preprocessed/Kidney_Papillary_Cell_Carcinoma/gene_data/GSE36133.csv'\n",
    "normalized_gene_data.to_csv(gene_csv_path)\n",
    "\n",
    "# 2. Merge the clinical and genetic data with the 'geo_merge_clinical_genetic_data' function from the library.\n",
    "merged_data = geo_merge_clinical_genetic_data(selected_clinical_data, normalized_gene_data)\n",
    "\n",
    "# 3. Determine whether the trait and some demographic attributes in the data is severely biased, and remove biased attributes.\n",
    "trait_biased, unbiased_merged_data = judge_and_remove_biased_features(merged_data, 'Kidney_Papillary_Cell_Carcinoma')\n",
    "\n",
    "# If the trait is not severely biased, save the cohort information and the merged data.\n",
    "\n",
    "# 4. Save the cohort information.\n",
    "save_cohort_info('GSE36133', './preprocessed/Kidney_Papillary_Cell_Carcinoma/cohort_info.json', True, True, trait_biased, merged_data)\n",
    "\n",
    "if not trait_biased:\n",
    "    # 5. If the trait is not severely biased, save the merged data to a csv file.\n",
    "    csv_path = './preprocessed/Kidney_Papillary_Cell_Carcinoma/GSE36133.csv'\n",
    "    unbiased_merged_data.to_csv(csv_path)\n"
   ]
  }
 ],
 "metadata": {
  "language_info": {
   "codemirror_mode": {
    "name": "ipython",
    "version": 3
   },
   "file_extension": ".py",
   "mimetype": "text/x-python",
   "name": "python",
   "nbconvert_exporter": "python",
   "pygments_lexer": "ipython3",
   "version": "3.8.17"
  }
 },
 "nbformat": 4,
 "nbformat_minor": 5
}
