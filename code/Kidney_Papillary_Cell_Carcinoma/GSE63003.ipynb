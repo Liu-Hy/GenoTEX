{
 "cells": [
  {
   "cell_type": "code",
   "execution_count": 1,
   "id": "3e52efa4",
   "metadata": {
    "execution": {
     "iopub.execute_input": "2024-06-12T09:44:02.807498Z",
     "iopub.status.busy": "2024-06-12T09:44:02.807229Z",
     "iopub.status.idle": "2024-06-12T09:44:02.815073Z",
     "shell.execute_reply": "2024-06-12T09:44:02.814411Z"
    }
   },
   "outputs": [],
   "source": [
    "\n",
    "import sys\n",
    "sys.path.append('/home/techt/Desktop/a4s')\n"
   ]
  },
  {
   "cell_type": "markdown",
   "id": "86dc72a3",
   "metadata": {},
   "source": [
    "### Step 1: Initial Data Loading"
   ]
  },
  {
   "cell_type": "code",
   "execution_count": 2,
   "id": "d19f3d42",
   "metadata": {
    "execution": {
     "iopub.execute_input": "2024-06-12T09:44:02.818231Z",
     "iopub.status.busy": "2024-06-12T09:44:02.817923Z",
     "iopub.status.idle": "2024-06-12T09:44:03.257343Z",
     "shell.execute_reply": "2024-06-12T09:44:03.256949Z"
    }
   },
   "outputs": [
    {
     "name": "stdout",
     "output_type": "stream",
     "text": [
      "Background Information:\n",
      "!Series_title\t\"Renal cells Carcinoma (RCC) Genome variation profiling by genome tiling array\"\n",
      "!Series_summary\t\"This SuperSeries is composed of the SubSeries listed below.\"\n",
      "!Series_overall_design\t\"Refer to individual Series\"\n",
      "Sample Characteristics Dictionary:\n",
      "{0: ['cell type: Papillary renal cell carcinoma (pRCC)', 'cell type: unclassified renal cell carcinoma (uRCC)'], 1: ['rcc type: type 1', 'rcc type: type 2', 'rcc type: unclassified']}\n"
     ]
    }
   ],
   "source": [
    "from utils.preprocess import *\n",
    "# 1. Identify the paths to the soft file and the matrix file\n",
    "cohort_dir = '/media/techt/DATA/GEO/Kidney_Papillary_Cell_Carcinoma/GSE63003'\n",
    "soft_file, matrix_file = geo_get_relevant_filepaths(cohort_dir)\n",
    "\n",
    "# 2. Read the matrix file to obtain background information and sample characteristics data\n",
    "background_prefixes = ['!Series_title', '!Series_summary', '!Series_overall_design']\n",
    "clinical_prefixes = ['!Sample_geo_accession', '!Sample_characteristics_ch1']\n",
    "background_info, clinical_data = get_background_and_clinical_data(matrix_file, background_prefixes, clinical_prefixes)\n",
    "\n",
    "# 3. Obtain the sample characteristics dictionary from the clinical dataframe\n",
    "sample_characteristics_dict = get_unique_values_by_row(clinical_data)\n",
    "\n",
    "# 4. Explicitly print out all the background information and the sample characteristics dictionary\n",
    "print(\"Background Information:\")\n",
    "print(background_info)\n",
    "print(\"Sample Characteristics Dictionary:\")\n",
    "print(sample_characteristics_dict)\n"
   ]
  },
  {
   "cell_type": "markdown",
   "id": "54a321f5",
   "metadata": {},
   "source": [
    "### Step 2: Dataset Analysis and Clinical Feature Extraction"
   ]
  },
  {
   "cell_type": "code",
   "execution_count": 3,
   "id": "4cc8a623",
   "metadata": {
    "execution": {
     "iopub.execute_input": "2024-06-12T09:44:03.259173Z",
     "iopub.status.busy": "2024-06-12T09:44:03.259062Z",
     "iopub.status.idle": "2024-06-12T09:44:03.265977Z",
     "shell.execute_reply": "2024-06-12T09:44:03.265674Z"
    }
   },
   "outputs": [
    {
     "name": "stdout",
     "output_type": "stream",
     "text": [
      "{'GSM1537868': [1], 'GSM1537869': [1], 'GSM1537870': [1], 'GSM1537871': [1], 'GSM1537872': [1], 'GSM1537873': [1], 'GSM1537874': [1], 'GSM1537875': [0], 'GSM1537876': [0]}\n"
     ]
    }
   ],
   "source": [
    "is_gene_available = False\n",
    "trait_row = age_row = gender_row = None  # set to different values when applicable\n",
    "convert_trait = convert_age = convert_gender = None  # define the functions when applicable\n",
    "\n",
    "is_gene_available = True  # Since this is a genome variation profiling dataset, it is likely to contain gene expression data.\n",
    "\n",
    "# Check availability of variables\n",
    "sample_characteristics = {\n",
    "    0: ['cell type: Papillary renal cell carcinoma (pRCC)', 'cell type: unclassified renal cell carcinoma (uRCC)'], \n",
    "    1: ['rcc type: type 1', 'rcc type: type 2', 'rcc type: unclassified']\n",
    "}\n",
    "\n",
    "trait_row = 0\n",
    "age_row = None  # age information not explicitly available\n",
    "gender_row = None  # gender information not explicitly available\n",
    "\n",
    "# Define conversion functions\n",
    "def convert_trait(value):\n",
    "    val = value.split(': ')[-1].strip().lower()\n",
    "    if val == 'papillary renal cell carcinoma (prcc)':\n",
    "        return 1\n",
    "    elif val == 'unclassified renal cell carcinoma (urcc)':\n",
    "        return 0\n",
    "    else:\n",
    "        return None\n",
    "\n",
    "def convert_age(value):\n",
    "    try:\n",
    "        return float(value.split(': ')[-1].strip())\n",
    "    except ValueError:\n",
    "        return None\n",
    "\n",
    "def convert_gender(value):\n",
    "    val = value.split(': ')[-1].strip().lower()\n",
    "    if val == 'male':\n",
    "        return 1\n",
    "    elif val == 'female':\n",
    "        return 0\n",
    "    else:\n",
    "        return None\n",
    "\n",
    "save_cohort_info('GSE63003', './preprocessed/Kidney_Papillary_Cell_Carcinoma/cohort_info.json', is_gene_available, trait_row is not None)\n",
    "\n",
    "if trait_row is not None:\n",
    "    selected_clinical_data = geo_select_clinical_features(clinical_data, 'Kidney_Papillary_Cell_Carcinoma', trait_row, convert_trait, age_row, convert_age, gender_row, convert_gender)\n",
    "    csv_path = './preprocessed/Kidney_Papillary_Cell_Carcinoma/trait_data/GSE63003.csv'\n",
    "    selected_clinical_data.to_csv(csv_path)\n",
    "    print(preview_df(selected_clinical_data))\n"
   ]
  },
  {
   "cell_type": "markdown",
   "id": "7a1f7fa7",
   "metadata": {},
   "source": [
    "### Step 3: Gene Data Extraction"
   ]
  },
  {
   "cell_type": "code",
   "execution_count": 4,
   "id": "8e7c77a2",
   "metadata": {
    "execution": {
     "iopub.execute_input": "2024-06-12T09:44:03.267799Z",
     "iopub.status.busy": "2024-06-12T09:44:03.267502Z",
     "iopub.status.idle": "2024-06-12T09:44:03.459794Z",
     "shell.execute_reply": "2024-06-12T09:44:03.459370Z"
    }
   },
   "outputs": [
    {
     "name": "stdout",
     "output_type": "stream",
     "text": [
      "Index(['1', '2', '3', '4', '5', '6', '7', '8', '9', '10', '11', '12', '13',\n",
      "       '14', '15', '16', '17', '18', '19', '20'],\n",
      "      dtype='object', name='ID')\n"
     ]
    }
   ],
   "source": [
    "# 1. Use the get_genetic_data function from the library to get the gene_data from the matrix_file previously defined.\n",
    "gene_data = get_genetic_data(matrix_file)\n",
    "\n",
    "# 2. Print the first 20 row ids for the following step.\n",
    "print(gene_data.index[:20])\n"
   ]
  },
  {
   "cell_type": "markdown",
   "id": "1b735958",
   "metadata": {},
   "source": [
    "### Step 4: Gene Identifier Review"
   ]
  },
  {
   "cell_type": "code",
   "execution_count": 5,
   "id": "8359eacc",
   "metadata": {
    "execution": {
     "iopub.execute_input": "2024-06-12T09:44:03.461638Z",
     "iopub.status.busy": "2024-06-12T09:44:03.461529Z",
     "iopub.status.idle": "2024-06-12T09:44:03.463467Z",
     "shell.execute_reply": "2024-06-12T09:44:03.463184Z"
    }
   },
   "outputs": [],
   "source": [
    "requires_gene_mapping = True\n"
   ]
  },
  {
   "cell_type": "markdown",
   "id": "3662dc75",
   "metadata": {},
   "source": [
    "### Step 5: Gene Annotation (Conditional)"
   ]
  },
  {
   "cell_type": "code",
   "execution_count": 6,
   "id": "360dff13",
   "metadata": {
    "execution": {
     "iopub.execute_input": "2024-06-12T09:44:03.465465Z",
     "iopub.status.busy": "2024-06-12T09:44:03.465366Z",
     "iopub.status.idle": "2024-06-12T09:44:06.718804Z",
     "shell.execute_reply": "2024-06-12T09:44:06.718414Z"
    }
   },
   "outputs": [
    {
     "name": "stdout",
     "output_type": "stream",
     "text": [
      "Gene annotation preview:\n",
      "{'ID': ['1', '2', '3', '4', '5'], 'COL': ['532', '532', '532', '532', '532'], 'ROW': ['340', '338', '336', '334', '332'], 'PROBE NAME': ['HsCGHBrightCorner', 'DarkCorner2', 'DarkCorner2', 'DarkCorner2', 'DarkCorner2'], 'CONTROL_TYPE': ['pos', 'pos', 'pos', 'pos', 'pos'], 'GB_ACC': [nan, nan, nan, nan, nan], 'GENE_SYMBOL': [nan, nan, nan, nan, nan], 'GENE_NAME': [nan, nan, nan, nan, nan], 'ACCESSION_STRING': [nan, nan, nan, nan, nan], 'CHROMOSOMAL_LOCATION': [nan, nan, nan, nan, nan], 'CYTOBAND': [nan, nan, nan, nan, nan], 'DESCRIPTION': [nan, nan, nan, nan, nan], 'SPOT_ID': ['CONTROL', 'CONTROL', 'CONTROL', 'CONTROL', 'CONTROL']}\n"
     ]
    }
   ],
   "source": [
    "# 1. Use the 'get_gene_annotation' function from the library to get gene annotation data from the soft file.\n",
    "gene_annotation = get_gene_annotation(soft_file)\n",
    "\n",
    "# 2. Use the 'preview_df' function from the library to preview the data and print out the results.\n",
    "print(\"Gene annotation preview:\")\n",
    "print(preview_df(gene_annotation))\n"
   ]
  },
  {
   "cell_type": "markdown",
   "id": "c2aff613",
   "metadata": {},
   "source": [
    "### Step 6: Gene Identifier Mapping"
   ]
  },
  {
   "cell_type": "code",
   "execution_count": 7,
   "id": "367c4fde",
   "metadata": {
    "execution": {
     "iopub.execute_input": "2024-06-12T09:44:06.720582Z",
     "iopub.status.busy": "2024-06-12T09:44:06.720472Z",
     "iopub.status.idle": "2024-06-12T09:44:07.951146Z",
     "shell.execute_reply": "2024-06-12T09:44:07.950714Z"
    }
   },
   "outputs": [],
   "source": [
    "# 1. Define the identifier and gene symbol keys\n",
    "identifier_key = 'ID'\n",
    "gene_symbol_key = 'GENE_SYMBOL'\n",
    "\n",
    "# 2. Get the dataframe storing the mapping between probe IDs and genes\n",
    "mapping_df = get_gene_mapping(gene_annotation, identifier_key, gene_symbol_key)\n",
    "\n",
    "# 3. Apply the mapping and assign the resulting gene expression dataframe to \"gene_data\"\n",
    "gene_data = apply_gene_mapping(gene_data, mapping_df)\n"
   ]
  },
  {
   "cell_type": "markdown",
   "id": "fcd2d773",
   "metadata": {},
   "source": [
    "### Step 7: Data Normalization and Merging"
   ]
  },
  {
   "cell_type": "code",
   "execution_count": 8,
   "id": "0749e6e8",
   "metadata": {
    "execution": {
     "iopub.execute_input": "2024-06-12T09:44:07.953029Z",
     "iopub.status.busy": "2024-06-12T09:44:07.952916Z",
     "iopub.status.idle": "2024-06-12T09:44:14.107134Z",
     "shell.execute_reply": "2024-06-12T09:44:14.106632Z"
    }
   },
   "outputs": [
    {
     "name": "stdout",
     "output_type": "stream",
     "text": [
      "For the feature 'Kidney_Papillary_Cell_Carcinoma', the least common label is '0.0' with 2 occurrences. This represents 22.22% of the dataset.\n",
      "The distribution of the feature 'Kidney_Papillary_Cell_Carcinoma' in this dataset is fine.\n",
      "\n"
     ]
    }
   ],
   "source": [
    "# 1. Normalize the obtained gene data with the 'normalize_gene_symbols_in_index' function from the library.\n",
    "normalized_gene_data = normalize_gene_symbols_in_index(gene_data)\n",
    "gene_csv_path = './preprocessed/Kidney_Papillary_Cell_Carcinoma/gene_data/GSE63003.csv'\n",
    "normalized_gene_data.to_csv(gene_csv_path)\n",
    "\n",
    "# 2. Merge the clinical and genetic data with the 'geo_merge_clinical_genetic_data' function from the library.\n",
    "merged_data = geo_merge_clinical_genetic_data(selected_clinical_data, normalized_gene_data)\n",
    "\n",
    "# 3. Determine whether the trait and some demographic attributes in the data is severely biased, and remove biased attributes.\n",
    "trait_biased, unbiased_merged_data = judge_and_remove_biased_features(merged_data, 'Kidney_Papillary_Cell_Carcinoma')\n",
    "\n",
    "# 4. Save the cohort information.\n",
    "json_path = './preprocessed/Kidney_Papillary_Cell_Carcinoma/cohort_info.json'\n",
    "save_cohort_info('GSE63003', json_path, True, True, trait_biased, unbiased_merged_data)\n",
    "\n",
    "# 5. If the trait is not severely biased, save the merged data to a csv file.\n",
    "if not trait_biased:\n",
    "    csv_path = './preprocessed/Kidney_Papillary_Cell_Carcinoma/GSE63003.csv'\n",
    "    unbiased_merged_data.to_csv(csv_path)\n"
   ]
  }
 ],
 "metadata": {
  "language_info": {
   "codemirror_mode": {
    "name": "ipython",
    "version": 3
   },
   "file_extension": ".py",
   "mimetype": "text/x-python",
   "name": "python",
   "nbconvert_exporter": "python",
   "pygments_lexer": "ipython3",
   "version": "3.8.17"
  }
 },
 "nbformat": 4,
 "nbformat_minor": 5
}
