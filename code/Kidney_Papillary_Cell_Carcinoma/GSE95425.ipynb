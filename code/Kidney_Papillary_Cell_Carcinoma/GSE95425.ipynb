{
 "cells": [
  {
   "cell_type": "code",
   "execution_count": 1,
   "id": "eaff0207",
   "metadata": {
    "execution": {
     "iopub.execute_input": "2024-06-12T09:44:15.060067Z",
     "iopub.status.busy": "2024-06-12T09:44:15.059915Z",
     "iopub.status.idle": "2024-06-12T09:44:15.065540Z",
     "shell.execute_reply": "2024-06-12T09:44:15.065113Z"
    }
   },
   "outputs": [],
   "source": [
    "\n",
    "import sys\n",
    "sys.path.append('/home/techt/Desktop/a4s')\n"
   ]
  },
  {
   "cell_type": "markdown",
   "id": "04b15b32",
   "metadata": {},
   "source": [
    "### Step 1: Initial Data Loading"
   ]
  },
  {
   "cell_type": "code",
   "execution_count": 2,
   "id": "9836d8e0",
   "metadata": {
    "execution": {
     "iopub.execute_input": "2024-06-12T09:44:15.067613Z",
     "iopub.status.busy": "2024-06-12T09:44:15.067309Z",
     "iopub.status.idle": "2024-06-12T09:44:15.388476Z",
     "shell.execute_reply": "2024-06-12T09:44:15.388027Z"
    }
   },
   "outputs": [
    {
     "name": "stdout",
     "output_type": "stream",
     "text": [
      "Background Information:\n",
      "!Series_title\t\"Cell-type specific gene programs of the normal human nephron define kidney cancer subtypes\"\n",
      "!Series_summary\t\"Comprehensive transcriptome studies of cancers often rely on corresponding normal tissue samples to serve as a transcriptional reference. In this study we performed in-depth analyses of normal kidney tissue transcriptomes from TCGA and demonstrate that the histological variability in cellularity, inherent in the kidney architecture, lead to considerable transcriptional differences between samples. This should be considered when comparing expression profiles of normal and cancerous kidney tissues. We exploited these differences to define renal cell-specific gene signatures and used these as framework to analyze renal cell carcinoma (RCC) ontogeny. Chromophobe RCCs express FOXI1-driven genes that define collecting duct intercalated cells whereas HNF-regulated genes, specific for proximal tubule cells, are an integral part of clear cell and papillary RCC transcriptomes. These networks may be used as framework for understanding the interplay between genomic changes in RCC subtypes and the lineage-defining regulatory machinery of their non-neoplastic counterparts.\"\n",
      "!Series_overall_design\t\"Samples from different parts of the kidneys were procured using core-sampling from approximately 10 mm thick sections obtained from nephrectomized patients in surgery for renal neoplasms. Sampling was performed in the part of the kidney that was farthest from the tumor. Sections were thereafter embedded and hematoxylin-eosin stained allowing for approximation of the respective site in kidney from which the sample was obtained. In all cases a histologically normal kidney histology was confirmed. In all, 53 samples from 5 different renal specimens were included in the analysis.\"\n",
      "Sample Characteristics Dictionary:\n",
      "{0: ['patient id: R099', 'patient id: R116', 'patient id: R127', 'patient id: R134', 'patient id: R164'], 1: ['patient type: Normal kidney tissue'], 2: ['sampling depth: cortex', 'sampling depth: cortex/medulla', 'sampling depth: medulla']}\n"
     ]
    }
   ],
   "source": [
    "from utils.preprocess import *\n",
    "# 1. Identify the paths to the soft file and the matrix file\n",
    "cohort_dir = '/media/techt/DATA/GEO/Kidney_Papillary_Cell_Carcinoma/GSE95425'\n",
    "soft_file, matrix_file = geo_get_relevant_filepaths(cohort_dir)\n",
    "\n",
    "# 2. Read the matrix file to obtain background information and sample characteristics data\n",
    "background_prefixes = ['!Series_title', '!Series_summary', '!Series_overall_design']\n",
    "clinical_prefixes = ['!Sample_geo_accession', '!Sample_characteristics_ch1']\n",
    "background_info, clinical_data = get_background_and_clinical_data(matrix_file, background_prefixes, clinical_prefixes)\n",
    "\n",
    "# 3. Obtain the sample characteristics dictionary from the clinical dataframe\n",
    "sample_characteristics_dict = get_unique_values_by_row(clinical_data)\n",
    "\n",
    "# 4. Explicitly print out all the background information and the sample characteristics dictionary\n",
    "print(\"Background Information:\")\n",
    "print(background_info)\n",
    "print(\"Sample Characteristics Dictionary:\")\n",
    "print(sample_characteristics_dict)\n"
   ]
  },
  {
   "cell_type": "markdown",
   "id": "9a25e7dd",
   "metadata": {},
   "source": [
    "### Step 2: Dataset Analysis and Clinical Feature Extraction"
   ]
  },
  {
   "cell_type": "code",
   "execution_count": 3,
   "id": "7d830757",
   "metadata": {
    "execution": {
     "iopub.execute_input": "2024-06-12T09:44:15.390391Z",
     "iopub.status.busy": "2024-06-12T09:44:15.390253Z",
     "iopub.status.idle": "2024-06-12T09:44:15.393645Z",
     "shell.execute_reply": "2024-06-12T09:44:15.393338Z"
    }
   },
   "outputs": [],
   "source": [
    "is_gene_available = False\n",
    "trait_row = age_row = gender_row = None  # set to different values when applicable\n",
    "convert_trait = convert_age = convert_gender = None  # define the functions when applicable\n",
    "\n",
    "# Determine gene expression data availability\n",
    "is_gene_available = True  # Given that the dataset description suggests transcriptome data\n",
    "\n",
    "# Variable availability and corresponding key identification\n",
    "trait_row = None  # There is no explicit mention of 'Kidney_Papillary_Cell_Carcinoma'\n",
    "age_row = None  # There is no mention of age data\n",
    "gender_row = None  # There is no mention of gender data\n",
    "\n",
    "# Define default conversion functions returning None, as no actual data is provided for these variables\n",
    "def default_conversion(value):\n",
    "    return None\n",
    "\n",
    "convert_trait = default_conversion\n",
    "convert_age = default_conversion\n",
    "convert_gender = default_conversion\n",
    "\n",
    "# Save cohort information\n",
    "save_cohort_info('GSE95425', './preprocessed/Kidney_Papillary_Cell_Carcinoma/cohort_info.json', is_gene_available, trait_row is not None)\n",
    "\n",
    "# Clinical feature extraction would be skipped since trait_row is None\n"
   ]
  }
 ],
 "metadata": {
  "language_info": {
   "codemirror_mode": {
    "name": "ipython",
    "version": 3
   },
   "file_extension": ".py",
   "mimetype": "text/x-python",
   "name": "python",
   "nbconvert_exporter": "python",
   "pygments_lexer": "ipython3",
   "version": "3.8.17"
  }
 },
 "nbformat": 4,
 "nbformat_minor": 5
}
