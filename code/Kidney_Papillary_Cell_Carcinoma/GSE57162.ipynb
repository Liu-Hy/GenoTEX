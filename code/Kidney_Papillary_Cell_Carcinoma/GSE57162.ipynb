{
 "cells": [
  {
   "cell_type": "code",
   "execution_count": 1,
   "id": "c9d2d4d4",
   "metadata": {
    "execution": {
     "iopub.execute_input": "2024-06-12T09:42:17.418513Z",
     "iopub.status.busy": "2024-06-12T09:42:17.418411Z",
     "iopub.status.idle": "2024-06-12T09:42:17.422658Z",
     "shell.execute_reply": "2024-06-12T09:42:17.422378Z"
    }
   },
   "outputs": [],
   "source": [
    "\n",
    "import sys\n",
    "sys.path.append('/home/techt/Desktop/a4s')\n"
   ]
  },
  {
   "cell_type": "markdown",
   "id": "bbc2b781",
   "metadata": {},
   "source": [
    "### Step 1: Initial Data Loading"
   ]
  },
  {
   "cell_type": "code",
   "execution_count": 2,
   "id": "8d67434d",
   "metadata": {
    "execution": {
     "iopub.execute_input": "2024-06-12T09:42:17.424752Z",
     "iopub.status.busy": "2024-06-12T09:42:17.424629Z",
     "iopub.status.idle": "2024-06-12T09:42:18.254996Z",
     "shell.execute_reply": "2024-06-12T09:42:18.254613Z"
    }
   },
   "outputs": [
    {
     "name": "stdout",
     "output_type": "stream",
     "text": [
      "Background Information:\n",
      "!Series_title\t\"A genomic algorithm for the molecular classification of renal cortical neoplasms: Development and Validation\"\n",
      "!Series_summary\t\"Accurate diagnostic discrimination of benign renal oncocytoma (OC) and malignant renal cell carcinomas (RCC) is not only useful for planning appropriate treatment strategies of patients with renal masses but also for estimating prognosis. Classification of renal neoplasms solely by histopathology can often be challenging for a variety of reasons. The aim of this study was to develop and validate a genomic algorithm for molecular classification of renal cortical neoplasms that could be implemented in a routine clinical diagnostic setting. Using TCGA (The Cancer Genome Atlas) copy number profiles of over 600 RCC specimens, prior FISH studies and published literature, a classification algorithm was developed consisting of 15 genomic markers: loss of VHL, 3p21, 8p, and chromosomes 1, 2, 6, 10 and 17, and gain of 5qter, 16p, 17q, 20q, and chromosomes 3, 7, and 12. Criteria for scoring specimens for the presence of each genomic marker were established. As validation, 191 surgically resected formalin-fixed paraffin-embedded renal neoplasms were blindly submitted to targeted array-CGH and were classified according to the algorithm. Upon histologic re-review leading to exclusion of three specimens and using histology as the gold standard, the algorithm correctly classified 58 of 62 (93%) clear cell renal cell carcinoma, 51 of 56 (91%) papillary RCC, and 33 of 34 (97%) chromophobe RCC. Of the 36 OC specimens, 17 were classified as OC, two as a malignant subtype, 14 as benign, and three exhibited alterations not associated with a specific subtype. In ten of the latter two groups, CCND1-rearrangement was detected by fluorescence in situ hybridization, affording a classification as OC. Together, 33 of 36 (92%) OC were classified as OC or benign. For the entire validation cohort, an overall diagnostic sensitivity of 93% and above 97% specificity was achieved, suggesting that the implementation of genome-based molecular classification in a clinical diagnostic setting could impact the overall management and outcome of patients with renal tumors.\"\n",
      "!Series_overall_design\t\"A total of 191 RCC FFPE samples are analyzed including 63 clear cell RCC (ccRCC), 57 papillary RCC (pRCC), 35 chromophobe RCC (chrRCC) and 36 oncocytoma (OC). Two-color array-comparative genomic hybdrization on custom designed using RCC DNA as test and normal sex-matched DNA as reference.\"\n",
      "Sample Characteristics Dictionary:\n",
      "{0: ['sample type: Formalin Fixed Paraffin Embedded (FFPE)'], 1: ['tissue: renal cell carcinoma specimen'], 2: ['histology: OC', 'histology: pRCC', 'histology: chrRCC', 'histology: ccRCC'], 3: ['gender: F', 'gender: M'], 4: ['age: 66', 'age: 82', 'age: 59', 'age: 58', 'age: 57', 'age: 62', 'age: 48', 'age: 69', 'age: 76', 'age: 63', 'age: 74', 'age: 77', 'age: 79', 'age: 45', 'age: 67', 'age: 52', 'age: 68', 'age: 43', 'age: 39', 'age: 53', 'age: 49', 'age: 47', 'age: 56', 'age: 61', 'age: 72', 'age: 41', 'age: 55', 'age: 65', 'age: 73', 'age: 50'], 5: ['furhman nuclear grade: na', 'furhman nuclear grade: 3', 'furhman nuclear grade: 4', 'furhman nuclear grade: 3 and 4', 'furhman nuclear grade: 2', 'furhman nuclear grade: 2;3', 'furhman nuclear grade: 1'], 6: ['tnm stage: na', 'tnm stage: T1', 'tnm stage: T2', 'tnm stage: T3a', 'tnm stage: T4', 'tnm stage: T3', 'tnm stage: T3a M1', 'tnm stage: T2 M1', 'tnm stage: T3c', 'tnm stage: T3a N1'], 7: ['tumor size (mm): 29', 'tumor size (mm): 38', 'tumor size (mm): 32', 'tumor size (mm): 110', 'tumor size (mm): 25', 'tumor size (mm): 14', 'tumor size (mm): 52', 'tumor size (mm): 85', 'tumor size (mm): 21', 'tumor size (mm): 115', 'tumor size (mm): 40', 'tumor size (mm): 80', 'tumor size (mm): 35', 'tumor size (mm): 42', 'tumor size (mm): 30', 'tumor size (mm): 79', 'tumor size (mm): 64', 'tumor size (mm): 45', 'tumor size (mm): 31', 'tumor size (mm): 48', 'tumor size (mm): 17', 'tumor size (mm): 140', 'tumor size (mm): 36', 'tumor size (mm): 27', 'tumor size (mm): 58', 'tumor size (mm): 20', 'tumor size (mm): 95', 'tumor size (mm): 22', 'tumor size (mm): 70', 'tumor size (mm): 23']}\n"
     ]
    }
   ],
   "source": [
    "from utils.preprocess import *\n",
    "# 1. Identify the paths to the soft file and the matrix file\n",
    "cohort_dir = '/media/techt/DATA/GEO/Kidney_Papillary_Cell_Carcinoma/GSE57162'\n",
    "soft_file, matrix_file = geo_get_relevant_filepaths(cohort_dir)\n",
    "\n",
    "# 2. Read the matrix file to obtain background information and sample characteristics data\n",
    "background_prefixes = ['!Series_title', '!Series_summary', '!Series_overall_design']\n",
    "clinical_prefixes = ['!Sample_geo_accession', '!Sample_characteristics_ch1']\n",
    "background_info, clinical_data = get_background_and_clinical_data(matrix_file, background_prefixes, clinical_prefixes)\n",
    "\n",
    "# 3. Obtain the sample characteristics dictionary from the clinical dataframe\n",
    "sample_characteristics_dict = get_unique_values_by_row(clinical_data)\n",
    "\n",
    "# 4. Explicitly print out all the background information and the sample characteristics dictionary\n",
    "print(\"Background Information:\")\n",
    "print(background_info)\n",
    "print(\"Sample Characteristics Dictionary:\")\n",
    "print(sample_characteristics_dict)\n"
   ]
  },
  {
   "cell_type": "markdown",
   "id": "9aa00e98",
   "metadata": {},
   "source": [
    "### Step 2: Dataset Analysis and Clinical Feature Extraction"
   ]
  },
  {
   "cell_type": "code",
   "execution_count": 3,
   "id": "c3708cd5",
   "metadata": {
    "execution": {
     "iopub.execute_input": "2024-06-12T09:42:18.256721Z",
     "iopub.status.busy": "2024-06-12T09:42:18.256607Z",
     "iopub.status.idle": "2024-06-12T09:42:18.292719Z",
     "shell.execute_reply": "2024-06-12T09:42:18.292371Z"
    }
   },
   "outputs": [
    {
     "name": "stdout",
     "output_type": "stream",
     "text": [
      "{'GSM1376393': [0, 66, 0], 'GSM1376394': [0, 82, 0], 'GSM1376395': [0, 59, 0], 'GSM1376396': [0, 58, 0], 'GSM1376397': [0, 59, 0], 'GSM1376398': [0, 57, 0], 'GSM1376399': [0, 62, 0], 'GSM1376400': [0, 48, 0], 'GSM1376401': [0, 69, 0], 'GSM1376402': [0, 76, 0], 'GSM1376403': [0, 63, 0], 'GSM1376404': [0, 74, 0], 'GSM1376405': [0, 57, 0], 'GSM1376406': [0, 77, 0], 'GSM1376407': [1, 79, 0], 'GSM1376408': [0, 45, 0], 'GSM1376409': [1, 67, 0], 'GSM1376410': [0, 57, 0], 'GSM1376411': [0, 59, 0], 'GSM1376412': [0, 69, 0], 'GSM1376413': [0, 52, 0], 'GSM1376414': [0, 68, 0], 'GSM1376415': [0, 43, 0], 'GSM1376416': [0, 39, 0], 'GSM1376417': [0, 53, 0], 'GSM1376418': [0, 49, 0], 'GSM1376419': [0, 47, 0], 'GSM1376420': [0, 56, 0], 'GSM1376421': [0, 61, 0], 'GSM1376422': [1, 72, 0], 'GSM1376423': [0, 66, 0], 'GSM1376424': [1, 41, 0], 'GSM1376425': [1, 67, 0], 'GSM1376426': [0, 58, 0], 'GSM1376427': [0, 55, 0], 'GSM1376428': [0, 65, 0], 'GSM1376429': [0, 58, 0], 'GSM1376430': [0, 41, 0], 'GSM1376431': [1, 73, 0], 'GSM1376432': [1, 63, 0], 'GSM1376433': [1, 63, 0], 'GSM1376434': [0, 76, 0], 'GSM1376435': [0, 68, 0], 'GSM1376436': [0, 50, 0], 'GSM1376437': [0, 56, 0], 'GSM1376438': [1, 46, 0], 'GSM1376439': [0, 82, 0], 'GSM1376440': [1, 49, 0], 'GSM1376441': [0, 62, 0], 'GSM1376442': [0, 65, 0], 'GSM1376443': [1, 73, 0], 'GSM1376444': [0, 62, 0], 'GSM1376445': [1, 76, 0], 'GSM1376446': [1, 44, 0], 'GSM1376447': [0, 45, 0], 'GSM1376448': [0, 69, 0], 'GSM1376449': [1, 48, 0], 'GSM1376450': [1, 74, 0], 'GSM1376451': [0, 68, 0], 'GSM1376452': [0, 35, 0], 'GSM1376453': [0, 72, 0], 'GSM1376454': [0, 69, 0], 'GSM1376455': [0, 55, 0], 'GSM1376456': [0, 78, 1], 'GSM1376457': [0, 74, 1], 'GSM1376458': [0, 54, 1], 'GSM1376459': [0, 68, 1], 'GSM1376460': [0, 64, 1], 'GSM1376461': [0, 88, 1], 'GSM1376462': [0, 81, 1], 'GSM1376463': [0, 69, 1], 'GSM1376464': [0, 61, 1], 'GSM1376465': [0, 70, 1], 'GSM1376466': [0, 37, 1], 'GSM1376467': [0, 76, 1], 'GSM1376468': [0, 79, 1], 'GSM1376469': [0, 73, 1], 'GSM1376470': [0, 44, 1], 'GSM1376471': [0, 63, 1], 'GSM1376472': [0, 79, 1], 'GSM1376473': [0, 74, 1], 'GSM1376474': [0, 76, 1], 'GSM1376475': [0, 54, 1], 'GSM1376476': [0, 53, 1], 'GSM1376477': [0, 63, 1], 'GSM1376478': [0, 54, 1], 'GSM1376479': [1, 56, 1], 'GSM1376480': [0, 53, 1], 'GSM1376481': [0, 53, 1], 'GSM1376482': [0, 68, 1], 'GSM1376483': [1, 68, 1], 'GSM1376484': [1, 50, 1], 'GSM1376485': [1, 27, 1], 'GSM1376486': [0, 70, 1], 'GSM1376487': [0, 62, 1], 'GSM1376488': [0, 48, 1], 'GSM1376489': [0, 55, 1], 'GSM1376490': [0, 64, 1], 'GSM1376491': [0, 57, 1], 'GSM1376492': [0, 71, 1], 'GSM1376493': [0, 84, 1], 'GSM1376494': [1, 60, 1], 'GSM1376495': [1, 58, 1], 'GSM1376496': [1, 71, 1], 'GSM1376497': [1, 83, 1], 'GSM1376498': [0, 37, 1], 'GSM1376499': [0, 63, 1], 'GSM1376500': [0, 58, 1], 'GSM1376501': [0, 57, 1], 'GSM1376502': [0, 66, 1], 'GSM1376503': [0, 68, 1], 'GSM1376504': [0, 72, 1], 'GSM1376505': [1, 56, 1], 'GSM1376506': [1, 53, 1], 'GSM1376507': [0, 56, 1], 'GSM1376508': [0, 39, 1], 'GSM1376509': [1, 86, 1], 'GSM1376510': [0, 75, 1], 'GSM1376511': [0, 54, 1], 'GSM1376512': [0, 49, 1], 'GSM1376513': [1, 50, 1], 'GSM1376514': [1, 61, 1], 'GSM1376515': [0, 67, 1], 'GSM1376516': [0, 46, 1], 'GSM1376517': [0, 61, 1], 'GSM1376518': [0, 48, 1], 'GSM1376519': [0, 64, 1], 'GSM1376520': [1, 59, 1], 'GSM1376521': [1, 58, 1], 'GSM1376522': [1, 55, 1], 'GSM1376523': [0, 59, 1], 'GSM1376524': [0, 67, 1], 'GSM1376525': [0, 45, 1], 'GSM1376526': [0, 56, 1], 'GSM1376527': [0, 74, 1], 'GSM1376528': [0, 58, 1], 'GSM1376529': [0, 46, 1], 'GSM1376530': [0, 63, 1], 'GSM1376531': [1, 65, 1], 'GSM1376532': [1, 64, 1], 'GSM1376533': [0, 45, 1], 'GSM1376534': [0, 71, 1], 'GSM1376535': [1, 56, 1], 'GSM1376536': [1, 45, 1], 'GSM1376537': [0, 68, 1], 'GSM1376538': [0, 57, 1], 'GSM1376539': [0, 63, 1], 'GSM1376540': [0, 63, 1], 'GSM1376541': [0, 76, 1], 'GSM1376542': [0, 64, 1], 'GSM1376543': [1, 42, 1], 'GSM1376544': [1, 68, 1], 'GSM1376545': [0, 63, 1], 'GSM1376546': [0, 44, 1], 'GSM1376547': [1, 61, 1], 'GSM1376548': [1, 84, 1], 'GSM1376549': [1, 53, 1], 'GSM1376550': [1, 81, 1], 'GSM1376551': [0, 62, 1], 'GSM1376552': [0, 43, 1], 'GSM1376553': [0, 40, 1], 'GSM1376554': [1, 67, 1], 'GSM1376555': [1, 49, 1], 'GSM1376556': [1, 59, 1], 'GSM1376557': [1, 63, 1], 'GSM1376558': [0, 61, 1], 'GSM1376559': [0, 55, 1], 'GSM1376560': [0, 56, 1], 'GSM1376561': [0, 70, 1], 'GSM1376562': [0, 71, 1], 'GSM1376563': [1, 66, 1], 'GSM1376564': [1, 77, 1], 'GSM1376565': [1, 64, 1], 'GSM1376566': [1, 66, 1], 'GSM1376567': [0, 60, 1], 'GSM1376568': [1, 53, 1], 'GSM1376569': [1, 49, 1], 'GSM1376570': [1, 47, 1], 'GSM1376571': [1, 44, 1], 'GSM1376572': [0, 83, 1], 'GSM1376573': [0, 73, 1], 'GSM1376574': [0, 59, 1], 'GSM1376575': [1, 60, 1], 'GSM1376576': [1, 78, 1], 'GSM1376577': [1, 76, 1], 'GSM1376578': [1, 81, 1], 'GSM1376579': [0, 64, 1], 'GSM1376580': [0, 84, 1], 'GSM1376581': [0, 57, 1], 'GSM1376582': [0, 65, 1], 'GSM1376583': [0, 45, 1]}\n"
     ]
    }
   ],
   "source": [
    "is_gene_available = False\n",
    "trait_row = age_row = gender_row = None\n",
    "convert_trait = convert_age = convert_gender = None\n",
    "\n",
    "# Determine gene expression data availability\n",
    "is_gene_available = True  # This dataset is assumed to be suitable\n",
    "\n",
    "# Determine the availability and keys for the variables\n",
    "trait_row = 2  # histology seems to cover cancer type, including pRCC\n",
    "age_row = 4  # age values are listed under key 4\n",
    "gender_row = 3  # gender values are listed under key 3\n",
    "\n",
    "# Define conversion functions\n",
    "def convert_trait(value):\n",
    "    if 'pRCC' in value:\n",
    "        return 1\n",
    "    else:\n",
    "        return 0\n",
    "\n",
    "def convert_age(value):\n",
    "    try:\n",
    "        return int(value.split(': ')[1])\n",
    "    except (ValueError, IndexError):\n",
    "        return None\n",
    "\n",
    "def convert_gender(value):\n",
    "    gender_val = value.split(': ')[1]\n",
    "    if gender_val == 'M':\n",
    "        return 1\n",
    "    elif gender_val == 'F':\n",
    "        return 0\n",
    "    else:\n",
    "        return None\n",
    "\n",
    "# Save cohort information\n",
    "save_cohort_info('GSE57162', './preprocessed/Kidney_Papillary_Cell_Carcinoma/cohort_info.json', is_gene_available, trait_row is not None)\n",
    "\n",
    "# Extract clinical features if available\n",
    "if trait_row is not None:\n",
    "    selected_clinical_data = geo_select_clinical_features(clinical_data, 'Kidney_Papillary_Cell_Carcinoma', trait_row, convert_trait, age_row, convert_age, gender_row, convert_gender)\n",
    "    csv_path = './preprocessed/Kidney_Papillary_Cell_Carcinoma/trait_data/GSE57162.csv'\n",
    "    selected_clinical_data.to_csv(csv_path)\n",
    "    print(preview_df(selected_clinical_data))\n"
   ]
  },
  {
   "cell_type": "markdown",
   "id": "15afe1e8",
   "metadata": {},
   "source": [
    "### Step 3: Gene Data Extraction"
   ]
  },
  {
   "cell_type": "code",
   "execution_count": 4,
   "id": "ec1cec90",
   "metadata": {
    "execution": {
     "iopub.execute_input": "2024-06-12T09:42:18.294514Z",
     "iopub.status.busy": "2024-06-12T09:42:18.294384Z",
     "iopub.status.idle": "2024-06-12T09:42:19.590743Z",
     "shell.execute_reply": "2024-06-12T09:42:19.590368Z"
    }
   },
   "outputs": [
    {
     "name": "stdout",
     "output_type": "stream",
     "text": [
      "Index(['1', '2', '3', '4', '5', '6', '7', '8', '9', '10', '11', '12', '13',\n",
      "       '14', '15', '16', '17', '18', '19', '20'],\n",
      "      dtype='object', name='ID')\n"
     ]
    }
   ],
   "source": [
    "# 1. Use the get_genetic_data function from the library to get the gene_data from the matrix_file previously defined.\n",
    "gene_data = get_genetic_data(matrix_file)\n",
    "\n",
    "# 2. Print the first 20 row ids for the following step.\n",
    "print(gene_data.index[:20])\n"
   ]
  },
  {
   "cell_type": "markdown",
   "id": "f8610be7",
   "metadata": {},
   "source": [
    "### Step 4: Gene Identifier Review"
   ]
  },
  {
   "cell_type": "code",
   "execution_count": 5,
   "id": "374e7c7f",
   "metadata": {
    "execution": {
     "iopub.execute_input": "2024-06-12T09:42:19.592518Z",
     "iopub.status.busy": "2024-06-12T09:42:19.592411Z",
     "iopub.status.idle": "2024-06-12T09:42:19.594446Z",
     "shell.execute_reply": "2024-06-12T09:42:19.594167Z"
    }
   },
   "outputs": [],
   "source": [
    "requires_gene_mapping = True\n"
   ]
  },
  {
   "cell_type": "markdown",
   "id": "055ba71f",
   "metadata": {},
   "source": [
    "### Step 5: Gene Annotation (Conditional)"
   ]
  },
  {
   "cell_type": "code",
   "execution_count": 6,
   "id": "f32e3f78",
   "metadata": {
    "execution": {
     "iopub.execute_input": "2024-06-12T09:42:19.596485Z",
     "iopub.status.busy": "2024-06-12T09:42:19.596387Z",
     "iopub.status.idle": "2024-06-12T09:42:34.956966Z",
     "shell.execute_reply": "2024-06-12T09:42:34.956621Z"
    }
   },
   "outputs": [
    {
     "name": "stdout",
     "output_type": "stream",
     "text": [
      "Gene annotation preview:\n",
      "{'ID': ['1', '2', '3', '4', '5'], 'COL': ['266', '266', '266', '266', '266'], 'ROW': [170.0, 168.0, 166.0, 164.0, 162.0], 'SPOT_ID': ['HsCGHBrightCorner', 'DarkCorner', 'DarkCorner', 'DarkCorner', 'DarkCorner'], 'CONTROL_TYPE': ['pos', 'pos', 'pos', 'pos', 'pos'], 'GB_ACC': [nan, nan, nan, nan, nan], 'GENE_SYMBOL': [nan, nan, nan, nan, nan], 'GENE_NAME': [nan, nan, nan, nan, nan], 'ACCESSION_STRING': [nan, nan, nan, nan, nan], 'CHROMOSOMAL_LOCATION': [nan, nan, nan, nan, nan], 'CYTOBAND': [nan, nan, nan, nan, nan], 'DESCRIPTION': [nan, nan, nan, nan, nan], 'SEQUENCE': [nan, nan, nan, nan, nan]}\n"
     ]
    }
   ],
   "source": [
    "# 1. Use the 'get_gene_annotation' function from the library to get gene annotation data from the soft file.\n",
    "gene_annotation = get_gene_annotation(soft_file)\n",
    "\n",
    "# 2. Use the 'preview_df' function from the library to preview the data and print out the results.\n",
    "print(\"Gene annotation preview:\")\n",
    "print(preview_df(gene_annotation))\n"
   ]
  },
  {
   "cell_type": "markdown",
   "id": "a274d411",
   "metadata": {},
   "source": [
    "### Step 6: Gene Identifier Mapping"
   ]
  },
  {
   "cell_type": "code",
   "execution_count": 7,
   "id": "86a60f8c",
   "metadata": {
    "execution": {
     "iopub.execute_input": "2024-06-12T09:42:34.958925Z",
     "iopub.status.busy": "2024-06-12T09:42:34.958764Z",
     "iopub.status.idle": "2024-06-12T09:42:35.407582Z",
     "shell.execute_reply": "2024-06-12T09:42:35.407170Z"
    }
   },
   "outputs": [],
   "source": [
    "# 1. Read the dictionary and decide which key stores the same kind of identifiers as in STEP3, and which key stores the gene symbols.\n",
    "identifier_key = 'ID'\n",
    "gene_symbol_key = 'GENE_SYMBOL'\n",
    "\n",
    "# 2. Get the dataframe storing the mapping between probe IDs and genes using the 'get_gene_mapping' function from the library.\n",
    "gene_mapping_df = get_gene_mapping(gene_annotation, identifier_key, gene_symbol_key)\n",
    "\n",
    "# 3. Apply the mapping with the 'apply_gene_mapping' function from the library, and name the resulting gene expression dataframe \"gene_data\".\n",
    "gene_data = apply_gene_mapping(gene_data, gene_mapping_df)\n"
   ]
  },
  {
   "cell_type": "markdown",
   "id": "da04c6b5",
   "metadata": {},
   "source": [
    "### Step 7: Data Normalization and Merging"
   ]
  },
  {
   "cell_type": "code",
   "execution_count": 8,
   "id": "9bd01d73",
   "metadata": {
    "execution": {
     "iopub.execute_input": "2024-06-12T09:42:35.409551Z",
     "iopub.status.busy": "2024-06-12T09:42:35.409440Z",
     "iopub.status.idle": "2024-06-12T09:42:45.434928Z",
     "shell.execute_reply": "2024-06-12T09:42:45.434508Z"
    }
   },
   "outputs": [
    {
     "name": "stdout",
     "output_type": "stream",
     "text": [
      "For the feature 'Kidney_Papillary_Cell_Carcinoma', the least common label is '1.0' with 57 occurrences. This represents 29.84% of the dataset.\n",
      "The distribution of the feature 'Kidney_Papillary_Cell_Carcinoma' in this dataset is fine.\n",
      "\n",
      "Quartiles for 'Age':\n",
      "  25%: 54.0\n",
      "  50% (Median): 62.0\n",
      "  75%: 69.0\n",
      "Min: 27.0\n",
      "Max: 88.0\n",
      "The distribution of the feature 'Age' in this dataset is fine.\n",
      "\n",
      "For the feature 'Gender', the least common label is '0.0' with 63 occurrences. This represents 32.98% of the dataset.\n",
      "The distribution of the feature 'Gender' in this dataset is fine.\n",
      "\n"
     ]
    }
   ],
   "source": [
    "# 1. Normalize the obtained gene data with the 'normalize_gene_symbols_in_index' function from the library.\n",
    "normalized_gene_data = normalize_gene_symbols_in_index(gene_data)\n",
    "gene_csv_path = './preprocessed/Kidney_Papillary_Cell_Carcinoma/gene_data/GSE57162.csv'\n",
    "normalized_gene_data.to_csv(gene_csv_path)\n",
    "\n",
    "# 2. Merge the clinical and genetic data with the 'geo_merge_clinical_genetic_data' function from the library.\n",
    "merged_data = geo_merge_clinical_genetic_data(selected_clinical_data, normalized_gene_data)\n",
    "\n",
    "# 3. Determine whether the trait and some demographic attributes in the data is severely biased, and remove biased attributes.\n",
    "trait_biased, unbiased_merged_data = judge_and_remove_biased_features(merged_data, 'Kidney_Papillary_Cell_Carcinoma')\n",
    "\n",
    "# 4. Save the cohort information.\n",
    "save_cohort_info('GSE57162', './preprocessed/Kidney_Papillary_Cell_Carcinoma/cohort_info.json', True, True, trait_biased, merged_data)\n",
    "\n",
    "if not trait_biased:\n",
    "    # 5. If the trait is not severely biased, save the merged data to a csv file.\n",
    "    csv_path = './preprocessed/Kidney_Papillary_Cell_Carcinoma/GSE57162.csv'\n",
    "    unbiased_merged_data.to_csv(csv_path)\n"
   ]
  }
 ],
 "metadata": {
  "language_info": {
   "codemirror_mode": {
    "name": "ipython",
    "version": 3
   },
   "file_extension": ".py",
   "mimetype": "text/x-python",
   "name": "python",
   "nbconvert_exporter": "python",
   "pygments_lexer": "ipython3",
   "version": "3.8.17"
  }
 },
 "nbformat": 4,
 "nbformat_minor": 5
}
