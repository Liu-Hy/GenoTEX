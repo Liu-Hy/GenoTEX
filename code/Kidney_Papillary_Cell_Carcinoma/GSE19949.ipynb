{
 "cells": [
  {
   "cell_type": "code",
   "execution_count": 1,
   "id": "a46aab3b",
   "metadata": {
    "execution": {
     "iopub.execute_input": "2024-06-12T09:43:13.467552Z",
     "iopub.status.busy": "2024-06-12T09:43:13.467433Z",
     "iopub.status.idle": "2024-06-12T09:43:13.472084Z",
     "shell.execute_reply": "2024-06-12T09:43:13.471794Z"
    }
   },
   "outputs": [],
   "source": [
    "\n",
    "import sys\n",
    "sys.path.append('/home/techt/Desktop/a4s')\n"
   ]
  },
  {
   "cell_type": "markdown",
   "id": "e2509ace",
   "metadata": {},
   "source": [
    "### Step 1: Initial Data Loading"
   ]
  },
  {
   "cell_type": "code",
   "execution_count": 2,
   "id": "ab037741",
   "metadata": {
    "execution": {
     "iopub.execute_input": "2024-06-12T09:43:13.473392Z",
     "iopub.status.busy": "2024-06-12T09:43:13.473281Z",
     "iopub.status.idle": "2024-06-12T09:43:13.935884Z",
     "shell.execute_reply": "2024-06-12T09:43:13.935512Z"
    }
   },
   "outputs": [
    {
     "name": "stdout",
     "output_type": "stream",
     "text": [
      "Background Information:\n",
      "!Series_title\t\"Integrative genome-wide expression profiling identifies three distinct molecular subgroups of renal cell carcinoma with different patient outcome\"\n",
      "!Series_summary\t\"Background: Renal cell carcinoma (RCC) is characterized by a number of diverse molecular aberrations that differ among individuals. Recent approaches to molecularly classify RCC were based on clinical, pathological as well as on single molecular parameters. As a consequence, gene expression patterns reflecting the sum of genetic aberrations in individual tumors may not have been recognized. In an attempt to uncover such molecular features in RCC, we used a novel, unbiased and integrative approach.\"\n",
      "!Series_summary\t\"Methods: We integrated gene expression data from 97 primary RCCs of different pathologic parameters, 15 RCC metastases as well as 34 cancer cell lines for two-way nonsupervised hierarchical clustering using gene groups suggested by the PANTHER Classification System. We depicted the genomic landscape of the resulted tumor groups by means of Single Nuclear Polymorphism (SNP) technology. Finally, the achieved results were immunohistochemically analyzed using a tissue microarray (TMA) composed of 254 RCC. Results: We found robust, genome wide expression signatures, which split RCC into three distinct molecular subgroups. These groups remained stable even if randomly selected gene sets were clustered. Notably, the pattern obtained from RCC cell lines was clearly distinguishable from that of primary tumors. SNP array analysis demonstrated differing frequencies of chromosomal copy number alterations among RCC subgroups. TMA analysis with group-specific markers showed a prognostic significance of the different groups. Conclusion: We propose the existence of characteristic and histologically independent genome-wide expression outputs in RCC with potential biological and clinical relevance.\"\n",
      "!Series_overall_design\t\"Expression profiling by array, combined data analysis with genomic profiling data. Genomic DNA from renal cell was hybridized to renal cell carcinoma samples and matched normal kidney tissue biopsies, using the Affymetrix GenomewideSNP_6 platform. CEL files were processed using R, Bioconductor and software from the aroma.affymetrix project. Visualized Copy number profiles are accessible through the Progenetix site (www.progenetix.net). CN,raw.csv and segments.csv: Probes are mapped by their position in genome build 36 / HG18. Probes are ordered according to their linear position on the Golden Path.\"\n",
      "Sample Characteristics Dictionary:\n",
      "{0: ['grade: 2', 'grade: 1', 'grade: 3', 'grade: NA', 'cell line: UMRC2', 'cell line: SLR24', 'cell line: A-498', 'cell line: SK-RC52', 'cell line: 786O (vhl19)', 'cell line: UMRC6', 'cell line: ACHN', 'cell line: 786O (vhl30)', 'cell line: A-704', 'cell line: SLR 26', 'cell line: Caki-1', 'cell line: RCC4 (vhl)', 'cell line: 769-P', 'cell line: KC12', 'cell line: RCC4 (neo)', 'cell line: SK-RC29', 'cell line: SW156', 'cell line: SK-RC31', 'cell line: SLR22', 'cell line: SK-RC38', 'cell line: 786-O', 'cell line: SK-RC42', 'cell line: 786O', 'cell line: SLR25', 'cell line: SLR20', 'cell line: Caki-2'], 1: ['stage: 2', 'stage: 1', 'stage: 3', 'stage: NA', 'grade: NA'], 2: ['sample type: neoplasia', 'stage: NA'], 3: ['icd-o 3 code: 8310/3', 'icd-o 3 code: 8317/3', 'icd-o 3 code: 8312/3', 'icd-o 3 code: 8260/3', 'sample type: neoplasia'], 4: ['icd-o 3 diagnosis text: clear cell renal cell carcinoma', 'icd-o 3 diagnosis text: renal cell carcinoma, chromophobe', 'icd-o 3 diagnosis text: renal cell carcinoma', 'icd-o 3 diagnosis text: papillary renal cell carcinoma', 'icd-o 3 code: 8312/3', 'icd-o 3 code: 8140/3'], 5: ['organ site: kidney', 'organ site: kidney [metastasis of RCC to other site]', 'icd-o 3 diagnosis text: renal cell carcinoma', 'icd-o 3 diagnosis text: adenocarcinoma, NOS'], 6: ['gender: male', 'gender: NA', 'gender: female', 'organ site: kidney [cell line]', 'organ site: prostate [cell line]'], 7: ['tissue type: renal cell carcinoma [clear cell RCC]', 'tissue type: renal cell carcinoma [chromophobe RCC]', 'tissue type: renal cell carcinoma [mixed papillary and clear cell RCC]', 'tissue type: renal cell carcinoma [RCC metastasis]', 'tissue type: renal cell carcinoma [papillary RCC]', 'gender: NA', 'gender: male'], 8: ['cluster id: B', 'cluster id: A', 'cluster id: C', 'tissue type: renal cell carcinoma [cell line UMRC2]', 'tissue type: renal cell carcinoma [cell line SLR24]', 'tissue type: renal cell carcinoma [cell line A-498]', 'tissue type: renal cell carcinoma [cell line SK-RC52]', 'tissue type: renal cell carcinoma [cell line 786O (vhl19)]', 'tissue type: renal cell carcinoma [cell line UMRC6]', 'tissue type: renal cell carcinoma [cell line ACHN]', 'tissue type: renal cell carcinoma [cell line 786O (vhl30)]', 'tissue type: renal cell carcinoma [cell line A-704]', 'tissue type: renal cell carcinoma [cell line SLR 26]', 'tissue type: renal cell carcinoma [cell line Caki-1]', 'tissue type: renal cell carcinoma [cell line RCC4 (vhl)]', 'tissue type: renal cell carcinoma [cell line 769-P]', 'tissue type: renal cell carcinoma [cell line KC12]', 'tissue type: renal cell carcinoma [cell line RCC4 (neo)]', 'tissue type: renal cell carcinoma [cell line SK-RC29]', 'tissue type: renal cell carcinoma [cell line SW156]', 'tissue type: renal cell carcinoma [cell line SK-RC31]', 'tissue type: renal cell carcinoma [cell line SLR22]', 'tissue type: renal cell carcinoma [cell line SK-RC38]', 'tissue type: renal cell carcinoma [cell line 786-O]', 'tissue type: renal cell carcinoma [cell line SK-RC42]', 'tissue type: renal cell carcinoma [cell line 786O]', 'tissue type: renal cell carcinoma [cell line SLR25]', 'tissue type: renal cell carcinoma [cell line SLR20]', 'tissue type: renal cell carcinoma [cell line Caki-2]', 'tissue type: renal cell carcinoma [cell line SLR21]'], 9: [nan, 'cluster id: NA']}\n"
     ]
    }
   ],
   "source": [
    "from utils.preprocess import *\n",
    "# 1. Identify the paths to the soft file and the matrix file\n",
    "cohort_dir = '/media/techt/DATA/GEO/Kidney_Papillary_Cell_Carcinoma/GSE19949'\n",
    "soft_file, matrix_file = geo_get_relevant_filepaths(cohort_dir)\n",
    "\n",
    "# 2. Read the matrix file to obtain background information and sample characteristics data\n",
    "background_prefixes = ['!Series_title', '!Series_summary', '!Series_overall_design']\n",
    "clinical_prefixes = ['!Sample_geo_accession', '!Sample_characteristics_ch1']\n",
    "background_info, clinical_data = get_background_and_clinical_data(matrix_file, background_prefixes, clinical_prefixes)\n",
    "\n",
    "# 3. Obtain the sample characteristics dictionary from the clinical dataframe\n",
    "sample_characteristics_dict = get_unique_values_by_row(clinical_data)\n",
    "\n",
    "# 4. Explicitly print out all the background information and the sample characteristics dictionary\n",
    "print(\"Background Information:\")\n",
    "print(background_info)\n",
    "print(\"Sample Characteristics Dictionary:\")\n",
    "print(sample_characteristics_dict)\n"
   ]
  },
  {
   "cell_type": "markdown",
   "id": "e532baea",
   "metadata": {},
   "source": [
    "### Step 2: Dataset Analysis and Clinical Feature Extraction"
   ]
  },
  {
   "cell_type": "code",
   "execution_count": 3,
   "id": "af475225",
   "metadata": {
    "execution": {
     "iopub.execute_input": "2024-06-12T09:43:13.937353Z",
     "iopub.status.busy": "2024-06-12T09:43:13.937246Z",
     "iopub.status.idle": "2024-06-12T09:43:13.971771Z",
     "shell.execute_reply": "2024-06-12T09:43:13.971478Z"
    }
   },
   "outputs": [
    {
     "name": "stdout",
     "output_type": "stream",
     "text": [
      "{'GSM498450': [0, 1], 'GSM498451': [0, None], 'GSM498452': [0, None], 'GSM498453': [0, 1], 'GSM498454': [0, None], 'GSM498455': [0, None], 'GSM498456': [0, None], 'GSM498457': [0, 0], 'GSM498458': [0, None], 'GSM498459': [0, None], 'GSM498460': [0, 1], 'GSM498461': [0, 1], 'GSM498462': [0, None], 'GSM498463': [0, 1], 'GSM498464': [0, 1], 'GSM498465': [0, None], 'GSM498466': [0, None], 'GSM498467': [0, None], 'GSM498468': [0, None], 'GSM498469': [0, None], 'GSM498470': [0, None], 'GSM498471': [0, None], 'GSM498472': [0, 0], 'GSM498473': [0, None], 'GSM498474': [0, 0], 'GSM498475': [0, 0], 'GSM498476': [0, None], 'GSM498477': [0, 1], 'GSM498478': [0, 1], 'GSM498479': [0, 1], 'GSM498480': [0, 1], 'GSM498481': [0, None], 'GSM498482': [0, None], 'GSM498483': [0, None], 'GSM498484': [0, 1], 'GSM498485': [0, 1], 'GSM498486': [0, 1], 'GSM498487': [0, None], 'GSM498488': [0, None], 'GSM498489': [0, 1], 'GSM498490': [0, 0], 'GSM498491': [0, 1], 'GSM498492': [0, None], 'GSM498493': [0, None], 'GSM498494': [0, 1], 'GSM498495': [0, None], 'GSM498496': [0, None], 'GSM498497': [0, None], 'GSM498498': [0, 1], 'GSM498499': [0, None], 'GSM498500': [0, None], 'GSM498501': [0, None], 'GSM498502': [0, None], 'GSM498503': [0, None], 'GSM498504': [0, 1], 'GSM498505': [0, 1], 'GSM498506': [0, None], 'GSM498507': [0, 1], 'GSM498508': [0, 1], 'GSM498509': [1, None], 'GSM498510': [0, 1], 'GSM498511': [0, None], 'GSM498512': [0, None], 'GSM498513': [0, 0], 'GSM498514': [0, 1], 'GSM498515': [0, 1], 'GSM498516': [0, 0], 'GSM498517': [0, 1], 'GSM498518': [0, None], 'GSM498519': [0, 0], 'GSM498520': [0, None], 'GSM498521': [0, None], 'GSM498522': [0, None], 'GSM498523': [0, 0], 'GSM498524': [0, None], 'GSM498525': [0, None], 'GSM498526': [0, None], 'GSM498527': [0, None], 'GSM498528': [0, None], 'GSM498529': [1, None], 'GSM498530': [1, None], 'GSM498531': [1, 1], 'GSM498532': [1, None], 'GSM498533': [1, None], 'GSM498534': [1, None], 'GSM498535': [1, None], 'GSM498536': [1, 1], 'GSM498537': [1, None], 'GSM498538': [1, None], 'GSM498539': [1, 0], 'GSM498540': [1, 1], 'GSM498541': [1, None], 'GSM498542': [1, 0], 'GSM498543': [1, 1], 'GSM498544': [1, 1], 'GSM498545': [1, 1], 'GSM498546': [1, None], 'GSM498547': [1, None], 'GSM498548': [0, 1], 'GSM498549': [0, None], 'GSM498550': [0, None], 'GSM498551': [0, None], 'GSM498552': [0, None], 'GSM498553': [0, None], 'GSM498554': [0, None], 'GSM498555': [0, None], 'GSM498556': [0, None], 'GSM498557': [0, None], 'GSM498558': [0, None], 'GSM498559': [0, None], 'GSM498560': [0, None], 'GSM498561': [0, None], 'GSM498562': [0, None], 'GSM498563': [None, None], 'GSM498564': [None, None], 'GSM498565': [None, None], 'GSM498566': [None, None], 'GSM498567': [None, None], 'GSM498568': [None, None], 'GSM498569': [None, None], 'GSM498570': [None, None], 'GSM498571': [None, None], 'GSM498572': [None, None], 'GSM498573': [None, None], 'GSM498574': [None, None], 'GSM498575': [None, None], 'GSM498576': [None, None], 'GSM498577': [None, None], 'GSM498578': [None, None], 'GSM498579': [None, None], 'GSM498580': [None, None], 'GSM498581': [None, None], 'GSM498582': [None, None], 'GSM498583': [None, None], 'GSM498584': [None, None], 'GSM498585': [None, None], 'GSM498586': [None, None], 'GSM498587': [None, None], 'GSM498588': [None, None], 'GSM498589': [None, None], 'GSM498590': [None, None], 'GSM498591': [None, None], 'GSM498592': [None, None], 'GSM498593': [None, None], 'GSM498594': [None, None], 'GSM498595': [None, None], 'GSM498596': [None, None]}\n"
     ]
    }
   ],
   "source": [
    "is_gene_available = False\n",
    "trait_row = age_row = gender_row = None  # set to different values when applicable\n",
    "convert_trait = convert_age = convert_gender = None  # define the functions when applicable\n",
    "\n",
    "# Checking Gene Expression Data Availability\n",
    "is_gene_available = True\n",
    "\n",
    "# Extracting Rows for Variables\n",
    "trait_row = 4  # Corresponds to 'Kidney_Papillary_Cell_Carcinoma' inferred from \"icd-o 3 diagnosis text: papillary renal cell carcinoma\"\n",
    "age_row = None  # No specific indication of age in provided sample characteristics dictionary\n",
    "gender_row = 6  # Corresponds to 'gender'\n",
    "\n",
    "# Converting Variables\n",
    "def convert_trait(value):\n",
    "    if \"papillary renal cell carcinoma\" in value.lower():\n",
    "        return 1\n",
    "    elif \"renal cell carcinoma\" in value.lower():\n",
    "        return 0  # Other types of RCC\n",
    "    else:\n",
    "        return None\n",
    "    \n",
    "def convert_age(value):\n",
    "    try:\n",
    "        age = int(value.split(':')[1].strip())\n",
    "        return age\n",
    "    except (ValueError, IndexError):\n",
    "        return None\n",
    "\n",
    "def convert_gender(value):\n",
    "    gender = value.split(':')[1].strip().lower()\n",
    "    if gender == 'female':\n",
    "        return 0\n",
    "    elif gender == 'male':\n",
    "        return 1\n",
    "    else:\n",
    "        return None\n",
    "\n",
    "# Save Metadata\n",
    "save_cohort_info('GSE19949', './preprocessed/Kidney_Papillary_Cell_Carcinoma/cohort_info.json', is_gene_available, trait_row is not None)\n",
    "\n",
    "# Clinical Feature Extraction\n",
    "selected_clinical_data = geo_select_clinical_features(clinical_data, 'Kidney_Papillary_Cell_Carcinoma', trait_row, convert_trait, age_row, convert_age, gender_row, convert_gender)\n",
    "csv_path = './preprocessed/Kidney_Papillary_Cell_Carcinoma/trait_data/GSE19949.csv'\n",
    "selected_clinical_data.to_csv(csv_path)\n",
    "print(preview_df(selected_clinical_data))\n"
   ]
  },
  {
   "cell_type": "markdown",
   "id": "8e55be66",
   "metadata": {},
   "source": [
    "### Step 3: Gene Data Extraction"
   ]
  },
  {
   "cell_type": "code",
   "execution_count": 4,
   "id": "1f4a775f",
   "metadata": {
    "execution": {
     "iopub.execute_input": "2024-06-12T09:43:13.973141Z",
     "iopub.status.busy": "2024-06-12T09:43:13.973036Z",
     "iopub.status.idle": "2024-06-12T09:43:14.450449Z",
     "shell.execute_reply": "2024-06-12T09:43:14.450013Z"
    }
   },
   "outputs": [
    {
     "name": "stdout",
     "output_type": "stream",
     "text": [
      "Index(['1007_s_at', '1053_at', '117_at', '121_at', '1255_g_at', '1294_at',\n",
      "       '1316_at', '1320_at', '1405_i_at', '1431_at', '1438_at', '1487_at',\n",
      "       '1494_f_at', '1598_g_at', '160020_at', '1729_at', '1773_at', '177_at',\n",
      "       '179_at', '1861_at'],\n",
      "      dtype='object', name='ID')\n"
     ]
    }
   ],
   "source": [
    "# 1. Use the get_genetic_data function from the library to get the gene_data from the matrix_file previously defined.\n",
    "gene_data = get_genetic_data(matrix_file)\n",
    "\n",
    "# 2. Print the first 20 row ids for the following step.\n",
    "print(gene_data.index[:20])\n"
   ]
  },
  {
   "cell_type": "markdown",
   "id": "18d08584",
   "metadata": {},
   "source": [
    "### Step 4: Gene Identifier Review"
   ]
  },
  {
   "cell_type": "code",
   "execution_count": 5,
   "id": "81d5d2bb",
   "metadata": {
    "execution": {
     "iopub.execute_input": "2024-06-12T09:43:14.452284Z",
     "iopub.status.busy": "2024-06-12T09:43:14.452149Z",
     "iopub.status.idle": "2024-06-12T09:43:14.454374Z",
     "shell.execute_reply": "2024-06-12T09:43:14.454053Z"
    }
   },
   "outputs": [],
   "source": [
    "requires_gene_mapping = True\n"
   ]
  },
  {
   "cell_type": "markdown",
   "id": "11dce633",
   "metadata": {},
   "source": [
    "### Step 5: Gene Annotation (Conditional)"
   ]
  },
  {
   "cell_type": "code",
   "execution_count": 6,
   "id": "97cc66e4",
   "metadata": {
    "execution": {
     "iopub.execute_input": "2024-06-12T09:43:14.456026Z",
     "iopub.status.busy": "2024-06-12T09:43:14.455932Z",
     "iopub.status.idle": "2024-06-12T09:43:25.052221Z",
     "shell.execute_reply": "2024-06-12T09:43:25.051846Z"
    }
   },
   "outputs": [
    {
     "name": "stdout",
     "output_type": "stream",
     "text": [
      "Gene annotation preview:\n",
      "{'ID': ['1007_s_at', '1053_at', '117_at', '121_at', '1255_g_at'], 'GB_ACC': ['U48705', 'M87338', 'X51757', 'X69699', 'L36861'], 'SPOT_ID': [nan, nan, nan, nan, nan], 'Species Scientific Name': ['Homo sapiens', 'Homo sapiens', 'Homo sapiens', 'Homo sapiens', 'Homo sapiens'], 'Annotation Date': ['Mar 8, 2007', 'Mar 8, 2007', 'Mar 8, 2007', 'Mar 8, 2007', 'Mar 8, 2007'], 'Sequence Type': ['Exemplar sequence', 'Exemplar sequence', 'Exemplar sequence', 'Exemplar sequence', 'Exemplar sequence'], 'Sequence Source': [nan, nan, nan, nan, nan], 'Target Description': ['U48705 /FEATURE=mRNA /DEFINITION=HSU48705 Human receptor tyrosine kinase DDR gene, complete cds', 'M87338 /FEATURE= /DEFINITION=HUMA1SBU Human replication factor C, 40-kDa subunit (A1) mRNA, complete cds', \"X51757 /FEATURE=cds /DEFINITION=HSP70B Human heat-shock protein HSP70B' gene\", 'X69699 /FEATURE= /DEFINITION=HSPAX8A H.sapiens Pax8 mRNA', 'L36861 /FEATURE=expanded_cds /DEFINITION=HUMGCAPB Homo sapiens guanylate cyclase activating protein (GCAP) gene exons 1-4, complete cds'], 'Representative Public ID': ['U48705', 'M87338', 'X51757', 'X69699', 'L36861'], 'Gene Title': ['discoidin domain receptor family, member 1', 'replication factor C (activator 1) 2, 40kDa', \"heat shock 70kDa protein 6 (HSP70B')\", 'paired box gene 8', 'guanylate cyclase activator 1A (retina)'], 'Gene Symbol': ['DDR1', 'RFC2', 'HSPA6', 'PAX8', 'GUCA1A'], 'ENTREZ_GENE_ID': ['780', '5982', '3310', '7849', '2978'], 'RefSeq Transcript ID': ['NM_001954 /// NM_013993 /// NM_013994', 'NM_002914 /// NM_181471', 'NM_002155 /// XM_001134322', 'NM_003466 /// NM_013951 /// NM_013952 /// NM_013953 /// NM_013992', 'NM_000409'], 'Gene Ontology Biological Process': ['0006468 // protein amino acid phosphorylation // inferred from electronic annotation /// 0007155 // cell adhesion // inferred from electronic annotation /// 0007155 // cell adhesion // traceable author statement /// 0007169 // transmembrane receptor protein tyrosine kinase signaling pathway // inferred from electronic annotation', '0006260 // DNA replication // inferred from electronic annotation', '0006457 // protein folding // inferred from electronic annotation /// 0006986 // response to unfolded protein // traceable author statement /// 0006986 // response to unfolded protein // inferred from electronic annotation', '0001656 // metanephros development // inferred from electronic annotation /// 0006183 // GTP biosynthesis // inferred from electronic annotation /// 0006228 // UTP biosynthesis // inferred from electronic annotation /// 0006241 // CTP biosynthesis // inferred from electronic annotation /// 0006350 // transcription // inferred from electronic annotation /// 0009887 // organ morphogenesis // inferred from electronic annotation /// 0030154 // cell differentiation // inferred from electronic annotation /// 0045893 // positive regulation of transcription, DNA-dependent // inferred from sequence or structural similarity /// 0006355 // regulation of transcription, DNA-dependent // inferred from electronic annotation /// 0007275 // development // inferred from electronic annotation /// 0009653 // morphogenesis // traceable author statement', '0007165 // signal transduction // non-traceable author statement /// 0007601 // visual perception // traceable author statement /// 0050896 // response to stimulus // inferred from electronic annotation /// 0007601 // visual perception // inferred from electronic annotation'], 'Gene Ontology Cellular Component': ['0005615 // extracellular space // inferred from electronic annotation /// 0005887 // integral to plasma membrane // traceable author statement /// 0016020 // membrane // inferred from electronic annotation /// 0016021 // integral to membrane // inferred from electronic annotation', '0005634 // nucleus // inferred from electronic annotation /// 0005663 // DNA replication factor C complex // traceable author statement /// 0005663 // DNA replication factor C complex // inferred from electronic annotation', nan, '0005634 // nucleus // inferred from electronic annotation /// 0005654 // nucleoplasm // inferred from sequence or structural similarity /// 0005667 // transcription factor complex // inferred from electronic annotation', nan], 'Gene Ontology Molecular Function': ['0000166 // nucleotide binding // inferred from electronic annotation /// 0004674 // protein serine/threonine kinase activity // inferred from electronic annotation /// 0004713 // protein-tyrosine kinase activity // inferred from electronic annotation /// 0004714 // transmembrane receptor protein tyrosine kinase activity // inferred from electronic annotation /// 0004714 // transmembrane receptor protein tyrosine kinase activity // traceable author statement /// 0004872 // receptor activity // inferred from electronic annotation /// 0005524 // ATP binding // inferred from electronic annotation /// 0016740 // transferase activity // inferred from electronic annotation /// 0004672 // protein kinase activity // inferred from electronic annotation /// 0016301 // kinase activity // inferred from electronic annotation', '0000166 // nucleotide binding // inferred from electronic annotation /// 0003677 // DNA binding // inferred from electronic annotation /// 0005515 // protein binding // inferred from physical interaction /// 0005524 // ATP binding // traceable author statement /// 0017111 // nucleoside-triphosphatase activity // inferred from electronic annotation /// 0005524 // ATP binding // inferred from electronic annotation', '0000166 // nucleotide binding // inferred from electronic annotation /// 0005524 // ATP binding // inferred from electronic annotation', '0003700 // transcription factor activity // traceable author statement /// 0004550 // nucleoside diphosphate kinase activity // inferred from electronic annotation /// 0004996 // thyroid-stimulating hormone receptor activity // traceable author statement /// 0005515 // protein binding // inferred from sequence or structural similarity /// 0005524 // ATP binding // inferred from electronic annotation /// 0016563 // transcriptional activator activity // inferred from sequence or structural similarity /// 0003677 // DNA binding // inferred from electronic annotation', '0005509 // calcium ion binding // inferred from electronic annotation /// 0008048 // calcium sensitive guanylate cyclase activator activity // traceable author statement']}\n"
     ]
    }
   ],
   "source": [
    "# 1. Use the 'get_gene_annotation' function from the library to get gene annotation data from the soft file.\n",
    "gene_annotation = get_gene_annotation(soft_file)\n",
    "\n",
    "# 2. Use the 'preview_df' function from the library to preview the data and print out the results.\n",
    "print(\"Gene annotation preview:\")\n",
    "print(preview_df(gene_annotation))\n"
   ]
  },
  {
   "cell_type": "markdown",
   "id": "8763e30a",
   "metadata": {},
   "source": [
    "### Step 6: Gene Identifier Mapping"
   ]
  },
  {
   "cell_type": "code",
   "execution_count": 7,
   "id": "664b271a",
   "metadata": {
    "execution": {
     "iopub.execute_input": "2024-06-12T09:43:25.053675Z",
     "iopub.status.busy": "2024-06-12T09:43:25.053557Z",
     "iopub.status.idle": "2024-06-12T09:43:25.367626Z",
     "shell.execute_reply": "2024-06-12T09:43:25.367234Z"
    }
   },
   "outputs": [],
   "source": [
    "# 1. Determine the keys for identifiers and gene symbols\n",
    "identifier_key = 'ID'\n",
    "gene_symbol_key = 'Gene Symbol'\n",
    "\n",
    "# 2. Get the dataframe storing the mapping between probe IDs and genes\n",
    "gene_mapping_df = get_gene_mapping(gene_annotation, identifier_key, gene_symbol_key)\n",
    "\n",
    "# 3. Apply the mapping and name the resulting gene expression dataframe \"gene_data\"\n",
    "gene_data = apply_gene_mapping(gene_data, gene_mapping_df)\n"
   ]
  },
  {
   "cell_type": "markdown",
   "id": "a15d31c9",
   "metadata": {},
   "source": [
    "### Step 7: Data Normalization and Merging"
   ]
  },
  {
   "cell_type": "code",
   "execution_count": 8,
   "id": "2d1e90a8",
   "metadata": {
    "execution": {
     "iopub.execute_input": "2024-06-12T09:43:25.369608Z",
     "iopub.status.busy": "2024-06-12T09:43:25.369501Z",
     "iopub.status.idle": "2024-06-12T09:44:01.698646Z",
     "shell.execute_reply": "2024-06-12T09:44:01.698113Z"
    }
   },
   "outputs": [
    {
     "name": "stdout",
     "output_type": "stream",
     "text": [
      "For the feature 'Kidney_Papillary_Cell_Carcinoma', the least common label is '1.0' with 8 occurrences. This represents 18.60% of the dataset.\n",
      "The distribution of the feature 'Kidney_Papillary_Cell_Carcinoma' in this dataset is fine.\n",
      "\n",
      "For the feature 'Gender', the least common label is '0.0' with 11 occurrences. This represents 25.58% of the dataset.\n",
      "The distribution of the feature 'Gender' in this dataset is fine.\n",
      "\n"
     ]
    }
   ],
   "source": [
    "# 1. Normalize the obtained gene data with the 'normalize_gene_symbols_in_index' function from the library.\n",
    "normalized_gene_data = normalize_gene_symbols_in_index(gene_data)\n",
    "gene_csv_path = './preprocessed/Kidney_Papillary_Cell_Carcinoma/gene_data/GSE19949.csv'\n",
    "normalized_gene_data.to_csv(gene_csv_path)\n",
    "\n",
    "# 2. Merge the clinical and genetic data with the 'geo_merge_clinical_genetic_data' function from the library.\n",
    "merged_data = geo_merge_clinical_genetic_data(selected_clinical_data, normalized_gene_data)\n",
    "\n",
    "# 3. Determine whether the trait and some demographic attributes in the data is severely biased, and remove biased attributes.\n",
    "trait_biased, unbiased_merged_data = judge_and_remove_biased_features(merged_data, 'Kidney_Papillary_Cell_Carcinoma')\n",
    "\n",
    "# 4. Save the cohort information.\n",
    "save_cohort_info('GSE19949', './preprocessed/Kidney_Papillary_Cell_Carcinoma/cohort_info.json', True, True, trait_biased, unbiased_merged_data)\n",
    "\n",
    "if not trait_biased:\n",
    "    # 5. If the trait is not severely biased, save the merged data to a csv file.\n",
    "    csv_path = './preprocessed/Kidney_Papillary_Cell_Carcinoma/GSE19949.csv'\n",
    "    unbiased_merged_data.to_csv(csv_path)\n"
   ]
  }
 ],
 "metadata": {
  "language_info": {
   "codemirror_mode": {
    "name": "ipython",
    "version": 3
   },
   "file_extension": ".py",
   "mimetype": "text/x-python",
   "name": "python",
   "nbconvert_exporter": "python",
   "pygments_lexer": "ipython3",
   "version": "3.8.17"
  }
 },
 "nbformat": 4,
 "nbformat_minor": 5
}
