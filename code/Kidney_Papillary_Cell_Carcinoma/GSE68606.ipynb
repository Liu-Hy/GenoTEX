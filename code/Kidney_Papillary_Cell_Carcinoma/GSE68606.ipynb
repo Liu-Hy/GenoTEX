{
 "cells": [
  {
   "cell_type": "code",
   "execution_count": 1,
   "id": "8133db9f",
   "metadata": {
    "execution": {
     "iopub.execute_input": "2024-06-12T09:37:44.231085Z",
     "iopub.status.busy": "2024-06-12T09:37:44.230875Z",
     "iopub.status.idle": "2024-06-12T09:37:44.237707Z",
     "shell.execute_reply": "2024-06-12T09:37:44.237169Z"
    }
   },
   "outputs": [],
   "source": [
    "\n",
    "import sys\n",
    "sys.path.append('/home/techt/Desktop/a4s')\n"
   ]
  },
  {
   "cell_type": "markdown",
   "id": "049735e1",
   "metadata": {},
   "source": [
    "### Step 1: Initial Data Loading"
   ]
  },
  {
   "cell_type": "code",
   "execution_count": 2,
   "id": "4b942be5",
   "metadata": {
    "execution": {
     "iopub.execute_input": "2024-06-12T09:37:44.239877Z",
     "iopub.status.busy": "2024-06-12T09:37:44.239674Z",
     "iopub.status.idle": "2024-06-12T09:37:44.590484Z",
     "shell.execute_reply": "2024-06-12T09:37:44.590110Z"
    }
   },
   "outputs": [
    {
     "name": "stdout",
     "output_type": "stream",
     "text": [
      "Background Information:\n",
      "!Series_title\t\"caArray_dobbi-00100: Interlaboratory comparability study of cancer gene expression analysis using oligonucleotide microarrays\"\n",
      "!Series_summary\t\"A key step in bringing gene expression data into clinical practice is the conduct of large studies to confirm preliminary models. The performance of such confirmatory studies and the transition to clinical practice requires that microarray data from different laboratories are comparable and reproducible. We designed a study to assess the comparability of data from four laboratories that will conduct a larger microarray profiling confirmation project in lung adenocarcinomas. To test the feasibility of combining data across laboratories, frozen tumor tissues, cell line pellets, and purified RNA samples were analyzed at each of the four laboratories. Samples of each type and several subsamples from each tumor and each cell line were blinded before being distributed. The laboratories followed a common protocol for all steps of tissue processing, RNA extraction, and microarray analysis using Affymetrix Human Genome U133A arrays. High within-laboratory and between-laboratory correlations were observed on the purified RNA samples, the cell lines, and the frozen tumor tissues. Intraclass correlation within laboratories was only slightly stronger than between laboratories, and the intraclass correlation tended to be weakest for genes expressed at low levels and showing small variation. Finally, hierarchical cluster analysis revealed that the repeated samples clustered together regardless of the laboratory in which the experiments were done. The findings indicate that under properly controlled conditions it is feasible to perform complete tumor microarray analysis, from tissue processing to hybridization and scanning, at multiple independent laboratories for a single study.\"\n",
      "!Series_overall_design\t\"dobbi-00100\"\n",
      "!Series_overall_design\t\"Assay Type: Gene Expression\"\n",
      "!Series_overall_design\t\"Provider: Affymetrix\"\n",
      "!Series_overall_design\t\"Array Designs: HG-U133A\"\n",
      "!Series_overall_design\t\"Organism: Homo sapiens (ncbitax)\"\n",
      "!Series_overall_design\t\"Tissue Sites: Kidney, Lung, Stomach, Uterus, Liver, Lymphoid tissue, Ovary, Skin, Adrenal Gland, Lymph_Node\"\n",
      "!Series_overall_design\t\"Material Types: cell, nuclear_RNA, synthetic_RNA, organism_part, total_RNA\"\n",
      "!Series_overall_design\t\"Disease States: Recurrent Renal Cell Carcinoma, Squamous Cell Carcinoma,Conventional_Clear_Cell_Renal_Cell_Carcinoma,Gastrointestinal_Stromal_Tumor, Lung_Adenocarcinoma, Leiomyoma, Non neoplastic liver with cirrosis, Stomach Adenocarcinoma, Large Cell Lymphoma, Ovarian Adenocarcinoma, Melanoma, Malignant G1 Stromal Tumor, Adrenal Cortical Adenoma, Metastatic Renal Cell Carcinoma, Malignant Melanoma\"\n",
      "Sample Characteristics Dictionary:\n",
      "{0: ['cell line: H2347', 'cell line: H1437', 'cell line: HCC78', 'cell line: H2087', 'cell line: H2009', 'cell line: --'], 1: ['disease state: --', 'disease state: Leiomyoma', 'disease state: Lung_Adenocarcinoma', 'disease state: Conventional_Clear_Cell_Renal_Cell_Carcinoma', 'disease state: Squamous Cell Carcinoma', 'disease state: Stomach Adenocarcinoma', 'disease state: Large Cell Lymphoma', 'disease state: Malignant Melanoma', 'disease state: Recurrent Renal Cell Carcinoma', 'disease state: Adrenal Cortical Adenoma', 'disease state: Ovarian Adenocarcinoma', 'disease state: Gastrointestinal_Stromal_Tumor', 'disease state: Metastatic Renal Cell Carcinoma', 'disease state: Non neoplastic liver with cirrosis', 'disease state: Malignant G1 Stromal Tumor', 'disease state: melanoma'], 2: ['tumor grading: --', 'tumor grading: G2/pT1pN0pMX', 'tumor grading: G3/pT2pN0pMX', 'tumor grading: G2/pT2pN0pMX', 'tumor grading: G3/pT4pNXpMX'], 3: ['disease stage: --', 'disease stage: Stage IA', 'disease stage: Stage IB', 'disease stage: Stage IIIB'], 4: ['organism part: --', 'organism part: Uterus', 'organism part: Lung', 'organism part: Stomach', 'organism part: Lymphoid tissue', 'organism part: Liver', 'organism part: Adrenal Gland', 'organism part: Ovary', 'organism part: Kidney', 'organism part: Skin', 'organism part: Lymph_Node'], 5: ['Sex: --', 'Sex: female', 'Sex: male'], 6: ['age: --', 'age: 67', 'age: 66', 'age: 72', 'age: 56', 'age: 48'], 7: ['histology: --', 'histology: Leiomyoma', 'histology: Lung_Adenocarcinoma', 'histology: Conventional_Clear_Cell_Renal_Cell_Carcinoma', 'histology: Stomach Adenocarcinoma', 'histology: Large Cell Lymphoma', 'histology: Metastatic Malignant Melanoma', 'histology: Recurrent Renal Cell Carcinoma, chromophobe cell type', 'histology: Non neoplastic liver with cirrosis', 'histology: Adrenal Cortical Adenoma', 'histology: Papillary Serous Adenocarcinoma', 'histology: Squamous cell carcinoma 85% tumor 15% Stroma', 'histology: Squamous Cell Carcinoma', 'histology: Malignant G1 Stromal Tumor', 'histology: metastatic renal cell carcinoma', 'histology: Lung Adenocarcinoma', 'histology: carcinoma', 'histology: Adenocarcinoma', 'histology: Squamous Cell carcinoma', 'histology: Metastatic Renal Cell Carcinoma, clear cell type', 'histology: Ovarian Adenocarcinoma', 'histology: Malignant G1 stromal tumor', 'histology: Adenocartcinoma of Lung', 'histology: Squamoous Cell Carcinoma', 'histology: Renal Cell Carcinoma', 'histology: Non neeoplastic liver with cirrosis', 'histology: Metastatic Renal Cell Carcinoma']}\n"
     ]
    }
   ],
   "source": [
    "from utils.preprocess import *\n",
    "# 1. Identify the paths to the soft file and the matrix file\n",
    "cohort_dir = '/media/techt/DATA/GEO/Kidney_Papillary_Cell_Carcinoma/GSE68606'\n",
    "soft_file, matrix_file = geo_get_relevant_filepaths(cohort_dir)\n",
    "\n",
    "# 2. Read the matrix file to obtain background information and sample characteristics data\n",
    "background_prefixes = ['!Series_title', '!Series_summary', '!Series_overall_design']\n",
    "clinical_prefixes = ['!Sample_geo_accession', '!Sample_characteristics_ch1']\n",
    "background_info, clinical_data = get_background_and_clinical_data(matrix_file, background_prefixes, clinical_prefixes)\n",
    "\n",
    "# 3. Obtain the sample characteristics dictionary from the clinical dataframe\n",
    "sample_characteristics_dict = get_unique_values_by_row(clinical_data)\n",
    "\n",
    "# 4. Explicitly print out all the background information and the sample characteristics dictionary\n",
    "print(\"Background Information:\")\n",
    "print(background_info)\n",
    "print(\"Sample Characteristics Dictionary:\")\n",
    "print(sample_characteristics_dict)\n"
   ]
  },
  {
   "cell_type": "markdown",
   "id": "2cba8c50",
   "metadata": {},
   "source": [
    "### Step 2: Dataset Analysis and Clinical Feature Extraction"
   ]
  },
  {
   "cell_type": "code",
   "execution_count": 3,
   "id": "62d2c2b9",
   "metadata": {
    "execution": {
     "iopub.execute_input": "2024-06-12T09:37:44.592865Z",
     "iopub.status.busy": "2024-06-12T09:37:44.592721Z",
     "iopub.status.idle": "2024-06-12T09:37:44.658778Z",
     "shell.execute_reply": "2024-06-12T09:37:44.658425Z"
    }
   },
   "outputs": [
    {
     "name": "stdout",
     "output_type": "stream",
     "text": [
      "{'GSM1676864': [None, None, None], 'GSM1676865': [None, None, None], 'GSM1676866': [0, None, 0], 'GSM1676867': [None, None, None], 'GSM1676868': [None, None, None], 'GSM1676869': [None, None, None], 'GSM1676870': [None, None, None], 'GSM1676871': [None, None, None], 'GSM1676872': [None, None, None], 'GSM1676873': [None, None, None], 'GSM1676874': [0, 67, 1], 'GSM1676875': [0, 66, 1], 'GSM1676876': [0, 72, 1], 'GSM1676877': [0, 56, 0], 'GSM1676878': [0, 48, 0], 'GSM1676879': [None, None, None], 'GSM1676880': [None, None, None], 'GSM1676881': [0, None, None], 'GSM1676882': [0, None, None], 'GSM1676883': [0, None, None], 'GSM1676884': [0, None, None], 'GSM1676885': [0, None, None], 'GSM1676886': [0, None, None], 'GSM1676887': [0, None, None], 'GSM1676888': [None, None, None], 'GSM1676889': [0, None, None], 'GSM1676890': [0, None, None], 'GSM1676891': [0, None, None], 'GSM1676892': [0, None, None], 'GSM1676893': [0, None, None], 'GSM1676894': [0, None, None], 'GSM1676895': [0, None, None], 'GSM1676896': [0, None, None], 'GSM1676897': [0, None, None], 'GSM1676898': [None, None, None], 'GSM1676899': [0, None, None], 'GSM1676900': [None, None, None], 'GSM1676901': [0, None, None], 'GSM1676902': [0, 48, 0], 'GSM1676903': [0, None, None], 'GSM1676904': [0, None, None], 'GSM1676905': [0, 66, 1], 'GSM1676906': [0, 56, 0], 'GSM1676907': [0, 72, 1], 'GSM1676908': [0, None, None], 'GSM1676909': [0, 67, 1], 'GSM1676910': [0, None, None], 'GSM1676911': [0, None, None], 'GSM1676912': [0, None, None], 'GSM1676913': [None, None, None], 'GSM1676914': [0, None, None], 'GSM1676915': [0, None, None], 'GSM1676916': [None, None, None], 'GSM1676917': [0, None, None], 'GSM1676918': [0, None, None], 'GSM1676919': [0, None, None], 'GSM1676920': [0, None, None], 'GSM1676921': [0, None, None], 'GSM1676922': [0, None, None], 'GSM1676923': [None, None, None], 'GSM1676924': [None, None, None], 'GSM1676925': [None, None, None], 'GSM1676926': [None, None, None], 'GSM1676927': [None, None, None], 'GSM1676928': [None, None, None], 'GSM1676929': [None, None, None], 'GSM1676930': [None, None, None], 'GSM1676931': [None, None, None], 'GSM1676932': [None, None, None], 'GSM1676933': [None, None, None], 'GSM1676934': [None, None, None], 'GSM1676935': [None, None, None], 'GSM1676936': [None, None, None], 'GSM1676937': [None, None, None], 'GSM1676938': [None, None, None], 'GSM1676939': [None, None, None], 'GSM1676940': [0, None, None], 'GSM1676941': [0, None, None], 'GSM1676942': [0, None, None], 'GSM1676943': [0, None, None], 'GSM1676944': [0, None, None], 'GSM1676945': [0, None, None], 'GSM1676946': [0, None, None], 'GSM1676947': [0, None, None], 'GSM1676948': [0, None, None], 'GSM1676949': [0, 67, 1], 'GSM1676950': [0, 56, 0], 'GSM1676951': [0, 48, 0], 'GSM1676952': [None, None, None], 'GSM1676953': [None, None, None], 'GSM1676954': [None, None, None], 'GSM1676955': [0, None, None], 'GSM1676956': [0, None, None], 'GSM1676957': [0, None, None], 'GSM1676958': [None, None, None], 'GSM1676959': [0, None, None], 'GSM1676960': [0, 66, 1], 'GSM1676961': [0, 72, 1], 'GSM1676962': [0, None, None], 'GSM1676963': [0, None, None], 'GSM1676964': [None, None, None], 'GSM1676965': [None, None, None], 'GSM1676966': [0, None, None], 'GSM1676967': [None, None, None], 'GSM1676968': [0, None, None], 'GSM1676969': [0, None, None], 'GSM1676970': [0, None, None], 'GSM1676971': [0, 67, 1], 'GSM1676972': [0, 56, 0], 'GSM1676973': [0, None, None], 'GSM1676974': [0, 66, 1], 'GSM1676975': [0, None, None], 'GSM1676976': [0, None, None], 'GSM1676977': [0, 48, 0], 'GSM1676978': [0, None, None], 'GSM1676979': [0, 72, 1], 'GSM1676980': [0, None, None], 'GSM1676981': [0, None, None], 'GSM1676982': [0, None, None], 'GSM1676983': [0, None, None], 'GSM1676984': [0, None, None], 'GSM1676985': [0, None, None], 'GSM1676986': [0, None, None], 'GSM1676987': [0, None, None], 'GSM1676988': [0, None, None], 'GSM1676989': [0, None, None], 'GSM1676990': [0, None, None], 'GSM1676991': [0, None, None], 'GSM1676992': [None, None, None], 'GSM1676993': [None, None, None], 'GSM1676994': [None, None, None], 'GSM1676995': [None, None, None], 'GSM1676996': [None, None, None], 'GSM1676997': [None, None, None], 'GSM1676998': [None, None, None], 'GSM1676999': [None, None, None], 'GSM1677000': [None, None, None]}\n"
     ]
    }
   ],
   "source": [
    "is_gene_available = False\n",
    "trait_row = age_row = gender_row = None  # set to different values when applicable\n",
    "convert_trait = convert_age = convert_gender = None  # define the functions when applicable\n",
    "\n",
    "# Checking if dataset contains gene expression data\n",
    "# Based on the background information, this dataset uses Affymetrix Human Genome U133A arrays which provide gene expression data.\n",
    "is_gene_available = True\n",
    "\n",
    "# Determining the keys for the variables of interest\n",
    "# 'Kidney_Papillary_Cell_Carcinoma' can be inferred from 'disease state'\n",
    "trait_row = 1  # inferred from 'disease state'\n",
    "# 'age' is directly available\n",
    "age_row = 6  # explicitly available in sample characteristics dictionary\n",
    "# 'gender' is directly available \n",
    "gender_row = 5  # explicitly available in sample characteristics dictionary\n",
    "\n",
    "# Functions to convert variables to the correct data type\n",
    "def convert_trait(value):\n",
    "    extracted_value = value.split(':')[-1].strip().lower()\n",
    "    if \"papillary\" in extracted_value:\n",
    "        return 1\n",
    "    if extracted_value == '--':\n",
    "        return None\n",
    "    return 0\n",
    "\n",
    "def convert_age(value):\n",
    "    extracted_value = value.split(':')[-1].strip()\n",
    "    if extracted_value == '--':\n",
    "        return None\n",
    "    return int(extracted_value)\n",
    "\n",
    "def convert_gender(value):\n",
    "    extracted_value = value.split(':')[-1].strip().lower()\n",
    "    if extracted_value == 'female':\n",
    "        return 0\n",
    "    elif extracted_value == 'male':\n",
    "        return 1\n",
    "    else:\n",
    "        return None\n",
    "\n",
    "# Save cohort information\n",
    "save_cohort_info('GSE68606', './preprocessed/Kidney_Papillary_Cell_Carcinoma/cohort_info.json', is_gene_available, trait_row is not None)\n",
    "\n",
    "# Clinical feature extraction and saving\n",
    "selected_clinical_data = geo_select_clinical_features(clinical_data, 'Kidney_Papillary_Cell_Carcinoma', trait_row, convert_trait, age_row, convert_age, gender_row, convert_gender)\n",
    "csv_path = './preprocessed/Kidney_Papillary_Cell_Carcinoma/trait_data/GSE68606.csv'\n",
    "selected_clinical_data.to_csv(csv_path)\n",
    "print(preview_df(selected_clinical_data))\n"
   ]
  },
  {
   "cell_type": "markdown",
   "id": "11856519",
   "metadata": {},
   "source": [
    "### Step 3: Gene Data Extraction"
   ]
  },
  {
   "cell_type": "code",
   "execution_count": 4,
   "id": "02620d0e",
   "metadata": {
    "execution": {
     "iopub.execute_input": "2024-06-12T09:37:44.661076Z",
     "iopub.status.busy": "2024-06-12T09:37:44.660964Z",
     "iopub.status.idle": "2024-06-12T09:37:44.948072Z",
     "shell.execute_reply": "2024-06-12T09:37:44.947691Z"
    }
   },
   "outputs": [
    {
     "name": "stdout",
     "output_type": "stream",
     "text": [
      "Index(['1007_s_at', '1053_at', '117_at', '121_at', '1255_g_at', '1294_at',\n",
      "       '1316_at', '1320_at', '1405_i_at', '1431_at', '1438_at', '1487_at',\n",
      "       '1494_f_at', '1598_g_at', '160020_at', '1729_at', '1773_at', '177_at',\n",
      "       '179_at', '1861_at'],\n",
      "      dtype='object', name='ID')\n"
     ]
    }
   ],
   "source": [
    "# 1. Use the get_genetic_data function from the library to get the gene_data from the matrix_file previously defined.\n",
    "gene_data = get_genetic_data(matrix_file)\n",
    "\n",
    "# 2. Print the first 20 row ids for the following step.\n",
    "print(gene_data.index[:20])\n"
   ]
  },
  {
   "cell_type": "markdown",
   "id": "5152d429",
   "metadata": {},
   "source": [
    "### Step 4: Gene Identifier Review"
   ]
  },
  {
   "cell_type": "code",
   "execution_count": 5,
   "id": "1034fe40",
   "metadata": {
    "execution": {
     "iopub.execute_input": "2024-06-12T09:37:44.949928Z",
     "iopub.status.busy": "2024-06-12T09:37:44.949783Z",
     "iopub.status.idle": "2024-06-12T09:37:44.951838Z",
     "shell.execute_reply": "2024-06-12T09:37:44.951564Z"
    }
   },
   "outputs": [],
   "source": [
    "requires_gene_mapping = True\n"
   ]
  },
  {
   "cell_type": "markdown",
   "id": "7f957282",
   "metadata": {},
   "source": [
    "### Step 5: Gene Annotation (Conditional)"
   ]
  },
  {
   "cell_type": "code",
   "execution_count": 6,
   "id": "0699b09d",
   "metadata": {
    "execution": {
     "iopub.execute_input": "2024-06-12T09:37:44.953895Z",
     "iopub.status.busy": "2024-06-12T09:37:44.953766Z",
     "iopub.status.idle": "2024-06-12T09:37:50.158472Z",
     "shell.execute_reply": "2024-06-12T09:37:50.158091Z"
    }
   },
   "outputs": [
    {
     "name": "stdout",
     "output_type": "stream",
     "text": [
      "Gene annotation preview:\n",
      "{'ID': ['1007_s_at', '1053_at', '117_at', '121_at', '1255_g_at'], 'GB_ACC': ['U48705', 'M87338', 'X51757', 'X69699', 'L36861'], 'SPOT_ID': [nan, nan, nan, nan, nan], 'Species Scientific Name': ['Homo sapiens', 'Homo sapiens', 'Homo sapiens', 'Homo sapiens', 'Homo sapiens'], 'Annotation Date': ['Oct 6, 2014', 'Oct 6, 2014', 'Oct 6, 2014', 'Oct 6, 2014', 'Oct 6, 2014'], 'Sequence Type': ['Exemplar sequence', 'Exemplar sequence', 'Exemplar sequence', 'Exemplar sequence', 'Exemplar sequence'], 'Sequence Source': ['Affymetrix Proprietary Database', 'GenBank', 'Affymetrix Proprietary Database', 'GenBank', 'Affymetrix Proprietary Database'], 'Target Description': ['U48705 /FEATURE=mRNA /DEFINITION=HSU48705 Human receptor tyrosine kinase DDR gene, complete cds', 'M87338 /FEATURE= /DEFINITION=HUMA1SBU Human replication factor C, 40-kDa subunit (A1) mRNA, complete cds', \"X51757 /FEATURE=cds /DEFINITION=HSP70B Human heat-shock protein HSP70B' gene\", 'X69699 /FEATURE= /DEFINITION=HSPAX8A H.sapiens Pax8 mRNA', 'L36861 /FEATURE=expanded_cds /DEFINITION=HUMGCAPB Homo sapiens guanylate cyclase activating protein (GCAP) gene exons 1-4, complete cds'], 'Representative Public ID': ['U48705', 'M87338', 'X51757', 'X69699', 'L36861'], 'Gene Title': ['discoidin domain receptor tyrosine kinase 1 /// microRNA 4640', 'replication factor C (activator 1) 2, 40kDa', \"heat shock 70kDa protein 6 (HSP70B')\", 'paired box 8', 'guanylate cyclase activator 1A (retina)'], 'Gene Symbol': ['DDR1 /// MIR4640', 'RFC2', 'HSPA6', 'PAX8', 'GUCA1A'], 'ENTREZ_GENE_ID': ['780 /// 100616237', '5982', '3310', '7849', '2978'], 'RefSeq Transcript ID': ['NM_001202521 /// NM_001202522 /// NM_001202523 /// NM_001954 /// NM_013993 /// NM_013994 /// NR_039783 /// XM_005249385 /// XM_005249386 /// XM_005249387 /// XM_005249389 /// XM_005272873 /// XM_005272874 /// XM_005272875 /// XM_005272877 /// XM_005275027 /// XM_005275028 /// XM_005275030 /// XM_005275031 /// XM_005275162 /// XM_005275163 /// XM_005275164 /// XM_005275166 /// XM_005275457 /// XM_005275458 /// XM_005275459 /// XM_005275461 /// XM_006715185 /// XM_006715186 /// XM_006715187 /// XM_006715188 /// XM_006715189 /// XM_006715190 /// XM_006725501 /// XM_006725502 /// XM_006725503 /// XM_006725504 /// XM_006725505 /// XM_006725506 /// XM_006725714 /// XM_006725715 /// XM_006725716 /// XM_006725717 /// XM_006725718 /// XM_006725719 /// XM_006725720 /// XM_006725721 /// XM_006725722 /// XM_006725827 /// XM_006725828 /// XM_006725829 /// XM_006725830 /// XM_006725831 /// XM_006725832 /// XM_006726017 /// XM_006726018 /// XM_006726019 /// XM_006726020 /// XM_006726021 /// XM_006726022 /// XR_427836 /// XR_430858 /// XR_430938 /// XR_430974 /// XR_431015', 'NM_001278791 /// NM_001278792 /// NM_001278793 /// NM_002914 /// NM_181471 /// XM_006716080', 'NM_002155', 'NM_003466 /// NM_013951 /// NM_013952 /// NM_013953 /// NM_013992', 'NM_000409 /// XM_006715073'], 'Gene Ontology Biological Process': ['0001558 // regulation of cell growth // inferred from electronic annotation /// 0001952 // regulation of cell-matrix adhesion // inferred from electronic annotation /// 0006468 // protein phosphorylation // inferred from electronic annotation /// 0007155 // cell adhesion // traceable author statement /// 0007169 // transmembrane receptor protein tyrosine kinase signaling pathway // inferred from electronic annotation /// 0007565 // female pregnancy // inferred from electronic annotation /// 0007566 // embryo implantation // inferred from electronic annotation /// 0007595 // lactation // inferred from electronic annotation /// 0008285 // negative regulation of cell proliferation // inferred from electronic annotation /// 0010715 // regulation of extracellular matrix disassembly // inferred from mutant phenotype /// 0014909 // smooth muscle cell migration // inferred from mutant phenotype /// 0016310 // phosphorylation // inferred from electronic annotation /// 0018108 // peptidyl-tyrosine phosphorylation // inferred from electronic annotation /// 0030198 // extracellular matrix organization // traceable author statement /// 0038063 // collagen-activated tyrosine kinase receptor signaling pathway // inferred from direct assay /// 0038063 // collagen-activated tyrosine kinase receptor signaling pathway // inferred from mutant phenotype /// 0038083 // peptidyl-tyrosine autophosphorylation // inferred from direct assay /// 0043583 // ear development // inferred from electronic annotation /// 0044319 // wound healing, spreading of cells // inferred from mutant phenotype /// 0046777 // protein autophosphorylation // inferred from direct assay /// 0060444 // branching involved in mammary gland duct morphogenesis // inferred from electronic annotation /// 0060749 // mammary gland alveolus development // inferred from electronic annotation /// 0061302 // smooth muscle cell-matrix adhesion // inferred from mutant phenotype', '0000278 // mitotic cell cycle // traceable author statement /// 0000722 // telomere maintenance via recombination // traceable author statement /// 0000723 // telomere maintenance // traceable author statement /// 0006260 // DNA replication // traceable author statement /// 0006271 // DNA strand elongation involved in DNA replication // traceable author statement /// 0006281 // DNA repair // traceable author statement /// 0006283 // transcription-coupled nucleotide-excision repair // traceable author statement /// 0006289 // nucleotide-excision repair // traceable author statement /// 0006297 // nucleotide-excision repair, DNA gap filling // traceable author statement /// 0015979 // photosynthesis // inferred from electronic annotation /// 0015995 // chlorophyll biosynthetic process // inferred from electronic annotation /// 0032201 // telomere maintenance via semi-conservative replication // traceable author statement', '0000902 // cell morphogenesis // inferred from electronic annotation /// 0006200 // ATP catabolic process // inferred from direct assay /// 0006950 // response to stress // inferred from electronic annotation /// 0006986 // response to unfolded protein // traceable author statement /// 0034605 // cellular response to heat // inferred from direct assay /// 0042026 // protein refolding // inferred from direct assay /// 0070370 // cellular heat acclimation // inferred from mutant phenotype', '0001655 // urogenital system development // inferred from sequence or structural similarity /// 0001656 // metanephros development // inferred from electronic annotation /// 0001658 // branching involved in ureteric bud morphogenesis // inferred from expression pattern /// 0001822 // kidney development // inferred from expression pattern /// 0001823 // mesonephros development // inferred from sequence or structural similarity /// 0003337 // mesenchymal to epithelial transition involved in metanephros morphogenesis // inferred from expression pattern /// 0006351 // transcription, DNA-templated // inferred from direct assay /// 0006355 // regulation of transcription, DNA-templated // inferred from electronic annotation /// 0007275 // multicellular organismal development // inferred from electronic annotation /// 0007417 // central nervous system development // inferred from expression pattern /// 0009653 // anatomical structure morphogenesis // traceable author statement /// 0030154 // cell differentiation // inferred from electronic annotation /// 0030878 // thyroid gland development // inferred from expression pattern /// 0030878 // thyroid gland development // inferred from mutant phenotype /// 0038194 // thyroid-stimulating hormone signaling pathway // traceable author statement /// 0039003 // pronephric field specification // inferred from sequence or structural similarity /// 0042472 // inner ear morphogenesis // inferred from sequence or structural similarity /// 0042981 // regulation of apoptotic process // inferred from sequence or structural similarity /// 0045893 // positive regulation of transcription, DNA-templated // inferred from direct assay /// 0045893 // positive regulation of transcription, DNA-templated // inferred from sequence or structural similarity /// 0045944 // positive regulation of transcription from RNA polymerase II promoter // inferred from direct assay /// 0048793 // pronephros development // inferred from sequence or structural similarity /// 0071371 // cellular response to gonadotropin stimulus // inferred from direct assay /// 0071599 // otic vesicle development // inferred from expression pattern /// 0072050 // S-shaped body morphogenesis // inferred from electronic annotation /// 0072073 // kidney epithelium development // inferred from electronic annotation /// 0072108 // positive regulation of mesenchymal to epithelial transition involved in metanephros morphogenesis // inferred from sequence or structural similarity /// 0072164 // mesonephric tubule development // inferred from electronic annotation /// 0072207 // metanephric epithelium development // inferred from expression pattern /// 0072221 // metanephric distal convoluted tubule development // inferred from sequence or structural similarity /// 0072278 // metanephric comma-shaped body morphogenesis // inferred from expression pattern /// 0072284 // metanephric S-shaped body morphogenesis // inferred from expression pattern /// 0072289 // metanephric nephron tubule formation // inferred from sequence or structural similarity /// 0072305 // negative regulation of mesenchymal cell apoptotic process involved in metanephric nephron morphogenesis // inferred from sequence or structural similarity /// 0072307 // regulation of metanephric nephron tubule epithelial cell differentiation // inferred from sequence or structural similarity /// 0090190 // positive regulation of branching involved in ureteric bud morphogenesis // inferred from sequence or structural similarity /// 1900212 // negative regulation of mesenchymal cell apoptotic process involved in metanephros development // inferred from sequence or structural similarity /// 1900215 // negative regulation of apoptotic process involved in metanephric collecting duct development // inferred from sequence or structural similarity /// 1900218 // negative regulation of apoptotic process involved in metanephric nephron tubule development // inferred from sequence or structural similarity /// 2000594 // positive regulation of metanephric DCT cell differentiation // inferred from sequence or structural similarity /// 2000611 // positive regulation of thyroid hormone generation // inferred from mutant phenotype /// 2000612 // regulation of thyroid-stimulating hormone secretion // inferred from mutant phenotype', '0007165 // signal transduction // non-traceable author statement /// 0007601 // visual perception // inferred from electronic annotation /// 0007602 // phototransduction // inferred from electronic annotation /// 0007603 // phototransduction, visible light // traceable author statement /// 0016056 // rhodopsin mediated signaling pathway // traceable author statement /// 0022400 // regulation of rhodopsin mediated signaling pathway // traceable author statement /// 0030828 // positive regulation of cGMP biosynthetic process // inferred from electronic annotation /// 0031282 // regulation of guanylate cyclase activity // inferred from electronic annotation /// 0031284 // positive regulation of guanylate cyclase activity // inferred from electronic annotation /// 0050896 // response to stimulus // inferred from electronic annotation'], 'Gene Ontology Cellular Component': ['0005576 // extracellular region // inferred from electronic annotation /// 0005615 // extracellular space // inferred from direct assay /// 0005886 // plasma membrane // traceable author statement /// 0005887 // integral component of plasma membrane // traceable author statement /// 0016020 // membrane // inferred from electronic annotation /// 0016021 // integral component of membrane // inferred from electronic annotation /// 0043235 // receptor complex // inferred from direct assay /// 0070062 // extracellular vesicular exosome // inferred from direct assay', '0005634 // nucleus // inferred from electronic annotation /// 0005654 // nucleoplasm // traceable author statement /// 0005663 // DNA replication factor C complex // inferred from direct assay', '0005737 // cytoplasm // inferred from direct assay /// 0005814 // centriole // inferred from direct assay /// 0005829 // cytosol // inferred from direct assay /// 0008180 // COP9 signalosome // inferred from direct assay /// 0070062 // extracellular vesicular exosome // inferred from direct assay /// 0072562 // blood microparticle // inferred from direct assay', '0005634 // nucleus // inferred from direct assay /// 0005654 // nucleoplasm // inferred from sequence or structural similarity /// 0005730 // nucleolus // inferred from direct assay', '0001750 // photoreceptor outer segment // inferred from electronic annotation /// 0001917 // photoreceptor inner segment // inferred from electronic annotation /// 0005578 // proteinaceous extracellular matrix // inferred from electronic annotation /// 0005886 // plasma membrane // inferred from direct assay /// 0016020 // membrane // inferred from electronic annotation /// 0097381 // photoreceptor disc membrane // traceable author statement'], 'Gene Ontology Molecular Function': ['0000166 // nucleotide binding // inferred from electronic annotation /// 0004672 // protein kinase activity // inferred from electronic annotation /// 0004713 // protein tyrosine kinase activity // inferred from electronic annotation /// 0004714 // transmembrane receptor protein tyrosine kinase activity // traceable author statement /// 0005515 // protein binding // inferred from physical interaction /// 0005518 // collagen binding // inferred from direct assay /// 0005518 // collagen binding // inferred from mutant phenotype /// 0005524 // ATP binding // inferred from electronic annotation /// 0016301 // kinase activity // inferred from electronic annotation /// 0016740 // transferase activity // inferred from electronic annotation /// 0016772 // transferase activity, transferring phosphorus-containing groups // inferred from electronic annotation /// 0038062 // protein tyrosine kinase collagen receptor activity // inferred from direct assay /// 0046872 // metal ion binding // inferred from electronic annotation', '0000166 // nucleotide binding // inferred from electronic annotation /// 0003677 // DNA binding // inferred from electronic annotation /// 0005515 // protein binding // inferred from physical interaction /// 0005524 // ATP binding // inferred from electronic annotation /// 0016851 // magnesium chelatase activity // inferred from electronic annotation /// 0017111 // nucleoside-triphosphatase activity // inferred from electronic annotation', '0000166 // nucleotide binding // inferred from electronic annotation /// 0005524 // ATP binding // inferred from electronic annotation /// 0019899 // enzyme binding // inferred from physical interaction /// 0031072 // heat shock protein binding // inferred from physical interaction /// 0042623 // ATPase activity, coupled // inferred from direct assay /// 0051082 // unfolded protein binding // inferred from direct assay', '0000979 // RNA polymerase II core promoter sequence-specific DNA binding // inferred from direct assay /// 0003677 // DNA binding // inferred from direct assay /// 0003677 // DNA binding // inferred from mutant phenotype /// 0003700 // sequence-specific DNA binding transcription factor activity // inferred from direct assay /// 0004996 // thyroid-stimulating hormone receptor activity // traceable author statement /// 0005515 // protein binding // inferred from physical interaction /// 0044212 // transcription regulatory region DNA binding // inferred from direct assay', '0005509 // calcium ion binding // inferred from electronic annotation /// 0008048 // calcium sensitive guanylate cyclase activator activity // inferred from electronic annotation /// 0030249 // guanylate cyclase regulator activity // inferred from electronic annotation /// 0046872 // metal ion binding // inferred from electronic annotation']}\n"
     ]
    }
   ],
   "source": [
    "# 1. Use the 'get_gene_annotation' function from the library to get gene annotation data from the soft file.\n",
    "gene_annotation = get_gene_annotation(soft_file)\n",
    "\n",
    "# 2. Use the 'preview_df' function from the library to preview the data and print out the results.\n",
    "print(\"Gene annotation preview:\")\n",
    "print(preview_df(gene_annotation))\n"
   ]
  },
  {
   "cell_type": "markdown",
   "id": "8dddd8c9",
   "metadata": {},
   "source": [
    "### Step 6: Gene Identifier Mapping"
   ]
  },
  {
   "cell_type": "code",
   "execution_count": 7,
   "id": "26785b00",
   "metadata": {
    "execution": {
     "iopub.execute_input": "2024-06-12T09:37:50.160339Z",
     "iopub.status.busy": "2024-06-12T09:37:50.160227Z",
     "iopub.status.idle": "2024-06-12T09:37:50.360851Z",
     "shell.execute_reply": "2024-06-12T09:37:50.360441Z"
    }
   },
   "outputs": [],
   "source": [
    "# 1. Deciding the keys for identifiers and gene symbols.\n",
    "identifier_key = 'ID'\n",
    "gene_symbol_key = 'Gene Symbol'\n",
    "\n",
    "# 2. Get the dataframe storing the mapping between probe IDs and genes using the 'get_gene_mapping' function from the library.\n",
    "gene_mapping = get_gene_mapping(gene_annotation, identifier_key, gene_symbol_key)\n",
    "\n",
    "# 3. Apply the mapping with the 'apply_gene_mapping' function from the library, and name the resulting gene expression dataframe \"gene_data\".\n",
    "gene_data = apply_gene_mapping(gene_data, gene_mapping)\n"
   ]
  },
  {
   "cell_type": "markdown",
   "id": "b48b0732",
   "metadata": {},
   "source": [
    "### Step 7: Data Normalization and Merging"
   ]
  },
  {
   "cell_type": "code",
   "execution_count": 8,
   "id": "8e03df5f",
   "metadata": {
    "execution": {
     "iopub.execute_input": "2024-06-12T09:37:50.362945Z",
     "iopub.status.busy": "2024-06-12T09:37:50.362745Z",
     "iopub.status.idle": "2024-06-12T09:38:27.474788Z",
     "shell.execute_reply": "2024-06-12T09:38:27.474407Z"
    }
   },
   "outputs": [
    {
     "name": "stdout",
     "output_type": "stream",
     "text": [
      "Quartiles for 'Kidney_Papillary_Cell_Carcinoma':\n",
      "  25%: 0.0\n",
      "  50% (Median): 0.0\n",
      "  75%: 0.0\n",
      "Min: 0.0\n",
      "Max: 0.0\n",
      "The distribution of the feature 'Kidney_Papillary_Cell_Carcinoma' in this dataset is severely biased.\n",
      "\n",
      "Quartiles for 'Age':\n",
      "  25%: 56.0\n",
      "  50% (Median): 66.0\n",
      "  75%: 67.0\n",
      "Min: 48.0\n",
      "Max: 72.0\n",
      "The distribution of the feature 'Age' in this dataset is fine.\n",
      "\n",
      "For the feature 'Gender', the least common label is '0.0' with 8 occurrences. This represents 40.00% of the dataset.\n",
      "The distribution of the feature 'Gender' in this dataset is fine.\n",
      "\n"
     ]
    }
   ],
   "source": [
    "# 1. Normalize the obtained gene data with the 'normalize_gene_symbols_in_index' function from the library.\n",
    "normalized_gene_data = normalize_gene_symbols_in_index(gene_data)\n",
    "gene_csv_path = './preprocessed/Kidney_Papillary_Cell_Carcinoma/gene_data/GSE68606.csv'\n",
    "normalized_gene_data.to_csv(gene_csv_path)\n",
    "\n",
    "# 2. Merge the clinical and genetic data with the 'geo_merge_clinical_genetic_data' function from the library.\n",
    "merged_data = geo_merge_clinical_genetic_data(selected_clinical_data, normalized_gene_data)\n",
    "\n",
    "# 3. Determine whether the trait and some demographic attributes in the data is severely biased, and remove biased attributes.\n",
    "trait_biased, unbiased_merged_data = judge_and_remove_biased_features(merged_data, 'Kidney_Papillary_Cell_Carcinoma')\n",
    "\n",
    "# If the trait is not severely biased, save the cohort information and the merged data.\n",
    "\n",
    "# 4. Save the cohort information.\n",
    "save_cohort_info('GSE68606', './preprocessed/Kidney_Papillary_Cell_Carcinoma/cohort_info.json', True, True, trait_biased, merged_data)\n",
    "\n",
    "if not trait_biased:\n",
    "    # 5. If the trait is not severely biased, save the merged data to a csv file.\n",
    "    csv_path = './preprocessed/Kidney_Papillary_Cell_Carcinoma/GSE68606.csv'\n",
    "    unbiased_merged_data.to_csv(csv_path)\n"
   ]
  }
 ],
 "metadata": {
  "language_info": {
   "codemirror_mode": {
    "name": "ipython",
    "version": 3
   },
   "file_extension": ".py",
   "mimetype": "text/x-python",
   "name": "python",
   "nbconvert_exporter": "python",
   "pygments_lexer": "ipython3",
   "version": "3.8.17"
  }
 },
 "nbformat": 4,
 "nbformat_minor": 5
}
