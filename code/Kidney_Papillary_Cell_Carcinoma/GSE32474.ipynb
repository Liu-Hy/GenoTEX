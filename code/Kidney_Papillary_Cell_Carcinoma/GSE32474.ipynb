{
 "cells": [
  {
   "cell_type": "code",
   "execution_count": 1,
   "id": "88ed7ad0",
   "metadata": {
    "execution": {
     "iopub.execute_input": "2024-06-12T09:38:29.676641Z",
     "iopub.status.busy": "2024-06-12T09:38:29.676488Z",
     "iopub.status.idle": "2024-06-12T09:38:29.681916Z",
     "shell.execute_reply": "2024-06-12T09:38:29.681518Z"
    }
   },
   "outputs": [],
   "source": [
    "\n",
    "import sys\n",
    "sys.path.append('/home/techt/Desktop/a4s')\n"
   ]
  },
  {
   "cell_type": "markdown",
   "id": "427e1cf6",
   "metadata": {},
   "source": [
    "### Step 1: Initial Data Loading"
   ]
  },
  {
   "cell_type": "code",
   "execution_count": 2,
   "id": "10c55d20",
   "metadata": {
    "execution": {
     "iopub.execute_input": "2024-06-12T09:38:29.684001Z",
     "iopub.status.busy": "2024-06-12T09:38:29.683708Z",
     "iopub.status.idle": "2024-06-12T09:38:30.434443Z",
     "shell.execute_reply": "2024-06-12T09:38:30.434052Z"
    }
   },
   "outputs": [
    {
     "name": "stdout",
     "output_type": "stream",
     "text": [
      "Background Information:\n",
      "!Series_title\t\"Comparison between cell lines from 9 different cancer tissue (NCI-60) (Affymetrix U133 Plus 2.0)\"\n",
      "!Series_summary\t\"Comparison between cell lines from 9 different cancer tissue of origin types (Breast, Central Nervous System, Colon, Leukemia, Melanoma, Non-Small Cell Lung, Ovarian, Prostate, Renal) from NCI-60 panel.\"\n",
      "!Series_overall_design\t\"Cell lines from 9 different cancer tissue of origin types\"\n",
      "Sample Characteristics Dictionary:\n",
      "{0: ['tissue of origin: Leukemia', 'tissue of origin: Breast', 'tissue of origin: Ovarian', 'tissue of origin: Melanoma', 'tissue of origin: CNS', 'tissue of origin: Colon', 'tissue of origin: Renal', 'tissue of origin: Non-Small Cell Lung', 'tissue of origin: Prostate'], 1: ['cell line: CCRF_CEM', 'cell line: HL_60', 'cell line: MOLT_4', 'cell line: RPMI_8226', 'cell line: SR', 'cell line: K_562', 'cell line: BT_549', 'cell line: HS578T', 'cell line: MCF7', 'cell line: NCI_ADR_RES', 'cell line: MDA_MB_231', 'cell line: MDA_MB_435', 'cell line: SF_268', 'cell line: SF_295', 'cell line: SF_539', 'cell line: SNB_19', 'cell line: SNB_75', 'cell line: U251', 'cell line: COLO205', 'cell line: HCC_2998', 'cell line: HCT_116', 'cell line: HCT_15', 'cell line: HT29', 'cell line: KM12', 'cell line: SW_620', 'cell line: 786_0', 'cell line: A498', 'cell line: ACHN', 'cell line: CAKI_1', 'cell line: RXF_393'], 2: ['age: 4', 'age: 36', 'age: 19', 'age: 61', 'age: 11', 'age: 53', 'age: 72', 'age: 74', 'age: 69', 'Sex: F', 'age: 51', 'age: 31', 'age: 24', 'age: 67', 'age: 34', 'age: 47', 'age: 75', 'age: 70', 'epithelial: yes', 'Sex: M', 'prior treatment: None', 'age: 44', 'age: 58', 'age: 52', 'age: 22', 'age: 49', 'age: 54', 'age: 43', 'age: 60', 'age: 62'], 3: ['Sex: F', 'Sex: M', 'epithelial: yes', 'prior treatment: None', 'ploidy: 2n+/-, Near-diploid 46+/- (35-57)', 'prior treatment: None (non smoker)', 'ploidy: 3n+/-, Near-triploid 69+/- (58-80)', 'ploidy: 3n+, Hypertriploid (70-80)'], 4: ['prior treatment: Rad/Mtx/Cyx', 'prior treatment: None', 'prior treatment: VB/6MP/Pred', 'prior treatment: Y', 'prior treatment: Bisulfan/PiBr', 'epithelial: yes', 'ploidy: 2n+/-, Near-diploid 46+/- (35-57)', 'epithelial: no', 'prior treatment: Rad', 'prior treatment: Rad/BCNU/5FU/HU/6MP', 'p53 mutation: MT', 'ploidy: 2n-, Hypodiploid (35-45)', 'prior treatment: Rad/VB/CCNU/Mto/Pred', 'prior treatment: Rad/HU/5FU/Mtx/Ctx', 'ploidy: 3n+/-, Near-triploid 69+/- (58-80)', 'source: Pleural effusion', 'prior treatment: CyPh/CsPt/Adr', 'prior treatment: Ctx/Adr/CsPt/CyPh', 'prior treatment: Thiotepa', 'prior treatment: Androgen independent and unresponsive to hormone therapy', 'p53 mutation: WT'], 5: ['epithelial: no', 'source: Metastasis', 'source: Primary', 'source: Pleural effusion', 'p53 mutation: MT', 'ploidy: 2n+, Hyperdiploid (47-57)', 'source: Ascites', 'doubling time: 31.5', 'doubling time: 17.4', 'doubling time: 20.6', 'epithelial: yes', 'ploidy: 2n+/-, Near-diploid 46+/- (35-57)', 'ploidy: 3n, Triploid (69)', 'ploidy: 3n+/-, Near-triploid 69+/- (58-80)', 'ploidy: 4n, Tetraploid (92)', 'doubling time: 26.3', 'doubling time: 38.5', 'doubling time: 31.3'], 6: ['ploidy: 2n+/-, Near-diploid 46+/- (35-57)', 'source: PBL', 'source: PB', 'source: Pleural effusion', 'ploidy: 3n+/-, Near-triploid 69+/- (58-80)', 'ploidy: 2n+, Hyperdiploid (47-57)', 'ploidy: 3n-, Hypotriploid (58-68)', 'doubling time: 34', 'ploidy: 5n+/-, Near-pentaploid 115+/- (104-126)', 'ploidy: 4n+/-, Near-tetraploid 92+/- (81-103)', 'p53 mutation: MT', 'ploidy: 3n, Triploid (69)', 'contributing institute: MD Anderson Hospital and Tumor Institute', 'contributing institute: Baylor College', 'contributing institute: ATCC', 'source: Primary', 'doubling time: 23.7', 'p53 mutation: WT', 'source: Metastasis', 'ploidy: 4n, Tetraploid (92)', 'doubling time: 43.6', 'ploidy: 4n+, Hypertetraploid (93-103)', 'source: Ascites', 'contributing institute: John Wayne Cancer Clinic, UCLA School of Medicine', 'ploidy: 4n-, Hypotetraploid (81-91)', 'contributing institute: University of Arizona'], 7: ['p53 mutation: MT', 'ploidy: 2n+/-, Near-diploid 46+/- (35-57)', 'ploidy: 4n, Tetraploid (92)', 'ploidy: 3n-, Hypotriploid (58-68)', 'doubling time: 28.7', 'doubling time: 53.9', 'p53 mutation: WT', 'contributing institute: National Cancer Institute, NIH', 'doubling time: 62.8', 'doubling time: 23.8', nan, 'reference: Can Res 41: 1761-1756, 1981', 'contributing person: ATCC (D.L. Dexter, Roger Williams General Hospital)', 'ploidy: 3n+/-, Near-triploid 69+/- (58-80)', 'contributing institute: MD Anderson Hospital and Tumor Institute', 'doubling time: 20.4', 'doubling time: 66.8', 'ploidy: 3n, Triploid (69)', 'doubling time: 41.7', 'doubling time: 22.9', \"contributing institute: Norsk Hydro's Institut, Norway\", 'doubling time: 61', 'doubling time: 33.4', 'doubling time: 17.8', 'doubling time: 38.2', 'ploidy: 4n+/-, Near-tetraploid 92+/- (81-103)', 'doubling time: 27.1', 'contributing person: D.H. Kern, John Wayne Cancer Clinic, UCLA School of Medicine', 'ploidy: 4n-, Hypotetraploid (81-91)', 'ploidy: 4n+, Hypertetraploid (93-103)'], 8: ['doubling time: 26.7', 'p53 mutation: MT', 'p53 mutation: WT', 'contributing institute: Program Resources, Inc.', 'contributing person: W. Coutinho; E.Y. Lasfargues', 'doubling time: 53.8', 'doubling time: 25.4', 'contributing person: K.Cowan, NCI', 'doubling time: 41.9', 'doubling time: 25.8', 'doubling time: 33.1', 'doubling time: 29.5', 'doubling time: 35.4', 'doubling time: 34.6', 'contributing institute: NINCDS', 'contributing institute: University of Uppsala, Sweden', 'doubling time: 23.8', nan, 'reference: Can Res 39: 1020-1025, 1979', 'contributing person: I.J. Fidler, Univ of Texas M.D. Anderson Hospital and Tumor Institute', 'contributing institute: Scott White Clinic', 'doubling time: 22.4', 'contributing institute: National Cancer Institute, NIH', 'doubling time: 27.5', 'doubling time: 62.9', 'doubling time: 51.3', 'doubling time: 39', 'doubling time: 79.5', 'doubling time: 35.3', 'doubling time: 31'], 9: [\"contributing institute: Children's Cancer research Foudation\", 'doubling time: 28.6', 'doubling time: 27.9', 'doubling time: 33.5', 'contributing person: W.J. Urba, Program Resources, Inc.', 'doubling time: 19.6', nan, 'contributing institute: Naval Bioscience Laboratory', 'contributing institute: Michigan Cancer Foundtion', 'reference: Cancer Res., 46:4087-4090,1986', 'contributing institute: MD Anderson Hospital and Tumor Institute', 'contributing person: R. Cailleau', 'contributing person: P.L.Kornblith', 'contributing institute: University of California', 'contributing institute: NINCDS', 'contributing person: P.L. Kornblith', 'reference: J Neuropathol Exp Neurol 40: 410-427, 1981', 'contributing institute: Denver Medical Hospital', 'doubling time: 19.5', 'reference: Can Res 48: 1943-1948, 1988', 'contributing person: A. Leibovitz', 'contributing person: R.D.Williams, Univ. of Iowa', 'reference: JNCI 51: 1417-1423,1973', 'contributing institute: Southern Research Inst. (T.F. Hogan, Middleton memorial VA hospital)', 'doubling time: 39', 'contributing person: R.V.Clayman, Washington Univ.School of Medicine', 'contributing person: W.M.Linehan', 'contributing person: Giard DJ', 'contributing institute: Johns Hopkins University', 'contributing person: J.D. Minna; A.F. Gazdar'], 10: ['contributing person: G.E. Foley', 'contributing institute: National Cancer Institute, NIH', 'contributing institute: Roswell Park Memorial Institute', 'contributing person: G.E. Moore', nan, 'contributing institute: University of Tennesse', 'contributing person: A.J. Hackett', 'contributing person: C.M. McGrath', 'contributing person: R. Cailleau', 'reference: Cancer Res 40:3118-3129,1980', 'reference: Acta Neuropathol 75: 92-103, 1987', 'contributing person: M.L. Rosenblum', 'contributing person: P.L. Kornblith', 'contributing institute: Memorial Sloan Kettering Cancer Center', 'reference: Can Res 1976 Dec;36(12):4562-9', 'reference: In Vitro 14: 779-786, 1978', 'contributing person: S.M.Schmid', 'contributing person: NCI/DCT/DTP', 'contributing person: J.Fidler', 'reference: Cancer Res 46: 3856-3862, 1987', 'reference: J Natl Cancer Inst. 51(5):1417-23, 1973', 'contributing person: M.Liu', 'reference: Cancer Res. 40: 3502-3507, 1980', 'reference: Science 246: 491-494, 1989', 'reference: Can Res 45: 4970-4979,1985', 'contributing person: T.C. Hamilton', 'contributing person: R. Ozols', 'reference: Human Tumor Cells in vitro, pp. 115-159, 1975', 'contributing person: K.R. Stone', 'reference: Invest Urol 1979 Jul;17(1):16-23'], 11: ['reference: Cancer 18: 522-529, 1965', 'contributing person: R.C. Gallo', 'contributing person: J. Minowada', 'reference: Proc Soc Exp Biol Med 125: 1246-1250, 1967', nan, 'contributing person: H.T. Holden', 'reference: JNCI 58: 1795-1806,1977', 'reference: JNCI 51: 1409-1417,1973', 'reference: JNCI 53(3): 661-674,1974', 'reference: Acta Neuropathol 75: 92-103, 1988', 'reference: J Neuropathol Exp Neurol 40: 201-229, 1981', 'reference: Cancer 47: 255, 1981', 'reference: Can Res. 38: 1345-1355, 1978', 'contributing person: J. Fogh', 'reference: Cancer Res 42: 4948-4953, 1982', 'reference: Contrib oncol 42, 1992', 'reference: Cancer Res 46: 4109-4115, 1986', 'contributing person: T.C. Hamilton', 'reference: Sem Ocol 11: 285-298, 1984', 'reference: Sem Ocol 11: 285-298, 1985', 'reference: Int J Cancer 21: 274-281,1978', 'contributing person: G. Trempe; L.J. Old', 'reference: PNAS 73: 3278-3282, 1976', 'contributing person: T. Takahashi'], 12: [nan, 'reference: Blood 54(3):713-33, 1979', 'reference: J. Natl. Cancer Inst. 49: 891-895, 1972', 'reference: Blood 45: 321-334, 1975', 'reference: Human Tumor Cells in vitro: 115-159, 1975', 'reference: Human Tumor cells in vitro, pp 115-159, 1975', 'reference: Sem Ocol 11: 285-298, 1984', 'reference: J. Natl. Cancer Inst. 59: 221-226, 1977', 'reference: Human Tumor Cells in vitro, pp 115-159, 1975', 'reference: PNAS, 73: 3278-3282, 1976']}\n"
     ]
    }
   ],
   "source": [
    "from utils.preprocess import *\n",
    "# 1. Identify the paths to the soft file and the matrix file\n",
    "cohort_dir = '/media/techt/DATA/GEO/Kidney_Papillary_Cell_Carcinoma/GSE32474'\n",
    "soft_file, matrix_file = geo_get_relevant_filepaths(cohort_dir)\n",
    "\n",
    "# 2. Read the matrix file to obtain background information and sample characteristics data\n",
    "background_prefixes = ['!Series_title', '!Series_summary', '!Series_overall_design']\n",
    "clinical_prefixes = ['!Sample_geo_accession', '!Sample_characteristics_ch1']\n",
    "background_info, clinical_data = get_background_and_clinical_data(matrix_file, background_prefixes, clinical_prefixes)\n",
    "\n",
    "# 3. Obtain the sample characteristics dictionary from the clinical dataframe\n",
    "sample_characteristics_dict = get_unique_values_by_row(clinical_data)\n",
    "\n",
    "# 4. Explicitly print out all the background information and the sample characteristics dictionary\n",
    "print(\"Background Information:\")\n",
    "print(background_info)\n",
    "print(\"Sample Characteristics Dictionary:\")\n",
    "print(sample_characteristics_dict)\n"
   ]
  },
  {
   "cell_type": "markdown",
   "id": "b53dea05",
   "metadata": {},
   "source": [
    "### Step 2: Dataset Analysis and Clinical Feature Extraction"
   ]
  },
  {
   "cell_type": "code",
   "execution_count": 3,
   "id": "ee06f7e1",
   "metadata": {
    "execution": {
     "iopub.execute_input": "2024-06-12T09:38:30.436288Z",
     "iopub.status.busy": "2024-06-12T09:38:30.436179Z",
     "iopub.status.idle": "2024-06-12T09:38:30.439989Z",
     "shell.execute_reply": "2024-06-12T09:38:30.439696Z"
    }
   },
   "outputs": [],
   "source": [
    "is_gene_available = False\n",
    "trait_row = age_row = gender_row = None  # set to different values when applicable\n",
    "convert_trait = convert_age = convert_gender = None  # define the functions when applicable\n",
    "\n",
    "# 1. Gene Expression Data Availability\n",
    "# Based on the series title and description, this dataset is an Affymetrix U133 Plus 2.0 gene expression dataset.\n",
    "is_gene_available = True\n",
    "\n",
    "# 2. Variable Availability and Data Type Conversion\n",
    "# 2.1 Data Availability: Checking availability of the trait, age, and gender variables\n",
    "trait_row = None  # No explicit mention of 'Kidney_Papillary_Cell_Carcinoma'\n",
    "age_row = 2\n",
    "gender_row = 3\n",
    "\n",
    "# 2.3 Data Type Conversion: Define conversion functions\n",
    "def convert_age(value):\n",
    "    try:\n",
    "        return float(value.split(': ')[1])\n",
    "    except:\n",
    "        return None\n",
    "\n",
    "def convert_gender(value):\n",
    "    gender_str = value.split(': ')[1].strip().lower()\n",
    "    if gender_str == 'm':\n",
    "        return 1\n",
    "    elif gender_str == 'f':\n",
    "        return 0\n",
    "    else:\n",
    "        return None\n",
    "\n",
    "# No available data or conversion needed for 'Kidney_Papillary_Cell_Carcinoma'\n",
    "convert_trait = None\n",
    "\n",
    "# 3. Save Metadata\n",
    "save_cohort_info('GSE32474', './preprocessed/Kidney_Papillary_Cell_Carcinoma/cohort_info.json', is_gene_available, trait_row is not None)\n",
    "\n",
    "# 4. Clinical Feature Extraction: Skip this substep since trait_row is None\n"
   ]
  }
 ],
 "metadata": {
  "language_info": {
   "codemirror_mode": {
    "name": "ipython",
    "version": 3
   },
   "file_extension": ".py",
   "mimetype": "text/x-python",
   "name": "python",
   "nbconvert_exporter": "python",
   "pygments_lexer": "ipython3",
   "version": "3.8.17"
  }
 },
 "nbformat": 4,
 "nbformat_minor": 5
}
