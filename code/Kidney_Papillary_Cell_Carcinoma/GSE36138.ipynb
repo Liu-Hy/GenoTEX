{
 "cells": [
  {
   "cell_type": "code",
   "execution_count": 1,
   "id": "0156dbad",
   "metadata": {
    "execution": {
     "iopub.execute_input": "2024-06-12T09:44:17.400914Z",
     "iopub.status.busy": "2024-06-12T09:44:17.400710Z",
     "iopub.status.idle": "2024-06-12T09:44:17.407763Z",
     "shell.execute_reply": "2024-06-12T09:44:17.407248Z"
    }
   },
   "outputs": [],
   "source": [
    "\n",
    "import sys\n",
    "sys.path.append('/home/techt/Desktop/a4s')\n"
   ]
  },
  {
   "cell_type": "markdown",
   "id": "33db56e2",
   "metadata": {},
   "source": [
    "### Step 1: Initial Data Loading"
   ]
  },
  {
   "cell_type": "code",
   "execution_count": 2,
   "id": "599d57b9",
   "metadata": {
    "execution": {
     "iopub.execute_input": "2024-06-12T09:44:17.410405Z",
     "iopub.status.busy": "2024-06-12T09:44:17.410024Z",
     "iopub.status.idle": "2024-06-12T09:44:18.190321Z",
     "shell.execute_reply": "2024-06-12T09:44:18.189934Z"
    }
   },
   "outputs": [
    {
     "name": "stdout",
     "output_type": "stream",
     "text": [
      "Background Information:\n",
      "!Series_title\t\"SNP array data from the Cancer Cell Line Encyclopedia (CCLE)\"\n",
      "!Series_summary\t\"The Cancer Cell Line Encyclopedia (CCLE) project is a collaboration between the Broad Institute, the Novartis Institutes for Biomedical Research and the Genomics Novartis Foundation to conduct a detailed genetic and pharmacologic characterization of a large panel of human cancer models\"\n",
      "!Series_summary\t\"It consists of a compilation of gene expression, chromosomal copy number, and massively parallel sequencing data from nearly 1,000 human cancer cell lines. All raw and processed data are available through an integrated portal on www.broadinstitute.org/ccle\"\n",
      "!Series_overall_design\t\"The final cell line collection spans 36 cancer types. Representation of cell lines for each cancer type was mainly driven by cancer mortality in the United States, as a surrogate of unmet medical need, as well as availability.\"\n",
      "Sample Characteristics Dictionary:\n",
      "{0: ['primary site: central_nervous_system', 'primary site: bone', 'primary site: prostate', 'primary site: stomach', 'primary site: urinary_tract', 'primary site: ovary', 'primary site: haematopoietic_and_lymphoid_tissue', 'primary site: kidney', 'primary site: thyroid', 'primary site: skin', 'primary site: soft_tissue', 'primary site: salivary_gland', 'primary site: lung', 'primary site: pleura', 'primary site: liver', 'primary site: endometrium', 'primary site: pancreas', 'primary site: breast', 'primary site: upper_aerodigestive_tract', 'primary site: large_intestine', 'primary site: autonomic_ganglia', 'primary site: oesophagus', 'primary site: biliary_tract', 'primary site: small_intestine'], 1: ['histology: glioma', 'histology: osteosarcoma', 'histology: carcinoma', 'histology: haematopoietic_neoplasm', 'histology: malignant_melanoma', 'histology: rhabdomyosarcoma', 'histology: lymphoid_neoplasm', 'histology: Ewings_sarcoma-peripheral_primitive_neuroectodermal_tumour', 'histology: mesothelioma', 'histology: chondrosarcoma', 'histology: neuroblastoma', 'histology: sex_cord-stromal_tumour', 'histology: primitive_neuroectodermal_tumour-medulloblastoma', 'histology: rhabdoid_tumour', 'histology: malignant_fibrous_histiocytoma-pleomorphic_sarcoma', 'histology: giant_cell_tumour', 'histology: other', 'histology: fibrosarcoma', 'histology: carcinoid-endocrine_tumour', 'histology: leiomyosarcoma', 'histology: sarcoma'], 2: ['histology subtype1: astrocytoma', nan, 'histology subtype1: adenocarcinoma', 'histology subtype1: astrocytoma_Grade_IV', 'histology subtype1: transitional_cell_carcinoma', 'histology subtype1: acute_lymphoblastic_leukaemia', 'histology subtype1: clear_cell_renal_cell_carcinoma', 'histology subtype1: anaplastic_carcinoma', 'histology subtype1: mucoepidermoid_carcinoma', 'histology subtype1: diffuse_large_B_cell_lymphoma', 'histology subtype1: renal_cell_carcinoma', 'histology subtype1: non_small_cell_carcinoma', 'histology subtype1: hepatocellular_carcinoma', 'histology subtype1: acute_myeloid_leukaemia', 'histology subtype1: plasma_cell_myeloma', 'histology subtype1: ductal_carcinoma', 'histology subtype1: B_cell_lymphoma_unspecified', 'histology subtype1: papillary_carcinoma', 'histology subtype1: acute_lymphoblastic_B_cell_leukaemia', 'histology subtype1: squamous_cell_carcinoma', 'histology subtype1: Burkitt_lymphoma', 'histology subtype1: blast_phase_chronic_myeloid_leukaemia', 'histology subtype1: dedifferentiated', 'histology subtype1: undifferentiated_carcinoma', 'histology subtype1: follicular_carcinoma', 'histology subtype1: small_cell_carcinoma', 'histology subtype1: large_cell_carcinoma', 'histology subtype1: granulosa_cell_tumour', 'histology subtype1: acute_lymphoblastic_T_cell_leukaemia', 'histology subtype1: small_cell_adenocarcinoma']}\n"
     ]
    }
   ],
   "source": [
    "from utils.preprocess import *\n",
    "# 1. Identify the paths to the soft file and the matrix file\n",
    "cohort_dir = '/media/techt/DATA/GEO/Kidney_Papillary_Cell_Carcinoma/GSE36138'\n",
    "soft_file, matrix_file = geo_get_relevant_filepaths(cohort_dir)\n",
    "\n",
    "# 2. Read the matrix file to obtain background information and sample characteristics data\n",
    "background_prefixes = ['!Series_title', '!Series_summary', '!Series_overall_design']\n",
    "clinical_prefixes = ['!Sample_geo_accession', '!Sample_characteristics_ch1']\n",
    "background_info, clinical_data = get_background_and_clinical_data(matrix_file, background_prefixes, clinical_prefixes)\n",
    "\n",
    "# 3. Obtain the sample characteristics dictionary from the clinical dataframe\n",
    "sample_characteristics_dict = get_unique_values_by_row(clinical_data)\n",
    "\n",
    "# 4. Explicitly print out all the background information and the sample characteristics dictionary\n",
    "print(\"Background Information:\")\n",
    "print(background_info)\n",
    "print(\"Sample Characteristics Dictionary:\")\n",
    "print(sample_characteristics_dict)\n"
   ]
  },
  {
   "cell_type": "markdown",
   "id": "74acbe18",
   "metadata": {},
   "source": [
    "### Step 2: Dataset Analysis and Clinical Feature Extraction"
   ]
  },
  {
   "cell_type": "code",
   "execution_count": 3,
   "id": "458c619f",
   "metadata": {
    "execution": {
     "iopub.execute_input": "2024-06-12T09:44:18.192476Z",
     "iopub.status.busy": "2024-06-12T09:44:18.192345Z",
     "iopub.status.idle": "2024-06-12T09:44:18.194718Z",
     "shell.execute_reply": "2024-06-12T09:44:18.194425Z"
    }
   },
   "outputs": [],
   "source": [
    "is_gene_available = False\n",
    "trait_row = age_row = gender_row = None  # set to different values when applicable\n",
    "convert_trait = convert_age = convert_gender = None  # define the functions when applicable\n"
   ]
  },
  {
   "cell_type": "markdown",
   "id": "c97f2747",
   "metadata": {},
   "source": [
    "### Step 1: Determine if gene expression data is available: Unknown Step"
   ]
  },
  {
   "cell_type": "code",
   "execution_count": 4,
   "id": "dbe96fc9",
   "metadata": {
    "execution": {
     "iopub.execute_input": "2024-06-12T09:44:18.196849Z",
     "iopub.status.busy": "2024-06-12T09:44:18.196722Z",
     "iopub.status.idle": "2024-06-12T09:44:18.198650Z",
     "shell.execute_reply": "2024-06-12T09:44:18.198373Z"
    }
   },
   "outputs": [],
   "source": [
    "# Based on the series summary, this dataset contains gene expression data.\n",
    "is_gene_available = True\n"
   ]
  },
  {
   "cell_type": "markdown",
   "id": "81d19c1c",
   "metadata": {},
   "source": [
    "### Step 2: Check availability of variables and define their keys: Unknown Step"
   ]
  },
  {
   "cell_type": "code",
   "execution_count": 5,
   "id": "04de23a0",
   "metadata": {
    "execution": {
     "iopub.execute_input": "2024-06-12T09:44:18.199886Z",
     "iopub.status.busy": "2024-06-12T09:44:18.199786Z",
     "iopub.status.idle": "2024-06-12T09:44:18.201872Z",
     "shell.execute_reply": "2024-06-12T09:44:18.201588Z"
    }
   },
   "outputs": [],
   "source": [
    "# The variable 'Kidney_Papillary_Cell_Carcinoma' (trait_row) is determined using relevant keywords.\n",
    "if 2 in clinical_data and \"histology subtype1: papillary_carcinoma\" in clinical_data[2]:\n",
    "    trait_row = 2\n",
    "\n",
    "# The variable 'age' is not explicitly mentioned in the provided excerpt, thus it is set to None.\n",
    "age_row = None\n",
    "\n",
    "# The variable 'gender' is not explicitly mentioned in the provided excerpt, thus it is set to None.\n",
    "gender_row = None\n"
   ]
  },
  {
   "cell_type": "markdown",
   "id": "8b6d8756",
   "metadata": {},
   "source": [
    "### Step 3: Define conversion functions: Unknown Step"
   ]
  },
  {
   "cell_type": "code",
   "execution_count": 6,
   "id": "049302f5",
   "metadata": {
    "execution": {
     "iopub.execute_input": "2024-06-12T09:44:18.203831Z",
     "iopub.status.busy": "2024-06-12T09:44:18.203704Z",
     "iopub.status.idle": "2024-06-12T09:44:18.206764Z",
     "shell.execute_reply": "2024-06-12T09:44:18.206483Z"
    }
   },
   "outputs": [],
   "source": [
    "def convert_trait(value):\n",
    "    try:\n",
    "        return 1 if \"papillary_carcinoma\" in value.split(':')[-1].strip() else 0\n",
    "    except Exception:\n",
    "        return None\n",
    "\n",
    "def convert_age(value):\n",
    "    try:\n",
    "        return float(value.split(':')[-1].strip())\n",
    "    except Exception:\n",
    "        return None\n",
    "\n",
    "def convert_gender(value):\n",
    "    try:\n",
    "        gender = value.split(':')[-1].strip().lower()\n",
    "        if gender == 'female':\n",
    "            return 0\n",
    "        elif gender == 'male':\n",
    "            return 1\n",
    "        else:\n",
    "            return None\n",
    "    except Exception:\n",
    "        return None\n"
   ]
  },
  {
   "cell_type": "markdown",
   "id": "bb8fcc9b",
   "metadata": {},
   "source": [
    "### Step 4: Save cohort information: Unknown Step"
   ]
  },
  {
   "cell_type": "code",
   "execution_count": 7,
   "id": "5c6f8501",
   "metadata": {
    "execution": {
     "iopub.execute_input": "2024-06-12T09:44:18.208679Z",
     "iopub.status.busy": "2024-06-12T09:44:18.208550Z",
     "iopub.status.idle": "2024-06-12T09:44:18.210953Z",
     "shell.execute_reply": "2024-06-12T09:44:18.210678Z"
    }
   },
   "outputs": [],
   "source": [
    "save_cohort_info('GSE36138', './preprocessed/Kidney_Papillary_Cell_Carcinoma/cohort_info.json', is_gene_available, trait_row is not None)\n"
   ]
  },
  {
   "cell_type": "markdown",
   "id": "eb600734",
   "metadata": {},
   "source": [
    "### Step 5: Clinical Feature Extraction if trait_row is not None: Unknown Step"
   ]
  },
  {
   "cell_type": "code",
   "execution_count": 8,
   "id": "2fccef85",
   "metadata": {
    "execution": {
     "iopub.execute_input": "2024-06-12T09:44:18.212894Z",
     "iopub.status.busy": "2024-06-12T09:44:18.212765Z",
     "iopub.status.idle": "2024-06-12T09:44:18.215092Z",
     "shell.execute_reply": "2024-06-12T09:44:18.214818Z"
    }
   },
   "outputs": [],
   "source": [
    "if trait_row is not None:\n",
    "    selected_clinical_data = geo_select_clinical_features(clinical_data, 'Kidney_Papillary_Cell_Carcinoma', trait_row, convert_trait, age_row, convert_age, gender_row, convert_gender)\n",
    "    csv_path = './preprocessed/Kidney_Papillary_Cell_Carcinoma/trait_data/GSE36138.csv'\n",
    "    selected_clinical_data.to_csv(csv_path)\n",
    "    print(preview_df(selected_clinical_data))\n"
   ]
  }
 ],
 "metadata": {
  "language_info": {
   "codemirror_mode": {
    "name": "ipython",
    "version": 3
   },
   "file_extension": ".py",
   "mimetype": "text/x-python",
   "name": "python",
   "nbconvert_exporter": "python",
   "pygments_lexer": "ipython3",
   "version": "3.8.17"
  }
 },
 "nbformat": 4,
 "nbformat_minor": 5
}
