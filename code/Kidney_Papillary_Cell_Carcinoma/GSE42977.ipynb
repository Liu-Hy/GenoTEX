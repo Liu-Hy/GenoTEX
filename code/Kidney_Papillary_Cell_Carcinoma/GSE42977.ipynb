{
 "cells": [
  {
   "cell_type": "code",
   "execution_count": 1,
   "id": "6f899add",
   "metadata": {
    "execution": {
     "iopub.execute_input": "2024-06-12T09:37:42.669446Z",
     "iopub.status.busy": "2024-06-12T09:37:42.669291Z",
     "iopub.status.idle": "2024-06-12T09:37:42.674716Z",
     "shell.execute_reply": "2024-06-12T09:37:42.674322Z"
    }
   },
   "outputs": [],
   "source": [
    "\n",
    "import sys\n",
    "sys.path.append('/home/techt/Desktop/a4s')\n"
   ]
  },
  {
   "cell_type": "markdown",
   "id": "9dfe78ac",
   "metadata": {},
   "source": [
    "### Step 1: Initial Data Loading"
   ]
  },
  {
   "cell_type": "code",
   "execution_count": 2,
   "id": "a95e7f8a",
   "metadata": {
    "execution": {
     "iopub.execute_input": "2024-06-12T09:37:42.676534Z",
     "iopub.status.busy": "2024-06-12T09:37:42.676382Z",
     "iopub.status.idle": "2024-06-12T09:37:43.220516Z",
     "shell.execute_reply": "2024-06-12T09:37:43.220092Z"
    }
   },
   "outputs": [
    {
     "name": "stdout",
     "output_type": "stream",
     "text": [
      "Background Information:\n",
      "!Series_title\t\"Sequential Binary Gene-Ratio Tests Define a Novel Molecular Diagnostic Strategy for Malignant Pleural Mesothelioma\"\n",
      "!Series_summary\t\"The gene-expression ratio  technique was used to design a molecular signature to diagnose MPM from among other potentially confounding diagnoses and differentiate the epithelioid from the sarcomatoid histological subtype of MPM.\"\n",
      "!Series_overall_design\t\"Microarray analysis was performed on 113 specimens including MPMs and a spectrum of tumors and benign tissues comprising the differential diagnosis of MPM.  A sequential combination of binary gene-expression ratio tests was developed to discriminate MPM from other thoracic malignancies .  This method was compared to other bioinformatic tools and this signature was validated  in an independent set of 170 samples.  Functional enrichment analysis was performed to identify differentially expressed probes.\"\n",
      "Sample Characteristics Dictionary:\n",
      "{0: ['tissue: control', 'tissue: Spindle Cell Sarcoma', 'tissue: Sarcoma', 'tissue: Metastatic Melanoma', 'tissue: Pleomorphic Sarcoma', 'tissue: Renal Cell Carcinoma-Clear Cell', 'tissue: Synovial Sarcoma', 'tissue: Metastatic Thymoma', 'tissue: Metastatic Prostate Cancer', 'tissue: Stomach Cancer-Stromal Sarcoma', 'tissue: Non-Hodgkins Lymphoma', 'tissue: Hemangioendothelioma', 'tissue: Papillary Thyroid Carcinoma', 'tissue: Metastatic Thyroid Cancer', 'tissue: Lymphocytic Lymphoma', 'tissue: Thymoma', 'tissue: Melanoma-Malignant', 'tissue: Hemangiopericytoma', 'tissue: Thyroid Carcinoma', 'tissue: Monophasic Synovial Sarcoma', 'tissue: Metastatic Alveolar Soft Part Sarcoma', 'tissue: Metastatic Meningeal Hemangiopericytoma', 'tissue: Follicular Lymphoma', 'tissue: Rhabdomyosarcoma', 'tissue: Myofibrosarcoma', 'tissue: Renal Cell Carcinoma - Chromophobe', 'tissue: MPM Epithelioid', 'tissue: MPM Sarcomatoid', 'tissue: MPM Biphasic', 'tissue: Normal Lung']}\n"
     ]
    }
   ],
   "source": [
    "from utils.preprocess import *\n",
    "# 1. Identify the paths to the soft file and the matrix file\n",
    "cohort_dir = '/media/techt/DATA/GEO/Kidney_Papillary_Cell_Carcinoma/GSE42977'\n",
    "soft_file, matrix_file = geo_get_relevant_filepaths(cohort_dir)\n",
    "\n",
    "# 2. Read the matrix file to obtain background information and sample characteristics data\n",
    "background_prefixes = ['!Series_title', '!Series_summary', '!Series_overall_design']\n",
    "clinical_prefixes = ['!Sample_geo_accession', '!Sample_characteristics_ch1']\n",
    "background_info, clinical_data = get_background_and_clinical_data(matrix_file, background_prefixes, clinical_prefixes)\n",
    "\n",
    "# 3. Obtain the sample characteristics dictionary from the clinical dataframe\n",
    "sample_characteristics_dict = get_unique_values_by_row(clinical_data)\n",
    "\n",
    "# 4. Explicitly print out all the background information and the sample characteristics dictionary\n",
    "print(\"Background Information:\")\n",
    "print(background_info)\n",
    "print(\"Sample Characteristics Dictionary:\")\n",
    "print(sample_characteristics_dict)\n"
   ]
  },
  {
   "cell_type": "markdown",
   "id": "afeb98d0",
   "metadata": {},
   "source": [
    "### Step 2: Dataset Analysis and Clinical Feature Extraction"
   ]
  },
  {
   "cell_type": "code",
   "execution_count": 3,
   "id": "ec4cda38",
   "metadata": {
    "execution": {
     "iopub.execute_input": "2024-06-12T09:37:43.222401Z",
     "iopub.status.busy": "2024-06-12T09:37:43.222267Z",
     "iopub.status.idle": "2024-06-12T09:37:43.226964Z",
     "shell.execute_reply": "2024-06-12T09:37:43.226660Z"
    }
   },
   "outputs": [
    {
     "name": "stdout",
     "output_type": "stream",
     "text": [
      "A new JSON file was created at: ./preprocessed/Kidney_Papillary_Cell_Carcinoma/cohort_info.json\n"
     ]
    }
   ],
   "source": [
    "is_gene_available = True\n",
    "trait_row = None\n",
    "age_row = None\n",
    "gender_row = None  # set to different values when applicable\n",
    "convert_trait = convert_age = convert_gender = None  # define the functions when applicable\n",
    "\n",
    "# Based on the output of STEP 1, we carefully review and decide the following:\n",
    "# Setting is_gene_available to True\n",
    "# Determining the availability of variables and assigning their respective rows, if available.\n",
    "\n",
    "# Trait (Kidney_Papillary_Cell_Carcinoma) analysis\n",
    "# There is no direct mention of \"Kidney_Papillary_Cell_Carcinoma\" or similar relevant details in the sample characteristics dictionary.\n",
    "trait_row = None\n",
    "\n",
    "# Age analysis\n",
    "# There is no explicit mention of 'age' in the sample characteristics dictionary.\n",
    "age_row = None\n",
    "\n",
    "# Gender analysis\n",
    "# There is no explicit mention of 'gender' in the sample characteristics dictionary.\n",
    "gender_row = None\n",
    "\n",
    "# Define the data conversion functions\n",
    "def convert_trait(value):\n",
    "    try:\n",
    "        return int(value.split(':')[1].strip())\n",
    "    except:\n",
    "        return None\n",
    "\n",
    "def convert_age(value):\n",
    "    try:\n",
    "        return float(value.split(':')[1].strip())\n",
    "    except:\n",
    "        return None\n",
    "\n",
    "def convert_gender(value):\n",
    "    try:\n",
    "        gender_str = value.split(':')[1].strip().lower()\n",
    "        if gender_str == 'male':\n",
    "            return 1\n",
    "        elif gender_str == 'female':\n",
    "            return 0\n",
    "        else:\n",
    "            return None\n",
    "    except:\n",
    "        return None\n",
    "\n",
    "# Save cohort information\n",
    "save_cohort_info('GSE42977', './preprocessed/Kidney_Papillary_Cell_Carcinoma/cohort_info.json', is_gene_available, trait_row is not None)\n",
    "\n",
    "# Clinical feature extraction would be skipped as trait_row is None\n"
   ]
  }
 ],
 "metadata": {
  "language_info": {
   "codemirror_mode": {
    "name": "ipython",
    "version": 3
   },
   "file_extension": ".py",
   "mimetype": "text/x-python",
   "name": "python",
   "nbconvert_exporter": "python",
   "pygments_lexer": "ipython3",
   "version": "3.8.17"
  }
 },
 "nbformat": 4,
 "nbformat_minor": 5
}
