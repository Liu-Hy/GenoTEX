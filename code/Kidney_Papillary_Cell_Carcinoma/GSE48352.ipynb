{
 "cells": [
  {
   "cell_type": "code",
   "execution_count": 1,
   "id": "6e3ee568",
   "metadata": {
    "execution": {
     "iopub.execute_input": "2024-06-12T09:41:30.595013Z",
     "iopub.status.busy": "2024-06-12T09:41:30.594913Z",
     "iopub.status.idle": "2024-06-12T09:41:30.600209Z",
     "shell.execute_reply": "2024-06-12T09:41:30.599805Z"
    }
   },
   "outputs": [],
   "source": [
    "\n",
    "import sys\n",
    "sys.path.append('/home/techt/Desktop/a4s')\n"
   ]
  },
  {
   "cell_type": "markdown",
   "id": "abde942b",
   "metadata": {},
   "source": [
    "### Step 1: Initial Data Loading"
   ]
  },
  {
   "cell_type": "code",
   "execution_count": 2,
   "id": "ec8bfa47",
   "metadata": {
    "execution": {
     "iopub.execute_input": "2024-06-12T09:41:30.602163Z",
     "iopub.status.busy": "2024-06-12T09:41:30.601885Z",
     "iopub.status.idle": "2024-06-12T09:41:30.889391Z",
     "shell.execute_reply": "2024-06-12T09:41:30.888998Z"
    }
   },
   "outputs": [
    {
     "name": "stdout",
     "output_type": "stream",
     "text": [
      "Background Information:\n",
      "!Series_title\t\"DPYS as a potential diagnostic biomarker in hereditary and sporadic PRCC2\"\n",
      "!Series_summary\t\"Papillary renal cell carcinoma type 2 (PRCC2) is known to be very aggressive type of tumor without effictive therapy. Hereditary form of PRCC2 is caused by Fumarate Hydratase (FH) gene mutation that accompanied Hereditary Leiomyomatosis and Renal Cell Carcinoma (HLRCC) disorder. In sporadic form of PRCC2 the mutation of FH gene has not been reported. Both forms of tumors have the similar histopathological characteristics with poor survival prognosis.\"\n",
      "!Series_summary\t\"In this study, we profiled the gene expression of renal tumors and normal tissue from PRCC2 (hereditary and sporadic) patients in order to better understand commonalities and differences in the transcriptional landscape of PRCC2.\"\n",
      "!Series_overall_design\t\"Microarray gene expression profiling was performed on eight normal kidney tissue samples, five hereditary PRCC2 tumor tissue samples and 19 sporadic PRCC2 tumor tissue samples. Hereditary PRCC2 (HPRCC2) patients were confirmed by DNA sequencing of the FH gene.\"\n",
      "Sample Characteristics Dictionary:\n",
      "{0: ['tissue type: Normal', 'tissue type: Cancer'], 1: ['disease status: hereditary PRCC2', 'disease status: sporadic PRCC2']}\n"
     ]
    }
   ],
   "source": [
    "from utils.preprocess import *\n",
    "# 1. Identify the paths to the soft file and the matrix file\n",
    "cohort_dir = '/media/techt/DATA/GEO/Kidney_Papillary_Cell_Carcinoma/GSE48352'\n",
    "soft_file, matrix_file = geo_get_relevant_filepaths(cohort_dir)\n",
    "\n",
    "# 2. Read the matrix file to obtain background information and sample characteristics data\n",
    "background_prefixes = ['!Series_title', '!Series_summary', '!Series_overall_design']\n",
    "clinical_prefixes = ['!Sample_geo_accession', '!Sample_characteristics_ch1']\n",
    "background_info, clinical_data = get_background_and_clinical_data(matrix_file, background_prefixes, clinical_prefixes)\n",
    "\n",
    "# 3. Obtain the sample characteristics dictionary from the clinical dataframe\n",
    "sample_characteristics_dict = get_unique_values_by_row(clinical_data)\n",
    "\n",
    "# 4. Explicitly print out all the background information and the sample characteristics dictionary\n",
    "print(\"Background Information:\")\n",
    "print(background_info)\n",
    "print(\"Sample Characteristics Dictionary:\")\n",
    "print(sample_characteristics_dict)\n"
   ]
  },
  {
   "cell_type": "markdown",
   "id": "ba7bb86b",
   "metadata": {},
   "source": [
    "### Step 2: Dataset Analysis and Clinical Feature Extraction"
   ]
  },
  {
   "cell_type": "code",
   "execution_count": 3,
   "id": "49aa9f29",
   "metadata": {
    "execution": {
     "iopub.execute_input": "2024-06-12T09:41:30.891257Z",
     "iopub.status.busy": "2024-06-12T09:41:30.891116Z",
     "iopub.status.idle": "2024-06-12T09:41:30.898803Z",
     "shell.execute_reply": "2024-06-12T09:41:30.898506Z"
    }
   },
   "outputs": [
    {
     "name": "stdout",
     "output_type": "stream",
     "text": [
      "{'GSM1176286': [1], 'GSM1176287': [1], 'GSM1176288': [1], 'GSM1176289': [1], 'GSM1176290': [1], 'GSM1176291': [1], 'GSM1176292': [1], 'GSM1176293': [1], 'GSM1176294': [1], 'GSM1176295': [1], 'GSM1176296': [1], 'GSM1176297': [1], 'GSM1176298': [1], 'GSM1176299': [1], 'GSM1176300': [1], 'GSM1176301': [1], 'GSM1176302': [1], 'GSM1176303': [1], 'GSM1176304': [1], 'GSM1176305': [1], 'GSM1176306': [1], 'GSM1176307': [1], 'GSM1176308': [1], 'GSM1176309': [1], 'GSM1176310': [1], 'GSM1176311': [1], 'GSM1176312': [1], 'GSM1176313': [1], 'GSM1176314': [1], 'GSM1176315': [1], 'GSM1176316': [1], 'GSM1176317': [1]}\n"
     ]
    }
   ],
   "source": [
    "is_gene_available = False\n",
    "trait_row = age_row = gender_row = None  # set to different values when applicable\n",
    "convert_trait = convert_age = convert_gender = None  # define the functions when applicable\n",
    "\n",
    "# Analyze the dataset information\n",
    "\n",
    "# Check if gene expression data is available\n",
    "is_gene_available = True  # since it states \"gene expression profiling\"\n",
    "\n",
    "# Determine the keys in the sample characteristics dictionary\n",
    "# Based on the provided dictionary:\n",
    "# 0: ['tissue type: Normal', 'tissue type: Cancer'] doesn't seem to represent age or gender\n",
    "# 1: ['disease status: hereditary PRCC2', 'disease status: sporadic PRCC2'] relates to the trait\n",
    "\n",
    "trait_row = 1\n",
    "age_row = None  # No information about age is given\n",
    "gender_row = None  # No information about gender is given\n",
    "\n",
    "# Define conversion functions\n",
    "def convert_trait(value):\n",
    "    try:\n",
    "        _, v = value.split(': ')\n",
    "        return 1 if 'PRCC2' in v else 0\n",
    "    except Exception:\n",
    "        return None\n",
    "\n",
    "convert_age = lambda x: None  # since age data isn't available\n",
    "convert_gender = lambda x: None  # since gender data isn't available\n",
    "\n",
    "# Save cohort information\n",
    "save_cohort_info('GSE48352', './preprocessed/Kidney_Papillary_Cell_Carcinoma/cohort_info.json', is_gene_available, trait_row is not None)\n",
    "\n",
    "# Clinical feature extraction\n",
    "if trait_row is not None:\n",
    "    selected_clinical_data = geo_select_clinical_features(clinical_data, 'Kidney_Papillary_Cell_Carcinoma', trait_row, convert_trait, age_row, convert_age, gender_row, convert_gender)\n",
    "    csv_path = './preprocessed/Kidney_Papillary_Cell_Carcinoma/trait_data/GSE48352.csv'\n",
    "    selected_clinical_data.to_csv(csv_path)\n",
    "    print(preview_df(selected_clinical_data))\n"
   ]
  },
  {
   "cell_type": "markdown",
   "id": "42332b1d",
   "metadata": {},
   "source": [
    "### Step 3: Gene Data Extraction"
   ]
  },
  {
   "cell_type": "code",
   "execution_count": 4,
   "id": "17cb3ce9",
   "metadata": {
    "execution": {
     "iopub.execute_input": "2024-06-12T09:41:30.900484Z",
     "iopub.status.busy": "2024-06-12T09:41:30.900380Z",
     "iopub.status.idle": "2024-06-12T09:41:30.983146Z",
     "shell.execute_reply": "2024-06-12T09:41:30.982735Z"
    }
   },
   "outputs": [
    {
     "name": "stdout",
     "output_type": "stream",
     "text": [
      "Index(['100009676_at', '10000_at', '10001_at', '10002_at', '10003_at',\n",
      "       '100048912_at', '100049716_at', '10004_at', '10005_at', '10006_at',\n",
      "       '10007_at', '10008_at', '100093630_at', '10009_at', '1000_at',\n",
      "       '100101467_at', '100101938_at', '10010_at', '100113407_at', '10011_at'],\n",
      "      dtype='object', name='ID')\n"
     ]
    }
   ],
   "source": [
    "# 1. Use the get_genetic_data function from the library to get the gene_data from the matrix_file previously defined.\n",
    "gene_data = get_genetic_data(matrix_file)\n",
    "\n",
    "# 2. Print the first 20 row ids for the following step.\n",
    "print(gene_data.index[:20])\n"
   ]
  },
  {
   "cell_type": "markdown",
   "id": "d0019378",
   "metadata": {},
   "source": [
    "### Step 4: Gene Identifier Review"
   ]
  },
  {
   "cell_type": "code",
   "execution_count": 5,
   "id": "b945f7cb",
   "metadata": {
    "execution": {
     "iopub.execute_input": "2024-06-12T09:41:30.985080Z",
     "iopub.status.busy": "2024-06-12T09:41:30.984957Z",
     "iopub.status.idle": "2024-06-12T09:41:30.987181Z",
     "shell.execute_reply": "2024-06-12T09:41:30.986857Z"
    }
   },
   "outputs": [],
   "source": [
    "requires_gene_mapping = True\n"
   ]
  },
  {
   "cell_type": "markdown",
   "id": "9c2a568d",
   "metadata": {},
   "source": [
    "### Step 5: Gene Annotation (Conditional)"
   ]
  },
  {
   "cell_type": "code",
   "execution_count": 6,
   "id": "89ef89dc",
   "metadata": {
    "execution": {
     "iopub.execute_input": "2024-06-12T09:41:30.989269Z",
     "iopub.status.busy": "2024-06-12T09:41:30.989137Z",
     "iopub.status.idle": "2024-06-12T09:41:31.685230Z",
     "shell.execute_reply": "2024-06-12T09:41:31.684830Z"
    }
   },
   "outputs": [
    {
     "name": "stdout",
     "output_type": "stream",
     "text": [
      "Gene annotation preview:\n",
      "{'ID': ['1_at', '10_at', '100_at', '1000_at', '10000_at'], 'SPOT_ID': ['1', '10', '100', '1000', '10000'], 'Description': ['alpha-1-B glycoprotein', 'N-acetyltransferase 2 (arylamine N-acetyltransferase)', 'adenosine deaminase', 'cadherin 2, type 1, N-cadherin (neuronal)', 'v-akt murine thymoma viral oncogene homolog 3 (protein kinase B, gamma)']}\n"
     ]
    }
   ],
   "source": [
    "# 1. Use the 'get_gene_annotation' function from the library to get gene annotation data from the soft file.\n",
    "gene_annotation = get_gene_annotation(soft_file)\n",
    "\n",
    "# 2. Use the 'preview_df' function from the library to preview the data and print out the results.\n",
    "print(\"Gene annotation preview:\")\n",
    "print(preview_df(gene_annotation))\n"
   ]
  },
  {
   "cell_type": "markdown",
   "id": "e25e11d7",
   "metadata": {},
   "source": [
    "### Step 6: Gene Identifier Mapping"
   ]
  },
  {
   "cell_type": "code",
   "execution_count": 7,
   "id": "e5ee75f5",
   "metadata": {
    "execution": {
     "iopub.execute_input": "2024-06-12T09:41:31.687420Z",
     "iopub.status.busy": "2024-06-12T09:41:31.687283Z",
     "iopub.status.idle": "2024-06-12T09:41:31.780592Z",
     "shell.execute_reply": "2024-06-12T09:41:31.780180Z"
    }
   },
   "outputs": [],
   "source": [
    "# Given that `requires_gene_mapping` is True, proceed with the substeps.\n",
    "\n",
    "# 1. Define the keys for identifier and gene symbols\n",
    "identifier_key = 'ID'\n",
    "gene_symbol_key = 'Description'\n",
    "\n",
    "# 2. Obtain the mapping dataframe\n",
    "mapping_df = get_gene_mapping(gene_annotation, identifier_key, gene_symbol_key)\n",
    "\n",
    "# 3. Apply the mapping to the gene expression dataframe\n",
    "gene_data = apply_gene_mapping(gene_data, mapping_df)\n"
   ]
  },
  {
   "cell_type": "markdown",
   "id": "19492529",
   "metadata": {},
   "source": [
    "### Step 7: Data Normalization and Merging"
   ]
  },
  {
   "cell_type": "code",
   "execution_count": 8,
   "id": "240ee1b8",
   "metadata": {
    "execution": {
     "iopub.execute_input": "2024-06-12T09:41:31.782626Z",
     "iopub.status.busy": "2024-06-12T09:41:31.782489Z",
     "iopub.status.idle": "2024-06-12T09:42:16.635323Z",
     "shell.execute_reply": "2024-06-12T09:42:16.634824Z"
    }
   },
   "outputs": [
    {
     "name": "stdout",
     "output_type": "stream",
     "text": [
      "Quartiles for 'Kidney_Papillary_Cell_Carcinoma':\n",
      "  25%: 1.0\n",
      "  50% (Median): 1.0\n",
      "  75%: 1.0\n",
      "Min: 1.0\n",
      "Max: 1.0\n",
      "The distribution of the feature 'Kidney_Papillary_Cell_Carcinoma' in this dataset is severely biased.\n",
      "\n"
     ]
    }
   ],
   "source": [
    "# 1. Normalize the obtained gene data with the 'normalize_gene_symbols_in_index' function from the library.\n",
    "normalized_gene_data = normalize_gene_symbols_in_index(gene_data)\n",
    "gene_csv_path = './preprocessed/Kidney_Papillary_Cell_Carcinoma/gene_data/GSE48352.csv'\n",
    "normalized_gene_data.to_csv(gene_csv_path)\n",
    "\n",
    "# 2. Merge the clinical and genetic data with the 'geo_merge_clinical_genetic_data' function from the library.\n",
    "merged_data = geo_merge_clinical_genetic_data(selected_clinical_data, normalized_gene_data)\n",
    "\n",
    "# 3. Determine whether the trait and some demographic attributes in the data is severely biased, and remove biased attributes.\n",
    "trait_biased, unbiased_merged_data = judge_and_remove_biased_features(merged_data, 'Kidney_Papillary_Cell_Carcinoma')\n",
    "\n",
    "# 4. Save the cohort information.\n",
    "save_cohort_info('GSE48352', './preprocessed/Kidney_Papillary_Cell_Carcinoma/cohort_info.json', True, True, trait_biased, unbiased_merged_data)\n",
    "\n",
    "if not trait_biased:\n",
    "    # 5. If the trait is not severely biased, save the merged data to a csv file.\n",
    "    csv_path = './preprocessed/Kidney_Papillary_Cell_Carcinoma/GSE48352.csv'\n",
    "    unbiased_merged_data.to_csv(csv_path)\n"
   ]
  }
 ],
 "metadata": {
  "language_info": {
   "codemirror_mode": {
    "name": "ipython",
    "version": 3
   },
   "file_extension": ".py",
   "mimetype": "text/x-python",
   "name": "python",
   "nbconvert_exporter": "python",
   "pygments_lexer": "ipython3",
   "version": "3.8.17"
  }
 },
 "nbformat": 4,
 "nbformat_minor": 5
}
