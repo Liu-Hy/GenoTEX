{
 "cells": [
  {
   "cell_type": "code",
   "execution_count": 1,
   "id": "815dc64f",
   "metadata": {
    "execution": {
     "iopub.execute_input": "2024-06-12T09:39:37.492968Z",
     "iopub.status.busy": "2024-06-12T09:39:37.492811Z",
     "iopub.status.idle": "2024-06-12T09:39:37.497959Z",
     "shell.execute_reply": "2024-06-12T09:39:37.497500Z"
    }
   },
   "outputs": [],
   "source": [
    "\n",
    "import sys\n",
    "sys.path.append('/home/techt/Desktop/a4s')\n"
   ]
  },
  {
   "cell_type": "markdown",
   "id": "98019596",
   "metadata": {},
   "source": [
    "### Step 1: Initial Data Loading"
   ]
  },
  {
   "cell_type": "code",
   "execution_count": 2,
   "id": "d84d1245",
   "metadata": {
    "execution": {
     "iopub.execute_input": "2024-06-12T09:39:37.499619Z",
     "iopub.status.busy": "2024-06-12T09:39:37.499494Z",
     "iopub.status.idle": "2024-06-12T09:39:37.818474Z",
     "shell.execute_reply": "2024-06-12T09:39:37.817963Z"
    }
   },
   "outputs": [
    {
     "name": "stdout",
     "output_type": "stream",
     "text": [
      "Background Information:\n",
      "!Series_title\t\"An antioxidant response phenotype is shared between hereditary and sporadic type 2 papillary renal cell carcinoma\"\n",
      "!Series_summary\t\"Fumarate hydratase (FH) mutation causes hereditary type 2 papillary renal cell carcinoma (HLRCC, Hereditary Leiomyomatosis and Renal Cell Cancer (MM ID # 605839)). The main effect of FH mutation is fumarate accumulation. The current paradigm posits that the main consequence of fumarate accumulation is HIF-a stabilization. Paradoxically, FH mutation differs from other HIF-a stabilizing mutations, such as VHL and SDH mutations, in its associated tumor types. We identified that fumarate can directly up-regulate antioxidant response element (ARE)-controlled genes. We demonstrated that AKR1B10 is an ARE-controlled gene and is up-regulated upon FH knockdown as well as in FH-null cell lines. AKR1B10 overexpression is also a prominent feature in both hereditary and sporadic PRCC2. This phenotype better explains the similarities between hereditary and sporadic PRCC2.\"\n",
      "!Series_overall_design\t\"Expression profiling renal normal and tumor tissue\"\n",
      "Sample Characteristics Dictionary:\n",
      "{0: ['disease state: normal_tissue_from_ccRCC_patient', 'disease state: ccRCC', 'disease state: Chromophobe', 'disease state: Pap_type1', 'disease state: Pap_type2', 'disease state: HLRCC', 'disease state: normal_tissue_from_FH_patient']}\n"
     ]
    }
   ],
   "source": [
    "from utils.preprocess import *\n",
    "# 1. Identify the paths to the soft file and the matrix file\n",
    "cohort_dir = '/media/techt/DATA/GEO/Kidney_Papillary_Cell_Carcinoma/GSE26574'\n",
    "soft_file, matrix_file = geo_get_relevant_filepaths(cohort_dir)\n",
    "\n",
    "# 2. Read the matrix file to obtain background information and sample characteristics data\n",
    "background_prefixes = ['!Series_title', '!Series_summary', '!Series_overall_design']\n",
    "clinical_prefixes = ['!Sample_geo_accession', '!Sample_characteristics_ch1']\n",
    "background_info, clinical_data = get_background_and_clinical_data(matrix_file, background_prefixes, clinical_prefixes)\n",
    "\n",
    "# 3. Obtain the sample characteristics dictionary from the clinical dataframe\n",
    "sample_characteristics_dict = get_unique_values_by_row(clinical_data)\n",
    "\n",
    "# 4. Explicitly print out all the background information and the sample characteristics dictionary\n",
    "print(\"Background Information:\")\n",
    "print(background_info)\n",
    "print(\"Sample Characteristics Dictionary:\")\n",
    "print(sample_characteristics_dict)\n"
   ]
  },
  {
   "cell_type": "markdown",
   "id": "c1b334c4",
   "metadata": {},
   "source": [
    "### Step 2: Dataset Analysis and Clinical Feature Extraction"
   ]
  },
  {
   "cell_type": "code",
   "execution_count": 3,
   "id": "53b71de7",
   "metadata": {
    "execution": {
     "iopub.execute_input": "2024-06-12T09:39:37.819910Z",
     "iopub.status.busy": "2024-06-12T09:39:37.819802Z",
     "iopub.status.idle": "2024-06-12T09:39:37.829979Z",
     "shell.execute_reply": "2024-06-12T09:39:37.829588Z"
    }
   },
   "outputs": [
    {
     "name": "stdout",
     "output_type": "stream",
     "text": [
      "{'GSM655513': [0], 'GSM655514': [0], 'GSM655515': [0], 'GSM655516': [0], 'GSM655517': [0], 'GSM655518': [0], 'GSM655519': [0], 'GSM655520': [0], 'GSM655521': [None], 'GSM655522': [None], 'GSM655523': [None], 'GSM655524': [None], 'GSM655525': [None], 'GSM655526': [None], 'GSM655527': [None], 'GSM655528': [None], 'GSM655529': [None], 'GSM655530': [None], 'GSM655531': [None], 'GSM655532': [None], 'GSM655533': [None], 'GSM655534': [None], 'GSM655535': [None], 'GSM655536': [None], 'GSM655537': [None], 'GSM655538': [None], 'GSM655539': [None], 'GSM655540': [None], 'GSM655541': [None], 'GSM655542': [None], 'GSM655543': [None], 'GSM655544': [None], 'GSM655545': [None], 'GSM655546': [None], 'GSM655547': [None], 'GSM655548': [None], 'GSM655549': [None], 'GSM655550': [None], 'GSM655551': [None], 'GSM655552': [None], 'GSM655553': [None], 'GSM655554': [None], 'GSM655555': [None], 'GSM655556': [None], 'GSM655557': [None], 'GSM655558': [None], 'GSM655559': [None], 'GSM655560': [None], 'GSM655561': [1], 'GSM655562': [1], 'GSM655563': [1], 'GSM655564': [1], 'GSM655565': [1], 'GSM655566': [1], 'GSM655567': [1], 'GSM655568': [1], 'GSM655569': [1], 'GSM655570': [1], 'GSM655571': [1], 'GSM655572': [1], 'GSM655573': [1], 'GSM655574': [1], 'GSM655575': [1], 'GSM655576': [1], 'GSM655577': [1], 'GSM655578': [0], 'GSM655579': [0]}\n"
     ]
    }
   ],
   "source": [
    "is_gene_available = False\n",
    "trait_row = age_row = gender_row = None  # set to different values when applicable\n",
    "convert_trait = convert_age = convert_gender = None  # define the functions when applicable\n",
    "\n",
    "# Determine gene expression data availability\n",
    "is_gene_available = True\n",
    "\n",
    "# Variables and their corresponding rows in the sample characteristics dictionary\n",
    "trait_row = 0  # Assuming 'disease state' column is relevant\n",
    "age_row = None  # Assuming no data found in provided characteristics\n",
    "gender_row = None  # Assuming no data found in provided characteristics\n",
    "\n",
    "# Conversion Functions\n",
    "def convert_trait(value):\n",
    "    mapping = {\n",
    "        'normal_tissue_from_ccRCC_patient': 0,\n",
    "        'normal_tissue_from_FH_patient': 0,\n",
    "        'ccRCC': None,\n",
    "        'Chromophobe': None,\n",
    "        'Pap_type1': None,\n",
    "        'Pap_type2': 1,\n",
    "        'HLRCC': 1\n",
    "    }\n",
    "    trait_value = value.split(':')[1].strip()\n",
    "    return mapping.get(trait_value, None)\n",
    "\n",
    "def convert_age(value):\n",
    "    return None  # No age data available to convert\n",
    "\n",
    "def convert_gender(value):\n",
    "    return None  # No gender data available to convert\n",
    "\n",
    "# Save cohort information\n",
    "save_cohort_info('GSE26574', './preprocessed/Kidney_Papillary_Cell_Carcinoma/cohort_info.json', is_gene_available, trait_row is not None)\n",
    "\n",
    "# Clinical Feature Extraction\n",
    "if trait_row is not None:\n",
    "    try:\n",
    "        selected_clinical_data = geo_select_clinical_features(clinical_data, 'Kidney_Papillary_Cell_Carcinoma', trait_row, convert_trait, age_row, convert_age, gender_row, convert_gender)\n",
    "        csv_path = './preprocessed/Kidney_Papillary_Cell_Carcinoma/trait_data/GSE26574.csv'\n",
    "        selected_clinical_data.to_csv(csv_path)\n",
    "        print(preview_df(selected_clinical_data))\n",
    "    except Exception as e:\n",
    "        print(f\"Error during clinical feature extraction: {e}\")\n"
   ]
  },
  {
   "cell_type": "markdown",
   "id": "e95106f1",
   "metadata": {},
   "source": [
    "### Step 3: Gene Data Extraction"
   ]
  },
  {
   "cell_type": "code",
   "execution_count": 4,
   "id": "11fa68dd",
   "metadata": {
    "execution": {
     "iopub.execute_input": "2024-06-12T09:39:37.831225Z",
     "iopub.status.busy": "2024-06-12T09:39:37.831122Z",
     "iopub.status.idle": "2024-06-12T09:39:38.008834Z",
     "shell.execute_reply": "2024-06-12T09:39:38.008232Z"
    }
   },
   "outputs": [
    {
     "name": "stdout",
     "output_type": "stream",
     "text": [
      "Index(['1', '2', '9', '10', '12', '13', '14', '15', '16', '18', '19', '20',\n",
      "       '21', '22', '23', '24', '25', '26', '27', '28'],\n",
      "      dtype='object', name='ID')\n"
     ]
    }
   ],
   "source": [
    "# 1. Use the get_genetic_data function from the library to get the gene_data from the matrix_file previously defined.\n",
    "gene_data = get_genetic_data(matrix_file)\n",
    "\n",
    "# 2. Print the first 20 row ids for the following step.\n",
    "print(gene_data.index[:20])\n"
   ]
  },
  {
   "cell_type": "markdown",
   "id": "1fe759db",
   "metadata": {},
   "source": [
    "### Step 4: Gene Identifier Review"
   ]
  },
  {
   "cell_type": "code",
   "execution_count": 5,
   "id": "bcb7fdc3",
   "metadata": {
    "execution": {
     "iopub.execute_input": "2024-06-12T09:39:38.010424Z",
     "iopub.status.busy": "2024-06-12T09:39:38.010315Z",
     "iopub.status.idle": "2024-06-12T09:39:38.012635Z",
     "shell.execute_reply": "2024-06-12T09:39:38.012281Z"
    }
   },
   "outputs": [],
   "source": [
    "requires_gene_mapping = True\n"
   ]
  },
  {
   "cell_type": "markdown",
   "id": "dc68b8a0",
   "metadata": {},
   "source": [
    "### Step 5: Gene Annotation (Conditional)"
   ]
  },
  {
   "cell_type": "code",
   "execution_count": 6,
   "id": "928f4253",
   "metadata": {
    "execution": {
     "iopub.execute_input": "2024-06-12T09:39:38.014018Z",
     "iopub.status.busy": "2024-06-12T09:39:38.013917Z",
     "iopub.status.idle": "2024-06-12T09:39:39.366883Z",
     "shell.execute_reply": "2024-06-12T09:39:39.366340Z"
    }
   },
   "outputs": [
    {
     "name": "stdout",
     "output_type": "stream",
     "text": [
      "Gene annotation preview:\n",
      "{'ID': ['1', '10', '100', '1000', '10000'], 'CHR': ['19', '8', '20', '18', '1'], 'ORF': ['A1BG', 'NAT2', 'ADA', 'CDH2', 'AKT3'], 'GENE_ID': [1.0, 10.0, 100.0, 1000.0, 10000.0]}\n"
     ]
    }
   ],
   "source": [
    "# 1. Use the 'get_gene_annotation' function from the library to get gene annotation data from the soft file.\n",
    "gene_annotation = get_gene_annotation(soft_file)\n",
    "\n",
    "# 2. Use the 'preview_df' function from the library to preview the data and print out the results.\n",
    "print(\"Gene annotation preview:\")\n",
    "print(preview_df(gene_annotation))\n"
   ]
  },
  {
   "cell_type": "markdown",
   "id": "db04c669",
   "metadata": {},
   "source": [
    "### Step 6: Gene Identifier Mapping"
   ]
  },
  {
   "cell_type": "code",
   "execution_count": 7,
   "id": "8f11d34d",
   "metadata": {
    "execution": {
     "iopub.execute_input": "2024-06-12T09:39:39.368424Z",
     "iopub.status.busy": "2024-06-12T09:39:39.368302Z",
     "iopub.status.idle": "2024-06-12T09:39:39.452380Z",
     "shell.execute_reply": "2024-06-12T09:39:39.451848Z"
    }
   },
   "outputs": [],
   "source": [
    "# 1. Determine keys for identifiers and gene symbols\n",
    "identifier_key = 'ID'\n",
    "gene_symbol_key = 'ORF'\n",
    "\n",
    "# 2. Get the dataframe storing the mapping between probe IDs and genes\n",
    "gene_mapping_df = get_gene_mapping(gene_annotation, identifier_key, gene_symbol_key)\n",
    "\n",
    "# 3. Apply the mapping to get the gene expression dataframe\n",
    "gene_data = apply_gene_mapping(gene_data, gene_mapping_df)\n"
   ]
  },
  {
   "cell_type": "markdown",
   "id": "ae09eba5",
   "metadata": {},
   "source": [
    "### Step 7: Data Normalization and Merging"
   ]
  },
  {
   "cell_type": "code",
   "execution_count": 8,
   "id": "a58af6d7",
   "metadata": {
    "execution": {
     "iopub.execute_input": "2024-06-12T09:39:39.454174Z",
     "iopub.status.busy": "2024-06-12T09:39:39.454064Z",
     "iopub.status.idle": "2024-06-12T09:40:22.688115Z",
     "shell.execute_reply": "2024-06-12T09:40:22.687703Z"
    }
   },
   "outputs": [
    {
     "name": "stdout",
     "output_type": "stream",
     "text": [
      "For the feature 'Kidney_Papillary_Cell_Carcinoma', the least common label is '0.0' with 10 occurrences. This represents 37.04% of the dataset.\n",
      "The distribution of the feature 'Kidney_Papillary_Cell_Carcinoma' in this dataset is fine.\n",
      "\n"
     ]
    }
   ],
   "source": [
    "# 1. Normalize the obtained gene data with the 'normalize_gene_symbols_in_index' function from the library.\n",
    "normalized_gene_data = normalize_gene_symbols_in_index(gene_data)\n",
    "gene_csv_path = './preprocessed/Kidney_Papillary_Cell_Carcinoma/gene_data/GSE26574.csv'\n",
    "normalized_gene_data.to_csv(gene_csv_path)\n",
    "\n",
    "# 2. Merge the clinical and genetic data with the 'geo_merge_clinical_genetic_data' function from the library.\n",
    "merged_data = geo_merge_clinical_genetic_data(selected_clinical_data, normalized_gene_data)\n",
    "\n",
    "# 3. Determine whether the trait and some demographic attributes in the data is severely biased, and remove biased attributes.\n",
    "trait_biased, unbiased_merged_data = judge_and_remove_biased_features(merged_data, 'Kidney_Papillary_Cell_Carcinoma')\n",
    "\n",
    "# 4. Save the cohort information.\n",
    "json_path = './preprocessed/Kidney_Papillary_Cell_Carcinoma/cohort_info.json'\n",
    "save_cohort_info('GSE26574', json_path, True, True, trait_biased, merged_data)\n",
    "\n",
    "if not trait_biased:\n",
    "    # 5. If the trait is not severely biased, save the merged data to a csv file.\n",
    "    csv_path = './preprocessed/Kidney_Papillary_Cell_Carcinoma/GSE26574.csv'\n",
    "    unbiased_merged_data.to_csv(csv_path)\n"
   ]
  }
 ],
 "metadata": {
  "language_info": {
   "codemirror_mode": {
    "name": "ipython",
    "version": 3
   },
   "file_extension": ".py",
   "mimetype": "text/x-python",
   "name": "python",
   "nbconvert_exporter": "python",
   "pygments_lexer": "ipython3",
   "version": "3.8.17"
  }
 },
 "nbformat": 4,
 "nbformat_minor": 5
}
