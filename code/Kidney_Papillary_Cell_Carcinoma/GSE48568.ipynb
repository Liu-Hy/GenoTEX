{
 "cells": [
  {
   "cell_type": "code",
   "execution_count": 1,
   "id": "be54d157",
   "metadata": {
    "execution": {
     "iopub.execute_input": "2024-06-12T09:39:34.542092Z",
     "iopub.status.busy": "2024-06-12T09:39:34.541928Z",
     "iopub.status.idle": "2024-06-12T09:39:34.547584Z",
     "shell.execute_reply": "2024-06-12T09:39:34.547184Z"
    }
   },
   "outputs": [],
   "source": [
    "\n",
    "import sys\n",
    "sys.path.append('/home/techt/Desktop/a4s')\n"
   ]
  },
  {
   "cell_type": "markdown",
   "id": "02d8d497",
   "metadata": {},
   "source": [
    "### Step 1: Initial Data Loading"
   ]
  },
  {
   "cell_type": "code",
   "execution_count": 2,
   "id": "96bb0728",
   "metadata": {
    "execution": {
     "iopub.execute_input": "2024-06-12T09:39:34.549150Z",
     "iopub.status.busy": "2024-06-12T09:39:34.548976Z",
     "iopub.status.idle": "2024-06-12T09:39:35.099571Z",
     "shell.execute_reply": "2024-06-12T09:39:35.098939Z"
    }
   },
   "outputs": [
    {
     "name": "stdout",
     "output_type": "stream",
     "text": [
      "Background Information:\n",
      "!Series_title\t\"Agilent-013282 array CGH on NCI-60 cancer cell lines\"\n",
      "!Series_summary\t\"The NCI-60 cancer cell lines have been used for studying cancer pathogenesis and for drug discovery. This dataset adds to the growing number of datasets on various genomic platforms that have been made public on Cellminer (http://discover.nci.nih.gov/cellminer/)\"\n",
      "!Series_overall_design\t\"60 cell lines (including PR:DU145 and its drug resistant derivative PR:RC01) were arrayed. LC:A549 was done with 8 replicates. LC:NCI_H226 was done on one array. All others were done with 2 replicates. All cell lines with 2 or more replicates were done with dye flips\"\n",
      "Sample Characteristics Dictionary:\n",
      "{0: ['cell line: BR:MDA_MB_231', 'cell line: BR:T47D', 'cell line: CNS:SF_268', 'cell line: CNS:SF_295', 'cell line: CNS:SF_539', 'cell line: CNS:U251', 'cell line: CO:COLO205', 'cell line: CO:HCC_2998', 'cell line: CO:HCT_116', 'cell line: CO:HCT_15', 'cell line: CO:HT29', 'cell line: CO:KM12', 'cell line: LC:A549', 'cell line: LC:EKVX', 'cell line: LC:HOP_62', 'cell line: LC:HOP_92', 'cell line: Reference', 'cell line: BR:HS578T', 'cell line: BR:MCF7', 'cell line: LC:NCI_H23', 'cell line: LC:NCI_H322M', 'cell line: CNS:SNB_75', 'cell line: OV:NCI_ADR_RES', 'cell line: OV:SK_OV_3', 'cell line: PR:DU_145 (DTP)', 'cell line: PR:PC_3', 'cell line: ME:UACC_62', 'cell line: OV:OVCAR_3', 'cell line: OV:OVCAR_4', 'cell line: OV:OVCAR_5']}\n"
     ]
    }
   ],
   "source": [
    "from utils.preprocess import *\n",
    "# 1. Identify the paths to the soft file and the matrix file\n",
    "cohort_dir = '/media/techt/DATA/GEO/Kidney_Papillary_Cell_Carcinoma/GSE48568'\n",
    "soft_file, matrix_file = geo_get_relevant_filepaths(cohort_dir)\n",
    "\n",
    "# 2. Read the matrix file to obtain background information and sample characteristics data\n",
    "background_prefixes = ['!Series_title', '!Series_summary', '!Series_overall_design']\n",
    "clinical_prefixes = ['!Sample_geo_accession', '!Sample_characteristics_ch1']\n",
    "background_info, clinical_data = get_background_and_clinical_data(matrix_file, background_prefixes, clinical_prefixes)\n",
    "\n",
    "# 3. Obtain the sample characteristics dictionary from the clinical dataframe\n",
    "sample_characteristics_dict = get_unique_values_by_row(clinical_data)\n",
    "\n",
    "# 4. Explicitly print out all the background information and the sample characteristics dictionary\n",
    "print(\"Background Information:\")\n",
    "print(background_info)\n",
    "print(\"Sample Characteristics Dictionary:\")\n",
    "print(sample_characteristics_dict)\n"
   ]
  },
  {
   "cell_type": "markdown",
   "id": "15fa1985",
   "metadata": {},
   "source": [
    "### Step 2: Dataset Analysis and Clinical Feature Extraction"
   ]
  },
  {
   "cell_type": "code",
   "execution_count": 3,
   "id": "9dd60c80",
   "metadata": {
    "execution": {
     "iopub.execute_input": "2024-06-12T09:39:35.101928Z",
     "iopub.status.busy": "2024-06-12T09:39:35.101779Z",
     "iopub.status.idle": "2024-06-12T09:39:35.106127Z",
     "shell.execute_reply": "2024-06-12T09:39:35.105678Z"
    }
   },
   "outputs": [],
   "source": [
    "is_gene_available = False\n",
    "trait_row = age_row = gender_row = None  # set to different values when applicable\n",
    "convert_trait = convert_age = convert_gender = None  # define the functions when applicable\n",
    "\n",
    "# Check gene expression data availability by looking at the title and summary of the dataset\n",
    "# Series_title indicates array CGH on cancer cell lines which is typically not gene expression data\n",
    "is_gene_available = False\n",
    "\n",
    "# Analyzing Sample Characteristics Dictionary\n",
    "sample_characteristics = {\n",
    "    0: ['cell line: BR:MDA_MB_231', 'cell line: BR:T47D', 'cell line: CNS:SF_268', 'cell line: CNS:SF_295', 'cell line: CNS:SF_539', 'cell line: CNS:U251', 'cell line: CO:COLO205', 'cell line: CO:HCC_2998', 'cell line: CO:HCT_116', 'cell line: CO:HCT_15', 'cell line: CO:HT29', 'cell line: CO:KM12', 'cell line: LC:A549', 'cell line: LC:EKVX', 'cell line: LC:HOP_62', 'cell line: LC:HOP_92', 'cell line: Reference', 'cell line: BR:HS578T', 'cell line: BR:MCF7', 'cell line: LC:NCI_H23', 'cell line: LC:NCI_H322M', 'cell line: CNS:SNB_75', 'cell line: OV:NCI_ADR_RES', 'cell line: OV:SK_OV_3', 'cell line: PR:DU_145 (DTP)', 'cell line: PR:PC_3', 'cell line: ME:UACC_62', 'cell line: OV:OVCAR_3', 'cell line: OV:OVCAR_4', 'cell line: OV:OVCAR_5']\n",
    "}\n",
    "\n",
    "# Based on the sample characteristics dictionary provided, there is no variable related to 'Kidney_Papillary_Cell_Carcinoma', 'age', or 'gender'\n",
    "\n",
    "trait_row = None\n",
    "age_row = None\n",
    "gender_row = None\n",
    "\n",
    "# Since there is no trait, age or gender data, conversion functions are not needed\n",
    "def convert_trait(value):\n",
    "    return None\n",
    "\n",
    "def convert_age(value):\n",
    "    return None\n",
    "\n",
    "def convert_gender(value):\n",
    "    return None\n",
    "\n",
    "# Save cohort information\n",
    "save_cohort_info('GSE48568', './preprocessed/Kidney_Papillary_Cell_Carcinoma/cohort_info.json', is_gene_available, trait_row is not None)\n",
    "\n",
    "# No need for clinical feature extraction as trait_row is None\n"
   ]
  }
 ],
 "metadata": {
  "language_info": {
   "codemirror_mode": {
    "name": "ipython",
    "version": 3
   },
   "file_extension": ".py",
   "mimetype": "text/x-python",
   "name": "python",
   "nbconvert_exporter": "python",
   "pygments_lexer": "ipython3",
   "version": "3.8.17"
  }
 },
 "nbformat": 4,
 "nbformat_minor": 5
}
