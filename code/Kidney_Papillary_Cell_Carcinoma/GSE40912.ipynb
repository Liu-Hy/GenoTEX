{
 "cells": [
  {
   "cell_type": "code",
   "execution_count": 1,
   "id": "b9db7758",
   "metadata": {
    "execution": {
     "iopub.execute_input": "2024-06-12T09:38:28.520103Z",
     "iopub.status.busy": "2024-06-12T09:38:28.519992Z",
     "iopub.status.idle": "2024-06-12T09:38:28.525364Z",
     "shell.execute_reply": "2024-06-12T09:38:28.524883Z"
    }
   },
   "outputs": [],
   "source": [
    "\n",
    "import sys\n",
    "sys.path.append('/home/techt/Desktop/a4s')\n"
   ]
  },
  {
   "cell_type": "markdown",
   "id": "d060ed1d",
   "metadata": {},
   "source": [
    "### Step 1: Initial Data Loading"
   ]
  },
  {
   "cell_type": "code",
   "execution_count": 2,
   "id": "71358ed7",
   "metadata": {
    "execution": {
     "iopub.execute_input": "2024-06-12T09:38:28.527408Z",
     "iopub.status.busy": "2024-06-12T09:38:28.527246Z",
     "iopub.status.idle": "2024-06-12T09:38:28.776342Z",
     "shell.execute_reply": "2024-06-12T09:38:28.775964Z"
    }
   },
   "outputs": [
    {
     "name": "stdout",
     "output_type": "stream",
     "text": [
      "Background Information:\n",
      "!Series_title\t\"Expression analysis and in silico characterization of intronic long noncoding RNAs in renal cell carcinoma: emerging functional associations (RCC survival)\"\n",
      "!Series_summary\t\"Intronic and intergenic long noncoding RNAs (lncRNAs) are emerging gene expression regulators. The molecular pathogenesis of renal cell carcinoma (RCC) is still poorly understood, and in particular, limited studies are available for intronic lncRNAs expressed in RCC. Microarray experiments were performed with two different custom-designed arrays enriched with probes for lncRNAs mapping to intronic genomic regions. Samples from 18 primary clear cell RCC tumors and 11 nontumor adjacent matched tissues were analyzed with 4k-probes microarrays. Oligoarrays with 44k-probes were used to interrogate 17 RCC samples (14 clear cell, 2 papillary, 1 chromophobe subtypes) split into four pools. Meta-analyses were performed by taking the genomic coordinates of the RCC-expressed lncRNAs, and cross-referencing them with microarray expression data from three additional human tissues (normal liver, prostate tumor and kidney nontumor samples), and with large-scale public data for epigenetic regulatory marks and for evolutionarily conserved sequences. A signature of 29 intronic lncRNAs differentially expressed between RCC and nontumor samples was obtained (false discovery rate (FDR) <5%). An additional signature of 26 intronic lncRNAs significantly correlated with the RCC five-year patient survival outcome was identified (FDR <5%, p-value ≤0.01). We identified 4303 intronic antisense lncRNAs expressed in RCC, of which 25% were cis correlated (r >|0.6|) with the expression of the mRNA in the same locus across three human tissues. Gene Ontology (GO) analysis of those loci pointed to ‘regulation of biological processes’ as the main enriched category. A module map analysis of all expressed protein-coding genes in RCC that had a significant (r ≥|0.8|) trans correlation with the 20% most abundant lncRNAs identified 35 relevant (p <0.05) GO sets. In addition, we determined that 60% of these lncRNAs are evolutionarily conserved. At the genomic loci containing the intronic RCC-expressed lncRNAs, a strong association (p <0.001) was found between their transcription start sites and genomic marks such as CpG islands and histones methylation and acetylation. Intronic antisense lncRNAs are widely expressed in RCC tumors. Some of them are significantly altered in RCC in comparison with nontumor samples. The majority of these lncRNAs is evolutionarily conserved and possibly modulated by epigenetic modifications. Our data suggest that these RCC lncRNAs may contribute to the complex network of regulatory RNAs playing a role in renal cell malignant transformation.\"\n",
      "!Series_overall_design\t\"A total of 16 human renal tumors from clear cell renal cell carcinoma (RCC) patients were evaluated in this study. We compared the expression profiles of tumor samples obtained from patients with clear cell RCC who died as a consequence of the disease versus those alive without disease (5-years follow-up) to evaluate a possible correlation of the lncRNAs with patient survival. The set of clear cell RCC expression profiles was generated using a custom-designed cDNA microarray platform with 4,608 unique elements in replicate (9,216) enriched in gene fragments that map to intronic regions of known human genes (GPL3985).\"\n",
      "Sample Characteristics Dictionary:\n",
      "{0: ['patient identifier: 1', 'patient identifier: 3', 'patient identifier: 5', 'patient identifier: 7', 'patient identifier: 9', 'patient identifier: 10', 'patient identifier: 11', 'patient identifier: 13', 'patient identifier: 15', 'patient identifier: 24', 'patient identifier: 26', 'patient identifier: 28', 'patient identifier: 29', 'patient identifier: 30', 'patient identifier: 32', 'patient identifier: 33'], 1: ['disease: clear cell renal cell carcinoma (RCC)'], 2: ['tissue: kidney tumor'], 3: ['gender: male', 'gender: female'], 4: ['age at surgery (yrs): 51', 'age at surgery (yrs): 78', 'age at surgery (yrs): 53', 'age at surgery (yrs): 41', 'age at surgery (yrs): 39', 'age at surgery (yrs): 34', 'age at surgery (yrs): 66', 'age at surgery (yrs): 75', 'age at surgery (yrs): 40', 'age at surgery (yrs): 63', 'age at surgery (yrs): 35'], 5: ['fuhrman grade: III', 'fuhrman grade: IV', 'fuhrman grade: II'], 6: ['tumor size (cm): 18', 'tumor size (cm): 6', 'tumor size (cm): 8', 'tumor size (cm): 11', 'tumor size (cm): 6.5', 'tumor size (cm): 7', 'tumor size (cm): 5', 'tumor size (cm): 10', 'tumor size (cm): 15', 'tumor size (cm): 20', 'tumor size (cm): 8.5', 'tumor size (cm): 13', 'tumor size (cm): 4'], 7: ['necrosis: yes', 'necrosis: no'], 8: ['capsule infiltration: yes', 'capsule infiltration: no'], 9: ['tnm classification (t): 3c', 'tnm classification (t): 2', 'tnm classification (t): 3a', 'tnm classification (t): 1b', 'tnm classification (t): 3', 'tnm classification (t): 3b', 'tnm classification (t): 1', 'tnm classification (t): 1a'], 10: ['tnm classification (n): no data available', 'tnm classification (n): 1', 'tnm classification (n): 0', 'tnm classification (n): 2'], 11: ['tnm classification (m): no data available', 'tnm classification (m): 1'], 12: ['organ metastasis at surgery: no data available', 'organ metastasis at surgery: endocava, bones', 'organ metastasis at surgery: liver', 'organ metastasis at surgery: lung', 'organ metastasis at surgery: peritoneum'], 13: ['organ metastasis after surgery: no data available', 'organ metastasis after surgery: liver, spleen', 'organ metastasis after surgery: bones', 'organ metastasis after surgery: brain, lung, bones'], 14: ['patient status: cancer-specific death', 'patient status: alive without cancer'], 15: ['follow-up (months): 0', 'follow-up (months): 21', 'follow-up (months): 6', 'follow-up (months): 66', 'follow-up (months): 60', 'follow-up (months): 8', 'follow-up (months): 16', 'follow-up (months): 62', 'follow-up (months): 54', 'follow-up (months): 56', 'follow-up (months): 17']}\n"
     ]
    }
   ],
   "source": [
    "from utils.preprocess import *\n",
    "# 1. Identify the paths to the soft file and the matrix file\n",
    "cohort_dir = '/media/techt/DATA/GEO/Kidney_Papillary_Cell_Carcinoma/GSE40912'\n",
    "soft_file, matrix_file = geo_get_relevant_filepaths(cohort_dir)\n",
    "\n",
    "# 2. Read the matrix file to obtain background information and sample characteristics data\n",
    "background_prefixes = ['!Series_title', '!Series_summary', '!Series_overall_design']\n",
    "clinical_prefixes = ['!Sample_geo_accession', '!Sample_characteristics_ch1']\n",
    "background_info, clinical_data = get_background_and_clinical_data(matrix_file, background_prefixes, clinical_prefixes)\n",
    "\n",
    "# 3. Obtain the sample characteristics dictionary from the clinical dataframe\n",
    "sample_characteristics_dict = get_unique_values_by_row(clinical_data)\n",
    "\n",
    "# 4. Explicitly print out all the background information and the sample characteristics dictionary\n",
    "print(\"Background Information:\")\n",
    "print(background_info)\n",
    "print(\"Sample Characteristics Dictionary:\")\n",
    "print(sample_characteristics_dict)\n"
   ]
  },
  {
   "cell_type": "markdown",
   "id": "42d6d9cc",
   "metadata": {},
   "source": [
    "### Step 2: Dataset Analysis and Clinical Feature Extraction"
   ]
  },
  {
   "cell_type": "code",
   "execution_count": 3,
   "id": "903ab326",
   "metadata": {
    "execution": {
     "iopub.execute_input": "2024-06-12T09:38:28.778176Z",
     "iopub.status.busy": "2024-06-12T09:38:28.778065Z",
     "iopub.status.idle": "2024-06-12T09:38:28.781551Z",
     "shell.execute_reply": "2024-06-12T09:38:28.781253Z"
    }
   },
   "outputs": [],
   "source": [
    "is_gene_available = False\n",
    "trait_row = age_row = gender_row = None  # set to different values when applicable\n",
    "convert_trait = convert_age = convert_gender = None  # define the functions when applicable\n",
    "\n",
    "# Checking gene expression data availability\n",
    "is_gene_available = True  # Given that gene expression data seems to be available\n",
    "\n",
    "# Variable check for 'Kidney_Papillary_Cell_Carcinoma'\n",
    "# However, in the given sample characteristics dictionary, there's no explicit mention\n",
    "# of 'Kidney_Papillary_Cell_Carcinoma', it is primarily focused on clear cell RCC.\n",
    "\n",
    "trait_row = None  # No specific key found as 'Kidney_Papillary_Cell_Carcinoma' in characteristics\n",
    "\n",
    "# Variable check for 'age'\n",
    "age_row = 4  # Key 4 seems to contain age at surgery information\n",
    "\n",
    "# Variable check for 'gender'\n",
    "gender_row = 3  # Key 3 contains gender information\n",
    "\n",
    "# Define conversion functions\n",
    "\n",
    "def convert_age(value):\n",
    "    try:\n",
    "        return float(value.split(':')[1].strip())\n",
    "    except ValueError:\n",
    "        return None\n",
    "\n",
    "def convert_gender(value):\n",
    "    gender_str = value.split(':')[1].strip().lower()\n",
    "    if gender_str == 'male':\n",
    "        return 1\n",
    "    elif gender_str == 'female':\n",
    "        return 0\n",
    "    return None\n",
    "\n",
    "# Save cohort information\n",
    "save_cohort_info('GSE40912', './preprocessed/Kidney_Papillary_Cell_Carcinoma/cohort_info.json', is_gene_available, trait_row is not None)\n",
    "\n",
    "# Clinical feature extraction is skipped because trait_row is None\n"
   ]
  }
 ],
 "metadata": {
  "language_info": {
   "codemirror_mode": {
    "name": "ipython",
    "version": 3
   },
   "file_extension": ".py",
   "mimetype": "text/x-python",
   "name": "python",
   "nbconvert_exporter": "python",
   "pygments_lexer": "ipython3",
   "version": "3.8.17"
  }
 },
 "nbformat": 4,
 "nbformat_minor": 5
}
