{
 "cells": [
  {
   "cell_type": "code",
   "execution_count": 1,
   "id": "018526f8",
   "metadata": {
    "execution": {
     "iopub.execute_input": "2024-06-12T08:34:52.176295Z",
     "iopub.status.busy": "2024-06-12T08:34:52.176141Z",
     "iopub.status.idle": "2024-06-12T08:34:52.182456Z",
     "shell.execute_reply": "2024-06-12T08:34:52.181932Z"
    }
   },
   "outputs": [],
   "source": [
    "\n",
    "import sys\n",
    "sys.path.append('/home/techt/Desktop/a4s')\n"
   ]
  },
  {
   "cell_type": "markdown",
   "id": "2f7ee289",
   "metadata": {},
   "source": [
    "### Step 1: Initial Data Loading"
   ]
  },
  {
   "cell_type": "code",
   "execution_count": 2,
   "id": "2736566a",
   "metadata": {
    "execution": {
     "iopub.execute_input": "2024-06-12T08:34:52.185155Z",
     "iopub.status.busy": "2024-06-12T08:34:52.184754Z",
     "iopub.status.idle": "2024-06-12T08:34:52.459088Z",
     "shell.execute_reply": "2024-06-12T08:34:52.458677Z"
    }
   },
   "outputs": [
    {
     "name": "stdout",
     "output_type": "stream",
     "text": [
      "Background Information:\n",
      "!Series_title\t\"Testicular germ cell tumors and their histological subgroups\"\n",
      "!Series_summary\t\"Normal, premalignant and various histological subtypes of testicular germ cell tumor (TGCT) tissues were hybridized against Universal Human Reference RNA (Stratagene) onto Agilent 60mer oligo microarrays (GEO accession no GPL885). In vitro time series of two TGCT cell lines, NTERA2 and 2102Ep, treated with retinoic acid for 0, 3, and 7 days were also included. The data set (30 hybridizations) is particularly useful for comparisons between various histological subtypes of TGCT versus each other or versus normal testis.\"\n",
      "!Series_summary\t\"Keywords = 2102Ep\"\n",
      "!Series_summary\t\"Keywords = Agilent oligo microarrays\"\n",
      "!Series_summary\t\"Keywords = carcinoma in situ\"\n",
      "!Series_summary\t\"Keywords = choriocarcinoma\"\n",
      "!Series_summary\t\"Keywords = development\"\n",
      "!Series_summary\t\"Keywords = developmental biology\"\n",
      "!Series_summary\t\"Keywords = differenciation\"\n",
      "!Series_summary\t\"Keywords = embryogenesis\"\n",
      "!Series_summary\t\"Keywords = embryonal carcinoma\"\n",
      "!Series_summary\t\"Keywords = homo sapiens\"\n",
      "!Series_summary\t\"Keywords = human\"\n",
      "!Series_summary\t\"Keywords = human development\"\n",
      "!Series_summary\t\"Keywords = intratubular germ cell tumor\"\n",
      "!Series_summary\t\"Keywords = nonseminoma\"\n",
      "!Series_summary\t\"Keywords = NTera2\"\n",
      "!Series_summary\t\"Keywords = pluripotency\"\n",
      "!Series_summary\t\"Keywords = pluripotent\"\n",
      "!Series_summary\t\"Keywords = retinoic acid\"\n",
      "!Series_summary\t\"Keywords = seminoma\"\n",
      "!Series_summary\t\"Keywords = teratocarcinoma\"\n",
      "!Series_summary\t\"Keywords = teratoma\"\n",
      "!Series_summary\t\"Keywords = testis\"\n",
      "!Series_summary\t\"Keywords = testicular germ cell tumor\"\n",
      "!Series_summary\t\"Keywords = testicular neoplasm\"\n",
      "!Series_summary\t\"Keywords = totipotency\"\n",
      "!Series_summary\t\"Keywords = totipotent\"\n",
      "!Series_summary\t\"Keywords = undifferentiated\"\n",
      "!Series_summary\t\"Keywords = universal human reference RNA (Stratagene)\"\n",
      "!Series_summary\t\"Keywords = yolk sac tumor\"\n",
      "!Series_summary\t\"Keywords: other\"\n",
      "Sample Characteristics Dictionary:\n",
      "{}\n"
     ]
    }
   ],
   "source": [
    "from utils.preprocess import *\n",
    "# 1. Identify the paths to the soft file and the matrix file\n",
    "cohort_dir = '/media/techt/DATA/GEO/Testicular_Cancer/GSE1818'\n",
    "soft_file, matrix_file = geo_get_relevant_filepaths(cohort_dir)\n",
    "\n",
    "# 2. Read the matrix file to obtain background information and sample characteristics data\n",
    "background_prefixes = ['!Series_title', '!Series_summary', '!Series_overall_design']\n",
    "clinical_prefixes = ['!Sample_geo_accession', '!Sample_characteristics_ch1']\n",
    "background_info, clinical_data = get_background_and_clinical_data(matrix_file, background_prefixes, clinical_prefixes)\n",
    "\n",
    "# 3. Obtain the sample characteristics dictionary from the clinical dataframe\n",
    "sample_characteristics_dict = get_unique_values_by_row(clinical_data)\n",
    "\n",
    "# 4. Explicitly print out all the background information and the sample characteristics dictionary\n",
    "print(\"Background Information:\")\n",
    "print(background_info)\n",
    "print(\"Sample Characteristics Dictionary:\")\n",
    "print(sample_characteristics_dict)\n"
   ]
  },
  {
   "cell_type": "markdown",
   "id": "aaae7d53",
   "metadata": {},
   "source": [
    "### Step 2: Dataset Analysis and Clinical Feature Extraction"
   ]
  },
  {
   "cell_type": "code",
   "execution_count": 3,
   "id": "388e3c45",
   "metadata": {
    "execution": {
     "iopub.execute_input": "2024-06-12T08:34:52.460817Z",
     "iopub.status.busy": "2024-06-12T08:34:52.460714Z",
     "iopub.status.idle": "2024-06-12T08:34:52.463682Z",
     "shell.execute_reply": "2024-06-12T08:34:52.463408Z"
    }
   },
   "outputs": [],
   "source": [
    "is_gene_available = False\n",
    "trait_row = age_row = gender_row = None  # set to different values when applicable\n",
    "convert_trait = convert_age = convert_gender = None  # define the functions when applicable\n",
    "\n",
    "# Based on the series title and summary, the dataset likely contains gene expression data.\n",
    "is_gene_available = True\n",
    "\n",
    "# Sample Characteristics Dictionary is empty\n",
    "# Therefore, no `Testicular_Cancer`, `age`, or `gender` data is available\n",
    "trait_row = age_row = gender_row = None\n",
    "\n",
    "def save_cohort_info(study_id, path, is_gene_available, is_clinical_available):\n",
    "    cohort_info = {\n",
    "        \"study_id\": study_id,\n",
    "        \"is_gene_available\": is_gene_available,\n",
    "        \"is_clinical_available\": is_clinical_available,\n",
    "    }\n",
    "    with open(path, 'w') as f:\n",
    "        import json\n",
    "        json.dump(cohort_info, f)\n",
    "\n",
    "# Save cohort information\n",
    "save_cohort_info('GSE1818', './preprocessed/Testicular_Cancer/cohort_info.json', is_gene_available, trait_row is not None)\n",
    "\n",
    "# As trait_row is None, no need to perform clinical feature extraction\n"
   ]
  }
 ],
 "metadata": {
  "language_info": {
   "codemirror_mode": {
    "name": "ipython",
    "version": 3
   },
   "file_extension": ".py",
   "mimetype": "text/x-python",
   "name": "python",
   "nbconvert_exporter": "python",
   "pygments_lexer": "ipython3",
   "version": "3.8.17"
  }
 },
 "nbformat": 4,
 "nbformat_minor": 5
}
