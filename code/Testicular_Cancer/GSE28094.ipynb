{
 "cells": [
  {
   "cell_type": "code",
   "execution_count": 1,
   "id": "bb8c9994",
   "metadata": {
    "execution": {
     "iopub.execute_input": "2024-06-12T08:34:50.450599Z",
     "iopub.status.busy": "2024-06-12T08:34:50.450395Z",
     "iopub.status.idle": "2024-06-12T08:34:50.457229Z",
     "shell.execute_reply": "2024-06-12T08:34:50.456687Z"
    }
   },
   "outputs": [],
   "source": [
    "\n",
    "import sys\n",
    "sys.path.append('/home/techt/Desktop/a4s')\n"
   ]
  },
  {
   "cell_type": "markdown",
   "id": "b7faeca5",
   "metadata": {},
   "source": [
    "### Step 1: Initial Data Loading"
   ]
  },
  {
   "cell_type": "code",
   "execution_count": 2,
   "id": "f6e6fe3a",
   "metadata": {
    "execution": {
     "iopub.execute_input": "2024-06-12T08:34:50.459979Z",
     "iopub.status.busy": "2024-06-12T08:34:50.459616Z",
     "iopub.status.idle": "2024-06-12T08:34:50.818247Z",
     "shell.execute_reply": "2024-06-12T08:34:50.817871Z"
    }
   },
   "outputs": [
    {
     "name": "stdout",
     "output_type": "stream",
     "text": [
      "Background Information:\n",
      "!Series_title\t\"A DNA Methylation Fingerprint of  1,628 Human Samples\"\n",
      "!Series_summary\t\"DNA methylation is the best characterized of the different layers that make up the epigenetic setting. Most of the studies characterizing DNA methylation patterns have been restricted to particular genomic loci in a limited number of human samples and pathological conditions. The recently arrived single-base-resolution technologies for DNA methylation are extremely helpful tools, but are not yet applicable and affordable for studying large groups of subjects. Herein, we present a compromise between an extremely comprehensive study of a human sample population with an intermediate level of resolution of CpGs at the genomic level. We obtained a DNA methylation fingerprint of 1,628 human samples where we interrogated 1,505 CpG sites. The DNA methylation patterns revealed show this epigenetic mark to be critical in tissue-type definition and stemness, particularly around transcription start sites that are not within a CpG island. For disease, the generated DNA methylation fingerprints show that, during tumorigenesis, human cancer cells underwent a progressive gain of promoter CpG island hypermethylation and a loss of CpG methylation in non-CpG island promoters. Although transformed cells are those where DNA methylation disruption is more obvious, we observed that other common human diseases, such as neurological and autoimmune disorders, had their own distinct DNA methylation profiles. Most importantly, we provide proof of principle that the obtained DNA methylation fingerprints might be useful for translational purposes by showing that are able to identify the tumor type origin of Cancers of Unknown Primary (CUPs). Thus, the DNA methylation patterns identified across the largest spectrum of samples, tissues and diseases reported to date constitute a baseline for developing higher-resolution DNA methylation maps, and provide important clues concerning the contribution of CpG methylation to tissue identity and its changes in the most prevalent human diseases.\"\n",
      "!Series_overall_design\t\"It was studied the genomic DNA from 1,628 human samples corresponding to 424 normal tissues (180 leukocytes, 97 colon mucosa and 227 other normal samples), 1,054 tumorigenic samples (premalignant lesions, primary tumors and metastases) and 150 non-cancerous disorders, such as brain lesions from Alzheimer’s disease, dementia with Lewy bodies, aortic atherosclerotic lesions, myopathies and autoimmune disorders.\"\n",
      "Sample Characteristics Dictionary:\n",
      "{0: ['gender: N/A', 'gender: male', 'gender: female'], 1: ['age: N/A', 'age: 65', 'age: 79', 'age: 51', 'age: 69', 'age: 83', 'age: 72', 'age: 70', 'age: 78', 'age: 74', 'age: 64', 'age: 59', 'age: 0.1', 'age: 58', 'age: 84', 'age: 77', 'age: 80', 'age: 48', 'age: 81', 'age: 63', 'age: 76', 'age: 89', 'age: 66', 'age: 71', 'age: 96', 'age: 60', 'age: 73', 'age: 67', 'age: 68', 'age: 55'], 2: ['ethnicity: European', 'ethnicity: Asian', 'ethnicity: N/A', 'ethnicity: North American'], 3: ['disease state: CUP', 'disease state: bladder cancer', 'disease state: healthy', 'disease state: stomach cancer', 'disease state: autism', 'disease state: alzheimer', 'disease state: prostate cancer', 'disease state: hepatocellular cancer', 'disease state: head-neck cancer', 'disease state: lung cancer', 'disease state: ovarian cancer', 'disease state: DLBCL', 'disease state: mBL', 'disease state: ALL', 'disease state: CLL', 'disease state: FL', 'disease state: MCL', 'disease state: MDS', 'disease state: MM', 'disease state: colon cancer', 'disease state: esophageal cancer', 'disease state: testis cancer', 'disease state: lymphoma', 'disease state: colon metastases', 'disease state: kidney metastases', 'disease state: kidney cancer', 'disease state: breast cancer', 'disease state: melanoma', 'disease state: lupus', 'disease state: adenoma'], 4: ['biomaterial: CUP (cancer of unknown primary)', 'biomaterial: bladder tumor tissue', 'biomaterial: bladder normal tissue', 'biomaterial: stomach tumor tissue', 'biomaterial: leukocytes', 'biomaterial: stomach normal tissue', 'biomaterial: prostate tumor tissue', 'biomaterial: prostate normal tissue', 'biomaterial: epithelial normal tissue', 'biomaterial: liver tumor tissue', 'biomaterial: head-neck tumor tissue', 'biomaterial: lung tumor tissue', 'biomaterial: ovarian normal tissue', 'biomaterial: ovarian tumor tissue', 'biomaterial: DLBCL neoplasia', 'biomaterial: mBL neoplasia', 'biomaterial: ALL neoplasia', 'biomaterial: CLL neoplasia', 'biomaterial: FL neoplasia', 'biomaterial: MCL neoplasia', 'biomaterial: MDS-MPS neoplasia', 'biomaterial: MM neoplasia', 'biomaterial: colon cell line', 'biomaterial: T-ALL neoplasia', 'biomaterial: esophagus normal tissue', 'biomaterial: esophagus tumor tissue', 'biomaterial: liver normal tissue', 'biomaterial: testis tumor tissue', 'biomaterial: testis normal tissue', 'biomaterial: lymphoma cell line']}\n"
     ]
    }
   ],
   "source": [
    "from utils.preprocess import *\n",
    "# 1. Identify the paths to the soft file and the matrix file\n",
    "cohort_dir = '/media/techt/DATA/GEO/Testicular_Cancer/GSE28094'\n",
    "soft_file, matrix_file = geo_get_relevant_filepaths(cohort_dir)\n",
    "\n",
    "# 2. Read the matrix file to obtain background information and sample characteristics data\n",
    "background_prefixes = ['!Series_title', '!Series_summary', '!Series_overall_design']\n",
    "clinical_prefixes = ['!Sample_geo_accession', '!Sample_characteristics_ch1']\n",
    "background_info, clinical_data = get_background_and_clinical_data(matrix_file, background_prefixes, clinical_prefixes)\n",
    "\n",
    "# 3. Obtain the sample characteristics dictionary from the clinical dataframe\n",
    "sample_characteristics_dict = get_unique_values_by_row(clinical_data)\n",
    "\n",
    "# 4. Explicitly print out all the background information and the sample characteristics dictionary\n",
    "print(\"Background Information:\")\n",
    "print(background_info)\n",
    "print(\"Sample Characteristics Dictionary:\")\n",
    "print(sample_characteristics_dict)\n"
   ]
  },
  {
   "cell_type": "markdown",
   "id": "3a3be27e",
   "metadata": {},
   "source": [
    "### Step 2: Dataset Analysis and Clinical Feature Extraction"
   ]
  },
  {
   "cell_type": "code",
   "execution_count": 3,
   "id": "7f042cab",
   "metadata": {
    "execution": {
     "iopub.execute_input": "2024-06-12T08:34:50.820038Z",
     "iopub.status.busy": "2024-06-12T08:34:50.819900Z",
     "iopub.status.idle": "2024-06-12T08:34:51.381482Z",
     "shell.execute_reply": "2024-06-12T08:34:51.381104Z"
    }
   },
   "outputs": [
    {
     "name": "stdout",
     "output_type": "stream",
     "text": [
      "{'GSM694425': [0, None, None], 'GSM694426': [0, None, None], 'GSM694427': [0.0, 65.0, 1.0], 'GSM694428': [0, None, None], 'GSM694429': [0, None, None], 'GSM694430': [0.0, 79.0, 1.0], 'GSM694431': [0, None, None], 'GSM694432': [0, None, None], 'GSM694433': [0.0, 51.0, 1.0], 'GSM694434': [0, None, None], 'GSM694435': [0, None, None], 'GSM694436': [0.0, 69.0, 1.0], 'GSM694437': [0.0, 83.0, 1.0], 'GSM694438': [0.0, 72.0, 1.0], 'GSM694439': [0, None, None], 'GSM694440': [0, None, None], 'GSM694441': [0.0, 70.0, 1.0], 'GSM694442': [0, None, None], 'GSM694443': [0, None, None], 'GSM694444': [0.0, 78.0, 1.0], 'GSM694445': [0.0, 74.0, 1.0], 'GSM694446': [0, None, None], 'GSM694447': [0.0, 69.0, 1.0], 'GSM694448': [0, None, None], 'GSM694449': [0, None, None], 'GSM694450': [0, None, None], 'GSM694451': [0, None, None], 'GSM694452': [0, None, None], 'GSM694453': [0.0, 64.0, 1.0], 'GSM694454': [0, None, None], 'GSM694455': [0.0, 59.0, 0.0], 'GSM694456': [0.0, 0.1, 1.0], 'GSM694457': [0, None, None], 'GSM694458': [0.0, 74.0, 1.0], 'GSM694459': [0.0, 58.0, 0.0], 'GSM694460': [0.0, 78.0, 1.0], 'GSM694461': [0.0, 69.0, 1.0], 'GSM694462': [0, None, None], 'GSM694463': [0, None, None], 'GSM694464': [0.0, 84.0, 1.0], 'GSM694465': [0.0, 77.0, 1.0], 'GSM694466': [0, None, None], 'GSM694467': [0, None, None], 'GSM694468': [0, None, None], 'GSM694469': [0, None, None], 'GSM694470': [0.0, 83.0, 1.0], 'GSM694471': [0.0, 58.0, 0.0], 'GSM694472': [0, None, None], 'GSM694473': [0, None, None], 'GSM694474': [0, None, None], 'GSM694475': [0, None, None], 'GSM694476': [0, None, None], 'GSM694477': [0, None, None], 'GSM694478': [0.0, 80.0, 1.0], 'GSM694479': [0, None, None], 'GSM694480': [0, None, None], 'GSM694481': [0, None, None], 'GSM694482': [0, None, None], 'GSM694483': [0.0, 48.0, 1.0], 'GSM694484': [0, None, None], 'GSM694485': [0, None, None], 'GSM694486': [0.0, 81.0, 1.0], 'GSM694487': [0, None, None], 'GSM694488': [0, None, None], 'GSM694489': [0, None, None], 'GSM694490': [0.0, 63.0, 1.0], 'GSM694491': [0.0, 83.0, 1.0], 'GSM694492': [0, None, None], 'GSM694493': [0, None, None], 'GSM694494': [0.0, 76.0, 0.0], 'GSM694495': [0.0, 65.0, 1.0], 'GSM694496': [0, None, None], 'GSM694497': [0, None, None], 'GSM694498': [0.0, 81.0, 0.0], 'GSM694499': [0, None, None], 'GSM694500': [0, None, None], 'GSM694501': [0, None, None], 'GSM694502': [0.0, 89.0, 1.0], 'GSM694503': [0.0, 66.0, 0.0], 'GSM694504': [0, None, None], 'GSM694505': [0, None, None], 'GSM694506': [0.0, 59.0, 1.0], 'GSM694507': [0.0, 71.0, 1.0], 'GSM694508': [0.0, 96.0, nan], 'GSM694509': [0.0, 69.0, 1.0], 'GSM694510': [0.0, 60.0, 1.0], 'GSM694511': [0.0, 74.0, 1.0], 'GSM694512': [0.0, 73.0, 1.0], 'GSM694513': [0.0, 59.0, 1.0], 'GSM694514': [0.0, 67.0, 1.0], 'GSM694515': [0.0, 67.0, 1.0], 'GSM694516': [0.0, 70.0, 1.0], 'GSM694517': [0.0, 70.0, 1.0], 'GSM694518': [0.0, 68.0, 1.0], 'GSM694519': [0.0, 69.0, 0.0], 'GSM694520': [0.0, 68.0, 1.0], 'GSM694521': [0.0, 55.0, 1.0], 'GSM694522': [0.0, 55.0, 1.0], 'GSM694523': [0.0, 71.0, 1.0], 'GSM694524': [0.0, 71.0, 1.0], 'GSM694525': [0.0, 60.0, 1.0], 'GSM694526': [0.0, 66.0, 1.0], 'GSM694527': [0.0, 25.0, 0.0], 'GSM694528': [0.0, 21.0, 0.0], 'GSM694529': [0.0, 27.0, 0.0], 'GSM694530': [0.0, 68.0, 0.0], 'GSM694531': [0.0, 18.0, 1.0], 'GSM694532': [0.0, 23.0, 0.0], 'GSM694533': [0.0, 23.0, 0.0], 'GSM694534': [0.0, 55.0, 0.0], 'GSM694535': [0.0, 21.0, 0.0], 'GSM694536': [0.0, 27.0, 1.0], 'GSM694537': [0.0, 19.0, 0.0], 'GSM694538': [0.0, 18.0, 0.0], 'GSM694539': [0.0, 25.0, 0.0], 'GSM694540': [0.0, 48.0, 1.0], 'GSM694541': [0.0, 21.0, 0.0], 'GSM694542': [0.0, 27.0, 0.0], 'GSM694543': [0.0, 18.0, 1.0], 'GSM694544': [0.0, 23.0, 0.0], 'GSM694545': [0.0, 23.0, 0.0], 'GSM694546': [0.0, 55.0, 0.0], 'GSM694547': [0.0, 21.0, 0.0], 'GSM694548': [0.0, 27.0, 1.0], 'GSM694549': [0.0, 72.0, 0.0], 'GSM694550': [0.0, 13.0, 0.0], 'GSM694551': [0, None, None], 'GSM694552': [0, None, None], 'GSM694553': [0, None, None], 'GSM694554': [0, None, None], 'GSM694555': [0, None, None], 'GSM694556': [0.0, 0.1, 1.0], 'GSM694557': [0, None, None], 'GSM694558': [0.0, 69.0, 1.0], 'GSM694559': [0.0, 61.0, 1.0], 'GSM694560': [0.0, 48.0, 1.0], 'GSM694561': [0.0, 42.0, 0.0], 'GSM694562': [0.0, 53.0, 1.0], 'GSM694563': [0.0, 50.0, 1.0], 'GSM694564': [0.0, 64.0, 1.0], 'GSM694565': [0.0, 77.0, 1.0], 'GSM694566': [0, None, None], 'GSM694567': [0.0, 73.0, 0.0], 'GSM694568': [0.0, 33.0, 0.0], 'GSM694569': [0.0, 63.0, 0.0], 'GSM694570': [0, None, None], 'GSM694571': [0.0, 66.0, 0.0], 'GSM694572': [0.0, 48.0, 0.0], 'GSM694573': [0.0, 46.0, 0.0], 'GSM694574': [0.0, 68.0, 0.0], 'GSM694575': [0.0, 47.0, 0.0], 'GSM694576': [0.0, 65.0, 0.0], 'GSM694577': [0.0, 85.0, 0.0], 'GSM694578': [0.0, 90.0, 0.0], 'GSM694579': [0.0, 72.0, 0.0], 'GSM694580': [0.0, 67.0, 0.0], 'GSM694581': [0, None, None], 'GSM694582': [0.0, 67.0, 0.0], 'GSM694583': [0, None, 0], 'GSM694584': [0.0, 68.0, 0.0], 'GSM694585': [0, None, 0], 'GSM694586': [0.0, 73.0, 0.0], 'GSM694587': [0.0, 61.0, 0.0], 'GSM694588': [0.0, 55.0, 0.0], 'GSM694589': [0.0, 80.0, 0.0], 'GSM694590': [0.0, 62.0, 0.0], 'GSM694591': [0.0, 33.0, 0.0], 'GSM694592': [0, None, None], 'GSM694593': [0.0, 27.0, 0.0], 'GSM694594': [0.0, 74.0, 0.0], 'GSM694595': [0.0, 80.0, 0.0], 'GSM694596': [0.0, 75.0, 0.0], 'GSM694597': [0.0, 46.0, 0.0], 'GSM694598': [0.0, 72.0, 0.0], 'GSM694599': [0, None, 0], 'GSM694600': [0.0, 49.0, 0.0], 'GSM694601': [0.0, 74.0, 0.0], 'GSM694602': [0, None, None], 'GSM694603': [0.0, 71.0, 0.0], 'GSM694604': [0.0, 76.0, 0.0], 'GSM694605': [0.0, 72.0, 0.0], 'GSM694606': [0.0, 63.0, 1.0], 'GSM694607': [0.0, 60.0, 0.0], 'GSM694608': [0.0, 70.0, 0.0], 'GSM694609': [0.0, 69.0, 0.0], 'GSM694610': [0.0, 61.0, 1.0], 'GSM694611': [0.0, 42.0, 1.0], 'GSM694612': [0.0, 60.0, 1.0], 'GSM694613': [0.0, 78.0, 1.0], 'GSM694614': [0.0, 52.0, 0.0], 'GSM694615': [0.0, 81.0, 1.0], 'GSM694616': [0.0, 81.0, 1.0], 'GSM694617': [0.0, 18.0, 1.0], 'GSM694618': [0.0, 69.0, 1.0], 'GSM694619': [0.0, 85.0, 0.0], 'GSM694620': [0.0, 56.0, 1.0], 'GSM694621': [0.0, 55.0, 0.0], 'GSM694622': [0.0, 69.0, 1.0], 'GSM694623': [0.0, 76.0, 1.0], 'GSM694624': [0.0, 77.0, 0.0]}\n"
     ]
    }
   ],
   "source": [
    "is_gene_available = False\n",
    "trait_row = age_row = gender_row = None  # set to different values when applicable\n",
    "convert_trait = convert_age = convert_gender = None  # define the functions when applicable\n",
    "\n",
    "# Check for gene expression data availability\n",
    "is_gene_available = False  # Since it's explicitly mentioned as DNA methylation data\n",
    "\n",
    "# Determine the availability of variables\n",
    "# Testicular_Cancer data availability\n",
    "for key, values in {3: ['disease state: testis cancer', 'disease state: healthy', 'disease state: lung cancer'], 4: [\"biomaterial: testis tumor tissue\", \"biomaterial: testis normal tissue\"]}.items():\n",
    "    if \"disease state: testis cancer\" in values or \"biomaterial: testis tumor tissue\" in values:\n",
    "        trait_row = key\n",
    "\n",
    "# Age data availability\n",
    "for key, values in {1: ['age: N/A', 'age: 65', 'age: 79', 'age: 51']}.items():\n",
    "    if any(\"age: \" in v for v in values):\n",
    "        age_row = key\n",
    "\n",
    "# Gender data availability\n",
    "for key, values in {0: ['gender: N/A', 'gender: male', 'gender: female']}.items():\n",
    "    if any(\"gender: male\" in v or \"gender: female\" in v for v in values):\n",
    "        gender_row = key\n",
    "\n",
    "# Define data type conversion functions\n",
    "def convert_trait(value):\n",
    "    return 1 if \"testis cancer\" in value.split(\":\")[1].strip() else 0\n",
    "\n",
    "def convert_age(value):\n",
    "    try:\n",
    "        return float(value.split(\":\")[1].strip())\n",
    "    except (ValueError, IndexError):\n",
    "        return None\n",
    "\n",
    "def convert_gender(value):\n",
    "    gender = value.split(\":\")[1].strip().lower()\n",
    "    if gender == \"male\":\n",
    "        return 1\n",
    "    elif gender == \"female\":\n",
    "        return 0\n",
    "    return None\n",
    "\n",
    "# Save cohort metadata\n",
    "save_cohort_info('GSE28094', './preprocessed/Testicular_Cancer/cohort_info.json', is_gene_available, trait_row is not None)\n",
    "\n",
    "# Clinical feature extraction if trait_row is not None\n",
    "if trait_row is not None: \n",
    "    selected_clinical_data = geo_select_clinical_features(clinical_data, 'Testicular_Cancer', trait_row, convert_trait, age_row, convert_age, gender_row, convert_gender)\n",
    "    csv_path = './preprocessed/Testicular_Cancer/trait_data/GSE28094.csv'\n",
    "    selected_clinical_data.to_csv(csv_path)\n",
    "    print(preview_df(selected_clinical_data))\n"
   ]
  }
 ],
 "metadata": {
  "language_info": {
   "codemirror_mode": {
    "name": "ipython",
    "version": 3
   },
   "file_extension": ".py",
   "mimetype": "text/x-python",
   "name": "python",
   "nbconvert_exporter": "python",
   "pygments_lexer": "ipython3",
   "version": "3.8.17"
  }
 },
 "nbformat": 4,
 "nbformat_minor": 5
}
