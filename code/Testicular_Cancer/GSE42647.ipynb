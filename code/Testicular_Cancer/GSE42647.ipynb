{
 "cells": [
  {
   "cell_type": "code",
   "execution_count": 1,
   "id": "a93f5641",
   "metadata": {
    "execution": {
     "iopub.execute_input": "2024-06-12T08:34:55.860167Z",
     "iopub.status.busy": "2024-06-12T08:34:55.859996Z",
     "iopub.status.idle": "2024-06-12T08:34:55.865486Z",
     "shell.execute_reply": "2024-06-12T08:34:55.864955Z"
    }
   },
   "outputs": [],
   "source": [
    "\n",
    "import sys\n",
    "sys.path.append('/home/techt/Desktop/a4s')\n"
   ]
  },
  {
   "cell_type": "markdown",
   "id": "2c905500",
   "metadata": {},
   "source": [
    "### Step 1: Initial Data Loading"
   ]
  },
  {
   "cell_type": "code",
   "execution_count": 2,
   "id": "c755a148",
   "metadata": {
    "execution": {
     "iopub.execute_input": "2024-06-12T08:34:55.867931Z",
     "iopub.status.busy": "2024-06-12T08:34:55.867558Z",
     "iopub.status.idle": "2024-06-12T08:34:56.180911Z",
     "shell.execute_reply": "2024-06-12T08:34:56.180394Z"
    }
   },
   "outputs": [
    {
     "name": "stdout",
     "output_type": "stream",
     "text": [
      "Background Information:\n",
      "!Series_title\t\"Acute hypersensitivity of pluripotent testicular cancer-derived embryonal carcinoma to low-dose 5-aza deoxycytidine\"\n",
      "!Series_summary\t\"This SuperSeries is composed of the SubSeries listed below.\"\n",
      "!Series_overall_design\t\"Refer to individual Series\"\n",
      "Sample Characteristics Dictionary:\n",
      "{0: ['cell line: NT2/D1'], 1: ['cell type: human ebryonal carcinoma']}\n"
     ]
    }
   ],
   "source": [
    "from utils.preprocess import *\n",
    "# 1. Identify the paths to the soft file and the matrix file\n",
    "cohort_dir = '/media/techt/DATA/GEO/Testicular_Cancer/GSE42647'\n",
    "soft_file, matrix_file = geo_get_relevant_filepaths(cohort_dir)\n",
    "\n",
    "# 2. Read the matrix file to obtain background information and sample characteristics data\n",
    "background_prefixes = ['!Series_title', '!Series_summary', '!Series_overall_design']\n",
    "clinical_prefixes = ['!Sample_geo_accession', '!Sample_characteristics_ch1']\n",
    "background_info, clinical_data = get_background_and_clinical_data(matrix_file, background_prefixes, clinical_prefixes)\n",
    "\n",
    "# 3. Obtain the sample characteristics dictionary from the clinical dataframe\n",
    "sample_characteristics_dict = get_unique_values_by_row(clinical_data)\n",
    "\n",
    "# 4. Explicitly print out all the background information and the sample characteristics dictionary\n",
    "print(\"Background Information:\")\n",
    "print(background_info)\n",
    "print(\"Sample Characteristics Dictionary:\")\n",
    "print(sample_characteristics_dict)\n"
   ]
  },
  {
   "cell_type": "markdown",
   "id": "fc4c0e40",
   "metadata": {},
   "source": [
    "### Step 2: Dataset Analysis and Clinical Feature Extraction"
   ]
  },
  {
   "cell_type": "code",
   "execution_count": 3,
   "id": "7de0ef64",
   "metadata": {
    "execution": {
     "iopub.execute_input": "2024-06-12T08:34:56.183044Z",
     "iopub.status.busy": "2024-06-12T08:34:56.182934Z",
     "iopub.status.idle": "2024-06-12T08:34:56.187651Z",
     "shell.execute_reply": "2024-06-12T08:34:56.187213Z"
    }
   },
   "outputs": [],
   "source": [
    "is_gene_available = False\n",
    "trait_row = age_row = gender_row = None  # set to different values when applicable\n",
    "convert_trait = convert_age = convert_gender = None  # define the functions when applicable\n",
    "\n",
    "# Determine if gene expression data is available\n",
    "# The available information does not explicitly mention gene expression. Therefore,\n",
    "# we assume it's not available.\n",
    "is_gene_available = False\n",
    "\n",
    "# Variable availability and data type conversion\n",
    "# Exploring the provided sample characteristics data\n",
    "\n",
    "sample_characteristics = {\n",
    "    0: ['cell line: NT2/D1-R1'],\n",
    "    1: ['cell type: human ebryonal carcinoma']\n",
    "}\n",
    "\n",
    "# 'Testicular_Cancer' variable availability\n",
    "trait_row = 1 if len(set([item.split(': ')[1] for item in sample_characteristics[1]])) > 1 else None\n",
    "\n",
    "# 'age' variable availability\n",
    "age_row = None  # No age data available in the provided characteristics\n",
    "\n",
    "# 'gender' variable availability\n",
    "gender_row = None  # No gender data available in the provided characteristics\n",
    "\n",
    "# Data type conversion functions\n",
    "# 'Testicular_Cancer' is categorical, converting as binary: 1 for 'cancer', 0 for non-cancer (however, no such data found)\n",
    "\n",
    "def convert_trait(value):\n",
    "    if value is None:\n",
    "        return None\n",
    "    # Define specific mapping if details provided, otherwise, set conversion to None.\n",
    "    value = value.split(': ')[1]\n",
    "    return 1 if value.lower() in ['human ebryonal carcinoma'] else 0\n",
    "\n",
    "# No age and gender data found\n",
    "\n",
    "def convert_age(value):\n",
    "    return None\n",
    "\n",
    "def convert_gender(value):\n",
    "    return None\n",
    "\n",
    "# Saving cohort info\n",
    "save_cohort_info('GSE42647', './preprocessed/Testicular_Cancer/cohort_info.json', is_gene_available, trait_row is not None)\n",
    "\n",
    "# Feature extraction\n",
    "if trait_row is not None:\n",
    "    selected_clinical_data = geo_select_clinical_features(clinical_data, 'Testicular_Cancer', trait_row, convert_trait, age_row, convert_age, gender_row, convert_gender)\n",
    "    csv_path = './preprocessed/Testicular_Cancer/trait_data/GSE42647.csv'\n",
    "    selected_clinical_data.to_csv(csv_path)\n",
    "    print(preview_df(selected_clinical_data))\n"
   ]
  }
 ],
 "metadata": {
  "language_info": {
   "codemirror_mode": {
    "name": "ipython",
    "version": 3
   },
   "file_extension": ".py",
   "mimetype": "text/x-python",
   "name": "python",
   "nbconvert_exporter": "python",
   "pygments_lexer": "ipython3",
   "version": "3.8.17"
  }
 },
 "nbformat": 4,
 "nbformat_minor": 5
}
