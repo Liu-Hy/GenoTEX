{
 "cells": [
  {
   "cell_type": "code",
   "execution_count": 1,
   "id": "cdde83ed",
   "metadata": {
    "execution": {
     "iopub.execute_input": "2024-06-12T08:34:53.319882Z",
     "iopub.status.busy": "2024-06-12T08:34:53.319725Z",
     "iopub.status.idle": "2024-06-12T08:34:53.325205Z",
     "shell.execute_reply": "2024-06-12T08:34:53.324770Z"
    }
   },
   "outputs": [],
   "source": [
    "\n",
    "import sys\n",
    "sys.path.append('/home/techt/Desktop/a4s')\n"
   ]
  },
  {
   "cell_type": "markdown",
   "id": "56246c8d",
   "metadata": {},
   "source": [
    "### Step 1: Initial Data Loading"
   ]
  },
  {
   "cell_type": "code",
   "execution_count": 2,
   "id": "0f4045d9",
   "metadata": {
    "execution": {
     "iopub.execute_input": "2024-06-12T08:34:53.327410Z",
     "iopub.status.busy": "2024-06-12T08:34:53.327258Z",
     "iopub.status.idle": "2024-06-12T08:34:53.663658Z",
     "shell.execute_reply": "2024-06-12T08:34:53.663301Z"
    }
   },
   "outputs": [
    {
     "name": "stdout",
     "output_type": "stream",
     "text": [
      "Background Information:\n",
      "!Series_title\t\"Gene expression profiles of poorly differentiated, undifferentiated and metastatic cancers\"\n",
      "!Series_summary\t\"The tissue of origin form metastatic tumors is sometimes difficult to identify from clinical and histologic information.  Gene expression signatures are one potential method for identifying the tissue of origin. In the development of algorithms to identify tissue of origin, a collection of human tumor metastatic specimens with known primary sites or primary tumors with poor differentiation are very useful in identifying gene expressions signatures that can classify unknown specimens as to the tissue of origin.  Here we describe a series of 276 such tumor specimens used for this purpose. The specimens are poorly differentiated, undifferentiated and metastatic specimens from tumors of the following types/tissues of origin: breast, liver, non-Hodgkin's lymphoma, non-small cell lung cancer, ovary, testicular germ cell, thyroid, kidney, pancreas, colorectal cancer, soft tissue sarcoma, bladder, gastric cancer, prostate and melanoma.  This data combined with other series (GSE2109) was used to validate a proprietary tumor classification algorithm of Pathwork Diagnostics. The results of this validation set (N = 545 CEL files) showed that the algorithm correctly identified the tissue of origin for 89.4% of the specimens.\"\n",
      "!Series_summary\t\"\"\n",
      "!Series_summary\t\"\"\n",
      "!Series_summary\t\"Guidelines for commercial use:\"\n",
      "!Series_summary\t\"http://pathworkdx.com/GSE12630_request.html\"\n",
      "!Series_overall_design\t\"All tissue samples were fresh frozen in liquid nitrogen. The gene expression was profiled using Affymetrix GeneChip platform.\"\n",
      "!Series_overall_design\t\"\"\n",
      "!Series_overall_design\t\"Instructions for opening the Pathwork Pathchip CEL files are appended below.\"\n",
      "Sample Characteristics Dictionary:\n",
      "{0: ['Anatomical sites: Liver', 'Anatomical sites: Bladder', 'Anatomical sites: Prostate', 'Anatomical sites: Testis', 'Anatomical sites: Lymph node', 'Anatomical sites: Neck mass', 'Anatomical sites: Lung', 'Anatomical sites: Subcutaneous Tissue', 'Anatomical sites: Adrenal gland', 'Anatomical sites: Muscle/soft tissue', 'Anatomical sites: Thyroid', 'Anatomical sites: Mesentary/small bowel', 'Anatomical sites: Ovary', 'Anatomical sites: Colon/rectum', 'Anatomical sites: Stomach', 'Anatomical sites: Small bowel', 'Anatomical sites: Lymph node: sentinel', 'Anatomical sites: Soft tissue', 'Anatomical sites: Adrenal Gland and Soft Tissue', 'Anatomical sites: Lymph Node', 'Anatomical sites: Thyroid Gland', 'Anatomical sites: Ovary: right', 'Anatomical sites: Thyroid gland', 'Anatomical sites: Mesentary', 'Anatomical sites: Pancreas', 'Anatomical sites: Retroperiteum'], 1: ['gender: F', 'gender: M', 'gender: -'], 2: ['age: 60-69', 'age: 50-59', 'age: 40-49', 'age: 20-29', 'age: 10-19', 'age: 30-39', 'age: 70-79', 'age: 79', 'age: 37', 'age: 19', 'age: 64', 'age: 47', 'age: 71', 'age: 51', 'age: 56', 'age: 39', 'age: -', 'age: 72', 'age: 49', 'age: 81', 'age: 65', 'age: 52', 'age: 30', 'age: 20', 'age: 23', 'age: 59', 'age: 25', 'age: 34', 'age: 69', 'age: 46'], 3: ['TNM: G4', 'TNM: Gleason 7', 'TNM: -', 'TNM: 3 to 4', 'TNM: 4', 'TNM: High Grade', 'TNM: Poorly Differentiated', 'TNM: G3', 'TNM: 3', 'TNM: 2']}\n"
     ]
    }
   ],
   "source": [
    "from utils.preprocess import *\n",
    "# 1. Identify the paths to the soft file and the matrix file\n",
    "cohort_dir = '/media/techt/DATA/GEO/Testicular_Cancer/GSE12630'\n",
    "soft_file, matrix_file = geo_get_relevant_filepaths(cohort_dir)\n",
    "\n",
    "# 2. Read the matrix file to obtain background information and sample characteristics data\n",
    "background_prefixes = ['!Series_title', '!Series_summary', '!Series_overall_design']\n",
    "clinical_prefixes = ['!Sample_geo_accession', '!Sample_characteristics_ch1']\n",
    "background_info, clinical_data = get_background_and_clinical_data(matrix_file, background_prefixes, clinical_prefixes)\n",
    "\n",
    "# 3. Obtain the sample characteristics dictionary from the clinical dataframe\n",
    "sample_characteristics_dict = get_unique_values_by_row(clinical_data)\n",
    "\n",
    "# 4. Explicitly print out all the background information and the sample characteristics dictionary\n",
    "print(\"Background Information:\")\n",
    "print(background_info)\n",
    "print(\"Sample Characteristics Dictionary:\")\n",
    "print(sample_characteristics_dict)\n"
   ]
  },
  {
   "cell_type": "markdown",
   "id": "a58d7086",
   "metadata": {},
   "source": [
    "### Step 2: Dataset Analysis and Clinical Feature Extraction"
   ]
  },
  {
   "cell_type": "code",
   "execution_count": 3,
   "id": "cfe47964",
   "metadata": {
    "execution": {
     "iopub.execute_input": "2024-06-12T08:34:53.665584Z",
     "iopub.status.busy": "2024-06-12T08:34:53.665442Z",
     "iopub.status.idle": "2024-06-12T08:34:53.687234Z",
     "shell.execute_reply": "2024-06-12T08:34:53.686956Z"
    }
   },
   "outputs": [
    {
     "name": "stdout",
     "output_type": "stream",
     "text": [
      "{'GSM319520': [0, 60, 0], 'GSM319521': [0, 60, 1], 'GSM319522': [0, 60, 1], 'GSM319523': [0, 50, 1], 'GSM319524': [0, 50, 0], 'GSM319525': [0, 50, 1], 'GSM319526': [0, 40, 1], 'GSM319527': [0, 60, 1], 'GSM319528': [0, 60, 1], 'GSM319529': [0, 50, 1], 'GSM319530': [0, 50, 1], 'GSM319531': [0, 50, 1], 'GSM319532': [0, 20, 1], 'GSM319533': [0, 40, 1], 'GSM319534': [0, 20, 1], 'GSM319535': [0, 10, 0], 'GSM319536': [0, 60, 1], 'GSM319537': [0, 30, 0], 'GSM319538': [0, 50, 1], 'GSM319539': [0, 40, 0], 'GSM319540': [0, 60, 1], 'GSM319541': [0, 20, 0], 'GSM319542': [0, 50, 1], 'GSM319543': [0, 40, 0], 'GSM319544': [0, 50, 0], 'GSM319545': [0, 20, 0], 'GSM319546': [0, 70, 1], 'GSM319547': [0, 70, 1], 'GSM319548': [0, 10, 0], 'GSM319549': [0, 50, 1], 'GSM319550': [0, 60, 0], 'GSM319551': [0, 60, 0], 'GSM319552': [0, 50, 0], 'GSM319553': [0, 60, 1], 'GSM319554': [0, 60, 1], 'GSM319555': [0, 40, 1], 'GSM319556': [0, 70, 1], 'GSM319557': [0, 70, 1], 'GSM319558': [0, 30, 1], 'GSM319559': [0, 50, 1], 'GSM319560': [0, 79, 1], 'GSM319561': [0, 37, 1], 'GSM319562': [0, 19, 1], 'GSM319563': [0, 64, 0], 'GSM319564': [0, 47, 0], 'GSM319565': [0, 79, 0], 'GSM319566': [0, 71, 1], 'GSM319567': [0, 51, 0], 'GSM319568': [0, 56, 1], 'GSM319569': [0, 39, 0], 'GSM319570': [0, None, None], 'GSM319571': [0, 72, 1], 'GSM319572': [0, 49, 0], 'GSM319573': [0, 19, 1], 'GSM319574': [0, 81, 0], 'GSM319575': [0, 65, 0], 'GSM319576': [0, 65, 0], 'GSM319577': [0, 52, 1], 'GSM319578': [0, 30, 1], 'GSM319579': [0, 20, 1], 'GSM319580': [0, 23, 1], 'GSM319581': [0, 30, 1], 'GSM319582': [0, 56, 1], 'GSM319583': [0, 59, 1], 'GSM319584': [0, 25, 1], 'GSM319585': [0, 25, 1], 'GSM319586': [0, 34, 1], 'GSM319587': [0, 69, 1], 'GSM319588': [0, 56, 0], 'GSM319589': [0, 46, 0], 'GSM319590': [0, 51, 0], 'GSM319591': [0, 49, 0], 'GSM319592': [0, 70, 0], 'GSM319593': [0, 29, 0], 'GSM319594': [0, 26, 0], 'GSM319595': [0, 44, 0], 'GSM319596': [0, 84, 1], 'GSM319597': [0, 77, 0], 'GSM319598': [0, 78, 1], 'GSM319599': [0, 96, 0], 'GSM319600': [0, 49, 0], 'GSM319601': [0, 66, 1], 'GSM319602': [0, 88, 1], 'GSM319603': [0, 70, 1], 'GSM319604': [0, 78, 1], 'GSM319605': [0, 67, 0], 'GSM319606': [0, 70, 1], 'GSM319607': [0, 68, 0], 'GSM319608': [0, 64, 1]}\n"
     ]
    }
   ],
   "source": [
    "is_gene_available = False\n",
    "trait_row = age_row = gender_row = None  # set to different values when applicable\n",
    "convert_trait = convert_age = convert_gender = None  # define the functions when applicable\n",
    "\n",
    "# Part 1: Gene Expression Data Availability\n",
    "is_gene_available = True  # Based on the GEO dataset description and platform used (Affymetrix GeneChip)\n",
    "\n",
    "# Example sample characteristics dictionary (should be provided in the actual code)\n",
    "sample_char_dict = {\n",
    "    0: ['Anatomical sites: Ovary', 'Anatomical sites: Breast', 'Anatomical sites: Lung', 'Anatomical sites: Lymph node', 'Anatomical sites: Colon', 'Anatomical sites: Thigh mass', 'Anatomical sites: Adrenal gland', 'Anatomical sites: Thyroid', 'Anatomical sites: Stomach', 'Anatomical sites: Liver', 'Anatomical sites: Pancreas', 'Anatomical sites: Omentum', 'Anatomical sites: Pancreas/Duod.', 'Anatomical sites: Spleen/soft tissue', 'Anatomical sites: Thyroid gland', 'Anatomical sites: Skin', 'Anatomical sites: Small intestine', 'Anatomical sites: Small bowel', 'Anatomical sites: Small Bowel', 'Anatomical sites: Spleen', 'Anatomical sites: Stomach/Duod/Pancreas', 'Anatomical sites: Adominal sarcoma', 'Anatomical sites: Kidney', 'Anatomical sites: Soft Tissue', 'Anatomical sites: Testicle', 'Anatomical sites: Adrenal Gland', 'Anatomical sites: Lymph Node', 'Anatomical sites: Umbilical nodule', 'Anatomical sites: Jejunum', 'Anatomical sites: Neck'],\n",
    "    1: ['gender: F', 'gender: M', 'gender: -'],\n",
    "    2: ['age: 50-59', 'age: 60-69', 'age: 40-49', 'age: 70-79', 'age: 80-89', 'age: 20-29', 'age: 30-39', 'age: 10-19', 'age: 80-86', 'age: 50-57'],\n",
    "    3: ['TNM: 3 to 4', 'TNM: 4', 'TNM: -', 'TNM: 3', 'TNM: G2', 'TNM: G3', 'TNM: WHO grade 1', 'TNM: Fuhrman G3', 'TNM: 2 to 3', 'TNM: Fuhrman G4', 'TNM: WHO grade II', 'TNM: Gleason = 7/10', 'TNM: G4', 'TNM: G3-4', 'TNM: Gleason = 6/10']\n",
    "}\n",
    "\n",
    "# Part 2: Variable Availability and Data Type Conversion\n",
    "\n",
    "# 2.1 Data Availability\n",
    "for key, values in sample_char_dict.items():\n",
    "    # Check the availability of 'Testicular_Cancer'\n",
    "    if trait_row is None and any(\"Testicle\" in value for value in values):\n",
    "        trait_row = key\n",
    "    \n",
    "    # Check the availability of 'age'\n",
    "    if age_row is None and any(\"age:\" in value for value in values):\n",
    "        age_row = key\n",
    "    \n",
    "    # Check the availability of 'gender'\n",
    "    if gender_row is None and any(\"gender:\" in value for value in values):\n",
    "        gender_row = key\n",
    "\n",
    "# 2.3 Data Type Conversion Functions\n",
    "def convert_trait(value):\n",
    "    return 1 if \"Testicle\" in value else 0\n",
    "\n",
    "def convert_age(value):\n",
    "    try:\n",
    "        extracted_age = int(value.split(':')[1].strip().split('-')[0])\n",
    "        return extracted_age\n",
    "    except:\n",
    "        return None\n",
    "\n",
    "def convert_gender(value):\n",
    "    if \"F\" in value:\n",
    "        return 0\n",
    "    elif \"M\" in value:\n",
    "        return 1\n",
    "    return None\n",
    "\n",
    "# Save Metadata\n",
    "save_cohort_info('GSE12630', './preprocessed/Testicular_Cancer/cohort_info.json', is_gene_available, trait_row is not None)\n",
    "\n",
    "# Clinical Feature Extraction\n",
    "if trait_row is not None:\n",
    "    selected_clinical_data = geo_select_clinical_features(clinical_data, 'Testicular_Cancer', trait_row, convert_trait, age_row, convert_age, gender_row, convert_gender)\n",
    "    csv_path = './preprocessed/Testicular_Cancer/trait_data/GSE12630.csv'\n",
    "    selected_clinical_data.to_csv(csv_path)\n",
    "    print(preview_df(selected_clinical_data))\n"
   ]
  },
  {
   "cell_type": "markdown",
   "id": "f73314e4",
   "metadata": {},
   "source": [
    "### Step 3: Gene Data Extraction"
   ]
  },
  {
   "cell_type": "code",
   "execution_count": 4,
   "id": "cdabdc5a",
   "metadata": {
    "execution": {
     "iopub.execute_input": "2024-06-12T08:34:53.689145Z",
     "iopub.status.busy": "2024-06-12T08:34:53.689038Z",
     "iopub.status.idle": "2024-06-12T08:34:53.932255Z",
     "shell.execute_reply": "2024-06-12T08:34:53.931895Z"
    }
   },
   "outputs": [
    {
     "name": "stdout",
     "output_type": "stream",
     "text": [
      "Index(['AFFX-BioB-3_at', 'AFFX-BioB-5_at', 'AFFX-BioB-M_at', 'AFFX-BioC-3_at',\n",
      "       'AFFX-BioC-5_at', 'AFFX-BioDn-3_at', 'AFFX-BioDn-5_at',\n",
      "       'AFFX-CreX-3_at', 'AFFX-CreX-5_at', 'AFFX-DapX-3_at', 'AFFX-DapX-5_at',\n",
      "       'AFFX-DapX-M_at', 'AFFX-HSAC07/X00351_3_at', 'AFFX-HSAC07/X00351_5_at',\n",
      "       'AFFX-HSAC07/X00351_M_at', 'AFFX-hum_alu_at',\n",
      "       'AFFX-HUMGAPDH/M33197_3_at', 'AFFX-HUMGAPDH/M33197_5_at',\n",
      "       'AFFX-HUMGAPDH/M33197_M_at', 'AFFX-HUMISGF3A/M97935_3_at'],\n",
      "      dtype='object', name='ID')\n"
     ]
    }
   ],
   "source": [
    "# 1. Use the get_genetic_data function from the library to get the gene_data from the matrix_file previously defined.\n",
    "gene_data = get_genetic_data(matrix_file)\n",
    "\n",
    "# 2. Print the first 20 row ids for the following step.\n",
    "print(gene_data.index[:20])\n"
   ]
  }
 ],
 "metadata": {
  "language_info": {
   "codemirror_mode": {
    "name": "ipython",
    "version": 3
   },
   "file_extension": ".py",
   "mimetype": "text/x-python",
   "name": "python",
   "nbconvert_exporter": "python",
   "pygments_lexer": "ipython3",
   "version": "3.8.17"
  }
 },
 "nbformat": 4,
 "nbformat_minor": 5
}
