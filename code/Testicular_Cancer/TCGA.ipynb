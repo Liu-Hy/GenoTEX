{
 "cells": [
  {
   "cell_type": "code",
   "execution_count": 1,
   "id": "7967b317",
   "metadata": {
    "execution": {
     "iopub.execute_input": "2025-03-25T04:08:47.626723Z",
     "iopub.status.busy": "2025-03-25T04:08:47.626403Z",
     "iopub.status.idle": "2025-03-25T04:08:47.819495Z",
     "shell.execute_reply": "2025-03-25T04:08:47.819026Z"
    }
   },
   "outputs": [],
   "source": [
    "import sys\n",
    "import os\n",
    "sys.path.append(os.path.abspath(os.path.join(os.getcwd(), '../..')))\n",
    "\n",
    "# Path Configuration\n",
    "from tools.preprocess import *\n",
    "\n",
    "# Processing context\n",
    "trait = \"Testicular_Cancer\"\n",
    "\n",
    "# Input paths\n",
    "tcga_root_dir = \"../../input/TCGA\"\n",
    "\n",
    "# Output paths\n",
    "out_data_file = \"../../output/preprocess/Testicular_Cancer/TCGA.csv\"\n",
    "out_gene_data_file = \"../../output/preprocess/Testicular_Cancer/gene_data/TCGA.csv\"\n",
    "out_clinical_data_file = \"../../output/preprocess/Testicular_Cancer/clinical_data/TCGA.csv\"\n",
    "json_path = \"../../output/preprocess/Testicular_Cancer/cohort_info.json\"\n"
   ]
  },
  {
   "cell_type": "markdown",
   "id": "1f526fe5",
   "metadata": {},
   "source": [
    "### Step 1: Initial Data Loading"
   ]
  },
  {
   "cell_type": "code",
   "execution_count": 2,
   "id": "be082dd1",
   "metadata": {
    "execution": {
     "iopub.execute_input": "2025-03-25T04:08:47.821038Z",
     "iopub.status.busy": "2025-03-25T04:08:47.820868Z",
     "iopub.status.idle": "2025-03-25T04:08:48.254690Z",
     "shell.execute_reply": "2025-03-25T04:08:48.254029Z"
    }
   },
   "outputs": [
    {
     "name": "stdout",
     "output_type": "stream",
     "text": [
      "Available TCGA directories: ['TCGA_Liver_Cancer_(LIHC)', 'TCGA_Lower_Grade_Glioma_(LGG)', 'TCGA_lower_grade_glioma_and_glioblastoma_(GBMLGG)', 'TCGA_Lung_Adenocarcinoma_(LUAD)', 'TCGA_Lung_Cancer_(LUNG)', 'TCGA_Lung_Squamous_Cell_Carcinoma_(LUSC)', 'TCGA_Melanoma_(SKCM)', 'TCGA_Mesothelioma_(MESO)', 'TCGA_Ocular_melanomas_(UVM)', 'TCGA_Ovarian_Cancer_(OV)', 'TCGA_Pancreatic_Cancer_(PAAD)', 'TCGA_Pheochromocytoma_Paraganglioma_(PCPG)', 'TCGA_Prostate_Cancer_(PRAD)', 'TCGA_Rectal_Cancer_(READ)', 'TCGA_Sarcoma_(SARC)', 'TCGA_Stomach_Cancer_(STAD)', 'TCGA_Testicular_Cancer_(TGCT)', 'TCGA_Thymoma_(THYM)', 'TCGA_Thyroid_Cancer_(THCA)', 'TCGA_Uterine_Carcinosarcoma_(UCS)', '.DS_Store', 'CrawlData.ipynb', 'TCGA_Acute_Myeloid_Leukemia_(LAML)', 'TCGA_Adrenocortical_Cancer_(ACC)', 'TCGA_Bile_Duct_Cancer_(CHOL)', 'TCGA_Bladder_Cancer_(BLCA)', 'TCGA_Breast_Cancer_(BRCA)', 'TCGA_Cervical_Cancer_(CESC)', 'TCGA_Colon_and_Rectal_Cancer_(COADREAD)', 'TCGA_Colon_Cancer_(COAD)', 'TCGA_Endometrioid_Cancer_(UCEC)', 'TCGA_Esophageal_Cancer_(ESCA)', 'TCGA_Glioblastoma_(GBM)', 'TCGA_Head_and_Neck_Cancer_(HNSC)', 'TCGA_Kidney_Chromophobe_(KICH)', 'TCGA_Kidney_Clear_Cell_Carcinoma_(KIRC)', 'TCGA_Kidney_Papillary_Cell_Carcinoma_(KIRP)', 'TCGA_Large_Bcell_Lymphoma_(DLBC)']\n",
      "Found relevant directory for Testicular_Cancer: TCGA_Testicular_Cancer_(TGCT)\n",
      "Clinical data file: ../../input/TCGA/TCGA_Testicular_Cancer_(TGCT)/TCGA.TGCT.sampleMap_TGCT_clinicalMatrix\n",
      "Genetic data file: ../../input/TCGA/TCGA_Testicular_Cancer_(TGCT)/TCGA.TGCT.sampleMap_HiSeqV2_PANCAN.gz\n"
     ]
    },
    {
     "name": "stdout",
     "output_type": "stream",
     "text": [
      "\n",
      "Clinical data columns:\n",
      "['_INTEGRATION', '_PATIENT', '_cohort', '_primary_disease', '_primary_site', 'age_at_initial_pathologic_diagnosis', 'bcr_followup_barcode', 'bcr_patient_barcode', 'bcr_sample_barcode', 'bilateral_diagnosis_timing_type', 'clinical_M', 'clinical_N', 'clinical_T', 'clinical_stage', 'days_to_bilateral_tumor_dx', 'days_to_birth', 'days_to_collection', 'days_to_death', 'days_to_initial_pathologic_diagnosis', 'days_to_last_followup', 'days_to_new_tumor_event_after_initial_treatment', 'days_to_post_orchi_serum_test', 'days_to_pre_orchi_serum_test', 'eastern_cancer_oncology_group', 'family_history_other_cancer', 'family_history_testicular_cancer', 'family_member_relationship_type', 'first_treatment_success', 'form_completion_date', 'gender', 'histological_percentage', 'histological_type', 'history_fertility', 'history_hypospadias', 'history_of_neoadjuvant_treatment', 'history_of_undescended_testis', 'icd_10', 'icd_o_3_histology', 'icd_o_3_site', 'igcccg_stage', 'informed_consent_verified', 'init_pathology_dx_method_other', 'initial_pathologic_diagnosis_method', 'initial_weight', 'intratubular_germ_cell_neoplasm', 'is_ffpe', 'karnofsky_performance_score', 'laterality', 'level_of_non_descent', 'lost_follow_up', 'lymphovascular_invasion_present', 'molecular_test_result', 'new_neoplasm_event_occurrence_anatomic_site', 'new_neoplasm_event_type', 'new_neoplasm_occurrence_anatomic_site_text', 'new_tumor_event_after_initial_treatment', 'oct_embedded', 'other_dx', 'pathologic_M', 'pathologic_N', 'pathologic_T', 'pathologic_stage', 'pathology_report_file_name', 'patient_death_reason', 'patient_id', 'person_neoplasm_cancer_status', 'post_orchi_afp', 'post_orchi_hcg', 'post_orchi_ldh', 'post_orchi_lh', 'post_orchi_lymph_node_dissection', 'post_orchi_testosterone', 'postoperative_rx_tx', 'postoperative_tx', 'pre_orchi_afp', 'pre_orchi_hcg', 'pre_orchi_ldh', 'pre_orchi_lh', 'pre_orchi_testosterone', 'primary_therapy_outcome_success', 'radiation_therapy', 'relation_testicular_cancer', 'relative_family_cancer_hx_text', 'sample_type', 'sample_type_id', 'serum_markers', 'source_of_patient_death_reason', 'synchronous_tumor_histology_pct', 'synchronous_tumor_histology_type', 'system_version', 'testis_tumor_macroextent', 'testis_tumor_macroextent_other', 'testis_tumor_microextent', 'tissue_prospective_collection_indicator', 'tissue_retrospective_collection_indicator', 'tissue_source_site', 'tumor_tissue_site', 'undescended_testis_corrected', 'undescended_testis_corrected_age', 'undescended_testis_method_left', 'undescended_testis_method_right', 'vial_number', 'vital_status', 'year_of_initial_pathologic_diagnosis', '_GENOMIC_ID_TCGA_TGCT_PDMRNAseqCNV', '_GENOMIC_ID_TCGA_TGCT_exp_HiSeqV2_exon', '_GENOMIC_ID_TCGA_TGCT_mutation_ucsc_maf_gene', '_GENOMIC_ID_TCGA_TGCT_exp_HiSeqV2', '_GENOMIC_ID_TCGA_TGCT_exp_HiSeqV2_PANCAN', '_GENOMIC_ID_TCGA_TGCT_hMethyl450', '_GENOMIC_ID_TCGA_TGCT_gistic2', '_GENOMIC_ID_data/public/TCGA/TGCT/miRNA_HiSeq_gene', '_GENOMIC_ID_TCGA_TGCT_gistic2thd', '_GENOMIC_ID_TCGA_TGCT_mutation_bcm_gene', '_GENOMIC_ID_TCGA_TGCT_miRNA_HiSeq', '_GENOMIC_ID_TCGA_TGCT_mutation_broad_gene', '_GENOMIC_ID_TCGA_TGCT_PDMRNAseq', '_GENOMIC_ID_TCGA_TGCT_RPPA', '_GENOMIC_ID_TCGA_TGCT_exp_HiSeqV2_percentile', '_GENOMIC_ID_TCGA_TGCT_mutation_bcgsc_gene']\n"
     ]
    }
   ],
   "source": [
    "# Step 1: Review subdirectories to find one related to Testicular Cancer\n",
    "import os\n",
    "\n",
    "# List all directories in TCGA root directory\n",
    "tcga_dirs = os.listdir(tcga_root_dir)\n",
    "print(f\"Available TCGA directories: {tcga_dirs}\")\n",
    "\n",
    "# Find the directory related to Testicular Cancer\n",
    "testicular_cancer_dir = None\n",
    "for dir_name in tcga_dirs:\n",
    "    if \"testicular\" in dir_name.lower():\n",
    "        testicular_cancer_dir = dir_name\n",
    "        break\n",
    "\n",
    "if testicular_cancer_dir:\n",
    "    print(f\"Found relevant directory for {trait}: {testicular_cancer_dir}\")\n",
    "    \n",
    "    # Get the full path to the directory\n",
    "    cohort_dir = os.path.join(tcga_root_dir, testicular_cancer_dir)\n",
    "    \n",
    "    # Step 2: Find clinical and genetic data files\n",
    "    clinical_file_path, genetic_file_path = tcga_get_relevant_filepaths(cohort_dir)\n",
    "    \n",
    "    print(f\"Clinical data file: {clinical_file_path}\")\n",
    "    print(f\"Genetic data file: {genetic_file_path}\")\n",
    "    \n",
    "    # Step 3: Load the data files\n",
    "    clinical_df = pd.read_csv(clinical_file_path, index_col=0, sep='\\t')\n",
    "    genetic_df = pd.read_csv(genetic_file_path, index_col=0, sep='\\t')\n",
    "    \n",
    "    # Step 4: Print column names of clinical data\n",
    "    print(\"\\nClinical data columns:\")\n",
    "    print(clinical_df.columns.tolist())\n",
    "    \n",
    "    # Check if both datasets are available\n",
    "    is_gene_available = not genetic_df.empty\n",
    "    is_trait_available = not clinical_df.empty\n",
    "    \n",
    "    # Initial validation\n",
    "    validate_and_save_cohort_info(\n",
    "        is_final=False,\n",
    "        cohort=\"TCGA\",\n",
    "        info_path=json_path,\n",
    "        is_gene_available=is_gene_available,\n",
    "        is_trait_available=is_trait_available\n",
    "    )\n",
    "else:\n",
    "    print(f\"No directory specifically matches the trait: {trait}\")\n",
    "    \n",
    "    # Since the trait is not directly represented, we should record this fact\n",
    "    validate_and_save_cohort_info(\n",
    "        is_final=False,\n",
    "        cohort=\"TCGA\",\n",
    "        info_path=json_path,\n",
    "        is_gene_available=False,\n",
    "        is_trait_available=False\n",
    "    )\n",
    "    print(f\"Task marked as completed. {trait} is not directly represented in the TCGA dataset.\")\n"
   ]
  },
  {
   "cell_type": "markdown",
   "id": "ea61cc0d",
   "metadata": {},
   "source": [
    "### Step 2: Find Candidate Demographic Features"
   ]
  },
  {
   "cell_type": "code",
   "execution_count": 3,
   "id": "c135cb25",
   "metadata": {
    "execution": {
     "iopub.execute_input": "2025-03-25T04:08:48.256171Z",
     "iopub.status.busy": "2025-03-25T04:08:48.256023Z",
     "iopub.status.idle": "2025-03-25T04:08:48.264880Z",
     "shell.execute_reply": "2025-03-25T04:08:48.264408Z"
    }
   },
   "outputs": [
    {
     "name": "stdout",
     "output_type": "stream",
     "text": [
      "Age columns preview:\n",
      "{'age_at_initial_pathologic_diagnosis': [31.0, 38.0, 28.0, 30.0, 28.0], 'days_to_birth': [-11325.0, -13964.0, -10511.0, -10983.0, -10281.0]}\n",
      "Gender columns preview:\n",
      "{'gender': ['MALE', 'MALE', 'MALE', 'MALE', 'MALE']}\n"
     ]
    }
   ],
   "source": [
    "# Define candidate columns for age and gender\n",
    "candidate_age_cols = ['age_at_initial_pathologic_diagnosis', 'days_to_birth']\n",
    "candidate_gender_cols = ['gender']\n",
    "\n",
    "# Read the clinical data\n",
    "clinical_file_path, _ = tcga_get_relevant_filepaths(os.path.join(tcga_root_dir, 'TCGA_Testicular_Cancer_(TGCT)'))\n",
    "clinical_df = pd.read_csv(clinical_file_path, sep='\\t', index_col=0)\n",
    "\n",
    "# Preview age columns\n",
    "if candidate_age_cols:\n",
    "    age_preview = {col: clinical_df[col].head(5).tolist() for col in candidate_age_cols}\n",
    "    print(\"Age columns preview:\")\n",
    "    print(age_preview)\n",
    "\n",
    "# Preview gender columns\n",
    "if candidate_gender_cols:\n",
    "    gender_preview = {col: clinical_df[col].head(5).tolist() for col in candidate_gender_cols}\n",
    "    print(\"Gender columns preview:\")\n",
    "    print(gender_preview)\n"
   ]
  },
  {
   "cell_type": "markdown",
   "id": "b5c316d7",
   "metadata": {},
   "source": [
    "### Step 3: Select Demographic Features"
   ]
  },
  {
   "cell_type": "code",
   "execution_count": 4,
   "id": "c8cc2c79",
   "metadata": {
    "execution": {
     "iopub.execute_input": "2025-03-25T04:08:48.266069Z",
     "iopub.status.busy": "2025-03-25T04:08:48.265945Z",
     "iopub.status.idle": "2025-03-25T04:08:48.269434Z",
     "shell.execute_reply": "2025-03-25T04:08:48.268962Z"
    }
   },
   "outputs": [
    {
     "name": "stdout",
     "output_type": "stream",
     "text": [
      "Selected age column: age_at_initial_pathologic_diagnosis\n",
      "Age values preview: [31.0, 38.0, 28.0, 30.0, 28.0]\n",
      "Selected gender column: gender\n",
      "Gender values preview: ['MALE', 'MALE', 'MALE', 'MALE', 'MALE']\n"
     ]
    }
   ],
   "source": [
    "# Step: Select Demographic Features\n",
    "\n",
    "# Evaluate age columns\n",
    "age_columns = {'age_at_initial_pathologic_diagnosis': [31.0, 38.0, 28.0, 30.0, 28.0], 'days_to_birth': [-11325.0, -13964.0, -10511.0, -10983.0, -10281.0]}\n",
    "\n",
    "# Evaluate gender columns\n",
    "gender_columns = {'gender': ['MALE', 'MALE', 'MALE', 'MALE', 'MALE']}\n",
    "\n",
    "# Select age column - prefer age_at_initial_pathologic_diagnosis since it's in years which is more standard\n",
    "age_col = 'age_at_initial_pathologic_diagnosis' if age_columns else None\n",
    "\n",
    "# Select gender column - only one option\n",
    "gender_col = 'gender' if gender_columns else None\n",
    "\n",
    "# Print chosen columns\n",
    "print(f\"Selected age column: {age_col}\")\n",
    "print(f\"Age values preview: {age_columns.get(age_col, [])}\")\n",
    "print(f\"Selected gender column: {gender_col}\")\n",
    "print(f\"Gender values preview: {gender_columns.get(gender_col, [])}\")\n"
   ]
  },
  {
   "cell_type": "markdown",
   "id": "da111c06",
   "metadata": {},
   "source": [
    "### Step 4: Feature Engineering and Validation"
   ]
  },
  {
   "cell_type": "code",
   "execution_count": 5,
   "id": "be9ee855",
   "metadata": {
    "execution": {
     "iopub.execute_input": "2025-03-25T04:08:48.270588Z",
     "iopub.status.busy": "2025-03-25T04:08:48.270477Z",
     "iopub.status.idle": "2025-03-25T04:08:57.550845Z",
     "shell.execute_reply": "2025-03-25T04:08:57.550208Z"
    }
   },
   "outputs": [
    {
     "name": "stdout",
     "output_type": "stream",
     "text": [
      "Saved clinical data with 156 samples\n",
      "After normalization: 19848 genes remaining\n"
     ]
    },
    {
     "name": "stdout",
     "output_type": "stream",
     "text": [
      "Saved normalized gene expression data\n",
      "Linked data shape: (156, 19851) (samples x features)\n"
     ]
    },
    {
     "name": "stdout",
     "output_type": "stream",
     "text": [
      "After handling missing values, data shape: (156, 19851)\n",
      "Quartiles for 'Testicular_Cancer':\n",
      "  25%: 1.0\n",
      "  50% (Median): 1.0\n",
      "  75%: 1.0\n",
      "Min: 1\n",
      "Max: 1\n",
      "The distribution of the feature 'Testicular_Cancer' in this dataset is severely biased.\n",
      "\n",
      "Quartiles for 'Age':\n",
      "  25%: 26.0\n",
      "  50% (Median): 31.8705035971223\n",
      "  75%: 36.0\n",
      "Min: 14.0\n",
      "Max: 67.0\n",
      "The distribution of the feature 'Age' in this dataset is fine.\n",
      "\n",
      "For the feature 'Gender', the least common label is '1.0' with 156 occurrences. This represents 100.00% of the dataset.\n",
      "The distribution of the feature 'Gender' in this dataset is severely biased.\n",
      "\n"
     ]
    },
    {
     "name": "stdout",
     "output_type": "stream",
     "text": [
      "Dataset was determined to be unusable and was not saved.\n"
     ]
    }
   ],
   "source": [
    "# Step 1: Extract and standardize clinical features\n",
    "# Use the Testicular Cancer directory identified in Step 1\n",
    "selected_dir = \"TCGA_Testicular_Cancer_(TGCT)\"\n",
    "cohort_dir = os.path.join(tcga_root_dir, selected_dir)\n",
    "\n",
    "# Get the file paths for clinical and genetic data\n",
    "clinical_file_path, genetic_file_path = tcga_get_relevant_filepaths(cohort_dir)\n",
    "\n",
    "# Load the data\n",
    "clinical_df = pd.read_csv(clinical_file_path, sep='\\t', index_col=0)\n",
    "genetic_df = pd.read_csv(genetic_file_path, sep='\\t', index_col=0)\n",
    "\n",
    "# Extract standardized clinical features using the provided trait variable\n",
    "clinical_features = tcga_select_clinical_features(\n",
    "    clinical_df, \n",
    "    trait=trait,  # Using the provided trait variable\n",
    "    age_col=age_col, \n",
    "    gender_col=gender_col\n",
    ")\n",
    "\n",
    "# Save the clinical data to out_clinical_data_file\n",
    "os.makedirs(os.path.dirname(out_clinical_data_file), exist_ok=True)\n",
    "clinical_features.to_csv(out_clinical_data_file)\n",
    "print(f\"Saved clinical data with {len(clinical_features)} samples\")\n",
    "\n",
    "# Step 2: Normalize gene symbols in gene expression data\n",
    "# Transpose to get genes as rows\n",
    "gene_df = genetic_df\n",
    "\n",
    "# Normalize gene symbols using NCBI Gene database synonyms\n",
    "normalized_gene_df = normalize_gene_symbols_in_index(gene_df)\n",
    "print(f\"After normalization: {len(normalized_gene_df)} genes remaining\")\n",
    "\n",
    "# Save the normalized gene expression data\n",
    "os.makedirs(os.path.dirname(out_gene_data_file), exist_ok=True)\n",
    "normalized_gene_df.to_csv(out_gene_data_file)\n",
    "print(f\"Saved normalized gene expression data\")\n",
    "\n",
    "# Step 3: Link clinical and genetic data\n",
    "# Merge clinical features with genetic expression data\n",
    "linked_data = clinical_features.join(normalized_gene_df.T, how='inner')\n",
    "print(f\"Linked data shape: {linked_data.shape} (samples x features)\")\n",
    "\n",
    "# Step 4: Handle missing values\n",
    "cleaned_data = handle_missing_values(linked_data, trait_col=trait)\n",
    "print(f\"After handling missing values, data shape: {cleaned_data.shape}\")\n",
    "\n",
    "# Step 5: Determine if trait or demographics are severely biased\n",
    "trait_biased, cleaned_data = judge_and_remove_biased_features(cleaned_data, trait=trait)\n",
    "\n",
    "# Step 6: Validate data quality and save cohort information\n",
    "note = \"The dataset contains gene expression data along with clinical information for testicular cancer patients from TCGA.\"\n",
    "is_usable = validate_and_save_cohort_info(\n",
    "    is_final=True,\n",
    "    cohort=\"TCGA\",\n",
    "    info_path=json_path,\n",
    "    is_gene_available=True,\n",
    "    is_trait_available=True,\n",
    "    is_biased=trait_biased,\n",
    "    df=cleaned_data,\n",
    "    note=note\n",
    ")\n",
    "\n",
    "# Step 7: Save the linked data if usable\n",
    "if is_usable:\n",
    "    os.makedirs(os.path.dirname(out_data_file), exist_ok=True)\n",
    "    cleaned_data.to_csv(out_data_file)\n",
    "    print(f\"Saved usable linked data to {out_data_file}\")\n",
    "else:\n",
    "    print(\"Dataset was determined to be unusable and was not saved.\")"
   ]
  }
 ],
 "metadata": {
  "language_info": {
   "codemirror_mode": {
    "name": "ipython",
    "version": 3
   },
   "file_extension": ".py",
   "mimetype": "text/x-python",
   "name": "python",
   "nbconvert_exporter": "python",
   "pygments_lexer": "ipython3",
   "version": "3.10.16"
  }
 },
 "nbformat": 4,
 "nbformat_minor": 5
}
