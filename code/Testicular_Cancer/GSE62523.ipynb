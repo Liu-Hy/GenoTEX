{
 "cells": [
  {
   "cell_type": "code",
   "execution_count": 1,
   "id": "4a9f3ff2",
   "metadata": {
    "execution": {
     "iopub.execute_input": "2024-06-12T08:34:54.621635Z",
     "iopub.status.busy": "2024-06-12T08:34:54.621523Z",
     "iopub.status.idle": "2024-06-12T08:34:54.625989Z",
     "shell.execute_reply": "2024-06-12T08:34:54.625718Z"
    }
   },
   "outputs": [],
   "source": [
    "\n",
    "import sys\n",
    "sys.path.append('/home/techt/Desktop/a4s')\n"
   ]
  },
  {
   "cell_type": "markdown",
   "id": "9d140e23",
   "metadata": {},
   "source": [
    "### Step 1: Initial Data Loading"
   ]
  },
  {
   "cell_type": "code",
   "execution_count": 2,
   "id": "364f8ef5",
   "metadata": {
    "execution": {
     "iopub.execute_input": "2024-06-12T08:34:54.628046Z",
     "iopub.status.busy": "2024-06-12T08:34:54.627932Z",
     "iopub.status.idle": "2024-06-12T08:34:54.962222Z",
     "shell.execute_reply": "2024-06-12T08:34:54.961892Z"
    }
   },
   "outputs": [
    {
     "name": "stdout",
     "output_type": "stream",
     "text": [
      "Background Information:\n",
      "!Series_title\t\"Gene expression profiles of HMEC-1 after exposure to the chemotherapeutic drugs bleomycin and cisplatin with untreated samples as control\"\n",
      "!Series_summary\t\"Chemotherapy-related endothelial damage contributes to the early development of cardiovascular morbidity in testicular cancer patients. We aimed to identify relevant mechanisms of and search for candidate biomarkers for this endothelial damage.\"\n",
      "!Series_summary\t\"Human micro-vascular endothelial cells (HMEC-1) were exposed to bleomycin or cisplatin with untreated samples as control. 18k cDNA microarrays were used. Gene expression differences were analysed at single gene level and in gene sets clustered in biological pathways and validated by qRT-PCR. Protein levels of a candidate biomarker were measured in testicular cancer patient plasma before, during and after bleomycin-etoposide-cisplatin chemotherapy, and related to endothelial damage biomarkers (von Willebrand Factor (vWF), high-sensitivity C-Reactive Protein (hsCRP)).\"\n",
      "!Series_summary\t\"Microarray data identified several genes with highly differential expression; e.g. Growth Differentiation Factor 15 (GDF-15), Activating Transcription Factor 3 (ATF3) and Amphiregulin (AREG). Pathway analysis revealed strong associations with ‘p53’ and ‘Diabetes Mellitus’ gene sets. Based on known function, we measured GDF-15 protein levels in 41 testicular patients during clinical follow-up. Pre-chemotherapy GDF-15 levels equalled controls. Throughout chemotherapy GDF-15, vWF and hsCRP levels increased, and were correlated at different time-points.\"\n",
      "!Series_summary\t\"An unbiased approach in a preclinical model revealed genes related to chemotherapy-induced endothelial damage, like GDF-15. The increases in plasma GDF-15 levels in testicular cancer patients during chemotherapy and its association with vWF and hsCRP suggest that GDF-15 is a potentially useful biomarker related to endothelial damage.\"\n",
      "!Series_overall_design\t\"In an acute-exposure setting, HMEC-1 were left untreated as controls or were treated with 0.3 (IC50 (concentration inhibiting cell survival by 50%)) or 1.5 ug/mL (IC90) bleomycin and 2.6 (IC50) and 12.9 uM (IC90) cisplatin for 6, 24 and 48 hours. In a chronic-exposure setting, lower doses were administrated (IC10; bleomycin 0.06 ug/mL or cisplatin 0.52 uM) two times a week; cells were collected for analysis at day 30. Administration of cisplatin had to be withheld at the 7th administration because of considerable cell dead, but was continued at full dose thereafter. Bleomycin could be administrated without disruption. Total RNA was isolated from HMEC-1 and pooled for each time point and drug concentration from 2 independent experiments.\"\n",
      "Sample Characteristics Dictionary:\n",
      "{0: ['cell line: HMEC-1'], 1: ['cell type: human microvascular endothelial cell line']}\n"
     ]
    }
   ],
   "source": [
    "from utils.preprocess import *\n",
    "# 1. Identify the paths to the soft file and the matrix file\n",
    "cohort_dir = '/media/techt/DATA/GEO/Testicular_Cancer/GSE62523'\n",
    "soft_file, matrix_file = geo_get_relevant_filepaths(cohort_dir)\n",
    "\n",
    "# 2. Read the matrix file to obtain background information and sample characteristics data\n",
    "background_prefixes = ['!Series_title', '!Series_summary', '!Series_overall_design']\n",
    "clinical_prefixes = ['!Sample_geo_accession', '!Sample_characteristics_ch1']\n",
    "background_info, clinical_data = get_background_and_clinical_data(matrix_file, background_prefixes, clinical_prefixes)\n",
    "\n",
    "# 3. Obtain the sample characteristics dictionary from the clinical dataframe\n",
    "sample_characteristics_dict = get_unique_values_by_row(clinical_data)\n",
    "\n",
    "# 4. Explicitly print out all the background information and the sample characteristics dictionary\n",
    "print(\"Background Information:\")\n",
    "print(background_info)\n",
    "print(\"Sample Characteristics Dictionary:\")\n",
    "print(sample_characteristics_dict)\n"
   ]
  },
  {
   "cell_type": "markdown",
   "id": "8c3188fe",
   "metadata": {},
   "source": [
    "### Step 2: Dataset Analysis and Clinical Feature Extraction"
   ]
  },
  {
   "cell_type": "code",
   "execution_count": 3,
   "id": "8349d755",
   "metadata": {
    "execution": {
     "iopub.execute_input": "2024-06-12T08:34:54.964012Z",
     "iopub.status.busy": "2024-06-12T08:34:54.963875Z",
     "iopub.status.idle": "2024-06-12T08:34:54.967074Z",
     "shell.execute_reply": "2024-06-12T08:34:54.966823Z"
    }
   },
   "outputs": [],
   "source": [
    "is_gene_available = False\n",
    "trait_row = age_row = gender_row = None  # set to different values when applicable\n",
    "convert_trait = convert_age = convert_gender = None  # define the functions when applicable\n",
    "\n",
    "# Evaluate if gene expression data is available\n",
    "is_gene_available = True  # As indicated the data involves gene expression profiling\n",
    "\n",
    "# There is no explicit information about Testicular_Cancer, age, or gender in the sample characteristics\n",
    "trait_row = None\n",
    "age_row = None\n",
    "gender_row = None\n",
    "\n",
    "# Define the placeholder conversion functions. They are not actually needed as the respective rows are None.\n",
    "def convert_trait(value):\n",
    "    return None\n",
    "\n",
    "def convert_age(value):\n",
    "    return None\n",
    "\n",
    "def convert_gender(value):\n",
    "    return None\n",
    "\n",
    "# Save cohort info\n",
    "save_cohort_info('GSE62523', './preprocessed/Testicular_Cancer/cohort_info.json', is_gene_available, trait_row is not None)\n"
   ]
  }
 ],
 "metadata": {
  "language_info": {
   "codemirror_mode": {
    "name": "ipython",
    "version": 3
   },
   "file_extension": ".py",
   "mimetype": "text/x-python",
   "name": "python",
   "nbconvert_exporter": "python",
   "pygments_lexer": "ipython3",
   "version": "3.8.17"
  }
 },
 "nbformat": 4,
 "nbformat_minor": 5
}
