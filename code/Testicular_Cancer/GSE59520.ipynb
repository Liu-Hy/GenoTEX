{
 "cells": [
  {
   "cell_type": "code",
   "execution_count": 1,
   "id": "db14c145",
   "metadata": {
    "execution": {
     "iopub.execute_input": "2024-06-12T08:34:49.337188Z",
     "iopub.status.busy": "2024-06-12T08:34:49.337074Z",
     "iopub.status.idle": "2024-06-12T08:34:49.342444Z",
     "shell.execute_reply": "2024-06-12T08:34:49.341997Z"
    }
   },
   "outputs": [],
   "source": [
    "\n",
    "import sys\n",
    "sys.path.append('/home/techt/Desktop/a4s')\n"
   ]
  },
  {
   "cell_type": "markdown",
   "id": "53f6c937",
   "metadata": {},
   "source": [
    "### Step 1: Initial Data Loading"
   ]
  },
  {
   "cell_type": "code",
   "execution_count": 2,
   "id": "2c39a654",
   "metadata": {
    "execution": {
     "iopub.execute_input": "2024-06-12T08:34:49.344599Z",
     "iopub.status.busy": "2024-06-12T08:34:49.344296Z",
     "iopub.status.idle": "2024-06-12T08:34:49.597825Z",
     "shell.execute_reply": "2024-06-12T08:34:49.597450Z"
    }
   },
   "outputs": [
    {
     "name": "stdout",
     "output_type": "stream",
     "text": [
      "Background Information:\n",
      "!Series_title\t\"Identification of known and novel germ cell cancer specific (embryonic) miRs in serum by high throughput profiling\"\n",
      "!Series_summary\t\"Very recently, a number of independent studies showed that serum levels of embryonic micro-RNA (miR) clusters 371-3 and 302abc/367 are predictive for the presence of testicular type II germ cell tumors. These miRs could be used to sensitively detect SE and EC components which are indeed known to express these miRs [1-7]. This study investigates ca 750 miRs in a high throughput approach to validate these previously identified markers and identify novel potential miR markers for testicular type II germ cell tumors.  1. Belge, G., et al., Serum levels of microRNAs miR-371-3: a novel class of serum biomarkers for testicular germ cell tumors? Eur Urol, 2012. 61(5): p. 1068-9.  2. Dieckmann, K.P., et al., MicroRNAs miR-371-3 in serum as diagnostic tools in the management of testicular germ cell tumours. Br J Cancer, 2012. 107(10): p. 1754-60.  3. Gillis, A.J., et al., Targeted serum miRNA (TSmiR) test for diagnosis and follow-up of (testicular) germ cell cancer patients: a proof of principle. Mol Oncol, 2013. 7(6): p. 1083-92.  4. Gillis, A.J., et al., High-throughput microRNAome analysis in human germ cell tumours. J Pathol, 2007. 213(3): p. 319-28.  5. Murray, M.J. and N. Coleman, Testicular cancer: a new generation of biomarkers for malignant germ cell tumours. Nat Rev Urol, 2012. 9(6): p. 298-300.  6. Murray, M.J., et al., Identification of microRNAs From the miR-371~373 and miR-302 clusters as potential serum biomarkers of malignant germ cell tumors. Am J Clin Pathol, 2011. 135(1): p. 119-25.  7. Voorhoeve, P.M., et al., A genetic screen implicates miRNA-372 and miRNA-373 as oncogenes in testicular germ cell tumors. Cell, 2006. 124(6): p. 1169-81.\"\n",
      "!Series_overall_design\t\"35 serum samples were profiled for ca. 750 micro RNAs. These consisted of serum from 10 patients with non-seminomas (2 YS, 2 TE, 2 EC and 4 mixed NS which all contained EC) and 14 SE cases. Controls (C) consisted of serum from 3 individuals with normal testis tissue showing adequate spermatogenesis (Johnson Score 8-10) and serum from 8 patients with non-GCT testicular masses. These contained on epidermoid cyst, three epidermis cysts, one low grade liposarcoma, two neuro-endocrine tumors and a case of paratesticular hemorrhage.\"\n",
      "Sample Characteristics Dictionary:\n",
      "{0: ['sample type: serum from patient with epidermoid cyst', 'sample type: serum from patient with epidermis cyst', 'sample type: serum from patient with low grade liposarcoma', 'sample type: serum from patient with neuro endocrine tumor', 'sample type: serum from patient with paratesticular hemorrhage', 'sample type: serum from patient with yolk sac tumor', 'sample type: serum from patient with teratoma', 'sample type: serum from patient with embryonal carcinoma', 'sample type: serum from patient with embryonal carcinoma + yolk sac tumor', 'sample type: serum from patient with embryonal carcinoma + teratoma', 'sample type: serum from patient with seminoma', 'sample type: serum from patient with normal adult testis tissue with adequate spermatogenesis (johnson score 8-10)']}\n"
     ]
    }
   ],
   "source": [
    "from utils.preprocess import *\n",
    "# 1. Identify the paths to the soft file and the matrix file\n",
    "cohort_dir = '/media/techt/DATA/GEO/Testicular_Cancer/GSE59520'\n",
    "soft_file, matrix_file = geo_get_relevant_filepaths(cohort_dir)\n",
    "\n",
    "# 2. Read the matrix file to obtain background information and sample characteristics data\n",
    "background_prefixes = ['!Series_title', '!Series_summary', '!Series_overall_design']\n",
    "clinical_prefixes = ['!Sample_geo_accession', '!Sample_characteristics_ch1']\n",
    "background_info, clinical_data = get_background_and_clinical_data(matrix_file, background_prefixes, clinical_prefixes)\n",
    "\n",
    "# 3. Obtain the sample characteristics dictionary from the clinical dataframe\n",
    "sample_characteristics_dict = get_unique_values_by_row(clinical_data)\n",
    "\n",
    "# 4. Explicitly print out all the background information and the sample characteristics dictionary\n",
    "print(\"Background Information:\")\n",
    "print(background_info)\n",
    "print(\"Sample Characteristics Dictionary:\")\n",
    "print(sample_characteristics_dict)\n"
   ]
  },
  {
   "cell_type": "markdown",
   "id": "b5e160fe",
   "metadata": {},
   "source": [
    "### Step 2: Dataset Analysis and Clinical Feature Extraction"
   ]
  },
  {
   "cell_type": "code",
   "execution_count": 3,
   "id": "fa1938c8",
   "metadata": {
    "execution": {
     "iopub.execute_input": "2024-06-12T08:34:49.599812Z",
     "iopub.status.busy": "2024-06-12T08:34:49.599671Z",
     "iopub.status.idle": "2024-06-12T08:34:49.608615Z",
     "shell.execute_reply": "2024-06-12T08:34:49.608312Z"
    }
   },
   "outputs": [
    {
     "name": "stdout",
     "output_type": "stream",
     "text": [
      "A new JSON file was created at: ./preprocessed/Testicular_Cancer/cohort_info.json\n",
      "{'GSM1438703': [None], 'GSM1438704': [None], 'GSM1438705': [None], 'GSM1438706': [None], 'GSM1438707': [None], 'GSM1438708': [None], 'GSM1438709': [None], 'GSM1438710': [None], 'GSM1438711': [1], 'GSM1438712': [1], 'GSM1438713': [1], 'GSM1438714': [1], 'GSM1438715': [1], 'GSM1438716': [1], 'GSM1438717': [1], 'GSM1438718': [1], 'GSM1438719': [1], 'GSM1438720': [1], 'GSM1438721': [1], 'GSM1438722': [1], 'GSM1438723': [1], 'GSM1438724': [1], 'GSM1438725': [1], 'GSM1438726': [1], 'GSM1438727': [1], 'GSM1438728': [1], 'GSM1438729': [1], 'GSM1438730': [1], 'GSM1438731': [1], 'GSM1438732': [1], 'GSM1438733': [1], 'GSM1438734': [1], 'GSM1438735': [0], 'GSM1438736': [0], 'GSM1438737': [0]}\n"
     ]
    }
   ],
   "source": [
    "is_gene_available = False\n",
    "trait_row = age_row = gender_row = None  # set to different values when applicable\n",
    "convert_trait = convert_age = convert_gender = None  # define the functions when applicable\n",
    "\n",
    "# Define background info properly\n",
    "background_info = {\n",
    "    \"!Series_title\": \"Identification of known and novel germ cell cancer specific (embryonic) miRs in serum by high throughput profiling\",\n",
    "    \"!Series_summary\": \"Very recently, a number of independent studies showed that serum levels of embryonic micro-RNA (miR) clusters 371-3 and 302abc/367 are predictive for the presence of testicular type II germ cell tumors...\",\n",
    "    \"!Series_overall_design\": \"35 serum samples were profiled for ca. 750 micro RNAs. These consisted of serum from 10 patients with non-seminomas (2 YS, 2 TE, 2 EC and 4 mixed NS which all contained EC) and 14 SE cases...\"\n",
    "}\n",
    "\n",
    "# Checking dataset type from background information\n",
    "if \"miR\" in background_info['!Series_summary']:\n",
    "    is_gene_available = False\n",
    "else:\n",
    "    is_gene_available = True\n",
    "\n",
    "# Checking availability and the key for trait 'Testicular_Cancer'\n",
    "sample_char_dict = {\n",
    "    0: ['sample type: serum from patient with epidermoid cyst', 'sample type: serum from patient with epidermis cyst', \n",
    "        'sample type: serum from patient with low grade liposarcoma', 'sample type: serum from patient with neuro endocrine tumor', \n",
    "        'sample type: serum from patient with paratesticular hemorrhage', 'sample type: serum from patient with yolk sac tumor', \n",
    "        'sample type: serum from patient with teratoma', 'sample type: serum from patient with embryonal carcinoma', \n",
    "        'sample type: serum from patient with embryonal carcinoma + yolk sac tumor', \n",
    "        'sample type: serum from patient with embryonal carcinoma + teratoma', \n",
    "        'sample type: serum from patient with seminoma', \n",
    "        'sample type: serum from normal adult testis tissue with adequate spermatogenesis (johnson score 8-10)']\n",
    "}\n",
    "\n",
    "trait_row = None\n",
    "for key, values in sample_char_dict.items():\n",
    "    if any('testis tissue' in value for value in values):  # Example to refine checking\n",
    "        trait_row = key\n",
    "        break\n",
    "\n",
    "# Checking availability for 'Age' and 'Gender' (keys not found in sample characteristics)\n",
    "age_row = None\n",
    "gender_row = None\n",
    "\n",
    "# Data type conversion functions\n",
    "def convert_trait(value):\n",
    "    if 'embryonal carcinoma' in value or 'yolk sac tumor' in value or 'teratoma' in value or 'seminoma' in value:\n",
    "        return 1\n",
    "    elif 'normal adult testis tissue' in value:\n",
    "        return 0\n",
    "    else:\n",
    "        return None\n",
    "\n",
    "def convert_age(value):\n",
    "    return None  # Age not available\n",
    "\n",
    "def convert_gender(value):\n",
    "    return None  # Gender not available\n",
    "\n",
    "# Save cohort info\n",
    "save_cohort_info('GSE59520', './preprocessed/Testicular_Cancer/cohort_info.json', is_gene_available, trait_row is not None)\n",
    "\n",
    "# Extract and save clinical features if trait data is available\n",
    "if trait_row is not None:\n",
    "    selected_clinical_data = geo_select_clinical_features(clinical_data, 'Testicular_Cancer', trait_row, convert_trait, age_row, convert_age, gender_row, convert_gender)\n",
    "    csv_path = './preprocessed/Testicular_Cancer/trait_data/GSE59520.csv'\n",
    "    selected_clinical_data.to_csv(csv_path)\n",
    "    print(preview_df(selected_clinical_data))\n"
   ]
  }
 ],
 "metadata": {
  "language_info": {
   "codemirror_mode": {
    "name": "ipython",
    "version": 3
   },
   "file_extension": ".py",
   "mimetype": "text/x-python",
   "name": "python",
   "nbconvert_exporter": "python",
   "pygments_lexer": "ipython3",
   "version": "3.8.17"
  }
 },
 "nbformat": 4,
 "nbformat_minor": 5
}
