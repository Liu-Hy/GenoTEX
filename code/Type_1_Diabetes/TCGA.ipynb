{
 "cells": [
  {
   "cell_type": "code",
   "execution_count": 1,
   "id": "23b27520",
   "metadata": {
    "execution": {
     "iopub.execute_input": "2025-03-25T04:17:11.855259Z",
     "iopub.status.busy": "2025-03-25T04:17:11.855149Z",
     "iopub.status.idle": "2025-03-25T04:17:12.021338Z",
     "shell.execute_reply": "2025-03-25T04:17:12.020974Z"
    }
   },
   "outputs": [],
   "source": [
    "import sys\n",
    "import os\n",
    "sys.path.append(os.path.abspath(os.path.join(os.getcwd(), '../..')))\n",
    "\n",
    "# Path Configuration\n",
    "from tools.preprocess import *\n",
    "\n",
    "# Processing context\n",
    "trait = \"Type_1_Diabetes\"\n",
    "\n",
    "# Input paths\n",
    "tcga_root_dir = \"../../input/TCGA\"\n",
    "\n",
    "# Output paths\n",
    "out_data_file = \"../../output/preprocess/Type_1_Diabetes/TCGA.csv\"\n",
    "out_gene_data_file = \"../../output/preprocess/Type_1_Diabetes/gene_data/TCGA.csv\"\n",
    "out_clinical_data_file = \"../../output/preprocess/Type_1_Diabetes/clinical_data/TCGA.csv\"\n",
    "json_path = \"../../output/preprocess/Type_1_Diabetes/cohort_info.json\"\n"
   ]
  },
  {
   "cell_type": "markdown",
   "id": "a5c6fc8e",
   "metadata": {},
   "source": [
    "### Step 1: Initial Data Loading"
   ]
  },
  {
   "cell_type": "code",
   "execution_count": 2,
   "id": "1e7b6881",
   "metadata": {
    "execution": {
     "iopub.execute_input": "2025-03-25T04:17:12.022768Z",
     "iopub.status.busy": "2025-03-25T04:17:12.022629Z",
     "iopub.status.idle": "2025-03-25T04:17:12.028029Z",
     "shell.execute_reply": "2025-03-25T04:17:12.027738Z"
    }
   },
   "outputs": [
    {
     "name": "stdout",
     "output_type": "stream",
     "text": [
      "Looking for a relevant cohort directory for Type_1_Diabetes...\n",
      "Available cohorts: ['TCGA_Liver_Cancer_(LIHC)', 'TCGA_Lower_Grade_Glioma_(LGG)', 'TCGA_lower_grade_glioma_and_glioblastoma_(GBMLGG)', 'TCGA_Lung_Adenocarcinoma_(LUAD)', 'TCGA_Lung_Cancer_(LUNG)', 'TCGA_Lung_Squamous_Cell_Carcinoma_(LUSC)', 'TCGA_Melanoma_(SKCM)', 'TCGA_Mesothelioma_(MESO)', 'TCGA_Ocular_melanomas_(UVM)', 'TCGA_Ovarian_Cancer_(OV)', 'TCGA_Pancreatic_Cancer_(PAAD)', 'TCGA_Pheochromocytoma_Paraganglioma_(PCPG)', 'TCGA_Prostate_Cancer_(PRAD)', 'TCGA_Rectal_Cancer_(READ)', 'TCGA_Sarcoma_(SARC)', 'TCGA_Stomach_Cancer_(STAD)', 'TCGA_Testicular_Cancer_(TGCT)', 'TCGA_Thymoma_(THYM)', 'TCGA_Thyroid_Cancer_(THCA)', 'TCGA_Uterine_Carcinosarcoma_(UCS)', '.DS_Store', 'CrawlData.ipynb', 'TCGA_Acute_Myeloid_Leukemia_(LAML)', 'TCGA_Adrenocortical_Cancer_(ACC)', 'TCGA_Bile_Duct_Cancer_(CHOL)', 'TCGA_Bladder_Cancer_(BLCA)', 'TCGA_Breast_Cancer_(BRCA)', 'TCGA_Cervical_Cancer_(CESC)', 'TCGA_Colon_and_Rectal_Cancer_(COADREAD)', 'TCGA_Colon_Cancer_(COAD)', 'TCGA_Endometrioid_Cancer_(UCEC)', 'TCGA_Esophageal_Cancer_(ESCA)', 'TCGA_Glioblastoma_(GBM)', 'TCGA_Head_and_Neck_Cancer_(HNSC)', 'TCGA_Kidney_Chromophobe_(KICH)', 'TCGA_Kidney_Clear_Cell_Carcinoma_(KIRC)', 'TCGA_Kidney_Papillary_Cell_Carcinoma_(KIRP)', 'TCGA_Large_Bcell_Lymphoma_(DLBC)']\n",
      "No suitable directory found for Type_1_Diabetes. This is an autoimmune condition, not a cancer type.\n",
      "TCGA dataset contains cancer cohorts, which are not relevant for this trait.\n",
      "Skipping this trait and marking the task as completed.\n"
     ]
    },
    {
     "data": {
      "text/plain": [
       "False"
      ]
     },
     "execution_count": 2,
     "metadata": {},
     "output_type": "execute_result"
    }
   ],
   "source": [
    "import os\n",
    "\n",
    "# Check if there's a suitable cohort directory for Psoriatic Arthritis\n",
    "print(f\"Looking for a relevant cohort directory for {trait}...\")\n",
    "\n",
    "# Check available cohorts\n",
    "available_dirs = os.listdir(tcga_root_dir)\n",
    "print(f\"Available cohorts: {available_dirs}\")\n",
    "\n",
    "# Psoriatic arthritis is an autoimmune inflammatory condition that affects both joints and skin\n",
    "# The TCGA dataset is focused on cancer cohorts, not autoimmune conditions\n",
    "# After reviewing the available directories, there is no appropriate match for psoriatic arthritis\n",
    "\n",
    "print(f\"No suitable directory found for {trait}. This is an autoimmune condition, not a cancer type.\")\n",
    "print(\"TCGA dataset contains cancer cohorts, which are not relevant for this trait.\")\n",
    "print(\"Skipping this trait and marking the task as completed.\")\n",
    "\n",
    "# Mark the task as completed by recording the unavailability in the cohort_info.json file\n",
    "validate_and_save_cohort_info(\n",
    "    is_final=False,\n",
    "    cohort=\"TCGA\",\n",
    "    info_path=json_path,\n",
    "    is_gene_available=False,\n",
    "    is_trait_available=False\n",
    ")\n"
   ]
  },
  {
   "cell_type": "markdown",
   "id": "2e8d9806",
   "metadata": {},
   "source": [
    "### Step 2: Initial Data Loading"
   ]
  },
  {
   "cell_type": "code",
   "execution_count": 3,
   "id": "7910dc91",
   "metadata": {
    "execution": {
     "iopub.execute_input": "2025-03-25T04:17:12.029020Z",
     "iopub.status.busy": "2025-03-25T04:17:12.028909Z",
     "iopub.status.idle": "2025-03-25T04:17:12.032459Z",
     "shell.execute_reply": "2025-03-25T04:17:12.032178Z"
    }
   },
   "outputs": [
    {
     "name": "stdout",
     "output_type": "stream",
     "text": [
      "Looking for a relevant cohort directory for Type_1_Diabetes...\n",
      "Available cohorts: ['TCGA_Liver_Cancer_(LIHC)', 'TCGA_Lower_Grade_Glioma_(LGG)', 'TCGA_lower_grade_glioma_and_glioblastoma_(GBMLGG)', 'TCGA_Lung_Adenocarcinoma_(LUAD)', 'TCGA_Lung_Cancer_(LUNG)', 'TCGA_Lung_Squamous_Cell_Carcinoma_(LUSC)', 'TCGA_Melanoma_(SKCM)', 'TCGA_Mesothelioma_(MESO)', 'TCGA_Ocular_melanomas_(UVM)', 'TCGA_Ovarian_Cancer_(OV)', 'TCGA_Pancreatic_Cancer_(PAAD)', 'TCGA_Pheochromocytoma_Paraganglioma_(PCPG)', 'TCGA_Prostate_Cancer_(PRAD)', 'TCGA_Rectal_Cancer_(READ)', 'TCGA_Sarcoma_(SARC)', 'TCGA_Stomach_Cancer_(STAD)', 'TCGA_Testicular_Cancer_(TGCT)', 'TCGA_Thymoma_(THYM)', 'TCGA_Thyroid_Cancer_(THCA)', 'TCGA_Uterine_Carcinosarcoma_(UCS)', '.DS_Store', 'CrawlData.ipynb', 'TCGA_Acute_Myeloid_Leukemia_(LAML)', 'TCGA_Adrenocortical_Cancer_(ACC)', 'TCGA_Bile_Duct_Cancer_(CHOL)', 'TCGA_Bladder_Cancer_(BLCA)', 'TCGA_Breast_Cancer_(BRCA)', 'TCGA_Cervical_Cancer_(CESC)', 'TCGA_Colon_and_Rectal_Cancer_(COADREAD)', 'TCGA_Colon_Cancer_(COAD)', 'TCGA_Endometrioid_Cancer_(UCEC)', 'TCGA_Esophageal_Cancer_(ESCA)', 'TCGA_Glioblastoma_(GBM)', 'TCGA_Head_and_Neck_Cancer_(HNSC)', 'TCGA_Kidney_Chromophobe_(KICH)', 'TCGA_Kidney_Clear_Cell_Carcinoma_(KIRC)', 'TCGA_Kidney_Papillary_Cell_Carcinoma_(KIRP)', 'TCGA_Large_Bcell_Lymphoma_(DLBC)']\n",
      "No suitable directory found for Type_1_Diabetes. This is an autoimmune condition, not a cancer type.\n",
      "TCGA dataset contains cancer cohorts, which are not relevant for this trait.\n",
      "Skipping this trait and marking the task as completed.\n"
     ]
    },
    {
     "data": {
      "text/plain": [
       "False"
      ]
     },
     "execution_count": 3,
     "metadata": {},
     "output_type": "execute_result"
    }
   ],
   "source": [
    "import os\n",
    "\n",
    "# Check if there's a suitable cohort directory for Psoriatic Arthritis\n",
    "print(f\"Looking for a relevant cohort directory for {trait}...\")\n",
    "\n",
    "# Check available cohorts\n",
    "available_dirs = os.listdir(tcga_root_dir)\n",
    "print(f\"Available cohorts: {available_dirs}\")\n",
    "\n",
    "# Psoriatic arthritis is an autoimmune inflammatory condition that affects both joints and skin\n",
    "# The TCGA dataset is focused on cancer cohorts, not autoimmune conditions\n",
    "# After reviewing the available directories, there is no appropriate match for psoriatic arthritis\n",
    "\n",
    "print(f\"No suitable directory found for {trait}. This is an autoimmune condition, not a cancer type.\")\n",
    "print(\"TCGA dataset contains cancer cohorts, which are not relevant for this trait.\")\n",
    "print(\"Skipping this trait and marking the task as completed.\")\n",
    "\n",
    "# Mark the task as completed by recording the unavailability in the cohort_info.json file\n",
    "validate_and_save_cohort_info(\n",
    "    is_final=False,\n",
    "    cohort=\"TCGA\",\n",
    "    info_path=json_path,\n",
    "    is_gene_available=False,\n",
    "    is_trait_available=False\n",
    ")"
   ]
  }
 ],
 "metadata": {
  "language_info": {
   "codemirror_mode": {
    "name": "ipython",
    "version": 3
   },
   "file_extension": ".py",
   "mimetype": "text/x-python",
   "name": "python",
   "nbconvert_exporter": "python",
   "pygments_lexer": "ipython3",
   "version": "3.10.16"
  }
 },
 "nbformat": 4,
 "nbformat_minor": 5
}
