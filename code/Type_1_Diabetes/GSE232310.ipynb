{
 "cells": [
  {
   "cell_type": "code",
   "execution_count": 1,
   "id": "abf2be6f",
   "metadata": {
    "execution": {
     "iopub.execute_input": "2025-03-25T04:16:22.589347Z",
     "iopub.status.busy": "2025-03-25T04:16:22.589226Z",
     "iopub.status.idle": "2025-03-25T04:16:22.751472Z",
     "shell.execute_reply": "2025-03-25T04:16:22.751093Z"
    }
   },
   "outputs": [],
   "source": [
    "import sys\n",
    "import os\n",
    "sys.path.append(os.path.abspath(os.path.join(os.getcwd(), '../..')))\n",
    "\n",
    "# Path Configuration\n",
    "from tools.preprocess import *\n",
    "\n",
    "# Processing context\n",
    "trait = \"Type_1_Diabetes\"\n",
    "cohort = \"GSE232310\"\n",
    "\n",
    "# Input paths\n",
    "in_trait_dir = \"../../input/GEO/Type_1_Diabetes\"\n",
    "in_cohort_dir = \"../../input/GEO/Type_1_Diabetes/GSE232310\"\n",
    "\n",
    "# Output paths\n",
    "out_data_file = \"../../output/preprocess/Type_1_Diabetes/GSE232310.csv\"\n",
    "out_gene_data_file = \"../../output/preprocess/Type_1_Diabetes/gene_data/GSE232310.csv\"\n",
    "out_clinical_data_file = \"../../output/preprocess/Type_1_Diabetes/clinical_data/GSE232310.csv\"\n",
    "json_path = \"../../output/preprocess/Type_1_Diabetes/cohort_info.json\"\n"
   ]
  },
  {
   "cell_type": "markdown",
   "id": "a7239587",
   "metadata": {},
   "source": [
    "### Step 1: Initial Data Loading"
   ]
  },
  {
   "cell_type": "code",
   "execution_count": 2,
   "id": "8a41a380",
   "metadata": {
    "execution": {
     "iopub.execute_input": "2025-03-25T04:16:22.752732Z",
     "iopub.status.busy": "2025-03-25T04:16:22.752580Z",
     "iopub.status.idle": "2025-03-25T04:16:22.932689Z",
     "shell.execute_reply": "2025-03-25T04:16:22.932269Z"
    }
   },
   "outputs": [
    {
     "name": "stdout",
     "output_type": "stream",
     "text": [
      "Background Information:\n",
      "!Series_title\t\"Monocytes in Type 1 diabetes families exhibit high cytolytic activity and subset abundances that correlate with clinical progression\"\n",
      "!Series_summary\t\"Monocytes are immune regulators implicated in the pathogenesis of Type 1 diabetes (T1D), an autoimmune disease that targets the insulin-producing pancreatic β-cell.  We determined that monocytes of recent onset (RO) T1D patients and their healthy siblings express proinflammatory/cytolytic transcriptomes and hyper-secrete cytokines in response to lipopolysaccharide exposure compared to unrelated healthy controls (uHC).  Flow cytometry measured elevated circulating abundances of intermediate monocytes and >2-fold more CD14+CD16+HLADR+KLRD1+PRF1+ NK-like monocytes among ROT1D patients compared to uHC.  The intermediate to nonclassical monocyte ratio among ROT1D patients correlated with the decline in functional β-cell mass during the first 24 months post-onset.  Among sibling non-progressors, flow cytometry measured temporal decreases in the intermediate to nonclassical monocyte ratio and NK-like monocyte abundances; these changes coincided with increases in peripheral activated regulatory T-cells.  In contrast, these monocyte populations exhibited stability among T1D progressors.  This study associates heightened monocyte proinflammatory/cytolytic activity with T1D susceptibility and progression and offers insight to the age-dependent decline in T1D susceptibility.\"\n",
      "!Series_overall_design\t\"RNA was extracted from monocytes negatively selected from PBMC of 4 groups. 14 ROT1D samples were collected from subjects collected 2–7 months after diagnosis from subjects with histories of good glycemic control and possessed ≥1 autoantibody.  Healthy control subjects were free of known infection at sample collection and belonged to one of the following 3 groups: 1) 15 HRSs - autoantibody-negative siblings of probands with high-risk (DR3 and/or DR4) HLA genotypes (HRS); 2) 19 LRSs - autoantibody-negative siblings of probands with lower risk (non-DR3/DR4) HLA genotypes (LRS); and 3) 14 uHCs - possessing no family history of T1D (uHC).\"\n",
      "Sample Characteristics Dictionary:\n",
      "{0: ['tissue: PBMC'], 1: ['sampletype: uHC - unrelated healthy control', 'sampletype: HRS - high risk healthy sibling', 'sampletype: LRS - low risk healthy sibling', 'sampletype: ROT1D - recent onsite of T1D']}\n"
     ]
    }
   ],
   "source": [
    "from tools.preprocess import *\n",
    "# 1. Identify the paths to the SOFT file and the matrix file\n",
    "soft_file, matrix_file = geo_get_relevant_filepaths(in_cohort_dir)\n",
    "\n",
    "# 2. Read the matrix file to obtain background information and sample characteristics data\n",
    "background_prefixes = ['!Series_title', '!Series_summary', '!Series_overall_design']\n",
    "clinical_prefixes = ['!Sample_geo_accession', '!Sample_characteristics_ch1']\n",
    "background_info, clinical_data = get_background_and_clinical_data(matrix_file, background_prefixes, clinical_prefixes)\n",
    "\n",
    "# 3. Obtain the sample characteristics dictionary from the clinical dataframe\n",
    "sample_characteristics_dict = get_unique_values_by_row(clinical_data)\n",
    "\n",
    "# 4. Explicitly print out all the background information and the sample characteristics dictionary\n",
    "print(\"Background Information:\")\n",
    "print(background_info)\n",
    "print(\"Sample Characteristics Dictionary:\")\n",
    "print(sample_characteristics_dict)\n"
   ]
  },
  {
   "cell_type": "markdown",
   "id": "ccb5c16b",
   "metadata": {},
   "source": [
    "### Step 2: Dataset Analysis and Clinical Feature Extraction"
   ]
  },
  {
   "cell_type": "code",
   "execution_count": 3,
   "id": "6b42f87f",
   "metadata": {
    "execution": {
     "iopub.execute_input": "2025-03-25T04:16:22.933744Z",
     "iopub.status.busy": "2025-03-25T04:16:22.933631Z",
     "iopub.status.idle": "2025-03-25T04:16:22.943184Z",
     "shell.execute_reply": "2025-03-25T04:16:22.942795Z"
    }
   },
   "outputs": [
    {
     "name": "stdout",
     "output_type": "stream",
     "text": [
      "Preview of extracted clinical features:\n",
      "{'GSM7325164': [0.0], 'GSM7325165': [0.0], 'GSM7325166': [0.0], 'GSM7325167': [0.0], 'GSM7325168': [0.0], 'GSM7325169': [0.0], 'GSM7325170': [0.0], 'GSM7325171': [0.0], 'GSM7325172': [0.0], 'GSM7325173': [0.0], 'GSM7325174': [0.0], 'GSM7325175': [0.0], 'GSM7325176': [0.0], 'GSM7325177': [0.0], 'GSM7325178': [0.0], 'GSM7325179': [0.0], 'GSM7325180': [0.0], 'GSM7325181': [0.0], 'GSM7325182': [0.0], 'GSM7325183': [0.0], 'GSM7325184': [0.0], 'GSM7325185': [0.0], 'GSM7325186': [0.0], 'GSM7325187': [0.0], 'GSM7325188': [0.0], 'GSM7325189': [0.0], 'GSM7325190': [0.0], 'GSM7325191': [0.0], 'GSM7325192': [0.0], 'GSM7325193': [0.0], 'GSM7325194': [0.0], 'GSM7325195': [0.0], 'GSM7325196': [0.0], 'GSM7325197': [0.0], 'GSM7325198': [0.0], 'GSM7325199': [0.0], 'GSM7325200': [0.0], 'GSM7325201': [0.0], 'GSM7325202': [0.0], 'GSM7325203': [0.0], 'GSM7325204': [0.0], 'GSM7325205': [0.0], 'GSM7325206': [0.0], 'GSM7325207': [0.0], 'GSM7325208': [0.0], 'GSM7325209': [0.0], 'GSM7325210': [0.0], 'GSM7325211': [0.0], 'GSM7325212': [1.0], 'GSM7325213': [1.0], 'GSM7325214': [1.0], 'GSM7325215': [1.0], 'GSM7325216': [1.0], 'GSM7325217': [1.0], 'GSM7325218': [1.0], 'GSM7325219': [1.0], 'GSM7325220': [1.0], 'GSM7325221': [1.0], 'GSM7325222': [1.0], 'GSM7325223': [1.0], 'GSM7325224': [1.0], 'GSM7325225': [1.0]}\n",
      "Clinical data saved to: ../../output/preprocess/Type_1_Diabetes/clinical_data/GSE232310.csv\n"
     ]
    }
   ],
   "source": [
    "import pandas as pd\n",
    "import os\n",
    "import json\n",
    "from typing import Dict, Any, Optional, Callable\n",
    "\n",
    "# 1. Determine gene expression data availability\n",
    "# From the background information, we see this dataset contains RNA extracted from monocytes,\n",
    "# which suggests gene expression data, not just miRNA or methylation\n",
    "is_gene_available = True\n",
    "\n",
    "# 2. Variable availability and data type conversion\n",
    "# 2.1 Data Availability\n",
    "# From the sample characteristics dictionary, we need to identify the rows containing trait, age, and gender\n",
    "\n",
    "# For the trait (Type 1 Diabetes), the information is in row 1 under 'sampletype'\n",
    "trait_row = 1  # Contains T1D status information\n",
    "\n",
    "# Age is not available in the sample characteristics\n",
    "age_row = None  # No age information provided\n",
    "\n",
    "# Gender is not available in the sample characteristics\n",
    "gender_row = None  # No gender information provided\n",
    "\n",
    "# 2.2 Data Type Conversion\n",
    "def convert_trait(value: str) -> int:\n",
    "    \"\"\"\n",
    "    Convert trait value to binary format: 1 for T1D cases, 0 for controls.\n",
    "    \"\"\"\n",
    "    if not isinstance(value, str):\n",
    "        return None\n",
    "    \n",
    "    # Extract value after colon if present\n",
    "    if ':' in value:\n",
    "        value = value.split(':', 1)[1].strip()\n",
    "    \n",
    "    # Convert value based on sample type\n",
    "    if 'ROT1D' in value or 'recent onsite of T1D' in value:\n",
    "        return 1  # T1D case\n",
    "    elif any(control in value for control in ['uHC', 'HRS', 'LRS', 'healthy']):\n",
    "        return 0  # Control\n",
    "    else:\n",
    "        return None  # Unknown\n",
    "\n",
    "def convert_age(value: str) -> Optional[float]:\n",
    "    \"\"\"\n",
    "    Placeholder function since age data is not available.\n",
    "    \"\"\"\n",
    "    return None\n",
    "\n",
    "def convert_gender(value: str) -> Optional[int]:\n",
    "    \"\"\"\n",
    "    Placeholder function since gender data is not available.\n",
    "    \"\"\"\n",
    "    return None\n",
    "\n",
    "# 3. Save metadata - initial filtering on usability\n",
    "# Trait data is available since trait_row is not None\n",
    "is_trait_available = trait_row is not None\n",
    "\n",
    "validate_and_save_cohort_info(\n",
    "    is_final=False,\n",
    "    cohort=cohort,\n",
    "    info_path=json_path,\n",
    "    is_gene_available=is_gene_available,\n",
    "    is_trait_available=is_trait_available\n",
    ")\n",
    "\n",
    "# 4. Clinical Feature Extraction\n",
    "# Since trait_row is not None, we need to extract clinical features\n",
    "if trait_row is not None:\n",
    "    try:\n",
    "        # Assuming clinical_data is a variable available from previous steps\n",
    "        # (not trying to load from file as it doesn't exist)\n",
    "        selected_clinical_df = geo_select_clinical_features(\n",
    "            clinical_df=clinical_data,  # Using the variable directly from previous steps\n",
    "            trait=trait,\n",
    "            trait_row=trait_row,\n",
    "            convert_trait=convert_trait,\n",
    "            age_row=age_row,\n",
    "            convert_age=convert_age,\n",
    "            gender_row=gender_row,\n",
    "            convert_gender=convert_gender\n",
    "        )\n",
    "        \n",
    "        # Preview the extracted clinical features\n",
    "        preview = preview_df(selected_clinical_df)\n",
    "        print(\"Preview of extracted clinical features:\")\n",
    "        print(preview)\n",
    "        \n",
    "        # Ensure output directory exists\n",
    "        os.makedirs(os.path.dirname(out_clinical_data_file), exist_ok=True)\n",
    "        \n",
    "        # Save clinical data to CSV\n",
    "        selected_clinical_df.to_csv(out_clinical_data_file)\n",
    "        print(f\"Clinical data saved to: {out_clinical_data_file}\")\n",
    "    except Exception as e:\n",
    "        print(f\"Error processing clinical data: {e}\")\n",
    "        print(\"Unable to extract clinical features. Please ensure clinical_data variable is available.\")\n",
    "else:\n",
    "    print(\"Clinical data not available, skipping feature extraction.\")\n"
   ]
  },
  {
   "cell_type": "markdown",
   "id": "9366cafc",
   "metadata": {},
   "source": [
    "### Step 3: Gene Data Extraction"
   ]
  },
  {
   "cell_type": "code",
   "execution_count": 4,
   "id": "24eceee3",
   "metadata": {
    "execution": {
     "iopub.execute_input": "2025-03-25T04:16:22.944365Z",
     "iopub.status.busy": "2025-03-25T04:16:22.944254Z",
     "iopub.status.idle": "2025-03-25T04:16:23.219829Z",
     "shell.execute_reply": "2025-03-25T04:16:23.219185Z"
    }
   },
   "outputs": [
    {
     "name": "stdout",
     "output_type": "stream",
     "text": [
      "Matrix file found: ../../input/GEO/Type_1_Diabetes/GSE232310/GSE232310_series_matrix.txt.gz\n"
     ]
    },
    {
     "name": "stdout",
     "output_type": "stream",
     "text": [
      "Gene data shape: (54675, 62)\n",
      "First 20 gene/probe identifiers:\n",
      "Index(['1007_s_at', '1053_at', '117_at', '121_at', '1255_g_at', '1294_at',\n",
      "       '1316_at', '1320_at', '1405_i_at', '1431_at', '1438_at', '1487_at',\n",
      "       '1494_f_at', '1552256_a_at', '1552257_a_at', '1552258_at', '1552261_at',\n",
      "       '1552263_at', '1552264_a_at', '1552266_at'],\n",
      "      dtype='object', name='ID')\n"
     ]
    }
   ],
   "source": [
    "# 1. Get the SOFT and matrix file paths again \n",
    "soft_file, matrix_file = geo_get_relevant_filepaths(in_cohort_dir)\n",
    "print(f\"Matrix file found: {matrix_file}\")\n",
    "\n",
    "# 2. Use the get_genetic_data function from the library to get the gene_data\n",
    "try:\n",
    "    gene_data = get_genetic_data(matrix_file)\n",
    "    print(f\"Gene data shape: {gene_data.shape}\")\n",
    "    \n",
    "    # 3. Print the first 20 row IDs (gene or probe identifiers)\n",
    "    print(\"First 20 gene/probe identifiers:\")\n",
    "    print(gene_data.index[:20])\n",
    "except Exception as e:\n",
    "    print(f\"Error extracting gene data: {e}\")\n"
   ]
  },
  {
   "cell_type": "markdown",
   "id": "646928e7",
   "metadata": {},
   "source": [
    "### Step 4: Gene Identifier Review"
   ]
  },
  {
   "cell_type": "code",
   "execution_count": 5,
   "id": "becb72b4",
   "metadata": {
    "execution": {
     "iopub.execute_input": "2025-03-25T04:16:23.221725Z",
     "iopub.status.busy": "2025-03-25T04:16:23.221594Z",
     "iopub.status.idle": "2025-03-25T04:16:23.223931Z",
     "shell.execute_reply": "2025-03-25T04:16:23.223496Z"
    }
   },
   "outputs": [],
   "source": [
    "# Reviewing the gene identifiers in the gene expression data\n",
    "# These identifiers (e.g., '1007_s_at', '1053_at') appear to be Affymetrix probe IDs, not human gene symbols\n",
    "# Affymetrix probe IDs typically follow this pattern with underscores and '_at' suffixes\n",
    "# These need to be mapped to standard human gene symbols for analysis\n",
    "\n",
    "requires_gene_mapping = True\n"
   ]
  },
  {
   "cell_type": "markdown",
   "id": "04b78748",
   "metadata": {},
   "source": [
    "### Step 5: Gene Annotation"
   ]
  },
  {
   "cell_type": "code",
   "execution_count": 6,
   "id": "64c94f9e",
   "metadata": {
    "execution": {
     "iopub.execute_input": "2025-03-25T04:16:23.225666Z",
     "iopub.status.busy": "2025-03-25T04:16:23.225551Z",
     "iopub.status.idle": "2025-03-25T04:16:31.729897Z",
     "shell.execute_reply": "2025-03-25T04:16:31.729528Z"
    }
   },
   "outputs": [
    {
     "name": "stdout",
     "output_type": "stream",
     "text": [
      "Platform title found: [HG-U133_Plus_2] Affymetrix Human Genome U133 Plus 2.0 Array\n"
     ]
    },
    {
     "name": "stdout",
     "output_type": "stream",
     "text": [
      "\n",
      "Gene annotation preview:\n",
      "{'ID': ['1007_s_at', '1053_at', '117_at', '121_at', '1255_g_at', '1294_at', '1316_at', '1320_at', '1405_i_at', '1431_at'], 'GB_ACC': ['U48705', 'M87338', 'X51757', 'X69699', 'L36861', 'L13852', 'X55005', 'X79510', 'M21121', 'J02843'], 'SPOT_ID': [nan, nan, nan, nan, nan, nan, nan, nan, nan, nan], 'Species Scientific Name': ['Homo sapiens', 'Homo sapiens', 'Homo sapiens', 'Homo sapiens', 'Homo sapiens', 'Homo sapiens', 'Homo sapiens', 'Homo sapiens', 'Homo sapiens', 'Homo sapiens'], 'Annotation Date': ['Oct 6, 2014', 'Oct 6, 2014', 'Oct 6, 2014', 'Oct 6, 2014', 'Oct 6, 2014', 'Oct 6, 2014', 'Oct 6, 2014', 'Oct 6, 2014', 'Oct 6, 2014', 'Oct 6, 2014'], 'Sequence Type': ['Exemplar sequence', 'Exemplar sequence', 'Exemplar sequence', 'Exemplar sequence', 'Exemplar sequence', 'Exemplar sequence', 'Exemplar sequence', 'Exemplar sequence', 'Exemplar sequence', 'Exemplar sequence'], 'Sequence Source': ['Affymetrix Proprietary Database', 'GenBank', 'Affymetrix Proprietary Database', 'GenBank', 'Affymetrix Proprietary Database', 'GenBank', 'Affymetrix Proprietary Database', 'Affymetrix Proprietary Database', 'GenBank', 'Affymetrix Proprietary Database'], 'Target Description': ['U48705 /FEATURE=mRNA /DEFINITION=HSU48705 Human receptor tyrosine kinase DDR gene, complete cds', 'M87338 /FEATURE= /DEFINITION=HUMA1SBU Human replication factor C, 40-kDa subunit (A1) mRNA, complete cds', \"X51757 /FEATURE=cds /DEFINITION=HSP70B Human heat-shock protein HSP70B' gene\", 'X69699 /FEATURE= /DEFINITION=HSPAX8A H.sapiens Pax8 mRNA', 'L36861 /FEATURE=expanded_cds /DEFINITION=HUMGCAPB Homo sapiens guanylate cyclase activating protein (GCAP) gene exons 1-4, complete cds', 'L13852 /FEATURE= /DEFINITION=HUME1URP Homo sapiens ubiquitin-activating enzyme E1 related protein mRNA, complete cds', 'X55005 /FEATURE=mRNA /DEFINITION=HSCERBAR Homo sapiens mRNA for thyroid hormone receptor alpha 1 THRA1, (c-erbA-1 gene)', 'X79510 /FEATURE=cds /DEFINITION=HSPTPD1 H.sapiens mRNA for protein-tyrosine-phosphatase D1', 'M21121 /FEATURE= /DEFINITION=HUMTCSM Human T cell-specific protein (RANTES) mRNA, complete cds', 'J02843 /FEATURE=cds /DEFINITION=HUMCYPIIE Human cytochrome P450IIE1 (ethanol-inducible) gene, complete cds'], 'Representative Public ID': ['U48705', 'M87338', 'X51757', 'X69699', 'L36861', 'L13852', 'X55005', 'X79510', 'M21121', 'J02843'], 'Gene Title': ['discoidin domain receptor tyrosine kinase 1 /// microRNA 4640', 'replication factor C (activator 1) 2, 40kDa', \"heat shock 70kDa protein 6 (HSP70B')\", 'paired box 8', 'guanylate cyclase activator 1A (retina)', 'microRNA 5193 /// ubiquitin-like modifier activating enzyme 7', 'thyroid hormone receptor, alpha', 'protein tyrosine phosphatase, non-receptor type 21', 'chemokine (C-C motif) ligand 5', 'cytochrome P450, family 2, subfamily E, polypeptide 1'], 'Gene Symbol': ['DDR1 /// MIR4640', 'RFC2', 'HSPA6', 'PAX8', 'GUCA1A', 'MIR5193 /// UBA7', 'THRA', 'PTPN21', 'CCL5', 'CYP2E1'], 'ENTREZ_GENE_ID': ['780 /// 100616237', '5982', '3310', '7849', '2978', '7318 /// 100847079', '7067', '11099', '6352', '1571'], 'RefSeq Transcript ID': ['NM_001202521 /// NM_001202522 /// NM_001202523 /// NM_001954 /// NM_013993 /// NM_013994 /// NR_039783 /// XM_005249385 /// XM_005249386 /// XM_005249387 /// XM_005249389 /// XM_005272873 /// XM_005272874 /// XM_005272875 /// XM_005272877 /// XM_005275027 /// XM_005275028 /// XM_005275030 /// XM_005275031 /// XM_005275162 /// XM_005275163 /// XM_005275164 /// XM_005275166 /// XM_005275457 /// XM_005275458 /// XM_005275459 /// XM_005275461 /// XM_006715185 /// XM_006715186 /// XM_006715187 /// XM_006715188 /// XM_006715189 /// XM_006715190 /// XM_006725501 /// XM_006725502 /// XM_006725503 /// XM_006725504 /// XM_006725505 /// XM_006725506 /// XM_006725714 /// XM_006725715 /// XM_006725716 /// XM_006725717 /// XM_006725718 /// XM_006725719 /// XM_006725720 /// XM_006725721 /// XM_006725722 /// XM_006725827 /// XM_006725828 /// XM_006725829 /// XM_006725830 /// XM_006725831 /// XM_006725832 /// XM_006726017 /// XM_006726018 /// XM_006726019 /// XM_006726020 /// XM_006726021 /// XM_006726022 /// XR_427836 /// XR_430858 /// XR_430938 /// XR_430974 /// XR_431015', 'NM_001278791 /// NM_001278792 /// NM_001278793 /// NM_002914 /// NM_181471 /// XM_006716080', 'NM_002155', 'NM_003466 /// NM_013951 /// NM_013952 /// NM_013953 /// NM_013992', 'NM_000409 /// XM_006715073', 'NM_003335 /// NR_049825 /// XM_005265430 /// XM_006713321', 'NM_001190918 /// NM_001190919 /// NM_003250 /// NM_199334', 'NM_007039 /// XM_005267287 /// XM_006720011', 'NM_001278736 /// NM_002985', 'NM_000773'], 'Gene Ontology Biological Process': ['0001558 // regulation of cell growth // inferred from electronic annotation /// 0001952 // regulation of cell-matrix adhesion // inferred from electronic annotation /// 0006468 // protein phosphorylation // inferred from electronic annotation /// 0007155 // cell adhesion // traceable author statement /// 0007169 // transmembrane receptor protein tyrosine kinase signaling pathway // inferred from electronic annotation /// 0007565 // female pregnancy // inferred from electronic annotation /// 0007566 // embryo implantation // inferred from electronic annotation /// 0007595 // lactation // inferred from electronic annotation /// 0008285 // negative regulation of cell proliferation // inferred from electronic annotation /// 0010715 // regulation of extracellular matrix disassembly // inferred from mutant phenotype /// 0014909 // smooth muscle cell migration // inferred from mutant phenotype /// 0016310 // phosphorylation // inferred from electronic annotation /// 0018108 // peptidyl-tyrosine phosphorylation // inferred from electronic annotation /// 0030198 // extracellular matrix organization // traceable author statement /// 0038063 // collagen-activated tyrosine kinase receptor signaling pathway // inferred from direct assay /// 0038063 // collagen-activated tyrosine kinase receptor signaling pathway // inferred from mutant phenotype /// 0038083 // peptidyl-tyrosine autophosphorylation // inferred from direct assay /// 0043583 // ear development // inferred from electronic annotation /// 0044319 // wound healing, spreading of cells // inferred from mutant phenotype /// 0046777 // protein autophosphorylation // inferred from direct assay /// 0060444 // branching involved in mammary gland duct morphogenesis // inferred from electronic annotation /// 0060749 // mammary gland alveolus development // inferred from electronic annotation /// 0061302 // smooth muscle cell-matrix adhesion // inferred from mutant phenotype', '0000278 // mitotic cell cycle // traceable author statement /// 0000722 // telomere maintenance via recombination // traceable author statement /// 0000723 // telomere maintenance // traceable author statement /// 0006260 // DNA replication // traceable author statement /// 0006271 // DNA strand elongation involved in DNA replication // traceable author statement /// 0006281 // DNA repair // traceable author statement /// 0006283 // transcription-coupled nucleotide-excision repair // traceable author statement /// 0006289 // nucleotide-excision repair // traceable author statement /// 0006297 // nucleotide-excision repair, DNA gap filling // traceable author statement /// 0015979 // photosynthesis // inferred from electronic annotation /// 0015995 // chlorophyll biosynthetic process // inferred from electronic annotation /// 0032201 // telomere maintenance via semi-conservative replication // traceable author statement', '0000902 // cell morphogenesis // inferred from electronic annotation /// 0006200 // ATP catabolic process // inferred from direct assay /// 0006950 // response to stress // inferred from electronic annotation /// 0006986 // response to unfolded protein // traceable author statement /// 0034605 // cellular response to heat // inferred from direct assay /// 0042026 // protein refolding // inferred from direct assay /// 0070370 // cellular heat acclimation // inferred from mutant phenotype', '0001655 // urogenital system development // inferred from sequence or structural similarity /// 0001656 // metanephros development // inferred from electronic annotation /// 0001658 // branching involved in ureteric bud morphogenesis // inferred from expression pattern /// 0001822 // kidney development // inferred from expression pattern /// 0001823 // mesonephros development // inferred from sequence or structural similarity /// 0003337 // mesenchymal to epithelial transition involved in metanephros morphogenesis // inferred from expression pattern /// 0006351 // transcription, DNA-templated // inferred from direct assay /// 0006355 // regulation of transcription, DNA-templated // inferred from electronic annotation /// 0007275 // multicellular organismal development // inferred from electronic annotation /// 0007417 // central nervous system development // inferred from expression pattern /// 0009653 // anatomical structure morphogenesis // traceable author statement /// 0030154 // cell differentiation // inferred from electronic annotation /// 0030878 // thyroid gland development // inferred from expression pattern /// 0030878 // thyroid gland development // inferred from mutant phenotype /// 0038194 // thyroid-stimulating hormone signaling pathway // traceable author statement /// 0039003 // pronephric field specification // inferred from sequence or structural similarity /// 0042472 // inner ear morphogenesis // inferred from sequence or structural similarity /// 0042981 // regulation of apoptotic process // inferred from sequence or structural similarity /// 0045893 // positive regulation of transcription, DNA-templated // inferred from direct assay /// 0045893 // positive regulation of transcription, DNA-templated // inferred from sequence or structural similarity /// 0045944 // positive regulation of transcription from RNA polymerase II promoter // inferred from direct assay /// 0048793 // pronephros development // inferred from sequence or structural similarity /// 0071371 // cellular response to gonadotropin stimulus // inferred from direct assay /// 0071599 // otic vesicle development // inferred from expression pattern /// 0072050 // S-shaped body morphogenesis // inferred from electronic annotation /// 0072073 // kidney epithelium development // inferred from electronic annotation /// 0072108 // positive regulation of mesenchymal to epithelial transition involved in metanephros morphogenesis // inferred from sequence or structural similarity /// 0072164 // mesonephric tubule development // inferred from electronic annotation /// 0072207 // metanephric epithelium development // inferred from expression pattern /// 0072221 // metanephric distal convoluted tubule development // inferred from sequence or structural similarity /// 0072278 // metanephric comma-shaped body morphogenesis // inferred from expression pattern /// 0072284 // metanephric S-shaped body morphogenesis // inferred from expression pattern /// 0072289 // metanephric nephron tubule formation // inferred from sequence or structural similarity /// 0072305 // negative regulation of mesenchymal cell apoptotic process involved in metanephric nephron morphogenesis // inferred from sequence or structural similarity /// 0072307 // regulation of metanephric nephron tubule epithelial cell differentiation // inferred from sequence or structural similarity /// 0090190 // positive regulation of branching involved in ureteric bud morphogenesis // inferred from sequence or structural similarity /// 1900212 // negative regulation of mesenchymal cell apoptotic process involved in metanephros development // inferred from sequence or structural similarity /// 1900215 // negative regulation of apoptotic process involved in metanephric collecting duct development // inferred from sequence or structural similarity /// 1900218 // negative regulation of apoptotic process involved in metanephric nephron tubule development // inferred from sequence or structural similarity /// 2000594 // positive regulation of metanephric DCT cell differentiation // inferred from sequence or structural similarity /// 2000611 // positive regulation of thyroid hormone generation // inferred from mutant phenotype /// 2000612 // regulation of thyroid-stimulating hormone secretion // inferred from mutant phenotype', '0007165 // signal transduction // non-traceable author statement /// 0007601 // visual perception // inferred from electronic annotation /// 0007602 // phototransduction // inferred from electronic annotation /// 0007603 // phototransduction, visible light // traceable author statement /// 0016056 // rhodopsin mediated signaling pathway // traceable author statement /// 0022400 // regulation of rhodopsin mediated signaling pathway // traceable author statement /// 0030828 // positive regulation of cGMP biosynthetic process // inferred from electronic annotation /// 0031282 // regulation of guanylate cyclase activity // inferred from electronic annotation /// 0031284 // positive regulation of guanylate cyclase activity // inferred from electronic annotation /// 0050896 // response to stimulus // inferred from electronic annotation', '0006464 // cellular protein modification process // inferred from direct assay /// 0016567 // protein ubiquitination // not recorded /// 0016567 // protein ubiquitination // inferred from electronic annotation /// 0019221 // cytokine-mediated signaling pathway // traceable author statement /// 0019941 // modification-dependent protein catabolic process // not recorded /// 0032020 // ISG15-protein conjugation // inferred from direct assay /// 0032480 // negative regulation of type I interferon production // traceable author statement /// 0045087 // innate immune response // traceable author statement', '0000122 // negative regulation of transcription from RNA polymerase II promoter // inferred from direct assay /// 0000122 // negative regulation of transcription from RNA polymerase II promoter // inferred from mutant phenotype /// 0001502 // cartilage condensation // inferred from electronic annotation /// 0001503 // ossification // inferred from electronic annotation /// 0002155 // regulation of thyroid hormone mediated signaling pathway // inferred from electronic annotation /// 0005978 // glycogen biosynthetic process // inferred from sequence or structural similarity /// 0006351 // transcription, DNA-templated // inferred from electronic annotation /// 0006355 // regulation of transcription, DNA-templated // inferred from electronic annotation /// 0006357 // regulation of transcription from RNA polymerase II promoter // inferred from direct assay /// 0006366 // transcription from RNA polymerase II promoter // inferred from direct assay /// 0006367 // transcription initiation from RNA polymerase II promoter // traceable author statement /// 0007611 // learning or memory // inferred from electronic annotation /// 0007623 // circadian rhythm // inferred from electronic annotation /// 0008016 // regulation of heart contraction // inferred from electronic annotation /// 0008050 // female courtship behavior // inferred from electronic annotation /// 0009409 // response to cold // inferred from electronic annotation /// 0009755 // hormone-mediated signaling pathway // inferred from direct assay /// 0009887 // organ morphogenesis // inferred from electronic annotation /// 0010467 // gene expression // traceable author statement /// 0010498 // proteasomal protein catabolic process // inferred from sequence or structural similarity /// 0010831 // positive regulation of myotube differentiation // inferred from electronic annotation /// 0010871 // negative regulation of receptor biosynthetic process // inferred from mutant phenotype /// 0017055 // negative regulation of RNA polymerase II transcriptional preinitiation complex assembly // inferred from direct assay /// 0019216 // regulation of lipid metabolic process // inferred from sequence or structural similarity /// 0030154 // cell differentiation // inferred from electronic annotation /// 0030218 // erythrocyte differentiation // inferred from electronic annotation /// 0030522 // intracellular receptor signaling pathway // inferred from electronic annotation /// 0030878 // thyroid gland development // inferred from electronic annotation /// 0032922 // circadian regulation of gene expression // inferred from sequence or structural similarity /// 0033032 // regulation of myeloid cell apoptotic process // inferred from electronic annotation /// 0034144 // negative regulation of toll-like receptor 4 signaling pathway // inferred from mutant phenotype /// 0035947 // regulation of gluconeogenesis by regulation of transcription from RNA polymerase II promoter // inferred from mutant phenotype /// 0042752 // regulation of circadian rhythm // inferred from sequence or structural similarity /// 0042994 // cytoplasmic sequestering of transcription factor // inferred from electronic annotation /// 0043401 // steroid hormone mediated signaling pathway // inferred from electronic annotation /// 0044321 // response to leptin // inferred from sequence or structural similarity /// 0045598 // regulation of fat cell differentiation // inferred from sequence or structural similarity /// 0045892 // negative regulation of transcription, DNA-templated // inferred from direct assay /// 0045893 // positive regulation of transcription, DNA-templated // inferred from sequence or structural similarity /// 0045925 // positive regulation of female receptivity // inferred from electronic annotation /// 0045944 // positive regulation of transcription from RNA polymerase II promoter // inferred from electronic annotation /// 0048511 // rhythmic process // inferred from electronic annotation /// 0050994 // regulation of lipid catabolic process // inferred from electronic annotation /// 0060086 // circadian temperature homeostasis // inferred from sequence or structural similarity /// 0060509 // Type I pneumocyte differentiation // inferred from electronic annotation /// 0061178 // regulation of insulin secretion involved in cellular response to glucose stimulus // inferred from sequence or structural similarity /// 0061469 // regulation of type B pancreatic cell proliferation // inferred from sequence or structural similarity /// 0070859 // positive regulation of bile acid biosynthetic process // inferred from sequence or structural similarity /// 0071222 // cellular response to lipopolysaccharide // inferred from mutant phenotype /// 2000143 // negative regulation of DNA-templated transcription, initiation // inferred from direct assay /// 2000188 // regulation of cholesterol homeostasis // inferred from sequence or structural similarity /// 2000189 // positive regulation of cholesterol homeostasis // inferred from direct assay', '0006470 // protein dephosphorylation // traceable author statement /// 0016311 // dephosphorylation // inferred from electronic annotation /// 0035335 // peptidyl-tyrosine dephosphorylation // inferred from electronic annotation /// 0035335 // peptidyl-tyrosine dephosphorylation // traceable author statement', '0000165 // MAPK cascade // inferred from mutant phenotype /// 0002407 // dendritic cell chemotaxis // traceable author statement /// 0002548 // monocyte chemotaxis // inferred by curator /// 0002676 // regulation of chronic inflammatory response // traceable author statement /// 0006468 // protein phosphorylation // inferred from direct assay /// 0006816 // calcium ion transport // inferred from direct assay /// 0006874 // cellular calcium ion homeostasis // inferred from direct assay /// 0006887 // exocytosis // inferred from direct assay /// 0006935 // chemotaxis // non-traceable author statement /// 0006954 // inflammatory response // inferred from direct assay /// 0006955 // immune response // inferred from electronic annotation /// 0007159 // leukocyte cell-cell adhesion // inferred from direct assay /// 0007267 // cell-cell signaling // inferred from direct assay /// 0009615 // response to virus // traceable author statement /// 0009636 // response to toxic substance // inferred from direct assay /// 0010535 // positive regulation of activation of JAK2 kinase activity // traceable author statement /// 0010759 // positive regulation of macrophage chemotaxis // inferred from direct assay /// 0010820 // positive regulation of T cell chemotaxis // inferred from direct assay /// 0014068 // positive regulation of phosphatidylinositol 3-kinase signaling // inferred from direct assay /// 0014911 // positive regulation of smooth muscle cell migration // inferred from direct assay /// 0030335 // positive regulation of cell migration // inferred from direct assay /// 0031328 // positive regulation of cellular biosynthetic process // inferred from direct assay /// 0031584 // activation of phospholipase D activity // inferred from direct assay /// 0031663 // lipopolysaccharide-mediated signaling pathway // inferred from direct assay /// 0033634 // positive regulation of cell-cell adhesion mediated by integrin // inferred from direct assay /// 0034097 // response to cytokine // inferred from electronic annotation /// 0034112 // positive regulation of homotypic cell-cell adhesion // inferred from direct assay /// 0034612 // response to tumor necrosis factor // inferred from electronic annotation /// 0042102 // positive regulation of T cell proliferation // inferred from direct assay /// 0042119 // neutrophil activation // inferred from direct assay /// 0042327 // positive regulation of phosphorylation // inferred from direct assay /// 0042531 // positive regulation of tyrosine phosphorylation of STAT protein // inferred from direct assay /// 0043491 // protein kinase B signaling // inferred from mutant phenotype /// 0043623 // cellular protein complex assembly // inferred from direct assay /// 0043922 // negative regulation by host of viral transcription // inferred from direct assay /// 0044344 // cellular response to fibroblast growth factor stimulus // inferred from expression pattern /// 0045070 // positive regulation of viral genome replication // traceable author statement /// 0045071 // negative regulation of viral genome replication // inferred from direct assay /// 0045089 // positive regulation of innate immune response // traceable author statement /// 0045744 // negative regulation of G-protein coupled receptor protein signaling pathway // inferred from direct assay /// 0045785 // positive regulation of cell adhesion // inferred from direct assay /// 0045948 // positive regulation of translational initiation // non-traceable author statement /// 0046427 // positive regulation of JAK-STAT cascade // traceable author statement /// 0048245 // eosinophil chemotaxis // inferred from direct assay /// 0048246 // macrophage chemotaxis // traceable author statement /// 0048661 // positive regulation of smooth muscle cell proliferation // inferred from direct assay /// 0050679 // positive regulation of epithelial cell proliferation // inferred from electronic annotation /// 0050863 // regulation of T cell activation // inferred from direct assay /// 0050918 // positive chemotaxis // inferred from direct assay /// 0051262 // protein tetramerization // inferred from direct assay /// 0051928 // positive regulation of calcium ion transport // inferred from direct assay /// 0060326 // cell chemotaxis // inferred from electronic annotation /// 0061098 // positive regulation of protein tyrosine kinase activity // inferred from direct assay /// 0070098 // chemokine-mediated signaling pathway // traceable author statement /// 0070100 // negative regulation of chemokine-mediated signaling pathway // inferred from direct assay /// 0070233 // negative regulation of T cell apoptotic process // inferred from direct assay /// 0070234 // positive regulation of T cell apoptotic process // inferred from direct assay /// 0071346 // cellular response to interferon-gamma // inferred from expression pattern /// 0071347 // cellular response to interleukin-1 // inferred from expression pattern /// 0071356 // cellular response to tumor necrosis factor // inferred from expression pattern /// 0071407 // cellular response to organic cyclic compound // inferred from direct assay /// 0090026 // positive regulation of monocyte chemotaxis // inferred from direct assay /// 2000110 // negative regulation of macrophage apoptotic process // inferred from electronic annotation /// 2000406 // positive regulation of T cell migration // inferred from direct assay /// 2000503 // positive regulation of natural killer cell chemotaxis // inferred from direct assay', '0006641 // triglyceride metabolic process // inferred from electronic annotation /// 0006805 // xenobiotic metabolic process // traceable author statement /// 0008202 // steroid metabolic process // inferred from mutant phenotype /// 0010193 // response to ozone // inferred from electronic annotation /// 0010243 // response to organonitrogen compound // inferred from electronic annotation /// 0016098 // monoterpenoid metabolic process // inferred from direct assay /// 0017144 // drug metabolic process // inferred from direct assay /// 0017144 // drug metabolic process // inferred from mutant phenotype /// 0042493 // response to drug // inferred from electronic annotation /// 0044281 // small molecule metabolic process // traceable author statement /// 0045471 // response to ethanol // inferred from electronic annotation /// 0046483 // heterocycle metabolic process // inferred from direct assay /// 0055114 // oxidation-reduction process // inferred from direct assay'], 'Gene Ontology Cellular Component': ['0005576 // extracellular region // inferred from electronic annotation /// 0005615 // extracellular space // inferred from direct assay /// 0005886 // plasma membrane // traceable author statement /// 0005887 // integral component of plasma membrane // traceable author statement /// 0016020 // membrane // inferred from electronic annotation /// 0016021 // integral component of membrane // inferred from electronic annotation /// 0043235 // receptor complex // inferred from direct assay /// 0070062 // extracellular vesicular exosome // inferred from direct assay', '0005634 // nucleus // inferred from electronic annotation /// 0005654 // nucleoplasm // traceable author statement /// 0005663 // DNA replication factor C complex // inferred from direct assay', '0005737 // cytoplasm // inferred from direct assay /// 0005814 // centriole // inferred from direct assay /// 0005829 // cytosol // inferred from direct assay /// 0008180 // COP9 signalosome // inferred from direct assay /// 0070062 // extracellular vesicular exosome // inferred from direct assay /// 0072562 // blood microparticle // inferred from direct assay', '0005634 // nucleus // inferred from direct assay /// 0005654 // nucleoplasm // inferred from sequence or structural similarity /// 0005730 // nucleolus // inferred from direct assay', '0001750 // photoreceptor outer segment // inferred from electronic annotation /// 0001917 // photoreceptor inner segment // inferred from electronic annotation /// 0005578 // proteinaceous extracellular matrix // inferred from electronic annotation /// 0005886 // plasma membrane // inferred from direct assay /// 0016020 // membrane // inferred from electronic annotation /// 0097381 // photoreceptor disc membrane // traceable author statement', '0005634 // nucleus // not recorded /// 0005829 // cytosol // not recorded /// 0005829 // cytosol // traceable author statement', '0000790 // nuclear chromatin // inferred from direct assay /// 0005634 // nucleus // inferred from direct assay /// 0005654 // nucleoplasm // traceable author statement /// 0005737 // cytoplasm // inferred from electronic annotation /// 0005737 // cytoplasm // inferred from sequence or structural similarity /// 0005829 // cytosol // inferred from direct assay /// 0030425 // dendrite // inferred from electronic annotation /// 0030425 // dendrite // inferred from sequence or structural similarity /// 0042995 // cell projection // inferred from electronic annotation /// 0043197 // dendritic spine // inferred from electronic annotation /// 0043197 // dendritic spine // inferred from sequence or structural similarity', '0005737 // cytoplasm // inferred from electronic annotation /// 0005856 // cytoskeleton // inferred from electronic annotation', '0005576 // extracellular region // traceable author statement /// 0005615 // extracellular space // inferred from electronic annotation /// 0005737 // cytoplasm // inferred from electronic annotation', '0000139 // Golgi membrane // inferred from electronic annotation /// 0005739 // mitochondrion // inferred from electronic annotation /// 0005783 // endoplasmic reticulum // inferred from electronic annotation /// 0005789 // endoplasmic reticulum membrane // traceable author statement /// 0016020 // membrane // inferred from electronic annotation /// 0031090 // organelle membrane // inferred from electronic annotation /// 0031227 // intrinsic component of endoplasmic reticulum membrane // inferred from electronic annotation /// 0043231 // intracellular membrane-bounded organelle // inferred from electronic annotation'], 'Gene Ontology Molecular Function': ['0000166 // nucleotide binding // inferred from electronic annotation /// 0004672 // protein kinase activity // inferred from electronic annotation /// 0004713 // protein tyrosine kinase activity // inferred from electronic annotation /// 0004714 // transmembrane receptor protein tyrosine kinase activity // traceable author statement /// 0005515 // protein binding // inferred from physical interaction /// 0005518 // collagen binding // inferred from direct assay /// 0005518 // collagen binding // inferred from mutant phenotype /// 0005524 // ATP binding // inferred from electronic annotation /// 0016301 // kinase activity // inferred from electronic annotation /// 0016740 // transferase activity // inferred from electronic annotation /// 0016772 // transferase activity, transferring phosphorus-containing groups // inferred from electronic annotation /// 0038062 // protein tyrosine kinase collagen receptor activity // inferred from direct assay /// 0046872 // metal ion binding // inferred from electronic annotation', '0000166 // nucleotide binding // inferred from electronic annotation /// 0003677 // DNA binding // inferred from electronic annotation /// 0005515 // protein binding // inferred from physical interaction /// 0005524 // ATP binding // inferred from electronic annotation /// 0016851 // magnesium chelatase activity // inferred from electronic annotation /// 0017111 // nucleoside-triphosphatase activity // inferred from electronic annotation', '0000166 // nucleotide binding // inferred from electronic annotation /// 0005524 // ATP binding // inferred from electronic annotation /// 0019899 // enzyme binding // inferred from physical interaction /// 0031072 // heat shock protein binding // inferred from physical interaction /// 0042623 // ATPase activity, coupled // inferred from direct assay /// 0051082 // unfolded protein binding // inferred from direct assay', '0000979 // RNA polymerase II core promoter sequence-specific DNA binding // inferred from direct assay /// 0003677 // DNA binding // inferred from direct assay /// 0003677 // DNA binding // inferred from mutant phenotype /// 0003700 // sequence-specific DNA binding transcription factor activity // inferred from direct assay /// 0004996 // thyroid-stimulating hormone receptor activity // traceable author statement /// 0005515 // protein binding // inferred from physical interaction /// 0044212 // transcription regulatory region DNA binding // inferred from direct assay', '0005509 // calcium ion binding // inferred from electronic annotation /// 0008048 // calcium sensitive guanylate cyclase activator activity // inferred from electronic annotation /// 0030249 // guanylate cyclase regulator activity // inferred from electronic annotation /// 0046872 // metal ion binding // inferred from electronic annotation', '0000166 // nucleotide binding // inferred from electronic annotation /// 0003824 // catalytic activity // inferred from electronic annotation /// 0004839 // ubiquitin activating enzyme activity // not recorded /// 0004842 // ubiquitin-protein transferase activity // not recorded /// 0005524 // ATP binding // inferred from electronic annotation /// 0008641 // small protein activating enzyme activity // inferred from electronic annotation /// 0016874 // ligase activity // inferred from electronic annotation /// 0019782 // ISG15 activating enzyme activity // inferred from direct assay', '0000978 // RNA polymerase II core promoter proximal region sequence-specific DNA binding // inferred from mutant phenotype /// 0001046 // core promoter sequence-specific DNA binding // inferred from direct assay /// 0001078 // RNA polymerase II core promoter proximal region sequence-specific DNA binding transcription factor activity involved in negative regulation of transcription // inferred from direct assay /// 0001222 // transcription corepressor binding // inferred from direct assay /// 0001222 // transcription corepressor binding // inferred from mutant phenotype /// 0002153 // steroid receptor RNA activator RNA binding // inferred from electronic annotation /// 0003677 // DNA binding // inferred from electronic annotation /// 0003700 // sequence-specific DNA binding transcription factor activity // inferred from direct assay /// 0003707 // steroid hormone receptor activity // inferred from electronic annotation /// 0003714 // transcription corepressor activity // traceable author statement /// 0003727 // single-stranded RNA binding // inferred from electronic annotation /// 0004879 // ligand-activated sequence-specific DNA binding RNA polymerase II transcription factor activity // traceable author statement /// 0004879 // ligand-activated sequence-specific DNA binding RNA polymerase II transcription factor activity // inferred from electronic annotation /// 0004887 // thyroid hormone receptor activity // inferred from direct assay /// 0005515 // protein binding // inferred from physical interaction /// 0008134 // transcription factor binding // inferred from physical interaction /// 0008270 // zinc ion binding // inferred from electronic annotation /// 0017025 // TBP-class protein binding // inferred from direct assay /// 0019904 // protein domain specific binding // inferred from physical interaction /// 0020037 // heme binding // inferred from direct assay /// 0031490 // chromatin DNA binding // inferred from electronic annotation /// 0032403 // protein complex binding // inferred from electronic annotation /// 0043565 // sequence-specific DNA binding // inferred from electronic annotation /// 0044212 // transcription regulatory region DNA binding // inferred from direct assay /// 0046872 // metal ion binding // inferred from electronic annotation /// 0070324 // thyroid hormone binding // inferred from direct assay /// 0070324 // thyroid hormone binding // inferred from physical interaction', '0004721 // phosphoprotein phosphatase activity // inferred from electronic annotation /// 0004725 // protein tyrosine phosphatase activity // inferred from electronic annotation /// 0005515 // protein binding // inferred from physical interaction /// 0016787 // hydrolase activity // inferred from electronic annotation /// 0016791 // phosphatase activity // inferred from electronic annotation', '0004435 // phosphatidylinositol phospholipase C activity // inferred from direct assay /// 0004672 // protein kinase activity // inferred from direct assay /// 0005125 // cytokine activity // inferred from electronic annotation /// 0005515 // protein binding // inferred from physical interaction /// 0008009 // chemokine activity // inferred from direct assay /// 0008009 // chemokine activity // non-traceable author statement /// 0016004 // phospholipase activator activity // inferred from direct assay /// 0030298 // receptor signaling protein tyrosine kinase activator activity // inferred from direct assay /// 0031726 // CCR1 chemokine receptor binding // inferred from direct assay /// 0031726 // CCR1 chemokine receptor binding // inferred from physical interaction /// 0031726 // CCR1 chemokine receptor binding // traceable author statement /// 0031729 // CCR4 chemokine receptor binding // traceable author statement /// 0031730 // CCR5 chemokine receptor binding // inferred from physical interaction /// 0042056 // chemoattractant activity // inferred from direct assay /// 0042379 // chemokine receptor binding // inferred from physical interaction /// 0042803 // protein homodimerization activity // inferred from direct assay /// 0043621 // protein self-association // inferred from direct assay /// 0046817 // chemokine receptor antagonist activity // inferred from direct assay', '0004497 // monooxygenase activity // inferred from direct assay /// 0005506 // iron ion binding // inferred from electronic annotation /// 0009055 // electron carrier activity // inferred from electronic annotation /// 0016491 // oxidoreductase activity // inferred from direct assay /// 0016705 // oxidoreductase activity, acting on paired donors, with incorporation or reduction of molecular oxygen // inferred from electronic annotation /// 0016709 // oxidoreductase activity, acting on paired donors, with incorporation or reduction of molecular oxygen, NAD(P)H as one donor, and incorporation of one atom of oxygen // traceable author statement /// 0016712 // oxidoreductase activity, acting on paired donors, with incorporation or reduction of molecular oxygen, reduced flavin or flavoprotein as one donor, and incorporation of one atom of oxygen // inferred from electronic annotation /// 0019825 // oxygen binding // traceable author statement /// 0019899 // enzyme binding // inferred from physical interaction /// 0020037 // heme binding // inferred from direct assay /// 0046872 // metal ion binding // inferred from electronic annotation /// 0070330 // aromatase activity // inferred from electronic annotation']}\n"
     ]
    }
   ],
   "source": [
    "# 1. Use the 'get_gene_annotation' function from the library to get gene annotation data from the SOFT file.\n",
    "gene_annotation = get_gene_annotation(soft_file)\n",
    "\n",
    "# Check if there are any platforms defined in the SOFT file that might contain annotation data\n",
    "with gzip.open(soft_file, 'rt') as f:\n",
    "    soft_content = f.read()\n",
    "\n",
    "# Look for platform sections in the SOFT file\n",
    "platform_sections = re.findall(r'^!Platform_title\\s*=\\s*(.+)$', soft_content, re.MULTILINE)\n",
    "if platform_sections:\n",
    "    print(f\"Platform title found: {platform_sections[0]}\")\n",
    "\n",
    "# Try to extract more annotation data by reading directly from the SOFT file\n",
    "# Look for lines that might contain gene symbol mappings\n",
    "symbol_pattern = re.compile(r'ID_REF\\s+Symbol|ID\\s+Gene Symbol', re.IGNORECASE)\n",
    "annotation_lines = []\n",
    "with gzip.open(soft_file, 'rt') as f:\n",
    "    for line in f:\n",
    "        if symbol_pattern.search(line):\n",
    "            annotation_lines.append(line)\n",
    "            # Collect the next few lines to see the annotation structure\n",
    "            for _ in range(10):\n",
    "                annotation_lines.append(next(f, ''))\n",
    "\n",
    "if annotation_lines:\n",
    "    print(\"Found potential gene symbol mappings:\")\n",
    "    for line in annotation_lines:\n",
    "        print(line.strip())\n",
    "\n",
    "# 2. Use the 'preview_df' function from the library to preview the data and print out the results.\n",
    "print(\"\\nGene annotation preview:\")\n",
    "print(preview_df(gene_annotation, n=10))\n",
    "\n",
    "# If we need an alternative source of mapping, check if there are any other annotation files in the cohort directory\n",
    "cohort_files = os.listdir(in_cohort_dir)\n",
    "annotation_files = [f for f in cohort_files if 'annotation' in f.lower() or 'platform' in f.lower()]\n",
    "if annotation_files:\n",
    "    print(\"\\nAdditional annotation files found in the cohort directory:\")\n",
    "    for file in annotation_files:\n",
    "        print(file)\n"
   ]
  },
  {
   "cell_type": "markdown",
   "id": "20c79d1a",
   "metadata": {},
   "source": [
    "### Step 6: Gene Identifier Mapping"
   ]
  },
  {
   "cell_type": "code",
   "execution_count": 7,
   "id": "5c2f79c5",
   "metadata": {
    "execution": {
     "iopub.execute_input": "2025-03-25T04:16:31.731184Z",
     "iopub.status.busy": "2025-03-25T04:16:31.731071Z",
     "iopub.status.idle": "2025-03-25T04:16:32.722442Z",
     "shell.execute_reply": "2025-03-25T04:16:32.722073Z"
    }
   },
   "outputs": [
    {
     "name": "stdout",
     "output_type": "stream",
     "text": [
      "Using ID as probe ID column and Gene Symbol as gene symbol column for mapping\n",
      "Created gene mapping dataframe with shape: (45782, 2)\n",
      "First few rows of gene mapping:\n",
      "          ID              Gene\n",
      "0  1007_s_at  DDR1 /// MIR4640\n",
      "1    1053_at              RFC2\n",
      "2     117_at             HSPA6\n",
      "3     121_at              PAX8\n",
      "4  1255_g_at            GUCA1A\n"
     ]
    },
    {
     "name": "stdout",
     "output_type": "stream",
     "text": [
      "Converted probe-level data to gene expression data with shape: (21278, 62)\n",
      "First few genes in the expression data:\n",
      "Index(['A1BG', 'A1BG-AS1', 'A1CF', 'A2M', 'A2M-AS1', 'A2ML1', 'A2MP1',\n",
      "       'A4GALT', 'A4GNT', 'AA06'],\n",
      "      dtype='object', name='Gene')\n",
      "After normalizing gene symbols, shape: (19845, 62)\n",
      "First few normalized genes:\n",
      "Index(['A1BG', 'A1BG-AS1', 'A1CF', 'A2M', 'A2M-AS1', 'A2ML1', 'A2MP1',\n",
      "       'A4GALT', 'A4GNT', 'AA06'],\n",
      "      dtype='object', name='Gene')\n"
     ]
    },
    {
     "name": "stdout",
     "output_type": "stream",
     "text": [
      "Gene expression data saved to: ../../output/preprocess/Type_1_Diabetes/gene_data/GSE232310.csv\n"
     ]
    }
   ],
   "source": [
    "# 1. Identify which columns in the gene annotation data correspond to gene IDs and gene symbols\n",
    "# Based on the annotation preview, we need the 'ID' column (which matches the probe IDs in gene_data)\n",
    "# and the 'Gene Symbol' column for human gene symbols\n",
    "gene_id_col = 'ID'\n",
    "gene_symbol_col = 'Gene Symbol'\n",
    "\n",
    "print(f\"Using {gene_id_col} as probe ID column and {gene_symbol_col} as gene symbol column for mapping\")\n",
    "\n",
    "# 2. Get a gene mapping dataframe by extracting these two columns\n",
    "gene_mapping = get_gene_mapping(gene_annotation, gene_id_col, gene_symbol_col)\n",
    "print(f\"Created gene mapping dataframe with shape: {gene_mapping.shape}\")\n",
    "print(\"First few rows of gene mapping:\")\n",
    "print(gene_mapping.head())\n",
    "\n",
    "# 3. Apply the gene mapping to convert probe-level measurements to gene expression data\n",
    "# This will handle the many-to-many relationships between probes and genes\n",
    "gene_data = apply_gene_mapping(gene_data, gene_mapping)\n",
    "print(f\"Converted probe-level data to gene expression data with shape: {gene_data.shape}\")\n",
    "print(\"First few genes in the expression data:\")\n",
    "print(gene_data.index[:10])\n",
    "\n",
    "# 4. Normalize gene symbols to handle synonyms and aggregate rows with the same symbol\n",
    "gene_data = normalize_gene_symbols_in_index(gene_data)\n",
    "print(f\"After normalizing gene symbols, shape: {gene_data.shape}\")\n",
    "print(\"First few normalized genes:\")\n",
    "print(gene_data.index[:10])\n",
    "\n",
    "# Save the gene expression data\n",
    "os.makedirs(os.path.dirname(out_gene_data_file), exist_ok=True)\n",
    "gene_data.to_csv(out_gene_data_file)\n",
    "print(f\"Gene expression data saved to: {out_gene_data_file}\")\n"
   ]
  },
  {
   "cell_type": "markdown",
   "id": "8f466b7e",
   "metadata": {},
   "source": [
    "### Step 7: Data Normalization and Linking"
   ]
  },
  {
   "cell_type": "code",
   "execution_count": 8,
   "id": "4b84aa46",
   "metadata": {
    "execution": {
     "iopub.execute_input": "2025-03-25T04:16:32.723772Z",
     "iopub.status.busy": "2025-03-25T04:16:32.723655Z",
     "iopub.status.idle": "2025-03-25T04:16:42.249101Z",
     "shell.execute_reply": "2025-03-25T04:16:42.248718Z"
    }
   },
   "outputs": [
    {
     "name": "stdout",
     "output_type": "stream",
     "text": [
      "Loaded clinical data with shape: (1, 62)\n",
      "Loaded gene data with shape: (19845, 62)\n",
      "Linked data shape: (62, 19846)\n",
      "Linked data preview (first 5 rows, 5 columns):\n",
      "            Type_1_Diabetes     A1BG  A1BG-AS1     A1CF      A2M\n",
      "GSM7325164              0.0  5.42892   4.72224  7.72841  7.80370\n",
      "GSM7325165              0.0  5.39074   4.75294  7.37895  8.95568\n",
      "GSM7325166              0.0  5.41052   4.60512  7.31539  7.84736\n",
      "GSM7325167              0.0  5.08744   4.66810  7.92333  7.48599\n",
      "GSM7325168              0.0  4.76004   4.54256  8.06764  7.59244\n"
     ]
    },
    {
     "name": "stdout",
     "output_type": "stream",
     "text": [
      "Data shape after handling missing values: (62, 19846)\n",
      "For the feature 'Type_1_Diabetes', the least common label is '1.0' with 14 occurrences. This represents 22.58% of the dataset.\n",
      "The distribution of the feature 'Type_1_Diabetes' in this dataset is fine.\n",
      "\n"
     ]
    },
    {
     "name": "stdout",
     "output_type": "stream",
     "text": [
      "Linked data saved to ../../output/preprocess/Type_1_Diabetes/GSE232310.csv\n"
     ]
    }
   ],
   "source": [
    "# 1. We already normalized gene symbols in the previous step, so we don't need to do it again\n",
    "\n",
    "# 2. Link clinical and genetic data using the appropriate function from the library\n",
    "# Load the processed clinical data and gene data from the files we saved in previous steps\n",
    "try:\n",
    "    clinical_data = pd.read_csv(out_clinical_data_file, index_col=0)\n",
    "    gene_data = pd.read_csv(out_gene_data_file, index_col=0)\n",
    "    \n",
    "    print(f\"Loaded clinical data with shape: {clinical_data.shape}\")\n",
    "    print(f\"Loaded gene data with shape: {gene_data.shape}\")\n",
    "    \n",
    "    # Use the proper function to link clinical and genetic data\n",
    "    linked_data = geo_link_clinical_genetic_data(clinical_data, gene_data)\n",
    "    print(f\"Linked data shape: {linked_data.shape}\")\n",
    "    print(\"Linked data preview (first 5 rows, 5 columns):\")\n",
    "    print(linked_data.iloc[:5, :5] if not linked_data.empty else \"Linked data is empty\")\n",
    "    \n",
    "    # 3. Handle missing values\n",
    "    linked_data = handle_missing_values(linked_data, \"Type_1_Diabetes\")\n",
    "    print(f\"Data shape after handling missing values: {linked_data.shape}\")\n",
    "    \n",
    "    # 4. Check for bias in features\n",
    "    is_biased, linked_data = judge_and_remove_biased_features(linked_data, \"Type_1_Diabetes\")\n",
    "    \n",
    "    # 5. Validate and save cohort information\n",
    "    is_usable = validate_and_save_cohort_info(\n",
    "        is_final=True,\n",
    "        cohort=cohort,\n",
    "        info_path=json_path,\n",
    "        is_gene_available=True,\n",
    "        is_trait_available=True,\n",
    "        is_biased=is_biased,\n",
    "        df=linked_data,\n",
    "        note=\"Dataset contains gene expression data from monocytes of patients with Type 1 Diabetes and healthy controls.\"\n",
    "    )\n",
    "    \n",
    "    # 6. Save the linked data if usable\n",
    "    if is_usable:\n",
    "        os.makedirs(os.path.dirname(out_data_file), exist_ok=True)\n",
    "        linked_data.to_csv(out_data_file)\n",
    "        print(f\"Linked data saved to {out_data_file}\")\n",
    "    else:\n",
    "        print(\"Dataset is not usable for analysis. No linked data file saved.\")\n",
    "        \n",
    "except Exception as e:\n",
    "    print(f\"An error occurred during data linking and processing: {e}\")\n",
    "    # Ensure metadata is still saved even if processing fails\n",
    "    validate_and_save_cohort_info(\n",
    "        is_final=True,\n",
    "        cohort=cohort,\n",
    "        info_path=json_path,\n",
    "        is_gene_available=True, \n",
    "        is_trait_available=True,\n",
    "        is_biased=True,  # Default to biased if we couldn't process properly\n",
    "        df=pd.DataFrame(),  # Empty dataframe\n",
    "        note=f\"Error during processing: {str(e)}\"\n",
    "    )\n",
    "    print(\"Metadata saved with error information.\")"
   ]
  }
 ],
 "metadata": {
  "language_info": {
   "codemirror_mode": {
    "name": "ipython",
    "version": 3
   },
   "file_extension": ".py",
   "mimetype": "text/x-python",
   "name": "python",
   "nbconvert_exporter": "python",
   "pygments_lexer": "ipython3",
   "version": "3.10.16"
  }
 },
 "nbformat": 4,
 "nbformat_minor": 5
}
