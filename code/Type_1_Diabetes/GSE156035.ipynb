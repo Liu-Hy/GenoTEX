{
 "cells": [
  {
   "cell_type": "code",
   "execution_count": 1,
   "id": "0aeec764",
   "metadata": {
    "execution": {
     "iopub.execute_input": "2025-03-25T04:15:41.702408Z",
     "iopub.status.busy": "2025-03-25T04:15:41.702241Z",
     "iopub.status.idle": "2025-03-25T04:15:41.866594Z",
     "shell.execute_reply": "2025-03-25T04:15:41.866239Z"
    }
   },
   "outputs": [],
   "source": [
    "import sys\n",
    "import os\n",
    "sys.path.append(os.path.abspath(os.path.join(os.getcwd(), '../..')))\n",
    "\n",
    "# Path Configuration\n",
    "from tools.preprocess import *\n",
    "\n",
    "# Processing context\n",
    "trait = \"Type_1_Diabetes\"\n",
    "cohort = \"GSE156035\"\n",
    "\n",
    "# Input paths\n",
    "in_trait_dir = \"../../input/GEO/Type_1_Diabetes\"\n",
    "in_cohort_dir = \"../../input/GEO/Type_1_Diabetes/GSE156035\"\n",
    "\n",
    "# Output paths\n",
    "out_data_file = \"../../output/preprocess/Type_1_Diabetes/GSE156035.csv\"\n",
    "out_gene_data_file = \"../../output/preprocess/Type_1_Diabetes/gene_data/GSE156035.csv\"\n",
    "out_clinical_data_file = \"../../output/preprocess/Type_1_Diabetes/clinical_data/GSE156035.csv\"\n",
    "json_path = \"../../output/preprocess/Type_1_Diabetes/cohort_info.json\"\n"
   ]
  },
  {
   "cell_type": "markdown",
   "id": "0499ac6e",
   "metadata": {},
   "source": [
    "### Step 1: Initial Data Loading"
   ]
  },
  {
   "cell_type": "code",
   "execution_count": 2,
   "id": "16b0bc2b",
   "metadata": {
    "execution": {
     "iopub.execute_input": "2025-03-25T04:15:41.868067Z",
     "iopub.status.busy": "2025-03-25T04:15:41.867921Z",
     "iopub.status.idle": "2025-03-25T04:15:42.107697Z",
     "shell.execute_reply": "2025-03-25T04:15:42.107285Z"
    }
   },
   "outputs": [
    {
     "name": "stdout",
     "output_type": "stream",
     "text": [
      "Background Information:\n",
      "!Series_title\t\"Inflammatory pathways in peripheral blood expression profile of recent-onset type 1 diabetes\"\n",
      "!Series_summary\t\"Changes in innate and adaptive immunity occurring in and around pancreatic islets can also be observed in peripheral  blood mononuclear cells (PBMC) of T1D patients  in Caucasians. The aim of our study was to investigate whether gene expression patterns of PBMC could complement islet autoantibodies for T1D pathogenic mechanisms in the higlty admixed Brazilian population. Methods: We assessed global gene expression in PBMC from  two groups mached for age, sex and BMI: The T1D group with 20 patients with recent-onset T1D (≤ 6 months from diagnosis, in a time  when the autoimmune process is still highly active), testing positive for one or more  islet autoantibodies and 20 islet autoantibody-negative healthy controls (Control group). Results: we identified 474 differentially expressed genes between groups. The most expressed genes in T1D group were mainly related to host defense, with  inflammatory and anti-bacterial/antiviral effects ( LFT, DEFA4, DEFA1, CTSG, KCNMA1) as well as  to cell cycle progression. Several of the downregulated genes in T1D influenced cellular repair, control of inflammation and immune tolerance. They were related to T helper 2 pathway, induction of FOXP3 expression (AREG) and immune tolerance (SMAD6). Conclusion: Our analysis suggested the activation of cell cycle/proliferation, anti-infectious and inflammatory pathways, indicating  immune activation, whereas immunoregulatory pathways were downregulated in PBMC from recent-onset T1D patients. These alterations were elicited by a new genetic profile\"\n",
      "!Series_overall_design\t\"RNA Extraction was done fresh blood samples of 20 T1 diabetes patients and 20 healthy controls\"\n",
      "Sample Characteristics Dictionary:\n",
      "{0: ['gender: Female', 'gender: male', 'gender: Male'], 1: ['ethnicity: white', 'ethnicity: non-white'], 2: ['diagnosis: Healthy control', 'diagnosis: Type 1 diabetes']}\n"
     ]
    }
   ],
   "source": [
    "from tools.preprocess import *\n",
    "# 1. Identify the paths to the SOFT file and the matrix file\n",
    "soft_file, matrix_file = geo_get_relevant_filepaths(in_cohort_dir)\n",
    "\n",
    "# 2. Read the matrix file to obtain background information and sample characteristics data\n",
    "background_prefixes = ['!Series_title', '!Series_summary', '!Series_overall_design']\n",
    "clinical_prefixes = ['!Sample_geo_accession', '!Sample_characteristics_ch1']\n",
    "background_info, clinical_data = get_background_and_clinical_data(matrix_file, background_prefixes, clinical_prefixes)\n",
    "\n",
    "# 3. Obtain the sample characteristics dictionary from the clinical dataframe\n",
    "sample_characteristics_dict = get_unique_values_by_row(clinical_data)\n",
    "\n",
    "# 4. Explicitly print out all the background information and the sample characteristics dictionary\n",
    "print(\"Background Information:\")\n",
    "print(background_info)\n",
    "print(\"Sample Characteristics Dictionary:\")\n",
    "print(sample_characteristics_dict)\n"
   ]
  },
  {
   "cell_type": "markdown",
   "id": "61af268f",
   "metadata": {},
   "source": [
    "### Step 2: Dataset Analysis and Clinical Feature Extraction"
   ]
  },
  {
   "cell_type": "code",
   "execution_count": 3,
   "id": "fb72d333",
   "metadata": {
    "execution": {
     "iopub.execute_input": "2025-03-25T04:15:42.109114Z",
     "iopub.status.busy": "2025-03-25T04:15:42.108994Z",
     "iopub.status.idle": "2025-03-25T04:15:42.118133Z",
     "shell.execute_reply": "2025-03-25T04:15:42.117825Z"
    }
   },
   "outputs": [
    {
     "name": "stdout",
     "output_type": "stream",
     "text": [
      "Preview of clinical data:\n",
      "{'GSM4720871': [0.0, 0.0], 'GSM4720872': [0.0, 0.0], 'GSM4720873': [0.0, 1.0], 'GSM4720874': [0.0, 0.0], 'GSM4720875': [0.0, 1.0], 'GSM4720876': [0.0, 0.0], 'GSM4720877': [0.0, 1.0], 'GSM4720878': [0.0, 1.0], 'GSM4720879': [0.0, 0.0], 'GSM4720880': [0.0, 0.0], 'GSM4720881': [0.0, 1.0], 'GSM4720882': [0.0, 0.0], 'GSM4720883': [0.0, 0.0], 'GSM4720884': [0.0, 0.0], 'GSM4720885': [0.0, 0.0], 'GSM4720886': [0.0, 0.0], 'GSM4720887': [0.0, 1.0], 'GSM4720888': [0.0, 1.0], 'GSM4720889': [0.0, 0.0], 'GSM4720890': [0.0, 0.0], 'GSM4720891': [1.0, 0.0], 'GSM4720892': [1.0, 0.0], 'GSM4720893': [1.0, 1.0], 'GSM4720894': [1.0, 1.0], 'GSM4720895': [1.0, 1.0], 'GSM4720896': [1.0, 0.0], 'GSM4720897': [1.0, 0.0], 'GSM4720898': [1.0, 0.0], 'GSM4720899': [1.0, 0.0], 'GSM4720900': [1.0, 1.0], 'GSM4720901': [1.0, 1.0], 'GSM4720902': [1.0, 0.0], 'GSM4720903': [1.0, 0.0], 'GSM4720904': [1.0, 0.0], 'GSM4720905': [1.0, 0.0], 'GSM4720906': [1.0, 0.0], 'GSM4720907': [1.0, 1.0], 'GSM4720908': [1.0, 0.0], 'GSM4720909': [1.0, 1.0], 'GSM4720910': [1.0, 1.0]}\n",
      "Clinical data saved to ../../output/preprocess/Type_1_Diabetes/clinical_data/GSE156035.csv\n"
     ]
    }
   ],
   "source": [
    "# 1. Gene Expression Data Availability\n",
    "is_gene_available = True  # Based on the background info, this dataset includes gene expression from PBMCs\n",
    "\n",
    "# 2. Data Availability and Type Conversion\n",
    "# 2.1 Trait (Type 1 Diabetes)\n",
    "trait_row = 2  # \"diagnosis\" is at key 2 in the sample characteristics dictionary\n",
    "\n",
    "# Define conversion function for the trait variable\n",
    "def convert_trait(value):\n",
    "    if \":\" not in value:\n",
    "        return None\n",
    "    value = value.split(\":\", 1)[1].strip().lower()\n",
    "    if \"type 1 diabetes\" in value:\n",
    "        return 1\n",
    "    elif \"healthy control\" in value or \"control\" in value:\n",
    "        return 0\n",
    "    return None\n",
    "\n",
    "# 2.2 Age\n",
    "age_row = None  # Age information is not available in the sample characteristics\n",
    "\n",
    "def convert_age(value):\n",
    "    # This function is defined but won't be used since age data is not available\n",
    "    if \":\" not in value:\n",
    "        return None\n",
    "    value = value.split(\":\", 1)[1].strip()\n",
    "    try:\n",
    "        return float(value)\n",
    "    except:\n",
    "        return None\n",
    "\n",
    "# 2.3 Gender\n",
    "gender_row = 0  # \"gender\" is at key 0 in the sample characteristics dictionary\n",
    "\n",
    "def convert_gender(value):\n",
    "    if \":\" not in value:\n",
    "        return None\n",
    "    value = value.split(\":\", 1)[1].strip().lower()\n",
    "    if \"female\" in value:\n",
    "        return 0\n",
    "    elif \"male\" in value:\n",
    "        return 1\n",
    "    return None\n",
    "\n",
    "# 3. Save Metadata - Initial Filtering\n",
    "is_trait_available = trait_row is not None\n",
    "validate_and_save_cohort_info(is_final=False, \n",
    "                             cohort=cohort, \n",
    "                             info_path=json_path, \n",
    "                             is_gene_available=is_gene_available, \n",
    "                             is_trait_available=is_trait_available)\n",
    "\n",
    "# 4. Clinical Feature Extraction\n",
    "if trait_row is not None:\n",
    "    # Extract clinical features using the provided function\n",
    "    clinical_df = geo_select_clinical_features(\n",
    "        clinical_df=clinical_data,  # This is provided from previous steps\n",
    "        trait=trait,\n",
    "        trait_row=trait_row,\n",
    "        convert_trait=convert_trait,\n",
    "        age_row=age_row,\n",
    "        convert_age=convert_age if age_row is not None else None,\n",
    "        gender_row=gender_row,\n",
    "        convert_gender=convert_gender if gender_row is not None else None\n",
    "    )\n",
    "    \n",
    "    # Preview the extracted clinical data\n",
    "    preview = preview_df(clinical_df)\n",
    "    print(\"Preview of clinical data:\")\n",
    "    print(preview)\n",
    "    \n",
    "    # Save the clinical data to CSV\n",
    "    os.makedirs(os.path.dirname(out_clinical_data_file), exist_ok=True)\n",
    "    clinical_df.to_csv(out_clinical_data_file, index=False)\n",
    "    print(f\"Clinical data saved to {out_clinical_data_file}\")\n"
   ]
  },
  {
   "cell_type": "markdown",
   "id": "9f91069b",
   "metadata": {},
   "source": [
    "### Step 3: Gene Data Extraction"
   ]
  },
  {
   "cell_type": "code",
   "execution_count": 4,
   "id": "4cd90f41",
   "metadata": {
    "execution": {
     "iopub.execute_input": "2025-03-25T04:15:42.119249Z",
     "iopub.status.busy": "2025-03-25T04:15:42.119143Z",
     "iopub.status.idle": "2025-03-25T04:15:42.481513Z",
     "shell.execute_reply": "2025-03-25T04:15:42.481121Z"
    }
   },
   "outputs": [
    {
     "name": "stdout",
     "output_type": "stream",
     "text": [
      "Matrix file found: ../../input/GEO/Type_1_Diabetes/GSE156035/GSE156035_series_matrix.txt.gz\n"
     ]
    },
    {
     "name": "stdout",
     "output_type": "stream",
     "text": [
      "Gene data shape: (60901, 40)\n",
      "First 20 gene/probe identifiers:\n",
      "Index(['4', '5', '6', '7', '8', '9', '10', '11', '12', '13', '14', '15', '16',\n",
      "       '17', '18', '19', '20', '21', '22', '23'],\n",
      "      dtype='object', name='ID')\n"
     ]
    }
   ],
   "source": [
    "# 1. Get the SOFT and matrix file paths again \n",
    "soft_file, matrix_file = geo_get_relevant_filepaths(in_cohort_dir)\n",
    "print(f\"Matrix file found: {matrix_file}\")\n",
    "\n",
    "# 2. Use the get_genetic_data function from the library to get the gene_data\n",
    "try:\n",
    "    gene_data = get_genetic_data(matrix_file)\n",
    "    print(f\"Gene data shape: {gene_data.shape}\")\n",
    "    \n",
    "    # 3. Print the first 20 row IDs (gene or probe identifiers)\n",
    "    print(\"First 20 gene/probe identifiers:\")\n",
    "    print(gene_data.index[:20])\n",
    "except Exception as e:\n",
    "    print(f\"Error extracting gene data: {e}\")\n"
   ]
  },
  {
   "cell_type": "markdown",
   "id": "f85b4fad",
   "metadata": {},
   "source": [
    "### Step 4: Gene Identifier Review"
   ]
  },
  {
   "cell_type": "code",
   "execution_count": 5,
   "id": "b72a97a6",
   "metadata": {
    "execution": {
     "iopub.execute_input": "2025-03-25T04:15:42.482806Z",
     "iopub.status.busy": "2025-03-25T04:15:42.482682Z",
     "iopub.status.idle": "2025-03-25T04:15:42.484615Z",
     "shell.execute_reply": "2025-03-25T04:15:42.484320Z"
    }
   },
   "outputs": [],
   "source": [
    "# The identifiers observed in the gene data appear to be numeric identifiers (4, 5, 6, etc.)\n",
    "# These are not standard human gene symbols, which would typically be alphanumeric like BRCA1, TP53, etc.\n",
    "# Therefore, these identifiers will need to be mapped to proper gene symbols\n",
    "\n",
    "requires_gene_mapping = True\n"
   ]
  },
  {
   "cell_type": "markdown",
   "id": "d00912b7",
   "metadata": {},
   "source": [
    "### Step 5: Gene Annotation"
   ]
  },
  {
   "cell_type": "code",
   "execution_count": 6,
   "id": "cce61fc6",
   "metadata": {
    "execution": {
     "iopub.execute_input": "2025-03-25T04:15:42.485704Z",
     "iopub.status.busy": "2025-03-25T04:15:42.485596Z",
     "iopub.status.idle": "2025-03-25T04:15:49.158949Z",
     "shell.execute_reply": "2025-03-25T04:15:49.158569Z"
    }
   },
   "outputs": [
    {
     "name": "stdout",
     "output_type": "stream",
     "text": [
      "Platform title found: Agilent-072363 SurePrint G3 Human GE v3 8x60K Microarray 039494 [Feature Number Version]\n"
     ]
    },
    {
     "name": "stdout",
     "output_type": "stream",
     "text": [
      "\n",
      "Gene annotation preview:\n",
      "{'ID': ['1', '2', '3', '4', '5', '6', '7', '8', '9', '10'], 'COL': ['192', '192', '192', '192', '192', '192', '192', '192', '192', '192'], 'ROW': [328.0, 326.0, 324.0, 322.0, 320.0, 318.0, 316.0, 314.0, 312.0, 310.0], 'NAME': ['GE_BrightCorner', 'DarkCorner', 'DarkCorner', 'A_21_P0014386', 'A_33_P3396872', 'A_33_P3267760', 'A_32_P194264', 'A_23_P153745', 'A_33_P3352837', 'A_21_P0011260'], 'SPOT_ID': ['GE_BrightCorner', 'DarkCorner', 'DarkCorner', 'A_21_P0014386', 'A_33_P3396872', 'A_33_P3267760', 'A_32_P194264', 'A_23_P153745', 'A_33_P3352837', 'A_21_P0011260'], 'CONTROL_TYPE': ['pos', 'pos', 'pos', 'FALSE', 'FALSE', 'FALSE', 'FALSE', 'FALSE', 'FALSE', 'FALSE'], 'REFSEQ': [nan, nan, nan, nan, 'NM_001105533', nan, 'NM_001008708', 'NM_006332', nan, nan], 'GB_ACC': [nan, nan, nan, nan, 'NM_001105533', nan, 'NM_001008708', 'NM_006332', nan, nan], 'LOCUSLINK_ID': [nan, nan, nan, nan, 79974.0, 54880.0, 494143.0, 10437.0, nan, nan], 'GENE_SYMBOL': [nan, nan, nan, nan, 'CPED1', 'BCOR', 'CHAC2', 'IFI30', nan, nan], 'GENE_NAME': [nan, nan, nan, nan, 'cadherin-like and PC-esterase domain containing 1', 'BCL6 corepressor', 'ChaC, cation transport regulator homolog 2 (E. coli)', 'interferon, gamma-inducible protein 30', nan, nan], 'UNIGENE_ID': [nan, nan, nan, nan, 'Hs.189652', nan, 'Hs.585944', 'Hs.14623', nan, 'Hs.592320'], 'ENSEMBL_ID': [nan, nan, nan, nan, nan, 'ENST00000378463', 'ENST00000295304', 'ENST00000593731', nan, 'ENST00000618272'], 'TIGR_ID': [nan, nan, nan, nan, nan, nan, nan, nan, nan, nan], 'ACCESSION_STRING': [nan, nan, nan, nan, 'ref|NM_001105533|gb|AK025639|gb|BC030538|tc|THC2601673', 'ens|ENST00000378463', 'ref|NM_001008708|ens|ENST00000295304|gb|HQ447717|gb|BC017941', 'ref|NM_006332|ens|ENST00000593731|ens|ENST00000600463|ens|ENST00000407280', nan, 'ens|ENST00000618272|linc|TCONS_l2_00007928|gb|BI821606|tc|THC2662262'], 'CHROMOSOMAL_LOCATION': [nan, nan, nan, 'unmapped', 'chr7:120901888-120901947', 'chrX:39909128-39909069', 'chr2:54001454-54001513', 'chr19:18288840-18288899', 'chr2:171521262-171521203', 'chr14:103675125-103675184'], 'CYTOBAND': [nan, nan, nan, nan, 'hs|7q31.31', 'hs|Xp11.4', 'hs|2p16.2', 'hs|19p13.11', 'hs|2q31.1', 'hs|14q32.32'], 'DESCRIPTION': [nan, nan, nan, nan, 'Homo sapiens cadherin-like and PC-esterase domain containing 1 (CPED1), transcript variant 2, mRNA [NM_001105533]', 'BCL6 corepressor [Source:HGNC Symbol;Acc:HGNC:20893] [ENST00000378463]', 'Homo sapiens ChaC, cation transport regulator homolog 2 (E. coli) (CHAC2), mRNA [NM_001008708]', 'Homo sapiens interferon, gamma-inducible protein 30 (IFI30), mRNA [NM_006332]', nan, \"603036639F1 NIH_MGC_115 Homo sapiens cDNA clone IMAGE:5177672 5', mRNA sequence [BI821606]\"], 'GO_ID': [nan, nan, nan, nan, 'GO:0005783(endoplasmic reticulum)', 'GO:0000122(negative regulation of transcription from RNA polymerase II promoter)|GO:0000415(negative regulation of histone H3-K36 methylation)|GO:0003714(transcription corepressor activity)|GO:0004842(ubiquitin-protein ligase activity)|GO:0005515(protein binding)|GO:0005634(nucleus)|GO:0006351(transcription, DNA-dependent)|GO:0007507(heart development)|GO:0008134(transcription factor binding)|GO:0030502(negative regulation of bone mineralization)|GO:0031072(heat shock protein binding)|GO:0031519(PcG protein complex)|GO:0035518(histone H2A monoubiquitination)|GO:0042476(odontogenesis)|GO:0042826(histone deacetylase binding)|GO:0044212(transcription regulatory region DNA binding)|GO:0045892(negative regulation of transcription, DNA-dependent)|GO:0051572(negative regulation of histone H3-K4 methylation)|GO:0060021(palate development)|GO:0065001(specification of axis polarity)|GO:0070171(negative regulation of tooth mineralization)', 'GO:0003674(molecular_function)|GO:0005575(cellular_component)|GO:0008150(biological_process)|GO:0008152(metabolic process)|GO:0016746(transferase activity, transferring acyl groups)', 'GO:0005576(extracellular region)|GO:0005737(cytoplasm)|GO:0005764(lysosome)|GO:0005886(plasma membrane)|GO:0016667(oxidoreductase activity, acting on a sulfur group of donors)|GO:0019221(cytokine-mediated signaling pathway)|GO:0019886(antigen processing and presentation of exogenous peptide antigen via MHC class II)|GO:0030054(cell junction)|GO:0042590(antigen processing and presentation of exogenous peptide antigen via MHC class I)|GO:0043202(lysosomal lumen)|GO:0043231(intracellular membrane-bounded organelle)|GO:0048147(negative regulation of fibroblast proliferation)|GO:0050821(protein stabilization)|GO:0055114(oxidation-reduction process)|GO:0060333(interferon-gamma-mediated signaling pathway)', nan, nan], 'SEQUENCE': [nan, nan, nan, 'AATACATGTTTTGGTAAACACTCGGTCAGAGCACCCTCTTTCTGTGGAATCAGACTGGCA', 'GCTTATCTCACCTAATACAGGGACTATGCAACCAAGAAACTGGAAATAAAAACAAAGATA', 'CATCAAAGCTACGAGAGATCCTACACACCCAGATTTAAAAAATAATAAAAACTTAAGGGC', 'CTGATTATCTTGGTCCTGCACCTCTGGAAGACATTGCTGAACAAATTCTTAATGCAGCTG', 'ATGAAGCCCAGATACACAAAATTCCACCCCTAGATCAAGAATCCTGCTCCACTAAGAATG', 'TTAGTTGTTCCGGTTACACAAGGCTGCTTAGAATGTGGGAGCAGGAAGGCTTTCTCTAAA', 'CAGCTGCAACATATTTTTCAAATTTAGGAACCCAACTTAACCATCTGAACATCCTTCTTA'], 'SPOT_ID.1': [nan, nan, nan, nan, nan, nan, nan, nan, nan, nan]}\n"
     ]
    }
   ],
   "source": [
    "# 1. Use the 'get_gene_annotation' function from the library to get gene annotation data from the SOFT file.\n",
    "gene_annotation = get_gene_annotation(soft_file)\n",
    "\n",
    "# Check if there are any platforms defined in the SOFT file that might contain annotation data\n",
    "with gzip.open(soft_file, 'rt') as f:\n",
    "    soft_content = f.read()\n",
    "\n",
    "# Look for platform sections in the SOFT file\n",
    "platform_sections = re.findall(r'^!Platform_title\\s*=\\s*(.+)$', soft_content, re.MULTILINE)\n",
    "if platform_sections:\n",
    "    print(f\"Platform title found: {platform_sections[0]}\")\n",
    "\n",
    "# Try to extract more annotation data by reading directly from the SOFT file\n",
    "# Look for lines that might contain gene symbol mappings\n",
    "symbol_pattern = re.compile(r'ID_REF\\s+Symbol|ID\\s+Gene Symbol', re.IGNORECASE)\n",
    "annotation_lines = []\n",
    "with gzip.open(soft_file, 'rt') as f:\n",
    "    for line in f:\n",
    "        if symbol_pattern.search(line):\n",
    "            annotation_lines.append(line)\n",
    "            # Collect the next few lines to see the annotation structure\n",
    "            for _ in range(10):\n",
    "                annotation_lines.append(next(f, ''))\n",
    "\n",
    "if annotation_lines:\n",
    "    print(\"Found potential gene symbol mappings:\")\n",
    "    for line in annotation_lines:\n",
    "        print(line.strip())\n",
    "\n",
    "# 2. Use the 'preview_df' function from the library to preview the data and print out the results.\n",
    "print(\"\\nGene annotation preview:\")\n",
    "print(preview_df(gene_annotation, n=10))\n",
    "\n",
    "# If we need an alternative source of mapping, check if there are any other annotation files in the cohort directory\n",
    "cohort_files = os.listdir(in_cohort_dir)\n",
    "annotation_files = [f for f in cohort_files if 'annotation' in f.lower() or 'platform' in f.lower()]\n",
    "if annotation_files:\n",
    "    print(\"\\nAdditional annotation files found in the cohort directory:\")\n",
    "    for file in annotation_files:\n",
    "        print(file)\n"
   ]
  },
  {
   "cell_type": "markdown",
   "id": "19c6aab2",
   "metadata": {},
   "source": [
    "### Step 6: Gene Identifier Mapping"
   ]
  },
  {
   "cell_type": "code",
   "execution_count": 7,
   "id": "77dfb0c6",
   "metadata": {
    "execution": {
     "iopub.execute_input": "2025-03-25T04:15:49.160266Z",
     "iopub.status.busy": "2025-03-25T04:15:49.160016Z",
     "iopub.status.idle": "2025-03-25T04:15:50.324591Z",
     "shell.execute_reply": "2025-03-25T04:15:50.324189Z"
    }
   },
   "outputs": [
    {
     "name": "stdout",
     "output_type": "stream",
     "text": [
      "Mapping dataframe shape: (51544, 2)\n",
      "First 5 rows of mapping data:\n",
      "    ID    Gene\n",
      "4    5   CPED1\n",
      "5    6    BCOR\n",
      "6    7   CHAC2\n",
      "7    8   IFI30\n",
      "11  12  GPR146\n"
     ]
    },
    {
     "name": "stdout",
     "output_type": "stream",
     "text": [
      "\n",
      "Gene expression data shape: (29222, 40)\n",
      "First 5 gene symbols:\n",
      "Index(['A1BG', 'A1BG-AS1', 'A1CF', 'A1CF-2', 'A1CF-3'], dtype='object', name='Gene')\n",
      "First 3 samples with first 3 genes:\n",
      "          GSM4720871  GSM4720872  GSM4720873\n",
      "Gene                                        \n",
      "A1BG       10.020543   10.814271   10.521009\n",
      "A1BG-AS1    7.112705    7.259896    7.453378\n",
      "A1CF        2.146216    2.144462    2.158102\n"
     ]
    },
    {
     "name": "stdout",
     "output_type": "stream",
     "text": [
      "Gene expression data saved to ../../output/preprocess/Type_1_Diabetes/gene_data/GSE156035.csv\n"
     ]
    }
   ],
   "source": [
    "# 1. Identify which columns in gene_annotation store probe IDs and gene symbols\n",
    "# From the preview, I can see:\n",
    "# - 'ID' column contains numeric identifiers (matching what we saw in gene_data)\n",
    "# - 'GENE_SYMBOL' column contains gene symbols like 'CPED1', 'BCOR', etc.\n",
    "\n",
    "# 2. Get gene mapping dataframe by extracting probe ID and gene symbol columns\n",
    "mapping_df = get_gene_mapping(\n",
    "    annotation=gene_annotation,\n",
    "    prob_col='ID',\n",
    "    gene_col='GENE_SYMBOL'\n",
    ")\n",
    "\n",
    "print(f\"Mapping dataframe shape: {mapping_df.shape}\")\n",
    "print(\"First 5 rows of mapping data:\")\n",
    "print(mapping_df.head())\n",
    "\n",
    "# 3. Apply gene mapping to convert probe-level measurements to gene expression data\n",
    "gene_data = apply_gene_mapping(expression_df=gene_data, mapping_df=mapping_df)\n",
    "\n",
    "# Check the resulting gene expression data\n",
    "print(f\"\\nGene expression data shape: {gene_data.shape}\")\n",
    "print(\"First 5 gene symbols:\")\n",
    "print(gene_data.index[:5])\n",
    "print(\"First 3 samples with first 3 genes:\")\n",
    "print(gene_data.iloc[:3, :3])\n",
    "\n",
    "# Save gene expression data to CSV\n",
    "os.makedirs(os.path.dirname(out_gene_data_file), exist_ok=True)\n",
    "gene_data.to_csv(out_gene_data_file)\n",
    "print(f\"Gene expression data saved to {out_gene_data_file}\")\n"
   ]
  },
  {
   "cell_type": "markdown",
   "id": "3ec878d6",
   "metadata": {},
   "source": [
    "### Step 7: Data Normalization and Linking"
   ]
  },
  {
   "cell_type": "code",
   "execution_count": 8,
   "id": "956661b8",
   "metadata": {
    "execution": {
     "iopub.execute_input": "2025-03-25T04:15:50.325897Z",
     "iopub.status.busy": "2025-03-25T04:15:50.325774Z",
     "iopub.status.idle": "2025-03-25T04:16:01.062268Z",
     "shell.execute_reply": "2025-03-25T04:16:01.061716Z"
    }
   },
   "outputs": [
    {
     "name": "stdout",
     "output_type": "stream",
     "text": [
      "Normalized gene data shape: (20778, 40)\n",
      "First 5 gene symbols after normalization: Index(['A1BG', 'A1BG-AS1', 'A1CF', 'A2M', 'A2M-AS1'], dtype='object', name='Gene')\n"
     ]
    },
    {
     "name": "stdout",
     "output_type": "stream",
     "text": [
      "Normalized gene data saved to ../../output/preprocess/Type_1_Diabetes/gene_data/GSE156035.csv\n"
     ]
    },
    {
     "name": "stdout",
     "output_type": "stream",
     "text": [
      "Clinical data shape: (2, 40)\n",
      "Clinical data sample:\n",
      "                 GSM4720871  GSM4720872  GSM4720873  GSM4720874  GSM4720875\n",
      "Type_1_Diabetes         0.0         0.0         0.0         0.0         0.0\n",
      "Gender                  0.0         0.0         1.0         0.0         1.0\n",
      "Linked data shape: (40, 20780)\n",
      "Linked data first 5 columns:\n",
      "First few column names: ['Type_1_Diabetes', 'Gender', 'A1BG', 'A1BG-AS1', 'A1CF']\n",
      "            Type_1_Diabetes  Gender       A1BG  A1BG-AS1      A1CF\n",
      "GSM4720871              0.0     0.0  10.020543  7.112705  2.146216\n",
      "GSM4720872              0.0     0.0  10.814271  7.259896  2.144462\n",
      "GSM4720873              0.0     1.0  10.521009  7.453378  2.158102\n",
      "GSM4720874              0.0     0.0  10.423078  7.020040  2.142261\n",
      "GSM4720875              0.0     1.0   9.777265  5.883278  2.113389\n",
      "Trait column name detected: Type_1_Diabetes\n"
     ]
    },
    {
     "name": "stdout",
     "output_type": "stream",
     "text": [
      "Data shape after handling missing values: (40, 20780)\n",
      "For the feature 'Type_1_Diabetes', the least common label is '0.0' with 20 occurrences. This represents 50.00% of the dataset.\n",
      "The distribution of the feature 'Type_1_Diabetes' in this dataset is fine.\n",
      "\n",
      "For the feature 'Gender', the least common label is '1.0' with 15 occurrences. This represents 37.50% of the dataset.\n",
      "The distribution of the feature 'Gender' in this dataset is fine.\n",
      "\n"
     ]
    },
    {
     "name": "stdout",
     "output_type": "stream",
     "text": [
      "Linked data saved to ../../output/preprocess/Type_1_Diabetes/GSE156035.csv\n"
     ]
    }
   ],
   "source": [
    "# 1. Normalize gene symbols in the gene expression data\n",
    "gene_data = normalize_gene_symbols_in_index(gene_data)\n",
    "print(f\"Normalized gene data shape: {gene_data.shape}\")\n",
    "print(f\"First 5 gene symbols after normalization: {gene_data.index[:5]}\")\n",
    "os.makedirs(os.path.dirname(out_gene_data_file), exist_ok=True)\n",
    "gene_data.to_csv(out_gene_data_file)\n",
    "print(f\"Normalized gene data saved to {out_gene_data_file}\")\n",
    "\n",
    "# 2. Load clinical data from Step 2\n",
    "# Get the SOFT and matrix file paths again for reference\n",
    "soft_file, matrix_file = geo_get_relevant_filepaths(in_cohort_dir)\n",
    "background_prefixes = ['!Series_title', '!Series_summary', '!Series_overall_design']\n",
    "clinical_prefixes = ['!Sample_geo_accession', '!Sample_characteristics_ch1']\n",
    "background_info, clinical_data = get_background_and_clinical_data(matrix_file, background_prefixes, clinical_prefixes)\n",
    "\n",
    "# Re-extract clinical features properly using the determined row indices\n",
    "def convert_trait(value):\n",
    "    if \":\" not in value:\n",
    "        return None\n",
    "    value = value.split(\":\", 1)[1].strip().lower()\n",
    "    if \"type 1 diabetes\" in value:\n",
    "        return 1\n",
    "    elif \"healthy control\" in value or \"control\" in value:\n",
    "        return 0\n",
    "    return None\n",
    "\n",
    "def convert_gender(value):\n",
    "    if \":\" not in value:\n",
    "        return None\n",
    "    value = value.split(\":\", 1)[1].strip().lower()\n",
    "    if \"female\" in value:\n",
    "        return 0\n",
    "    elif \"male\" in value:\n",
    "        return 1\n",
    "    return None\n",
    "\n",
    "# Use the correct row indices from Step 2\n",
    "clinical_df = geo_select_clinical_features(\n",
    "    clinical_df=clinical_data,\n",
    "    trait=trait,\n",
    "    trait_row=2,  # diagnosis is at row 2 in sample characteristics\n",
    "    convert_trait=convert_trait,\n",
    "    age_row=None,  # No age data available\n",
    "    convert_age=None,\n",
    "    gender_row=0,  # gender is at row 0 in sample characteristics\n",
    "    convert_gender=convert_gender\n",
    ")\n",
    "\n",
    "print(f\"Clinical data shape: {clinical_df.shape}\")\n",
    "print(\"Clinical data sample:\")\n",
    "print(clinical_df.iloc[:, :5])  # Show first 5 columns\n",
    "\n",
    "# 2. Link clinical and genetic data\n",
    "linked_data = geo_link_clinical_genetic_data(clinical_df, gene_data)\n",
    "print(f\"Linked data shape: {linked_data.shape}\")\n",
    "print(\"Linked data first 5 columns:\")\n",
    "\n",
    "# Identify the column names for verification\n",
    "all_columns = linked_data.columns.tolist()\n",
    "print(f\"First few column names: {all_columns[:5]}\")\n",
    "print(linked_data.iloc[:5, :5])\n",
    "\n",
    "# 3. Handle missing values - make sure we use the correct trait column name\n",
    "# The trait column should be the first in the linked data\n",
    "trait_col = linked_data.columns[0]\n",
    "print(f\"Trait column name detected: {trait_col}\")\n",
    "\n",
    "linked_data = handle_missing_values(linked_data, trait_col)\n",
    "print(f\"Data shape after handling missing values: {linked_data.shape}\")\n",
    "\n",
    "# 4. Check for bias in features\n",
    "is_biased, linked_data = judge_and_remove_biased_features(linked_data, trait_col)\n",
    "\n",
    "# 5. Validate and save cohort information\n",
    "is_usable = validate_and_save_cohort_info(\n",
    "    is_final=True,\n",
    "    cohort=cohort,\n",
    "    info_path=json_path,\n",
    "    is_gene_available=True,\n",
    "    is_trait_available=True,\n",
    "    is_biased=is_biased,\n",
    "    df=linked_data,\n",
    "    note=\"Dataset contains gene expression data from peripheral blood mononuclear cells of 20 Type 1 Diabetes patients and 20 healthy controls.\"\n",
    ")\n",
    "\n",
    "# 6. Save the linked data if usable\n",
    "if is_usable:\n",
    "    os.makedirs(os.path.dirname(out_data_file), exist_ok=True)\n",
    "    linked_data.to_csv(out_data_file)\n",
    "    print(f\"Linked data saved to {out_data_file}\")\n",
    "else:\n",
    "    print(\"Dataset is not usable for analysis. No linked data file saved.\")"
   ]
  }
 ],
 "metadata": {
  "language_info": {
   "codemirror_mode": {
    "name": "ipython",
    "version": 3
   },
   "file_extension": ".py",
   "mimetype": "text/x-python",
   "name": "python",
   "nbconvert_exporter": "python",
   "pygments_lexer": "ipython3",
   "version": "3.10.16"
  }
 },
 "nbformat": 4,
 "nbformat_minor": 5
}
