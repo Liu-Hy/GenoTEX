{
 "cells": [
  {
   "cell_type": "code",
   "execution_count": 1,
   "id": "517f82c8",
   "metadata": {
    "execution": {
     "iopub.execute_input": "2025-03-25T04:16:11.875854Z",
     "iopub.status.busy": "2025-03-25T04:16:11.875623Z",
     "iopub.status.idle": "2025-03-25T04:16:12.041397Z",
     "shell.execute_reply": "2025-03-25T04:16:12.041087Z"
    }
   },
   "outputs": [],
   "source": [
    "import sys\n",
    "import os\n",
    "sys.path.append(os.path.abspath(os.path.join(os.getcwd(), '../..')))\n",
    "\n",
    "# Path Configuration\n",
    "from tools.preprocess import *\n",
    "\n",
    "# Processing context\n",
    "trait = \"Type_1_Diabetes\"\n",
    "cohort = \"GSE182870\"\n",
    "\n",
    "# Input paths\n",
    "in_trait_dir = \"../../input/GEO/Type_1_Diabetes\"\n",
    "in_cohort_dir = \"../../input/GEO/Type_1_Diabetes/GSE182870\"\n",
    "\n",
    "# Output paths\n",
    "out_data_file = \"../../output/preprocess/Type_1_Diabetes/GSE182870.csv\"\n",
    "out_gene_data_file = \"../../output/preprocess/Type_1_Diabetes/gene_data/GSE182870.csv\"\n",
    "out_clinical_data_file = \"../../output/preprocess/Type_1_Diabetes/clinical_data/GSE182870.csv\"\n",
    "json_path = \"../../output/preprocess/Type_1_Diabetes/cohort_info.json\"\n"
   ]
  },
  {
   "cell_type": "markdown",
   "id": "d87e16c6",
   "metadata": {},
   "source": [
    "### Step 1: Initial Data Loading"
   ]
  },
  {
   "cell_type": "code",
   "execution_count": 2,
   "id": "b228c19c",
   "metadata": {
    "execution": {
     "iopub.execute_input": "2025-03-25T04:16:12.042643Z",
     "iopub.status.busy": "2025-03-25T04:16:12.042504Z",
     "iopub.status.idle": "2025-03-25T04:16:12.102159Z",
     "shell.execute_reply": "2025-03-25T04:16:12.101839Z"
    }
   },
   "outputs": [
    {
     "name": "stdout",
     "output_type": "stream",
     "text": [
      "Background Information:\n",
      "!Series_title\t\"Germline-like TCR alpha chains dominate shared self-reactive T cell receptors in type 1 diabetes\"\n",
      "!Series_summary\t\"Human islet antigen reactive CD4+ memory T cells (IAR T cells) play a key role in the pathogenesis of autoimmune type 1 diabetes (T1D). Using single cell RNA-sequencing (scRNA-seq) to identify T cell receptors (TCRs) in IAR T cells, we have identified a class of TCRs that share TCR alpha chains between individuals (“public”).\"\n",
      "!Series_overall_design\t\"2767 cells total were sequenced. Cells were collected from 12 healthy, 24 new-onset, and 12 established T1D donors.\"\n",
      "Sample Characteristics Dictionary:\n",
      "{0: ['library id: lib10600', 'library id: lib10601', 'library id: lib10602', 'library id: lib10603', 'library id: lib10604', 'library id: lib10605', 'library id: lib10606', 'library id: lib10607', 'library id: lib10608', 'library id: lib10609', 'library id: lib10610', 'library id: lib10611', 'library id: lib10612', 'library id: lib10613', 'library id: lib10614', 'library id: lib10615', 'library id: lib10616', 'library id: lib10617', 'library id: lib10618', 'library id: lib10619', 'library id: lib10620', 'library id: lib10621', 'library id: lib10622', 'library id: lib10623', 'library id: lib10624', 'library id: lib10625', 'library id: lib10626', 'library id: lib10627', 'library id: lib10628', 'library id: lib10629'], 1: ['study group: HC', 'study group: T1D', 'study group: new onset T1D'], 2: ['donor: HC05', 'donor: T1D2', 'donor: T1D6', 'donor: T1D7', 'donor: HC06', 'donor: T1D8', 'donor: T1D9', 'donor: HC11', 'donor: HC10', 'donor: T1D10', 'donor: T1D1', 'donor: 10010', 'donor: 10059', 'donor: 10241', 'donor: 10256', 'donor: 10507', 'donor: 10573', 'donor: 10396', 'donor: 10295', 'donor: T1D11', 'donor: HC07', 'donor: HC12', 'donor: HC13', 'donor: T1D4', 'donor: T1D13', 'donor: T1D5', 'donor: T1D12', 'donor: HC15', 'donor: HC16', 'donor: 26601'], 3: ['age: 30', 'age: 39', 'age: 21', 'age: 29', 'age: 16', 'age: 15', 'age: 27', 'age: 37', 'age: 40', 'age: 32', 'age: 18', 'age: 25', 'age: 24', 'age: 23', 'age: 31', 'age: 17', 'age: 19', 'age: 10', 'age: 11', 'age: 13', 'age: 35', 'age: 34', 'age: 12', 'age: 22', 'age: 38', 'age: 28'], 4: ['Sex: male', 'Sex: female'], 5: ['lib prep method: C1', 'lib prep method: Plate sort', 'alias: T1DAL_442289', 'alias: T1DAL_323347', 'alias: T1DAL_576351', 'alias: T1DAL_430783', 'alias: T1DAL_932593', 'alias: T1DAL_243767', 'alias: T1DAL_769151', 'alias: T1DAL_920806', 'alias: T1DAL_185333', 'alias: T1DAL_975187', 'alias: T1DAL_504034', 'alias: T1DAL_325261', 'alias: T1DAL_707887', 'alias: T1DAL_794749', 'alias: T1DAL_589524', 'alias: T1DAL_161919', 'alias: T1DAL_137962', 'alias: T1DAL_944872'], 6: [nan, 'lib prep method: Plate sort']}\n"
     ]
    }
   ],
   "source": [
    "from tools.preprocess import *\n",
    "# 1. Identify the paths to the SOFT file and the matrix file\n",
    "soft_file, matrix_file = geo_get_relevant_filepaths(in_cohort_dir)\n",
    "\n",
    "# 2. Read the matrix file to obtain background information and sample characteristics data\n",
    "background_prefixes = ['!Series_title', '!Series_summary', '!Series_overall_design']\n",
    "clinical_prefixes = ['!Sample_geo_accession', '!Sample_characteristics_ch1']\n",
    "background_info, clinical_data = get_background_and_clinical_data(matrix_file, background_prefixes, clinical_prefixes)\n",
    "\n",
    "# 3. Obtain the sample characteristics dictionary from the clinical dataframe\n",
    "sample_characteristics_dict = get_unique_values_by_row(clinical_data)\n",
    "\n",
    "# 4. Explicitly print out all the background information and the sample characteristics dictionary\n",
    "print(\"Background Information:\")\n",
    "print(background_info)\n",
    "print(\"Sample Characteristics Dictionary:\")\n",
    "print(sample_characteristics_dict)\n"
   ]
  },
  {
   "cell_type": "markdown",
   "id": "79bb768f",
   "metadata": {},
   "source": [
    "### Step 2: Dataset Analysis and Clinical Feature Extraction"
   ]
  },
  {
   "cell_type": "code",
   "execution_count": 3,
   "id": "345c8f3a",
   "metadata": {
    "execution": {
     "iopub.execute_input": "2025-03-25T04:16:12.103428Z",
     "iopub.status.busy": "2025-03-25T04:16:12.103322Z",
     "iopub.status.idle": "2025-03-25T04:16:12.349764Z",
     "shell.execute_reply": "2025-03-25T04:16:12.349408Z"
    }
   },
   "outputs": [
    {
     "name": "stdout",
     "output_type": "stream",
     "text": [
      "Clinical Features Preview:\n"
     ]
    },
    {
     "name": "stdout",
     "output_type": "stream",
     "text": [
      "{'GSM5538916': [0.0, 30.0, 1.0], 'GSM5538917': [0.0, 30.0, 1.0], 'GSM5538918': [0.0, 30.0, 1.0], 'GSM5538919': [0.0, 30.0, 1.0], 'GSM5538920': [0.0, 30.0, 1.0], 'GSM5538921': [0.0, 30.0, 1.0], 'GSM5538922': [0.0, 30.0, 1.0], 'GSM5538923': [0.0, 30.0, 1.0], 'GSM5538924': [0.0, 30.0, 1.0], 'GSM5538925': [0.0, 30.0, 1.0], 'GSM5538926': [0.0, 30.0, 1.0], 'GSM5538927': [0.0, 30.0, 1.0], 'GSM5538928': [0.0, 30.0, 1.0], 'GSM5538929': [0.0, 30.0, 1.0], 'GSM5538930': [0.0, 30.0, 1.0], 'GSM5538931': [0.0, 30.0, 1.0], 'GSM5538932': [0.0, 30.0, 1.0], 'GSM5538933': [0.0, 30.0, 1.0], 'GSM5538934': [0.0, 30.0, 1.0], 'GSM5538935': [0.0, 30.0, 1.0], 'GSM5538936': [0.0, 30.0, 1.0], 'GSM5538937': [0.0, 30.0, 1.0], 'GSM5538938': [0.0, 30.0, 1.0], 'GSM5538939': [0.0, 30.0, 1.0], 'GSM5538940': [0.0, 30.0, 1.0], 'GSM5538941': [0.0, 30.0, 1.0], 'GSM5538942': [0.0, 30.0, 1.0], 'GSM5538943': [0.0, 30.0, 1.0], 'GSM5538944': [0.0, 30.0, 1.0], 'GSM5538945': [0.0, 30.0, 1.0], 'GSM5538946': [0.0, 30.0, 1.0], 'GSM5538947': [0.0, 30.0, 1.0], 'GSM5538948': [1.0, 39.0, 0.0], 'GSM5538949': [1.0, 39.0, 0.0], 'GSM5538950': [1.0, 39.0, 0.0], 'GSM5538951': [1.0, 39.0, 0.0], 'GSM5538952': [1.0, 39.0, 0.0], 'GSM5538953': [1.0, 39.0, 0.0], 'GSM5538954': [1.0, 39.0, 0.0], 'GSM5538955': [1.0, 39.0, 0.0], 'GSM5538956': [1.0, 39.0, 0.0], 'GSM5538957': [1.0, 39.0, 0.0], 'GSM5538958': [1.0, 39.0, 0.0], 'GSM5538959': [1.0, 39.0, 0.0], 'GSM5538960': [1.0, 39.0, 0.0], 'GSM5538961': [1.0, 39.0, 0.0], 'GSM5538962': [1.0, 39.0, 0.0], 'GSM5538963': [1.0, 39.0, 0.0], 'GSM5538964': [1.0, 39.0, 0.0], 'GSM5538965': [1.0, 39.0, 0.0], 'GSM5538966': [1.0, 39.0, 0.0], 'GSM5538967': [1.0, 39.0, 0.0], 'GSM5538968': [1.0, 39.0, 0.0], 'GSM5538969': [1.0, 39.0, 0.0], 'GSM5538970': [1.0, 39.0, 0.0], 'GSM5538971': [1.0, 39.0, 0.0], 'GSM5538972': [1.0, 39.0, 0.0], 'GSM5538973': [1.0, 39.0, 0.0], 'GSM5538974': [1.0, 39.0, 0.0], 'GSM5538975': [1.0, 39.0, 0.0], 'GSM5538976': [1.0, 39.0, 0.0], 'GSM5538977': [1.0, 39.0, 0.0], 'GSM5538978': [1.0, 39.0, 0.0], 'GSM5538979': [1.0, 39.0, 0.0], 'GSM5538980': [1.0, 39.0, 0.0], 'GSM5538981': [1.0, 39.0, 0.0], 'GSM5538982': [1.0, 39.0, 0.0], 'GSM5538983': [1.0, 39.0, 0.0], 'GSM5538984': [1.0, 39.0, 0.0], 'GSM5538985': [1.0, 39.0, 0.0], 'GSM5538986': [1.0, 39.0, 0.0], 'GSM5538987': [1.0, 39.0, 0.0], 'GSM5538988': [1.0, 39.0, 0.0], 'GSM5538989': [1.0, 39.0, 0.0], 'GSM5538990': [1.0, 39.0, 0.0], 'GSM5538991': [1.0, 39.0, 0.0], 'GSM5538992': [1.0, 39.0, 0.0], 'GSM5538993': [1.0, 39.0, 0.0], 'GSM5538994': [1.0, 39.0, 0.0], 'GSM5538995': [1.0, 39.0, 0.0], 'GSM5538996': [1.0, 39.0, 0.0], 'GSM5538997': [1.0, 39.0, 0.0], 'GSM5538998': [1.0, 39.0, 0.0], 'GSM5538999': [1.0, 39.0, 0.0], 'GSM5539000': [1.0, 39.0, 0.0], 'GSM5539001': [1.0, 39.0, 0.0], 'GSM5539002': [1.0, 39.0, 0.0], 'GSM5539003': [1.0, 39.0, 0.0], 'GSM5539004': [1.0, 39.0, 0.0], 'GSM5539005': [1.0, 39.0, 0.0], 'GSM5539006': [1.0, 39.0, 0.0], 'GSM5539007': [1.0, 39.0, 0.0], 'GSM5539008': [1.0, 39.0, 0.0], 'GSM5539009': [1.0, 39.0, 0.0], 'GSM5539010': [1.0, 39.0, 0.0], 'GSM5539011': [1.0, 21.0, 1.0], 'GSM5539012': [1.0, 21.0, 1.0], 'GSM5539013': [1.0, 21.0, 1.0], 'GSM5539014': [1.0, 21.0, 1.0], 'GSM5539015': [1.0, 21.0, 1.0], 'GSM5539016': [1.0, 21.0, 1.0], 'GSM5539017': [1.0, 21.0, 1.0], 'GSM5539018': [1.0, 21.0, 1.0], 'GSM5539019': [1.0, 21.0, 1.0], 'GSM5539020': [1.0, 21.0, 1.0], 'GSM5539021': [1.0, 21.0, 1.0], 'GSM5539022': [1.0, 21.0, 1.0], 'GSM5539023': [1.0, 21.0, 1.0], 'GSM5539024': [1.0, 21.0, 1.0], 'GSM5539025': [1.0, 21.0, 1.0], 'GSM5539026': [1.0, 21.0, 1.0], 'GSM5539027': [1.0, 21.0, 1.0], 'GSM5539028': [1.0, 29.0, 1.0], 'GSM5539029': [1.0, 29.0, 1.0], 'GSM5539030': [1.0, 29.0, 1.0], 'GSM5539031': [1.0, 29.0, 1.0], 'GSM5539032': [1.0, 29.0, 1.0], 'GSM5539033': [1.0, 29.0, 1.0], 'GSM5539034': [1.0, 29.0, 1.0], 'GSM5539035': [1.0, 29.0, 1.0], 'GSM5539036': [1.0, 29.0, 1.0], 'GSM5539037': [1.0, 29.0, 1.0], 'GSM5539038': [0.0, 21.0, 1.0], 'GSM5539039': [0.0, 21.0, 1.0], 'GSM5539040': [0.0, 21.0, 1.0], 'GSM5539041': [0.0, 21.0, 1.0], 'GSM5539042': [0.0, 21.0, 1.0], 'GSM5539043': [0.0, 21.0, 1.0], 'GSM5539044': [0.0, 21.0, 1.0], 'GSM5539045': [0.0, 21.0, 1.0], 'GSM5539046': [0.0, 21.0, 1.0], 'GSM5539047': [0.0, 21.0, 1.0], 'GSM5539048': [0.0, 21.0, 1.0], 'GSM5539049': [0.0, 21.0, 1.0], 'GSM5539050': [0.0, 21.0, 1.0], 'GSM5539051': [0.0, 21.0, 1.0], 'GSM5539052': [0.0, 21.0, 1.0], 'GSM5539053': [0.0, 21.0, 1.0], 'GSM5539054': [0.0, 21.0, 1.0], 'GSM5539055': [0.0, 21.0, 1.0], 'GSM5539056': [0.0, 21.0, 1.0], 'GSM5539057': [0.0, 21.0, 1.0], 'GSM5539058': [0.0, 21.0, 1.0], 'GSM5539059': [0.0, 21.0, 1.0], 'GSM5539060': [0.0, 21.0, 1.0], 'GSM5539061': [0.0, 21.0, 1.0], 'GSM5539062': [0.0, 21.0, 1.0], 'GSM5539063': [0.0, 21.0, 1.0], 'GSM5539064': [0.0, 21.0, 1.0], 'GSM5539065': [0.0, 21.0, 1.0], 'GSM5539066': [0.0, 21.0, 1.0], 'GSM5539067': [0.0, 21.0, 1.0], 'GSM5539068': [0.0, 21.0, 1.0], 'GSM5539069': [0.0, 21.0, 1.0], 'GSM5539070': [0.0, 21.0, 1.0], 'GSM5539071': [0.0, 21.0, 1.0], 'GSM5539072': [0.0, 21.0, 1.0], 'GSM5539073': [0.0, 21.0, 1.0], 'GSM5539074': [0.0, 21.0, 1.0], 'GSM5539075': [0.0, 21.0, 1.0], 'GSM5539076': [0.0, 21.0, 1.0], 'GSM5539077': [0.0, 21.0, 1.0], 'GSM5539078': [0.0, 21.0, 1.0], 'GSM5539079': [0.0, 21.0, 1.0], 'GSM5539080': [0.0, 21.0, 1.0], 'GSM5539081': [0.0, 21.0, 1.0], 'GSM5539082': [0.0, 21.0, 1.0], 'GSM5539083': [0.0, 21.0, 1.0], 'GSM5539084': [0.0, 21.0, 1.0], 'GSM5539085': [0.0, 21.0, 1.0], 'GSM5539086': [0.0, 21.0, 1.0], 'GSM5539087': [0.0, 21.0, 1.0], 'GSM5539088': [0.0, 21.0, 1.0], 'GSM5539089': [1.0, 16.0, 1.0], 'GSM5539090': [1.0, 16.0, 1.0], 'GSM5539091': [1.0, 16.0, 1.0], 'GSM5539092': [1.0, 16.0, 1.0], 'GSM5539093': [1.0, 16.0, 1.0], 'GSM5539094': [1.0, 16.0, 1.0], 'GSM5539095': [1.0, 16.0, 1.0], 'GSM5539096': [1.0, 16.0, 1.0], 'GSM5539097': [1.0, 16.0, 1.0], 'GSM5539098': [1.0, 16.0, 1.0], 'GSM5539099': [1.0, 16.0, 1.0], 'GSM5539100': [1.0, 16.0, 1.0], 'GSM5539101': [1.0, 16.0, 1.0], 'GSM5539102': [1.0, 16.0, 1.0], 'GSM5539103': [1.0, 16.0, 1.0], 'GSM5539104': [1.0, 16.0, 1.0], 'GSM5539105': [1.0, 16.0, 1.0], 'GSM5539106': [1.0, 16.0, 1.0], 'GSM5539107': [1.0, 16.0, 1.0], 'GSM5539108': [1.0, 15.0, 0.0], 'GSM5539109': [1.0, 15.0, 0.0], 'GSM5539110': [1.0, 15.0, 0.0], 'GSM5539111': [1.0, 15.0, 0.0], 'GSM5539112': [1.0, 15.0, 0.0], 'GSM5539113': [1.0, 15.0, 0.0], 'GSM5539114': [1.0, 15.0, 0.0], 'GSM5539115': [1.0, 15.0, 0.0]}\n",
      "Clinical data saved to ../../output/preprocess/Type_1_Diabetes/clinical_data/GSE182870.csv\n"
     ]
    }
   ],
   "source": [
    "# 1. Determine gene expression data availability\n",
    "# Based on background information, this dataset appears to contain scRNA-seq data, which includes gene expression data\n",
    "is_gene_available = True\n",
    "\n",
    "# 2. Identify variables and create conversion functions\n",
    "\n",
    "# 2.1 Data Availability\n",
    "# For trait: Data is in row 1 as \"study group\" (HC = healthy control, T1D = Type 1 Diabetes, new onset T1D = Type 1 Diabetes)\n",
    "trait_row = 1\n",
    "\n",
    "# For age: Data is in row 3\n",
    "age_row = 3\n",
    "\n",
    "# For gender: Data is in row 4 as \"Sex\"\n",
    "gender_row = 4\n",
    "\n",
    "# 2.2 Data Type Conversion Functions\n",
    "\n",
    "def convert_trait(value):\n",
    "    \"\"\"Convert trait values to binary: 0 for healthy control, 1 for Type 1 Diabetes\"\"\"\n",
    "    if pd.isna(value) or value is None:\n",
    "        return None\n",
    "    \n",
    "    # Extract value after colon if it exists\n",
    "    if \":\" in value:\n",
    "        value = value.split(\":\", 1)[1].strip()\n",
    "    \n",
    "    if value == \"HC\":\n",
    "        return 0  # Healthy control\n",
    "    elif value == \"T1D\" or value == \"new onset T1D\":\n",
    "        return 1  # Type 1 Diabetes\n",
    "    else:\n",
    "        return None\n",
    "\n",
    "def convert_age(value):\n",
    "    \"\"\"Convert age values to continuous numeric values\"\"\"\n",
    "    if pd.isna(value) or value is None:\n",
    "        return None\n",
    "    \n",
    "    # Extract value after colon if it exists\n",
    "    if \":\" in value:\n",
    "        value = value.split(\":\", 1)[1].strip()\n",
    "    \n",
    "    try:\n",
    "        return float(value)\n",
    "    except (ValueError, TypeError):\n",
    "        return None\n",
    "\n",
    "def convert_gender(value):\n",
    "    \"\"\"Convert gender values to binary: 0 for female, 1 for male\"\"\"\n",
    "    if pd.isna(value) or value is None:\n",
    "        return None\n",
    "    \n",
    "    # Extract value after colon if it exists\n",
    "    if \":\" in value:\n",
    "        value = value.split(\":\", 1)[1].strip()\n",
    "    \n",
    "    if value.lower() == \"female\":\n",
    "        return 0\n",
    "    elif value.lower() == \"male\":\n",
    "        return 1\n",
    "    else:\n",
    "        return None\n",
    "\n",
    "# 3. Save metadata (initial filtering)\n",
    "is_trait_available = trait_row is not None\n",
    "validate_and_save_cohort_info(\n",
    "    is_final=False,\n",
    "    cohort=cohort,\n",
    "    info_path=json_path,\n",
    "    is_gene_available=is_gene_available,\n",
    "    is_trait_available=is_trait_available\n",
    ")\n",
    "\n",
    "# 4. Clinical Feature Extraction\n",
    "if trait_row is not None:\n",
    "    # Extract clinical features\n",
    "    clinical_df = geo_select_clinical_features(\n",
    "        clinical_df=clinical_data,\n",
    "        trait=trait,\n",
    "        trait_row=trait_row,\n",
    "        convert_trait=convert_trait,\n",
    "        age_row=age_row,\n",
    "        convert_age=convert_age,\n",
    "        gender_row=gender_row,\n",
    "        convert_gender=convert_gender\n",
    "    )\n",
    "    \n",
    "    # Preview the extracted clinical features\n",
    "    print(\"Clinical Features Preview:\")\n",
    "    preview = preview_df(clinical_df)\n",
    "    print(preview)\n",
    "    \n",
    "    # Save clinical data to CSV\n",
    "    os.makedirs(os.path.dirname(out_clinical_data_file), exist_ok=True)\n",
    "    clinical_df.to_csv(out_clinical_data_file, index=False)\n",
    "    print(f\"Clinical data saved to {out_clinical_data_file}\")\n"
   ]
  },
  {
   "cell_type": "markdown",
   "id": "c99866d6",
   "metadata": {},
   "source": [
    "### Step 3: Gene Data Extraction"
   ]
  },
  {
   "cell_type": "code",
   "execution_count": 4,
   "id": "0b27365e",
   "metadata": {
    "execution": {
     "iopub.execute_input": "2025-03-25T04:16:12.351182Z",
     "iopub.status.busy": "2025-03-25T04:16:12.351075Z",
     "iopub.status.idle": "2025-03-25T04:16:12.379354Z",
     "shell.execute_reply": "2025-03-25T04:16:12.379016Z"
    }
   },
   "outputs": [
    {
     "name": "stdout",
     "output_type": "stream",
     "text": [
      "Matrix file found: ../../input/GEO/Type_1_Diabetes/GSE182870/GSE182870_series_matrix.txt.gz\n",
      "Inspecting matrix file structure:\n",
      "!Series_title\t\"Germline-like TCR alpha chains dominate shared self-reactive T cell receptors in type 1 diabetes\"\n",
      "!Series_geo_accession\t\"GSE182870\"\n",
      "!Series_status\t\"Public on Dec 15 2021\"\n",
      "!Series_submission_date\t\"Aug 26 2021\"\n",
      "!Series_last_update_date\t\"Jun 28 2024\"\n",
      "!Series_pubmed_id\t\"34806648\"\n",
      "!Series_pubmed_id\t\"37886513\"\n",
      "!Series_pubmed_id\t\"38871688\"\n",
      "!Series_summary\t\"Human islet antigen reactive CD4+ memory T cells (IAR T cells) play a key role in the pathogenesis of autoimmune type 1 diabetes (T1D). Using single cell RNA-sequencing (scRNA-seq) to identify T cell receptors (TCRs) in IAR T cells, we have identified a class of TCRs that share TCR alpha chains between individuals (“public”).\"\n",
      "!Series_overall_design\t\"2767 cells total were sequenced. Cells were collected from 12 healthy, 24 new-onset, and 12 established T1D donors.\"\n",
      "!Series_type\t\"Expression profiling by high throughput sequencing\"\n",
      "!Series_type\t\"Other\"\n",
      "Found marker at line 90: !series_matrix_table_begin\n",
      "\n",
      "Conclusion: This dataset contains single-cell RNA sequencing data focused on T cell receptors,\n",
      "but does not contain a standard gene expression matrix required for our analysis.\n",
      "\n",
      "Metadata updated to reflect that gene expression data is not available in the required format.\n"
     ]
    }
   ],
   "source": [
    "# 1. Get the SOFT and matrix file paths again \n",
    "soft_file, matrix_file = geo_get_relevant_filepaths(in_cohort_dir)\n",
    "print(f\"Matrix file found: {matrix_file}\")\n",
    "\n",
    "# Inspect the first few lines of the file to understand its structure\n",
    "print(\"Inspecting matrix file structure:\")\n",
    "with gzip.open(matrix_file, 'rt') as f:\n",
    "    for i, line in enumerate(f):\n",
    "        print(line.strip())\n",
    "        if i > 10:  # Print just enough lines to understand the structure\n",
    "            break\n",
    "        \n",
    "# Look specifically for the marker that indicates the beginning of the gene expression data\n",
    "marker_found = False\n",
    "with gzip.open(matrix_file, 'rt') as f:\n",
    "    for i, line in enumerate(f):\n",
    "        if \"!series_matrix_table\" in line.lower():\n",
    "            print(f\"Found marker at line {i}: {line.strip()}\")\n",
    "            marker_found = True\n",
    "            # Check if the next line is the end marker\n",
    "            next_line = next(f, None)\n",
    "            if next_line and \"!series_matrix_table_end\" in next_line:\n",
    "                print(f\"Found end marker immediately after begin marker: {next_line.strip()}\")\n",
    "                print(\"This indicates the matrix file does not contain gene expression data in the expected format.\")\n",
    "            break\n",
    "\n",
    "# Based on our examination, this dataset appears to be focused on T cell receptors rather than \n",
    "# standard gene expression measurements suitable for our analysis\n",
    "print(\"\\nConclusion: This dataset contains single-cell RNA sequencing data focused on T cell receptors,\")\n",
    "print(\"but does not contain a standard gene expression matrix required for our analysis.\")\n",
    "\n",
    "# Update our metadata to reflect that gene expression data is not available in usable format\n",
    "is_gene_available = False\n",
    "is_trait_available = trait_row is not None\n",
    "\n",
    "# Save this information to the metadata\n",
    "validate_and_save_cohort_info(\n",
    "    is_final=False,\n",
    "    cohort=cohort,\n",
    "    info_path=json_path,\n",
    "    is_gene_available=is_gene_available,\n",
    "    is_trait_available=is_trait_available,\n",
    "    note=\"Dataset contains scRNA-seq data of T cell receptors but not standard gene expression matrix.\"\n",
    ")\n",
    "\n",
    "print(\"\\nMetadata updated to reflect that gene expression data is not available in the required format.\")"
   ]
  }
 ],
 "metadata": {
  "language_info": {
   "codemirror_mode": {
    "name": "ipython",
    "version": 3
   },
   "file_extension": ".py",
   "mimetype": "text/x-python",
   "name": "python",
   "nbconvert_exporter": "python",
   "pygments_lexer": "ipython3",
   "version": "3.10.16"
  }
 },
 "nbformat": 4,
 "nbformat_minor": 5
}
