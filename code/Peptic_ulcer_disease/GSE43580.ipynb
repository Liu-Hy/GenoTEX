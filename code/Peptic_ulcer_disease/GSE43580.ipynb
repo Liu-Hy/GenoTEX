{
 "cells": [
  {
   "cell_type": "code",
   "execution_count": 1,
   "id": "362edebe",
   "metadata": {
    "execution": {
     "iopub.execute_input": "2025-03-25T06:09:55.710989Z",
     "iopub.status.busy": "2025-03-25T06:09:55.710880Z",
     "iopub.status.idle": "2025-03-25T06:09:55.868568Z",
     "shell.execute_reply": "2025-03-25T06:09:55.868201Z"
    }
   },
   "outputs": [],
   "source": [
    "import sys\n",
    "import os\n",
    "sys.path.append(os.path.abspath(os.path.join(os.getcwd(), '../..')))\n",
    "\n",
    "# Path Configuration\n",
    "from tools.preprocess import *\n",
    "\n",
    "# Processing context\n",
    "trait = \"Peptic_ulcer_disease\"\n",
    "cohort = \"GSE43580\"\n",
    "\n",
    "# Input paths\n",
    "in_trait_dir = \"../../input/GEO/Peptic_ulcer_disease\"\n",
    "in_cohort_dir = \"../../input/GEO/Peptic_ulcer_disease/GSE43580\"\n",
    "\n",
    "# Output paths\n",
    "out_data_file = \"../../output/preprocess/Peptic_ulcer_disease/GSE43580.csv\"\n",
    "out_gene_data_file = \"../../output/preprocess/Peptic_ulcer_disease/gene_data/GSE43580.csv\"\n",
    "out_clinical_data_file = \"../../output/preprocess/Peptic_ulcer_disease/clinical_data/GSE43580.csv\"\n",
    "json_path = \"../../output/preprocess/Peptic_ulcer_disease/cohort_info.json\"\n"
   ]
  },
  {
   "cell_type": "markdown",
   "id": "3ec8e4b3",
   "metadata": {},
   "source": [
    "### Step 1: Initial Data Loading"
   ]
  },
  {
   "cell_type": "code",
   "execution_count": 2,
   "id": "e7f7aa60",
   "metadata": {
    "execution": {
     "iopub.execute_input": "2025-03-25T06:09:55.870085Z",
     "iopub.status.busy": "2025-03-25T06:09:55.869935Z",
     "iopub.status.idle": "2025-03-25T06:09:56.235248Z",
     "shell.execute_reply": "2025-03-25T06:09:56.234611Z"
    }
   },
   "outputs": [
    {
     "name": "stdout",
     "output_type": "stream",
     "text": [
      "Background Information:\n",
      "!Series_title\t\"SBV - Gene Expression Profiles of Lung Cancer Tumors - Adenocarcinomas and Squamous Cell Carcinomas\"\n",
      "!Series_summary\t\"This dataset encompassing the profiles of 150 lung cancer tumors was developed to serve as test dataset in the SBV IMPROVER Diagnostic Signature Challenge (sbvimprover.com). The aim of this subchallenge was to verify that it is possible to extract a robust diagnostic signature from gene expression data that can identify stages of different types of lung cancer. Participants were asked to develop and submit a classifier that can stratify lung cancer patients in one of four groups – Stage 1 of Adenocarcinoma (AC Stage 1), Stage 2 of Adenocarcinoma (AC Stage 2), Stage 1 of Squamous cell carcinoma (SCC Stage 1) or Stage 2 of Squamous cell carcinoma (SCC Stage 2). The classifier could be built by using any publicly available gene expression data with related histopathological information and was tested on the independent dataset described here.\"\n",
      "!Series_overall_design\t\"150 non-small cell lung cancer tumors (adenocarcinoma, AC and squamous cell carcinoma, SCC) of stages I and II were collected by surgical resection from patients who have provided consent. Adenosquamous and large cell tumor samples were excluded. The number of smokers and non-smokers was balanced: there were 41 AC1 (adenocarcinoma stage I), 36 AC2, 34 SCC1, and 39 SCC2 samples. Study pathologists at each of the seven sites (Lebanon, Republic of Moldova, Romania, Russian Federation, Ukraine, Vietnam and United States of America) reviewed both the tumor permanent sections and the frozen sections of the samples. Clinical information was also collected about tumor staging, history of prior cancers, lymph node involvement by lymph node sampling/dissection, smoking history, age, gender.\"\n",
      "Sample Characteristics Dictionary:\n",
      "{0: ['gender: male', 'gender: female', 'age at excision (years): NA'], 1: ['age at excision (years): 65', 'age at excision (years): 61', 'age at excision (years): 43', 'age at excision (years): 44', 'age at excision (years): 60', 'age at excision (years): 58', 'age at excision (years): 67', 'age at excision (years): 52', 'age at excision (years): 66', 'age at excision (years): 47', 'age at excision (years): 56', 'age at excision (years): 62', 'age at excision (years): 69', 'age at excision (years): 49', 'age at excision (years): 68', 'age at excision (years): 70', 'age at excision (years): 46', 'age at excision (years): 63', 'age at excision (years): 57', 'age at excision (years): 39', 'age at excision (years): 55', 'age at excision (years): 71', 'age at excision (years): 54', 'age at excision (years): 72', 'age at excision (years): 74', 'age at excision (years): 59', 'age at excision (years): 73', 'age at excision (years): 77', 'age at excision (years): 53', 'age at excision (years): 51'], 2: ['ethnicity: Caucasian', 'ethnicity: White', 'ethnicity: Asian/Pacific Islander', 'ethnicity: NA', 'clinical diagnosis patient: Adenocarcinoma of the lung (Status New)'], 3: ['clinical diagnosis patient: Squamous cell carcinoma of the lung (Status New)', 'clinical diagnosis patient: Hypertension (Status Ongoing), Chronic cholecystitis  (Status Ongoing), Adenocarcinoma of the lung (Status New)', 'clinical diagnosis patient: Simple chronic bronchitis  (Status Ongoing), Unspecified gastritis and gastroduodenitis    (Status Ongoing), Adenocarcinoma of the lung (Status New)', 'clinical diagnosis patient: Squamous cell carcinoma, keratinizing of the lung (Status New)', 'clinical diagnosis patient: Coronary artery disease (Status Ongoing), Diabetes  (Status Ongoing), Gastritis (Status Ongoing), Squamous cell carcinoma of the lung (Status New)', 'clinical diagnosis patient: Obesity   (Status Ongoing), Adenocarcinoma of the lung (Status New)', 'clinical diagnosis patient: Chronic bronchitis (Status Ongoing), Squamous cell carcinoma of the lung (Status New)', 'clinical diagnosis patient: Duodenal ulcer (Status Ongoing), Squamous cell carcinoma of the lung (Status New)', 'clinical diagnosis patient: Cancer of the head and neck (Status ), Adenocarcinoma of the lung (Status New)', 'clinical diagnosis patient: Essential hypertension (Status Ongoing), Simple chronic bronchitis (Status Ongoing), Squamous cell carcinoma of the lung (Status New)', 'clinical diagnosis patient: Chronic bronchitis (Status Ongoing), Squamous cell carcinoma, large cell, non-keratinizing of the lung (Status New)', 'clinical diagnosis patient: Unspecified gastritis and gastroduodenitis    (Status Ongoing), Coronary atherosclerosis (Status Ongoing), Squamous cell carcinoma of the lung (Status New)', 'clinical diagnosis patient: Adenocarcinoma of the lung (Status New)', 'clinical diagnosis patient: Gastric ulcer (Status Ongoing), Adenocarcinoma of the lung (Status New)', 'clinical diagnosis patient: Unspecified gastritis and gastroduodenitis (Status Ongoing), Squamous cell carcinoma of the lung (Status New)', 'clinical diagnosis patient: Hypertension (Status Ongoing), Nodular goiter (Status Ongoing), Bronchiolo-alveolar adenocarcinoma of the lung (Status New)', 'clinical diagnosis patient: Chronic bronchitis (Status Ongoing), Adenocarcinoma of the lung (Status New)', 'clinical diagnosis patient: Lesion on the right lung (Status New), Chronic obstructive pulmonary disease (Status Ongoing), Gastroesophageal reflux disease (Status Ongoing), Cancer of the colon (Status Past), Cancer of the colon (Status Past), Papillary adenocarcinoma of the right lower lung lobe  (Status New)', 'clinical diagnosis patient: Obesity (Status Ongoing), Chronic bronchitis (Status Ongoing), Squamous cell carcinoma of the lung (Status New)', 'clinical diagnosis patient: Malignant neoplasm of the lung (Status New)', 'clinical diagnosis patient: Obesity (Status Ongoing), Clear cell adenocarcinoma of the lung (Status New)', 'clinical diagnosis patient: Chronic bronchitis (Status Ongoing), Hypertension (Status Ongoing), Adenocarcinoma of the lung (Status New)', 'clinical diagnosis patient: Lesion on the left lung (Status New), Stomach ulcer (Status Past), Sinus problems (Status Ongoing), Psoriasis (Status Ongoing), Chronic obstructive pulmonary disease (Status New), Glaucoma (Status Ongoing), Anxiety (Status New), Cataract (Status New), Hypertension (Status Ongoing), Adenocarcinoma of the lung (Status New)', 'clinical diagnosis patient: Arterial hypertension (Status Ongoing), Squamous cell carcinoma, keratinizing of the lung (Status New)', 'clinical diagnosis patient: Coronary atherosclerosis    (Status Ongoing), Essential hypertension (Status Ongoing), Malignant neoplasm of lip (Status Past), Squamous cell carcinoma  of the lung (Status New)', 'clinical diagnosis patient: Hypertension (Status Ongoing), Diabetes (Status Ongoing), Adenocarcinoma of the lung (Status New)', 'clinical diagnosis patient: Hypertension (Status Ongoing), Gastritis (Status Ongoing), Adenocarcinoma of the lung (Status New)', 'clinical diagnosis patient: Appendicitis with appendectomy (Status Past), Tonsillitis with tonsillectomy (Status Past), Squamous cell carcinoma of the lung (Status New)', 'clinical diagnosis patient: Appendicitis with appendectomy (Status Past), Viral hepatitis a (Status Past), Gastric ulcer (Status Recurrent), Thyroidectomy (Status Past), Adenocarcinoma of the lung (Status New)', 'clinical diagnosis patient: Cancer of the lung (Status New), Gastroesophageal reflux disease (Status Ongoing), Hypertension (Status Ongoing), Laparotomy for liver injury (Status Past), Hemorrhoids (Status Past), Adenocarcinoma of the lung (Status New)'], 4: ['bmi: 33.9100346', 'bmi: 27.6816609', 'bmi: 26.25958475', 'bmi: 25.40170132', 'bmi: 25.48476454', 'bmi: 25.69706994', 'bmi: 29.3877551', 'bmi: 28.40550436', 'bmi: 22.85714286', 'bmi: 26.79493802', 'bmi: 34.92767916', 'bmi: 27.42857143', 'bmi: 24.48979592', 'bmi: 26.57312925', 'bmi: 20.07774787', 'bmi: 24.81632653', 'bmi: 23.88946281', 'bmi: 24.00548697', 'bmi: 24.44180209', 'bmi: 23.51020408', 'bmi: 18.9370029', 'bmi: 27.04164413', 'bmi: 29.7210791', 'bmi: 20.07960128', 'bmi: 27.47252747', 'bmi: 23.32341806', 'bmi: 0', 'bmi: 27.10204082', 'bmi: 26.0261749', 'bmi: 22.14532872'], 5: ['height (cm): 170', 'height (cm): 169', 'height (cm): 184', 'height (cm): 190', 'height (cm): 175', 'height (cm): 178', 'height (cm): 176', 'height (cm): 156', 'height (cm): 168', 'height (cm): 153', 'height (cm): 162', 'height (cm): 174', 'height (cm): 172', 'height (cm): 167', 'height (cm): 182', 'height (cm): 0', 'height (cm): 164', 'height (cm): 165', 'height (cm): 157', 'height (cm): 187', 'height (cm): 161', 'height (cm): 160', 'height (cm): 149', 'height (cm): 180', 'height (cm): 158', 'height (cm): 163', 'height (cm): 150', 'height (cm): 173', 'height (cm): 155', 'height (cm): NA'], 6: ['weight (kg): 98', 'weight (kg): 80', 'weight (kg): 75', 'weight (kg): 86', 'weight (kg): 92', 'weight (kg): 87', 'weight (kg): 90', 'weight (kg): 70', 'weight (kg): 83', 'weight (kg): 85', 'weight (kg): 84', 'weight (kg): 47', 'weight (kg): 76', 'weight (kg): 74', 'weight (kg): 63', 'weight (kg): 72', 'weight (kg): 60', 'weight (kg): 78', 'weight (kg): 56', 'weight (kg): 91', 'weight (kg): 69', 'weight (kg): 0', 'weight (kg): 64', 'weight (kg): 48', 'weight (kg): 138', 'weight (kg): 95', 'weight (kg): 100', 'weight (kg): 65', 'weight (kg): 82', 'weight (kg): 58'], 7: ['smoking status: Previous Use', 'smoking status: Current Use', 'smoking status: Occasional Use', 'smoking status: Never Used', 'smoking dose (cigarettes/day): NA', 'smoking status: NA', 'smoking duration (years): NA'], 8: ['smoking duration (years): NA', 'smoking duration (years): 45', 'smoking duration (years): 15', 'smoking duration (years): 20', 'smoking duration (years): 35', 'smoking duration (years): 0', 'smoking duration (years): 50', 'smoking duration (years): 44', 'smoking duration (years): 58', 'smoking duration (years): 48', 'smoking duration (years): 40', 'smoking duration (years): 30', 'smoking duration (years): 36', 'excision year: 2006', 'smoking duration (years): >20', 'smoking duration (years): 2', 'smoking duration (years): 52', 'smoking dose (cigarettes/day): NA', 'smoking duration (years): 31-40', 'smoking duration (years): 25', 'smoking duration (years): 27', 'smoking duration (years): 10', 'smoking duration (years): 39', 'smoking dose (cigarettes/day): 20', 'smoking duration (years): 8', 'smoking duration (years): 37', 'smoking duration (years): 23', 'smoking duration (years): 34'], 9: ['smoking dose (cigarettes/day): 15', 'smoking dose (cigarettes/day): 20', 'smoking dose (cigarettes/day): 25', 'smoking dose (cigarettes/day): 30', 'smoking dose (cigarettes/day): 0', 'smoking dose (cigarettes/day): 10', 'smoking dose (cigarettes/day): 40', 'smoking dose (cigarettes/day): NA', 'smoking dose (cigarettes/day): 60', 'sample recovery type: Surgical', 'smoking dose (cigarettes/day): 24', 'excision year: 2008', 'smoking dose (cigarettes/day): 11-20', 'smoking dose (cigarettes/day): 35', 'excision year: 2011', 'smoking dose (cigarettes/day): 2-3', 'smoking dose (cigarettes/day): 5-8', 'excision year: NA', 'smoking dose (cigarettes/day): 6-7'], 10: ['excision year: 2007', 'excision year: 2009', 'excision year: 2010', 'excision year: 2008', 'excision year: 2011', 'excision year: 2006', 'tissue: Lung Tumor', 'sample recovery type: Surgical', 'excision year: 2002', 'excision year: 2005', 'excision year: 2003', 'excision year: 2004'], 11: ['sample recovery type: Surgical', 'tnm stage: T1NXMX', 'tissue: Lung Tumor', 'tissue: Lung Diseased'], 12: ['tissue: Lung Tumor', 'ajcc uicc stage: IA', 'tnm stage: T2N1M0', 'tnm stage: T2bN0M0', 'tnm stage: T2N0MX', 'tissue: Bronchus Tumor', 'tissue: Lung Normal', 'tnm stage: T3N0MX'], 13: ['tnm stage: T2N0M0', 'tnm stage: T1NXM0', 'tnm stage: T2aN1M0', 'tnm stage: T2NXM0', 'tnm stage: T2bN0M0', 'tnm stage: T2N1M0', 'tnm stage: T3N0M0', 'tnm stage: T2bN1M0', 'tnm stage: T2aNXM0', 'tnm stage: T2NXMX', 'tnm stage: T1bNXM0', 'tnm stage: T1N1M0', 'tnm stage: T2N0MX', 'tnm stage: T1N0M0', 'tnm stage: T3NXMX', 'tnm stage: T2aN0M0', 'clinical diagnosis specimen: Adenocarcinoma of the lung', 'tnm stage: T1bN1M0', 'tnm stage: T2aN0MX', 'tnm stage: T2bNXM0', 'ajcc uicc stage: IIB', 'tnm stage: T1N1MX', 'tnm stage: T1bN0M0', 'ajcc uicc stage: IIA', 'tnm stage: T1aN1M0', 'tnm stage: T1N2M0', 'ajcc uicc stage: IB', 'tnm stage: T1bNXMX', 'tnm stage: T3NXM0', 'tnm stage: T2N1MX'], 14: ['ajcc uicc stage: IB', 'ajcc uicc stage: IA', 'ajcc uicc stage: IIA', 'ajcc uicc stage: IIB', 'rin: 7.67513', 'biosample confirmed diagnosis: Adenocarcinoma', 'biosample confirmed diagnosis: Non-small cell carcinoma', 'clinical diagnosis specimen: Adenocarcinoma of the lung', 'ajcc uicc stage: II'], 15: ['clinical diagnosis specimen: Squamous cell carcinoma of the lung', 'biosample confirmed diagnosis: Non-Small Cell Carcinoma', 'biosample confirmed diagnosis: Non-small cell carcinoma', 'biosample confirmed diagnosis: Adenocarcinoma', 'clinical diagnosis specimen: Squamous cell carcinoma, keratinizing of the lung', 'biosample confirmed diagnosis: Squamous Cell Carcinoma', 'clinical diagnosis specimen: Squamous cell carcinoma, large cell, non-keratinizing of the lung', 'clinical diagnosis specimen: Adenocarcinoma of the lung', 'biosample confirmed diagnosis: Non-small Cell Carcinoma', 'sbv challenge gold standard: AC1', 'biosample confirmed diagnosis: Clear cell adenocarcinoma', 'biosample confirmed diagnosis: Squamous cell carcinoma', 'biosample confirmed sub-diagnosis: Squamous cell carcinoma', 'clinical diagnosis specimen: Adenocarcinoma of lung', 'biosample confirmed diagnosis: Mucinous adenocarcinoma', 'rin: 8.2', 'clinical diagnosis specimen: Squamous cell carcinoma, keratinizing of the skin', 'biosample confirmed diagnosis: Bronchiolo-alveolar adenocarcinoma', 'rin: 7.3', 'clinical diagnosis specimen: Bronchiolo-alveolar adenocarcinoma of the lung'], 16: ['rin: 9.64965', 'biosample confirmed sub-diagnosis: Adenocarcinoma', 'biosample confirmed sub-diagnosis: Squamous cell carcinoma', 'clinical diagnosis specimen: Adenocarcinoma of the lung', 'rin: 9.004557', 'rin: 9.4', 'rin: 10', 'clinical diagnosis specimen: Squamous cell carcinoma of the lung', 'biosample confirmed sub-diagnosis: Squamous Cell Carcinoma', 'rin: 8.881916', 'rin: 9.7', 'rin: 9.011824', 'rin: 7.881437', 'rin: 9.599208', nan, 'clinical diagnosis specimen: Clear cell adenocarcinoma of the lung', 'rin: 8.462233', 'biosample confirmed sub-diagnosis: Squamous cell carcinoma, keratinizing', 'tumor grade: Moderate to poorly differentiated', 'rin: 8.231344', 'rin: 9.254594', 'rin: 9.2', 'rin: 8.693336', 'clinical diagnosis specimen: Squamous cell carcinoma, keratinizing of the lung', 'rin: 7.279631', 'rin: 8.9', 'biosample confirmed sub-diagnosis: Bronchiolo-alveolar adenocarcinoma', 'rin: 9.74118', 'rin: 9.137592', 'sbv challenge gold standard: AC1'], 17: ['sbv challenge gold standard: SCC1', 'clinical diagnosis specimen: Adenocarcinoma of the lung', 'clinical diagnosis specimen: Squamous cell carcinoma of the lung', 'tumor grade: Moderate to poorly differentiated', 'sbv challenge gold standard: SCC2', 'clinical diagnosis specimen: Squamous cell carcinoma, keratinizing of the lung', 'tumor grade: Poorly differentiated', 'sbv challenge gold standard: AC1', 'sbv challenge gold standard: AC2', 'tumor grade: Moderately differentiated', 'clinical diagnosis specimen: Bronchiolo-alveolar adenocarcinoma of the lung', 'clinical diagnosis specimen: Papillary adenocarcinoma of the right lower lung lobe', nan, 'clinical diagnosis specimen: Malignant neoplasm of the lung', 'tumor grade: Well differentiated', 'clinical diagnosis specimen: Squamous cell carcinoma  of the lung', 'rin: 9.99', 'clinical diagnosis specimen: Carcinoma of the lung', 'clinical diagnosis specimen: Alveolar adenocarcinoma of the lung', 'rin: 8.78', 'tumor grade: Well to moderately differentiated', 'clinical diagnosis specimen: Large cell carcinoma of the lung', 'rin: 7.5', 'clinical diagnosis specimen: Squamous cell carcinoma of the upper lobe of right lung'], 18: [nan, 'tumor grade: Poorly differentiated', 'rin: 8.24', 'tumor grade: Moderate to poorly differentiated', 'tumor grade: Moderately differentiated', 'rin: 8.8', 'rin: 7.7', 'rin: 8.94', 'tumor grade: Well differentiated', 'rin: 9.5', 'rin: 8.04', 'tumor grade: Well to moderately differentiated', 'rin: 9.89', 'sbv challenge gold standard: AC2', 'rin: 7.62', 'rin: 7.67', 'rin: 8.05', 'tumor grade: G2', 'rin: 8.5', 'rin: 8.7', 'sbv challenge gold standard: SCC2', 'rin: 8.79', 'rin: 8.2', 'rin: 7.13', 'sbv challenge gold standard: AC1', 'rin: 7.66', 'rin: 7.35', 'rin: 7.38'], 19: [nan, 'rin: 9.4', 'rin: 8.19', 'sbv challenge gold standard: AC1', 'rin: 9.35', 'rin: 8.2', 'rin: 9.54', 'rin: 8.6', 'rin: 9.21', 'rin: 8.51', 'rin: 9.3', 'sbv challenge gold standard: SCC1', 'rin: 9.25', 'rin: 9.1', 'rin: 8.39', 'sbv challenge gold standard: SCC2', 'rin: 9.65', 'rin: 9.33', 'rin: 9.8', 'rin: 8.8', 'rin: 9', 'rin: 8.09', 'rin: 7.81', 'rin: 8.58', 'rin: 9.68', 'rin: 9.95', 'sbv challenge gold standard: AC2', 'rin: 8.96', 'rin: 8.1', 'rin: 8.74'], 20: [nan, 'sbv challenge gold standard: AC1', 'sbv challenge gold standard: SCC2', 'sbv challenge gold standard: SCC1', 'sbv challenge gold standard: AC2']}\n"
     ]
    }
   ],
   "source": [
    "from tools.preprocess import *\n",
    "# 1. Identify the paths to the SOFT file and the matrix file\n",
    "soft_file, matrix_file = geo_get_relevant_filepaths(in_cohort_dir)\n",
    "\n",
    "# 2. Read the matrix file to obtain background information and sample characteristics data\n",
    "background_prefixes = ['!Series_title', '!Series_summary', '!Series_overall_design']\n",
    "clinical_prefixes = ['!Sample_geo_accession', '!Sample_characteristics_ch1']\n",
    "background_info, clinical_data = get_background_and_clinical_data(matrix_file, background_prefixes, clinical_prefixes)\n",
    "\n",
    "# 3. Obtain the sample characteristics dictionary from the clinical dataframe\n",
    "sample_characteristics_dict = get_unique_values_by_row(clinical_data)\n",
    "\n",
    "# 4. Explicitly print out all the background information and the sample characteristics dictionary\n",
    "print(\"Background Information:\")\n",
    "print(background_info)\n",
    "print(\"Sample Characteristics Dictionary:\")\n",
    "print(sample_characteristics_dict)\n"
   ]
  },
  {
   "cell_type": "markdown",
   "id": "1027109c",
   "metadata": {},
   "source": [
    "### Step 2: Dataset Analysis and Clinical Feature Extraction"
   ]
  },
  {
   "cell_type": "code",
   "execution_count": 3,
   "id": "0b937aa5",
   "metadata": {
    "execution": {
     "iopub.execute_input": "2025-03-25T06:09:56.236584Z",
     "iopub.status.busy": "2025-03-25T06:09:56.236473Z",
     "iopub.status.idle": "2025-03-25T06:09:56.242239Z",
     "shell.execute_reply": "2025-03-25T06:09:56.241854Z"
    }
   },
   "outputs": [
    {
     "name": "stdout",
     "output_type": "stream",
     "text": [
      "A new JSON file was created at: ../../output/preprocess/Peptic_ulcer_disease/cohort_info.json\n"
     ]
    }
   ],
   "source": [
    "import pandas as pd\n",
    "import os\n",
    "import json\n",
    "from typing import Optional, Dict, Any, Callable\n",
    "\n",
    "# 1. Gene Expression Data Availability \n",
    "# Based on the background information, this appears to be a gene expression dataset for lung cancer\n",
    "# The series title and summary suggest gene expression profiles of lung cancer tumors\n",
    "is_gene_available = True\n",
    "\n",
    "# 2. Variable Availability and Data Type Conversion\n",
    "# 2.1 Data Availability\n",
    "\n",
    "# For trait - Peptic ulcer disease\n",
    "# This dataset is about lung cancer, not peptic ulcer disease\n",
    "# While there are mentions of \"Duodenal ulcer\", \"Gastric ulcer\", etc., these are comorbidities and not the primary focus\n",
    "trait_row = None  # Peptic ulcer disease trait data is not available\n",
    "\n",
    "# For age - available at row 1, but not needed since trait is not available\n",
    "age_row = 1\n",
    "\n",
    "# For gender - available at row 0, but not needed since trait is not available\n",
    "gender_row = 0\n",
    "\n",
    "# 2.2 Data Type Conversion Functions\n",
    "\n",
    "def convert_trait(value):\n",
    "    \"\"\"\n",
    "    Convert clinical diagnosis text to binary indicator for peptic ulcer disease.\n",
    "    1 = has peptic ulcer disease, 0 = does not have peptic ulcer disease, None = unknown\n",
    "    \"\"\"\n",
    "    if pd.isna(value):\n",
    "        return None\n",
    "    \n",
    "    # Extract value after colon\n",
    "    if ':' in value:\n",
    "        value = value.split(':', 1)[1].strip()\n",
    "    \n",
    "    # Check for various types of ulcers related to peptic ulcer disease\n",
    "    peptic_ulcer_keywords = [\"duodenal ulcer\", \"gastric ulcer\", \"stomach ulcer\", \"peptic ulcer\"]\n",
    "    \n",
    "    # Convert to lowercase for case-insensitive matching\n",
    "    value_lower = value.lower()\n",
    "    \n",
    "    # Check if any peptic ulcer related keyword is present\n",
    "    has_peptic_ulcer = any(keyword in value_lower for keyword in peptic_ulcer_keywords)\n",
    "    \n",
    "    return 1 if has_peptic_ulcer else 0\n",
    "\n",
    "def convert_age(value):\n",
    "    \"\"\"\n",
    "    Convert age string to numeric value.\n",
    "    Return None for unknown or NA values.\n",
    "    \"\"\"\n",
    "    if pd.isna(value):\n",
    "        return None\n",
    "    \n",
    "    # Extract value after colon\n",
    "    if ':' in value:\n",
    "        value = value.split(':', 1)[1].strip()\n",
    "    \n",
    "    # Check if value is NA\n",
    "    if value == 'NA':\n",
    "        return None\n",
    "    \n",
    "    try:\n",
    "        # Convert to integer\n",
    "        return int(value)\n",
    "    except ValueError:\n",
    "        return None\n",
    "\n",
    "def convert_gender(value):\n",
    "    \"\"\"\n",
    "    Convert gender string to binary (0 = female, 1 = male).\n",
    "    Return None for unknown values.\n",
    "    \"\"\"\n",
    "    if pd.isna(value):\n",
    "        return None\n",
    "    \n",
    "    # Extract value after colon\n",
    "    if ':' in value:\n",
    "        value = value.split(':', 1)[1].strip().lower()\n",
    "    \n",
    "    if value == 'female':\n",
    "        return 0\n",
    "    elif value == 'male':\n",
    "        return 1\n",
    "    else:\n",
    "        return None\n",
    "\n",
    "# 3. Save Metadata\n",
    "# The trait data is available if trait_row is not None\n",
    "is_trait_available = trait_row is not None\n",
    "\n",
    "# Conduct initial filtering\n",
    "validate_and_save_cohort_info(\n",
    "    is_final=False,\n",
    "    cohort=cohort,\n",
    "    info_path=json_path,\n",
    "    is_gene_available=is_gene_available,\n",
    "    is_trait_available=is_trait_available\n",
    ")\n",
    "\n",
    "# 4. Clinical Feature Extraction\n",
    "# Skip this step since trait_row is None (peptic ulcer disease data is not available)\n",
    "if trait_row is not None:\n",
    "    # This code block won't execute because trait_row is None\n",
    "    # Clinical feature extraction would go here if trait data were available\n",
    "    pass\n"
   ]
  },
  {
   "cell_type": "markdown",
   "id": "8045ff73",
   "metadata": {},
   "source": [
    "### Step 3: Gene Data Extraction"
   ]
  },
  {
   "cell_type": "code",
   "execution_count": 4,
   "id": "e0b47022",
   "metadata": {
    "execution": {
     "iopub.execute_input": "2025-03-25T06:09:56.243409Z",
     "iopub.status.busy": "2025-03-25T06:09:56.243157Z",
     "iopub.status.idle": "2025-03-25T06:09:56.961799Z",
     "shell.execute_reply": "2025-03-25T06:09:56.961155Z"
    }
   },
   "outputs": [
    {
     "name": "stdout",
     "output_type": "stream",
     "text": [
      "Index(['1007_s_at', '1053_at', '117_at', '121_at', '1255_g_at', '1294_at',\n",
      "       '1316_at', '1320_at', '1405_i_at', '1431_at', '1438_at', '1487_at',\n",
      "       '1494_f_at', '1552256_a_at', '1552257_a_at', '1552258_at', '1552261_at',\n",
      "       '1552263_at', '1552264_a_at', '1552266_at'],\n",
      "      dtype='object', name='ID')\n"
     ]
    }
   ],
   "source": [
    "# 1. Use the get_genetic_data function from the library to get the gene_data from the matrix_file previously defined.\n",
    "gene_data = get_genetic_data(matrix_file)\n",
    "\n",
    "# 2. Print the first 20 row IDs (gene or probe identifiers) for future observation.\n",
    "print(gene_data.index[:20])\n"
   ]
  },
  {
   "cell_type": "markdown",
   "id": "e8e38253",
   "metadata": {},
   "source": [
    "### Step 4: Gene Identifier Review"
   ]
  },
  {
   "cell_type": "code",
   "execution_count": 5,
   "id": "16a6248c",
   "metadata": {
    "execution": {
     "iopub.execute_input": "2025-03-25T06:09:56.963093Z",
     "iopub.status.busy": "2025-03-25T06:09:56.962953Z",
     "iopub.status.idle": "2025-03-25T06:09:56.965286Z",
     "shell.execute_reply": "2025-03-25T06:09:56.964849Z"
    }
   },
   "outputs": [],
   "source": [
    "# These identifiers appear to be Affymetrix probe IDs (like \"1007_s_at\") rather than \n",
    "# standard human gene symbols (which would look like BRCA1, TP53, etc.)\n",
    "# Affymetrix probe IDs need to be mapped to standard gene symbols for analysis\n",
    "\n",
    "requires_gene_mapping = True\n"
   ]
  },
  {
   "cell_type": "markdown",
   "id": "15162bc5",
   "metadata": {},
   "source": [
    "### Step 5: Gene Annotation"
   ]
  },
  {
   "cell_type": "code",
   "execution_count": 6,
   "id": "15bc9341",
   "metadata": {
    "execution": {
     "iopub.execute_input": "2025-03-25T06:09:56.966509Z",
     "iopub.status.busy": "2025-03-25T06:09:56.966403Z",
     "iopub.status.idle": "2025-03-25T06:10:09.141586Z",
     "shell.execute_reply": "2025-03-25T06:10:09.140947Z"
    }
   },
   "outputs": [
    {
     "name": "stdout",
     "output_type": "stream",
     "text": [
      "Gene annotation preview:\n",
      "{'ID': ['1007_s_at', '1053_at', '117_at', '121_at', '1255_g_at'], 'GB_ACC': ['U48705', 'M87338', 'X51757', 'X69699', 'L36861'], 'SPOT_ID': [nan, nan, nan, nan, nan], 'Species Scientific Name': ['Homo sapiens', 'Homo sapiens', 'Homo sapiens', 'Homo sapiens', 'Homo sapiens'], 'Annotation Date': ['Oct 6, 2014', 'Oct 6, 2014', 'Oct 6, 2014', 'Oct 6, 2014', 'Oct 6, 2014'], 'Sequence Type': ['Exemplar sequence', 'Exemplar sequence', 'Exemplar sequence', 'Exemplar sequence', 'Exemplar sequence'], 'Sequence Source': ['Affymetrix Proprietary Database', 'GenBank', 'Affymetrix Proprietary Database', 'GenBank', 'Affymetrix Proprietary Database'], 'Target Description': ['U48705 /FEATURE=mRNA /DEFINITION=HSU48705 Human receptor tyrosine kinase DDR gene, complete cds', 'M87338 /FEATURE= /DEFINITION=HUMA1SBU Human replication factor C, 40-kDa subunit (A1) mRNA, complete cds', \"X51757 /FEATURE=cds /DEFINITION=HSP70B Human heat-shock protein HSP70B' gene\", 'X69699 /FEATURE= /DEFINITION=HSPAX8A H.sapiens Pax8 mRNA', 'L36861 /FEATURE=expanded_cds /DEFINITION=HUMGCAPB Homo sapiens guanylate cyclase activating protein (GCAP) gene exons 1-4, complete cds'], 'Representative Public ID': ['U48705', 'M87338', 'X51757', 'X69699', 'L36861'], 'Gene Title': ['discoidin domain receptor tyrosine kinase 1 /// microRNA 4640', 'replication factor C (activator 1) 2, 40kDa', \"heat shock 70kDa protein 6 (HSP70B')\", 'paired box 8', 'guanylate cyclase activator 1A (retina)'], 'Gene Symbol': ['DDR1 /// MIR4640', 'RFC2', 'HSPA6', 'PAX8', 'GUCA1A'], 'ENTREZ_GENE_ID': ['780 /// 100616237', '5982', '3310', '7849', '2978'], 'RefSeq Transcript ID': ['NM_001202521 /// NM_001202522 /// NM_001202523 /// NM_001954 /// NM_013993 /// NM_013994 /// NR_039783 /// XM_005249385 /// XM_005249386 /// XM_005249387 /// XM_005249389 /// XM_005272873 /// XM_005272874 /// XM_005272875 /// XM_005272877 /// XM_005275027 /// XM_005275028 /// XM_005275030 /// XM_005275031 /// XM_005275162 /// XM_005275163 /// XM_005275164 /// XM_005275166 /// XM_005275457 /// XM_005275458 /// XM_005275459 /// XM_005275461 /// XM_006715185 /// XM_006715186 /// XM_006715187 /// XM_006715188 /// XM_006715189 /// XM_006715190 /// XM_006725501 /// XM_006725502 /// XM_006725503 /// XM_006725504 /// XM_006725505 /// XM_006725506 /// XM_006725714 /// XM_006725715 /// XM_006725716 /// XM_006725717 /// XM_006725718 /// XM_006725719 /// XM_006725720 /// XM_006725721 /// XM_006725722 /// XM_006725827 /// XM_006725828 /// XM_006725829 /// XM_006725830 /// XM_006725831 /// XM_006725832 /// XM_006726017 /// XM_006726018 /// XM_006726019 /// XM_006726020 /// XM_006726021 /// XM_006726022 /// XR_427836 /// XR_430858 /// XR_430938 /// XR_430974 /// XR_431015', 'NM_001278791 /// NM_001278792 /// NM_001278793 /// NM_002914 /// NM_181471 /// XM_006716080', 'NM_002155', 'NM_003466 /// NM_013951 /// NM_013952 /// NM_013953 /// NM_013992', 'NM_000409 /// XM_006715073'], 'Gene Ontology Biological Process': ['0001558 // regulation of cell growth // inferred from electronic annotation /// 0001952 // regulation of cell-matrix adhesion // inferred from electronic annotation /// 0006468 // protein phosphorylation // inferred from electronic annotation /// 0007155 // cell adhesion // traceable author statement /// 0007169 // transmembrane receptor protein tyrosine kinase signaling pathway // inferred from electronic annotation /// 0007565 // female pregnancy // inferred from electronic annotation /// 0007566 // embryo implantation // inferred from electronic annotation /// 0007595 // lactation // inferred from electronic annotation /// 0008285 // negative regulation of cell proliferation // inferred from electronic annotation /// 0010715 // regulation of extracellular matrix disassembly // inferred from mutant phenotype /// 0014909 // smooth muscle cell migration // inferred from mutant phenotype /// 0016310 // phosphorylation // inferred from electronic annotation /// 0018108 // peptidyl-tyrosine phosphorylation // inferred from electronic annotation /// 0030198 // extracellular matrix organization // traceable author statement /// 0038063 // collagen-activated tyrosine kinase receptor signaling pathway // inferred from direct assay /// 0038063 // collagen-activated tyrosine kinase receptor signaling pathway // inferred from mutant phenotype /// 0038083 // peptidyl-tyrosine autophosphorylation // inferred from direct assay /// 0043583 // ear development // inferred from electronic annotation /// 0044319 // wound healing, spreading of cells // inferred from mutant phenotype /// 0046777 // protein autophosphorylation // inferred from direct assay /// 0060444 // branching involved in mammary gland duct morphogenesis // inferred from electronic annotation /// 0060749 // mammary gland alveolus development // inferred from electronic annotation /// 0061302 // smooth muscle cell-matrix adhesion // inferred from mutant phenotype', '0000278 // mitotic cell cycle // traceable author statement /// 0000722 // telomere maintenance via recombination // traceable author statement /// 0000723 // telomere maintenance // traceable author statement /// 0006260 // DNA replication // traceable author statement /// 0006271 // DNA strand elongation involved in DNA replication // traceable author statement /// 0006281 // DNA repair // traceable author statement /// 0006283 // transcription-coupled nucleotide-excision repair // traceable author statement /// 0006289 // nucleotide-excision repair // traceable author statement /// 0006297 // nucleotide-excision repair, DNA gap filling // traceable author statement /// 0015979 // photosynthesis // inferred from electronic annotation /// 0015995 // chlorophyll biosynthetic process // inferred from electronic annotation /// 0032201 // telomere maintenance via semi-conservative replication // traceable author statement', '0000902 // cell morphogenesis // inferred from electronic annotation /// 0006200 // ATP catabolic process // inferred from direct assay /// 0006950 // response to stress // inferred from electronic annotation /// 0006986 // response to unfolded protein // traceable author statement /// 0034605 // cellular response to heat // inferred from direct assay /// 0042026 // protein refolding // inferred from direct assay /// 0070370 // cellular heat acclimation // inferred from mutant phenotype', '0001655 // urogenital system development // inferred from sequence or structural similarity /// 0001656 // metanephros development // inferred from electronic annotation /// 0001658 // branching involved in ureteric bud morphogenesis // inferred from expression pattern /// 0001822 // kidney development // inferred from expression pattern /// 0001823 // mesonephros development // inferred from sequence or structural similarity /// 0003337 // mesenchymal to epithelial transition involved in metanephros morphogenesis // inferred from expression pattern /// 0006351 // transcription, DNA-templated // inferred from direct assay /// 0006355 // regulation of transcription, DNA-templated // inferred from electronic annotation /// 0007275 // multicellular organismal development // inferred from electronic annotation /// 0007417 // central nervous system development // inferred from expression pattern /// 0009653 // anatomical structure morphogenesis // traceable author statement /// 0030154 // cell differentiation // inferred from electronic annotation /// 0030878 // thyroid gland development // inferred from expression pattern /// 0030878 // thyroid gland development // inferred from mutant phenotype /// 0038194 // thyroid-stimulating hormone signaling pathway // traceable author statement /// 0039003 // pronephric field specification // inferred from sequence or structural similarity /// 0042472 // inner ear morphogenesis // inferred from sequence or structural similarity /// 0042981 // regulation of apoptotic process // inferred from sequence or structural similarity /// 0045893 // positive regulation of transcription, DNA-templated // inferred from direct assay /// 0045893 // positive regulation of transcription, DNA-templated // inferred from sequence or structural similarity /// 0045944 // positive regulation of transcription from RNA polymerase II promoter // inferred from direct assay /// 0048793 // pronephros development // inferred from sequence or structural similarity /// 0071371 // cellular response to gonadotropin stimulus // inferred from direct assay /// 0071599 // otic vesicle development // inferred from expression pattern /// 0072050 // S-shaped body morphogenesis // inferred from electronic annotation /// 0072073 // kidney epithelium development // inferred from electronic annotation /// 0072108 // positive regulation of mesenchymal to epithelial transition involved in metanephros morphogenesis // inferred from sequence or structural similarity /// 0072164 // mesonephric tubule development // inferred from electronic annotation /// 0072207 // metanephric epithelium development // inferred from expression pattern /// 0072221 // metanephric distal convoluted tubule development // inferred from sequence or structural similarity /// 0072278 // metanephric comma-shaped body morphogenesis // inferred from expression pattern /// 0072284 // metanephric S-shaped body morphogenesis // inferred from expression pattern /// 0072289 // metanephric nephron tubule formation // inferred from sequence or structural similarity /// 0072305 // negative regulation of mesenchymal cell apoptotic process involved in metanephric nephron morphogenesis // inferred from sequence or structural similarity /// 0072307 // regulation of metanephric nephron tubule epithelial cell differentiation // inferred from sequence or structural similarity /// 0090190 // positive regulation of branching involved in ureteric bud morphogenesis // inferred from sequence or structural similarity /// 1900212 // negative regulation of mesenchymal cell apoptotic process involved in metanephros development // inferred from sequence or structural similarity /// 1900215 // negative regulation of apoptotic process involved in metanephric collecting duct development // inferred from sequence or structural similarity /// 1900218 // negative regulation of apoptotic process involved in metanephric nephron tubule development // inferred from sequence or structural similarity /// 2000594 // positive regulation of metanephric DCT cell differentiation // inferred from sequence or structural similarity /// 2000611 // positive regulation of thyroid hormone generation // inferred from mutant phenotype /// 2000612 // regulation of thyroid-stimulating hormone secretion // inferred from mutant phenotype', '0007165 // signal transduction // non-traceable author statement /// 0007601 // visual perception // inferred from electronic annotation /// 0007602 // phototransduction // inferred from electronic annotation /// 0007603 // phototransduction, visible light // traceable author statement /// 0016056 // rhodopsin mediated signaling pathway // traceable author statement /// 0022400 // regulation of rhodopsin mediated signaling pathway // traceable author statement /// 0030828 // positive regulation of cGMP biosynthetic process // inferred from electronic annotation /// 0031282 // regulation of guanylate cyclase activity // inferred from electronic annotation /// 0031284 // positive regulation of guanylate cyclase activity // inferred from electronic annotation /// 0050896 // response to stimulus // inferred from electronic annotation'], 'Gene Ontology Cellular Component': ['0005576 // extracellular region // inferred from electronic annotation /// 0005615 // extracellular space // inferred from direct assay /// 0005886 // plasma membrane // traceable author statement /// 0005887 // integral component of plasma membrane // traceable author statement /// 0016020 // membrane // inferred from electronic annotation /// 0016021 // integral component of membrane // inferred from electronic annotation /// 0043235 // receptor complex // inferred from direct assay /// 0070062 // extracellular vesicular exosome // inferred from direct assay', '0005634 // nucleus // inferred from electronic annotation /// 0005654 // nucleoplasm // traceable author statement /// 0005663 // DNA replication factor C complex // inferred from direct assay', '0005737 // cytoplasm // inferred from direct assay /// 0005814 // centriole // inferred from direct assay /// 0005829 // cytosol // inferred from direct assay /// 0008180 // COP9 signalosome // inferred from direct assay /// 0070062 // extracellular vesicular exosome // inferred from direct assay /// 0072562 // blood microparticle // inferred from direct assay', '0005634 // nucleus // inferred from direct assay /// 0005654 // nucleoplasm // inferred from sequence or structural similarity /// 0005730 // nucleolus // inferred from direct assay', '0001750 // photoreceptor outer segment // inferred from electronic annotation /// 0001917 // photoreceptor inner segment // inferred from electronic annotation /// 0005578 // proteinaceous extracellular matrix // inferred from electronic annotation /// 0005886 // plasma membrane // inferred from direct assay /// 0016020 // membrane // inferred from electronic annotation /// 0097381 // photoreceptor disc membrane // traceable author statement'], 'Gene Ontology Molecular Function': ['0000166 // nucleotide binding // inferred from electronic annotation /// 0004672 // protein kinase activity // inferred from electronic annotation /// 0004713 // protein tyrosine kinase activity // inferred from electronic annotation /// 0004714 // transmembrane receptor protein tyrosine kinase activity // traceable author statement /// 0005515 // protein binding // inferred from physical interaction /// 0005518 // collagen binding // inferred from direct assay /// 0005518 // collagen binding // inferred from mutant phenotype /// 0005524 // ATP binding // inferred from electronic annotation /// 0016301 // kinase activity // inferred from electronic annotation /// 0016740 // transferase activity // inferred from electronic annotation /// 0016772 // transferase activity, transferring phosphorus-containing groups // inferred from electronic annotation /// 0038062 // protein tyrosine kinase collagen receptor activity // inferred from direct assay /// 0046872 // metal ion binding // inferred from electronic annotation', '0000166 // nucleotide binding // inferred from electronic annotation /// 0003677 // DNA binding // inferred from electronic annotation /// 0005515 // protein binding // inferred from physical interaction /// 0005524 // ATP binding // inferred from electronic annotation /// 0016851 // magnesium chelatase activity // inferred from electronic annotation /// 0017111 // nucleoside-triphosphatase activity // inferred from electronic annotation', '0000166 // nucleotide binding // inferred from electronic annotation /// 0005524 // ATP binding // inferred from electronic annotation /// 0019899 // enzyme binding // inferred from physical interaction /// 0031072 // heat shock protein binding // inferred from physical interaction /// 0042623 // ATPase activity, coupled // inferred from direct assay /// 0051082 // unfolded protein binding // inferred from direct assay', '0000979 // RNA polymerase II core promoter sequence-specific DNA binding // inferred from direct assay /// 0003677 // DNA binding // inferred from direct assay /// 0003677 // DNA binding // inferred from mutant phenotype /// 0003700 // sequence-specific DNA binding transcription factor activity // inferred from direct assay /// 0004996 // thyroid-stimulating hormone receptor activity // traceable author statement /// 0005515 // protein binding // inferred from physical interaction /// 0044212 // transcription regulatory region DNA binding // inferred from direct assay', '0005509 // calcium ion binding // inferred from electronic annotation /// 0008048 // calcium sensitive guanylate cyclase activator activity // inferred from electronic annotation /// 0030249 // guanylate cyclase regulator activity // inferred from electronic annotation /// 0046872 // metal ion binding // inferred from electronic annotation']}\n"
     ]
    }
   ],
   "source": [
    "# 1. Use the 'get_gene_annotation' function from the library to get gene annotation data from the SOFT file.\n",
    "gene_annotation = get_gene_annotation(soft_file)\n",
    "\n",
    "# 2. Use the 'preview_df' function from the library to preview the data and print out the results.\n",
    "print(\"Gene annotation preview:\")\n",
    "print(preview_df(gene_annotation))\n"
   ]
  },
  {
   "cell_type": "markdown",
   "id": "f9f10e95",
   "metadata": {},
   "source": [
    "### Step 6: Gene Identifier Mapping"
   ]
  },
  {
   "cell_type": "code",
   "execution_count": 7,
   "id": "9f684b83",
   "metadata": {
    "execution": {
     "iopub.execute_input": "2025-03-25T06:10:09.142955Z",
     "iopub.status.busy": "2025-03-25T06:10:09.142760Z",
     "iopub.status.idle": "2025-03-25T06:10:09.762469Z",
     "shell.execute_reply": "2025-03-25T06:10:09.762082Z"
    }
   },
   "outputs": [
    {
     "name": "stdout",
     "output_type": "stream",
     "text": [
      "First 10 gene symbols after mapping:\n",
      "Index(['A1BG', 'A1BG-AS1', 'A1CF', 'A2M', 'A2M-AS1', 'A2ML1', 'A2MP1',\n",
      "       'A4GALT', 'A4GNT', 'AA06'],\n",
      "      dtype='object', name='Gene')\n"
     ]
    }
   ],
   "source": [
    "# 1. Identify the relevant columns in gene_annotation for mapping\n",
    "# From the gene_annotation preview, we can see:\n",
    "# - 'ID' column contains probe IDs like 1007_s_at, which match the gene expression data index\n",
    "# - 'Gene Symbol' column contains the human gene symbols we need like DDR1, RFC2, etc.\n",
    "\n",
    "# 2. Get gene mapping dataframe by extracting the ID and Gene Symbol columns\n",
    "gene_mapping = get_gene_mapping(gene_annotation, prob_col='ID', gene_col='Gene Symbol')\n",
    "\n",
    "# 3. Apply the gene mapping to convert probe-level measurements to gene-level expression data\n",
    "gene_data = apply_gene_mapping(gene_data, gene_mapping)\n",
    "\n",
    "# Print the first few gene symbols to verify the mapping worked\n",
    "print(\"First 10 gene symbols after mapping:\")\n",
    "print(gene_data.index[:10])\n"
   ]
  },
  {
   "cell_type": "markdown",
   "id": "f68a80c9",
   "metadata": {},
   "source": [
    "### Step 7: Data Normalization and Linking"
   ]
  },
  {
   "cell_type": "code",
   "execution_count": 8,
   "id": "92a2c2b6",
   "metadata": {
    "execution": {
     "iopub.execute_input": "2025-03-25T06:10:09.764316Z",
     "iopub.status.busy": "2025-03-25T06:10:09.764147Z",
     "iopub.status.idle": "2025-03-25T06:10:17.633696Z",
     "shell.execute_reply": "2025-03-25T06:10:17.633313Z"
    }
   },
   "outputs": [
    {
     "name": "stdout",
     "output_type": "stream",
     "text": [
      "Normalized gene data saved to ../../output/preprocess/Peptic_ulcer_disease/gene_data/GSE43580.csv\n",
      "Created dummy clinical data with shape: (1, 150)\n",
      "Linked data shape: (150, 19846)\n",
      "Using trait column: Peptic_ulcer_disease\n"
     ]
    },
    {
     "name": "stdout",
     "output_type": "stream",
     "text": [
      "Shape after handling missing values: (150, 19846)\n",
      "The trait Peptic_ulcer_disease is severely biased (all samples have the same value).\n",
      "Data quality check failed. Dataset lacks necessary Peptic_ulcer_disease variation for association studies.\n"
     ]
    }
   ],
   "source": [
    "# 1. Normalize gene symbols in the gene expression data\n",
    "normalized_gene_data = normalize_gene_symbols_in_index(gene_data)\n",
    "\n",
    "# Save the normalized gene data\n",
    "os.makedirs(os.path.dirname(out_gene_data_file), exist_ok=True)\n",
    "normalized_gene_data.to_csv(out_gene_data_file)\n",
    "print(f\"Normalized gene data saved to {out_gene_data_file}\")\n",
    "\n",
    "# Since we determined in Step 2 that trait_row is None (no peptic ulcer disease data)\n",
    "# and is_trait_available is False, we can't proceed with proper clinical data linking\n",
    "# Instead, we need to create dummy clinical data with a constant trait value\n",
    "\n",
    "# Create minimal clinical dataframe with samples matching gene data\n",
    "sample_ids = normalized_gene_data.columns\n",
    "dummy_clinical_df = pd.DataFrame(index=[trait], \n",
    "                                  columns=sample_ids,\n",
    "                                  data=[[1] * len(sample_ids)])  # All samples marked as having the trait\n",
    "\n",
    "print(f\"Created dummy clinical data with shape: {dummy_clinical_df.shape}\")\n",
    "\n",
    "# 2. Link the clinical and genetic data (even though clinical data is just a constant)\n",
    "linked_data = geo_link_clinical_genetic_data(dummy_clinical_df, normalized_gene_data)\n",
    "print(f\"Linked data shape: {linked_data.shape}\")\n",
    "\n",
    "# Identify trait column\n",
    "trait_col = linked_data.columns[0]\n",
    "print(f\"Using trait column: {trait_col}\")\n",
    "\n",
    "# 3. Handle missing values in the linked data\n",
    "linked_data = handle_missing_values(linked_data, trait_col)\n",
    "print(f\"Shape after handling missing values: {linked_data.shape}\")\n",
    "\n",
    "# 4. Determine whether the trait and demographic features are severely biased\n",
    "# Since we created a dummy trait with all 1s, this trait is severely biased\n",
    "is_trait_biased = True\n",
    "print(f\"The trait {trait} is severely biased (all samples have the same value).\")\n",
    "unbiased_linked_data = linked_data\n",
    "\n",
    "# 5. Conduct quality check and save the cohort information\n",
    "is_usable = validate_and_save_cohort_info(\n",
    "    is_final=True, \n",
    "    cohort=cohort, \n",
    "    info_path=json_path, \n",
    "    is_gene_available=True, \n",
    "    is_trait_available=False,  # We previously determined peptic ulcer disease data is not available\n",
    "    is_biased=is_trait_biased, \n",
    "    df=unbiased_linked_data,\n",
    "    note=f\"Dataset contains gene expression data for lung cancer samples but lacks {trait} information.\"\n",
    ")\n",
    "\n",
    "# 6. Since the data is not usable (no trait variation), don't save it\n",
    "if is_usable:\n",
    "    # Create directory if it doesn't exist\n",
    "    os.makedirs(os.path.dirname(out_data_file), exist_ok=True)\n",
    "    # Save the data\n",
    "    unbiased_linked_data.to_csv(out_data_file)\n",
    "    print(f\"Linked data saved to {out_data_file}\")\n",
    "else:\n",
    "    print(f\"Data quality check failed. Dataset lacks necessary {trait} variation for association studies.\")"
   ]
  }
 ],
 "metadata": {
  "language_info": {
   "codemirror_mode": {
    "name": "ipython",
    "version": 3
   },
   "file_extension": ".py",
   "mimetype": "text/x-python",
   "name": "python",
   "nbconvert_exporter": "python",
   "pygments_lexer": "ipython3",
   "version": "3.10.16"
  }
 },
 "nbformat": 4,
 "nbformat_minor": 5
}
