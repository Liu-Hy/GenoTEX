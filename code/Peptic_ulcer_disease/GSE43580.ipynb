{
 "cells": [
  {
   "cell_type": "markdown",
   "id": "4710bc93",
   "metadata": {},
   "source": [
    "### Step 1: Initial Data Loading"
   ]
  },
  {
   "cell_type": "code",
   "execution_count": null,
   "id": "6461ba38",
   "metadata": {},
   "outputs": [],
   "source": [
    "from utils.preprocess import *\n",
    "# 1. Identify the paths to the soft file and the matrix file\n",
    "cohort_dir = '/media/techt/DATA/GEO/Peptic_ulcer_disease/GSE43580'\n",
    "soft_file, matrix_file = geo_get_relevant_filepaths(cohort_dir)\n",
    "\n",
    "# 2. Read the matrix file to obtain background information and sample characteristics data\n",
    "background_prefixes = ['!Series_title', '!Series_summary', '!Series_overall_design']\n",
    "clinical_prefixes = ['!Sample_geo_accession', '!Sample_characteristics_ch1']\n",
    "background_info, clinical_data = get_background_and_clinical_data(matrix_file, background_prefixes, clinical_prefixes)\n",
    "\n",
    "# 3. Obtain the sample characteristics dictionary from the clinical dataframe\n",
    "sample_characteristics_dict = get_unique_values_by_row(clinical_data)\n",
    "\n",
    "# 4. Explicitly print out all the background information and the sample characteristics dictionary\n",
    "print(\"Background Information:\")\n",
    "print(background_info)\n",
    "print(\"Sample Characteristics Dictionary:\")\n",
    "print(sample_characteristics_dict)\n"
   ]
  },
  {
   "cell_type": "markdown",
   "id": "0e617d7d",
   "metadata": {},
   "source": [
    "### Step 2: Dataset Analysis and Clinical Feature Extraction"
   ]
  },
  {
   "cell_type": "code",
   "execution_count": null,
   "id": "9ccfac1a",
   "metadata": {},
   "outputs": [],
   "source": [
    "is_gene_available = False\n",
    "trait_row = age_row = gender_row = None  # set to different values when applicable\n",
    "convert_trait = convert_age = convert_gender = None  # define the functions when applicable\n",
    "\n",
    "# 1. Gene Expression Data Availability\n",
    "is_gene_available = True  # This dataset includes gene expression profiling for lung cancer tumors\n",
    "\n",
    "# 2. Variable Availability and Data Type Conversion\n",
    "# Assumption mappings:\n",
    "# - Peptic_ulcer_disease is likely inferred from clinical diagnosis fields\n",
    "# - Age and gender are explicitly available\n",
    "\n",
    "# 2.1 Data Availability\n",
    "trait_row = None  # 'Peptic_ulcer_disease' specifics need checking \n",
    "# if explicit matches can be discovered within clinical data, update the row accordingly\n",
    "for row, values in {3: ['clinical diagnosis patient: Squamous cell carcinoma of the lung (Status New)',\n",
    "                        'clinical diagnosis patient: Duodenal ulcer (Status Ongoing), Squamous cell carcinoma of the lung (Status New)',\n",
    "                        'clinical diagnosis patient: Gastric ulcer (Status Ongoing), Adenocarcinoma of the lung (Status New)']}.items():\n",
    "    for value in values:\n",
    "        if 'peptic' in value.lower() or 'gastric ulcer' in value.lower():\n",
    "            trait_row = row\n",
    "            break\n",
    "    if trait_row is not None:\n",
    "        break\n",
    "\n",
    "age_row = 1  # Age at excision (years)\n",
    "gender_row = 0  # Gender: male, female\n",
    "\n",
    "# 2.3 Data Type Conversion\n",
    "def convert_trait(value):\n",
    "    if value:\n",
    "        value = value.split(\":\")[1].strip().lower()\n",
    "        if \"peptic\" in value or \"gastric ulcer\" in value:\n",
    "            return 1\n",
    "    return 0\n",
    "\n",
    "def convert_age(value):\n",
    "    value = value.split(\":\")\n",
    "    if len(value) > 1:\n",
    "        try:\n",
    "            return float(value[1].strip())\n",
    "        except:\n",
    "            return None\n",
    "    return None\n",
    "\n",
    "def convert_gender(value):\n",
    "    gender_str = value.split(\":\")[1].strip().lower()\n",
    "    if gender_str == \"male\":\n",
    "        return 1\n",
    "    elif gender_str == \"female\":\n",
    "        return 0\n",
    "    else:\n",
    "        return None\n",
    "\n",
    "# 3. Save Metadata\n",
    "def save_cohort_info(study_id, file_path, is_gene_available, is_clinical_available):\n",
    "    cohort_info = {\n",
    "        'study_id': study_id,\n",
    "        'gene_expression_avail': is_gene_available,\n",
    "        'clinical_data_avail': is_clinical_available\n",
    "    }\n",
    "    with open(file_path, 'w') as f:\n",
    "        json.dump(cohort_info, f)\n",
    "\n",
    "save_cohort_info('GSE43580', './preprocessed/Peptic_ulcer_disease/cohort_info.json', is_gene_available, trait_row is not None)\n",
    "\n",
    "# 4. Clinical Feature Extraction\n",
    "from utils.preprocess import geo_select_clinical_features, preview_df\n",
    "\n",
    "if trait_row is not None:\n",
    "    selected_clinical_data = geo_select_clinical_features(clinical_data, 'Peptic_ulcer_disease', trait_row, convert_trait, age_row, convert_age, gender_row, convert_gender)\n",
    "    csv_path = './preprocessed/Peptic_ulcer_disease/trait_data/GSE43580.csv'\n",
    "    selected_clinical_data.to_csv(csv_path)\n",
    "    print(preview_df(selected_clinical_data))\n"
   ]
  },
  {
   "cell_type": "markdown",
   "id": "a5fe6858",
   "metadata": {},
   "source": [
    "### Step 3: Gene Data Extraction"
   ]
  },
  {
   "cell_type": "code",
   "execution_count": null,
   "id": "6878a92d",
   "metadata": {},
   "outputs": [],
   "source": [
    "# 1. Use the get_genetic_data function from the library to get the gene_data from the matrix_file previously defined.\n",
    "gene_data = get_genetic_data(matrix_file)\n",
    "\n",
    "# 2. Print the first 20 row ids for the following step.\n",
    "print(gene_data.index[:20])\n"
   ]
  },
  {
   "cell_type": "markdown",
   "id": "d4cf2634",
   "metadata": {},
   "source": [
    "### Step 4: Gene Identifier Review"
   ]
  },
  {
   "cell_type": "code",
   "execution_count": null,
   "id": "dc5576d0",
   "metadata": {},
   "outputs": [],
   "source": [
    "requires_gene_mapping = True\n"
   ]
  },
  {
   "cell_type": "markdown",
   "id": "6b0ca5a2",
   "metadata": {},
   "source": [
    "### Step 5: Gene Annotation (Conditional)"
   ]
  },
  {
   "cell_type": "code",
   "execution_count": null,
   "id": "8fa06fbe",
   "metadata": {},
   "outputs": [],
   "source": [
    "# 1. Use the 'get_gene_annotation' function from the library to get gene annotation data from the soft file.\n",
    "gene_annotation = get_gene_annotation(soft_file)\n",
    "\n",
    "# 2. Use the 'preview_df' function from the library to preview the data and print out the results.\n",
    "print(\"Gene annotation preview:\")\n",
    "print(preview_df(gene_annotation))\n"
   ]
  },
  {
   "cell_type": "markdown",
   "id": "4f560aa5",
   "metadata": {},
   "source": [
    "### Step 6: Gene Identifier Mapping"
   ]
  },
  {
   "cell_type": "code",
   "execution_count": null,
   "id": "2ea045ab",
   "metadata": {},
   "outputs": [],
   "source": [
    "# 1. Set the keys for identifiers and gene symbols\n",
    "identifier_key = 'ID'\n",
    "gene_symbol_key = 'Gene Symbol'\n",
    "\n",
    "# 2. Get the dataframe storing the mapping between probe IDs and genes\n",
    "mapping_df = get_gene_mapping(gene_annotation, identifier_key, gene_symbol_key)\n",
    "\n",
    "# 3. Apply the mapping to get the gene expression dataframe\n",
    "gene_data = apply_gene_mapping(gene_data, mapping_df)\n"
   ]
  },
  {
   "cell_type": "markdown",
   "id": "d8681472",
   "metadata": {},
   "source": [
    "### Step 7: Data Normalization and Merging"
   ]
  },
  {
   "cell_type": "code",
   "execution_count": null,
   "id": "6d09dee4",
   "metadata": {},
   "outputs": [],
   "source": [
    "# 1. Normalize the obtained gene data with the 'normalize_gene_symbols_in_index' function from the library.\n",
    "normalized_gene_data = normalize_gene_symbols_in_index(gene_data)\n",
    "gene_csv_path = './preprocessed/Peptic_ulcer_disease/gene_data/GSE43580.csv'\n",
    "normalized_gene_data.to_csv(gene_csv_path)\n",
    "\n",
    "# 2. Merge the clinical and genetic data with the 'geo_merge_clinical_genetic_data' function from the library.\n",
    "merged_data = geo_merge_clinical_genetic_data(selected_clinical_data, normalized_gene_data)\n",
    "\n",
    "# 3. Determine whether the trait and some demographic attributes in the data is severely biased, and remove biased attributes.\n",
    "trait_biased, unbiased_merged_data = judge_and_remove_biased_features(merged_data, 'Peptic_ulcer_disease')\n",
    "\n",
    "# If the trait is not severely biased, save the cohort information and the merged data.\n",
    "\n",
    "# 4. Save the cohort information.\n",
    "save_cohort_info('GSE43580', './preprocessed/Peptic_ulcer_disease/cohort_info.json', True, True, trait_biased, merged_data)\n",
    "\n",
    "if not trait_biased:\n",
    "    # 5. If the trait is not severely biased, save the merged data to a csv file.\n",
    "    csv_path = './preprocessed/Peptic_ulcer_disease/GSE43580.csv'\n",
    "    unbiased_merged_data.to_csv(csv_path)\n"
   ]
  }
 ],
 "metadata": {},
 "nbformat": 4,
 "nbformat_minor": 5
}
