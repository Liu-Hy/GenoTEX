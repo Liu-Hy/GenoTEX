{
 "cells": [
  {
   "cell_type": "code",
   "execution_count": 1,
   "id": "969e29c1",
   "metadata": {
    "execution": {
     "iopub.execute_input": "2024-06-12T07:23:09.370313Z",
     "iopub.status.busy": "2024-06-12T07:23:09.369945Z",
     "iopub.status.idle": "2024-06-12T07:23:09.376443Z",
     "shell.execute_reply": "2024-06-12T07:23:09.376083Z"
    }
   },
   "outputs": [],
   "source": [
    "\n",
    "import sys\n",
    "sys.path.append('/home/techt/Desktop/a4s')\n"
   ]
  },
  {
   "cell_type": "markdown",
   "id": "bd9ab06e",
   "metadata": {},
   "source": [
    "### Step 1: Initial Data Loading"
   ]
  },
  {
   "cell_type": "code",
   "execution_count": 2,
   "id": "717a6751",
   "metadata": {
    "execution": {
     "iopub.execute_input": "2024-06-12T07:23:09.377934Z",
     "iopub.status.busy": "2024-06-12T07:23:09.377829Z",
     "iopub.status.idle": "2024-06-12T07:23:09.734432Z",
     "shell.execute_reply": "2024-06-12T07:23:09.733913Z"
    }
   },
   "outputs": [
    {
     "name": "stdout",
     "output_type": "stream",
     "text": [
      "Background Information:\n",
      "!Series_title\t\"Toll-like receptor 10 in Helicobacter pylori infection\"\n",
      "!Series_summary\t\"Helicobacter pylori is a highly successful and important human pathogen that causes chronic gastritis, peptic ulcer diseases and gastric cancer. Innate immunity plays an important role of the primary defense against pathogens and epidemiological studies have suggested a role of toll-like receptor 1 (TLR1) in the risk of H. pylori acquisition. We performed microarray analysis of gastric mucosal biopsy specimens from H. pylori-positive and uninfected subjects; infection was associated with an ~15-fold up-regulation of TLR10 (p <0.001). Quantitative RT-PCR confirmed  TLR10 mRNA levels were increased 3-fold in H. pylori-infection (p <0.001) and immunohistochemistory using anti-TLR10 polyclonal antibodies showed increased TLR10 expression in gastric epithelial cells of infected individuals. In vitro experiments where H. pylori was co-cultured with NCI-N87 gastric cells showed significant H. pylori-specific up-regulation of TLR10 mRNA levels and a correlation with TLR2 mRNA levels (R = 0.87, P <0.001).  We compared combinations of TLRs for their ability to mediate NF-_B activation. NF-_B activation was increased following exposure to heat killed H. pylori or H. pylori-LPS only with the TLR2/TLR10 heterodimer. These findings suggest TLR10 is a functional receptor involved in the innate immune response to H. pylori infection and that TLR2/TLR10 heterodimer possibly functions in the recognition of H. pylori-LPS.\"\n",
      "!Series_overall_design\t\"We have employed whole genome microarray expression profiling of gastric epithelium in H.pylori infection. We compare 1) Hp positive and negative group. 2) by gastritis grade 3) by countries.\"\n",
      "Sample Characteristics Dictionary:\n",
      "{0: ['tissue: gastric epithelium'], 1: ['gender: F', 'gender: M'], 2: ['age: 50', 'age: 25', 'age: 66', 'age: 33', 'age: 27', 'age: 47', 'age: 38', 'age: 30', 'age: 28', 'age: 51', 'age: 40', 'age: 24', 'age: 53', 'age: 65', 'age: 34', 'age: 18', 'age: 61', 'age: 41', 'age: 64', 'age: 49', 'age: 42', 'age: 82', 'age: 73', 'age: 57', 'age: 46'], 3: ['country: Bhutan', 'country: Dominican Republic'], 4: ['gastritis grade: normal', 'gastritis grade: mild', 'gastritis grade: severe', 'gastritis grade: IM']}\n"
     ]
    }
   ],
   "source": [
    "from utils.preprocess import *\n",
    "# 1. Identify the paths to the soft file and the matrix file\n",
    "cohort_dir = '/media/techt/DATA/GEO/Peptic_ulcer_disease/GSE60427'\n",
    "soft_file, matrix_file = geo_get_relevant_filepaths(cohort_dir)\n",
    "\n",
    "# 2. Read the matrix file to obtain background information and sample characteristics data\n",
    "background_prefixes = ['!Series_title', '!Series_summary', '!Series_overall_design']\n",
    "clinical_prefixes = ['!Sample_geo_accession', '!Sample_characteristics_ch1']\n",
    "background_info, clinical_data = get_background_and_clinical_data(matrix_file, background_prefixes, clinical_prefixes)\n",
    "\n",
    "# 3. Obtain the sample characteristics dictionary from the clinical dataframe\n",
    "sample_characteristics_dict = get_unique_values_by_row(clinical_data)\n",
    "\n",
    "# 4. Explicitly print out all the background information and the sample characteristics dictionary\n",
    "print(\"Background Information:\")\n",
    "print(background_info)\n",
    "print(\"Sample Characteristics Dictionary:\")\n",
    "print(sample_characteristics_dict)\n"
   ]
  },
  {
   "cell_type": "markdown",
   "id": "e75aefc0",
   "metadata": {},
   "source": [
    "### Step 2: Dataset Analysis and Clinical Feature Extraction"
   ]
  },
  {
   "cell_type": "code",
   "execution_count": 3,
   "id": "e8244544",
   "metadata": {
    "execution": {
     "iopub.execute_input": "2024-06-12T07:23:09.736216Z",
     "iopub.status.busy": "2024-06-12T07:23:09.736093Z",
     "iopub.status.idle": "2024-06-12T07:23:09.739997Z",
     "shell.execute_reply": "2024-06-12T07:23:09.739626Z"
    }
   },
   "outputs": [],
   "source": [
    "is_gene_available = False\n",
    "trait_row = age_row = gender_row = None  # set to different values when applicable\n",
    "convert_trait = convert_age = convert_gender = None  # define the functions when applicable\n",
    "\n",
    "# Checking if gene expression data is available\n",
    "# Since the study involves whole genome microarray expression profiling of gastric epithelium\n",
    "is_gene_available = True\n",
    "\n",
    "# Checking availability of Peptic_ulcer_disease data\n",
    "# Based on the given output, there's no explicit mention or direct variable for peptic ulcer disease in the sample characteristics\n",
    "# Hence, `trait_row` is set to None\n",
    "trait_row = None\n",
    "\n",
    "# Checking availability of age data\n",
    "age_row = 2  # Age data is found at key 2\n",
    "\n",
    "# Checking availability of gender data\n",
    "gender_row = 1  # Gender data is found at key 1\n",
    "\n",
    "# Define convert_age function\n",
    "def convert_age(value):\n",
    "    try:\n",
    "        return float(value.split(':')[1])\n",
    "    except:\n",
    "        return None\n",
    "\n",
    "# Define convert_gender function\n",
    "def convert_gender(value):\n",
    "    gender = value.split(':')[1].strip()\n",
    "    if gender.lower() == 'm':\n",
    "        return 1  # Male\n",
    "    elif gender.lower() == 'f':\n",
    "        return 0  # Female\n",
    "    else:\n",
    "        return None\n",
    "\n",
    "# Saving cohort information\n",
    "save_cohort_info('GSE60427', './preprocessed/Peptic_ulcer_disease/cohort_info.json', is_gene_available, trait_row is not None)\n"
   ]
  }
 ],
 "metadata": {
  "language_info": {
   "codemirror_mode": {
    "name": "ipython",
    "version": 3
   },
   "file_extension": ".py",
   "mimetype": "text/x-python",
   "name": "python",
   "nbconvert_exporter": "python",
   "pygments_lexer": "ipython3",
   "version": "3.8.17"
  }
 },
 "nbformat": 4,
 "nbformat_minor": 5
}
