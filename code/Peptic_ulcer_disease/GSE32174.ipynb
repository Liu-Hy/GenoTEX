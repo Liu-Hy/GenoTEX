{
 "cells": [
  {
   "cell_type": "code",
   "execution_count": 1,
   "id": "9442101c",
   "metadata": {
    "execution": {
     "iopub.execute_input": "2024-06-12T07:23:10.602907Z",
     "iopub.status.busy": "2024-06-12T07:23:10.602630Z",
     "iopub.status.idle": "2024-06-12T07:23:10.607797Z",
     "shell.execute_reply": "2024-06-12T07:23:10.607532Z"
    }
   },
   "outputs": [],
   "source": [
    "\n",
    "import sys\n",
    "sys.path.append('/home/techt/Desktop/a4s')\n"
   ]
  },
  {
   "cell_type": "markdown",
   "id": "8ae24895",
   "metadata": {},
   "source": [
    "### Step 1: Initial Data Loading"
   ]
  },
  {
   "cell_type": "code",
   "execution_count": 2,
   "id": "159715ef",
   "metadata": {
    "execution": {
     "iopub.execute_input": "2024-06-12T07:23:10.610081Z",
     "iopub.status.busy": "2024-06-12T07:23:10.609809Z",
     "iopub.status.idle": "2024-06-12T07:23:10.836162Z",
     "shell.execute_reply": "2024-06-12T07:23:10.835873Z"
    }
   },
   "outputs": [
    {
     "name": "stdout",
     "output_type": "stream",
     "text": [
      "Background Information:\n",
      "!Series_title\t\"microRNA profiling in duodenal ulcer disease caused by Helicobacter pylori infection in a Western population.\"\n",
      "!Series_summary\t\"The aim of this study was to identify and assess the utility of miRNAs as diagnostic surrogate markers for H.pylori infection. For this purpose, we analyzed the miRNA expression profile by microarrays in the antral mucosa of well characterized dyspeptic patients and then applied the most significant set of miRNAs to an independent validation group. Our results shows that a set of miRNAs are deregulated during chronic gastric inflammation and that this set may be may be useful as a surrogate marker for determining the presence of H.pylori.\"\n",
      "!Series_overall_design\t\"Total RNA from antral biopsies from patients with Helicobacter pylory (Hp) infection (with or without virulence factor caG) and healthy volunteers were isolated. MiRNA expression profiles were analyzed using miRNA microarray platform.\"\n",
      "Sample Characteristics Dictionary:\n",
      "{0: ['gender: Male', 'gender: Female'], 1: ['age: 47', 'age: 43', 'age: 42', 'age: 33', 'age: 36', 'age: 35', 'age: 67', 'age: 38', 'age: 39', 'age: 56', 'age: 63', 'age: 58', 'age: 41', 'age: 64', 'age: 53', 'age: 21', 'age: 25', 'age: 55', 'age: 49', 'age: 45', 'age: 20', 'age: 68', 'age: 37', 'age: 65', 'age: 19', 'age: 80', 'age: 57', 'age: 66', 'age: 50', 'age: 27'], 2: ['hp_presence: yes', 'hp_presence: no'], 3: ['caga presence: yes', 'caga presence: no']}\n"
     ]
    }
   ],
   "source": [
    "from utils.preprocess import *\n",
    "# 1. Identify the paths to the soft file and the matrix file\n",
    "cohort_dir = '/media/techt/DATA/GEO/Peptic_ulcer_disease/GSE32174'\n",
    "soft_file, matrix_file = geo_get_relevant_filepaths(cohort_dir)\n",
    "\n",
    "# 2. Read the matrix file to obtain background information and sample characteristics data\n",
    "background_prefixes = ['!Series_title', '!Series_summary', '!Series_overall_design']\n",
    "clinical_prefixes = ['!Sample_geo_accession', '!Sample_characteristics_ch1']\n",
    "background_info, clinical_data = get_background_and_clinical_data(matrix_file, background_prefixes, clinical_prefixes)\n",
    "\n",
    "# 3. Obtain the sample characteristics dictionary from the clinical dataframe\n",
    "sample_characteristics_dict = get_unique_values_by_row(clinical_data)\n",
    "\n",
    "# 4. Explicitly print out all the background information and the sample characteristics dictionary\n",
    "print(\"Background Information:\")\n",
    "print(background_info)\n",
    "print(\"Sample Characteristics Dictionary:\")\n",
    "print(sample_characteristics_dict)\n"
   ]
  },
  {
   "cell_type": "markdown",
   "id": "60dbaf1e",
   "metadata": {},
   "source": [
    "### Step 2: Dataset Analysis and Clinical Feature Extraction"
   ]
  },
  {
   "cell_type": "code",
   "execution_count": 3,
   "id": "710de002",
   "metadata": {
    "execution": {
     "iopub.execute_input": "2024-06-12T07:23:10.838446Z",
     "iopub.status.busy": "2024-06-12T07:23:10.838306Z",
     "iopub.status.idle": "2024-06-12T07:23:10.842706Z",
     "shell.execute_reply": "2024-06-12T07:23:10.842450Z"
    }
   },
   "outputs": [],
   "source": [
    "is_gene_available = False\n",
    "trait_row = age_row = gender_row = None  # set to different values when applicable\n",
    "convert_trait = convert_age = convert_gender = None  # define the functions when applicable\n",
    "\n",
    "# The sample characteristics dictionary from STEP 1\n",
    "sample_characteristics = {\n",
    "    0: ['gender: Male', 'gender: Female'], \n",
    "    1: ['age: 47', 'age: 43', 'age: 42', 'age: 33', 'age: 36', 'age: 35', 'age: 67', 'age: 38', 'age: 39', 'age: 56', 'age: 63', 'age: 58', 'age: 41', 'age: 64', 'age: 53', 'age: 21', 'age: 25', 'age: 55', 'age: 49', 'age: 45', 'age: 20', 'age: 68', 'age: 37', 'age: 65', 'age: 19', 'age: 80', 'age: 57', 'age: 66', 'age: 50', 'age: 27'], \n",
    "    2: ['hp_presence: yes', 'hp_presence: no'], \n",
    "    3: ['caga presence: yes', 'caga presence: no']\n",
    "}\n",
    "\n",
    "# Check if gene expression data is available\n",
    "# Based on the background information, it appears the study is focused on miRNA expression profiling, not gene expression.\n",
    "is_gene_available = False\n",
    "\n",
    "# Check data availability for variables\n",
    "# The given sample characteristics do not directly mention 'Peptic_ulcer_disease'.\n",
    "# Age and gender data availability check:\n",
    "if 'gender: Male' in sample_characteristics[0]:\n",
    "    gender_row = 0\n",
    "if 'age: 47' in sample_characteristics[1]:\n",
    "    age_row = 1\n",
    "\n",
    "# Define data type conversion functions\n",
    "def convert_trait(value):\n",
    "    return None  # Since trait_row is not available\n",
    "\n",
    "def convert_age(value):\n",
    "    try:\n",
    "        return float(value.split(':')[1].strip())\n",
    "    except:\n",
    "        return None\n",
    "\n",
    "def convert_gender(value):\n",
    "    try:\n",
    "        gender = value.split(':')[1].strip().lower()\n",
    "        if gender == 'male':\n",
    "            return 1\n",
    "        elif gender == 'female':\n",
    "            return 0\n",
    "        else:\n",
    "            return None\n",
    "    except:\n",
    "        return None\n",
    "\n",
    "# Save cohort information\n",
    "save_cohort_info('GSE32174', './preprocessed/Peptic_ulcer_disease/cohort_info.json', is_gene_available, trait_row is not None)\n",
    "\n",
    "# Since trait_row is None, no need to extract and save clinical feature data\n"
   ]
  }
 ],
 "metadata": {
  "language_info": {
   "codemirror_mode": {
    "name": "ipython",
    "version": 3
   },
   "file_extension": ".py",
   "mimetype": "text/x-python",
   "name": "python",
   "nbconvert_exporter": "python",
   "pygments_lexer": "ipython3",
   "version": "3.8.17"
  }
 },
 "nbformat": 4,
 "nbformat_minor": 5
}
