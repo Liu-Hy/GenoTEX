{
 "cells": [
  {
   "cell_type": "code",
   "execution_count": 1,
   "id": "44e5a653",
   "metadata": {
    "execution": {
     "iopub.execute_input": "2025-03-25T06:10:23.281662Z",
     "iopub.status.busy": "2025-03-25T06:10:23.281490Z",
     "iopub.status.idle": "2025-03-25T06:10:23.449575Z",
     "shell.execute_reply": "2025-03-25T06:10:23.449227Z"
    }
   },
   "outputs": [],
   "source": [
    "import sys\n",
    "import os\n",
    "sys.path.append(os.path.abspath(os.path.join(os.getcwd(), '../..')))\n",
    "\n",
    "# Path Configuration\n",
    "from tools.preprocess import *\n",
    "\n",
    "# Processing context\n",
    "trait = \"Peptic_ulcer_disease\"\n",
    "\n",
    "# Input paths\n",
    "tcga_root_dir = \"../../input/TCGA\"\n",
    "\n",
    "# Output paths\n",
    "out_data_file = \"../../output/preprocess/Peptic_ulcer_disease/TCGA.csv\"\n",
    "out_gene_data_file = \"../../output/preprocess/Peptic_ulcer_disease/gene_data/TCGA.csv\"\n",
    "out_clinical_data_file = \"../../output/preprocess/Peptic_ulcer_disease/clinical_data/TCGA.csv\"\n",
    "json_path = \"../../output/preprocess/Peptic_ulcer_disease/cohort_info.json\"\n"
   ]
  },
  {
   "cell_type": "markdown",
   "id": "015680af",
   "metadata": {},
   "source": [
    "### Step 1: Initial Data Loading"
   ]
  },
  {
   "cell_type": "code",
   "execution_count": 2,
   "id": "8eca8da0",
   "metadata": {
    "execution": {
     "iopub.execute_input": "2025-03-25T06:10:23.451046Z",
     "iopub.status.busy": "2025-03-25T06:10:23.450891Z",
     "iopub.status.idle": "2025-03-25T06:10:24.619029Z",
     "shell.execute_reply": "2025-03-25T06:10:24.618555Z"
    }
   },
   "outputs": [
    {
     "name": "stdout",
     "output_type": "stream",
     "text": [
      "Clinical data columns:\n",
      "['CDE_ID_3226963', '_INTEGRATION', '_PATIENT', '_cohort', '_primary_disease', '_primary_site', 'additional_pharmaceutical_therapy', 'additional_radiation_therapy', 'additional_surgery_locoregional_procedure', 'additional_surgery_metastatic_procedure', 'age_at_initial_pathologic_diagnosis', 'anatomic_neoplasm_subdivision', 'antireflux_treatment', 'antireflux_treatment_type', 'barretts_esophagus', 'bcr_followup_barcode', 'bcr_patient_barcode', 'bcr_sample_barcode', 'city_of_procurement', 'country_of_procurement', 'days_to_additional_surgery_locoregional_procedure', 'days_to_additional_surgery_metastatic_procedure', 'days_to_birth', 'days_to_collection', 'days_to_death', 'days_to_initial_pathologic_diagnosis', 'days_to_last_followup', 'days_to_new_tumor_event_after_initial_treatment', 'family_history_of_stomach_cancer', 'followup_case_report_form_submission_reason', 'followup_treatment_success', 'form_completion_date', 'gender', 'h_pylori_infection', 'histological_type', 'history_of_neoadjuvant_treatment', 'icd_10', 'icd_o_3_histology', 'icd_o_3_site', 'informed_consent_verified', 'initial_weight', 'intermediate_dimension', 'is_ffpe', 'longest_dimension', 'lost_follow_up', 'lymph_node_examined_count', 'neoplasm_histologic_grade', 'new_neoplasm_event_occurrence_anatomic_site', 'new_neoplasm_event_type', 'new_neoplasm_occurrence_anatomic_site_text', 'new_tumor_event_after_initial_treatment', 'number_of_lymphnodes_positive_by_he', 'number_of_relatives_with_stomach_cancer', 'oct_embedded', 'other_dx', 'pathologic_M', 'pathologic_N', 'pathologic_T', 'pathologic_stage', 'pathology_report_file_name', 'patient_death_reason', 'patient_id', 'person_neoplasm_cancer_status', 'primary_lymph_node_presentation_assessment', 'primary_therapy_outcome_success', 'progression_determined_by', 'radiation_therapy', 'reflux_history', 'residual_disease_post_new_tumor_event_margin_status', 'residual_tumor', 'sample_type', 'sample_type_id', 'shortest_dimension', 'system_version', 'targeted_molecular_therapy', 'tissue_prospective_collection_indicator', 'tissue_retrospective_collection_indicator', 'tissue_source_site', 'tumor_tissue_site', 'vial_number', 'vital_status', 'year_of_initial_pathologic_diagnosis', '_GENOMIC_ID_TCGA_STAD_mutation', '_GENOMIC_ID_TCGA_STAD_mutation_curated_broad_gene', '_GENOMIC_ID_TCGA_STAD_mutation_ucsc_maf_gene', '_GENOMIC_ID_TCGA_STAD_exp_GA_exon', '_GENOMIC_ID_TCGA_STAD_exp_HiSeqV2', '_GENOMIC_ID_TCGA_STAD_hMethyl27', '_GENOMIC_ID_TCGA_STAD_mutation_bcm_gene', '_GENOMIC_ID_TCGA_STAD_gistic2', '_GENOMIC_ID_TCGA_STAD_hMethyl450', '_GENOMIC_ID_data/public/TCGA/STAD/miRNA_GA_gene', '_GENOMIC_ID_TCGA_STAD_RPPA', '_GENOMIC_ID_TCGA_STAD_miRNA_HiSeq', '_GENOMIC_ID_TCGA_STAD_PDMRNAseqCNV', '_GENOMIC_ID_TCGA_STAD_gistic2thd', '_GENOMIC_ID_TCGA_STAD_exp_HiSeqV2_exon', '_GENOMIC_ID_TCGA_STAD_exp_HiSeq_exon', '_GENOMIC_ID_TCGA_STAD_exp_GA', '_GENOMIC_ID_TCGA_STAD_exp_HiSeqV2_PANCAN', '_GENOMIC_ID_TCGA_STAD_mutation_broad_gene', '_GENOMIC_ID_TCGA_STAD_PDMRNAseq', '_GENOMIC_ID_data/public/TCGA/STAD/miRNA_HiSeq_gene', '_GENOMIC_ID_TCGA_STAD_exp_HiSeqV2_percentile', '_GENOMIC_ID_TCGA_STAD_mutation_bcgsc_gene', '_GENOMIC_ID_TCGA_STAD_exp_HiSeq', '_GENOMIC_ID_TCGA_STAD_miRNA_GA']\n"
     ]
    }
   ],
   "source": [
    "# Step 1: Find the directory corresponding to Stomach Cancer (related to Peptic Ulcer Disease)\n",
    "import os\n",
    "\n",
    "# List all directories in TCGA root directory\n",
    "tcga_dirs = os.listdir(tcga_root_dir)\n",
    "\n",
    "# Find the directory that matches our trait: Peptic_ulcer_disease\n",
    "# Peptic ulcers commonly occur in the stomach, so Stomach Cancer (STAD) is the most relevant dataset\n",
    "stomach_dirs = [dir_name for dir_name in tcga_dirs if \"stomach\" in dir_name.lower()]\n",
    "\n",
    "if not stomach_dirs:\n",
    "    print(f\"No matching directory found for trait: {trait}\")\n",
    "    # Record that this trait is not available and exit\n",
    "    validate_and_save_cohort_info(\n",
    "        is_final=False,\n",
    "        cohort=\"TCGA\",\n",
    "        info_path=json_path,\n",
    "        is_gene_available=False,\n",
    "        is_trait_available=False\n",
    "    )\n",
    "else:\n",
    "    # Select the most relevant directory\n",
    "    selected_dir = stomach_dirs[0]  # Should be 'TCGA_Stomach_Cancer_(STAD)'\n",
    "    cohort_dir = os.path.join(tcga_root_dir, selected_dir)\n",
    "    \n",
    "    # Step 2: Get file paths for clinical and genetic data\n",
    "    clinical_file_path, genetic_file_path = tcga_get_relevant_filepaths(cohort_dir)\n",
    "    \n",
    "    # Step 3: Load the files\n",
    "    clinical_df = pd.read_csv(clinical_file_path, sep='\\t', index_col=0)\n",
    "    genetic_df = pd.read_csv(genetic_file_path, sep='\\t', index_col=0)\n",
    "    \n",
    "    # Step 4: Print column names of clinical data\n",
    "    print(\"Clinical data columns:\")\n",
    "    print(clinical_df.columns.tolist())\n"
   ]
  },
  {
   "cell_type": "markdown",
   "id": "68553e5a",
   "metadata": {},
   "source": [
    "### Step 2: Find Candidate Demographic Features"
   ]
  },
  {
   "cell_type": "code",
   "execution_count": 3,
   "id": "1fc176d1",
   "metadata": {
    "execution": {
     "iopub.execute_input": "2025-03-25T06:10:24.620551Z",
     "iopub.status.busy": "2025-03-25T06:10:24.620432Z",
     "iopub.status.idle": "2025-03-25T06:10:24.631305Z",
     "shell.execute_reply": "2025-03-25T06:10:24.631002Z"
    }
   },
   "outputs": [
    {
     "name": "stdout",
     "output_type": "stream",
     "text": [
      "Available cohorts: ['TCGA_Liver_Cancer_(LIHC)', 'TCGA_Lower_Grade_Glioma_(LGG)', 'TCGA_lower_grade_glioma_and_glioblastoma_(GBMLGG)', 'TCGA_Lung_Adenocarcinoma_(LUAD)', 'TCGA_Lung_Cancer_(LUNG)', 'TCGA_Lung_Squamous_Cell_Carcinoma_(LUSC)', 'TCGA_Melanoma_(SKCM)', 'TCGA_Mesothelioma_(MESO)', 'TCGA_Ocular_melanomas_(UVM)', 'TCGA_Ovarian_Cancer_(OV)', 'TCGA_Pancreatic_Cancer_(PAAD)', 'TCGA_Pheochromocytoma_Paraganglioma_(PCPG)', 'TCGA_Prostate_Cancer_(PRAD)', 'TCGA_Rectal_Cancer_(READ)', 'TCGA_Sarcoma_(SARC)', 'TCGA_Stomach_Cancer_(STAD)', 'TCGA_Testicular_Cancer_(TGCT)', 'TCGA_Thymoma_(THYM)', 'TCGA_Thyroid_Cancer_(THCA)', 'TCGA_Uterine_Carcinosarcoma_(UCS)', 'TCGA_Acute_Myeloid_Leukemia_(LAML)', 'TCGA_Adrenocortical_Cancer_(ACC)', 'TCGA_Bile_Duct_Cancer_(CHOL)', 'TCGA_Bladder_Cancer_(BLCA)', 'TCGA_Breast_Cancer_(BRCA)', 'TCGA_Cervical_Cancer_(CESC)', 'TCGA_Colon_and_Rectal_Cancer_(COADREAD)', 'TCGA_Colon_Cancer_(COAD)', 'TCGA_Endometrioid_Cancer_(UCEC)', 'TCGA_Esophageal_Cancer_(ESCA)', 'TCGA_Glioblastoma_(GBM)', 'TCGA_Head_and_Neck_Cancer_(HNSC)', 'TCGA_Kidney_Chromophobe_(KICH)', 'TCGA_Kidney_Clear_Cell_Carcinoma_(KIRC)', 'TCGA_Kidney_Papillary_Cell_Carcinoma_(KIRP)', 'TCGA_Large_Bcell_Lymphoma_(DLBC)']\n",
      "Found clinical files in cohort: TCGA_Liver_Cancer_(LIHC)\n",
      "Age columns preview:\n",
      "{'age_at_initial_pathologic_diagnosis': [nan, 58.0, 51.0, 55.0, 54.0], 'days_to_birth': [nan, -21318.0, -18768.0, -20187.0, -20011.0]}\n",
      "\n",
      "Gender columns preview:\n",
      "{'gender': ['MALE', 'MALE', 'MALE', 'FEMALE', 'FEMALE']}\n"
     ]
    }
   ],
   "source": [
    "# Identifying candidate columns for age and gender\n",
    "candidate_age_cols = ['age_at_initial_pathologic_diagnosis', 'days_to_birth']\n",
    "candidate_gender_cols = ['gender']\n",
    "\n",
    "# First, let's explore the directory structure to find the cohort directory\n",
    "import os\n",
    "\n",
    "# List all subdirectories in the TCGA root directory\n",
    "cohorts = [d for d in os.listdir(tcga_root_dir) if os.path.isdir(os.path.join(tcga_root_dir, d))]\n",
    "print(f\"Available cohorts: {cohorts}\")\n",
    "\n",
    "# For TCGA, we need to find a cohort that might contain relevant files\n",
    "clinical_df = None\n",
    "age_preview = {}\n",
    "gender_preview = {}\n",
    "\n",
    "for cohort in cohorts:\n",
    "    cohort_dir = os.path.join(tcga_root_dir, cohort)\n",
    "    try:\n",
    "        # Try to get clinical and genetic files for this cohort\n",
    "        files = os.listdir(cohort_dir)\n",
    "        clinical_files = [f for f in files if 'clinicalmatrix' in f.lower()]\n",
    "        \n",
    "        if clinical_files:\n",
    "            print(f\"Found clinical files in cohort: {cohort}\")\n",
    "            clinical_file_path = os.path.join(cohort_dir, clinical_files[0])\n",
    "            clinical_df = pd.read_csv(clinical_file_path, sep='\\t', index_col=0)\n",
    "            break\n",
    "    except:\n",
    "        continue\n",
    "\n",
    "if clinical_df is not None:\n",
    "    # Preview age columns\n",
    "    for col in candidate_age_cols:\n",
    "        if col in clinical_df.columns:\n",
    "            age_preview[col] = clinical_df[col].head(5).tolist()\n",
    "    \n",
    "    # Preview gender columns\n",
    "    for col in candidate_gender_cols:\n",
    "        if col in clinical_df.columns:\n",
    "            gender_preview[col] = clinical_df[col].head(5).tolist()\n",
    "    \n",
    "    print(\"Age columns preview:\")\n",
    "    print(age_preview)\n",
    "    print(\"\\nGender columns preview:\")\n",
    "    print(gender_preview)\n",
    "else:\n",
    "    print(\"No suitable clinical data files found in any cohort\")\n"
   ]
  },
  {
   "cell_type": "markdown",
   "id": "050168cd",
   "metadata": {},
   "source": [
    "### Step 3: Select Demographic Features"
   ]
  },
  {
   "cell_type": "code",
   "execution_count": 4,
   "id": "7eefbe9d",
   "metadata": {
    "execution": {
     "iopub.execute_input": "2025-03-25T06:10:24.632500Z",
     "iopub.status.busy": "2025-03-25T06:10:24.632391Z",
     "iopub.status.idle": "2025-03-25T06:10:24.634628Z",
     "shell.execute_reply": "2025-03-25T06:10:24.634327Z"
    }
   },
   "outputs": [
    {
     "name": "stdout",
     "output_type": "stream",
     "text": [
      "Chosen age column: age_at_initial_pathologic_diagnosis\n",
      "Chosen gender column: gender\n"
     ]
    }
   ],
   "source": [
    "# Analyze age columns\n",
    "age_col = \"age_at_initial_pathologic_diagnosis\"  # This column directly provides age values\n",
    "# \"days_to_birth\" could be used but would require conversion from days to years\n",
    "\n",
    "# Analyze gender columns \n",
    "gender_col = \"gender\"  # This column directly provides gender information\n",
    "\n",
    "# Print chosen columns\n",
    "print(f\"Chosen age column: {age_col}\")\n",
    "print(f\"Chosen gender column: {gender_col}\")\n"
   ]
  },
  {
   "cell_type": "markdown",
   "id": "4a0e5372",
   "metadata": {},
   "source": [
    "### Step 4: Feature Engineering and Validation"
   ]
  },
  {
   "cell_type": "code",
   "execution_count": 5,
   "id": "74bdd4e6",
   "metadata": {
    "execution": {
     "iopub.execute_input": "2025-03-25T06:10:24.635814Z",
     "iopub.status.busy": "2025-03-25T06:10:24.635710Z",
     "iopub.status.idle": "2025-03-25T06:11:07.361362Z",
     "shell.execute_reply": "2025-03-25T06:11:07.360907Z"
    }
   },
   "outputs": [
    {
     "name": "stdout",
     "output_type": "stream",
     "text": [
      "Saved clinical data with 580 samples\n",
      "After normalization: 19848 genes remaining\n"
     ]
    },
    {
     "name": "stdout",
     "output_type": "stream",
     "text": [
      "Saved normalized gene expression data\n",
      "Linked data shape: (450, 19851) (samples x features)\n"
     ]
    },
    {
     "name": "stdout",
     "output_type": "stream",
     "text": [
      "After handling missing values, data shape: (450, 19851)\n",
      "For the feature 'Peptic_ulcer_disease', the least common label is '0' with 35 occurrences. This represents 7.78% of the dataset.\n",
      "The distribution of the feature 'Peptic_ulcer_disease' in this dataset is fine.\n",
      "\n",
      "Quartiles for 'Age':\n",
      "  25%: 58.0\n",
      "  50% (Median): 67.0\n",
      "  75%: 73.0\n",
      "Min: 30.0\n",
      "Max: 90.0\n",
      "The distribution of the feature 'Age' in this dataset is fine.\n",
      "\n",
      "For the feature 'Gender', the least common label is '0.0' with 159 occurrences. This represents 35.33% of the dataset.\n",
      "The distribution of the feature 'Gender' in this dataset is fine.\n",
      "\n"
     ]
    },
    {
     "name": "stdout",
     "output_type": "stream",
     "text": [
      "Saved usable linked data to ../../output/preprocess/Peptic_ulcer_disease/TCGA.csv\n"
     ]
    }
   ],
   "source": [
    "# Step 1: Extract and standardize clinical features\n",
    "# Define the cohort directory\n",
    "selected_dir = 'TCGA_Stomach_Cancer_(STAD)'  # Corrected to use Stomach Cancer dataset\n",
    "cohort_dir = os.path.join(tcga_root_dir, selected_dir)\n",
    "\n",
    "# Get the file paths for clinical and genetic data\n",
    "clinical_file_path, genetic_file_path = tcga_get_relevant_filepaths(cohort_dir)\n",
    "\n",
    "# Load the data\n",
    "clinical_df = pd.read_csv(clinical_file_path, sep='\\t', index_col=0)\n",
    "genetic_df = pd.read_csv(genetic_file_path, sep='\\t', index_col=0)\n",
    "\n",
    "# Extract standardized clinical features using the provided trait variable\n",
    "clinical_features = tcga_select_clinical_features(\n",
    "    clinical_df, \n",
    "    trait=trait,  # Using the provided trait variable instead of hardcoding\n",
    "    age_col=age_col, \n",
    "    gender_col=gender_col\n",
    ")\n",
    "\n",
    "# Save the clinical data to out_clinical_data_file\n",
    "os.makedirs(os.path.dirname(out_clinical_data_file), exist_ok=True)\n",
    "clinical_features.to_csv(out_clinical_data_file)\n",
    "print(f\"Saved clinical data with {len(clinical_features)} samples\")\n",
    "\n",
    "# Step 2: Normalize gene symbols in gene expression data\n",
    "# Transpose to get genes as rows\n",
    "gene_df = genetic_df\n",
    "\n",
    "# Normalize gene symbols using NCBI Gene database synonyms\n",
    "normalized_gene_df = normalize_gene_symbols_in_index(gene_df)\n",
    "print(f\"After normalization: {len(normalized_gene_df)} genes remaining\")\n",
    "\n",
    "# Save the normalized gene expression data\n",
    "os.makedirs(os.path.dirname(out_gene_data_file), exist_ok=True)\n",
    "normalized_gene_df.to_csv(out_gene_data_file)\n",
    "print(f\"Saved normalized gene expression data\")\n",
    "\n",
    "# Step 3: Link clinical and genetic data\n",
    "# Merge clinical features with genetic expression data\n",
    "linked_data = clinical_features.join(normalized_gene_df.T, how='inner')\n",
    "print(f\"Linked data shape: {linked_data.shape} (samples x features)\")\n",
    "\n",
    "# Step 4: Handle missing values\n",
    "cleaned_data = handle_missing_values(linked_data, trait_col=trait)\n",
    "print(f\"After handling missing values, data shape: {cleaned_data.shape}\")\n",
    "\n",
    "# Step 5: Determine if trait or demographics are severely biased\n",
    "trait_biased, cleaned_data = judge_and_remove_biased_features(cleaned_data, trait=trait)\n",
    "\n",
    "# Step 6: Validate data quality and save cohort information\n",
    "note = \"The dataset contains gene expression data along with clinical information for stomach cancer patients, which is relevant for peptic ulcer disease analysis.\"\n",
    "is_usable = validate_and_save_cohort_info(\n",
    "    is_final=True,\n",
    "    cohort=\"TCGA\",\n",
    "    info_path=json_path,\n",
    "    is_gene_available=True,\n",
    "    is_trait_available=True,\n",
    "    is_biased=trait_biased,\n",
    "    df=cleaned_data,\n",
    "    note=note\n",
    ")\n",
    "\n",
    "# Step 7: Save the linked data if usable\n",
    "if is_usable:\n",
    "    os.makedirs(os.path.dirname(out_data_file), exist_ok=True)\n",
    "    cleaned_data.to_csv(out_data_file)\n",
    "    print(f\"Saved usable linked data to {out_data_file}\")\n",
    "else:\n",
    "    print(\"Dataset was determined to be unusable and was not saved.\")"
   ]
  }
 ],
 "metadata": {
  "language_info": {
   "codemirror_mode": {
    "name": "ipython",
    "version": 3
   },
   "file_extension": ".py",
   "mimetype": "text/x-python",
   "name": "python",
   "nbconvert_exporter": "python",
   "pygments_lexer": "ipython3",
   "version": "3.10.16"
  }
 },
 "nbformat": 4,
 "nbformat_minor": 5
}
