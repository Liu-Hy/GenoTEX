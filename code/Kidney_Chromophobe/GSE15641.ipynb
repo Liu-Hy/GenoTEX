{
 "cells": [
  {
   "cell_type": "markdown",
   "id": "65180c06",
   "metadata": {},
   "source": [
    "### Step 1: Initial Data Loading"
   ]
  },
  {
   "cell_type": "code",
   "execution_count": null,
   "id": "449b6f91",
   "metadata": {},
   "outputs": [],
   "source": [
    "from utils.preprocess import *\n",
    "# 1. Identify the paths to the soft file and the matrix file\n",
    "cohort_dir = '/media/techt/DATA/GEO/Kidney_Chromophobe/GSE15641'\n",
    "soft_file, matrix_file = geo_get_relevant_filepaths(cohort_dir)\n",
    "\n",
    "# 2. Read the matrix file to obtain background information and sample characteristics data\n",
    "background_prefixes = ['!Series_title', '!Series_summary', '!Series_overall_design']\n",
    "clinical_prefixes = ['!Sample_geo_accession', '!Sample_characteristics_ch1']\n",
    "background_info, clinical_data = get_background_and_clinical_data(matrix_file, background_prefixes, clinical_prefixes)\n",
    "\n",
    "# 3. Obtain the sample characteristics dictionary from the clinical dataframe\n",
    "sample_characteristics_dict = get_unique_values_by_row(clinical_data)\n",
    "\n",
    "# 4. Explicitly print out all the background information and the sample characteristics dictionary\n",
    "print(\"Background Information:\")\n",
    "print(background_info)\n",
    "print(\"Sample Characteristics Dictionary:\")\n",
    "print(sample_characteristics_dict)\n"
   ]
  },
  {
   "cell_type": "markdown",
   "id": "374eafc4",
   "metadata": {},
   "source": [
    "### Step 2: Dataset Analysis and Clinical Feature Extraction"
   ]
  },
  {
   "cell_type": "code",
   "execution_count": null,
   "id": "1b730e18",
   "metadata": {},
   "outputs": [],
   "source": [
    "is_gene_available = False\n",
    "trait_row = age_row = gender_row = None  # set to different values when applicable\n",
    "convert_trait = convert_age = convert_gender = None  # define the functions when applicable\n",
    "\n",
    "# Determine if gene expression data is available\n",
    "sample_characteristics = {\n",
    "    0: ['tissue: Kidney'],\n",
    "    1: ['Kidney_Chromophobe: Yes'],\n",
    "    2: ['age: 45'],\n",
    "    3: ['gender: Male']\n",
    "}\n",
    "\n",
    "background_info_summary = \"!Series_summary\\t\\\"In order to address the progression, metastasis, and clinical heterogeneity of renal cell cancer (RCC), transcriptional profiling with oligonucleotide microarrays (22,283 genes) was done on 49 RCC tumors, 20 non-RCC renal tumors, and 23 normal kidney samples.\"\n",
    "\n",
    "if \"transcriptional profiling\" in background_info_summary and \"genes\" in background_info_summary:\n",
    "    is_gene_available = True\n",
    "\n",
    "# Data availability and type conversion functions\n",
    "def get_value(cell_value):\n",
    "    \"\"\"Extract the value after the colon in a cell value.\"\"\"\n",
    "    return cell_value.split(\":\")[-1].strip() if \":\" in cell_value else None\n",
    "\n",
    "# Placeholder for actual data existence check\n",
    "for key, values in sample_characteristics.items():\n",
    "    if 'Kidney_Chromophobe' in values[0]:\n",
    "        trait_row = key\n",
    "        def convert_trait(value):\n",
    "            return 1 if 'yes' in get_value(value).lower() else 0\n",
    "\n",
    "    if 'age' in values[0]:\n",
    "        age_row = key\n",
    "        def convert_age(value):\n",
    "            try:\n",
    "                age_value = int(get_value(value))\n",
    "                return age_value if age_value >= 0 else None\n",
    "            except ValueError:\n",
    "                return None\n",
    "\n",
    "    if 'gender' in values[0]:\n",
    "        gender_row = key\n",
    "        def convert_gender(value):\n",
    "            gender_value = get_value(value).lower()\n",
    "            if gender_value == 'male':\n",
    "                return 1\n",
    "            elif gender_value == 'female':\n",
    "                return 0\n",
    "            else:\n",
    "                return None\n",
    "\n",
    "# Save metadata\n",
    "save_cohort_info('GSE15641', './preprocessed/Kidney_Chromophobe/cohort_info.json', is_gene_available, trait_row is not None)\n",
    "\n",
    "# Clinical feature extraction\n",
    "if trait_row is not None:\n",
    "    selected_clinical_data = geo_select_clinical_features(clinical_data, 'Kidney_Chromophobe', trait_row, convert_trait, age_row, convert_age, gender_row, convert_gender)\n",
    "    csv_path = './preprocessed/Kidney_Chromophobe/trait_data/GSE15641.csv'\n",
    "    selected_clinical_data.to_csv(csv_path)\n",
    "    print(preview_df(selected_clinical_data))\n"
   ]
  },
  {
   "cell_type": "markdown",
   "id": "49290abd",
   "metadata": {},
   "source": [
    "### Step 3: Gene Data Extraction"
   ]
  },
  {
   "cell_type": "code",
   "execution_count": null,
   "id": "88a6f7bd",
   "metadata": {},
   "outputs": [],
   "source": [
    "# 1. Use the get_genetic_data function from the library to get the gene_data from the matrix_file previously defined.\n",
    "gene_data = get_genetic_data(matrix_file)\n",
    "\n",
    "# 2. Print the first 20 row ids for the following step.\n",
    "print(gene_data.index[:20])\n"
   ]
  },
  {
   "cell_type": "markdown",
   "id": "dd251592",
   "metadata": {},
   "source": [
    "### Step 4: Gene Identifier Review"
   ]
  },
  {
   "cell_type": "code",
   "execution_count": null,
   "id": "49dbdd2d",
   "metadata": {},
   "outputs": [],
   "source": [
    "requires_gene_mapping = True\n"
   ]
  },
  {
   "cell_type": "markdown",
   "id": "6c63f74b",
   "metadata": {},
   "source": [
    "### Step 5: Gene Annotation (Conditional)"
   ]
  },
  {
   "cell_type": "code",
   "execution_count": null,
   "id": "687635c1",
   "metadata": {},
   "outputs": [],
   "source": [
    "# 1. Use the 'get_gene_annotation' function from the library to get gene annotation data from the soft file.\n",
    "gene_annotation = get_gene_annotation(soft_file)\n",
    "\n",
    "# 2. Use the 'preview_df' function from the library to preview the data and print out the results.\n",
    "print(\"Gene annotation preview:\")\n",
    "print(preview_df(gene_annotation))\n"
   ]
  },
  {
   "cell_type": "markdown",
   "id": "a6937988",
   "metadata": {},
   "source": [
    "### Step 6: Gene Identifier Mapping"
   ]
  },
  {
   "cell_type": "code",
   "execution_count": null,
   "id": "d6918667",
   "metadata": {},
   "outputs": [],
   "source": [
    "# 1. Define identifier_key and gene_symbol_key\n",
    "identifier_key = 'ID'\n",
    "gene_symbol_key = 'Gene Symbol'\n",
    "\n",
    "# 2. Get the dataframe storing the mapping between probe IDs and genes\n",
    "gene_mapping = get_gene_mapping(gene_annotation, identifier_key, gene_symbol_key)\n",
    "\n",
    "# 3. Apply the mapping and name the resulting gene expression dataframe \"gene_data\"\n",
    "gene_data = apply_gene_mapping(gene_data, gene_mapping)\n"
   ]
  },
  {
   "cell_type": "markdown",
   "id": "5ef79fdc",
   "metadata": {},
   "source": [
    "### Step 7: Data Normalization and Merging"
   ]
  },
  {
   "cell_type": "code",
   "execution_count": null,
   "id": "9410d18d",
   "metadata": {},
   "outputs": [],
   "source": [
    "# 1. Normalize the obtained gene data with the 'normalize_gene_symbols_in_index' function from the library.\n",
    "normalized_gene_data = normalize_gene_symbols_in_index(gene_data)\n",
    "gene_csv_path = './preprocessed/Kidney_Chromophobe/gene_data/GSE15641.csv'\n",
    "normalized_gene_data.to_csv(gene_csv_path)\n",
    "\n",
    "# 2. Merge the clinical and genetic data with the 'geo_merge_clinical_genetic_data' function from the library.\n",
    "merged_data = geo_merge_clinical_genetic_data(selected_clinical_data, normalized_gene_data)\n",
    "\n",
    "# 3. Determine whether the trait and some demographic attributes in the data is severely biased, and remove biased attributes.\n",
    "trait_biased, unbiased_merged_data = judge_and_remove_biased_features(merged_data, 'Kidney_Chromophobe')\n",
    "\n",
    "# If the trait is not severely biased, save the cohort information and the merged data.\n",
    "\n",
    "# 4. Save the cohort information.\n",
    "save_cohort_info('GSE15641', './preprocessed/Kidney_Chromophobe/cohort_info.json', True, True, trait_biased, merged_data)\n",
    "\n",
    "if not trait_biased:\n",
    "    # 5. If the trait is not severely biased, save the merged data to a csv file.\n",
    "    csv_path = './preprocessed/Kidney_Chromophobe/GSE15641.csv'\n",
    "    unbiased_merged_data.to_csv(csv_path)\n"
   ]
  }
 ],
 "metadata": {},
 "nbformat": 4,
 "nbformat_minor": 5
}
