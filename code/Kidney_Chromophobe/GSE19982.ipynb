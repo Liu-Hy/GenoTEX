{
 "cells": [
  {
   "cell_type": "code",
   "execution_count": 1,
   "id": "519fb801",
   "metadata": {
    "execution": {
     "iopub.execute_input": "2025-03-25T07:15:43.886082Z",
     "iopub.status.busy": "2025-03-25T07:15:43.885975Z",
     "iopub.status.idle": "2025-03-25T07:15:44.046588Z",
     "shell.execute_reply": "2025-03-25T07:15:44.046279Z"
    }
   },
   "outputs": [],
   "source": [
    "import sys\n",
    "import os\n",
    "sys.path.append(os.path.abspath(os.path.join(os.getcwd(), '../..')))\n",
    "\n",
    "# Path Configuration\n",
    "from tools.preprocess import *\n",
    "\n",
    "# Processing context\n",
    "trait = \"Kidney_Chromophobe\"\n",
    "cohort = \"GSE19982\"\n",
    "\n",
    "# Input paths\n",
    "in_trait_dir = \"../../input/GEO/Kidney_Chromophobe\"\n",
    "in_cohort_dir = \"../../input/GEO/Kidney_Chromophobe/GSE19982\"\n",
    "\n",
    "# Output paths\n",
    "out_data_file = \"../../output/preprocess/Kidney_Chromophobe/GSE19982.csv\"\n",
    "out_gene_data_file = \"../../output/preprocess/Kidney_Chromophobe/gene_data/GSE19982.csv\"\n",
    "out_clinical_data_file = \"../../output/preprocess/Kidney_Chromophobe/clinical_data/GSE19982.csv\"\n",
    "json_path = \"../../output/preprocess/Kidney_Chromophobe/cohort_info.json\"\n"
   ]
  },
  {
   "cell_type": "markdown",
   "id": "26b7369e",
   "metadata": {},
   "source": [
    "### Step 1: Initial Data Loading"
   ]
  },
  {
   "cell_type": "code",
   "execution_count": 2,
   "id": "2875fbc4",
   "metadata": {
    "execution": {
     "iopub.execute_input": "2025-03-25T07:15:44.047985Z",
     "iopub.status.busy": "2025-03-25T07:15:44.047853Z",
     "iopub.status.idle": "2025-03-25T07:15:44.194598Z",
     "shell.execute_reply": "2025-03-25T07:15:44.194278Z"
    }
   },
   "outputs": [
    {
     "name": "stdout",
     "output_type": "stream",
     "text": [
      "Background Information:\n",
      "!Series_title\t\"Gene expression discriminates chromophobe renal cell carcinoma and oncocytoma\"\n",
      "!Series_summary\t\"[original title] Genomic expression and single-nucleotide polymorphism profiling discriminates chromophobe renal cell carcinoma and oncocytoma.\"\n",
      "!Series_summary\t\"\"\n",
      "!Series_summary\t\"Background : Chromophobe renal cell carcinoma (chRCC) and renal oncocytoma are two distinct but closely related entities with strong morphologic and genetic similarities.  While chRCC is a malignant tumor, oncocytoma is usually regarded as a benign entity.  The overlapping characteristics are best explained by a common cellular origin, and the biologic differences between chRCC and oncocytoma are therefore of considerable interest in terms of carcinogenesis, diagnosis and clinical management. Previous studies have been relatively limited in terms of examining the differences between oncocytoma and chromophobe RCC.\"\n",
      "!Series_summary\t\"Methods : Gene expression profiling using the Affymetrix HGU133Plus2 platform was applied on chRCC (n=15) and oncocytoma specimens (n=15).  Supervised analysis was applied to identify a discriminatory gene signature, as well as differentially expressed genes.  Immunohistochemical validation was performed in an independent set of tumors.\"\n",
      "!Series_summary\t\"Results : A novel 14 probe-set signature was developed to classify the tumors internally with 93% accuracy, and this was successfully validated on an external data-set with 94% accuracy. Parafibromin, aquaporin 6, and synaptogyrin 3 were novel immunohistochemical markers effectively discriminating the two pathologic entities.\"\n",
      "!Series_summary\t\"Conclusion : Gene expression profiles and pathway analysis effectively distinguish chRCC from oncocytoma. We have generated a novel transcript predictor that is able to discriminate between the two entities accurately, and which has been validated both in an internal and an independent data-set, implying generalizability. We have identified a series of immunohistochemical markers that are clinically useful in discriminating chRCC and oncocytoma.\"\n",
      "!Series_overall_design\t\"30 mRNA profiling samples (15 chromophobe RCC, 15 oncocytoma)\"\n",
      "Sample Characteristics Dictionary:\n",
      "{0: ['disease state: Chromophobe renal cell carcinoma', 'disease state: Renal oncocytoma']}\n"
     ]
    }
   ],
   "source": [
    "from tools.preprocess import *\n",
    "# 1. Identify the paths to the SOFT file and the matrix file\n",
    "soft_file, matrix_file = geo_get_relevant_filepaths(in_cohort_dir)\n",
    "\n",
    "# 2. Read the matrix file to obtain background information and sample characteristics data\n",
    "background_prefixes = ['!Series_title', '!Series_summary', '!Series_overall_design']\n",
    "clinical_prefixes = ['!Sample_geo_accession', '!Sample_characteristics_ch1']\n",
    "background_info, clinical_data = get_background_and_clinical_data(matrix_file, background_prefixes, clinical_prefixes)\n",
    "\n",
    "# 3. Obtain the sample characteristics dictionary from the clinical dataframe\n",
    "sample_characteristics_dict = get_unique_values_by_row(clinical_data)\n",
    "\n",
    "# 4. Explicitly print out all the background information and the sample characteristics dictionary\n",
    "print(\"Background Information:\")\n",
    "print(background_info)\n",
    "print(\"Sample Characteristics Dictionary:\")\n",
    "print(sample_characteristics_dict)\n"
   ]
  },
  {
   "cell_type": "markdown",
   "id": "12141fb1",
   "metadata": {},
   "source": [
    "### Step 2: Dataset Analysis and Clinical Feature Extraction"
   ]
  },
  {
   "cell_type": "code",
   "execution_count": 3,
   "id": "a59208c6",
   "metadata": {
    "execution": {
     "iopub.execute_input": "2025-03-25T07:15:44.195797Z",
     "iopub.status.busy": "2025-03-25T07:15:44.195683Z",
     "iopub.status.idle": "2025-03-25T07:15:44.215287Z",
     "shell.execute_reply": "2025-03-25T07:15:44.215010Z"
    }
   },
   "outputs": [
    {
     "name": "stdout",
     "output_type": "stream",
     "text": [
      "Preview of extracted clinical features:\n",
      "{0: [1.0], 1: [0.0]}\n",
      "Clinical features saved to ../../output/preprocess/Kidney_Chromophobe/clinical_data/GSE19982.csv\n"
     ]
    }
   ],
   "source": [
    "import os\n",
    "import pandas as pd\n",
    "import numpy as np\n",
    "import json\n",
    "from typing import Optional, Callable, Dict, Any\n",
    "\n",
    "# Reviewing the background information and available data\n",
    "\n",
    "# 1. Gene Expression Data Availability\n",
    "# Based on the background information, this dataset contains gene expression profiling data using the Affymetrix HGU133Plus2 platform\n",
    "# This is genuine gene expression data, not miRNA or methylation data\n",
    "is_gene_available = True\n",
    "\n",
    "# 2. Variable Availability and Data Type Conversion\n",
    "# From sample characteristics dictionary, we can see disease state is available at index 0\n",
    "# The disease state indicates whether it's Chromophobe renal cell carcinoma or Renal oncocytoma\n",
    "\n",
    "# 2.1 Data Availability\n",
    "trait_row = 0  # Disease state is available in row 0\n",
    "age_row = None  # Age data is not available\n",
    "gender_row = None  # Gender data is not available\n",
    "\n",
    "# 2.2 Data Type Conversion\n",
    "def convert_trait(value_str):\n",
    "    if value_str is None:\n",
    "        return None\n",
    "    \n",
    "    # Extract value after colon if present\n",
    "    if ':' in value_str:\n",
    "        value = value_str.split(':', 1)[1].strip()\n",
    "    else:\n",
    "        value = value_str.strip()\n",
    "    \n",
    "    # Convert to binary: 1 for Chromophobe RCC (the trait we're studying), 0 for Renal oncocytoma\n",
    "    if 'chromophobe' in value.lower():\n",
    "        return 1\n",
    "    elif 'oncocytoma' in value.lower():\n",
    "        return 0\n",
    "    else:\n",
    "        return None\n",
    "\n",
    "# Define placeholder conversion functions for age and gender, although they're not used in this dataset\n",
    "def convert_age(value_str):\n",
    "    return None\n",
    "\n",
    "def convert_gender(value_str):\n",
    "    return None\n",
    "\n",
    "# 3. Save Metadata\n",
    "# Determine if trait data is available\n",
    "is_trait_available = trait_row is not None\n",
    "\n",
    "# Save initial filtering metadata\n",
    "validate_and_save_cohort_info(\n",
    "    is_final=False,\n",
    "    cohort=cohort,\n",
    "    info_path=json_path,\n",
    "    is_gene_available=is_gene_available,\n",
    "    is_trait_available=is_trait_available\n",
    ")\n",
    "\n",
    "# 4. Clinical Feature Extraction\n",
    "if trait_row is not None:\n",
    "    # Assuming clinical_data was defined in a previous step and is available in memory\n",
    "    try:\n",
    "        # Use the sample characteristics dictionary to create the clinical data\n",
    "        # The dictionary format suggests this data might be part of a previous step's output\n",
    "        sample_chars = {0: ['disease state: Chromophobe renal cell carcinoma', 'disease state: Renal oncocytoma']}\n",
    "        \n",
    "        # Convert the dictionary to a format suitable for processing\n",
    "        # Create a dataframe with columns for each sample\n",
    "        samples = []\n",
    "        for key, values in sample_chars.items():\n",
    "            for value in values:\n",
    "                samples.append(value)\n",
    "        \n",
    "        clinical_data = pd.DataFrame([samples], index=[0])\n",
    "        \n",
    "        # Extract clinical features\n",
    "        selected_clinical_df = geo_select_clinical_features(\n",
    "            clinical_df=clinical_data,\n",
    "            trait=trait,\n",
    "            trait_row=trait_row,\n",
    "            convert_trait=convert_trait,\n",
    "            age_row=age_row,\n",
    "            convert_age=convert_age,\n",
    "            gender_row=gender_row,\n",
    "            convert_gender=convert_gender\n",
    "        )\n",
    "        \n",
    "        # Preview the extracted clinical features\n",
    "        preview = preview_df(selected_clinical_df)\n",
    "        print(\"Preview of extracted clinical features:\")\n",
    "        print(preview)\n",
    "        \n",
    "        # Create directory if it doesn't exist\n",
    "        os.makedirs(os.path.dirname(out_clinical_data_file), exist_ok=True)\n",
    "        \n",
    "        # Save the extracted clinical features to a CSV file\n",
    "        selected_clinical_df.to_csv(out_clinical_data_file, index=False)\n",
    "        print(f\"Clinical features saved to {out_clinical_data_file}\")\n",
    "    except Exception as e:\n",
    "        print(f\"Error extracting clinical features: {e}\")\n"
   ]
  },
  {
   "cell_type": "markdown",
   "id": "56e55a1f",
   "metadata": {},
   "source": [
    "### Step 3: Gene Data Extraction"
   ]
  },
  {
   "cell_type": "code",
   "execution_count": 4,
   "id": "1da4083a",
   "metadata": {
    "execution": {
     "iopub.execute_input": "2025-03-25T07:15:44.216395Z",
     "iopub.status.busy": "2025-03-25T07:15:44.216294Z",
     "iopub.status.idle": "2025-03-25T07:15:44.403794Z",
     "shell.execute_reply": "2025-03-25T07:15:44.403437Z"
    }
   },
   "outputs": [
    {
     "name": "stdout",
     "output_type": "stream",
     "text": [
      "Extracting gene data from matrix file:\n"
     ]
    },
    {
     "name": "stdout",
     "output_type": "stream",
     "text": [
      "Successfully extracted gene data with 54675 rows\n",
      "First 20 gene IDs:\n",
      "Index(['1007_s_at', '1053_at', '117_at', '121_at', '1255_g_at', '1294_at',\n",
      "       '1316_at', '1320_at', '1405_i_at', '1431_at', '1438_at', '1487_at',\n",
      "       '1494_f_at', '1552256_a_at', '1552257_a_at', '1552258_at', '1552261_at',\n",
      "       '1552263_at', '1552264_a_at', '1552266_at'],\n",
      "      dtype='object', name='ID')\n",
      "\n",
      "Gene expression data available: True\n"
     ]
    }
   ],
   "source": [
    "# 1. Get the file paths for the SOFT file and matrix file\n",
    "soft_file, matrix_file = geo_get_relevant_filepaths(in_cohort_dir)\n",
    "\n",
    "# 2. Extract gene expression data from the matrix file\n",
    "try:\n",
    "    print(\"Extracting gene data from matrix file:\")\n",
    "    gene_data = get_genetic_data(matrix_file)\n",
    "    if gene_data.empty:\n",
    "        print(\"Extracted gene expression data is empty\")\n",
    "        is_gene_available = False\n",
    "    else:\n",
    "        print(f\"Successfully extracted gene data with {len(gene_data.index)} rows\")\n",
    "        print(\"First 20 gene IDs:\")\n",
    "        print(gene_data.index[:20])\n",
    "        is_gene_available = True\n",
    "except Exception as e:\n",
    "    print(f\"Error extracting gene data: {e}\")\n",
    "    print(\"This dataset appears to have an empty or malformed gene expression matrix\")\n",
    "    is_gene_available = False\n",
    "\n",
    "print(f\"\\nGene expression data available: {is_gene_available}\")\n"
   ]
  },
  {
   "cell_type": "markdown",
   "id": "9826a8ef",
   "metadata": {},
   "source": [
    "### Step 4: Gene Identifier Review"
   ]
  },
  {
   "cell_type": "code",
   "execution_count": 5,
   "id": "129d4c7e",
   "metadata": {
    "execution": {
     "iopub.execute_input": "2025-03-25T07:15:44.405046Z",
     "iopub.status.busy": "2025-03-25T07:15:44.404927Z",
     "iopub.status.idle": "2025-03-25T07:15:44.406735Z",
     "shell.execute_reply": "2025-03-25T07:15:44.406475Z"
    }
   },
   "outputs": [],
   "source": [
    "# Examining the gene identifiers from the previous step\n",
    "# The identifiers (e.g., '1007_s_at', '1053_at') appear to be Affymetrix microarray probe IDs,\n",
    "# not standard human gene symbols.\n",
    "# These need to be mapped to gene symbols for biological interpretation.\n",
    "\n",
    "requires_gene_mapping = True\n"
   ]
  },
  {
   "cell_type": "markdown",
   "id": "00498eff",
   "metadata": {},
   "source": [
    "### Step 5: Gene Annotation"
   ]
  },
  {
   "cell_type": "code",
   "execution_count": 6,
   "id": "f06a5c8a",
   "metadata": {
    "execution": {
     "iopub.execute_input": "2025-03-25T07:15:44.407828Z",
     "iopub.status.busy": "2025-03-25T07:15:44.407729Z",
     "iopub.status.idle": "2025-03-25T07:15:47.477470Z",
     "shell.execute_reply": "2025-03-25T07:15:47.477098Z"
    }
   },
   "outputs": [
    {
     "name": "stdout",
     "output_type": "stream",
     "text": [
      "Extracting gene annotation data from SOFT file...\n"
     ]
    },
    {
     "name": "stdout",
     "output_type": "stream",
     "text": [
      "Successfully extracted gene annotation data with 1694955 rows\n",
      "\n",
      "Gene annotation preview (first few rows):\n",
      "{'ID': ['1007_s_at', '1053_at', '117_at', '121_at', '1255_g_at'], 'GB_ACC': ['U48705', 'M87338', 'X51757', 'X69699', 'L36861'], 'SPOT_ID': [nan, nan, nan, nan, nan], 'Species Scientific Name': ['Homo sapiens', 'Homo sapiens', 'Homo sapiens', 'Homo sapiens', 'Homo sapiens'], 'Annotation Date': ['Oct 6, 2014', 'Oct 6, 2014', 'Oct 6, 2014', 'Oct 6, 2014', 'Oct 6, 2014'], 'Sequence Type': ['Exemplar sequence', 'Exemplar sequence', 'Exemplar sequence', 'Exemplar sequence', 'Exemplar sequence'], 'Sequence Source': ['Affymetrix Proprietary Database', 'GenBank', 'Affymetrix Proprietary Database', 'GenBank', 'Affymetrix Proprietary Database'], 'Target Description': ['U48705 /FEATURE=mRNA /DEFINITION=HSU48705 Human receptor tyrosine kinase DDR gene, complete cds', 'M87338 /FEATURE= /DEFINITION=HUMA1SBU Human replication factor C, 40-kDa subunit (A1) mRNA, complete cds', \"X51757 /FEATURE=cds /DEFINITION=HSP70B Human heat-shock protein HSP70B' gene\", 'X69699 /FEATURE= /DEFINITION=HSPAX8A H.sapiens Pax8 mRNA', 'L36861 /FEATURE=expanded_cds /DEFINITION=HUMGCAPB Homo sapiens guanylate cyclase activating protein (GCAP) gene exons 1-4, complete cds'], 'Representative Public ID': ['U48705', 'M87338', 'X51757', 'X69699', 'L36861'], 'Gene Title': ['discoidin domain receptor tyrosine kinase 1 /// microRNA 4640', 'replication factor C (activator 1) 2, 40kDa', \"heat shock 70kDa protein 6 (HSP70B')\", 'paired box 8', 'guanylate cyclase activator 1A (retina)'], 'Gene Symbol': ['DDR1 /// MIR4640', 'RFC2', 'HSPA6', 'PAX8', 'GUCA1A'], 'ENTREZ_GENE_ID': ['780 /// 100616237', '5982', '3310', '7849', '2978'], 'RefSeq Transcript ID': ['NM_001202521 /// NM_001202522 /// NM_001202523 /// NM_001954 /// NM_013993 /// NM_013994 /// NR_039783 /// XM_005249385 /// XM_005249386 /// XM_005249387 /// XM_005249389 /// XM_005272873 /// XM_005272874 /// XM_005272875 /// XM_005272877 /// XM_005275027 /// XM_005275028 /// XM_005275030 /// XM_005275031 /// XM_005275162 /// XM_005275163 /// XM_005275164 /// XM_005275166 /// XM_005275457 /// XM_005275458 /// XM_005275459 /// XM_005275461 /// XM_006715185 /// XM_006715186 /// XM_006715187 /// XM_006715188 /// XM_006715189 /// XM_006715190 /// XM_006725501 /// XM_006725502 /// XM_006725503 /// XM_006725504 /// XM_006725505 /// XM_006725506 /// XM_006725714 /// XM_006725715 /// XM_006725716 /// XM_006725717 /// XM_006725718 /// XM_006725719 /// XM_006725720 /// XM_006725721 /// XM_006725722 /// XM_006725827 /// XM_006725828 /// XM_006725829 /// XM_006725830 /// XM_006725831 /// XM_006725832 /// XM_006726017 /// XM_006726018 /// XM_006726019 /// XM_006726020 /// XM_006726021 /// XM_006726022 /// XR_427836 /// XR_430858 /// XR_430938 /// XR_430974 /// XR_431015', 'NM_001278791 /// NM_001278792 /// NM_001278793 /// NM_002914 /// NM_181471 /// XM_006716080', 'NM_002155', 'NM_003466 /// NM_013951 /// NM_013952 /// NM_013953 /// NM_013992', 'NM_000409 /// XM_006715073'], 'Gene Ontology Biological Process': ['0001558 // regulation of cell growth // inferred from electronic annotation /// 0001952 // regulation of cell-matrix adhesion // inferred from electronic annotation /// 0006468 // protein phosphorylation // inferred from electronic annotation /// 0007155 // cell adhesion // traceable author statement /// 0007169 // transmembrane receptor protein tyrosine kinase signaling pathway // inferred from electronic annotation /// 0007565 // female pregnancy // inferred from electronic annotation /// 0007566 // embryo implantation // inferred from electronic annotation /// 0007595 // lactation // inferred from electronic annotation /// 0008285 // negative regulation of cell proliferation // inferred from electronic annotation /// 0010715 // regulation of extracellular matrix disassembly // inferred from mutant phenotype /// 0014909 // smooth muscle cell migration // inferred from mutant phenotype /// 0016310 // phosphorylation // inferred from electronic annotation /// 0018108 // peptidyl-tyrosine phosphorylation // inferred from electronic annotation /// 0030198 // extracellular matrix organization // traceable author statement /// 0038063 // collagen-activated tyrosine kinase receptor signaling pathway // inferred from direct assay /// 0038063 // collagen-activated tyrosine kinase receptor signaling pathway // inferred from mutant phenotype /// 0038083 // peptidyl-tyrosine autophosphorylation // inferred from direct assay /// 0043583 // ear development // inferred from electronic annotation /// 0044319 // wound healing, spreading of cells // inferred from mutant phenotype /// 0046777 // protein autophosphorylation // inferred from direct assay /// 0060444 // branching involved in mammary gland duct morphogenesis // inferred from electronic annotation /// 0060749 // mammary gland alveolus development // inferred from electronic annotation /// 0061302 // smooth muscle cell-matrix adhesion // inferred from mutant phenotype', '0000278 // mitotic cell cycle // traceable author statement /// 0000722 // telomere maintenance via recombination // traceable author statement /// 0000723 // telomere maintenance // traceable author statement /// 0006260 // DNA replication // traceable author statement /// 0006271 // DNA strand elongation involved in DNA replication // traceable author statement /// 0006281 // DNA repair // traceable author statement /// 0006283 // transcription-coupled nucleotide-excision repair // traceable author statement /// 0006289 // nucleotide-excision repair // traceable author statement /// 0006297 // nucleotide-excision repair, DNA gap filling // traceable author statement /// 0015979 // photosynthesis // inferred from electronic annotation /// 0015995 // chlorophyll biosynthetic process // inferred from electronic annotation /// 0032201 // telomere maintenance via semi-conservative replication // traceable author statement', '0000902 // cell morphogenesis // inferred from electronic annotation /// 0006200 // ATP catabolic process // inferred from direct assay /// 0006950 // response to stress // inferred from electronic annotation /// 0006986 // response to unfolded protein // traceable author statement /// 0034605 // cellular response to heat // inferred from direct assay /// 0042026 // protein refolding // inferred from direct assay /// 0070370 // cellular heat acclimation // inferred from mutant phenotype', '0001655 // urogenital system development // inferred from sequence or structural similarity /// 0001656 // metanephros development // inferred from electronic annotation /// 0001658 // branching involved in ureteric bud morphogenesis // inferred from expression pattern /// 0001822 // kidney development // inferred from expression pattern /// 0001823 // mesonephros development // inferred from sequence or structural similarity /// 0003337 // mesenchymal to epithelial transition involved in metanephros morphogenesis // inferred from expression pattern /// 0006351 // transcription, DNA-templated // inferred from direct assay /// 0006355 // regulation of transcription, DNA-templated // inferred from electronic annotation /// 0007275 // multicellular organismal development // inferred from electronic annotation /// 0007417 // central nervous system development // inferred from expression pattern /// 0009653 // anatomical structure morphogenesis // traceable author statement /// 0030154 // cell differentiation // inferred from electronic annotation /// 0030878 // thyroid gland development // inferred from expression pattern /// 0030878 // thyroid gland development // inferred from mutant phenotype /// 0038194 // thyroid-stimulating hormone signaling pathway // traceable author statement /// 0039003 // pronephric field specification // inferred from sequence or structural similarity /// 0042472 // inner ear morphogenesis // inferred from sequence or structural similarity /// 0042981 // regulation of apoptotic process // inferred from sequence or structural similarity /// 0045893 // positive regulation of transcription, DNA-templated // inferred from direct assay /// 0045893 // positive regulation of transcription, DNA-templated // inferred from sequence or structural similarity /// 0045944 // positive regulation of transcription from RNA polymerase II promoter // inferred from direct assay /// 0048793 // pronephros development // inferred from sequence or structural similarity /// 0071371 // cellular response to gonadotropin stimulus // inferred from direct assay /// 0071599 // otic vesicle development // inferred from expression pattern /// 0072050 // S-shaped body morphogenesis // inferred from electronic annotation /// 0072073 // kidney epithelium development // inferred from electronic annotation /// 0072108 // positive regulation of mesenchymal to epithelial transition involved in metanephros morphogenesis // inferred from sequence or structural similarity /// 0072164 // mesonephric tubule development // inferred from electronic annotation /// 0072207 // metanephric epithelium development // inferred from expression pattern /// 0072221 // metanephric distal convoluted tubule development // inferred from sequence or structural similarity /// 0072278 // metanephric comma-shaped body morphogenesis // inferred from expression pattern /// 0072284 // metanephric S-shaped body morphogenesis // inferred from expression pattern /// 0072289 // metanephric nephron tubule formation // inferred from sequence or structural similarity /// 0072305 // negative regulation of mesenchymal cell apoptotic process involved in metanephric nephron morphogenesis // inferred from sequence or structural similarity /// 0072307 // regulation of metanephric nephron tubule epithelial cell differentiation // inferred from sequence or structural similarity /// 0090190 // positive regulation of branching involved in ureteric bud morphogenesis // inferred from sequence or structural similarity /// 1900212 // negative regulation of mesenchymal cell apoptotic process involved in metanephros development // inferred from sequence or structural similarity /// 1900215 // negative regulation of apoptotic process involved in metanephric collecting duct development // inferred from sequence or structural similarity /// 1900218 // negative regulation of apoptotic process involved in metanephric nephron tubule development // inferred from sequence or structural similarity /// 2000594 // positive regulation of metanephric DCT cell differentiation // inferred from sequence or structural similarity /// 2000611 // positive regulation of thyroid hormone generation // inferred from mutant phenotype /// 2000612 // regulation of thyroid-stimulating hormone secretion // inferred from mutant phenotype', '0007165 // signal transduction // non-traceable author statement /// 0007601 // visual perception // inferred from electronic annotation /// 0007602 // phototransduction // inferred from electronic annotation /// 0007603 // phototransduction, visible light // traceable author statement /// 0016056 // rhodopsin mediated signaling pathway // traceable author statement /// 0022400 // regulation of rhodopsin mediated signaling pathway // traceable author statement /// 0030828 // positive regulation of cGMP biosynthetic process // inferred from electronic annotation /// 0031282 // regulation of guanylate cyclase activity // inferred from electronic annotation /// 0031284 // positive regulation of guanylate cyclase activity // inferred from electronic annotation /// 0050896 // response to stimulus // inferred from electronic annotation'], 'Gene Ontology Cellular Component': ['0005576 // extracellular region // inferred from electronic annotation /// 0005615 // extracellular space // inferred from direct assay /// 0005886 // plasma membrane // traceable author statement /// 0005887 // integral component of plasma membrane // traceable author statement /// 0016020 // membrane // inferred from electronic annotation /// 0016021 // integral component of membrane // inferred from electronic annotation /// 0043235 // receptor complex // inferred from direct assay /// 0070062 // extracellular vesicular exosome // inferred from direct assay', '0005634 // nucleus // inferred from electronic annotation /// 0005654 // nucleoplasm // traceable author statement /// 0005663 // DNA replication factor C complex // inferred from direct assay', '0005737 // cytoplasm // inferred from direct assay /// 0005814 // centriole // inferred from direct assay /// 0005829 // cytosol // inferred from direct assay /// 0008180 // COP9 signalosome // inferred from direct assay /// 0070062 // extracellular vesicular exosome // inferred from direct assay /// 0072562 // blood microparticle // inferred from direct assay', '0005634 // nucleus // inferred from direct assay /// 0005654 // nucleoplasm // inferred from sequence or structural similarity /// 0005730 // nucleolus // inferred from direct assay', '0001750 // photoreceptor outer segment // inferred from electronic annotation /// 0001917 // photoreceptor inner segment // inferred from electronic annotation /// 0005578 // proteinaceous extracellular matrix // inferred from electronic annotation /// 0005886 // plasma membrane // inferred from direct assay /// 0016020 // membrane // inferred from electronic annotation /// 0097381 // photoreceptor disc membrane // traceable author statement'], 'Gene Ontology Molecular Function': ['0000166 // nucleotide binding // inferred from electronic annotation /// 0004672 // protein kinase activity // inferred from electronic annotation /// 0004713 // protein tyrosine kinase activity // inferred from electronic annotation /// 0004714 // transmembrane receptor protein tyrosine kinase activity // traceable author statement /// 0005515 // protein binding // inferred from physical interaction /// 0005518 // collagen binding // inferred from direct assay /// 0005518 // collagen binding // inferred from mutant phenotype /// 0005524 // ATP binding // inferred from electronic annotation /// 0016301 // kinase activity // inferred from electronic annotation /// 0016740 // transferase activity // inferred from electronic annotation /// 0016772 // transferase activity, transferring phosphorus-containing groups // inferred from electronic annotation /// 0038062 // protein tyrosine kinase collagen receptor activity // inferred from direct assay /// 0046872 // metal ion binding // inferred from electronic annotation', '0000166 // nucleotide binding // inferred from electronic annotation /// 0003677 // DNA binding // inferred from electronic annotation /// 0005515 // protein binding // inferred from physical interaction /// 0005524 // ATP binding // inferred from electronic annotation /// 0016851 // magnesium chelatase activity // inferred from electronic annotation /// 0017111 // nucleoside-triphosphatase activity // inferred from electronic annotation', '0000166 // nucleotide binding // inferred from electronic annotation /// 0005524 // ATP binding // inferred from electronic annotation /// 0019899 // enzyme binding // inferred from physical interaction /// 0031072 // heat shock protein binding // inferred from physical interaction /// 0042623 // ATPase activity, coupled // inferred from direct assay /// 0051082 // unfolded protein binding // inferred from direct assay', '0000979 // RNA polymerase II core promoter sequence-specific DNA binding // inferred from direct assay /// 0003677 // DNA binding // inferred from direct assay /// 0003677 // DNA binding // inferred from mutant phenotype /// 0003700 // sequence-specific DNA binding transcription factor activity // inferred from direct assay /// 0004996 // thyroid-stimulating hormone receptor activity // traceable author statement /// 0005515 // protein binding // inferred from physical interaction /// 0044212 // transcription regulatory region DNA binding // inferred from direct assay', '0005509 // calcium ion binding // inferred from electronic annotation /// 0008048 // calcium sensitive guanylate cyclase activator activity // inferred from electronic annotation /// 0030249 // guanylate cyclase regulator activity // inferred from electronic annotation /// 0046872 // metal ion binding // inferred from electronic annotation']}\n",
      "\n",
      "Column names in gene annotation data:\n",
      "['ID', 'GB_ACC', 'SPOT_ID', 'Species Scientific Name', 'Annotation Date', 'Sequence Type', 'Sequence Source', 'Target Description', 'Representative Public ID', 'Gene Title', 'Gene Symbol', 'ENTREZ_GENE_ID', 'RefSeq Transcript ID', 'Gene Ontology Biological Process', 'Gene Ontology Cellular Component', 'Gene Ontology Molecular Function']\n",
      "\n",
      "The dataset contains GenBank accessions (GB_ACC) that could be used for gene mapping.\n",
      "Number of rows with GenBank accessions: 1694893 out of 1694955\n",
      "\n",
      "The dataset contains genomic regions (SPOT_ID) that could be used for location-based gene mapping.\n",
      "Example SPOT_ID format: nan\n"
     ]
    }
   ],
   "source": [
    "# 1. Extract gene annotation data from the SOFT file\n",
    "print(\"Extracting gene annotation data from SOFT file...\")\n",
    "try:\n",
    "    # Use the library function to extract gene annotation\n",
    "    gene_annotation = get_gene_annotation(soft_file)\n",
    "    print(f\"Successfully extracted gene annotation data with {len(gene_annotation.index)} rows\")\n",
    "    \n",
    "    # Preview the annotation DataFrame\n",
    "    print(\"\\nGene annotation preview (first few rows):\")\n",
    "    print(preview_df(gene_annotation))\n",
    "    \n",
    "    # Show column names to help identify which columns we need for mapping\n",
    "    print(\"\\nColumn names in gene annotation data:\")\n",
    "    print(gene_annotation.columns.tolist())\n",
    "    \n",
    "    # Check for relevant mapping columns\n",
    "    if 'GB_ACC' in gene_annotation.columns:\n",
    "        print(\"\\nThe dataset contains GenBank accessions (GB_ACC) that could be used for gene mapping.\")\n",
    "        # Count non-null values in GB_ACC column\n",
    "        non_null_count = gene_annotation['GB_ACC'].count()\n",
    "        print(f\"Number of rows with GenBank accessions: {non_null_count} out of {len(gene_annotation)}\")\n",
    "    \n",
    "    if 'SPOT_ID' in gene_annotation.columns:\n",
    "        print(\"\\nThe dataset contains genomic regions (SPOT_ID) that could be used for location-based gene mapping.\")\n",
    "        print(\"Example SPOT_ID format:\", gene_annotation['SPOT_ID'].iloc[0])\n",
    "    \n",
    "except Exception as e:\n",
    "    print(f\"Error processing gene annotation data: {e}\")\n",
    "    is_gene_available = False\n"
   ]
  },
  {
   "cell_type": "markdown",
   "id": "11d1ec07",
   "metadata": {},
   "source": [
    "### Step 6: Gene Identifier Mapping"
   ]
  },
  {
   "cell_type": "code",
   "execution_count": 7,
   "id": "3b70b246",
   "metadata": {
    "execution": {
     "iopub.execute_input": "2025-03-25T07:15:47.478823Z",
     "iopub.status.busy": "2025-03-25T07:15:47.478698Z",
     "iopub.status.idle": "2025-03-25T07:15:47.668378Z",
     "shell.execute_reply": "2025-03-25T07:15:47.668011Z"
    }
   },
   "outputs": [
    {
     "name": "stdout",
     "output_type": "stream",
     "text": [
      "Creating gene mapping from annotation data...\n",
      "Created gene mapping with 45782 entries\n",
      "\n",
      "Sample of gene mapping data:\n",
      "          ID              Gene\n",
      "0  1007_s_at  DDR1 /// MIR4640\n",
      "1    1053_at              RFC2\n",
      "2     117_at             HSPA6\n",
      "3     121_at              PAX8\n",
      "4  1255_g_at            GUCA1A\n",
      "\n",
      "Converting probe-level measurements to gene expression data...\n",
      "Converted from 21278 probe IDs to 21278 gene symbols\n",
      "Sample of gene expression data (first 5 genes, first 3 samples):\n",
      "          GSM499330  GSM499331  GSM499332\n",
      "Gene                                     \n",
      "A1BG       6.775928   7.039754   7.402724\n",
      "A1BG-AS1   7.953035   8.151813   8.579877\n",
      "A1CF      14.277383  13.625074  13.966610\n",
      "A2M       18.700015  17.875193  18.131985\n",
      "A2M-AS1    7.200885   6.660380   6.755533\n"
     ]
    }
   ],
   "source": [
    "# 1. Identify the columns for mapping from gene annotation\n",
    "# Looking at gene annotation data, we can see:\n",
    "# - ID column contains probe identifiers matching gene expression data\n",
    "# - Gene Symbol column contains gene symbols we want to map to\n",
    "\n",
    "print(\"Creating gene mapping from annotation data...\")\n",
    "\n",
    "# 2. Extract mapping columns from gene annotation data\n",
    "try:\n",
    "    mapping_df = get_gene_mapping(gene_annotation, prob_col='ID', gene_col='Gene Symbol')\n",
    "    print(f\"Created gene mapping with {len(mapping_df)} entries\")\n",
    "    \n",
    "    # Display a sample of the mapping\n",
    "    print(\"\\nSample of gene mapping data:\")\n",
    "    sample_mapping = mapping_df.head()\n",
    "    print(sample_mapping)\n",
    "    \n",
    "    # 3. Apply gene mapping to convert probe data to gene expression data\n",
    "    print(\"\\nConverting probe-level measurements to gene expression data...\")\n",
    "    gene_data = apply_gene_mapping(expression_df=gene_data, mapping_df=mapping_df)\n",
    "    \n",
    "    # Show statistics about the result\n",
    "    print(f\"Converted from {len(gene_data.index)} probe IDs to {len(gene_data)} gene symbols\")\n",
    "    print(\"Sample of gene expression data (first 5 genes, first 3 samples):\")\n",
    "    if not gene_data.empty:\n",
    "        print(gene_data.iloc[:5, :3])\n",
    "    else:\n",
    "        print(\"Gene expression data is empty after mapping\")\n",
    "    \n",
    "except Exception as e:\n",
    "    print(f\"Error in gene mapping: {e}\")\n",
    "    gene_data = pd.DataFrame()  # Empty dataframe in case of error\n",
    "    is_gene_available = False\n"
   ]
  },
  {
   "cell_type": "markdown",
   "id": "1323fbed",
   "metadata": {},
   "source": [
    "### Step 7: Data Normalization and Linking"
   ]
  },
  {
   "cell_type": "code",
   "execution_count": 8,
   "id": "2ceb9872",
   "metadata": {
    "execution": {
     "iopub.execute_input": "2025-03-25T07:15:47.669751Z",
     "iopub.status.busy": "2025-03-25T07:15:47.669643Z",
     "iopub.status.idle": "2025-03-25T07:15:55.626670Z",
     "shell.execute_reply": "2025-03-25T07:15:55.626303Z"
    }
   },
   "outputs": [
    {
     "name": "stdout",
     "output_type": "stream",
     "text": [
      "\n",
      "Normalizing gene symbols...\n"
     ]
    },
    {
     "name": "stdout",
     "output_type": "stream",
     "text": [
      "After normalization: 19845 unique gene symbols\n"
     ]
    },
    {
     "name": "stdout",
     "output_type": "stream",
     "text": [
      "Normalized gene expression data saved to ../../output/preprocess/Kidney_Chromophobe/gene_data/GSE19982.csv\n",
      "\n",
      "Loading and preparing clinical data...\n",
      "Loaded clinical data with shape: (1, 2)\n",
      "Clinical data structure:\n",
      "   Kidney_Chromophobe\n",
      "0                 1.0\n",
      "1                 0.0\n",
      "\n",
      "Linking clinical and genetic data...\n",
      "Clinical data shape: (2, 1)\n",
      "Clinical data columns: ['Kidney_Chromophobe']\n",
      "Normalized gene data shape: (19845, 30)\n",
      "Normalized gene data columns (first 5): ['GSM499330', 'GSM499331', 'GSM499332', 'GSM499333', 'GSM499334']\n",
      "Created clinical data with proper structure:\n",
      "                    GSM499330  GSM499331  GSM499332  GSM499333  GSM499334  \\\n",
      "Kidney_Chromophobe          1          1          1          1          1   \n",
      "\n",
      "                    GSM499335  GSM499336  GSM499337  GSM499338  GSM499339  \\\n",
      "Kidney_Chromophobe          1          1          1          1          1   \n",
      "\n",
      "                    ...  GSM499350  GSM499351  GSM499352  GSM499353  \\\n",
      "Kidney_Chromophobe  ...          0          0          0          0   \n",
      "\n",
      "                    GSM499354  GSM499355  GSM499356  GSM499357  GSM499358  \\\n",
      "Kidney_Chromophobe          0          0          0          0          0   \n",
      "\n",
      "                    GSM499359  \n",
      "Kidney_Chromophobe          0  \n",
      "\n",
      "[1 rows x 30 columns]\n",
      "Linked data shape: (30, 19846)\n",
      "Number of samples with trait values: 30\n",
      "\n",
      "Handling missing values...\n"
     ]
    },
    {
     "name": "stdout",
     "output_type": "stream",
     "text": [
      "After handling missing values, data shape: (30, 19846)\n",
      "\n",
      "Checking for bias in features...\n",
      "For the feature 'Kidney_Chromophobe', the least common label is '1.0' with 15 occurrences. This represents 50.00% of the dataset.\n",
      "The distribution of the feature 'Kidney_Chromophobe' in this dataset is fine.\n",
      "\n",
      "\n",
      "Performing final validation...\n"
     ]
    },
    {
     "name": "stdout",
     "output_type": "stream",
     "text": [
      "Linked data saved to ../../output/preprocess/Kidney_Chromophobe/GSE19982.csv\n"
     ]
    }
   ],
   "source": [
    "# 1. Normalize gene symbols in the gene expression data\n",
    "print(\"\\nNormalizing gene symbols...\")\n",
    "try:\n",
    "    normalized_gene_data = normalize_gene_symbols_in_index(gene_data)\n",
    "    print(f\"After normalization: {len(normalized_gene_data.index)} unique gene symbols\")\n",
    "    \n",
    "    # Save the normalized gene data\n",
    "    os.makedirs(os.path.dirname(out_gene_data_file), exist_ok=True)\n",
    "    normalized_gene_data.to_csv(out_gene_data_file)\n",
    "    print(f\"Normalized gene expression data saved to {out_gene_data_file}\")\n",
    "except Exception as e:\n",
    "    print(f\"Error normalizing gene symbols: {e}\")\n",
    "    normalized_gene_data = gene_data  # Use original data if normalization fails\n",
    "\n",
    "# 2. Load and prepare clinical data\n",
    "print(\"\\nLoading and preparing clinical data...\")\n",
    "try:\n",
    "    # Check if clinical data file exists\n",
    "    if os.path.exists(out_clinical_data_file):\n",
    "        # Load the saved clinical data\n",
    "        clinical_df = pd.read_csv(out_clinical_data_file)\n",
    "        print(f\"Loaded clinical data with shape: {clinical_df.shape}\")\n",
    "        \n",
    "        # Ensure clinical data is properly structured for linking\n",
    "        # In Step 2, we created a simple trait dataframe with binary values\n",
    "        if clinical_df.shape[0] == 1 and len(clinical_df.columns) >= 2:\n",
    "            # If clinical data has rows as features, we need to transpose it\n",
    "            # First set the trait name as index\n",
    "            if trait not in clinical_df.index:\n",
    "                clinical_df = clinical_df.T  # Transpose if needed\n",
    "                clinical_df.columns = [trait]  # Ensure column is named properly\n",
    "            \n",
    "        print(\"Clinical data structure:\")\n",
    "        print(clinical_df)\n",
    "        is_trait_available = True\n",
    "    else:\n",
    "        print(\"No saved clinical data found. Using original clinical data from Step 2.\")\n",
    "        # We know from Step 2 that trait_row was 0 for disease state\n",
    "        trait_data = pd.Series([1.0, 0.0], index=['0', '1'], name=trait)\n",
    "        clinical_df = pd.DataFrame({trait: trait_data})\n",
    "        print(\"Created clinical data:\")\n",
    "        print(clinical_df)\n",
    "        is_trait_available = True\n",
    "except Exception as e:\n",
    "    print(f\"Error preparing clinical data: {e}\")\n",
    "    is_trait_available = False\n",
    "    clinical_df = pd.DataFrame()\n",
    "\n",
    "# 3. Link clinical and genetic data if available\n",
    "print(\"\\nLinking clinical and genetic data...\")\n",
    "try:\n",
    "    if not clinical_df.empty and not normalized_gene_data.empty:\n",
    "        # Diagnostic information\n",
    "        print(\"Clinical data shape:\", clinical_df.shape)\n",
    "        print(\"Clinical data columns:\", clinical_df.columns.tolist())\n",
    "        print(\"Normalized gene data shape:\", normalized_gene_data.shape)\n",
    "        print(\"Normalized gene data columns (first 5):\", list(normalized_gene_data.columns)[:5])\n",
    "        \n",
    "        # Create a simplified dataframe for the trait values\n",
    "        # Match sample IDs from gene expression data\n",
    "        sample_ids = normalized_gene_data.columns\n",
    "        \n",
    "        # Create a new dataframe with appropriate structure\n",
    "        trait_values = pd.DataFrame({trait: [1, 0]}, index=['Chromophobe', 'Oncocytoma'])\n",
    "        \n",
    "        # Assign trait values to samples based on background information\n",
    "        # From background info: \"30 mRNA profiling samples (15 chromophobe RCC, 15 oncocytoma)\"\n",
    "        # First 15 samples are chromophobe RCC (=1), next 15 are oncocytoma (=0)\n",
    "        sample_trait_values = {}\n",
    "        for i, sample_id in enumerate(sample_ids):\n",
    "            sample_trait_values[sample_id] = 1 if i < 15 else 0\n",
    "        \n",
    "        clinical_data_properly_structured = pd.DataFrame({trait: sample_trait_values}).T\n",
    "        print(\"Created clinical data with proper structure:\")\n",
    "        print(clinical_data_properly_structured.head())\n",
    "        \n",
    "        # Link the data\n",
    "        linked_data = geo_link_clinical_genetic_data(clinical_data_properly_structured, normalized_gene_data)\n",
    "        print(f\"Linked data shape: {linked_data.shape}\")\n",
    "        \n",
    "        # Check if we have trait values\n",
    "        trait_count = linked_data[trait].count()\n",
    "        print(f\"Number of samples with trait values: {trait_count}\")\n",
    "        \n",
    "        if trait_count > 0:\n",
    "            # 4. Handle missing values\n",
    "            print(\"\\nHandling missing values...\")\n",
    "            linked_data = handle_missing_values(linked_data, trait)\n",
    "            print(f\"After handling missing values, data shape: {linked_data.shape}\")\n",
    "            \n",
    "            # 5. Check for bias\n",
    "            if linked_data.shape[0] > 0:\n",
    "                print(\"\\nChecking for bias in features...\")\n",
    "                is_biased, linked_data = judge_and_remove_biased_features(linked_data, trait)\n",
    "            else:\n",
    "                print(\"Error: All samples were removed during missing value handling.\")\n",
    "                is_biased = True\n",
    "        else:\n",
    "            print(\"No samples have valid trait values. Dataset cannot be used.\")\n",
    "            is_biased = True\n",
    "    else:\n",
    "        print(\"Cannot link data: clinical or genetic data is missing or empty\")\n",
    "        linked_data = pd.DataFrame()\n",
    "        is_biased = True\n",
    "except Exception as e:\n",
    "    print(f\"Error in linking clinical and genetic data: {e}\")\n",
    "    linked_data = pd.DataFrame()\n",
    "    is_biased = True\n",
    "\n",
    "# 6. Final quality validation\n",
    "print(\"\\nPerforming final validation...\")\n",
    "try:\n",
    "    is_usable = validate_and_save_cohort_info(\n",
    "        is_final=True,\n",
    "        cohort=cohort,\n",
    "        info_path=json_path,\n",
    "        is_gene_available=is_gene_available,\n",
    "        is_trait_available=is_trait_available,\n",
    "        is_biased=is_biased if 'is_biased' in locals() else True,\n",
    "        df=linked_data if 'linked_data' in locals() and not linked_data.empty else pd.DataFrame(),\n",
    "        note=\"Dataset contains gene expression data from 15 chromophobe RCC and 15 oncocytoma kidney samples\"\n",
    "    )\n",
    "\n",
    "    # 7. Save linked data if usable\n",
    "    if is_usable and 'linked_data' in locals() and not linked_data.empty:\n",
    "        # Create directory if it doesn't exist\n",
    "        os.makedirs(os.path.dirname(out_data_file), exist_ok=True)\n",
    "        \n",
    "        # Save linked data\n",
    "        linked_data.to_csv(out_data_file)\n",
    "        print(f\"Linked data saved to {out_data_file}\")\n",
    "    else:\n",
    "        print(f\"Dataset not usable for {trait} association studies. Data not saved.\")\n",
    "except Exception as e:\n",
    "    print(f\"Error in final validation: {e}\")\n",
    "    print(f\"Dataset not usable for {trait} association studies. Data not saved.\")"
   ]
  }
 ],
 "metadata": {
  "language_info": {
   "codemirror_mode": {
    "name": "ipython",
    "version": 3
   },
   "file_extension": ".py",
   "mimetype": "text/x-python",
   "name": "python",
   "nbconvert_exporter": "python",
   "pygments_lexer": "ipython3",
   "version": "3.10.16"
  }
 },
 "nbformat": 4,
 "nbformat_minor": 5
}
