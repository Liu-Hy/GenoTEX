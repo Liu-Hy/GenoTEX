{
 "cells": [
  {
   "cell_type": "code",
   "execution_count": 1,
   "id": "a46a34db",
   "metadata": {
    "execution": {
     "iopub.execute_input": "2024-06-12T11:00:41.358518Z",
     "iopub.status.busy": "2024-06-12T11:00:41.358423Z",
     "iopub.status.idle": "2024-06-12T11:00:41.362106Z",
     "shell.execute_reply": "2024-06-12T11:00:41.361850Z"
    }
   },
   "outputs": [],
   "source": [
    "\n",
    "import sys\n",
    "sys.path.append('/home/techt/Desktop/a4s')\n"
   ]
  },
  {
   "cell_type": "markdown",
   "id": "35f7b4b4",
   "metadata": {},
   "source": [
    "### Step 1: Initial Data Loading"
   ]
  },
  {
   "cell_type": "code",
   "execution_count": 2,
   "id": "612ca486",
   "metadata": {
    "execution": {
     "iopub.execute_input": "2024-06-12T11:00:41.364179Z",
     "iopub.status.busy": "2024-06-12T11:00:41.364052Z",
     "iopub.status.idle": "2024-06-12T11:00:41.707676Z",
     "shell.execute_reply": "2024-06-12T11:00:41.707346Z"
    }
   },
   "outputs": [
    {
     "name": "stdout",
     "output_type": "stream",
     "text": [
      "Background Information:\n",
      "!Series_title\t\"Gene expression discriminates chromophobe renal cell carcinoma and oncocytoma\"\n",
      "!Series_summary\t\"[original title] Genomic expression and single-nucleotide polymorphism profiling discriminates chromophobe renal cell carcinoma and oncocytoma.\"\n",
      "!Series_summary\t\"\"\n",
      "!Series_summary\t\"Background : Chromophobe renal cell carcinoma (chRCC) and renal oncocytoma are two distinct but closely related entities with strong morphologic and genetic similarities.  While chRCC is a malignant tumor, oncocytoma is usually regarded as a benign entity.  The overlapping characteristics are best explained by a common cellular origin, and the biologic differences between chRCC and oncocytoma are therefore of considerable interest in terms of carcinogenesis, diagnosis and clinical management. Previous studies have been relatively limited in terms of examining the differences between oncocytoma and chromophobe RCC.\"\n",
      "!Series_summary\t\"Methods : Gene expression profiling using the Affymetrix HGU133Plus2 platform was applied on chRCC (n=15) and oncocytoma specimens (n=15).  Supervised analysis was applied to identify a discriminatory gene signature, as well as differentially expressed genes.  Immunohistochemical validation was performed in an independent set of tumors.\"\n",
      "!Series_summary\t\"Results : A novel 14 probe-set signature was developed to classify the tumors internally with 93% accuracy, and this was successfully validated on an external data-set with 94% accuracy. Parafibromin, aquaporin 6, and synaptogyrin 3 were novel immunohistochemical markers effectively discriminating the two pathologic entities.\"\n",
      "!Series_summary\t\"Conclusion : Gene expression profiles and pathway analysis effectively distinguish chRCC from oncocytoma. We have generated a novel transcript predictor that is able to discriminate between the two entities accurately, and which has been validated both in an internal and an independent data-set, implying generalizability. We have identified a series of immunohistochemical markers that are clinically useful in discriminating chRCC and oncocytoma.\"\n",
      "!Series_overall_design\t\"30 mRNA profiling samples (15 chromophobe RCC, 15 oncocytoma)\"\n",
      "Sample Characteristics Dictionary:\n",
      "{0: ['disease state: Chromophobe renal cell carcinoma', 'disease state: Renal oncocytoma']}\n"
     ]
    }
   ],
   "source": [
    "from utils.preprocess import *\n",
    "# 1. Identify the paths to the soft file and the matrix file\n",
    "cohort_dir = '/media/techt/DATA/GEO/Kidney_Chromophobe/GSE19982'\n",
    "soft_file, matrix_file = geo_get_relevant_filepaths(cohort_dir)\n",
    "\n",
    "# 2. Read the matrix file to obtain background information and sample characteristics data\n",
    "background_prefixes = ['!Series_title', '!Series_summary', '!Series_overall_design']\n",
    "clinical_prefixes = ['!Sample_geo_accession', '!Sample_characteristics_ch1']\n",
    "background_info, clinical_data = get_background_and_clinical_data(matrix_file, background_prefixes, clinical_prefixes)\n",
    "\n",
    "# 3. Obtain the sample characteristics dictionary from the clinical dataframe\n",
    "sample_characteristics_dict = get_unique_values_by_row(clinical_data)\n",
    "\n",
    "# 4. Explicitly print out all the background information and the sample characteristics dictionary\n",
    "print(\"Background Information:\")\n",
    "print(background_info)\n",
    "print(\"Sample Characteristics Dictionary:\")\n",
    "print(sample_characteristics_dict)\n"
   ]
  },
  {
   "cell_type": "markdown",
   "id": "80d81048",
   "metadata": {},
   "source": [
    "### Step 2: Dataset Analysis and Clinical Feature Extraction"
   ]
  },
  {
   "cell_type": "code",
   "execution_count": 3,
   "id": "ee7f9f08",
   "metadata": {
    "execution": {
     "iopub.execute_input": "2024-06-12T11:00:41.709437Z",
     "iopub.status.busy": "2024-06-12T11:00:41.709329Z",
     "iopub.status.idle": "2024-06-12T11:00:41.716777Z",
     "shell.execute_reply": "2024-06-12T11:00:41.716501Z"
    }
   },
   "outputs": [
    {
     "name": "stdout",
     "output_type": "stream",
     "text": [
      "{'GSM499330': [1], 'GSM499331': [1], 'GSM499332': [1], 'GSM499333': [1], 'GSM499334': [1], 'GSM499335': [1], 'GSM499336': [1], 'GSM499337': [1], 'GSM499338': [1], 'GSM499339': [1], 'GSM499340': [1], 'GSM499341': [1], 'GSM499342': [1], 'GSM499343': [1], 'GSM499344': [1], 'GSM499345': [0], 'GSM499346': [0], 'GSM499347': [0], 'GSM499348': [0], 'GSM499349': [0], 'GSM499350': [0], 'GSM499351': [0], 'GSM499352': [0], 'GSM499353': [0], 'GSM499354': [0], 'GSM499355': [0], 'GSM499356': [0], 'GSM499357': [0], 'GSM499358': [0], 'GSM499359': [0]}\n"
     ]
    }
   ],
   "source": [
    "is_gene_available = False\n",
    "trait_row = age_row = gender_row = None  # set to different values when applicable\n",
    "convert_trait = convert_age = convert_gender = None  # define the functions when applicable\n",
    "\n",
    "# Checking for gene expression data availability\n",
    "if \"Gene expression\" in '!Series_title':\n",
    "    is_gene_available = True\n",
    "    \n",
    "# Data availability\n",
    "sample_characteristics = {0: ['disease state: Chromophobe renal cell carcinoma', 'disease state: Renal oncocytoma']}\n",
    "\n",
    "if 0 in sample_characteristics:\n",
    "    if len(set(sample_characteristics[0])) > 1:\n",
    "        trait_row = 0\n",
    "\n",
    "# Data type conversion\n",
    "def convert_trait(value):\n",
    "    mapping = {\n",
    "        \"Chromophobe renal cell carcinoma\": 1,\n",
    "        \"Renal oncocytoma\": 0\n",
    "    }\n",
    "    content = value.split(\": \")[-1]\n",
    "    return mapping.get(content, None)\n",
    "\n",
    "# Saving cohort information\n",
    "save_cohort_info('GSE19982', './preprocessed/Kidney_Chromophobe/cohort_info.json', is_gene_available, trait_row is not None)\n",
    "\n",
    "# Clinical feature extraction (if applicable)\n",
    "if trait_row is not None:\n",
    "    selected_clinical_data = geo_select_clinical_features(clinical_data, 'Kidney_Chromophobe', trait_row, convert_trait, age_row, None, gender_row, None)\n",
    "    csv_path = './preprocessed/Kidney_Chromophobe/trait_data/GSE19982.csv'\n",
    "    selected_clinical_data.to_csv(csv_path)\n",
    "    print(preview_df(selected_clinical_data))\n"
   ]
  }
 ],
 "metadata": {
  "language_info": {
   "codemirror_mode": {
    "name": "ipython",
    "version": 3
   },
   "file_extension": ".py",
   "mimetype": "text/x-python",
   "name": "python",
   "nbconvert_exporter": "python",
   "pygments_lexer": "ipython3",
   "version": "3.8.17"
  }
 },
 "nbformat": 4,
 "nbformat_minor": 5
}
