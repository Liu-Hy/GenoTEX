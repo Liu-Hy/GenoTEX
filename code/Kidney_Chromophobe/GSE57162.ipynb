{
 "cells": [
  {
   "cell_type": "code",
   "execution_count": 1,
   "id": "56d09258",
   "metadata": {
    "execution": {
     "iopub.execute_input": "2024-06-12T11:01:24.086512Z",
     "iopub.status.busy": "2024-06-12T11:01:24.086357Z",
     "iopub.status.idle": "2024-06-12T11:01:24.091828Z",
     "shell.execute_reply": "2024-06-12T11:01:24.091433Z"
    }
   },
   "outputs": [],
   "source": [
    "\n",
    "import sys\n",
    "sys.path.append('/home/techt/Desktop/a4s')\n"
   ]
  },
  {
   "cell_type": "markdown",
   "id": "136d759d",
   "metadata": {},
   "source": [
    "### Step 1: Initial Data Loading"
   ]
  },
  {
   "cell_type": "code",
   "execution_count": 2,
   "id": "431e77ae",
   "metadata": {
    "execution": {
     "iopub.execute_input": "2024-06-12T11:01:24.094161Z",
     "iopub.status.busy": "2024-06-12T11:01:24.093881Z",
     "iopub.status.idle": "2024-06-12T11:01:24.965533Z",
     "shell.execute_reply": "2024-06-12T11:01:24.965105Z"
    }
   },
   "outputs": [
    {
     "name": "stdout",
     "output_type": "stream",
     "text": [
      "Background Information:\n",
      "!Series_title\t\"A genomic algorithm for the molecular classification of renal cortical neoplasms: Development and Validation\"\n",
      "!Series_summary\t\"Accurate diagnostic discrimination of benign renal oncocytoma (OC) and malignant renal cell carcinomas (RCC) is not only useful for planning appropriate treatment strategies of patients with renal masses but also for estimating prognosis. Classification of renal neoplasms solely by histopathology can often be challenging for a variety of reasons. The aim of this study was to develop and validate a genomic algorithm for molecular classification of renal cortical neoplasms that could be implemented in a routine clinical diagnostic setting. Using TCGA (The Cancer Genome Atlas) copy number profiles of over 600 RCC specimens, prior FISH studies and published literature, a classification algorithm was developed consisting of 15 genomic markers: loss of VHL, 3p21, 8p, and chromosomes 1, 2, 6, 10 and 17, and gain of 5qter, 16p, 17q, 20q, and chromosomes 3, 7, and 12. Criteria for scoring specimens for the presence of each genomic marker were established. As validation, 191 surgically resected formalin-fixed paraffin-embedded renal neoplasms were blindly submitted to targeted array-CGH and were classified according to the algorithm. Upon histologic re-review leading to exclusion of three specimens and using histology as the gold standard, the algorithm correctly classified 58 of 62 (93%) clear cell renal cell carcinoma, 51 of 56 (91%) papillary RCC, and 33 of 34 (97%) chromophobe RCC. Of the 36 OC specimens, 17 were classified as OC, two as a malignant subtype, 14 as benign, and three exhibited alterations not associated with a specific subtype. In ten of the latter two groups, CCND1-rearrangement was detected by fluorescence in situ hybridization, affording a classification as OC. Together, 33 of 36 (92%) OC were classified as OC or benign. For the entire validation cohort, an overall diagnostic sensitivity of 93% and above 97% specificity was achieved, suggesting that the implementation of genome-based molecular classification in a clinical diagnostic setting could impact the overall management and outcome of patients with renal tumors.\"\n",
      "!Series_overall_design\t\"A total of 191 RCC FFPE samples are analyzed including 63 clear cell RCC (ccRCC), 57 papillary RCC (pRCC), 35 chromophobe RCC (chrRCC) and 36 oncocytoma (OC). Two-color array-comparative genomic hybdrization on custom designed using RCC DNA as test and normal sex-matched DNA as reference.\"\n",
      "Sample Characteristics Dictionary:\n",
      "{0: ['sample type: Formalin Fixed Paraffin Embedded (FFPE)'], 1: ['tissue: renal cell carcinoma specimen'], 2: ['histology: OC', 'histology: pRCC', 'histology: chrRCC', 'histology: ccRCC'], 3: ['gender: F', 'gender: M'], 4: ['age: 66', 'age: 82', 'age: 59', 'age: 58', 'age: 57', 'age: 62', 'age: 48', 'age: 69', 'age: 76', 'age: 63', 'age: 74', 'age: 77', 'age: 79', 'age: 45', 'age: 67', 'age: 52', 'age: 68', 'age: 43', 'age: 39', 'age: 53', 'age: 49', 'age: 47', 'age: 56', 'age: 61', 'age: 72', 'age: 41', 'age: 55', 'age: 65', 'age: 73', 'age: 50'], 5: ['furhman nuclear grade: na', 'furhman nuclear grade: 3', 'furhman nuclear grade: 4', 'furhman nuclear grade: 3 and 4', 'furhman nuclear grade: 2', 'furhman nuclear grade: 2;3', 'furhman nuclear grade: 1'], 6: ['tnm stage: na', 'tnm stage: T1', 'tnm stage: T2', 'tnm stage: T3a', 'tnm stage: T4', 'tnm stage: T3', 'tnm stage: T3a M1', 'tnm stage: T2 M1', 'tnm stage: T3c', 'tnm stage: T3a N1'], 7: ['tumor size (mm): 29', 'tumor size (mm): 38', 'tumor size (mm): 32', 'tumor size (mm): 110', 'tumor size (mm): 25', 'tumor size (mm): 14', 'tumor size (mm): 52', 'tumor size (mm): 85', 'tumor size (mm): 21', 'tumor size (mm): 115', 'tumor size (mm): 40', 'tumor size (mm): 80', 'tumor size (mm): 35', 'tumor size (mm): 42', 'tumor size (mm): 30', 'tumor size (mm): 79', 'tumor size (mm): 64', 'tumor size (mm): 45', 'tumor size (mm): 31', 'tumor size (mm): 48', 'tumor size (mm): 17', 'tumor size (mm): 140', 'tumor size (mm): 36', 'tumor size (mm): 27', 'tumor size (mm): 58', 'tumor size (mm): 20', 'tumor size (mm): 95', 'tumor size (mm): 22', 'tumor size (mm): 70', 'tumor size (mm): 23']}\n"
     ]
    }
   ],
   "source": [
    "from utils.preprocess import *\n",
    "# 1. Identify the paths to the soft file and the matrix file\n",
    "cohort_dir = '/media/techt/DATA/GEO/Kidney_Chromophobe/GSE57162'\n",
    "soft_file, matrix_file = geo_get_relevant_filepaths(cohort_dir)\n",
    "\n",
    "# 2. Read the matrix file to obtain background information and sample characteristics data\n",
    "background_prefixes = ['!Series_title', '!Series_summary', '!Series_overall_design']\n",
    "clinical_prefixes = ['!Sample_geo_accession', '!Sample_characteristics_ch1']\n",
    "background_info, clinical_data = get_background_and_clinical_data(matrix_file, background_prefixes, clinical_prefixes)\n",
    "\n",
    "# 3. Obtain the sample characteristics dictionary from the clinical dataframe\n",
    "sample_characteristics_dict = get_unique_values_by_row(clinical_data)\n",
    "\n",
    "# 4. Explicitly print out all the background information and the sample characteristics dictionary\n",
    "print(\"Background Information:\")\n",
    "print(background_info)\n",
    "print(\"Sample Characteristics Dictionary:\")\n",
    "print(sample_characteristics_dict)\n"
   ]
  },
  {
   "cell_type": "markdown",
   "id": "c13a709d",
   "metadata": {},
   "source": [
    "### Step 2: Dataset Analysis and Clinical Feature Extraction"
   ]
  },
  {
   "cell_type": "code",
   "execution_count": 3,
   "id": "49746ac0",
   "metadata": {
    "execution": {
     "iopub.execute_input": "2024-06-12T11:01:24.967814Z",
     "iopub.status.busy": "2024-06-12T11:01:24.967677Z",
     "iopub.status.idle": "2024-06-12T11:01:25.009063Z",
     "shell.execute_reply": "2024-06-12T11:01:25.008764Z"
    }
   },
   "outputs": [
    {
     "name": "stdout",
     "output_type": "stream",
     "text": [
      "{'GSM1376393': [None, 66, 0], 'GSM1376394': [None, 82, 0], 'GSM1376395': [None, 59, 0], 'GSM1376396': [None, 58, 0], 'GSM1376397': [None, 59, 0], 'GSM1376398': [None, 57, 0], 'GSM1376399': [None, 62, 0], 'GSM1376400': [None, 48, 0], 'GSM1376401': [None, 69, 0], 'GSM1376402': [None, 76, 0], 'GSM1376403': [None, 63, 0], 'GSM1376404': [None, 74, 0], 'GSM1376405': [None, 57, 0], 'GSM1376406': [None, 77, 0], 'GSM1376407': [None, 79, 0], 'GSM1376408': [None, 45, 0], 'GSM1376409': [None, 67, 0], 'GSM1376410': [None, 57, 0], 'GSM1376411': [None, 59, 0], 'GSM1376412': [None, 69, 0], 'GSM1376413': [None, 52, 0], 'GSM1376414': [None, 68, 0], 'GSM1376415': [None, 43, 0], 'GSM1376416': [None, 39, 0], 'GSM1376417': [None, 53, 0], 'GSM1376418': [None, 49, 0], 'GSM1376419': [None, 47, 0], 'GSM1376420': [None, 56, 0], 'GSM1376421': [None, 61, 0], 'GSM1376422': [None, 72, 0], 'GSM1376423': [None, 66, 0], 'GSM1376424': [None, 41, 0], 'GSM1376425': [None, 67, 0], 'GSM1376426': [None, 58, 0], 'GSM1376427': [None, 55, 0], 'GSM1376428': [None, 65, 0], 'GSM1376429': [None, 58, 0], 'GSM1376430': [None, 41, 0], 'GSM1376431': [None, 73, 0], 'GSM1376432': [None, 63, 0], 'GSM1376433': [None, 63, 0], 'GSM1376434': [None, 76, 0], 'GSM1376435': [None, 68, 0], 'GSM1376436': [None, 50, 0], 'GSM1376437': [None, 56, 0], 'GSM1376438': [None, 46, 0], 'GSM1376439': [None, 82, 0], 'GSM1376440': [None, 49, 0], 'GSM1376441': [None, 62, 0], 'GSM1376442': [None, 65, 0], 'GSM1376443': [None, 73, 0], 'GSM1376444': [None, 62, 0], 'GSM1376445': [None, 76, 0], 'GSM1376446': [None, 44, 0], 'GSM1376447': [None, 45, 0], 'GSM1376448': [None, 69, 0], 'GSM1376449': [None, 48, 0], 'GSM1376450': [None, 74, 0], 'GSM1376451': [None, 68, 0], 'GSM1376452': [None, 35, 0], 'GSM1376453': [None, 72, 0], 'GSM1376454': [None, 69, 0], 'GSM1376455': [None, 55, 0], 'GSM1376456': [None, 78, 1], 'GSM1376457': [None, 74, 1], 'GSM1376458': [None, 54, 1], 'GSM1376459': [None, 68, 1], 'GSM1376460': [None, 64, 1], 'GSM1376461': [None, 88, 1], 'GSM1376462': [None, 81, 1], 'GSM1376463': [None, 69, 1], 'GSM1376464': [None, 61, 1], 'GSM1376465': [None, 70, 1], 'GSM1376466': [None, 37, 1], 'GSM1376467': [None, 76, 1], 'GSM1376468': [None, 79, 1], 'GSM1376469': [None, 73, 1], 'GSM1376470': [None, 44, 1], 'GSM1376471': [None, 63, 1], 'GSM1376472': [None, 79, 1], 'GSM1376473': [None, 74, 1], 'GSM1376474': [None, 76, 1], 'GSM1376475': [None, 54, 1], 'GSM1376476': [None, 53, 1], 'GSM1376477': [None, 63, 1], 'GSM1376478': [None, 54, 1], 'GSM1376479': [None, 56, 1], 'GSM1376480': [None, 53, 1], 'GSM1376481': [None, 53, 1], 'GSM1376482': [None, 68, 1], 'GSM1376483': [None, 68, 1], 'GSM1376484': [None, 50, 1], 'GSM1376485': [None, 27, 1], 'GSM1376486': [None, 70, 1], 'GSM1376487': [None, 62, 1], 'GSM1376488': [None, 48, 1], 'GSM1376489': [None, 55, 1], 'GSM1376490': [None, 64, 1], 'GSM1376491': [None, 57, 1], 'GSM1376492': [None, 71, 1], 'GSM1376493': [None, 84, 1], 'GSM1376494': [None, 60, 1], 'GSM1376495': [None, 58, 1], 'GSM1376496': [None, 71, 1], 'GSM1376497': [None, 83, 1], 'GSM1376498': [None, 37, 1], 'GSM1376499': [None, 63, 1], 'GSM1376500': [None, 58, 1], 'GSM1376501': [None, 57, 1], 'GSM1376502': [None, 66, 1], 'GSM1376503': [None, 68, 1], 'GSM1376504': [None, 72, 1], 'GSM1376505': [None, 56, 1], 'GSM1376506': [None, 53, 1], 'GSM1376507': [None, 56, 1], 'GSM1376508': [None, 39, 1], 'GSM1376509': [None, 86, 1], 'GSM1376510': [None, 75, 1], 'GSM1376511': [None, 54, 1], 'GSM1376512': [None, 49, 1], 'GSM1376513': [None, 50, 1], 'GSM1376514': [None, 61, 1], 'GSM1376515': [None, 67, 1], 'GSM1376516': [None, 46, 1], 'GSM1376517': [None, 61, 1], 'GSM1376518': [None, 48, 1], 'GSM1376519': [None, 64, 1], 'GSM1376520': [None, 59, 1], 'GSM1376521': [None, 58, 1], 'GSM1376522': [None, 55, 1], 'GSM1376523': [None, 59, 1], 'GSM1376524': [None, 67, 1], 'GSM1376525': [None, 45, 1], 'GSM1376526': [None, 56, 1], 'GSM1376527': [None, 74, 1], 'GSM1376528': [None, 58, 1], 'GSM1376529': [None, 46, 1], 'GSM1376530': [None, 63, 1], 'GSM1376531': [None, 65, 1], 'GSM1376532': [None, 64, 1], 'GSM1376533': [None, 45, 1], 'GSM1376534': [None, 71, 1], 'GSM1376535': [None, 56, 1], 'GSM1376536': [None, 45, 1], 'GSM1376537': [None, 68, 1], 'GSM1376538': [None, 57, 1], 'GSM1376539': [None, 63, 1], 'GSM1376540': [None, 63, 1], 'GSM1376541': [None, 76, 1], 'GSM1376542': [None, 64, 1], 'GSM1376543': [None, 42, 1], 'GSM1376544': [None, 68, 1], 'GSM1376545': [None, 63, 1], 'GSM1376546': [None, 44, 1], 'GSM1376547': [None, 61, 1], 'GSM1376548': [None, 84, 1], 'GSM1376549': [None, 53, 1], 'GSM1376550': [None, 81, 1], 'GSM1376551': [None, 62, 1], 'GSM1376552': [None, 43, 1], 'GSM1376553': [None, 40, 1], 'GSM1376554': [None, 67, 1], 'GSM1376555': [None, 49, 1], 'GSM1376556': [None, 59, 1], 'GSM1376557': [None, 63, 1], 'GSM1376558': [None, 61, 1], 'GSM1376559': [None, 55, 1], 'GSM1376560': [None, 56, 1], 'GSM1376561': [None, 70, 1], 'GSM1376562': [None, 71, 1], 'GSM1376563': [None, 66, 1], 'GSM1376564': [None, 77, 1], 'GSM1376565': [None, 64, 1], 'GSM1376566': [None, 66, 1], 'GSM1376567': [None, 60, 1], 'GSM1376568': [None, 53, 1], 'GSM1376569': [None, 49, 1], 'GSM1376570': [None, 47, 1], 'GSM1376571': [None, 44, 1], 'GSM1376572': [None, 83, 1], 'GSM1376573': [None, 73, 1], 'GSM1376574': [None, 59, 1], 'GSM1376575': [None, 60, 1], 'GSM1376576': [None, 78, 1], 'GSM1376577': [None, 76, 1], 'GSM1376578': [None, 81, 1], 'GSM1376579': [None, 64, 1], 'GSM1376580': [None, 84, 1], 'GSM1376581': [None, 57, 1], 'GSM1376582': [None, 65, 1], 'GSM1376583': [None, 45, 1]}\n"
     ]
    }
   ],
   "source": [
    "is_gene_available = False\n",
    "trait_row = age_row = gender_row = None  # set to different values when applicable\n",
    "convert_trait = convert_age = convert_age = None  # define the functions when applicable\n",
    "\n",
    "# Step 1: Gene Expression Data Availability\n",
    "if 'gene expression' in [\"Accurate diagnostic discrimination\", \"Validation\", \"criteria for scoring specimens\"]:  # Example checks, please tailor it better\n",
    "    is_gene_available = True\n",
    "\n",
    "# Step 2.1: Variable Availability\n",
    "sample_characteristics = {\n",
    "    0: ['sample type: Formalin Fixed Paraffin Embedded (FFPE)'],\n",
    "    1: ['tissue: renal cell carcinoma specimen'],\n",
    "    2: ['histology: OC', 'histology: pRCC', 'histology: chrRCC', 'histology: ccRCC'],\n",
    "    3: ['gender: F', 'gender: M'],\n",
    "    4: ['age: 66', 'age: 82', 'age: 59', 'age: 58', 'age: 57', 'age: 62', 'age: 48', 'age: 69', 'age: 76', 'age: 63', 'age: 74', 'age: 77', 'age: 79', 'age: 45', 'age: 67', 'age: 52', 'age: 68', 'age: 43', 'age: 39', 'age: 53', 'age: 49', 'age: 47', 'age: 56', 'age: 61', 'age: 72', 'age: 41', 'age: 55', 'age: 65', 'age: 73', 'age: 50'],\n",
    "    5: ['furhman nuclear grade: na', 'furhman nuclear grade: 3', 'furhman nuclear grade: 4', 'furhman nuclear grade: 3 and 4', 'furhman nuclear grade: 2', 'furhman nuclear grade: 2;3', 'furhman nuclear grade: 1'],\n",
    "    6: ['tnm stage: na', 'tnm stage: T1', 'tnm stage: T2', 'tnm stage: T3a', 'tnm stage: T4', 'tnm stage: T3', 'tnm stage: T3a M1', 'tnm stage: T2 M1', 'tnm stage: T3c', 'tnm stage: T3a N1'],\n",
    "    7: ['tumor size (mm): 29', 'tumor size (mm): 38', 'tumor size (mm): 32', 'tumor size (mm): 110', 'tumor size (mm): 25', 'tumor size (mm): 14', 'tumor size (mm): 52', 'tumor size (mm): 85', 'tumor size (mm): 21', 'tumor size (mm): 115', 'tumor size (mm): 40', 'tumor size (mm): 80', 'tumor size (mm): 35', 'tumor size (mm): 42', 'tumor size (mm): 30', 'tumor size (mm): 79', 'tumor size (mm): 64', 'tumor size (mm): 45', 'tumor size (mm): 31', 'tumor size (mm): 48', 'tumor size (mm): 17', 'tumor size (mm): 140', 'tumor size (mm): 36', 'tumor size (mm): 27', 'tumor size (mm): 58', 'tumor size (mm): 20', 'tumor size (mm): 95', 'tumor size (mm): 22', 'tumor size (mm): 70', 'tumor size (mm): 23']\n",
    "}\n",
    "\n",
    "# Identify `trait_row`\n",
    "if len(set(sample_characteristics[2])) > 1:\n",
    "    trait_row = 2\n",
    "\n",
    "# Identify `age_row`\n",
    "if len(set(sample_characteristics[4])) > 1:\n",
    "    age_row = 4\n",
    "\n",
    "# Identify `gender_row`\n",
    "if len(set(sample_characteristics[3])) > 1:\n",
    "    gender_row = 3\n",
    "\n",
    "# Step 2.3: Data Type Conversion\n",
    "def convert_trait(value):\n",
    "    try:\n",
    "        trait_mapping = {'histology: chrRCC': 1, 'histology: OC': 0, 'histology: pRCC': 0, 'histology: ccRCC': 0}\n",
    "        key = value.split(': ')[1]\n",
    "        return trait_mapping[key]\n",
    "    except Exception:\n",
    "        return None\n",
    "\n",
    "def convert_age(value):\n",
    "    try:\n",
    "        return int(value.split(': ')[1])\n",
    "    except Exception:\n",
    "        return None\n",
    "\n",
    "def convert_gender(value):\n",
    "    try:\n",
    "        gender_mapping = {'F': 0, 'M': 1}\n",
    "        gender = value.split(': ')[1]\n",
    "        return gender_mapping[gender]\n",
    "    except Exception:\n",
    "        return None\n",
    "\n",
    "# Step 3: Save Metadata\n",
    "save_cohort_info('GSE57162', './preprocessed/Kidney_Chromophobe/cohort_info.json', is_gene_available, trait_row is not None)\n",
    "\n",
    "# Step 4: Clinical Feature Extraction\n",
    "if trait_row is not None:\n",
    "    selected_clinical_data = geo_select_clinical_features(clinical_data, 'Kidney_Chromophobe', trait_row, convert_trait, age_row, convert_age, gender_row, convert_gender)\n",
    "    csv_path = './preprocessed/Kidney_Chromophobe/trait_data/GSE57162.csv'\n",
    "    selected_clinical_data.to_csv(csv_path)\n",
    "    print(preview_df(selected_clinical_data))\n"
   ]
  }
 ],
 "metadata": {
  "language_info": {
   "codemirror_mode": {
    "name": "ipython",
    "version": 3
   },
   "file_extension": ".py",
   "mimetype": "text/x-python",
   "name": "python",
   "nbconvert_exporter": "python",
   "pygments_lexer": "ipython3",
   "version": "3.8.17"
  }
 },
 "nbformat": 4,
 "nbformat_minor": 5
}
