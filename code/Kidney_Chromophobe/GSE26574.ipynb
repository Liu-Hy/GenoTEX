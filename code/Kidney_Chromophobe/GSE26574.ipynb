{
 "cells": [
  {
   "cell_type": "code",
   "execution_count": 1,
   "id": "553187c4",
   "metadata": {
    "execution": {
     "iopub.execute_input": "2024-06-12T11:00:42.360943Z",
     "iopub.status.busy": "2024-06-12T11:00:42.360844Z",
     "iopub.status.idle": "2024-06-12T11:00:42.364682Z",
     "shell.execute_reply": "2024-06-12T11:00:42.364410Z"
    }
   },
   "outputs": [],
   "source": [
    "\n",
    "import sys\n",
    "sys.path.append('/home/techt/Desktop/a4s')\n"
   ]
  },
  {
   "cell_type": "markdown",
   "id": "542b1850",
   "metadata": {},
   "source": [
    "### Step 1: Initial Data Loading"
   ]
  },
  {
   "cell_type": "code",
   "execution_count": 2,
   "id": "43c23543",
   "metadata": {
    "execution": {
     "iopub.execute_input": "2024-06-12T11:00:42.366133Z",
     "iopub.status.busy": "2024-06-12T11:00:42.366033Z",
     "iopub.status.idle": "2024-06-12T11:00:42.670208Z",
     "shell.execute_reply": "2024-06-12T11:00:42.669830Z"
    }
   },
   "outputs": [
    {
     "name": "stdout",
     "output_type": "stream",
     "text": [
      "Background Information:\n",
      "!Series_title\t\"An antioxidant response phenotype is shared between hereditary and sporadic type 2 papillary renal cell carcinoma\"\n",
      "!Series_summary\t\"Fumarate hydratase (FH) mutation causes hereditary type 2 papillary renal cell carcinoma (HLRCC, Hereditary Leiomyomatosis and Renal Cell Cancer (MM ID # 605839)). The main effect of FH mutation is fumarate accumulation. The current paradigm posits that the main consequence of fumarate accumulation is HIF-a stabilization. Paradoxically, FH mutation differs from other HIF-a stabilizing mutations, such as VHL and SDH mutations, in its associated tumor types. We identified that fumarate can directly up-regulate antioxidant response element (ARE)-controlled genes. We demonstrated that AKR1B10 is an ARE-controlled gene and is up-regulated upon FH knockdown as well as in FH-null cell lines. AKR1B10 overexpression is also a prominent feature in both hereditary and sporadic PRCC2. This phenotype better explains the similarities between hereditary and sporadic PRCC2.\"\n",
      "!Series_overall_design\t\"Expression profiling renal normal and tumor tissue\"\n",
      "Sample Characteristics Dictionary:\n",
      "{0: ['disease state: normal_tissue_from_ccRCC_patient', 'disease state: ccRCC', 'disease state: Chromophobe', 'disease state: Pap_type1', 'disease state: Pap_type2', 'disease state: HLRCC', 'disease state: normal_tissue_from_FH_patient']}\n"
     ]
    }
   ],
   "source": [
    "from utils.preprocess import *\n",
    "# 1. Identify the paths to the soft file and the matrix file\n",
    "cohort_dir = '/media/techt/DATA/GEO/Kidney_Chromophobe/GSE26574'\n",
    "soft_file, matrix_file = geo_get_relevant_filepaths(cohort_dir)\n",
    "\n",
    "# 2. Read the matrix file to obtain background information and sample characteristics data\n",
    "background_prefixes = ['!Series_title', '!Series_summary', '!Series_overall_design']\n",
    "clinical_prefixes = ['!Sample_geo_accession', '!Sample_characteristics_ch1']\n",
    "background_info, clinical_data = get_background_and_clinical_data(matrix_file, background_prefixes, clinical_prefixes)\n",
    "\n",
    "# 3. Obtain the sample characteristics dictionary from the clinical dataframe\n",
    "sample_characteristics_dict = get_unique_values_by_row(clinical_data)\n",
    "\n",
    "# 4. Explicitly print out all the background information and the sample characteristics dictionary\n",
    "print(\"Background Information:\")\n",
    "print(background_info)\n",
    "print(\"Sample Characteristics Dictionary:\")\n",
    "print(sample_characteristics_dict)\n"
   ]
  },
  {
   "cell_type": "markdown",
   "id": "7af1eaa8",
   "metadata": {},
   "source": [
    "### Step 2: Dataset Analysis and Clinical Feature Extraction"
   ]
  },
  {
   "cell_type": "code",
   "execution_count": 3,
   "id": "4f1567aa",
   "metadata": {
    "execution": {
     "iopub.execute_input": "2024-06-12T11:00:42.672025Z",
     "iopub.status.busy": "2024-06-12T11:00:42.671908Z",
     "iopub.status.idle": "2024-06-12T11:00:42.677241Z",
     "shell.execute_reply": "2024-06-12T11:00:42.676930Z"
    }
   },
   "outputs": [
    {
     "name": "stdout",
     "output_type": "stream",
     "text": [
      "Error during clinical feature extraction: unsupported operand type(s) for +: 'NoneType' and 'int'\n"
     ]
    }
   ],
   "source": [
    "is_gene_available = False\n",
    "trait_row = age_row = gender_row = None  # set to different values when applicable\n",
    "convert_trait = convert_age = convert_gender = None  # define the functions when applicable\n",
    "\n",
    "# Check if gene expression data is likely available\n",
    "is_gene_available = True\n",
    "\n",
    "# Check for variable availability and data type conversion functions\n",
    "# Based on the output, there is a disease state which includes \"Chromophobe\"\n",
    "trait_row = 0 if 'Chromophobe' in sample_characteristics_dict[0] else None\n",
    "\n",
    "# Age and Gender data keys are not explicitly shown in the given sample characteristics dictionary\n",
    "# so we set them to None as per instructions\n",
    "age_row = None\n",
    "gender_row = None\n",
    "\n",
    "# Define conversion functions for trait, age, and gender\n",
    "def convert_trait(value):\n",
    "    try:\n",
    "        val = value.split(':')[-1].strip().lower()\n",
    "        if 'chromophobe' in val:\n",
    "            return 1\n",
    "        else:\n",
    "            return 0\n",
    "    except:\n",
    "        return None\n",
    "\n",
    "def convert_age(value):\n",
    "    try:\n",
    "        return float(value.split(':')[-1].strip())\n",
    "    except:\n",
    "        return None\n",
    "\n",
    "def convert_gender(value):\n",
    "    try:\n",
    "        val = value.split(':')[-1].strip().lower()\n",
    "        if val == \"male\":\n",
    "            return 1\n",
    "        elif val == \"female\":\n",
    "            return 0\n",
    "        else:\n",
    "            return None\n",
    "    except:\n",
    "        return None\n",
    "\n",
    "# Save cohort information\n",
    "save_cohort_info('GSE26574', './preprocessed/Kidney_Chromophobe/cohort_info.json', is_gene_available, trait_row is not None)\n",
    "\n",
    "# Since trait_row is not None, extract clinical features\n",
    "try:\n",
    "    selected_clinical_data = geo_select_clinical_features(\n",
    "        clinical_data,\n",
    "        'Kidney_Chromophobe',\n",
    "        trait_row,\n",
    "        convert_trait,\n",
    "        convert_age if age_row is not None else None,\n",
    "        convert_gender if gender_row is not None else None\n",
    "    )\n",
    "    csv_path = './preprocessed/Kidney_Chromophobe/trait_data/GSE26574.csv'\n",
    "    selected_clinical_data.to_csv(csv_path)\n",
    "    print(preview_df(selected_clinical_data))\n",
    "except Exception as e:\n",
    "    print(f\"Error during clinical feature extraction: {e}\")\n"
   ]
  }
 ],
 "metadata": {
  "language_info": {
   "codemirror_mode": {
    "name": "ipython",
    "version": 3
   },
   "file_extension": ".py",
   "mimetype": "text/x-python",
   "name": "python",
   "nbconvert_exporter": "python",
   "pygments_lexer": "ipython3",
   "version": "3.8.17"
  }
 },
 "nbformat": 4,
 "nbformat_minor": 5
}
