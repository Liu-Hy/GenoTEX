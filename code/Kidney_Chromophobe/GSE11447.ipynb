{
 "cells": [
  {
   "cell_type": "code",
   "execution_count": 1,
   "id": "29259564",
   "metadata": {
    "execution": {
     "iopub.execute_input": "2024-06-12T10:58:14.283621Z",
     "iopub.status.busy": "2024-06-12T10:58:14.283467Z",
     "iopub.status.idle": "2024-06-12T10:58:14.288871Z",
     "shell.execute_reply": "2024-06-12T10:58:14.288469Z"
    }
   },
   "outputs": [],
   "source": [
    "\n",
    "import sys\n",
    "sys.path.append('/home/techt/Desktop/a4s')\n"
   ]
  },
  {
   "cell_type": "markdown",
   "id": "86bb6c2b",
   "metadata": {},
   "source": [
    "### Step 1: Initial Data Loading"
   ]
  },
  {
   "cell_type": "code",
   "execution_count": 2,
   "id": "2349dcb3",
   "metadata": {
    "execution": {
     "iopub.execute_input": "2024-06-12T10:58:14.291077Z",
     "iopub.status.busy": "2024-06-12T10:58:14.290711Z",
     "iopub.status.idle": "2024-06-12T10:58:14.547976Z",
     "shell.execute_reply": "2024-06-12T10:58:14.547620Z"
    }
   },
   "outputs": [
    {
     "name": "stdout",
     "output_type": "stream",
     "text": [
      "Background Information:\n",
      "!Series_title\t\"Diagnosis of Morphologically Challenging Cases of Renal Epithelial Neoplasms by Virtual Karyotypes with SNP Arrays\"\n",
      "!Series_summary\t\"Renal tumors with complex morphology require extensive workup for accurate classification.  Chromosomal aberrations that define subtypes of renal epithelial neoplasms have been reported. We explored if whole-genome chromosome copy number and loss-of-heterozygosity analysis with single nucleotide polymorphism (SNP) arrays can be used to identify these aberrations in cases where morphology was unable to definitively classify these tumors.\"\n",
      "!Series_summary\t\"\"\n",
      "!Series_summary\t\"Keywords: Chromosome copy number and LOH analysis (virtual karyotyping) with SNP Genotyping Arrays\"\n",
      "!Series_summary\t\"\"\n",
      "!Series_summary\t\"Keywords: Genome variation profiling by SNP array\"\n",
      "!Series_overall_design\t\"We analyzed 50 paraffin-embedded tissues representing tumors with classic morphology from clear cell renal cell carcinoma (RCC), papillary RCC, chromophobe RCC, and oncocytoma with Affymetrix GeneChip 10K 2.0 Mapping arrays. We then analyzed 25 tumors that could not be classified by morphology and classified them based on the presence of defining chromosomal anomalies identified in the \"\"classic\"\" cohort.\"\n",
      "Sample Characteristics Dictionary:\n",
      "{0: ['sex: F', 'sex: M'], 1: ['agedecade: 7', 'agedecade: 5', 'agedecade: 6', 'agedecade: 8', 'agedecade: 9', 'agedecade: 80-89', 'agedecade: 60-69', 'agedecade: 70-79', 'agedecade: 40-49', 'agedecade: 50-59', 'agedecade: 30-39'], 2: ['tumor size: 7.7', 'tumor size: 9.7', 'tumor size: 5.5', 'tumor size: 7', 'tumor size: 6', 'tumor size: 4', 'tumor size: 5.4', 'tumor size: 4.5', 'tumor size: 5.2', 'tumor size: 2.8', 'tumor size: 1.5', 'tumor size: 21', 'tumor size: 5.3', 'tumor size: 4.3', 'tumor size: 2.2', 'tumor size: 8.5', 'tumor size: 0.6', 'tumor size: 3.5', 'tumor size: 10', 'tumor size: 1.600000024', 'tumor size: 6.5', 'tumor size: 6.800000191', 'tumor size: 16.5', 'tumor size: 14.89999962', 'tumor size: 6.199999809', 'tumor size: 8', 'tumor size: 2.5', 'tumor size: 2.299999952', 'tumor size: 11.80000019', 'tumor size: 14'], 3: ['furhman nuclear grade: 2', 'furhman nuclear grade: 3', 'furhman nuclear grade: 0', 'furhman nuclear grade: N/A', 'furhman nuclear grade: 4'], 4: ['tnm stage: T2NXMX', 'tnm stage: T1NXMX', 'tnm stage: T3bNXMX', 'tnm stage: T1bNXMX', 'tnm stage: T1aNXMX', 'tnm stage: N/A', 'tnm stage: T1bNxMx', 'tnm stage: T3aN0Mx', 'tnm stage: T2NxMx', 'tnm stage: T2N2Mx', 'tnm stage: T3aNxMx', 'tnm stage: T3bN0M0', 'tnm stage: T1bN0Mx', 'tnm stage: T1aNxMx', 'tnm stage: T3aNXMX', 'tnm stage: T2N2M1', 'tnm stage: T1bNxM1', 'tnm stage: T3aNxM1', 'tnm stage: T2N0Mx', 'tnm stage: T3bN2Mx', 'tnm stage: T3a Nx Mx', 'tnm stage: T2 Nx Mx', 'tnm stage: T1a Nx Mx', 'tnm stage: T3b N2 Mx', 'tnm stage: T1b Nx Mx', 'tnm stage: T1b(5) Nx Mx', 'tnm stage: T3a N0 Mx', 'tnm stage: T3b Nx Mx'], 5: ['lymphovascular invasion: N', 'lymphovascular invasion: Y', 'lymphovascular invasion: N/A', 'lymphovascular invasion: n', 'lymphovascular invasion: UNK'], 6: ['gross appearance: WC solid, fleshy tan-black', 'gross appearance: Yellow orange granular lesion with hem foci', 'gross appearance: WC yellow variegated', 'gross appearance: Tan-brown with central scar and lg areas of hem and nec.', 'gross appearance: Bright yellow', 'gross appearance: lobulated yellow', 'gross appearance: variegated golden yellow', 'gross appearance: golden yellow orange', 'gross appearance: WC variegated red yellow gold', 'gross appearance: ovoid tan', 'gross appearance: WC brown and yellow, soft; dig images', 'gross appearance: WC golden brown, focally cystic and hem', 'gross appearance: WC gold w hem foci; dig images', 'gross appearance: mohagany, multinodular, central scar', 'gross appearance: 80% friable caseous white with focal firm tan-white nodular; block B is from caseous', 'gross appearance: WC yellow fragile', 'gross appearance: on sectioning the tumor is mostly necrotic', 'gross appearance: WC with area of nec', 'gross appearance: 18 WC yellow-tan nodules', nan], 7: ['comment: IHC:  pos CK7, EP4, CI; neg vim, CD10, ecad, inh; Ki67 pos < 10%', 'comment: ', 'comment: .015 cm PRCC', 'comment: Multifocal; IHC:  pos RCC; neg CK7, EP4, vim, inh, IC; CD10 pos memb; ecad focal weak memb', 'comment: IHC:  RCC neg, CK7 scat pos and tubules.', 'comment: Multifocal; no IHC; no FISH', 'comment: 4cm OC, no ECE, no LVI', 'comment: IHC:  pos CD10, ecad, inh; neg CI, vim, rcc, EP4; CK7 scat pos; Ki67 1+ of neoplastic cells', 'comment: 21cm OC, no ECE, no LVI; FISH not c/w OC.', 'comment: Small focus of clear cell; multifocal vs tangential cut.', 'comment: Extensive necrosis.', nan]}\n"
     ]
    }
   ],
   "source": [
    "from utils.preprocess import *\n",
    "# 1. Identify the paths to the soft file and the matrix file\n",
    "cohort_dir = '/media/techt/DATA/GEO/Kidney_Chromophobe/GSE11447'\n",
    "soft_file, matrix_file = geo_get_relevant_filepaths(cohort_dir)\n",
    "\n",
    "# 2. Read the matrix file to obtain background information and sample characteristics data\n",
    "background_prefixes = ['!Series_title', '!Series_summary', '!Series_overall_design']\n",
    "clinical_prefixes = ['!Sample_geo_accession', '!Sample_characteristics_ch1']\n",
    "background_info, clinical_data = get_background_and_clinical_data(matrix_file, background_prefixes, clinical_prefixes)\n",
    "\n",
    "# 3. Obtain the sample characteristics dictionary from the clinical dataframe\n",
    "sample_characteristics_dict = get_unique_values_by_row(clinical_data)\n",
    "\n",
    "# 4. Explicitly print out all the background information and the sample characteristics dictionary\n",
    "print(\"Background Information:\")\n",
    "print(background_info)\n",
    "print(\"Sample Characteristics Dictionary:\")\n",
    "print(sample_characteristics_dict)\n"
   ]
  },
  {
   "cell_type": "markdown",
   "id": "b9a532e7",
   "metadata": {},
   "source": [
    "### Step 2: Dataset Analysis and Clinical Feature Extraction"
   ]
  },
  {
   "cell_type": "code",
   "execution_count": 3,
   "id": "a66c0403",
   "metadata": {
    "execution": {
     "iopub.execute_input": "2024-06-12T10:58:14.549751Z",
     "iopub.status.busy": "2024-06-12T10:58:14.549647Z",
     "iopub.status.idle": "2024-06-12T10:58:14.553730Z",
     "shell.execute_reply": "2024-06-12T10:58:14.553452Z"
    }
   },
   "outputs": [
    {
     "name": "stdout",
     "output_type": "stream",
     "text": [
      "A new JSON file was created at: ./preprocessed/Kidney_Chromophobe/cohort_info.json\n"
     ]
    }
   ],
   "source": [
    "is_gene_available = True\n",
    "trait_row = None\n",
    "age_row = 1\n",
    "gender_row = 0\n",
    "\n",
    "def convert_trait(value):\n",
    "    # Define conversion logic if needed in the future\n",
    "    return None  # Placeholder function\n",
    "\n",
    "def convert_age(value):\n",
    "    try:\n",
    "        # Split the string to get the age information\n",
    "        age_str = value.split(':')[1].strip()\n",
    "        if '-' in age_str:\n",
    "            # Handle cases such as \"60-69\"\n",
    "            start_age, end_age = map(int, age_str.split('-'))\n",
    "            return (start_age + end_age) // 2  # Returning the midpoint of the range\n",
    "        elif age_str.isdigit():\n",
    "            # Handle single age decade e.g., \"7\" meaning \"70-79\"\n",
    "            return int(age_str) * 10 + 5  # Mapping \"7\" to \"75\"\n",
    "        else:\n",
    "            return None\n",
    "    except:\n",
    "        return None\n",
    "\n",
    "def convert_gender(value):\n",
    "    try:\n",
    "        gender_str = value.split(':')[1].strip().lower()\n",
    "        if gender_str == 'f':\n",
    "            return 0\n",
    "        elif gender_str == 'm':\n",
    "            return 1\n",
    "        else:\n",
    "            return None\n",
    "    except:\n",
    "        return None\n",
    "\n",
    "# Save cohort information\n",
    "save_cohort_info('GSE11447', './preprocessed/Kidney_Chromophobe/cohort_info.json', is_gene_available, trait_row is not None)\n",
    "\n",
    "# Since trait_row is None, skip clinical feature extraction\n"
   ]
  }
 ],
 "metadata": {
  "language_info": {
   "codemirror_mode": {
    "name": "ipython",
    "version": 3
   },
   "file_extension": ".py",
   "mimetype": "text/x-python",
   "name": "python",
   "nbconvert_exporter": "python",
   "pygments_lexer": "ipython3",
   "version": "3.8.17"
  }
 },
 "nbformat": 4,
 "nbformat_minor": 5
}
