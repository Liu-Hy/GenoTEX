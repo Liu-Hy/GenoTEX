{
 "cells": [
  {
   "cell_type": "code",
   "execution_count": 1,
   "id": "c4cbb077",
   "metadata": {
    "execution": {
     "iopub.execute_input": "2024-06-12T11:02:25.192189Z",
     "iopub.status.busy": "2024-06-12T11:02:25.191807Z",
     "iopub.status.idle": "2024-06-12T11:02:25.198687Z",
     "shell.execute_reply": "2024-06-12T11:02:25.198155Z"
    }
   },
   "outputs": [],
   "source": [
    "\n",
    "import sys\n",
    "sys.path.append('/home/techt/Desktop/a4s')\n"
   ]
  },
  {
   "cell_type": "markdown",
   "id": "0de0096c",
   "metadata": {},
   "source": [
    "### Step 1: Initial Data Loading"
   ]
  },
  {
   "cell_type": "code",
   "execution_count": 2,
   "id": "ec1142e7",
   "metadata": {
    "execution": {
     "iopub.execute_input": "2024-06-12T11:02:25.201026Z",
     "iopub.status.busy": "2024-06-12T11:02:25.200579Z",
     "iopub.status.idle": "2024-06-12T11:02:25.502901Z",
     "shell.execute_reply": "2024-06-12T11:02:25.502445Z"
    }
   },
   "outputs": [
    {
     "name": "stdout",
     "output_type": "stream",
     "text": [
      "Background Information:\n",
      "!Series_title\t\"Cell-type specific gene programs of the normal human nephron define kidney cancer subtypes\"\n",
      "!Series_summary\t\"Comprehensive transcriptome studies of cancers often rely on corresponding normal tissue samples to serve as a transcriptional reference. In this study we performed in-depth analyses of normal kidney tissue transcriptomes from TCGA and demonstrate that the histological variability in cellularity, inherent in the kidney architecture, lead to considerable transcriptional differences between samples. This should be considered when comparing expression profiles of normal and cancerous kidney tissues. We exploited these differences to define renal cell-specific gene signatures and used these as framework to analyze renal cell carcinoma (RCC) ontogeny. Chromophobe RCCs express FOXI1-driven genes that define collecting duct intercalated cells whereas HNF-regulated genes, specific for proximal tubule cells, are an integral part of clear cell and papillary RCC transcriptomes. These networks may be used as framework for understanding the interplay between genomic changes in RCC subtypes and the lineage-defining regulatory machinery of their non-neoplastic counterparts.\"\n",
      "!Series_overall_design\t\"Samples from different parts of the kidneys were procured using core-sampling from approximately 10 mm thick sections obtained from nephrectomized patients in surgery for renal neoplasms. Sampling was performed in the part of the kidney that was farthest from the tumor. Sections were thereafter embedded and hematoxylin-eosin stained allowing for approximation of the respective site in kidney from which the sample was obtained. In all cases a histologically normal kidney histology was confirmed. In all, 53 samples from 5 different renal specimens were included in the analysis.\"\n",
      "Sample Characteristics Dictionary:\n",
      "{0: ['patient id: R099', 'patient id: R116', 'patient id: R127', 'patient id: R134', 'patient id: R164'], 1: ['patient type: Normal kidney tissue'], 2: ['sampling depth: cortex', 'sampling depth: cortex/medulla', 'sampling depth: medulla']}\n"
     ]
    }
   ],
   "source": [
    "from utils.preprocess import *\n",
    "# 1. Identify the paths to the soft file and the matrix file\n",
    "cohort_dir = '/media/techt/DATA/GEO/Kidney_Chromophobe/GSE95425'\n",
    "soft_file, matrix_file = geo_get_relevant_filepaths(cohort_dir)\n",
    "\n",
    "# 2. Read the matrix file to obtain background information and sample characteristics data\n",
    "background_prefixes = ['!Series_title', '!Series_summary', '!Series_overall_design']\n",
    "clinical_prefixes = ['!Sample_geo_accession', '!Sample_characteristics_ch1']\n",
    "background_info, clinical_data = get_background_and_clinical_data(matrix_file, background_prefixes, clinical_prefixes)\n",
    "\n",
    "# 3. Obtain the sample characteristics dictionary from the clinical dataframe\n",
    "sample_characteristics_dict = get_unique_values_by_row(clinical_data)\n",
    "\n",
    "# 4. Explicitly print out all the background information and the sample characteristics dictionary\n",
    "print(\"Background Information:\")\n",
    "print(background_info)\n",
    "print(\"Sample Characteristics Dictionary:\")\n",
    "print(sample_characteristics_dict)\n"
   ]
  },
  {
   "cell_type": "markdown",
   "id": "c2c8971b",
   "metadata": {},
   "source": [
    "### Step 2: Dataset Analysis and Clinical Feature Extraction"
   ]
  },
  {
   "cell_type": "code",
   "execution_count": 3,
   "id": "c56fdbb1",
   "metadata": {
    "execution": {
     "iopub.execute_input": "2024-06-12T11:02:25.504754Z",
     "iopub.status.busy": "2024-06-12T11:02:25.504616Z",
     "iopub.status.idle": "2024-06-12T11:02:25.508344Z",
     "shell.execute_reply": "2024-06-12T11:02:25.508054Z"
    }
   },
   "outputs": [],
   "source": [
    "is_gene_available = False\n",
    "trait_row = age_row = gender_row = None  # set to different values when applicable\n",
    "convert_trait = convert_age = convert_gender = None  # define the functions when applicable\n",
    "\n",
    "# Check for gene expression data availability\n",
    "is_gene_available = True  # Based on the transcriptome studies mentioned\n",
    "\n",
    "# Assuming complete sample characteristics dictionary was provided previously\n",
    "sample_characteristics = {\n",
    "    0: ['patient id: R099', 'patient id: R116', 'patient id: R127', 'patient id: R134', 'patient id: R164'],\n",
    "    1: ['patient type: Normal kidney tissue'],\n",
    "    2: ['sampling depth: cortex', 'sampling depth: cortex/medulla', 'sampling depth: medulla']\n",
    "    # No explicit keys for 'Kidney_Chromophobe', 'age', or 'gender'\n",
    "}\n",
    "\n",
    "# Observing given sample characteristics:\n",
    "# Explicit information on 'Kidney_Chromophobe', 'age', or 'gender' is not available\n",
    "# These variables are not available in the provided dataset\n",
    "trait_row = age_row = gender_row = None\n",
    "\n",
    "# Define conversion functions as placeholders\n",
    "def convert_trait(value):\n",
    "    return None  # Placeholder for trait conversion logic\n",
    "\n",
    "def convert_age(value):\n",
    "    return None  # Placeholder for age conversion logic\n",
    "\n",
    "def convert_gender(value):\n",
    "    return None  # Placeholder for gender conversion logic\n",
    "\n",
    "# Save cohort information\n",
    "save_cohort_info('GSE95425', './preprocessed/Kidney_Chromophobe/cohort_info.json', is_gene_available, trait_row is not None)\n",
    "\n",
    "# Since trait_row is None, clinical feature extraction step is skipped\n"
   ]
  }
 ],
 "metadata": {
  "language_info": {
   "codemirror_mode": {
    "name": "ipython",
    "version": 3
   },
   "file_extension": ".py",
   "mimetype": "text/x-python",
   "name": "python",
   "nbconvert_exporter": "python",
   "pygments_lexer": "ipython3",
   "version": "3.8.17"
  }
 },
 "nbformat": 4,
 "nbformat_minor": 5
}
