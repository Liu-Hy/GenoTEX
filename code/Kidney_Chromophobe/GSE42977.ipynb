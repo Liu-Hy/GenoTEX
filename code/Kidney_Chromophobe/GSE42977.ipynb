{
 "cells": [
  {
   "cell_type": "code",
   "execution_count": 1,
   "id": "f4b5e8ed",
   "metadata": {
    "execution": {
     "iopub.execute_input": "2024-06-12T10:58:15.436482Z",
     "iopub.status.busy": "2024-06-12T10:58:15.436368Z",
     "iopub.status.idle": "2024-06-12T10:58:15.441165Z",
     "shell.execute_reply": "2024-06-12T10:58:15.440873Z"
    }
   },
   "outputs": [],
   "source": [
    "\n",
    "import sys\n",
    "sys.path.append('/home/techt/Desktop/a4s')\n"
   ]
  },
  {
   "cell_type": "markdown",
   "id": "91d5ba62",
   "metadata": {},
   "source": [
    "### Step 1: Initial Data Loading"
   ]
  },
  {
   "cell_type": "code",
   "execution_count": 2,
   "id": "013dd42f",
   "metadata": {
    "execution": {
     "iopub.execute_input": "2024-06-12T10:58:15.443448Z",
     "iopub.status.busy": "2024-06-12T10:58:15.443000Z",
     "iopub.status.idle": "2024-06-12T10:58:15.987100Z",
     "shell.execute_reply": "2024-06-12T10:58:15.986662Z"
    }
   },
   "outputs": [
    {
     "name": "stdout",
     "output_type": "stream",
     "text": [
      "Background Information:\n",
      "!Series_title\t\"Sequential Binary Gene-Ratio Tests Define a Novel Molecular Diagnostic Strategy for Malignant Pleural Mesothelioma\"\n",
      "!Series_summary\t\"The gene-expression ratio  technique was used to design a molecular signature to diagnose MPM from among other potentially confounding diagnoses and differentiate the epithelioid from the sarcomatoid histological subtype of MPM.\"\n",
      "!Series_overall_design\t\"Microarray analysis was performed on 113 specimens including MPMs and a spectrum of tumors and benign tissues comprising the differential diagnosis of MPM.  A sequential combination of binary gene-expression ratio tests was developed to discriminate MPM from other thoracic malignancies .  This method was compared to other bioinformatic tools and this signature was validated  in an independent set of 170 samples.  Functional enrichment analysis was performed to identify differentially expressed probes.\"\n",
      "Sample Characteristics Dictionary:\n",
      "{0: ['tissue: control', 'tissue: Spindle Cell Sarcoma', 'tissue: Sarcoma', 'tissue: Metastatic Melanoma', 'tissue: Pleomorphic Sarcoma', 'tissue: Renal Cell Carcinoma-Clear Cell', 'tissue: Synovial Sarcoma', 'tissue: Metastatic Thymoma', 'tissue: Metastatic Prostate Cancer', 'tissue: Stomach Cancer-Stromal Sarcoma', 'tissue: Non-Hodgkins Lymphoma', 'tissue: Hemangioendothelioma', 'tissue: Papillary Thyroid Carcinoma', 'tissue: Metastatic Thyroid Cancer', 'tissue: Lymphocytic Lymphoma', 'tissue: Thymoma', 'tissue: Melanoma-Malignant', 'tissue: Hemangiopericytoma', 'tissue: Thyroid Carcinoma', 'tissue: Monophasic Synovial Sarcoma', 'tissue: Metastatic Alveolar Soft Part Sarcoma', 'tissue: Metastatic Meningeal Hemangiopericytoma', 'tissue: Follicular Lymphoma', 'tissue: Rhabdomyosarcoma', 'tissue: Myofibrosarcoma', 'tissue: Renal Cell Carcinoma - Chromophobe', 'tissue: MPM Epithelioid', 'tissue: MPM Sarcomatoid', 'tissue: MPM Biphasic', 'tissue: Normal Lung']}\n"
     ]
    }
   ],
   "source": [
    "from utils.preprocess import *\n",
    "# 1. Identify the paths to the soft file and the matrix file\n",
    "cohort_dir = '/media/techt/DATA/GEO/Kidney_Chromophobe/GSE42977'\n",
    "soft_file, matrix_file = geo_get_relevant_filepaths(cohort_dir)\n",
    "\n",
    "# 2. Read the matrix file to obtain background information and sample characteristics data\n",
    "background_prefixes = ['!Series_title', '!Series_summary', '!Series_overall_design']\n",
    "clinical_prefixes = ['!Sample_geo_accession', '!Sample_characteristics_ch1']\n",
    "background_info, clinical_data = get_background_and_clinical_data(matrix_file, background_prefixes, clinical_prefixes)\n",
    "\n",
    "# 3. Obtain the sample characteristics dictionary from the clinical dataframe\n",
    "sample_characteristics_dict = get_unique_values_by_row(clinical_data)\n",
    "\n",
    "# 4. Explicitly print out all the background information and the sample characteristics dictionary\n",
    "print(\"Background Information:\")\n",
    "print(background_info)\n",
    "print(\"Sample Characteristics Dictionary:\")\n",
    "print(sample_characteristics_dict)\n"
   ]
  },
  {
   "cell_type": "markdown",
   "id": "81ca6adf",
   "metadata": {},
   "source": [
    "### Step 2: Dataset Analysis and Clinical Feature Extraction"
   ]
  },
  {
   "cell_type": "code",
   "execution_count": 3,
   "id": "f466f602",
   "metadata": {
    "execution": {
     "iopub.execute_input": "2024-06-12T10:58:15.988867Z",
     "iopub.status.busy": "2024-06-12T10:58:15.988748Z",
     "iopub.status.idle": "2024-06-12T10:58:16.001198Z",
     "shell.execute_reply": "2024-06-12T10:58:16.000907Z"
    }
   },
   "outputs": [
    {
     "name": "stdout",
     "output_type": "stream",
     "text": [
      "{'GSM1054230': [0], 'GSM1054231': [0], 'GSM1054232': [0], 'GSM1054233': [0], 'GSM1054234': [0], 'GSM1054235': [0], 'GSM1054236': [0], 'GSM1054237': [0], 'GSM1054238': [0], 'GSM1054239': [0], 'GSM1054240': [0], 'GSM1054241': [0], 'GSM1054242': [0], 'GSM1054243': [0], 'GSM1054244': [0], 'GSM1054245': [0], 'GSM1054246': [0], 'GSM1054247': [0], 'GSM1054248': [0], 'GSM1054249': [0], 'GSM1054250': [0], 'GSM1054251': [0], 'GSM1054252': [0], 'GSM1054253': [0], 'GSM1054254': [0], 'GSM1054255': [0], 'GSM1054256': [0], 'GSM1054257': [0], 'GSM1054258': [0], 'GSM1054259': [0], 'GSM1054260': [0], 'GSM1054261': [0], 'GSM1054262': [0], 'GSM1054263': [0], 'GSM1054264': [0], 'GSM1054265': [0], 'GSM1054266': [0], 'GSM1054267': [0], 'GSM1054268': [0], 'GSM1054269': [0], 'GSM1054270': [0], 'GSM1054271': [0], 'GSM1054272': [0], 'GSM1054273': [0], 'GSM1054274': [0], 'GSM1054275': [0], 'GSM1054276': [0], 'GSM1054277': [0], 'GSM1054278': [0], 'GSM1054279': [0], 'GSM1054280': [0], 'GSM1054281': [0], 'GSM1054282': [0], 'GSM1054283': [0], 'GSM1054284': [0], 'GSM1054285': [0], 'GSM1054286': [0], 'GSM1054287': [1], 'GSM1054288': [0], 'GSM1054289': [0], 'GSM1054290': [0], 'GSM1054291': [0], 'GSM1054292': [0], 'GSM1054293': [0], 'GSM1054294': [0], 'GSM1054295': [0], 'GSM1054296': [0], 'GSM1054297': [0], 'GSM1054298': [0], 'GSM1054299': [0], 'GSM1054300': [0], 'GSM1054301': [0], 'GSM1054302': [0], 'GSM1054303': [0], 'GSM1054304': [0], 'GSM1054305': [0], 'GSM1054306': [0], 'GSM1054307': [0], 'GSM1054308': [0], 'GSM1054309': [0], 'GSM1054310': [0], 'GSM1054311': [0], 'GSM1054312': [0], 'GSM1054313': [0], 'GSM1054314': [0], 'GSM1054315': [0], 'GSM1054316': [0], 'GSM1054317': [0], 'GSM1054318': [0], 'GSM1054319': [0], 'GSM1054320': [0], 'GSM1054321': [0], 'GSM1054322': [0], 'GSM1054323': [0], 'GSM1054324': [0], 'GSM1054325': [0], 'GSM1054326': [0], 'GSM1054327': [0], 'GSM1054328': [0], 'GSM1054329': [0], 'GSM1054330': [0], 'GSM1054331': [0], 'GSM1054332': [0], 'GSM1054333': [0], 'GSM1054334': [0], 'GSM1054335': [0], 'GSM1054336': [0], 'GSM1054337': [0], 'GSM1054338': [0], 'GSM1054339': [0], 'GSM1054340': [0], 'GSM1054341': [0], 'GSM1054342': [0], 'GSM1054343': [0], 'GSM1054344': [0], 'GSM1054345': [0], 'GSM1054346': [0]}\n"
     ]
    }
   ],
   "source": [
    "is_gene_available = False\n",
    "trait_row = age_row = gender_row = None  # set to different values when applicable\n",
    "convert_trait = convert_age = convert_gender = None  # define the functions when applicable\n",
    "\n",
    "# 1. Gene Expression Data Availability\n",
    "# Based on the series summary and overall design provided, \n",
    "# the dataset involves microarray analysis for gene expression studies.\n",
    "is_gene_available = True\n",
    "\n",
    "# 2. Variable Availability and Data Type Conversion\n",
    "# Checking for the availability of 'Kidney_Chromophobe'\n",
    "# Using the Sample Characteristics Dictionary\n",
    "\n",
    "# Checking availability of 'Kidney_Chromophobe'\n",
    "if 0 in sample_characteristics_dict:\n",
    "    unique_values = sample_characteristics_dict[0]\n",
    "    if 'tissue: Renal Cell Carcinoma - Chromophobe' in unique_values:\n",
    "        trait_row = 0\n",
    "\n",
    "# No age and gender information in the provided sample characteristics.\n",
    "# We assume they are not available as they are not explicitly mentioned.\n",
    "age_row = None\n",
    "gender_row = None\n",
    "\n",
    "# Data Type Conversion Function Definitions\n",
    "def convert_trait(value):\n",
    "    if 'Renal Cell Carcinoma - Chromophobe' in value:\n",
    "        return 1\n",
    "    else:\n",
    "        return 0\n",
    "\n",
    "# Age and Gender functions are not applicable since their data is unavailable\n",
    "def convert_age(value):\n",
    "    return None  # Placeholder since no age data is present\n",
    "\n",
    "def convert_gender(value):\n",
    "    return None  # Placeholder since no gender data is present\n",
    "\n",
    "# 3. Save Metadata\n",
    "save_cohort_info('GSE42977', './preprocessed/Kidney_Chromophobe/cohort_info.json', is_gene_available, trait_row is not None)\n",
    "\n",
    "# 4. Clinical Feature Extraction\n",
    "if trait_row is not None:\n",
    "    selected_clinical_data = geo_select_clinical_features(clinical_data, 'Kidney_Chromophobe', trait_row, convert_trait, age_row, convert_age, gender_row, convert_gender)\n",
    "    csv_path = './preprocessed/Kidney_Chromophobe/trait_data/GSE42977.csv'\n",
    "    selected_clinical_data.to_csv(csv_path)\n",
    "    print(preview_df(selected_clinical_data))\n"
   ]
  },
  {
   "cell_type": "markdown",
   "id": "e25e3dfd",
   "metadata": {},
   "source": [
    "### Step 3: Gene Data Extraction"
   ]
  },
  {
   "cell_type": "code",
   "execution_count": 4,
   "id": "43bfe6fc",
   "metadata": {
    "execution": {
     "iopub.execute_input": "2024-06-12T10:58:16.002580Z",
     "iopub.status.busy": "2024-06-12T10:58:16.002483Z",
     "iopub.status.idle": "2024-06-12T10:58:16.590543Z",
     "shell.execute_reply": "2024-06-12T10:58:16.590178Z"
    }
   },
   "outputs": [
    {
     "name": "stdout",
     "output_type": "stream",
     "text": [
      "Index(['ILMN_10000', 'ILMN_100000', 'ILMN_100007', 'ILMN_100009', 'ILMN_10001',\n",
      "       'ILMN_100010', 'ILMN_10002', 'ILMN_100028', 'ILMN_100030',\n",
      "       'ILMN_100031', 'ILMN_100034', 'ILMN_100037', 'ILMN_10004', 'ILMN_10005',\n",
      "       'ILMN_100054', 'ILMN_100059', 'ILMN_10006', 'ILMN_100075',\n",
      "       'ILMN_100079', 'ILMN_100083'],\n",
      "      dtype='object', name='ID')\n"
     ]
    }
   ],
   "source": [
    "# 1. Use the get_genetic_data function from the library to get the gene_data from the matrix_file previously defined.\n",
    "gene_data = get_genetic_data(matrix_file)\n",
    "\n",
    "# 2. Print the first 20 row ids for the following step.\n",
    "print(gene_data.index[:20])\n"
   ]
  },
  {
   "cell_type": "markdown",
   "id": "f41b5361",
   "metadata": {},
   "source": [
    "### Step 4: Gene Identifier Review"
   ]
  },
  {
   "cell_type": "code",
   "execution_count": 5,
   "id": "6a1bfb7d",
   "metadata": {
    "execution": {
     "iopub.execute_input": "2024-06-12T10:58:16.592148Z",
     "iopub.status.busy": "2024-06-12T10:58:16.592014Z",
     "iopub.status.idle": "2024-06-12T10:58:16.594163Z",
     "shell.execute_reply": "2024-06-12T10:58:16.593837Z"
    }
   },
   "outputs": [],
   "source": [
    "requires_gene_mapping = True\n"
   ]
  },
  {
   "cell_type": "markdown",
   "id": "c92308db",
   "metadata": {},
   "source": [
    "### Step 5: Gene Annotation (Conditional)"
   ]
  },
  {
   "cell_type": "code",
   "execution_count": 6,
   "id": "5edcccae",
   "metadata": {
    "execution": {
     "iopub.execute_input": "2024-06-12T10:58:16.595730Z",
     "iopub.status.busy": "2024-06-12T10:58:16.595632Z",
     "iopub.status.idle": "2024-06-12T10:58:23.698774Z",
     "shell.execute_reply": "2024-06-12T10:58:23.698403Z"
    }
   },
   "outputs": [
    {
     "name": "stdout",
     "output_type": "stream",
     "text": [
      "Gene annotation preview:\n",
      "{'ID': ['ILMN_89282', 'ILMN_35826', 'ILMN_25544', 'ILMN_132331', 'ILMN_105017'], 'GB_ACC': ['BU678343', 'XM_497527.2', 'NM_018433.3', 'AW629334', 'AI818233'], 'Symbol': [nan, 'LOC441782', 'JMJD1A', nan, nan], 'SEQUENCE': ['CTCTCTAAAGGGACAACAGAGTGGACAGTCAAGGAACTCCACATATTCAT', 'GGGGTCAAGCCCAGGTGAAATGTGGATTGGAAAAGTGCTTCCCTTGCCCC', 'CCAGGCTGTAAAAGCAAAACCTCGTATCAGCTCTGGAACAATACCTGCAG', 'CCAGACAGGAAGCATCAAGCCCTTCAGGAAAGAATATGCGAGAGTGCTGC', 'TGTGCAGAAAGCTGATGGAAGGGAGAAAGAATGGAAGTGGGTCACACAGC'], 'Definition': ['UI-CF-EC0-abi-c-12-0-UI.s1 UI-CF-EC0 Homo sapiens cDNA clone UI-CF-EC0-abi-c-12-0-UI 3, mRNA sequence', 'PREDICTED: Homo sapiens similar to spectrin domain with coiled-coils 1 (LOC441782), mRNA.', 'Homo sapiens jumonji domain containing 1A (JMJD1A), mRNA.', 'hi56g05.x1 Soares_NFL_T_GBC_S1 Homo sapiens cDNA clone IMAGE:2976344 3, mRNA sequence', 'wk77d04.x1 NCI_CGAP_Pan1 Homo sapiens cDNA clone IMAGE:2421415 3, mRNA sequence'], 'Ontology': [nan, nan, nan, nan, nan], 'Synonym': [nan, nan, 'TSGA; JMJD1; KIAA0742; DKFZp686A24246; DKFZp686P07111', nan, nan]}\n"
     ]
    }
   ],
   "source": [
    "# 1. Use the 'get_gene_annotation' function from the library to get gene annotation data from the soft file.\n",
    "gene_annotation = get_gene_annotation(soft_file)\n",
    "\n",
    "# 2. Use the 'preview_df' function from the library to preview the data and print out the results.\n",
    "print(\"Gene annotation preview:\")\n",
    "print(preview_df(gene_annotation))\n"
   ]
  },
  {
   "cell_type": "markdown",
   "id": "633eec7c",
   "metadata": {},
   "source": [
    "### Step 6: Gene Identifier Mapping"
   ]
  },
  {
   "cell_type": "code",
   "execution_count": 7,
   "id": "2b7443d0",
   "metadata": {
    "execution": {
     "iopub.execute_input": "2024-06-12T10:58:23.700332Z",
     "iopub.status.busy": "2024-06-12T10:58:23.700218Z",
     "iopub.status.idle": "2024-06-12T10:58:24.089928Z",
     "shell.execute_reply": "2024-06-12T10:58:24.089536Z"
    }
   },
   "outputs": [],
   "source": [
    "# 1. Determine the appropriate keys in the gene annotation dictionary\n",
    "identifier_key = 'ID'\n",
    "gene_symbol_key = 'Symbol'\n",
    "\n",
    "# 2. Get the dataframe storing the mapping between probe IDs and genes\n",
    "mapping_df = get_gene_mapping(gene_annotation, identifier_key, gene_symbol_key)\n",
    "\n",
    "# 3. Apply the mapping to get the gene expression dataframe\n",
    "gene_data = apply_gene_mapping(gene_data, mapping_df)\n"
   ]
  },
  {
   "cell_type": "markdown",
   "id": "b4adbdcd",
   "metadata": {},
   "source": [
    "### Step 7: Data Normalization and Merging"
   ]
  },
  {
   "cell_type": "code",
   "execution_count": 8,
   "id": "3cdb77c3",
   "metadata": {
    "execution": {
     "iopub.execute_input": "2024-06-12T10:58:24.091889Z",
     "iopub.status.busy": "2024-06-12T10:58:24.091786Z",
     "iopub.status.idle": "2024-06-12T10:59:22.888811Z",
     "shell.execute_reply": "2024-06-12T10:59:22.888181Z"
    }
   },
   "outputs": [
    {
     "name": "stdout",
     "output_type": "stream",
     "text": [
      "For the feature 'Kidney_Chromophobe', the least common label is '1.0' with 1 occurrences. This represents 0.85% of the dataset.\n",
      "The distribution of the feature 'Kidney_Chromophobe' in this dataset is severely biased.\n",
      "\n"
     ]
    }
   ],
   "source": [
    "# 1. Normalize the obtained gene data with the 'normalize_gene_symbols_in_index' function from the library.\n",
    "normalized_gene_data = normalize_gene_symbols_in_index(gene_data)\n",
    "gene_csv_path = './preprocessed/Kidney_Chromophobe/gene_data/GSE42977.csv'\n",
    "normalized_gene_data.to_csv(gene_csv_path)\n",
    "\n",
    "# 2. Merge the clinical and genetic data with the 'geo_merge_clinical_genetic_data' function from the library.\n",
    "merged_data = geo_merge_clinical_genetic_data(selected_clinical_data, normalized_gene_data)\n",
    "\n",
    "# 3. Determine whether the trait and some demographic attributes in the data is severely biased, and remove biased attributes.\n",
    "trait_biased, unbiased_merged_data = judge_and_remove_biased_features(merged_data, 'Kidney_Chromophobe')\n",
    "\n",
    "# If the trait is not severely biased, save the cohort information and the merged data.\n",
    "\n",
    "# 4. Save the cohort information.\n",
    "save_cohort_info('GSE42977', './preprocessed/Kidney_Chromophobe/cohort_info.json', True, True, trait_biased, unbiased_merged_data)\n",
    "\n",
    "if not trait_biased:\n",
    "    # 5. If the trait is not severely biased, save the merged data to a csv file.\n",
    "    csv_path = './preprocessed/Kidney_Chromophobe/GSE42977.csv'\n",
    "    unbiased_merged_data.to_csv(csv_path)\n"
   ]
  }
 ],
 "metadata": {
  "language_info": {
   "codemirror_mode": {
    "name": "ipython",
    "version": 3
   },
   "file_extension": ".py",
   "mimetype": "text/x-python",
   "name": "python",
   "nbconvert_exporter": "python",
   "pygments_lexer": "ipython3",
   "version": "3.8.17"
  }
 },
 "nbformat": 4,
 "nbformat_minor": 5
}
