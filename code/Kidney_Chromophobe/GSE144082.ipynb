{
 "cells": [
  {
   "cell_type": "code",
   "execution_count": 1,
   "id": "6357e369",
   "metadata": {
    "execution": {
     "iopub.execute_input": "2024-06-12T11:02:26.263133Z",
     "iopub.status.busy": "2024-06-12T11:02:26.262791Z",
     "iopub.status.idle": "2024-06-12T11:02:26.268164Z",
     "shell.execute_reply": "2024-06-12T11:02:26.267770Z"
    }
   },
   "outputs": [],
   "source": [
    "\n",
    "import sys\n",
    "sys.path.append('/home/techt/Desktop/a4s')\n"
   ]
  },
  {
   "cell_type": "markdown",
   "id": "4d9ab031",
   "metadata": {},
   "source": [
    "### Step 1: Initial Data Loading"
   ]
  },
  {
   "cell_type": "code",
   "execution_count": 2,
   "id": "dfa14694",
   "metadata": {
    "execution": {
     "iopub.execute_input": "2024-06-12T11:02:26.270070Z",
     "iopub.status.busy": "2024-06-12T11:02:26.269917Z",
     "iopub.status.idle": "2024-06-12T11:02:26.504098Z",
     "shell.execute_reply": "2024-06-12T11:02:26.503727Z"
    }
   },
   "outputs": [
    {
     "name": "stdout",
     "output_type": "stream",
     "text": [
      "Background Information:\n",
      "!Series_title\t\"microRNA profiling in renal carcinoma\"\n",
      "!Series_summary\t\"Renal cell carcinoma comprises a variety of entities, the most common being the clear-cell, papillary and chromophobe subtypes. These subtypes are related to different clinical evolution; however, most therapies have been developed for clear-cell carcinoma and there is not a specific treatment based on different subtypes. In this study, one hundred and sixty-four paraffin samples from primary nephrectomies for localized tumors were analyzed. MiRNAs were isolated and measured by microRNA arrays. Significance Analysis of Microarrays and Consensus Cluster algorithm were used to characterize different renal subtypes. The analyses showed that chromophobe renal tumors are a homogeneous group characterized by an overexpression of miR 1229, miR 10a, miR 182, miR 1208, miR 222, miR 221, miR 891b, miR 629-5p and miR 221-5p. On the other hand, clear cell renal carcinomas presented two different groups inside this histological subtype, with differences in miRNAs that regulate focal adhesion, transcription, apoptosis and angiogenesis processes. Specifically, one of the defined groups had an overexpression of proangiogenic microRNAs miR185, miR126 and miR130a.  In conclusion, differences in miRNA expression profiles between histological renal subtypes were established. In addition, clear cell renal carcinomas had different expression of proangiogenic miRNAs. With the emergence of antiangiogenic drugs, these differences could be used as therapeutic targets in the future or as a selection method for tailoring personalized treatments. \"\n",
      "!Series_overall_design\t\"394 microRNAs from 164 paraffin samples from patients diagnosed with renal carcinoma were analyzed.\"\n",
      "Sample Characteristics Dictionary:\n",
      "{0: ['tissue: renal carcinoma']}\n"
     ]
    }
   ],
   "source": [
    "from utils.preprocess import *\n",
    "# 1. Identify the paths to the soft file and the matrix file\n",
    "cohort_dir = '/media/techt/DATA/GEO/Kidney_Chromophobe/GSE144082'\n",
    "soft_file, matrix_file = geo_get_relevant_filepaths(cohort_dir)\n",
    "\n",
    "# 2. Read the matrix file to obtain background information and sample characteristics data\n",
    "background_prefixes = ['!Series_title', '!Series_summary', '!Series_overall_design']\n",
    "clinical_prefixes = ['!Sample_geo_accession', '!Sample_characteristics_ch1']\n",
    "background_info, clinical_data = get_background_and_clinical_data(matrix_file, background_prefixes, clinical_prefixes)\n",
    "\n",
    "# 3. Obtain the sample characteristics dictionary from the clinical dataframe\n",
    "sample_characteristics_dict = get_unique_values_by_row(clinical_data)\n",
    "\n",
    "# 4. Explicitly print out all the background information and the sample characteristics dictionary\n",
    "print(\"Background Information:\")\n",
    "print(background_info)\n",
    "print(\"Sample Characteristics Dictionary:\")\n",
    "print(sample_characteristics_dict)\n"
   ]
  },
  {
   "cell_type": "markdown",
   "id": "b7c535a4",
   "metadata": {},
   "source": [
    "### Step 2: Dataset Analysis and Clinical Feature Extraction"
   ]
  },
  {
   "cell_type": "code",
   "execution_count": 3,
   "id": "90a61b3e",
   "metadata": {
    "execution": {
     "iopub.execute_input": "2024-06-12T11:02:26.506015Z",
     "iopub.status.busy": "2024-06-12T11:02:26.505906Z",
     "iopub.status.idle": "2024-06-12T11:02:26.508907Z",
     "shell.execute_reply": "2024-06-12T11:02:26.508623Z"
    }
   },
   "outputs": [],
   "source": [
    "is_gene_available = False\n",
    "trait_row = age_row = gender_row = None  # set to different values when applicable\n",
    "convert_trait = convert_age = convert_gender = None  # define the functions when applicable\n",
    "\n",
    "# Check gene expression data availability\n",
    "is_gene_available = False  # Based on the summary, this data contains miRNA profiling, so no gene expression data.\n",
    "\n",
    "# Function to convert trait\n",
    "def convert_trait(value):\n",
    "    return None\n",
    "\n",
    "# Function to convert age\n",
    "def convert_age(value):\n",
    "    return None\n",
    "\n",
    "# Function to convert gender\n",
    "def convert_gender(value):\n",
    "    return None\n",
    "\n",
    "# Save cohort information\n",
    "save_cohort_info('GSE144082', './preprocessed/Kidney_Chromophobe/cohort_info.json', is_gene_available, trait_row is not None)\n",
    "\n",
    "# Since trait_row is None, clinical feature extraction will be skipped.\n"
   ]
  }
 ],
 "metadata": {
  "language_info": {
   "codemirror_mode": {
    "name": "ipython",
    "version": 3
   },
   "file_extension": ".py",
   "mimetype": "text/x-python",
   "name": "python",
   "nbconvert_exporter": "python",
   "pygments_lexer": "ipython3",
   "version": "3.8.17"
  }
 },
 "nbformat": 4,
 "nbformat_minor": 5
}
