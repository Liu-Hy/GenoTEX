{
 "cells": [
  {
   "cell_type": "markdown",
   "id": "b2c713e0",
   "metadata": {},
   "source": [
    "### Step 1: Initial Data Loading"
   ]
  },
  {
   "cell_type": "code",
   "execution_count": null,
   "id": "75c806f1",
   "metadata": {},
   "outputs": [],
   "source": [
    "from utils.preprocess import *\n",
    "# 1. Identify the paths to the soft file and the matrix file\n",
    "cohort_dir = '/media/techt/DATA/GEO/Kidney_Chromophobe/GSE11024'\n",
    "soft_file, matrix_file = geo_get_relevant_filepaths(cohort_dir)\n",
    "\n",
    "# 2. Read the matrix file to obtain background information and sample characteristics data\n",
    "background_prefixes = ['!Series_title', '!Series_summary', '!Series_overall_design']\n",
    "clinical_prefixes = ['!Sample_geo_accession', '!Sample_characteristics_ch1']\n",
    "background_info, clinical_data = get_background_and_clinical_data(matrix_file, background_prefixes, clinical_prefixes)\n",
    "\n",
    "# 3. Obtain the sample characteristics dictionary from the clinical dataframe\n",
    "sample_characteristics_dict = get_unique_values_by_row(clinical_data)\n",
    "\n",
    "# 4. Explicitly print out all the background information and the sample characteristics dictionary\n",
    "print(\"Background Information:\")\n",
    "print(background_info)\n",
    "print(\"Sample Characteristics Dictionary:\")\n",
    "print(sample_characteristics_dict)\n"
   ]
  },
  {
   "cell_type": "markdown",
   "id": "6dc061fa",
   "metadata": {},
   "source": [
    "### Step 2: Dataset Analysis and Clinical Feature Extraction"
   ]
  },
  {
   "cell_type": "code",
   "execution_count": null,
   "id": "d9a72a54",
   "metadata": {},
   "outputs": [],
   "source": [
    "is_gene_available = False\n",
    "trait_row = age_row = gender_row = None  # set to different values when applicable\n",
    "convert_trait = convert_age = convert_gender = None  # define the functions when applicable\n",
    "\n",
    "import numpy as np\n",
    "sample_characteristics_dict = {\n",
    "    0: ['Age:46', 'Age:61', 'Age:67', 'Age:47', 'Age:38', 'Age:72', 'Age:34', 'Age:63', 'Age:45', 'Age:53', 'Age:79', 'Age:52', 'Age:73', 'Age:37', 'Age:44', 'Age:74', 'Age:2', 'Age:12', 'Age:4', 'Age:58', 'Age:1', 'Age:36', 'Age:59', 'Age:68', 'Age:77', 'Age:70', 'Age: Unknown', 'Age:69', 'Age:86', 'Age:55'], \n",
    "    1: ['Gender: F', 'Gender: M', 'Gender: Unknown'], \n",
    "    2: ['Stage: 1', 'Stage: 2', 'Stage: 3', 'Renal Tumor', 'Normal kidney', 'Stage: 4', 'Stage: Unknown'], \n",
    "    3: ['Renal Tumor', None, 'Normal kidney']\n",
    "}\n",
    "\n",
    "# Analysis based on given data\n",
    "is_gene_available = True  # Given it is a microarray dataset, it likely contains gene expression data.\n",
    "\n",
    "# Identify the keys for the variables\n",
    "age_row = 0\n",
    "gender_row = 1\n",
    "\n",
    "# Trait row identification\n",
    "trait_row = None\n",
    "for key, values in sample_characteristics_dict.items():\n",
    "    if 'Kidney_Chromophobe' in str(values):\n",
    "        trait_row = key\n",
    "        break\n",
    "\n",
    "if trait_row is None:\n",
    "    # Assuming Kidney_Chromophobe corresponds to 'Renal Tumor'\n",
    "    trait_row = 3\n",
    "\n",
    "# Data type conversion functions\n",
    "def convert_trait(value):\n",
    "    if value:\n",
    "        value = value.split(':')[-1].strip()\n",
    "        if value == 'Renal Tumor':\n",
    "            return 1\n",
    "        elif value == 'Normal kidney':\n",
    "            return 0\n",
    "    return None\n",
    "\n",
    "def convert_age(value):\n",
    "    if value:\n",
    "        value = value.split(':')[-1].strip()\n",
    "        if value.isdigit():\n",
    "            return int(value)\n",
    "    return None\n",
    "\n",
    "def convert_gender(value):\n",
    "    if value:\n",
    "        value = value.split(':')[-1].strip()\n",
    "        if value == 'M':\n",
    "            return 1\n",
    "        elif value == 'F':\n",
    "            return 0\n",
    "    return None\n",
    "\n",
    "# Save cohort info\n",
    "save_cohort_info('GSE11024', './preprocessed/Kidney_Chromophobe/cohort_info.json', is_gene_available, trait_row is not None)\n",
    "\n",
    "# Clinical Feature Extraction\n",
    "if trait_row is not None:\n",
    "    selected_clinical_data = geo_select_clinical_features(clinical_data, 'Kidney_Chromophobe', trait_row, convert_trait, age_row, convert_age, gender_row, convert_gender)\n",
    "    csv_path = './preprocessed/Kidney_Chromophobe/trait_data/GSE11024.csv'\n",
    "    selected_clinical_data.to_csv(csv_path)\n",
    "    print(preview_df(selected_clinical_data))\n"
   ]
  },
  {
   "cell_type": "markdown",
   "id": "c9a96f6a",
   "metadata": {},
   "source": [
    "### Step 3: Gene Data Extraction"
   ]
  },
  {
   "cell_type": "code",
   "execution_count": null,
   "id": "86a7d9e3",
   "metadata": {},
   "outputs": [],
   "source": [
    "# Use the get_genetic_data function from the library to get the gene_data from the matrix_file previously defined.\n",
    "gene_data = get_genetic_data(matrix_file)\n",
    "\n",
    "# Print the first 20 row ids for the following step.\n",
    "print(gene_data.index[:20])\n"
   ]
  },
  {
   "cell_type": "markdown",
   "id": "86e01307",
   "metadata": {},
   "source": [
    "### Step 4: Gene Identifier Review"
   ]
  },
  {
   "cell_type": "code",
   "execution_count": null,
   "id": "f87cdb84",
   "metadata": {},
   "outputs": [],
   "source": [
    "requires_gene_mapping = True\n"
   ]
  },
  {
   "cell_type": "markdown",
   "id": "d835396b",
   "metadata": {},
   "source": [
    "### Step 5: Gene Annotation (Conditional)"
   ]
  },
  {
   "cell_type": "code",
   "execution_count": null,
   "id": "7cb66cde",
   "metadata": {},
   "outputs": [],
   "source": [
    "# 1. Use the 'get_gene_annotation' function from the library to get gene annotation data from the soft file.\n",
    "gene_annotation = get_gene_annotation(soft_file)\n",
    "\n",
    "# 2. Use the 'preview_df' function from the library to preview the data and print out the results.\n",
    "print(\"Gene annotation preview:\")\n",
    "print(preview_df(gene_annotation))\n"
   ]
  },
  {
   "cell_type": "markdown",
   "id": "2bef3d5f",
   "metadata": {},
   "source": [
    "### Step 6: Gene Identifier Mapping"
   ]
  },
  {
   "cell_type": "code",
   "execution_count": null,
   "id": "61b67983",
   "metadata": {},
   "outputs": [],
   "source": [
    "# 1. Determine the keys for identifier and gene symbol in the gene annotation dictionary.\n",
    "identifier_key = 'ID'\n",
    "gene_symbol_key = 'Gene'\n",
    "\n",
    "# 2. Get the dataframe storing the mapping between probe IDs and genes\n",
    "gene_mapping = get_gene_mapping(gene_annotation, identifier_key, gene_symbol_key)\n",
    "\n",
    "# 3. Apply the mapping with the 'apply_gene_mapping' function from the library to get the gene expression dataframe\n",
    "gene_data = apply_gene_mapping(gene_data, gene_mapping)\n"
   ]
  }
 ],
 "metadata": {},
 "nbformat": 4,
 "nbformat_minor": 5
}
