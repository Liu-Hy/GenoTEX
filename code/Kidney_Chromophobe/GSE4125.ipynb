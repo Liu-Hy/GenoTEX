{
 "cells": [
  {
   "cell_type": "code",
   "execution_count": 1,
   "id": "d6c62c05",
   "metadata": {
    "execution": {
     "iopub.execute_input": "2024-06-12T10:59:24.929293Z",
     "iopub.status.busy": "2024-06-12T10:59:24.929191Z",
     "iopub.status.idle": "2024-06-12T10:59:24.934610Z",
     "shell.execute_reply": "2024-06-12T10:59:24.934126Z"
    }
   },
   "outputs": [],
   "source": [
    "\n",
    "import sys\n",
    "sys.path.append('/home/techt/Desktop/a4s')\n"
   ]
  },
  {
   "cell_type": "markdown",
   "id": "c0812b92",
   "metadata": {},
   "source": [
    "### Step 1: Initial Data Loading"
   ]
  },
  {
   "cell_type": "code",
   "execution_count": 2,
   "id": "ad400206",
   "metadata": {
    "execution": {
     "iopub.execute_input": "2024-06-12T10:59:24.936566Z",
     "iopub.status.busy": "2024-06-12T10:59:24.936408Z",
     "iopub.status.idle": "2024-06-12T10:59:25.228863Z",
     "shell.execute_reply": "2024-06-12T10:59:25.228489Z"
    }
   },
   "outputs": [
    {
     "name": "stdout",
     "output_type": "stream",
     "text": [
      "Background Information:\n",
      "!Series_title\t\"Renal Cell Carcinoma\"\n",
      "!Series_summary\t\"Renal cell carcinoma comprises several histological types with different clinical behavior. Accurate pathological characterization is important in the clinical management of these tumors. We describe gene expression profiles in 41 renal tumors determined by using DNA microarrays containing 22,648 unique cDNAs representing 17,083 different UniGene Clusters, including 7230 characterized human genes. Differences in the patterns of gene expression among the different tumor types were readily apparent; hierarchical cluster analysis of the tumor samples segregated histologically distinct tumor types solely based on their gene expression patterns. Conventional renal cell carcinomas with clear cells showed a highly distinctive pattern of gene expression. Papillary carcinomas formed a tightly clustered group, as did tumors arising from the distal nephron and the normal kidney samples. Surprisingly, conventional renal cell carcinomas with granular cytoplasm were heterogeneous, and did not resemble any of the conventional carcinomas with clear cytoplasm in their pattern of gene expression. Characterization of renal cell carcinomas based on gene expression patterns provides a revised classification of these tumors and has the potential to supply significant biological and clinical insights.\"\n",
      "!Series_summary\t\"A disease state experiment design type is where the state of some disease such as infection, pathology, syndrome, etc is studied.\"\n",
      "!Series_summary\t\"Keywords: disease_state_design\"\n",
      "!Series_overall_design\t\"Computed\"\n",
      "Sample Characteristics Dictionary:\n",
      "{0: ['crc', 'crc1']}\n"
     ]
    }
   ],
   "source": [
    "from utils.preprocess import *\n",
    "# 1. Identify the paths to the soft file and the matrix file\n",
    "cohort_dir = '/media/techt/DATA/GEO/Kidney_Chromophobe/GSE4125'\n",
    "soft_file, matrix_file = geo_get_relevant_filepaths(cohort_dir)\n",
    "\n",
    "# 2. Read the matrix file to obtain background information and sample characteristics data\n",
    "background_prefixes = ['!Series_title', '!Series_summary', '!Series_overall_design']\n",
    "clinical_prefixes = ['!Sample_geo_accession', '!Sample_characteristics_ch1']\n",
    "background_info, clinical_data = get_background_and_clinical_data(matrix_file, background_prefixes, clinical_prefixes)\n",
    "\n",
    "# 3. Obtain the sample characteristics dictionary from the clinical dataframe\n",
    "sample_characteristics_dict = get_unique_values_by_row(clinical_data)\n",
    "\n",
    "# 4. Explicitly print out all the background information and the sample characteristics dictionary\n",
    "print(\"Background Information:\")\n",
    "print(background_info)\n",
    "print(\"Sample Characteristics Dictionary:\")\n",
    "print(sample_characteristics_dict)\n"
   ]
  },
  {
   "cell_type": "markdown",
   "id": "0f96942c",
   "metadata": {},
   "source": [
    "### Step 2: Dataset Analysis and Clinical Feature Extraction"
   ]
  },
  {
   "cell_type": "code",
   "execution_count": 3,
   "id": "51dba8ec",
   "metadata": {
    "execution": {
     "iopub.execute_input": "2024-06-12T10:59:25.231543Z",
     "iopub.status.busy": "2024-06-12T10:59:25.231406Z",
     "iopub.status.idle": "2024-06-12T10:59:25.235803Z",
     "shell.execute_reply": "2024-06-12T10:59:25.235511Z"
    }
   },
   "outputs": [],
   "source": [
    "is_gene_available = False\n",
    "trait_row = age_row = gender_row = None  # set to different values when applicable\n",
    "convert_trait = convert_age = convert_gender = None  # define the functions when applicable\n",
    "\n",
    "# Check if gene expression data might be available\n",
    "background_keywords = [\"gene expression\", \"DNA microarrays\", \"expression profiles\", \"cDNA\"]\n",
    "for summary in [\n",
    "    \"Renal cell carcinoma comprises several histological types with different clinical behavior. Accurate pathological characterization is important in the clinical management of these tumors. We describe gene expression profiles in 41 renal tumors determined by using DNA microarrays containing 22,648 unique cDNAs representing 17,083 different UniGene Clusters, including 7230 characterized human genes. Differences in the patterns of gene expression among the different tumor types were readily apparent; hierarchical cluster analysis of the tumor samples segregated histologically distinct tumor types solely based on their gene expression patterns. Conventional renal cell carcinomas with clear cells showed a highly distinctive pattern of gene expression. Papillary carcinomas formed a tightly clustered group, as did tumors arising from the distal nephron and the normal kidney samples. Surprisingly, conventional renal cell carcinomas with granular cytoplasm were heterogeneous, and did not resemble any of the conventional carcinomas with clear cytoplasm in their pattern of gene expression. Characterization of renal cell carcinomas based on gene expression patterns provides a revised classification of these tumors and has the potential to supply significant biological and clinical insights.\",\n",
    "    \"A disease state experiment design type is where the state of some disease such as infection, pathology, syndrome, etc is studied.\",\n",
    "    \"Keywords: disease_state_design\",\n",
    "    \"Computed\"\n",
    "]:\n",
    "    if any(keyword in summary.lower() for keyword in background_keywords):\n",
    "        is_gene_available = True\n",
    "        break\n",
    "\n",
    "# Check for variable availability and processing functions\n",
    "sample_characteristics = {0: ['CRD mRNA', 'crd']}\n",
    "\n",
    "def extract_value(cell):\n",
    "    \"\"\"Extract the actual value after the colon, if present.\"\"\"\n",
    "    return cell.split(\":\")[1].strip() if \":\" in cell else cell.strip()\n",
    "\n",
    "## Trait: Kidney_Chromophobe\n",
    "# Based on the sample characteristics dictionary, no mention of Kidney_Chromophobe\n",
    "trait_row = None\n",
    "\n",
    "## Age\n",
    "# Based on the sample characteristics dictionary, no mention of age\n",
    "age_row = None\n",
    "\n",
    "## Gender\n",
    "# Based on the sample characteristics dictionary, no mention of gender\n",
    "gender_row = None\n",
    "\n",
    "# Define conversion functions to convert to the appropriate data type\n",
    "def convert_trait(value):\n",
    "    return None  # No conversion as the trait is not available\n",
    "\n",
    "def convert_age(value):\n",
    "    return None  # No conversion as the age is not available\n",
    "\n",
    "def convert_gender(value):\n",
    "    return None  # No conversion as the gender is not available\n",
    "\n",
    "# Save cohort information\n",
    "save_cohort_info('GSE4125', './preprocessed/Kidney_Chromophobe/cohort_info.json', is_gene_available, trait_row is not None)\n",
    "\n",
    "# No clinical data extraction needed as trait_row is None\n"
   ]
  }
 ],
 "metadata": {
  "language_info": {
   "codemirror_mode": {
    "name": "ipython",
    "version": 3
   },
   "file_extension": ".py",
   "mimetype": "text/x-python",
   "name": "python",
   "nbconvert_exporter": "python",
   "pygments_lexer": "ipython3",
   "version": "3.8.17"
  }
 },
 "nbformat": 4,
 "nbformat_minor": 5
}
