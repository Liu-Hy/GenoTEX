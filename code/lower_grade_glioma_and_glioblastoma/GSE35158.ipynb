{
 "cells": [
  {
   "cell_type": "code",
   "execution_count": 1,
   "id": "7633642d",
   "metadata": {
    "execution": {
     "iopub.execute_input": "2024-06-12T09:31:15.338781Z",
     "iopub.status.busy": "2024-06-12T09:31:15.338620Z",
     "iopub.status.idle": "2024-06-12T09:31:15.343918Z",
     "shell.execute_reply": "2024-06-12T09:31:15.343542Z"
    }
   },
   "outputs": [],
   "source": [
    "\n",
    "import sys\n",
    "sys.path.append('/home/techt/Desktop/a4s')\n"
   ]
  },
  {
   "cell_type": "markdown",
   "id": "c42e8421",
   "metadata": {},
   "source": [
    "### Step 1: Initial Data Loading"
   ]
  },
  {
   "cell_type": "code",
   "execution_count": 2,
   "id": "9c58a59b",
   "metadata": {
    "execution": {
     "iopub.execute_input": "2024-06-12T09:31:15.346012Z",
     "iopub.status.busy": "2024-06-12T09:31:15.345732Z",
     "iopub.status.idle": "2024-06-12T09:31:15.660489Z",
     "shell.execute_reply": "2024-06-12T09:31:15.660054Z"
    }
   },
   "outputs": [
    {
     "name": "stdout",
     "output_type": "stream",
     "text": [
      "Background Information:\n",
      "!Series_title\t\"Expression profiling of lower-grade diffuse astrocytic glioma\"\n",
      "!Series_summary\t\"Diffuse gliomas represent the most prevalent class of primary brain tumor.  Despite significant recent advances in the understanding of glioblastoma (WHO IV), its most malignant subtype, lower-grade (WHO II and III) glioma variants remain comparatively understudied, especially in light of their notably variable clinical behavior.  To examine the foundations of this heterogeneity, we performed multidimensional molecular profiling, including global transcriptional analysis, on 101 lower-grade diffuse astrocytic gliomas collected at our own institution, and validated our findings using publically available gene expression and copy number data from large independent patient cohorts.  We found that IDH mutational status delineated molecularly and clinically distinct glioma subsets, with IDH mutant (IDH mt) tumors exhibiting TP53 mutations, PDGFRA overexpression, and prolonged survival, and IDH wild-type (IDH wt) tumors exhibiting EGFR amplification, PTEN loss, and unfavorable disease outcome.  Furthermore, global expression profiling revealed three robust molecular subclasses within lower-grade diffuse astrocytic gliomas, two of which were predominantly IDH mt and one almost entirely IDH wt.  IDH mt subclasses were distinguished from each other on the basis of TP53 mutations, DNA copy number abnormalities, and links to distinct stages of neurogenesis in the subventricular zone (SVZ).  This latter finding implicates discrete pools of neuroglial progenitors as cells of origin for the different subclasses of IDH mt tumors.  In summary, we have elucidated molecularly distinct subclasses of lower-grade diffuse astrocytic glioma that dictate clinical behavior and demonstrate fundamental associations with both IDH mutational status and neuroglial developmental stage.\"\n",
      "!Series_overall_design\t\"80 tumor samples, one normal tissue sample (brain)\"\n",
      "Sample Characteristics Dictionary:\n",
      "{0: ['tumor type: normal brain', 'tumor type: diffuse astrocytic glioma'], 1: [nan, 'who grade: III', 'who grade: II'], 2: [nan, 'subclass: PG', 'subclass: NB', 'subclass: EPL'], 3: [nan, 'idh mut status: wt', 'idh mut status: mut'], 4: [nan, 'pten methylation: U', 'pten methylation: M', 'pten methylation: NA'], 5: [nan, 'cdkn2a methylation: U', 'cdkn2a methylation: NA', 'cdkn2a methylation: M'], 6: [nan, 'tp53 seq: mut', 'tp53 seq: wt', 'tp53 seq: NA'], 7: [nan, 'pten del: No', 'pten del: NA', 'pten del: Yes'], 8: [nan, 'pdgfra ihc: -', 'pdgfra ihc: +'], 9: [nan, 'p53 ihc: +', 'p53 ihc: -'], 10: [nan, 'p-pras40 ihc: +', 'p-pras40 ihc: -', 'p-pras40 ihc: NA'], 11: [nan, 'egfr amp: No', 'egfr amp: Yes', 'egfr amp: NA']}\n"
     ]
    }
   ],
   "source": [
    "from utils.preprocess import *\n",
    "# 1. Identify the paths to the soft file and the matrix file\n",
    "cohort_dir = '/media/techt/DATA/GEO/lower_grade_glioma_and_glioblastoma/GSE35158'\n",
    "soft_file, matrix_file = geo_get_relevant_filepaths(cohort_dir)\n",
    "\n",
    "# 2. Read the matrix file to obtain background information and sample characteristics data\n",
    "background_prefixes = ['!Series_title', '!Series_summary', '!Series_overall_design']\n",
    "clinical_prefixes = ['!Sample_geo_accession', '!Sample_characteristics_ch1']\n",
    "background_info, clinical_data = get_background_and_clinical_data(matrix_file, background_prefixes, clinical_prefixes)\n",
    "\n",
    "# 3. Obtain the sample characteristics dictionary from the clinical dataframe\n",
    "sample_characteristics_dict = get_unique_values_by_row(clinical_data)\n",
    "\n",
    "# 4. Explicitly print out all the background information and the sample characteristics dictionary\n",
    "print(\"Background Information:\")\n",
    "print(background_info)\n",
    "print(\"Sample Characteristics Dictionary:\")\n",
    "print(sample_characteristics_dict)\n"
   ]
  },
  {
   "cell_type": "markdown",
   "id": "638798ba",
   "metadata": {},
   "source": [
    "### Step 2: Dataset Analysis and Clinical Feature Extraction"
   ]
  },
  {
   "cell_type": "code",
   "execution_count": 3,
   "id": "e2634048",
   "metadata": {
    "execution": {
     "iopub.execute_input": "2024-06-12T09:31:15.662492Z",
     "iopub.status.busy": "2024-06-12T09:31:15.662181Z",
     "iopub.status.idle": "2024-06-12T09:31:15.672099Z",
     "shell.execute_reply": "2024-06-12T09:31:15.671816Z"
    }
   },
   "outputs": [
    {
     "name": "stdout",
     "output_type": "stream",
     "text": [
      "{'GSM864095': [0], 'GSM864096': [1], 'GSM864097': [1], 'GSM864098': [1], 'GSM864099': [1], 'GSM864100': [1], 'GSM864101': [1], 'GSM864102': [1], 'GSM864103': [1], 'GSM864104': [1], 'GSM864105': [1], 'GSM864106': [1], 'GSM864107': [1], 'GSM864108': [1], 'GSM864109': [1], 'GSM864110': [1], 'GSM864111': [1], 'GSM864112': [1], 'GSM864113': [1], 'GSM864114': [1], 'GSM864115': [1], 'GSM864116': [1], 'GSM864117': [1], 'GSM864118': [1], 'GSM864119': [1], 'GSM864120': [1], 'GSM864121': [1], 'GSM864122': [1], 'GSM864123': [1], 'GSM864124': [1], 'GSM864125': [1], 'GSM864126': [1], 'GSM864127': [1], 'GSM864128': [1], 'GSM864129': [1], 'GSM864130': [1], 'GSM864131': [1], 'GSM864132': [1], 'GSM864133': [1], 'GSM864134': [1], 'GSM864135': [1], 'GSM864136': [1], 'GSM864137': [1], 'GSM864138': [1], 'GSM864139': [1], 'GSM864140': [1], 'GSM864141': [1], 'GSM864142': [1], 'GSM864143': [1], 'GSM864144': [1], 'GSM864145': [1], 'GSM864146': [1], 'GSM864147': [1], 'GSM864148': [1], 'GSM864149': [1], 'GSM864150': [1], 'GSM864151': [1], 'GSM864152': [1], 'GSM864153': [1], 'GSM864154': [1], 'GSM864155': [1], 'GSM864156': [1], 'GSM864157': [1], 'GSM864158': [1], 'GSM864159': [1], 'GSM864160': [1], 'GSM864161': [1], 'GSM864162': [1], 'GSM864163': [1], 'GSM864164': [1], 'GSM864165': [1], 'GSM864166': [1], 'GSM864167': [1], 'GSM864168': [1], 'GSM864169': [1], 'GSM864170': [1], 'GSM864171': [1], 'GSM864172': [1], 'GSM864173': [1], 'GSM864174': [1], 'GSM864175': [1]}\n"
     ]
    }
   ],
   "source": [
    "is_gene_available = False\n",
    "trait_row = age_row = gender_row = None  # set to different values when applicable\n",
    "convert_trait = convert_age = convert_gender = None  # define the functions when applicable\n",
    "\n",
    "# Check if gene expression data is available\n",
    "is_gene_available = True  # Since the series title mentions \"Expression profiling\"\n",
    "\n",
    "# Define keys for variables based on the Sample Characteristics Dictionary\n",
    "trait_row = 0  # Assuming tumor type represents lower_grade_glioma_and_glioblastoma\n",
    "age_row = None  # Age information is not explicitly given\n",
    "gender_row = None  # Gender information is not explicitly given\n",
    "\n",
    "# Define data type conversion functions\n",
    "def convert_trait(value):\n",
    "    trait_map = {\n",
    "        'normal brain': 0,\n",
    "        'diffuse astrocytic glioma': 1\n",
    "    }\n",
    "    value = value.split(':')[-1].strip()\n",
    "    return trait_map.get(value, None)\n",
    "\n",
    "# Age and gender conversion functions not defined as their data rows are None.\n",
    "\n",
    "# Save cohort information\n",
    "save_cohort_info('GSE35158', './preprocessed/lower_grade_glioma_and_glioblastoma/cohort_info.json', is_gene_available, trait_row is not None)\n",
    "\n",
    "# Clinical feature extraction\n",
    "if trait_row is not None:\n",
    "    selected_clinical_data = geo_select_clinical_features(\n",
    "        clinical_data, 'lower_grade_glioma_and_glioblastoma', trait_row, convert_trait, age_row, convert_age, gender_row, convert_gender\n",
    "    )\n",
    "    csv_path = './preprocessed/lower_grade_glioma_and_glioblastoma/trait_data/GSE35158.csv'\n",
    "    selected_clinical_data.to_csv(csv_path)\n",
    "    print(preview_df(selected_clinical_data))\n"
   ]
  },
  {
   "cell_type": "markdown",
   "id": "08531621",
   "metadata": {},
   "source": [
    "### Step 3: Gene Data Extraction"
   ]
  },
  {
   "cell_type": "code",
   "execution_count": 4,
   "id": "5e93303f",
   "metadata": {
    "execution": {
     "iopub.execute_input": "2024-06-12T09:31:15.673567Z",
     "iopub.status.busy": "2024-06-12T09:31:15.673470Z",
     "iopub.status.idle": "2024-06-12T09:31:15.818736Z",
     "shell.execute_reply": "2024-06-12T09:31:15.818313Z"
    }
   },
   "outputs": [
    {
     "name": "stdout",
     "output_type": "stream",
     "text": [
      "Index(['ILMN_1651209', 'ILMN_1651228', 'ILMN_1651229', 'ILMN_1651235',\n",
      "       'ILMN_1651236', 'ILMN_1651237', 'ILMN_1651238', 'ILMN_1651254',\n",
      "       'ILMN_1651262', 'ILMN_1651268', 'ILMN_1651278', 'ILMN_1651285',\n",
      "       'ILMN_1651292', 'ILMN_1651303', 'ILMN_1651315', 'ILMN_1651316',\n",
      "       'ILMN_1651336', 'ILMN_1651343', 'ILMN_1651346', 'ILMN_1651347'],\n",
      "      dtype='object', name='ID')\n"
     ]
    }
   ],
   "source": [
    "# 1. Use the get_genetic_data function from the library to get the gene_data from the matrix_file previously defined.\n",
    "gene_data = get_genetic_data(matrix_file)\n",
    "\n",
    "# 2. Print the first 20 row ids for the following step.\n",
    "print(gene_data.index[:20])\n"
   ]
  },
  {
   "cell_type": "markdown",
   "id": "9840cd2a",
   "metadata": {},
   "source": [
    "### Step 4: Gene Identifier Review"
   ]
  },
  {
   "cell_type": "code",
   "execution_count": 5,
   "id": "e5b1624f",
   "metadata": {
    "execution": {
     "iopub.execute_input": "2024-06-12T09:31:15.820640Z",
     "iopub.status.busy": "2024-06-12T09:31:15.820538Z",
     "iopub.status.idle": "2024-06-12T09:31:15.822394Z",
     "shell.execute_reply": "2024-06-12T09:31:15.822122Z"
    }
   },
   "outputs": [],
   "source": [
    "requires_gene_mapping = True\n"
   ]
  },
  {
   "cell_type": "markdown",
   "id": "53e2d507",
   "metadata": {},
   "source": [
    "### Step 5: Gene Annotation (Conditional)"
   ]
  },
  {
   "cell_type": "code",
   "execution_count": 6,
   "id": "72dd9f46",
   "metadata": {
    "execution": {
     "iopub.execute_input": "2024-06-12T09:31:15.823786Z",
     "iopub.status.busy": "2024-06-12T09:31:15.823690Z",
     "iopub.status.idle": "2024-06-12T09:31:19.432537Z",
     "shell.execute_reply": "2024-06-12T09:31:19.432107Z"
    }
   },
   "outputs": [
    {
     "name": "stdout",
     "output_type": "stream",
     "text": [
      "Gene annotation preview:\n",
      "{'ID': ['ILMN_3166687', 'ILMN_3165566', 'ILMN_3164811', 'ILMN_3165363', 'ILMN_3166511'], 'Transcript': ['ILMN_333737', 'ILMN_333646', 'ILMN_333584', 'ILMN_333628', 'ILMN_333719'], 'Species': ['ILMN Controls', 'ILMN Controls', 'ILMN Controls', 'ILMN Controls', 'ILMN Controls'], 'Source': ['ILMN_Controls', 'ILMN_Controls', 'ILMN_Controls', 'ILMN_Controls', 'ILMN_Controls'], 'Search_Key': ['ERCC-00162', 'ERCC-00071', 'ERCC-00009', 'ERCC-00053', 'ERCC-00144'], 'ILMN_Gene': ['ERCC-00162', 'ERCC-00071', 'ERCC-00009', 'ERCC-00053', 'ERCC-00144'], 'Source_Reference_ID': ['ERCC-00162', 'ERCC-00071', 'ERCC-00009', 'ERCC-00053', 'ERCC-00144'], 'RefSeq_ID': [nan, nan, nan, nan, nan], 'Entrez_Gene_ID': [nan, nan, nan, nan, nan], 'GI': [nan, nan, nan, nan, nan], 'Accession': ['DQ516750', 'DQ883654', 'DQ668364', 'DQ516785', 'DQ854995'], 'Symbol': ['ERCC-00162', 'ERCC-00071', 'ERCC-00009', 'ERCC-00053', 'ERCC-00144'], 'Protein_Product': [nan, nan, nan, nan, nan], 'Array_Address_Id': [5270161.0, 4260594.0, 7610424.0, 5260356.0, 2030196.0], 'Probe_Type': ['S', 'S', 'S', 'S', 'S'], 'Probe_Start': [12.0, 224.0, 868.0, 873.0, 130.0], 'SEQUENCE': ['CCCATGTGTCCAATTCTGAATATCTTTCCAGCTAAGTGCTTCTGCCCACC', 'GGATTAACTGCTGTGGTGTGTCATACTCGGCTACCTCCTGGTTTGGCGTC', 'GACCACGCCTTGTAATCGTATGACACGCGCTTGACACGACTGAATCCAGC', 'CTGCAATGCCATTAACAACCTTAGCACGGTATTTCCAGTAGCTGGTGAGC', 'CGTGCAGACAGGGATCGTAAGGCGATCCAGCCGGTATACCTTAGTCACAT'], 'Chromosome': [nan, nan, nan, nan, nan], 'Probe_Chr_Orientation': [nan, nan, nan, nan, nan], 'Probe_Coordinates': [nan, nan, nan, nan, nan], 'Cytoband': [nan, nan, nan, nan, nan], 'Definition': ['Methanocaldococcus jannaschii spike-in control MJ-500-33 genomic sequence', 'Synthetic construct clone NISTag13 external RNA control sequence', 'Synthetic construct clone TagJ microarray control', 'Methanocaldococcus jannaschii spike-in control MJ-1000-68 genomic sequence', 'Synthetic construct clone AG006.1100 external RNA control sequence'], 'Ontology_Component': [nan, nan, nan, nan, nan], 'Ontology_Process': [nan, nan, nan, nan, nan], 'Ontology_Function': [nan, nan, nan, nan, nan], 'Synonyms': [nan, nan, nan, nan, nan], 'Obsolete_Probe_Id': [nan, nan, nan, nan, nan], 'GB_ACC': ['DQ516750', 'DQ883654', 'DQ668364', 'DQ516785', 'DQ854995']}\n"
     ]
    }
   ],
   "source": [
    "# 1. Use the 'get_gene_annotation' function from the library to get gene annotation data from the soft file.\n",
    "gene_annotation = get_gene_annotation(soft_file)\n",
    "\n",
    "# 2. Use the 'preview_df' function from the library to preview the data and print out the results.\n",
    "print(\"Gene annotation preview:\")\n",
    "print(preview_df(gene_annotation))\n"
   ]
  },
  {
   "cell_type": "markdown",
   "id": "965c2fa4",
   "metadata": {},
   "source": [
    "### Step 6: Gene Identifier Mapping"
   ]
  },
  {
   "cell_type": "code",
   "execution_count": 7,
   "id": "c989a43b",
   "metadata": {
    "execution": {
     "iopub.execute_input": "2024-06-12T09:31:19.434343Z",
     "iopub.status.busy": "2024-06-12T09:31:19.434227Z",
     "iopub.status.idle": "2024-06-12T09:31:19.566491Z",
     "shell.execute_reply": "2024-06-12T09:31:19.566073Z"
    }
   },
   "outputs": [],
   "source": [
    "# 1. Determine identifier_key and gene_symbol_key\n",
    "identifier_key = 'ID'\n",
    "gene_symbol_key = 'Symbol'\n",
    "\n",
    "# 2. Get the dataframe storing the mapping between probe IDs and gene symbols\n",
    "mapping_df = get_gene_mapping(gene_annotation, prob_col=identifier_key, gene_col=gene_symbol_key)\n",
    "\n",
    "# 3. Apply the mapping and get the resulting gene expression dataframe\n",
    "gene_data = apply_gene_mapping(gene_data, mapping_df)\n"
   ]
  },
  {
   "cell_type": "markdown",
   "id": "1cc69708",
   "metadata": {},
   "source": [
    "### Step 7: Data Normalization and Merging"
   ]
  },
  {
   "cell_type": "code",
   "execution_count": 8,
   "id": "59f822fa",
   "metadata": {
    "execution": {
     "iopub.execute_input": "2024-06-12T09:31:19.568543Z",
     "iopub.status.busy": "2024-06-12T09:31:19.568413Z",
     "iopub.status.idle": "2024-06-12T09:32:09.294518Z",
     "shell.execute_reply": "2024-06-12T09:32:09.293983Z"
    }
   },
   "outputs": [
    {
     "name": "stdout",
     "output_type": "stream",
     "text": [
      "For the feature 'lower_grade_glioma_and_glioblastoma', the least common label is '0.0' with 1 occurrences. This represents 1.23% of the dataset.\n",
      "The distribution of the feature 'lower_grade_glioma_and_glioblastoma' in this dataset is severely biased.\n",
      "\n"
     ]
    }
   ],
   "source": [
    "# 1. Normalize the obtained gene data with the 'normalize_gene_symbols_in_index' function from the library.\n",
    "normalized_gene_data = normalize_gene_symbols_in_index(gene_data)\n",
    "gene_csv_path = './preprocessed/lower_grade_glioma_and_glioblastoma/gene_data/GSE35158.csv'\n",
    "normalized_gene_data.to_csv(gene_csv_path)\n",
    "\n",
    "# 2. Merge the clinical and genetic data with the 'geo_merge_clinical_genetic_data' function from the library.\n",
    "merged_data = geo_merge_clinical_genetic_data(selected_clinical_data, normalized_gene_data)\n",
    "\n",
    "# 3. Determine whether the trait and some demographic attributes in the data is severely biased, and remove biased attributes.\n",
    "trait_biased, unbiased_merged_data = judge_and_remove_biased_features(merged_data, 'lower_grade_glioma_and_glioblastoma')\n",
    "\n",
    "# If the trait is not severely biased, save the cohort information and the merged data.\n",
    "\n",
    "# 4. Save the cohort information.\n",
    "save_cohort_info('GSE35158', './preprocessed/lower_grade_glioma_and_glioblastoma/cohort_info.json', True, True, trait_biased, merged_data)\n",
    "\n",
    "if not trait_biased:\n",
    "    # 5. If the trait is not severely biased, save the merged data to a csv file.\n",
    "    csv_path = './preprocessed/lower_grade_glioma_and_glioblastoma/GSE35158.csv'\n",
    "    unbiased_merged_data.to_csv(csv_path)\n"
   ]
  }
 ],
 "metadata": {
  "language_info": {
   "codemirror_mode": {
    "name": "ipython",
    "version": 3
   },
   "file_extension": ".py",
   "mimetype": "text/x-python",
   "name": "python",
   "nbconvert_exporter": "python",
   "pygments_lexer": "ipython3",
   "version": "3.8.17"
  }
 },
 "nbformat": 4,
 "nbformat_minor": 5
}
