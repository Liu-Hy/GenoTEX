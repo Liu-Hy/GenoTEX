{
 "cells": [
  {
   "cell_type": "code",
   "execution_count": 1,
   "id": "83c36e93",
   "metadata": {
    "execution": {
     "iopub.execute_input": "2024-06-12T09:32:10.232046Z",
     "iopub.status.busy": "2024-06-12T09:32:10.231896Z",
     "iopub.status.idle": "2024-06-12T09:32:10.237081Z",
     "shell.execute_reply": "2024-06-12T09:32:10.236728Z"
    }
   },
   "outputs": [],
   "source": [
    "\n",
    "import sys\n",
    "sys.path.append('/home/techt/Desktop/a4s')\n"
   ]
  },
  {
   "cell_type": "markdown",
   "id": "77958d94",
   "metadata": {},
   "source": [
    "### Step 1: Initial Data Loading"
   ]
  },
  {
   "cell_type": "code",
   "execution_count": 2,
   "id": "5aa11ff0",
   "metadata": {
    "execution": {
     "iopub.execute_input": "2024-06-12T09:32:10.238728Z",
     "iopub.status.busy": "2024-06-12T09:32:10.238425Z",
     "iopub.status.idle": "2024-06-12T09:32:10.527407Z",
     "shell.execute_reply": "2024-06-12T09:32:10.527098Z"
    }
   },
   "outputs": [
    {
     "name": "stdout",
     "output_type": "stream",
     "text": [
      "Background Information:\n",
      "!Series_title\t\"EXPRESSION OF VAV1 IN GLIOBLASTOMA MULTIFORME\"\n",
      "!Series_summary\t\"Background: Even though much progress has been made in the understanding of the molecular nature of glioma, the survival rates of patients affected of this tumour have not changed significantly during these years. Thus, a deeper understanding of this malignancy is still needed in order to predict its outcome and improve patient treatment. Here, we report that VAV1, a GDP/GTP exchange factor for Rho/Rac proteins with oncogenic potential that is involved in the regulation of cytoskeletal dynamics and cell migration.\"\n",
      "!Series_summary\t\"Methodology/Principal Findings: VAV1 is overexpressed in 32 patients diagnosed with high-grade glioma. Such overexpression is linked to the parallel upregulation of a number of genes coding for proteins also involved in cell invasion- and migration-related processes. Unexpectedly, immunohistochemical experiments revealed that VAV1 is not expressed in glioma cells. Instead, VAV1 is found in non-tumoral astrocyte-like cells that are located either peritumoraly or perivascularly, suggesting that its expression is linked to synergistic signalling cross-talk between cancer and infiltrating cells.\"\n",
      "!Series_summary\t\"Conclusions/Significance: Interestingly, we show that the pattern of expression of VAV1 is a good prognostic factor to unveil populations of high-grade glioma patients with different survival and progression free survival rates.\"\n",
      "!Series_overall_design\t\"1. Oligonucleotide microarray analyses\"\n",
      "!Series_overall_design\t\"Total RNAs were extracted using the Triazol reagent (Life Technologies, Gaithersburg, MD, USA) and purified with the RNeasy Mini kit (Qiagen, Valencia, CA, USA). The integrity of RNA samples obtained was assessed using the 2100 Bioanalyzer (Agilent, Palo Alto, CA, USA). Double-stranded cDNAs and biotinylated cRNAs were synthesized using a T7-polyT primer and the BioArray RNA labelling Kit (Enzo Farningdale, NY, USA), respectively.  Labelled RNAs were then fragmented and hybridised to HU-133A oligonucleotide arrays (Affymetrix, Santa Clara, CA, USA) according to standard Affymetrix protocols. After hybridization and washes, arrays were scanned using the Gene Array Scanner (Affymetrix), and the expression value for each probe set calculated using the MAS 5.0 software (Affymetrix). All examples had a scaling factor lower than threefold and 3’/5’ of GAPDH probe set <2.5. Gene levels were transformed to base two logarithms. A median normalization approach was applied. Only genes with al least three “present” calls across all samples were selected. All these steps were done at the Genomics and Proteomics Unit of the “Centro de Investigación del Cáncer, Salamanca”.\"\n",
      "!Series_overall_design\t\"2. Microarray data analyses\"\n",
      "!Series_overall_design\t\"To visualize clusters of genes with similar expression patterns, we used a hierarchical clustering method (Cluster and TreeView software) based on the average-linkage method with the centred correlation metric [26]. A multidimensional scaling method (BRB Arrays Tools version 3.0) was also utilized by using Euclidean distance criteria [27]. Supervised learning was used to identify genes with statistically significant changes in expression among different classes by using the Significant Analysis of Microarrays (SAM) algorithm [28]. All data were permuted over 100 cycles by using the two-class (unpaired) and multi-class response format. Significant genes were selected based on the lowest false discovery ratio (between 0.6 and 0.9). In addition, nonparametric tests such as Wilcoxon rank sum test and Kruskal-Wallis test to compare more than two unpaired group were also used (SPSS 18, SPSS Inc).\"\n",
      "!Series_overall_design\t\"3. Functional annotation of microarray data\"\n",
      "!Series_overall_design\t\"Probe sets showing significant expression change were functionally annotated and grouped according to biological function criteria using GeneOntology biological process descriptions. The functional analysis to identify the most relevant biological mechanism, pathways and functional categories in gene dada sets was generated using the Ingenuity Pathway software (Ingenuity Systems, Mountain View, CA, USA) available in the web (www.ingenuity.com) [29]. A functional network was considered significant when it fulfilled the following criteria: i) to have a minimal score of 15; ii) to have a minimum of 20 direct functional interactions among the network members.\"\n",
      "!Series_overall_design\t\"4. Quantitative reverse transcription-PCR\"\n",
      "!Series_overall_design\t\"Total RNA was quantified in a RNA 6000 Nano Chip (Agilent Technologies) and quantitative PCR performed using the QuantiTect SYBR Green RT–PCR kit (Qiagen). To quantify VAV1 mRNA levels, we used two different sets of probes: PAIR A (5’-AAC AAC GGG AGG TTC ACC CT-3’ and 5’-GGT CCC TCA TGG CAT CCA-3’) and PAIR B (5’-AGC CAT TGG ACC CTT TCT ACG-3’ and 5’-GCC ATG GAC ATA GGG CTT CA-3’). Amplifications were performed using the iCycler apparatus (Bio-Rad Laboratories, California, USA). Analyses of data were done using the iCycler iQ Optical System Software, version 3.0a (Bio-Rad Laboratories). Primers to GAPDH were used as intersample normalizing controls. Variations in expression of VAV1 mRNA were represented as the mean value of the fold change respect the VAV1 expression levels detected in sample #19209 with both pairs of oligonucleotide primers.\"\n",
      "!Series_overall_design\t\"5. Immunohistochemical analyses\"\n",
      "!Series_overall_design\t\"The VAV1 antibody was generated in rabbits using a synthetic peptide and purified by affinity chromatography in Bustelo’s laboratory. This antibody recognizes VAV1 proteins from humans and mice but it does not recognize other VAV family members (unpublished data). For immunostaining, tissue sections were washed thrice with Xylene and once with 100% ethanol, rehydrated by sequential changes in 80%, 70%, and 50% ethanol and a final incubation in phosphate-buffered saline (PBS). Each rehydrating step involved 3 min incubations with the indicated solutions. Endogenous peroxidases were quenched by the addition of a 3% H2O2 solution in methanol for 30 min at room temperature (RT). Tissue sections were subsequently washed twice with PBS. Antigen retrieval was performed by incubation in 1 mM EDTA for 30 min at 37°C. The slides were washed twice in PBS and blocked in blocking buffer (Zymed, CA, USA) for 30 min at RT. Specimens were then incubated with the primary antibody (1:250 dilution) in blocking buffer. After an 1 hr incubation at 37°C, slides were washed three times in PBS, incubated with a biotinylated secondary antibody for 30 min at 37°C, washed thrice in PBS, incubated with horseradish peroxidase-streptavidin for 30 min at 37°C, washed three times in PBS, and developed using the AEC substrate (Zymed). Slides were then washed twice in water, counterstained with hematoxilin (Zymed), washed again in water, and mounted with GVA (Zymed). Samples were analyzed by light microscopy and images acquired suing an Axiophot imaging system (Zeiss, Munich, Germany).\"\n",
      "!Series_overall_design\t\"6. Fluorescence in situ hybridization analyses\"\n",
      "!Series_overall_design\t\"FISH experiments were carried out in 40 cases of glioblastoma multiforme (grade IV) positive for VAV1 expression. For this purpose, we performed dual-colour FISH analyses with locus-specific probes for centromere 7 (Abbott Molecualr, Des Plaines) exactly as previously described.[30] Polysomies were defined when more than 10% of the nuclei surveyed contained three or more CEP signals (chromosome-specific FISH probes that hybridize to highly repetitive human satellite DNA sequences, usually located near centromeres).\"\n",
      "!Series_overall_design\t\"7. Immunohistochemistry and fluorescence in situ hybridization (FISH) in paraffin-embedded tumours\"\n",
      "!Series_overall_design\t\"Four um sections were cut from routinely processed paraffin blocks and mounted onto glass slides with a charged coating. Sections were dewaxed in Xylene and then rehydrated using increasing concentrations of alcohol before being rinsed briefly in water. Slides were heated 2 min in 1 mM EDTA (pH 9.0) in a microwavable pressure cooker. After antigen retrieval, slides were incubated 1 h at RT in a moist chamber with a primary antibody diluted in PBS supplemented with 10% foetal calf serum. Slides were incubated for 1 h with fluorochrome-conjugated antibodies to the appropriate IgG isotypes in a moist chamber in the dark. Finally, slides were washed thrice in PBS containing 0.5% Tween 20 three before FISH analysis.\"\n",
      "!Series_overall_design\t\"8. Degenerate oligonucleotide primed-polymerase chain reaction (DOP-PCR) analyses\"\n",
      "!Series_overall_design\t\"After the staining of tissue sections with VAV1 antibodies (see above), the regions of the tumour were identified, microdissected, and collected using the PALM® microscope system (P.A.L.M. Microlaser Technologies, Munich, Germany). The genomic DNA was extracted as indicated by Isola et al [31] with modifications to small DNA amounts. Those included the resuspension of the microdissected sections in extraction buffer followed by a digestion with proteinase K (0.6 mg/ml). All samples were resuspended in 10 ul of 10 mM Tris-HCl (pH 7.4) and 0.1 mM EDTA. DOP-PCR amplification was performed in two steps. For the first, low-stringency step, 1 ul of sample was added to 4 ul of buffer A (2.5 ul of 600 uM dNTPs (Roche, Pleasanton, CA), 0.5 ul of 10 uM DOP primer 5’-CCGACTCGAGNNNNNNNATGTGG-3’, where N= A, C, G, or T) [32] and 1 ul of 5x Sequenase Reaction Buffer (Amersham, Cleveland, OH). Reactions were performed using 5 cycles of 30ºC for 5 min, 37ºC for 2 min, and 96ºC for 2 min, adding 0.65 units of Sequenase in each 30ºC step. The first phase product was then subjected to the second step usin\"\n",
      "Sample Characteristics Dictionary:\n",
      "{0: ['gender: male', 'gender: female'], 1: ['age: 72', 'age: 70', 'age: 34', 'age: 54', 'age: 68', 'age: 30', 'age: 60', 'age: 73', 'age: 52', 'age: 65', 'age: 76', 'age: 51', 'age: 43', 'age: 67', 'age: 66', 'age: 69', 'age: 74', 'age: 36', 'age: 38', 'age: 63', 'age: 46', 'age: 55'], 2: ['type: glioma grade III', 'type: glioma grade IV', 'type: glioma grade V']}\n"
     ]
    }
   ],
   "source": [
    "from utils.preprocess import *\n",
    "# 1. Identify the paths to the soft file and the matrix file\n",
    "cohort_dir = '/media/techt/DATA/GEO/lower_grade_glioma_and_glioblastoma/GSE24072'\n",
    "soft_file, matrix_file = geo_get_relevant_filepaths(cohort_dir)\n",
    "\n",
    "# 2. Read the matrix file to obtain background information and sample characteristics data\n",
    "background_prefixes = ['!Series_title', '!Series_summary', '!Series_overall_design']\n",
    "clinical_prefixes = ['!Sample_geo_accession', '!Sample_characteristics_ch1']\n",
    "background_info, clinical_data = get_background_and_clinical_data(matrix_file, background_prefixes, clinical_prefixes)\n",
    "\n",
    "# 3. Obtain the sample characteristics dictionary from the clinical dataframe\n",
    "sample_characteristics_dict = get_unique_values_by_row(clinical_data)\n",
    "\n",
    "# 4. Explicitly print out all the background information and the sample characteristics dictionary\n",
    "print(\"Background Information:\")\n",
    "print(background_info)\n",
    "print(\"Sample Characteristics Dictionary:\")\n",
    "print(sample_characteristics_dict)\n"
   ]
  },
  {
   "cell_type": "markdown",
   "id": "1f928bde",
   "metadata": {},
   "source": [
    "### Step 2: Dataset Analysis and Clinical Feature Extraction"
   ]
  },
  {
   "cell_type": "code",
   "execution_count": 3,
   "id": "d52d2026",
   "metadata": {
    "execution": {
     "iopub.execute_input": "2024-06-12T09:32:10.528978Z",
     "iopub.status.busy": "2024-06-12T09:32:10.528857Z",
     "iopub.status.idle": "2024-06-12T09:32:10.540531Z",
     "shell.execute_reply": "2024-06-12T09:32:10.540259Z"
    }
   },
   "outputs": [
    {
     "name": "stdout",
     "output_type": "stream",
     "text": [
      "{'GSM590744': [0.0, 72.0, 1.0], 'GSM590745': [1.0, 70.0, 0.0], 'GSM590746': [1.0, 34.0, 1.0], 'GSM590747': [1.0, 54.0, 1.0], 'GSM590748': [1.0, 34.0, 1.0], 'GSM591700': [0.0, 68.0, 1.0], 'GSM591701': [0.0, 30.0, 0.0], 'GSM591702': [1.0, 60.0, 1.0], 'GSM591703': [1.0, 73.0, 1.0], 'GSM591704': [1.0, 52.0, 0.0], 'GSM591705': [1.0, 65.0, 1.0], 'GSM591706': [1.0, 70.0, 1.0], 'GSM591707': [1.0, 76.0, 1.0], 'GSM591722': [1.0, 51.0, 1.0], 'GSM591792': [1.0, 73.0, 0.0], 'GSM591793': [1.0, 70.0, 0.0], 'GSM591796': [1.0, 43.0, 1.0], 'GSM591798': [1.0, 67.0, 0.0], 'GSM591800': [1.0, 66.0, 0.0], 'GSM591808': [1.0, 69.0, 1.0], 'GSM591809': [1.0, 74.0, 0.0], 'GSM591811': [1.0, 43.0, 1.0], 'GSM591812': [1.0, 69.0, 0.0], 'GSM591815': [1.0, 36.0, 0.0], 'GSM591817': [0.0, 38.0, 0.0], 'GSM591818': [1.0, 63.0, 1.0], 'GSM591819': [1.0, 74.0, 1.0], 'GSM591829': [1.0, 67.0, 0.0], 'GSM591830': [1.0, 54.0, 1.0], 'GSM591831': [0.0, 46.0, 1.0], 'GSM591832': [0.0, 55.0, 0.0], 'GSM591833': [0.0, 72.0, 1.0]}\n"
     ]
    }
   ],
   "source": [
    "is_gene_available = False\n",
    "trait_row = age_row = gender_row = None  # set to different values when applicable\n",
    "convert_trait = convert_age = convert_gender = None  # define the functions when applicable\n",
    "\n",
    "# Set is_gene_available based on dataset information\n",
    "is_gene_available = True\n",
    "\n",
    "# Determine availability and data type conversion for `lower_grade_glioma_and_glioblastoma` (trait)\n",
    "trait_row = 2\n",
    "def convert_trait(value):\n",
    "    data_map = {\n",
    "        'glioma grade III': 0,\n",
    "        'glioma grade IV': 1,\n",
    "        'glioma grade V': 1  # Assuming higher grades are similar in severity\n",
    "    }\n",
    "    trait_value = value.split(': ')[1]\n",
    "    return data_map.get(trait_value, None)\n",
    "\n",
    "# Determine availability and data type conversion for `age`\n",
    "age_row = 1\n",
    "def convert_age(value):\n",
    "    try:\n",
    "        return float(value.split(': ')[1])\n",
    "    except ValueError:\n",
    "        return None\n",
    "\n",
    "# Determine availability and data type conversion for `gender`\n",
    "gender_row = 0\n",
    "def convert_gender(value):\n",
    "    gender_map = {\n",
    "        'male': 1,\n",
    "        'female': 0\n",
    "    }\n",
    "    gender_value = value.split(': ')[1]\n",
    "    return gender_map.get(gender_value, None)\n",
    "\n",
    "save_cohort_info('GSE24072', './preprocessed/lower_grade_glioma_and_glioblastoma/cohort_info.json', is_gene_available, trait_row is not None)\n",
    "\n",
    "if trait_row is not None:\n",
    "    selected_clinical_data = geo_select_clinical_features(clinical_data, 'lower_grade_glioma_and_glioblastoma', trait_row, convert_trait, age_row, convert_age, gender_row, convert_gender)\n",
    "    csv_path = './preprocessed/lower_grade_glioma_and_glioblastoma/trait_data/GSE24072.csv'\n",
    "    selected_clinical_data.to_csv(csv_path)\n",
    "    print(preview_df(selected_clinical_data))\n"
   ]
  },
  {
   "cell_type": "markdown",
   "id": "d620d1b3",
   "metadata": {},
   "source": [
    "### Step 3: Gene Data Extraction"
   ]
  },
  {
   "cell_type": "code",
   "execution_count": 4,
   "id": "3dd9baee",
   "metadata": {
    "execution": {
     "iopub.execute_input": "2024-06-12T09:32:10.542079Z",
     "iopub.status.busy": "2024-06-12T09:32:10.541898Z",
     "iopub.status.idle": "2024-06-12T09:32:10.636269Z",
     "shell.execute_reply": "2024-06-12T09:32:10.635919Z"
    }
   },
   "outputs": [
    {
     "name": "stdout",
     "output_type": "stream",
     "text": [
      "Index(['1007_s_at', '1053_at', '117_at', '121_at', '1255_g_at', '1294_at',\n",
      "       '1316_at', '1320_at', '1405_i_at', '1431_at', '1438_at', '1487_at',\n",
      "       '1494_f_at', '1598_g_at', '160020_at', '1729_at', '1773_at', '177_at',\n",
      "       '179_at', '1861_at'],\n",
      "      dtype='object', name='ID')\n"
     ]
    }
   ],
   "source": [
    "# 1. Use the get_genetic_data function from the library to get the gene_data from the matrix_file previously defined.\n",
    "gene_data = get_genetic_data(matrix_file)\n",
    "\n",
    "# 2. Print the first 20 row ids for the following step.\n",
    "print(gene_data.index[:20])\n"
   ]
  },
  {
   "cell_type": "markdown",
   "id": "4e930246",
   "metadata": {},
   "source": [
    "### Step 4: Gene Identifier Review"
   ]
  },
  {
   "cell_type": "code",
   "execution_count": 5,
   "id": "5074a02d",
   "metadata": {
    "execution": {
     "iopub.execute_input": "2024-06-12T09:32:10.637915Z",
     "iopub.status.busy": "2024-06-12T09:32:10.637803Z",
     "iopub.status.idle": "2024-06-12T09:32:10.639631Z",
     "shell.execute_reply": "2024-06-12T09:32:10.639380Z"
    }
   },
   "outputs": [],
   "source": [
    "requires_gene_mapping = True\n"
   ]
  },
  {
   "cell_type": "markdown",
   "id": "129fa409",
   "metadata": {},
   "source": [
    "### Step 5: Gene Annotation (Conditional)"
   ]
  },
  {
   "cell_type": "code",
   "execution_count": 6,
   "id": "28ed8339",
   "metadata": {
    "execution": {
     "iopub.execute_input": "2024-06-12T09:32:10.641038Z",
     "iopub.status.busy": "2024-06-12T09:32:10.640935Z",
     "iopub.status.idle": "2024-06-12T09:32:12.151489Z",
     "shell.execute_reply": "2024-06-12T09:32:12.151095Z"
    }
   },
   "outputs": [
    {
     "name": "stdout",
     "output_type": "stream",
     "text": [
      "Gene annotation preview:\n",
      "{'ID': ['1007_s_at', '1053_at', '117_at', '121_at', '1255_g_at'], 'GB_ACC': ['U48705', 'M87338', 'X51757', 'X69699', 'L36861'], 'SPOT_ID': [nan, nan, nan, nan, nan], 'Species Scientific Name': ['Homo sapiens', 'Homo sapiens', 'Homo sapiens', 'Homo sapiens', 'Homo sapiens'], 'Annotation Date': ['Oct 6, 2014', 'Oct 6, 2014', 'Oct 6, 2014', 'Oct 6, 2014', 'Oct 6, 2014'], 'Sequence Type': ['Exemplar sequence', 'Exemplar sequence', 'Exemplar sequence', 'Exemplar sequence', 'Exemplar sequence'], 'Sequence Source': ['Affymetrix Proprietary Database', 'GenBank', 'Affymetrix Proprietary Database', 'GenBank', 'Affymetrix Proprietary Database'], 'Target Description': ['U48705 /FEATURE=mRNA /DEFINITION=HSU48705 Human receptor tyrosine kinase DDR gene, complete cds', 'M87338 /FEATURE= /DEFINITION=HUMA1SBU Human replication factor C, 40-kDa subunit (A1) mRNA, complete cds', \"X51757 /FEATURE=cds /DEFINITION=HSP70B Human heat-shock protein HSP70B' gene\", 'X69699 /FEATURE= /DEFINITION=HSPAX8A H.sapiens Pax8 mRNA', 'L36861 /FEATURE=expanded_cds /DEFINITION=HUMGCAPB Homo sapiens guanylate cyclase activating protein (GCAP) gene exons 1-4, complete cds'], 'Representative Public ID': ['U48705', 'M87338', 'X51757', 'X69699', 'L36861'], 'Gene Title': ['discoidin domain receptor tyrosine kinase 1 /// microRNA 4640', 'replication factor C (activator 1) 2, 40kDa', \"heat shock 70kDa protein 6 (HSP70B')\", 'paired box 8', 'guanylate cyclase activator 1A (retina)'], 'Gene Symbol': ['DDR1 /// MIR4640', 'RFC2', 'HSPA6', 'PAX8', 'GUCA1A'], 'ENTREZ_GENE_ID': ['780 /// 100616237', '5982', '3310', '7849', '2978'], 'RefSeq Transcript ID': ['NM_001202521 /// NM_001202522 /// NM_001202523 /// NM_001954 /// NM_013993 /// NM_013994 /// NR_039783 /// XM_005249385 /// XM_005249386 /// XM_005249387 /// XM_005249389 /// XM_005272873 /// XM_005272874 /// XM_005272875 /// XM_005272877 /// XM_005275027 /// XM_005275028 /// XM_005275030 /// XM_005275031 /// XM_005275162 /// XM_005275163 /// XM_005275164 /// XM_005275166 /// XM_005275457 /// XM_005275458 /// XM_005275459 /// XM_005275461 /// XM_006715185 /// XM_006715186 /// XM_006715187 /// XM_006715188 /// XM_006715189 /// XM_006715190 /// XM_006725501 /// XM_006725502 /// XM_006725503 /// XM_006725504 /// XM_006725505 /// XM_006725506 /// XM_006725714 /// XM_006725715 /// XM_006725716 /// XM_006725717 /// XM_006725718 /// XM_006725719 /// XM_006725720 /// XM_006725721 /// XM_006725722 /// XM_006725827 /// XM_006725828 /// XM_006725829 /// XM_006725830 /// XM_006725831 /// XM_006725832 /// XM_006726017 /// XM_006726018 /// XM_006726019 /// XM_006726020 /// XM_006726021 /// XM_006726022 /// XR_427836 /// XR_430858 /// XR_430938 /// XR_430974 /// XR_431015', 'NM_001278791 /// NM_001278792 /// NM_001278793 /// NM_002914 /// NM_181471 /// XM_006716080', 'NM_002155', 'NM_003466 /// NM_013951 /// NM_013952 /// NM_013953 /// NM_013992', 'NM_000409 /// XM_006715073'], 'Gene Ontology Biological Process': ['0001558 // regulation of cell growth // inferred from electronic annotation /// 0001952 // regulation of cell-matrix adhesion // inferred from electronic annotation /// 0006468 // protein phosphorylation // inferred from electronic annotation /// 0007155 // cell adhesion // traceable author statement /// 0007169 // transmembrane receptor protein tyrosine kinase signaling pathway // inferred from electronic annotation /// 0007565 // female pregnancy // inferred from electronic annotation /// 0007566 // embryo implantation // inferred from electronic annotation /// 0007595 // lactation // inferred from electronic annotation /// 0008285 // negative regulation of cell proliferation // inferred from electronic annotation /// 0010715 // regulation of extracellular matrix disassembly // inferred from mutant phenotype /// 0014909 // smooth muscle cell migration // inferred from mutant phenotype /// 0016310 // phosphorylation // inferred from electronic annotation /// 0018108 // peptidyl-tyrosine phosphorylation // inferred from electronic annotation /// 0030198 // extracellular matrix organization // traceable author statement /// 0038063 // collagen-activated tyrosine kinase receptor signaling pathway // inferred from direct assay /// 0038063 // collagen-activated tyrosine kinase receptor signaling pathway // inferred from mutant phenotype /// 0038083 // peptidyl-tyrosine autophosphorylation // inferred from direct assay /// 0043583 // ear development // inferred from electronic annotation /// 0044319 // wound healing, spreading of cells // inferred from mutant phenotype /// 0046777 // protein autophosphorylation // inferred from direct assay /// 0060444 // branching involved in mammary gland duct morphogenesis // inferred from electronic annotation /// 0060749 // mammary gland alveolus development // inferred from electronic annotation /// 0061302 // smooth muscle cell-matrix adhesion // inferred from mutant phenotype', '0000278 // mitotic cell cycle // traceable author statement /// 0000722 // telomere maintenance via recombination // traceable author statement /// 0000723 // telomere maintenance // traceable author statement /// 0006260 // DNA replication // traceable author statement /// 0006271 // DNA strand elongation involved in DNA replication // traceable author statement /// 0006281 // DNA repair // traceable author statement /// 0006283 // transcription-coupled nucleotide-excision repair // traceable author statement /// 0006289 // nucleotide-excision repair // traceable author statement /// 0006297 // nucleotide-excision repair, DNA gap filling // traceable author statement /// 0015979 // photosynthesis // inferred from electronic annotation /// 0015995 // chlorophyll biosynthetic process // inferred from electronic annotation /// 0032201 // telomere maintenance via semi-conservative replication // traceable author statement', '0000902 // cell morphogenesis // inferred from electronic annotation /// 0006200 // ATP catabolic process // inferred from direct assay /// 0006950 // response to stress // inferred from electronic annotation /// 0006986 // response to unfolded protein // traceable author statement /// 0034605 // cellular response to heat // inferred from direct assay /// 0042026 // protein refolding // inferred from direct assay /// 0070370 // cellular heat acclimation // inferred from mutant phenotype', '0001655 // urogenital system development // inferred from sequence or structural similarity /// 0001656 // metanephros development // inferred from electronic annotation /// 0001658 // branching involved in ureteric bud morphogenesis // inferred from expression pattern /// 0001822 // kidney development // inferred from expression pattern /// 0001823 // mesonephros development // inferred from sequence or structural similarity /// 0003337 // mesenchymal to epithelial transition involved in metanephros morphogenesis // inferred from expression pattern /// 0006351 // transcription, DNA-templated // inferred from direct assay /// 0006355 // regulation of transcription, DNA-templated // inferred from electronic annotation /// 0007275 // multicellular organismal development // inferred from electronic annotation /// 0007417 // central nervous system development // inferred from expression pattern /// 0009653 // anatomical structure morphogenesis // traceable author statement /// 0030154 // cell differentiation // inferred from electronic annotation /// 0030878 // thyroid gland development // inferred from expression pattern /// 0030878 // thyroid gland development // inferred from mutant phenotype /// 0038194 // thyroid-stimulating hormone signaling pathway // traceable author statement /// 0039003 // pronephric field specification // inferred from sequence or structural similarity /// 0042472 // inner ear morphogenesis // inferred from sequence or structural similarity /// 0042981 // regulation of apoptotic process // inferred from sequence or structural similarity /// 0045893 // positive regulation of transcription, DNA-templated // inferred from direct assay /// 0045893 // positive regulation of transcription, DNA-templated // inferred from sequence or structural similarity /// 0045944 // positive regulation of transcription from RNA polymerase II promoter // inferred from direct assay /// 0048793 // pronephros development // inferred from sequence or structural similarity /// 0071371 // cellular response to gonadotropin stimulus // inferred from direct assay /// 0071599 // otic vesicle development // inferred from expression pattern /// 0072050 // S-shaped body morphogenesis // inferred from electronic annotation /// 0072073 // kidney epithelium development // inferred from electronic annotation /// 0072108 // positive regulation of mesenchymal to epithelial transition involved in metanephros morphogenesis // inferred from sequence or structural similarity /// 0072164 // mesonephric tubule development // inferred from electronic annotation /// 0072207 // metanephric epithelium development // inferred from expression pattern /// 0072221 // metanephric distal convoluted tubule development // inferred from sequence or structural similarity /// 0072278 // metanephric comma-shaped body morphogenesis // inferred from expression pattern /// 0072284 // metanephric S-shaped body morphogenesis // inferred from expression pattern /// 0072289 // metanephric nephron tubule formation // inferred from sequence or structural similarity /// 0072305 // negative regulation of mesenchymal cell apoptotic process involved in metanephric nephron morphogenesis // inferred from sequence or structural similarity /// 0072307 // regulation of metanephric nephron tubule epithelial cell differentiation // inferred from sequence or structural similarity /// 0090190 // positive regulation of branching involved in ureteric bud morphogenesis // inferred from sequence or structural similarity /// 1900212 // negative regulation of mesenchymal cell apoptotic process involved in metanephros development // inferred from sequence or structural similarity /// 1900215 // negative regulation of apoptotic process involved in metanephric collecting duct development // inferred from sequence or structural similarity /// 1900218 // negative regulation of apoptotic process involved in metanephric nephron tubule development // inferred from sequence or structural similarity /// 2000594 // positive regulation of metanephric DCT cell differentiation // inferred from sequence or structural similarity /// 2000611 // positive regulation of thyroid hormone generation // inferred from mutant phenotype /// 2000612 // regulation of thyroid-stimulating hormone secretion // inferred from mutant phenotype', '0007165 // signal transduction // non-traceable author statement /// 0007601 // visual perception // inferred from electronic annotation /// 0007602 // phototransduction // inferred from electronic annotation /// 0007603 // phototransduction, visible light // traceable author statement /// 0016056 // rhodopsin mediated signaling pathway // traceable author statement /// 0022400 // regulation of rhodopsin mediated signaling pathway // traceable author statement /// 0030828 // positive regulation of cGMP biosynthetic process // inferred from electronic annotation /// 0031282 // regulation of guanylate cyclase activity // inferred from electronic annotation /// 0031284 // positive regulation of guanylate cyclase activity // inferred from electronic annotation /// 0050896 // response to stimulus // inferred from electronic annotation'], 'Gene Ontology Cellular Component': ['0005576 // extracellular region // inferred from electronic annotation /// 0005615 // extracellular space // inferred from direct assay /// 0005886 // plasma membrane // traceable author statement /// 0005887 // integral component of plasma membrane // traceable author statement /// 0016020 // membrane // inferred from electronic annotation /// 0016021 // integral component of membrane // inferred from electronic annotation /// 0043235 // receptor complex // inferred from direct assay /// 0070062 // extracellular vesicular exosome // inferred from direct assay', '0005634 // nucleus // inferred from electronic annotation /// 0005654 // nucleoplasm // traceable author statement /// 0005663 // DNA replication factor C complex // inferred from direct assay', '0005737 // cytoplasm // inferred from direct assay /// 0005814 // centriole // inferred from direct assay /// 0005829 // cytosol // inferred from direct assay /// 0008180 // COP9 signalosome // inferred from direct assay /// 0070062 // extracellular vesicular exosome // inferred from direct assay /// 0072562 // blood microparticle // inferred from direct assay', '0005634 // nucleus // inferred from direct assay /// 0005654 // nucleoplasm // inferred from sequence or structural similarity /// 0005730 // nucleolus // inferred from direct assay', '0001750 // photoreceptor outer segment // inferred from electronic annotation /// 0001917 // photoreceptor inner segment // inferred from electronic annotation /// 0005578 // proteinaceous extracellular matrix // inferred from electronic annotation /// 0005886 // plasma membrane // inferred from direct assay /// 0016020 // membrane // inferred from electronic annotation /// 0097381 // photoreceptor disc membrane // traceable author statement'], 'Gene Ontology Molecular Function': ['0000166 // nucleotide binding // inferred from electronic annotation /// 0004672 // protein kinase activity // inferred from electronic annotation /// 0004713 // protein tyrosine kinase activity // inferred from electronic annotation /// 0004714 // transmembrane receptor protein tyrosine kinase activity // traceable author statement /// 0005515 // protein binding // inferred from physical interaction /// 0005518 // collagen binding // inferred from direct assay /// 0005518 // collagen binding // inferred from mutant phenotype /// 0005524 // ATP binding // inferred from electronic annotation /// 0016301 // kinase activity // inferred from electronic annotation /// 0016740 // transferase activity // inferred from electronic annotation /// 0016772 // transferase activity, transferring phosphorus-containing groups // inferred from electronic annotation /// 0038062 // protein tyrosine kinase collagen receptor activity // inferred from direct assay /// 0046872 // metal ion binding // inferred from electronic annotation', '0000166 // nucleotide binding // inferred from electronic annotation /// 0003677 // DNA binding // inferred from electronic annotation /// 0005515 // protein binding // inferred from physical interaction /// 0005524 // ATP binding // inferred from electronic annotation /// 0016851 // magnesium chelatase activity // inferred from electronic annotation /// 0017111 // nucleoside-triphosphatase activity // inferred from electronic annotation', '0000166 // nucleotide binding // inferred from electronic annotation /// 0005524 // ATP binding // inferred from electronic annotation /// 0019899 // enzyme binding // inferred from physical interaction /// 0031072 // heat shock protein binding // inferred from physical interaction /// 0042623 // ATPase activity, coupled // inferred from direct assay /// 0051082 // unfolded protein binding // inferred from direct assay', '0000979 // RNA polymerase II core promoter sequence-specific DNA binding // inferred from direct assay /// 0003677 // DNA binding // inferred from direct assay /// 0003677 // DNA binding // inferred from mutant phenotype /// 0003700 // sequence-specific DNA binding transcription factor activity // inferred from direct assay /// 0004996 // thyroid-stimulating hormone receptor activity // traceable author statement /// 0005515 // protein binding // inferred from physical interaction /// 0044212 // transcription regulatory region DNA binding // inferred from direct assay', '0005509 // calcium ion binding // inferred from electronic annotation /// 0008048 // calcium sensitive guanylate cyclase activator activity // inferred from electronic annotation /// 0030249 // guanylate cyclase regulator activity // inferred from electronic annotation /// 0046872 // metal ion binding // inferred from electronic annotation']}\n"
     ]
    }
   ],
   "source": [
    "# 1. Use the 'get_gene_annotation' function from the library to get gene annotation data from the soft file.\n",
    "gene_annotation = get_gene_annotation(soft_file)\n",
    "\n",
    "# 2. Use the 'preview_df' function from the library to preview the data and print out the results.\n",
    "print(\"Gene annotation preview:\")\n",
    "print(preview_df(gene_annotation))\n"
   ]
  },
  {
   "cell_type": "markdown",
   "id": "2f84f300",
   "metadata": {},
   "source": [
    "### Step 6: Gene Identifier Mapping"
   ]
  },
  {
   "cell_type": "code",
   "execution_count": 7,
   "id": "c811dee0",
   "metadata": {
    "execution": {
     "iopub.execute_input": "2024-06-12T09:32:12.153617Z",
     "iopub.status.busy": "2024-06-12T09:32:12.153493Z",
     "iopub.status.idle": "2024-06-12T09:32:12.234162Z",
     "shell.execute_reply": "2024-06-12T09:32:12.233813Z"
    }
   },
   "outputs": [],
   "source": [
    "if requires_gene_mapping:\n",
    "    # 1. Determine the keys for probe IDs and gene symbols\n",
    "    identifier_key = 'ID'\n",
    "    gene_symbol_key = 'Gene Symbol'\n",
    "\n",
    "    # 2. Get the mapping between probe IDs and genes\n",
    "    gene_mapping = get_gene_mapping(gene_annotation, identifier_key, gene_symbol_key)\n",
    "\n",
    "    # 3. Apply the mapping to get the gene expression dataframe\n",
    "    gene_data = apply_gene_mapping(gene_data, gene_mapping)\n"
   ]
  },
  {
   "cell_type": "markdown",
   "id": "e4c0731c",
   "metadata": {},
   "source": [
    "### Step 7: Data Normalization and Merging"
   ]
  },
  {
   "cell_type": "code",
   "execution_count": 8,
   "id": "943449ff",
   "metadata": {
    "execution": {
     "iopub.execute_input": "2024-06-12T09:32:12.236159Z",
     "iopub.status.busy": "2024-06-12T09:32:12.236017Z",
     "iopub.status.idle": "2024-06-12T09:32:48.072455Z",
     "shell.execute_reply": "2024-06-12T09:32:48.072045Z"
    }
   },
   "outputs": [
    {
     "name": "stdout",
     "output_type": "stream",
     "text": [
      "For the feature 'lower_grade_glioma_and_glioblastoma', the least common label is '0.0' with 7 occurrences. This represents 21.88% of the dataset.\n",
      "The distribution of the feature 'lower_grade_glioma_and_glioblastoma' in this dataset is fine.\n",
      "\n",
      "Quartiles for 'Age':\n",
      "  25%: 49.75\n",
      "  50% (Median): 65.5\n",
      "  75%: 70.0\n",
      "Min: 30.0\n",
      "Max: 76.0\n",
      "The distribution of the feature 'Age' in this dataset is fine.\n",
      "\n",
      "For the feature 'Gender', the least common label is '0.0' with 13 occurrences. This represents 40.62% of the dataset.\n",
      "The distribution of the feature 'Gender' in this dataset is fine.\n",
      "\n"
     ]
    }
   ],
   "source": [
    "# 1. Normalize the obtained gene data with the 'normalize_gene_symbols_in_index' function from the library.\n",
    "normalized_gene_data = normalize_gene_symbols_in_index(gene_data)\n",
    "gene_csv_path = './preprocessed/lower_grade_glioma_and_glioblastoma/gene_data/GSE24072.csv'\n",
    "normalized_gene_data.to_csv(gene_csv_path)\n",
    "\n",
    "# 2. Merge the clinical and genetic data with the 'geo_merge_clinical_genetic_data' function from the library.\n",
    "merged_data = geo_merge_clinical_genetic_data(selected_clinical_data, normalized_gene_data)\n",
    "\n",
    "# 3. Determine whether the trait and some demographic attributes in the data are severely biased, and remove biased attributes.\n",
    "trait_biased, unbiased_merged_data = judge_and_remove_biased_features(merged_data, 'lower_grade_glioma_and_glioblastoma')\n",
    "\n",
    "# If the trait is not severely biased, save the cohort information and the merged data.\n",
    "\n",
    "# 4. Save the cohort information.\n",
    "save_cohort_info('GSE24072', './preprocessed/lower_grade_glioma_and_glioblastoma/cohort_info.json', True, True, trait_biased, unbiased_merged_data)\n",
    "\n",
    "if not trait_biased:\n",
    "    # 5. If the trait is not severely biased, save the merged data to a csv file.\n",
    "    csv_path = './preprocessed/lower_grade_glioma_and_glioblastoma/GSE24072.csv'\n",
    "    unbiased_merged_data.to_csv(csv_path)\n"
   ]
  }
 ],
 "metadata": {
  "language_info": {
   "codemirror_mode": {
    "name": "ipython",
    "version": 3
   },
   "file_extension": ".py",
   "mimetype": "text/x-python",
   "name": "python",
   "nbconvert_exporter": "python",
   "pygments_lexer": "ipython3",
   "version": "3.8.17"
  }
 },
 "nbformat": 4,
 "nbformat_minor": 5
}
