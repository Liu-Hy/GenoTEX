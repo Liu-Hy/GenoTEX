{
 "cells": [
  {
   "cell_type": "code",
   "execution_count": 1,
   "id": "18e8868d",
   "metadata": {
    "execution": {
     "iopub.execute_input": "2024-06-12T09:30:31.179555Z",
     "iopub.status.busy": "2024-06-12T09:30:31.179200Z",
     "iopub.status.idle": "2024-06-12T09:30:31.184666Z",
     "shell.execute_reply": "2024-06-12T09:30:31.184260Z"
    }
   },
   "outputs": [],
   "source": [
    "\n",
    "import sys\n",
    "sys.path.append('/home/techt/Desktop/a4s')\n"
   ]
  },
  {
   "cell_type": "markdown",
   "id": "8bfdb096",
   "metadata": {},
   "source": [
    "### Step 1: Initial Data Loading"
   ]
  },
  {
   "cell_type": "code",
   "execution_count": 2,
   "id": "66dac37e",
   "metadata": {
    "execution": {
     "iopub.execute_input": "2024-06-12T09:30:31.186699Z",
     "iopub.status.busy": "2024-06-12T09:30:31.186359Z",
     "iopub.status.idle": "2024-06-12T09:30:31.453882Z",
     "shell.execute_reply": "2024-06-12T09:30:31.453518Z"
    }
   },
   "outputs": [
    {
     "name": "stdout",
     "output_type": "stream",
     "text": [
      "Background Information:\n",
      "!Series_title\t\"Urinary MicroRNA-based Diagnostic Model for Central Nervous System Tumors Using Nanowire Scaffolds\"\n",
      "!Series_summary\t\"A urinary miRNA combination could be a powerful classifier for the detection of patients with brain tumors.\"\n",
      "!Series_overall_design\t\"Urinary microRNA profiles of glioblastomas, lower grade gliomas, meningiomas, other brain tumors, and collected non-cancer controls.\"\n",
      "Sample Characteristics Dictionary:\n",
      "{0: ['disease: Glioblastoma', 'disease: Lower grade glioma', 'disease: Meningioma', 'disease: Other brain tumor', 'disease: Non-cancer control'], 1: ['gender: Male', 'gender: Female'], 2: ['age: 29', 'age: 44', 'age: 54', 'age: 31', 'age: 86', 'age: 46', 'age: 81', 'age: 42', 'age: 32', 'age: 73', 'age: 50', 'age: 53', 'age: 70', 'age: 60', 'age: 56', 'age: 43', 'age: 67', 'age: 74', 'age: 58', 'age: 64', 'age: 35', 'age: 71', 'age: 39', 'age: 69', 'age: 26', 'age: 30', 'age: 49', 'age: 27', 'age: 62', 'age: 68']}\n"
     ]
    }
   ],
   "source": [
    "from utils.preprocess import *\n",
    "# 1. Identify the paths to the soft file and the matrix file\n",
    "cohort_dir = '/media/techt/DATA/GEO/lower_grade_glioma_and_glioblastoma/GSE145510'\n",
    "soft_file, matrix_file = geo_get_relevant_filepaths(cohort_dir)\n",
    "\n",
    "# 2. Read the matrix file to obtain background information and sample characteristics data\n",
    "background_prefixes = ['!Series_title', '!Series_summary', '!Series_overall_design']\n",
    "clinical_prefixes = ['!Sample_geo_accession', '!Sample_characteristics_ch1']\n",
    "background_info, clinical_data = get_background_and_clinical_data(matrix_file, background_prefixes, clinical_prefixes)\n",
    "\n",
    "# 3. Obtain the sample characteristics dictionary from the clinical dataframe\n",
    "sample_characteristics_dict = get_unique_values_by_row(clinical_data)\n",
    "\n",
    "# 4. Explicitly print out all the background information and the sample characteristics dictionary\n",
    "print(\"Background Information:\")\n",
    "print(background_info)\n",
    "print(\"Sample Characteristics Dictionary:\")\n",
    "print(sample_characteristics_dict)\n"
   ]
  },
  {
   "cell_type": "markdown",
   "id": "6f95419a",
   "metadata": {},
   "source": [
    "### Step 2: Dataset Analysis and Clinical Feature Extraction"
   ]
  },
  {
   "cell_type": "code",
   "execution_count": 3,
   "id": "cffbb2ab",
   "metadata": {
    "execution": {
     "iopub.execute_input": "2024-06-12T09:30:31.455571Z",
     "iopub.status.busy": "2024-06-12T09:30:31.455467Z",
     "iopub.status.idle": "2024-06-12T09:30:31.459222Z",
     "shell.execute_reply": "2024-06-12T09:30:31.458944Z"
    }
   },
   "outputs": [
    {
     "name": "stdout",
     "output_type": "stream",
     "text": [
      "A new JSON file was created at: ./preprocessed/lower_grade_glioma_and_glioblastoma/cohort_info.json\n"
     ]
    }
   ],
   "source": [
    "is_gene_available = False\n",
    "trait_row = age_row = gender_row = None  # set to different values when applicable\n",
    "convert_trait = convert_age = convert_gender = None  # define the functions when applicable\n",
    "\n",
    "# Checking availability of gene expression data\n",
    "is_gene_available = False  # Based on the background information, the dataset is miRNA\n",
    "\n",
    "# Determining rows for 'lower_grade_glioma_and_glioblastoma', 'age', and 'gender'\n",
    "trait_row = None  # No specific key for lower_grade_glioma_and_glioblastoma\n",
    "age_row = 2\n",
    "gender_row = 1\n",
    "\n",
    "# Data type conversion functions\n",
    "def convert_age(value):\n",
    "    try:\n",
    "        return float(value.split(': ')[1].strip())\n",
    "    except:\n",
    "        return None\n",
    "\n",
    "def convert_gender(value):\n",
    "    gender = value.split(': ')[1].strip().lower()\n",
    "    if gender == 'male':\n",
    "        return 1\n",
    "    elif gender == 'female':\n",
    "        return 0\n",
    "    return None\n",
    "\n",
    "# Save cohort information\n",
    "save_cohort_info('GSE145510', './preprocessed/lower_grade_glioma_and_glioblastoma/cohort_info.json', is_gene_available, trait_row is not None)\n"
   ]
  }
 ],
 "metadata": {
  "language_info": {
   "codemirror_mode": {
    "name": "ipython",
    "version": 3
   },
   "file_extension": ".py",
   "mimetype": "text/x-python",
   "name": "python",
   "nbconvert_exporter": "python",
   "pygments_lexer": "ipython3",
   "version": "3.8.17"
  }
 },
 "nbformat": 4,
 "nbformat_minor": 5
}
