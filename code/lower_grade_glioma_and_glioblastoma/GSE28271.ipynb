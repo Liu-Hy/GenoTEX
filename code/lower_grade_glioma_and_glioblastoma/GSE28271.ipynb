{
 "cells": [
  {
   "cell_type": "markdown",
   "id": "ee495cb0",
   "metadata": {},
   "source": [
    "### Step 1: Initial Data Loading"
   ]
  },
  {
   "cell_type": "code",
   "execution_count": null,
   "id": "f778abdb",
   "metadata": {},
   "outputs": [],
   "source": [
    "from utils.preprocess import *\n",
    "# 1. Identify the paths to the soft file and the matrix file\n",
    "cohort_dir = '/media/techt/DATA/GEO/lower_grade_glioma_and_glioblastoma/GSE28271'\n",
    "soft_file, matrix_file = geo_get_relevant_filepaths(cohort_dir)\n",
    "\n",
    "# 2. Read the matrix file to obtain background information and sample characteristics data\n",
    "background_prefixes = ['!Series_title', '!Series_summary', '!Series_overall_design']\n",
    "clinical_prefixes = ['!Sample_geo_accession', '!Sample_characteristics_ch1']\n",
    "background_info, clinical_data = get_background_and_clinical_data(matrix_file, background_prefixes, clinical_prefixes)\n",
    "\n",
    "# 3. Obtain the sample characteristics dictionary from the clinical dataframe\n",
    "sample_characteristics_dict = get_unique_values_by_row(clinical_data)\n",
    "\n",
    "# 4. Explicitly print out all the background information and the sample characteristics dictionary\n",
    "print(\"Background Information:\")\n",
    "print(background_info)\n",
    "print(\"Sample Characteristics Dictionary:\")\n",
    "print(sample_characteristics_dict)\n"
   ]
  },
  {
   "cell_type": "markdown",
   "id": "e7086ab8",
   "metadata": {},
   "source": [
    "### Step 2: Dataset Analysis and Clinical Feature Extraction"
   ]
  },
  {
   "cell_type": "code",
   "execution_count": null,
   "id": "55ec6d2f",
   "metadata": {},
   "outputs": [],
   "source": [
    "is_gene_available = False\n",
    "trait_row = age_row = gender_row = None  # set to different values when applicable\n",
    "convert_trait = convert_age = convert_age = None  # define the functions when applicable\n",
    "\n",
    "# Step 1: Check gene expression data availability\n",
    "if 'mrna expression' in [\"methylation\"]:\n",
    "    is_gene_available = False\n",
    "else:\n",
    "    is_gene_available = True\n",
    "\n",
    "# Step 2: Check variable availability and define data conversion functions\n",
    "\n",
    "# Sample characteristics dictionary from STEP 1 output\n",
    "sample_data = {\n",
    "    0: ['tumor type: Anaplastic', 'tumor type: Glioblastoma', 'tumor type: Lowgrade'],\n",
    "    1: ['restriction enzyme: HpaII'],\n",
    "    2: ['idh1 status: MUT', 'idh1 status: WT']\n",
    "}\n",
    "\n",
    "# Assume variables are available\n",
    "trait_row = 0 if 0 in sample_data and len(set(sample_data[0])) > 1 else None\n",
    "# Age and gender not available from provided data\n",
    "age_row = None\n",
    "gender_row = None\n",
    "\n",
    "# Data conversion functions\n",
    "\n",
    "def convert_trait(value):\n",
    "    if value.startswith('tumor type: '):\n",
    "        label = value.split(': ')[1]\n",
    "        if label in ['Anaplastic', 'Glioblastoma', 'Lowgrade']:\n",
    "            return label\n",
    "    return None\n",
    "\n",
    "def convert_age(value):\n",
    "    return None\n",
    "\n",
    "def convert_gender(value):\n",
    "    return None\n",
    "\n",
    "# Save metadata\n",
    "save_cohort_info('GSE28271', './preprocessed/lower_grade_glioma_and_glioblastoma/cohort_info.json', is_gene_available, trait_row is not None)\n",
    "\n",
    "# Clinical feature extraction\n",
    "if trait_row is not None:\n",
    "    selected_clinical_data = geo_select_clinical_features(clinical_data, 'lower_grade_glioma_and_glioblastoma', trait_row, convert_trait, age_row, convert_age, gender_row, convert_gender)\n",
    "    csv_path = './preprocessed/lower_grade_glioma_and_glioblastoma/trait_data/GSE28271.csv'\n",
    "    selected_clinical_data.to_csv(csv_path)\n",
    "    print(preview_df(selected_clinical_data))\n"
   ]
  },
  {
   "cell_type": "markdown",
   "id": "946ccb23",
   "metadata": {},
   "source": [
    "### Step 3: Gene Data Extraction"
   ]
  },
  {
   "cell_type": "code",
   "execution_count": null,
   "id": "541ffa4a",
   "metadata": {},
   "outputs": [],
   "source": [
    "# 1. Use the get_genetic_data function from the library to get the gene_data from the matrix_file previously defined.\n",
    "gene_data = get_genetic_data(matrix_file)\n",
    "\n",
    "# 2. Print the first 20 row ids for the following step.\n",
    "print(gene_data.index[:20])\n"
   ]
  },
  {
   "cell_type": "markdown",
   "id": "b63ebdfc",
   "metadata": {},
   "source": [
    "### Step 4: Gene Identifier Review"
   ]
  },
  {
   "cell_type": "code",
   "execution_count": null,
   "id": "4fbe3f6b",
   "metadata": {},
   "outputs": [],
   "source": [
    "requires_gene_mapping = True\n"
   ]
  },
  {
   "cell_type": "markdown",
   "id": "284428c9",
   "metadata": {},
   "source": [
    "### Step 5: Gene Annotation (Conditional)"
   ]
  },
  {
   "cell_type": "code",
   "execution_count": null,
   "id": "a9116602",
   "metadata": {},
   "outputs": [],
   "source": [
    "# 1. Use the 'get_gene_annotation' function from the library to get gene annotation data from the soft file.\n",
    "gene_annotation = get_gene_annotation(soft_file)\n",
    "\n",
    "# 2. Use the 'preview_df' function from the library to preview the data and print out the results.\n",
    "print(\"Gene annotation preview:\")\n",
    "print(preview_df(gene_annotation))\n"
   ]
  },
  {
   "cell_type": "markdown",
   "id": "abac3f42",
   "metadata": {},
   "source": [
    "### Step 6: Gene Identifier Mapping"
   ]
  },
  {
   "cell_type": "code",
   "execution_count": null,
   "id": "f1d52b21",
   "metadata": {},
   "outputs": [],
   "source": [
    "# 1. Determine which keys store the same kind of identifiers and gene symbols\n",
    "identifier_key = 'ID'\n",
    "gene_symbol_key = 'ORF'\n",
    "\n",
    "# 2. Get the dataframe storing the mapping between probe IDs and genes\n",
    "mapping_df = get_gene_mapping(gene_annotation, identifier_key, gene_symbol_key)\n",
    "\n",
    "# 3. Apply the mapping to convert gene probes into gene symbols\n",
    "gene_data = apply_gene_mapping(gene_data, mapping_df)\n"
   ]
  },
  {
   "cell_type": "markdown",
   "id": "f53c638f",
   "metadata": {},
   "source": [
    "### Step 7: Data Normalization and Merging"
   ]
  },
  {
   "cell_type": "code",
   "execution_count": null,
   "id": "8794cc72",
   "metadata": {},
   "outputs": [],
   "source": [
    "# 1. Normalize the obtained gene data with the 'normalize_gene_symbols_in_index' function from the library.\n",
    "normalized_gene_data = normalize_gene_symbols_in_index(gene_data)\n",
    "gene_csv_path = './preprocessed/lower_grade_glioma_and_glioblastoma/gene_data/GSE28271.csv'\n",
    "normalized_gene_data.to_csv(gene_csv_path)\n",
    "\n",
    "# 2. Merge the clinical and genetic data with the 'geo_merge_clinical_genetic_data' function from the library.\n",
    "merged_data = geo_merge_clinical_genetic_data(selected_clinical_data, normalized_gene_data)\n",
    "\n",
    "# Ensure data types are appropriate before checking bias\n",
    "if 'Age' in merged_data.columns:\n",
    "    merged_data['Age'] = pd.to_numeric(merged_data['Age'], errors='coerce')\n",
    "if 'Gender' in merged_data.columns:\n",
    "    merged_data['Gender'] = pd.to_numeric(merged_data['Gender'], errors='coerce')\n",
    "if 'lower_grade_glioma_and_glioblastoma' in merged_data.columns:\n",
    "    merged_data['lower_grade_glioma_and_glioblastoma'] = merged_data['lower_grade_glioma_and_glioblastoma'].astype(str)\n",
    "\n",
    "# 3. Determine whether the trait and some demographic attributes in the data are severely biased, and remove biased attributes.\n",
    "trait_biased, unbiased_merged_data = judge_and_remove_biased_features(merged_data, 'lower_grade_glioma_and_glioblastoma')\n",
    "\n",
    "# 4. Save the cohort information.\n",
    "trait_biased = trait_biased  # Ensure variable name consistency\n",
    "save_cohort_info('GSE28271', './preprocessed/lower_grade_glioma_and_glioblastoma/cohort_info.json', True, True, trait_biased, unbiased_merged_data)\n",
    "\n",
    "if not trait_biased:\n",
    "    # 5. If the trait is not severely biased, save the merged data to a csv file.\n",
    "    csv_path = './preprocessed/lower_grade_glioma_and_glioblastoma/GSE28271.csv'\n",
    "    unbiased_merged_data.to_csv(csv_path)\n"
   ]
  }
 ],
 "metadata": {},
 "nbformat": 4,
 "nbformat_minor": 5
}
